{
 "cells": [
  {
   "cell_type": "code",
   "execution_count": 19,
   "metadata": {},
   "outputs": [],
   "source": [
    "# Cell 0\n",
    "# If at all possible please test locally or on the private tbears server. The Testnet\n",
    "# is becoming cluttered with many deployments of Balanced contracts.\n",
    "# Note that running on the private tbears server will require the number of top P-Reps \n",
    "# be set to 4 in the staking contract or it will fail to deploy.\n",
    "\n",
    "network = \"custom\"  # set this to one of mainnet, yeouido, euljiro, pagoda, or custom\n",
    "\n",
    "connections = {\n",
    "\"mainnet\": {\"iconservice\": \"https://ctz.solidwallet.io\",       \"nid\": 1},\n",
    "\"yeouido\": {\"iconservice\": \"https://bicon.net.solidwallet.io\", \"nid\": 3},\n",
    "\"gangnam\": {\"iconservice\": \"https://gicon.net.solidwallet.io\", \"nid\": 3},\n",
    "\"hannam\": {\"iconservice\": \"https://hannam.net.solidwallet.io\", \"nid\": 3},\n",
    "\"euljiro\": {\"iconservice\": \"https://test-ctz.solidwallet.io\",  \"nid\": 2},\n",
    "\"pagoda\":  {\"iconservice\": \"https://zicon.net.solidwallet.io\", \"nid\":80},\n",
    "\"custom\":  {\"iconservice\": \"http://18.144.108.38:9000\",        \"nid\": 3}}\n",
    "\n",
    "env = connections[network]"
   ]
  },
  {
   "cell_type": "code",
   "execution_count": 20,
   "metadata": {},
   "outputs": [],
   "source": [
    "# Cell 1\n",
    "import sys\n",
    "import time\n",
    "sys.path.append(\"..\")\n",
    "from iconsdk.exception import JSONRPCException\n",
    "from iconsdk.libs.in_memory_zip import gen_deploy_data_content\n",
    "from iconsdk.icon_service import IconService\n",
    "from iconsdk.providers.http_provider import HTTPProvider\n",
    "from iconsdk.builder.transaction_builder import CallTransactionBuilder, TransactionBuilder, DeployTransactionBuilder\n",
    "from iconsdk.builder.call_builder import CallBuilder\n",
    "from iconsdk.signed_transaction import SignedTransaction\n",
    "from iconsdk.wallet.wallet import KeyWallet\n",
    "from iconsdk.utils.convert_type import convert_hex_str_to_int\n",
    "from repeater import retry\n",
    "from shutil import make_archive\n",
    "import pickle as pkl\n",
    "from datetime import datetime\n",
    "from time import sleep\n",
    "import json\n",
    "import os\n",
    "\n",
    "\n",
    "ICX = 1000000000000000000 # 10**18\n",
    "GOVERNANCE_ADDRESS = \"cx0000000000000000000000000000000000000000\"\n",
    "TEST_ORACLE = \"cx61a36e5d10412e03c907a507d1e8c6c3856d9964\"\n",
    "MAIN_ORACLE = \"cxe647e0af68a4661566f5e9861ad4ac854de808a2\"\n",
    "BALANCED_TEST = \"hx3f01840a599da07b0f620eeae7aa9c574169a4be\"\n",
    "\n",
    "@retry(JSONRPCException, tries=10, delay=1, back_off=2)\n",
    "def get_tx_result(_tx_hash):\n",
    "    tx_result = icon_service.get_transaction_result(_tx_hash)\n",
    "    return tx_result"
   ]
  },
  {
   "cell_type": "code",
   "execution_count": 21,
   "metadata": {},
   "outputs": [],
   "source": [
    "# Cell 2\n",
    "\n",
    "icon_service = IconService(HTTPProvider(env[\"iconservice\"], 3))\n",
    "NID = env[\"nid\"]"
   ]
  },
  {
   "cell_type": "code",
   "execution_count": 22,
   "metadata": {},
   "outputs": [],
   "source": [
    "# Cell 3\n",
    "\n",
    "wallet = KeyWallet.load(\"../keystores/keystore_test1.json\", \"test1_Account\")\n",
    "# Balanced test wallet\n",
    "with open(\"../keystores/balanced_test.pwd\", \"r\") as f:\n",
    "    key_data = f.read()\n",
    "btest_wallet = KeyWallet.load(\"../keystores/balanced_test.json\", key_data)\n",
    "with open(\"../keystores/staking_test.pwd\", \"r\") as f:\n",
    "    key_data = f.read()\n",
    "staking_wallet = KeyWallet.load(\"../keystores/staking_test.json\", key_data)\n"
   ]
  },
  {
   "cell_type": "code",
   "execution_count": 5,
   "metadata": {},
   "outputs": [
    {
     "name": "stdout",
     "output_type": "stream",
     "text": [
      "hxe7af5fcfd8dfc67530a01a0e403882687528dfcb\n",
      "778732131.2056184\n"
     ]
    }
   ],
   "source": [
    "print(wallet.get_address())\n",
    "print(icon_service.get_balance(wallet.get_address()) / 10**18)"
   ]
  },
  {
   "cell_type": "code",
   "execution_count": 6,
   "metadata": {},
   "outputs": [
    {
     "name": "stdout",
     "output_type": "stream",
     "text": [
      "hx3f01840a599da07b0f620eeae7aa9c574169a4be\n",
      "1674752.2121612\n"
     ]
    }
   ],
   "source": [
    "print(btest_wallet.get_address())\n",
    "print(icon_service.get_balance(btest_wallet.get_address()) / 10**18)"
   ]
  },
  {
   "cell_type": "code",
   "execution_count": 7,
   "metadata": {},
   "outputs": [
    {
     "name": "stdout",
     "output_type": "stream",
     "text": [
      "173999.7256714\n",
      "hxe62d11fa19a0e8575ad92f06bc8fd42edbfe27db\n",
      "206479.4400324\n",
      "hx7a1824129a8fe803e45a3aae1c0e060399546187\n"
     ]
    }
   ],
   "source": [
    "user1 = KeyWallet.load(\"../keystores/user1.json\",\"HelloWorld@1234\")\n",
    "# btest_wallet = KeyWallet.load(\"./balanced_test.json\",\"HelloWorld@1234\")\n",
    "\n",
    "print(icon_service.get_balance(user1.get_address())/10**18)\n",
    "print(user1.get_address())\n",
    "\n",
    "# test2 = hx7a1824129a8fe803e45a3aae1c0e060399546187\n",
    "private = \"0a354424b20a7e3c55c43808d607bddfac85d033e63d7d093cb9f0a26c4ee022\"\n",
    "user2 = KeyWallet.load(bytes.fromhex(private))\n",
    "print(icon_service.get_balance(user2.get_address())/10**18)\n",
    "print(user2.get_address())"
   ]
  },
  {
   "cell_type": "code",
   "execution_count": 8,
   "metadata": {},
   "outputs": [],
   "source": [
    "dict_list = []\n",
    "for i in range(0, 5):\n",
    "    data = {}\n",
    "    wallet2 = KeyWallet.create()\n",
    "    address = wallet2.get_address()\n",
    "    private_key = wallet2.get_private_key()\n",
    "    data[address] = private_key\n",
    "    dict_list.append(data)\n",
    "with open('wallet2.json', 'a') as f:\n",
    "    json.dump(dict_list, f, ensure_ascii=False, indent=4)"
   ]
  },
  {
   "cell_type": "code",
   "execution_count": 10,
   "metadata": {},
   "outputs": [],
   "source": [
    "with open('wallet2.json') as f:\n",
    "    data = json.load(f)"
   ]
  },
  {
   "cell_type": "code",
   "execution_count": null,
   "metadata": {},
   "outputs": [],
   "source": [
    "for dict in data:\n",
    "    for items in dict.items():\n",
    "        print(items[0])\n",
    "        set_div_per = TransactionBuilder() \\\n",
    "            .from_(wallet.get_address()) \\\n",
    "            .to(items[0]) \\\n",
    "            .nid(NID) \\\n",
    "            .nonce(100) \\\n",
    "            .value(5000 * 10 ** 18) \\\n",
    "            .build()\n",
    "        estimate_step = icon_service.estimate_step(set_div_per)\n",
    "        step_limit = estimate_step + 10000000\n",
    "        signed_transaction = SignedTransaction(set_div_per, wallet, step_limit)\n",
    "\n",
    "        tx_hash = icon_service.send_transaction(signed_transaction)\n",
    "        ab = get_tx_result(tx_hash)"
   ]
  },
  {
   "cell_type": "code",
   "execution_count": 23,
   "metadata": {},
   "outputs": [],
   "source": [
    "# Cell 5a\n",
    "# The following addresses are those deployed to the private tbears server.\n",
    "\n",
    "contracts = {'loans': {'zip': 'core_contracts/loans.zip',\n",
    "  'SCORE': 'cxa0f715fb2c4bc8f4c6399c2cc26167a27be0aa61'},\n",
    " 'staking': {'zip': 'core_contracts/staking.zip',\n",
    "  'SCORE': 'cxbabed822d59b605dbeb6322735c529b292baac3b'},\n",
    " 'dividends': {'zip': 'core_contracts/dividends.zip',\n",
    "  'SCORE': 'cx1379084f45776301abda3849c6e374f460ee0155'},\n",
    " 'reserve': {'zip': 'core_contracts/reserve.zip',\n",
    "  'SCORE': 'cx71dda2221bf88faddc8f84b72ffd6db296e5609e'},\n",
    " 'daofund': {'zip': 'core_contracts/daofund.zip',\n",
    "  'SCORE': 'cxfd09787f23d23b945fa0c7eb55b5aa69425da1c8'},\n",
    " 'rewards': {'zip': 'core_contracts/rewards.zip',\n",
    "  'SCORE': 'cx27aa3bf62145822e60d85fa5d18dabdcff5b9ada'},\n",
    " 'dex': {'zip': 'core_contracts/dex.zip',\n",
    "  'SCORE': 'cx01eee12b6614e5328e0a84261652cb7f055e0176'},\n",
    " 'governance': {'zip': 'core_contracts/governance.zip',\n",
    "  'SCORE': 'cxd7b3e71dcff3d75392216e208f28ef68e8a54ec0'},\n",
    " 'oracle': {'zip': 'core_contracts/oracle.zip',\n",
    "  'SCORE': 'cxed97bdb35a7ca1b3993e400e4dba9e11610338f7'},\n",
    " 'sicx': {'zip': 'token_contracts/sicx.zip',\n",
    "  'SCORE': 'cx799f724e02560a762b5f2bd3b6d2d8d59d7aecc1'},\n",
    " 'bnUSD': {'zip': 'token_contracts/bnUSD.zip',\n",
    "  'SCORE': 'cx266bdc0c35828c8130cdf1cbaa3ad109f7694722'},\n",
    " 'bnXLM': {'zip': 'token_contracts/bnXLM.zip',\n",
    "  'SCORE': 'cx266bdc0c35828c8130cdf1cbaa3ad109f7694722'},\n",
    " 'bnDOGE': {'zip': 'token_contracts/bnDOGE.zip',\n",
    "  'SCORE': 'cx266bdc0c35828c8130cdf1cbaa3ad109f7694722'},\n",
    " 'baln': {'zip': 'token_contracts/baln.zip',\n",
    "  'SCORE': 'cx4d0768508a7ff550de4405f27aebfb8831565c19'},\n",
    " 'bwt': {'zip': 'token_contracts/bwt.zip',\n",
    "  'SCORE': 'cx663f9d59163846d9f6c6f7b586858c59aa8878a9'}}"
   ]
  },
  {
   "cell_type": "code",
   "execution_count": 24,
   "metadata": {},
   "outputs": [],
   "source": [
    "# Cell 6\n",
    "# Define deploy and send_tx functions\n",
    "\n",
    "def send_icx(to, amount, wallet):\n",
    "    transaction = TransactionBuilder()\\\n",
    "        .from_(wallet.get_address())\\\n",
    "        .to(to)\\\n",
    "        .value(amount)\\\n",
    "        .step_limit(1000000) \\\n",
    "        .nid(NID) \\\n",
    "        .nonce(2) \\\n",
    "        .version(3) \\\n",
    "        .build()\n",
    "    signed_transaction = SignedTransaction(transaction, wallet)\n",
    "    return icon_service.send_transaction(signed_transaction)\n",
    "\n",
    "\n",
    "def compress():\n",
    "    \"\"\"\n",
    "    Compress all SCORE folders in the core_contracts and token_contracts folders.\n",
    "    Make sure the oracle address is correct.\n",
    "    \"\"\"\n",
    "    deploy = list(contracts.keys())[:]\n",
    "    for directory in {\"../../core_contracts\", \"../../token_contracts\"}:\n",
    "        with os.scandir(directory) as it:\n",
    "            for file in it:\n",
    "                archive_name = directory + \"/\" + file.name\n",
    "                if file.is_dir() and file.name in deploy:\n",
    "                    make_archive(archive_name, \"zip\", directory, file.name)\n",
    "                    contracts[file.name]['zip'] = archive_name + '.zip'\n",
    "    if network == \"yeouido\":\n",
    "        contracts['oracle']['SCORE'] = TEST_ORACLE\n",
    "    elif network == \"mainnet\":\n",
    "        contracts['oracle']['SCORE'] = MAIN_ORACLE\n",
    "                    \n",
    "\n",
    "def deploy_SCORE(contract, params, wallet, update) -> str:\n",
    "    \"\"\"\n",
    "    contract is of form {'zip': 'core_contracts/governance.zip', 'SCORE': 'cx1d81f93b3b8d8d2a6455681c46128868782ddd09'}\n",
    "    params is a dicts\n",
    "    wallet is a wallet file\n",
    "    update is boolian\n",
    "    \"\"\"\n",
    "    print(f'{contract[\"zip\"]}')\n",
    "    if update:\n",
    "        dest = contract['SCORE']\n",
    "    else:\n",
    "        dest = GOVERNANCE_ADDRESS\n",
    "    zip_file = contract['zip']\n",
    "    step_limit = 3000000000\n",
    "    deploy_transaction = DeployTransactionBuilder()\\\n",
    "        .from_(wallet.get_address())\\\n",
    "        .to(dest)\\\n",
    "        .nid(NID)\\\n",
    "        .nonce(100)\\\n",
    "        .content_type(\"application/zip\")\\\n",
    "        .content(gen_deploy_data_content(zip_file))\\\n",
    "        .params(params)\\\n",
    "        .build()\n",
    "\n",
    "    signed_transaction = SignedTransaction(deploy_transaction, wallet, step_limit)\n",
    "    tx_hash = icon_service.send_transaction(signed_transaction)\n",
    "\n",
    "    res = get_tx_result(tx_hash)\n",
    "    print(f'Status: {res[\"status\"]}')\n",
    "    if len(res[\"eventLogs\"]) > 0:\n",
    "        for item in res[\"eventLogs\"]:\n",
    "            print(f'{item} \\n')\n",
    "    if res['status'] == 0:\n",
    "        print(f'Failure: {res[\"failure\"]}')\n",
    "    print('')\n",
    "    return res\n",
    "\n",
    "def send_tx(dest, value, method, params, wallet, _print = True):\n",
    "    \"\"\"\n",
    "    dest is the name of the destination contract.\n",
    "    \"\"\"\n",
    "    if _print:\n",
    "        print('------------------------------------------------------------------------------------------------------------------')\n",
    "        print(f'Calling {method}, with parameters {params} on the {dest} contract.')\n",
    "        print('------------------------------------------------------------------------------------------------------------------')\n",
    "    transaction = CallTransactionBuilder()\\\n",
    "        .from_(wallet.get_address())\\\n",
    "        .to(contracts[dest]['SCORE'])\\\n",
    "        .value(value)\\\n",
    "        .step_limit(10000000)\\\n",
    "        .nid(NID)\\\n",
    "        .nonce(100)\\\n",
    "        .method(method)\\\n",
    "        .params(params)\\\n",
    "        .build()\n",
    "    signed_transaction = SignedTransaction(transaction, wallet)\n",
    "    tx_hash = icon_service.send_transaction(signed_transaction)\n",
    "\n",
    "    res = get_tx_result(tx_hash)\n",
    "    if _print:\n",
    "        print(f'************************************************** Status: {res[\"status\"]} **************************************************')\n",
    "    if len(res[\"eventLogs\"]) > 0:\n",
    "        for item in res[\"eventLogs\"]:\n",
    "            print(f'{item} \\n')\n",
    "    if res['status'] == 0:\n",
    "        if _print:\n",
    "            print(f'Failure: {res[\"failure\"]}')\n",
    "    return res\n",
    "\n",
    "def deploy_all(wallet, staking_wallet):\n",
    "    \"\"\"\n",
    "    Compress and Deploy all SCOREs.\n",
    "    \"\"\"\n",
    "    compress()\n",
    "\n",
    "    deploy = list(contracts.keys())[:]\n",
    "    deploy.remove('oracle')\n",
    "    deploy.remove('staking')\n",
    "    deploy.remove('sicx')\n",
    "    deploy.remove('governance')\n",
    "    if network == \"mainnet\":\n",
    "        if 'bnXLM' in deploy:\n",
    "            deploy.remove('bnXLM')\n",
    "        if 'bnDOGE' in deploy:\n",
    "            deploy.remove('bnDOGE')\n",
    "\n",
    "    results = {}\n",
    "    res = deploy_SCORE(contracts['governance'], {}, wallet, 0)\n",
    "    results[f'{contracts[\"governance\"]}|deploy|{{}}'] = res\n",
    "    governance = res.get('scoreAddress', '')\n",
    "    contracts['governance']['SCORE'] = governance\n",
    "    params = {'_governance': governance}\n",
    "    for score in deploy:\n",
    "        res = deploy_SCORE(contracts[score], params, wallet, 0)\n",
    "        results[f'{contracts[score]}|deploy|{params}'] = res\n",
    "        contracts[score]['SCORE'] = res.get('scoreAddress', '')\n",
    "\n",
    "    res = deploy_SCORE(contracts['staking'], {}, staking_wallet, 0)\n",
    "    results[f'{contracts[\"staking\"]}|deploy|{{}}'] = res\n",
    "    contracts['staking']['SCORE'] = res.get('scoreAddress', '')\n",
    "\n",
    "    params = {'_admin': contracts['staking']['SCORE']}\n",
    "    res = deploy_SCORE(contracts['sicx'], params, staking_wallet, 0)\n",
    "    results[f'{contracts[\"sicx\"]}|deploy|{params}'] = res\n",
    "    contracts['sicx']['SCORE'] = res.get('scoreAddress', '')\n",
    "    \n",
    "    return results\n",
    "\n",
    "    \n",
    "def config_balanced(wallet, staking_wallet):\n",
    "    \"\"\"\n",
    "    Configure all SCOREs before launch.\n",
    "    \"\"\"\n",
    "    config = list(contracts.keys())[:]\n",
    "    config.remove('governance')\n",
    "    config.remove('bnDOGE')\n",
    "    config.remove('bnXLM')\n",
    "    addresses = {contract: contracts[contract]['SCORE'] for contract in config}\n",
    "    txns = [{'contract': 'governance', 'value': 0, 'method': 'setAddresses', 'params': {'_addresses': addresses}, 'wallet': wallet},\n",
    "            {'contract': 'staking', 'value': 0, 'method': 'setSicxAddress', 'params': {'_address': contracts['sicx']['SCORE']}, 'wallet': staking_wallet},\n",
    "            {'contract': 'governance', 'value': 0, 'method': 'configureBalanced', 'params': {}, 'wallet': wallet}]\n",
    "\n",
    "    results = {}\n",
    "    for tx in txns:\n",
    "        res = send_tx(tx[\"contract\"], tx[\"value\"], tx[\"method\"], tx[\"params\"], tx[\"wallet\"])\n",
    "        results[f'{tx[\"contract\"]}|{tx[\"method\"]}|{tx[\"params\"]}'] = res\n",
    "\n",
    "    return results\n",
    "\n",
    "def launch_balanced(wallet, staking_wallet):\n",
    "    \"\"\"\n",
    "    Launch Balanced, turn on staking management, and set delegation for sICX on the Loans contract.\n",
    "    \"\"\"\n",
    "    if network == \"custom\":\n",
    "        preps = {\n",
    "            \"hx9eec61296a7010c867ce24c20e69588e2832bc52\",  # ICX Station\n",
    "            \"hx000e0415037ae871184b2c7154e5924ef2bc075e\"}  # iBriz-ICONOsphere\n",
    "    elif network == \"yeouido\":\n",
    "        preps = {\n",
    "            \"hx23823847f593ecb65c9e1ea81a789b02766280e8\",  # ICX Station\n",
    "            \"hxe0cde6567eb6529fe31b0dc2f2697af84847f321\",  # iBriz-ICONOsphere\n",
    "            \"hx83c0fc2bcac7ecb3928539e0256e29fc371b5078\",  # Mousebelt\n",
    "            \"hx48b4636e84d8c491c88c18b65dceb7598c4600cc\",  # Parrot 9\n",
    "            \"hxb4e90a285a79687ec148c29faabe6f71afa8a066\"}  # ICONDAO\n",
    "    elif network == \"mainnet\":\n",
    "        preps = {\n",
    "            \"hxfba37e91ccc13ec1dab115811f73e429cde44d48\",  # ICX Station\n",
    "            \"hx231a795d1c719b9edf35c46b9daa4e0b5a1e83aa\",  # iBriz-ICONOsphere\n",
    "            \"hxbc9c73670c79e8f6f8060551a792c2cf29a8c491\",  # Mousebelt\n",
    "            \"hx28c08b299995a88756af64374e13db2240bc3142\"}  # Parrot 9\n",
    "    else:\n",
    "        return\n",
    "\n",
    "    txns = [{'contract': 'governance', 'value': 0, 'method': 'launchBalanced', 'params': {}, 'wallet': wallet},\n",
    "            {'contract': 'staking', 'value': 0, 'method': 'toggleStakingOn', 'params': {}, 'wallet': staking_wallet},\n",
    "            {'contract': 'governance', 'value': 0, 'method': 'delegate', 'params': {'_delegations': [{'_address': prep, '_votes_in_per': str(100 * ICX // len(preps))} for prep in preps]}, 'wallet': wallet}]\n",
    "\n",
    "    results = {}\n",
    "    for tx in txns:\n",
    "        res = send_tx(tx[\"contract\"], tx[\"value\"], tx[\"method\"], tx[\"params\"], tx[\"wallet\"])\n",
    "        results[f'{tx[\"contract\"]}|{tx[\"method\"]}|{tx[\"params\"]}'] = res\n",
    "\n",
    "    return results\n",
    "   \n",
    "\n",
    "def get_scores_json(contracts):\n",
    "    \"\"\"\n",
    "    Prints out dictionary of SCORE addresses for use in testing UI.\n",
    "    \"\"\"\n",
    "    scores = {}\n",
    "    for score in contracts:\n",
    "        scores[score] = contracts[score]['SCORE']\n",
    "    return json.dumps(scores)\n",
    "\n",
    "def call_tx(dest: str, method: str, params: dict = {}, _print = True):\n",
    "    \"\"\"\n",
    "    dest is the name of the destination contract.\n",
    "    \"\"\"\n",
    "    if _print:\n",
    "        print('------------------------------------------------------------------------------------------------------------------')\n",
    "        print(f'Reading {method}, with parameters {params} on the {dest} contract.')\n",
    "        print('------------------------------------------------------------------------------------------------------------------')\n",
    "    call = CallBuilder()\\\n",
    "        .from_(btest_wallet.get_address())\\\n",
    "        .to(contracts[dest]['SCORE'])\\\n",
    "        .method(method)\\\n",
    "        .params(params)\\\n",
    "        .build()\n",
    "    result = icon_service.call(call)\n",
    "    if _print:\n",
    "        print(result)\n",
    "    return result\n",
    "\n",
    "def fast_send_tx(dest, value, method, params, wallet, _print = False):\n",
    "    \"\"\"\n",
    "    dest is the name of the destination contract.\n",
    "    \"\"\"\n",
    "    if _print:\n",
    "        print('------------------------------------------------------------------------------------------------------------------')\n",
    "        print(f'Calling {method}, with parameters {params} on the {dest} contract.')\n",
    "        print('------------------------------------------------------------------------------------------------------------------')\n",
    "    transaction = CallTransactionBuilder()\\\n",
    "        .from_(wallet.get_address())\\\n",
    "        .to(contracts[dest]['SCORE'])\\\n",
    "        .value(value)\\\n",
    "        .step_limit(10000000)\\\n",
    "        .nid(NID)\\\n",
    "        .nonce(100)\\\n",
    "        .method(method)\\\n",
    "        .params(params)\\\n",
    "        .build()\n",
    "    signed_transaction = SignedTransaction(transaction, wallet)\n",
    "    tx_hash = icon_service.send_transaction(signed_transaction)\n",
    "    \n",
    "    res = get_tx_result(tx_hash)\n",
    "    if _print:\n",
    "        print(f'************************************************** Status: {res[\"status\"]} **************************************************')\n",
    "    if len(res[\"eventLogs\"]) > 0:\n",
    "        for item in res[\"eventLogs\"]:\n",
    "            print(f'{item} \\n')\n",
    "    if res['status'] == 0:\n",
    "        if _print:\n",
    "            print(f'Failure: {res[\"failure\"]}')\n",
    "    return res\n",
    "\n"
   ]
  },
  {
   "cell_type": "code",
   "execution_count": 25,
   "metadata": {
    "scrolled": true
   },
   "outputs": [
    {
     "name": "stdout",
     "output_type": "stream",
     "text": [
      "../../core_contracts/governance.zip\n"
     ]
    },
    {
     "name": "stderr",
     "output_type": "stream",
     "text": [
      "Raised JSONRPCException while returning the custom response. Error message: {'code': -32602, 'message': 'Pending transaction'}\n"
     ]
    },
    {
     "name": "stdout",
     "output_type": "stream",
     "text": [
      "Retrying in 1 seconds...\n",
      "Status: 1\n",
      "\n",
      "../../core_contracts/loans.zip\n"
     ]
    },
    {
     "name": "stderr",
     "output_type": "stream",
     "text": [
      "Raised JSONRPCException while returning the custom response. Error message: {'code': -32602, 'message': 'Pending transaction'}\n"
     ]
    },
    {
     "name": "stdout",
     "output_type": "stream",
     "text": [
      "Retrying in 1 seconds...\n",
      "Status: 1\n",
      "\n",
      "../../core_contracts/dividends.zip\n"
     ]
    },
    {
     "name": "stderr",
     "output_type": "stream",
     "text": [
      "Raised JSONRPCException while returning the custom response. Error message: {'code': -32602, 'message': 'Pending transaction'}\n"
     ]
    },
    {
     "name": "stdout",
     "output_type": "stream",
     "text": [
      "Retrying in 1 seconds...\n",
      "Status: 1\n",
      "\n",
      "../../core_contracts/reserve.zip\n",
      "Status: 1\n",
      "\n",
      "../../core_contracts/daofund.zip\n"
     ]
    },
    {
     "name": "stderr",
     "output_type": "stream",
     "text": [
      "Raised JSONRPCException while returning the custom response. Error message: {'code': -32602, 'message': 'Pending transaction'}\n"
     ]
    },
    {
     "name": "stdout",
     "output_type": "stream",
     "text": [
      "Retrying in 1 seconds...\n",
      "Status: 1\n",
      "\n",
      "../../core_contracts/rewards.zip\n",
      "Status: 1\n",
      "\n",
      "../../core_contracts/dex.zip\n",
      "Status: 1\n",
      "\n",
      "../../token_contracts/bnUSD.zip\n"
     ]
    },
    {
     "name": "stderr",
     "output_type": "stream",
     "text": [
      "Raised JSONRPCException while returning the custom response. Error message: {'code': -32602, 'message': 'Pending transaction'}\n"
     ]
    },
    {
     "name": "stdout",
     "output_type": "stream",
     "text": [
      "Retrying in 1 seconds...\n",
      "Status: 1\n",
      "\n",
      "../../token_contracts/bnXLM.zip\n"
     ]
    },
    {
     "name": "stderr",
     "output_type": "stream",
     "text": [
      "Raised JSONRPCException while returning the custom response. Error message: {'code': -32602, 'message': 'Pending transaction'}\n"
     ]
    },
    {
     "name": "stdout",
     "output_type": "stream",
     "text": [
      "Retrying in 1 seconds...\n",
      "Status: 1\n",
      "\n",
      "../../token_contracts/bnDOGE.zip\n"
     ]
    },
    {
     "name": "stderr",
     "output_type": "stream",
     "text": [
      "Raised JSONRPCException while returning the custom response. Error message: {'code': -32602, 'message': 'Pending transaction'}\n"
     ]
    },
    {
     "name": "stdout",
     "output_type": "stream",
     "text": [
      "Retrying in 1 seconds...\n",
      "Status: 1\n",
      "\n",
      "../../token_contracts/baln.zip\n"
     ]
    },
    {
     "name": "stderr",
     "output_type": "stream",
     "text": [
      "Raised JSONRPCException while returning the custom response. Error message: {'code': -32602, 'message': 'Pending transaction'}\n"
     ]
    },
    {
     "name": "stdout",
     "output_type": "stream",
     "text": [
      "Retrying in 1 seconds...\n",
      "Status: 1\n",
      "\n",
      "../../token_contracts/bwt.zip\n",
      "Status: 1\n",
      "\n",
      "../../core_contracts/staking.zip\n"
     ]
    },
    {
     "name": "stderr",
     "output_type": "stream",
     "text": [
      "Raised JSONRPCException while returning the custom response. Error message: {'code': -32602, 'message': 'Pending transaction'}\n"
     ]
    },
    {
     "name": "stdout",
     "output_type": "stream",
     "text": [
      "Retrying in 1 seconds...\n",
      "Status: 1\n",
      "\n",
      "../../token_contracts/sicx.zip\n"
     ]
    },
    {
     "name": "stderr",
     "output_type": "stream",
     "text": [
      "Raised JSONRPCException while returning the custom response. Error message: {'code': -32602, 'message': 'Pending transaction'}\n"
     ]
    },
    {
     "name": "stdout",
     "output_type": "stream",
     "text": [
      "Retrying in 1 seconds...\n",
      "Status: 1\n",
      "\n",
      "------------------------------------------------------------------------------------------------------------------\n",
      "{'loans': {'zip': '../../core_contracts/loans.zip', 'SCORE': 'cxedda469d71f9d3cb76b5585e129a374f988684bc'}, 'staking': {'zip': '../../core_contracts/staking.zip', 'SCORE': 'cx272ce34980099a03c2465c8de6f445ff86416793'}, 'dividends': {'zip': '../../core_contracts/dividends.zip', 'SCORE': 'cx37854d456b9095ccd82b39f5e3f0e60e6e7577f1'}, 'reserve': {'zip': '../../core_contracts/reserve.zip', 'SCORE': 'cxffa4b54daff78fe6cbb367dbea6fbd077e86c77b'}, 'daofund': {'zip': '../../core_contracts/daofund.zip', 'SCORE': 'cx7f5b9527a5186ae60262bad895d677c74d4782f3'}, 'rewards': {'zip': '../../core_contracts/rewards.zip', 'SCORE': 'cxc1b3632a24bdb243620bbffbf1b8dc8175346a27'}, 'dex': {'zip': '../../core_contracts/dex.zip', 'SCORE': 'cxa2b16e0314387d558ee8c4af02b48f611aff8be9'}, 'governance': {'zip': '../../core_contracts/governance.zip', 'SCORE': 'cx0f5d672a769bd52a4bf6cefd7b40777e48995230'}, 'oracle': {'zip': '../../core_contracts/oracle.zip', 'SCORE': 'cxed97bdb35a7ca1b3993e400e4dba9e11610338f7'}, 'sicx': {'zip': '../../token_contracts/sicx.zip', 'SCORE': 'cx2f4b75d1eba58dc41dd45b3b1d09d33319f751c5'}, 'bnUSD': {'zip': '../../token_contracts/bnUSD.zip', 'SCORE': 'cxdc49b3be43c4733f83a2fe80ccbe6fee11c8ba12'}, 'bnXLM': {'zip': '../../token_contracts/bnXLM.zip', 'SCORE': 'cx3ae0d02218931f724ea64477f33fb83bb6f8789d'}, 'bnDOGE': {'zip': '../../token_contracts/bnDOGE.zip', 'SCORE': 'cx7ca9e9be9f59b84726c363c784da79de65fe1619'}, 'baln': {'zip': '../../token_contracts/baln.zip', 'SCORE': 'cx23abbd450911b5f7feedda2de23621ac765622fb'}, 'bwt': {'zip': '../../token_contracts/bwt.zip', 'SCORE': 'cx03198e44c6dff023caa943a543fad9a9ac63aa3a'}}\n",
      "----------Contracts for Testing UI--------------------------------------------------------------------------------\n",
      "{\"loans\": \"cxedda469d71f9d3cb76b5585e129a374f988684bc\", \"staking\": \"cx272ce34980099a03c2465c8de6f445ff86416793\", \"dividends\": \"cx37854d456b9095ccd82b39f5e3f0e60e6e7577f1\", \"reserve\": \"cxffa4b54daff78fe6cbb367dbea6fbd077e86c77b\", \"daofund\": \"cx7f5b9527a5186ae60262bad895d677c74d4782f3\", \"rewards\": \"cxc1b3632a24bdb243620bbffbf1b8dc8175346a27\", \"dex\": \"cxa2b16e0314387d558ee8c4af02b48f611aff8be9\", \"governance\": \"cx0f5d672a769bd52a4bf6cefd7b40777e48995230\", \"oracle\": \"cxed97bdb35a7ca1b3993e400e4dba9e11610338f7\", \"sicx\": \"cx2f4b75d1eba58dc41dd45b3b1d09d33319f751c5\", \"bnUSD\": \"cxdc49b3be43c4733f83a2fe80ccbe6fee11c8ba12\", \"bnXLM\": \"cx3ae0d02218931f724ea64477f33fb83bb6f8789d\", \"bnDOGE\": \"cx7ca9e9be9f59b84726c363c784da79de65fe1619\", \"baln\": \"cx23abbd450911b5f7feedda2de23621ac765622fb\", \"bwt\": \"cx03198e44c6dff023caa943a543fad9a9ac63aa3a\"}\n"
     ]
    }
   ],
   "source": [
    "# Cell 7\n",
    "# Deploy and configure Balanced. Print results if anything goes wrong.\n",
    "\n",
    "if network == 'custom':\n",
    "    confirm = 'Yes'\n",
    "else:\n",
    "    confirm = input(f'Deploying Balanced to {network}. Proceed (Yes/No)? ')\n",
    "if confirm == 'Yes':\n",
    "    results = {}\n",
    "    deploy_all(btest_wallet, staking_wallet)\n",
    "    print('------------------------------------------------------------------------------------------------------------------')\n",
    "    print(contracts)\n",
    "    print('----------Contracts for Testing UI--------------------------------------------------------------------------------')\n",
    "    print(get_scores_json(contracts))"
   ]
  },
  {
   "cell_type": "code",
   "execution_count": 26,
   "metadata": {
    "scrolled": true
   },
   "outputs": [
    {
     "name": "stdout",
     "output_type": "stream",
     "text": [
      "------------------------------------------------------------------------------------------------------------------\n",
      "Calling setAddresses, with parameters {'_addresses': {'loans': 'cxedda469d71f9d3cb76b5585e129a374f988684bc', 'staking': 'cx272ce34980099a03c2465c8de6f445ff86416793', 'dividends': 'cx37854d456b9095ccd82b39f5e3f0e60e6e7577f1', 'reserve': 'cxffa4b54daff78fe6cbb367dbea6fbd077e86c77b', 'daofund': 'cx7f5b9527a5186ae60262bad895d677c74d4782f3', 'rewards': 'cxc1b3632a24bdb243620bbffbf1b8dc8175346a27', 'dex': 'cxa2b16e0314387d558ee8c4af02b48f611aff8be9', 'oracle': 'cxed97bdb35a7ca1b3993e400e4dba9e11610338f7', 'sicx': 'cx2f4b75d1eba58dc41dd45b3b1d09d33319f751c5', 'bnUSD': 'cxdc49b3be43c4733f83a2fe80ccbe6fee11c8ba12', 'baln': 'cx23abbd450911b5f7feedda2de23621ac765622fb', 'bwt': 'cx03198e44c6dff023caa943a543fad9a9ac63aa3a'}} on the governance contract.\n",
      "------------------------------------------------------------------------------------------------------------------\n"
     ]
    },
    {
     "name": "stderr",
     "output_type": "stream",
     "text": [
      "Raised JSONRPCException while returning the custom response. Error message: {'code': -32602, 'message': 'Pending transaction'}\n"
     ]
    },
    {
     "name": "stdout",
     "output_type": "stream",
     "text": [
      "Retrying in 1 seconds...\n",
      "************************************************** Status: 1 **************************************************\n",
      "------------------------------------------------------------------------------------------------------------------\n",
      "Calling setSicxAddress, with parameters {'_address': 'cx2f4b75d1eba58dc41dd45b3b1d09d33319f751c5'} on the staking contract.\n",
      "------------------------------------------------------------------------------------------------------------------\n",
      "************************************************** Status: 1 **************************************************\n",
      "------------------------------------------------------------------------------------------------------------------\n",
      "Calling configureBalanced, with parameters {} on the governance contract.\n",
      "------------------------------------------------------------------------------------------------------------------\n"
     ]
    },
    {
     "name": "stderr",
     "output_type": "stream",
     "text": [
      "Raised JSONRPCException while returning the custom response. Error message: {'code': -32602, 'message': 'Pending transaction'}\n"
     ]
    },
    {
     "name": "stdout",
     "output_type": "stream",
     "text": [
      "Retrying in 1 seconds...\n",
      "************************************************** Status: 1 **************************************************\n",
      "{'scoreAddress': 'cxedda469d71f9d3cb76b5585e129a374f988684bc', 'indexed': ['AssetAdded(Address,str,bool)', 'cx2f4b75d1eba58dc41dd45b3b1d09d33319f751c5', 'sICX', '0x1'], 'data': []} \n",
      "\n",
      "{'scoreAddress': 'cxedda469d71f9d3cb76b5585e129a374f988684bc', 'indexed': ['AssetAdded(Address,str,bool)', 'cxdc49b3be43c4733f83a2fe80ccbe6fee11c8ba12', 'bnUSD', '0x0'], 'data': []} \n",
      "\n",
      "{'scoreAddress': 'cxedda469d71f9d3cb76b5585e129a374f988684bc', 'indexed': ['AssetAdded(Address,str,bool)', 'cx23abbd450911b5f7feedda2de23621ac765622fb', 'BALN', '0x1'], 'data': []} \n",
      "\n",
      "{\"governance|setAddresses|{'_addresses': {'loans': 'cxedda469d71f9d3cb76b5585e129a374f988684bc', 'staking': 'cx272ce34980099a03c2465c8de6f445ff86416793', 'dividends': 'cx37854d456b9095ccd82b39f5e3f0e60e6e7577f1', 'reserve': 'cxffa4b54daff78fe6cbb367dbea6fbd077e86c77b', 'daofund': 'cx7f5b9527a5186ae60262bad895d677c74d4782f3', 'rewards': 'cxc1b3632a24bdb243620bbffbf1b8dc8175346a27', 'dex': 'cxa2b16e0314387d558ee8c4af02b48f611aff8be9', 'oracle': 'cxed97bdb35a7ca1b3993e400e4dba9e11610338f7', 'sicx': 'cx2f4b75d1eba58dc41dd45b3b1d09d33319f751c5', 'bnUSD': 'cxdc49b3be43c4733f83a2fe80ccbe6fee11c8ba12', 'baln': 'cx23abbd450911b5f7feedda2de23621ac765622fb', 'bwt': 'cx03198e44c6dff023caa943a543fad9a9ac63aa3a'}}\": {'txHash': '0x0c39379903a921b129b5f292b86a1c950106c9bb1ae44f0c3f717ca8d42572af', 'blockHeight': 770722, 'blockHash': '0x238005498cf2bd416565912c86c182f6e29795b8bce5e54b8bf7e47bb4a254d0', 'txIndex': 1, 'to': 'cx0f5d672a769bd52a4bf6cefd7b40777e48995230', 'stepUsed': 344440, 'stepPrice': 10000000000, 'cumulativeStepUsed': 344440, 'eventLogs': [], 'logsBloom': b'\\x00\\x00\\x00\\x00\\x00\\x00\\x00\\x00\\x00\\x00\\x00\\x00\\x00\\x00\\x00\\x00\\x00\\x00\\x00\\x00\\x00\\x00\\x00\\x00\\x00\\x00\\x00\\x00\\x00\\x00\\x00\\x00\\x00\\x00\\x00\\x00\\x00\\x00\\x00\\x00\\x00\\x00\\x00\\x00\\x00\\x00\\x00\\x00\\x00\\x00\\x00\\x00\\x00\\x00\\x00\\x00\\x00\\x00\\x00\\x00\\x00\\x00\\x00\\x00\\x00\\x00\\x00\\x00\\x00\\x00\\x00\\x00\\x00\\x00\\x00\\x00\\x00\\x00\\x00\\x00\\x00\\x00\\x00\\x00\\x00\\x00\\x00\\x00\\x00\\x00\\x00\\x00\\x00\\x00\\x00\\x00\\x00\\x00\\x00\\x00\\x00\\x00\\x00\\x00\\x00\\x00\\x00\\x00\\x00\\x00\\x00\\x00\\x00\\x00\\x00\\x00\\x00\\x00\\x00\\x00\\x00\\x00\\x00\\x00\\x00\\x00\\x00\\x00\\x00\\x00\\x00\\x00\\x00\\x00\\x00\\x00\\x00\\x00\\x00\\x00\\x00\\x00\\x00\\x00\\x00\\x00\\x00\\x00\\x00\\x00\\x00\\x00\\x00\\x00\\x00\\x00\\x00\\x00\\x00\\x00\\x00\\x00\\x00\\x00\\x00\\x00\\x00\\x00\\x00\\x00\\x00\\x00\\x00\\x00\\x00\\x00\\x00\\x00\\x00\\x00\\x00\\x00\\x00\\x00\\x00\\x00\\x00\\x00\\x00\\x00\\x00\\x00\\x00\\x00\\x00\\x00\\x00\\x00\\x00\\x00\\x00\\x00\\x00\\x00\\x00\\x00\\x00\\x00\\x00\\x00\\x00\\x00\\x00\\x00\\x00\\x00\\x00\\x00\\x00\\x00\\x00\\x00\\x00\\x00\\x00\\x00\\x00\\x00\\x00\\x00\\x00\\x00\\x00\\x00\\x00\\x00\\x00\\x00\\x00\\x00\\x00\\x00\\x00\\x00\\x00\\x00\\x00\\x00\\x00\\x00\\x00\\x00\\x00\\x00\\x00\\x00', 'status': 1}, \"staking|setSicxAddress|{'_address': 'cx2f4b75d1eba58dc41dd45b3b1d09d33319f751c5'}\": {'txHash': '0x27f5188ce3b40565b591735c1e5f0347ac0a37a4162b503e9eb8bc074ec04263', 'blockHeight': 770723, 'blockHash': '0x5e7efe9bb1e15ece2ce549d8254190464cb640241f3199cd503aa2dd0f45a4aa', 'txIndex': 1, 'to': 'cx272ce34980099a03c2465c8de6f445ff86416793', 'stepUsed': 150520, 'stepPrice': 10000000000, 'cumulativeStepUsed': 150520, 'eventLogs': [], 'logsBloom': b'\\x00\\x00\\x00\\x00\\x00\\x00\\x00\\x00\\x00\\x00\\x00\\x00\\x00\\x00\\x00\\x00\\x00\\x00\\x00\\x00\\x00\\x00\\x00\\x00\\x00\\x00\\x00\\x00\\x00\\x00\\x00\\x00\\x00\\x00\\x00\\x00\\x00\\x00\\x00\\x00\\x00\\x00\\x00\\x00\\x00\\x00\\x00\\x00\\x00\\x00\\x00\\x00\\x00\\x00\\x00\\x00\\x00\\x00\\x00\\x00\\x00\\x00\\x00\\x00\\x00\\x00\\x00\\x00\\x00\\x00\\x00\\x00\\x00\\x00\\x00\\x00\\x00\\x00\\x00\\x00\\x00\\x00\\x00\\x00\\x00\\x00\\x00\\x00\\x00\\x00\\x00\\x00\\x00\\x00\\x00\\x00\\x00\\x00\\x00\\x00\\x00\\x00\\x00\\x00\\x00\\x00\\x00\\x00\\x00\\x00\\x00\\x00\\x00\\x00\\x00\\x00\\x00\\x00\\x00\\x00\\x00\\x00\\x00\\x00\\x00\\x00\\x00\\x00\\x00\\x00\\x00\\x00\\x00\\x00\\x00\\x00\\x00\\x00\\x00\\x00\\x00\\x00\\x00\\x00\\x00\\x00\\x00\\x00\\x00\\x00\\x00\\x00\\x00\\x00\\x00\\x00\\x00\\x00\\x00\\x00\\x00\\x00\\x00\\x00\\x00\\x00\\x00\\x00\\x00\\x00\\x00\\x00\\x00\\x00\\x00\\x00\\x00\\x00\\x00\\x00\\x00\\x00\\x00\\x00\\x00\\x00\\x00\\x00\\x00\\x00\\x00\\x00\\x00\\x00\\x00\\x00\\x00\\x00\\x00\\x00\\x00\\x00\\x00\\x00\\x00\\x00\\x00\\x00\\x00\\x00\\x00\\x00\\x00\\x00\\x00\\x00\\x00\\x00\\x00\\x00\\x00\\x00\\x00\\x00\\x00\\x00\\x00\\x00\\x00\\x00\\x00\\x00\\x00\\x00\\x00\\x00\\x00\\x00\\x00\\x00\\x00\\x00\\x00\\x00\\x00\\x00\\x00\\x00\\x00\\x00\\x00\\x00\\x00\\x00\\x00\\x00', 'status': 1}, 'governance|configureBalanced|{}': {'txHash': '0x7afe53b86f60271e8395336ec3a66deae0666700d888a5ccdb47834e148b0018', 'blockHeight': 770724, 'blockHash': '0x27fbbc08a8b516031ce2c580a3b2c291663f3c9b3594267f1119c8a37d3b3725', 'txIndex': 1, 'to': 'cx0f5d672a769bd52a4bf6cefd7b40777e48995230', 'stepUsed': 1654980, 'stepPrice': 10000000000, 'cumulativeStepUsed': 1654980, 'eventLogs': [{'scoreAddress': 'cxedda469d71f9d3cb76b5585e129a374f988684bc', 'indexed': ['AssetAdded(Address,str,bool)', 'cx2f4b75d1eba58dc41dd45b3b1d09d33319f751c5', 'sICX', '0x1'], 'data': []}, {'scoreAddress': 'cxedda469d71f9d3cb76b5585e129a374f988684bc', 'indexed': ['AssetAdded(Address,str,bool)', 'cxdc49b3be43c4733f83a2fe80ccbe6fee11c8ba12', 'bnUSD', '0x0'], 'data': []}, {'scoreAddress': 'cxedda469d71f9d3cb76b5585e129a374f988684bc', 'indexed': ['AssetAdded(Address,str,bool)', 'cx23abbd450911b5f7feedda2de23621ac765622fb', 'BALN', '0x1'], 'data': []}], 'logsBloom': b'\\x00\\x00\\x12\\x00\\x00\\x00\\x00\\x10\\x00\\x00\\x00\\x00\\x00\\x00\\x01\\x00\\x00\\x00\\x00\\x00\\x00\\x00\\x00\\x00\\x00\\x00\\x00\\x00\\x00\\x00\\x00\\x00\\x00\\x00\\x00\\x80\\x00\\x00\\x10\\x00\\x00\\x00\\x00\\x00\\x00\\x00\\x00\\x00\\x00\\x00 \\x02\\x00\\x00\\x00\\x00\\x00\\x00\\x04\\x00\\x00\\x00\\x00 \\x04\\x00\\x00\\x00\\x00\\x00\\x00\\x00\\x00\\x00\\x00\\x00\\x00\\x00\\x00\\x00\\x10\\x00\\x00\\x00\\x00\\x02\\x00\\x00\\x00\\x00\\x00\\x00\\x00\\x00\\x00\\x00\\x00\\x00\\x08\\x00\\x01\\x00\\x00\\x00\\x00\\x00\\x00\\x00\\x00\\x00\\x00\\x00\\x00\\x00\\x00\\x00\\x00\\x80\\x00\\x00\\x00\\x00\\x00\\x00\\x00\\x00\\x01\\x00\\x00\\x00\\x00\\x00@\\x00\\x00\\x00\\x00\\x00\\x00\\x00\\x00\\x00\\x00\\x00\\x00\\x00\\x00\\x00\\x00\\x00\\x00\\x00\\x00\\x00\\x00\\x02\\x00\\x00\\x00\\x00\\x00\\x10\\x00\\x00\\x04\\x00\\x08\\x00\\x00E\\x00\\x00\\x00\\x00\\x00\\x00\\x00\\x00\\x00\\x00\\x00\\x00\\x00\\x00\\x00\\x00\\x00\\x00\\x00\\x00\\x00\\x00\\x00\\x00\\x00\\x00\\x00\\x00\\x00\\x00\\x00\\x00\\x00\\x00\\x00\\x08\\x00\\x00\\x00\\x00\\x00\\x00\\x00\\x02\\x00\\x00\\x00\\x00\\x00\\x00\\x00\\x00\\x00\\x00\\x00\\x00\\x00\\x00\\x00\\x00\\x01\\x00\\x00\\x00\\x00\\x00\\x00\\x00\\x00\\x00\\x00\\x00\\x00\\x00 \\x00\\x00\\x00\\x00\\x00\\x00\\x00\\x00\\x00\\x00\\x00', 'status': 1}}\n"
     ]
    }
   ],
   "source": [
    "# Cell 7a\n",
    "# Configure Balanced\n",
    "\n",
    "config_results = config_balanced(btest_wallet, staking_wallet)\n",
    "print(config_results)"
   ]
  },
  {
   "cell_type": "code",
   "execution_count": 27,
   "metadata": {
    "scrolled": true
   },
   "outputs": [
    {
     "name": "stdout",
     "output_type": "stream",
     "text": [
      "------------------------------------------------------------------------------------------------------------------\n",
      "Calling launchBalanced, with parameters {} on the governance contract.\n",
      "------------------------------------------------------------------------------------------------------------------\n",
      "************************************************** Status: 1 **************************************************\n",
      "{'scoreAddress': 'cxedda469d71f9d3cb76b5585e129a374f988684bc', 'indexed': ['ContractActive(str,str)', 'Loans'], 'data': ['Active']} \n",
      "\n",
      "------------------------------------------------------------------------------------------------------------------\n",
      "Calling toggleStakingOn, with parameters {} on the staking contract.\n",
      "------------------------------------------------------------------------------------------------------------------\n"
     ]
    },
    {
     "name": "stderr",
     "output_type": "stream",
     "text": [
      "Raised JSONRPCException while returning the custom response. Error message: {'code': -32602, 'message': 'Pending transaction'}\n"
     ]
    },
    {
     "name": "stdout",
     "output_type": "stream",
     "text": [
      "Retrying in 1 seconds...\n",
      "************************************************** Status: 1 **************************************************\n",
      "------------------------------------------------------------------------------------------------------------------\n",
      "Calling delegate, with parameters {'_delegations': [{'_address': 'hx9eec61296a7010c867ce24c20e69588e2832bc52', '_votes_in_per': '50000000000000000000'}, {'_address': 'hx000e0415037ae871184b2c7154e5924ef2bc075e', '_votes_in_per': '50000000000000000000'}]} on the governance contract.\n",
      "------------------------------------------------------------------------------------------------------------------\n",
      "************************************************** Status: 1 **************************************************\n",
      "{'governance|launchBalanced|{}': {'txHash': '0x848f4c114fda6aebaad47657c41874edc1d00f402212be76c555f9d1473563b6', 'blockHeight': 770726, 'blockHash': '0x1101a94b5be446b60fa8375b1fa13386b25e538132b28392d8d7cb6f034a4211', 'txIndex': 1, 'to': 'cx0f5d672a769bd52a4bf6cefd7b40777e48995230', 'stepUsed': 415440, 'stepPrice': 10000000000, 'cumulativeStepUsed': 415440, 'eventLogs': [{'scoreAddress': 'cxedda469d71f9d3cb76b5585e129a374f988684bc', 'indexed': ['ContractActive(str,str)', 'Loans'], 'data': ['Active']}], 'logsBloom': b'\\x00\\x00\\x00\\x00\\x00\\x00\\x00\\x10\\x00\\x00\\x00\\x00\\x00\\x00\\x00\\x00\\x00\\x00\\x00\\x00\\x00\\x00\\x00\\x00\\x00\\x00\\x00\\x00\\x00\\x00\\x00\\x00\\x00\\x00\\x00\\x00\\x00\\x00\\x00\\x00\\x00\\x00\\x00 \\x00\\x00\\x00\\x00\\x00\\x00\\x00\\x00\\x00\\x00\\x00\\x00\\x00\\x00\\x00\\x00\\x00\\x00\\x00\\x00\\x00\\x00\\x00\\x00\\x00\\x00\\x00\\x00\\x00\\x00\\x00\\x00\\x00\\x00\\x00\\x00\\x10\\x00\\x00\\x00\\x80\\x00\\x00\\x00\\x00\\x00\\x00\\x00\\x00\\x00\\x00\\x00\\x01\\x00\\x00\\x00\\x00\\x00\\x00\\x00\\x00\\x00\\x00\\x00\\x00\\x00\\x00\\x00\\x00\\x00\\x00\\x00\\x00\\x80\\x00\\x00\\x00\\x00\\x00\\x00\\x00\\x00\\x00\\x00\\x00\\x00\\x00\\x00\\x00\\x00\\x10\\x00\\x00\\x00\\x00\\x00\\x00\\x00\\x00\\x00\\x00\\x00\\x00\\x00\\x00\\x00\\x00\\x00\\x00\\x00\\x00 \\x00\\x00\\x00\\x00\\x00\\x00\\x00\\x00\\x00\\x00\\x00\\x00\\x00\\x00\\x00\\x00\\x00\\x00\\x00\\x00\\x00\\x00\\x00\\x00\\x00\\x00\\x00\\x00\\x00\\x00\\x00\\x00\\x00\\x00\\x00\\x00\\x00\\x00\\x00\\x00\\x00\\x00\\x00\\x00\\x00\\x00\\x00\\x00\\x00\\x00\\x00\\x00\\x00\\x00\\x00\\x00\\x00\\x00\\x00\\x00\\x00\\x00\\x00\\x00\\x00\\x00\\x00\\x00\\x00\\x00\\x00\\x00\\x00\\x00\\x00\\x00\\x00\\x00\\x00\\x00\\x00\\x00\\x00\\x00\\x00\\x00\\x00\\x00\\x00\\x00\\x00\\x00\\x00\\x00\\x00\\x00\\x00\\x01\\x00\\x00', 'status': 1}, 'staking|toggleStakingOn|{}': {'txHash': '0xb2c976fbc54eedef06350093e063670c4ecaca9d6ea1be02f8792dbc45f0fac5', 'blockHeight': 770727, 'blockHash': '0x9c82ddd71b4d7ae312401b1891e081063c809a7a385667e0148d886faf12fa7c', 'txIndex': 1, 'to': 'cx272ce34980099a03c2465c8de6f445ff86416793', 'stepUsed': 130680, 'stepPrice': 10000000000, 'cumulativeStepUsed': 130680, 'eventLogs': [], 'logsBloom': b'\\x00\\x00\\x00\\x00\\x00\\x00\\x00\\x00\\x00\\x00\\x00\\x00\\x00\\x00\\x00\\x00\\x00\\x00\\x00\\x00\\x00\\x00\\x00\\x00\\x00\\x00\\x00\\x00\\x00\\x00\\x00\\x00\\x00\\x00\\x00\\x00\\x00\\x00\\x00\\x00\\x00\\x00\\x00\\x00\\x00\\x00\\x00\\x00\\x00\\x00\\x00\\x00\\x00\\x00\\x00\\x00\\x00\\x00\\x00\\x00\\x00\\x00\\x00\\x00\\x00\\x00\\x00\\x00\\x00\\x00\\x00\\x00\\x00\\x00\\x00\\x00\\x00\\x00\\x00\\x00\\x00\\x00\\x00\\x00\\x00\\x00\\x00\\x00\\x00\\x00\\x00\\x00\\x00\\x00\\x00\\x00\\x00\\x00\\x00\\x00\\x00\\x00\\x00\\x00\\x00\\x00\\x00\\x00\\x00\\x00\\x00\\x00\\x00\\x00\\x00\\x00\\x00\\x00\\x00\\x00\\x00\\x00\\x00\\x00\\x00\\x00\\x00\\x00\\x00\\x00\\x00\\x00\\x00\\x00\\x00\\x00\\x00\\x00\\x00\\x00\\x00\\x00\\x00\\x00\\x00\\x00\\x00\\x00\\x00\\x00\\x00\\x00\\x00\\x00\\x00\\x00\\x00\\x00\\x00\\x00\\x00\\x00\\x00\\x00\\x00\\x00\\x00\\x00\\x00\\x00\\x00\\x00\\x00\\x00\\x00\\x00\\x00\\x00\\x00\\x00\\x00\\x00\\x00\\x00\\x00\\x00\\x00\\x00\\x00\\x00\\x00\\x00\\x00\\x00\\x00\\x00\\x00\\x00\\x00\\x00\\x00\\x00\\x00\\x00\\x00\\x00\\x00\\x00\\x00\\x00\\x00\\x00\\x00\\x00\\x00\\x00\\x00\\x00\\x00\\x00\\x00\\x00\\x00\\x00\\x00\\x00\\x00\\x00\\x00\\x00\\x00\\x00\\x00\\x00\\x00\\x00\\x00\\x00\\x00\\x00\\x00\\x00\\x00\\x00\\x00\\x00\\x00\\x00\\x00\\x00\\x00\\x00\\x00\\x00\\x00\\x00', 'status': 1}, \"governance|delegate|{'_delegations': [{'_address': 'hx9eec61296a7010c867ce24c20e69588e2832bc52', '_votes_in_per': '50000000000000000000'}, {'_address': 'hx000e0415037ae871184b2c7154e5924ef2bc075e', '_votes_in_per': '50000000000000000000'}]}\": {'txHash': '0x76956b2ba659a0584f0bc2f6248c98dd8bce194c8ace6f9ffaceb304f8786db8', 'blockHeight': 770728, 'blockHash': '0x60314ffcf19d23c2e2d5d5c25bbfdcc06036ba5fb02e060936c73adb51280d0a', 'txIndex': 1, 'to': 'cx0f5d672a769bd52a4bf6cefd7b40777e48995230', 'stepUsed': 354320, 'stepPrice': 10000000000, 'cumulativeStepUsed': 354320, 'eventLogs': [], 'logsBloom': b'\\x00\\x00\\x00\\x00\\x00\\x00\\x00\\x00\\x00\\x00\\x00\\x00\\x00\\x00\\x00\\x00\\x00\\x00\\x00\\x00\\x00\\x00\\x00\\x00\\x00\\x00\\x00\\x00\\x00\\x00\\x00\\x00\\x00\\x00\\x00\\x00\\x00\\x00\\x00\\x00\\x00\\x00\\x00\\x00\\x00\\x00\\x00\\x00\\x00\\x00\\x00\\x00\\x00\\x00\\x00\\x00\\x00\\x00\\x00\\x00\\x00\\x00\\x00\\x00\\x00\\x00\\x00\\x00\\x00\\x00\\x00\\x00\\x00\\x00\\x00\\x00\\x00\\x00\\x00\\x00\\x00\\x00\\x00\\x00\\x00\\x00\\x00\\x00\\x00\\x00\\x00\\x00\\x00\\x00\\x00\\x00\\x00\\x00\\x00\\x00\\x00\\x00\\x00\\x00\\x00\\x00\\x00\\x00\\x00\\x00\\x00\\x00\\x00\\x00\\x00\\x00\\x00\\x00\\x00\\x00\\x00\\x00\\x00\\x00\\x00\\x00\\x00\\x00\\x00\\x00\\x00\\x00\\x00\\x00\\x00\\x00\\x00\\x00\\x00\\x00\\x00\\x00\\x00\\x00\\x00\\x00\\x00\\x00\\x00\\x00\\x00\\x00\\x00\\x00\\x00\\x00\\x00\\x00\\x00\\x00\\x00\\x00\\x00\\x00\\x00\\x00\\x00\\x00\\x00\\x00\\x00\\x00\\x00\\x00\\x00\\x00\\x00\\x00\\x00\\x00\\x00\\x00\\x00\\x00\\x00\\x00\\x00\\x00\\x00\\x00\\x00\\x00\\x00\\x00\\x00\\x00\\x00\\x00\\x00\\x00\\x00\\x00\\x00\\x00\\x00\\x00\\x00\\x00\\x00\\x00\\x00\\x00\\x00\\x00\\x00\\x00\\x00\\x00\\x00\\x00\\x00\\x00\\x00\\x00\\x00\\x00\\x00\\x00\\x00\\x00\\x00\\x00\\x00\\x00\\x00\\x00\\x00\\x00\\x00\\x00\\x00\\x00\\x00\\x00\\x00\\x00\\x00\\x00\\x00\\x00\\x00\\x00\\x00\\x00\\x00\\x00', 'status': 1}}\n"
     ]
    }
   ],
   "source": [
    "# Cell 7b\n",
    "# Launch Balanced\n",
    "# We may want to make this a payable method and have the governance SCORE borrow bnUSD,\n",
    "# start and name the sICXbnUSD market, and add it as a rewards DataSource.\n",
    "\n",
    "launch_results = launch_balanced(btest_wallet, staking_wallet)\n",
    "print(launch_results)"
   ]
  },
  {
   "cell_type": "code",
   "execution_count": null,
   "metadata": {},
   "outputs": [],
   "source": [
    "# Cell 8\n",
    "# Deploy or Update a single SCORE\n",
    "\n",
    "contract_name = 'rewards'\n",
    "update = 1\n",
    "params = {}\n",
    "if update == 0:\n",
    "    params = {'_governance': contracts['governance']['SCORE']}\n",
    "\n",
    "compress()\n",
    "contract = contracts[contract_name]\n",
    "confirm = input(f'{\"Updating\" if update else \"Deploying\"} {contract_name} with params: {params} to {network}. Proceed (Yes/No)? ')\n",
    "if confirm == 'Yes':\n",
    "    deploy_SCORE(contract, params, btest_wallet, update)"
   ]
  },
  {
   "cell_type": "code",
   "execution_count": 16,
   "metadata": {
    "scrolled": true
   },
   "outputs": [
    {
     "name": "stdout",
     "output_type": "stream",
     "text": [
      "------------------------------------------------------------------------------------------------------------------\n",
      "Calling depositAndBorrow, with parameters {'_asset': 'bnUSD', '_amount': 50000000000000000000} on the loans contract.\n",
      "------------------------------------------------------------------------------------------------------------------\n",
      "************************************************** Status: 1 **************************************************\n",
      "{'scoreAddress': 'cxb23ed1c0e174bed66a625507303f4a934eae1aca', 'indexed': ['ICXTransfer(Address,Address,int)', 'cxb23ed1c0e174bed66a625507303f4a934eae1aca', 'cxad32e2e33b3e7e97f2e6725e8dbd4424067e3dba', '0x1b1ae4d6e2ef500000'], 'data': []} \n",
      "\n",
      "{'scoreAddress': 'cxadfef188e7134700dd27304d016a85eb83767cd7', 'indexed': ['Mint(Address,int,bytes)', 'cxb23ed1c0e174bed66a625507303f4a934eae1aca'], 'data': ['0x1b1ae4d6e2ef500000', '0x4e6f6e65']} \n",
      "\n",
      "{'scoreAddress': 'cxadfef188e7134700dd27304d016a85eb83767cd7', 'indexed': ['Transfer(Address,Address,int,bytes)', 'hx0000000000000000000000000000000000000000', 'cxb23ed1c0e174bed66a625507303f4a934eae1aca', '0x1b1ae4d6e2ef500000'], 'data': ['0x4e6f6e65']} \n",
      "\n",
      "{'scoreAddress': 'cxad32e2e33b3e7e97f2e6725e8dbd4424067e3dba', 'indexed': ['TokenTransfer(Address,int,str)', 'cxb23ed1c0e174bed66a625507303f4a934eae1aca', '0x1b1ae4d6e2ef500000'], 'data': ['500 sICX minted to cxb23ed1c0e174bed66a625507303f4a934eae1aca']} \n",
      "\n",
      "{'scoreAddress': 'cxb23ed1c0e174bed66a625507303f4a934eae1aca', 'indexed': ['CollateralReceived(Address,str,int)', 'hx3f01840a599da07b0f620eeae7aa9c574169a4be', 'sICX'], 'data': ['0x1b1ae4d6e2ef500000']} \n",
      "\n",
      "{'scoreAddress': 'cx4ad8bad10dc018b5e323db51a01b721197ca44fd', 'indexed': ['OraclePrice(str,str,Address,int)', 'USDICX', 'BandChain', 'cxed97bdb35a7ca1b3993e400e4dba9e11610338f7'], 'data': ['0x84c5d90848544bb']} \n",
      "\n",
      "{'scoreAddress': 'cxb23ed1c0e174bed66a625507303f4a934eae1aca', 'indexed': ['OriginateLoan(Address,str,int,str)', 'hx3f01840a599da07b0f620eeae7aa9c574169a4be', 'bnUSD', '0x2b5e3af16b1880000'], 'data': ['Loan of 50000000000000000000 bnUSD from Balanced.']} \n",
      "\n",
      "{'scoreAddress': 'cx4ad8bad10dc018b5e323db51a01b721197ca44fd', 'indexed': ['Mint(Address,int,bytes)', 'hx3f01840a599da07b0f620eeae7aa9c574169a4be'], 'data': ['0x2b5e3af16b1880000', '0x4e6f6e65']} \n",
      "\n",
      "{'scoreAddress': 'cx4ad8bad10dc018b5e323db51a01b721197ca44fd', 'indexed': ['Transfer(Address,Address,int,bytes)', 'hx0000000000000000000000000000000000000000', 'hx3f01840a599da07b0f620eeae7aa9c574169a4be', '0x2b5e3af16b1880000'], 'data': ['0x4e6f6e65']} \n",
      "\n",
      "{'scoreAddress': 'cx4ad8bad10dc018b5e323db51a01b721197ca44fd', 'indexed': ['Mint(Address,int,bytes)', 'cx9301795eb133ffe8057df3efb538bc1774ba5746'], 'data': ['0x6f05b59d3b20000', '0x4e6f6e65']} \n",
      "\n",
      "{'scoreAddress': 'cx4ad8bad10dc018b5e323db51a01b721197ca44fd', 'indexed': ['Transfer(Address,Address,int,bytes)', 'hx0000000000000000000000000000000000000000', 'cx9301795eb133ffe8057df3efb538bc1774ba5746', '0x6f05b59d3b20000'], 'data': ['0x4e6f6e65']} \n",
      "\n",
      "{'scoreAddress': 'cx9301795eb133ffe8057df3efb538bc1774ba5746', 'indexed': ['DividendsReceived(int,str)', '0x6f05b59d3b20000'], 'data': ['500000000000000000 tokens received as dividends token: cx4ad8bad10dc018b5e323db51a01b721197ca44fd']} \n",
      "\n",
      "{'scoreAddress': 'cxb23ed1c0e174bed66a625507303f4a934eae1aca', 'indexed': ['FeePaid(str,int,str)', 'bnUSD', '0x6f05b59d3b20000', 'origination'], 'data': []} \n",
      "\n"
     ]
    },
    {
     "data": {
      "text/plain": [
       "{'txHash': '0xb9835077b0b859f90b47a5b49bd4856335c79ba5f276317e242daf707c64cc31',\n",
       " 'blockHeight': 770117,\n",
       " 'blockHash': '0x391b505b84fc04fe8273e2aa12de739bc80f2747d9d028af2071c2734c3a082d',\n",
       " 'txIndex': 1,\n",
       " 'to': 'cxb23ed1c0e174bed66a625507303f4a934eae1aca',\n",
       " 'stepUsed': 876640,\n",
       " 'stepPrice': 10000000000,\n",
       " 'cumulativeStepUsed': 876640,\n",
       " 'eventLogs': [{'scoreAddress': 'cxb23ed1c0e174bed66a625507303f4a934eae1aca',\n",
       "   'indexed': ['ICXTransfer(Address,Address,int)',\n",
       "    'cxb23ed1c0e174bed66a625507303f4a934eae1aca',\n",
       "    'cxad32e2e33b3e7e97f2e6725e8dbd4424067e3dba',\n",
       "    '0x1b1ae4d6e2ef500000'],\n",
       "   'data': []},\n",
       "  {'scoreAddress': 'cxadfef188e7134700dd27304d016a85eb83767cd7',\n",
       "   'indexed': ['Mint(Address,int,bytes)',\n",
       "    'cxb23ed1c0e174bed66a625507303f4a934eae1aca'],\n",
       "   'data': ['0x1b1ae4d6e2ef500000', '0x4e6f6e65']},\n",
       "  {'scoreAddress': 'cxadfef188e7134700dd27304d016a85eb83767cd7',\n",
       "   'indexed': ['Transfer(Address,Address,int,bytes)',\n",
       "    'hx0000000000000000000000000000000000000000',\n",
       "    'cxb23ed1c0e174bed66a625507303f4a934eae1aca',\n",
       "    '0x1b1ae4d6e2ef500000'],\n",
       "   'data': ['0x4e6f6e65']},\n",
       "  {'scoreAddress': 'cxad32e2e33b3e7e97f2e6725e8dbd4424067e3dba',\n",
       "   'indexed': ['TokenTransfer(Address,int,str)',\n",
       "    'cxb23ed1c0e174bed66a625507303f4a934eae1aca',\n",
       "    '0x1b1ae4d6e2ef500000'],\n",
       "   'data': ['500 sICX minted to cxb23ed1c0e174bed66a625507303f4a934eae1aca']},\n",
       "  {'scoreAddress': 'cxb23ed1c0e174bed66a625507303f4a934eae1aca',\n",
       "   'indexed': ['CollateralReceived(Address,str,int)',\n",
       "    'hx3f01840a599da07b0f620eeae7aa9c574169a4be',\n",
       "    'sICX'],\n",
       "   'data': ['0x1b1ae4d6e2ef500000']},\n",
       "  {'scoreAddress': 'cx4ad8bad10dc018b5e323db51a01b721197ca44fd',\n",
       "   'indexed': ['OraclePrice(str,str,Address,int)',\n",
       "    'USDICX',\n",
       "    'BandChain',\n",
       "    'cxed97bdb35a7ca1b3993e400e4dba9e11610338f7'],\n",
       "   'data': ['0x84c5d90848544bb']},\n",
       "  {'scoreAddress': 'cxb23ed1c0e174bed66a625507303f4a934eae1aca',\n",
       "   'indexed': ['OriginateLoan(Address,str,int,str)',\n",
       "    'hx3f01840a599da07b0f620eeae7aa9c574169a4be',\n",
       "    'bnUSD',\n",
       "    '0x2b5e3af16b1880000'],\n",
       "   'data': ['Loan of 50000000000000000000 bnUSD from Balanced.']},\n",
       "  {'scoreAddress': 'cx4ad8bad10dc018b5e323db51a01b721197ca44fd',\n",
       "   'indexed': ['Mint(Address,int,bytes)',\n",
       "    'hx3f01840a599da07b0f620eeae7aa9c574169a4be'],\n",
       "   'data': ['0x2b5e3af16b1880000', '0x4e6f6e65']},\n",
       "  {'scoreAddress': 'cx4ad8bad10dc018b5e323db51a01b721197ca44fd',\n",
       "   'indexed': ['Transfer(Address,Address,int,bytes)',\n",
       "    'hx0000000000000000000000000000000000000000',\n",
       "    'hx3f01840a599da07b0f620eeae7aa9c574169a4be',\n",
       "    '0x2b5e3af16b1880000'],\n",
       "   'data': ['0x4e6f6e65']},\n",
       "  {'scoreAddress': 'cx4ad8bad10dc018b5e323db51a01b721197ca44fd',\n",
       "   'indexed': ['Mint(Address,int,bytes)',\n",
       "    'cx9301795eb133ffe8057df3efb538bc1774ba5746'],\n",
       "   'data': ['0x6f05b59d3b20000', '0x4e6f6e65']},\n",
       "  {'scoreAddress': 'cx4ad8bad10dc018b5e323db51a01b721197ca44fd',\n",
       "   'indexed': ['Transfer(Address,Address,int,bytes)',\n",
       "    'hx0000000000000000000000000000000000000000',\n",
       "    'cx9301795eb133ffe8057df3efb538bc1774ba5746',\n",
       "    '0x6f05b59d3b20000'],\n",
       "   'data': ['0x4e6f6e65']},\n",
       "  {'scoreAddress': 'cx9301795eb133ffe8057df3efb538bc1774ba5746',\n",
       "   'indexed': ['DividendsReceived(int,str)', '0x6f05b59d3b20000'],\n",
       "   'data': ['500000000000000000 tokens received as dividends token: cx4ad8bad10dc018b5e323db51a01b721197ca44fd']},\n",
       "  {'scoreAddress': 'cxb23ed1c0e174bed66a625507303f4a934eae1aca',\n",
       "   'indexed': ['FeePaid(str,int,str)',\n",
       "    'bnUSD',\n",
       "    '0x6f05b59d3b20000',\n",
       "    'origination'],\n",
       "   'data': []}],\n",
       " 'logsBloom': b'\\x00\\x00\\x10\\x00\\x00\\x00\\x00\\x00\\x02\\x00\\x00!\\x00\\x00\\x00\\x00\\x00\\x00\\x00\\x10\\x00\\x00\\x00@\\x02\\x01\\x00\\x00\\x00\\x08\\x00\\x00\\x00\\x00\\x00\\x00\\x00\\x00\\x00\\x00\\x00\\x01A\\x00\\x00\\x00\\x00\\x00\\x00\\x00\\x80\\x00\\x00\\x01\\x00\\x00\\x00\\x00\\x18\\x05\\x00\\x00\\x00$\\x80\\x10\\x00\\x00\\x00\\x08\\x00\\x00\\x08\\x00\\x000\\x00\\x00\\x10\\x00\\x00\\x10\\x00\\x00@\\x02\\x00\\x00 \\x00\\x00\\x08\\x00\\x00\\x80\\x00\\x00\\x00\\x08\\x01\\xa0\\x00\\x00\\x00\\x00\\x03\\x00\\x08\\x80\\x00\\xc4\\x00\\x01\\x00\\x01\\x00\\x10\\x04\\x00\\x04\\x00\\x08\\x00\\x00\\x08\\x00\\x01\\x00 \\x00\\x00\\x00\\x00\\xa0\\x00\\x00\\x00\\x10\\x00\\x00\\x00\\x00\\x00\\x00@\\x00\\x12\\x00\\x10\\x01\\x00\\x00\\x00\\x00\\x18 \\x00\\x10\\x00\\x80\\x00\\x00\\x00\\x00@\\x04\\x08\\x81\\x84\\x00@\\x02\\x00\\x00\\x00\\x04\\x00\\x00\\x80\\x00\\x00\\x00\\x00\\x00\\x10\\x00\\x00\\x00\\x00\\x00\\x10\\x00\\x01\\x00\\x08\\x02\\x00\\x02\\x00\\x00\\x00\\x04\\x02\\x00\\x04\\x00 \\x00\\x00\\x00\\x00\\x00\\x10Q\\x00\\x00\\x00\\x02\\x00\\x00\\x00\\x00\\x80\\x00\\x00\\x00\\x10\\x04\\x00\\x00\\x00\\x00\\x00\\x00\\x00 \\x00\\x00\\x00@\\x00\\x00\\x00 @\\x00\\x00\\x00\\x10\\x01\\x02@\\x00\\t\\x00\\x00',\n",
       " 'status': 1}"
      ]
     },
     "execution_count": 16,
     "metadata": {},
     "output_type": "execute_result"
    }
   ],
   "source": [
    "send_tx('loans', 500*ICX, 'depositAndBorrow', {'_asset': 'bnUSD', '_amount': 50* ICX}, btest_wallet)\n"
   ]
  },
  {
   "cell_type": "markdown",
   "metadata": {},
   "source": [
    "Testing getBAlances method"
   ]
  },
  {
   "cell_type": "code",
   "execution_count": 28,
   "metadata": {},
   "outputs": [
    {
     "name": "stdout",
     "output_type": "stream",
     "text": [
      "------------------------------------------------------------------------------------------------------------------\n",
      "Calling depositAndBorrow, with parameters {'_asset': 'bnUSD', '_amount': 50000000000000000000} on the loans contract.\n",
      "------------------------------------------------------------------------------------------------------------------\n",
      "************************************************** Status: 1 **************************************************\n",
      "{'scoreAddress': 'cxedda469d71f9d3cb76b5585e129a374f988684bc', 'indexed': ['ICXTransfer(Address,Address,int)', 'cxedda469d71f9d3cb76b5585e129a374f988684bc', 'cx272ce34980099a03c2465c8de6f445ff86416793', '0x1b1ae4d6e2ef500000'], 'data': []} \n",
      "\n",
      "{'scoreAddress': 'cx2f4b75d1eba58dc41dd45b3b1d09d33319f751c5', 'indexed': ['Mint(Address,int,bytes)', 'cxedda469d71f9d3cb76b5585e129a374f988684bc'], 'data': ['0x1b1ae4d6e2ef500000', '0x4e6f6e65']} \n",
      "\n",
      "{'scoreAddress': 'cx2f4b75d1eba58dc41dd45b3b1d09d33319f751c5', 'indexed': ['Transfer(Address,Address,int,bytes)', 'hx0000000000000000000000000000000000000000', 'cxedda469d71f9d3cb76b5585e129a374f988684bc', '0x1b1ae4d6e2ef500000'], 'data': ['0x4e6f6e65']} \n",
      "\n",
      "{'scoreAddress': 'cx272ce34980099a03c2465c8de6f445ff86416793', 'indexed': ['TokenTransfer(Address,int,str)', 'cxedda469d71f9d3cb76b5585e129a374f988684bc', '0x1b1ae4d6e2ef500000'], 'data': ['500 sICX minted to cxedda469d71f9d3cb76b5585e129a374f988684bc']} \n",
      "\n",
      "{'scoreAddress': 'cxedda469d71f9d3cb76b5585e129a374f988684bc', 'indexed': ['CollateralReceived(Address,str,int)', 'hx3f01840a599da07b0f620eeae7aa9c574169a4be', 'sICX'], 'data': ['0x1b1ae4d6e2ef500000']} \n",
      "\n",
      "{'scoreAddress': 'cxdc49b3be43c4733f83a2fe80ccbe6fee11c8ba12', 'indexed': ['OraclePrice(str,str,Address,int)', 'USDICX', 'BandChain', 'cxed97bdb35a7ca1b3993e400e4dba9e11610338f7'], 'data': ['0x84c5d90848544bb']} \n",
      "\n",
      "{'scoreAddress': 'cxedda469d71f9d3cb76b5585e129a374f988684bc', 'indexed': ['OriginateLoan(Address,str,int,str)', 'hx3f01840a599da07b0f620eeae7aa9c574169a4be', 'bnUSD', '0x2b5e3af16b1880000'], 'data': ['Loan of 50000000000000000000 bnUSD from Balanced.']} \n",
      "\n",
      "{'scoreAddress': 'cxdc49b3be43c4733f83a2fe80ccbe6fee11c8ba12', 'indexed': ['Mint(Address,int,bytes)', 'hx3f01840a599da07b0f620eeae7aa9c574169a4be'], 'data': ['0x2b5e3af16b1880000', '0x4e6f6e65']} \n",
      "\n",
      "{'scoreAddress': 'cxdc49b3be43c4733f83a2fe80ccbe6fee11c8ba12', 'indexed': ['Transfer(Address,Address,int,bytes)', 'hx0000000000000000000000000000000000000000', 'hx3f01840a599da07b0f620eeae7aa9c574169a4be', '0x2b5e3af16b1880000'], 'data': ['0x4e6f6e65']} \n",
      "\n",
      "{'scoreAddress': 'cxdc49b3be43c4733f83a2fe80ccbe6fee11c8ba12', 'indexed': ['Mint(Address,int,bytes)', 'cx37854d456b9095ccd82b39f5e3f0e60e6e7577f1'], 'data': ['0x6f05b59d3b20000', '0x4e6f6e65']} \n",
      "\n",
      "{'scoreAddress': 'cxdc49b3be43c4733f83a2fe80ccbe6fee11c8ba12', 'indexed': ['Transfer(Address,Address,int,bytes)', 'hx0000000000000000000000000000000000000000', 'cx37854d456b9095ccd82b39f5e3f0e60e6e7577f1', '0x6f05b59d3b20000'], 'data': ['0x4e6f6e65']} \n",
      "\n",
      "{'scoreAddress': 'cx37854d456b9095ccd82b39f5e3f0e60e6e7577f1', 'indexed': ['DividendsReceived(int,str)', '0x6f05b59d3b20000'], 'data': ['500000000000000000 tokens received as dividends token: cxdc49b3be43c4733f83a2fe80ccbe6fee11c8ba12']} \n",
      "\n",
      "{'scoreAddress': 'cxedda469d71f9d3cb76b5585e129a374f988684bc', 'indexed': ['FeePaid(str,int,str)', 'bnUSD', '0x6f05b59d3b20000', 'origination'], 'data': []} \n",
      "\n"
     ]
    },
    {
     "name": "stderr",
     "output_type": "stream",
     "text": [
      "Raised JSONRPCException while returning the custom response. Error message: {'code': -32602, 'message': 'Pending transaction'}\n"
     ]
    },
    {
     "name": "stdout",
     "output_type": "stream",
     "text": [
      "Retrying in 1 seconds...\n",
      "{'scoreAddress': 'cx23abbd450911b5f7feedda2de23621ac765622fb', 'indexed': ['Mint(Address,int,bytes)', 'cxc1b3632a24bdb243620bbffbf1b8dc8175346a27'], 'data': ['0x152d02c7e14af6800000', '0x4e6f6e65']} \n",
      "\n",
      "{'scoreAddress': 'cx23abbd450911b5f7feedda2de23621ac765622fb', 'indexed': ['Transfer(Address,Address,int,bytes)', 'hx0000000000000000000000000000000000000000', 'cxc1b3632a24bdb243620bbffbf1b8dc8175346a27', '0x152d02c7e14af6800000'], 'data': ['0x4e6f6e65']} \n",
      "\n",
      "{'scoreAddress': 'cx23abbd450911b5f7feedda2de23621ac765622fb', 'indexed': ['Transfer(Address,Address,int,bytes)', 'cxc1b3632a24bdb243620bbffbf1b8dc8175346a27', 'cx03198e44c6dff023caa943a543fad9a9ac63aa3a', '0x43c33c1937564800000'], 'data': ['0x4e6f6e65']} \n",
      "\n",
      "{'scoreAddress': 'cx23abbd450911b5f7feedda2de23621ac765622fb', 'indexed': ['Transfer(Address,Address,int,bytes)', 'cxc1b3632a24bdb243620bbffbf1b8dc8175346a27', 'cxffa4b54daff78fe6cbb367dbea6fbd077e86c77b', '0x10f0cf064dd59200000'], 'data': ['0x4e6f6e65']} \n",
      "\n",
      "{'scoreAddress': 'cx23abbd450911b5f7feedda2de23621ac765622fb', 'indexed': ['Transfer(Address,Address,int,bytes)', 'cxc1b3632a24bdb243620bbffbf1b8dc8175346a27', 'cx7f5b9527a5186ae60262bad895d677c74d4782f3', '0x878678326eac9000000'], 'data': ['0x4e6f6e65']} \n",
      "\n",
      "{'scoreAddress': 'cxdc49b3be43c4733f83a2fe80ccbe6fee11c8ba12', 'indexed': ['OraclePrice(str,str,Address,int)', 'USDICX', 'BandChain', 'cxed97bdb35a7ca1b3993e400e4dba9e11610338f7'], 'data': ['0x84c5d90848544bb']} \n",
      "\n",
      "{'scoreAddress': 'cxedda469d71f9d3cb76b5585e129a374f988684bc', 'indexed': ['Snapshot(int)', '0x2'], 'data': []} \n",
      "\n"
     ]
    },
    {
     "name": "stderr",
     "output_type": "stream",
     "text": [
      "Raised JSONRPCException while returning the custom response. Error message: {'code': -32602, 'message': 'Pending transaction'}\n"
     ]
    },
    {
     "name": "stdout",
     "output_type": "stream",
     "text": [
      "Retrying in 1 seconds...\n",
      "{'scoreAddress': 'cxc1b3632a24bdb243620bbffbf1b8dc8175346a27', 'indexed': ['Report(int,str,int,int)', '0x1', 'Loans'], 'data': ['0x0', '0x0']} \n",
      "\n"
     ]
    },
    {
     "name": "stderr",
     "output_type": "stream",
     "text": [
      "Raised JSONRPCException while returning the custom response. Error message: {'code': -32602, 'message': 'Pending transaction'}\n"
     ]
    },
    {
     "name": "stdout",
     "output_type": "stream",
     "text": [
      "Retrying in 1 seconds...\n"
     ]
    },
    {
     "name": "stderr",
     "output_type": "stream",
     "text": [
      "Raised JSONRPCException while returning the custom response. Error message: {'code': -32602, 'message': 'Pending transaction'}\n"
     ]
    },
    {
     "name": "stdout",
     "output_type": "stream",
     "text": [
      "Retrying in 1 seconds...\n"
     ]
    },
    {
     "name": "stderr",
     "output_type": "stream",
     "text": [
      "Raised JSONRPCException while returning the custom response. Error message: {'code': -32602, 'message': 'Pending transaction'}\n"
     ]
    },
    {
     "name": "stdout",
     "output_type": "stream",
     "text": [
      "Retrying in 1 seconds...\n",
      "Total BALN: 100000.0\n",
      "{'BALN': '0x10f0cf064dd59200000'}\n",
      "Test case success\n"
     ]
    }
   ],
   "source": [
    "send_tx('loans', 500*ICX, 'depositAndBorrow', {'_asset': 'bnUSD', '_amount': 50* ICX}, btest_wallet)\n",
    "time.sleep(70)\n",
    "for i in range(10):\n",
    "    fast_send_tx('rewards', 0, 'distribute', {}, btest_wallet)\n",
    "    \n",
    "total_balances = 0\n",
    "for contract in ['rewards', 'reserve', 'bwt', 'dex', 'daofund']:\n",
    "    result = int(call_tx('baln', 'balanceOf', {'_owner': contracts[contract]['SCORE']}, False), 0)\n",
    "    total_balances += result\n",
    "\n",
    "print(f'Total BALN: {total_balances / 10**18}')\n",
    "day = (total_balances / 10**18)/100000\n",
    "res = call_tx('reserve', 'getBalances', {}, False)\n",
    "print(res)\n",
    "assert int(res['BALN'], 0)/10**18 == 5000* day, \"Reserve not receiving proper rewards\"\n",
    "print('Test case success')"
   ]
  },
  {
   "cell_type": "markdown",
   "metadata": {},
   "source": [
    "Testing redeem"
   ]
  },
  {
   "cell_type": "code",
   "execution_count": 29,
   "metadata": {},
   "outputs": [
    {
     "name": "stdout",
     "output_type": "stream",
     "text": [
      "------------------------------------------------------------------------------------------------------------------\n",
      "Calling redeem, with parameters {'_to': 'hxe62d11fa19a0e8575ad92f06bc8fd42edbfe27db', '_amount': 10000000000000000000, '_sicx_rate': 2} on the reserve contract.\n",
      "------------------------------------------------------------------------------------------------------------------\n"
     ]
    },
    {
     "name": "stderr",
     "output_type": "stream",
     "text": [
      "Raised JSONRPCException while returning the custom response. Error message: {'code': -32602, 'message': 'Pending transaction'}\n"
     ]
    },
    {
     "name": "stdout",
     "output_type": "stream",
     "text": [
      "Retrying in 1 seconds...\n",
      "************************************************** Status: 0 **************************************************\n",
      "Failure: {'code': 32, 'message': 'BalancedReserveFund: The redeem method can only be called by the Loans SCORE.'}\n",
      "Test case passed\n"
     ]
    }
   ],
   "source": [
    "res = send_tx('reserve', 0, 'redeem', {'_to': user1.get_address(), '_amount': 10* ICX, '_sicx_rate': 2}, btest_wallet)\n",
    "assert res['failure']['message'] == 'BalancedReserveFund: The redeem method can only be called by the Loans SCORE.', 'Redeem methos can only be called from loans'\n",
    "print('Test case passed')"
   ]
  },
  {
   "cell_type": "code",
   "execution_count": null,
   "metadata": {},
   "outputs": [],
   "source": []
  },
  {
   "cell_type": "markdown",
   "metadata": {},
   "source": [
    "worker token"
   ]
  },
  {
   "cell_type": "code",
   "execution_count": 95,
   "metadata": {},
   "outputs": [
    {
     "data": {
      "text/plain": [
       "'0x2fa54641bae8aaa00000'"
      ]
     },
     "execution_count": 95,
     "metadata": {},
     "output_type": "execute_result"
    }
   ],
   "source": [
    "call_tx('baln', 'balanceOf', {'_owner': btest_wallet.get_address()}, False)"
   ]
  },
  {
   "cell_type": "code",
   "execution_count": 96,
   "metadata": {},
   "outputs": [
    {
     "name": "stdout",
     "output_type": "stream",
     "text": [
      "------------------------------------------------------------------------------------------------------------------\n",
      "Calling balwAdminTransfer, with parameters {'_from': 'hx3f01840a599da07b0f620eeae7aa9c574169a4be', '_to': 'hxe62d11fa19a0e8575ad92f06bc8fd42edbfe27db', '_value': 10000000000000000000} on the governance contract.\n",
      "------------------------------------------------------------------------------------------------------------------\n",
      "************************************************** Status: 0 **************************************************\n",
      "Failure: {'code': 1, 'message': 'Insufficient balance.'}\n"
     ]
    },
    {
     "data": {
      "text/plain": [
       "{'txHash': '0x95271abef101817c2ce3d7ac02bf96f855dc9b08827fb9c1dd3beed2d18269c5',\n",
       " 'blockHeight': 737073,\n",
       " 'blockHash': '0x334e305de16c0403d620eb55b4a5446b48e5ecf6326ee6cf806f0ad683765875',\n",
       " 'txIndex': 1,\n",
       " 'to': 'cxc3adcc3383cedfe483fb23a264a90955e604c2de',\n",
       " 'stepUsed': 185000,\n",
       " 'stepPrice': 10000000000,\n",
       " 'cumulativeStepUsed': 185000,\n",
       " 'eventLogs': [],\n",
       " 'logsBloom': b'\\x00\\x00\\x00\\x00\\x00\\x00\\x00\\x00\\x00\\x00\\x00\\x00\\x00\\x00\\x00\\x00\\x00\\x00\\x00\\x00\\x00\\x00\\x00\\x00\\x00\\x00\\x00\\x00\\x00\\x00\\x00\\x00\\x00\\x00\\x00\\x00\\x00\\x00\\x00\\x00\\x00\\x00\\x00\\x00\\x00\\x00\\x00\\x00\\x00\\x00\\x00\\x00\\x00\\x00\\x00\\x00\\x00\\x00\\x00\\x00\\x00\\x00\\x00\\x00\\x00\\x00\\x00\\x00\\x00\\x00\\x00\\x00\\x00\\x00\\x00\\x00\\x00\\x00\\x00\\x00\\x00\\x00\\x00\\x00\\x00\\x00\\x00\\x00\\x00\\x00\\x00\\x00\\x00\\x00\\x00\\x00\\x00\\x00\\x00\\x00\\x00\\x00\\x00\\x00\\x00\\x00\\x00\\x00\\x00\\x00\\x00\\x00\\x00\\x00\\x00\\x00\\x00\\x00\\x00\\x00\\x00\\x00\\x00\\x00\\x00\\x00\\x00\\x00\\x00\\x00\\x00\\x00\\x00\\x00\\x00\\x00\\x00\\x00\\x00\\x00\\x00\\x00\\x00\\x00\\x00\\x00\\x00\\x00\\x00\\x00\\x00\\x00\\x00\\x00\\x00\\x00\\x00\\x00\\x00\\x00\\x00\\x00\\x00\\x00\\x00\\x00\\x00\\x00\\x00\\x00\\x00\\x00\\x00\\x00\\x00\\x00\\x00\\x00\\x00\\x00\\x00\\x00\\x00\\x00\\x00\\x00\\x00\\x00\\x00\\x00\\x00\\x00\\x00\\x00\\x00\\x00\\x00\\x00\\x00\\x00\\x00\\x00\\x00\\x00\\x00\\x00\\x00\\x00\\x00\\x00\\x00\\x00\\x00\\x00\\x00\\x00\\x00\\x00\\x00\\x00\\x00\\x00\\x00\\x00\\x00\\x00\\x00\\x00\\x00\\x00\\x00\\x00\\x00\\x00\\x00\\x00\\x00\\x00\\x00\\x00\\x00\\x00\\x00\\x00\\x00\\x00\\x00\\x00\\x00\\x00\\x00\\x00\\x00\\x00\\x00\\x00',\n",
       " 'status': 0,\n",
       " 'failure': {'code': 1, 'message': 'Insufficient balance.'}}"
      ]
     },
     "execution_count": 96,
     "metadata": {},
     "output_type": "execute_result"
    }
   ],
   "source": [
    "send_tx('governance', 0, 'balwAdminTransfer', {'_from': btest_wallet.get_address(), '_to': user1.get_address(), '_value': 10* ICX}, btest_wallet)\n"
   ]
  },
  {
   "cell_type": "code",
   "execution_count": 97,
   "metadata": {},
   "outputs": [
    {
     "name": "stdout",
     "output_type": "stream",
     "text": [
      "------------------------------------------------------------------------------------------------------------------\n",
      "Calling distribute, with parameters {} on the bwt contract.\n",
      "------------------------------------------------------------------------------------------------------------------\n",
      "************************************************** Status: 1 **************************************************\n",
      "{'scoreAddress': 'cx8493aadc07137f6dd3832729799bf87535c89b36', 'indexed': ['Transfer(Address,Address,int,bytes)', 'cxd3cfdc52b4b62d0dd1abe1635a67dc63a75d64b2', 'hx3f01840a599da07b0f620eeae7aa9c574169a4be', '0x0'], 'data': ['0x4e6f6e65']} \n",
      "\n"
     ]
    },
    {
     "data": {
      "text/plain": [
       "{'txHash': '0x2dc527d64d4d69822d168be4cdf27a6f6337c17d0b80d0ad1b0d8432f364b10f',\n",
       " 'blockHeight': 737076,\n",
       " 'blockHash': '0x02e04658c6769494435c683213ef34168619587e581a0bd0a52493e6018bef6f',\n",
       " 'txIndex': 1,\n",
       " 'to': 'cxd3cfdc52b4b62d0dd1abe1635a67dc63a75d64b2',\n",
       " 'stepUsed': 190600,\n",
       " 'stepPrice': 10000000000,\n",
       " 'cumulativeStepUsed': 190600,\n",
       " 'eventLogs': [{'scoreAddress': 'cx8493aadc07137f6dd3832729799bf87535c89b36',\n",
       "   'indexed': ['Transfer(Address,Address,int,bytes)',\n",
       "    'cxd3cfdc52b4b62d0dd1abe1635a67dc63a75d64b2',\n",
       "    'hx3f01840a599da07b0f620eeae7aa9c574169a4be',\n",
       "    '0x0'],\n",
       "   'data': ['0x4e6f6e65']}],\n",
       " 'logsBloom': b'\\x00\\x00\\x00\\x00\\x00\\x00\\x00\\x00\\x00\\x00\\x00 \\x80\\x00\\x00\\x00\\x00\\x00\\x00\\x00\\x00\\x00\\x00\\x00\\x00\\x00\\x00\\x00\\x00\\x00\\x00\\x00\\x00\\x00\\x00\\x00\\x00\\x00\\x10\\x00\\x00\\x01\\x00\\x00\\x00\\x00\\x00\\x00\\x00\\x00\\x00\\x00\\x00\\x00\\x00\\x00\\x00\\x00\\x00\\x00\\x00\\x00\\x00\\x00\\x00\\x00\\x00\\x00\\x00\\x00\\x00\\x00\\x00\\x00 \\x00\\x00\\x00\\x00\\x00\\x00\\x00\\x00\\x00\\x00\\x00\\x00\\x00\\x00\\x00\\x00\\x00\\x00\\x00\\x00\\x00\\x00\\x00\\x00\\x00\\x00\\x00\\x00\\x00\\x00\\x00@\\x00\\x00\\x00\\x00\\x80\\x01\\x00\\x00\\x00\\x02\\x00\\x00\\x00\\x00\\x00\\x00\\x00\\x00\\x00\\x00\\x00\\x00\\x00\\x00\\x00\\x00 \\x00\\x00\\x00\\x00\\x00\\x00\\x00\\x00\\x00\\x00\\x00\\x00\\x00\\x00\\x00\\x00\\x00\\x00\\x00\\x00\\x00\\x00\\x00\\x10\\x00\\x00\\x00\\x00\\x00\\x00\\x00\\x00\\x00\\x00\\x00\\x00\\x00\\x00\\x00\\x00\\x00\\x00\\x00\\x00\\x00\\x00\\x00\\x00\\x00\\x00\\x00\\x00\\x00\\x00\\x00\\x00\\x00\\x00\\x00\\x00\\x00\\x00\\x00\\x00\\x00\\x01\\x00\\x00\\x00\\x00\\x00\\x00\\x00\\x00\\x00\\x00\\x00\\x00\\x00\\x03\\x00\\x00\\x00\\x00\\x00\\x00\\x00\\x00\\x00\\x00\\x00\\x00\\x00\\x00\\x00\\x00\\x01\\x00\\x00\\x00\\x00\\x00\\x00\\x00\\x00\\x00\\x00\\x00\\x00\\x00\\x00\\x00\\x00\\x00\\x00\\x00\\x00\\x00\\x00\\x00\\x00\\x00',\n",
       " 'status': 1}"
      ]
     },
     "execution_count": 97,
     "metadata": {},
     "output_type": "execute_result"
    }
   ],
   "source": [
    "send_tx('bwt', 0, 'distribute', {}, btest_wallet)\n"
   ]
  },
  {
   "cell_type": "code",
   "execution_count": null,
   "metadata": {},
   "outputs": [],
   "source": []
  }
 ],
 "metadata": {
  "kernelspec": {
   "display_name": "Python 3",
   "language": "python",
   "name": "python3"
  },
  "language_info": {
   "codemirror_mode": {
    "name": "ipython",
    "version": 3
   },
   "file_extension": ".py",
   "mimetype": "text/x-python",
   "name": "python",
   "nbconvert_exporter": "python",
   "pygments_lexer": "ipython3",
   "version": "3.7.6"
  }
 },
 "nbformat": 4,
 "nbformat_minor": 4
}
