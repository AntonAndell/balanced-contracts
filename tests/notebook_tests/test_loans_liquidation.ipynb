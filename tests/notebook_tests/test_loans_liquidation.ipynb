{
 "cells": [
  {
   "cell_type": "code",
   "execution_count": 1,
   "metadata": {},
   "outputs": [],
   "source": [
    "# Cell 0\n",
    "\n",
    "network = \"custom\"  # set this to one of mainnet, yeouido, euljiro, pagoda, or custom\n",
    "\n",
    "connections = {\n",
    "\"mainnet\": {\"iconservice\": \"https://ctz.solidwallet.io\",       \"nid\": 1},\n",
    "\"yeouido\": {\"iconservice\": \"https://bicon.net.solidwallet.io\", \"nid\": 3},\n",
    "\"euljiro\": {\"iconservice\": \"https://test-ctz.solidwallet.io\",  \"nid\": 2},\n",
    "\"pagoda\":  {\"iconservice\": \"https://zicon.net.solidwallet.io\", \"nid\":80},\n",
    "\"custom\":  {\"iconservice\": \"http://18.144.108.38:9000\",        \"nid\": 3}}\n",
    "\n",
    "env = connections[network]"
   ]
  },
  {
   "cell_type": "code",
   "execution_count": 6,
   "metadata": {},
   "outputs": [],
   "source": [
    "# Cell 1\n",
    "\n",
    "from iconsdk.exception import JSONRPCException\n",
    "from iconsdk.libs.in_memory_zip import gen_deploy_data_content\n",
    "from iconsdk.icon_service import IconService\n",
    "from iconsdk.providers.http_provider import HTTPProvider\n",
    "from iconsdk.builder.transaction_builder import CallTransactionBuilder, TransactionBuilder, DeployTransactionBuilder\n",
    "from iconsdk.builder.call_builder import CallBuilder\n",
    "from iconsdk.signed_transaction import SignedTransaction\n",
    "from iconsdk.wallet.wallet import KeyWallet\n",
    "from iconsdk.utils.convert_type import convert_hex_str_to_int\n",
    "from repeater import retry\n",
    "from shutil import make_archive\n",
    "import pickle as pkl\n",
    "from datetime import datetime\n",
    "from time import sleep\n",
    "import json\n",
    "import os\n",
    "\n",
    "ICX = 1000000000000000000 # 10**18\n",
    "GOVERNANCE_ADDRESS = \"cx0000000000000000000000000000000000000000\"\n",
    "ORACLE = \"cx61a36e5d10412e03c907a507d1e8c6c3856d9964\"\n",
    "\n",
    "@retry(JSONRPCException, tries=10, delay=1, back_off=2)\n",
    "def get_tx_result(_tx_hash):\n",
    "    tx_result = icon_service.get_transaction_result(_tx_hash)\n",
    "    return tx_result"
   ]
  },
  {
   "cell_type": "code",
   "execution_count": 7,
   "metadata": {},
   "outputs": [],
   "source": [
    "# Cell 2\n",
    "\n",
    "icon_service = IconService(HTTPProvider(env[\"iconservice\"], 3))\n",
    "NID = env[\"nid\"]"
   ]
  },
  {
   "cell_type": "code",
   "execution_count": 8,
   "metadata": {},
   "outputs": [
    {
     "name": "stdout",
     "output_type": "stream",
     "text": [
      "760036469.3248185\n",
      "16791445.2532572\n"
     ]
    }
   ],
   "source": [
    "# Cell 3\n",
    "\n",
    "wallet = KeyWallet.load(\"../../keystores/keystore_test1.json\", \"test1_Account\")\n",
    "# Balanced test wallet\n",
    "with open(\"../../keystores/balanced_test.pwd\", \"r\") as f:\n",
    "    key_data = f.read()\n",
    "btest_wallet = KeyWallet.load(\"../../keystores/balanced_test.json\", key_data)\n",
    "print(icon_service.get_balance(wallet.get_address())/10**18)\n",
    "print(icon_service.get_balance(btest_wallet.get_address())/10**18)"
   ]
  },
  {
   "cell_type": "code",
   "execution_count": 9,
   "metadata": {},
   "outputs": [
    {
     "name": "stdout",
     "output_type": "stream",
     "text": [
      "hxe7af5fcfd8dfc67530a01a0e403882687528dfcb\n",
      "760036469.3248185\n"
     ]
    }
   ],
   "source": [
    "print(wallet.get_address())\n",
    "print(icon_service.get_balance(wallet.get_address()) / 10**18)"
   ]
  },
  {
   "cell_type": "code",
   "execution_count": 10,
   "metadata": {},
   "outputs": [
    {
     "name": "stdout",
     "output_type": "stream",
     "text": [
      "hx3f01840a599da07b0f620eeae7aa9c574169a4be\n",
      "16791445.2532572\n"
     ]
    }
   ],
   "source": [
    "print(btest_wallet.get_address())\n",
    "print(icon_service.get_balance(btest_wallet.get_address()) / 10**18)"
   ]
  },
  {
   "cell_type": "code",
   "execution_count": 11,
   "metadata": {},
   "outputs": [
    {
     "name": "stdout",
     "output_type": "stream",
     "text": [
      "1034349.4737826\n",
      "hxe62d11fa19a0e8575ad92f06bc8fd42edbfe27db\n",
      "1012894.5146526\n",
      "hx7a1824129a8fe803e45a3aae1c0e060399546187\n"
     ]
    }
   ],
   "source": [
    "user1 = KeyWallet.load(\"../../keystores/user1.json\",\"HelloWorld@1234\")\n",
    "# btest_wallet = KeyWallet.load(\"./balanced_test.json\",\"HelloWorld@1234\")\n",
    "\n",
    "print(icon_service.get_balance(user1.get_address())/10**18)\n",
    "print(user1.get_address())\n",
    "\n",
    "# test2 = hx7a1824129a8fe803e45a3aae1c0e060399546187\n",
    "private = \"0a354424b20a7e3c55c43808d607bddfac85d033e63d7d093cb9f0a26c4ee022\"\n",
    "user2 = KeyWallet.load(bytes.fromhex(private))\n",
    "print(icon_service.get_balance(user2.get_address())/10**18)\n",
    "print(user2.get_address())"
   ]
  },
  {
   "cell_type": "code",
   "execution_count": 12,
   "metadata": {},
   "outputs": [],
   "source": [
    "# The following addresses are those deployed to the private tbears server.\n",
    "\n",
    "contracts = {'loans': {'zip': 'core_contracts/loans.zip',\n",
    "  'SCORE': 'cxbbd36ca8d91aefbe1060c3be62fed4d1b848ca85'},\n",
    " 'staking': {'zip': 'core_contracts/staking.zip',\n",
    "  'SCORE': 'cxd8e05c1280bc2c32bf53ff61f3bb2e2ecc7d6df5'},\n",
    " 'dividends': {'zip': 'core_contracts/dividends.zip',\n",
    "  'SCORE': 'cx7c617e3fca4ba06b6ad203ce113245ae96a9d91e'},\n",
    " 'reserve': {'zip': 'core_contracts/reserve.zip',\n",
    "  'SCORE': 'cx70cd5c86f0182d5ac0bd224562d929cd968d9132'},\n",
    " 'daofund': {'zip': 'core_contracts/daofund.zip',\n",
    "  'SCORE': 'cxeb91bc377b0620356787d9c9eb68152eb0c62d8a'},\n",
    " 'rewards': {'zip': 'core_contracts/rewards.zip',\n",
    "  'SCORE': 'cxfd7511ece084744154fed19dc34732681ad078e6'},\n",
    " 'dex': {'zip': 'core_contracts/dex.zip',\n",
    "  'SCORE': 'cx9a3161c778eee2d5758371d3548c5599f76704ec'},\n",
    " 'governance': {'zip': 'core_contracts/governance.zip',\n",
    "  'SCORE': 'cx238cd1a1e3a9702d6c9c6dc130719472164db376'},\n",
    " 'oracle': {'zip': 'core_contracts/oracle.zip',\n",
    "  'SCORE': 'cx7171e2f5653c1b9c000e24228276b8d24e84f10d'},\n",
    " 'sicx': {'zip': 'token_contracts/sicx.zip',\n",
    "  'SCORE': 'cxcff8bf80ab213fa9bbb350636a4d68f5cb4fd9c1'},\n",
    " 'bnUSD': {'zip': 'token_contracts/bnUSD.zip',\n",
    "  'SCORE': 'cx4c1beaa71b9377100c810c46059ddf5f3da37602'},\n",
    " 'baln': {'zip': 'token_contracts/baln.zip',\n",
    "  'SCORE': 'cx3825a86d52c5baf188ff29aa6a7fc2467e285885'},\n",
    " 'bwt': {'zip': 'token_contracts/bwt.zip',\n",
    "  'SCORE': 'cx140b49ea041457ebc4cd5e199f5723916bb50021'}}"
   ]
  },
  {
   "cell_type": "code",
   "execution_count": 13,
   "metadata": {},
   "outputs": [],
   "source": [
    "# Cell 6\n",
    "# Define deploy and send_tx functions\n",
    "\n",
    "def compress():\n",
    "    \"\"\"\n",
    "    Compress all SCORE folders in the core_contracts and toekn_contracts folders\n",
    "    \"\"\"\n",
    "    deploy = list(contracts.keys())[:]\n",
    "    for directory in {\"../../core_contracts\", \"../../token_contracts\"}:\n",
    "        with os.scandir(directory) as it:\n",
    "            for file in it:\n",
    "                archive_name = directory + \"/\" + file.name\n",
    "                if file.is_dir() and file.name in deploy:\n",
    "                    make_archive(archive_name, \"zip\", directory, file.name)\n",
    "                    contracts[file.name]['zip'] = archive_name + '.zip'\n",
    "\n",
    "def deploy_SCORE(contract, params, wallet, update) -> str:\n",
    "    \"\"\"\n",
    "    contract is of form {'zip': 'core_contracts/governance.zip', 'SCORE': 'cx1d81f93b3b8d8d2a6455681c46128868782ddd09'}\n",
    "    params is a dicts\n",
    "    wallet is a wallet file\n",
    "    update is boolian\n",
    "    \"\"\"\n",
    "    print(f'{contract[\"zip\"]}')\n",
    "    if update:\n",
    "        dest = contract['SCORE']\n",
    "    else:\n",
    "        dest = GOVERNANCE_ADDRESS\n",
    "    zip_file = contract['zip']\n",
    "    step_limit = 4000100000\n",
    "    deploy_transaction = DeployTransactionBuilder()\\\n",
    "        .from_(wallet.get_address())\\\n",
    "        .to(dest)\\\n",
    "        .nid(NID)\\\n",
    "        .nonce(100)\\\n",
    "        .content_type(\"application/zip\")\\\n",
    "        .content(gen_deploy_data_content(zip_file))\\\n",
    "        .params(params)\\\n",
    "        .build()\n",
    "\n",
    "    signed_transaction = SignedTransaction(deploy_transaction, wallet, step_limit)\n",
    "    tx_hash = icon_service.send_transaction(signed_transaction)\n",
    "\n",
    "    res = get_tx_result(tx_hash)\n",
    "    print(f'Status: {res[\"status\"]}')\n",
    "    if len(res[\"eventLogs\"]) > 0:\n",
    "        for item in res[\"eventLogs\"]:\n",
    "            print(f'{item} \\n')\n",
    "    if res['status'] == 0:\n",
    "        print(f'Failure: {res[\"failure\"]}')\n",
    "    print('')\n",
    "    return res.get('scoreAddress', '')\n",
    "\n",
    "def send_tx(dest, value, method, params, wallet):\n",
    "    \"\"\"\n",
    "    dest is the name of the destination contract.\n",
    "    \"\"\"\n",
    "    print('------------------------------------------------------------------------------------------------------------------')\n",
    "    print(f'Calling {method}, with parameters {params} on the {dest} contract.')\n",
    "    print('------------------------------------------------------------------------------------------------------------------')\n",
    "    transaction = CallTransactionBuilder()\\\n",
    "        .from_(wallet.get_address())\\\n",
    "        .to(contracts[dest]['SCORE'])\\\n",
    "        .value(value)\\\n",
    "        .step_limit(10000000)\\\n",
    "        .nid(NID)\\\n",
    "        .nonce(100)\\\n",
    "        .method(method)\\\n",
    "        .params(params)\\\n",
    "        .build()\n",
    "    signed_transaction = SignedTransaction(transaction, wallet)\n",
    "    tx_hash = icon_service.send_transaction(signed_transaction)\n",
    "\n",
    "    res = get_tx_result(tx_hash)\n",
    "    print(f'************************************************** Status: {res[\"status\"]} **************************************************')\n",
    "    if len(res[\"eventLogs\"]) > 0:\n",
    "        for item in res[\"eventLogs\"]:\n",
    "            print(f'{item} \\n')\n",
    "    if res['status'] == 0:\n",
    "        print(f'Failure: {res[\"failure\"]}')\n",
    "    return res\n",
    "\n",
    "def deploy_all(wallet):\n",
    "    \"\"\"\n",
    "    Compress, Deploy and Configure all SCOREs\n",
    "    \"\"\"\n",
    "    compress()\n",
    "\n",
    "    deploy = list(contracts.keys())[:]\n",
    "    deploy.remove('oracle')\n",
    "    deploy.remove('staking')\n",
    "    deploy.remove('sicx')\n",
    "    deploy.remove('governance')\n",
    "\n",
    "    governance = deploy_SCORE(contracts['governance'], {}, wallet, 0)\n",
    "    contracts['governance']['SCORE'] = governance\n",
    "    for score in deploy:\n",
    "        contracts[score]['SCORE'] = deploy_SCORE(contracts[score], {'_governance': governance}, wallet, 0)\n",
    "    contracts['staking']['SCORE'] = deploy_SCORE(contracts['staking'], {}, wallet, 0)\n",
    "    contracts['sicx']['SCORE'] = deploy_SCORE(contracts['sicx'], {'_admin': contracts['staking']['SCORE']}, wallet, 0)\n",
    "\n",
    "    config = list(contracts.keys())[:]\n",
    "    config.remove('governance')\n",
    "    addresses = {contract: contracts[contract]['SCORE'] for contract in config}\n",
    "\n",
    "    txns = [{'contract': 'staking', 'value': 0, 'method': 'setSicxAddress', 'params': {'_address': contracts['sicx']['SCORE']}},\n",
    "            {'contract': 'governance', 'value': 0, 'method': 'setAddresses', 'params': {'_addresses': addresses}},\n",
    "            {'contract': 'governance', 'value': 0, 'method': 'launchBalanced', 'params': {}}]\n",
    "\n",
    "    for tx in txns:\n",
    "        res = send_tx(tx[\"contract\"], tx[\"value\"], tx[\"method\"], tx[\"params\"], wallet)\n",
    "        results[f'{tx[\"contract\"]}|{tx[\"method\"]}|{tx[\"params\"]}'] = res\n",
    "\n",
    "def get_scores_json(contracts):\n",
    "    \"\"\"\n",
    "    Prints out dictionary of SCORE addresses for use in testing UI.\n",
    "    \"\"\"\n",
    "    scores = {}\n",
    "    for score in contracts:\n",
    "        scores[score] = contracts[score]['SCORE']\n",
    "    return json.dumps(scores)\n",
    "\n",
    "def call_tx(dest: str, method: str, params: dict = {}):\n",
    "    \"\"\"\n",
    "    dest is the name of the destination contract.\n",
    "    \"\"\"\n",
    "    print('------------------------------------------------------------------------------------------------------------------')\n",
    "    print(f'Reading {method}, with parameters {params} on the {dest} contract.')\n",
    "    print('------------------------------------------------------------------------------------------------------------------')\n",
    "    call = CallBuilder()\\\n",
    "        .from_(wallet.get_address())\\\n",
    "        .to(contracts[dest]['SCORE'])\\\n",
    "        .method(method)\\\n",
    "        .params(params)\\\n",
    "        .build()\n",
    "    result = icon_service.call(call)\n",
    "    print(result)\n",
    "    return result\n"
   ]
  },
  {
   "cell_type": "code",
   "execution_count": 20,
   "metadata": {},
   "outputs": [
    {
     "name": "stdout",
     "output_type": "stream",
     "text": [
      "../../core_contracts/governance.zip\n",
      "Status: 1\n",
      "\n",
      "../../core_contracts/loans.zip\n"
     ]
    },
    {
     "name": "stderr",
     "output_type": "stream",
     "text": [
      "Raised JSONRPCException while returning the custom response. Error message: {'code': -32602, 'message': 'Pending transaction'}\n"
     ]
    },
    {
     "name": "stdout",
     "output_type": "stream",
     "text": [
      "Retrying in 1 seconds...\n",
      "Status: 1\n",
      "\n",
      "../../core_contracts/dividends.zip\n"
     ]
    },
    {
     "name": "stderr",
     "output_type": "stream",
     "text": [
      "Raised JSONRPCException while returning the custom response. Error message: {'code': -32602, 'message': 'Pending transaction'}\n"
     ]
    },
    {
     "name": "stdout",
     "output_type": "stream",
     "text": [
      "Retrying in 1 seconds...\n",
      "Status: 1\n",
      "\n",
      "../../core_contracts/reserve.zip\n",
      "Status: 1\n",
      "\n",
      "../../core_contracts/daofund.zip\n"
     ]
    },
    {
     "name": "stderr",
     "output_type": "stream",
     "text": [
      "Raised JSONRPCException while returning the custom response. Error message: {'code': -32602, 'message': 'Pending transaction'}\n"
     ]
    },
    {
     "name": "stdout",
     "output_type": "stream",
     "text": [
      "Retrying in 1 seconds...\n",
      "Status: 1\n",
      "\n",
      "../../core_contracts/rewards.zip\n"
     ]
    },
    {
     "name": "stderr",
     "output_type": "stream",
     "text": [
      "Raised JSONRPCException while returning the custom response. Error message: {'code': -32602, 'message': 'Pending transaction'}\n"
     ]
    },
    {
     "name": "stdout",
     "output_type": "stream",
     "text": [
      "Retrying in 1 seconds...\n",
      "Status: 1\n",
      "\n",
      "../../core_contracts/dex.zip\n",
      "Status: 1\n",
      "\n",
      "../../token_contracts/bnUSD.zip\n"
     ]
    },
    {
     "name": "stderr",
     "output_type": "stream",
     "text": [
      "Raised JSONRPCException while returning the custom response. Error message: {'code': -32602, 'message': 'Pending transaction'}\n"
     ]
    },
    {
     "name": "stdout",
     "output_type": "stream",
     "text": [
      "Retrying in 1 seconds...\n",
      "Status: 1\n",
      "\n",
      "../../token_contracts/baln.zip\n"
     ]
    },
    {
     "name": "stderr",
     "output_type": "stream",
     "text": [
      "Raised JSONRPCException while returning the custom response. Error message: {'code': -32602, 'message': 'Pending transaction'}\n"
     ]
    },
    {
     "name": "stdout",
     "output_type": "stream",
     "text": [
      "Retrying in 1 seconds...\n",
      "Status: 1\n",
      "\n",
      "../../token_contracts/bwt.zip\n",
      "Status: 1\n",
      "\n",
      "../../core_contracts/staking.zip\n",
      "Status: 1\n",
      "\n",
      "../../token_contracts/sicx.zip\n"
     ]
    },
    {
     "name": "stderr",
     "output_type": "stream",
     "text": [
      "Raised JSONRPCException while returning the custom response. Error message: {'code': -32602, 'message': 'Pending transaction'}\n"
     ]
    },
    {
     "name": "stdout",
     "output_type": "stream",
     "text": [
      "Retrying in 1 seconds...\n",
      "Status: 1\n",
      "\n",
      "------------------------------------------------------------------------------------------------------------------\n",
      "Calling setSicxAddress, with parameters {'_address': 'cxe38604673bb1feb1f8b0c10bb050d49ac89377a9'} on the staking contract.\n",
      "------------------------------------------------------------------------------------------------------------------\n"
     ]
    },
    {
     "name": "stderr",
     "output_type": "stream",
     "text": [
      "Raised JSONRPCException while returning the custom response. Error message: {'code': -32602, 'message': 'Pending transaction'}\n"
     ]
    },
    {
     "name": "stdout",
     "output_type": "stream",
     "text": [
      "Retrying in 1 seconds...\n",
      "************************************************** Status: 1 **************************************************\n",
      "------------------------------------------------------------------------------------------------------------------\n",
      "Calling setAddresses, with parameters {'_addresses': {'loans': 'cxe5f97ee6319cb6cd759f5b80f202ee88f5d03469', 'staking': 'cxe80070f13da74e0113f582751a425f4c037e7b11', 'dividends': 'cx9233b295001c65580718397558b984559d155d4c', 'reserve': 'cx4a43ef1906ffe0052b84e7ef86e81b77b2bb8f93', 'daofund': 'cx1aaf4c374eb7ffd28e90451f68df5bece4d48fbc', 'rewards': 'cx0f57b7e2acea5a278d8f28f8b25a209274e5f9a5', 'dex': 'cx796dfea322b5b15f94c2d865b1252acb4e85c8fd', 'oracle': 'cx7171e2f5653c1b9c000e24228276b8d24e84f10d', 'sicx': 'cxe38604673bb1feb1f8b0c10bb050d49ac89377a9', 'bnUSD': 'cxe3885a98999e5f53a68061e16d7fc8470110d31b', 'baln': 'cxa143900078da1af384b21761e3d94c76833cea76', 'bwt': 'cxb5ed5f709fdef277518cc1839a345758c8f7eb97'}} on the governance contract.\n",
      "------------------------------------------------------------------------------------------------------------------\n"
     ]
    },
    {
     "name": "stderr",
     "output_type": "stream",
     "text": [
      "Raised JSONRPCException while returning the custom response. Error message: {'code': -32602, 'message': 'Pending transaction'}\n"
     ]
    },
    {
     "name": "stdout",
     "output_type": "stream",
     "text": [
      "Retrying in 1 seconds...\n",
      "************************************************** Status: 1 **************************************************\n",
      "------------------------------------------------------------------------------------------------------------------\n",
      "Calling launchBalanced, with parameters {} on the governance contract.\n",
      "------------------------------------------------------------------------------------------------------------------\n",
      "************************************************** Status: 1 **************************************************\n",
      "{'scoreAddress': 'cxe5f97ee6319cb6cd759f5b80f202ee88f5d03469', 'indexed': ['AssetAdded(Address,str,bool)', 'cxe38604673bb1feb1f8b0c10bb050d49ac89377a9', 'sICX', '0x1'], 'data': []} \n",
      "\n",
      "{'scoreAddress': 'cxe5f97ee6319cb6cd759f5b80f202ee88f5d03469', 'indexed': ['AssetAdded(Address,str,bool)', 'cxe3885a98999e5f53a68061e16d7fc8470110d31b', 'bnUSD', '0x0'], 'data': []} \n",
      "\n",
      "{'scoreAddress': 'cxe5f97ee6319cb6cd759f5b80f202ee88f5d03469', 'indexed': ['AssetAdded(Address,str,bool)', 'cxa143900078da1af384b21761e3d94c76833cea76', 'BALN', '0x1'], 'data': []} \n",
      "\n",
      "{'scoreAddress': 'cxe5f97ee6319cb6cd759f5b80f202ee88f5d03469', 'indexed': ['ContractActive(str,str)', 'Loans'], 'data': ['Active']} \n",
      "\n",
      "------------------------------------------------------------------------------------------------------------------\n",
      "{'loans': {'zip': '../../core_contracts/loans.zip', 'SCORE': 'cxe5f97ee6319cb6cd759f5b80f202ee88f5d03469'}, 'staking': {'zip': '../../core_contracts/staking.zip', 'SCORE': 'cxe80070f13da74e0113f582751a425f4c037e7b11'}, 'dividends': {'zip': '../../core_contracts/dividends.zip', 'SCORE': 'cx9233b295001c65580718397558b984559d155d4c'}, 'reserve': {'zip': '../../core_contracts/reserve.zip', 'SCORE': 'cx4a43ef1906ffe0052b84e7ef86e81b77b2bb8f93'}, 'daofund': {'zip': '../../core_contracts/daofund.zip', 'SCORE': 'cx1aaf4c374eb7ffd28e90451f68df5bece4d48fbc'}, 'rewards': {'zip': '../../core_contracts/rewards.zip', 'SCORE': 'cx0f57b7e2acea5a278d8f28f8b25a209274e5f9a5'}, 'dex': {'zip': '../../core_contracts/dex.zip', 'SCORE': 'cx796dfea322b5b15f94c2d865b1252acb4e85c8fd'}, 'governance': {'zip': '../../core_contracts/governance.zip', 'SCORE': 'cx5987ae16f3779d1fe964b27c1e9b40f026d47003'}, 'oracle': {'zip': '../../core_contracts/oracle.zip', 'SCORE': 'cx7171e2f5653c1b9c000e24228276b8d24e84f10d'}, 'sicx': {'zip': '../../token_contracts/sicx.zip', 'SCORE': 'cxe38604673bb1feb1f8b0c10bb050d49ac89377a9'}, 'bnUSD': {'zip': '../../token_contracts/bnUSD.zip', 'SCORE': 'cxe3885a98999e5f53a68061e16d7fc8470110d31b'}, 'baln': {'zip': '../../token_contracts/baln.zip', 'SCORE': 'cxa143900078da1af384b21761e3d94c76833cea76'}, 'bwt': {'zip': '../../token_contracts/bwt.zip', 'SCORE': 'cxb5ed5f709fdef277518cc1839a345758c8f7eb97'}}\n",
      "{\"loans\": \"cxe5f97ee6319cb6cd759f5b80f202ee88f5d03469\", \"staking\": \"cxe80070f13da74e0113f582751a425f4c037e7b11\", \"dividends\": \"cx9233b295001c65580718397558b984559d155d4c\", \"reserve\": \"cx4a43ef1906ffe0052b84e7ef86e81b77b2bb8f93\", \"daofund\": \"cx1aaf4c374eb7ffd28e90451f68df5bece4d48fbc\", \"rewards\": \"cx0f57b7e2acea5a278d8f28f8b25a209274e5f9a5\", \"dex\": \"cx796dfea322b5b15f94c2d865b1252acb4e85c8fd\", \"governance\": \"cx5987ae16f3779d1fe964b27c1e9b40f026d47003\", \"oracle\": \"cx7171e2f5653c1b9c000e24228276b8d24e84f10d\", \"sicx\": \"cxe38604673bb1feb1f8b0c10bb050d49ac89377a9\", \"bnUSD\": \"cxe3885a98999e5f53a68061e16d7fc8470110d31b\", \"baln\": \"cxa143900078da1af384b21761e3d94c76833cea76\", \"bwt\": \"cxb5ed5f709fdef277518cc1839a345758c8f7eb97\"}\n"
     ]
    }
   ],
   "source": [
    "# Cell 7\n",
    "# Deploy and configure Balanced. Print results if anything goes wrong.\n",
    "\n",
    "results = {}\n",
    "deploy_all(btest_wallet)\n",
    "print('------------------------------------------------------------------------------------------------------------------')\n",
    "print(contracts)\n",
    "print(get_scores_json(contracts))"
   ]
  },
  {
   "cell_type": "code",
   "execution_count": null,
   "metadata": {},
   "outputs": [],
   "source": [
    "# Cell 8\n",
    "# Deploy or Update a single SCORE\n",
    "\n",
    "compress()\n",
    "update = 0\n",
    "contract = contracts['loans']\n",
    "params = {}\n",
    "params = {'_governance': contracts['governance']['SCORE']}\n",
    "deploy_SCORE(contract, params, btest_wallet, update)"
   ]
  },
  {
   "cell_type": "markdown",
   "metadata": {},
   "source": [
    "Test Liquidation"
   ]
  },
  {
   "cell_type": "code",
   "execution_count": 21,
   "metadata": {},
   "outputs": [
    {
     "name": "stdout",
     "output_type": "stream",
     "text": [
      "------------------------------------------------------------------------------------------------------------------\n",
      "Calling toggleTestMode, with parameters {} on the loans contract.\n",
      "------------------------------------------------------------------------------------------------------------------\n"
     ]
    },
    {
     "name": "stderr",
     "output_type": "stream",
     "text": [
      "Raised JSONRPCException while returning the custom response. Error message: {'code': -32602, 'message': 'Pending transaction'}\n"
     ]
    },
    {
     "name": "stdout",
     "output_type": "stream",
     "text": [
      "Retrying in 1 seconds...\n",
      "************************************************** Status: 1 **************************************************\n",
      "liquidating btest_wallet account by depositing 782 icx collateral and minting 2000 bnusd loan\n",
      "------------------------------------------------------------------------------------------------------------------\n",
      "Calling addCollateral, with parameters {'_asset': '', '_amount': 0} on the loans contract.\n",
      "------------------------------------------------------------------------------------------------------------------\n"
     ]
    },
    {
     "name": "stderr",
     "output_type": "stream",
     "text": [
      "Raised JSONRPCException while returning the custom response. Error message: {'code': -32602, 'message': 'Pending transaction'}\n"
     ]
    },
    {
     "name": "stdout",
     "output_type": "stream",
     "text": [
      "Retrying in 1 seconds...\n",
      "************************************************** Status: 1 **************************************************\n",
      "{'scoreAddress': 'cxe5f97ee6319cb6cd759f5b80f202ee88f5d03469', 'indexed': ['ICXTransfer(Address,Address,int)', 'cxe5f97ee6319cb6cd759f5b80f202ee88f5d03469', 'cxe80070f13da74e0113f582751a425f4c037e7b11', '0x2a6f1a22364bbe8000'], 'data': []} \n",
      "\n",
      "{'scoreAddress': 'cxe38604673bb1feb1f8b0c10bb050d49ac89377a9', 'indexed': ['Mint(Address,int,bytes)', 'cxe5f97ee6319cb6cd759f5b80f202ee88f5d03469'], 'data': ['0x2a6f1a22364bbe8000', '0x7b226d6574686f64223a225f6465706f7369745f616e645f626f72726f77222c22706172616d73223a7b225f73656e646572223a22687833663031383430613539396461303762306636323065656165376161396335373431363961346265222c225f6173736574223a22222c225f616d6f756e74223a307d7d']} \n",
      "\n",
      "{'scoreAddress': 'cxe38604673bb1feb1f8b0c10bb050d49ac89377a9', 'indexed': ['Transfer(Address,Address,int,bytes)', 'hx0000000000000000000000000000000000000000', 'cxe5f97ee6319cb6cd759f5b80f202ee88f5d03469', '0x2a6f1a22364bbe8000'], 'data': ['0x7b226d6574686f64223a225f6465706f7369745f616e645f626f72726f77222c22706172616d73223a7b225f73656e646572223a22687833663031383430613539396461303762306636323065656165376161396335373431363961346265222c225f6173736574223a22222c225f616d6f756e74223a307d7d']} \n",
      "\n",
      "{'scoreAddress': 'cxe3885a98999e5f53a68061e16d7fc8470110d31b', 'indexed': ['OraclePrice(str,str,Address,int)', 'USDICX', 'BandChain', 'cx7171e2f5653c1b9c000e24228276b8d24e84f10d'], 'data': ['0x84c5d90848544bb']} \n",
      "\n",
      "{'scoreAddress': 'cxe5f97ee6319cb6cd759f5b80f202ee88f5d03469', 'indexed': ['Snapshot(int)', '0x2'], 'data': []} \n",
      "\n",
      "{'scoreAddress': 'cxe5f97ee6319cb6cd759f5b80f202ee88f5d03469', 'indexed': ['CollateralReceived(Address,str)', 'hx3f01840a599da07b0f620eeae7aa9c574169a4be', 'sICX'], 'data': []} \n",
      "\n",
      "{'scoreAddress': 'cxe80070f13da74e0113f582751a425f4c037e7b11', 'indexed': ['TokenTransfer(Address,int,str)', 'cxe5f97ee6319cb6cd759f5b80f202ee88f5d03469', '0x2a6f1a22364bbe8000'], 'data': ['782 sICX minted to cxe5f97ee6319cb6cd759f5b80f202ee88f5d03469']} \n",
      "\n",
      "------------------------------------------------------------------------------------------------------------------\n",
      "Reading getAccountPositions, with parameters {'_owner': 'hx3f01840a599da07b0f620eeae7aa9c574169a4be'} on the loans contract.\n",
      "------------------------------------------------------------------------------------------------------------------\n",
      "{'pos_id': '0x1', 'created': '0x5c012f9ed3c82', 'address': 'hx3f01840a599da07b0f620eeae7aa9c574169a4be', 'snap_id': '0x2', 'snaps_length': '0x1', 'last_snap': '0x2', 'first day': '0x2', 'assets': {'sICX': '0x2a6f1a22364bbe8000'}, 'total_debt': '0x0', 'collateral': '0x2a6f1a22364bbe8000', 'ratio': '0x0', 'standing': 'No Debt'}\n",
      "------------------------------------------------------------------------------------------------------------------\n",
      "Calling create_test_position, with parameters {'_address': 'hx3f01840a599da07b0f620eeae7aa9c574169a4be', '_asset': 'bnUSD', '_amount': 2000000000000000000000} on the loans contract.\n",
      "------------------------------------------------------------------------------------------------------------------\n",
      "************************************************** Status: 1 **************************************************\n",
      "{'scoreAddress': 'cxe5f97ee6319cb6cd759f5b80f202ee88f5d03469', 'indexed': ['ICXTransfer(Address,Address,int)', 'cxe5f97ee6319cb6cd759f5b80f202ee88f5d03469', 'cxe80070f13da74e0113f582751a425f4c037e7b11', '0x258'], 'data': []} \n",
      "\n",
      "{'scoreAddress': 'cxe38604673bb1feb1f8b0c10bb050d49ac89377a9', 'indexed': ['Mint(Address,int,bytes)', 'cxe5f97ee6319cb6cd759f5b80f202ee88f5d03469'], 'data': ['0x258', '0x7b226d6574686f64223a225f6465706f7369745f616e645f626f72726f77222c22706172616d73223a7b225f73656e646572223a22687833663031383430613539396461303762306636323065656165376161396335373431363961346265222c225f6173736574223a22222c225f616d6f756e74223a307d7d']} \n",
      "\n",
      "{'scoreAddress': 'cxe38604673bb1feb1f8b0c10bb050d49ac89377a9', 'indexed': ['Transfer(Address,Address,int,bytes)', 'hx0000000000000000000000000000000000000000', 'cxe5f97ee6319cb6cd759f5b80f202ee88f5d03469', '0x258'], 'data': ['0x7b226d6574686f64223a225f6465706f7369745f616e645f626f72726f77222c22706172616d73223a7b225f73656e646572223a22687833663031383430613539396461303762306636323065656165376161396335373431363961346265222c225f6173736574223a22222c225f616d6f756e74223a307d7d']} \n",
      "\n",
      "{'scoreAddress': 'cxa143900078da1af384b21761e3d94c76833cea76', 'indexed': ['Mint(Address,int,bytes)', 'cx0f57b7e2acea5a278d8f28f8b25a209274e5f9a5'], 'data': ['0x152d02c7e14af6800000', '0x4e6f6e65']} \n",
      "\n",
      "{'scoreAddress': 'cxa143900078da1af384b21761e3d94c76833cea76', 'indexed': ['Transfer(Address,Address,int,bytes)', 'hx0000000000000000000000000000000000000000', 'cx0f57b7e2acea5a278d8f28f8b25a209274e5f9a5', '0x152d02c7e14af6800000'], 'data': ['0x4e6f6e65']} \n",
      "\n",
      "{'scoreAddress': 'cxa143900078da1af384b21761e3d94c76833cea76', 'indexed': ['Transfer(Address,Address,int,bytes)', 'cx0f57b7e2acea5a278d8f28f8b25a209274e5f9a5', 'cxb5ed5f709fdef277518cc1839a345758c8f7eb97', '0x43c33c1937564800000'], 'data': ['0x4e6f6e65']} \n",
      "\n",
      "{'scoreAddress': 'cxa143900078da1af384b21761e3d94c76833cea76', 'indexed': ['Transfer(Address,Address,int,bytes)', 'cx0f57b7e2acea5a278d8f28f8b25a209274e5f9a5', 'cx4a43ef1906ffe0052b84e7ef86e81b77b2bb8f93', '0x10f0cf064dd59200000'], 'data': ['0x4e6f6e65']} \n",
      "\n",
      "{'scoreAddress': 'cxa143900078da1af384b21761e3d94c76833cea76', 'indexed': ['Transfer(Address,Address,int,bytes)', 'cx0f57b7e2acea5a278d8f28f8b25a209274e5f9a5', 'cx1aaf4c374eb7ffd28e90451f68df5bece4d48fbc', '0x4c3ba39c5e411100000'], 'data': ['0x4e6f6e65']} \n",
      "\n",
      "{'scoreAddress': 'cxe5f97ee6319cb6cd759f5b80f202ee88f5d03469', 'indexed': ['CollateralReceived(Address,str)', 'hx3f01840a599da07b0f620eeae7aa9c574169a4be', 'sICX'], 'data': []} \n",
      "\n",
      "{'scoreAddress': 'cxe80070f13da74e0113f582751a425f4c037e7b11', 'indexed': ['TokenTransfer(Address,int,str)', 'cxe5f97ee6319cb6cd759f5b80f202ee88f5d03469', '0x258'], 'data': ['0 sICX minted to cxe5f97ee6319cb6cd759f5b80f202ee88f5d03469']} \n",
      "\n",
      "{'scoreAddress': 'cxe3885a98999e5f53a68061e16d7fc8470110d31b', 'indexed': ['Mint(Address,int,bytes)', 'hx3f01840a599da07b0f620eeae7aa9c574169a4be'], 'data': ['0x6c6b935b8bbd400000', '0x4e6f6e65']} \n",
      "\n",
      "{'scoreAddress': 'cxe3885a98999e5f53a68061e16d7fc8470110d31b', 'indexed': ['Transfer(Address,Address,int,bytes)', 'hx0000000000000000000000000000000000000000', 'hx3f01840a599da07b0f620eeae7aa9c574169a4be', '0x6c6b935b8bbd400000'], 'data': ['0x4e6f6e65']} \n",
      "\n",
      "------------------------------------------------------------------------------------------------------------------\n",
      "Reading getAccountPositions, with parameters {'_owner': 'hx3f01840a599da07b0f620eeae7aa9c574169a4be'} on the loans contract.\n",
      "------------------------------------------------------------------------------------------------------------------\n",
      "{'pos_id': '0x1', 'created': '0x5c012f9ed3c82', 'address': 'hx3f01840a599da07b0f620eeae7aa9c574169a4be', 'snap_id': '0x2', 'snaps_length': '0x1', 'last_snap': '0x2', 'first day': '0x2', 'assets': {'sICX': '0x2a6f1a22364bbe8258', 'bnUSD': '0x6c6b935b8bbd400000'}, 'total_debt': '0x40d49af90b5128f4f0', 'collateral': '0x2a6f1a22364bbe8258', 'ratio': '0x91562787dee9fa0', 'standing': 'Liquidate'}\n",
      "------------------------------------------------------------------------------------------------------------------\n",
      "Calling liquidate, with parameters {'_owner': 'hx3f01840a599da07b0f620eeae7aa9c574169a4be'} on the loans contract.\n",
      "------------------------------------------------------------------------------------------------------------------\n",
      "************************************************** Status: 1 **************************************************\n",
      "{'scoreAddress': 'cxe5f97ee6319cb6cd759f5b80f202ee88f5d03469', 'indexed': ['PositionStanding(Address,str,int,str)', 'hx3f01840a599da07b0f620eeae7aa9c574169a4be', 'Liquidate'], 'data': ['0x91562787dee9fa0', 'Position up to date.']} \n",
      "\n",
      "{'scoreAddress': 'cxe38604673bb1feb1f8b0c10bb050d49ac89377a9', 'indexed': ['Transfer(Address,Address,int,bytes)', 'cxe5f97ee6319cb6cd759f5b80f202ee88f5d03469', 'hx3f01840a599da07b0f620eeae7aa9c574169a4be', '0x48c86487af753804'], 'data': ['0x4e6f6e65']} \n",
      "\n",
      "{'scoreAddress': 'cxe5f97ee6319cb6cd759f5b80f202ee88f5d03469', 'indexed': ['TokenTransfer(Address,int,str)', 'hx3f01840a599da07b0f620eeae7aa9c574169a4be', '0x48c86487af753804'], 'data': ['Liquidation reward of 5244552300000000004 sICX sent to hx3f01840a599da07b0f620eeae7aa9c574169a4be.']} \n",
      "\n",
      "{'scoreAddress': 'cxe5f97ee6319cb6cd759f5b80f202ee88f5d03469', 'indexed': ['Liquidate(Address,int,str)', 'hx3f01840a599da07b0f620eeae7aa9c574169a4be', '0x2a6f1a22364bbe8258'], 'data': ['782769000000000000600 liquidated from hx3f01840a599da07b0f620eeae7aa9c574169a4be']} \n",
      "\n",
      "------------------------------------------------------------------------------------------------------------------\n",
      "Reading getAccountPositions, with parameters {'_owner': 'hx3f01840a599da07b0f620eeae7aa9c574169a4be'} on the loans contract.\n",
      "------------------------------------------------------------------------------------------------------------------\n"
     ]
    },
    {
     "name": "stdout",
     "output_type": "stream",
     "text": [
      "{'pos_id': '0x1', 'created': '0x5c012f9ed3c82', 'address': 'hx3f01840a599da07b0f620eeae7aa9c574169a4be', 'snap_id': '0x2', 'snaps_length': '0x1', 'last_snap': '0x2', 'first day': '0x2', 'assets': {'sICX': '0x0'}, 'total_debt': '0x0', 'collateral': '0x0', 'ratio': '0x0', 'standing': 'Zero'}\n",
      "Test Successfull\n",
      "............................................\n",
      "liquidating btest_wallet account by depositing 782 icx collateral and minting 1500 bnusd loan\n",
      "------------------------------------------------------------------------------------------------------------------\n",
      "Calling addCollateral, with parameters {'_asset': '', '_amount': 0} on the loans contract.\n",
      "------------------------------------------------------------------------------------------------------------------\n"
     ]
    },
    {
     "name": "stderr",
     "output_type": "stream",
     "text": [
      "Raised JSONRPCException while returning the custom response. Error message: {'code': -32602, 'message': 'Pending transaction'}\n"
     ]
    },
    {
     "name": "stdout",
     "output_type": "stream",
     "text": [
      "Retrying in 1 seconds...\n",
      "************************************************** Status: 1 **************************************************\n",
      "{'scoreAddress': 'cxe5f97ee6319cb6cd759f5b80f202ee88f5d03469', 'indexed': ['ICXTransfer(Address,Address,int)', 'cxe5f97ee6319cb6cd759f5b80f202ee88f5d03469', 'cxe80070f13da74e0113f582751a425f4c037e7b11', '0x2a6f1a22364bbe8000'], 'data': []} \n",
      "\n",
      "{'scoreAddress': 'cxe38604673bb1feb1f8b0c10bb050d49ac89377a9', 'indexed': ['Mint(Address,int,bytes)', 'cxe5f97ee6319cb6cd759f5b80f202ee88f5d03469'], 'data': ['0x2a6f1a22364bbe8000', '0x7b226d6574686f64223a225f6465706f7369745f616e645f626f72726f77222c22706172616d73223a7b225f73656e646572223a22687833663031383430613539396461303762306636323065656165376161396335373431363961346265222c225f6173736574223a22222c225f616d6f756e74223a307d7d']} \n",
      "\n",
      "{'scoreAddress': 'cxe38604673bb1feb1f8b0c10bb050d49ac89377a9', 'indexed': ['Transfer(Address,Address,int,bytes)', 'hx0000000000000000000000000000000000000000', 'cxe5f97ee6319cb6cd759f5b80f202ee88f5d03469', '0x2a6f1a22364bbe8000'], 'data': ['0x7b226d6574686f64223a225f6465706f7369745f616e645f626f72726f77222c22706172616d73223a7b225f73656e646572223a22687833663031383430613539396461303762306636323065656165376161396335373431363961346265222c225f6173736574223a22222c225f616d6f756e74223a307d7d']} \n",
      "\n",
      "{'scoreAddress': 'cxe5f97ee6319cb6cd759f5b80f202ee88f5d03469', 'indexed': ['CollateralReceived(Address,str)', 'hx3f01840a599da07b0f620eeae7aa9c574169a4be', 'sICX'], 'data': []} \n",
      "\n",
      "{'scoreAddress': 'cxe80070f13da74e0113f582751a425f4c037e7b11', 'indexed': ['TokenTransfer(Address,int,str)', 'cxe5f97ee6319cb6cd759f5b80f202ee88f5d03469', '0x2a6f1a22364bbe8000'], 'data': ['782 sICX minted to cxe5f97ee6319cb6cd759f5b80f202ee88f5d03469']} \n",
      "\n",
      "------------------------------------------------------------------------------------------------------------------\n",
      "Reading getAccountPositions, with parameters {'_owner': 'hx3f01840a599da07b0f620eeae7aa9c574169a4be'} on the loans contract.\n",
      "------------------------------------------------------------------------------------------------------------------\n",
      "{'pos_id': '0x1', 'created': '0x5c012f9ed3c82', 'address': 'hx3f01840a599da07b0f620eeae7aa9c574169a4be', 'snap_id': '0x2', 'snaps_length': '0x1', 'last_snap': '0x2', 'first day': '0x2', 'assets': {'sICX': '0x2a6f1a22364bbe8000'}, 'total_debt': '0x0', 'collateral': '0x2a6f1a22364bbe8000', 'ratio': '0x0', 'standing': 'No Debt'}\n",
      "------------------------------------------------------------------------------------------------------------------\n",
      "Calling create_test_position, with parameters {'_address': 'hx3f01840a599da07b0f620eeae7aa9c574169a4be', '_asset': 'bnUSD', '_amount': 1500000000000000000000} on the loans contract.\n",
      "------------------------------------------------------------------------------------------------------------------\n"
     ]
    },
    {
     "name": "stderr",
     "output_type": "stream",
     "text": [
      "Raised JSONRPCException while returning the custom response. Error message: {'code': -32602, 'message': 'Pending transaction'}\n"
     ]
    },
    {
     "name": "stdout",
     "output_type": "stream",
     "text": [
      "Retrying in 1 seconds...\n",
      "************************************************** Status: 1 **************************************************\n",
      "{'scoreAddress': 'cxe5f97ee6319cb6cd759f5b80f202ee88f5d03469', 'indexed': ['ICXTransfer(Address,Address,int)', 'cxe5f97ee6319cb6cd759f5b80f202ee88f5d03469', 'cxe80070f13da74e0113f582751a425f4c037e7b11', '0x258'], 'data': []} \n",
      "\n",
      "{'scoreAddress': 'cxe38604673bb1feb1f8b0c10bb050d49ac89377a9', 'indexed': ['Mint(Address,int,bytes)', 'cxe5f97ee6319cb6cd759f5b80f202ee88f5d03469'], 'data': ['0x258', '0x7b226d6574686f64223a225f6465706f7369745f616e645f626f72726f77222c22706172616d73223a7b225f73656e646572223a22687833663031383430613539396461303762306636323065656165376161396335373431363961346265222c225f6173736574223a22222c225f616d6f756e74223a307d7d']} \n",
      "\n",
      "{'scoreAddress': 'cxe38604673bb1feb1f8b0c10bb050d49ac89377a9', 'indexed': ['Transfer(Address,Address,int,bytes)', 'hx0000000000000000000000000000000000000000', 'cxe5f97ee6319cb6cd759f5b80f202ee88f5d03469', '0x258'], 'data': ['0x7b226d6574686f64223a225f6465706f7369745f616e645f626f72726f77222c22706172616d73223a7b225f73656e646572223a22687833663031383430613539396461303762306636323065656165376161396335373431363961346265222c225f6173736574223a22222c225f616d6f756e74223a307d7d']} \n",
      "\n",
      "{'scoreAddress': 'cxe5f97ee6319cb6cd759f5b80f202ee88f5d03469', 'indexed': ['CollateralReceived(Address,str)', 'hx3f01840a599da07b0f620eeae7aa9c574169a4be', 'sICX'], 'data': []} \n",
      "\n",
      "{'scoreAddress': 'cxe80070f13da74e0113f582751a425f4c037e7b11', 'indexed': ['TokenTransfer(Address,int,str)', 'cxe5f97ee6319cb6cd759f5b80f202ee88f5d03469', '0x258'], 'data': ['0 sICX minted to cxe5f97ee6319cb6cd759f5b80f202ee88f5d03469']} \n",
      "\n",
      "{'scoreAddress': 'cxe3885a98999e5f53a68061e16d7fc8470110d31b', 'indexed': ['Mint(Address,int,bytes)', 'hx3f01840a599da07b0f620eeae7aa9c574169a4be'], 'data': ['0x5150ae84a8cdf00000', '0x4e6f6e65']} \n",
      "\n",
      "{'scoreAddress': 'cxe3885a98999e5f53a68061e16d7fc8470110d31b', 'indexed': ['Transfer(Address,Address,int,bytes)', 'hx0000000000000000000000000000000000000000', 'hx3f01840a599da07b0f620eeae7aa9c574169a4be', '0x5150ae84a8cdf00000'], 'data': ['0x4e6f6e65']} \n",
      "\n",
      "------------------------------------------------------------------------------------------------------------------\n",
      "Reading getAccountPositions, with parameters {'_owner': 'hx3f01840a599da07b0f620eeae7aa9c574169a4be'} on the loans contract.\n",
      "------------------------------------------------------------------------------------------------------------------\n",
      "{'pos_id': '0x1', 'created': '0x5c012f9ed3c82', 'address': 'hx3f01840a599da07b0f620eeae7aa9c574169a4be', 'snap_id': '0x2', 'snaps_length': '0x1', 'last_snap': '0x2', 'first day': '0x2', 'assets': {'sICX': '0x2a6f1a22364bbe8258', 'bnUSD': '0x5150ae84a8cdf00000'}, 'total_debt': '0x309f743ac87cdeb7b4', 'collateral': '0x2a6f1a22364bbe8258', 'ratio': '0xc1c834b52937f80', 'standing': 'Liquidate'}\n",
      "------------------------------------------------------------------------------------------------------------------\n",
      "Calling liquidate, with parameters {'_owner': 'hx3f01840a599da07b0f620eeae7aa9c574169a4be'} on the loans contract.\n",
      "------------------------------------------------------------------------------------------------------------------\n"
     ]
    },
    {
     "name": "stderr",
     "output_type": "stream",
     "text": [
      "Raised JSONRPCException while returning the custom response. Error message: {'code': -32602, 'message': 'Pending transaction'}\n"
     ]
    },
    {
     "name": "stdout",
     "output_type": "stream",
     "text": [
      "Retrying in 1 seconds...\n",
      "************************************************** Status: 1 **************************************************\n",
      "{'scoreAddress': 'cxe5f97ee6319cb6cd759f5b80f202ee88f5d03469', 'indexed': ['PositionStanding(Address,str,int,str)', 'hx3f01840a599da07b0f620eeae7aa9c574169a4be', 'Liquidate'], 'data': ['0xc1c834b52937f80', 'Position up to date.']} \n",
      "\n",
      "{'scoreAddress': 'cxe38604673bb1feb1f8b0c10bb050d49ac89377a9', 'indexed': ['Transfer(Address,Address,int,bytes)', 'cxe5f97ee6319cb6cd759f5b80f202ee88f5d03469', 'hx3f01840a599da07b0f620eeae7aa9c574169a4be', '0x48c86487af753804'], 'data': ['0x4e6f6e65']} \n",
      "\n",
      "{'scoreAddress': 'cxe5f97ee6319cb6cd759f5b80f202ee88f5d03469', 'indexed': ['TokenTransfer(Address,int,str)', 'hx3f01840a599da07b0f620eeae7aa9c574169a4be', '0x48c86487af753804'], 'data': ['Liquidation reward of 5244552300000000004 sICX sent to hx3f01840a599da07b0f620eeae7aa9c574169a4be.']} \n",
      "\n",
      "{'scoreAddress': 'cxe5f97ee6319cb6cd759f5b80f202ee88f5d03469', 'indexed': ['Liquidate(Address,int,str)', 'hx3f01840a599da07b0f620eeae7aa9c574169a4be', '0x2a6f1a22364bbe8258'], 'data': ['782769000000000000600 liquidated from hx3f01840a599da07b0f620eeae7aa9c574169a4be']} \n",
      "\n",
      "------------------------------------------------------------------------------------------------------------------\n",
      "Reading getAccountPositions, with parameters {'_owner': 'hx3f01840a599da07b0f620eeae7aa9c574169a4be'} on the loans contract.\n",
      "------------------------------------------------------------------------------------------------------------------\n",
      "{'pos_id': '0x1', 'created': '0x5c012f9ed3c82', 'address': 'hx3f01840a599da07b0f620eeae7aa9c574169a4be', 'snap_id': '0x2', 'snaps_length': '0x1', 'last_snap': '0x2', 'first day': '0x2', 'assets': {'sICX': '0x0'}, 'total_debt': '0x0', 'collateral': '0x0', 'ratio': '0x0', 'standing': 'Zero'}\n",
      "Test Successfull\n",
      "............................................\n"
     ]
    }
   ],
   "source": [
    "# Cell 10\n",
    "# 1. Deposit collateral to fresh wallet\n",
    "# 2. Once Call toggleTestMode to on test mode \n",
    "# 3. Check the account standing after depositing collateral - Should be 'No Debt', and\n",
    "#    holding '0x2a6f1a22364bbe8000' worth of sICX.\n",
    "# 3a. Mints bnUSD to the test address without checking collateralization ratio\n",
    "#     With the above collateral deposit it will put the position in a standing of Liquidation.\n",
    "# 4. Check the new standing of the account. Should have added '0xad78ebc5ac6200000' bnUSD and have standing of 'Liquidate'.\n",
    "#    if not 'Liquidate' then again call 'create_test_position' method\n",
    "# 5. Call liquidate method \n",
    "# 6. Check account position , if the account standing is 'Zero' ,the account is liquidated and test successfull\n",
    "\n",
    "test_cases = {\n",
    "        \"stories\":[{\n",
    "            \"description\": \"liquidating btest_wallet account by depositing 782 icx collateral and minting 2000 bnusd loan\",\n",
    "            \"actions\":{\n",
    "                \"deposited_icx\": 782769 * ICX // 1000,\n",
    "                \"test_icx\": 600,\n",
    "                \"test_bnUSD\": 2000 * ICX,\n",
    "                \"expected_initial_position\": \"No Debt\",\n",
    "                \"expected_position\":\"Liquidate\",\n",
    "                \"expected_result\":\"Zero\"\n",
    "            }\n",
    "        },\n",
    "        {\n",
    "           \"description\": \"liquidating btest_wallet account by depositing 782 icx collateral and minting 1500 bnusd loan\",\n",
    "            \"actions\":{\n",
    "                \"deposited_icx\": 782769 * ICX // 1000,\n",
    "                \"test_icx\": 600,\n",
    "                \"test_bnUSD\": 1500 * ICX,\n",
    "                \"expected_initial_position\": \"No Debt\",\n",
    "                \"expected_position\":\"Liquidate\",\n",
    "                \"expected_result\":\"Zero\"\n",
    "            } \n",
    "        }\n",
    "    ]\n",
    "}\n",
    "\n",
    "send_tx('loans', 0, 'toggleTestMode', {}, btest_wallet)\n",
    "for case in test_cases['stories']:\n",
    "    print(case['description'])\n",
    "    \n",
    "    _icx = case['actions']['deposited_icx']\n",
    "    _test_icx = case['actions']['test_icx']\n",
    "    _test_bnUSD = case['actions']['test_bnUSD']\n",
    "\n",
    "    \n",
    "    send_tx('loans', _icx, 'addCollateral', {'_asset': '', '_amount': 0}, btest_wallet)\n",
    "\n",
    "    \n",
    "    res = call_tx('loans', 'getAccountPositions', {'_owner': btest_wallet.get_address()})\n",
    "    assert res['standing'] == case['actions']['expected_initial_position'] and res['assets']['sICX'] == '0x2a6f1a22364bbe8000' , 'Test case failed for liquidation'\n",
    "    send_tx('loans', _test_icx, 'create_test_position', {'_address': btest_wallet.get_address(), '_asset': 'bnUSD', '_amount': _test_bnUSD}, btest_wallet)\n",
    "\n",
    "#     res = call_tx('loans', 'getAccountPositions', {'_owner': btest_wallet.get_address()})\n",
    "#     assert res['standing'] != case['actions']['expected_position'], 'Test case failed for liquidation'\n",
    "#     print('.....Calling create_test_position 2nd time......')\n",
    "#     send_tx('loans', _test_icx, 'create_test_position', {'_address': btest_wallet.get_address(), '_asset': 'bnUSD', '_amount': _test_bnUSD}, btest_wallet)\n",
    "\n",
    "    res = call_tx('loans', 'getAccountPositions', {'_owner': btest_wallet.get_address()})\n",
    "    assert res['standing'] == case['actions']['expected_position'], 'Test case failed for liquidation'\n",
    "    send_tx('loans', 0, 'liquidate', {'_owner': btest_wallet.get_address()}, btest_wallet)\n",
    "\n",
    "\n",
    "    res = call_tx('loans', 'getAccountPositions', {'_owner': btest_wallet.get_address()})\n",
    "    assert res['standing'] == case['actions']['expected_result']\n",
    "    print(\"Test Successfull\")\n",
    "    print('............................................')\n",
    "\n"
   ]
  },
  {
   "cell_type": "code",
   "execution_count": null,
   "metadata": {},
   "outputs": [],
   "source": []
  }
 ],
 "metadata": {
  "kernelspec": {
   "display_name": "Python 3",
   "language": "python",
   "name": "python3"
  },
  "language_info": {
   "codemirror_mode": {
    "name": "ipython",
    "version": 3
   },
   "file_extension": ".py",
   "mimetype": "text/x-python",
   "name": "python",
   "nbconvert_exporter": "python",
   "pygments_lexer": "ipython3",
   "version": "3.7.6"
  }
 },
 "nbformat": 4,
 "nbformat_minor": 4
}
