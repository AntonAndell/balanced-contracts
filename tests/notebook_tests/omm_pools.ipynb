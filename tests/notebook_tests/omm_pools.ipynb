{
 "cells": [
  {
   "cell_type": "code",
   "execution_count": 1,
   "metadata": {},
   "outputs": [],
   "source": [
    "# Cell 0\n",
    "# If at all possible please test locally or on the private tbears server. The Testnet\n",
    "# is becoming cluttered with many deployments of Balanced contracts.\n",
    "# Note that running on the private tbears server will require the number of top P-Reps \n",
    "# be set to 4 in the staking contract or it will fail to deploy.\n",
    "\n",
    "network = \"yeouido\"  # set this to one of mainnet, yeouido, euljiro, pagoda, or custom\n",
    "\n",
    "connections = {\n",
    "\"mainnet\": {\"iconservice\": \"https://ctz.solidwallet.io\",       \"nid\": 1},\n",
    "\"yeouido\": {\"iconservice\": \"https://bicon.net.solidwallet.io\", \"nid\": 3},\n",
    "\"gangnam\": {\"iconservice\": \"https://gicon.net.solidwallet.io\", \"nid\": 3},\n",
    "\"hannam\": {\"iconservice\": \"https://hannam.net.solidwallet.io\", \"nid\": 3},\n",
    "\"euljiro\": {\"iconservice\": \"https://test-ctz.solidwallet.io\",  \"nid\": 2},\n",
    "\"pagoda\":  {\"iconservice\": \"https://zicon.net.solidwallet.io\", \"nid\":80},\n",
    "\"custom\":  {\"iconservice\": \"http://18.144.108.38:9000\",        \"nid\": 3}}\n",
    "\n",
    "env = connections[network]"
   ]
  },
  {
   "cell_type": "code",
   "execution_count": 2,
   "metadata": {},
   "outputs": [],
   "source": [
    "# Cell 1\n",
    "import sys\n",
    "import time\n",
    "sys.path.append(\"..\")\n",
    "from iconsdk.exception import JSONRPCException\n",
    "from iconsdk.libs.in_memory_zip import gen_deploy_data_content\n",
    "from iconsdk.icon_service import IconService\n",
    "from iconsdk.providers.http_provider import HTTPProvider\n",
    "from iconsdk.builder.transaction_builder import CallTransactionBuilder, TransactionBuilder, DeployTransactionBuilder\n",
    "from iconsdk.builder.call_builder import CallBuilder\n",
    "from iconsdk.signed_transaction import SignedTransaction\n",
    "from iconsdk.wallet.wallet import KeyWallet\n",
    "from iconsdk.utils.convert_type import convert_hex_str_to_int\n",
    "from repeater import retry\n",
    "from shutil import make_archive\n",
    "import pickle as pkl\n",
    "from datetime import datetime\n",
    "from time import sleep\n",
    "import json\n",
    "import os\n",
    "\n",
    "\n",
    "ICX = 1000000000000000000 # 10**18\n",
    "GOVERNANCE_ADDRESS = \"cx0000000000000000000000000000000000000000\"\n",
    "TEST_ORACLE = \"cx61a36e5d10412e03c907a507d1e8c6c3856d9964\"\n",
    "MAIN_ORACLE = \"cxe647e0af68a4661566f5e9861ad4ac854de808a2\"\n",
    "BALANCED_TEST = \"hx3f01840a599da07b0f620eeae7aa9c574169a4be\"\n",
    "\n",
    "@retry(JSONRPCException, tries=10, delay=1, back_off=2)\n",
    "def get_tx_result(_tx_hash):\n",
    "    tx_result = icon_service.get_transaction_result(_tx_hash)\n",
    "    return tx_result"
   ]
  },
  {
   "cell_type": "code",
   "execution_count": 3,
   "metadata": {},
   "outputs": [],
   "source": [
    "# Cell 2\n",
    "\n",
    "icon_service = IconService(HTTPProvider(env[\"iconservice\"], 3))\n",
    "NID = env[\"nid\"]"
   ]
  },
  {
   "cell_type": "code",
   "execution_count": 4,
   "metadata": {},
   "outputs": [],
   "source": [
    "# Cell 3\n",
    "\n",
    "wallet = KeyWallet.load(\"../keystores/keystore_test1.json\", \"test1_Account\")\n",
    "# Balanced test wallet\n",
    "with open(\"../keystores/balanced_test.pwd\", \"r\") as f:\n",
    "    key_data = f.read()\n",
    "btest_wallet = KeyWallet.load(\"../keystores/balanced_test.json\", key_data)\n",
    "with open(\"../keystores/staking_test.pwd\", \"r\") as f:\n",
    "    key_data = f.read()\n",
    "staking_wallet = KeyWallet.load(\"../keystores/staking_test.json\", key_data)\n"
   ]
  },
  {
   "cell_type": "code",
   "execution_count": 5,
   "metadata": {},
   "outputs": [
    {
     "name": "stdout",
     "output_type": "stream",
     "text": [
      "hxe7af5fcfd8dfc67530a01a0e403882687528dfcb\n",
      "2137.702344229458\n"
     ]
    }
   ],
   "source": [
    "print(wallet.get_address())\n",
    "print(icon_service.get_balance(wallet.get_address()) / 10**18)"
   ]
  },
  {
   "cell_type": "code",
   "execution_count": 22,
   "metadata": {},
   "outputs": [
    {
     "name": "stdout",
     "output_type": "stream",
     "text": [
      "hx3f01840a599da07b0f620eeae7aa9c574169a4be\n",
      "767844.4277865621\n"
     ]
    }
   ],
   "source": [
    "print(btest_wallet.get_address())\n",
    "print(icon_service.get_balance(btest_wallet.get_address()) / 10**18)"
   ]
  },
  {
   "cell_type": "code",
   "execution_count": 6,
   "metadata": {},
   "outputs": [
    {
     "name": "stdout",
     "output_type": "stream",
     "text": [
      "2236.3532934\n",
      "hxe62d11fa19a0e8575ad92f06bc8fd42edbfe27db\n",
      "2390.4148214\n",
      "hx7a1824129a8fe803e45a3aae1c0e060399546187\n"
     ]
    }
   ],
   "source": [
    "user1 = KeyWallet.load(\"../keystores/user1.json\",\"HelloWorld@1234\")\n",
    "# btest_wallet = KeyWallet.load(\"./balanced_test.json\",\"HelloWorld@1234\")\n",
    "\n",
    "print(icon_service.get_balance(user1.get_address())/10**18)\n",
    "print(user1.get_address())\n",
    "\n",
    "# test2 = hx7a1824129a8fe803e45a3aae1c0e060399546187\n",
    "private = \"0a354424b20a7e3c55c43808d607bddfac85d033e63d7d093cb9f0a26c4ee022\"\n",
    "user2 = KeyWallet.load(bytes.fromhex(private))\n",
    "print(icon_service.get_balance(user2.get_address())/10**18)\n",
    "print(user2.get_address())"
   ]
  },
  {
   "cell_type": "code",
   "execution_count": 7,
   "metadata": {},
   "outputs": [],
   "source": [
    "# Cell 5a\n",
    "# The following addresses are those deployed to the private tbears server.\n",
    "\n",
    "contracts = {'loans': {'zip': 'core_contracts/loans.zip',\n",
    "  'SCORE': 'cx3259f3ff9a51ca3bf170d4ff9104cf4af126ca1c'},\n",
    " 'staking': {'zip': 'core_contracts/staking.zip',\n",
    "  'SCORE': 'cx9d829396d887f9292d8af488fab78ad24ab6b99a'},\n",
    " 'dividends': {'zip': 'core_contracts/dividends.zip',\n",
    "  'SCORE': 'cx1379084f45776301abda3849c6e374f460ee0155'},\n",
    " 'reserve': {'zip': 'core_contracts/reserve.zip',\n",
    "  'SCORE': 'cx71dda2221bf88faddc8f84b72ffd6db296e5609e'},\n",
    " 'daofund': {'zip': 'core_contracts/daofund.zip',\n",
    "  'SCORE': 'cxfd09787f23d23b945fa0c7eb55b5aa69425da1c8'},\n",
    " 'rewards': {'zip': 'core_contracts/rewards.zip',\n",
    "  'SCORE': 'cx893fccdd0881d8e2bd2625f711b38e06848ecb89'},\n",
    " 'dex': {'zip': 'core_contracts/dex.zip',\n",
    "  'SCORE': 'cx399dea56cf199b1c9e43bead0f6a284bdecfbf62'},\n",
    " 'governance': {'zip': 'core_contracts/governance.zip',\n",
    "  'SCORE': 'cx483630769b61b76387d6ed90c911c16da546784f'},\n",
    " 'oracle': {'zip': 'core_contracts/oracle.zip',\n",
    "  'SCORE': 'cxed97bdb35a7ca1b3993e400e4dba9e11610338f7'},\n",
    " 'sicx': {'zip': 'token_contracts/sicx.zip',\n",
    "  'SCORE': 'cxae6334850f13dfd8b50f8544d5acb126bb8ef82d'},\n",
    " 'bnUSD': {'zip': 'token_contracts/bnUSD.zip',\n",
    "  'SCORE': 'cxc48c9c81ceef04445c961c5cc8ff056d733dfe3a'},\n",
    " 'bnXLM': {'zip': 'token_contracts/bnXLM.zip',\n",
    "  'SCORE': 'cx266bdc0c35828c8130cdf1cbaa3ad109f7694722'},\n",
    " 'bnDOGE': {'zip': 'token_contracts/bnDOGE.zip',\n",
    "  'SCORE': 'cx266bdc0c35828c8130cdf1cbaa3ad109f7694722'},\n",
    " 'baln': {'zip': 'token_contracts/baln.zip',\n",
    "  'SCORE': 'cx4d0768508a7ff550de4405f27aebfb8831565c19'},\n",
    " 'bwt': {'zip': 'token_contracts/bwt.zip',\n",
    "  'SCORE': 'cx663f9d59163846d9f6c6f7b586858c59aa8878a9'}}"
   ]
  },
  {
   "cell_type": "code",
   "execution_count": 10,
   "metadata": {},
   "outputs": [],
   "source": [
    "contracts = {\"loans\": \"cx3259f3ff9a51ca3bf170d4ff9104cf4af126ca1c\", \"staking\": \"cx9d829396d887f9292d8af488fab78ad24ab6b99a\", \"dividends\": \"cx203d9cd2a669be67177e997b8948ce2c35caffae\", \"reserve\": \"cx1754666c6779dc5e495a462144dd15e4a68fe776\", \"daofund\": \"cx430955c5a5e2a6e48c1f2aaa7258dc4c84222247\", \"rewards\": \"cx893fccdd0881d8e2bd2625f711b38e06848ecb89\", \"dex\": \"cx399dea56cf199b1c9e43bead0f6a284bdecfbf62\", \"governance\": \"cx483630769b61b76387d6ed90c911c16da546784f\", \"oracle\": \"cx61a36e5d10412e03c907a507d1e8c6c3856d9964\", \"sicx\": \"cxae6334850f13dfd8b50f8544d5acb126bb8ef82d\", \"bnUSD\": \"cxc48c9c81ceef04445c961c5cc8ff056d733dfe3a\", \"bnXLM\": \"cx4a1179d3ff8c692c4b20bfab2a2038ef79811002\", \"bnDOGE\": \"cxa40ff2a028d4def5ae12ae82a188ad4eb051ab1f\", \"baln\": \"cx36169736b39f59bf19e8950f6c8fa4bfa18b710a\", \"bwt\": \"cx5d886977b7d24b9f73a460c9ca2d43847997c285\"}"
   ]
  },
  {
   "cell_type": "code",
   "execution_count": 8,
   "metadata": {},
   "outputs": [],
   "source": [
    "# Cell 6\n",
    "# Define deploy and send_tx functions\n",
    "\n",
    "def send_icx(to, amount, wallet):\n",
    "    transaction = TransactionBuilder()\\\n",
    "        .from_(wallet.get_address())\\\n",
    "        .to(to)\\\n",
    "        .value(amount)\\\n",
    "        .step_limit(1000000) \\\n",
    "        .nid(NID) \\\n",
    "        .nonce(2) \\\n",
    "        .version(3) \\\n",
    "        .build()\n",
    "    signed_transaction = SignedTransaction(transaction, wallet)\n",
    "    return icon_service.send_transaction(signed_transaction)\n",
    "\n",
    "\n",
    "def compress():\n",
    "    \"\"\"\n",
    "    Compress all SCORE folders in the core_contracts and token_contracts folders.\n",
    "    Make sure the oracle address is correct.\n",
    "    \"\"\"\n",
    "    deploy = list(contracts.keys())[:]\n",
    "    for directory in {\"../../core_contracts\", \"../../token_contracts\"}:\n",
    "        with os.scandir(directory) as it:\n",
    "            for file in it:\n",
    "                archive_name = directory + \"/\" + file.name\n",
    "                if file.is_dir() and file.name in deploy:\n",
    "                    make_archive(archive_name, \"zip\", directory, file.name)\n",
    "                    contracts[file.name]['zip'] = archive_name + '.zip'\n",
    "    if network == \"yeouido\":\n",
    "        contracts['oracle']['SCORE'] = TEST_ORACLE\n",
    "    elif network == \"mainnet\":\n",
    "        contracts['oracle']['SCORE'] = MAIN_ORACLE\n",
    "                    \n",
    "\n",
    "def deploy_SCORE(contract, params, wallet, update) -> str:\n",
    "    \"\"\"\n",
    "    contract is of form {'zip': 'core_contracts/governance.zip', 'SCORE': 'cx1d81f93b3b8d8d2a6455681c46128868782ddd09'}\n",
    "    params is a dicts\n",
    "    wallet is a wallet file\n",
    "    update is boolian\n",
    "    \"\"\"\n",
    "    print(f'{contract[\"zip\"]}')\n",
    "    if update:\n",
    "        dest = contract['SCORE']\n",
    "    else:\n",
    "        dest = GOVERNANCE_ADDRESS\n",
    "    zip_file = contract['zip']\n",
    "    step_limit = 3000000000\n",
    "    deploy_transaction = DeployTransactionBuilder()\\\n",
    "        .from_(wallet.get_address())\\\n",
    "        .to(dest)\\\n",
    "        .nid(NID)\\\n",
    "        .nonce(100)\\\n",
    "        .content_type(\"application/zip\")\\\n",
    "        .content(gen_deploy_data_content(zip_file))\\\n",
    "        .params(params)\\\n",
    "        .build()\n",
    "\n",
    "    signed_transaction = SignedTransaction(deploy_transaction, wallet, step_limit)\n",
    "    tx_hash = icon_service.send_transaction(signed_transaction)\n",
    "\n",
    "    res = get_tx_result(tx_hash)\n",
    "    print(f'Status: {res[\"status\"]}')\n",
    "    if len(res[\"eventLogs\"]) > 0:\n",
    "        for item in res[\"eventLogs\"]:\n",
    "            print(f'{item} \\n')\n",
    "    if res['status'] == 0:\n",
    "        print(f'Failure: {res[\"failure\"]}')\n",
    "    print('')\n",
    "    return res\n",
    "\n",
    "def send_tx(dest, value, method, params, wallet, _print = True):\n",
    "    \"\"\"\n",
    "    dest is the name of the destination contract.\n",
    "    \"\"\"\n",
    "    if _print:\n",
    "        print('------------------------------------------------------------------------------------------------------------------')\n",
    "        print(f'Calling {method}, with parameters {params} on the {dest} contract.')\n",
    "        print('------------------------------------------------------------------------------------------------------------------')\n",
    "    transaction = CallTransactionBuilder()\\\n",
    "        .from_(wallet.get_address())\\\n",
    "        .to(contracts[dest]['SCORE'])\\\n",
    "        .value(value)\\\n",
    "        .step_limit(10000000)\\\n",
    "        .nid(NID)\\\n",
    "        .nonce(100)\\\n",
    "        .method(method)\\\n",
    "        .params(params)\\\n",
    "        .build()\n",
    "    signed_transaction = SignedTransaction(transaction, wallet)\n",
    "    tx_hash = icon_service.send_transaction(signed_transaction)\n",
    "\n",
    "    res = get_tx_result(tx_hash)\n",
    "    if _print:\n",
    "        print(f'************************************************** Status: {res[\"status\"]} **************************************************')\n",
    "    if len(res[\"eventLogs\"]) > 0:\n",
    "        for item in res[\"eventLogs\"]:\n",
    "            print(f'{item} \\n')\n",
    "    if res['status'] == 0:\n",
    "        if _print:\n",
    "            print(f'Failure: {res[\"failure\"]}')\n",
    "    return res\n",
    "\n",
    "def deploy_all(wallet, staking_wallet):\n",
    "    \"\"\"\n",
    "    Compress and Deploy all SCOREs.\n",
    "    \"\"\"\n",
    "    compress()\n",
    "\n",
    "    deploy = list(contracts.keys())[:]\n",
    "    deploy.remove('oracle')\n",
    "    deploy.remove('staking')\n",
    "    deploy.remove('sicx')\n",
    "    deploy.remove('governance')\n",
    "    if network == \"mainnet\":\n",
    "        if 'bnXLM' in deploy:\n",
    "            deploy.remove('bnXLM')\n",
    "        if 'bnDOGE' in deploy:\n",
    "            deploy.remove('bnDOGE')\n",
    "\n",
    "    results = {}\n",
    "    res = deploy_SCORE(contracts['governance'], {}, wallet, 0)\n",
    "    results[f'{contracts[\"governance\"]}|deploy|{{}}'] = res\n",
    "    governance = res.get('scoreAddress', '')\n",
    "    contracts['governance']['SCORE'] = governance\n",
    "    params = {'_governance': governance}\n",
    "    for score in deploy:\n",
    "        res = deploy_SCORE(contracts[score], params, wallet, 0)\n",
    "        results[f'{contracts[score]}|deploy|{params}'] = res\n",
    "        contracts[score]['SCORE'] = res.get('scoreAddress', '')\n",
    "\n",
    "    res = deploy_SCORE(contracts['staking'], {}, staking_wallet, 0)\n",
    "    results[f'{contracts[\"staking\"]}|deploy|{{}}'] = res\n",
    "    contracts['staking']['SCORE'] = res.get('scoreAddress', '')\n",
    "\n",
    "    params = {'_admin': contracts['staking']['SCORE']}\n",
    "    res = deploy_SCORE(contracts['sicx'], params, staking_wallet, 0)\n",
    "    results[f'{contracts[\"sicx\"]}|deploy|{params}'] = res\n",
    "    contracts['sicx']['SCORE'] = res.get('scoreAddress', '')\n",
    "    \n",
    "    return results\n",
    "\n",
    "    \n",
    "def config_balanced(wallet, staking_wallet):\n",
    "    \"\"\"\n",
    "    Configure all SCOREs before launch.\n",
    "    \"\"\"\n",
    "    config = list(contracts.keys())[:]\n",
    "    config.remove('governance')\n",
    "    config.remove('bnDOGE')\n",
    "    config.remove('bnXLM')\n",
    "    addresses = {contract: contracts[contract]['SCORE'] for contract in config}\n",
    "    txns = [{'contract': 'governance', 'value': 0, 'method': 'setAddresses', 'params': {'_addresses': addresses}, 'wallet': wallet},\n",
    "            {'contract': 'staking', 'value': 0, 'method': 'setSicxAddress', 'params': {'_address': contracts['sicx']['SCORE']}, 'wallet': staking_wallet},\n",
    "            {'contract': 'governance', 'value': 0, 'method': 'configureBalanced', 'params': {}, 'wallet': wallet}]\n",
    "\n",
    "    results = {}\n",
    "    for tx in txns:\n",
    "        res = send_tx(tx[\"contract\"], tx[\"value\"], tx[\"method\"], tx[\"params\"], tx[\"wallet\"])\n",
    "        results[f'{tx[\"contract\"]}|{tx[\"method\"]}|{tx[\"params\"]}'] = res\n",
    "\n",
    "    return results\n",
    "\n",
    "def launch_balanced(wallet, staking_wallet):\n",
    "    \"\"\"\n",
    "    Launch Balanced, turn on staking management, and set delegation for sICX on the Loans contract.\n",
    "    \"\"\"\n",
    "    if network == \"custom\":\n",
    "        preps = {\n",
    "            \"hx9eec61296a7010c867ce24c20e69588e2832bc52\",  # ICX Station\n",
    "            \"hx000e0415037ae871184b2c7154e5924ef2bc075e\"}  # iBriz-ICONOsphere\n",
    "    elif network == \"yeouido\":\n",
    "        preps = {\n",
    "            \"hx23823847f593ecb65c9e1ea81a789b02766280e8\",  # ICX Station\n",
    "            \"hxe0cde6567eb6529fe31b0dc2f2697af84847f321\",  # iBriz-ICONOsphere\n",
    "            \"hx83c0fc2bcac7ecb3928539e0256e29fc371b5078\",  # Mousebelt\n",
    "            \"hx48b4636e84d8c491c88c18b65dceb7598c4600cc\",  # Parrot 9\n",
    "            \"hxb4e90a285a79687ec148c29faabe6f71afa8a066\"}  # ICONDAO\n",
    "    elif network == \"mainnet\":\n",
    "        preps = {\n",
    "            \"hxfba37e91ccc13ec1dab115811f73e429cde44d48\",  # ICX Station\n",
    "            \"hx231a795d1c719b9edf35c46b9daa4e0b5a1e83aa\",  # iBriz-ICONOsphere\n",
    "            \"hxbc9c73670c79e8f6f8060551a792c2cf29a8c491\",  # Mousebelt\n",
    "            \"hx28c08b299995a88756af64374e13db2240bc3142\"}  # Parrot 9\n",
    "    else:\n",
    "        return\n",
    "\n",
    "    txns = [{'contract': 'governance', 'value': 0, 'method': 'launchBalanced', 'params': {}, 'wallet': wallet},\n",
    "            {'contract': 'staking', 'value': 0, 'method': 'toggleStakingOn', 'params': {}, 'wallet': staking_wallet},\n",
    "            {'contract': 'governance', 'value': 0, 'method': 'delegate', 'params': {'_delegations': [{'_address': prep, '_votes_in_per': str(100 * ICX // len(preps))} for prep in preps]}, 'wallet': wallet}]\n",
    "\n",
    "    results = {}\n",
    "    for tx in txns:\n",
    "        res = send_tx(tx[\"contract\"], tx[\"value\"], tx[\"method\"], tx[\"params\"], tx[\"wallet\"])\n",
    "        results[f'{tx[\"contract\"]}|{tx[\"method\"]}|{tx[\"params\"]}'] = res\n",
    "\n",
    "    return results\n",
    "   \n",
    "\n",
    "def get_scores_json(contracts):\n",
    "    \"\"\"\n",
    "    Prints out dictionary of SCORE addresses for use in testing UI.\n",
    "    \"\"\"\n",
    "    scores = {}\n",
    "    for score in contracts:\n",
    "        scores[score] = contracts[score]['SCORE']\n",
    "    return json.dumps(scores)\n",
    "\n",
    "def call_tx(dest: str, method: str, params: dict = {}, _print = True):\n",
    "    \"\"\"\n",
    "    dest is the name of the destination contract.\n",
    "    \"\"\"\n",
    "    if _print:\n",
    "        print('------------------------------------------------------------------------------------------------------------------')\n",
    "        print(f'Reading {method}, with parameters {params} on the {dest} contract.')\n",
    "        print('------------------------------------------------------------------------------------------------------------------')\n",
    "    call = CallBuilder()\\\n",
    "        .from_(btest_wallet.get_address())\\\n",
    "        .to(contracts[dest]['SCORE'])\\\n",
    "        .method(method)\\\n",
    "        .params(params)\\\n",
    "        .build()\n",
    "    result = icon_service.call(call)\n",
    "    if _print:\n",
    "        print(result)\n",
    "    return result\n",
    "\n",
    "def fast_send_tx(dest, value, method, params, wallet, _print = False):\n",
    "    \"\"\"\n",
    "    dest is the name of the destination contract.\n",
    "    \"\"\"\n",
    "    if _print:\n",
    "        print('------------------------------------------------------------------------------------------------------------------')\n",
    "        print(f'Calling {method}, with parameters {params} on the {dest} contract.')\n",
    "        print('------------------------------------------------------------------------------------------------------------------')\n",
    "    transaction = CallTransactionBuilder()\\\n",
    "        .from_(wallet.get_address())\\\n",
    "        .to(contracts[dest]['SCORE'])\\\n",
    "        .value(value)\\\n",
    "        .step_limit(10000000)\\\n",
    "        .nid(NID)\\\n",
    "        .nonce(100)\\\n",
    "        .method(method)\\\n",
    "        .params(params)\\\n",
    "        .build()\n",
    "    signed_transaction = SignedTransaction(transaction, wallet)\n",
    "    tx_hash = icon_service.send_transaction(signed_transaction)\n",
    "    \n",
    "    res = get_tx_result(tx_hash)\n",
    "    if _print:\n",
    "        print(f'************************************************** Status: {res[\"status\"]} **************************************************')\n",
    "    if len(res[\"eventLogs\"]) > 0:\n",
    "        for item in res[\"eventLogs\"]:\n",
    "            print(f'{item} \\n')\n",
    "    if res['status'] == 0:\n",
    "        if _print:\n",
    "            print(f'Failure: {res[\"failure\"]}')\n",
    "    return res\n",
    "\n"
   ]
  },
  {
   "cell_type": "code",
   "execution_count": null,
   "metadata": {},
   "outputs": [],
   "source": [
    "# Cell 7\n",
    "# Deploy and configure Balanced. Print results if anything goes wrong.\n",
    "\n",
    "if network == 'custom':\n",
    "    confirm = 'Yes'\n",
    "else:\n",
    "    confirm = input(f'Deploying Balanced to {network}. Proceed (Yes/No)? ')\n",
    "if confirm == 'Yes':\n",
    "    results = {}\n",
    "    deploy_all(btest_wallet, staking_wallet)\n",
    "    print('------------------------------------------------------------------------------------------------------------------')\n",
    "    print(contracts)\n",
    "    print('----------Contracts for Testing UI--------------------------------------------------------------------------------')\n",
    "    print(get_scores_json(contracts))"
   ]
  },
  {
   "cell_type": "code",
   "execution_count": null,
   "metadata": {},
   "outputs": [],
   "source": [
    "# Cell 7a\n",
    "# Configure Balanced\n",
    "\n",
    "config_results = config_balanced(btest_wallet, staking_wallet)\n",
    "print(config_results)"
   ]
  },
  {
   "cell_type": "code",
   "execution_count": null,
   "metadata": {},
   "outputs": [],
   "source": [
    "# Cell 7b\n",
    "# Launch Balanced\n",
    "# We may want to make this a payable method and have the governance SCORE borrow bnUSD,\n",
    "# start and name the sICXbnUSD market, and add it as a rewards DataSource.\n",
    "\n",
    "launch_results = launch_balanced(btest_wallet, staking_wallet)\n",
    "print(launch_results)"
   ]
  },
  {
   "cell_type": "code",
   "execution_count": 30,
   "metadata": {},
   "outputs": [
    {
     "data": {
      "text/plain": [
       "1000.0"
      ]
     },
     "execution_count": 30,
     "metadata": {},
     "output_type": "execute_result"
    }
   ],
   "source": [
    "\n",
    "call = CallBuilder().from_(wallet.get_address())\\\n",
    "                    .to('cxd4534956f0b749be87b8128b5f728166c1417a00')\\\n",
    "                    .method('balanceOf')\\\n",
    "                    .params({'_owner': btest_wallet.get_address()}) \\\n",
    "                    .build()\n",
    "result = icon_service.call(call)\n",
    "int(result, 0) / 10**18"
   ]
  },
  {
   "cell_type": "code",
   "execution_count": 28,
   "metadata": {},
   "outputs": [
    {
     "name": "stdout",
     "output_type": "stream",
     "text": [
      "------------------------------------------------------------------------------------------------------------------\n",
      "Calling transfer, with parameters {'_to': 'cx399dea56cf199b1c9e43bead0f6a284bdecfbf62', '_value': 200000000000000000000, '_data': b'{\"method\": \"_deposit\"}'} on the sicx contract.\n",
      "------------------------------------------------------------------------------------------------------------------\n"
     ]
    },
    {
     "name": "stderr",
     "output_type": "stream",
     "text": [
      "Raised JSONRPCException while returning the custom response. Error message: {'code': -32602, 'message': 'Pending transaction'}\n",
      "Raised JSONRPCException while returning the custom response. Error message: {'code': -32602, 'message': 'Pending transaction'}\n"
     ]
    },
    {
     "name": "stdout",
     "output_type": "stream",
     "text": [
      "************************************************** Status: 0 **************************************************\n",
      "Failure: {'code': 1, 'message': 'Insufficient balance.'}\n",
      "------------------------------------------------------------------------------------------------------------------\n",
      "Calling transfer, with parameters {'_to': 'cx399dea56cf199b1c9e43bead0f6a284bdecfbf62', '_value': 100000000000000000000, '_data': b'{\"method\": \"_deposit\"}'} on the omm contract.\n",
      "------------------------------------------------------------------------------------------------------------------\n"
     ]
    },
    {
     "ename": "KeyError",
     "evalue": "'omm'",
     "output_type": "error",
     "traceback": [
      "\u001b[0;31m---------------------------------------------------------------------------\u001b[0m",
      "\u001b[0;31mKeyError\u001b[0m                                  Traceback (most recent call last)",
      "\u001b[0;32m<ipython-input-28-e030d2123ce8>\u001b[0m in \u001b[0;36m<module>\u001b[0;34m\u001b[0m\n\u001b[1;32m     15\u001b[0m \u001b[0msupply_liquidity_results\u001b[0m \u001b[0;34m=\u001b[0m \u001b[0;34m{\u001b[0m\u001b[0;34m}\u001b[0m\u001b[0;34m\u001b[0m\u001b[0;34m\u001b[0m\u001b[0m\n\u001b[1;32m     16\u001b[0m \u001b[0;32mfor\u001b[0m \u001b[0mtx\u001b[0m \u001b[0;32min\u001b[0m \u001b[0mtxns\u001b[0m\u001b[0;34m:\u001b[0m\u001b[0;34m\u001b[0m\u001b[0;34m\u001b[0m\u001b[0m\n\u001b[0;32m---> 17\u001b[0;31m     \u001b[0mres\u001b[0m \u001b[0;34m=\u001b[0m \u001b[0msend_tx\u001b[0m\u001b[0;34m(\u001b[0m\u001b[0mtx\u001b[0m\u001b[0;34m[\u001b[0m\u001b[0;34m\"contract\"\u001b[0m\u001b[0;34m]\u001b[0m\u001b[0;34m,\u001b[0m \u001b[0mtx\u001b[0m\u001b[0;34m[\u001b[0m\u001b[0;34m\"value\"\u001b[0m\u001b[0;34m]\u001b[0m\u001b[0;34m,\u001b[0m \u001b[0mtx\u001b[0m\u001b[0;34m[\u001b[0m\u001b[0;34m\"method\"\u001b[0m\u001b[0;34m]\u001b[0m\u001b[0;34m,\u001b[0m \u001b[0mtx\u001b[0m\u001b[0;34m[\u001b[0m\u001b[0;34m\"params\"\u001b[0m\u001b[0;34m]\u001b[0m\u001b[0;34m,\u001b[0m \u001b[0mbtest_wallet\u001b[0m\u001b[0;34m)\u001b[0m\u001b[0;34m\u001b[0m\u001b[0;34m\u001b[0m\u001b[0m\n\u001b[0m\u001b[1;32m     18\u001b[0m     \u001b[0msupply_liquidity_results\u001b[0m\u001b[0;34m[\u001b[0m\u001b[0;34mf'{tx[\"contract\"]}|{tx[\"method\"]}|{tx[\"params\"]}'\u001b[0m\u001b[0;34m]\u001b[0m \u001b[0;34m=\u001b[0m \u001b[0mres\u001b[0m\u001b[0;34m\u001b[0m\u001b[0;34m\u001b[0m\u001b[0m\n",
      "\u001b[0;32m<ipython-input-8-436704e60cf4>\u001b[0m in \u001b[0;36msend_tx\u001b[0;34m(dest, value, method, params, wallet, _print)\u001b[0m\n\u001b[1;32m     82\u001b[0m     \u001b[0mtransaction\u001b[0m \u001b[0;34m=\u001b[0m \u001b[0mCallTransactionBuilder\u001b[0m\u001b[0;34m(\u001b[0m\u001b[0;34m)\u001b[0m\u001b[0;31m\\\u001b[0m\u001b[0;34m\u001b[0m\u001b[0;34m\u001b[0m\u001b[0m\n\u001b[1;32m     83\u001b[0m         \u001b[0;34m.\u001b[0m\u001b[0mfrom_\u001b[0m\u001b[0;34m(\u001b[0m\u001b[0mwallet\u001b[0m\u001b[0;34m.\u001b[0m\u001b[0mget_address\u001b[0m\u001b[0;34m(\u001b[0m\u001b[0;34m)\u001b[0m\u001b[0;34m)\u001b[0m\u001b[0;31m\\\u001b[0m\u001b[0;34m\u001b[0m\u001b[0;34m\u001b[0m\u001b[0m\n\u001b[0;32m---> 84\u001b[0;31m         \u001b[0;34m.\u001b[0m\u001b[0mto\u001b[0m\u001b[0;34m(\u001b[0m\u001b[0mcontracts\u001b[0m\u001b[0;34m[\u001b[0m\u001b[0mdest\u001b[0m\u001b[0;34m]\u001b[0m\u001b[0;34m[\u001b[0m\u001b[0;34m'SCORE'\u001b[0m\u001b[0;34m]\u001b[0m\u001b[0;34m)\u001b[0m\u001b[0;31m\\\u001b[0m\u001b[0;34m\u001b[0m\u001b[0;34m\u001b[0m\u001b[0m\n\u001b[0m\u001b[1;32m     85\u001b[0m         \u001b[0;34m.\u001b[0m\u001b[0mvalue\u001b[0m\u001b[0;34m(\u001b[0m\u001b[0mvalue\u001b[0m\u001b[0;34m)\u001b[0m\u001b[0;31m\\\u001b[0m\u001b[0;34m\u001b[0m\u001b[0;34m\u001b[0m\u001b[0m\n\u001b[1;32m     86\u001b[0m         \u001b[0;34m.\u001b[0m\u001b[0mstep_limit\u001b[0m\u001b[0;34m(\u001b[0m\u001b[0;36m10000000\u001b[0m\u001b[0;34m)\u001b[0m\u001b[0;31m\\\u001b[0m\u001b[0;34m\u001b[0m\u001b[0;34m\u001b[0m\u001b[0m\n",
      "\u001b[0;31mKeyError\u001b[0m: 'omm'"
     ]
    }
   ],
   "source": [
    "# Create a new pool and generate assets for it\n",
    "\n",
    "omm_amount = 100 * ICX\n",
    "sICX_amount = 200 * ICX\n",
    "icx_price = 2\n",
    "sICX_contribute_amount = int(100 * ICX)\n",
    "omm_contribute_amount = int(50 * ICX)\n",
    "\n",
    "txns = [\n",
    "#     {'contract': 'staking', 'value': sICX_amount, 'method': 'stakeICX', 'params': {}},\n",
    "        {'contract': 'sicx', 'value': 0, 'method': 'transfer', 'params': {'_to': contracts['dex']['SCORE'], '_value': sICX_amount, '_data': json.dumps({\"method\": \"_deposit\"}).encode()}},\n",
    "        {'contract': 'omm', 'value': 0, 'method': 'transfer', 'params': {'_to': contracts['dex']['SCORE'], '_value': omm_amount, '_data': json.dumps({\"method\": \"_deposit\"}).encode()}},\n",
    "        {'contract': 'dex', 'value': 0, 'method': 'add', 'params': {'_baseToken': 'cxd4534956f0b749be87b8128b5f728166c1417a00', '_quoteToken': contracts['sicx']['SCORE'], '_baseValue': omm_contribute_amount, '_quoteValue': sICX_contribute_amount}}]\n",
    "\n",
    "supply_liquidity_results = {}\n",
    "for tx in txns:\n",
    "    res = send_tx(tx[\"contract\"], tx[\"value\"], tx[\"method\"], tx[\"params\"], btest_wallet)\n",
    "    supply_liquidity_results[f'{tx[\"contract\"]}|{tx[\"method\"]}|{tx[\"params\"]}'] = res"
   ]
  },
  {
   "cell_type": "code",
   "execution_count": 33,
   "metadata": {},
   "outputs": [
    {
     "name": "stderr",
     "output_type": "stream",
     "text": [
      "Raised JSONRPCException while returning the custom response. Error message: {'code': -32602, 'message': 'Pending transaction'}\n",
      "Raised JSONRPCException while returning the custom response. Error message: {'code': -32602, 'message': 'Pending transaction'}\n"
     ]
    },
    {
     "name": "stdout",
     "output_type": "stream",
     "text": [
      "Status: 1\n",
      "{'scoreAddress': 'cx9d829396d887f9292d8af488fab78ad24ab6b99a', 'indexed': ['UnstakeAmountTransfer(Address,int)', 'hxba1fabbda318438fcd93e92dde8936c649848a58', '0x7021ed30b927ce05'], 'data': []} \n",
      "\n",
      "{'scoreAddress': 'cx9d829396d887f9292d8af488fab78ad24ab6b99a', 'indexed': ['ICXTransfer(Address,Address,int)', 'cx9d829396d887f9292d8af488fab78ad24ab6b99a', 'hxba1fabbda318438fcd93e92dde8936c649848a58', '0x7021ed30b927ce05'], 'data': []} \n",
      "\n",
      "{'scoreAddress': 'cx9d829396d887f9292d8af488fab78ad24ab6b99a', 'indexed': ['FundTransfer(Address,int,str)', 'hxba1fabbda318438fcd93e92dde8936c649848a58', '0x7021ed30b927ce05'], 'data': [' 8079999999999987205 ICX sent to hxba1fabbda318438fcd93e92dde8936c649848a58.']} \n",
      "\n",
      "{'scoreAddress': 'cx9d829396d887f9292d8af488fab78ad24ab6b99a', 'indexed': ['UnstakeAmountTransfer(Address,int)', 'hxba1fabbda318438fcd93e92dde8936c649848a58', '0x120c4ddc126540c1e'], 'data': []} \n",
      "\n",
      "{'scoreAddress': 'cx9d829396d887f9292d8af488fab78ad24ab6b99a', 'indexed': ['ICXTransfer(Address,Address,int)', 'cx9d829396d887f9292d8af488fab78ad24ab6b99a', 'hxba1fabbda318438fcd93e92dde8936c649848a58', '0x120c4ddc126540c1e'], 'data': []} \n",
      "\n",
      "{'scoreAddress': 'cx9d829396d887f9292d8af488fab78ad24ab6b99a', 'indexed': ['FundTransfer(Address,int,str)', 'hxba1fabbda318438fcd93e92dde8936c649848a58', '0x120c4ddc126540c1e'], 'data': [' 20808000000000003102 ICX sent to hxba1fabbda318438fcd93e92dde8936c649848a58.']} \n",
      "\n",
      "{'scoreAddress': 'cxae6334850f13dfd8b50f8544d5acb126bb8ef82d', 'indexed': ['Mint(Address,int,bytes)', 'hx3f01840a599da07b0f620eeae7aa9c574169a4be'], 'data': ['0x358d1279477f7715bc', '0x4e6f6e65']} \n",
      "\n",
      "{'scoreAddress': 'cxae6334850f13dfd8b50f8544d5acb126bb8ef82d', 'indexed': ['Transfer(Address,Address,int,bytes)', 'hx0000000000000000000000000000000000000000', 'hx3f01840a599da07b0f620eeae7aa9c574169a4be', '0x358d1279477f7715bc'], 'data': ['0x4e6f6e65']} \n",
      "\n",
      "{'scoreAddress': 'cx9d829396d887f9292d8af488fab78ad24ab6b99a', 'indexed': ['TokenTransfer(Address,int,str)', 'hx3f01840a599da07b0f620eeae7aa9c574169a4be', '0x358d1279477f7715bc'], 'data': ['987 sICX minted to hx3f01840a599da07b0f620eeae7aa9c574169a4be']} \n",
      "\n"
     ]
    }
   ],
   "source": [
    "# Cell 11\n",
    "# transfer sicx to the wallet\n",
    "\n",
    "params = {'_to': btest_wallet.get_address()}\n",
    "transaction = CallTransactionBuilder()\\\n",
    "    .from_(wallet.get_address())\\\n",
    "    .to(contracts['staking']['SCORE'])\\\n",
    "    .value(1000 * ICX)\\\n",
    "    .step_limit(10000000)\\\n",
    "    .nid(NID)\\\n",
    "    .nonce(100)\\\n",
    "    .method(\"stakeICX\")\\\n",
    "    .params(params)\\\n",
    "    .build()\n",
    "signed_transaction = SignedTransaction(transaction, wallet)\n",
    "tx_hash = icon_service.send_transaction(signed_transaction)\n",
    "tx_hash\n",
    "\n",
    "res = get_tx_result(tx_hash)\n",
    "print(f'Status: {res[\"status\"]}')\n",
    "if len(res[\"eventLogs\"]) > 0:\n",
    "    for item in res[\"eventLogs\"]:\n",
    "        print(f'{item} \\n')\n",
    "if res['status'] == 0:\n",
    "    print(f'Failure: {res[\"failure\"]}')"
   ]
  },
  {
   "cell_type": "code",
   "execution_count": 34,
   "metadata": {},
   "outputs": [
    {
     "name": "stderr",
     "output_type": "stream",
     "text": [
      "Raised JSONRPCException while returning the custom response. Error message: {'code': -32602, 'message': 'Pending transaction'}\n",
      "Raised JSONRPCException while returning the custom response. Error message: {'code': -32602, 'message': 'Pending transaction'}\n"
     ]
    },
    {
     "name": "stdout",
     "output_type": "stream",
     "text": [
      "Status: 1\n",
      "{'scoreAddress': 'cxae6334850f13dfd8b50f8544d5acb126bb8ef82d', 'indexed': ['Transfer(Address,Address,int,bytes)', 'hx3f01840a599da07b0f620eeae7aa9c574169a4be', 'cx399dea56cf199b1c9e43bead0f6a284bdecfbf62', '0xad78ebc5ac6200000'], 'data': ['0x7b226d6574686f64223a20225f6465706f736974227d']} \n",
      "\n",
      "{'scoreAddress': 'cx893fccdd0881d8e2bd2625f711b38e06848ecb89', 'indexed': ['Report(int,str,int,int)', '0x19', 'OMM/sICX'], 'data': ['0x0', '0x0']} \n",
      "\n",
      "{'scoreAddress': 'cx399dea56cf199b1c9e43bead0f6a284bdecfbf62', 'indexed': ['Deposit(Address,Address,int)', 'cxae6334850f13dfd8b50f8544d5acb126bb8ef82d', 'hx3f01840a599da07b0f620eeae7aa9c574169a4be'], 'data': ['0xad78ebc5ac6200000']} \n",
      "\n"
     ]
    }
   ],
   "source": [
    "# Cell 14\n",
    "# deposit sicx to the dex to create the pool\n",
    "\n",
    "data = \"{\\\"method\\\": \\\"_deposit\\\"}\".encode(\"utf-8\")\n",
    "params = {'_to': contracts['dex']['SCORE'], '_value': 200 * ICX, '_data': data}\n",
    "transaction = CallTransactionBuilder()\\\n",
    "    .from_(btest_wallet.get_address())\\\n",
    "    .to(contracts['sicx']['SCORE'])\\\n",
    "    .value(0)\\\n",
    "    .step_limit(10000000)\\\n",
    "    .nid(NID)\\\n",
    "    .nonce(100)\\\n",
    "    .method(\"transfer\")\\\n",
    "    .params(params)\\\n",
    "    .build()\n",
    "signed_transaction = SignedTransaction(transaction, btest_wallet)\n",
    "tx_hash = icon_service.send_transaction(signed_transaction)\n",
    "tx_hash\n",
    "\n",
    "res = get_tx_result(tx_hash)\n",
    "print(f'Status: {res[\"status\"]}')\n",
    "if len(res[\"eventLogs\"]) > 0:\n",
    "    for item in res[\"eventLogs\"]:\n",
    "        print(f'{item} \\n')\n",
    "if res['status'] == 0:\n",
    "    print(f'Failure: {res[\"failure\"]}')"
   ]
  },
  {
   "cell_type": "code",
   "execution_count": 36,
   "metadata": {},
   "outputs": [
    {
     "name": "stderr",
     "output_type": "stream",
     "text": [
      "Raised JSONRPCException while returning the custom response. Error message: {'code': -32602, 'message': 'Pending transaction'}\n",
      "Raised JSONRPCException while returning the custom response. Error message: {'code': -32602, 'message': 'Pending transaction'}\n"
     ]
    },
    {
     "name": "stdout",
     "output_type": "stream",
     "text": [
      "Status: 1\n",
      "{'scoreAddress': 'cx893fccdd0881d8e2bd2625f711b38e06848ecb89', 'indexed': ['Report(int,str,int,int)', '0x17', 'OMM/USDb'], 'data': ['0x0', '0x0']} \n",
      "\n",
      "{'scoreAddress': 'cx399dea56cf199b1c9e43bead0f6a284bdecfbf62', 'indexed': ['Deposit(Address,Address,int)', 'cxd4534956f0b749be87b8128b5f728166c1417a00', 'hx3f01840a599da07b0f620eeae7aa9c574169a4be'], 'data': ['0x56bc75e2d63100000']} \n",
      "\n",
      "{'scoreAddress': 'cxd4534956f0b749be87b8128b5f728166c1417a00', 'indexed': ['Transfer(Address,Address,int,bytes)', 'hx3f01840a599da07b0f620eeae7aa9c574169a4be', 'cx399dea56cf199b1c9e43bead0f6a284bdecfbf62', '0x56bc75e2d63100000'], 'data': ['0x7b226d6574686f64223a20225f6465706f736974227d']} \n",
      "\n"
     ]
    }
   ],
   "source": [
    "# Cell 16a\n",
    "# deposit ommtoken to dex to create a pool\n",
    "\n",
    "data = \"{\\\"method\\\": \\\"_deposit\\\"}\".encode(\"utf-8\")\n",
    "params = {'_to': contracts['dex']['SCORE'], '_value': 100 * ICX, '_data': data}\n",
    "transaction = CallTransactionBuilder()\\\n",
    "    .from_(btest_wallet.get_address())\\\n",
    "    .to('cxd4534956f0b749be87b8128b5f728166c1417a00')\\\n",
    "    .value(0)\\\n",
    "    .step_limit(10000000)\\\n",
    "    .nid(NID)\\\n",
    "    .nonce(100)\\\n",
    "    .method(\"transfer\")\\\n",
    "    .params(params)\\\n",
    "    .build()\n",
    "signed_transaction = SignedTransaction(transaction, btest_wallet)\n",
    "tx_hash = icon_service.send_transaction(signed_transaction)\n",
    "tx_hash\n",
    "\n",
    "res = get_tx_result(tx_hash)\n",
    "print(f'Status: {res[\"status\"]}')\n",
    "if len(res[\"eventLogs\"]) > 0:\n",
    "    for item in res[\"eventLogs\"]:\n",
    "        print(f'{item} \\n')\n",
    "if res['status'] == 0:\n",
    "    print(f'Failure: {res[\"failure\"]}')"
   ]
  },
  {
   "cell_type": "code",
   "execution_count": 57,
   "metadata": {},
   "outputs": [
    {
     "name": "stderr",
     "output_type": "stream",
     "text": [
      "Raised JSONRPCException while returning the custom response. Error message: {'code': -32602, 'message': 'Pending transaction'}\n",
      "Raised JSONRPCException while returning the custom response. Error message: {'code': -32602, 'message': 'Pending transaction'}\n"
     ]
    },
    {
     "name": "stdout",
     "output_type": "stream",
     "text": [
      "Status: 1\n",
      "{'scoreAddress': 'cx399dea56cf199b1c9e43bead0f6a284bdecfbf62', 'indexed': ['MarketAdded(int,Address,Address,int,int)', '0x8', 'cxd4534956f0b749be87b8128b5f728166c1417a00', 'cxae6334850f13dfd8b50f8544d5acb126bb8ef82d'], 'data': ['0x2b5e3af16b1880000', '0x56bc75e2d63100000']} \n",
      "\n",
      "{'scoreAddress': 'cx399dea56cf199b1c9e43bead0f6a284bdecfbf62', 'indexed': ['Add(int,Address,int,int,int)', '0x8', 'hx3f01840a599da07b0f620eeae7aa9c574169a4be', '0x3d54ecb1b916736b8'], 'data': ['0x2b5e3af16b1880000', '0x56bc75e2d63100000']} \n",
      "\n",
      "{'scoreAddress': 'cx399dea56cf199b1c9e43bead0f6a284bdecfbf62', 'indexed': ['TransferSingle(Address,Address,Address,int,int)', 'hx3f01840a599da07b0f620eeae7aa9c574169a4be', 'cxf000000000000000000000000000000000000000', 'hx3f01840a599da07b0f620eeae7aa9c574169a4be'], 'data': ['0x8', '0x3d54ecb1b916736b8']} \n",
      "\n",
      "{'scoreAddress': 'cxd4534956f0b749be87b8128b5f728166c1417a00', 'indexed': ['Transfer(Address,Address,int,bytes)', 'cx399dea56cf199b1c9e43bead0f6a284bdecfbf62', 'hx3f01840a599da07b0f620eeae7aa9c574169a4be', '0x2b5e3af16b1880000'], 'data': ['0x4e6f6e65']} \n",
      "\n",
      "{'scoreAddress': 'cx399dea56cf199b1c9e43bead0f6a284bdecfbf62', 'indexed': ['Withdraw(Address,Address,int)', 'cxd4534956f0b749be87b8128b5f728166c1417a00', 'hx3f01840a599da07b0f620eeae7aa9c574169a4be'], 'data': ['0x2b5e3af16b1880000']} \n",
      "\n",
      "{'scoreAddress': 'cxae6334850f13dfd8b50f8544d5acb126bb8ef82d', 'indexed': ['Transfer(Address,Address,int,bytes)', 'cx399dea56cf199b1c9e43bead0f6a284bdecfbf62', 'hx3f01840a599da07b0f620eeae7aa9c574169a4be', '0x56bc75e2d63100000'], 'data': ['0x4e6f6e65']} \n",
      "\n",
      "{'scoreAddress': 'cx399dea56cf199b1c9e43bead0f6a284bdecfbf62', 'indexed': ['Withdraw(Address,Address,int)', 'cxae6334850f13dfd8b50f8544d5acb126bb8ef82d', 'hx3f01840a599da07b0f620eeae7aa9c574169a4be'], 'data': ['0x56bc75e2d63100000']} \n",
      "\n"
     ]
    }
   ],
   "source": [
    "# Cell 17a\n",
    "# add base and quote token addresses for the paris that we want to create a pool of omm/sicx.\n",
    "\n",
    "transaction = CallTransactionBuilder()\\\n",
    "    .from_(btest_wallet.get_address())\\\n",
    "    .to(contracts['dex']['SCORE'])\\\n",
    "    .value(0)\\\n",
    "    .step_limit(10000000)\\\n",
    "    .nid(NID)\\\n",
    "    .nonce(100)\\\n",
    "    .method(\"add\")\\\n",
    "    .params({'_baseToken':'cxd4534956f0b749be87b8128b5f728166c1417a00' , '_quoteToken': contracts['sicx']['SCORE'], '_baseValue': 50 * ICX, '_quoteValue': 100 * ICX}) \\\n",
    "    .build()\n",
    "signed_transaction = SignedTransaction(transaction, btest_wallet)\n",
    "tx_hash = icon_service.send_transaction(signed_transaction)\n",
    "tx_hash\n",
    "\n",
    "res = get_tx_result(tx_hash)\n",
    "print(f'Status: {res[\"status\"]}')\n",
    "if len(res[\"eventLogs\"]) > 0:\n",
    "    for item in res[\"eventLogs\"]:\n",
    "        print(f'{item} \\n')\n",
    "if res['status'] == 0:\n",
    "    print(f'Failure: {res[\"failure\"]}')"
   ]
  },
  {
   "cell_type": "code",
   "execution_count": 25,
   "metadata": {},
   "outputs": [
    {
     "name": "stderr",
     "output_type": "stream",
     "text": [
      "Raised JSONRPCException while returning the custom response. Error message: {'code': -32602, 'message': 'Pending transaction'}\n",
      "Raised JSONRPCException while returning the custom response. Error message: {'code': -32602, 'message': 'Pending transaction'}\n"
     ]
    },
    {
     "name": "stdout",
     "output_type": "stream",
     "text": [
      "Status: 1\n",
      "\n",
      "\n",
      "['sICX/ICX', 'sICX/bnUSD', 'BALN/bnUSD', 'BALN/sICX', 'OMM/IUSDC', 'OMM/sICX', 'OMM/USDb', 'OMM2/sICX', 'OMM2/USDS', 'OMM2/IUSDC']\n"
     ]
    }
   ],
   "source": [
    "# Cell 18a\n",
    "# setting market name for ommsICX pair\n",
    "\n",
    "transaction = CallTransactionBuilder()\\\n",
    "    .from_(btest_wallet.get_address())\\\n",
    "    .to(contracts['governance']['SCORE'])\\\n",
    "    .value(0)\\\n",
    "    .step_limit(10000000)\\\n",
    "    .nid(NID)\\\n",
    "    .nonce(100)\\\n",
    "    .method(\"setMarketName\")\\\n",
    "    .params({'_id':8, '_name': 'OMM2/sICX'}) \\\n",
    "    .build()\n",
    "signed_transaction = SignedTransaction(transaction, btest_wallet)\n",
    "tx_hash = icon_service.send_transaction(signed_transaction)\n",
    "tx_hash\n",
    "\n",
    "res = get_tx_result(tx_hash)\n",
    "print(f'Status: {res[\"status\"]}')\n",
    "if len(res[\"eventLogs\"]) > 0:\n",
    "    for item in res[\"eventLogs\"]:\n",
    "        print(f'{item} \\n')\n",
    "if res['status'] == 0:\n",
    "    print(f'Failure: {res[\"failure\"]}')\n",
    "print('\\n')\n",
    "\n",
    "call = CallBuilder().from_(wallet.get_address())\\\n",
    "                    .to(contracts['dex']['SCORE'])\\\n",
    "                    .method('getNamedPools')\\\n",
    "                    .build()\n",
    "result = icon_service.call(call)\n",
    "print(result)"
   ]
  },
  {
   "cell_type": "code",
   "execution_count": 26,
   "metadata": {},
   "outputs": [
    {
     "data": {
      "text/plain": [
       "2.0"
      ]
     },
     "execution_count": 26,
     "metadata": {},
     "output_type": "execute_result"
    }
   ],
   "source": [
    "\n",
    "call = CallBuilder().from_(wallet.get_address())\\\n",
    "                    .to(contracts['dex']['SCORE'])\\\n",
    "                    .method('getPriceByName')\\\n",
    "                    .params({'_name': 'OMM2/sICX'}) \\\n",
    "                    .build()\n",
    "result = icon_service.call(call)\n",
    "int(result, 0) / 10**18"
   ]
  },
  {
   "cell_type": "code",
   "execution_count": null,
   "metadata": {},
   "outputs": [],
   "source": []
  },
  {
   "cell_type": "code",
   "execution_count": null,
   "metadata": {},
   "outputs": [],
   "source": [
    "Omm/usds"
   ]
  },
  {
   "cell_type": "code",
   "execution_count": 9,
   "metadata": {},
   "outputs": [
    {
     "name": "stderr",
     "output_type": "stream",
     "text": [
      "Raised JSONRPCException while returning the custom response. Error message: {'code': -32602, 'message': 'Pending transaction'}\n",
      "Raised JSONRPCException while returning the custom response. Error message: {'code': -32602, 'message': 'Pending transaction'}\n"
     ]
    },
    {
     "name": "stdout",
     "output_type": "stream",
     "text": [
      "Status: 1\n",
      "{'scoreAddress': 'cx399dea56cf199b1c9e43bead0f6a284bdecfbf62', 'indexed': ['Deposit(Address,Address,int)', 'cxd4534956f0b749be87b8128b5f728166c1417a00', 'hx3f01840a599da07b0f620eeae7aa9c574169a4be'], 'data': ['0x56bc75e2d63100000']} \n",
      "\n",
      "{'scoreAddress': 'cxd4534956f0b749be87b8128b5f728166c1417a00', 'indexed': ['Transfer(Address,Address,int,bytes)', 'hx3f01840a599da07b0f620eeae7aa9c574169a4be', 'cx399dea56cf199b1c9e43bead0f6a284bdecfbf62', '0x56bc75e2d63100000'], 'data': ['0x7b226d6574686f64223a20225f6465706f736974227d']} \n",
      "\n"
     ]
    }
   ],
   "source": [
    "# Cell 16a\n",
    "# deposit ommtoken to dex to create a pool\n",
    "\n",
    "data = \"{\\\"method\\\": \\\"_deposit\\\"}\".encode(\"utf-8\")\n",
    "params = {'_to': contracts['dex']['SCORE'], '_value': 100 * ICX, '_data': data}\n",
    "transaction = CallTransactionBuilder()\\\n",
    "    .from_(btest_wallet.get_address())\\\n",
    "    .to('cxd4534956f0b749be87b8128b5f728166c1417a00')\\\n",
    "    .value(0)\\\n",
    "    .step_limit(10000000)\\\n",
    "    .nid(NID)\\\n",
    "    .nonce(100)\\\n",
    "    .method(\"transfer\")\\\n",
    "    .params(params)\\\n",
    "    .build()\n",
    "signed_transaction = SignedTransaction(transaction, btest_wallet)\n",
    "tx_hash = icon_service.send_transaction(signed_transaction)\n",
    "tx_hash\n",
    "\n",
    "res = get_tx_result(tx_hash)\n",
    "print(f'Status: {res[\"status\"]}')\n",
    "if len(res[\"eventLogs\"]) > 0:\n",
    "    for item in res[\"eventLogs\"]:\n",
    "        print(f'{item} \\n')\n",
    "if res['status'] == 0:\n",
    "    print(f'Failure: {res[\"failure\"]}')"
   ]
  },
  {
   "cell_type": "code",
   "execution_count": 12,
   "metadata": {},
   "outputs": [
    {
     "name": "stderr",
     "output_type": "stream",
     "text": [
      "Raised JSONRPCException while returning the custom response. Error message: {'code': -32602, 'message': 'Pending transaction'}\n",
      "Raised JSONRPCException while returning the custom response. Error message: {'code': -32602, 'message': 'Pending transaction'}\n"
     ]
    },
    {
     "name": "stdout",
     "output_type": "stream",
     "text": [
      "Status: 0\n",
      "Failure: {'code': 32, 'message': 'Stably USD: Out of balance'}\n"
     ]
    }
   ],
   "source": [
    "# Cell 16a\n",
    "# deposit usds to dex to create a pool\n",
    "\n",
    "data = \"{\\\"method\\\": \\\"_deposit\\\"}\".encode(\"utf-8\")\n",
    "params = {'_to': contracts['dex']['SCORE'], '_value': 100 * ICX, '_data': data}\n",
    "transaction = CallTransactionBuilder()\\\n",
    "    .from_(btest_wallet.get_address())\\\n",
    "    .to('cxaa068556df80f9917ef146e889f0b2c4b13ab634')\\\n",
    "    .value(0)\\\n",
    "    .step_limit(10000000)\\\n",
    "    .nid(NID)\\\n",
    "    .nonce(100)\\\n",
    "    .method(\"transfer\")\\\n",
    "    .params(params)\\\n",
    "    .build()\n",
    "signed_transaction = SignedTransaction(transaction, btest_wallet)\n",
    "tx_hash = icon_service.send_transaction(signed_transaction)\n",
    "tx_hash\n",
    "\n",
    "res = get_tx_result(tx_hash)\n",
    "print(f'Status: {res[\"status\"]}')\n",
    "if len(res[\"eventLogs\"]) > 0:\n",
    "    for item in res[\"eventLogs\"]:\n",
    "        print(f'{item} \\n')\n",
    "if res['status'] == 0:\n",
    "    print(f'Failure: {res[\"failure\"]}')"
   ]
  },
  {
   "cell_type": "code",
   "execution_count": 13,
   "metadata": {},
   "outputs": [
    {
     "name": "stderr",
     "output_type": "stream",
     "text": [
      "Raised JSONRPCException while returning the custom response. Error message: {'code': -32602, 'message': 'Pending transaction'}\n",
      "Raised JSONRPCException while returning the custom response. Error message: {'code': -32602, 'message': 'Pending transaction'}\n"
     ]
    },
    {
     "name": "stdout",
     "output_type": "stream",
     "text": [
      "Status: 0\n",
      "Failure: {'code': 32, 'message': 'Balanced DEX: insufficient quote asset funds deposited.'}\n"
     ]
    }
   ],
   "source": [
    "# Cell 17a\n",
    "# add base and quote token addresses for the paris that we want to create a pool of omm/sicx.\n",
    "\n",
    "transaction = CallTransactionBuilder()\\\n",
    "    .from_(btest_wallet.get_address())\\\n",
    "    .to(contracts['dex']['SCORE'])\\\n",
    "    .value(0)\\\n",
    "    .step_limit(10000000)\\\n",
    "    .nid(NID)\\\n",
    "    .nonce(100)\\\n",
    "    .method(\"add\")\\\n",
    "    .params({'_baseToken':'cxd4534956f0b749be87b8128b5f728166c1417a00' , '_quoteToken': 'cxaa068556df80f9917ef146e889f0b2c4b13ab634', '_baseValue': 50 * ICX, '_quoteValue': 100 * ICX}) \\\n",
    "    .build()\n",
    "signed_transaction = SignedTransaction(transaction, btest_wallet)\n",
    "tx_hash = icon_service.send_transaction(signed_transaction)\n",
    "tx_hash\n",
    "\n",
    "res = get_tx_result(tx_hash)\n",
    "print(f'Status: {res[\"status\"]}')\n",
    "if len(res[\"eventLogs\"]) > 0:\n",
    "    for item in res[\"eventLogs\"]:\n",
    "        print(f'{item} \\n')\n",
    "if res['status'] == 0:\n",
    "    print(f'Failure: {res[\"failure\"]}')"
   ]
  },
  {
   "cell_type": "code",
   "execution_count": 23,
   "metadata": {},
   "outputs": [
    {
     "name": "stderr",
     "output_type": "stream",
     "text": [
      "Raised JSONRPCException while returning the custom response. Error message: {'code': -32602, 'message': 'Pending transaction'}\n",
      "Raised JSONRPCException while returning the custom response. Error message: {'code': -32602, 'message': 'Pending transaction'}\n"
     ]
    },
    {
     "name": "stdout",
     "output_type": "stream",
     "text": [
      "Status: 1\n",
      "\n",
      "\n",
      "['sICX/ICX', 'sICX/bnUSD', 'BALN/bnUSD', 'BALN/sICX', 'OMM/IUSDC', 'OMM/sICX', 'OMM/USDb', 'OMM2/sICX', 'OMM2/USDS', 'OMM2/IUSDC']\n"
     ]
    }
   ],
   "source": [
    "# Cell 18a\n",
    "# setting market name for ommsICX pair\n",
    "\n",
    "transaction = CallTransactionBuilder()\\\n",
    "    .from_(btest_wallet.get_address())\\\n",
    "    .to(contracts['governance']['SCORE'])\\\n",
    "    .value(0)\\\n",
    "    .step_limit(10000000)\\\n",
    "    .nid(NID)\\\n",
    "    .nonce(100)\\\n",
    "    .method(\"setMarketName\")\\\n",
    "    .params({'_id':9, '_name': 'OMM2/USDS'}) \\\n",
    "    .build()\n",
    "signed_transaction = SignedTransaction(transaction, btest_wallet)\n",
    "tx_hash = icon_service.send_transaction(signed_transaction)\n",
    "tx_hash\n",
    "\n",
    "res = get_tx_result(tx_hash)\n",
    "print(f'Status: {res[\"status\"]}')\n",
    "if len(res[\"eventLogs\"]) > 0:\n",
    "    for item in res[\"eventLogs\"]:\n",
    "        print(f'{item} \\n')\n",
    "if res['status'] == 0:\n",
    "    print(f'Failure: {res[\"failure\"]}')\n",
    "print('\\n')\n",
    "\n",
    "call = CallBuilder().from_(wallet.get_address())\\\n",
    "                    .to(contracts['dex']['SCORE'])\\\n",
    "                    .method('getNamedPools')\\\n",
    "                    .build()\n",
    "result = icon_service.call(call)\n",
    "print(result)"
   ]
  },
  {
   "cell_type": "code",
   "execution_count": 24,
   "metadata": {},
   "outputs": [
    {
     "data": {
      "text/plain": [
       "2.0"
      ]
     },
     "execution_count": 24,
     "metadata": {},
     "output_type": "execute_result"
    }
   ],
   "source": [
    "\n",
    "call = CallBuilder().from_(wallet.get_address())\\\n",
    "                    .to(contracts['dex']['SCORE'])\\\n",
    "                    .method('getPriceByName')\\\n",
    "                    .params({'_name': 'OMM2/USDS'}) \\\n",
    "                    .build()\n",
    "result = icon_service.call(call)\n",
    "int(result, 0) / 10**18"
   ]
  },
  {
   "cell_type": "markdown",
   "metadata": {},
   "source": [
    "omm/iusdc"
   ]
  },
  {
   "cell_type": "code",
   "execution_count": 74,
   "metadata": {},
   "outputs": [
    {
     "name": "stderr",
     "output_type": "stream",
     "text": [
      "Raised JSONRPCException while returning the custom response. Error message: {'code': -32602, 'message': 'Pending transaction'}\n",
      "Raised JSONRPCException while returning the custom response. Error message: {'code': -32602, 'message': 'Pending transaction'}\n"
     ]
    },
    {
     "name": "stdout",
     "output_type": "stream",
     "text": [
      "Status: 1\n",
      "{'scoreAddress': 'cx399dea56cf199b1c9e43bead0f6a284bdecfbf62', 'indexed': ['Deposit(Address,Address,int)', 'cxd4534956f0b749be87b8128b5f728166c1417a00', 'hx3f01840a599da07b0f620eeae7aa9c574169a4be'], 'data': ['0x56bc75e2d63100000']} \n",
      "\n",
      "{'scoreAddress': 'cxd4534956f0b749be87b8128b5f728166c1417a00', 'indexed': ['Transfer(Address,Address,int,bytes)', 'hx3f01840a599da07b0f620eeae7aa9c574169a4be', 'cx399dea56cf199b1c9e43bead0f6a284bdecfbf62', '0x56bc75e2d63100000'], 'data': ['0x7b226d6574686f64223a20225f6465706f736974227d']} \n",
      "\n"
     ]
    }
   ],
   "source": [
    "# Cell 16a\n",
    "# deposit ommtoken to dex to create a pool\n",
    "\n",
    "data = \"{\\\"method\\\": \\\"_deposit\\\"}\".encode(\"utf-8\")\n",
    "params = {'_to': contracts['dex']['SCORE'], '_value': 100 * ICX, '_data': data}\n",
    "transaction = CallTransactionBuilder()\\\n",
    "    .from_(btest_wallet.get_address())\\\n",
    "    .to('cxd4534956f0b749be87b8128b5f728166c1417a00')\\\n",
    "    .value(0)\\\n",
    "    .step_limit(10000000)\\\n",
    "    .nid(NID)\\\n",
    "    .nonce(100)\\\n",
    "    .method(\"transfer\")\\\n",
    "    .params(params)\\\n",
    "    .build()\n",
    "signed_transaction = SignedTransaction(transaction, btest_wallet)\n",
    "tx_hash = icon_service.send_transaction(signed_transaction)\n",
    "tx_hash\n",
    "\n",
    "res = get_tx_result(tx_hash)\n",
    "print(f'Status: {res[\"status\"]}')\n",
    "if len(res[\"eventLogs\"]) > 0:\n",
    "    for item in res[\"eventLogs\"]:\n",
    "        print(f'{item} \\n')\n",
    "if res['status'] == 0:\n",
    "    print(f'Failure: {res[\"failure\"]}')"
   ]
  },
  {
   "cell_type": "code",
   "execution_count": 17,
   "metadata": {},
   "outputs": [
    {
     "name": "stderr",
     "output_type": "stream",
     "text": [
      "Raised JSONRPCException while returning the custom response. Error message: {'code': -32602, 'message': 'Pending transaction'}\n",
      "Raised JSONRPCException while returning the custom response. Error message: {'code': -32602, 'message': 'Pending transaction'}\n"
     ]
    },
    {
     "name": "stdout",
     "output_type": "stream",
     "text": [
      "Status: 1\n",
      "{'scoreAddress': 'cx399dea56cf199b1c9e43bead0f6a284bdecfbf62', 'indexed': ['Snapshot(int)', '0x1e'], 'data': []} \n",
      "\n",
      "{'scoreAddress': 'cx36169736b39f59bf19e8950f6c8fa4bfa18b710a', 'indexed': ['Mint(Address,int,bytes)', 'cx893fccdd0881d8e2bd2625f711b38e06848ecb89'], 'data': ['0x152d02c7e14af6800000', '0x4e6f6e65']} \n",
      "\n",
      "{'scoreAddress': 'cx36169736b39f59bf19e8950f6c8fa4bfa18b710a', 'indexed': ['Transfer(Address,Address,int,bytes)', 'hx0000000000000000000000000000000000000000', 'cx893fccdd0881d8e2bd2625f711b38e06848ecb89', '0x152d02c7e14af6800000'], 'data': ['0x4e6f6e65']} \n",
      "\n",
      "{'scoreAddress': 'cx36169736b39f59bf19e8950f6c8fa4bfa18b710a', 'indexed': ['Transfer(Address,Address,int,bytes)', 'cx893fccdd0881d8e2bd2625f711b38e06848ecb89', 'cx5d886977b7d24b9f73a460c9ca2d43847997c285', '0x43c33c1937564800000'], 'data': ['0x4e6f6e65']} \n",
      "\n",
      "{'scoreAddress': 'cx36169736b39f59bf19e8950f6c8fa4bfa18b710a', 'indexed': ['Transfer(Address,Address,int,bytes)', 'cx893fccdd0881d8e2bd2625f711b38e06848ecb89', 'cx1754666c6779dc5e495a462144dd15e4a68fe776', '0x10f0cf064dd59200000'], 'data': ['0x4e6f6e65']} \n",
      "\n",
      "{'scoreAddress': 'cx36169736b39f59bf19e8950f6c8fa4bfa18b710a', 'indexed': ['Transfer(Address,Address,int,bytes)', 'cx893fccdd0881d8e2bd2625f711b38e06848ecb89', 'cx430955c5a5e2a6e48c1f2aaa7258dc4c84222247', '0x10f0cf064dd59200000'], 'data': ['0x4e6f6e65']} \n",
      "\n",
      "{'scoreAddress': 'cx399dea56cf199b1c9e43bead0f6a284bdecfbf62', 'indexed': ['Deposit(Address,Address,int)', 'cx65f639254090820361da483df233f6d0e69af9b7', 'hx3f01840a599da07b0f620eeae7aa9c574169a4be'], 'data': ['0xbebc200']} \n",
      "\n",
      "{'scoreAddress': 'cx65f639254090820361da483df233f6d0e69af9b7', 'indexed': ['Transfer(Address,Address,int,bytes)', 'hx3f01840a599da07b0f620eeae7aa9c574169a4be', 'cx399dea56cf199b1c9e43bead0f6a284bdecfbf62', '0xbebc200'], 'data': ['0x7b226d6574686f64223a20225f6465706f736974227d']} \n",
      "\n"
     ]
    }
   ],
   "source": [
    "# Cell 16a\n",
    "# deposit iusdc to dex to create a pool\n",
    "\n",
    "data = \"{\\\"method\\\": \\\"_deposit\\\"}\".encode(\"utf-8\")\n",
    "params = {'_to': contracts['dex']['SCORE'], '_value': 200 * 10**6, '_data': data}\n",
    "transaction = CallTransactionBuilder()\\\n",
    "    .from_(btest_wallet.get_address())\\\n",
    "    .to('cx65f639254090820361da483df233f6d0e69af9b7')\\\n",
    "    .value(0)\\\n",
    "    .step_limit(10000000)\\\n",
    "    .nid(NID)\\\n",
    "    .nonce(100)\\\n",
    "    .method(\"transfer\")\\\n",
    "    .params(params)\\\n",
    "    .build()\n",
    "signed_transaction = SignedTransaction(transaction, btest_wallet)\n",
    "tx_hash = icon_service.send_transaction(signed_transaction)\n",
    "tx_hash\n",
    "\n",
    "res = get_tx_result(tx_hash)\n",
    "print(f'Status: {res[\"status\"]}')\n",
    "if len(res[\"eventLogs\"]) > 0:\n",
    "    for item in res[\"eventLogs\"]:\n",
    "        print(f'{item} \\n')\n",
    "if res['status'] == 0:\n",
    "    print(f'Failure: {res[\"failure\"]}')"
   ]
  },
  {
   "cell_type": "code",
   "execution_count": 21,
   "metadata": {},
   "outputs": [
    {
     "name": "stderr",
     "output_type": "stream",
     "text": [
      "Raised JSONRPCException while returning the custom response. Error message: {'code': -32602, 'message': 'Pending transaction'}\n",
      "Raised JSONRPCException while returning the custom response. Error message: {'code': -32602, 'message': 'Pending transaction'}\n"
     ]
    },
    {
     "name": "stdout",
     "output_type": "stream",
     "text": [
      "Status: 0\n",
      "Failure: {'code': 32, 'message': 'Balanced DEX Rewards distribution in progress, please try again shortly'}\n"
     ]
    }
   ],
   "source": [
    "# Cell 17a\n",
    "\n",
    "transaction = CallTransactionBuilder()\\\n",
    "    .from_(btest_wallet.get_address())\\\n",
    "    .to(contracts['dex']['SCORE'])\\\n",
    "    .value(0)\\\n",
    "    .step_limit(10000000)\\\n",
    "    .nid(NID)\\\n",
    "    .nonce(100)\\\n",
    "    .method(\"add\")\\\n",
    "    .params({'_baseToken':'cxd4534956f0b749be87b8128b5f728166c1417a00' , '_quoteToken': 'cx65f639254090820361da483df233f6d0e69af9b7', '_baseValue': 50 * ICX, '_quoteValue': 100 * 10**6}) \\\n",
    "    .build()\n",
    "signed_transaction = SignedTransaction(transaction, btest_wallet)\n",
    "tx_hash = icon_service.send_transaction(signed_transaction)\n",
    "tx_hash\n",
    "\n",
    "res = get_tx_result(tx_hash)\n",
    "print(f'Status: {res[\"status\"]}')\n",
    "if len(res[\"eventLogs\"]) > 0:\n",
    "    for item in res[\"eventLogs\"]:\n",
    "        print(f'{item} \\n')\n",
    "if res['status'] == 0:\n",
    "    print(f'Failure: {res[\"failure\"]}')"
   ]
  },
  {
   "cell_type": "code",
   "execution_count": null,
   "metadata": {},
   "outputs": [],
   "source": [
    "\n",
    "to_token = 'cx65f639254090820361da483df233f6d0e69af9b7'\n",
    "params_data = \"{\\\"method\\\": \\\"_swap\\\", \\\"params\\\": {\\\"toToken\\\":\\\"\" + str(to_token) + \"\\\", \\\"maxSlippage\\\":250}}\"\n",
    "data = params_data.encode(\"utf-8\")\n",
    "params = {'_to': contracts['dex']['SCORE'], '_value': (int) (10 * ICX), '_data': data}\n",
    "transaction = CallTransactionBuilder()\\\n",
    "    .from_(wallet.get_address())\\\n",
    "    .to('cxd4534956f0b749be87b8128b5f728166c1417a00')\\\n",
    "    .value(0)\\\n",
    "    .step_limit(10000000)\\\n",
    "    .nid(NID)\\\n",
    "    .nonce(100)\\\n",
    "    .method(\"transfer\")\\\n",
    "    .params(params)\\\n",
    "    .build()\n",
    "signed_transaction = SignedTransaction(transaction, wallet)\n",
    "tx_hash = icon_service.send_transaction(signed_transaction)\n",
    "tx_hash\n",
    "\n",
    "res = get_tx_result(tx_hash)\n",
    "print(f'Status: {res[\"status\"]}')\n",
    "if len(res[\"eventLogs\"]) > 0:\n",
    "    for item in res[\"eventLogs\"]:\n",
    "        print(f'{item} \\n')\n",
    "if res['status'] == 0:\n",
    "    print(f'Failure: {res[\"failure\"]}')"
   ]
  },
  {
   "cell_type": "code",
   "execution_count": 39,
   "metadata": {},
   "outputs": [
    {
     "name": "stderr",
     "output_type": "stream",
     "text": [
      "Raised JSONRPCException while returning the custom response. Error message: {'code': -32602, 'message': 'Pending transaction'}\n",
      "Raised JSONRPCException while returning the custom response. Error message: {'code': -32602, 'message': 'Pending transaction'}\n"
     ]
    },
    {
     "name": "stdout",
     "output_type": "stream",
     "text": [
      "Status: 1\n",
      "\n",
      "\n",
      "['sICX/ICX', 'sICX/bnUSD', 'BALN/bnUSD', 'BALN/sICX', 'OMM/IUSDC', 'OMM/sICX', 'OMM/USDb', 'OMM2/sICX', 'OMM2/USDS', 'OMM2/IUSDC']\n"
     ]
    }
   ],
   "source": [
    "# Cell 18a\n",
    "# setting market name for ommsICX pair\n",
    "\n",
    "transaction = CallTransactionBuilder()\\\n",
    "    .from_(btest_wallet.get_address())\\\n",
    "    .to(contracts['governance']['SCORE'])\\\n",
    "    .value(0)\\\n",
    "    .step_limit(10000000)\\\n",
    "    .nid(NID)\\\n",
    "    .nonce(100)\\\n",
    "    .method(\"setMarketName\")\\\n",
    "    .params({'_id':10, '_name': 'OMM2/IUSDC'}) \\\n",
    "    .build()\n",
    "signed_transaction = SignedTransaction(transaction, btest_wallet)\n",
    "tx_hash = icon_service.send_transaction(signed_transaction)\n",
    "tx_hash\n",
    "\n",
    "res = get_tx_result(tx_hash)\n",
    "print(f'Status: {res[\"status\"]}')\n",
    "if len(res[\"eventLogs\"]) > 0:\n",
    "    for item in res[\"eventLogs\"]:\n",
    "        print(f'{item} \\n')\n",
    "if res['status'] == 0:\n",
    "    print(f'Failure: {res[\"failure\"]}')\n",
    "print('\\n')\n",
    "\n",
    "call = CallBuilder().from_(wallet.get_address())\\\n",
    "                    .to(contracts['dex']['SCORE'])\\\n",
    "                    .method('getNamedPools')\\\n",
    "                    .build()\n",
    "result = icon_service.call(call)\n",
    "print(result)"
   ]
  },
  {
   "cell_type": "code",
   "execution_count": 28,
   "metadata": {},
   "outputs": [
    {
     "data": {
      "text/plain": [
       "2.0"
      ]
     },
     "execution_count": 28,
     "metadata": {},
     "output_type": "execute_result"
    }
   ],
   "source": [
    "\n",
    "call = CallBuilder().from_(wallet.get_address())\\\n",
    "                    .to(contracts['dex']['SCORE'])\\\n",
    "                    .method('getPriceByName')\\\n",
    "                    .params({'_name': 'OMM2/IUSDC'}) \\\n",
    "                    .build()\n",
    "result = icon_service.call(call)\n",
    "int(result, 0) / 10**6"
   ]
  },
  {
   "cell_type": "code",
   "execution_count": 50,
   "metadata": {},
   "outputs": [
    {
     "name": "stdout",
     "output_type": "stream",
     "text": [
      "{'base': '0x56bc75e2d63100000', 'quote': '0xbebc200', 'base_token': 'cxd4534956f0b749be87b8128b5f728166c1417a00', 'quote_token': 'cx65f639254090820361da483df233f6d0e69af9b7', 'total_supply': '0x809f39b3c1fc', 'price': '0x1e8480', 'name': 'OMM2/IUSDC', 'base_decimals': '0x12', 'quote_decimals': '0x6', 'min_quote': '0x0'}\n"
     ]
    }
   ],
   "source": [
    "call = CallBuilder().from_(wallet.get_address())\\\n",
    "                    .to(contracts['dex']['SCORE'])\\\n",
    "                    .method('getPoolStats')\\\n",
    "                    .params({'_id': 10}) \\\n",
    "                    .build()\n",
    "result = icon_service.call(call)\n",
    "print(result)\n"
   ]
  },
  {
   "cell_type": "code",
   "execution_count": 32,
   "metadata": {},
   "outputs": [
    {
     "name": "stdout",
     "output_type": "stream",
     "text": [
      "{'base': '0x56bc75e2d63100000', 'quote': '0xbebc200', 'base_token': 'cxd4534956f0b749be87b8128b5f728166c1417a00', 'quote_token': 'cx65f639254090820361da483df233f6d0e69af9b7', 'total_supply': '0x809f39b3c1fc', 'price': '0x1e8480', 'name': 'OMM2/IUSDC', 'base_decimals': '0x12', 'quote_decimals': '0x6', 'min_quote': '0x0'}\n"
     ]
    }
   ],
   "source": [
    "call = CallBuilder().from_(wallet.get_address())\\\n",
    "                    .to(contracts['dex']['SCORE'])\\\n",
    "                    .method('getPoolStats')\\\n",
    "                    .params({'_id': 10}) \\\n",
    "                    .build()\n",
    "result = icon_service.call(call)\n",
    "print(result)\n"
   ]
  },
  {
   "cell_type": "code",
   "execution_count": null,
   "metadata": {},
   "outputs": [],
   "source": []
  },
  {
   "cell_type": "markdown",
   "metadata": {},
   "source": [
    "Add to pool from different wallet"
   ]
  },
  {
   "cell_type": "code",
   "execution_count": 8,
   "metadata": {},
   "outputs": [
    {
     "name": "stderr",
     "output_type": "stream",
     "text": [
      "Raised JSONRPCException while returning the custom response. Error message: {'code': -32602, 'message': 'Pending transaction'}\n",
      "Raised JSONRPCException while returning the custom response. Error message: {'code': -32602, 'message': 'Pending transaction'}\n"
     ]
    },
    {
     "name": "stdout",
     "output_type": "stream",
     "text": [
      "Status: 1\n",
      "{'scoreAddress': 'cx9d829396d887f9292d8af488fab78ad24ab6b99a', 'indexed': ['UnstakeAmountTransfer(Address,int)', 'hxd36e47b1c264ffc6a3a7bea810273ce7fb121836', '0xe1b001966bca364ff'], 'data': []} \n",
      "\n",
      "{'scoreAddress': 'cx9d829396d887f9292d8af488fab78ad24ab6b99a', 'indexed': ['ICXTransfer(Address,Address,int)', 'cx9d829396d887f9292d8af488fab78ad24ab6b99a', 'hxd36e47b1c264ffc6a3a7bea810273ce7fb121836', '0xe1b001966bca364ff'], 'data': []} \n",
      "\n",
      "{'scoreAddress': 'cx9d829396d887f9292d8af488fab78ad24ab6b99a', 'indexed': ['FundTransfer(Address,int,str)', 'hxd36e47b1c264ffc6a3a7bea810273ce7fb121836', '0xe1b001966bca364ff'], 'data': [' 260199999999999960319 ICX sent to hxd36e47b1c264ffc6a3a7bea810273ce7fb121836.']} \n",
      "\n",
      "{'scoreAddress': 'cx9d829396d887f9292d8af488fab78ad24ab6b99a', 'indexed': ['UnstakeAmountTransfer(Address,int)', 'hxd36e47b1c264ffc6a3a7bea810273ce7fb121836', '0x136d858738ac7d5d96'], 'data': []} \n",
      "\n",
      "{'scoreAddress': 'cx9d829396d887f9292d8af488fab78ad24ab6b99a', 'indexed': ['ICXTransfer(Address,Address,int)', 'cx9d829396d887f9292d8af488fab78ad24ab6b99a', 'hxd36e47b1c264ffc6a3a7bea810273ce7fb121836', '0x136d858738ac7d5d96'], 'data': []} \n",
      "\n",
      "{'scoreAddress': 'cx9d829396d887f9292d8af488fab78ad24ab6b99a', 'indexed': ['FundTransfer(Address,int,str)', 'hxd36e47b1c264ffc6a3a7bea810273ce7fb121836', '0x136d858738ac7d5d96'], 'data': [' 358379999999999958422 ICX sent to hxd36e47b1c264ffc6a3a7bea810273ce7fb121836.']} \n",
      "\n",
      "{'scoreAddress': 'cx9d829396d887f9292d8af488fab78ad24ab6b99a', 'indexed': ['UnstakeAmountTransfer(Address,int)', 'hxd36e47b1c264ffc6a3a7bea810273ce7fb121836', '0x11892fd221275caf85'], 'data': []} \n",
      "\n",
      "{'scoreAddress': 'cx9d829396d887f9292d8af488fab78ad24ab6b99a', 'indexed': ['ICXTransfer(Address,Address,int)', 'cx9d829396d887f9292d8af488fab78ad24ab6b99a', 'hxd36e47b1c264ffc6a3a7bea810273ce7fb121836', '0x11892fd221275caf85'], 'data': []} \n",
      "\n",
      "{'scoreAddress': 'cx9d829396d887f9292d8af488fab78ad24ab6b99a', 'indexed': ['FundTransfer(Address,int,str)', 'hxd36e47b1c264ffc6a3a7bea810273ce7fb121836', '0x11892fd221275caf85'], 'data': [' 323480000000000044933 ICX sent to hxd36e47b1c264ffc6a3a7bea810273ce7fb121836.']} \n",
      "\n",
      "{'scoreAddress': 'cx9d829396d887f9292d8af488fab78ad24ab6b99a', 'indexed': ['UnstakeAmountTransfer(Address,int)', 'hxd36e47b1c264ffc6a3a7bea810273ce7fb121836', '0x324143b054e228de6'], 'data': []} \n",
      "\n",
      "{'scoreAddress': 'cx9d829396d887f9292d8af488fab78ad24ab6b99a', 'indexed': ['ICXTransfer(Address,Address,int)', 'cx9d829396d887f9292d8af488fab78ad24ab6b99a', 'hxd36e47b1c264ffc6a3a7bea810273ce7fb121836', '0x324143b054e228de6'], 'data': []} \n",
      "\n",
      "{'scoreAddress': 'cx9d829396d887f9292d8af488fab78ad24ab6b99a', 'indexed': ['FundTransfer(Address,int,str)', 'hxd36e47b1c264ffc6a3a7bea810273ce7fb121836', '0x324143b054e228de6'], 'data': [' 57940000000000036326 ICX sent to hxd36e47b1c264ffc6a3a7bea810273ce7fb121836.']} \n",
      "\n",
      "{'scoreAddress': 'cxae6334850f13dfd8b50f8544d5acb126bb8ef82d', 'indexed': ['Mint(Address,int,bytes)', 'hxe62d11fa19a0e8575ad92f06bc8fd42edbfe27db'], 'data': ['0x356c829eb966be7895', '0x4e6f6e65']} \n",
      "\n",
      "{'scoreAddress': 'cxae6334850f13dfd8b50f8544d5acb126bb8ef82d', 'indexed': ['Transfer(Address,Address,int,bytes)', 'hx0000000000000000000000000000000000000000', 'hxe62d11fa19a0e8575ad92f06bc8fd42edbfe27db', '0x356c829eb966be7895'], 'data': ['0x4e6f6e65']} \n",
      "\n",
      "{'scoreAddress': 'cx9d829396d887f9292d8af488fab78ad24ab6b99a', 'indexed': ['TokenTransfer(Address,int,str)', 'hxe62d11fa19a0e8575ad92f06bc8fd42edbfe27db', '0x356c829eb966be7895'], 'data': ['985 sICX minted to hxe62d11fa19a0e8575ad92f06bc8fd42edbfe27db']} \n",
      "\n"
     ]
    }
   ],
   "source": [
    "# Cell 11\n",
    "# transfer sicx to the wallet\n",
    "\n",
    "params = {'_to': user1.get_address()}\n",
    "transaction = CallTransactionBuilder()\\\n",
    "    .from_(wallet.get_address())\\\n",
    "    .to(contracts['staking']['SCORE'])\\\n",
    "    .value(1000 * ICX)\\\n",
    "    .step_limit(10000000)\\\n",
    "    .nid(NID)\\\n",
    "    .nonce(100)\\\n",
    "    .method(\"stakeICX\")\\\n",
    "    .params(params)\\\n",
    "    .build()\n",
    "signed_transaction = SignedTransaction(transaction, wallet)\n",
    "tx_hash = icon_service.send_transaction(signed_transaction)\n",
    "tx_hash\n",
    "\n",
    "res = get_tx_result(tx_hash)\n",
    "print(f'Status: {res[\"status\"]}')\n",
    "if len(res[\"eventLogs\"]) > 0:\n",
    "    for item in res[\"eventLogs\"]:\n",
    "        print(f'{item} \\n')\n",
    "if res['status'] == 0:\n",
    "    print(f'Failure: {res[\"failure\"]}')"
   ]
  },
  {
   "cell_type": "code",
   "execution_count": 9,
   "metadata": {},
   "outputs": [
    {
     "name": "stderr",
     "output_type": "stream",
     "text": [
      "Raised JSONRPCException while returning the custom response. Error message: {'code': -32602, 'message': 'Pending transaction'}\n",
      "Raised JSONRPCException while returning the custom response. Error message: {'code': -32602, 'message': 'Pending transaction'}\n"
     ]
    },
    {
     "name": "stdout",
     "output_type": "stream",
     "text": [
      "Status: 1\n",
      "{'scoreAddress': 'cxae6334850f13dfd8b50f8544d5acb126bb8ef82d', 'indexed': ['Transfer(Address,Address,int,bytes)', 'hxe62d11fa19a0e8575ad92f06bc8fd42edbfe27db', 'cx399dea56cf199b1c9e43bead0f6a284bdecfbf62', '0xad78ebc5ac6200000'], 'data': ['0x7b226d6574686f64223a20225f6465706f736974227d']} \n",
      "\n",
      "{'scoreAddress': 'cx399dea56cf199b1c9e43bead0f6a284bdecfbf62', 'indexed': ['Deposit(Address,Address,int)', 'cxae6334850f13dfd8b50f8544d5acb126bb8ef82d', 'hxe62d11fa19a0e8575ad92f06bc8fd42edbfe27db'], 'data': ['0xad78ebc5ac6200000']} \n",
      "\n"
     ]
    }
   ],
   "source": [
    "# Cell 14\n",
    "# deposit sicx to the dex to create the pool\n",
    "\n",
    "data = \"{\\\"method\\\": \\\"_deposit\\\"}\".encode(\"utf-8\")\n",
    "params = {'_to': contracts['dex']['SCORE'], '_value': 200 * ICX, '_data': data}\n",
    "transaction = CallTransactionBuilder()\\\n",
    "    .from_(user1.get_address())\\\n",
    "    .to(contracts['sicx']['SCORE'])\\\n",
    "    .value(0)\\\n",
    "    .step_limit(10000000)\\\n",
    "    .nid(NID)\\\n",
    "    .nonce(100)\\\n",
    "    .method(\"transfer\")\\\n",
    "    .params(params)\\\n",
    "    .build()\n",
    "signed_transaction = SignedTransaction(transaction, user1)\n",
    "tx_hash = icon_service.send_transaction(signed_transaction)\n",
    "tx_hash\n",
    "\n",
    "res = get_tx_result(tx_hash)\n",
    "print(f'Status: {res[\"status\"]}')\n",
    "if len(res[\"eventLogs\"]) > 0:\n",
    "    for item in res[\"eventLogs\"]:\n",
    "        print(f'{item} \\n')\n",
    "if res['status'] == 0:\n",
    "    print(f'Failure: {res[\"failure\"]}')"
   ]
  },
  {
   "cell_type": "code",
   "execution_count": 11,
   "metadata": {},
   "outputs": [
    {
     "name": "stderr",
     "output_type": "stream",
     "text": [
      "Raised JSONRPCException while returning the custom response. Error message: {'code': -32602, 'message': 'Pending transaction'}\n",
      "Raised JSONRPCException while returning the custom response. Error message: {'code': -32602, 'message': 'Pending transaction'}\n"
     ]
    },
    {
     "name": "stdout",
     "output_type": "stream",
     "text": [
      "Status: 1\n",
      "{'scoreAddress': 'cx893fccdd0881d8e2bd2625f711b38e06848ecb89', 'indexed': ['Report(int,str,int,int)', '0x1e', 'Loans'], 'data': ['0x1a074d1a86f042f0c9', '0x65e523845d9a6d254']} \n",
      "\n",
      "{'scoreAddress': 'cx399dea56cf199b1c9e43bead0f6a284bdecfbf62', 'indexed': ['Deposit(Address,Address,int)', 'cxd4534956f0b749be87b8128b5f728166c1417a00', 'hxe62d11fa19a0e8575ad92f06bc8fd42edbfe27db'], 'data': ['0x56bc75e2d63100000']} \n",
      "\n",
      "{'scoreAddress': 'cxd4534956f0b749be87b8128b5f728166c1417a00', 'indexed': ['Transfer(Address,Address,int,bytes)', 'hxe62d11fa19a0e8575ad92f06bc8fd42edbfe27db', 'cx399dea56cf199b1c9e43bead0f6a284bdecfbf62', '0x56bc75e2d63100000'], 'data': ['0x7b226d6574686f64223a20225f6465706f736974227d']} \n",
      "\n"
     ]
    }
   ],
   "source": [
    "# Cell 16a\n",
    "# deposit ommtoken to dex to create a pool\n",
    "\n",
    "data = \"{\\\"method\\\": \\\"_deposit\\\"}\".encode(\"utf-8\")\n",
    "params = {'_to': contracts['dex']['SCORE'], '_value': 100 * ICX, '_data': data}\n",
    "transaction = CallTransactionBuilder()\\\n",
    "    .from_(user1.get_address())\\\n",
    "    .to('cxd4534956f0b749be87b8128b5f728166c1417a00')\\\n",
    "    .value(0)\\\n",
    "    .step_limit(10000000)\\\n",
    "    .nid(NID)\\\n",
    "    .nonce(100)\\\n",
    "    .method(\"transfer\")\\\n",
    "    .params(params)\\\n",
    "    .build()\n",
    "signed_transaction = SignedTransaction(transaction, user1)\n",
    "tx_hash = icon_service.send_transaction(signed_transaction)\n",
    "tx_hash\n",
    "\n",
    "res = get_tx_result(tx_hash)\n",
    "print(f'Status: {res[\"status\"]}')\n",
    "if len(res[\"eventLogs\"]) > 0:\n",
    "    for item in res[\"eventLogs\"]:\n",
    "        print(f'{item} \\n')\n",
    "if res['status'] == 0:\n",
    "    print(f'Failure: {res[\"failure\"]}')"
   ]
  },
  {
   "cell_type": "code",
   "execution_count": 62,
   "metadata": {},
   "outputs": [
    {
     "name": "stderr",
     "output_type": "stream",
     "text": [
      "Raised JSONRPCException while returning the custom response. Error message: {'code': -32602, 'message': 'Pending transaction'}\n",
      "Raised JSONRPCException while returning the custom response. Error message: {'code': -32602, 'message': 'Pending transaction'}\n"
     ]
    },
    {
     "name": "stdout",
     "output_type": "stream",
     "text": [
      "Status: 0\n",
      "Failure: {'code': 32, 'message': 'Balanced DEX Rewards distribution in progress, please try again shortly'}\n"
     ]
    }
   ],
   "source": [
    "# Cell 17a\n",
    "# add base and quote token addresses for the paris that we want to create a pool of omm/sicx.\n",
    "\n",
    "transaction = CallTransactionBuilder()\\\n",
    "    .from_(user1.get_address())\\\n",
    "    .to(contracts['dex']['SCORE'])\\\n",
    "    .value(0)\\\n",
    "    .step_limit(10000000)\\\n",
    "    .nid(NID)\\\n",
    "    .nonce(100)\\\n",
    "    .method(\"add\")\\\n",
    "    .params({'_baseToken':'cxd4534956f0b749be87b8128b5f728166c1417a00' , '_quoteToken': contracts['sicx']['SCORE'], '_baseValue': 100 * ICX, '_quoteValue': 200 * ICX}) \\\n",
    "    .build()\n",
    "signed_transaction = SignedTransaction(transaction, user1)\n",
    "tx_hash = icon_service.send_transaction(signed_transaction)\n",
    "tx_hash\n",
    "\n",
    "res = get_tx_result(tx_hash)\n",
    "print(f'Status: {res[\"status\"]}')\n",
    "if len(res[\"eventLogs\"]) > 0:\n",
    "    for item in res[\"eventLogs\"]:\n",
    "        print(f'{item} \\n')\n",
    "if res['status'] == 0:\n",
    "    print(f'Failure: {res[\"failure\"]}')"
   ]
  },
  {
   "cell_type": "code",
   "execution_count": null,
   "metadata": {},
   "outputs": [],
   "source": [
    "\n",
    "call = CallBuilder().from_(wallet.get_address())\\\n",
    "                    .to(contracts['dex']['SCORE'])\\\n",
    "                    .method('getPriceByName')\\\n",
    "                    .params({'_name': 'OMM2/sICX'}) \\\n",
    "                    .build()\n",
    "result = icon_service.call(call)\n",
    "int(result, 0) / 10**18"
   ]
  },
  {
   "cell_type": "code",
   "execution_count": 12,
   "metadata": {},
   "outputs": [
    {
     "name": "stdout",
     "output_type": "stream",
     "text": [
      "{'base': '0x2b5e3af16b1880000', 'quote': '0x56bc75e2d63100000', 'base_token': 'cxd4534956f0b749be87b8128b5f728166c1417a00', 'quote_token': 'cxae6334850f13dfd8b50f8544d5acb126bb8ef82d', 'total_supply': '0x3d54ecb1b916736b8', 'price': '0x1bc16d674ec80000', 'name': 'OMM2/sICX', 'base_decimals': '0x12', 'quote_decimals': '0x12', 'min_quote': '0x88c3ddbf4b4476f7'}\n"
     ]
    }
   ],
   "source": [
    "call = CallBuilder().from_(wallet.get_address())\\\n",
    "                    .to(contracts['dex']['SCORE'])\\\n",
    "                    .method('getPoolStats')\\\n",
    "                    .params({'_id': 8}) \\\n",
    "                    .build()\n",
    "result = icon_service.call(call)\n",
    "print(result)\n"
   ]
  },
  {
   "cell_type": "code",
   "execution_count": null,
   "metadata": {},
   "outputs": [],
   "source": []
  }
 ],
 "metadata": {
  "kernelspec": {
   "display_name": "Python 3",
   "language": "python",
   "name": "python3"
  },
  "language_info": {
   "codemirror_mode": {
    "name": "ipython",
    "version": 3
   },
   "file_extension": ".py",
   "mimetype": "text/x-python",
   "name": "python",
   "nbconvert_exporter": "python",
   "pygments_lexer": "ipython3",
   "version": "3.7.6"
  }
 },
 "nbformat": 4,
 "nbformat_minor": 4
}
