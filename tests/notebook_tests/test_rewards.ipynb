{
 "cells": [
  {
   "cell_type": "code",
   "execution_count": 1,
   "metadata": {},
   "outputs": [],
   "source": [
    "# Cell 0\n",
    "# If at all possible please test locally or on the private tbears server. The Testnet\n",
    "# is becoming cluttered with many deployments of Balanced contracts.\n",
    "# Note that running on the private tbears server will require the number of top P-Reps \n",
    "# be set to 4 in the staking contract or it will fail to deploy.\n",
    "\n",
    "network = \"custom\"  # set this to one of mainnet, yeouido, euljiro, pagoda, or custom\n",
    "\n",
    "connections = {\n",
    "\"mainnet\": {\"iconservice\": \"https://ctz.solidwallet.io\",       \"nid\": 1},\n",
    "\"yeouido\": {\"iconservice\": \"https://bicon.net.solidwallet.io\", \"nid\": 3},\n",
    "\"gangnam\": {\"iconservice\": \"https://gicon.net.solidwallet.io\", \"nid\": 3},\n",
    "\"hannam\": {\"iconservice\": \"https://hannam.net.solidwallet.io\", \"nid\": 3},\n",
    "\"euljiro\": {\"iconservice\": \"https://test-ctz.solidwallet.io\",  \"nid\": 2},\n",
    "\"pagoda\":  {\"iconservice\": \"https://zicon.net.solidwallet.io\", \"nid\":80},\n",
    "\"custom\":  {\"iconservice\": \"http://18.144.108.38:9000\",        \"nid\": 3}}\n",
    "\n",
    "env = connections[network]"
   ]
  },
  {
   "cell_type": "code",
   "execution_count": 18,
   "metadata": {},
   "outputs": [],
   "source": [
    "# Cell 1\n",
    "import sys\n",
    "sys.path.append(\"..\")\n",
    "import time\n",
    "from iconsdk.exception import JSONRPCException\n",
    "from iconsdk.libs.in_memory_zip import gen_deploy_data_content\n",
    "from iconsdk.icon_service import IconService\n",
    "from iconsdk.providers.http_provider import HTTPProvider\n",
    "from iconsdk.builder.transaction_builder import CallTransactionBuilder, TransactionBuilder, DeployTransactionBuilder\n",
    "from iconsdk.builder.call_builder import CallBuilder\n",
    "from iconsdk.signed_transaction import SignedTransaction\n",
    "from iconsdk.wallet.wallet import KeyWallet\n",
    "from iconsdk.utils.convert_type import convert_hex_str_to_int\n",
    "from repeater import retry\n",
    "from shutil import make_archive\n",
    "import pickle as pkl\n",
    "from datetime import datetime\n",
    "from time import sleep\n",
    "import json\n",
    "import os\n",
    "\n",
    "\n",
    "ICX = 1000000000000000000 # 10**18\n",
    "GOVERNANCE_ADDRESS = \"cx0000000000000000000000000000000000000000\"\n",
    "TEST_ORACLE = \"cx61a36e5d10412e03c907a507d1e8c6c3856d9964\"\n",
    "MAIN_ORACLE = \"cxe647e0af68a4661566f5e9861ad4ac854de808a2\"\n",
    "BALANCED_TEST = \"hx3f01840a599da07b0f620eeae7aa9c574169a4be\"\n",
    "\n",
    "@retry(JSONRPCException, tries=10, delay=1, back_off=2)\n",
    "def get_tx_result(_tx_hash):\n",
    "    tx_result = icon_service.get_transaction_result(_tx_hash)\n",
    "    return tx_result"
   ]
  },
  {
   "cell_type": "code",
   "execution_count": 3,
   "metadata": {},
   "outputs": [],
   "source": [
    "# Cell 2\n",
    "\n",
    "icon_service = IconService(HTTPProvider(env[\"iconservice\"], 3))\n",
    "NID = env[\"nid\"]"
   ]
  },
  {
   "cell_type": "code",
   "execution_count": 4,
   "metadata": {},
   "outputs": [],
   "source": [
    "# Cell 3\n",
    "\n",
    "wallet = KeyWallet.load(\"../keystores/keystore_test1.json\", \"test1_Account\")\n",
    "# Balanced test wallet\n",
    "with open(\"../keystores/balanced_test.pwd\", \"r\") as f:\n",
    "    key_data = f.read()\n",
    "btest_wallet = KeyWallet.load(\"../keystores/balanced_test.json\", key_data)\n",
    "with open(\"../keystores/staking_test.pwd\", \"r\") as f:\n",
    "    key_data = f.read()\n",
    "staking_wallet = KeyWallet.load(\"../keystores/staking_test.json\", key_data)\n"
   ]
  },
  {
   "cell_type": "code",
   "execution_count": 5,
   "metadata": {},
   "outputs": [
    {
     "name": "stdout",
     "output_type": "stream",
     "text": [
      "hxe7af5fcfd8dfc67530a01a0e403882687528dfcb\n",
      "778729831.1272933\n"
     ]
    }
   ],
   "source": [
    "print(wallet.get_address())\n",
    "print(icon_service.get_balance(wallet.get_address()) / 10**18)"
   ]
  },
  {
   "cell_type": "code",
   "execution_count": 6,
   "metadata": {},
   "outputs": [
    {
     "name": "stdout",
     "output_type": "stream",
     "text": [
      "hx3f01840a599da07b0f620eeae7aa9c574169a4be\n",
      "1666137.908677\n"
     ]
    }
   ],
   "source": [
    "print(btest_wallet.get_address())\n",
    "print(icon_service.get_balance(btest_wallet.get_address()) / 10**18)"
   ]
  },
  {
   "cell_type": "code",
   "execution_count": 7,
   "metadata": {},
   "outputs": [
    {
     "name": "stdout",
     "output_type": "stream",
     "text": [
      "169499.6676104\n",
      "hxe62d11fa19a0e8575ad92f06bc8fd42edbfe27db\n",
      "206479.4145438\n",
      "hx7a1824129a8fe803e45a3aae1c0e060399546187\n"
     ]
    }
   ],
   "source": [
    "user1 = KeyWallet.load(\"../keystores/user1.json\",\"HelloWorld@1234\")\n",
    "# btest_wallet = KeyWallet.load(\"./balanced_test.json\",\"HelloWorld@1234\")\n",
    "\n",
    "print(icon_service.get_balance(user1.get_address())/10**18)\n",
    "print(user1.get_address())\n",
    "\n",
    "# test2 = hx7a1824129a8fe803e45a3aae1c0e060399546187\n",
    "private = \"0a354424b20a7e3c55c43808d607bddfac85d033e63d7d093cb9f0a26c4ee022\"\n",
    "user2 = KeyWallet.load(bytes.fromhex(private))\n",
    "print(icon_service.get_balance(user2.get_address())/10**18)\n",
    "print(user2.get_address())"
   ]
  },
  {
   "cell_type": "code",
   "execution_count": null,
   "metadata": {},
   "outputs": [],
   "source": []
  },
  {
   "cell_type": "code",
   "execution_count": 117,
   "metadata": {},
   "outputs": [],
   "source": [
    "dict_list = []\n",
    "for i in range(0, 5):\n",
    "    data = {}\n",
    "    wallet2 = KeyWallet.create()\n",
    "    address = wallet2.get_address()\n",
    "    private_key = wallet2.get_private_key()\n",
    "    data[address] = private_key\n",
    "    dict_list.append(data)\n",
    "with open('wallet2.json', 'a') as f:\n",
    "    json.dump(dict_list, f, ensure_ascii=False, indent=4)"
   ]
  },
  {
   "cell_type": "code",
   "execution_count": 8,
   "metadata": {},
   "outputs": [],
   "source": [
    "with open('wallet2.json') as f:\n",
    "    data = json.load(f)"
   ]
  },
  {
   "cell_type": "code",
   "execution_count": 119,
   "metadata": {},
   "outputs": [
    {
     "name": "stdout",
     "output_type": "stream",
     "text": [
      "hxc92735c9a954399c2fb722ae28bf22a10e27491e\n"
     ]
    },
    {
     "name": "stderr",
     "output_type": "stream",
     "text": [
      "Raised JSONRPCException while returning the custom response. Error message: {'code': -32602, 'message': 'Pending transaction'}\n"
     ]
    },
    {
     "name": "stdout",
     "output_type": "stream",
     "text": [
      "Retrying in 1 seconds...\n",
      "hxa9e67162f41c05c651d50d1197fc8596864af801\n"
     ]
    },
    {
     "name": "stderr",
     "output_type": "stream",
     "text": [
      "Raised JSONRPCException while returning the custom response. Error message: {'code': -32602, 'message': 'Pending transaction'}\n"
     ]
    },
    {
     "name": "stdout",
     "output_type": "stream",
     "text": [
      "Retrying in 1 seconds...\n",
      "hx7b4dd3efcc72c5e2b210852742593178c210742c\n"
     ]
    },
    {
     "name": "stderr",
     "output_type": "stream",
     "text": [
      "Raised JSONRPCException while returning the custom response. Error message: {'code': -32602, 'message': 'Pending transaction'}\n"
     ]
    },
    {
     "name": "stdout",
     "output_type": "stream",
     "text": [
      "Retrying in 1 seconds...\n",
      "hx22722df8f35ddbe40954cb4496619ae932a4ac3b\n"
     ]
    },
    {
     "name": "stderr",
     "output_type": "stream",
     "text": [
      "Raised JSONRPCException while returning the custom response. Error message: {'code': -32602, 'message': 'Pending transaction'}\n"
     ]
    },
    {
     "name": "stdout",
     "output_type": "stream",
     "text": [
      "Retrying in 1 seconds...\n",
      "hxe6645482385915b2329f444f59abf49fe5024bd7\n"
     ]
    }
   ],
   "source": [
    "for dict in data:\n",
    "    for items in dict.items():\n",
    "        print(items[0])\n",
    "        set_div_per = TransactionBuilder() \\\n",
    "            .from_(wallet.get_address()) \\\n",
    "            .to(items[0]) \\\n",
    "            .nid(NID) \\\n",
    "            .nonce(100) \\\n",
    "            .value(5000 * 10 ** 18) \\\n",
    "            .build()\n",
    "        estimate_step = icon_service.estimate_step(set_div_per)\n",
    "        step_limit = estimate_step + 10000000\n",
    "        signed_transaction = SignedTransaction(set_div_per, wallet, step_limit)\n",
    "\n",
    "        tx_hash = icon_service.send_transaction(signed_transaction)\n",
    "        ab = get_tx_result(tx_hash)"
   ]
  },
  {
   "cell_type": "code",
   "execution_count": 4,
   "metadata": {},
   "outputs": [],
   "source": [
    "contraccts = {'loans': {'zip': '../../core_contracts/loans.zip', 'SCORE': 'cx6bad461190dcf3a35b2e2e1440d9176c7a8264f0'}, 'staking': {'zip': '../../core_contracts/staking.zip', 'SCORE': 'cxb94efc11885ee6e915b50baed2700b3194e5ec66'}, 'dividends': {'zip': '../../core_contracts/dividends.zip', 'SCORE': 'cx7631bcb22e822687a2d6dec606eebc751449ba30'}, 'reserve': {'zip': '../../core_contracts/reserve.zip', 'SCORE': 'cx603076b63252bd94b738934e4583896caa8ee72f'}, 'daofund': {'zip': '../../core_contracts/daofund.zip', 'SCORE': 'cx224c364107dde7862aaef602e88a084f0653469c'}, 'rewards': {'zip': '../../core_contracts/rewards.zip', 'SCORE': 'cx78c888afcf1323d01e52a8ead05c436feaa72329'}, 'dex': {'zip': '../../core_contracts/dex.zip', 'SCORE': 'cxddb61d71209d4afcd2edacb88d7aa0c632cbb22c'}, 'governance': {'zip': '../../core_contracts/governance.zip', 'SCORE': 'cxd3f8414a6319d623dc3021d02e0da661a2c049d4'}, 'oracle': {'zip': '../../core_contracts/oracle.zip', 'SCORE': 'cxed97bdb35a7ca1b3993e400e4dba9e11610338f7'}, 'sicx': {'zip': '../../token_contracts/sicx.zip', 'SCORE': 'cx7449a63d229f9a78482d4b0ddec7cc6dcac11e8d'}, 'bnUSD': {'zip': '../../token_contracts/bnUSD.zip', 'SCORE': 'cxacecca4b07df90942df83e8de69615195d32e7d6'}, 'bnXLM': {'zip': '../../token_contracts/bnXLM.zip', 'SCORE': 'cx64de172d1ece1cfb5d3032335dc6d0763d40f62c'}, 'bnDOGE': {'zip': '../../token_contracts/bnDOGE.zip', 'SCORE': 'cx601605cb56a86bf9d01e4c3546c011c9531be214'}, 'baln': {'zip': '../../token_contracts/baln.zip', 'SCORE': 'cx5bb188b6ae5121bbd9ab612520a06c8708a3417f'}, 'bwt': {'zip': '../../token_contracts/bwt.zip', 'SCORE': 'cx9aef4d9e2b7054091ed93eba704756e701cb5145'}}"
   ]
  },
  {
   "cell_type": "code",
   "execution_count": 9,
   "metadata": {},
   "outputs": [],
   "source": [
    "# Cell 5a\n",
    "# The following addresses are those deployed to the private tbears server.\n",
    "\n",
    "contracts = {'loans': {'zip': 'core_contracts/loans.zip',\n",
    "  'SCORE': 'cxa0f715fb2c4bc8f4c6399c2cc26167a27be0aa61'},\n",
    " 'staking': {'zip': 'core_contracts/staking.zip',\n",
    "  'SCORE': 'cxbabed822d59b605dbeb6322735c529b292baac3b'},\n",
    " 'dividends': {'zip': 'core_contracts/dividends.zip',\n",
    "  'SCORE': 'cx1379084f45776301abda3849c6e374f460ee0155'},\n",
    " 'reserve': {'zip': 'core_contracts/reserve.zip',\n",
    "  'SCORE': 'cx71dda2221bf88faddc8f84b72ffd6db296e5609e'},\n",
    " 'daofund': {'zip': 'core_contracts/daofund.zip',\n",
    "  'SCORE': 'cxfd09787f23d23b945fa0c7eb55b5aa69425da1c8'},\n",
    " 'rewards': {'zip': 'core_contracts/rewards.zip',\n",
    "  'SCORE': 'cx27aa3bf62145822e60d85fa5d18dabdcff5b9ada'},\n",
    " 'dex': {'zip': 'core_contracts/dex.zip',\n",
    "  'SCORE': 'cx01eee12b6614e5328e0a84261652cb7f055e0176'},\n",
    " 'governance': {'zip': 'core_contracts/governance.zip',\n",
    "  'SCORE': 'cxd7b3e71dcff3d75392216e208f28ef68e8a54ec0'},\n",
    " 'oracle': {'zip': 'core_contracts/oracle.zip',\n",
    "  'SCORE': 'cxed97bdb35a7ca1b3993e400e4dba9e11610338f7'},\n",
    " 'sicx': {'zip': 'token_contracts/sicx.zip',\n",
    "  'SCORE': 'cx799f724e02560a762b5f2bd3b6d2d8d59d7aecc1'},\n",
    " 'bnUSD': {'zip': 'token_contracts/bnUSD.zip',\n",
    "  'SCORE': 'cx266bdc0c35828c8130cdf1cbaa3ad109f7694722'},\n",
    " 'bnXLM': {'zip': 'token_contracts/bnXLM.zip',\n",
    "  'SCORE': 'cx266bdc0c35828c8130cdf1cbaa3ad109f7694722'},\n",
    " 'bnDOGE': {'zip': 'token_contracts/bnDOGE.zip',\n",
    "  'SCORE': 'cx266bdc0c35828c8130cdf1cbaa3ad109f7694722'},\n",
    " 'baln': {'zip': 'token_contracts/baln.zip',\n",
    "  'SCORE': 'cx4d0768508a7ff550de4405f27aebfb8831565c19'},\n",
    " 'bwt': {'zip': 'token_contracts/bwt.zip',\n",
    "  'SCORE': 'cx663f9d59163846d9f6c6f7b586858c59aa8878a9'}}"
   ]
  },
  {
   "cell_type": "code",
   "execution_count": 10,
   "metadata": {},
   "outputs": [],
   "source": [
    "# Cell 6\n",
    "# Define deploy and send_tx functions\n",
    "\n",
    "def send_icx(to, amount, wallet):\n",
    "    transaction = TransactionBuilder()\\\n",
    "        .from_(wallet.get_address())\\\n",
    "        .to(to)\\\n",
    "        .value(amount)\\\n",
    "        .step_limit(1000000) \\\n",
    "        .nid(NID) \\\n",
    "        .nonce(2) \\\n",
    "        .version(3) \\\n",
    "        .build()\n",
    "    signed_transaction = SignedTransaction(transaction, wallet)\n",
    "    return icon_service.send_transaction(signed_transaction)\n",
    "\n",
    "\n",
    "def compress():\n",
    "    \"\"\"\n",
    "    Compress all SCORE folders in the core_contracts and token_contracts folders.\n",
    "    Make sure the oracle address is correct.\n",
    "    \"\"\"\n",
    "    deploy = list(contracts.keys())[:]\n",
    "    for directory in {\"../../core_contracts\", \"../../token_contracts\"}:\n",
    "        with os.scandir(directory) as it:\n",
    "            for file in it:\n",
    "                archive_name = directory + \"/\" + file.name\n",
    "                if file.is_dir() and file.name in deploy:\n",
    "                    make_archive(archive_name, \"zip\", directory, file.name)\n",
    "                    contracts[file.name]['zip'] = archive_name + '.zip'\n",
    "    if network == \"yeouido\":\n",
    "        contracts['oracle']['SCORE'] = TEST_ORACLE\n",
    "    elif network == \"mainnet\":\n",
    "        contracts['oracle']['SCORE'] = MAIN_ORACLE\n",
    "                    \n",
    "\n",
    "def deploy_SCORE(contract, params, wallet, update) -> str:\n",
    "    \"\"\"\n",
    "    contract is of form {'zip': 'core_contracts/governance.zip', 'SCORE': 'cx1d81f93b3b8d8d2a6455681c46128868782ddd09'}\n",
    "    params is a dicts\n",
    "    wallet is a wallet file\n",
    "    update is boolian\n",
    "    \"\"\"\n",
    "    print(f'{contract[\"zip\"]}')\n",
    "    if update:\n",
    "        dest = contract['SCORE']\n",
    "    else:\n",
    "        dest = GOVERNANCE_ADDRESS\n",
    "    zip_file = contract['zip']\n",
    "    step_limit = 3000000000\n",
    "    deploy_transaction = DeployTransactionBuilder()\\\n",
    "        .from_(wallet.get_address())\\\n",
    "        .to(dest)\\\n",
    "        .nid(NID)\\\n",
    "        .nonce(100)\\\n",
    "        .content_type(\"application/zip\")\\\n",
    "        .content(gen_deploy_data_content(zip_file))\\\n",
    "        .params(params)\\\n",
    "        .build()\n",
    "\n",
    "    signed_transaction = SignedTransaction(deploy_transaction, wallet, step_limit)\n",
    "    tx_hash = icon_service.send_transaction(signed_transaction)\n",
    "\n",
    "    res = get_tx_result(tx_hash)\n",
    "    print(f'Status: {res[\"status\"]}')\n",
    "    if len(res[\"eventLogs\"]) > 0:\n",
    "        for item in res[\"eventLogs\"]:\n",
    "            print(f'{item} \\n')\n",
    "    if res['status'] == 0:\n",
    "        print(f'Failure: {res[\"failure\"]}')\n",
    "    print('')\n",
    "    return res\n",
    "\n",
    "def send_tx(dest, value, method, params, wallet, _print = True):\n",
    "    \"\"\"\n",
    "    dest is the name of the destination contract.\n",
    "    \"\"\"\n",
    "    if _print:\n",
    "        print('------------------------------------------------------------------------------------------------------------------')\n",
    "        print(f'Calling {method}, with parameters {params} on the {dest} contract.')\n",
    "        print('------------------------------------------------------------------------------------------------------------------')\n",
    "    transaction = CallTransactionBuilder()\\\n",
    "        .from_(wallet.get_address())\\\n",
    "        .to(contracts[dest]['SCORE'])\\\n",
    "        .value(value)\\\n",
    "        .step_limit(10000000)\\\n",
    "        .nid(NID)\\\n",
    "        .nonce(100)\\\n",
    "        .method(method)\\\n",
    "        .params(params)\\\n",
    "        .build()\n",
    "    signed_transaction = SignedTransaction(transaction, wallet)\n",
    "    tx_hash = icon_service.send_transaction(signed_transaction)\n",
    "\n",
    "    res = get_tx_result(tx_hash)\n",
    "    if _print:\n",
    "        print(f'************************************************** Status: {res[\"status\"]} **************************************************')\n",
    "    if len(res[\"eventLogs\"]) > 0:\n",
    "        for item in res[\"eventLogs\"]:\n",
    "            print(f'{item} \\n')\n",
    "    if res['status'] == 0:\n",
    "        if _print:\n",
    "            print(f'Failure: {res[\"failure\"]}')\n",
    "    return res\n",
    "\n",
    "def deploy_all(wallet, staking_wallet):\n",
    "    \"\"\"\n",
    "    Compress and Deploy all SCOREs.\n",
    "    \"\"\"\n",
    "    compress()\n",
    "\n",
    "    deploy = list(contracts.keys())[:]\n",
    "    deploy.remove('oracle')\n",
    "    deploy.remove('staking')\n",
    "    deploy.remove('sicx')\n",
    "    deploy.remove('governance')\n",
    "    if network == \"mainnet\":\n",
    "        if 'bnXLM' in deploy:\n",
    "            deploy.remove('bnXLM')\n",
    "        if 'bnDOGE' in deploy:\n",
    "            deploy.remove('bnDOGE')\n",
    "\n",
    "    results = {}\n",
    "    res = deploy_SCORE(contracts['governance'], {}, wallet, 0)\n",
    "    results[f'{contracts[\"governance\"]}|deploy|{{}}'] = res\n",
    "    governance = res.get('scoreAddress', '')\n",
    "    contracts['governance']['SCORE'] = governance\n",
    "    params = {'_governance': governance}\n",
    "    for score in deploy:\n",
    "        res = deploy_SCORE(contracts[score], params, wallet, 0)\n",
    "        results[f'{contracts[score]}|deploy|{params}'] = res\n",
    "        contracts[score]['SCORE'] = res.get('scoreAddress', '')\n",
    "\n",
    "    res = deploy_SCORE(contracts['staking'], {}, staking_wallet, 0)\n",
    "    results[f'{contracts[\"staking\"]}|deploy|{{}}'] = res\n",
    "    contracts['staking']['SCORE'] = res.get('scoreAddress', '')\n",
    "\n",
    "    params = {'_admin': contracts['staking']['SCORE']}\n",
    "    res = deploy_SCORE(contracts['sicx'], params, staking_wallet, 0)\n",
    "    results[f'{contracts[\"sicx\"]}|deploy|{params}'] = res\n",
    "    contracts['sicx']['SCORE'] = res.get('scoreAddress', '')\n",
    "    \n",
    "    return results\n",
    "\n",
    "    \n",
    "def config_balanced(wallet, staking_wallet):\n",
    "    \"\"\"\n",
    "    Configure all SCOREs before launch.\n",
    "    \"\"\"\n",
    "    config = list(contracts.keys())[:]\n",
    "    config.remove('governance')\n",
    "    config.remove('bnDOGE')\n",
    "    config.remove('bnXLM')\n",
    "    addresses = {contract: contracts[contract]['SCORE'] for contract in config}\n",
    "    txns = [{'contract': 'governance', 'value': 0, 'method': 'setAddresses', 'params': {'_addresses': addresses}, 'wallet': wallet},\n",
    "            {'contract': 'staking', 'value': 0, 'method': 'setSicxAddress', 'params': {'_address': contracts['sicx']['SCORE']}, 'wallet': staking_wallet},\n",
    "            {'contract': 'governance', 'value': 0, 'method': 'configureBalanced', 'params': {}, 'wallet': wallet}]\n",
    "\n",
    "    results = {}\n",
    "    for tx in txns:\n",
    "        res = send_tx(tx[\"contract\"], tx[\"value\"], tx[\"method\"], tx[\"params\"], tx[\"wallet\"])\n",
    "        results[f'{tx[\"contract\"]}|{tx[\"method\"]}|{tx[\"params\"]}'] = res\n",
    "\n",
    "    return results\n",
    "\n",
    "def launch_balanced(wallet, staking_wallet):\n",
    "    \"\"\"\n",
    "    Launch Balanced, turn on staking management, and set delegation for sICX on the Loans contract.\n",
    "    \"\"\"\n",
    "    if network == \"custom\":\n",
    "        preps = {\n",
    "            \"hx9eec61296a7010c867ce24c20e69588e2832bc52\",  # ICX Station\n",
    "            \"hx000e0415037ae871184b2c7154e5924ef2bc075e\"}  # iBriz-ICONOsphere\n",
    "    elif network == \"yeouido\":\n",
    "        preps = {\n",
    "            \"hx23823847f593ecb65c9e1ea81a789b02766280e8\",  # ICX Station\n",
    "            \"hxe0cde6567eb6529fe31b0dc2f2697af84847f321\",  # iBriz-ICONOsphere\n",
    "            \"hx83c0fc2bcac7ecb3928539e0256e29fc371b5078\",  # Mousebelt\n",
    "            \"hx48b4636e84d8c491c88c18b65dceb7598c4600cc\",  # Parrot 9\n",
    "            \"hxb4e90a285a79687ec148c29faabe6f71afa8a066\"}  # ICONDAO\n",
    "    elif network == \"mainnet\":\n",
    "        preps = {\n",
    "            \"hxfba37e91ccc13ec1dab115811f73e429cde44d48\",  # ICX Station\n",
    "            \"hx231a795d1c719b9edf35c46b9daa4e0b5a1e83aa\",  # iBriz-ICONOsphere\n",
    "            \"hxbc9c73670c79e8f6f8060551a792c2cf29a8c491\",  # Mousebelt\n",
    "            \"hx28c08b299995a88756af64374e13db2240bc3142\"}  # Parrot 9\n",
    "    else:\n",
    "        return\n",
    "\n",
    "    txns = [{'contract': 'governance', 'value': 0, 'method': 'launchBalanced', 'params': {}, 'wallet': wallet},\n",
    "            {'contract': 'staking', 'value': 0, 'method': 'toggleStakingOn', 'params': {}, 'wallet': staking_wallet},\n",
    "            {'contract': 'governance', 'value': 0, 'method': 'delegate', 'params': {'_delegations': [{'_address': prep, '_votes_in_per': str(100 * ICX // len(preps))} for prep in preps]}, 'wallet': wallet}]\n",
    "\n",
    "    results = {}\n",
    "    for tx in txns:\n",
    "        res = send_tx(tx[\"contract\"], tx[\"value\"], tx[\"method\"], tx[\"params\"], tx[\"wallet\"])\n",
    "        results[f'{tx[\"contract\"]}|{tx[\"method\"]}|{tx[\"params\"]}'] = res\n",
    "\n",
    "    return results\n",
    "   \n",
    "\n",
    "def get_scores_json(contracts):\n",
    "    \"\"\"\n",
    "    Prints out dictionary of SCORE addresses for use in testing UI.\n",
    "    \"\"\"\n",
    "    scores = {}\n",
    "    for score in contracts:\n",
    "        scores[score] = contracts[score]['SCORE']\n",
    "    return json.dumps(scores)\n",
    "\n",
    "def call_tx(dest: str, method: str, params: dict = {}, _print = True):\n",
    "    \"\"\"\n",
    "    dest is the name of the destination contract.\n",
    "    \"\"\"\n",
    "    if _print:\n",
    "        print('------------------------------------------------------------------------------------------------------------------')\n",
    "        print(f'Reading {method}, with parameters {params} on the {dest} contract.')\n",
    "        print('------------------------------------------------------------------------------------------------------------------')\n",
    "    call = CallBuilder()\\\n",
    "        .from_(btest_wallet.get_address())\\\n",
    "        .to(contracts[dest]['SCORE'])\\\n",
    "        .method(method)\\\n",
    "        .params(params)\\\n",
    "        .build()\n",
    "    result = icon_service.call(call)\n",
    "    if _print:\n",
    "        print(result)\n",
    "    return result\n",
    "\n",
    "def fast_send_tx(dest, value, method, params, wallet, _print = False):\n",
    "    \"\"\"\n",
    "    dest is the name of the destination contract.\n",
    "    \"\"\"\n",
    "    if _print:\n",
    "        print('------------------------------------------------------------------------------------------------------------------')\n",
    "        print(f'Calling {method}, with parameters {params} on the {dest} contract.')\n",
    "        print('------------------------------------------------------------------------------------------------------------------')\n",
    "    transaction = CallTransactionBuilder()\\\n",
    "        .from_(wallet.get_address())\\\n",
    "        .to(contracts[dest]['SCORE'])\\\n",
    "        .value(value)\\\n",
    "        .step_limit(10000000)\\\n",
    "        .nid(NID)\\\n",
    "        .nonce(100)\\\n",
    "        .method(method)\\\n",
    "        .params(params)\\\n",
    "        .build()\n",
    "    signed_transaction = SignedTransaction(transaction, wallet)\n",
    "    tx_hash = icon_service.send_transaction(signed_transaction)\n",
    "    \n",
    "    res = get_tx_result(tx_hash)\n",
    "    if _print:\n",
    "        print(f'************************************************** Status: {res[\"status\"]} **************************************************')\n",
    "    if len(res[\"eventLogs\"]) > 0:\n",
    "        for item in res[\"eventLogs\"]:\n",
    "            print(f'{item} \\n')\n",
    "    if res['status'] == 0:\n",
    "        if _print:\n",
    "            print(f'Failure: {res[\"failure\"]}')\n",
    "    return res\n",
    "\n"
   ]
  },
  {
   "cell_type": "code",
   "execution_count": 52,
   "metadata": {},
   "outputs": [
    {
     "name": "stdout",
     "output_type": "stream",
     "text": [
      "../../core_contracts/governance.zip\n",
      "Status: 1\n",
      "\n",
      "../../core_contracts/loans.zip\n",
      "Status: 1\n",
      "\n",
      "../../core_contracts/dividends.zip\n"
     ]
    },
    {
     "name": "stderr",
     "output_type": "stream",
     "text": [
      "Raised JSONRPCException while returning the custom response. Error message: {'code': -32602, 'message': 'Pending transaction'}\n"
     ]
    },
    {
     "name": "stdout",
     "output_type": "stream",
     "text": [
      "Retrying in 1 seconds...\n",
      "Status: 1\n",
      "\n",
      "../../core_contracts/reserve.zip\n"
     ]
    },
    {
     "name": "stderr",
     "output_type": "stream",
     "text": [
      "Raised JSONRPCException while returning the custom response. Error message: {'code': -32602, 'message': 'Pending transaction'}\n"
     ]
    },
    {
     "name": "stdout",
     "output_type": "stream",
     "text": [
      "Retrying in 1 seconds...\n",
      "Status: 1\n",
      "\n",
      "../../core_contracts/daofund.zip\n"
     ]
    },
    {
     "name": "stderr",
     "output_type": "stream",
     "text": [
      "Raised JSONRPCException while returning the custom response. Error message: {'code': -32602, 'message': 'Pending transaction'}\n"
     ]
    },
    {
     "name": "stdout",
     "output_type": "stream",
     "text": [
      "Retrying in 1 seconds...\n",
      "Status: 1\n",
      "\n",
      "../../core_contracts/rewards.zip\n",
      "Status: 1\n",
      "\n",
      "../../core_contracts/dex.zip\n",
      "Status: 1\n",
      "\n",
      "../../token_contracts/bnUSD.zip\n"
     ]
    },
    {
     "name": "stderr",
     "output_type": "stream",
     "text": [
      "Raised JSONRPCException while returning the custom response. Error message: {'code': -32602, 'message': 'Pending transaction'}\n"
     ]
    },
    {
     "name": "stdout",
     "output_type": "stream",
     "text": [
      "Retrying in 1 seconds...\n",
      "Status: 1\n",
      "\n",
      "../../token_contracts/bnXLM.zip\n"
     ]
    },
    {
     "name": "stderr",
     "output_type": "stream",
     "text": [
      "Raised JSONRPCException while returning the custom response. Error message: {'code': -32602, 'message': 'Pending transaction'}\n"
     ]
    },
    {
     "name": "stdout",
     "output_type": "stream",
     "text": [
      "Retrying in 1 seconds...\n",
      "Status: 1\n",
      "\n",
      "../../token_contracts/bnDOGE.zip\n",
      "Status: 1\n",
      "\n",
      "../../token_contracts/baln.zip\n"
     ]
    },
    {
     "name": "stderr",
     "output_type": "stream",
     "text": [
      "Raised JSONRPCException while returning the custom response. Error message: {'code': -32602, 'message': 'Pending transaction'}\n"
     ]
    },
    {
     "name": "stdout",
     "output_type": "stream",
     "text": [
      "Retrying in 1 seconds...\n",
      "Status: 1\n",
      "\n",
      "../../token_contracts/bwt.zip\n"
     ]
    },
    {
     "name": "stderr",
     "output_type": "stream",
     "text": [
      "Raised JSONRPCException while returning the custom response. Error message: {'code': -32602, 'message': 'Pending transaction'}\n"
     ]
    },
    {
     "name": "stdout",
     "output_type": "stream",
     "text": [
      "Retrying in 1 seconds...\n",
      "Status: 1\n",
      "\n",
      "../../core_contracts/staking.zip\n",
      "Status: 1\n",
      "\n",
      "../../token_contracts/sicx.zip\n"
     ]
    },
    {
     "name": "stderr",
     "output_type": "stream",
     "text": [
      "Raised JSONRPCException while returning the custom response. Error message: {'code': -32602, 'message': 'Pending transaction'}\n"
     ]
    },
    {
     "name": "stdout",
     "output_type": "stream",
     "text": [
      "Retrying in 1 seconds...\n",
      "Status: 1\n",
      "\n",
      "------------------------------------------------------------------------------------------------------------------\n",
      "{'loans': {'zip': '../../core_contracts/loans.zip', 'SCORE': 'cxad89388261a1d5fbaae2079ecae3c48c7145e7af'}, 'staking': {'zip': '../../core_contracts/staking.zip', 'SCORE': 'cxee587c44736a799ab2828630102bcdc2f1604062'}, 'dividends': {'zip': '../../core_contracts/dividends.zip', 'SCORE': 'cx889cdc88fa4330e71ec0e96e34d115441bd1859e'}, 'reserve': {'zip': '../../core_contracts/reserve.zip', 'SCORE': 'cx65ba1de8ef7515025943488640070054060dac32'}, 'daofund': {'zip': '../../core_contracts/daofund.zip', 'SCORE': 'cx413906f902467b3b236837a2a916ea032a07e51a'}, 'rewards': {'zip': '../../core_contracts/rewards.zip', 'SCORE': 'cx3493926cd5ae38f9990af3355b4f7bf27130c14e'}, 'dex': {'zip': '../../core_contracts/dex.zip', 'SCORE': 'cxd7267fab77f070230303e74e1997f2a3b6078b78'}, 'governance': {'zip': '../../core_contracts/governance.zip', 'SCORE': 'cx334001e13026a5fdd698f34950cfbf14f52bdfc9'}, 'oracle': {'zip': '../../core_contracts/oracle.zip', 'SCORE': 'cxed97bdb35a7ca1b3993e400e4dba9e11610338f7'}, 'sicx': {'zip': '../../token_contracts/sicx.zip', 'SCORE': 'cx74f5f8bca343808db6deb37b3f2db5684b095166'}, 'bnUSD': {'zip': '../../token_contracts/bnUSD.zip', 'SCORE': 'cxe245a6afab05318418e41673f6fdc7111943afb0'}, 'bnXLM': {'zip': '../../token_contracts/bnXLM.zip', 'SCORE': 'cxd2a33846e7bdcfaf45149e79d36f03da80f28e9b'}, 'bnDOGE': {'zip': '../../token_contracts/bnDOGE.zip', 'SCORE': 'cx0e3a1c27414364eaa4a3ad8e58d68ff85b9a0c5d'}, 'baln': {'zip': '../../token_contracts/baln.zip', 'SCORE': 'cx513189a70c52d4ff32e7bc22a4b64d48102df7f8'}, 'bwt': {'zip': '../../token_contracts/bwt.zip', 'SCORE': 'cx0768e7dae4911e4ce1462d90cfabdaa426fa5bf5'}}\n",
      "----------Contracts for Testing UI--------------------------------------------------------------------------------\n",
      "{\"loans\": \"cxad89388261a1d5fbaae2079ecae3c48c7145e7af\", \"staking\": \"cxee587c44736a799ab2828630102bcdc2f1604062\", \"dividends\": \"cx889cdc88fa4330e71ec0e96e34d115441bd1859e\", \"reserve\": \"cx65ba1de8ef7515025943488640070054060dac32\", \"daofund\": \"cx413906f902467b3b236837a2a916ea032a07e51a\", \"rewards\": \"cx3493926cd5ae38f9990af3355b4f7bf27130c14e\", \"dex\": \"cxd7267fab77f070230303e74e1997f2a3b6078b78\", \"governance\": \"cx334001e13026a5fdd698f34950cfbf14f52bdfc9\", \"oracle\": \"cxed97bdb35a7ca1b3993e400e4dba9e11610338f7\", \"sicx\": \"cx74f5f8bca343808db6deb37b3f2db5684b095166\", \"bnUSD\": \"cxe245a6afab05318418e41673f6fdc7111943afb0\", \"bnXLM\": \"cxd2a33846e7bdcfaf45149e79d36f03da80f28e9b\", \"bnDOGE\": \"cx0e3a1c27414364eaa4a3ad8e58d68ff85b9a0c5d\", \"baln\": \"cx513189a70c52d4ff32e7bc22a4b64d48102df7f8\", \"bwt\": \"cx0768e7dae4911e4ce1462d90cfabdaa426fa5bf5\"}\n"
     ]
    }
   ],
   "source": [
    "# Cell 7\n",
    "# Deploy and configure Balanced. Print results if anything goes wrong.\n",
    "\n",
    "if network == 'custom':\n",
    "    confirm = 'Yes'\n",
    "else:\n",
    "    confirm = input(f'Deploying Balanced to {network}. Proceed (Yes/No)? ')\n",
    "if confirm == 'Yes':\n",
    "    results = {}\n",
    "    deploy_all(btest_wallet, staking_wallet)\n",
    "    print('------------------------------------------------------------------------------------------------------------------')\n",
    "    print(contracts)\n",
    "    print('----------Contracts for Testing UI--------------------------------------------------------------------------------')\n",
    "    print(get_scores_json(contracts))"
   ]
  },
  {
   "cell_type": "code",
   "execution_count": 53,
   "metadata": {},
   "outputs": [
    {
     "name": "stdout",
     "output_type": "stream",
     "text": [
      "------------------------------------------------------------------------------------------------------------------\n",
      "Calling setAddresses, with parameters {'_addresses': {'loans': 'cxad89388261a1d5fbaae2079ecae3c48c7145e7af', 'staking': 'cxee587c44736a799ab2828630102bcdc2f1604062', 'dividends': 'cx889cdc88fa4330e71ec0e96e34d115441bd1859e', 'reserve': 'cx65ba1de8ef7515025943488640070054060dac32', 'daofund': 'cx413906f902467b3b236837a2a916ea032a07e51a', 'rewards': 'cx3493926cd5ae38f9990af3355b4f7bf27130c14e', 'dex': 'cxd7267fab77f070230303e74e1997f2a3b6078b78', 'oracle': 'cxed97bdb35a7ca1b3993e400e4dba9e11610338f7', 'sicx': 'cx74f5f8bca343808db6deb37b3f2db5684b095166', 'bnUSD': 'cxe245a6afab05318418e41673f6fdc7111943afb0', 'baln': 'cx513189a70c52d4ff32e7bc22a4b64d48102df7f8', 'bwt': 'cx0768e7dae4911e4ce1462d90cfabdaa426fa5bf5'}} on the governance contract.\n",
      "------------------------------------------------------------------------------------------------------------------\n"
     ]
    },
    {
     "name": "stderr",
     "output_type": "stream",
     "text": [
      "Raised JSONRPCException while returning the custom response. Error message: {'code': -32602, 'message': 'Pending transaction'}\n"
     ]
    },
    {
     "name": "stdout",
     "output_type": "stream",
     "text": [
      "Retrying in 1 seconds...\n",
      "************************************************** Status: 1 **************************************************\n",
      "------------------------------------------------------------------------------------------------------------------\n",
      "Calling setSicxAddress, with parameters {'_address': 'cx74f5f8bca343808db6deb37b3f2db5684b095166'} on the staking contract.\n",
      "------------------------------------------------------------------------------------------------------------------\n"
     ]
    },
    {
     "name": "stderr",
     "output_type": "stream",
     "text": [
      "Raised JSONRPCException while returning the custom response. Error message: {'code': -32602, 'message': 'Pending transaction'}\n"
     ]
    },
    {
     "name": "stdout",
     "output_type": "stream",
     "text": [
      "Retrying in 1 seconds...\n",
      "************************************************** Status: 1 **************************************************\n",
      "------------------------------------------------------------------------------------------------------------------\n",
      "Calling configureBalanced, with parameters {} on the governance contract.\n",
      "------------------------------------------------------------------------------------------------------------------\n",
      "************************************************** Status: 1 **************************************************\n",
      "{'scoreAddress': 'cxad89388261a1d5fbaae2079ecae3c48c7145e7af', 'indexed': ['AssetAdded(Address,str,bool)', 'cx74f5f8bca343808db6deb37b3f2db5684b095166', 'sICX', '0x1'], 'data': []} \n",
      "\n",
      "{'scoreAddress': 'cxad89388261a1d5fbaae2079ecae3c48c7145e7af', 'indexed': ['AssetAdded(Address,str,bool)', 'cxe245a6afab05318418e41673f6fdc7111943afb0', 'bnUSD', '0x0'], 'data': []} \n",
      "\n",
      "{'scoreAddress': 'cxad89388261a1d5fbaae2079ecae3c48c7145e7af', 'indexed': ['AssetAdded(Address,str,bool)', 'cx513189a70c52d4ff32e7bc22a4b64d48102df7f8', 'BALN', '0x1'], 'data': []} \n",
      "\n",
      "{\"governance|setAddresses|{'_addresses': {'loans': 'cxad89388261a1d5fbaae2079ecae3c48c7145e7af', 'staking': 'cxee587c44736a799ab2828630102bcdc2f1604062', 'dividends': 'cx889cdc88fa4330e71ec0e96e34d115441bd1859e', 'reserve': 'cx65ba1de8ef7515025943488640070054060dac32', 'daofund': 'cx413906f902467b3b236837a2a916ea032a07e51a', 'rewards': 'cx3493926cd5ae38f9990af3355b4f7bf27130c14e', 'dex': 'cxd7267fab77f070230303e74e1997f2a3b6078b78', 'oracle': 'cxed97bdb35a7ca1b3993e400e4dba9e11610338f7', 'sicx': 'cx74f5f8bca343808db6deb37b3f2db5684b095166', 'bnUSD': 'cxe245a6afab05318418e41673f6fdc7111943afb0', 'baln': 'cx513189a70c52d4ff32e7bc22a4b64d48102df7f8', 'bwt': 'cx0768e7dae4911e4ce1462d90cfabdaa426fa5bf5'}}\": {'txHash': '0x124e2ecef04a4d4cb0b96e9f136e659008d9f30dd5f4c94649fee03fc943147e', 'blockHeight': 821832, 'blockHash': '0xa34768ec3b4a1e579d2139853fa22b2dda71476e094326b2826fc2de0e334c44', 'txIndex': 1, 'to': 'cx334001e13026a5fdd698f34950cfbf14f52bdfc9', 'stepUsed': 344440, 'stepPrice': 10000000000, 'cumulativeStepUsed': 344440, 'eventLogs': [], 'logsBloom': b'\\x00\\x00\\x00\\x00\\x00\\x00\\x00\\x00\\x00\\x00\\x00\\x00\\x00\\x00\\x00\\x00\\x00\\x00\\x00\\x00\\x00\\x00\\x00\\x00\\x00\\x00\\x00\\x00\\x00\\x00\\x00\\x00\\x00\\x00\\x00\\x00\\x00\\x00\\x00\\x00\\x00\\x00\\x00\\x00\\x00\\x00\\x00\\x00\\x00\\x00\\x00\\x00\\x00\\x00\\x00\\x00\\x00\\x00\\x00\\x00\\x00\\x00\\x00\\x00\\x00\\x00\\x00\\x00\\x00\\x00\\x00\\x00\\x00\\x00\\x00\\x00\\x00\\x00\\x00\\x00\\x00\\x00\\x00\\x00\\x00\\x00\\x00\\x00\\x00\\x00\\x00\\x00\\x00\\x00\\x00\\x00\\x00\\x00\\x00\\x00\\x00\\x00\\x00\\x00\\x00\\x00\\x00\\x00\\x00\\x00\\x00\\x00\\x00\\x00\\x00\\x00\\x00\\x00\\x00\\x00\\x00\\x00\\x00\\x00\\x00\\x00\\x00\\x00\\x00\\x00\\x00\\x00\\x00\\x00\\x00\\x00\\x00\\x00\\x00\\x00\\x00\\x00\\x00\\x00\\x00\\x00\\x00\\x00\\x00\\x00\\x00\\x00\\x00\\x00\\x00\\x00\\x00\\x00\\x00\\x00\\x00\\x00\\x00\\x00\\x00\\x00\\x00\\x00\\x00\\x00\\x00\\x00\\x00\\x00\\x00\\x00\\x00\\x00\\x00\\x00\\x00\\x00\\x00\\x00\\x00\\x00\\x00\\x00\\x00\\x00\\x00\\x00\\x00\\x00\\x00\\x00\\x00\\x00\\x00\\x00\\x00\\x00\\x00\\x00\\x00\\x00\\x00\\x00\\x00\\x00\\x00\\x00\\x00\\x00\\x00\\x00\\x00\\x00\\x00\\x00\\x00\\x00\\x00\\x00\\x00\\x00\\x00\\x00\\x00\\x00\\x00\\x00\\x00\\x00\\x00\\x00\\x00\\x00\\x00\\x00\\x00\\x00\\x00\\x00\\x00\\x00\\x00\\x00\\x00\\x00\\x00\\x00\\x00\\x00\\x00\\x00', 'status': 1}, \"staking|setSicxAddress|{'_address': 'cx74f5f8bca343808db6deb37b3f2db5684b095166'}\": {'txHash': '0x526fec20ac860369ce51e969e603adab340f269692198d7b98a06bdd9c20fa19', 'blockHeight': 821833, 'blockHash': '0x1e3d0d3f5842cbb7f246deb48f9e85fbe8503618e000664b8cb32493df25e9f8', 'txIndex': 1, 'to': 'cxee587c44736a799ab2828630102bcdc2f1604062', 'stepUsed': 150520, 'stepPrice': 10000000000, 'cumulativeStepUsed': 150520, 'eventLogs': [], 'logsBloom': b'\\x00\\x00\\x00\\x00\\x00\\x00\\x00\\x00\\x00\\x00\\x00\\x00\\x00\\x00\\x00\\x00\\x00\\x00\\x00\\x00\\x00\\x00\\x00\\x00\\x00\\x00\\x00\\x00\\x00\\x00\\x00\\x00\\x00\\x00\\x00\\x00\\x00\\x00\\x00\\x00\\x00\\x00\\x00\\x00\\x00\\x00\\x00\\x00\\x00\\x00\\x00\\x00\\x00\\x00\\x00\\x00\\x00\\x00\\x00\\x00\\x00\\x00\\x00\\x00\\x00\\x00\\x00\\x00\\x00\\x00\\x00\\x00\\x00\\x00\\x00\\x00\\x00\\x00\\x00\\x00\\x00\\x00\\x00\\x00\\x00\\x00\\x00\\x00\\x00\\x00\\x00\\x00\\x00\\x00\\x00\\x00\\x00\\x00\\x00\\x00\\x00\\x00\\x00\\x00\\x00\\x00\\x00\\x00\\x00\\x00\\x00\\x00\\x00\\x00\\x00\\x00\\x00\\x00\\x00\\x00\\x00\\x00\\x00\\x00\\x00\\x00\\x00\\x00\\x00\\x00\\x00\\x00\\x00\\x00\\x00\\x00\\x00\\x00\\x00\\x00\\x00\\x00\\x00\\x00\\x00\\x00\\x00\\x00\\x00\\x00\\x00\\x00\\x00\\x00\\x00\\x00\\x00\\x00\\x00\\x00\\x00\\x00\\x00\\x00\\x00\\x00\\x00\\x00\\x00\\x00\\x00\\x00\\x00\\x00\\x00\\x00\\x00\\x00\\x00\\x00\\x00\\x00\\x00\\x00\\x00\\x00\\x00\\x00\\x00\\x00\\x00\\x00\\x00\\x00\\x00\\x00\\x00\\x00\\x00\\x00\\x00\\x00\\x00\\x00\\x00\\x00\\x00\\x00\\x00\\x00\\x00\\x00\\x00\\x00\\x00\\x00\\x00\\x00\\x00\\x00\\x00\\x00\\x00\\x00\\x00\\x00\\x00\\x00\\x00\\x00\\x00\\x00\\x00\\x00\\x00\\x00\\x00\\x00\\x00\\x00\\x00\\x00\\x00\\x00\\x00\\x00\\x00\\x00\\x00\\x00\\x00\\x00\\x00\\x00\\x00\\x00', 'status': 1}, 'governance|configureBalanced|{}': {'txHash': '0xad4b0c8465e3df63d9d52317888ca5b554e4cb8cd07943b411017a1e510457c0', 'blockHeight': 821834, 'blockHash': '0xae1b718aa05c3fa9787cb3cde6f8cba98368d4294a9f2b876678cde2b07c1892', 'txIndex': 1, 'to': 'cx334001e13026a5fdd698f34950cfbf14f52bdfc9', 'stepUsed': 1654980, 'stepPrice': 10000000000, 'cumulativeStepUsed': 1654980, 'eventLogs': [{'scoreAddress': 'cxad89388261a1d5fbaae2079ecae3c48c7145e7af', 'indexed': ['AssetAdded(Address,str,bool)', 'cx74f5f8bca343808db6deb37b3f2db5684b095166', 'sICX', '0x1'], 'data': []}, {'scoreAddress': 'cxad89388261a1d5fbaae2079ecae3c48c7145e7af', 'indexed': ['AssetAdded(Address,str,bool)', 'cxe245a6afab05318418e41673f6fdc7111943afb0', 'bnUSD', '0x0'], 'data': []}, {'scoreAddress': 'cxad89388261a1d5fbaae2079ecae3c48c7145e7af', 'indexed': ['AssetAdded(Address,str,bool)', 'cx513189a70c52d4ff32e7bc22a4b64d48102df7f8', 'BALN', '0x1'], 'data': []}], 'logsBloom': b'\\x00\\x00\\x10\\x00\\x00\\x00\\x00\\x00\\x00\\x00\\x00\\x00\\x00\\x00\\x00\\x00\\x00\\x00\\x00\\x00\\x00\\x00\\x80\\x00\\x00\\x00\\x00\\x00\\x00\\x00\\x00\\x00\\x00\\x02\\x00\\x80\\x00\\x00\\x10\\x00\\x00\\x00\\x00\\x00\\x00\\x00\\x00\\x00\\x00\\x00 \\x02\\x00\\x00\\x00\\x00\\x00\\x00\\x00\\x00\\x00\\x00\\x00 \\x00\\x00\\x00\\x00\\x00\\x00\\x00\\x00\\x00\\x00\\x00\\x00\\x00\\x00\\x00\\x00\\x00\\x00\\x00\\x00\\x00\\x02\\x00\\x00\\x00\\x00\\x00\\x00\\x00\\x00\\x00\\x00\\x00\\x00\\x08\\x00\\x01\\x00\\x00\\x00\\x00\\x00\\x00\\x00\\x00\\x00\\x00\\x00@\\x00\\x00\\x00\\x00\\x00\\x00\\x00\\x00\\x00\\x00\\x00\\x00\\x00\\x01\\x01\\x00\\x00\\x00\\x00@\\x00\\x00\\x00\\x00\\x00\\x00\\x00\\x00\\x00\\x00\\x00\\x00\\x00\\x00\\x02\\x00\\x00\\x00\\x80\\x00\\x00\\x00\\x00\\x00\\x00\\x00\\x00\\x00\\x00\\x00\\x00\\x00\\x00\\x08\\x00\\x00\\x01\\x00\\x00\\x00\\x00\\x00\\x00\\x00\\x00\\x00\\x00\\x00\\x00\\x00\\x00\\x00\\x00\\x01\\x00\\x00\\x00\\x00\\x00\\x00\\x00\\x00\\x00\\x00\\x00\\x00\\x00\\x00\\x00\\x00\\x00@\\x08\\x00\\x00\\x00\\x00\\x00\\x00\\x00\\x02\\x00\\x00\\x00\\x00\\x00\\x00\\x08\\x00\\x00\\x00\\x00\\x00\\x00\\x00\\x00\\x00\\x01\\x00\\x00\\x00\\x00\\x00\\x00\\x00\\x00\\x00\\x00\\x80\\x00\\x00 \\x00\\x00\\x00\\x00\\x00\\x01\\x00\\x00\\x00\\x01\\x00', 'status': 1}}\n"
     ]
    }
   ],
   "source": [
    "# Cell 7a\n",
    "# Configure Balanced\n",
    "\n",
    "config_results = config_balanced(btest_wallet, staking_wallet)\n",
    "print(config_results)"
   ]
  },
  {
   "cell_type": "code",
   "execution_count": 54,
   "metadata": {
    "scrolled": true
   },
   "outputs": [
    {
     "name": "stdout",
     "output_type": "stream",
     "text": [
      "------------------------------------------------------------------------------------------------------------------\n",
      "Calling launchBalanced, with parameters {} on the governance contract.\n",
      "------------------------------------------------------------------------------------------------------------------\n"
     ]
    },
    {
     "name": "stderr",
     "output_type": "stream",
     "text": [
      "Raised JSONRPCException while returning the custom response. Error message: {'code': -32602, 'message': 'Pending transaction'}\n"
     ]
    },
    {
     "name": "stdout",
     "output_type": "stream",
     "text": [
      "Retrying in 1 seconds...\n",
      "************************************************** Status: 1 **************************************************\n",
      "{'scoreAddress': 'cxad89388261a1d5fbaae2079ecae3c48c7145e7af', 'indexed': ['ContractActive(str,str)', 'Loans'], 'data': ['Active']} \n",
      "\n",
      "------------------------------------------------------------------------------------------------------------------\n",
      "Calling toggleStakingOn, with parameters {} on the staking contract.\n",
      "------------------------------------------------------------------------------------------------------------------\n",
      "************************************************** Status: 1 **************************************************\n",
      "------------------------------------------------------------------------------------------------------------------\n",
      "Calling delegate, with parameters {'_delegations': [{'_address': 'hx9eec61296a7010c867ce24c20e69588e2832bc52', '_votes_in_per': '50000000000000000000'}, {'_address': 'hx000e0415037ae871184b2c7154e5924ef2bc075e', '_votes_in_per': '50000000000000000000'}]} on the governance contract.\n",
      "------------------------------------------------------------------------------------------------------------------\n"
     ]
    },
    {
     "name": "stderr",
     "output_type": "stream",
     "text": [
      "Raised JSONRPCException while returning the custom response. Error message: {'code': -32602, 'message': 'Pending transaction'}\n"
     ]
    },
    {
     "name": "stdout",
     "output_type": "stream",
     "text": [
      "Retrying in 1 seconds...\n",
      "************************************************** Status: 1 **************************************************\n",
      "{'governance|launchBalanced|{}': {'txHash': '0x9adf04d991a63455378f0544a742ffd908520b645db4c03416e631aaf85770bc', 'blockHeight': 821838, 'blockHash': '0xc515440c01506dc4f9274a3b0f037af1ce8b0d29b1ac24c7b637db21795bdb37', 'txIndex': 1, 'to': 'cx334001e13026a5fdd698f34950cfbf14f52bdfc9', 'stepUsed': 415440, 'stepPrice': 10000000000, 'cumulativeStepUsed': 415440, 'eventLogs': [{'scoreAddress': 'cxad89388261a1d5fbaae2079ecae3c48c7145e7af', 'indexed': ['ContractActive(str,str)', 'Loans'], 'data': ['Active']}], 'logsBloom': b'\\x00\\x00\\x00\\x00\\x00\\x00\\x00\\x00\\x00\\x00\\x00\\x00\\x00\\x00\\x00\\x00\\x00\\x00\\x00\\x00\\x00\\x00\\x00\\x00\\x00\\x00\\x00\\x00\\x00\\x00\\x00\\x00\\x00\\x00\\x00\\x00\\x00\\x00\\x00\\x00\\x00\\x00\\x00 \\x00\\x00\\x00\\x00\\x00\\x00\\x00\\x00\\x00\\x00\\x00\\x00\\x00\\x00\\x00\\x00\\x00\\x00\\x00\\x00\\x00\\x00\\x00\\x00\\x00\\x00\\x00\\x00\\x00\\x00\\x00\\x00\\x00\\x00\\x00\\x00\\x00\\x00\\x00\\x00\\x80\\x00\\x00\\x00\\x00\\x00\\x00\\x00\\x00\\x00\\x00\\x00\\x01\\x00\\x00\\x00\\x00\\x00\\x00\\x00\\x00\\x00\\x00\\x00\\x00\\x00\\x00\\x00\\x00\\x00\\x00\\x00\\x00\\x00\\x00\\x00\\x00\\x00\\x00\\x00\\x00\\x00\\x00\\x00\\x00\\x00\\x00\\x00\\x00\\x00\\x10\\x00\\x00\\x00\\x00\\x00\\x00\\x00\\x00\\x00\\x00\\x00\\x00\\x00\\x00\\x00\\x00\\x00\\x00\\x00\\x00 \\x00\\x00\\x00\\x00\\x00\\x00\\x00\\x00\\x00\\x00\\x00\\x00\\x00\\x00\\x00\\x00\\x00\\x00\\x00\\x00\\x00\\x00\\x00\\x00\\x00\\x00\\x00\\x00\\x00\\x00\\x01\\x00\\x00\\x00\\x00\\x00\\x00\\x00\\x00\\x00\\x00\\x00\\x00\\x00\\x00\\x00\\x00\\x00\\x00\\x00\\x00\\x00\\x00\\x00\\x00\\x00\\x00\\x00\\x00\\x00\\x00\\x00\\x00\\x00\\x00\\x00\\x00\\x00\\x00\\x00\\x00\\x00\\x00\\x00\\x00\\x00\\x00\\x00\\x00\\x00\\x00\\x00\\x00\\x00\\x00\\x00\\x00\\x00\\x00\\x00\\x00\\x00\\x00\\x00\\x01\\x00\\x00\\x01\\x01\\x00', 'status': 1}, 'staking|toggleStakingOn|{}': {'txHash': '0x7f5cddf8524becb5e36bbd8e0a17541c4d171733bfd9dce8634171b327c46360', 'blockHeight': 821839, 'blockHash': '0xbb0becfa5cd380c36c8fce51eeb8f95915613a377eac7bb05747decd030e1a69', 'txIndex': 1, 'to': 'cxee587c44736a799ab2828630102bcdc2f1604062', 'stepUsed': 130680, 'stepPrice': 10000000000, 'cumulativeStepUsed': 130680, 'eventLogs': [], 'logsBloom': b'\\x00\\x00\\x00\\x00\\x00\\x00\\x00\\x00\\x00\\x00\\x00\\x00\\x00\\x00\\x00\\x00\\x00\\x00\\x00\\x00\\x00\\x00\\x00\\x00\\x00\\x00\\x00\\x00\\x00\\x00\\x00\\x00\\x00\\x00\\x00\\x00\\x00\\x00\\x00\\x00\\x00\\x00\\x00\\x00\\x00\\x00\\x00\\x00\\x00\\x00\\x00\\x00\\x00\\x00\\x00\\x00\\x00\\x00\\x00\\x00\\x00\\x00\\x00\\x00\\x00\\x00\\x00\\x00\\x00\\x00\\x00\\x00\\x00\\x00\\x00\\x00\\x00\\x00\\x00\\x00\\x00\\x00\\x00\\x00\\x00\\x00\\x00\\x00\\x00\\x00\\x00\\x00\\x00\\x00\\x00\\x00\\x00\\x00\\x00\\x00\\x00\\x00\\x00\\x00\\x00\\x00\\x00\\x00\\x00\\x00\\x00\\x00\\x00\\x00\\x00\\x00\\x00\\x00\\x00\\x00\\x00\\x00\\x00\\x00\\x00\\x00\\x00\\x00\\x00\\x00\\x00\\x00\\x00\\x00\\x00\\x00\\x00\\x00\\x00\\x00\\x00\\x00\\x00\\x00\\x00\\x00\\x00\\x00\\x00\\x00\\x00\\x00\\x00\\x00\\x00\\x00\\x00\\x00\\x00\\x00\\x00\\x00\\x00\\x00\\x00\\x00\\x00\\x00\\x00\\x00\\x00\\x00\\x00\\x00\\x00\\x00\\x00\\x00\\x00\\x00\\x00\\x00\\x00\\x00\\x00\\x00\\x00\\x00\\x00\\x00\\x00\\x00\\x00\\x00\\x00\\x00\\x00\\x00\\x00\\x00\\x00\\x00\\x00\\x00\\x00\\x00\\x00\\x00\\x00\\x00\\x00\\x00\\x00\\x00\\x00\\x00\\x00\\x00\\x00\\x00\\x00\\x00\\x00\\x00\\x00\\x00\\x00\\x00\\x00\\x00\\x00\\x00\\x00\\x00\\x00\\x00\\x00\\x00\\x00\\x00\\x00\\x00\\x00\\x00\\x00\\x00\\x00\\x00\\x00\\x00\\x00\\x00\\x00\\x00\\x00\\x00', 'status': 1}, \"governance|delegate|{'_delegations': [{'_address': 'hx9eec61296a7010c867ce24c20e69588e2832bc52', '_votes_in_per': '50000000000000000000'}, {'_address': 'hx000e0415037ae871184b2c7154e5924ef2bc075e', '_votes_in_per': '50000000000000000000'}]}\": {'txHash': '0x26ad7feb8a459af8f9a21a310bad3a6c11b0260a989a0f977085711d9bdedb5e', 'blockHeight': 821840, 'blockHash': '0x35d7f0db120e2ad5c07aa715bdd630c3c3763beec674b53404b13f871c0b3607', 'txIndex': 1, 'to': 'cx334001e13026a5fdd698f34950cfbf14f52bdfc9', 'stepUsed': 354320, 'stepPrice': 10000000000, 'cumulativeStepUsed': 354320, 'eventLogs': [], 'logsBloom': b'\\x00\\x00\\x00\\x00\\x00\\x00\\x00\\x00\\x00\\x00\\x00\\x00\\x00\\x00\\x00\\x00\\x00\\x00\\x00\\x00\\x00\\x00\\x00\\x00\\x00\\x00\\x00\\x00\\x00\\x00\\x00\\x00\\x00\\x00\\x00\\x00\\x00\\x00\\x00\\x00\\x00\\x00\\x00\\x00\\x00\\x00\\x00\\x00\\x00\\x00\\x00\\x00\\x00\\x00\\x00\\x00\\x00\\x00\\x00\\x00\\x00\\x00\\x00\\x00\\x00\\x00\\x00\\x00\\x00\\x00\\x00\\x00\\x00\\x00\\x00\\x00\\x00\\x00\\x00\\x00\\x00\\x00\\x00\\x00\\x00\\x00\\x00\\x00\\x00\\x00\\x00\\x00\\x00\\x00\\x00\\x00\\x00\\x00\\x00\\x00\\x00\\x00\\x00\\x00\\x00\\x00\\x00\\x00\\x00\\x00\\x00\\x00\\x00\\x00\\x00\\x00\\x00\\x00\\x00\\x00\\x00\\x00\\x00\\x00\\x00\\x00\\x00\\x00\\x00\\x00\\x00\\x00\\x00\\x00\\x00\\x00\\x00\\x00\\x00\\x00\\x00\\x00\\x00\\x00\\x00\\x00\\x00\\x00\\x00\\x00\\x00\\x00\\x00\\x00\\x00\\x00\\x00\\x00\\x00\\x00\\x00\\x00\\x00\\x00\\x00\\x00\\x00\\x00\\x00\\x00\\x00\\x00\\x00\\x00\\x00\\x00\\x00\\x00\\x00\\x00\\x00\\x00\\x00\\x00\\x00\\x00\\x00\\x00\\x00\\x00\\x00\\x00\\x00\\x00\\x00\\x00\\x00\\x00\\x00\\x00\\x00\\x00\\x00\\x00\\x00\\x00\\x00\\x00\\x00\\x00\\x00\\x00\\x00\\x00\\x00\\x00\\x00\\x00\\x00\\x00\\x00\\x00\\x00\\x00\\x00\\x00\\x00\\x00\\x00\\x00\\x00\\x00\\x00\\x00\\x00\\x00\\x00\\x00\\x00\\x00\\x00\\x00\\x00\\x00\\x00\\x00\\x00\\x00\\x00\\x00\\x00\\x00\\x00\\x00\\x00\\x00', 'status': 1}}\n"
     ]
    }
   ],
   "source": [
    "# Cell 7b\n",
    "# Launch Balanced\n",
    "# We may want to make this a payable method and have the governance SCORE borrow bnUSD,\n",
    "# start and name the sICXbnUSD market, and add it as a rewards DataSource.\n",
    "\n",
    "launch_results = launch_balanced(btest_wallet, staking_wallet)\n",
    "print(launch_results)"
   ]
  },
  {
   "cell_type": "code",
   "execution_count": 26,
   "metadata": {},
   "outputs": [
    {
     "name": "stdout",
     "output_type": "stream",
     "text": [
      "Updating rewards with params: {} to custom. Proceed (Yes/No)? Yes\n",
      "../../core_contracts/rewards.zip\n"
     ]
    },
    {
     "name": "stderr",
     "output_type": "stream",
     "text": [
      "Raised JSONRPCException while returning the custom response. Error message: {'code': -32602, 'message': 'Pending transaction'}\n"
     ]
    },
    {
     "name": "stdout",
     "output_type": "stream",
     "text": [
      "Retrying in 1 seconds...\n",
      "Status: 1\n",
      "\n"
     ]
    }
   ],
   "source": [
    "# Cell 8\n",
    "# Deploy or Update a single SCORE\n",
    "\n",
    "contract_name = 'rewards'\n",
    "update = 1\n",
    "params = {}\n",
    "if update == 0:\n",
    "    params = {'_governance': contracts['governance']['SCORE']}\n",
    "\n",
    "compress()\n",
    "contract = contracts[contract_name]\n",
    "confirm = input(f'{\"Updating\" if update else \"Deploying\"} {contract_name} with params: {params} to {network}. Proceed (Yes/No)? ')\n",
    "if confirm == 'Yes':\n",
    "    deploy_SCORE(contract, params, btest_wallet, update)"
   ]
  },
  {
   "cell_type": "markdown",
   "metadata": {},
   "source": [
    "Test case 1 with one borrower"
   ]
  },
  {
   "cell_type": "code",
   "execution_count": 55,
   "metadata": {
    "scrolled": true
   },
   "outputs": [
    {
     "name": "stdout",
     "output_type": "stream",
     "text": [
      "------------------------------------------------------------------------------------------------------------------\n",
      "Calling depositAndBorrow, with parameters {'_asset': 'bnUSD', '_amount': 50000000000000000000} on the loans contract.\n",
      "------------------------------------------------------------------------------------------------------------------\n",
      "************************************************** Status: 1 **************************************************\n",
      "{'scoreAddress': 'cxad89388261a1d5fbaae2079ecae3c48c7145e7af', 'indexed': ['ICXTransfer(Address,Address,int)', 'cxad89388261a1d5fbaae2079ecae3c48c7145e7af', 'cxee587c44736a799ab2828630102bcdc2f1604062', '0x1b1ae4d6e2ef500000'], 'data': []} \n",
      "\n",
      "{'scoreAddress': 'cx74f5f8bca343808db6deb37b3f2db5684b095166', 'indexed': ['Mint(Address,int,bytes)', 'cxad89388261a1d5fbaae2079ecae3c48c7145e7af'], 'data': ['0x1b1ae4d6e2ef500000', '0x4e6f6e65']} \n",
      "\n",
      "{'scoreAddress': 'cx74f5f8bca343808db6deb37b3f2db5684b095166', 'indexed': ['Transfer(Address,Address,int,bytes)', 'hx0000000000000000000000000000000000000000', 'cxad89388261a1d5fbaae2079ecae3c48c7145e7af', '0x1b1ae4d6e2ef500000'], 'data': ['0x4e6f6e65']} \n",
      "\n",
      "{'scoreAddress': 'cxee587c44736a799ab2828630102bcdc2f1604062', 'indexed': ['TokenTransfer(Address,int,str)', 'cxad89388261a1d5fbaae2079ecae3c48c7145e7af', '0x1b1ae4d6e2ef500000'], 'data': ['500 sICX minted to cxad89388261a1d5fbaae2079ecae3c48c7145e7af']} \n",
      "\n",
      "{'scoreAddress': 'cxe245a6afab05318418e41673f6fdc7111943afb0', 'indexed': ['OraclePrice(str,str,Address,int)', 'USDICX', 'BandChain', 'cxed97bdb35a7ca1b3993e400e4dba9e11610338f7'], 'data': ['0x84c5d90848544bb']} \n",
      "\n",
      "{'scoreAddress': 'cxad89388261a1d5fbaae2079ecae3c48c7145e7af', 'indexed': ['Snapshot(int)', '0x2'], 'data': []} \n",
      "\n",
      "{'scoreAddress': 'cxad89388261a1d5fbaae2079ecae3c48c7145e7af', 'indexed': ['CollateralReceived(Address,str,int)', 'hx3f01840a599da07b0f620eeae7aa9c574169a4be', 'sICX'], 'data': ['0x1b1ae4d6e2ef500000']} \n",
      "\n",
      "{'scoreAddress': 'cxad89388261a1d5fbaae2079ecae3c48c7145e7af', 'indexed': ['OriginateLoan(Address,str,int,str)', 'hx3f01840a599da07b0f620eeae7aa9c574169a4be', 'bnUSD', '0x2b5e3af16b1880000'], 'data': ['Loan of 50000000000000000000 bnUSD from Balanced.']} \n",
      "\n",
      "{'scoreAddress': 'cxe245a6afab05318418e41673f6fdc7111943afb0', 'indexed': ['Mint(Address,int,bytes)', 'hx3f01840a599da07b0f620eeae7aa9c574169a4be'], 'data': ['0x2b5e3af16b1880000', '0x4e6f6e65']} \n",
      "\n",
      "{'scoreAddress': 'cxe245a6afab05318418e41673f6fdc7111943afb0', 'indexed': ['Transfer(Address,Address,int,bytes)', 'hx0000000000000000000000000000000000000000', 'hx3f01840a599da07b0f620eeae7aa9c574169a4be', '0x2b5e3af16b1880000'], 'data': ['0x4e6f6e65']} \n",
      "\n",
      "{'scoreAddress': 'cxe245a6afab05318418e41673f6fdc7111943afb0', 'indexed': ['Mint(Address,int,bytes)', 'cx889cdc88fa4330e71ec0e96e34d115441bd1859e'], 'data': ['0x6f05b59d3b20000', '0x4e6f6e65']} \n",
      "\n",
      "{'scoreAddress': 'cxe245a6afab05318418e41673f6fdc7111943afb0', 'indexed': ['Transfer(Address,Address,int,bytes)', 'hx0000000000000000000000000000000000000000', 'cx889cdc88fa4330e71ec0e96e34d115441bd1859e', '0x6f05b59d3b20000'], 'data': ['0x4e6f6e65']} \n",
      "\n",
      "{'scoreAddress': 'cx889cdc88fa4330e71ec0e96e34d115441bd1859e', 'indexed': ['DividendsReceived(int,str)', '0x6f05b59d3b20000'], 'data': ['500000000000000000 tokens received as dividends token: cxe245a6afab05318418e41673f6fdc7111943afb0']} \n",
      "\n",
      "{'scoreAddress': 'cxad89388261a1d5fbaae2079ecae3c48c7145e7af', 'indexed': ['FeePaid(str,int,str)', 'bnUSD', '0x6f05b59d3b20000', 'origination'], 'data': []} \n",
      "\n"
     ]
    },
    {
     "name": "stderr",
     "output_type": "stream",
     "text": [
      "Raised JSONRPCException while returning the custom response. Error message: {'code': -32602, 'message': 'Pending transaction'}\n"
     ]
    },
    {
     "name": "stdout",
     "output_type": "stream",
     "text": [
      "Retrying in 1 seconds...\n",
      "{'scoreAddress': 'cx513189a70c52d4ff32e7bc22a4b64d48102df7f8', 'indexed': ['Mint(Address,int,bytes)', 'cx3493926cd5ae38f9990af3355b4f7bf27130c14e'], 'data': ['0x152d02c7e14af6800000', '0x4e6f6e65']} \n",
      "\n",
      "{'scoreAddress': 'cx513189a70c52d4ff32e7bc22a4b64d48102df7f8', 'indexed': ['Transfer(Address,Address,int,bytes)', 'hx0000000000000000000000000000000000000000', 'cx3493926cd5ae38f9990af3355b4f7bf27130c14e', '0x152d02c7e14af6800000'], 'data': ['0x4e6f6e65']} \n",
      "\n",
      "{'scoreAddress': 'cx513189a70c52d4ff32e7bc22a4b64d48102df7f8', 'indexed': ['Transfer(Address,Address,int,bytes)', 'cx3493926cd5ae38f9990af3355b4f7bf27130c14e', 'cx0768e7dae4911e4ce1462d90cfabdaa426fa5bf5', '0x43c33c1937564800000'], 'data': ['0x4e6f6e65']} \n",
      "\n",
      "{'scoreAddress': 'cx513189a70c52d4ff32e7bc22a4b64d48102df7f8', 'indexed': ['Transfer(Address,Address,int,bytes)', 'cx3493926cd5ae38f9990af3355b4f7bf27130c14e', 'cx65ba1de8ef7515025943488640070054060dac32', '0x10f0cf064dd59200000'], 'data': ['0x4e6f6e65']} \n",
      "\n",
      "{'scoreAddress': 'cx513189a70c52d4ff32e7bc22a4b64d48102df7f8', 'indexed': ['Transfer(Address,Address,int,bytes)', 'cx3493926cd5ae38f9990af3355b4f7bf27130c14e', 'cx413906f902467b3b236837a2a916ea032a07e51a', '0x878678326eac9000000'], 'data': ['0x4e6f6e65']} \n",
      "\n",
      "{'scoreAddress': 'cx513189a70c52d4ff32e7bc22a4b64d48102df7f8', 'indexed': ['Mint(Address,int,bytes)', 'cx3493926cd5ae38f9990af3355b4f7bf27130c14e'], 'data': ['0x152d02c7e14af6800000', '0x4e6f6e65']} \n",
      "\n",
      "{'scoreAddress': 'cx513189a70c52d4ff32e7bc22a4b64d48102df7f8', 'indexed': ['Transfer(Address,Address,int,bytes)', 'hx0000000000000000000000000000000000000000', 'cx3493926cd5ae38f9990af3355b4f7bf27130c14e', '0x152d02c7e14af6800000'], 'data': ['0x4e6f6e65']} \n",
      "\n",
      "{'scoreAddress': 'cx513189a70c52d4ff32e7bc22a4b64d48102df7f8', 'indexed': ['Transfer(Address,Address,int,bytes)', 'cx3493926cd5ae38f9990af3355b4f7bf27130c14e', 'cx0768e7dae4911e4ce1462d90cfabdaa426fa5bf5', '0x43c33c1937564800000'], 'data': ['0x4e6f6e65']} \n",
      "\n",
      "{'scoreAddress': 'cx513189a70c52d4ff32e7bc22a4b64d48102df7f8', 'indexed': ['Transfer(Address,Address,int,bytes)', 'cx3493926cd5ae38f9990af3355b4f7bf27130c14e', 'cx65ba1de8ef7515025943488640070054060dac32', '0x10f0cf064dd59200000'], 'data': ['0x4e6f6e65']} \n",
      "\n",
      "{'scoreAddress': 'cx513189a70c52d4ff32e7bc22a4b64d48102df7f8', 'indexed': ['Transfer(Address,Address,int,bytes)', 'cx3493926cd5ae38f9990af3355b4f7bf27130c14e', 'cx413906f902467b3b236837a2a916ea032a07e51a', '0x878678326eac9000000'], 'data': ['0x4e6f6e65']} \n",
      "\n"
     ]
    },
    {
     "name": "stderr",
     "output_type": "stream",
     "text": [
      "Raised JSONRPCException while returning the custom response. Error message: {'code': -32602, 'message': 'Pending transaction'}\n"
     ]
    },
    {
     "name": "stdout",
     "output_type": "stream",
     "text": [
      "Retrying in 1 seconds...\n",
      "{'scoreAddress': 'cxe245a6afab05318418e41673f6fdc7111943afb0', 'indexed': ['OraclePrice(str,str,Address,int)', 'USDICX', 'BandChain', 'cxed97bdb35a7ca1b3993e400e4dba9e11610338f7'], 'data': ['0x84c5d90848544bb']} \n",
      "\n",
      "{'scoreAddress': 'cxad89388261a1d5fbaae2079ecae3c48c7145e7af', 'indexed': ['Snapshot(int)', '0x3'], 'data': []} \n",
      "\n"
     ]
    },
    {
     "name": "stderr",
     "output_type": "stream",
     "text": [
      "Raised JSONRPCException while returning the custom response. Error message: {'code': -32602, 'message': 'Pending transaction'}\n"
     ]
    },
    {
     "name": "stdout",
     "output_type": "stream",
     "text": [
      "Retrying in 1 seconds...\n",
      "{'scoreAddress': 'cx3493926cd5ae38f9990af3355b4f7bf27130c14e', 'indexed': ['Report(int,str,int,int)', '0x2', 'Loans'], 'data': ['0x0', '0x0']} \n",
      "\n"
     ]
    },
    {
     "name": "stderr",
     "output_type": "stream",
     "text": [
      "Raised JSONRPCException while returning the custom response. Error message: {'code': -32602, 'message': 'Pending transaction'}\n"
     ]
    },
    {
     "name": "stdout",
     "output_type": "stream",
     "text": [
      "Retrying in 1 seconds...\n"
     ]
    },
    {
     "name": "stderr",
     "output_type": "stream",
     "text": [
      "Raised JSONRPCException while returning the custom response. Error message: {'code': -32602, 'message': 'Pending transaction'}\n"
     ]
    },
    {
     "name": "stdout",
     "output_type": "stream",
     "text": [
      "Retrying in 1 seconds...\n"
     ]
    },
    {
     "name": "stderr",
     "output_type": "stream",
     "text": [
      "Raised JSONRPCException while returning the custom response. Error message: {'code': -32602, 'message': 'Pending transaction'}\n"
     ]
    },
    {
     "name": "stdout",
     "output_type": "stream",
     "text": [
      "Retrying in 1 seconds...\n",
      "['hx3f01840a599da07b0f620eeae7aa9c574169a4be', 25000000000000000000000, 25000.0]\n",
      "Total unclaimed: 25000.0\n",
      "{'rewards': 70000.0, 'reserve': 10000.0, 'bwt': 40000.0, 'dex': 0.0, 'daofund': 80000.0}\n",
      "Total BALN: 200000.0\n",
      "Test case passed\n"
     ]
    }
   ],
   "source": [
    "send_tx('loans', 500*ICX, 'depositAndBorrow', {'_asset': 'bnUSD', '_amount': 50* ICX}, btest_wallet)\n",
    "time.sleep(30)\n",
    "for i in range(10):\n",
    "    fast_send_tx('rewards', 0, 'distribute', {}, btest_wallet)\n",
    "\n",
    "borrowerCount = int(call_tx('loans', 'borrowerCount', {}, False), 0)\n",
    "addresses = []\n",
    "daily_value = {}\n",
    "for i in range(1, borrowerCount + 1):\n",
    "    position = call_tx('loans', 'getPositionByIndex', {'_index': i, '_day': -1}, False)\n",
    "    addresses.append(position['address'])\n",
    "\n",
    "holders = call_tx('rewards', 'getBalnHoldings', {'_holders': addresses}, False)\n",
    "\n",
    "total_balances = 0\n",
    "baln_balances = {}\n",
    "for contract in ['rewards', 'reserve', 'bwt', 'dex', 'daofund']:\n",
    "    result = int(call_tx('baln', 'balanceOf', {'_owner': contracts[contract]['SCORE']}, False), 0)\n",
    "    baln_balances[contract] = result / 10**18\n",
    "    total_balances += result\n",
    "\n",
    "i = 0\n",
    "holdings = {i: [key, int(holders[key], 0), int(holders[key], 0) / 10**18] for i, key in enumerate(holders.keys())}\n",
    "total = 0\n",
    "for key in holdings:\n",
    "    total += holdings[key][1]\n",
    "    print(f'{holdings[key]}')\n",
    "\n",
    "print(f'Total unclaimed: {total / 10**18}')\n",
    "print(baln_balances)\n",
    "print(f'Total BALN: {total_balances / 10**18}')\n",
    "\n",
    "res = call_tx('rewards', 'distStatus', {}, False)\n",
    "day = int(res['platform_day'], 0)-1\n",
    "#     total_amount = 25000/borrowerCount\n",
    "#     for key in holdings: \n",
    "#         assert holdings[key][2] == total_amount , \"Loans borrowers token distribution error\"\n",
    "assert baln_balances['rewards'] == 35000*day, \"Loans borrowers token distribution error\"\n",
    "assert baln_balances['reserve'] == 5000* day, \"Reserve not receiving proper rewards\"\n",
    "assert baln_balances['bwt'] == 20000*day, \"Worker token distribution error\"\n",
    "assert baln_balances['daofund'] == 40000*day, \"DAO Fund token distribution error\"\n",
    "\n",
    "print(\"Test case passed\")\n",
    "    "
   ]
  },
  {
   "cell_type": "markdown",
   "metadata": {},
   "source": [
    "Test case 2 with two borrowers"
   ]
  },
  {
   "cell_type": "code",
   "execution_count": 20,
   "metadata": {
    "scrolled": true
   },
   "outputs": [
    {
     "name": "stdout",
     "output_type": "stream",
     "text": [
      "------------------------------------------------------------------------------------------------------------------\n",
      "Calling depositAndBorrow, with parameters {'_asset': 'bnUSD', '_amount': 50000000000000000000} on the loans contract.\n",
      "------------------------------------------------------------------------------------------------------------------\n",
      "************************************************** Status: 1 **************************************************\n",
      "{'scoreAddress': 'cx6bad461190dcf3a35b2e2e1440d9176c7a8264f0', 'indexed': ['ICXTransfer(Address,Address,int)', 'cx6bad461190dcf3a35b2e2e1440d9176c7a8264f0', 'cxb94efc11885ee6e915b50baed2700b3194e5ec66', '0x1b1ae4d6e2ef500000'], 'data': []} \n",
      "\n",
      "{'scoreAddress': 'cx7449a63d229f9a78482d4b0ddec7cc6dcac11e8d', 'indexed': ['Mint(Address,int,bytes)', 'cx6bad461190dcf3a35b2e2e1440d9176c7a8264f0'], 'data': ['0x1b1ae4d6e2ef500000', '0x4e6f6e65']} \n",
      "\n",
      "{'scoreAddress': 'cx7449a63d229f9a78482d4b0ddec7cc6dcac11e8d', 'indexed': ['Transfer(Address,Address,int,bytes)', 'hx0000000000000000000000000000000000000000', 'cx6bad461190dcf3a35b2e2e1440d9176c7a8264f0', '0x1b1ae4d6e2ef500000'], 'data': ['0x4e6f6e65']} \n",
      "\n",
      "{'scoreAddress': 'cxb94efc11885ee6e915b50baed2700b3194e5ec66', 'indexed': ['TokenTransfer(Address,int,str)', 'cx6bad461190dcf3a35b2e2e1440d9176c7a8264f0', '0x1b1ae4d6e2ef500000'], 'data': ['500 sICX minted to cx6bad461190dcf3a35b2e2e1440d9176c7a8264f0']} \n",
      "\n",
      "{'scoreAddress': 'cxacecca4b07df90942df83e8de69615195d32e7d6', 'indexed': ['OraclePrice(str,str,Address,int)', 'USDICX', 'BandChain', 'cxed97bdb35a7ca1b3993e400e4dba9e11610338f7'], 'data': ['0x84c5d90848544bb']} \n",
      "\n",
      "{'scoreAddress': 'cx6bad461190dcf3a35b2e2e1440d9176c7a8264f0', 'indexed': ['Snapshot(int)', '0x5'], 'data': []} \n",
      "\n",
      "{'scoreAddress': 'cx5bb188b6ae5121bbd9ab612520a06c8708a3417f', 'indexed': ['Mint(Address,int,bytes)', 'cx78c888afcf1323d01e52a8ead05c436feaa72329'], 'data': ['0x152d02c7e14af6800000', '0x4e6f6e65']} \n",
      "\n",
      "{'scoreAddress': 'cx5bb188b6ae5121bbd9ab612520a06c8708a3417f', 'indexed': ['Transfer(Address,Address,int,bytes)', 'hx0000000000000000000000000000000000000000', 'cx78c888afcf1323d01e52a8ead05c436feaa72329', '0x152d02c7e14af6800000'], 'data': ['0x4e6f6e65']} \n",
      "\n",
      "{'scoreAddress': 'cx5bb188b6ae5121bbd9ab612520a06c8708a3417f', 'indexed': ['Transfer(Address,Address,int,bytes)', 'cx78c888afcf1323d01e52a8ead05c436feaa72329', 'cx9aef4d9e2b7054091ed93eba704756e701cb5145', '0x43c33c1937564800000'], 'data': ['0x4e6f6e65']} \n",
      "\n",
      "{'scoreAddress': 'cx5bb188b6ae5121bbd9ab612520a06c8708a3417f', 'indexed': ['Transfer(Address,Address,int,bytes)', 'cx78c888afcf1323d01e52a8ead05c436feaa72329', 'cx603076b63252bd94b738934e4583896caa8ee72f', '0x10f0cf064dd59200000'], 'data': ['0x4e6f6e65']} \n",
      "\n",
      "{'scoreAddress': 'cx5bb188b6ae5121bbd9ab612520a06c8708a3417f', 'indexed': ['Transfer(Address,Address,int,bytes)', 'cx78c888afcf1323d01e52a8ead05c436feaa72329', 'cx224c364107dde7862aaef602e88a084f0653469c', '0x878678326eac9000000'], 'data': ['0x4e6f6e65']} \n",
      "\n",
      "{'scoreAddress': 'cx6bad461190dcf3a35b2e2e1440d9176c7a8264f0', 'indexed': ['CollateralReceived(Address,str,int)', 'hxe62d11fa19a0e8575ad92f06bc8fd42edbfe27db', 'sICX'], 'data': ['0x1b1ae4d6e2ef500000']} \n",
      "\n",
      "{'scoreAddress': 'cx6bad461190dcf3a35b2e2e1440d9176c7a8264f0', 'indexed': ['OriginateLoan(Address,str,int,str)', 'hxe62d11fa19a0e8575ad92f06bc8fd42edbfe27db', 'bnUSD', '0x2b5e3af16b1880000'], 'data': ['Loan of 50000000000000000000 bnUSD from Balanced.']} \n",
      "\n",
      "{'scoreAddress': 'cxacecca4b07df90942df83e8de69615195d32e7d6', 'indexed': ['Mint(Address,int,bytes)', 'hxe62d11fa19a0e8575ad92f06bc8fd42edbfe27db'], 'data': ['0x2b5e3af16b1880000', '0x4e6f6e65']} \n",
      "\n",
      "{'scoreAddress': 'cxacecca4b07df90942df83e8de69615195d32e7d6', 'indexed': ['Transfer(Address,Address,int,bytes)', 'hx0000000000000000000000000000000000000000', 'hxe62d11fa19a0e8575ad92f06bc8fd42edbfe27db', '0x2b5e3af16b1880000'], 'data': ['0x4e6f6e65']} \n",
      "\n",
      "{'scoreAddress': 'cxacecca4b07df90942df83e8de69615195d32e7d6', 'indexed': ['Mint(Address,int,bytes)', 'cx7631bcb22e822687a2d6dec606eebc751449ba30'], 'data': ['0x6f05b59d3b20000', '0x4e6f6e65']} \n",
      "\n",
      "{'scoreAddress': 'cxacecca4b07df90942df83e8de69615195d32e7d6', 'indexed': ['Transfer(Address,Address,int,bytes)', 'hx0000000000000000000000000000000000000000', 'cx7631bcb22e822687a2d6dec606eebc751449ba30', '0x6f05b59d3b20000'], 'data': ['0x4e6f6e65']} \n",
      "\n",
      "{'scoreAddress': 'cx7631bcb22e822687a2d6dec606eebc751449ba30', 'indexed': ['DividendsReceived(int,str)', '0x6f05b59d3b20000'], 'data': ['500000000000000000 tokens received as dividends token: cxacecca4b07df90942df83e8de69615195d32e7d6']} \n",
      "\n",
      "{'scoreAddress': 'cx6bad461190dcf3a35b2e2e1440d9176c7a8264f0', 'indexed': ['FeePaid(str,int,str)', 'bnUSD', '0x6f05b59d3b20000', 'origination'], 'data': []} \n",
      "\n"
     ]
    },
    {
     "data": {
      "text/plain": [
       "{'txHash': '0x98edc055f4983534ad46bd6de71a8cb31503ca19364a852631c79f64c8aae2d1',\n",
       " 'blockHeight': 815984,\n",
       " 'blockHash': '0x9f1736c04ee08905c182e063da068d9113f4dda8a298cde99d3cabfbc016de00',\n",
       " 'txIndex': 1,\n",
       " 'to': 'cx6bad461190dcf3a35b2e2e1440d9176c7a8264f0',\n",
       " 'stepUsed': 1333680,\n",
       " 'stepPrice': 10000000000,\n",
       " 'cumulativeStepUsed': 1333680,\n",
       " 'eventLogs': [{'scoreAddress': 'cx6bad461190dcf3a35b2e2e1440d9176c7a8264f0',\n",
       "   'indexed': ['ICXTransfer(Address,Address,int)',\n",
       "    'cx6bad461190dcf3a35b2e2e1440d9176c7a8264f0',\n",
       "    'cxb94efc11885ee6e915b50baed2700b3194e5ec66',\n",
       "    '0x1b1ae4d6e2ef500000'],\n",
       "   'data': []},\n",
       "  {'scoreAddress': 'cx7449a63d229f9a78482d4b0ddec7cc6dcac11e8d',\n",
       "   'indexed': ['Mint(Address,int,bytes)',\n",
       "    'cx6bad461190dcf3a35b2e2e1440d9176c7a8264f0'],\n",
       "   'data': ['0x1b1ae4d6e2ef500000', '0x4e6f6e65']},\n",
       "  {'scoreAddress': 'cx7449a63d229f9a78482d4b0ddec7cc6dcac11e8d',\n",
       "   'indexed': ['Transfer(Address,Address,int,bytes)',\n",
       "    'hx0000000000000000000000000000000000000000',\n",
       "    'cx6bad461190dcf3a35b2e2e1440d9176c7a8264f0',\n",
       "    '0x1b1ae4d6e2ef500000'],\n",
       "   'data': ['0x4e6f6e65']},\n",
       "  {'scoreAddress': 'cxb94efc11885ee6e915b50baed2700b3194e5ec66',\n",
       "   'indexed': ['TokenTransfer(Address,int,str)',\n",
       "    'cx6bad461190dcf3a35b2e2e1440d9176c7a8264f0',\n",
       "    '0x1b1ae4d6e2ef500000'],\n",
       "   'data': ['500 sICX minted to cx6bad461190dcf3a35b2e2e1440d9176c7a8264f0']},\n",
       "  {'scoreAddress': 'cxacecca4b07df90942df83e8de69615195d32e7d6',\n",
       "   'indexed': ['OraclePrice(str,str,Address,int)',\n",
       "    'USDICX',\n",
       "    'BandChain',\n",
       "    'cxed97bdb35a7ca1b3993e400e4dba9e11610338f7'],\n",
       "   'data': ['0x84c5d90848544bb']},\n",
       "  {'scoreAddress': 'cx6bad461190dcf3a35b2e2e1440d9176c7a8264f0',\n",
       "   'indexed': ['Snapshot(int)', '0x5'],\n",
       "   'data': []},\n",
       "  {'scoreAddress': 'cx5bb188b6ae5121bbd9ab612520a06c8708a3417f',\n",
       "   'indexed': ['Mint(Address,int,bytes)',\n",
       "    'cx78c888afcf1323d01e52a8ead05c436feaa72329'],\n",
       "   'data': ['0x152d02c7e14af6800000', '0x4e6f6e65']},\n",
       "  {'scoreAddress': 'cx5bb188b6ae5121bbd9ab612520a06c8708a3417f',\n",
       "   'indexed': ['Transfer(Address,Address,int,bytes)',\n",
       "    'hx0000000000000000000000000000000000000000',\n",
       "    'cx78c888afcf1323d01e52a8ead05c436feaa72329',\n",
       "    '0x152d02c7e14af6800000'],\n",
       "   'data': ['0x4e6f6e65']},\n",
       "  {'scoreAddress': 'cx5bb188b6ae5121bbd9ab612520a06c8708a3417f',\n",
       "   'indexed': ['Transfer(Address,Address,int,bytes)',\n",
       "    'cx78c888afcf1323d01e52a8ead05c436feaa72329',\n",
       "    'cx9aef4d9e2b7054091ed93eba704756e701cb5145',\n",
       "    '0x43c33c1937564800000'],\n",
       "   'data': ['0x4e6f6e65']},\n",
       "  {'scoreAddress': 'cx5bb188b6ae5121bbd9ab612520a06c8708a3417f',\n",
       "   'indexed': ['Transfer(Address,Address,int,bytes)',\n",
       "    'cx78c888afcf1323d01e52a8ead05c436feaa72329',\n",
       "    'cx603076b63252bd94b738934e4583896caa8ee72f',\n",
       "    '0x10f0cf064dd59200000'],\n",
       "   'data': ['0x4e6f6e65']},\n",
       "  {'scoreAddress': 'cx5bb188b6ae5121bbd9ab612520a06c8708a3417f',\n",
       "   'indexed': ['Transfer(Address,Address,int,bytes)',\n",
       "    'cx78c888afcf1323d01e52a8ead05c436feaa72329',\n",
       "    'cx224c364107dde7862aaef602e88a084f0653469c',\n",
       "    '0x878678326eac9000000'],\n",
       "   'data': ['0x4e6f6e65']},\n",
       "  {'scoreAddress': 'cx6bad461190dcf3a35b2e2e1440d9176c7a8264f0',\n",
       "   'indexed': ['CollateralReceived(Address,str,int)',\n",
       "    'hxe62d11fa19a0e8575ad92f06bc8fd42edbfe27db',\n",
       "    'sICX'],\n",
       "   'data': ['0x1b1ae4d6e2ef500000']},\n",
       "  {'scoreAddress': 'cx6bad461190dcf3a35b2e2e1440d9176c7a8264f0',\n",
       "   'indexed': ['OriginateLoan(Address,str,int,str)',\n",
       "    'hxe62d11fa19a0e8575ad92f06bc8fd42edbfe27db',\n",
       "    'bnUSD',\n",
       "    '0x2b5e3af16b1880000'],\n",
       "   'data': ['Loan of 50000000000000000000 bnUSD from Balanced.']},\n",
       "  {'scoreAddress': 'cxacecca4b07df90942df83e8de69615195d32e7d6',\n",
       "   'indexed': ['Mint(Address,int,bytes)',\n",
       "    'hxe62d11fa19a0e8575ad92f06bc8fd42edbfe27db'],\n",
       "   'data': ['0x2b5e3af16b1880000', '0x4e6f6e65']},\n",
       "  {'scoreAddress': 'cxacecca4b07df90942df83e8de69615195d32e7d6',\n",
       "   'indexed': ['Transfer(Address,Address,int,bytes)',\n",
       "    'hx0000000000000000000000000000000000000000',\n",
       "    'hxe62d11fa19a0e8575ad92f06bc8fd42edbfe27db',\n",
       "    '0x2b5e3af16b1880000'],\n",
       "   'data': ['0x4e6f6e65']},\n",
       "  {'scoreAddress': 'cxacecca4b07df90942df83e8de69615195d32e7d6',\n",
       "   'indexed': ['Mint(Address,int,bytes)',\n",
       "    'cx7631bcb22e822687a2d6dec606eebc751449ba30'],\n",
       "   'data': ['0x6f05b59d3b20000', '0x4e6f6e65']},\n",
       "  {'scoreAddress': 'cxacecca4b07df90942df83e8de69615195d32e7d6',\n",
       "   'indexed': ['Transfer(Address,Address,int,bytes)',\n",
       "    'hx0000000000000000000000000000000000000000',\n",
       "    'cx7631bcb22e822687a2d6dec606eebc751449ba30',\n",
       "    '0x6f05b59d3b20000'],\n",
       "   'data': ['0x4e6f6e65']},\n",
       "  {'scoreAddress': 'cx7631bcb22e822687a2d6dec606eebc751449ba30',\n",
       "   'indexed': ['DividendsReceived(int,str)', '0x6f05b59d3b20000'],\n",
       "   'data': ['500000000000000000 tokens received as dividends token: cxacecca4b07df90942df83e8de69615195d32e7d6']},\n",
       "  {'scoreAddress': 'cx6bad461190dcf3a35b2e2e1440d9176c7a8264f0',\n",
       "   'indexed': ['FeePaid(str,int,str)',\n",
       "    'bnUSD',\n",
       "    '0x6f05b59d3b20000',\n",
       "    'origination'],\n",
       "   'data': []}],\n",
       " 'logsBloom': b'\\x00\\x00\\x10\\x00\\x00\\x00\\x00\\x00\\x02\\x04 !\\x04\\x00\\x00 \\x00\\x00 \\x10\\x00\\x00\\x00\\x10 \\x01H@\\x00\\x08\\x0c\\x00\\x00\\x00\\x00\\x00\\x08 \\x00\\x10\\x01 D\\xc0\\x00\\x00\\x00\\x00\\x00\\x00\\x80\\x00\\x00\\x01\\x04\\x00\\x00\\x00\\x18\\x01\\x00\\x10\\x00 \\x80P\\x00\\x00\\x00\\x08\\x00\\x00\\x00\\x00\\x000\\x00\\x00\\x10\\x00\\x01\\x10\\x00\\x00@\\x82\\x00@\\x00\\x00\\x00\\x08\\x10\\x00\\x00\\x02\\x00\\x00\\x08\\x01\\x00\\x00\\x00\\x01\\x00\\x03\\x00\\x00\\x80\\x00\\xc0 \\x00\\x001\\x00\\x00\\x05\\x00\\x04\\x01\\x08\\x00\\x80\\x08\\x00\\x01\\x00\\x01 \\x00\\x00\\x00\\x80\\x00\\x00\\x00\\x11\\x02\\x01\\x00\\x00\\x00\\x02D\\x00\\x16\\x00 \\x01\\x00\\x00\\x04\\x00\\x04 \\x00\\x12\\x00\\x01\\x00\\x00\\x00\\x00\\x00\\x04\\x08\\x81\\x00\\x00\\x00\\x00\\x00\\x00\\x00\\x04\\x00\\x00 \\x00\\x00\\x00@\\x00\\x12\\x10\\x00\\x00\\x00\\x00\\x10\\x01\\x00\\x00\\x08\\x02 \\x02\\x00\\x00\\x00\\x04\\x06\\x00\\x04\\x00\\xa0\\x00\\x00\\x00\\x01@\\x10\\xc1\\x00\\x00\\x00\\x02\\x00\\x00\\x00\\x00\\x00\\x00\\x00\\x000\\x14\\x00\\x00\\x00\\x10\\x00\\x00\\x00\\x00\\x00\\x00\\x00 \\x00\\x00\\x00 \\x02\\x00\\x00\\x00\\x90\\x00\\x00`\\x08\\x08@\\x02',\n",
       " 'status': 1}"
      ]
     },
     "execution_count": 20,
     "metadata": {},
     "output_type": "execute_result"
    }
   ],
   "source": [
    "send_tx('loans', 500*ICX, 'depositAndBorrow', {'_asset': 'bnUSD', '_amount': 50* ICX}, user1)\n"
   ]
  },
  {
   "cell_type": "code",
   "execution_count": 60,
   "metadata": {},
   "outputs": [
    {
     "name": "stdout",
     "output_type": "stream",
     "text": [
      "{'scoreAddress': 'cx513189a70c52d4ff32e7bc22a4b64d48102df7f8', 'indexed': ['Mint(Address,int,bytes)', 'cx3493926cd5ae38f9990af3355b4f7bf27130c14e'], 'data': ['0x152d02c7e14af6800000', '0x4e6f6e65']} \n",
      "\n",
      "{'scoreAddress': 'cx513189a70c52d4ff32e7bc22a4b64d48102df7f8', 'indexed': ['Transfer(Address,Address,int,bytes)', 'hx0000000000000000000000000000000000000000', 'cx3493926cd5ae38f9990af3355b4f7bf27130c14e', '0x152d02c7e14af6800000'], 'data': ['0x4e6f6e65']} \n",
      "\n",
      "{'scoreAddress': 'cx513189a70c52d4ff32e7bc22a4b64d48102df7f8', 'indexed': ['Transfer(Address,Address,int,bytes)', 'cx3493926cd5ae38f9990af3355b4f7bf27130c14e', 'cx0768e7dae4911e4ce1462d90cfabdaa426fa5bf5', '0x43c33c1937564800000'], 'data': ['0x4e6f6e65']} \n",
      "\n",
      "{'scoreAddress': 'cx513189a70c52d4ff32e7bc22a4b64d48102df7f8', 'indexed': ['Transfer(Address,Address,int,bytes)', 'cx3493926cd5ae38f9990af3355b4f7bf27130c14e', 'cx65ba1de8ef7515025943488640070054060dac32', '0x10f0cf064dd59200000'], 'data': ['0x4e6f6e65']} \n",
      "\n",
      "{'scoreAddress': 'cx513189a70c52d4ff32e7bc22a4b64d48102df7f8', 'indexed': ['Transfer(Address,Address,int,bytes)', 'cx3493926cd5ae38f9990af3355b4f7bf27130c14e', 'cx413906f902467b3b236837a2a916ea032a07e51a', '0x878678326eac9000000'], 'data': ['0x4e6f6e65']} \n",
      "\n"
     ]
    },
    {
     "name": "stderr",
     "output_type": "stream",
     "text": [
      "Raised JSONRPCException while returning the custom response. Error message: {'code': -32602, 'message': 'Pending transaction'}\n"
     ]
    },
    {
     "name": "stdout",
     "output_type": "stream",
     "text": [
      "Retrying in 1 seconds...\n",
      "{'scoreAddress': 'cx513189a70c52d4ff32e7bc22a4b64d48102df7f8', 'indexed': ['Mint(Address,int,bytes)', 'cx3493926cd5ae38f9990af3355b4f7bf27130c14e'], 'data': ['0x152d02c7e14af6800000', '0x4e6f6e65']} \n",
      "\n",
      "{'scoreAddress': 'cx513189a70c52d4ff32e7bc22a4b64d48102df7f8', 'indexed': ['Transfer(Address,Address,int,bytes)', 'hx0000000000000000000000000000000000000000', 'cx3493926cd5ae38f9990af3355b4f7bf27130c14e', '0x152d02c7e14af6800000'], 'data': ['0x4e6f6e65']} \n",
      "\n",
      "{'scoreAddress': 'cx513189a70c52d4ff32e7bc22a4b64d48102df7f8', 'indexed': ['Transfer(Address,Address,int,bytes)', 'cx3493926cd5ae38f9990af3355b4f7bf27130c14e', 'cx0768e7dae4911e4ce1462d90cfabdaa426fa5bf5', '0x43c33c1937564800000'], 'data': ['0x4e6f6e65']} \n",
      "\n",
      "{'scoreAddress': 'cx513189a70c52d4ff32e7bc22a4b64d48102df7f8', 'indexed': ['Transfer(Address,Address,int,bytes)', 'cx3493926cd5ae38f9990af3355b4f7bf27130c14e', 'cx65ba1de8ef7515025943488640070054060dac32', '0x10f0cf064dd59200000'], 'data': ['0x4e6f6e65']} \n",
      "\n",
      "{'scoreAddress': 'cx513189a70c52d4ff32e7bc22a4b64d48102df7f8', 'indexed': ['Transfer(Address,Address,int,bytes)', 'cx3493926cd5ae38f9990af3355b4f7bf27130c14e', 'cx413906f902467b3b236837a2a916ea032a07e51a', '0x878678326eac9000000'], 'data': ['0x4e6f6e65']} \n",
      "\n",
      "{'scoreAddress': 'cx513189a70c52d4ff32e7bc22a4b64d48102df7f8', 'indexed': ['Mint(Address,int,bytes)', 'cx3493926cd5ae38f9990af3355b4f7bf27130c14e'], 'data': ['0x152d02c7e14af6800000', '0x4e6f6e65']} \n",
      "\n",
      "{'scoreAddress': 'cx513189a70c52d4ff32e7bc22a4b64d48102df7f8', 'indexed': ['Transfer(Address,Address,int,bytes)', 'hx0000000000000000000000000000000000000000', 'cx3493926cd5ae38f9990af3355b4f7bf27130c14e', '0x152d02c7e14af6800000'], 'data': ['0x4e6f6e65']} \n",
      "\n",
      "{'scoreAddress': 'cx513189a70c52d4ff32e7bc22a4b64d48102df7f8', 'indexed': ['Transfer(Address,Address,int,bytes)', 'cx3493926cd5ae38f9990af3355b4f7bf27130c14e', 'cx0768e7dae4911e4ce1462d90cfabdaa426fa5bf5', '0x43c33c1937564800000'], 'data': ['0x4e6f6e65']} \n",
      "\n",
      "{'scoreAddress': 'cx513189a70c52d4ff32e7bc22a4b64d48102df7f8', 'indexed': ['Transfer(Address,Address,int,bytes)', 'cx3493926cd5ae38f9990af3355b4f7bf27130c14e', 'cx65ba1de8ef7515025943488640070054060dac32', '0x10f0cf064dd59200000'], 'data': ['0x4e6f6e65']} \n",
      "\n",
      "{'scoreAddress': 'cx513189a70c52d4ff32e7bc22a4b64d48102df7f8', 'indexed': ['Transfer(Address,Address,int,bytes)', 'cx3493926cd5ae38f9990af3355b4f7bf27130c14e', 'cx413906f902467b3b236837a2a916ea032a07e51a', '0x878678326eac9000000'], 'data': ['0x4e6f6e65']} \n",
      "\n"
     ]
    },
    {
     "name": "stderr",
     "output_type": "stream",
     "text": [
      "Raised JSONRPCException while returning the custom response. Error message: {'code': -32602, 'message': 'Pending transaction'}\n"
     ]
    },
    {
     "name": "stdout",
     "output_type": "stream",
     "text": [
      "Retrying in 1 seconds...\n",
      "{'scoreAddress': 'cx513189a70c52d4ff32e7bc22a4b64d48102df7f8', 'indexed': ['Mint(Address,int,bytes)', 'cx3493926cd5ae38f9990af3355b4f7bf27130c14e'], 'data': ['0x152d02c7e14af6800000', '0x4e6f6e65']} \n",
      "\n",
      "{'scoreAddress': 'cx513189a70c52d4ff32e7bc22a4b64d48102df7f8', 'indexed': ['Transfer(Address,Address,int,bytes)', 'hx0000000000000000000000000000000000000000', 'cx3493926cd5ae38f9990af3355b4f7bf27130c14e', '0x152d02c7e14af6800000'], 'data': ['0x4e6f6e65']} \n",
      "\n",
      "{'scoreAddress': 'cx513189a70c52d4ff32e7bc22a4b64d48102df7f8', 'indexed': ['Transfer(Address,Address,int,bytes)', 'cx3493926cd5ae38f9990af3355b4f7bf27130c14e', 'cx0768e7dae4911e4ce1462d90cfabdaa426fa5bf5', '0x43c33c1937564800000'], 'data': ['0x4e6f6e65']} \n",
      "\n",
      "{'scoreAddress': 'cx513189a70c52d4ff32e7bc22a4b64d48102df7f8', 'indexed': ['Transfer(Address,Address,int,bytes)', 'cx3493926cd5ae38f9990af3355b4f7bf27130c14e', 'cx65ba1de8ef7515025943488640070054060dac32', '0x10f0cf064dd59200000'], 'data': ['0x4e6f6e65']} \n",
      "\n",
      "{'scoreAddress': 'cx513189a70c52d4ff32e7bc22a4b64d48102df7f8', 'indexed': ['Transfer(Address,Address,int,bytes)', 'cx3493926cd5ae38f9990af3355b4f7bf27130c14e', 'cx413906f902467b3b236837a2a916ea032a07e51a', '0x878678326eac9000000'], 'data': ['0x4e6f6e65']} \n",
      "\n",
      "{'scoreAddress': 'cx513189a70c52d4ff32e7bc22a4b64d48102df7f8', 'indexed': ['Mint(Address,int,bytes)', 'cx3493926cd5ae38f9990af3355b4f7bf27130c14e'], 'data': ['0x152d02c7e14af6800000', '0x4e6f6e65']} \n",
      "\n",
      "{'scoreAddress': 'cx513189a70c52d4ff32e7bc22a4b64d48102df7f8', 'indexed': ['Transfer(Address,Address,int,bytes)', 'hx0000000000000000000000000000000000000000', 'cx3493926cd5ae38f9990af3355b4f7bf27130c14e', '0x152d02c7e14af6800000'], 'data': ['0x4e6f6e65']} \n",
      "\n",
      "{'scoreAddress': 'cx513189a70c52d4ff32e7bc22a4b64d48102df7f8', 'indexed': ['Transfer(Address,Address,int,bytes)', 'cx3493926cd5ae38f9990af3355b4f7bf27130c14e', 'cx0768e7dae4911e4ce1462d90cfabdaa426fa5bf5', '0x43c33c1937564800000'], 'data': ['0x4e6f6e65']} \n",
      "\n",
      "{'scoreAddress': 'cx513189a70c52d4ff32e7bc22a4b64d48102df7f8', 'indexed': ['Transfer(Address,Address,int,bytes)', 'cx3493926cd5ae38f9990af3355b4f7bf27130c14e', 'cx65ba1de8ef7515025943488640070054060dac32', '0x10f0cf064dd59200000'], 'data': ['0x4e6f6e65']} \n",
      "\n",
      "{'scoreAddress': 'cx513189a70c52d4ff32e7bc22a4b64d48102df7f8', 'indexed': ['Transfer(Address,Address,int,bytes)', 'cx3493926cd5ae38f9990af3355b4f7bf27130c14e', 'cx413906f902467b3b236837a2a916ea032a07e51a', '0x878678326eac9000000'], 'data': ['0x4e6f6e65']} \n",
      "\n"
     ]
    },
    {
     "name": "stderr",
     "output_type": "stream",
     "text": [
      "Raised JSONRPCException while returning the custom response. Error message: {'code': -32602, 'message': 'Pending transaction'}\n"
     ]
    },
    {
     "name": "stdout",
     "output_type": "stream",
     "text": [
      "Retrying in 1 seconds...\n",
      "{'scoreAddress': 'cx513189a70c52d4ff32e7bc22a4b64d48102df7f8', 'indexed': ['Mint(Address,int,bytes)', 'cx3493926cd5ae38f9990af3355b4f7bf27130c14e'], 'data': ['0x152d02c7e14af6800000', '0x4e6f6e65']} \n",
      "\n",
      "{'scoreAddress': 'cx513189a70c52d4ff32e7bc22a4b64d48102df7f8', 'indexed': ['Transfer(Address,Address,int,bytes)', 'hx0000000000000000000000000000000000000000', 'cx3493926cd5ae38f9990af3355b4f7bf27130c14e', '0x152d02c7e14af6800000'], 'data': ['0x4e6f6e65']} \n",
      "\n",
      "{'scoreAddress': 'cx513189a70c52d4ff32e7bc22a4b64d48102df7f8', 'indexed': ['Transfer(Address,Address,int,bytes)', 'cx3493926cd5ae38f9990af3355b4f7bf27130c14e', 'cx0768e7dae4911e4ce1462d90cfabdaa426fa5bf5', '0x43c33c1937564800000'], 'data': ['0x4e6f6e65']} \n",
      "\n",
      "{'scoreAddress': 'cx513189a70c52d4ff32e7bc22a4b64d48102df7f8', 'indexed': ['Transfer(Address,Address,int,bytes)', 'cx3493926cd5ae38f9990af3355b4f7bf27130c14e', 'cx65ba1de8ef7515025943488640070054060dac32', '0x10f0cf064dd59200000'], 'data': ['0x4e6f6e65']} \n",
      "\n",
      "{'scoreAddress': 'cx513189a70c52d4ff32e7bc22a4b64d48102df7f8', 'indexed': ['Transfer(Address,Address,int,bytes)', 'cx3493926cd5ae38f9990af3355b4f7bf27130c14e', 'cx413906f902467b3b236837a2a916ea032a07e51a', '0x878678326eac9000000'], 'data': ['0x4e6f6e65']} \n",
      "\n",
      "{'scoreAddress': 'cx513189a70c52d4ff32e7bc22a4b64d48102df7f8', 'indexed': ['Mint(Address,int,bytes)', 'cx3493926cd5ae38f9990af3355b4f7bf27130c14e'], 'data': ['0x152d02c7e14af6800000', '0x4e6f6e65']} \n",
      "\n",
      "{'scoreAddress': 'cx513189a70c52d4ff32e7bc22a4b64d48102df7f8', 'indexed': ['Transfer(Address,Address,int,bytes)', 'hx0000000000000000000000000000000000000000', 'cx3493926cd5ae38f9990af3355b4f7bf27130c14e', '0x152d02c7e14af6800000'], 'data': ['0x4e6f6e65']} \n",
      "\n",
      "{'scoreAddress': 'cx513189a70c52d4ff32e7bc22a4b64d48102df7f8', 'indexed': ['Transfer(Address,Address,int,bytes)', 'cx3493926cd5ae38f9990af3355b4f7bf27130c14e', 'cx0768e7dae4911e4ce1462d90cfabdaa426fa5bf5', '0x43c33c1937564800000'], 'data': ['0x4e6f6e65']} \n",
      "\n",
      "{'scoreAddress': 'cx513189a70c52d4ff32e7bc22a4b64d48102df7f8', 'indexed': ['Transfer(Address,Address,int,bytes)', 'cx3493926cd5ae38f9990af3355b4f7bf27130c14e', 'cx65ba1de8ef7515025943488640070054060dac32', '0x10f0cf064dd59200000'], 'data': ['0x4e6f6e65']} \n",
      "\n",
      "{'scoreAddress': 'cx513189a70c52d4ff32e7bc22a4b64d48102df7f8', 'indexed': ['Transfer(Address,Address,int,bytes)', 'cx3493926cd5ae38f9990af3355b4f7bf27130c14e', 'cx413906f902467b3b236837a2a916ea032a07e51a', '0x878678326eac9000000'], 'data': ['0x4e6f6e65']} \n",
      "\n"
     ]
    },
    {
     "name": "stderr",
     "output_type": "stream",
     "text": [
      "Raised JSONRPCException while returning the custom response. Error message: {'code': -32602, 'message': 'Pending transaction'}\n"
     ]
    },
    {
     "name": "stdout",
     "output_type": "stream",
     "text": [
      "Retrying in 1 seconds...\n",
      "{'scoreAddress': 'cx513189a70c52d4ff32e7bc22a4b64d48102df7f8', 'indexed': ['Mint(Address,int,bytes)', 'cx3493926cd5ae38f9990af3355b4f7bf27130c14e'], 'data': ['0x152d02c7e14af6800000', '0x4e6f6e65']} \n",
      "\n",
      "{'scoreAddress': 'cx513189a70c52d4ff32e7bc22a4b64d48102df7f8', 'indexed': ['Transfer(Address,Address,int,bytes)', 'hx0000000000000000000000000000000000000000', 'cx3493926cd5ae38f9990af3355b4f7bf27130c14e', '0x152d02c7e14af6800000'], 'data': ['0x4e6f6e65']} \n",
      "\n",
      "{'scoreAddress': 'cx513189a70c52d4ff32e7bc22a4b64d48102df7f8', 'indexed': ['Transfer(Address,Address,int,bytes)', 'cx3493926cd5ae38f9990af3355b4f7bf27130c14e', 'cx0768e7dae4911e4ce1462d90cfabdaa426fa5bf5', '0x43c33c1937564800000'], 'data': ['0x4e6f6e65']} \n",
      "\n",
      "{'scoreAddress': 'cx513189a70c52d4ff32e7bc22a4b64d48102df7f8', 'indexed': ['Transfer(Address,Address,int,bytes)', 'cx3493926cd5ae38f9990af3355b4f7bf27130c14e', 'cx65ba1de8ef7515025943488640070054060dac32', '0x10f0cf064dd59200000'], 'data': ['0x4e6f6e65']} \n",
      "\n",
      "{'scoreAddress': 'cx513189a70c52d4ff32e7bc22a4b64d48102df7f8', 'indexed': ['Transfer(Address,Address,int,bytes)', 'cx3493926cd5ae38f9990af3355b4f7bf27130c14e', 'cx413906f902467b3b236837a2a916ea032a07e51a', '0x878678326eac9000000'], 'data': ['0x4e6f6e65']} \n",
      "\n",
      "{'scoreAddress': 'cx513189a70c52d4ff32e7bc22a4b64d48102df7f8', 'indexed': ['Mint(Address,int,bytes)', 'cx3493926cd5ae38f9990af3355b4f7bf27130c14e'], 'data': ['0x152d02c7e14af6800000', '0x4e6f6e65']} \n",
      "\n",
      "{'scoreAddress': 'cx513189a70c52d4ff32e7bc22a4b64d48102df7f8', 'indexed': ['Transfer(Address,Address,int,bytes)', 'hx0000000000000000000000000000000000000000', 'cx3493926cd5ae38f9990af3355b4f7bf27130c14e', '0x152d02c7e14af6800000'], 'data': ['0x4e6f6e65']} \n",
      "\n",
      "{'scoreAddress': 'cx513189a70c52d4ff32e7bc22a4b64d48102df7f8', 'indexed': ['Transfer(Address,Address,int,bytes)', 'cx3493926cd5ae38f9990af3355b4f7bf27130c14e', 'cx0768e7dae4911e4ce1462d90cfabdaa426fa5bf5', '0x43c33c1937564800000'], 'data': ['0x4e6f6e65']} \n",
      "\n",
      "{'scoreAddress': 'cx513189a70c52d4ff32e7bc22a4b64d48102df7f8', 'indexed': ['Transfer(Address,Address,int,bytes)', 'cx3493926cd5ae38f9990af3355b4f7bf27130c14e', 'cx65ba1de8ef7515025943488640070054060dac32', '0x10f0cf064dd59200000'], 'data': ['0x4e6f6e65']} \n",
      "\n",
      "{'scoreAddress': 'cx513189a70c52d4ff32e7bc22a4b64d48102df7f8', 'indexed': ['Transfer(Address,Address,int,bytes)', 'cx3493926cd5ae38f9990af3355b4f7bf27130c14e', 'cx413906f902467b3b236837a2a916ea032a07e51a', '0x878678326eac9000000'], 'data': ['0x4e6f6e65']} \n",
      "\n"
     ]
    },
    {
     "name": "stderr",
     "output_type": "stream",
     "text": [
      "Raised JSONRPCException while returning the custom response. Error message: {'code': -32602, 'message': 'Pending transaction'}\n"
     ]
    },
    {
     "name": "stdout",
     "output_type": "stream",
     "text": [
      "Retrying in 1 seconds...\n",
      "{'scoreAddress': 'cx513189a70c52d4ff32e7bc22a4b64d48102df7f8', 'indexed': ['Mint(Address,int,bytes)', 'cx3493926cd5ae38f9990af3355b4f7bf27130c14e'], 'data': ['0x152d02c7e14af6800000', '0x4e6f6e65']} \n",
      "\n",
      "{'scoreAddress': 'cx513189a70c52d4ff32e7bc22a4b64d48102df7f8', 'indexed': ['Transfer(Address,Address,int,bytes)', 'hx0000000000000000000000000000000000000000', 'cx3493926cd5ae38f9990af3355b4f7bf27130c14e', '0x152d02c7e14af6800000'], 'data': ['0x4e6f6e65']} \n",
      "\n",
      "{'scoreAddress': 'cx513189a70c52d4ff32e7bc22a4b64d48102df7f8', 'indexed': ['Transfer(Address,Address,int,bytes)', 'cx3493926cd5ae38f9990af3355b4f7bf27130c14e', 'cx0768e7dae4911e4ce1462d90cfabdaa426fa5bf5', '0x43c33c1937564800000'], 'data': ['0x4e6f6e65']} \n",
      "\n",
      "{'scoreAddress': 'cx513189a70c52d4ff32e7bc22a4b64d48102df7f8', 'indexed': ['Transfer(Address,Address,int,bytes)', 'cx3493926cd5ae38f9990af3355b4f7bf27130c14e', 'cx65ba1de8ef7515025943488640070054060dac32', '0x10f0cf064dd59200000'], 'data': ['0x4e6f6e65']} \n",
      "\n",
      "{'scoreAddress': 'cx513189a70c52d4ff32e7bc22a4b64d48102df7f8', 'indexed': ['Transfer(Address,Address,int,bytes)', 'cx3493926cd5ae38f9990af3355b4f7bf27130c14e', 'cx413906f902467b3b236837a2a916ea032a07e51a', '0x878678326eac9000000'], 'data': ['0x4e6f6e65']} \n",
      "\n",
      "{'scoreAddress': 'cx513189a70c52d4ff32e7bc22a4b64d48102df7f8', 'indexed': ['Mint(Address,int,bytes)', 'cx3493926cd5ae38f9990af3355b4f7bf27130c14e'], 'data': ['0x152d02c7e14af6800000', '0x4e6f6e65']} \n",
      "\n",
      "{'scoreAddress': 'cx513189a70c52d4ff32e7bc22a4b64d48102df7f8', 'indexed': ['Transfer(Address,Address,int,bytes)', 'hx0000000000000000000000000000000000000000', 'cx3493926cd5ae38f9990af3355b4f7bf27130c14e', '0x152d02c7e14af6800000'], 'data': ['0x4e6f6e65']} \n",
      "\n",
      "{'scoreAddress': 'cx513189a70c52d4ff32e7bc22a4b64d48102df7f8', 'indexed': ['Transfer(Address,Address,int,bytes)', 'cx3493926cd5ae38f9990af3355b4f7bf27130c14e', 'cx0768e7dae4911e4ce1462d90cfabdaa426fa5bf5', '0x43c33c1937564800000'], 'data': ['0x4e6f6e65']} \n",
      "\n",
      "{'scoreAddress': 'cx513189a70c52d4ff32e7bc22a4b64d48102df7f8', 'indexed': ['Transfer(Address,Address,int,bytes)', 'cx3493926cd5ae38f9990af3355b4f7bf27130c14e', 'cx65ba1de8ef7515025943488640070054060dac32', '0x10f0cf064dd59200000'], 'data': ['0x4e6f6e65']} \n",
      "\n",
      "{'scoreAddress': 'cx513189a70c52d4ff32e7bc22a4b64d48102df7f8', 'indexed': ['Transfer(Address,Address,int,bytes)', 'cx3493926cd5ae38f9990af3355b4f7bf27130c14e', 'cx413906f902467b3b236837a2a916ea032a07e51a', '0x878678326eac9000000'], 'data': ['0x4e6f6e65']} \n",
      "\n"
     ]
    },
    {
     "name": "stderr",
     "output_type": "stream",
     "text": [
      "Raised JSONRPCException while returning the custom response. Error message: {'code': -32602, 'message': 'Pending transaction'}\n"
     ]
    },
    {
     "name": "stdout",
     "output_type": "stream",
     "text": [
      "Retrying in 1 seconds...\n",
      "{'scoreAddress': 'cx513189a70c52d4ff32e7bc22a4b64d48102df7f8', 'indexed': ['Mint(Address,int,bytes)', 'cx3493926cd5ae38f9990af3355b4f7bf27130c14e'], 'data': ['0x152d02c7e14af6800000', '0x4e6f6e65']} \n",
      "\n",
      "{'scoreAddress': 'cx513189a70c52d4ff32e7bc22a4b64d48102df7f8', 'indexed': ['Transfer(Address,Address,int,bytes)', 'hx0000000000000000000000000000000000000000', 'cx3493926cd5ae38f9990af3355b4f7bf27130c14e', '0x152d02c7e14af6800000'], 'data': ['0x4e6f6e65']} \n",
      "\n",
      "{'scoreAddress': 'cx513189a70c52d4ff32e7bc22a4b64d48102df7f8', 'indexed': ['Transfer(Address,Address,int,bytes)', 'cx3493926cd5ae38f9990af3355b4f7bf27130c14e', 'cx0768e7dae4911e4ce1462d90cfabdaa426fa5bf5', '0x43c33c1937564800000'], 'data': ['0x4e6f6e65']} \n",
      "\n",
      "{'scoreAddress': 'cx513189a70c52d4ff32e7bc22a4b64d48102df7f8', 'indexed': ['Transfer(Address,Address,int,bytes)', 'cx3493926cd5ae38f9990af3355b4f7bf27130c14e', 'cx65ba1de8ef7515025943488640070054060dac32', '0x10f0cf064dd59200000'], 'data': ['0x4e6f6e65']} \n",
      "\n",
      "{'scoreAddress': 'cx513189a70c52d4ff32e7bc22a4b64d48102df7f8', 'indexed': ['Transfer(Address,Address,int,bytes)', 'cx3493926cd5ae38f9990af3355b4f7bf27130c14e', 'cx413906f902467b3b236837a2a916ea032a07e51a', '0x878678326eac9000000'], 'data': ['0x4e6f6e65']} \n",
      "\n",
      "{'scoreAddress': 'cx513189a70c52d4ff32e7bc22a4b64d48102df7f8', 'indexed': ['Mint(Address,int,bytes)', 'cx3493926cd5ae38f9990af3355b4f7bf27130c14e'], 'data': ['0x152d02c7e14af6800000', '0x4e6f6e65']} \n",
      "\n",
      "{'scoreAddress': 'cx513189a70c52d4ff32e7bc22a4b64d48102df7f8', 'indexed': ['Transfer(Address,Address,int,bytes)', 'hx0000000000000000000000000000000000000000', 'cx3493926cd5ae38f9990af3355b4f7bf27130c14e', '0x152d02c7e14af6800000'], 'data': ['0x4e6f6e65']} \n",
      "\n",
      "{'scoreAddress': 'cx513189a70c52d4ff32e7bc22a4b64d48102df7f8', 'indexed': ['Transfer(Address,Address,int,bytes)', 'cx3493926cd5ae38f9990af3355b4f7bf27130c14e', 'cx0768e7dae4911e4ce1462d90cfabdaa426fa5bf5', '0x43c33c1937564800000'], 'data': ['0x4e6f6e65']} \n",
      "\n",
      "{'scoreAddress': 'cx513189a70c52d4ff32e7bc22a4b64d48102df7f8', 'indexed': ['Transfer(Address,Address,int,bytes)', 'cx3493926cd5ae38f9990af3355b4f7bf27130c14e', 'cx65ba1de8ef7515025943488640070054060dac32', '0x10f0cf064dd59200000'], 'data': ['0x4e6f6e65']} \n",
      "\n",
      "{'scoreAddress': 'cx513189a70c52d4ff32e7bc22a4b64d48102df7f8', 'indexed': ['Transfer(Address,Address,int,bytes)', 'cx3493926cd5ae38f9990af3355b4f7bf27130c14e', 'cx413906f902467b3b236837a2a916ea032a07e51a', '0x878678326eac9000000'], 'data': ['0x4e6f6e65']} \n",
      "\n"
     ]
    },
    {
     "name": "stderr",
     "output_type": "stream",
     "text": [
      "Raised JSONRPCException while returning the custom response. Error message: {'code': -32602, 'message': 'Pending transaction'}\n"
     ]
    },
    {
     "name": "stdout",
     "output_type": "stream",
     "text": [
      "Retrying in 1 seconds...\n",
      "{'scoreAddress': 'cx513189a70c52d4ff32e7bc22a4b64d48102df7f8', 'indexed': ['Mint(Address,int,bytes)', 'cx3493926cd5ae38f9990af3355b4f7bf27130c14e'], 'data': ['0x152d02c7e14af6800000', '0x4e6f6e65']} \n",
      "\n",
      "{'scoreAddress': 'cx513189a70c52d4ff32e7bc22a4b64d48102df7f8', 'indexed': ['Transfer(Address,Address,int,bytes)', 'hx0000000000000000000000000000000000000000', 'cx3493926cd5ae38f9990af3355b4f7bf27130c14e', '0x152d02c7e14af6800000'], 'data': ['0x4e6f6e65']} \n",
      "\n",
      "{'scoreAddress': 'cx513189a70c52d4ff32e7bc22a4b64d48102df7f8', 'indexed': ['Transfer(Address,Address,int,bytes)', 'cx3493926cd5ae38f9990af3355b4f7bf27130c14e', 'cx0768e7dae4911e4ce1462d90cfabdaa426fa5bf5', '0x43c33c1937564800000'], 'data': ['0x4e6f6e65']} \n",
      "\n",
      "{'scoreAddress': 'cx513189a70c52d4ff32e7bc22a4b64d48102df7f8', 'indexed': ['Transfer(Address,Address,int,bytes)', 'cx3493926cd5ae38f9990af3355b4f7bf27130c14e', 'cx65ba1de8ef7515025943488640070054060dac32', '0x10f0cf064dd59200000'], 'data': ['0x4e6f6e65']} \n",
      "\n",
      "{'scoreAddress': 'cx513189a70c52d4ff32e7bc22a4b64d48102df7f8', 'indexed': ['Transfer(Address,Address,int,bytes)', 'cx3493926cd5ae38f9990af3355b4f7bf27130c14e', 'cx413906f902467b3b236837a2a916ea032a07e51a', '0x878678326eac9000000'], 'data': ['0x4e6f6e65']} \n",
      "\n",
      "{'scoreAddress': 'cx513189a70c52d4ff32e7bc22a4b64d48102df7f8', 'indexed': ['Mint(Address,int,bytes)', 'cx3493926cd5ae38f9990af3355b4f7bf27130c14e'], 'data': ['0x152d02c7e14af6800000', '0x4e6f6e65']} \n",
      "\n",
      "{'scoreAddress': 'cx513189a70c52d4ff32e7bc22a4b64d48102df7f8', 'indexed': ['Transfer(Address,Address,int,bytes)', 'hx0000000000000000000000000000000000000000', 'cx3493926cd5ae38f9990af3355b4f7bf27130c14e', '0x152d02c7e14af6800000'], 'data': ['0x4e6f6e65']} \n",
      "\n",
      "{'scoreAddress': 'cx513189a70c52d4ff32e7bc22a4b64d48102df7f8', 'indexed': ['Transfer(Address,Address,int,bytes)', 'cx3493926cd5ae38f9990af3355b4f7bf27130c14e', 'cx0768e7dae4911e4ce1462d90cfabdaa426fa5bf5', '0x43c33c1937564800000'], 'data': ['0x4e6f6e65']} \n",
      "\n",
      "{'scoreAddress': 'cx513189a70c52d4ff32e7bc22a4b64d48102df7f8', 'indexed': ['Transfer(Address,Address,int,bytes)', 'cx3493926cd5ae38f9990af3355b4f7bf27130c14e', 'cx65ba1de8ef7515025943488640070054060dac32', '0x10f0cf064dd59200000'], 'data': ['0x4e6f6e65']} \n",
      "\n",
      "{'scoreAddress': 'cx513189a70c52d4ff32e7bc22a4b64d48102df7f8', 'indexed': ['Transfer(Address,Address,int,bytes)', 'cx3493926cd5ae38f9990af3355b4f7bf27130c14e', 'cx413906f902467b3b236837a2a916ea032a07e51a', '0x878678326eac9000000'], 'data': ['0x4e6f6e65']} \n",
      "\n"
     ]
    },
    {
     "name": "stderr",
     "output_type": "stream",
     "text": [
      "Raised JSONRPCException while returning the custom response. Error message: {'code': -32602, 'message': 'Pending transaction'}\n"
     ]
    },
    {
     "name": "stdout",
     "output_type": "stream",
     "text": [
      "Retrying in 1 seconds...\n",
      "{'scoreAddress': 'cx513189a70c52d4ff32e7bc22a4b64d48102df7f8', 'indexed': ['Mint(Address,int,bytes)', 'cx3493926cd5ae38f9990af3355b4f7bf27130c14e'], 'data': ['0x152d02c7e14af6800000', '0x4e6f6e65']} \n",
      "\n",
      "{'scoreAddress': 'cx513189a70c52d4ff32e7bc22a4b64d48102df7f8', 'indexed': ['Transfer(Address,Address,int,bytes)', 'hx0000000000000000000000000000000000000000', 'cx3493926cd5ae38f9990af3355b4f7bf27130c14e', '0x152d02c7e14af6800000'], 'data': ['0x4e6f6e65']} \n",
      "\n",
      "{'scoreAddress': 'cx513189a70c52d4ff32e7bc22a4b64d48102df7f8', 'indexed': ['Transfer(Address,Address,int,bytes)', 'cx3493926cd5ae38f9990af3355b4f7bf27130c14e', 'cx0768e7dae4911e4ce1462d90cfabdaa426fa5bf5', '0x43c33c1937564800000'], 'data': ['0x4e6f6e65']} \n",
      "\n",
      "{'scoreAddress': 'cx513189a70c52d4ff32e7bc22a4b64d48102df7f8', 'indexed': ['Transfer(Address,Address,int,bytes)', 'cx3493926cd5ae38f9990af3355b4f7bf27130c14e', 'cx65ba1de8ef7515025943488640070054060dac32', '0x10f0cf064dd59200000'], 'data': ['0x4e6f6e65']} \n",
      "\n",
      "{'scoreAddress': 'cx513189a70c52d4ff32e7bc22a4b64d48102df7f8', 'indexed': ['Transfer(Address,Address,int,bytes)', 'cx3493926cd5ae38f9990af3355b4f7bf27130c14e', 'cx413906f902467b3b236837a2a916ea032a07e51a', '0x878678326eac9000000'], 'data': ['0x4e6f6e65']} \n",
      "\n",
      "{'scoreAddress': 'cx513189a70c52d4ff32e7bc22a4b64d48102df7f8', 'indexed': ['Mint(Address,int,bytes)', 'cx3493926cd5ae38f9990af3355b4f7bf27130c14e'], 'data': ['0x152d02c7e14af6800000', '0x4e6f6e65']} \n",
      "\n",
      "{'scoreAddress': 'cx513189a70c52d4ff32e7bc22a4b64d48102df7f8', 'indexed': ['Transfer(Address,Address,int,bytes)', 'hx0000000000000000000000000000000000000000', 'cx3493926cd5ae38f9990af3355b4f7bf27130c14e', '0x152d02c7e14af6800000'], 'data': ['0x4e6f6e65']} \n",
      "\n",
      "{'scoreAddress': 'cx513189a70c52d4ff32e7bc22a4b64d48102df7f8', 'indexed': ['Transfer(Address,Address,int,bytes)', 'cx3493926cd5ae38f9990af3355b4f7bf27130c14e', 'cx0768e7dae4911e4ce1462d90cfabdaa426fa5bf5', '0x43c33c1937564800000'], 'data': ['0x4e6f6e65']} \n",
      "\n",
      "{'scoreAddress': 'cx513189a70c52d4ff32e7bc22a4b64d48102df7f8', 'indexed': ['Transfer(Address,Address,int,bytes)', 'cx3493926cd5ae38f9990af3355b4f7bf27130c14e', 'cx65ba1de8ef7515025943488640070054060dac32', '0x10f0cf064dd59200000'], 'data': ['0x4e6f6e65']} \n",
      "\n",
      "{'scoreAddress': 'cx513189a70c52d4ff32e7bc22a4b64d48102df7f8', 'indexed': ['Transfer(Address,Address,int,bytes)', 'cx3493926cd5ae38f9990af3355b4f7bf27130c14e', 'cx413906f902467b3b236837a2a916ea032a07e51a', '0x878678326eac9000000'], 'data': ['0x4e6f6e65']} \n",
      "\n"
     ]
    },
    {
     "name": "stderr",
     "output_type": "stream",
     "text": [
      "Raised JSONRPCException while returning the custom response. Error message: {'code': -32602, 'message': 'Pending transaction'}\n"
     ]
    },
    {
     "name": "stdout",
     "output_type": "stream",
     "text": [
      "Retrying in 1 seconds...\n",
      "{'scoreAddress': 'cx513189a70c52d4ff32e7bc22a4b64d48102df7f8', 'indexed': ['Mint(Address,int,bytes)', 'cx3493926cd5ae38f9990af3355b4f7bf27130c14e'], 'data': ['0x152d02c7e14af6800000', '0x4e6f6e65']} \n",
      "\n",
      "{'scoreAddress': 'cx513189a70c52d4ff32e7bc22a4b64d48102df7f8', 'indexed': ['Transfer(Address,Address,int,bytes)', 'hx0000000000000000000000000000000000000000', 'cx3493926cd5ae38f9990af3355b4f7bf27130c14e', '0x152d02c7e14af6800000'], 'data': ['0x4e6f6e65']} \n",
      "\n",
      "{'scoreAddress': 'cx513189a70c52d4ff32e7bc22a4b64d48102df7f8', 'indexed': ['Transfer(Address,Address,int,bytes)', 'cx3493926cd5ae38f9990af3355b4f7bf27130c14e', 'cx0768e7dae4911e4ce1462d90cfabdaa426fa5bf5', '0x43c33c1937564800000'], 'data': ['0x4e6f6e65']} \n",
      "\n",
      "{'scoreAddress': 'cx513189a70c52d4ff32e7bc22a4b64d48102df7f8', 'indexed': ['Transfer(Address,Address,int,bytes)', 'cx3493926cd5ae38f9990af3355b4f7bf27130c14e', 'cx65ba1de8ef7515025943488640070054060dac32', '0x10f0cf064dd59200000'], 'data': ['0x4e6f6e65']} \n",
      "\n",
      "{'scoreAddress': 'cx513189a70c52d4ff32e7bc22a4b64d48102df7f8', 'indexed': ['Transfer(Address,Address,int,bytes)', 'cx3493926cd5ae38f9990af3355b4f7bf27130c14e', 'cx413906f902467b3b236837a2a916ea032a07e51a', '0x878678326eac9000000'], 'data': ['0x4e6f6e65']} \n",
      "\n",
      "{'scoreAddress': 'cx513189a70c52d4ff32e7bc22a4b64d48102df7f8', 'indexed': ['Mint(Address,int,bytes)', 'cx3493926cd5ae38f9990af3355b4f7bf27130c14e'], 'data': ['0x152d02c7e14af6800000', '0x4e6f6e65']} \n",
      "\n",
      "{'scoreAddress': 'cx513189a70c52d4ff32e7bc22a4b64d48102df7f8', 'indexed': ['Transfer(Address,Address,int,bytes)', 'hx0000000000000000000000000000000000000000', 'cx3493926cd5ae38f9990af3355b4f7bf27130c14e', '0x152d02c7e14af6800000'], 'data': ['0x4e6f6e65']} \n",
      "\n",
      "{'scoreAddress': 'cx513189a70c52d4ff32e7bc22a4b64d48102df7f8', 'indexed': ['Transfer(Address,Address,int,bytes)', 'cx3493926cd5ae38f9990af3355b4f7bf27130c14e', 'cx0768e7dae4911e4ce1462d90cfabdaa426fa5bf5', '0x43c33c1937564800000'], 'data': ['0x4e6f6e65']} \n",
      "\n",
      "{'scoreAddress': 'cx513189a70c52d4ff32e7bc22a4b64d48102df7f8', 'indexed': ['Transfer(Address,Address,int,bytes)', 'cx3493926cd5ae38f9990af3355b4f7bf27130c14e', 'cx65ba1de8ef7515025943488640070054060dac32', '0x10f0cf064dd59200000'], 'data': ['0x4e6f6e65']} \n",
      "\n",
      "{'scoreAddress': 'cx513189a70c52d4ff32e7bc22a4b64d48102df7f8', 'indexed': ['Transfer(Address,Address,int,bytes)', 'cx3493926cd5ae38f9990af3355b4f7bf27130c14e', 'cx413906f902467b3b236837a2a916ea032a07e51a', '0x878678326eac9000000'], 'data': ['0x4e6f6e65']} \n",
      "\n"
     ]
    },
    {
     "name": "stderr",
     "output_type": "stream",
     "text": [
      "Raised JSONRPCException while returning the custom response. Error message: {'code': -32602, 'message': 'Pending transaction'}\n"
     ]
    },
    {
     "name": "stdout",
     "output_type": "stream",
     "text": [
      "Retrying in 1 seconds...\n",
      "{'scoreAddress': 'cx513189a70c52d4ff32e7bc22a4b64d48102df7f8', 'indexed': ['Mint(Address,int,bytes)', 'cx3493926cd5ae38f9990af3355b4f7bf27130c14e'], 'data': ['0x152d02c7e14af6800000', '0x4e6f6e65']} \n",
      "\n",
      "{'scoreAddress': 'cx513189a70c52d4ff32e7bc22a4b64d48102df7f8', 'indexed': ['Transfer(Address,Address,int,bytes)', 'hx0000000000000000000000000000000000000000', 'cx3493926cd5ae38f9990af3355b4f7bf27130c14e', '0x152d02c7e14af6800000'], 'data': ['0x4e6f6e65']} \n",
      "\n",
      "{'scoreAddress': 'cx513189a70c52d4ff32e7bc22a4b64d48102df7f8', 'indexed': ['Transfer(Address,Address,int,bytes)', 'cx3493926cd5ae38f9990af3355b4f7bf27130c14e', 'cx0768e7dae4911e4ce1462d90cfabdaa426fa5bf5', '0x43c33c1937564800000'], 'data': ['0x4e6f6e65']} \n",
      "\n",
      "{'scoreAddress': 'cx513189a70c52d4ff32e7bc22a4b64d48102df7f8', 'indexed': ['Transfer(Address,Address,int,bytes)', 'cx3493926cd5ae38f9990af3355b4f7bf27130c14e', 'cx65ba1de8ef7515025943488640070054060dac32', '0x10f0cf064dd59200000'], 'data': ['0x4e6f6e65']} \n",
      "\n",
      "{'scoreAddress': 'cx513189a70c52d4ff32e7bc22a4b64d48102df7f8', 'indexed': ['Transfer(Address,Address,int,bytes)', 'cx3493926cd5ae38f9990af3355b4f7bf27130c14e', 'cx413906f902467b3b236837a2a916ea032a07e51a', '0x878678326eac9000000'], 'data': ['0x4e6f6e65']} \n",
      "\n",
      "['hx3f01840a599da07b0f620eeae7aa9c574169a4be', 0, 0.0]\n",
      "Total unclaimed: 0.0\n",
      "{'rewards': 1445000.0, 'reserve': 210000.0, 'bwt': 840000.0, 'dex': 0.0, 'daofund': 1680000.0}\n",
      "Total BALN: 4175000.0\n",
      "{'platform_day': '0x2b', 'source_days': {'Loans': '0x3', 'sICX/ICX': '0x3'}}\n",
      "42\n",
      "Test case passed\n"
     ]
    }
   ],
   "source": [
    "# time.sleep(30)\n",
    "for i in range(20):\n",
    "    fast_send_tx('rewards', 0, 'distribute', {}, btest_wallet)\n",
    "\n",
    "borrowerCount = int(call_tx('loans', 'borrowerCount', {}, False), 0)\n",
    "addresses = []\n",
    "daily_value = {}\n",
    "for i in range(1, borrowerCount + 1):\n",
    "    position = call_tx('loans', 'getPositionByIndex', {'_index': i, '_day': -1}, False)\n",
    "    addresses.append(position['address'])\n",
    "\n",
    "holders = call_tx('rewards', 'getBalnHoldings', {'_holders': addresses}, False)\n",
    "\n",
    "total_balances = 0\n",
    "baln_balances = {}\n",
    "for contract in ['rewards', 'reserve', 'bwt', 'dex', 'daofund']:\n",
    "    result = int(call_tx('baln', 'balanceOf', {'_owner': contracts[contract]['SCORE']}, False), 0)\n",
    "    baln_balances[contract] = result / 10**18\n",
    "    total_balances += result\n",
    "\n",
    "i = 0\n",
    "holdings = {i: [key, int(holders[key], 0), int(holders[key], 0) / 10**18] for i, key in enumerate(holders.keys())}\n",
    "total = 0\n",
    "for key in holdings:\n",
    "    total += holdings[key][1]\n",
    "    print(f'{holdings[key]}')\n",
    "\n",
    "print(f'Total unclaimed: {total / 10**18}')\n",
    "print(baln_balances)\n",
    "print(f'Total BALN: {total_balances / 10**18}')\n",
    "\n",
    "res = call_tx('rewards', 'distStatus', {}, False)\n",
    "print(res)\n",
    "day = int(res['platform_day'], 0)-1\n",
    "print(day)\n",
    "\n",
    "#     total_amount = 25000/borrowerCount\n",
    "#     for key in holdings: \n",
    "#         assert holdings[key][2] == total_amount , \"Loans borrowers token distribution error\"\n",
    "# assert baln_balances['rewards'] == 35000*day, \"Loans borrowers token distribution error\"\n",
    "assert baln_balances['reserve'] == 5000* day, \"Reserve not receiving proper rewards\"\n",
    "assert baln_balances['bwt'] == 20000*day, \"Worker token distribution error\"\n",
    "assert baln_balances['daofund'] == 40000*day, \"DAO Fund token distribution error\"\n",
    "\n",
    "print(\"Test case passed\")"
   ]
  },
  {
   "cell_type": "code",
   "execution_count": 48,
   "metadata": {},
   "outputs": [
    {
     "name": "stdout",
     "output_type": "stream",
     "text": [
      "{'platform_day': '0x43', 'source_days': {'Loans': '0x6', 'sICX/ICX': '0x6'}}\n",
      "67\n"
     ]
    }
   ],
   "source": [
    "res = call_tx('rewards', 'distStatus', {}, False)\n",
    "print(res)\n",
    "print(int(res['platform_day'], 0))"
   ]
  },
  {
   "cell_type": "code",
   "execution_count": 57,
   "metadata": {},
   "outputs": [
    {
     "name": "stdout",
     "output_type": "stream",
     "text": [
      "------------------------------------------------------------------------------------------------------------------\n",
      "Calling claimRewards, with parameters {} on the rewards contract.\n",
      "------------------------------------------------------------------------------------------------------------------\n"
     ]
    },
    {
     "name": "stderr",
     "output_type": "stream",
     "text": [
      "Raised JSONRPCException while returning the custom response. Error message: {'code': -32602, 'message': 'Pending transaction'}\n"
     ]
    },
    {
     "name": "stdout",
     "output_type": "stream",
     "text": [
      "Retrying in 1 seconds...\n",
      "************************************************** Status: 1 **************************************************\n",
      "{'scoreAddress': 'cx513189a70c52d4ff32e7bc22a4b64d48102df7f8', 'indexed': ['Transfer(Address,Address,int,bytes)', 'cx3493926cd5ae38f9990af3355b4f7bf27130c14e', 'hx3f01840a599da07b0f620eeae7aa9c574169a4be', '0x54b40b1f852bda00000'], 'data': ['0x4e6f6e65']} \n",
      "\n",
      "{'scoreAddress': 'cx3493926cd5ae38f9990af3355b4f7bf27130c14e', 'indexed': ['RewardsClaimed(Address,int)', 'hx3f01840a599da07b0f620eeae7aa9c574169a4be'], 'data': ['0x54b40b1f852bda00000']} \n",
      "\n",
      "Test case passed while claiming rewards\n",
      "------------------------------------------------------------------------------------------------------------------\n",
      "Calling claimRewards, with parameters {} on the rewards contract.\n",
      "------------------------------------------------------------------------------------------------------------------\n",
      "************************************************** Status: 1 **************************************************\n",
      "Test case passed while claiming rewards\n"
     ]
    }
   ],
   "source": [
    "test_cases = {\n",
    "    \"stories\":[\n",
    "        {\n",
    "            \"claiming_wallet\":btest_wallet,\n",
    "            \"claiming_wallet_address\":btest_wallet.get_address(),\n",
    "\n",
    "        },\n",
    "        {\n",
    "            \"claiming_wallet\":user1,\n",
    "            \"claiming_wallet_address\":user1.get_address()\n",
    "\n",
    "        },\n",
    "    ]\n",
    "}\n",
    "for case in test_cases['stories']:\n",
    "    send_tx('rewards', 0, 'claimRewards', {}, case['claiming_wallet'])\n",
    "    res = call_tx('rewards', 'getBalnHolding', {'_holder': case['claiming_wallet_address']}, False)\n",
    "    assert int(res, 0) == 0 , 'Rewards claiming issue'\n",
    "    print('Test case passed while claiming rewards')"
   ]
  },
  {
   "cell_type": "code",
   "execution_count": 38,
   "metadata": {},
   "outputs": [
    {
     "data": {
      "text/plain": [
       "'0x0'"
      ]
     },
     "execution_count": 38,
     "metadata": {},
     "output_type": "execute_result"
    }
   ],
   "source": []
  },
  {
   "cell_type": "code",
   "execution_count": null,
   "metadata": {},
   "outputs": [],
   "source": []
  },
  {
   "cell_type": "code",
   "execution_count": 38,
   "metadata": {},
   "outputs": [
    {
     "name": "stdout",
     "output_type": "stream",
     "text": [
      "success\n"
     ]
    }
   ],
   "source": [
    "res = call_tx('rewards', 'getDataSourceNames', {}, False)\n",
    "assert res == ['Loans', 'sICX/ICX'], \"Data source name error\"\n",
    "print('Test case passed')"
   ]
  },
  {
   "cell_type": "code",
   "execution_count": 40,
   "metadata": {},
   "outputs": [
    {
     "name": "stdout",
     "output_type": "stream",
     "text": [
      "Test case passed\n"
     ]
    }
   ],
   "source": [
    "res = call_tx('rewards', 'getRecipients', {}, False)\n",
    "assert res == ['Worker Tokens', 'Reserve Fund', 'DAOfund', 'Loans', 'sICX/ICX'], \"Recipients name error\"\n",
    "print('Test case passed')"
   ]
  },
  {
   "cell_type": "code",
   "execution_count": 42,
   "metadata": {},
   "outputs": [
    {
     "name": "stdout",
     "output_type": "stream",
     "text": [
      "Test case passed\n"
     ]
    }
   ],
   "source": [
    "res = call_tx('rewards', 'getRecipientsSplit', {}, False)\n",
    "assert res == {'Worker Tokens': '0x2c68af0bb140000',\n",
    " 'Reserve Fund': '0xb1a2bc2ec50000',\n",
    " 'DAOfund': '0x58d15e176280000',\n",
    " 'Loans': '0x3782dace9d90000',\n",
    " 'sICX/ICX': '0x16345785d8a0000'}, \"Recipients name error\"\n",
    "\n",
    "print('Test case passed')"
   ]
  },
  {
   "cell_type": "code",
   "execution_count": 62,
   "metadata": {},
   "outputs": [
    {
     "name": "stdout",
     "output_type": "stream",
     "text": [
      "{'Loans': {'day': '0x1', 'contract_address': 'cxf75f136060fdbd12324588c9d2abd40bbdc0b429', 'dist_percent': '0x3782dace9d90000', 'precomp': '0x0', 'offset': '0x0', 'total_value': '0x0', 'total_dist': '0x0'}, 'sICX/ICX': {'day': '0x1', 'contract_address': 'cxf2de447e0756ac652785f5f9a2a92eac59d7dd6b', 'dist_percent': '0x16345785d8a0000', 'precomp': '0x0', 'offset': '0x0', 'total_value': '0x0', 'total_dist': '0x0'}}\n",
      "ps\n"
     ]
    }
   ],
   "source": [
    "res = call_tx('rewards', 'getDataSources', {}, False)\n",
    "assert int(res['Loans']['dist_percent'],0) == 250000000000000000, 'Loans distribution precent error'\n",
    "assert int(res['sICX/ICX']['dist_percent'],0) == 100000000000000000, 'sICX/ICX distribution precent error'\n",
    "\n",
    "print('Test case passesd')"
   ]
  },
  {
   "cell_type": "code",
   "execution_count": 89,
   "metadata": {},
   "outputs": [
    {
     "name": "stdout",
     "output_type": "stream",
     "text": [
      "Loans is a data source \n",
      "Test case passed\n",
      "sICX/ICX is a data source \n",
      "Test case passed\n",
      "user1 is not a data source \n",
      "Test case passed\n"
     ]
    }
   ],
   "source": [
    "test_case = {\n",
    "    \"stories\":[\n",
    "        {\n",
    "            \"description\": \"Loans is a data source \",\n",
    "            'name' : 'Loans',\n",
    "            'contract': contracts['loans']['SCORE']\n",
    "\n",
    "        },\n",
    "        {\n",
    "            \"description\": \"sICX/ICX is a data source \",\n",
    "            'name' : 'sICX/ICX',\n",
    "            'contract': contracts['dex']['SCORE']\n",
    "        },\n",
    "        {\n",
    "            \"description\": \"user1 is not a data source \",\n",
    "            'name' : 'user1',\n",
    "            'contract' : None\n",
    "        }\n",
    "]\n",
    "}\n",
    "for case in test_case['stories']:\n",
    "    print(case['description'])\n",
    "    _name = case['name']\n",
    "    res = call_tx('rewards', 'getSourceData', {'_name': _name}, False)\n",
    "    assert res['contract_address'] == case['contract'], 'Test case failed for '+_name\n",
    "    print('Test case passed')\n"
   ]
  },
  {
   "cell_type": "code",
   "execution_count": null,
   "metadata": {},
   "outputs": [],
   "source": []
  },
  {
   "cell_type": "code",
   "execution_count": null,
   "metadata": {},
   "outputs": [],
   "source": []
  },
  {
   "cell_type": "code",
   "execution_count": null,
   "metadata": {},
   "outputs": [],
   "source": []
  },
  {
   "cell_type": "code",
   "execution_count": null,
   "metadata": {},
   "outputs": [],
   "source": []
  }
 ],
 "metadata": {
  "kernelspec": {
   "display_name": "Python 3",
   "language": "python",
   "name": "python3"
  },
  "language_info": {
   "codemirror_mode": {
    "name": "ipython",
    "version": 3
   },
   "file_extension": ".py",
   "mimetype": "text/x-python",
   "name": "python",
   "nbconvert_exporter": "python",
   "pygments_lexer": "ipython3",
   "version": "3.7.6"
  }
 },
 "nbformat": 4,
 "nbformat_minor": 4
}
