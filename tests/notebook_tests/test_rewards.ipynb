{
 "cells": [
  {
   "cell_type": "code",
   "execution_count": 77,
   "metadata": {},
   "outputs": [],
   "source": [
    "# Cell 0\n",
    "# If at all possible please test locally or on the private tbears server. The Testnet\n",
    "# is becoming cluttered with many deployments of Balanced contracts.\n",
    "# Note that running on the private tbears server will require the number of top P-Reps \n",
    "# be set to 4 in the staking contract or it will fail to deploy.\n",
    "\n",
    "network = \"custom\"  # set this to one of mainnet, yeouido, euljiro, pagoda, or custom\n",
    "\n",
    "connections = {\n",
    "\"mainnet\": {\"iconservice\": \"https://ctz.solidwallet.io\",       \"nid\": 1},\n",
    "\"yeouido\": {\"iconservice\": \"https://bicon.net.solidwallet.io\", \"nid\": 3},\n",
    "\"gangnam\": {\"iconservice\": \"https://gicon.net.solidwallet.io\", \"nid\": 3},\n",
    "\"hannam\": {\"iconservice\": \"https://hannam.net.solidwallet.io\", \"nid\": 3},\n",
    "\"euljiro\": {\"iconservice\": \"https://test-ctz.solidwallet.io\",  \"nid\": 2},\n",
    "\"pagoda\":  {\"iconservice\": \"https://zicon.net.solidwallet.io\", \"nid\":80},\n",
    "\"custom\":  {\"iconservice\": \"http://18.144.108.38:9000\",        \"nid\": 3}}\n",
    "\n",
    "env = connections[network]"
   ]
  },
  {
   "cell_type": "code",
   "execution_count": 78,
   "metadata": {},
   "outputs": [],
   "source": [
    "# Cell 1\n",
    "\n",
    "from iconsdk.exception import JSONRPCException\n",
    "from iconsdk.libs.in_memory_zip import gen_deploy_data_content\n",
    "from iconsdk.icon_service import IconService\n",
    "from iconsdk.providers.http_provider import HTTPProvider\n",
    "from iconsdk.builder.transaction_builder import CallTransactionBuilder, TransactionBuilder, DeployTransactionBuilder\n",
    "from iconsdk.builder.call_builder import CallBuilder\n",
    "from iconsdk.signed_transaction import SignedTransaction\n",
    "from iconsdk.wallet.wallet import KeyWallet\n",
    "from iconsdk.utils.convert_type import convert_hex_str_to_int\n",
    "from repeater import retry\n",
    "from shutil import make_archive\n",
    "import pickle as pkl\n",
    "from datetime import datetime\n",
    "from time import sleep\n",
    "import json\n",
    "import os\n",
    "\n",
    "ICX = 1000000000000000000 # 10**18\n",
    "GOVERNANCE_ADDRESS = \"cx0000000000000000000000000000000000000000\"\n",
    "TEST_ORACLE = \"cx61a36e5d10412e03c907a507d1e8c6c3856d9964\"\n",
    "MAIN_ORACLE = \"cxe647e0af68a4661566f5e9861ad4ac854de808a2\"\n",
    "BALANCED_TEST = \"hx3f01840a599da07b0f620eeae7aa9c574169a4be\"\n",
    "\n",
    "@retry(JSONRPCException, tries=10, delay=1, back_off=2)\n",
    "def get_tx_result(_tx_hash):\n",
    "    tx_result = icon_service.get_transaction_result(_tx_hash)\n",
    "    return tx_result"
   ]
  },
  {
   "cell_type": "code",
   "execution_count": 79,
   "metadata": {},
   "outputs": [],
   "source": [
    "# Cell 2\n",
    "\n",
    "icon_service = IconService(HTTPProvider(env[\"iconservice\"], 3))\n",
    "NID = env[\"nid\"]"
   ]
  },
  {
   "cell_type": "code",
   "execution_count": 80,
   "metadata": {},
   "outputs": [],
   "source": [
    "# Cell 3\n",
    "\n",
    "wallet = KeyWallet.load(\"../../keystores/keystore_test1.json\", \"test1_Account\")\n",
    "# Balanced test wallet\n",
    "with open(\"../../keystores/balanced_test.pwd\", \"r\") as f:\n",
    "    key_data = f.read()\n",
    "btest_wallet = KeyWallet.load(\"../../keystores/balanced_test.json\", key_data)\n",
    "with open(\"../../keystores/staking_test.pwd\", \"r\") as f:\n",
    "    key_data = f.read()\n",
    "staking_wallet = KeyWallet.load(\"../../keystores/staking_test.json\", key_data)\n"
   ]
  },
  {
   "cell_type": "code",
   "execution_count": 81,
   "metadata": {},
   "outputs": [
    {
     "name": "stdout",
     "output_type": "stream",
     "text": [
      "hxe7af5fcfd8dfc67530a01a0e403882687528dfcb\n",
      "779046486.5654812\n"
     ]
    }
   ],
   "source": [
    "print(wallet.get_address())\n",
    "print(icon_service.get_balance(wallet.get_address()) / 10**18)"
   ]
  },
  {
   "cell_type": "code",
   "execution_count": 82,
   "metadata": {},
   "outputs": [
    {
     "name": "stdout",
     "output_type": "stream",
     "text": [
      "hx3f01840a599da07b0f620eeae7aa9c574169a4be\n",
      "1944235.4601872\n"
     ]
    }
   ],
   "source": [
    "print(btest_wallet.get_address())\n",
    "print(icon_service.get_balance(btest_wallet.get_address()) / 10**18)"
   ]
  },
  {
   "cell_type": "code",
   "execution_count": 83,
   "metadata": {},
   "outputs": [
    {
     "name": "stdout",
     "output_type": "stream",
     "text": [
      "181999.8088096\n",
      "hxe62d11fa19a0e8575ad92f06bc8fd42edbfe27db\n",
      "206479.709028\n",
      "hx7a1824129a8fe803e45a3aae1c0e060399546187\n"
     ]
    }
   ],
   "source": [
    "user1 = KeyWallet.load(\"../../keystores/user1.json\",\"HelloWorld@1234\")\n",
    "# btest_wallet = KeyWallet.load(\"./balanced_test.json\",\"HelloWorld@1234\")\n",
    "\n",
    "print(icon_service.get_balance(user1.get_address())/10**18)\n",
    "print(user1.get_address())\n",
    "\n",
    "# test2 = hx7a1824129a8fe803e45a3aae1c0e060399546187\n",
    "private = \"0a354424b20a7e3c55c43808d607bddfac85d033e63d7d093cb9f0a26c4ee022\"\n",
    "user2 = KeyWallet.load(bytes.fromhex(private))\n",
    "print(icon_service.get_balance(user2.get_address())/10**18)\n",
    "print(user2.get_address())"
   ]
  },
  {
   "cell_type": "code",
   "execution_count": null,
   "metadata": {},
   "outputs": [],
   "source": []
  },
  {
   "cell_type": "code",
   "execution_count": 117,
   "metadata": {},
   "outputs": [],
   "source": [
    "dict_list = []\n",
    "for i in range(0, 5):\n",
    "    data = {}\n",
    "    wallet2 = KeyWallet.create()\n",
    "    address = wallet2.get_address()\n",
    "    private_key = wallet2.get_private_key()\n",
    "    data[address] = private_key\n",
    "    dict_list.append(data)\n",
    "with open('wallet2.json', 'a') as f:\n",
    "    json.dump(dict_list, f, ensure_ascii=False, indent=4)"
   ]
  },
  {
   "cell_type": "code",
   "execution_count": 145,
   "metadata": {},
   "outputs": [],
   "source": [
    "with open('wallet2.json') as f:\n",
    "    data = json.load(f)"
   ]
  },
  {
   "cell_type": "code",
   "execution_count": 119,
   "metadata": {},
   "outputs": [
    {
     "name": "stdout",
     "output_type": "stream",
     "text": [
      "hxc92735c9a954399c2fb722ae28bf22a10e27491e\n"
     ]
    },
    {
     "name": "stderr",
     "output_type": "stream",
     "text": [
      "Raised JSONRPCException while returning the custom response. Error message: {'code': -32602, 'message': 'Pending transaction'}\n"
     ]
    },
    {
     "name": "stdout",
     "output_type": "stream",
     "text": [
      "Retrying in 1 seconds...\n",
      "hxa9e67162f41c05c651d50d1197fc8596864af801\n"
     ]
    },
    {
     "name": "stderr",
     "output_type": "stream",
     "text": [
      "Raised JSONRPCException while returning the custom response. Error message: {'code': -32602, 'message': 'Pending transaction'}\n"
     ]
    },
    {
     "name": "stdout",
     "output_type": "stream",
     "text": [
      "Retrying in 1 seconds...\n",
      "hx7b4dd3efcc72c5e2b210852742593178c210742c\n"
     ]
    },
    {
     "name": "stderr",
     "output_type": "stream",
     "text": [
      "Raised JSONRPCException while returning the custom response. Error message: {'code': -32602, 'message': 'Pending transaction'}\n"
     ]
    },
    {
     "name": "stdout",
     "output_type": "stream",
     "text": [
      "Retrying in 1 seconds...\n",
      "hx22722df8f35ddbe40954cb4496619ae932a4ac3b\n"
     ]
    },
    {
     "name": "stderr",
     "output_type": "stream",
     "text": [
      "Raised JSONRPCException while returning the custom response. Error message: {'code': -32602, 'message': 'Pending transaction'}\n"
     ]
    },
    {
     "name": "stdout",
     "output_type": "stream",
     "text": [
      "Retrying in 1 seconds...\n",
      "hxe6645482385915b2329f444f59abf49fe5024bd7\n"
     ]
    }
   ],
   "source": [
    "for dict in data:\n",
    "    for items in dict.items():\n",
    "        print(items[0])\n",
    "        set_div_per = TransactionBuilder() \\\n",
    "            .from_(wallet.get_address()) \\\n",
    "            .to(items[0]) \\\n",
    "            .nid(NID) \\\n",
    "            .nonce(100) \\\n",
    "            .value(5000 * 10 ** 18) \\\n",
    "            .build()\n",
    "        estimate_step = icon_service.estimate_step(set_div_per)\n",
    "        step_limit = estimate_step + 10000000\n",
    "        signed_transaction = SignedTransaction(set_div_per, wallet, step_limit)\n",
    "\n",
    "        tx_hash = icon_service.send_transaction(signed_transaction)\n",
    "        ab = get_tx_result(tx_hash)"
   ]
  },
  {
   "cell_type": "code",
   "execution_count": 9,
   "metadata": {},
   "outputs": [],
   "source": [
    "contracts = {'loans': {'zip': '../../core_contracts/loans.zip', 'SCORE': 'cxe38b01784e58f72d75aa8450bdee22d62fbdb054'}, 'staking': {'zip': '../../core_contracts/staking.zip', 'SCORE': 'cxd37f220d61294c14e7d38d5e8f723c6c5a81d994'}, 'dividends': {'zip': '../../core_contracts/dividends.zip', 'SCORE': 'cx3144c3c8ea295653a8f92e83b9d6b0f2c3457e2c'}, 'reserve': {'zip': '../../core_contracts/reserve.zip', 'SCORE': 'cxf8058e6dca2dae0a7a2aa470cde7d5e91bb0c562'}, 'daofund': {'zip': '../../core_contracts/daofund.zip', 'SCORE': 'cx50f12e56855d5ad266304fec71603a0eda638735'}, 'rewards': {'zip': '../../core_contracts/rewards.zip', 'SCORE': 'cx2ef5f06ac02d861e735222cc0718c83d2419405f'}, 'dex': {'zip': '../../core_contracts/dex.zip', 'SCORE': 'cxd867d7843d6a489b23392719435c70ec3442161a'}, 'governance': {'zip': '../../core_contracts/governance.zip', 'SCORE': 'cx53a614e3d3ce7d8ee01920cba52d9c8f53fd0f6d'}, 'oracle': {'zip': '../../core_contracts/oracle.zip', 'SCORE': 'cxed97bdb35a7ca1b3993e400e4dba9e11610338f7'}, 'sicx': {'zip': '../../token_contracts/sicx.zip', 'SCORE': 'cx313a7b07cd2cb470f6baaf4aaccecf925456a3ca'}, 'bnUSD': {'zip': '../../token_contracts/bnUSD.zip', 'SCORE': 'cxb0e4035799bc4e61230713a6fedde99924524736'}, 'bnXLM': {'zip': '../../token_contracts/bnXLM.zip', 'SCORE': 'cx9e4e0161c712e36c86d7a85f8c39ce45a5616944'}, 'bnDOGE': {'zip': '../../token_contracts/bnDOGE.zip', 'SCORE': 'cxed2a1ca56302958c5aa084191a367d374337e32c'}, 'baln': {'zip': '../../token_contracts/baln.zip', 'SCORE': 'cx6c096b9e451d1f7e5f6e4016a992d2a892a9053a'}, 'bwt': {'zip': '../../token_contracts/bwt.zip', 'SCORE': 'cx43e5e722f6607396696f3a57e9bd98ea4f21b5ac'}}"
   ]
  },
  {
   "cell_type": "code",
   "execution_count": 120,
   "metadata": {},
   "outputs": [],
   "source": [
    "# Cell 5a\n",
    "# The following addresses are those deployed to the private tbears server.\n",
    "\n",
    "contracts = {'loans': {'zip': 'core_contracts/loans.zip',\n",
    "  'SCORE': 'cxa0f715fb2c4bc8f4c6399c2cc26167a27be0aa61'},\n",
    " 'staking': {'zip': 'core_contracts/staking.zip',\n",
    "  'SCORE': 'cxbabed822d59b605dbeb6322735c529b292baac3b'},\n",
    " 'dividends': {'zip': 'core_contracts/dividends.zip',\n",
    "  'SCORE': 'cx1379084f45776301abda3849c6e374f460ee0155'},\n",
    " 'reserve': {'zip': 'core_contracts/reserve.zip',\n",
    "  'SCORE': 'cx71dda2221bf88faddc8f84b72ffd6db296e5609e'},\n",
    " 'daofund': {'zip': 'core_contracts/daofund.zip',\n",
    "  'SCORE': 'cxfd09787f23d23b945fa0c7eb55b5aa69425da1c8'},\n",
    " 'rewards': {'zip': 'core_contracts/rewards.zip',\n",
    "  'SCORE': 'cx27aa3bf62145822e60d85fa5d18dabdcff5b9ada'},\n",
    " 'dex': {'zip': 'core_contracts/dex.zip',\n",
    "  'SCORE': 'cx01eee12b6614e5328e0a84261652cb7f055e0176'},\n",
    " 'governance': {'zip': 'core_contracts/governance.zip',\n",
    "  'SCORE': 'cxd7b3e71dcff3d75392216e208f28ef68e8a54ec0'},\n",
    " 'oracle': {'zip': 'core_contracts/oracle.zip',\n",
    "  'SCORE': 'cxed97bdb35a7ca1b3993e400e4dba9e11610338f7'},\n",
    " 'sicx': {'zip': 'token_contracts/sicx.zip',\n",
    "  'SCORE': 'cx799f724e02560a762b5f2bd3b6d2d8d59d7aecc1'},\n",
    " 'bnUSD': {'zip': 'token_contracts/bnUSD.zip',\n",
    "  'SCORE': 'cx266bdc0c35828c8130cdf1cbaa3ad109f7694722'},\n",
    " 'bnXLM': {'zip': 'token_contracts/bnXLM.zip',\n",
    "  'SCORE': 'cx266bdc0c35828c8130cdf1cbaa3ad109f7694722'},\n",
    " 'bnDOGE': {'zip': 'token_contracts/bnDOGE.zip',\n",
    "  'SCORE': 'cx266bdc0c35828c8130cdf1cbaa3ad109f7694722'},\n",
    " 'baln': {'zip': 'token_contracts/baln.zip',\n",
    "  'SCORE': 'cx4d0768508a7ff550de4405f27aebfb8831565c19'},\n",
    " 'bwt': {'zip': 'token_contracts/bwt.zip',\n",
    "  'SCORE': 'cx663f9d59163846d9f6c6f7b586858c59aa8878a9'}}"
   ]
  },
  {
   "cell_type": "code",
   "execution_count": 121,
   "metadata": {},
   "outputs": [],
   "source": [
    "# Cell 6\n",
    "# Define deploy and send_tx functions\n",
    "\n",
    "def send_icx(to, amount, wallet):\n",
    "    transaction = TransactionBuilder()\\\n",
    "        .from_(wallet.get_address())\\\n",
    "        .to(to)\\\n",
    "        .value(amount)\\\n",
    "        .step_limit(1000000) \\\n",
    "        .nid(NID) \\\n",
    "        .nonce(2) \\\n",
    "        .version(3) \\\n",
    "        .build()\n",
    "    signed_transaction = SignedTransaction(transaction, wallet)\n",
    "    return icon_service.send_transaction(signed_transaction)\n",
    "\n",
    "\n",
    "def compress():\n",
    "    \"\"\"\n",
    "    Compress all SCORE folders in the core_contracts and token_contracts folders.\n",
    "    Make sure the oracle address is correct.\n",
    "    \"\"\"\n",
    "    deploy = list(contracts.keys())[:]\n",
    "    for directory in {\"../../core_contracts\", \"../../token_contracts\"}:\n",
    "        with os.scandir(directory) as it:\n",
    "            for file in it:\n",
    "                archive_name = directory + \"/\" + file.name\n",
    "                if file.is_dir() and file.name in deploy:\n",
    "                    make_archive(archive_name, \"zip\", directory, file.name)\n",
    "                    contracts[file.name]['zip'] = archive_name + '.zip'\n",
    "    if network == \"yeouido\":\n",
    "        contracts['oracle']['SCORE'] = TEST_ORACLE\n",
    "    elif network == \"mainnet\":\n",
    "        contracts['oracle']['SCORE'] = MAIN_ORACLE\n",
    "                    \n",
    "\n",
    "def deploy_SCORE(contract, params, wallet, update) -> str:\n",
    "    \"\"\"\n",
    "    contract is of form {'zip': 'core_contracts/governance.zip', 'SCORE': 'cx1d81f93b3b8d8d2a6455681c46128868782ddd09'}\n",
    "    params is a dicts\n",
    "    wallet is a wallet file\n",
    "    update is boolian\n",
    "    \"\"\"\n",
    "    print(f'{contract[\"zip\"]}')\n",
    "    if update:\n",
    "        dest = contract['SCORE']\n",
    "    else:\n",
    "        dest = GOVERNANCE_ADDRESS\n",
    "    zip_file = contract['zip']\n",
    "    step_limit = 3000000000\n",
    "    deploy_transaction = DeployTransactionBuilder()\\\n",
    "        .from_(wallet.get_address())\\\n",
    "        .to(dest)\\\n",
    "        .nid(NID)\\\n",
    "        .nonce(100)\\\n",
    "        .content_type(\"application/zip\")\\\n",
    "        .content(gen_deploy_data_content(zip_file))\\\n",
    "        .params(params)\\\n",
    "        .build()\n",
    "\n",
    "    signed_transaction = SignedTransaction(deploy_transaction, wallet, step_limit)\n",
    "    tx_hash = icon_service.send_transaction(signed_transaction)\n",
    "\n",
    "    res = get_tx_result(tx_hash)\n",
    "    print(f'Status: {res[\"status\"]}')\n",
    "    if len(res[\"eventLogs\"]) > 0:\n",
    "        for item in res[\"eventLogs\"]:\n",
    "            print(f'{item} \\n')\n",
    "    if res['status'] == 0:\n",
    "        print(f'Failure: {res[\"failure\"]}')\n",
    "    print('')\n",
    "    return res\n",
    "\n",
    "def send_tx(dest, value, method, params, wallet, _print = True):\n",
    "    \"\"\"\n",
    "    dest is the name of the destination contract.\n",
    "    \"\"\"\n",
    "    if _print:\n",
    "        print('------------------------------------------------------------------------------------------------------------------')\n",
    "        print(f'Calling {method}, with parameters {params} on the {dest} contract.')\n",
    "        print('------------------------------------------------------------------------------------------------------------------')\n",
    "    transaction = CallTransactionBuilder()\\\n",
    "        .from_(wallet.get_address())\\\n",
    "        .to(contracts[dest]['SCORE'])\\\n",
    "        .value(value)\\\n",
    "        .step_limit(10000000)\\\n",
    "        .nid(NID)\\\n",
    "        .nonce(100)\\\n",
    "        .method(method)\\\n",
    "        .params(params)\\\n",
    "        .build()\n",
    "    signed_transaction = SignedTransaction(transaction, wallet)\n",
    "    tx_hash = icon_service.send_transaction(signed_transaction)\n",
    "\n",
    "    res = get_tx_result(tx_hash)\n",
    "    if _print:\n",
    "        print(f'************************************************** Status: {res[\"status\"]} **************************************************')\n",
    "    if len(res[\"eventLogs\"]) > 0:\n",
    "        for item in res[\"eventLogs\"]:\n",
    "            print(f'{item} \\n')\n",
    "    if res['status'] == 0:\n",
    "        if _print:\n",
    "            print(f'Failure: {res[\"failure\"]}')\n",
    "    return res\n",
    "\n",
    "def deploy_all(wallet, staking_wallet):\n",
    "    \"\"\"\n",
    "    Compress and Deploy all SCOREs.\n",
    "    \"\"\"\n",
    "    compress()\n",
    "\n",
    "    deploy = list(contracts.keys())[:]\n",
    "    deploy.remove('oracle')\n",
    "    deploy.remove('staking')\n",
    "    deploy.remove('sicx')\n",
    "    deploy.remove('governance')\n",
    "    if network == \"mainnet\":\n",
    "        if 'bnXLM' in deploy:\n",
    "            deploy.remove('bnXLM')\n",
    "        if 'bnDOGE' in deploy:\n",
    "            deploy.remove('bnDOGE')\n",
    "\n",
    "    results = {}\n",
    "    res = deploy_SCORE(contracts['governance'], {}, wallet, 0)\n",
    "    results[f'{contracts[\"governance\"]}|deploy|{{}}'] = res\n",
    "    governance = res.get('scoreAddress', '')\n",
    "    contracts['governance']['SCORE'] = governance\n",
    "    params = {'_governance': governance}\n",
    "    for score in deploy:\n",
    "        res = deploy_SCORE(contracts[score], params, wallet, 0)\n",
    "        results[f'{contracts[score]}|deploy|{params}'] = res\n",
    "        contracts[score]['SCORE'] = res.get('scoreAddress', '')\n",
    "\n",
    "    res = deploy_SCORE(contracts['staking'], {}, staking_wallet, 0)\n",
    "    results[f'{contracts[\"staking\"]}|deploy|{{}}'] = res\n",
    "    contracts['staking']['SCORE'] = res.get('scoreAddress', '')\n",
    "\n",
    "    params = {'_admin': contracts['staking']['SCORE']}\n",
    "    res = deploy_SCORE(contracts['sicx'], params, staking_wallet, 0)\n",
    "    results[f'{contracts[\"sicx\"]}|deploy|{params}'] = res\n",
    "    contracts['sicx']['SCORE'] = res.get('scoreAddress', '')\n",
    "    \n",
    "    return results\n",
    "\n",
    "    \n",
    "def config_balanced(wallet, staking_wallet):\n",
    "    \"\"\"\n",
    "    Configure all SCOREs before launch.\n",
    "    \"\"\"\n",
    "    config = list(contracts.keys())[:]\n",
    "    config.remove('governance')\n",
    "    config.remove('bnDOGE')\n",
    "    config.remove('bnXLM')\n",
    "    addresses = {contract: contracts[contract]['SCORE'] for contract in config}\n",
    "    txns = [{'contract': 'governance', 'value': 0, 'method': 'setAddresses', 'params': {'_addresses': addresses}, 'wallet': wallet},\n",
    "            {'contract': 'staking', 'value': 0, 'method': 'setSicxAddress', 'params': {'_address': contracts['sicx']['SCORE']}, 'wallet': staking_wallet},\n",
    "            {'contract': 'governance', 'value': 0, 'method': 'configureBalanced', 'params': {}, 'wallet': wallet}]\n",
    "\n",
    "    results = {}\n",
    "    for tx in txns:\n",
    "        res = send_tx(tx[\"contract\"], tx[\"value\"], tx[\"method\"], tx[\"params\"], tx[\"wallet\"])\n",
    "        results[f'{tx[\"contract\"]}|{tx[\"method\"]}|{tx[\"params\"]}'] = res\n",
    "\n",
    "    return results\n",
    "\n",
    "def launch_balanced(wallet, staking_wallet):\n",
    "    \"\"\"\n",
    "    Launch Balanced, turn on staking management, and set delegation for sICX on the Loans contract.\n",
    "    \"\"\"\n",
    "    if network == \"custom\":\n",
    "        preps = {\n",
    "            \"hx9eec61296a7010c867ce24c20e69588e2832bc52\",  # ICX Station\n",
    "            \"hx000e0415037ae871184b2c7154e5924ef2bc075e\"}  # iBriz-ICONOsphere\n",
    "    elif network == \"yeouido\":\n",
    "        preps = {\n",
    "            \"hx23823847f593ecb65c9e1ea81a789b02766280e8\",  # ICX Station\n",
    "            \"hxe0cde6567eb6529fe31b0dc2f2697af84847f321\",  # iBriz-ICONOsphere\n",
    "            \"hx83c0fc2bcac7ecb3928539e0256e29fc371b5078\",  # Mousebelt\n",
    "            \"hx48b4636e84d8c491c88c18b65dceb7598c4600cc\",  # Parrot 9\n",
    "            \"hxb4e90a285a79687ec148c29faabe6f71afa8a066\"}  # ICONDAO\n",
    "    elif network == \"mainnet\":\n",
    "        preps = {\n",
    "            \"hxfba37e91ccc13ec1dab115811f73e429cde44d48\",  # ICX Station\n",
    "            \"hx231a795d1c719b9edf35c46b9daa4e0b5a1e83aa\",  # iBriz-ICONOsphere\n",
    "            \"hxbc9c73670c79e8f6f8060551a792c2cf29a8c491\",  # Mousebelt\n",
    "            \"hx28c08b299995a88756af64374e13db2240bc3142\"}  # Parrot 9\n",
    "    else:\n",
    "        return\n",
    "\n",
    "    txns = [{'contract': 'governance', 'value': 0, 'method': 'launchBalanced', 'params': {}, 'wallet': wallet},\n",
    "            {'contract': 'staking', 'value': 0, 'method': 'toggleStakingOn', 'params': {}, 'wallet': staking_wallet},\n",
    "            {'contract': 'governance', 'value': 0, 'method': 'delegate', 'params': {'_delegations': [{'_address': prep, '_votes_in_per': str(100 * ICX // len(preps))} for prep in preps]}, 'wallet': wallet}]\n",
    "\n",
    "    results = {}\n",
    "    for tx in txns:\n",
    "        res = send_tx(tx[\"contract\"], tx[\"value\"], tx[\"method\"], tx[\"params\"], tx[\"wallet\"])\n",
    "        results[f'{tx[\"contract\"]}|{tx[\"method\"]}|{tx[\"params\"]}'] = res\n",
    "\n",
    "    return results\n",
    "   \n",
    "\n",
    "def get_scores_json(contracts):\n",
    "    \"\"\"\n",
    "    Prints out dictionary of SCORE addresses for use in testing UI.\n",
    "    \"\"\"\n",
    "    scores = {}\n",
    "    for score in contracts:\n",
    "        scores[score] = contracts[score]['SCORE']\n",
    "    return json.dumps(scores)\n",
    "\n",
    "def call_tx(dest: str, method: str, params: dict = {}, _print = True):\n",
    "    \"\"\"\n",
    "    dest is the name of the destination contract.\n",
    "    \"\"\"\n",
    "    if _print:\n",
    "        print('------------------------------------------------------------------------------------------------------------------')\n",
    "        print(f'Reading {method}, with parameters {params} on the {dest} contract.')\n",
    "        print('------------------------------------------------------------------------------------------------------------------')\n",
    "    call = CallBuilder()\\\n",
    "        .from_(wallet.get_address())\\\n",
    "        .to(contracts[dest]['SCORE'])\\\n",
    "        .method(method)\\\n",
    "        .params(params)\\\n",
    "        .build()\n",
    "    result = icon_service.call(call)\n",
    "    if _print:\n",
    "        print(result)\n",
    "    return result"
   ]
  },
  {
   "cell_type": "code",
   "execution_count": 122,
   "metadata": {},
   "outputs": [
    {
     "name": "stdout",
     "output_type": "stream",
     "text": [
      "../../core_contracts/governance.zip\n"
     ]
    },
    {
     "name": "stderr",
     "output_type": "stream",
     "text": [
      "Raised JSONRPCException while returning the custom response. Error message: {'code': -32602, 'message': 'Pending transaction'}\n"
     ]
    },
    {
     "name": "stdout",
     "output_type": "stream",
     "text": [
      "Retrying in 1 seconds...\n",
      "Status: 1\n",
      "\n",
      "../../core_contracts/loans.zip\n"
     ]
    },
    {
     "name": "stderr",
     "output_type": "stream",
     "text": [
      "Raised JSONRPCException while returning the custom response. Error message: {'code': -32602, 'message': 'Pending transaction'}\n"
     ]
    },
    {
     "name": "stdout",
     "output_type": "stream",
     "text": [
      "Retrying in 1 seconds...\n",
      "Status: 1\n",
      "\n",
      "../../core_contracts/dividends.zip\n"
     ]
    },
    {
     "name": "stderr",
     "output_type": "stream",
     "text": [
      "Raised JSONRPCException while returning the custom response. Error message: {'code': -32602, 'message': 'Pending transaction'}\n"
     ]
    },
    {
     "name": "stdout",
     "output_type": "stream",
     "text": [
      "Retrying in 1 seconds...\n",
      "Status: 1\n",
      "\n",
      "../../core_contracts/reserve.zip\n"
     ]
    },
    {
     "name": "stderr",
     "output_type": "stream",
     "text": [
      "Raised JSONRPCException while returning the custom response. Error message: {'code': -32602, 'message': 'Pending transaction'}\n"
     ]
    },
    {
     "name": "stdout",
     "output_type": "stream",
     "text": [
      "Retrying in 1 seconds...\n",
      "Status: 1\n",
      "\n",
      "../../core_contracts/daofund.zip\n"
     ]
    },
    {
     "name": "stderr",
     "output_type": "stream",
     "text": [
      "Raised JSONRPCException while returning the custom response. Error message: {'code': -32602, 'message': 'Pending transaction'}\n"
     ]
    },
    {
     "name": "stdout",
     "output_type": "stream",
     "text": [
      "Retrying in 1 seconds...\n",
      "Status: 1\n",
      "\n",
      "../../core_contracts/rewards.zip\n"
     ]
    },
    {
     "name": "stderr",
     "output_type": "stream",
     "text": [
      "Raised JSONRPCException while returning the custom response. Error message: {'code': -32602, 'message': 'Pending transaction'}\n"
     ]
    },
    {
     "name": "stdout",
     "output_type": "stream",
     "text": [
      "Retrying in 1 seconds...\n",
      "Status: 1\n",
      "\n",
      "../../core_contracts/dex.zip\n",
      "Status: 1\n",
      "\n",
      "../../token_contracts/bnUSD.zip\n"
     ]
    },
    {
     "name": "stderr",
     "output_type": "stream",
     "text": [
      "Raised JSONRPCException while returning the custom response. Error message: {'code': -32602, 'message': 'Pending transaction'}\n"
     ]
    },
    {
     "name": "stdout",
     "output_type": "stream",
     "text": [
      "Retrying in 1 seconds...\n",
      "Status: 1\n",
      "\n",
      "../../token_contracts/bnXLM.zip\n"
     ]
    },
    {
     "name": "stderr",
     "output_type": "stream",
     "text": [
      "Raised JSONRPCException while returning the custom response. Error message: {'code': -32602, 'message': 'Pending transaction'}\n"
     ]
    },
    {
     "name": "stdout",
     "output_type": "stream",
     "text": [
      "Retrying in 1 seconds...\n",
      "Status: 1\n",
      "\n",
      "../../token_contracts/bnDOGE.zip\n"
     ]
    },
    {
     "name": "stderr",
     "output_type": "stream",
     "text": [
      "Raised JSONRPCException while returning the custom response. Error message: {'code': -32602, 'message': 'Pending transaction'}\n"
     ]
    },
    {
     "name": "stdout",
     "output_type": "stream",
     "text": [
      "Retrying in 1 seconds...\n",
      "Status: 1\n",
      "\n",
      "../../token_contracts/baln.zip\n"
     ]
    },
    {
     "name": "stderr",
     "output_type": "stream",
     "text": [
      "Raised JSONRPCException while returning the custom response. Error message: {'code': -32602, 'message': 'Pending transaction'}\n"
     ]
    },
    {
     "name": "stdout",
     "output_type": "stream",
     "text": [
      "Retrying in 1 seconds...\n",
      "Status: 1\n",
      "\n",
      "../../token_contracts/bwt.zip\n"
     ]
    },
    {
     "name": "stderr",
     "output_type": "stream",
     "text": [
      "Raised JSONRPCException while returning the custom response. Error message: {'code': -32602, 'message': 'Pending transaction'}\n"
     ]
    },
    {
     "name": "stdout",
     "output_type": "stream",
     "text": [
      "Retrying in 1 seconds...\n",
      "Status: 1\n",
      "\n",
      "../../core_contracts/staking.zip\n"
     ]
    },
    {
     "name": "stderr",
     "output_type": "stream",
     "text": [
      "Raised JSONRPCException while returning the custom response. Error message: {'code': -32602, 'message': 'Pending transaction'}\n"
     ]
    },
    {
     "name": "stdout",
     "output_type": "stream",
     "text": [
      "Retrying in 1 seconds...\n",
      "Status: 1\n",
      "\n",
      "../../token_contracts/sicx.zip\n",
      "Status: 1\n",
      "\n",
      "------------------------------------------------------------------------------------------------------------------\n",
      "{'loans': {'zip': '../../core_contracts/loans.zip', 'SCORE': 'cxac3e578fabe6e85fd16e0a56c4aba5e4ef6c5b07'}, 'staking': {'zip': '../../core_contracts/staking.zip', 'SCORE': 'cxfd6c291c153448ba0f2e240de4070ed4e66ea806'}, 'dividends': {'zip': '../../core_contracts/dividends.zip', 'SCORE': 'cx1d0ad8a419e064d9c19c852dff201aaf8e7db64e'}, 'reserve': {'zip': '../../core_contracts/reserve.zip', 'SCORE': 'cx075a56b059e3d531aac7ed1f44b6d9cc1abcc884'}, 'daofund': {'zip': '../../core_contracts/daofund.zip', 'SCORE': 'cxb8f2d7c28362d7336d5da58f3a8b6869987d3b78'}, 'rewards': {'zip': '../../core_contracts/rewards.zip', 'SCORE': 'cx70a08b6d45f0d6b14f1607203b803a0726e1ddeb'}, 'dex': {'zip': '../../core_contracts/dex.zip', 'SCORE': 'cx010e0976dd26604f4e3951a39c9401dc46347731'}, 'governance': {'zip': '../../core_contracts/governance.zip', 'SCORE': 'cx87a679f6a69db8c84552a86926055c3741e894ad'}, 'oracle': {'zip': '../../core_contracts/oracle.zip', 'SCORE': 'cxed97bdb35a7ca1b3993e400e4dba9e11610338f7'}, 'sicx': {'zip': '../../token_contracts/sicx.zip', 'SCORE': 'cx670fb2edb40949a44300254d9f7600392d6fd9f7'}, 'bnUSD': {'zip': '../../token_contracts/bnUSD.zip', 'SCORE': 'cx76cf21c4fb573d81801b7dccd70b550f10479982'}, 'bnXLM': {'zip': '../../token_contracts/bnXLM.zip', 'SCORE': 'cxcdcd1b462f2176438fe71a67cfe9334e1df71491'}, 'bnDOGE': {'zip': '../../token_contracts/bnDOGE.zip', 'SCORE': 'cx4200ed9a690ab0e489f26d6c95f419c8891ed7ac'}, 'baln': {'zip': '../../token_contracts/baln.zip', 'SCORE': 'cx7d17124b21d6b06876f37428fbc6b100af4bde32'}, 'bwt': {'zip': '../../token_contracts/bwt.zip', 'SCORE': 'cx966f4be71c5b4253a8539b10df657c1b80f418e5'}}\n",
      "----------Contracts for Testing UI--------------------------------------------------------------------------------\n",
      "{\"loans\": \"cxac3e578fabe6e85fd16e0a56c4aba5e4ef6c5b07\", \"staking\": \"cxfd6c291c153448ba0f2e240de4070ed4e66ea806\", \"dividends\": \"cx1d0ad8a419e064d9c19c852dff201aaf8e7db64e\", \"reserve\": \"cx075a56b059e3d531aac7ed1f44b6d9cc1abcc884\", \"daofund\": \"cxb8f2d7c28362d7336d5da58f3a8b6869987d3b78\", \"rewards\": \"cx70a08b6d45f0d6b14f1607203b803a0726e1ddeb\", \"dex\": \"cx010e0976dd26604f4e3951a39c9401dc46347731\", \"governance\": \"cx87a679f6a69db8c84552a86926055c3741e894ad\", \"oracle\": \"cxed97bdb35a7ca1b3993e400e4dba9e11610338f7\", \"sicx\": \"cx670fb2edb40949a44300254d9f7600392d6fd9f7\", \"bnUSD\": \"cx76cf21c4fb573d81801b7dccd70b550f10479982\", \"bnXLM\": \"cxcdcd1b462f2176438fe71a67cfe9334e1df71491\", \"bnDOGE\": \"cx4200ed9a690ab0e489f26d6c95f419c8891ed7ac\", \"baln\": \"cx7d17124b21d6b06876f37428fbc6b100af4bde32\", \"bwt\": \"cx966f4be71c5b4253a8539b10df657c1b80f418e5\"}\n"
     ]
    }
   ],
   "source": [
    "# Cell 7\n",
    "# Deploy and configure Balanced. Print results if anything goes wrong.\n",
    "\n",
    "if network == 'custom':\n",
    "    confirm = 'Yes'\n",
    "else:\n",
    "    confirm = input(f'Deploying Balanced to {network}. Proceed (Yes/No)? ')\n",
    "if confirm == 'Yes':\n",
    "    results = {}\n",
    "    deploy_all(btest_wallet, staking_wallet)\n",
    "    print('------------------------------------------------------------------------------------------------------------------')\n",
    "    print(contracts)\n",
    "    print('----------Contracts for Testing UI--------------------------------------------------------------------------------')\n",
    "    print(get_scores_json(contracts))"
   ]
  },
  {
   "cell_type": "code",
   "execution_count": 123,
   "metadata": {},
   "outputs": [
    {
     "name": "stdout",
     "output_type": "stream",
     "text": [
      "------------------------------------------------------------------------------------------------------------------\n",
      "Calling setAddresses, with parameters {'_addresses': {'loans': 'cxac3e578fabe6e85fd16e0a56c4aba5e4ef6c5b07', 'staking': 'cxfd6c291c153448ba0f2e240de4070ed4e66ea806', 'dividends': 'cx1d0ad8a419e064d9c19c852dff201aaf8e7db64e', 'reserve': 'cx075a56b059e3d531aac7ed1f44b6d9cc1abcc884', 'daofund': 'cxb8f2d7c28362d7336d5da58f3a8b6869987d3b78', 'rewards': 'cx70a08b6d45f0d6b14f1607203b803a0726e1ddeb', 'dex': 'cx010e0976dd26604f4e3951a39c9401dc46347731', 'oracle': 'cxed97bdb35a7ca1b3993e400e4dba9e11610338f7', 'sicx': 'cx670fb2edb40949a44300254d9f7600392d6fd9f7', 'bnUSD': 'cx76cf21c4fb573d81801b7dccd70b550f10479982', 'baln': 'cx7d17124b21d6b06876f37428fbc6b100af4bde32', 'bwt': 'cx966f4be71c5b4253a8539b10df657c1b80f418e5'}} on the governance contract.\n",
      "------------------------------------------------------------------------------------------------------------------\n"
     ]
    },
    {
     "name": "stderr",
     "output_type": "stream",
     "text": [
      "Raised JSONRPCException while returning the custom response. Error message: {'code': -32602, 'message': 'Pending transaction'}\n"
     ]
    },
    {
     "name": "stdout",
     "output_type": "stream",
     "text": [
      "Retrying in 1 seconds...\n",
      "************************************************** Status: 1 **************************************************\n",
      "------------------------------------------------------------------------------------------------------------------\n",
      "Calling setSicxAddress, with parameters {'_address': 'cx670fb2edb40949a44300254d9f7600392d6fd9f7'} on the staking contract.\n",
      "------------------------------------------------------------------------------------------------------------------\n",
      "************************************************** Status: 1 **************************************************\n",
      "------------------------------------------------------------------------------------------------------------------\n",
      "Calling configureBalanced, with parameters {} on the governance contract.\n",
      "------------------------------------------------------------------------------------------------------------------\n"
     ]
    },
    {
     "name": "stderr",
     "output_type": "stream",
     "text": [
      "Raised JSONRPCException while returning the custom response. Error message: {'code': -32602, 'message': 'Pending transaction'}\n"
     ]
    },
    {
     "name": "stdout",
     "output_type": "stream",
     "text": [
      "Retrying in 1 seconds...\n",
      "************************************************** Status: 1 **************************************************\n",
      "{'scoreAddress': 'cxac3e578fabe6e85fd16e0a56c4aba5e4ef6c5b07', 'indexed': ['AssetAdded(Address,str,bool)', 'cx670fb2edb40949a44300254d9f7600392d6fd9f7', 'sICX', '0x1'], 'data': []} \n",
      "\n",
      "{'scoreAddress': 'cxac3e578fabe6e85fd16e0a56c4aba5e4ef6c5b07', 'indexed': ['AssetAdded(Address,str,bool)', 'cx76cf21c4fb573d81801b7dccd70b550f10479982', 'bnUSD', '0x0'], 'data': []} \n",
      "\n",
      "{'scoreAddress': 'cxac3e578fabe6e85fd16e0a56c4aba5e4ef6c5b07', 'indexed': ['AssetAdded(Address,str,bool)', 'cx7d17124b21d6b06876f37428fbc6b100af4bde32', 'BALN', '0x1'], 'data': []} \n",
      "\n",
      "{\"governance|setAddresses|{'_addresses': {'loans': 'cxac3e578fabe6e85fd16e0a56c4aba5e4ef6c5b07', 'staking': 'cxfd6c291c153448ba0f2e240de4070ed4e66ea806', 'dividends': 'cx1d0ad8a419e064d9c19c852dff201aaf8e7db64e', 'reserve': 'cx075a56b059e3d531aac7ed1f44b6d9cc1abcc884', 'daofund': 'cxb8f2d7c28362d7336d5da58f3a8b6869987d3b78', 'rewards': 'cx70a08b6d45f0d6b14f1607203b803a0726e1ddeb', 'dex': 'cx010e0976dd26604f4e3951a39c9401dc46347731', 'oracle': 'cxed97bdb35a7ca1b3993e400e4dba9e11610338f7', 'sicx': 'cx670fb2edb40949a44300254d9f7600392d6fd9f7', 'bnUSD': 'cx76cf21c4fb573d81801b7dccd70b550f10479982', 'baln': 'cx7d17124b21d6b06876f37428fbc6b100af4bde32', 'bwt': 'cx966f4be71c5b4253a8539b10df657c1b80f418e5'}}\": {'txHash': '0x1034ebd0be731ca22c66d55580da0b02e161a8345ffe9781840f5314b72c3ade', 'blockHeight': 563970, 'blockHash': '0xc88aacd0ac1b223ffc6dfda42f094770c7d1fe4ae381b16d3aa0b6ef8e1bd64f', 'txIndex': 1, 'to': 'cx87a679f6a69db8c84552a86926055c3741e894ad', 'stepUsed': 344440, 'stepPrice': 10000000000, 'cumulativeStepUsed': 344440, 'eventLogs': [], 'logsBloom': b'\\x00\\x00\\x00\\x00\\x00\\x00\\x00\\x00\\x00\\x00\\x00\\x00\\x00\\x00\\x00\\x00\\x00\\x00\\x00\\x00\\x00\\x00\\x00\\x00\\x00\\x00\\x00\\x00\\x00\\x00\\x00\\x00\\x00\\x00\\x00\\x00\\x00\\x00\\x00\\x00\\x00\\x00\\x00\\x00\\x00\\x00\\x00\\x00\\x00\\x00\\x00\\x00\\x00\\x00\\x00\\x00\\x00\\x00\\x00\\x00\\x00\\x00\\x00\\x00\\x00\\x00\\x00\\x00\\x00\\x00\\x00\\x00\\x00\\x00\\x00\\x00\\x00\\x00\\x00\\x00\\x00\\x00\\x00\\x00\\x00\\x00\\x00\\x00\\x00\\x00\\x00\\x00\\x00\\x00\\x00\\x00\\x00\\x00\\x00\\x00\\x00\\x00\\x00\\x00\\x00\\x00\\x00\\x00\\x00\\x00\\x00\\x00\\x00\\x00\\x00\\x00\\x00\\x00\\x00\\x00\\x00\\x00\\x00\\x00\\x00\\x00\\x00\\x00\\x00\\x00\\x00\\x00\\x00\\x00\\x00\\x00\\x00\\x00\\x00\\x00\\x00\\x00\\x00\\x00\\x00\\x00\\x00\\x00\\x00\\x00\\x00\\x00\\x00\\x00\\x00\\x00\\x00\\x00\\x00\\x00\\x00\\x00\\x00\\x00\\x00\\x00\\x00\\x00\\x00\\x00\\x00\\x00\\x00\\x00\\x00\\x00\\x00\\x00\\x00\\x00\\x00\\x00\\x00\\x00\\x00\\x00\\x00\\x00\\x00\\x00\\x00\\x00\\x00\\x00\\x00\\x00\\x00\\x00\\x00\\x00\\x00\\x00\\x00\\x00\\x00\\x00\\x00\\x00\\x00\\x00\\x00\\x00\\x00\\x00\\x00\\x00\\x00\\x00\\x00\\x00\\x00\\x00\\x00\\x00\\x00\\x00\\x00\\x00\\x00\\x00\\x00\\x00\\x00\\x00\\x00\\x00\\x00\\x00\\x00\\x00\\x00\\x00\\x00\\x00\\x00\\x00\\x00\\x00\\x00\\x00\\x00\\x00\\x00\\x00\\x00\\x00', 'status': 1}, \"staking|setSicxAddress|{'_address': 'cx670fb2edb40949a44300254d9f7600392d6fd9f7'}\": {'txHash': '0x904c06301a214d7a38f536839ec2dac190ccef589d9dd381220b468a6651dc79', 'blockHeight': 563971, 'blockHash': '0x6697bbeed6c95a734f01e46074b22c595ae138b61b4b67daa83a37bded1b9608', 'txIndex': 1, 'to': 'cxfd6c291c153448ba0f2e240de4070ed4e66ea806', 'stepUsed': 150520, 'stepPrice': 10000000000, 'cumulativeStepUsed': 150520, 'eventLogs': [], 'logsBloom': b'\\x00\\x00\\x00\\x00\\x00\\x00\\x00\\x00\\x00\\x00\\x00\\x00\\x00\\x00\\x00\\x00\\x00\\x00\\x00\\x00\\x00\\x00\\x00\\x00\\x00\\x00\\x00\\x00\\x00\\x00\\x00\\x00\\x00\\x00\\x00\\x00\\x00\\x00\\x00\\x00\\x00\\x00\\x00\\x00\\x00\\x00\\x00\\x00\\x00\\x00\\x00\\x00\\x00\\x00\\x00\\x00\\x00\\x00\\x00\\x00\\x00\\x00\\x00\\x00\\x00\\x00\\x00\\x00\\x00\\x00\\x00\\x00\\x00\\x00\\x00\\x00\\x00\\x00\\x00\\x00\\x00\\x00\\x00\\x00\\x00\\x00\\x00\\x00\\x00\\x00\\x00\\x00\\x00\\x00\\x00\\x00\\x00\\x00\\x00\\x00\\x00\\x00\\x00\\x00\\x00\\x00\\x00\\x00\\x00\\x00\\x00\\x00\\x00\\x00\\x00\\x00\\x00\\x00\\x00\\x00\\x00\\x00\\x00\\x00\\x00\\x00\\x00\\x00\\x00\\x00\\x00\\x00\\x00\\x00\\x00\\x00\\x00\\x00\\x00\\x00\\x00\\x00\\x00\\x00\\x00\\x00\\x00\\x00\\x00\\x00\\x00\\x00\\x00\\x00\\x00\\x00\\x00\\x00\\x00\\x00\\x00\\x00\\x00\\x00\\x00\\x00\\x00\\x00\\x00\\x00\\x00\\x00\\x00\\x00\\x00\\x00\\x00\\x00\\x00\\x00\\x00\\x00\\x00\\x00\\x00\\x00\\x00\\x00\\x00\\x00\\x00\\x00\\x00\\x00\\x00\\x00\\x00\\x00\\x00\\x00\\x00\\x00\\x00\\x00\\x00\\x00\\x00\\x00\\x00\\x00\\x00\\x00\\x00\\x00\\x00\\x00\\x00\\x00\\x00\\x00\\x00\\x00\\x00\\x00\\x00\\x00\\x00\\x00\\x00\\x00\\x00\\x00\\x00\\x00\\x00\\x00\\x00\\x00\\x00\\x00\\x00\\x00\\x00\\x00\\x00\\x00\\x00\\x00\\x00\\x00\\x00\\x00\\x00\\x00\\x00\\x00', 'status': 1}, 'governance|configureBalanced|{}': {'txHash': '0xdf352c9edff81199d1fd9c674e5832fd2437d8772748ec8a4a85affda8e97a41', 'blockHeight': 563972, 'blockHash': '0x9fb40dd7b611fa05891d401c3702d420b6b5a371bbab5fa412dac7fc2acd055e', 'txIndex': 1, 'to': 'cx87a679f6a69db8c84552a86926055c3741e894ad', 'stepUsed': 1654980, 'stepPrice': 10000000000, 'cumulativeStepUsed': 1654980, 'eventLogs': [{'scoreAddress': 'cxac3e578fabe6e85fd16e0a56c4aba5e4ef6c5b07', 'indexed': ['AssetAdded(Address,str,bool)', 'cx670fb2edb40949a44300254d9f7600392d6fd9f7', 'sICX', '0x1'], 'data': []}, {'scoreAddress': 'cxac3e578fabe6e85fd16e0a56c4aba5e4ef6c5b07', 'indexed': ['AssetAdded(Address,str,bool)', 'cx76cf21c4fb573d81801b7dccd70b550f10479982', 'bnUSD', '0x0'], 'data': []}, {'scoreAddress': 'cxac3e578fabe6e85fd16e0a56c4aba5e4ef6c5b07', 'indexed': ['AssetAdded(Address,str,bool)', 'cx7d17124b21d6b06876f37428fbc6b100af4bde32', 'BALN', '0x1'], 'data': []}], 'logsBloom': b'\\x00 \\x10\\x00\\x00\\x00\\x00\\x00\\x00\\x00\\x00\\x00\\x00\\x00\\x00\\x00\\x00\\x00\\x00\\x00\\x00\\x00\\x00\\x00\\x00\\x00\\x00\\x00\\x00\\x00\\x00\\x00\\x00\\x00\\x00\\x80\\x00\\x00\\x10\\x00\\x00\\x00\\x00\\x00\\x00\\x00\\x00\\x10\\x00\\x00 \\x02\\x00\\x00\\x80\\x00\\x00\\x00\\x00 \\x00\\x00\\x00 \\x00\\x00\\x00\\x00\\x00\\x00\\x00\\x00\\x00 \\x00\\x00\\x00\\x00\\x00\\x00\\x00\\x00\\x00\\x00\\x00\\x02\\x00\\x00\\x00\\x00\\x00\\x00\\x00\\x00\\x00\\x00\\x00\\x00\\x08\\x00\\x01\\x00\\x00\\x00\\x00\\x00\\x00\\x00\\x80\\x00\\x00\\x00\\x00\\x00\\x00\\x00\\x00\\x00\\x00\\x00\\x00\\x00\\x00\\x00\\x00\\x00\\x01\\x00\\x00\\x00\\x00\\x00@\\x00\\x00\\x00\\x00\\x00\\x00\\x00@\\x00\\x02\\x00\\x00\\x00\\x00\\x00\\x00\\x00\\x00\\x00\\x00\\x00\\x00\\x00\\x00\\x00\\x00\\x00\\x00\\x00\\x00\\x00\\x00\\x00\\x08\\x00\\x00\\x01\\x00\\x00\\x00\\x00\\x00\\x00\\x00\\x00\\x00\\x00\\x00\\x00\\x00\\x00\\x00\\x04\\x00\\x00\\x00\\x00\\x00\\x00\\x00\\x00\\x00\\x00\\x00\\x00\\x00\\x00\\x00\\x00\\x00\\x00\\x00\\x08\\x00\\x00\\x00@\\x80\\x00\\x00\\x02\\x00\\x00\\x00\\x00\\x00\\x00\\x00\\x00\\x00\\x00\\x00\\x00\\x00\\x00\\x00\\x00\\x01\\x00\\x00\\x00\\x00\\x00\\x00\\x00\\x00\\x00\\x00\\x00\\x00\\x00 \\x00\\x00\\x00\\x00\\x00\\x00\\x00\\x00\\x00\\x00\\x10', 'status': 1}}\n"
     ]
    }
   ],
   "source": [
    "# Cell 7a\n",
    "# Configure Balanced\n",
    "\n",
    "config_results = config_balanced(btest_wallet, staking_wallet)\n",
    "print(config_results)"
   ]
  },
  {
   "cell_type": "code",
   "execution_count": 124,
   "metadata": {
    "scrolled": true
   },
   "outputs": [
    {
     "name": "stdout",
     "output_type": "stream",
     "text": [
      "------------------------------------------------------------------------------------------------------------------\n",
      "Calling launchBalanced, with parameters {} on the governance contract.\n",
      "------------------------------------------------------------------------------------------------------------------\n"
     ]
    },
    {
     "name": "stderr",
     "output_type": "stream",
     "text": [
      "Raised JSONRPCException while returning the custom response. Error message: {'code': -32602, 'message': 'Pending transaction'}\n"
     ]
    },
    {
     "name": "stdout",
     "output_type": "stream",
     "text": [
      "Retrying in 1 seconds...\n",
      "************************************************** Status: 1 **************************************************\n",
      "{'scoreAddress': 'cxac3e578fabe6e85fd16e0a56c4aba5e4ef6c5b07', 'indexed': ['ContractActive(str,str)', 'Loans'], 'data': ['Active']} \n",
      "\n",
      "------------------------------------------------------------------------------------------------------------------\n",
      "Calling toggleStakingOn, with parameters {} on the staking contract.\n",
      "------------------------------------------------------------------------------------------------------------------\n"
     ]
    },
    {
     "name": "stderr",
     "output_type": "stream",
     "text": [
      "Raised JSONRPCException while returning the custom response. Error message: {'code': -32602, 'message': 'Pending transaction'}\n"
     ]
    },
    {
     "name": "stdout",
     "output_type": "stream",
     "text": [
      "Retrying in 1 seconds...\n",
      "************************************************** Status: 1 **************************************************\n",
      "------------------------------------------------------------------------------------------------------------------\n",
      "Calling delegate, with parameters {'_delegations': [{'_address': 'hx9eec61296a7010c867ce24c20e69588e2832bc52', '_votes_in_per': '50000000000000000000'}, {'_address': 'hx000e0415037ae871184b2c7154e5924ef2bc075e', '_votes_in_per': '50000000000000000000'}]} on the governance contract.\n",
      "------------------------------------------------------------------------------------------------------------------\n"
     ]
    },
    {
     "name": "stderr",
     "output_type": "stream",
     "text": [
      "Raised JSONRPCException while returning the custom response. Error message: {'code': -32602, 'message': 'Pending transaction'}\n"
     ]
    },
    {
     "name": "stdout",
     "output_type": "stream",
     "text": [
      "Retrying in 1 seconds...\n",
      "************************************************** Status: 1 **************************************************\n",
      "{'governance|launchBalanced|{}': {'txHash': '0x36f050831f103ea309b51c42f694d8e178be75498f9840987f4ab1610e8f1cf1', 'blockHeight': 563975, 'blockHash': '0xe050378f4fbd2a4971211ed243527448551900b2ba207a080b9269561ab1f7a3', 'txIndex': 1, 'to': 'cx87a679f6a69db8c84552a86926055c3741e894ad', 'stepUsed': 417520, 'stepPrice': 10000000000, 'cumulativeStepUsed': 417520, 'eventLogs': [{'scoreAddress': 'cxac3e578fabe6e85fd16e0a56c4aba5e4ef6c5b07', 'indexed': ['ContractActive(str,str)', 'Loans'], 'data': ['Active']}], 'logsBloom': b'\\x00\\x00\\x00\\x00\\x00\\x00\\x00\\x00\\x00\\x00\\x00\\x00\\x00\\x00\\x00\\x00\\x00\\x00\\x00\\x00\\x00\\x00\\x00\\x00\\x00\\x00\\x00\\x00\\x00\\x00\\x00\\x00\\x00\\x00\\x00\\x00\\x00\\x00\\x00\\x00\\x00\\x00\\x00 \\x00\\x00\\x00\\x10\\x00\\x00\\x00\\x00\\x00\\x00\\x00\\x00\\x00\\x00\\x00\\x00\\x00\\x00\\x00\\x00\\x00\\x00\\x00\\x00\\x00\\x00\\x00\\x00\\x00\\x00\\x00\\x00\\x00\\x00\\x00\\x00\\x00\\x00\\x00\\x00\\x80\\x00\\x00\\x00\\x00\\x00\\x00\\x00\\x00\\x00\\x00\\x00\\x01\\x00\\x00\\x00\\x00\\x00\\x00\\x00\\x00\\x00\\x00\\x00\\x00\\x00\\x00\\x00\\x00\\x00\\x00\\x00\\x00\\x00\\x00\\x00\\x00\\x00\\x00\\x00\\x00\\x00\\x00\\x00\\x00\\x00\\x00\\x00\\x00\\x00\\x10\\x00\\x00\\x00\\x00\\x00@\\x00\\x00\\x00\\x00\\x00\\x00\\x00\\x00\\x00\\x00\\x00\\x00\\x00\\x00 \\x00\\x00\\x00\\x00\\x00\\x00\\x00\\x00\\x00\\x00\\x00\\x00\\x00\\x00\\x00\\x00\\x00\\x00\\x00\\x00\\x00\\x00\\x00\\x00\\x00\\x00\\x00\\x00\\x00\\x00\\x00\\x00\\x00\\x00\\x00\\x00\\x00\\x00\\x00\\x00\\x00\\x00\\x00\\x00\\x00\\x00\\x00\\x00\\x00\\x00\\x00\\x00\\x00\\x00\\x00\\x00\\x00\\x00\\x00\\x00\\x00\\x00\\x00\\x00\\x00\\x00\\x00\\x00\\x00\\x00\\x00\\x00\\x00\\x00\\x00\\x00\\x00\\x00\\x00\\x00\\x00\\x00\\x00\\x00\\x00\\x00\\x00\\x00\\x00\\x00\\x00\\x00\\x00\\x00\\x00\\x00\\x00\\x01\\x00\\x10', 'status': 1}, 'staking|toggleStakingOn|{}': {'txHash': '0x69efb32c3d89adc43ea28e9ae51bc2fd97c2c140cc0026fa2a0431d241990869', 'blockHeight': 563976, 'blockHash': '0x0f404c1edff455dd2a39006a25ce7784ec6c0f91bcaf7bcf394e6188573f58e9', 'txIndex': 1, 'to': 'cxfd6c291c153448ba0f2e240de4070ed4e66ea806', 'stepUsed': 130680, 'stepPrice': 10000000000, 'cumulativeStepUsed': 130680, 'eventLogs': [], 'logsBloom': b'\\x00\\x00\\x00\\x00\\x00\\x00\\x00\\x00\\x00\\x00\\x00\\x00\\x00\\x00\\x00\\x00\\x00\\x00\\x00\\x00\\x00\\x00\\x00\\x00\\x00\\x00\\x00\\x00\\x00\\x00\\x00\\x00\\x00\\x00\\x00\\x00\\x00\\x00\\x00\\x00\\x00\\x00\\x00\\x00\\x00\\x00\\x00\\x00\\x00\\x00\\x00\\x00\\x00\\x00\\x00\\x00\\x00\\x00\\x00\\x00\\x00\\x00\\x00\\x00\\x00\\x00\\x00\\x00\\x00\\x00\\x00\\x00\\x00\\x00\\x00\\x00\\x00\\x00\\x00\\x00\\x00\\x00\\x00\\x00\\x00\\x00\\x00\\x00\\x00\\x00\\x00\\x00\\x00\\x00\\x00\\x00\\x00\\x00\\x00\\x00\\x00\\x00\\x00\\x00\\x00\\x00\\x00\\x00\\x00\\x00\\x00\\x00\\x00\\x00\\x00\\x00\\x00\\x00\\x00\\x00\\x00\\x00\\x00\\x00\\x00\\x00\\x00\\x00\\x00\\x00\\x00\\x00\\x00\\x00\\x00\\x00\\x00\\x00\\x00\\x00\\x00\\x00\\x00\\x00\\x00\\x00\\x00\\x00\\x00\\x00\\x00\\x00\\x00\\x00\\x00\\x00\\x00\\x00\\x00\\x00\\x00\\x00\\x00\\x00\\x00\\x00\\x00\\x00\\x00\\x00\\x00\\x00\\x00\\x00\\x00\\x00\\x00\\x00\\x00\\x00\\x00\\x00\\x00\\x00\\x00\\x00\\x00\\x00\\x00\\x00\\x00\\x00\\x00\\x00\\x00\\x00\\x00\\x00\\x00\\x00\\x00\\x00\\x00\\x00\\x00\\x00\\x00\\x00\\x00\\x00\\x00\\x00\\x00\\x00\\x00\\x00\\x00\\x00\\x00\\x00\\x00\\x00\\x00\\x00\\x00\\x00\\x00\\x00\\x00\\x00\\x00\\x00\\x00\\x00\\x00\\x00\\x00\\x00\\x00\\x00\\x00\\x00\\x00\\x00\\x00\\x00\\x00\\x00\\x00\\x00\\x00\\x00\\x00\\x00\\x00\\x00', 'status': 1}, \"governance|delegate|{'_delegations': [{'_address': 'hx9eec61296a7010c867ce24c20e69588e2832bc52', '_votes_in_per': '50000000000000000000'}, {'_address': 'hx000e0415037ae871184b2c7154e5924ef2bc075e', '_votes_in_per': '50000000000000000000'}]}\": {'txHash': '0x7d468934d3fb07deb663944d2ae054a6805de7da180099529d7435960cd21bdb', 'blockHeight': 563978, 'blockHash': '0x6d931b987acca8dd438dca2727d3736d06bb6bd2022b1266eb300f8ebd5f139a', 'txIndex': 1, 'to': 'cx87a679f6a69db8c84552a86926055c3741e894ad', 'stepUsed': 354320, 'stepPrice': 10000000000, 'cumulativeStepUsed': 354320, 'eventLogs': [], 'logsBloom': b'\\x00\\x00\\x00\\x00\\x00\\x00\\x00\\x00\\x00\\x00\\x00\\x00\\x00\\x00\\x00\\x00\\x00\\x00\\x00\\x00\\x00\\x00\\x00\\x00\\x00\\x00\\x00\\x00\\x00\\x00\\x00\\x00\\x00\\x00\\x00\\x00\\x00\\x00\\x00\\x00\\x00\\x00\\x00\\x00\\x00\\x00\\x00\\x00\\x00\\x00\\x00\\x00\\x00\\x00\\x00\\x00\\x00\\x00\\x00\\x00\\x00\\x00\\x00\\x00\\x00\\x00\\x00\\x00\\x00\\x00\\x00\\x00\\x00\\x00\\x00\\x00\\x00\\x00\\x00\\x00\\x00\\x00\\x00\\x00\\x00\\x00\\x00\\x00\\x00\\x00\\x00\\x00\\x00\\x00\\x00\\x00\\x00\\x00\\x00\\x00\\x00\\x00\\x00\\x00\\x00\\x00\\x00\\x00\\x00\\x00\\x00\\x00\\x00\\x00\\x00\\x00\\x00\\x00\\x00\\x00\\x00\\x00\\x00\\x00\\x00\\x00\\x00\\x00\\x00\\x00\\x00\\x00\\x00\\x00\\x00\\x00\\x00\\x00\\x00\\x00\\x00\\x00\\x00\\x00\\x00\\x00\\x00\\x00\\x00\\x00\\x00\\x00\\x00\\x00\\x00\\x00\\x00\\x00\\x00\\x00\\x00\\x00\\x00\\x00\\x00\\x00\\x00\\x00\\x00\\x00\\x00\\x00\\x00\\x00\\x00\\x00\\x00\\x00\\x00\\x00\\x00\\x00\\x00\\x00\\x00\\x00\\x00\\x00\\x00\\x00\\x00\\x00\\x00\\x00\\x00\\x00\\x00\\x00\\x00\\x00\\x00\\x00\\x00\\x00\\x00\\x00\\x00\\x00\\x00\\x00\\x00\\x00\\x00\\x00\\x00\\x00\\x00\\x00\\x00\\x00\\x00\\x00\\x00\\x00\\x00\\x00\\x00\\x00\\x00\\x00\\x00\\x00\\x00\\x00\\x00\\x00\\x00\\x00\\x00\\x00\\x00\\x00\\x00\\x00\\x00\\x00\\x00\\x00\\x00\\x00\\x00\\x00\\x00\\x00\\x00\\x00', 'status': 1}}\n"
     ]
    }
   ],
   "source": [
    "# Cell 7b\n",
    "# Launch Balanced\n",
    "# We may want to make this a payable method and have the governance SCORE borrow bnUSD,\n",
    "# start and name the sICXbnUSD market, and add it as a rewards DataSource.\n",
    "\n",
    "launch_results = launch_balanced(btest_wallet, staking_wallet)\n",
    "print(launch_results)"
   ]
  },
  {
   "cell_type": "code",
   "execution_count": 154,
   "metadata": {},
   "outputs": [
    {
     "name": "stdout",
     "output_type": "stream",
     "text": [
      "Updating dex with params: {} to custom. Proceed (Yes/No)? Yes\n",
      "../../core_contracts/dex.zip\n"
     ]
    },
    {
     "name": "stderr",
     "output_type": "stream",
     "text": [
      "Raised JSONRPCException while returning the custom response. Error message: {'code': -32602, 'message': 'Pending transaction'}\n"
     ]
    },
    {
     "name": "stdout",
     "output_type": "stream",
     "text": [
      "Retrying in 1 seconds...\n",
      "Status: 1\n",
      "\n"
     ]
    }
   ],
   "source": [
    "# Cell 8\n",
    "# Deploy or Update a single SCORE\n",
    "\n",
    "contract_name = 'dex'\n",
    "update = 1\n",
    "params = {}\n",
    "if update == 0:\n",
    "    params = {'_governance': contracts['governance']['SCORE']}\n",
    "\n",
    "compress()\n",
    "contract = contracts[contract_name]\n",
    "confirm = input(f'{\"Updating\" if update else \"Deploying\"} {contract_name} with params: {params} to {network}. Proceed (Yes/No)? ')\n",
    "if confirm == 'Yes':\n",
    "    deploy_SCORE(contract, params, btest_wallet, update)"
   ]
  },
  {
   "cell_type": "code",
   "execution_count": 125,
   "metadata": {},
   "outputs": [
    {
     "name": "stdout",
     "output_type": "stream",
     "text": [
      "hxc92735c9a954399c2fb722ae28bf22a10e27491e\n",
      "------------------------------------------------------------------------------------------------------------------\n",
      "Calling depositAndBorrow, with parameters {'_asset': 'bnUSD', '_amount': 50000000000000000000} on the loans contract.\n",
      "------------------------------------------------------------------------------------------------------------------\n"
     ]
    },
    {
     "name": "stderr",
     "output_type": "stream",
     "text": [
      "Raised JSONRPCException while returning the custom response. Error message: {'code': -32602, 'message': 'Pending transaction'}\n"
     ]
    },
    {
     "name": "stdout",
     "output_type": "stream",
     "text": [
      "Retrying in 1 seconds...\n",
      "************************************************** Status: 1 **************************************************\n",
      "{'scoreAddress': 'cxac3e578fabe6e85fd16e0a56c4aba5e4ef6c5b07', 'indexed': ['ICXTransfer(Address,Address,int)', 'cxac3e578fabe6e85fd16e0a56c4aba5e4ef6c5b07', 'cxfd6c291c153448ba0f2e240de4070ed4e66ea806', '0x1043561a8829300000'], 'data': []} \n",
      "\n",
      "{'scoreAddress': 'cx670fb2edb40949a44300254d9f7600392d6fd9f7', 'indexed': ['Mint(Address,int,bytes)', 'cxac3e578fabe6e85fd16e0a56c4aba5e4ef6c5b07'], 'data': ['0x1043561a8829300000', '0x4e6f6e65']} \n",
      "\n",
      "{'scoreAddress': 'cx670fb2edb40949a44300254d9f7600392d6fd9f7', 'indexed': ['Transfer(Address,Address,int,bytes)', 'hx0000000000000000000000000000000000000000', 'cxac3e578fabe6e85fd16e0a56c4aba5e4ef6c5b07', '0x1043561a8829300000'], 'data': ['0x4e6f6e65']} \n",
      "\n",
      "{'scoreAddress': 'cxfd6c291c153448ba0f2e240de4070ed4e66ea806', 'indexed': ['TokenTransfer(Address,int,str)', 'cxac3e578fabe6e85fd16e0a56c4aba5e4ef6c5b07', '0x1043561a8829300000'], 'data': ['300 sICX minted to cxac3e578fabe6e85fd16e0a56c4aba5e4ef6c5b07']} \n",
      "\n",
      "{'scoreAddress': 'cx76cf21c4fb573d81801b7dccd70b550f10479982', 'indexed': ['OraclePrice(str,str,Address,int)', 'USDICX', 'BandChain', 'cxed97bdb35a7ca1b3993e400e4dba9e11610338f7'], 'data': ['0x84c5d90848544bb']} \n",
      "\n",
      "{'scoreAddress': 'cxac3e578fabe6e85fd16e0a56c4aba5e4ef6c5b07', 'indexed': ['Snapshot(int)', '0xf5'], 'data': []} \n",
      "\n",
      "{'scoreAddress': 'cxac3e578fabe6e85fd16e0a56c4aba5e4ef6c5b07', 'indexed': ['CollateralReceived(Address,str,int)', 'hxc92735c9a954399c2fb722ae28bf22a10e27491e', 'sICX'], 'data': ['0x1043561a8829300000']} \n",
      "\n",
      "{'scoreAddress': 'cxac3e578fabe6e85fd16e0a56c4aba5e4ef6c5b07', 'indexed': ['OriginateLoan(Address,str,int,str)', 'hxc92735c9a954399c2fb722ae28bf22a10e27491e', 'bnUSD', '0x2b5e3af16b1880000'], 'data': ['Loan of 50000000000000000000 bnUSD from Balanced.']} \n",
      "\n",
      "{'scoreAddress': 'cx76cf21c4fb573d81801b7dccd70b550f10479982', 'indexed': ['Mint(Address,int,bytes)', 'hxc92735c9a954399c2fb722ae28bf22a10e27491e'], 'data': ['0x2b5e3af16b1880000', '0x4e6f6e65']} \n",
      "\n",
      "{'scoreAddress': 'cx76cf21c4fb573d81801b7dccd70b550f10479982', 'indexed': ['Transfer(Address,Address,int,bytes)', 'hx0000000000000000000000000000000000000000', 'hxc92735c9a954399c2fb722ae28bf22a10e27491e', '0x2b5e3af16b1880000'], 'data': ['0x4e6f6e65']} \n",
      "\n",
      "{'scoreAddress': 'cx76cf21c4fb573d81801b7dccd70b550f10479982', 'indexed': ['Mint(Address,int,bytes)', 'cx1d0ad8a419e064d9c19c852dff201aaf8e7db64e'], 'data': ['0x6f05b59d3b20000', '0x4e6f6e65']} \n",
      "\n",
      "{'scoreAddress': 'cx76cf21c4fb573d81801b7dccd70b550f10479982', 'indexed': ['Transfer(Address,Address,int,bytes)', 'hx0000000000000000000000000000000000000000', 'cx1d0ad8a419e064d9c19c852dff201aaf8e7db64e', '0x6f05b59d3b20000'], 'data': ['0x4e6f6e65']} \n",
      "\n",
      "{'scoreAddress': 'cx1d0ad8a419e064d9c19c852dff201aaf8e7db64e', 'indexed': ['DividendsReceived(int,str)', '0x6f05b59d3b20000'], 'data': ['500000000000000000 tokens received as dividends token: cx76cf21c4fb573d81801b7dccd70b550f10479982']} \n",
      "\n",
      "{'scoreAddress': 'cxac3e578fabe6e85fd16e0a56c4aba5e4ef6c5b07', 'indexed': ['FeePaid(str,int,str)', 'bnUSD', '0x6f05b59d3b20000', 'origination'], 'data': []} \n",
      "\n",
      "hxa9e67162f41c05c651d50d1197fc8596864af801\n",
      "------------------------------------------------------------------------------------------------------------------\n",
      "Calling depositAndBorrow, with parameters {'_asset': 'bnUSD', '_amount': 50000000000000000000} on the loans contract.\n",
      "------------------------------------------------------------------------------------------------------------------\n",
      "************************************************** Status: 1 **************************************************\n",
      "{'scoreAddress': 'cxac3e578fabe6e85fd16e0a56c4aba5e4ef6c5b07', 'indexed': ['ICXTransfer(Address,Address,int)', 'cxac3e578fabe6e85fd16e0a56c4aba5e4ef6c5b07', 'cxfd6c291c153448ba0f2e240de4070ed4e66ea806', '0x1043561a8829300000'], 'data': []} \n",
      "\n",
      "{'scoreAddress': 'cx670fb2edb40949a44300254d9f7600392d6fd9f7', 'indexed': ['Mint(Address,int,bytes)', 'cxac3e578fabe6e85fd16e0a56c4aba5e4ef6c5b07'], 'data': ['0x1043561a8829300000', '0x4e6f6e65']} \n",
      "\n",
      "{'scoreAddress': 'cx670fb2edb40949a44300254d9f7600392d6fd9f7', 'indexed': ['Transfer(Address,Address,int,bytes)', 'hx0000000000000000000000000000000000000000', 'cxac3e578fabe6e85fd16e0a56c4aba5e4ef6c5b07', '0x1043561a8829300000'], 'data': ['0x4e6f6e65']} \n",
      "\n",
      "{'scoreAddress': 'cxfd6c291c153448ba0f2e240de4070ed4e66ea806', 'indexed': ['TokenTransfer(Address,int,str)', 'cxac3e578fabe6e85fd16e0a56c4aba5e4ef6c5b07', '0x1043561a8829300000'], 'data': ['300 sICX minted to cxac3e578fabe6e85fd16e0a56c4aba5e4ef6c5b07']} \n",
      "\n",
      "{'scoreAddress': 'cxac3e578fabe6e85fd16e0a56c4aba5e4ef6c5b07', 'indexed': ['CollateralReceived(Address,str,int)', 'hxa9e67162f41c05c651d50d1197fc8596864af801', 'sICX'], 'data': ['0x1043561a8829300000']} \n",
      "\n",
      "{'scoreAddress': 'cxac3e578fabe6e85fd16e0a56c4aba5e4ef6c5b07', 'indexed': ['OriginateLoan(Address,str,int,str)', 'hxa9e67162f41c05c651d50d1197fc8596864af801', 'bnUSD', '0x2b5e3af16b1880000'], 'data': ['Loan of 50000000000000000000 bnUSD from Balanced.']} \n",
      "\n",
      "{'scoreAddress': 'cx76cf21c4fb573d81801b7dccd70b550f10479982', 'indexed': ['Mint(Address,int,bytes)', 'hxa9e67162f41c05c651d50d1197fc8596864af801'], 'data': ['0x2b5e3af16b1880000', '0x4e6f6e65']} \n",
      "\n",
      "{'scoreAddress': 'cx76cf21c4fb573d81801b7dccd70b550f10479982', 'indexed': ['Transfer(Address,Address,int,bytes)', 'hx0000000000000000000000000000000000000000', 'hxa9e67162f41c05c651d50d1197fc8596864af801', '0x2b5e3af16b1880000'], 'data': ['0x4e6f6e65']} \n",
      "\n",
      "{'scoreAddress': 'cx76cf21c4fb573d81801b7dccd70b550f10479982', 'indexed': ['Mint(Address,int,bytes)', 'cx1d0ad8a419e064d9c19c852dff201aaf8e7db64e'], 'data': ['0x6f05b59d3b20000', '0x4e6f6e65']} \n",
      "\n",
      "{'scoreAddress': 'cx76cf21c4fb573d81801b7dccd70b550f10479982', 'indexed': ['Transfer(Address,Address,int,bytes)', 'hx0000000000000000000000000000000000000000', 'cx1d0ad8a419e064d9c19c852dff201aaf8e7db64e', '0x6f05b59d3b20000'], 'data': ['0x4e6f6e65']} \n",
      "\n",
      "{'scoreAddress': 'cx1d0ad8a419e064d9c19c852dff201aaf8e7db64e', 'indexed': ['DividendsReceived(int,str)', '0x6f05b59d3b20000'], 'data': ['500000000000000000 tokens received as dividends token: cx76cf21c4fb573d81801b7dccd70b550f10479982']} \n",
      "\n",
      "{'scoreAddress': 'cxac3e578fabe6e85fd16e0a56c4aba5e4ef6c5b07', 'indexed': ['FeePaid(str,int,str)', 'bnUSD', '0x6f05b59d3b20000', 'origination'], 'data': []} \n",
      "\n",
      "hx7b4dd3efcc72c5e2b210852742593178c210742c\n",
      "------------------------------------------------------------------------------------------------------------------\n",
      "Calling depositAndBorrow, with parameters {'_asset': 'bnUSD', '_amount': 50000000000000000000} on the loans contract.\n",
      "------------------------------------------------------------------------------------------------------------------\n"
     ]
    },
    {
     "name": "stderr",
     "output_type": "stream",
     "text": [
      "Raised JSONRPCException while returning the custom response. Error message: {'code': -32602, 'message': 'Pending transaction'}\n"
     ]
    },
    {
     "name": "stdout",
     "output_type": "stream",
     "text": [
      "Retrying in 1 seconds...\n",
      "************************************************** Status: 1 **************************************************\n",
      "{'scoreAddress': 'cxac3e578fabe6e85fd16e0a56c4aba5e4ef6c5b07', 'indexed': ['ICXTransfer(Address,Address,int)', 'cxac3e578fabe6e85fd16e0a56c4aba5e4ef6c5b07', 'cxfd6c291c153448ba0f2e240de4070ed4e66ea806', '0x1043561a8829300000'], 'data': []} \n",
      "\n",
      "{'scoreAddress': 'cx670fb2edb40949a44300254d9f7600392d6fd9f7', 'indexed': ['Mint(Address,int,bytes)', 'cxac3e578fabe6e85fd16e0a56c4aba5e4ef6c5b07'], 'data': ['0x1043561a8829300000', '0x4e6f6e65']} \n",
      "\n",
      "{'scoreAddress': 'cx670fb2edb40949a44300254d9f7600392d6fd9f7', 'indexed': ['Transfer(Address,Address,int,bytes)', 'hx0000000000000000000000000000000000000000', 'cxac3e578fabe6e85fd16e0a56c4aba5e4ef6c5b07', '0x1043561a8829300000'], 'data': ['0x4e6f6e65']} \n",
      "\n",
      "{'scoreAddress': 'cxfd6c291c153448ba0f2e240de4070ed4e66ea806', 'indexed': ['TokenTransfer(Address,int,str)', 'cxac3e578fabe6e85fd16e0a56c4aba5e4ef6c5b07', '0x1043561a8829300000'], 'data': ['300 sICX minted to cxac3e578fabe6e85fd16e0a56c4aba5e4ef6c5b07']} \n",
      "\n",
      "{'scoreAddress': 'cx7d17124b21d6b06876f37428fbc6b100af4bde32', 'indexed': ['Mint(Address,int,bytes)', 'cx70a08b6d45f0d6b14f1607203b803a0726e1ddeb'], 'data': ['0x152d02c7e14af6800000', '0x4e6f6e65']} \n",
      "\n",
      "{'scoreAddress': 'cx7d17124b21d6b06876f37428fbc6b100af4bde32', 'indexed': ['Transfer(Address,Address,int,bytes)', 'hx0000000000000000000000000000000000000000', 'cx70a08b6d45f0d6b14f1607203b803a0726e1ddeb', '0x152d02c7e14af6800000'], 'data': ['0x4e6f6e65']} \n",
      "\n",
      "{'scoreAddress': 'cx7d17124b21d6b06876f37428fbc6b100af4bde32', 'indexed': ['Transfer(Address,Address,int,bytes)', 'cx70a08b6d45f0d6b14f1607203b803a0726e1ddeb', 'cx966f4be71c5b4253a8539b10df657c1b80f418e5', '0x43c33c1937564800000'], 'data': ['0x4e6f6e65']} \n",
      "\n",
      "{'scoreAddress': 'cx7d17124b21d6b06876f37428fbc6b100af4bde32', 'indexed': ['Transfer(Address,Address,int,bytes)', 'cx70a08b6d45f0d6b14f1607203b803a0726e1ddeb', 'cx075a56b059e3d531aac7ed1f44b6d9cc1abcc884', '0x10f0cf064dd59200000'], 'data': ['0x4e6f6e65']} \n",
      "\n",
      "{'scoreAddress': 'cx7d17124b21d6b06876f37428fbc6b100af4bde32', 'indexed': ['Transfer(Address,Address,int,bytes)', 'cx70a08b6d45f0d6b14f1607203b803a0726e1ddeb', 'cxb8f2d7c28362d7336d5da58f3a8b6869987d3b78', '0x878678326eac9000000'], 'data': ['0x4e6f6e65']} \n",
      "\n",
      "{'scoreAddress': 'cxac3e578fabe6e85fd16e0a56c4aba5e4ef6c5b07', 'indexed': ['CollateralReceived(Address,str,int)', 'hx7b4dd3efcc72c5e2b210852742593178c210742c', 'sICX'], 'data': ['0x1043561a8829300000']} \n",
      "\n",
      "{'scoreAddress': 'cxac3e578fabe6e85fd16e0a56c4aba5e4ef6c5b07', 'indexed': ['OriginateLoan(Address,str,int,str)', 'hx7b4dd3efcc72c5e2b210852742593178c210742c', 'bnUSD', '0x2b5e3af16b1880000'], 'data': ['Loan of 50000000000000000000 bnUSD from Balanced.']} \n",
      "\n",
      "{'scoreAddress': 'cx76cf21c4fb573d81801b7dccd70b550f10479982', 'indexed': ['Mint(Address,int,bytes)', 'hx7b4dd3efcc72c5e2b210852742593178c210742c'], 'data': ['0x2b5e3af16b1880000', '0x4e6f6e65']} \n",
      "\n",
      "{'scoreAddress': 'cx76cf21c4fb573d81801b7dccd70b550f10479982', 'indexed': ['Transfer(Address,Address,int,bytes)', 'hx0000000000000000000000000000000000000000', 'hx7b4dd3efcc72c5e2b210852742593178c210742c', '0x2b5e3af16b1880000'], 'data': ['0x4e6f6e65']} \n",
      "\n",
      "{'scoreAddress': 'cx76cf21c4fb573d81801b7dccd70b550f10479982', 'indexed': ['Mint(Address,int,bytes)', 'cx1d0ad8a419e064d9c19c852dff201aaf8e7db64e'], 'data': ['0x6f05b59d3b20000', '0x4e6f6e65']} \n",
      "\n",
      "{'scoreAddress': 'cx76cf21c4fb573d81801b7dccd70b550f10479982', 'indexed': ['Transfer(Address,Address,int,bytes)', 'hx0000000000000000000000000000000000000000', 'cx1d0ad8a419e064d9c19c852dff201aaf8e7db64e', '0x6f05b59d3b20000'], 'data': ['0x4e6f6e65']} \n",
      "\n",
      "{'scoreAddress': 'cx1d0ad8a419e064d9c19c852dff201aaf8e7db64e', 'indexed': ['DividendsReceived(int,str)', '0x6f05b59d3b20000'], 'data': ['500000000000000000 tokens received as dividends token: cx76cf21c4fb573d81801b7dccd70b550f10479982']} \n",
      "\n",
      "{'scoreAddress': 'cxac3e578fabe6e85fd16e0a56c4aba5e4ef6c5b07', 'indexed': ['FeePaid(str,int,str)', 'bnUSD', '0x6f05b59d3b20000', 'origination'], 'data': []} \n",
      "\n",
      "hx22722df8f35ddbe40954cb4496619ae932a4ac3b\n",
      "------------------------------------------------------------------------------------------------------------------\n",
      "Calling depositAndBorrow, with parameters {'_asset': 'bnUSD', '_amount': 50000000000000000000} on the loans contract.\n",
      "------------------------------------------------------------------------------------------------------------------\n",
      "************************************************** Status: 1 **************************************************\n",
      "{'scoreAddress': 'cxac3e578fabe6e85fd16e0a56c4aba5e4ef6c5b07', 'indexed': ['ICXTransfer(Address,Address,int)', 'cxac3e578fabe6e85fd16e0a56c4aba5e4ef6c5b07', 'cxfd6c291c153448ba0f2e240de4070ed4e66ea806', '0x1043561a8829300000'], 'data': []} \n",
      "\n",
      "{'scoreAddress': 'cx670fb2edb40949a44300254d9f7600392d6fd9f7', 'indexed': ['Mint(Address,int,bytes)', 'cxac3e578fabe6e85fd16e0a56c4aba5e4ef6c5b07'], 'data': ['0x1043561a8829300000', '0x4e6f6e65']} \n",
      "\n",
      "{'scoreAddress': 'cx670fb2edb40949a44300254d9f7600392d6fd9f7', 'indexed': ['Transfer(Address,Address,int,bytes)', 'hx0000000000000000000000000000000000000000', 'cxac3e578fabe6e85fd16e0a56c4aba5e4ef6c5b07', '0x1043561a8829300000'], 'data': ['0x4e6f6e65']} \n",
      "\n",
      "{'scoreAddress': 'cxfd6c291c153448ba0f2e240de4070ed4e66ea806', 'indexed': ['TokenTransfer(Address,int,str)', 'cxac3e578fabe6e85fd16e0a56c4aba5e4ef6c5b07', '0x1043561a8829300000'], 'data': ['300 sICX minted to cxac3e578fabe6e85fd16e0a56c4aba5e4ef6c5b07']} \n",
      "\n",
      "{'scoreAddress': 'cx7d17124b21d6b06876f37428fbc6b100af4bde32', 'indexed': ['Mint(Address,int,bytes)', 'cx70a08b6d45f0d6b14f1607203b803a0726e1ddeb'], 'data': ['0x152d02c7e14af6800000', '0x4e6f6e65']} \n",
      "\n",
      "{'scoreAddress': 'cx7d17124b21d6b06876f37428fbc6b100af4bde32', 'indexed': ['Transfer(Address,Address,int,bytes)', 'hx0000000000000000000000000000000000000000', 'cx70a08b6d45f0d6b14f1607203b803a0726e1ddeb', '0x152d02c7e14af6800000'], 'data': ['0x4e6f6e65']} \n",
      "\n",
      "{'scoreAddress': 'cx7d17124b21d6b06876f37428fbc6b100af4bde32', 'indexed': ['Transfer(Address,Address,int,bytes)', 'cx70a08b6d45f0d6b14f1607203b803a0726e1ddeb', 'cx966f4be71c5b4253a8539b10df657c1b80f418e5', '0x43c33c1937564800000'], 'data': ['0x4e6f6e65']} \n",
      "\n",
      "{'scoreAddress': 'cx7d17124b21d6b06876f37428fbc6b100af4bde32', 'indexed': ['Transfer(Address,Address,int,bytes)', 'cx70a08b6d45f0d6b14f1607203b803a0726e1ddeb', 'cx075a56b059e3d531aac7ed1f44b6d9cc1abcc884', '0x10f0cf064dd59200000'], 'data': ['0x4e6f6e65']} \n",
      "\n",
      "{'scoreAddress': 'cx7d17124b21d6b06876f37428fbc6b100af4bde32', 'indexed': ['Transfer(Address,Address,int,bytes)', 'cx70a08b6d45f0d6b14f1607203b803a0726e1ddeb', 'cxb8f2d7c28362d7336d5da58f3a8b6869987d3b78', '0x878678326eac9000000'], 'data': ['0x4e6f6e65']} \n",
      "\n",
      "{'scoreAddress': 'cxac3e578fabe6e85fd16e0a56c4aba5e4ef6c5b07', 'indexed': ['CollateralReceived(Address,str,int)', 'hx22722df8f35ddbe40954cb4496619ae932a4ac3b', 'sICX'], 'data': ['0x1043561a8829300000']} \n",
      "\n",
      "{'scoreAddress': 'cxac3e578fabe6e85fd16e0a56c4aba5e4ef6c5b07', 'indexed': ['OriginateLoan(Address,str,int,str)', 'hx22722df8f35ddbe40954cb4496619ae932a4ac3b', 'bnUSD', '0x2b5e3af16b1880000'], 'data': ['Loan of 50000000000000000000 bnUSD from Balanced.']} \n",
      "\n",
      "{'scoreAddress': 'cx76cf21c4fb573d81801b7dccd70b550f10479982', 'indexed': ['Mint(Address,int,bytes)', 'hx22722df8f35ddbe40954cb4496619ae932a4ac3b'], 'data': ['0x2b5e3af16b1880000', '0x4e6f6e65']} \n",
      "\n",
      "{'scoreAddress': 'cx76cf21c4fb573d81801b7dccd70b550f10479982', 'indexed': ['Transfer(Address,Address,int,bytes)', 'hx0000000000000000000000000000000000000000', 'hx22722df8f35ddbe40954cb4496619ae932a4ac3b', '0x2b5e3af16b1880000'], 'data': ['0x4e6f6e65']} \n",
      "\n",
      "{'scoreAddress': 'cx76cf21c4fb573d81801b7dccd70b550f10479982', 'indexed': ['Mint(Address,int,bytes)', 'cx1d0ad8a419e064d9c19c852dff201aaf8e7db64e'], 'data': ['0x6f05b59d3b20000', '0x4e6f6e65']} \n",
      "\n",
      "{'scoreAddress': 'cx76cf21c4fb573d81801b7dccd70b550f10479982', 'indexed': ['Transfer(Address,Address,int,bytes)', 'hx0000000000000000000000000000000000000000', 'cx1d0ad8a419e064d9c19c852dff201aaf8e7db64e', '0x6f05b59d3b20000'], 'data': ['0x4e6f6e65']} \n",
      "\n",
      "{'scoreAddress': 'cx1d0ad8a419e064d9c19c852dff201aaf8e7db64e', 'indexed': ['DividendsReceived(int,str)', '0x6f05b59d3b20000'], 'data': ['500000000000000000 tokens received as dividends token: cx76cf21c4fb573d81801b7dccd70b550f10479982']} \n",
      "\n",
      "{'scoreAddress': 'cxac3e578fabe6e85fd16e0a56c4aba5e4ef6c5b07', 'indexed': ['FeePaid(str,int,str)', 'bnUSD', '0x6f05b59d3b20000', 'origination'], 'data': []} \n",
      "\n",
      "hxe6645482385915b2329f444f59abf49fe5024bd7\n",
      "------------------------------------------------------------------------------------------------------------------\n",
      "Calling depositAndBorrow, with parameters {'_asset': 'bnUSD', '_amount': 50000000000000000000} on the loans contract.\n",
      "------------------------------------------------------------------------------------------------------------------\n"
     ]
    },
    {
     "name": "stderr",
     "output_type": "stream",
     "text": [
      "Raised JSONRPCException while returning the custom response. Error message: {'code': -32602, 'message': 'Pending transaction'}\n"
     ]
    },
    {
     "name": "stdout",
     "output_type": "stream",
     "text": [
      "Retrying in 1 seconds...\n",
      "************************************************** Status: 1 **************************************************\n",
      "{'scoreAddress': 'cxac3e578fabe6e85fd16e0a56c4aba5e4ef6c5b07', 'indexed': ['ICXTransfer(Address,Address,int)', 'cxac3e578fabe6e85fd16e0a56c4aba5e4ef6c5b07', 'cxfd6c291c153448ba0f2e240de4070ed4e66ea806', '0x1043561a8829300000'], 'data': []} \n",
      "\n",
      "{'scoreAddress': 'cx670fb2edb40949a44300254d9f7600392d6fd9f7', 'indexed': ['Mint(Address,int,bytes)', 'cxac3e578fabe6e85fd16e0a56c4aba5e4ef6c5b07'], 'data': ['0x1043561a8829300000', '0x4e6f6e65']} \n",
      "\n",
      "{'scoreAddress': 'cx670fb2edb40949a44300254d9f7600392d6fd9f7', 'indexed': ['Transfer(Address,Address,int,bytes)', 'hx0000000000000000000000000000000000000000', 'cxac3e578fabe6e85fd16e0a56c4aba5e4ef6c5b07', '0x1043561a8829300000'], 'data': ['0x4e6f6e65']} \n",
      "\n",
      "{'scoreAddress': 'cxfd6c291c153448ba0f2e240de4070ed4e66ea806', 'indexed': ['TokenTransfer(Address,int,str)', 'cxac3e578fabe6e85fd16e0a56c4aba5e4ef6c5b07', '0x1043561a8829300000'], 'data': ['300 sICX minted to cxac3e578fabe6e85fd16e0a56c4aba5e4ef6c5b07']} \n",
      "\n",
      "{'scoreAddress': 'cx7d17124b21d6b06876f37428fbc6b100af4bde32', 'indexed': ['Mint(Address,int,bytes)', 'cx70a08b6d45f0d6b14f1607203b803a0726e1ddeb'], 'data': ['0x152d02c7e14af6800000', '0x4e6f6e65']} \n",
      "\n",
      "{'scoreAddress': 'cx7d17124b21d6b06876f37428fbc6b100af4bde32', 'indexed': ['Transfer(Address,Address,int,bytes)', 'hx0000000000000000000000000000000000000000', 'cx70a08b6d45f0d6b14f1607203b803a0726e1ddeb', '0x152d02c7e14af6800000'], 'data': ['0x4e6f6e65']} \n",
      "\n",
      "{'scoreAddress': 'cx7d17124b21d6b06876f37428fbc6b100af4bde32', 'indexed': ['Transfer(Address,Address,int,bytes)', 'cx70a08b6d45f0d6b14f1607203b803a0726e1ddeb', 'cx966f4be71c5b4253a8539b10df657c1b80f418e5', '0x43c33c1937564800000'], 'data': ['0x4e6f6e65']} \n",
      "\n",
      "{'scoreAddress': 'cx7d17124b21d6b06876f37428fbc6b100af4bde32', 'indexed': ['Transfer(Address,Address,int,bytes)', 'cx70a08b6d45f0d6b14f1607203b803a0726e1ddeb', 'cx075a56b059e3d531aac7ed1f44b6d9cc1abcc884', '0x10f0cf064dd59200000'], 'data': ['0x4e6f6e65']} \n",
      "\n",
      "{'scoreAddress': 'cx7d17124b21d6b06876f37428fbc6b100af4bde32', 'indexed': ['Transfer(Address,Address,int,bytes)', 'cx70a08b6d45f0d6b14f1607203b803a0726e1ddeb', 'cxb8f2d7c28362d7336d5da58f3a8b6869987d3b78', '0x878678326eac9000000'], 'data': ['0x4e6f6e65']} \n",
      "\n",
      "{'scoreAddress': 'cxac3e578fabe6e85fd16e0a56c4aba5e4ef6c5b07', 'indexed': ['CollateralReceived(Address,str,int)', 'hxe6645482385915b2329f444f59abf49fe5024bd7', 'sICX'], 'data': ['0x1043561a8829300000']} \n",
      "\n",
      "{'scoreAddress': 'cxac3e578fabe6e85fd16e0a56c4aba5e4ef6c5b07', 'indexed': ['OriginateLoan(Address,str,int,str)', 'hxe6645482385915b2329f444f59abf49fe5024bd7', 'bnUSD', '0x2b5e3af16b1880000'], 'data': ['Loan of 50000000000000000000 bnUSD from Balanced.']} \n",
      "\n",
      "{'scoreAddress': 'cx76cf21c4fb573d81801b7dccd70b550f10479982', 'indexed': ['Mint(Address,int,bytes)', 'hxe6645482385915b2329f444f59abf49fe5024bd7'], 'data': ['0x2b5e3af16b1880000', '0x4e6f6e65']} \n",
      "\n",
      "{'scoreAddress': 'cx76cf21c4fb573d81801b7dccd70b550f10479982', 'indexed': ['Transfer(Address,Address,int,bytes)', 'hx0000000000000000000000000000000000000000', 'hxe6645482385915b2329f444f59abf49fe5024bd7', '0x2b5e3af16b1880000'], 'data': ['0x4e6f6e65']} \n",
      "\n",
      "{'scoreAddress': 'cx76cf21c4fb573d81801b7dccd70b550f10479982', 'indexed': ['Mint(Address,int,bytes)', 'cx1d0ad8a419e064d9c19c852dff201aaf8e7db64e'], 'data': ['0x6f05b59d3b20000', '0x4e6f6e65']} \n",
      "\n",
      "{'scoreAddress': 'cx76cf21c4fb573d81801b7dccd70b550f10479982', 'indexed': ['Transfer(Address,Address,int,bytes)', 'hx0000000000000000000000000000000000000000', 'cx1d0ad8a419e064d9c19c852dff201aaf8e7db64e', '0x6f05b59d3b20000'], 'data': ['0x4e6f6e65']} \n",
      "\n",
      "{'scoreAddress': 'cx1d0ad8a419e064d9c19c852dff201aaf8e7db64e', 'indexed': ['DividendsReceived(int,str)', '0x6f05b59d3b20000'], 'data': ['500000000000000000 tokens received as dividends token: cx76cf21c4fb573d81801b7dccd70b550f10479982']} \n",
      "\n",
      "{'scoreAddress': 'cxac3e578fabe6e85fd16e0a56c4aba5e4ef6c5b07', 'indexed': ['FeePaid(str,int,str)', 'bnUSD', '0x6f05b59d3b20000', 'origination'], 'data': []} \n",
      "\n"
     ]
    }
   ],
   "source": [
    "for dict in data:\n",
    "    for items in dict.items():\n",
    "        print(items[0])\n",
    "        send_tx('loans', 300*ICX, 'depositAndBorrow', {'_asset': 'bnUSD', '_amount': 50* ICX}, KeyWallet.load(bytes.fromhex(items[1])))\n"
   ]
  },
  {
   "cell_type": "code",
   "execution_count": 103,
   "metadata": {},
   "outputs": [
    {
     "name": "stdout",
     "output_type": "stream",
     "text": [
      "------------------------------------------------------------------------------------------------------------------\n",
      "Calling depositAndBorrow, with parameters {'_asset': 'bnUSD', '_amount': 50000000000000000000} on the loans contract.\n",
      "------------------------------------------------------------------------------------------------------------------\n"
     ]
    },
    {
     "name": "stderr",
     "output_type": "stream",
     "text": [
      "Raised JSONRPCException while returning the custom response. Error message: {'code': -32602, 'message': 'Pending transaction'}\n"
     ]
    },
    {
     "name": "stdout",
     "output_type": "stream",
     "text": [
      "Retrying in 1 seconds...\n",
      "************************************************** Status: 1 **************************************************\n",
      "{'scoreAddress': 'cx21dcfb066413047fc8a05d1ed0496c8341cb9d00', 'indexed': ['ICXTransfer(Address,Address,int)', 'cx21dcfb066413047fc8a05d1ed0496c8341cb9d00', 'cx10404e91d3306c2739b05f14581e9a84f63fe08b', '0x1b1ae4d6e2ef500000'], 'data': []} \n",
      "\n",
      "{'scoreAddress': 'cxf4a2e3410e095de77993263166b1b0ca7c7b012b', 'indexed': ['Mint(Address,int,bytes)', 'cx21dcfb066413047fc8a05d1ed0496c8341cb9d00'], 'data': ['0x1b1ae4d6e2ef500000', '0x4e6f6e65']} \n",
      "\n",
      "{'scoreAddress': 'cxf4a2e3410e095de77993263166b1b0ca7c7b012b', 'indexed': ['Transfer(Address,Address,int,bytes)', 'hx0000000000000000000000000000000000000000', 'cx21dcfb066413047fc8a05d1ed0496c8341cb9d00', '0x1b1ae4d6e2ef500000'], 'data': ['0x4e6f6e65']} \n",
      "\n",
      "{'scoreAddress': 'cx10404e91d3306c2739b05f14581e9a84f63fe08b', 'indexed': ['TokenTransfer(Address,int,str)', 'cx21dcfb066413047fc8a05d1ed0496c8341cb9d00', '0x1b1ae4d6e2ef500000'], 'data': ['500 sICX minted to cx21dcfb066413047fc8a05d1ed0496c8341cb9d00']} \n",
      "\n",
      "{'scoreAddress': 'cx21dcfb066413047fc8a05d1ed0496c8341cb9d00', 'indexed': ['CollateralReceived(Address,str,int)', 'hx3f01840a599da07b0f620eeae7aa9c574169a4be', 'sICX'], 'data': ['0x1b1ae4d6e2ef500000']} \n",
      "\n",
      "{'scoreAddress': 'cx21dcfb066413047fc8a05d1ed0496c8341cb9d00', 'indexed': ['OriginateLoan(Address,str,int,str)', 'hx3f01840a599da07b0f620eeae7aa9c574169a4be', 'bnUSD', '0x2b5e3af16b1880000'], 'data': ['Loan of 50000000000000000000 bnUSD from Balanced.']} \n",
      "\n",
      "{'scoreAddress': 'cxeee8cc92607667cf9bd18ebd91ca4ace74a096d9', 'indexed': ['Mint(Address,int,bytes)', 'hx3f01840a599da07b0f620eeae7aa9c574169a4be'], 'data': ['0x2b5e3af16b1880000', '0x4e6f6e65']} \n",
      "\n",
      "{'scoreAddress': 'cxeee8cc92607667cf9bd18ebd91ca4ace74a096d9', 'indexed': ['Transfer(Address,Address,int,bytes)', 'hx0000000000000000000000000000000000000000', 'hx3f01840a599da07b0f620eeae7aa9c574169a4be', '0x2b5e3af16b1880000'], 'data': ['0x4e6f6e65']} \n",
      "\n",
      "{'scoreAddress': 'cxeee8cc92607667cf9bd18ebd91ca4ace74a096d9', 'indexed': ['Mint(Address,int,bytes)', 'cx3ea84bd543756796d1ec899d3ad3c7a31a4fbb5a'], 'data': ['0x6f05b59d3b20000', '0x4e6f6e65']} \n",
      "\n",
      "{'scoreAddress': 'cxeee8cc92607667cf9bd18ebd91ca4ace74a096d9', 'indexed': ['Transfer(Address,Address,int,bytes)', 'hx0000000000000000000000000000000000000000', 'cx3ea84bd543756796d1ec899d3ad3c7a31a4fbb5a', '0x6f05b59d3b20000'], 'data': ['0x4e6f6e65']} \n",
      "\n",
      "{'scoreAddress': 'cx3ea84bd543756796d1ec899d3ad3c7a31a4fbb5a', 'indexed': ['DividendsReceived(int,str)', '0x6f05b59d3b20000'], 'data': ['500000000000000000 tokens received as dividends token: cxeee8cc92607667cf9bd18ebd91ca4ace74a096d9']} \n",
      "\n",
      "{'scoreAddress': 'cx21dcfb066413047fc8a05d1ed0496c8341cb9d00', 'indexed': ['FeePaid(str,int,str)', 'bnUSD', '0x6f05b59d3b20000', 'origination'], 'data': []} \n",
      "\n"
     ]
    },
    {
     "data": {
      "text/plain": [
       "{'txHash': '0xb285a52bb618a0c0184be3ae6c46f2b3021d6028230064d2c044536018a9b7b1',\n",
       " 'blockHeight': 561458,\n",
       " 'blockHash': '0x0eb270a76beec5f45eb412d8ac98919ba27857813b90898f13f2ce2f0df28cd4',\n",
       " 'txIndex': 1,\n",
       " 'to': 'cx21dcfb066413047fc8a05d1ed0496c8341cb9d00',\n",
       " 'stepUsed': 772400,\n",
       " 'stepPrice': 10000000000,\n",
       " 'cumulativeStepUsed': 772400,\n",
       " 'eventLogs': [{'scoreAddress': 'cx21dcfb066413047fc8a05d1ed0496c8341cb9d00',\n",
       "   'indexed': ['ICXTransfer(Address,Address,int)',\n",
       "    'cx21dcfb066413047fc8a05d1ed0496c8341cb9d00',\n",
       "    'cx10404e91d3306c2739b05f14581e9a84f63fe08b',\n",
       "    '0x1b1ae4d6e2ef500000'],\n",
       "   'data': []},\n",
       "  {'scoreAddress': 'cxf4a2e3410e095de77993263166b1b0ca7c7b012b',\n",
       "   'indexed': ['Mint(Address,int,bytes)',\n",
       "    'cx21dcfb066413047fc8a05d1ed0496c8341cb9d00'],\n",
       "   'data': ['0x1b1ae4d6e2ef500000', '0x4e6f6e65']},\n",
       "  {'scoreAddress': 'cxf4a2e3410e095de77993263166b1b0ca7c7b012b',\n",
       "   'indexed': ['Transfer(Address,Address,int,bytes)',\n",
       "    'hx0000000000000000000000000000000000000000',\n",
       "    'cx21dcfb066413047fc8a05d1ed0496c8341cb9d00',\n",
       "    '0x1b1ae4d6e2ef500000'],\n",
       "   'data': ['0x4e6f6e65']},\n",
       "  {'scoreAddress': 'cx10404e91d3306c2739b05f14581e9a84f63fe08b',\n",
       "   'indexed': ['TokenTransfer(Address,int,str)',\n",
       "    'cx21dcfb066413047fc8a05d1ed0496c8341cb9d00',\n",
       "    '0x1b1ae4d6e2ef500000'],\n",
       "   'data': ['500 sICX minted to cx21dcfb066413047fc8a05d1ed0496c8341cb9d00']},\n",
       "  {'scoreAddress': 'cx21dcfb066413047fc8a05d1ed0496c8341cb9d00',\n",
       "   'indexed': ['CollateralReceived(Address,str,int)',\n",
       "    'hx3f01840a599da07b0f620eeae7aa9c574169a4be',\n",
       "    'sICX'],\n",
       "   'data': ['0x1b1ae4d6e2ef500000']},\n",
       "  {'scoreAddress': 'cx21dcfb066413047fc8a05d1ed0496c8341cb9d00',\n",
       "   'indexed': ['OriginateLoan(Address,str,int,str)',\n",
       "    'hx3f01840a599da07b0f620eeae7aa9c574169a4be',\n",
       "    'bnUSD',\n",
       "    '0x2b5e3af16b1880000'],\n",
       "   'data': ['Loan of 50000000000000000000 bnUSD from Balanced.']},\n",
       "  {'scoreAddress': 'cxeee8cc92607667cf9bd18ebd91ca4ace74a096d9',\n",
       "   'indexed': ['Mint(Address,int,bytes)',\n",
       "    'hx3f01840a599da07b0f620eeae7aa9c574169a4be'],\n",
       "   'data': ['0x2b5e3af16b1880000', '0x4e6f6e65']},\n",
       "  {'scoreAddress': 'cxeee8cc92607667cf9bd18ebd91ca4ace74a096d9',\n",
       "   'indexed': ['Transfer(Address,Address,int,bytes)',\n",
       "    'hx0000000000000000000000000000000000000000',\n",
       "    'hx3f01840a599da07b0f620eeae7aa9c574169a4be',\n",
       "    '0x2b5e3af16b1880000'],\n",
       "   'data': ['0x4e6f6e65']},\n",
       "  {'scoreAddress': 'cxeee8cc92607667cf9bd18ebd91ca4ace74a096d9',\n",
       "   'indexed': ['Mint(Address,int,bytes)',\n",
       "    'cx3ea84bd543756796d1ec899d3ad3c7a31a4fbb5a'],\n",
       "   'data': ['0x6f05b59d3b20000', '0x4e6f6e65']},\n",
       "  {'scoreAddress': 'cxeee8cc92607667cf9bd18ebd91ca4ace74a096d9',\n",
       "   'indexed': ['Transfer(Address,Address,int,bytes)',\n",
       "    'hx0000000000000000000000000000000000000000',\n",
       "    'cx3ea84bd543756796d1ec899d3ad3c7a31a4fbb5a',\n",
       "    '0x6f05b59d3b20000'],\n",
       "   'data': ['0x4e6f6e65']},\n",
       "  {'scoreAddress': 'cx3ea84bd543756796d1ec899d3ad3c7a31a4fbb5a',\n",
       "   'indexed': ['DividendsReceived(int,str)', '0x6f05b59d3b20000'],\n",
       "   'data': ['500000000000000000 tokens received as dividends token: cxeee8cc92607667cf9bd18ebd91ca4ace74a096d9']},\n",
       "  {'scoreAddress': 'cx21dcfb066413047fc8a05d1ed0496c8341cb9d00',\n",
       "   'indexed': ['FeePaid(str,int,str)',\n",
       "    'bnUSD',\n",
       "    '0x6f05b59d3b20000',\n",
       "    'origination'],\n",
       "   'data': []}],\n",
       " 'logsBloom': b'\\x00\\x00\\x10\\x00\\x00\\x00\\x00\\x00B\\x00\\x00!\\x00\\x00\\x00\\x00\\x10\\x00\\x00\\x10\\x00\\x00\\x00\\x00\\x00\\x01\\x00\\x08\\x00\\x00\\x00 \\x00\\x00\\x00\\x00\\x00\\x00\\x00\\x00\\x00\\x01@\\x00\\x00\\x00\\x00\\x08\\x00\\x00\\x00\\x00\\x00\\x01\\x00\\x08\\x00\\x02\\x08\\x01\\x00\\x00\\x00 \\x80\\x10\\x00\\x00\\x00\\x08\\x10\\x00\\x00\\x00\\x002\\x00\\x00\\x10\\x00\\x10\\x10\\x00\\x00\\x00\\x02\\x80\\x00\\x00\\x00\\x00\\x08\\x00\\x00\\x00\\x00\\x00\\x00\\x08\\x01\\x00\\x00\\x00\\x00\\x00\\x03\\x00\\x04\\x80\\x08\\x90\\x80\\x01\\x02\\x01\\x00\\x00\\x04\\x00\\x04\\x00\\x18\\x00\\x00\\x00\\x00\\x01\\x00 \\x00\\x00\\x00\\x00 \\x00\\x00\\x00\\x10\\x00\\x00\\x00\\x00\\x00\\x00@ \\x12\\x00\\x00\\x01\\x00\\x00\\x00\\x00\\x00 \\x00\\x10\\x00\\x00\\x00\\x00\\x02\\x00@\\x00\\x08\\x81\\x00\\x00\\x00\\x00\\x00\\x00\\x00\\x0c\\x00\\x01\\x00\\x00\\x00\\x04\\x00@\\x00\\x00\\x00\\x00\\x00\\x00\\x10\\x00\\x01\\x00\\x08B\\x00\\x02\\x00\\x00\\x00\\x04\\x02\\x00\\x04\\x00 \\x00\\x00\\x00\\x00\\x00\\x10A\\x00\\x00\\x00\\x02\\x00\\x00\\x01\\x00\\x00\\x00\\x00\\x00\\x00\\x00\\x00\\x00\\x00\\x10\\x00\\x02\\x00\\x00\\x00\\x00\\x00\\x00\\x00\\x00\\x00\\xa0\\x00\\x00\\x00\\x00\\x10\\x00\\x00\\x00\\x00\\x08\\x00\\x00',\n",
       " 'status': 1}"
      ]
     },
     "execution_count": 103,
     "metadata": {},
     "output_type": "execute_result"
    }
   ],
   "source": [
    "send_tx('loans', 500*ICX, 'depositAndBorrow', {'_asset': 'bnUSD', '_amount': 50* ICX}, btest_wallet)\n"
   ]
  },
  {
   "cell_type": "code",
   "execution_count": 146,
   "metadata": {},
   "outputs": [
    {
     "name": "stdout",
     "output_type": "stream",
     "text": [
      "hxc92735c9a954399c2fb722ae28bf22a10e27491e\n",
      "------------------------------------------------------------------------------------------------------------------\n",
      "Reading getAccountPositions, with parameters {'_owner': 'hxc92735c9a954399c2fb722ae28bf22a10e27491e'} on the loans contract.\n",
      "------------------------------------------------------------------------------------------------------------------\n",
      "{'pos_id': '0x1', 'created': '0x5c12d8d0266f7', 'address': 'hxc92735c9a954399c2fb722ae28bf22a10e27491e', 'snap_id': '0xf5', 'snaps_length': '0x1', 'last_snap': '0xf5', 'first day': '0xf5', 'assets': {'sICX': '0x1043561a8829300000', 'bnUSD': '0x2bcd40a70853a0000'}, 'total_debt': '0x1a3107502244a0ee3', 'collateral': '0x1043561a8829300000', 'ratio': '0x89dfa3baa1c89284', 'standing': 'Mining'}\n",
      "hxa9e67162f41c05c651d50d1197fc8596864af801\n",
      "------------------------------------------------------------------------------------------------------------------\n",
      "Reading getAccountPositions, with parameters {'_owner': 'hxa9e67162f41c05c651d50d1197fc8596864af801'} on the loans contract.\n",
      "------------------------------------------------------------------------------------------------------------------\n",
      "{'pos_id': '0x2', 'created': '0x5c12d8d20eee1', 'address': 'hxa9e67162f41c05c651d50d1197fc8596864af801', 'snap_id': '0xf5', 'snaps_length': '0x1', 'last_snap': '0xf5', 'first day': '0xf5', 'assets': {'sICX': '0x1043561a8829300000', 'bnUSD': '0x2bcd40a70853a0000'}, 'total_debt': '0x1a3107502244a0ee3', 'collateral': '0x1043561a8829300000', 'ratio': '0x89dfa3baa1c89284', 'standing': 'Mining'}\n",
      "hx7b4dd3efcc72c5e2b210852742593178c210742c\n",
      "------------------------------------------------------------------------------------------------------------------\n",
      "Reading getAccountPositions, with parameters {'_owner': 'hx7b4dd3efcc72c5e2b210852742593178c210742c'} on the loans contract.\n",
      "------------------------------------------------------------------------------------------------------------------\n",
      "{'pos_id': '0x3', 'created': '0x5c12d8d3f7600', 'address': 'hx7b4dd3efcc72c5e2b210852742593178c210742c', 'snap_id': '0xf5', 'snaps_length': '0x1', 'last_snap': '0xf5', 'first day': '0xf5', 'assets': {'sICX': '0x1043561a8829300000', 'bnUSD': '0x2bcd40a70853a0000'}, 'total_debt': '0x1a3107502244a0ee3', 'collateral': '0x1043561a8829300000', 'ratio': '0x89dfa3baa1c89284', 'standing': 'Mining'}\n",
      "hx22722df8f35ddbe40954cb4496619ae932a4ac3b\n",
      "------------------------------------------------------------------------------------------------------------------\n",
      "Reading getAccountPositions, with parameters {'_owner': 'hx22722df8f35ddbe40954cb4496619ae932a4ac3b'} on the loans contract.\n",
      "------------------------------------------------------------------------------------------------------------------\n",
      "{'pos_id': '0x4', 'created': '0x5c12d8d5dfea3', 'address': 'hx22722df8f35ddbe40954cb4496619ae932a4ac3b', 'snap_id': '0xf5', 'snaps_length': '0x1', 'last_snap': '0xf5', 'first day': '0xf5', 'assets': {'sICX': '0x1043561a8829300000', 'bnUSD': '0x2bcd40a70853a0000'}, 'total_debt': '0x1a3107502244a0ee3', 'collateral': '0x1043561a8829300000', 'ratio': '0x89dfa3baa1c89284', 'standing': 'Mining'}\n",
      "hxe6645482385915b2329f444f59abf49fe5024bd7\n",
      "------------------------------------------------------------------------------------------------------------------\n",
      "Reading getAccountPositions, with parameters {'_owner': 'hxe6645482385915b2329f444f59abf49fe5024bd7'} on the loans contract.\n",
      "------------------------------------------------------------------------------------------------------------------\n",
      "{'pos_id': '0x5', 'created': '0x5c12d8d7c881a', 'address': 'hxe6645482385915b2329f444f59abf49fe5024bd7', 'snap_id': '0xf5', 'snaps_length': '0x1', 'last_snap': '0xf5', 'first day': '0xf5', 'assets': {'sICX': '0x1043561a8829300000', 'bnUSD': '0x2bcd40a70853a0000'}, 'total_debt': '0x1a3107502244a0ee3', 'collateral': '0x1043561a8829300000', 'ratio': '0x89dfa3baa1c89284', 'standing': 'Mining'}\n"
     ]
    }
   ],
   "source": [
    "for dict in data:\n",
    "    for items in dict.items():\n",
    "        print(items[0])\n",
    "        call_tx('loans', 'getAccountPositions', {'_owner': items[0]})\n"
   ]
  },
  {
   "cell_type": "code",
   "execution_count": 140,
   "metadata": {},
   "outputs": [
    {
     "name": "stdout",
     "output_type": "stream",
     "text": [
      "------------------------------------------------------------------------------------------------------------------\n",
      "Reading getAccountPositions, with parameters {'_owner': 'hx3f01840a599da07b0f620eeae7aa9c574169a4be'} on the loans contract.\n",
      "------------------------------------------------------------------------------------------------------------------\n",
      "{'message': 'That address has no outstanding loans or deposited collateral.'}\n"
     ]
    },
    {
     "data": {
      "text/plain": [
       "{'message': 'That address has no outstanding loans or deposited collateral.'}"
      ]
     },
     "execution_count": 140,
     "metadata": {},
     "output_type": "execute_result"
    }
   ],
   "source": [
    "call_tx('loans', 'getAccountPositions', {'_owner': btest_wallet.get_address()})\n"
   ]
  },
  {
   "cell_type": "code",
   "execution_count": 151,
   "metadata": {},
   "outputs": [
    {
     "data": {
      "text/plain": [
       "{'hxc92735c9a954399c2fb722ae28bf22a10e27491e': '0x0',\n",
       " 'hxa9e67162f41c05c651d50d1197fc8596864af801': '0x0',\n",
       " 'hx7b4dd3efcc72c5e2b210852742593178c210742c': '0x0',\n",
       " 'hx22722df8f35ddbe40954cb4496619ae932a4ac3b': '0x0',\n",
       " 'hxe6645482385915b2329f444f59abf49fe5024bd7': '0x0'}"
      ]
     },
     "execution_count": 151,
     "metadata": {},
     "output_type": "execute_result"
    }
   ],
   "source": [
    "wallets = []\n",
    "for dict in data:\n",
    "    for items in dict.items():\n",
    "        wallets.append(items[0])\n",
    "params = {'_holders': wallets}\n",
    "call = CallBuilder().from_(wallet.get_address())\\\n",
    "                    .to(contracts['rewards']['SCORE'])\\\n",
    "                    .method(\"getBalnHoldings\")\\\n",
    "                    .params(params)\\\n",
    "                    .build()\n",
    "result = icon_service.call(call)\n",
    "result"
   ]
  },
  {
   "cell_type": "code",
   "execution_count": 156,
   "metadata": {},
   "outputs": [
    {
     "name": "stdout",
     "output_type": "stream",
     "text": [
      "['hxc92735c9a954399c2fb722ae28bf22a10e27491e', 0, 0.0]\n",
      "['hxa9e67162f41c05c651d50d1197fc8596864af801', 0, 0.0]\n",
      "['hx7b4dd3efcc72c5e2b210852742593178c210742c', 0, 0.0]\n",
      "['hx22722df8f35ddbe40954cb4496619ae932a4ac3b', 0, 0.0]\n",
      "['hxe6645482385915b2329f444f59abf49fe5024bd7', 0, 0.0]\n",
      "['hxe62d11fa19a0e8575ad92f06bc8fd42edbfe27db', 0, 0.0]\n",
      "['hxe7af5fcfd8dfc67530a01a0e403882687528dfcb', 0, 0.0]\n",
      "Total unclaimed: 0.0\n",
      "{'rewards': 700000.0, 'reserve': 100000.0, 'bwt': 400000.0, 'dex': 0.0, 'daofund': 800000.0}\n",
      "Total BALN: 2000000.0\n"
     ]
    }
   ],
   "source": [
    "# Check BALN that has been distributed on the rewards SCORE, and to platform contract addresses.\n",
    "\n",
    "borrowerCount = int(call_tx('loans', 'borrowerCount', {}, False), 0)\n",
    "\n",
    "addresses = []\n",
    "for i in range(1, borrowerCount + 1):\n",
    "    position = call_tx('loans', 'getPositionByIndex', {'_index': i, '_day': -1}, False)\n",
    "    addresses.append(position['address'])\n",
    "\n",
    "holders = call_tx('rewards', 'getBalnHoldings', {'_holders': addresses}, False)\n",
    "\n",
    "total_balances = 0\n",
    "baln_balances = {}\n",
    "for contract in ['rewards', 'reserve', 'bwt', 'dex', 'daofund']:\n",
    "    result = int(call_tx('baln', 'balanceOf', {'_owner': contracts[contract]['SCORE']}, False), 0)\n",
    "    baln_balances[contract] = result / 10**18\n",
    "    total_balances += result\n",
    "\n",
    "i = 0\n",
    "holdings = {i: [key, int(holders[key], 0), int(holders[key], 0) / 10**18] for i, key in enumerate(holders.keys())}\n",
    "total = 0\n",
    "for key in holdings:\n",
    "    total += holdings[key][1]\n",
    "    print(f'{holdings[key]}')\n",
    "\n",
    "print(f'Total unclaimed: {total / 10**18}')\n",
    "print(baln_balances)\n",
    "print(f'Total BALN: {total_balances / 10**18}')"
   ]
  },
  {
   "cell_type": "code",
   "execution_count": null,
   "metadata": {},
   "outputs": [],
   "source": []
  },
  {
   "cell_type": "code",
   "execution_count": null,
   "metadata": {},
   "outputs": [],
   "source": []
  },
  {
   "cell_type": "code",
   "execution_count": null,
   "metadata": {},
   "outputs": [],
   "source": []
  },
  {
   "cell_type": "code",
   "execution_count": 155,
   "metadata": {},
   "outputs": [
    {
     "name": "stdout",
     "output_type": "stream",
     "text": [
      "------------------------------------------------------------------------------------------------------------------\n",
      "Calling stakeICX, with parameters {} on the staking contract.\n",
      "------------------------------------------------------------------------------------------------------------------\n",
      "************************************************** Status: 1 **************************************************\n",
      "{'scoreAddress': 'cx670fb2edb40949a44300254d9f7600392d6fd9f7', 'indexed': ['Mint(Address,int,bytes)', 'hxe7af5fcfd8dfc67530a01a0e403882687528dfcb'], 'data': ['0xde0b6b3a76400000', '0x4e6f6e65']} \n",
      "\n",
      "{'scoreAddress': 'cx670fb2edb40949a44300254d9f7600392d6fd9f7', 'indexed': ['Transfer(Address,Address,int,bytes)', 'hx0000000000000000000000000000000000000000', 'hxe7af5fcfd8dfc67530a01a0e403882687528dfcb', '0xde0b6b3a76400000'], 'data': ['0x4e6f6e65']} \n",
      "\n",
      "{'scoreAddress': 'cxfd6c291c153448ba0f2e240de4070ed4e66ea806', 'indexed': ['TokenTransfer(Address,int,str)', 'hxe7af5fcfd8dfc67530a01a0e403882687528dfcb', '0xde0b6b3a76400000'], 'data': ['16 sICX minted to hxe7af5fcfd8dfc67530a01a0e403882687528dfcb']} \n",
      "\n",
      "------------------------------------------------------------------------------------------------------------------\n",
      "Calling depositAndBorrow, with parameters {'_asset': 'bnUSD', '_amount': 50000000000000000000} on the loans contract.\n",
      "------------------------------------------------------------------------------------------------------------------\n"
     ]
    },
    {
     "name": "stderr",
     "output_type": "stream",
     "text": [
      "Raised JSONRPCException while returning the custom response. Error message: {'code': -32602, 'message': 'Pending transaction'}\n"
     ]
    },
    {
     "name": "stdout",
     "output_type": "stream",
     "text": [
      "Retrying in 1 seconds...\n",
      "************************************************** Status: 1 **************************************************\n",
      "{'scoreAddress': 'cxac3e578fabe6e85fd16e0a56c4aba5e4ef6c5b07', 'indexed': ['ICXTransfer(Address,Address,int)', 'cxac3e578fabe6e85fd16e0a56c4aba5e4ef6c5b07', 'cxfd6c291c153448ba0f2e240de4070ed4e66ea806', '0x2086ac351052600000'], 'data': []} \n",
      "\n",
      "{'scoreAddress': 'cx670fb2edb40949a44300254d9f7600392d6fd9f7', 'indexed': ['Mint(Address,int,bytes)', 'cxac3e578fabe6e85fd16e0a56c4aba5e4ef6c5b07'], 'data': ['0x2086ac351052600000', '0x4e6f6e65']} \n",
      "\n",
      "{'scoreAddress': 'cx670fb2edb40949a44300254d9f7600392d6fd9f7', 'indexed': ['Transfer(Address,Address,int,bytes)', 'hx0000000000000000000000000000000000000000', 'cxac3e578fabe6e85fd16e0a56c4aba5e4ef6c5b07', '0x2086ac351052600000'], 'data': ['0x4e6f6e65']} \n",
      "\n",
      "{'scoreAddress': 'cxfd6c291c153448ba0f2e240de4070ed4e66ea806', 'indexed': ['TokenTransfer(Address,int,str)', 'cxac3e578fabe6e85fd16e0a56c4aba5e4ef6c5b07', '0x2086ac351052600000'], 'data': ['600 sICX minted to cxac3e578fabe6e85fd16e0a56c4aba5e4ef6c5b07']} \n",
      "\n",
      "{'scoreAddress': 'cx7d17124b21d6b06876f37428fbc6b100af4bde32', 'indexed': ['Mint(Address,int,bytes)', 'cx70a08b6d45f0d6b14f1607203b803a0726e1ddeb'], 'data': ['0x152d02c7e14af6800000', '0x4e6f6e65']} \n",
      "\n",
      "{'scoreAddress': 'cx7d17124b21d6b06876f37428fbc6b100af4bde32', 'indexed': ['Transfer(Address,Address,int,bytes)', 'hx0000000000000000000000000000000000000000', 'cx70a08b6d45f0d6b14f1607203b803a0726e1ddeb', '0x152d02c7e14af6800000'], 'data': ['0x4e6f6e65']} \n",
      "\n",
      "{'scoreAddress': 'cx7d17124b21d6b06876f37428fbc6b100af4bde32', 'indexed': ['Transfer(Address,Address,int,bytes)', 'cx70a08b6d45f0d6b14f1607203b803a0726e1ddeb', 'cx966f4be71c5b4253a8539b10df657c1b80f418e5', '0x43c33c1937564800000'], 'data': ['0x4e6f6e65']} \n",
      "\n",
      "{'scoreAddress': 'cx7d17124b21d6b06876f37428fbc6b100af4bde32', 'indexed': ['Transfer(Address,Address,int,bytes)', 'cx70a08b6d45f0d6b14f1607203b803a0726e1ddeb', 'cx075a56b059e3d531aac7ed1f44b6d9cc1abcc884', '0x10f0cf064dd59200000'], 'data': ['0x4e6f6e65']} \n",
      "\n",
      "{'scoreAddress': 'cx7d17124b21d6b06876f37428fbc6b100af4bde32', 'indexed': ['Transfer(Address,Address,int,bytes)', 'cx70a08b6d45f0d6b14f1607203b803a0726e1ddeb', 'cxb8f2d7c28362d7336d5da58f3a8b6869987d3b78', '0x878678326eac9000000'], 'data': ['0x4e6f6e65']} \n",
      "\n",
      "{'scoreAddress': 'cxac3e578fabe6e85fd16e0a56c4aba5e4ef6c5b07', 'indexed': ['CollateralReceived(Address,str,int)', 'hxe7af5fcfd8dfc67530a01a0e403882687528dfcb', 'sICX'], 'data': ['0x2086ac351052600000']} \n",
      "\n",
      "{'scoreAddress': 'cx76cf21c4fb573d81801b7dccd70b550f10479982', 'indexed': ['OraclePrice(str,str,Address,int)', 'USDICX', 'BandChain', 'cxed97bdb35a7ca1b3993e400e4dba9e11610338f7'], 'data': ['0x84c5d90848544bb']} \n",
      "\n",
      "{'scoreAddress': 'cxac3e578fabe6e85fd16e0a56c4aba5e4ef6c5b07', 'indexed': ['OriginateLoan(Address,str,int,str)', 'hxe7af5fcfd8dfc67530a01a0e403882687528dfcb', 'bnUSD', '0x2b5e3af16b1880000'], 'data': ['Loan of 50000000000000000000 bnUSD from Balanced.']} \n",
      "\n",
      "{'scoreAddress': 'cx76cf21c4fb573d81801b7dccd70b550f10479982', 'indexed': ['Mint(Address,int,bytes)', 'hxe7af5fcfd8dfc67530a01a0e403882687528dfcb'], 'data': ['0x2b5e3af16b1880000', '0x4e6f6e65']} \n",
      "\n",
      "{'scoreAddress': 'cx76cf21c4fb573d81801b7dccd70b550f10479982', 'indexed': ['Transfer(Address,Address,int,bytes)', 'hx0000000000000000000000000000000000000000', 'hxe7af5fcfd8dfc67530a01a0e403882687528dfcb', '0x2b5e3af16b1880000'], 'data': ['0x4e6f6e65']} \n",
      "\n",
      "{'scoreAddress': 'cx76cf21c4fb573d81801b7dccd70b550f10479982', 'indexed': ['Mint(Address,int,bytes)', 'cx1d0ad8a419e064d9c19c852dff201aaf8e7db64e'], 'data': ['0x6f05b59d3b20000', '0x4e6f6e65']} \n",
      "\n",
      "{'scoreAddress': 'cx76cf21c4fb573d81801b7dccd70b550f10479982', 'indexed': ['Transfer(Address,Address,int,bytes)', 'hx0000000000000000000000000000000000000000', 'cx1d0ad8a419e064d9c19c852dff201aaf8e7db64e', '0x6f05b59d3b20000'], 'data': ['0x4e6f6e65']} \n",
      "\n",
      "{'scoreAddress': 'cx1d0ad8a419e064d9c19c852dff201aaf8e7db64e', 'indexed': ['DividendsReceived(int,str)', '0x6f05b59d3b20000'], 'data': ['500000000000000000 tokens received as dividends token: cx76cf21c4fb573d81801b7dccd70b550f10479982']} \n",
      "\n",
      "{'scoreAddress': 'cxac3e578fabe6e85fd16e0a56c4aba5e4ef6c5b07', 'indexed': ['FeePaid(str,int,str)', 'bnUSD', '0x6f05b59d3b20000', 'origination'], 'data': []} \n",
      "\n",
      "------------------------------------------------------------------------------------------------------------------\n",
      "Calling transfer, with parameters {'_to': 'cx010e0976dd26604f4e3951a39c9401dc46347731', '_value': 16000000000000000000, '_data': b'{\"method\": \"_deposit\"}'} on the sicx contract.\n",
      "------------------------------------------------------------------------------------------------------------------\n",
      "************************************************** Status: 1 **************************************************\n",
      "{'scoreAddress': 'cx670fb2edb40949a44300254d9f7600392d6fd9f7', 'indexed': ['Transfer(Address,Address,int,bytes)', 'hxe7af5fcfd8dfc67530a01a0e403882687528dfcb', 'cx010e0976dd26604f4e3951a39c9401dc46347731', '0xde0b6b3a76400000'], 'data': ['0x7b226d6574686f64223a20225f6465706f736974227d']} \n",
      "\n",
      "{'scoreAddress': 'cx010e0976dd26604f4e3951a39c9401dc46347731', 'indexed': ['Snapshot(int)', '0xfd'], 'data': []} \n",
      "\n",
      "{'scoreAddress': 'cx7d17124b21d6b06876f37428fbc6b100af4bde32', 'indexed': ['Mint(Address,int,bytes)', 'cx70a08b6d45f0d6b14f1607203b803a0726e1ddeb'], 'data': ['0x152d02c7e14af6800000', '0x4e6f6e65']} \n",
      "\n",
      "{'scoreAddress': 'cx7d17124b21d6b06876f37428fbc6b100af4bde32', 'indexed': ['Transfer(Address,Address,int,bytes)', 'hx0000000000000000000000000000000000000000', 'cx70a08b6d45f0d6b14f1607203b803a0726e1ddeb', '0x152d02c7e14af6800000'], 'data': ['0x4e6f6e65']} \n",
      "\n",
      "{'scoreAddress': 'cx7d17124b21d6b06876f37428fbc6b100af4bde32', 'indexed': ['Transfer(Address,Address,int,bytes)', 'cx70a08b6d45f0d6b14f1607203b803a0726e1ddeb', 'cx966f4be71c5b4253a8539b10df657c1b80f418e5', '0x43c33c1937564800000'], 'data': ['0x4e6f6e65']} \n",
      "\n",
      "{'scoreAddress': 'cx7d17124b21d6b06876f37428fbc6b100af4bde32', 'indexed': ['Transfer(Address,Address,int,bytes)', 'cx70a08b6d45f0d6b14f1607203b803a0726e1ddeb', 'cx075a56b059e3d531aac7ed1f44b6d9cc1abcc884', '0x10f0cf064dd59200000'], 'data': ['0x4e6f6e65']} \n",
      "\n",
      "{'scoreAddress': 'cx7d17124b21d6b06876f37428fbc6b100af4bde32', 'indexed': ['Transfer(Address,Address,int,bytes)', 'cx70a08b6d45f0d6b14f1607203b803a0726e1ddeb', 'cxb8f2d7c28362d7336d5da58f3a8b6869987d3b78', '0x878678326eac9000000'], 'data': ['0x4e6f6e65']} \n",
      "\n",
      "{'scoreAddress': 'cx010e0976dd26604f4e3951a39c9401dc46347731', 'indexed': ['Deposit(Address,Address,int)', 'cx670fb2edb40949a44300254d9f7600392d6fd9f7', 'hxe7af5fcfd8dfc67530a01a0e403882687528dfcb'], 'data': ['0xde0b6b3a76400000']} \n",
      "\n",
      "------------------------------------------------------------------------------------------------------------------\n",
      "Calling transfer, with parameters {'_to': 'cx010e0976dd26604f4e3951a39c9401dc46347731', '_value': 50000000000000000000, '_data': b'{\"method\": \"_deposit\"}'} on the bnUSD contract.\n",
      "------------------------------------------------------------------------------------------------------------------\n"
     ]
    },
    {
     "name": "stderr",
     "output_type": "stream",
     "text": [
      "Raised JSONRPCException while returning the custom response. Error message: {'code': -32602, 'message': 'Pending transaction'}\n"
     ]
    },
    {
     "name": "stdout",
     "output_type": "stream",
     "text": [
      "Retrying in 1 seconds...\n",
      "************************************************** Status: 1 **************************************************\n",
      "{'scoreAddress': 'cx76cf21c4fb573d81801b7dccd70b550f10479982', 'indexed': ['Transfer(Address,Address,int,bytes)', 'hxe7af5fcfd8dfc67530a01a0e403882687528dfcb', 'cx010e0976dd26604f4e3951a39c9401dc46347731', '0x2b5e3af16b1880000'], 'data': ['0x7b226d6574686f64223a20225f6465706f736974227d']} \n",
      "\n",
      "{'scoreAddress': 'cx7d17124b21d6b06876f37428fbc6b100af4bde32', 'indexed': ['Mint(Address,int,bytes)', 'cx70a08b6d45f0d6b14f1607203b803a0726e1ddeb'], 'data': ['0x152d02c7e14af6800000', '0x4e6f6e65']} \n",
      "\n",
      "{'scoreAddress': 'cx7d17124b21d6b06876f37428fbc6b100af4bde32', 'indexed': ['Transfer(Address,Address,int,bytes)', 'hx0000000000000000000000000000000000000000', 'cx70a08b6d45f0d6b14f1607203b803a0726e1ddeb', '0x152d02c7e14af6800000'], 'data': ['0x4e6f6e65']} \n",
      "\n",
      "{'scoreAddress': 'cx7d17124b21d6b06876f37428fbc6b100af4bde32', 'indexed': ['Transfer(Address,Address,int,bytes)', 'cx70a08b6d45f0d6b14f1607203b803a0726e1ddeb', 'cx966f4be71c5b4253a8539b10df657c1b80f418e5', '0x43c33c1937564800000'], 'data': ['0x4e6f6e65']} \n",
      "\n",
      "{'scoreAddress': 'cx7d17124b21d6b06876f37428fbc6b100af4bde32', 'indexed': ['Transfer(Address,Address,int,bytes)', 'cx70a08b6d45f0d6b14f1607203b803a0726e1ddeb', 'cx075a56b059e3d531aac7ed1f44b6d9cc1abcc884', '0x10f0cf064dd59200000'], 'data': ['0x4e6f6e65']} \n",
      "\n",
      "{'scoreAddress': 'cx7d17124b21d6b06876f37428fbc6b100af4bde32', 'indexed': ['Transfer(Address,Address,int,bytes)', 'cx70a08b6d45f0d6b14f1607203b803a0726e1ddeb', 'cxb8f2d7c28362d7336d5da58f3a8b6869987d3b78', '0x878678326eac9000000'], 'data': ['0x4e6f6e65']} \n",
      "\n",
      "{'scoreAddress': 'cx010e0976dd26604f4e3951a39c9401dc46347731', 'indexed': ['Deposit(Address,Address,int)', 'cx76cf21c4fb573d81801b7dccd70b550f10479982', 'hxe7af5fcfd8dfc67530a01a0e403882687528dfcb'], 'data': ['0x2b5e3af16b1880000']} \n",
      "\n",
      "------------------------------------------------------------------------------------------------------------------\n",
      "Calling add, with parameters {'_baseToken': 'cx670fb2edb40949a44300254d9f7600392d6fd9f7', '_quoteToken': 'cx76cf21c4fb573d81801b7dccd70b550f10479982', '_baseValue': 10000000000000000000, '_quoteValue': 25000000000000000000} on the dex contract.\n",
      "------------------------------------------------------------------------------------------------------------------\n"
     ]
    },
    {
     "name": "stderr",
     "output_type": "stream",
     "text": [
      "Raised JSONRPCException while returning the custom response. Error message: {'code': -32602, 'message': 'Pending transaction'}\n"
     ]
    },
    {
     "name": "stdout",
     "output_type": "stream",
     "text": [
      "Retrying in 1 seconds...\n",
      "************************************************** Status: 0 **************************************************\n",
      "Failure: {'code': 32, 'message': 'Balanced DEX Rewards distribution in progress, please try again shortly'}\n"
     ]
    }
   ],
   "source": [
    "# Create a new pool and generate assets for it\n",
    "\n",
    "sICX_amount = 16 * ICX\n",
    "bnUSD_amount = 50 * ICX\n",
    "icx_price = 2\n",
    "sICX_contribute_amount = int(10 * ICX)\n",
    "bnUSD_contribute_amount = int(25 * ICX)\n",
    "\n",
    "txns = [{'contract': 'staking', 'value': sICX_amount, 'method': 'stakeICX', 'params': {}},\n",
    "        {'contract': 'loans', 'value': int(icx_price * 6 * bnUSD_amount), 'method': 'depositAndBorrow', 'params': {'_asset': 'bnUSD', '_amount': bnUSD_amount}},\n",
    "        {'contract': 'sicx', 'value': 0, 'method': 'transfer', 'params': {'_to': contracts['dex']['SCORE'], '_value': sICX_amount, '_data': json.dumps({\"method\": \"_deposit\"}).encode()}},\n",
    "        {'contract': 'bnUSD', 'value': 0, 'method': 'transfer', 'params': {'_to': contracts['dex']['SCORE'], '_value': bnUSD_amount, '_data': json.dumps({\"method\": \"_deposit\"}).encode()}},\n",
    "        {'contract': 'dex', 'value': 0, 'method': 'add', 'params': {'_baseToken': contracts['sicx']['SCORE'], '_quoteToken': contracts['bnUSD']['SCORE'], '_baseValue': sICX_contribute_amount, '_quoteValue': bnUSD_contribute_amount}}]\n",
    "\n",
    "supply_liquidity_results = {}\n",
    "for tx in txns:\n",
    "    res = send_tx(tx[\"contract\"], tx[\"value\"], tx[\"method\"], tx[\"params\"], wallet)\n",
    "    supply_liquidity_results[f'{tx[\"contract\"]}|{tx[\"method\"]}|{tx[\"params\"]}'] = res"
   ]
  },
  {
   "cell_type": "code",
   "execution_count": null,
   "metadata": {},
   "outputs": [],
   "source": []
  }
 ],
 "metadata": {
  "kernelspec": {
   "display_name": "Python 3",
   "language": "python",
   "name": "python3"
  },
  "language_info": {
   "codemirror_mode": {
    "name": "ipython",
    "version": 3
   },
   "file_extension": ".py",
   "mimetype": "text/x-python",
   "name": "python",
   "nbconvert_exporter": "python",
   "pygments_lexer": "ipython3",
   "version": "3.7.6"
  }
 },
 "nbformat": 4,
 "nbformat_minor": 4
}
