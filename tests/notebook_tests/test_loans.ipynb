{
 "cells": [
  {
   "cell_type": "code",
   "execution_count": 1,
   "metadata": {},
   "outputs": [],
   "source": [
    "# Cell 0\n",
    "\n",
    "network = \"custom\"  # set this to one of mainnet, yeouido, euljiro, pagoda, or custom\n",
    "\n",
    "connections = {\n",
    "\"mainnet\": {\"iconservice\": \"https://ctz.solidwallet.io\",       \"nid\": 1},\n",
    "\"yeouido\": {\"iconservice\": \"https://bicon.net.solidwallet.io\", \"nid\": 3},\n",
    "\"euljiro\": {\"iconservice\": \"https://test-ctz.solidwallet.io\",  \"nid\": 2},\n",
    "\"pagoda\":  {\"iconservice\": \"https://zicon.net.solidwallet.io\", \"nid\":80},\n",
    "\"custom\":  {\"iconservice\": \"http://18.144.108.38:9000\",        \"nid\": 3}}\n",
    "\n",
    "env = connections[network]"
   ]
  },
  {
   "cell_type": "code",
   "execution_count": 2,
   "metadata": {},
   "outputs": [],
   "source": [
    "# Cell 1\n",
    "\n",
    "from iconsdk.exception import JSONRPCException\n",
    "from iconsdk.libs.in_memory_zip import gen_deploy_data_content\n",
    "from iconsdk.icon_service import IconService\n",
    "from iconsdk.providers.http_provider import HTTPProvider\n",
    "from iconsdk.builder.transaction_builder import CallTransactionBuilder, TransactionBuilder, DeployTransactionBuilder\n",
    "from iconsdk.builder.call_builder import CallBuilder\n",
    "from iconsdk.signed_transaction import SignedTransaction\n",
    "from iconsdk.wallet.wallet import KeyWallet\n",
    "from iconsdk.utils.convert_type import convert_hex_str_to_int\n",
    "from repeater import retry\n",
    "from shutil import make_archive\n",
    "import pickle as pkl\n",
    "from datetime import datetime\n",
    "from time import sleep\n",
    "import json\n",
    "import os\n",
    "\n",
    "ICX = 1000000000000000000 # 10**18\n",
    "GOVERNANCE_ADDRESS = \"cx0000000000000000000000000000000000000000\"\n",
    "ORACLE = \"cx61a36e5d10412e03c907a507d1e8c6c3856d9964\"\n",
    "\n",
    "@retry(JSONRPCException, tries=10, delay=1, back_off=2)\n",
    "def get_tx_result(_tx_hash):\n",
    "    tx_result = icon_service.get_transaction_result(_tx_hash)\n",
    "    return tx_result"
   ]
  },
  {
   "cell_type": "code",
   "execution_count": 3,
   "metadata": {},
   "outputs": [],
   "source": [
    "# Cell 2\n",
    "\n",
    "icon_service = IconService(HTTPProvider(env[\"iconservice\"], 3))\n",
    "NID = env[\"nid\"]"
   ]
  },
  {
   "cell_type": "code",
   "execution_count": 4,
   "metadata": {},
   "outputs": [
    {
     "name": "stdout",
     "output_type": "stream",
     "text": [
      "763283355.6477697\n",
      "13874672.2959146\n"
     ]
    }
   ],
   "source": [
    "# Cell 3\n",
    "\n",
    "wallet = KeyWallet.load(\"keystores/keystore_test1.json\", \"test1_Account\")\n",
    "# Balanced test wallet\n",
    "with open(\"keystores/balanced_test.pwd\", \"r\") as f:\n",
    "    key_data = f.read()\n",
    "btest_wallet = KeyWallet.load(\"keystores/balanced_test.json\", key_data)\n",
    "print(icon_service.get_balance(wallet.get_address())/10**18)\n",
    "print(icon_service.get_balance(btest_wallet.get_address())/10**18)"
   ]
  },
  {
   "cell_type": "code",
   "execution_count": 5,
   "metadata": {},
   "outputs": [
    {
     "name": "stdout",
     "output_type": "stream",
     "text": [
      "hxe7af5fcfd8dfc67530a01a0e403882687528dfcb\n",
      "763283355.6477697\n"
     ]
    }
   ],
   "source": [
    "print(wallet.get_address())\n",
    "print(icon_service.get_balance(wallet.get_address()) / 10**18)"
   ]
  },
  {
   "cell_type": "code",
   "execution_count": 6,
   "metadata": {},
   "outputs": [
    {
     "name": "stdout",
     "output_type": "stream",
     "text": [
      "hx3f01840a599da07b0f620eeae7aa9c574169a4be\n",
      "13874672.2959146\n"
     ]
    }
   ],
   "source": [
    "print(btest_wallet.get_address())\n",
    "print(icon_service.get_balance(btest_wallet.get_address()) / 10**18)"
   ]
  },
  {
   "cell_type": "code",
   "execution_count": 7,
   "metadata": {},
   "outputs": [
    {
     "name": "stdout",
     "output_type": "stream",
     "text": [
      "1046549.7415692\n",
      "hxe62d11fa19a0e8575ad92f06bc8fd42edbfe27db\n",
      "996194.951141\n",
      "hx7a1824129a8fe803e45a3aae1c0e060399546187\n"
     ]
    }
   ],
   "source": [
    "user1 = KeyWallet.load(\"keystores/user1.json\",\"HelloWorld@1234\")\n",
    "# btest_wallet = KeyWallet.load(\"./balanced_test.json\",\"HelloWorld@1234\")\n",
    "\n",
    "print(icon_service.get_balance(user1.get_address())/10**18)\n",
    "print(user1.get_address())\n",
    "\n",
    "# test2 = hx7a1824129a8fe803e45a3aae1c0e060399546187\n",
    "private = \"0a354424b20a7e3c55c43808d607bddfac85d033e63d7d093cb9f0a26c4ee022\"\n",
    "user2 = KeyWallet.load(bytes.fromhex(private))\n",
    "print(icon_service.get_balance(user2.get_address())/10**18)\n",
    "print(user2.get_address())"
   ]
  },
  {
   "cell_type": "code",
   "execution_count": 8,
   "metadata": {},
   "outputs": [
    {
     "data": {
      "text/plain": [
       "'0x61db4150bf5c8777219a21b722cc2d8bcabf48481dd51ba1e55cb80982fa1079'"
      ]
     },
     "execution_count": 8,
     "metadata": {},
     "output_type": "execute_result"
    }
   ],
   "source": [
    "# Cell 4\n",
    "# Only necessary if running locally or on the private tbears server\n",
    "# for the first time since reinitializing.\n",
    "\n",
    "transaction = TransactionBuilder()\\\n",
    "    .from_(wallet.get_address())\\\n",
    "    .to(user2.get_address())\\\n",
    "    .value(10000 * ICX)\\\n",
    "    .step_limit(1000000) \\\n",
    "    .nid(NID) \\\n",
    "    .nonce(2) \\\n",
    "    .version(3) \\\n",
    "    .build()\n",
    "signed_transaction = SignedTransaction(transaction, wallet)\n",
    "tx_hash = icon_service.send_transaction(signed_transaction)\n",
    "tx_hash"
   ]
  },
  {
   "cell_type": "code",
   "execution_count": 8,
   "metadata": {},
   "outputs": [],
   "source": [
    "# The following addresses are those deployed to the private tbears server.\n",
    "\n",
    "contracts = {'loans': {'zip': 'core_contracts/loans.zip',\n",
    "  'SCORE': 'cxbbd36ca8d91aefbe1060c3be62fed4d1b848ca85'},\n",
    " 'staking': {'zip': 'core_contracts/staking.zip',\n",
    "  'SCORE': 'cxd8e05c1280bc2c32bf53ff61f3bb2e2ecc7d6df5'},\n",
    " 'dividends': {'zip': 'core_contracts/dividends.zip',\n",
    "  'SCORE': 'cx7c617e3fca4ba06b6ad203ce113245ae96a9d91e'},\n",
    " 'reserve': {'zip': 'core_contracts/reserve.zip',\n",
    "  'SCORE': 'cx70cd5c86f0182d5ac0bd224562d929cd968d9132'},\n",
    " 'daofund': {'zip': 'core_contracts/daofund.zip',\n",
    "  'SCORE': 'cxeb91bc377b0620356787d9c9eb68152eb0c62d8a'},\n",
    " 'rewards': {'zip': 'core_contracts/rewards.zip',\n",
    "  'SCORE': 'cxfd7511ece084744154fed19dc34732681ad078e6'},\n",
    " 'dex': {'zip': 'core_contracts/dex.zip',\n",
    "  'SCORE': 'cx9a3161c778eee2d5758371d3548c5599f76704ec'},\n",
    " 'governance': {'zip': 'core_contracts/governance.zip',\n",
    "  'SCORE': 'cx238cd1a1e3a9702d6c9c6dc130719472164db376'},\n",
    " 'oracle': {'zip': 'core_contracts/oracle.zip',\n",
    "  'SCORE': 'cx7171e2f5653c1b9c000e24228276b8d24e84f10d'},\n",
    " 'sicx': {'zip': 'token_contracts/sicx.zip',\n",
    "  'SCORE': 'cxcff8bf80ab213fa9bbb350636a4d68f5cb4fd9c1'},\n",
    " 'bnUSD': {'zip': 'token_contracts/bnUSD.zip',\n",
    "  'SCORE': 'cx4c1beaa71b9377100c810c46059ddf5f3da37602'},\n",
    " 'baln': {'zip': 'token_contracts/baln.zip',\n",
    "  'SCORE': 'cx3825a86d52c5baf188ff29aa6a7fc2467e285885'},\n",
    " 'bwt': {'zip': 'token_contracts/bwt.zip',\n",
    "  'SCORE': 'cx140b49ea041457ebc4cd5e199f5723916bb50021'}}"
   ]
  },
  {
   "cell_type": "code",
   "execution_count": 9,
   "metadata": {},
   "outputs": [],
   "source": [
    "contracts = {'loans': {'zip': 'core_contracts/loans.zip', 'SCORE': 'cx764463174b4f7d44988968f93c08081881fcfc85'}, 'staking': {'zip': 'core_contracts/staking.zip', 'SCORE': 'cx686423d2293831a6cb2441959112a1a06b7462ba'}, 'dividends': {'zip': 'core_contracts/dividends.zip', 'SCORE': 'cxa6f208b9b7fecd68e7cf66675ba058ef68c00ef6'}, 'reserve': {'zip': 'core_contracts/reserve.zip', 'SCORE': 'cxedf87c1cd6811891016606c403418cf967340a51'}, 'daofund': {'zip': 'core_contracts/daofund.zip', 'SCORE': 'cxadedc487277793fe7cd73ac4cdfdbc2fee02e0e1'}, 'rewards': {'zip': 'core_contracts/rewards.zip', 'SCORE': 'cxbbf173efedf4338d0562edf67f3f563cd6f09b18'}, 'dex': {'zip': 'core_contracts/dex.zip', 'SCORE': 'cx2d8cd99b2ed00a8ec519a00a9d42dd314e72a04b'}, 'governance': {'zip': 'core_contracts/governance.zip', 'SCORE': 'cxbdfe800a34762f3e65bdef1be4f3058b893d6fe5'}, 'oracle': {'zip': 'core_contracts/oracle.zip', 'SCORE': 'cx7171e2f5653c1b9c000e24228276b8d24e84f10d'}, 'sicx': {'zip': 'token_contracts/sicx.zip', 'SCORE': 'cxf99f4ca65fda1cdfa461f473d60f729341524022'}, 'bnUSD': {'zip': 'token_contracts/bnUSD.zip', 'SCORE': 'cx0f493f0d561d14576f3705ff422c32fe305b2e6a'}, 'baln': {'zip': 'token_contracts/baln.zip', 'SCORE': 'cxdf5d7067e425b3e1a2c96659b3fd91bd1b5dd0d9'}, 'bwt': {'zip': 'token_contracts/bwt.zip', 'SCORE': 'cxf2c45e05c329bd9c0dd7780b8f14a15a1eaa78ff'}}"
   ]
  },
  {
   "cell_type": "markdown",
   "metadata": {},
   "source": [
    "# Deploy All Scores"
   ]
  },
  {
   "cell_type": "code",
   "execution_count": 10,
   "metadata": {},
   "outputs": [],
   "source": [
    "# Cell 6\n",
    "# Define deploy and send_tx functions\n",
    "\n",
    "def compress():\n",
    "    \"\"\"\n",
    "    Compress all SCORE folders in the core_contracts and toekn_contracts folders\n",
    "    \"\"\"\n",
    "    deploy = list(contracts.keys())[:]\n",
    "    for directory in {\"core_contracts\", \"token_contracts\"}:\n",
    "        with os.scandir(directory) as it:\n",
    "            for file in it:\n",
    "                archive_name = directory + \"/\" + file.name\n",
    "                if file.is_dir() and file.name in deploy:\n",
    "                    make_archive(archive_name, \"zip\", directory, file.name)\n",
    "                    contracts[file.name]['zip'] = archive_name + '.zip'\n",
    "\n",
    "def deploy_SCORE(contract, params, wallet, update) -> str:\n",
    "    \"\"\"\n",
    "    contract is of form {'zip': 'core_contracts/governance.zip', 'SCORE': 'cx1d81f93b3b8d8d2a6455681c46128868782ddd09'}\n",
    "    params is a dicts\n",
    "    wallet is a wallet file\n",
    "    update is boolian\n",
    "    \"\"\"\n",
    "    print(f'{contract[\"zip\"]}')\n",
    "    if update:\n",
    "        dest = contract['SCORE']\n",
    "    else:\n",
    "        dest = GOVERNANCE_ADDRESS\n",
    "    zip_file = contract['zip']\n",
    "    step_limit = 4000100000\n",
    "    deploy_transaction = DeployTransactionBuilder()\\\n",
    "        .from_(wallet.get_address())\\\n",
    "        .to(dest)\\\n",
    "        .nid(NID)\\\n",
    "        .nonce(100)\\\n",
    "        .content_type(\"application/zip\")\\\n",
    "        .content(gen_deploy_data_content(zip_file))\\\n",
    "        .params(params)\\\n",
    "        .build()\n",
    "\n",
    "    signed_transaction = SignedTransaction(deploy_transaction, wallet, step_limit)\n",
    "    tx_hash = icon_service.send_transaction(signed_transaction)\n",
    "\n",
    "    res = get_tx_result(tx_hash)\n",
    "    print(f'Status: {res[\"status\"]}')\n",
    "    if len(res[\"eventLogs\"]) > 0:\n",
    "        for item in res[\"eventLogs\"]:\n",
    "            print(f'{item} \\n')\n",
    "    if res['status'] == 0:\n",
    "        print(f'Failure: {res[\"failure\"]}')\n",
    "    print('')\n",
    "    return res.get('scoreAddress', '')\n",
    "\n",
    "def send_tx(dest, value, method, params, wallet):\n",
    "    \"\"\"\n",
    "    dest is the name of the destination contract.\n",
    "    \"\"\"\n",
    "    print('------------------------------------------------------------------------------------------------------------------')\n",
    "    print(f'Calling {method}, with parameters {params} on the {dest} contract.')\n",
    "    print('------------------------------------------------------------------------------------------------------------------')\n",
    "    transaction = CallTransactionBuilder()\\\n",
    "        .from_(wallet.get_address())\\\n",
    "        .to(contracts[dest]['SCORE'])\\\n",
    "        .value(value)\\\n",
    "        .step_limit(10000000)\\\n",
    "        .nid(NID)\\\n",
    "        .nonce(100)\\\n",
    "        .method(method)\\\n",
    "        .params(params)\\\n",
    "        .build()\n",
    "    signed_transaction = SignedTransaction(transaction, wallet)\n",
    "    tx_hash = icon_service.send_transaction(signed_transaction)\n",
    "\n",
    "    res = get_tx_result(tx_hash)\n",
    "    print(f'************************************************** Status: {res[\"status\"]} **************************************************')\n",
    "    if len(res[\"eventLogs\"]) > 0:\n",
    "        for item in res[\"eventLogs\"]:\n",
    "            print(f'{item} \\n')\n",
    "    if res['status'] == 0:\n",
    "        print(f'Failure: {res[\"failure\"]}')\n",
    "    return res\n",
    "\n",
    "def deploy_all(wallet):\n",
    "    \"\"\"\n",
    "    Compress, Deploy and Configure all SCOREs\n",
    "    \"\"\"\n",
    "    compress()\n",
    "\n",
    "    deploy = list(contracts.keys())[:]\n",
    "    deploy.remove('oracle')\n",
    "    deploy.remove('staking')\n",
    "    deploy.remove('sicx')\n",
    "    deploy.remove('governance')\n",
    "\n",
    "    governance = deploy_SCORE(contracts['governance'], {}, wallet, 0)\n",
    "    contracts['governance']['SCORE'] = governance\n",
    "    for score in deploy:\n",
    "        contracts[score]['SCORE'] = deploy_SCORE(contracts[score], {'_governance': governance}, wallet, 0)\n",
    "    contracts['staking']['SCORE'] = deploy_SCORE(contracts['staking'], {}, wallet, 0)\n",
    "    contracts['sicx']['SCORE'] = deploy_SCORE(contracts['sicx'], {'_admin': contracts['staking']['SCORE']}, wallet, 0)\n",
    "\n",
    "    config = list(contracts.keys())[:]\n",
    "    config.remove('governance')\n",
    "    addresses = {contract: contracts[contract]['SCORE'] for contract in config}\n",
    "\n",
    "    txns = [{'contract': 'staking', 'value': 0, 'method': 'setSicxAddress', 'params': {'_address': contracts['sicx']['SCORE']}},\n",
    "            {'contract': 'governance', 'value': 0, 'method': 'setAddresses', 'params': {'_addresses': addresses}},\n",
    "            {'contract': 'governance', 'value': 0, 'method': 'launchBalanced', 'params': {}}]\n",
    "\n",
    "    for tx in txns:\n",
    "        res = send_tx(tx[\"contract\"], tx[\"value\"], tx[\"method\"], tx[\"params\"], wallet)\n",
    "        results[f'{tx[\"contract\"]}|{tx[\"method\"]}|{tx[\"params\"]}'] = res\n",
    "\n",
    "def get_scores_json(contracts):\n",
    "    \"\"\"\n",
    "    Prints out dictionary of SCORE addresses for use in testing UI.\n",
    "    \"\"\"\n",
    "    scores = {}\n",
    "    for score in contracts:\n",
    "        scores[score] = contracts[score]['SCORE']\n",
    "    return json.dumps(scores)\n",
    "\n",
    "def call_tx(dest: str, method: str, params: dict = {}):\n",
    "    \"\"\"\n",
    "    dest is the name of the destination contract.\n",
    "    \"\"\"\n",
    "    print('------------------------------------------------------------------------------------------------------------------')\n",
    "    print(f'Reading {method}, with parameters {params} on the {dest} contract.')\n",
    "    print('------------------------------------------------------------------------------------------------------------------')\n",
    "    call = CallBuilder()\\\n",
    "        .from_(wallet.get_address())\\\n",
    "        .to(contracts[dest]['SCORE'])\\\n",
    "        .method(method)\\\n",
    "        .params(params)\\\n",
    "        .build()\n",
    "    print(icon_service.call(call))\n",
    "    return icon_service.call(call)\n"
   ]
  },
  {
   "cell_type": "code",
   "execution_count": 10,
   "metadata": {},
   "outputs": [
    {
     "name": "stdout",
     "output_type": "stream",
     "text": [
      "core_contracts/governance.zip\n"
     ]
    },
    {
     "name": "stderr",
     "output_type": "stream",
     "text": [
      "Raised JSONRPCException while returning the custom response. Error message: {'code': -32602, 'message': 'Pending transaction'}\n"
     ]
    },
    {
     "name": "stdout",
     "output_type": "stream",
     "text": [
      "Retrying in 1 seconds...\n",
      "Status: 1\n",
      "\n",
      "core_contracts/loans.zip\n"
     ]
    },
    {
     "name": "stderr",
     "output_type": "stream",
     "text": [
      "Raised JSONRPCException while returning the custom response. Error message: {'code': -32602, 'message': 'Pending transaction'}\n"
     ]
    },
    {
     "name": "stdout",
     "output_type": "stream",
     "text": [
      "Retrying in 1 seconds...\n",
      "Status: 1\n",
      "\n",
      "core_contracts/dividends.zip\n"
     ]
    },
    {
     "name": "stderr",
     "output_type": "stream",
     "text": [
      "Raised JSONRPCException while returning the custom response. Error message: {'code': -32602, 'message': 'Pending transaction'}\n"
     ]
    },
    {
     "name": "stdout",
     "output_type": "stream",
     "text": [
      "Retrying in 1 seconds...\n",
      "Status: 1\n",
      "\n",
      "core_contracts/reserve.zip\n"
     ]
    },
    {
     "name": "stderr",
     "output_type": "stream",
     "text": [
      "Raised JSONRPCException while returning the custom response. Error message: {'code': -32602, 'message': 'Pending transaction'}\n"
     ]
    },
    {
     "name": "stdout",
     "output_type": "stream",
     "text": [
      "Retrying in 1 seconds...\n",
      "Status: 1\n",
      "\n",
      "core_contracts/daofund.zip\n"
     ]
    },
    {
     "name": "stderr",
     "output_type": "stream",
     "text": [
      "Raised JSONRPCException while returning the custom response. Error message: {'code': -32602, 'message': 'Pending transaction'}\n"
     ]
    },
    {
     "name": "stdout",
     "output_type": "stream",
     "text": [
      "Retrying in 1 seconds...\n",
      "Status: 1\n",
      "\n",
      "core_contracts/rewards.zip\n",
      "Status: 1\n",
      "\n",
      "core_contracts/dex.zip\n",
      "Status: 1\n",
      "\n",
      "token_contracts/bnUSD.zip\n",
      "Status: 1\n",
      "\n",
      "token_contracts/baln.zip\n",
      "Status: 1\n",
      "\n",
      "token_contracts/bwt.zip\n",
      "Status: 1\n",
      "\n",
      "core_contracts/staking.zip\n",
      "Status: 1\n",
      "\n",
      "token_contracts/sicx.zip\n",
      "Status: 1\n",
      "\n",
      "------------------------------------------------------------------------------------------------------------------\n",
      "Calling setSicxAddress, with parameters {'_address': 'cxf99f4ca65fda1cdfa461f473d60f729341524022'} on the staking contract.\n",
      "------------------------------------------------------------------------------------------------------------------\n",
      "************************************************** Status: 1 **************************************************\n",
      "------------------------------------------------------------------------------------------------------------------\n",
      "Calling setAddresses, with parameters {'_addresses': {'loans': 'cx764463174b4f7d44988968f93c08081881fcfc85', 'staking': 'cx686423d2293831a6cb2441959112a1a06b7462ba', 'dividends': 'cxa6f208b9b7fecd68e7cf66675ba058ef68c00ef6', 'reserve': 'cxedf87c1cd6811891016606c403418cf967340a51', 'daofund': 'cxadedc487277793fe7cd73ac4cdfdbc2fee02e0e1', 'rewards': 'cxbbf173efedf4338d0562edf67f3f563cd6f09b18', 'dex': 'cx2d8cd99b2ed00a8ec519a00a9d42dd314e72a04b', 'oracle': 'cx7171e2f5653c1b9c000e24228276b8d24e84f10d', 'sicx': 'cxf99f4ca65fda1cdfa461f473d60f729341524022', 'bnUSD': 'cx0f493f0d561d14576f3705ff422c32fe305b2e6a', 'baln': 'cxdf5d7067e425b3e1a2c96659b3fd91bd1b5dd0d9', 'bwt': 'cxf2c45e05c329bd9c0dd7780b8f14a15a1eaa78ff'}} on the governance contract.\n",
      "------------------------------------------------------------------------------------------------------------------\n",
      "************************************************** Status: 1 **************************************************\n",
      "------------------------------------------------------------------------------------------------------------------\n",
      "Calling launchBalanced, with parameters {} on the governance contract.\n",
      "------------------------------------------------------------------------------------------------------------------\n"
     ]
    },
    {
     "name": "stderr",
     "output_type": "stream",
     "text": [
      "Raised JSONRPCException while returning the custom response. Error message: {'code': -32602, 'message': 'Pending transaction'}\n"
     ]
    },
    {
     "name": "stdout",
     "output_type": "stream",
     "text": [
      "Retrying in 1 seconds...\n",
      "************************************************** Status: 1 **************************************************\n",
      "{'scoreAddress': 'cx764463174b4f7d44988968f93c08081881fcfc85', 'indexed': ['AssetAdded(Address,str,bool)', 'cxf99f4ca65fda1cdfa461f473d60f729341524022', 'sICX', '0x1'], 'data': []} \n",
      "\n",
      "{'scoreAddress': 'cx764463174b4f7d44988968f93c08081881fcfc85', 'indexed': ['AssetAdded(Address,str,bool)', 'cx0f493f0d561d14576f3705ff422c32fe305b2e6a', 'bnUSD', '0x0'], 'data': []} \n",
      "\n",
      "{'scoreAddress': 'cx764463174b4f7d44988968f93c08081881fcfc85', 'indexed': ['AssetAdded(Address,str,bool)', 'cxdf5d7067e425b3e1a2c96659b3fd91bd1b5dd0d9', 'BALN', '0x1'], 'data': []} \n",
      "\n",
      "{'scoreAddress': 'cx764463174b4f7d44988968f93c08081881fcfc85', 'indexed': ['ContractActive(str,str)', 'Loans'], 'data': ['Active']} \n",
      "\n",
      "------------------------------------------------------------------------------------------------------------------\n",
      "{'loans': {'zip': 'core_contracts/loans.zip', 'SCORE': 'cx764463174b4f7d44988968f93c08081881fcfc85'}, 'staking': {'zip': 'core_contracts/staking.zip', 'SCORE': 'cx686423d2293831a6cb2441959112a1a06b7462ba'}, 'dividends': {'zip': 'core_contracts/dividends.zip', 'SCORE': 'cxa6f208b9b7fecd68e7cf66675ba058ef68c00ef6'}, 'reserve': {'zip': 'core_contracts/reserve.zip', 'SCORE': 'cxedf87c1cd6811891016606c403418cf967340a51'}, 'daofund': {'zip': 'core_contracts/daofund.zip', 'SCORE': 'cxadedc487277793fe7cd73ac4cdfdbc2fee02e0e1'}, 'rewards': {'zip': 'core_contracts/rewards.zip', 'SCORE': 'cxbbf173efedf4338d0562edf67f3f563cd6f09b18'}, 'dex': {'zip': 'core_contracts/dex.zip', 'SCORE': 'cx2d8cd99b2ed00a8ec519a00a9d42dd314e72a04b'}, 'governance': {'zip': 'core_contracts/governance.zip', 'SCORE': 'cxbdfe800a34762f3e65bdef1be4f3058b893d6fe5'}, 'oracle': {'zip': 'core_contracts/oracle.zip', 'SCORE': 'cx7171e2f5653c1b9c000e24228276b8d24e84f10d'}, 'sicx': {'zip': 'token_contracts/sicx.zip', 'SCORE': 'cxf99f4ca65fda1cdfa461f473d60f729341524022'}, 'bnUSD': {'zip': 'token_contracts/bnUSD.zip', 'SCORE': 'cx0f493f0d561d14576f3705ff422c32fe305b2e6a'}, 'baln': {'zip': 'token_contracts/baln.zip', 'SCORE': 'cxdf5d7067e425b3e1a2c96659b3fd91bd1b5dd0d9'}, 'bwt': {'zip': 'token_contracts/bwt.zip', 'SCORE': 'cxf2c45e05c329bd9c0dd7780b8f14a15a1eaa78ff'}}\n",
      "{\"loans\": \"cx764463174b4f7d44988968f93c08081881fcfc85\", \"staking\": \"cx686423d2293831a6cb2441959112a1a06b7462ba\", \"dividends\": \"cxa6f208b9b7fecd68e7cf66675ba058ef68c00ef6\", \"reserve\": \"cxedf87c1cd6811891016606c403418cf967340a51\", \"daofund\": \"cxadedc487277793fe7cd73ac4cdfdbc2fee02e0e1\", \"rewards\": \"cxbbf173efedf4338d0562edf67f3f563cd6f09b18\", \"dex\": \"cx2d8cd99b2ed00a8ec519a00a9d42dd314e72a04b\", \"governance\": \"cxbdfe800a34762f3e65bdef1be4f3058b893d6fe5\", \"oracle\": \"cx7171e2f5653c1b9c000e24228276b8d24e84f10d\", \"sicx\": \"cxf99f4ca65fda1cdfa461f473d60f729341524022\", \"bnUSD\": \"cx0f493f0d561d14576f3705ff422c32fe305b2e6a\", \"baln\": \"cxdf5d7067e425b3e1a2c96659b3fd91bd1b5dd0d9\", \"bwt\": \"cxf2c45e05c329bd9c0dd7780b8f14a15a1eaa78ff\"}\n"
     ]
    }
   ],
   "source": [
    "# Cell 7\n",
    "# Deploy and configure Balanced. Print results if anything goes wrong.\n",
    "\n",
    "results = {}\n",
    "deploy_all(btest_wallet)\n",
    "print('------------------------------------------------------------------------------------------------------------------')\n",
    "print(contracts)\n",
    "print(get_scores_json(contracts))"
   ]
  },
  {
   "cell_type": "markdown",
   "metadata": {},
   "source": [
    "Update a score"
   ]
  },
  {
   "cell_type": "code",
   "execution_count": 14,
   "metadata": {},
   "outputs": [
    {
     "name": "stdout",
     "output_type": "stream",
     "text": [
      "core_contracts/loans.zip\n"
     ]
    },
    {
     "name": "stderr",
     "output_type": "stream",
     "text": [
      "Raised JSONRPCException while returning the custom response. Error message: {'code': -32602, 'message': 'Pending transaction'}\n"
     ]
    },
    {
     "name": "stdout",
     "output_type": "stream",
     "text": [
      "Retrying in 1 seconds...\n",
      "Status: 1\n",
      "\n"
     ]
    },
    {
     "data": {
      "text/plain": [
       "'cx764463174b4f7d44988968f93c08081881fcfc85'"
      ]
     },
     "execution_count": 14,
     "metadata": {},
     "output_type": "execute_result"
    }
   ],
   "source": [
    "# Cell 8\n",
    "# Deploy or Update a single SCORE\n",
    "\n",
    "compress()\n",
    "update = 1\n",
    "contract = contracts['loans']\n",
    "params = {}\n",
    "# params = {'_governance': contracts['governance']['SCORE']}\n",
    "deploy_SCORE(contract, params, btest_wallet, update)"
   ]
  },
  {
   "cell_type": "markdown",
   "metadata": {},
   "source": [
    "Test getDebts method"
   ]
  },
  {
   "cell_type": "code",
   "execution_count": 12,
   "metadata": {},
   "outputs": [
    {
     "name": "stdout",
     "output_type": "stream",
     "text": [
      "------------------------------------------------------------------------------------------------------------------\n",
      "Calling addCollateral, with parameters {'_asset': 'bnUSD', '_amount': 500000000000000000000} on the loans contract.\n",
      "------------------------------------------------------------------------------------------------------------------\n"
     ]
    },
    {
     "name": "stderr",
     "output_type": "stream",
     "text": [
      "Raised JSONRPCException while returning the custom response. Error message: {'code': -32602, 'message': 'Pending transaction'}\n"
     ]
    },
    {
     "name": "stdout",
     "output_type": "stream",
     "text": [
      "Retrying in 1 seconds...\n",
      "************************************************** Status: 1 **************************************************\n",
      "{'scoreAddress': 'cxb2729d8ec932b0701e1a7d731ee1bf0f86e8a00d', 'indexed': ['ICXTransfer(Address,Address,int)', 'cxb2729d8ec932b0701e1a7d731ee1bf0f86e8a00d', 'cxbe35638c3cf1773ca533866c47964b5ff61c1065', '0x878678326eac900000'], 'data': []} \n",
      "\n",
      "{'scoreAddress': 'cxa1d8682563a3b7087fcd174d0448054cc0279347', 'indexed': ['Mint(Address,int,bytes)', 'cxb2729d8ec932b0701e1a7d731ee1bf0f86e8a00d'], 'data': ['0x878678326eac900000', '0x7b226d6574686f64223a225f6465706f7369745f616e645f626f72726f77222c22706172616d73223a7b225f73656e646572223a22687865363264313166613139613065383537356164393266303662633866643432656462666532376462222c225f6173736574223a22626e555344222c225f616d6f756e74223a3530303030303030303030303030303030303030307d7d']} \n",
      "\n",
      "{'scoreAddress': 'cxa1d8682563a3b7087fcd174d0448054cc0279347', 'indexed': ['Transfer(Address,Address,int,bytes)', 'hx0000000000000000000000000000000000000000', 'cxb2729d8ec932b0701e1a7d731ee1bf0f86e8a00d', '0x878678326eac900000'], 'data': ['0x7b226d6574686f64223a225f6465706f7369745f616e645f626f72726f77222c22706172616d73223a7b225f73656e646572223a22687865363264313166613139613065383537356164393266303662633866643432656462666532376462222c225f6173736574223a22626e555344222c225f616d6f756e74223a3530303030303030303030303030303030303030307d7d']} \n",
      "\n",
      "{'scoreAddress': 'cxb2729d8ec932b0701e1a7d731ee1bf0f86e8a00d', 'indexed': ['CollateralReceived(Address,str)', 'hxe62d11fa19a0e8575ad92f06bc8fd42edbfe27db', 'sICX'], 'data': []} \n",
      "\n",
      "{'scoreAddress': 'cx78f877bbe7e86d725aaed5e9a0f30f7ae3598abf', 'indexed': ['OraclePrice(str,str,Address,int)', 'USDICX', 'BandChain', 'cx7171e2f5653c1b9c000e24228276b8d24e84f10d'], 'data': ['0x84c5d90848544bb']} \n",
      "\n",
      "{'scoreAddress': 'cxb2729d8ec932b0701e1a7d731ee1bf0f86e8a00d', 'indexed': ['OriginateLoan(Address,str,int,str)', 'hxe62d11fa19a0e8575ad92f06bc8fd42edbfe27db', 'bnUSD', '0x1b1ae4d6e2ef500000'], 'data': ['Loan of 500.0 bnUSD from Balanced.']} \n",
      "\n",
      "{'scoreAddress': 'cx78f877bbe7e86d725aaed5e9a0f30f7ae3598abf', 'indexed': ['Mint(Address,int,bytes)', 'hxe62d11fa19a0e8575ad92f06bc8fd42edbfe27db'], 'data': ['0x1b1ae4d6e2ef500000', '0x4e6f6e65']} \n",
      "\n",
      "{'scoreAddress': 'cx78f877bbe7e86d725aaed5e9a0f30f7ae3598abf', 'indexed': ['Transfer(Address,Address,int,bytes)', 'hx0000000000000000000000000000000000000000', 'hxe62d11fa19a0e8575ad92f06bc8fd42edbfe27db', '0x1b1ae4d6e2ef500000'], 'data': ['0x4e6f6e65']} \n",
      "\n",
      "{'scoreAddress': 'cx78f877bbe7e86d725aaed5e9a0f30f7ae3598abf', 'indexed': ['Mint(Address,int,bytes)', 'cx50e9677ad4f98190bba47281aa61a313e8e69fa8'], 'data': ['0x4563918244f40000', '0x4e6f6e65']} \n",
      "\n",
      "{'scoreAddress': 'cx78f877bbe7e86d725aaed5e9a0f30f7ae3598abf', 'indexed': ['Transfer(Address,Address,int,bytes)', 'hx0000000000000000000000000000000000000000', 'cx50e9677ad4f98190bba47281aa61a313e8e69fa8', '0x4563918244f40000'], 'data': ['0x4e6f6e65']} \n",
      "\n",
      "{'scoreAddress': 'cxb2729d8ec932b0701e1a7d731ee1bf0f86e8a00d', 'indexed': ['FeePaid(str,int,str,str)', 'bnUSD', '0x4563918244f40000', 'origination'], 'data': ['']} \n",
      "\n",
      "{'scoreAddress': 'cxbe35638c3cf1773ca533866c47964b5ff61c1065', 'indexed': ['TokenTransfer(Address,int,str)', 'cxb2729d8ec932b0701e1a7d731ee1bf0f86e8a00d', '0x878678326eac900000'], 'data': ['2500.0 sICX minted to cxb2729d8ec932b0701e1a7d731ee1bf0f86e8a00d']} \n",
      "\n",
      "------------------------------------------------------------------------------------------------------------------\n",
      "Calling addCollateral, with parameters {'_asset': 'bnUSD', '_amount': 1000000000000000000000} on the loans contract.\n",
      "------------------------------------------------------------------------------------------------------------------\n"
     ]
    },
    {
     "name": "stderr",
     "output_type": "stream",
     "text": [
      "Raised JSONRPCException while returning the custom response. Error message: {'code': -32602, 'message': 'Pending transaction'}\n"
     ]
    },
    {
     "name": "stdout",
     "output_type": "stream",
     "text": [
      "Retrying in 1 seconds...\n",
      "************************************************** Status: 1 **************************************************\n",
      "{'scoreAddress': 'cxb2729d8ec932b0701e1a7d731ee1bf0f86e8a00d', 'indexed': ['ICXTransfer(Address,Address,int)', 'cxb2729d8ec932b0701e1a7d731ee1bf0f86e8a00d', 'cxbe35638c3cf1773ca533866c47964b5ff61c1065', '0x878678326eac900000'], 'data': []} \n",
      "\n",
      "{'scoreAddress': 'cxa1d8682563a3b7087fcd174d0448054cc0279347', 'indexed': ['Mint(Address,int,bytes)', 'cxb2729d8ec932b0701e1a7d731ee1bf0f86e8a00d'], 'data': ['0x878678326eac900000', '0x7b226d6574686f64223a225f6465706f7369745f616e645f626f72726f77222c22706172616d73223a7b225f73656e646572223a22687837613138323431323961386665383033653435613361616531633065303630333939353436313837222c225f6173736574223a22626e555344222c225f616d6f756e74223a313030303030303030303030303030303030303030307d7d']} \n",
      "\n",
      "{'scoreAddress': 'cxa1d8682563a3b7087fcd174d0448054cc0279347', 'indexed': ['Transfer(Address,Address,int,bytes)', 'hx0000000000000000000000000000000000000000', 'cxb2729d8ec932b0701e1a7d731ee1bf0f86e8a00d', '0x878678326eac900000'], 'data': ['0x7b226d6574686f64223a225f6465706f7369745f616e645f626f72726f77222c22706172616d73223a7b225f73656e646572223a22687837613138323431323961386665383033653435613361616531633065303630333939353436313837222c225f6173736574223a22626e555344222c225f616d6f756e74223a313030303030303030303030303030303030303030307d7d']} \n",
      "\n",
      "{'scoreAddress': 'cxb2729d8ec932b0701e1a7d731ee1bf0f86e8a00d', 'indexed': ['CollateralReceived(Address,str)', 'hx7a1824129a8fe803e45a3aae1c0e060399546187', 'sICX'], 'data': []} \n",
      "\n",
      "{'scoreAddress': 'cxb2729d8ec932b0701e1a7d731ee1bf0f86e8a00d', 'indexed': ['OriginateLoan(Address,str,int,str)', 'hx7a1824129a8fe803e45a3aae1c0e060399546187', 'bnUSD', '0x3635c9adc5dea00000'], 'data': ['Loan of 1000.0 bnUSD from Balanced.']} \n",
      "\n",
      "{'scoreAddress': 'cx78f877bbe7e86d725aaed5e9a0f30f7ae3598abf', 'indexed': ['Mint(Address,int,bytes)', 'hx7a1824129a8fe803e45a3aae1c0e060399546187'], 'data': ['0x3635c9adc5dea00000', '0x4e6f6e65']} \n",
      "\n",
      "{'scoreAddress': 'cx78f877bbe7e86d725aaed5e9a0f30f7ae3598abf', 'indexed': ['Transfer(Address,Address,int,bytes)', 'hx0000000000000000000000000000000000000000', 'hx7a1824129a8fe803e45a3aae1c0e060399546187', '0x3635c9adc5dea00000'], 'data': ['0x4e6f6e65']} \n",
      "\n",
      "{'scoreAddress': 'cx78f877bbe7e86d725aaed5e9a0f30f7ae3598abf', 'indexed': ['Mint(Address,int,bytes)', 'cx50e9677ad4f98190bba47281aa61a313e8e69fa8'], 'data': ['0x8ac7230489e80000', '0x4e6f6e65']} \n",
      "\n",
      "{'scoreAddress': 'cx78f877bbe7e86d725aaed5e9a0f30f7ae3598abf', 'indexed': ['Transfer(Address,Address,int,bytes)', 'hx0000000000000000000000000000000000000000', 'cx50e9677ad4f98190bba47281aa61a313e8e69fa8', '0x8ac7230489e80000'], 'data': ['0x4e6f6e65']} \n",
      "\n",
      "{'scoreAddress': 'cxb2729d8ec932b0701e1a7d731ee1bf0f86e8a00d', 'indexed': ['FeePaid(str,int,str,str)', 'bnUSD', '0x8ac7230489e80000', 'origination'], 'data': ['']} \n",
      "\n",
      "{'scoreAddress': 'cxbe35638c3cf1773ca533866c47964b5ff61c1065', 'indexed': ['TokenTransfer(Address,int,str)', 'cxb2729d8ec932b0701e1a7d731ee1bf0f86e8a00d', '0x878678326eac900000'], 'data': ['2500.0 sICX minted to cxb2729d8ec932b0701e1a7d731ee1bf0f86e8a00d']} \n",
      "\n",
      "------------------------------------------------------------------------------------------------------------------\n",
      "Reading getAccountPositions, with parameters {'_owner': 'hxe62d11fa19a0e8575ad92f06bc8fd42edbfe27db'} on the loans contract.\n",
      "------------------------------------------------------------------------------------------------------------------\n",
      "{'pos_id': '0x1', 'created': '0x5becde11e6347', 'address': 'hxe62d11fa19a0e8575ad92f06bc8fd42edbfe27db', 'snap_id': '0x1', 'snaps_length': '0x1', 'last_snap': '0x1', 'first day': '0x1', 'assets': {'sICX': '0x878678326eac900000', 'bnUSD': '0x1b6048686534440000'}, 'replay_index': '0x0', 'events_behind': '0x0', 'total_debt': '0x0', 'ratio': '0x72e50870dc2724c3', 'standing': 'Mining'}\n",
      "------------------------------------------------------------------------------------------------------------------\n",
      "Reading getAccountPositions, with parameters {'_owner': 'hx7a1824129a8fe803e45a3aae1c0e060399546187'} on the loans contract.\n",
      "------------------------------------------------------------------------------------------------------------------\n",
      "{'pos_id': '0x2', 'created': '0x5becde15b7b02', 'address': 'hx7a1824129a8fe803e45a3aae1c0e060399546187', 'snap_id': '0x1', 'snaps_length': '0x1', 'last_snap': '0x1', 'first day': '0x1', 'assets': {'sICX': '0x878678326eac900000', 'bnUSD': '0x36c090d0ca68880000'}, 'replay_index': '0x0', 'events_behind': '0x0', 'total_debt': '0x0', 'ratio': '0x397284386e139261', 'standing': 'Not Mining'}\n"
     ]
    },
    {
     "data": {
      "text/plain": [
       "{'pos_id': '0x2',\n",
       " 'created': '0x5becde15b7b02',\n",
       " 'address': 'hx7a1824129a8fe803e45a3aae1c0e060399546187',\n",
       " 'snap_id': '0x1',\n",
       " 'snaps_length': '0x1',\n",
       " 'last_snap': '0x1',\n",
       " 'first day': '0x1',\n",
       " 'assets': {'sICX': '0x878678326eac900000', 'bnUSD': '0x36c090d0ca68880000'},\n",
       " 'replay_index': '0x0',\n",
       " 'events_behind': '0x0',\n",
       " 'total_debt': '0x0',\n",
       " 'ratio': '0x397284386e139261',\n",
       " 'standing': 'Not Mining'}"
      ]
     },
     "execution_count": 12,
     "metadata": {},
     "output_type": "execute_result"
    }
   ],
   "source": [
    "# 1. Deposit collateral and mint loan from different accounts\n",
    "# 2. call getDebts method on loans\n",
    "\n",
    "send_tx('loans', 2500 * ICX , 'addCollateral', {'_asset': 'bnUSD', '_amount': 500 * ICX}, user1)\n",
    "send_tx('loans', 2500 * ICX , 'addCollateral', {'_asset': 'bnUSD', '_amount': 1000 * ICX}, user2)\n",
    "call_tx('loans', 'getAccountPositions', {'_owner': user1.get_address()})\n",
    "call_tx('loans', 'getAccountPositions', {'_owner': user2.get_address()})\n",
    "\n"
   ]
  },
  {
   "cell_type": "code",
   "execution_count": 21,
   "metadata": {},
   "outputs": [
    {
     "name": "stdout",
     "output_type": "stream",
     "text": [
      "------------------------------------------------------------------------------------------------------------------\n",
      "Reading getDebts, with parameters {'_address_list': ['hxe62d11fa19a0e8575ad92f06bc8fd42edbfe27db', 'hx7a1824129a8fe803e45a3aae1c0e060399546187'], '_day': -1} on the loans contract.\n",
      "------------------------------------------------------------------------------------------------------------------\n",
      "{'hxe62d11fa19a0e8575ad92f06bc8fd42edbfe27db': '0x105ea492156ae494e3', 'hx7a1824129a8fe803e45a3aae1c0e060399546187': '0x20bd49242ad5c929c6'}\n"
     ]
    },
    {
     "data": {
      "text/plain": [
       "{'hxe62d11fa19a0e8575ad92f06bc8fd42edbfe27db': '0x105ea492156ae494e3',\n",
       " 'hx7a1824129a8fe803e45a3aae1c0e060399546187': '0x20bd49242ad5c929c6'}"
      ]
     },
     "execution_count": 21,
     "metadata": {},
     "output_type": "execute_result"
    }
   ],
   "source": [
    "# call getDebts method\n",
    "call_tx('loans', 'getDebts', {'_address_list':[user1.get_address(), user2.get_address()], '_day': 1})\n"
   ]
  },
  {
   "cell_type": "markdown",
   "metadata": {},
   "source": [
    "# Test Originate Loan "
   ]
  },
  {
   "cell_type": "code",
   "execution_count": 22,
   "metadata": {},
   "outputs": [
    {
     "name": "stdout",
     "output_type": "stream",
     "text": [
      "------------------------------------------------------------------------------------------------------------------\n",
      "Reading getAccountPositions, with parameters {'_owner': 'hx3f01840a599da07b0f620eeae7aa9c574169a4be'} on the loans contract.\n",
      "------------------------------------------------------------------------------------------------------------------\n",
      "{'message': 'That address has no outstanding loans or deposited collateral.'}\n",
      "------------------------------------------------------------------------------------------------------------------\n",
      "Calling originateLoan, with parameters {'_asset': 'bnUSD', '_amount': 50000000000000000000} on the loans contract.\n",
      "------------------------------------------------------------------------------------------------------------------\n"
     ]
    },
    {
     "name": "stderr",
     "output_type": "stream",
     "text": [
      "Raised JSONRPCException while returning the custom response. Error message: {'code': -32602, 'message': 'Pending transaction'}\n"
     ]
    },
    {
     "name": "stdout",
     "output_type": "stream",
     "text": [
      "Retrying in 1 seconds...\n",
      "************************************************** Status: 0 **************************************************\n",
      "Failure: {'code': 32, 'message': 'This address does not have a position on Balanced. Collateral must be deposited before originating a loan.'}\n"
     ]
    },
    {
     "data": {
      "text/plain": [
       "{'txHash': '0xad1bef79cecc619cf2086db3079f32dc4a42129c1587d2e98f5b3622343fa180',\n",
       " 'blockHeight': 1870684,\n",
       " 'blockHash': '0x656800d205f58d72a23e1bcde59a33ebbcda8ad5d7af823c5ac6710c3364a217',\n",
       " 'txIndex': 1,\n",
       " 'to': 'cxb2729d8ec932b0701e1a7d731ee1bf0f86e8a00d',\n",
       " 'stepUsed': 142200,\n",
       " 'stepPrice': 10000000000,\n",
       " 'cumulativeStepUsed': 142200,\n",
       " 'eventLogs': [],\n",
       " 'logsBloom': b'\\x00\\x00\\x00\\x00\\x00\\x00\\x00\\x00\\x00\\x00\\x00\\x00\\x00\\x00\\x00\\x00\\x00\\x00\\x00\\x00\\x00\\x00\\x00\\x00\\x00\\x00\\x00\\x00\\x00\\x00\\x00\\x00\\x00\\x00\\x00\\x00\\x00\\x00\\x00\\x00\\x00\\x00\\x00\\x00\\x00\\x00\\x00\\x00\\x00\\x00\\x00\\x00\\x00\\x00\\x00\\x00\\x00\\x00\\x00\\x00\\x00\\x00\\x00\\x00\\x00\\x00\\x00\\x00\\x00\\x00\\x00\\x00\\x00\\x00\\x00\\x00\\x00\\x00\\x00\\x00\\x00\\x00\\x00\\x00\\x00\\x00\\x00\\x00\\x00\\x00\\x00\\x00\\x00\\x00\\x00\\x00\\x00\\x00\\x00\\x00\\x00\\x00\\x00\\x00\\x00\\x00\\x00\\x00\\x00\\x00\\x00\\x00\\x00\\x00\\x00\\x00\\x00\\x00\\x00\\x00\\x00\\x00\\x00\\x00\\x00\\x00\\x00\\x00\\x00\\x00\\x00\\x00\\x00\\x00\\x00\\x00\\x00\\x00\\x00\\x00\\x00\\x00\\x00\\x00\\x00\\x00\\x00\\x00\\x00\\x00\\x00\\x00\\x00\\x00\\x00\\x00\\x00\\x00\\x00\\x00\\x00\\x00\\x00\\x00\\x00\\x00\\x00\\x00\\x00\\x00\\x00\\x00\\x00\\x00\\x00\\x00\\x00\\x00\\x00\\x00\\x00\\x00\\x00\\x00\\x00\\x00\\x00\\x00\\x00\\x00\\x00\\x00\\x00\\x00\\x00\\x00\\x00\\x00\\x00\\x00\\x00\\x00\\x00\\x00\\x00\\x00\\x00\\x00\\x00\\x00\\x00\\x00\\x00\\x00\\x00\\x00\\x00\\x00\\x00\\x00\\x00\\x00\\x00\\x00\\x00\\x00\\x00\\x00\\x00\\x00\\x00\\x00\\x00\\x00\\x00\\x00\\x00\\x00\\x00\\x00\\x00\\x00\\x00\\x00\\x00\\x00\\x00\\x00\\x00\\x00\\x00\\x00\\x00\\x00\\x00\\x00',\n",
       " 'status': 0,\n",
       " 'failure': {'code': 32,\n",
       "  'message': 'This address does not have a position on Balanced. Collateral must be deposited before originating a loan.'}}"
      ]
     },
     "execution_count": 22,
     "metadata": {},
     "output_type": "execute_result"
    }
   ],
   "source": [
    "#Try originating loans with an account that doesn’t have a position in Balanced \n",
    "call_tx('loans', 'getAccountPositions', {'_owner': btest_wallet.get_address()})\n",
    "send_tx('loans', 0, 'originateLoan', {'_asset':'bnUSD', '_amount':50 *ICX}, btest_wallet)\n"
   ]
  },
  {
   "cell_type": "code",
   "execution_count": 23,
   "metadata": {},
   "outputs": [
    {
     "name": "stdout",
     "output_type": "stream",
     "text": [
      "------------------------------------------------------------------------------------------------------------------\n",
      "Reading getAccountPositions, with parameters {'_owner': 'hx3f01840a599da07b0f620eeae7aa9c574169a4be'} on the loans contract.\n",
      "------------------------------------------------------------------------------------------------------------------\n",
      "{'message': 'That address has no outstanding loans or deposited collateral.'}\n",
      "------------------------------------------------------------------------------------------------------------------\n",
      "Calling addCollateral, with parameters {'_asset': '', '_amount': 0} on the loans contract.\n",
      "------------------------------------------------------------------------------------------------------------------\n"
     ]
    },
    {
     "name": "stderr",
     "output_type": "stream",
     "text": [
      "Raised JSONRPCException while returning the custom response. Error message: {'code': -32602, 'message': 'Pending transaction'}\n"
     ]
    },
    {
     "name": "stdout",
     "output_type": "stream",
     "text": [
      "Retrying in 1 seconds...\n",
      "************************************************** Status: 1 **************************************************\n",
      "{'scoreAddress': 'cxb2729d8ec932b0701e1a7d731ee1bf0f86e8a00d', 'indexed': ['ICXTransfer(Address,Address,int)', 'cxb2729d8ec932b0701e1a7d731ee1bf0f86e8a00d', 'cxbe35638c3cf1773ca533866c47964b5ff61c1065', '0x8ac7230489e80000'], 'data': []} \n",
      "\n",
      "{'scoreAddress': 'cxa1d8682563a3b7087fcd174d0448054cc0279347', 'indexed': ['Mint(Address,int,bytes)', 'cxb2729d8ec932b0701e1a7d731ee1bf0f86e8a00d'], 'data': ['0x8ac7230489e80000', '0x7b226d6574686f64223a225f6465706f7369745f616e645f626f72726f77222c22706172616d73223a7b225f73656e646572223a22687833663031383430613539396461303762306636323065656165376161396335373431363961346265222c225f6173736574223a22222c225f616d6f756e74223a307d7d']} \n",
      "\n",
      "{'scoreAddress': 'cxa1d8682563a3b7087fcd174d0448054cc0279347', 'indexed': ['Transfer(Address,Address,int,bytes)', 'hx0000000000000000000000000000000000000000', 'cxb2729d8ec932b0701e1a7d731ee1bf0f86e8a00d', '0x8ac7230489e80000'], 'data': ['0x7b226d6574686f64223a225f6465706f7369745f616e645f626f72726f77222c22706172616d73223a7b225f73656e646572223a22687833663031383430613539396461303762306636323065656165376161396335373431363961346265222c225f6173736574223a22222c225f616d6f756e74223a307d7d']} \n",
      "\n",
      "{'scoreAddress': 'cx78f877bbe7e86d725aaed5e9a0f30f7ae3598abf', 'indexed': ['OraclePrice(str,str,Address,int)', 'USDICX', 'BandChain', 'cx7171e2f5653c1b9c000e24228276b8d24e84f10d'], 'data': ['0x84c5d90848544bb']} \n",
      "\n",
      "{'scoreAddress': 'cxb2729d8ec932b0701e1a7d731ee1bf0f86e8a00d', 'indexed': ['Snapshot(int)', '0x2'], 'data': []} \n",
      "\n",
      "{'scoreAddress': 'cxb2729d8ec932b0701e1a7d731ee1bf0f86e8a00d', 'indexed': ['CollateralReceived(Address,str)', 'hx3f01840a599da07b0f620eeae7aa9c574169a4be', 'sICX'], 'data': []} \n",
      "\n",
      "{'scoreAddress': 'cxbe35638c3cf1773ca533866c47964b5ff61c1065', 'indexed': ['TokenTransfer(Address,int,str)', 'cxb2729d8ec932b0701e1a7d731ee1bf0f86e8a00d', '0x8ac7230489e80000'], 'data': ['10.0 sICX minted to cxb2729d8ec932b0701e1a7d731ee1bf0f86e8a00d']} \n",
      "\n",
      "------------------------------------------------------------------------------------------------------------------\n",
      "Calling originateLoan, with parameters {'_asset': 'bnUSD', '_amount': 50000000000000000000} on the loans contract.\n",
      "------------------------------------------------------------------------------------------------------------------\n"
     ]
    },
    {
     "name": "stderr",
     "output_type": "stream",
     "text": [
      "Raised JSONRPCException while returning the custom response. Error message: {'code': -32602, 'message': 'Pending transaction'}\n"
     ]
    },
    {
     "name": "stdout",
     "output_type": "stream",
     "text": [
      "Retrying in 1 seconds...\n",
      "************************************************** Status: 0 **************************************************\n",
      "Failure: {'code': 32, 'message': '10.0 collateral is insufficient to originate a loan of 50.0 bnUSD when max_debt_value = 2.5 and new_debt_value = 30.196764153578393, plus a fee of 0.5 bnUSD, and an existing loan value of 0.0.'}\n"
     ]
    },
    {
     "data": {
      "text/plain": [
       "{'txHash': '0xd48343c95fe95a87e605eea73d4f154124933e62021c68bf562c50c9aa01745c',\n",
       " 'blockHeight': 1871297,\n",
       " 'blockHash': '0x88dca209cba0ec09b12552ae477782efc4df963524362a48817edee08bb87a58',\n",
       " 'txIndex': 1,\n",
       " 'to': 'cxb2729d8ec932b0701e1a7d731ee1bf0f86e8a00d',\n",
       " 'stepUsed': 683840,\n",
       " 'stepPrice': 10000000000,\n",
       " 'cumulativeStepUsed': 683840,\n",
       " 'eventLogs': [],\n",
       " 'logsBloom': b'\\x00\\x00\\x00\\x00\\x00\\x00\\x00\\x00\\x00\\x00\\x00\\x00\\x00\\x00\\x00\\x00\\x00\\x00\\x00\\x00\\x00\\x00\\x00\\x00\\x00\\x00\\x00\\x00\\x00\\x00\\x00\\x00\\x00\\x00\\x00\\x00\\x00\\x00\\x00\\x00\\x00\\x00\\x00\\x00\\x00\\x00\\x00\\x00\\x00\\x00\\x00\\x00\\x00\\x00\\x00\\x00\\x00\\x00\\x00\\x00\\x00\\x00\\x00\\x00\\x00\\x00\\x00\\x00\\x00\\x00\\x00\\x00\\x00\\x00\\x00\\x00\\x00\\x00\\x00\\x00\\x00\\x00\\x00\\x00\\x00\\x00\\x00\\x00\\x00\\x00\\x00\\x00\\x00\\x00\\x00\\x00\\x00\\x00\\x00\\x00\\x00\\x00\\x00\\x00\\x00\\x00\\x00\\x00\\x00\\x00\\x00\\x00\\x00\\x00\\x00\\x00\\x00\\x00\\x00\\x00\\x00\\x00\\x00\\x00\\x00\\x00\\x00\\x00\\x00\\x00\\x00\\x00\\x00\\x00\\x00\\x00\\x00\\x00\\x00\\x00\\x00\\x00\\x00\\x00\\x00\\x00\\x00\\x00\\x00\\x00\\x00\\x00\\x00\\x00\\x00\\x00\\x00\\x00\\x00\\x00\\x00\\x00\\x00\\x00\\x00\\x00\\x00\\x00\\x00\\x00\\x00\\x00\\x00\\x00\\x00\\x00\\x00\\x00\\x00\\x00\\x00\\x00\\x00\\x00\\x00\\x00\\x00\\x00\\x00\\x00\\x00\\x00\\x00\\x00\\x00\\x00\\x00\\x00\\x00\\x00\\x00\\x00\\x00\\x00\\x00\\x00\\x00\\x00\\x00\\x00\\x00\\x00\\x00\\x00\\x00\\x00\\x00\\x00\\x00\\x00\\x00\\x00\\x00\\x00\\x00\\x00\\x00\\x00\\x00\\x00\\x00\\x00\\x00\\x00\\x00\\x00\\x00\\x00\\x00\\x00\\x00\\x00\\x00\\x00\\x00\\x00\\x00\\x00\\x00\\x00\\x00\\x00\\x00\\x00\\x00\\x00',\n",
       " 'status': 0,\n",
       " 'failure': {'code': 32,\n",
       "  'message': '10.0 collateral is insufficient to originate a loan of 50.0 bnUSD when max_debt_value = 2.5 and new_debt_value = 30.196764153578393, plus a fee of 0.5 bnUSD, and an existing loan value of 0.0.'}}"
      ]
     },
     "execution_count": 23,
     "metadata": {},
     "output_type": "execute_result"
    }
   ],
   "source": [
    "# Try depositing 10 ICX and call originate loan of 50 bnUSD\n",
    "call_tx('loans', 'getAccountPositions', {'_owner': btest_wallet.get_address()})\n",
    "send_tx('loans', 10*ICX, 'addCollateral', {'_asset': '', '_amount': 0}, btest_wallet)\n",
    "send_tx('loans', 0, 'originateLoan', {'_asset':'bnUSD', '_amount':50 *ICX}, btest_wallet)\n"
   ]
  },
  {
   "cell_type": "code",
   "execution_count": 25,
   "metadata": {},
   "outputs": [
    {
     "name": "stdout",
     "output_type": "stream",
     "text": [
      "------------------------------------------------------------------------------------------------------------------\n",
      "Reading getAccountPositions, with parameters {'_owner': 'hx3f01840a599da07b0f620eeae7aa9c574169a4be'} on the loans contract.\n",
      "------------------------------------------------------------------------------------------------------------------\n",
      "{'pos_id': '0x3', 'created': '0x5becf224944ab', 'address': 'hx3f01840a599da07b0f620eeae7aa9c574169a4be', 'snap_id': '0x3', 'snaps_length': '0x2', 'last_snap': '0x3', 'first day': '0x2', 'assets': {'sICX': '0x2b5e3af16b1880000'}, 'replay_index': '0x0', 'events_behind': '0x0', 'total_debt': '0x0', 'ratio': '0x0', 'standing': 'No Debt'}\n",
      "------------------------------------------------------------------------------------------------------------------\n",
      "Calling addCollateral, with parameters {'_asset': '', '_amount': 0} on the loans contract.\n",
      "------------------------------------------------------------------------------------------------------------------\n",
      "************************************************** Status: 1 **************************************************\n",
      "{'scoreAddress': 'cxb2729d8ec932b0701e1a7d731ee1bf0f86e8a00d', 'indexed': ['ICXTransfer(Address,Address,int)', 'cxb2729d8ec932b0701e1a7d731ee1bf0f86e8a00d', 'cxbe35638c3cf1773ca533866c47964b5ff61c1065', '0xd8d726b7177a80000'], 'data': []} \n",
      "\n",
      "{'scoreAddress': 'cxa1d8682563a3b7087fcd174d0448054cc0279347', 'indexed': ['Mint(Address,int,bytes)', 'cxb2729d8ec932b0701e1a7d731ee1bf0f86e8a00d'], 'data': ['0xd8d726b7177a80000', '0x7b226d6574686f64223a225f6465706f7369745f616e645f626f72726f77222c22706172616d73223a7b225f73656e646572223a22687833663031383430613539396461303762306636323065656165376161396335373431363961346265222c225f6173736574223a22222c225f616d6f756e74223a307d7d']} \n",
      "\n",
      "{'scoreAddress': 'cxa1d8682563a3b7087fcd174d0448054cc0279347', 'indexed': ['Transfer(Address,Address,int,bytes)', 'hx0000000000000000000000000000000000000000', 'cxb2729d8ec932b0701e1a7d731ee1bf0f86e8a00d', '0xd8d726b7177a80000'], 'data': ['0x7b226d6574686f64223a225f6465706f7369745f616e645f626f72726f77222c22706172616d73223a7b225f73656e646572223a22687833663031383430613539396461303762306636323065656165376161396335373431363961346265222c225f6173736574223a22222c225f616d6f756e74223a307d7d']} \n",
      "\n",
      "{'scoreAddress': 'cx956cfb62b8758385ae3afac5264436ce901150d1', 'indexed': ['Mint(Address,int,bytes)', 'cx4b9427565ba082124d6455021bef8d1a98fa77c6'], 'data': ['0x152d02c7e14af6800000', '0x4e6f6e65']} \n",
      "\n",
      "{'scoreAddress': 'cx956cfb62b8758385ae3afac5264436ce901150d1', 'indexed': ['Transfer(Address,Address,int,bytes)', 'hx0000000000000000000000000000000000000000', 'cx4b9427565ba082124d6455021bef8d1a98fa77c6', '0x152d02c7e14af6800000'], 'data': ['0x4e6f6e65']} \n",
      "\n",
      "{'scoreAddress': 'cx956cfb62b8758385ae3afac5264436ce901150d1', 'indexed': ['Transfer(Address,Address,int,bytes)', 'cx4b9427565ba082124d6455021bef8d1a98fa77c6', 'cx3ad4d0da78748e7731b44092f249a8d7e699648e', '0x43c33c1937564800000'], 'data': ['0x4e6f6e65']} \n",
      "\n",
      "{'scoreAddress': 'cx956cfb62b8758385ae3afac5264436ce901150d1', 'indexed': ['Transfer(Address,Address,int,bytes)', 'cx4b9427565ba082124d6455021bef8d1a98fa77c6', 'cx3362b3b53bfe0a95e6013fa52342fa8ab06675c3', '0x10f0cf064dd59200000'], 'data': ['0x4e6f6e65']} \n",
      "\n",
      "{'scoreAddress': 'cx956cfb62b8758385ae3afac5264436ce901150d1', 'indexed': ['Transfer(Address,Address,int,bytes)', 'cx4b9427565ba082124d6455021bef8d1a98fa77c6', 'cx74617a27bac7bbff1da9915bd42933319265588a', '0x4c3ba39c5e411100000'], 'data': ['0x4e6f6e65']} \n",
      "\n",
      "{'scoreAddress': 'cxb2729d8ec932b0701e1a7d731ee1bf0f86e8a00d', 'indexed': ['CollateralReceived(Address,str)', 'hx3f01840a599da07b0f620eeae7aa9c574169a4be', 'sICX'], 'data': []} \n",
      "\n",
      "{'scoreAddress': 'cx78f877bbe7e86d725aaed5e9a0f30f7ae3598abf', 'indexed': ['OraclePrice(str,str,Address,int)', 'USDICX', 'BandChain', 'cx7171e2f5653c1b9c000e24228276b8d24e84f10d'], 'data': ['0x84c5d90848544bb']} \n",
      "\n",
      "{'scoreAddress': 'cxbe35638c3cf1773ca533866c47964b5ff61c1065', 'indexed': ['TokenTransfer(Address,int,str)', 'cxb2729d8ec932b0701e1a7d731ee1bf0f86e8a00d', '0xd8d726b7177a80000'], 'data': ['250.0 sICX minted to cxb2729d8ec932b0701e1a7d731ee1bf0f86e8a00d']} \n",
      "\n",
      "------------------------------------------------------------------------------------------------------------------\n",
      "Calling originateLoan, with parameters {'_asset': 'bnUSD', '_amount': 50000000000000000000} on the loans contract.\n",
      "------------------------------------------------------------------------------------------------------------------\n"
     ]
    },
    {
     "name": "stderr",
     "output_type": "stream",
     "text": [
      "Raised JSONRPCException while returning the custom response. Error message: {'code': -32602, 'message': 'Pending transaction'}\n"
     ]
    },
    {
     "name": "stdout",
     "output_type": "stream",
     "text": [
      "Retrying in 1 seconds...\n",
      "************************************************** Status: 1 **************************************************\n",
      "{'scoreAddress': 'cxb2729d8ec932b0701e1a7d731ee1bf0f86e8a00d', 'indexed': ['OriginateLoan(Address,str,int,str)', 'hx3f01840a599da07b0f620eeae7aa9c574169a4be', 'bnUSD', '0x2b5e3af16b1880000'], 'data': ['Loan of 50.0 bnUSD from Balanced.']} \n",
      "\n",
      "{'scoreAddress': 'cx78f877bbe7e86d725aaed5e9a0f30f7ae3598abf', 'indexed': ['Mint(Address,int,bytes)', 'hx3f01840a599da07b0f620eeae7aa9c574169a4be'], 'data': ['0x2b5e3af16b1880000', '0x4e6f6e65']} \n",
      "\n",
      "{'scoreAddress': 'cx78f877bbe7e86d725aaed5e9a0f30f7ae3598abf', 'indexed': ['Transfer(Address,Address,int,bytes)', 'hx0000000000000000000000000000000000000000', 'hx3f01840a599da07b0f620eeae7aa9c574169a4be', '0x2b5e3af16b1880000'], 'data': ['0x4e6f6e65']} \n",
      "\n",
      "{'scoreAddress': 'cx78f877bbe7e86d725aaed5e9a0f30f7ae3598abf', 'indexed': ['Mint(Address,int,bytes)', 'cx50e9677ad4f98190bba47281aa61a313e8e69fa8'], 'data': ['0x6f05b59d3b20000', '0x4e6f6e65']} \n",
      "\n",
      "{'scoreAddress': 'cx78f877bbe7e86d725aaed5e9a0f30f7ae3598abf', 'indexed': ['Transfer(Address,Address,int,bytes)', 'hx0000000000000000000000000000000000000000', 'cx50e9677ad4f98190bba47281aa61a313e8e69fa8', '0x6f05b59d3b20000'], 'data': ['0x4e6f6e65']} \n",
      "\n",
      "{'scoreAddress': 'cxb2729d8ec932b0701e1a7d731ee1bf0f86e8a00d', 'indexed': ['FeePaid(str,int,str,str)', 'bnUSD', '0x6f05b59d3b20000', 'origination'], 'data': ['']} \n",
      "\n",
      "------------------------------------------------------------------------------------------------------------------\n",
      "Reading getAccountPositions, with parameters {'_owner': 'hx3f01840a599da07b0f620eeae7aa9c574169a4be'} on the loans contract.\n",
      "------------------------------------------------------------------------------------------------------------------\n",
      "{'pos_id': '0x3', 'created': '0x5becf224944ab', 'address': 'hx3f01840a599da07b0f620eeae7aa9c574169a4be', 'snap_id': '0x3', 'snaps_length': '0x2', 'last_snap': '0x3', 'first day': '0x2', 'assets': {'sICX': '0x1043561a8829300000', 'bnUSD': '0x2bcd40a70853a0000'}, 'replay_index': '0x0', 'events_behind': '0x0', 'total_debt': '0x0', 'ratio': '0x89dfa3baa1c89284', 'standing': 'Mining'}\n"
     ]
    },
    {
     "data": {
      "text/plain": [
       "{'pos_id': '0x3',\n",
       " 'created': '0x5becf224944ab',\n",
       " 'address': 'hx3f01840a599da07b0f620eeae7aa9c574169a4be',\n",
       " 'snap_id': '0x3',\n",
       " 'snaps_length': '0x2',\n",
       " 'last_snap': '0x3',\n",
       " 'first day': '0x2',\n",
       " 'assets': {'sICX': '0x1043561a8829300000', 'bnUSD': '0x2bcd40a70853a0000'},\n",
       " 'replay_index': '0x0',\n",
       " 'events_behind': '0x0',\n",
       " 'total_debt': '0x0',\n",
       " 'ratio': '0x89dfa3baa1c89284',\n",
       " 'standing': 'Mining'}"
      ]
     },
     "execution_count": 25,
     "metadata": {},
     "output_type": "execute_result"
    }
   ],
   "source": [
    "# Try depositing enough ICX to get a loan of 50 bnUSD and call originate loan of 50 bnUSD \n",
    "call_tx('loans', 'getAccountPositions', {'_owner': btest_wallet.get_address()})\n",
    "send_tx('loans', 250*ICX, 'addCollateral', {'_asset': '', '_amount': 0}, btest_wallet)\n",
    "send_tx('loans', 0, 'originateLoan', {'_asset':'bnUSD', '_amount':50 *ICX}, btest_wallet)\n",
    "call_tx('loans', 'getAccountPositions', {'_owner': btest_wallet.get_address()})\n"
   ]
  },
  {
   "cell_type": "code",
   "execution_count": 26,
   "metadata": {},
   "outputs": [
    {
     "name": "stdout",
     "output_type": "stream",
     "text": [
      "------------------------------------------------------------------------------------------------------------------\n",
      "Reading getAccountPositions, with parameters {'_owner': 'hxe7af5fcfd8dfc67530a01a0e403882687528dfcb'} on the loans contract.\n",
      "------------------------------------------------------------------------------------------------------------------\n",
      "{'message': 'That address has no outstanding loans or deposited collateral.'}\n",
      "------------------------------------------------------------------------------------------------------------------\n",
      "Reading getAccountPositions, with parameters {'_owner': 'hx3f01840a599da07b0f620eeae7aa9c574169a4be'} on the loans contract.\n",
      "------------------------------------------------------------------------------------------------------------------\n",
      "{'pos_id': '0x3', 'created': '0x5becf224944ab', 'address': 'hx3f01840a599da07b0f620eeae7aa9c574169a4be', 'snap_id': '0x3', 'snaps_length': '0x2', 'last_snap': '0x3', 'first day': '0x2', 'assets': {'sICX': '0x1043561a8829300000', 'bnUSD': '0x2bcd40a70853a0000'}, 'replay_index': '0x0', 'events_behind': '0x0', 'total_debt': '0x0', 'ratio': '0x89dfa3baa1c89284', 'standing': 'Mining'}\n"
     ]
    },
    {
     "data": {
      "text/plain": [
       "{'pos_id': '0x3',\n",
       " 'created': '0x5becf224944ab',\n",
       " 'address': 'hx3f01840a599da07b0f620eeae7aa9c574169a4be',\n",
       " 'snap_id': '0x3',\n",
       " 'snaps_length': '0x2',\n",
       " 'last_snap': '0x3',\n",
       " 'first day': '0x2',\n",
       " 'assets': {'sICX': '0x1043561a8829300000', 'bnUSD': '0x2bcd40a70853a0000'},\n",
       " 'replay_index': '0x0',\n",
       " 'events_behind': '0x0',\n",
       " 'total_debt': '0x0',\n",
       " 'ratio': '0x89dfa3baa1c89284',\n",
       " 'standing': 'Mining'}"
      ]
     },
     "execution_count": 26,
     "metadata": {},
     "output_type": "execute_result"
    }
   ],
   "source": [
    "call_tx('loans', 'getAccountPositions', {'_owner': wallet.get_address()})\n",
    "call_tx('loans', 'getAccountPositions', {'_owner': btest_wallet.get_address()})\n"
   ]
  },
  {
   "cell_type": "markdown",
   "metadata": {},
   "source": [
    "Trying to mint loan to account wallet from btest_wallet"
   ]
  },
  {
   "cell_type": "code",
   "execution_count": 28,
   "metadata": {},
   "outputs": [
    {
     "name": "stdout",
     "output_type": "stream",
     "text": [
      "------------------------------------------------------------------------------------------------------------------\n",
      "Calling addCollateral, with parameters {'_asset': '', '_amount': 0} on the loans contract.\n",
      "------------------------------------------------------------------------------------------------------------------\n"
     ]
    },
    {
     "name": "stderr",
     "output_type": "stream",
     "text": [
      "Raised JSONRPCException while returning the custom response. Error message: {'code': -32602, 'message': 'Pending transaction'}\n"
     ]
    },
    {
     "name": "stdout",
     "output_type": "stream",
     "text": [
      "Retrying in 1 seconds...\n",
      "************************************************** Status: 1 **************************************************\n",
      "{'scoreAddress': 'cxb2729d8ec932b0701e1a7d731ee1bf0f86e8a00d', 'indexed': ['ICXTransfer(Address,Address,int)', 'cxb2729d8ec932b0701e1a7d731ee1bf0f86e8a00d', 'cxbe35638c3cf1773ca533866c47964b5ff61c1065', '0x56bc75e2d63100000'], 'data': []} \n",
      "\n",
      "{'scoreAddress': 'cxa1d8682563a3b7087fcd174d0448054cc0279347', 'indexed': ['Mint(Address,int,bytes)', 'cxb2729d8ec932b0701e1a7d731ee1bf0f86e8a00d'], 'data': ['0x56bc75e2d63100000', '0x7b226d6574686f64223a225f6465706f7369745f616e645f626f72726f77222c22706172616d73223a7b225f73656e646572223a22687865376166356663666438646663363735333061303161306534303338383236383735323864666362222c225f6173736574223a22222c225f616d6f756e74223a307d7d']} \n",
      "\n",
      "{'scoreAddress': 'cxa1d8682563a3b7087fcd174d0448054cc0279347', 'indexed': ['Transfer(Address,Address,int,bytes)', 'hx0000000000000000000000000000000000000000', 'cxb2729d8ec932b0701e1a7d731ee1bf0f86e8a00d', '0x56bc75e2d63100000'], 'data': ['0x7b226d6574686f64223a225f6465706f7369745f616e645f626f72726f77222c22706172616d73223a7b225f73656e646572223a22687865376166356663666438646663363735333061303161306534303338383236383735323864666362222c225f6173736574223a22222c225f616d6f756e74223a307d7d']} \n",
      "\n",
      "{'scoreAddress': 'cxb2729d8ec932b0701e1a7d731ee1bf0f86e8a00d', 'indexed': ['CollateralReceived(Address,str)', 'hxe7af5fcfd8dfc67530a01a0e403882687528dfcb', 'sICX'], 'data': []} \n",
      "\n",
      "{'scoreAddress': 'cxbe35638c3cf1773ca533866c47964b5ff61c1065', 'indexed': ['TokenTransfer(Address,int,str)', 'cxb2729d8ec932b0701e1a7d731ee1bf0f86e8a00d', '0x56bc75e2d63100000'], 'data': ['100.0 sICX minted to cxb2729d8ec932b0701e1a7d731ee1bf0f86e8a00d']} \n",
      "\n",
      "------------------------------------------------------------------------------------------------------------------\n",
      "Calling originateLoan, with parameters {'_asset': 'bnUSD', '_amount': 50000000000000000000, '_from': 'hxe7af5fcfd8dfc67530a01a0e403882687528dfcb'} on the loans contract.\n",
      "------------------------------------------------------------------------------------------------------------------\n",
      "************************************************** Status: 1 **************************************************\n",
      "{'scoreAddress': 'cxb2729d8ec932b0701e1a7d731ee1bf0f86e8a00d', 'indexed': ['OriginateLoan(Address,str,int,str)', 'hxe7af5fcfd8dfc67530a01a0e403882687528dfcb', 'bnUSD', '0x2b5e3af16b1880000'], 'data': ['Loan of 50.0 bnUSD from Balanced.']} \n",
      "\n",
      "{'scoreAddress': 'cx78f877bbe7e86d725aaed5e9a0f30f7ae3598abf', 'indexed': ['Mint(Address,int,bytes)', 'hxe7af5fcfd8dfc67530a01a0e403882687528dfcb'], 'data': ['0x2b5e3af16b1880000', '0x4e6f6e65']} \n",
      "\n",
      "{'scoreAddress': 'cx78f877bbe7e86d725aaed5e9a0f30f7ae3598abf', 'indexed': ['Transfer(Address,Address,int,bytes)', 'hx0000000000000000000000000000000000000000', 'hxe7af5fcfd8dfc67530a01a0e403882687528dfcb', '0x2b5e3af16b1880000'], 'data': ['0x4e6f6e65']} \n",
      "\n",
      "{'scoreAddress': 'cx78f877bbe7e86d725aaed5e9a0f30f7ae3598abf', 'indexed': ['Mint(Address,int,bytes)', 'cx50e9677ad4f98190bba47281aa61a313e8e69fa8'], 'data': ['0x6f05b59d3b20000', '0x4e6f6e65']} \n",
      "\n",
      "{'scoreAddress': 'cx78f877bbe7e86d725aaed5e9a0f30f7ae3598abf', 'indexed': ['Transfer(Address,Address,int,bytes)', 'hx0000000000000000000000000000000000000000', 'cx50e9677ad4f98190bba47281aa61a313e8e69fa8', '0x6f05b59d3b20000'], 'data': ['0x4e6f6e65']} \n",
      "\n",
      "{'scoreAddress': 'cxb2729d8ec932b0701e1a7d731ee1bf0f86e8a00d', 'indexed': ['FeePaid(str,int,str,str)', 'bnUSD', '0x6f05b59d3b20000', 'origination'], 'data': ['']} \n",
      "\n",
      "------------------------------------------------------------------------------------------------------------------\n",
      "Reading getAccountPositions, with parameters {'_owner': 'hx3f01840a599da07b0f620eeae7aa9c574169a4be'} on the loans contract.\n",
      "------------------------------------------------------------------------------------------------------------------\n",
      "{'pos_id': '0x3', 'created': '0x5becf224944ab', 'address': 'hx3f01840a599da07b0f620eeae7aa9c574169a4be', 'snap_id': '0x3', 'snaps_length': '0x2', 'last_snap': '0x3', 'first day': '0x2', 'assets': {'sICX': '0x1043561a8829300000', 'bnUSD': '0x2bcd40a70853a0000'}, 'replay_index': '0x0', 'events_behind': '0x0', 'total_debt': '0x0', 'ratio': '0x89dfa3baa1c89284', 'standing': 'Mining'}\n",
      "------------------------------------------------------------------------------------------------------------------\n",
      "Reading getAccountPositions, with parameters {'_owner': 'hxe7af5fcfd8dfc67530a01a0e403882687528dfcb'} on the loans contract.\n",
      "------------------------------------------------------------------------------------------------------------------\n",
      "{'pos_id': '0x4', 'created': '0x5bed02919041f', 'address': 'hxe7af5fcfd8dfc67530a01a0e403882687528dfcb', 'snap_id': '0x3', 'snaps_length': '0x1', 'last_snap': '0x3', 'first day': '0x3', 'assets': {'sICX': '0xad78ebc5ac6200000', 'bnUSD': '0x2bcd40a70853a0000'}, 'replay_index': '0x0', 'events_behind': '0x0', 'total_debt': '0x0', 'ratio': '0x5bea6d271685b703', 'standing': 'Mining'}\n"
     ]
    },
    {
     "data": {
      "text/plain": [
       "{'pos_id': '0x4',\n",
       " 'created': '0x5bed02919041f',\n",
       " 'address': 'hxe7af5fcfd8dfc67530a01a0e403882687528dfcb',\n",
       " 'snap_id': '0x3',\n",
       " 'snaps_length': '0x1',\n",
       " 'last_snap': '0x3',\n",
       " 'first day': '0x3',\n",
       " 'assets': {'sICX': '0xad78ebc5ac6200000', 'bnUSD': '0x2bcd40a70853a0000'},\n",
       " 'replay_index': '0x0',\n",
       " 'events_behind': '0x0',\n",
       " 'total_debt': '0x0',\n",
       " 'ratio': '0x5bea6d271685b703',\n",
       " 'standing': 'Mining'}"
      ]
     },
     "execution_count": 28,
     "metadata": {},
     "output_type": "execute_result"
    }
   ],
   "source": [
    "send_tx('loans', 100*ICX, 'addCollateral', {'_asset': '', '_amount': 0}, wallet)\n",
    "send_tx('loans', 0, 'originateLoan', {'_asset':'bnUSD', '_amount':50 *ICX, '_from': wallet.get_address()}, btest_wallet)\n",
    "call_tx('loans', 'getAccountPositions', {'_owner': btest_wallet.get_address()})\n",
    "call_tx('loans', 'getAccountPositions', {'_owner': wallet.get_address()})\n",
    "\n"
   ]
  },
  {
   "cell_type": "markdown",
   "metadata": {},
   "source": [
    "Try taking loan from user1 who has deposited 200 ICX and havent taken loan, calling from btest_wallet"
   ]
  },
  {
   "cell_type": "code",
   "execution_count": 29,
   "metadata": {},
   "outputs": [
    {
     "name": "stdout",
     "output_type": "stream",
     "text": [
      "------------------------------------------------------------------------------------------------------------------\n",
      "Reading getAccountPositions, with parameters {'_owner': 'hxe62d11fa19a0e8575ad92f06bc8fd42edbfe27db'} on the loans contract.\n",
      "------------------------------------------------------------------------------------------------------------------\n",
      "{'pos_id': '0x1', 'created': '0x5becde11e6347', 'address': 'hxe62d11fa19a0e8575ad92f06bc8fd42edbfe27db', 'snap_id': '0x1', 'snaps_length': '0x1', 'last_snap': '0x1', 'first day': '0x1', 'assets': {'sICX': '0x878678326eac900000', 'bnUSD': '0x1b6048686534440000'}, 'replay_index': '0x0', 'events_behind': '0x0', 'total_debt': '0x105ea492156ae494e3', 'ratio': '0x0', 'standing': 'Indeterminate'}\n",
      "------------------------------------------------------------------------------------------------------------------\n",
      "Calling addCollateral, with parameters {'_asset': '', '_amount': 0} on the loans contract.\n",
      "------------------------------------------------------------------------------------------------------------------\n",
      "************************************************** Status: 1 **************************************************\n",
      "{'scoreAddress': 'cxb2729d8ec932b0701e1a7d731ee1bf0f86e8a00d', 'indexed': ['ICXTransfer(Address,Address,int)', 'cxb2729d8ec932b0701e1a7d731ee1bf0f86e8a00d', 'cxbe35638c3cf1773ca533866c47964b5ff61c1065', '0xad78ebc5ac6200000'], 'data': []} \n",
      "\n",
      "{'scoreAddress': 'cxa1d8682563a3b7087fcd174d0448054cc0279347', 'indexed': ['Mint(Address,int,bytes)', 'cxb2729d8ec932b0701e1a7d731ee1bf0f86e8a00d'], 'data': ['0xad78ebc5ac6200000', '0x7b226d6574686f64223a225f6465706f7369745f616e645f626f72726f77222c22706172616d73223a7b225f73656e646572223a22687865363264313166613139613065383537356164393266303662633866643432656462666532376462222c225f6173736574223a22222c225f616d6f756e74223a307d7d']} \n",
      "\n",
      "{'scoreAddress': 'cxa1d8682563a3b7087fcd174d0448054cc0279347', 'indexed': ['Transfer(Address,Address,int,bytes)', 'hx0000000000000000000000000000000000000000', 'cxb2729d8ec932b0701e1a7d731ee1bf0f86e8a00d', '0xad78ebc5ac6200000'], 'data': ['0x7b226d6574686f64223a225f6465706f7369745f616e645f626f72726f77222c22706172616d73223a7b225f73656e646572223a22687865363264313166613139613065383537356164393266303662633866643432656462666532376462222c225f6173736574223a22222c225f616d6f756e74223a307d7d']} \n",
      "\n",
      "{'scoreAddress': 'cx78f877bbe7e86d725aaed5e9a0f30f7ae3598abf', 'indexed': ['OraclePrice(str,str,Address,int)', 'USDICX', 'BandChain', 'cx7171e2f5653c1b9c000e24228276b8d24e84f10d'], 'data': ['0x84c5d90848544bb']} \n",
      "\n",
      "{'scoreAddress': 'cxb2729d8ec932b0701e1a7d731ee1bf0f86e8a00d', 'indexed': ['Snapshot(int)', '0x4'], 'data': []} \n",
      "\n",
      "{'scoreAddress': 'cx956cfb62b8758385ae3afac5264436ce901150d1', 'indexed': ['Mint(Address,int,bytes)', 'cx4b9427565ba082124d6455021bef8d1a98fa77c6'], 'data': ['0x152d02c7e14af6800000', '0x4e6f6e65']} \n",
      "\n",
      "{'scoreAddress': 'cx956cfb62b8758385ae3afac5264436ce901150d1', 'indexed': ['Transfer(Address,Address,int,bytes)', 'hx0000000000000000000000000000000000000000', 'cx4b9427565ba082124d6455021bef8d1a98fa77c6', '0x152d02c7e14af6800000'], 'data': ['0x4e6f6e65']} \n",
      "\n",
      "{'scoreAddress': 'cx956cfb62b8758385ae3afac5264436ce901150d1', 'indexed': ['Transfer(Address,Address,int,bytes)', 'cx4b9427565ba082124d6455021bef8d1a98fa77c6', 'cx3ad4d0da78748e7731b44092f249a8d7e699648e', '0x43c33c1937564800000'], 'data': ['0x4e6f6e65']} \n",
      "\n",
      "{'scoreAddress': 'cx956cfb62b8758385ae3afac5264436ce901150d1', 'indexed': ['Transfer(Address,Address,int,bytes)', 'cx4b9427565ba082124d6455021bef8d1a98fa77c6', 'cx3362b3b53bfe0a95e6013fa52342fa8ab06675c3', '0x10f0cf064dd59200000'], 'data': ['0x4e6f6e65']} \n",
      "\n",
      "{'scoreAddress': 'cx956cfb62b8758385ae3afac5264436ce901150d1', 'indexed': ['Transfer(Address,Address,int,bytes)', 'cx4b9427565ba082124d6455021bef8d1a98fa77c6', 'cx74617a27bac7bbff1da9915bd42933319265588a', '0x4c3ba39c5e411100000'], 'data': ['0x4e6f6e65']} \n",
      "\n",
      "{'scoreAddress': 'cxb2729d8ec932b0701e1a7d731ee1bf0f86e8a00d', 'indexed': ['CollateralReceived(Address,str)', 'hxe62d11fa19a0e8575ad92f06bc8fd42edbfe27db', 'sICX'], 'data': []} \n",
      "\n",
      "{'scoreAddress': 'cxbe35638c3cf1773ca533866c47964b5ff61c1065', 'indexed': ['TokenTransfer(Address,int,str)', 'cxb2729d8ec932b0701e1a7d731ee1bf0f86e8a00d', '0xad78ebc5ac6200000'], 'data': ['200.0 sICX minted to cxb2729d8ec932b0701e1a7d731ee1bf0f86e8a00d']} \n",
      "\n",
      "------------------------------------------------------------------------------------------------------------------\n",
      "Reading getAccountPositions, with parameters {'_owner': 'hxe62d11fa19a0e8575ad92f06bc8fd42edbfe27db'} on the loans contract.\n",
      "------------------------------------------------------------------------------------------------------------------\n",
      "{'pos_id': '0x1', 'created': '0x5becde11e6347', 'address': 'hxe62d11fa19a0e8575ad92f06bc8fd42edbfe27db', 'snap_id': '0x4', 'snaps_length': '0x2', 'last_snap': '0x4', 'first day': '0x1', 'assets': {'sICX': '0x925e06eec972b00000', 'bnUSD': '0x1b6048686534440000'}, 'replay_index': '0x0', 'events_behind': '0x0', 'total_debt': '0x0', 'ratio': '0x7c16135b2b3483dd', 'standing': 'Mining'}\n",
      "------------------------------------------------------------------------------------------------------------------\n",
      "Calling originateLoan, with parameters {'_asset': 'bnUSD', '_amount': 50000000000000000000, '_from': 'hxe62d11fa19a0e8575ad92f06bc8fd42edbfe27db'} on the loans contract.\n",
      "------------------------------------------------------------------------------------------------------------------\n"
     ]
    },
    {
     "name": "stderr",
     "output_type": "stream",
     "text": [
      "Raised JSONRPCException while returning the custom response. Error message: {'code': -32602, 'message': 'Pending transaction'}\n"
     ]
    },
    {
     "name": "stdout",
     "output_type": "stream",
     "text": [
      "Retrying in 1 seconds...\n",
      "************************************************** Status: 1 **************************************************\n",
      "{'scoreAddress': 'cxb2729d8ec932b0701e1a7d731ee1bf0f86e8a00d', 'indexed': ['OriginateLoan(Address,str,int,str)', 'hxe62d11fa19a0e8575ad92f06bc8fd42edbfe27db', 'bnUSD', '0x2b5e3af16b1880000'], 'data': ['Loan of 50.0 bnUSD from Balanced.']} \n",
      "\n",
      "{'scoreAddress': 'cx78f877bbe7e86d725aaed5e9a0f30f7ae3598abf', 'indexed': ['Mint(Address,int,bytes)', 'hxe62d11fa19a0e8575ad92f06bc8fd42edbfe27db'], 'data': ['0x2b5e3af16b1880000', '0x4e6f6e65']} \n",
      "\n",
      "{'scoreAddress': 'cx78f877bbe7e86d725aaed5e9a0f30f7ae3598abf', 'indexed': ['Transfer(Address,Address,int,bytes)', 'hx0000000000000000000000000000000000000000', 'hxe62d11fa19a0e8575ad92f06bc8fd42edbfe27db', '0x2b5e3af16b1880000'], 'data': ['0x4e6f6e65']} \n",
      "\n",
      "{'scoreAddress': 'cx78f877bbe7e86d725aaed5e9a0f30f7ae3598abf', 'indexed': ['Mint(Address,int,bytes)', 'cx50e9677ad4f98190bba47281aa61a313e8e69fa8'], 'data': ['0x6f05b59d3b20000', '0x4e6f6e65']} \n",
      "\n",
      "{'scoreAddress': 'cx78f877bbe7e86d725aaed5e9a0f30f7ae3598abf', 'indexed': ['Transfer(Address,Address,int,bytes)', 'hx0000000000000000000000000000000000000000', 'cx50e9677ad4f98190bba47281aa61a313e8e69fa8', '0x6f05b59d3b20000'], 'data': ['0x4e6f6e65']} \n",
      "\n",
      "{'scoreAddress': 'cxb2729d8ec932b0701e1a7d731ee1bf0f86e8a00d', 'indexed': ['FeePaid(str,int,str,str)', 'bnUSD', '0x6f05b59d3b20000', 'origination'], 'data': ['']} \n",
      "\n",
      "------------------------------------------------------------------------------------------------------------------\n",
      "Reading getAccountPositions, with parameters {'_owner': 'hxe62d11fa19a0e8575ad92f06bc8fd42edbfe27db'} on the loans contract.\n",
      "------------------------------------------------------------------------------------------------------------------\n",
      "{'pos_id': '0x1', 'created': '0x5becde11e6347', 'address': 'hxe62d11fa19a0e8575ad92f06bc8fd42edbfe27db', 'snap_id': '0x4', 'snaps_length': '0x2', 'last_snap': '0x4', 'first day': '0x1', 'assets': {'sICX': '0x925e06eec972b00000', 'bnUSD': '0x1e1d1c72d5b97e0000'}, 'replay_index': '0x0', 'events_behind': '0x0', 'total_debt': '0x0', 'ratio': '0x70ce402455d2a66c', 'standing': 'Mining'}\n"
     ]
    },
    {
     "data": {
      "text/plain": [
       "{'pos_id': '0x1',\n",
       " 'created': '0x5becde11e6347',\n",
       " 'address': 'hxe62d11fa19a0e8575ad92f06bc8fd42edbfe27db',\n",
       " 'snap_id': '0x4',\n",
       " 'snaps_length': '0x2',\n",
       " 'last_snap': '0x4',\n",
       " 'first day': '0x1',\n",
       " 'assets': {'sICX': '0x925e06eec972b00000', 'bnUSD': '0x1e1d1c72d5b97e0000'},\n",
       " 'replay_index': '0x0',\n",
       " 'events_behind': '0x0',\n",
       " 'total_debt': '0x0',\n",
       " 'ratio': '0x70ce402455d2a66c',\n",
       " 'standing': 'Mining'}"
      ]
     },
     "execution_count": 29,
     "metadata": {},
     "output_type": "execute_result"
    }
   ],
   "source": [
    "# 1. Deposit only collateral to user1 wallet of 200 ICX\n",
    "call_tx('loans', 'getAccountPositions', {'_owner': user1.get_address()})\n",
    "send_tx('loans', 200*ICX, 'addCollateral', {'_asset': '', '_amount': 0}, user1)\n",
    "call_tx('loans', 'getAccountPositions', {'_owner': user1.get_address()})\n",
    "send_tx('loans', 0, 'originateLoan', {'_asset':'bnUSD', '_amount':50 *ICX, '_from': user1.get_address()}, btest_wallet)\n",
    "call_tx('loans', 'getAccountPositions', {'_owner': user1.get_address()})\n",
    "\n"
   ]
  },
  {
   "cell_type": "markdown",
   "metadata": {},
   "source": [
    "# Retiring  an asset"
   ]
  },
  {
   "cell_type": "code",
   "execution_count": 11,
   "metadata": {},
   "outputs": [
    {
     "name": "stdout",
     "output_type": "stream",
     "text": [
      "------------------------------------------------------------------------------------------------------------------\n",
      "Reading getAccountPositions, with parameters {'_owner': 'hxe62d11fa19a0e8575ad92f06bc8fd42edbfe27db'} on the loans contract.\n",
      "------------------------------------------------------------------------------------------------------------------\n",
      "{'pos_id': '0x1', 'created': '0x5bf86488e38e9', 'address': 'hxe62d11fa19a0e8575ad92f06bc8fd42edbfe27db', 'snap_id': '0x4', 'snaps_length': '0x3', 'last_snap': '0x4', 'first day': '0x2', 'assets': {'sICX': '0xa2a15d09519be00000', 'bnUSD': '0x2c04c381d6f1300000'}, 'total_debt': '0x1a5238c66456b60124', 'collateral': '0xa2a15d09519be00000', 'ratio': '0x55bf1b1b7aaf7fb1', 'standing': 'Mining'}\n",
      "------------------------------------------------------------------------------------------------------------------\n",
      "Reading getAccountPositions, with parameters {'_owner': 'hx7a1824129a8fe803e45a3aae1c0e060399546187'} on the loans contract.\n",
      "------------------------------------------------------------------------------------------------------------------\n",
      "{'message': 'That address has no outstanding loans or deposited collateral.'}\n"
     ]
    },
    {
     "data": {
      "text/plain": [
       "{'message': 'That address has no outstanding loans or deposited collateral.'}"
      ]
     },
     "execution_count": 11,
     "metadata": {},
     "output_type": "execute_result"
    }
   ],
   "source": [
    "# 1.no bad debt for asset, retired from account user2 without a position on Balanced.\n",
    "call_tx('loans', 'getAccountPositions', {'_owner': user1.get_address()})\n",
    "call_tx('loans', 'getAccountPositions', {'_owner': user2.get_address()})\n"
   ]
  },
  {
   "cell_type": "code",
   "execution_count": 25,
   "metadata": {},
   "outputs": [
    {
     "name": "stdout",
     "output_type": "stream",
     "text": [
      "------------------------------------------------------------------------------------------------------------------\n",
      "Reading getMaxRetireAmount, with parameters {'_symbol': 'bnUSD'} on the loans contract.\n",
      "------------------------------------------------------------------------------------------------------------------\n",
      "0xb4b2ff235b2ae000\n"
     ]
    },
    {
     "data": {
      "text/plain": [
       "'0xb4b2ff235b2ae000'"
      ]
     },
     "execution_count": 25,
     "metadata": {},
     "output_type": "execute_result"
    }
   ],
   "source": [
    "call_tx('loans', 'getMaxRetireAmount', {'_symbol': 'bnUSD'})\n"
   ]
  },
  {
   "cell_type": "code",
   "execution_count": 24,
   "metadata": {},
   "outputs": [
    {
     "name": "stdout",
     "output_type": "stream",
     "text": [
      "------------------------------------------------------------------------------------------------------------------\n",
      "Calling addCollateral, with parameters {'_asset': 'bnUSD', '_amount': 500000000000000000000} on the loans contract.\n",
      "------------------------------------------------------------------------------------------------------------------\n"
     ]
    },
    {
     "name": "stderr",
     "output_type": "stream",
     "text": [
      "Raised JSONRPCException while returning the custom response. Error message: {'code': -32602, 'message': 'Pending transaction'}\n"
     ]
    },
    {
     "name": "stdout",
     "output_type": "stream",
     "text": [
      "Retrying in 1 seconds...\n",
      "************************************************** Status: 1 **************************************************\n",
      "{'scoreAddress': 'cx764463174b4f7d44988968f93c08081881fcfc85', 'indexed': ['ICXTransfer(Address,Address,int)', 'cx764463174b4f7d44988968f93c08081881fcfc85', 'cx686423d2293831a6cb2441959112a1a06b7462ba', '0x3635c9adc5dea00000'], 'data': []} \n",
      "\n",
      "{'scoreAddress': 'cx0000000000000000000000000000000000000000', 'indexed': ['IScoreClaimedV2(Address,int,int)', 'cx686423d2293831a6cb2441959112a1a06b7462ba'], 'data': ['0x1c8fde30ee35fd13da8', '0x74fd693b1b7ce199']} \n",
      "\n",
      "{'scoreAddress': 'cxf99f4ca65fda1cdfa461f473d60f729341524022', 'indexed': ['Mint(Address,int,bytes)', 'cx764463174b4f7d44988968f93c08081881fcfc85'], 'data': ['0x3635c9adc5dea00000', '0x7b226d6574686f64223a225f6465706f7369745f616e645f626f72726f77222c22706172616d73223a7b225f73656e646572223a22687865363264313166613139613065383537356164393266303662633866643432656462666532376462222c225f6173736574223a22626e555344222c225f616d6f756e74223a3530303030303030303030303030303030303030307d7d']} \n",
      "\n",
      "{'scoreAddress': 'cxf99f4ca65fda1cdfa461f473d60f729341524022', 'indexed': ['Transfer(Address,Address,int,bytes)', 'hx0000000000000000000000000000000000000000', 'cx764463174b4f7d44988968f93c08081881fcfc85', '0x3635c9adc5dea00000'], 'data': ['0x7b226d6574686f64223a225f6465706f7369745f616e645f626f72726f77222c22706172616d73223a7b225f73656e646572223a22687865363264313166613139613065383537356164393266303662633866643432656462666532376462222c225f6173736574223a22626e555344222c225f616d6f756e74223a3530303030303030303030303030303030303030307d7d']} \n",
      "\n",
      "{'scoreAddress': 'cxdf5d7067e425b3e1a2c96659b3fd91bd1b5dd0d9', 'indexed': ['Mint(Address,int,bytes)', 'cxbbf173efedf4338d0562edf67f3f563cd6f09b18'], 'data': ['0x152d02c7e14af6800000', '0x4e6f6e65']} \n",
      "\n",
      "{'scoreAddress': 'cxdf5d7067e425b3e1a2c96659b3fd91bd1b5dd0d9', 'indexed': ['Transfer(Address,Address,int,bytes)', 'hx0000000000000000000000000000000000000000', 'cxbbf173efedf4338d0562edf67f3f563cd6f09b18', '0x152d02c7e14af6800000'], 'data': ['0x4e6f6e65']} \n",
      "\n",
      "{'scoreAddress': 'cxdf5d7067e425b3e1a2c96659b3fd91bd1b5dd0d9', 'indexed': ['Transfer(Address,Address,int,bytes)', 'cxbbf173efedf4338d0562edf67f3f563cd6f09b18', 'cxf2c45e05c329bd9c0dd7780b8f14a15a1eaa78ff', '0x43c33c1937564800000'], 'data': ['0x4e6f6e65']} \n",
      "\n",
      "{'scoreAddress': 'cxdf5d7067e425b3e1a2c96659b3fd91bd1b5dd0d9', 'indexed': ['Transfer(Address,Address,int,bytes)', 'cxbbf173efedf4338d0562edf67f3f563cd6f09b18', 'cxedf87c1cd6811891016606c403418cf967340a51', '0x10f0cf064dd59200000'], 'data': ['0x4e6f6e65']} \n",
      "\n",
      "{'scoreAddress': 'cxdf5d7067e425b3e1a2c96659b3fd91bd1b5dd0d9', 'indexed': ['Transfer(Address,Address,int,bytes)', 'cxbbf173efedf4338d0562edf67f3f563cd6f09b18', 'cxadedc487277793fe7cd73ac4cdfdbc2fee02e0e1', '0x4c3ba39c5e411100000'], 'data': ['0x4e6f6e65']} \n",
      "\n",
      "{'scoreAddress': 'cx764463174b4f7d44988968f93c08081881fcfc85', 'indexed': ['CollateralReceived(Address,str)', 'hxe62d11fa19a0e8575ad92f06bc8fd42edbfe27db', 'sICX'], 'data': []} \n",
      "\n",
      "{'scoreAddress': 'cx0f493f0d561d14576f3705ff422c32fe305b2e6a', 'indexed': ['OraclePrice(str,str,Address,int)', 'USDICX', 'BandChain', 'cx7171e2f5653c1b9c000e24228276b8d24e84f10d'], 'data': ['0x84c5d90848544bb']} \n",
      "\n",
      "{'scoreAddress': 'cx764463174b4f7d44988968f93c08081881fcfc85', 'indexed': ['OriginateLoan(Address,str,int,str)', 'hxe62d11fa19a0e8575ad92f06bc8fd42edbfe27db', 'bnUSD', '0x1b1ae4d6e2ef500000'], 'data': ['Loan of 500000000000000000000 bnUSD from Balanced.']} \n",
      "\n",
      "{'scoreAddress': 'cx0f493f0d561d14576f3705ff422c32fe305b2e6a', 'indexed': ['Mint(Address,int,bytes)', 'hxe62d11fa19a0e8575ad92f06bc8fd42edbfe27db'], 'data': ['0x1b1ae4d6e2ef500000', '0x4e6f6e65']} \n",
      "\n",
      "{'scoreAddress': 'cx0f493f0d561d14576f3705ff422c32fe305b2e6a', 'indexed': ['Transfer(Address,Address,int,bytes)', 'hx0000000000000000000000000000000000000000', 'hxe62d11fa19a0e8575ad92f06bc8fd42edbfe27db', '0x1b1ae4d6e2ef500000'], 'data': ['0x4e6f6e65']} \n",
      "\n",
      "{'scoreAddress': 'cx0f493f0d561d14576f3705ff422c32fe305b2e6a', 'indexed': ['Mint(Address,int,bytes)', 'cxa6f208b9b7fecd68e7cf66675ba058ef68c00ef6'], 'data': ['0x4563918244f40000', '0x4e6f6e65']} \n",
      "\n",
      "{'scoreAddress': 'cx0f493f0d561d14576f3705ff422c32fe305b2e6a', 'indexed': ['Transfer(Address,Address,int,bytes)', 'hx0000000000000000000000000000000000000000', 'cxa6f208b9b7fecd68e7cf66675ba058ef68c00ef6', '0x4563918244f40000'], 'data': ['0x4e6f6e65']} \n",
      "\n",
      "{'scoreAddress': 'cx764463174b4f7d44988968f93c08081881fcfc85', 'indexed': ['FeePaid(str,int,str,str)', 'bnUSD', '0x4563918244f40000', 'origination'], 'data': ['']} \n",
      "\n",
      "{'scoreAddress': 'cx686423d2293831a6cb2441959112a1a06b7462ba', 'indexed': ['TokenTransfer(Address,int,str)', 'cx764463174b4f7d44988968f93c08081881fcfc85', '0x3635c9adc5dea00000'], 'data': ['1000 sICX minted to cx764463174b4f7d44988968f93c08081881fcfc85']} \n",
      "\n"
     ]
    },
    {
     "data": {
      "text/plain": [
       "{'txHash': '0xa2ed5c6adf4570fccdb263a44d0e715039b8e15589af3d2202c2c67af4411a44',\n",
       " 'blockHeight': 2389608,\n",
       " 'blockHash': '0x10be199ff5c171e45a466b50eec114d1b0dd8fc640434183390a27e78c53917e',\n",
       " 'txIndex': 1,\n",
       " 'to': 'cx764463174b4f7d44988968f93c08081881fcfc85',\n",
       " 'stepUsed': 1578860,\n",
       " 'stepPrice': 10000000000,\n",
       " 'cumulativeStepUsed': 1578860,\n",
       " 'eventLogs': [{'scoreAddress': 'cx764463174b4f7d44988968f93c08081881fcfc85',\n",
       "   'indexed': ['ICXTransfer(Address,Address,int)',\n",
       "    'cx764463174b4f7d44988968f93c08081881fcfc85',\n",
       "    'cx686423d2293831a6cb2441959112a1a06b7462ba',\n",
       "    '0x3635c9adc5dea00000'],\n",
       "   'data': []},\n",
       "  {'scoreAddress': 'cx0000000000000000000000000000000000000000',\n",
       "   'indexed': ['IScoreClaimedV2(Address,int,int)',\n",
       "    'cx686423d2293831a6cb2441959112a1a06b7462ba'],\n",
       "   'data': ['0x1c8fde30ee35fd13da8', '0x74fd693b1b7ce199']},\n",
       "  {'scoreAddress': 'cxf99f4ca65fda1cdfa461f473d60f729341524022',\n",
       "   'indexed': ['Mint(Address,int,bytes)',\n",
       "    'cx764463174b4f7d44988968f93c08081881fcfc85'],\n",
       "   'data': ['0x3635c9adc5dea00000',\n",
       "    '0x7b226d6574686f64223a225f6465706f7369745f616e645f626f72726f77222c22706172616d73223a7b225f73656e646572223a22687865363264313166613139613065383537356164393266303662633866643432656462666532376462222c225f6173736574223a22626e555344222c225f616d6f756e74223a3530303030303030303030303030303030303030307d7d']},\n",
       "  {'scoreAddress': 'cxf99f4ca65fda1cdfa461f473d60f729341524022',\n",
       "   'indexed': ['Transfer(Address,Address,int,bytes)',\n",
       "    'hx0000000000000000000000000000000000000000',\n",
       "    'cx764463174b4f7d44988968f93c08081881fcfc85',\n",
       "    '0x3635c9adc5dea00000'],\n",
       "   'data': ['0x7b226d6574686f64223a225f6465706f7369745f616e645f626f72726f77222c22706172616d73223a7b225f73656e646572223a22687865363264313166613139613065383537356164393266303662633866643432656462666532376462222c225f6173736574223a22626e555344222c225f616d6f756e74223a3530303030303030303030303030303030303030307d7d']},\n",
       "  {'scoreAddress': 'cxdf5d7067e425b3e1a2c96659b3fd91bd1b5dd0d9',\n",
       "   'indexed': ['Mint(Address,int,bytes)',\n",
       "    'cxbbf173efedf4338d0562edf67f3f563cd6f09b18'],\n",
       "   'data': ['0x152d02c7e14af6800000', '0x4e6f6e65']},\n",
       "  {'scoreAddress': 'cxdf5d7067e425b3e1a2c96659b3fd91bd1b5dd0d9',\n",
       "   'indexed': ['Transfer(Address,Address,int,bytes)',\n",
       "    'hx0000000000000000000000000000000000000000',\n",
       "    'cxbbf173efedf4338d0562edf67f3f563cd6f09b18',\n",
       "    '0x152d02c7e14af6800000'],\n",
       "   'data': ['0x4e6f6e65']},\n",
       "  {'scoreAddress': 'cxdf5d7067e425b3e1a2c96659b3fd91bd1b5dd0d9',\n",
       "   'indexed': ['Transfer(Address,Address,int,bytes)',\n",
       "    'cxbbf173efedf4338d0562edf67f3f563cd6f09b18',\n",
       "    'cxf2c45e05c329bd9c0dd7780b8f14a15a1eaa78ff',\n",
       "    '0x43c33c1937564800000'],\n",
       "   'data': ['0x4e6f6e65']},\n",
       "  {'scoreAddress': 'cxdf5d7067e425b3e1a2c96659b3fd91bd1b5dd0d9',\n",
       "   'indexed': ['Transfer(Address,Address,int,bytes)',\n",
       "    'cxbbf173efedf4338d0562edf67f3f563cd6f09b18',\n",
       "    'cxedf87c1cd6811891016606c403418cf967340a51',\n",
       "    '0x10f0cf064dd59200000'],\n",
       "   'data': ['0x4e6f6e65']},\n",
       "  {'scoreAddress': 'cxdf5d7067e425b3e1a2c96659b3fd91bd1b5dd0d9',\n",
       "   'indexed': ['Transfer(Address,Address,int,bytes)',\n",
       "    'cxbbf173efedf4338d0562edf67f3f563cd6f09b18',\n",
       "    'cxadedc487277793fe7cd73ac4cdfdbc2fee02e0e1',\n",
       "    '0x4c3ba39c5e411100000'],\n",
       "   'data': ['0x4e6f6e65']},\n",
       "  {'scoreAddress': 'cx764463174b4f7d44988968f93c08081881fcfc85',\n",
       "   'indexed': ['CollateralReceived(Address,str)',\n",
       "    'hxe62d11fa19a0e8575ad92f06bc8fd42edbfe27db',\n",
       "    'sICX'],\n",
       "   'data': []},\n",
       "  {'scoreAddress': 'cx0f493f0d561d14576f3705ff422c32fe305b2e6a',\n",
       "   'indexed': ['OraclePrice(str,str,Address,int)',\n",
       "    'USDICX',\n",
       "    'BandChain',\n",
       "    'cx7171e2f5653c1b9c000e24228276b8d24e84f10d'],\n",
       "   'data': ['0x84c5d90848544bb']},\n",
       "  {'scoreAddress': 'cx764463174b4f7d44988968f93c08081881fcfc85',\n",
       "   'indexed': ['OriginateLoan(Address,str,int,str)',\n",
       "    'hxe62d11fa19a0e8575ad92f06bc8fd42edbfe27db',\n",
       "    'bnUSD',\n",
       "    '0x1b1ae4d6e2ef500000'],\n",
       "   'data': ['Loan of 500000000000000000000 bnUSD from Balanced.']},\n",
       "  {'scoreAddress': 'cx0f493f0d561d14576f3705ff422c32fe305b2e6a',\n",
       "   'indexed': ['Mint(Address,int,bytes)',\n",
       "    'hxe62d11fa19a0e8575ad92f06bc8fd42edbfe27db'],\n",
       "   'data': ['0x1b1ae4d6e2ef500000', '0x4e6f6e65']},\n",
       "  {'scoreAddress': 'cx0f493f0d561d14576f3705ff422c32fe305b2e6a',\n",
       "   'indexed': ['Transfer(Address,Address,int,bytes)',\n",
       "    'hx0000000000000000000000000000000000000000',\n",
       "    'hxe62d11fa19a0e8575ad92f06bc8fd42edbfe27db',\n",
       "    '0x1b1ae4d6e2ef500000'],\n",
       "   'data': ['0x4e6f6e65']},\n",
       "  {'scoreAddress': 'cx0f493f0d561d14576f3705ff422c32fe305b2e6a',\n",
       "   'indexed': ['Mint(Address,int,bytes)',\n",
       "    'cxa6f208b9b7fecd68e7cf66675ba058ef68c00ef6'],\n",
       "   'data': ['0x4563918244f40000', '0x4e6f6e65']},\n",
       "  {'scoreAddress': 'cx0f493f0d561d14576f3705ff422c32fe305b2e6a',\n",
       "   'indexed': ['Transfer(Address,Address,int,bytes)',\n",
       "    'hx0000000000000000000000000000000000000000',\n",
       "    'cxa6f208b9b7fecd68e7cf66675ba058ef68c00ef6',\n",
       "    '0x4563918244f40000'],\n",
       "   'data': ['0x4e6f6e65']},\n",
       "  {'scoreAddress': 'cx764463174b4f7d44988968f93c08081881fcfc85',\n",
       "   'indexed': ['FeePaid(str,int,str,str)',\n",
       "    'bnUSD',\n",
       "    '0x4563918244f40000',\n",
       "    'origination'],\n",
       "   'data': ['']},\n",
       "  {'scoreAddress': 'cx686423d2293831a6cb2441959112a1a06b7462ba',\n",
       "   'indexed': ['TokenTransfer(Address,int,str)',\n",
       "    'cx764463174b4f7d44988968f93c08081881fcfc85',\n",
       "    '0x3635c9adc5dea00000'],\n",
       "   'data': ['1000 sICX minted to cx764463174b4f7d44988968f93c08081881fcfc85']}],\n",
       " 'logsBloom': b'\\xa0\\x00\\x10\\x04\\x08\\x00\\x00\\x00\\x02\\x04\\x00!\\x00\\x00\\x00\\x00\\x00\\x00 \\x00 \\x00\\x00\\x10 \\x00\\x04\\x00\\x00\\x08\\x00\\x00\\x00\\x00\\x00\\x00\\x00@\\x80\\x00\\x00\\x00@@\\x00\\x00\\x00\\x00\\x00\\x80\\x00\\x00\\x00A\\x04\\x00\\x00\\x00\\x19\\x80\\x00\\x11\\x02 \\x80\\x10\\x03\\x00\\x00(\\x00\\x00\\x00\\x00\\x00\\x00\\x10\\x02\\x10\\x00\\t\\x00\\x00\\x00@\\x02\\x02@ \\x00\\x10\\x00\\x00\\x00\\x00\\x00\\x02\\x10\\x08\\x08\\x00\\x00\\x00\\x00\\x08\\x01\\x08\\x01\\x80\\x00@  \\x00\\x01\\x00\\x00\\x00\\x00\\x04\\x00\\x88\\x00\\x80\\x00\\x00\\x01\\x00$ \\x00\\x0c\\x00\\x80\\x00\\x00\\x00P\\x00\\x04@\\x00\\x81\\x00@\\x00\\x00\\x00\\x00\\x00\\x08\\x00\\x00 \\x00\"\\x00\\x10\\x00\\x10\\x00\\x00\\x00\\x00@$\\x08\\x08\\x00\\x08\\x00\\x00\\x10\\x00\\x00\\x04\\x00\\x00 \\x00\\x00\\x00\\x00@\\x10\\x00\\x00H\\x00\\x10\\x10\\x00\\x00\\x00\\x08\\x00\\x04\\x02\\x00\\x00\\x00\\x04\\x00\\x02@ \\xa0\\x00\\x00\\x00\\x00\\x00\\x00\\xc1\\x00\\x00\\x00\\x00\\x00D\\x00\\x00\\x00\\x02 \\x00\\x00\\x04\\x18\\x00 \\x00\\x00\\x90\\x00\\x00\\x00\\x00\\x00\\x00\\x00\\x00\\x00\\xb0\\x00\\x02\\x00\\x10\\x10 \\x00@\\x00\\x00 \\x00',\n",
       " 'status': 1}"
      ]
     },
     "execution_count": 24,
     "metadata": {},
     "output_type": "execute_result"
    }
   ],
   "source": [
    "send_tx('loans', 1000*ICX, 'addCollateral', {'_asset': 'bnUSD', '_amount': 500 * ICX}, user1)\n"
   ]
  },
  {
   "cell_type": "code",
   "execution_count": 26,
   "metadata": {},
   "outputs": [
    {
     "name": "stdout",
     "output_type": "stream",
     "text": [
      "Status: 1\n",
      "{'scoreAddress': 'cx0f493f0d561d14576f3705ff422c32fe305b2e6a', 'indexed': ['Transfer(Address,Address,int,bytes)', 'hx7a1824129a8fe803e45a3aae1c0e060399546187', 'cx764463174b4f7d44988968f93c08081881fcfc85', '0x8ac7230489e80000'], 'data': ['0x7b226d6574686f64223a20225f7265746972655f6173736574222c2022706172616d73223a207b7d7d']} \n",
      "\n",
      "{'scoreAddress': 'cx0f493f0d561d14576f3705ff422c32fe305b2e6a', 'indexed': ['OraclePrice(str,str,Address,int)', 'USDICX', 'BandChain', 'cx7171e2f5653c1b9c000e24228276b8d24e84f10d'], 'data': ['0x84c5d90848544bb']} \n",
      "\n",
      "{'scoreAddress': 'cx764463174b4f7d44988968f93c08081881fcfc85', 'indexed': ['Snapshot(int)', '0x49'], 'data': []} \n",
      "\n",
      "{'scoreAddress': 'cxdf5d7067e425b3e1a2c96659b3fd91bd1b5dd0d9', 'indexed': ['Mint(Address,int,bytes)', 'cxbbf173efedf4338d0562edf67f3f563cd6f09b18'], 'data': ['0x152d02c7e14af6800000', '0x4e6f6e65']} \n",
      "\n",
      "{'scoreAddress': 'cxdf5d7067e425b3e1a2c96659b3fd91bd1b5dd0d9', 'indexed': ['Transfer(Address,Address,int,bytes)', 'hx0000000000000000000000000000000000000000', 'cxbbf173efedf4338d0562edf67f3f563cd6f09b18', '0x152d02c7e14af6800000'], 'data': ['0x4e6f6e65']} \n",
      "\n",
      "{'scoreAddress': 'cxdf5d7067e425b3e1a2c96659b3fd91bd1b5dd0d9', 'indexed': ['Transfer(Address,Address,int,bytes)', 'cxbbf173efedf4338d0562edf67f3f563cd6f09b18', 'cxf2c45e05c329bd9c0dd7780b8f14a15a1eaa78ff', '0x43c33c1937564800000'], 'data': ['0x4e6f6e65']} \n",
      "\n",
      "{'scoreAddress': 'cxdf5d7067e425b3e1a2c96659b3fd91bd1b5dd0d9', 'indexed': ['Transfer(Address,Address,int,bytes)', 'cxbbf173efedf4338d0562edf67f3f563cd6f09b18', 'cxedf87c1cd6811891016606c403418cf967340a51', '0x10f0cf064dd59200000'], 'data': ['0x4e6f6e65']} \n",
      "\n",
      "{'scoreAddress': 'cxdf5d7067e425b3e1a2c96659b3fd91bd1b5dd0d9', 'indexed': ['Transfer(Address,Address,int,bytes)', 'cxbbf173efedf4338d0562edf67f3f563cd6f09b18', 'cxadedc487277793fe7cd73ac4cdfdbc2fee02e0e1', '0x4c3ba39c5e411100000'], 'data': ['0x4e6f6e65']} \n",
      "\n",
      "{'scoreAddress': 'cx0f493f0d561d14576f3705ff422c32fe305b2e6a', 'indexed': ['Burn(Address,int)', 'cx764463174b4f7d44988968f93c08081881fcfc85'], 'data': ['0x8a1580485b230000']} \n",
      "\n",
      "{'scoreAddress': 'cx0f493f0d561d14576f3705ff422c32fe305b2e6a', 'indexed': ['Transfer(Address,Address,int,bytes)', 'cx764463174b4f7d44988968f93c08081881fcfc85', 'hx0000000000000000000000000000000000000000', '0x8a1580485b230000'], 'data': ['0x4e6f6e65']} \n",
      "\n",
      "{'scoreAddress': 'cxf99f4ca65fda1cdfa461f473d60f729341524022', 'indexed': ['Transfer(Address,Address,int,bytes)', 'cx764463174b4f7d44988968f93c08081881fcfc85', 'hx7a1824129a8fe803e45a3aae1c0e060399546187', '0x52916fc459c79f11'], 'data': ['0x4e6f6e65']} \n",
      "\n",
      "{'scoreAddress': 'cx764463174b4f7d44988968f93c08081881fcfc85', 'indexed': ['TokenTransfer(Address,int,str)', 'hx7a1824129a8fe803e45a3aae1c0e060399546187', '0x52916fc459c79f11'], 'data': ['Collateral redeemed. 5949659471843663633 sICX sent to hx7a1824129a8fe803e45a3aae1c0e060399546187.']} \n",
      "\n",
      "{'scoreAddress': 'cx0f493f0d561d14576f3705ff422c32fe305b2e6a', 'indexed': ['Transfer(Address,Address,int,bytes)', 'cx764463174b4f7d44988968f93c08081881fcfc85', 'cxa6f208b9b7fecd68e7cf66675ba058ef68c00ef6', '0xb1a2bc2ec50000'], 'data': ['0x4e6f6e65']} \n",
      "\n",
      "{'scoreAddress': 'cx764463174b4f7d44988968f93c08081881fcfc85', 'indexed': ['TokenTransfer(Address,int,str)', 'cxa6f208b9b7fecd68e7cf66675ba058ef68c00ef6', '0xb1a2bc2ec50000'], 'data': ['Redemption fee. 50000000000000000 bnUSD sent to cxa6f208b9b7fecd68e7cf66675ba058ef68c00ef6.']} \n",
      "\n",
      "{'scoreAddress': 'cx764463174b4f7d44988968f93c08081881fcfc85', 'indexed': ['AssetRetired(str,int,int,str)', 'bnUSD', '0x8a1580485b230000', '0x84c5d90848544bb'], 'data': ['total_batch_debt: 1302075000000000000000, batch_dict: {1: 1302075000000000000000}, _from: hx7a1824129a8fe803e45a3aae1c0e060399546187']} \n",
      "\n"
     ]
    }
   ],
   "source": [
    "# redeem 50 ICD from user2 that do not have position on Balanced. This will use up all\n",
    "# of the liquidation pool and require some replay events to be recorded.\n",
    "\n",
    "\n",
    "params = {'_to': user2.get_address(), '_value': 10 * ICX}\n",
    "transaction = CallTransactionBuilder()\\\n",
    "    .from_(user1.get_address())\\\n",
    "    .to(contracts['bnUSD']['SCORE'])\\\n",
    "    .value(0)\\\n",
    "    .step_limit(10000000)\\\n",
    "    .nid(NID)\\\n",
    "    .nonce(100)\\\n",
    "    .method(\"transfer\")\\\n",
    "    .params(params)\\\n",
    "    .build()\n",
    "signed_transaction = SignedTransaction(transaction, user1)\n",
    "tx_hash = icon_service.send_transaction(signed_transaction)\n",
    "sleep(2)\n",
    "params = {\"method\": \"_retire_asset\", \"params\": {}}\n",
    "data = json.dumps(params).encode(\"utf-8\")\n",
    "params = {'_to': contracts['loans']['SCORE'], '_value': 10 * ICX, '_data': data}\n",
    "transaction = CallTransactionBuilder()\\\n",
    "    .from_(user2.get_address())\\\n",
    "    .to(contracts['bnUSD']['SCORE'])\\\n",
    "    .value(0)\\\n",
    "    .step_limit(10000000)\\\n",
    "    .nid(NID)\\\n",
    "    .nonce(100)\\\n",
    "    .method(\"transfer\")\\\n",
    "    .params(params)\\\n",
    "    .build()\n",
    "signed_transaction = SignedTransaction(transaction, user2)\n",
    "tx_hash = icon_service.send_transaction(signed_transaction)\n",
    "sleep(1)\n",
    "\n",
    "res = get_tx_result(tx_hash)\n",
    "print(f'Status: {res[\"status\"]}')\n",
    "if len(res[\"eventLogs\"]) > 0:\n",
    "    for item in res[\"eventLogs\"]:\n",
    "        print(f'{item} \\n')\n",
    "if res['status'] == 0:\n",
    "    print(f'Failure: {res[\"failure\"]}')"
   ]
  },
  {
   "cell_type": "code",
   "execution_count": 23,
   "metadata": {},
   "outputs": [
    {
     "name": "stdout",
     "output_type": "stream",
     "text": [
      "------------------------------------------------------------------------------------------------------------------\n",
      "Reading getAccountPositions, with parameters {'_owner': 'hxe62d11fa19a0e8575ad92f06bc8fd42edbfe27db'} on the loans contract.\n",
      "------------------------------------------------------------------------------------------------------------------\n",
      "{'pos_id': '0x1', 'created': '0x5bf86488e38e9', 'address': 'hxe62d11fa19a0e8575ad92f06bc8fd42edbfe27db', 'snap_id': '0x47', 'snaps_length': '0x4', 'last_snap': '0x47', 'first day': '0x2', 'assets': {'sICX': '0xa22582e1ab15349167', 'bnUSD': '0x2b35a3416a687b8000'}, 'total_debt': '0x19d65e9ebdd00a9289', 'collateral': '0xa22582e1ab15349167', 'ratio': '0x57179c48eb1a3fe8', 'standing': 'Mining'}\n",
      "------------------------------------------------------------------------------------------------------------------\n",
      "Reading getAccountPositions, with parameters {'_owner': 'hx7a1824129a8fe803e45a3aae1c0e060399546187'} on the loans contract.\n",
      "------------------------------------------------------------------------------------------------------------------\n",
      "{'message': 'That address has no outstanding loans or deposited collateral.'}\n"
     ]
    },
    {
     "data": {
      "text/plain": [
       "{'message': 'That address has no outstanding loans or deposited collateral.'}"
      ]
     },
     "execution_count": 23,
     "metadata": {},
     "output_type": "execute_result"
    }
   ],
   "source": [
    "call_tx('loans', 'getAccountPositions', {'_owner': user1.get_address()})\n",
    "call_tx('loans', 'getAccountPositions', {'_owner': user2.get_address()})\n"
   ]
  },
  {
   "cell_type": "code",
   "execution_count": 29,
   "metadata": {},
   "outputs": [
    {
     "name": "stdout",
     "output_type": "stream",
     "text": [
      "Status: 1\n",
      "{'scoreAddress': 'cxdf5d7067e425b3e1a2c96659b3fd91bd1b5dd0d9', 'indexed': ['Mint(Address,int,bytes)', 'cxbbf173efedf4338d0562edf67f3f563cd6f09b18'], 'data': ['0x152d02c7e14af6800000', '0x4e6f6e65']} \n",
      "\n",
      "{'scoreAddress': 'cxdf5d7067e425b3e1a2c96659b3fd91bd1b5dd0d9', 'indexed': ['Transfer(Address,Address,int,bytes)', 'hx0000000000000000000000000000000000000000', 'cxbbf173efedf4338d0562edf67f3f563cd6f09b18', '0x152d02c7e14af6800000'], 'data': ['0x4e6f6e65']} \n",
      "\n",
      "{'scoreAddress': 'cxdf5d7067e425b3e1a2c96659b3fd91bd1b5dd0d9', 'indexed': ['Transfer(Address,Address,int,bytes)', 'cxbbf173efedf4338d0562edf67f3f563cd6f09b18', 'cxf2c45e05c329bd9c0dd7780b8f14a15a1eaa78ff', '0x43c33c1937564800000'], 'data': ['0x4e6f6e65']} \n",
      "\n",
      "{'scoreAddress': 'cxdf5d7067e425b3e1a2c96659b3fd91bd1b5dd0d9', 'indexed': ['Transfer(Address,Address,int,bytes)', 'cxbbf173efedf4338d0562edf67f3f563cd6f09b18', 'cxedf87c1cd6811891016606c403418cf967340a51', '0x10f0cf064dd59200000'], 'data': ['0x4e6f6e65']} \n",
      "\n",
      "{'scoreAddress': 'cxdf5d7067e425b3e1a2c96659b3fd91bd1b5dd0d9', 'indexed': ['Transfer(Address,Address,int,bytes)', 'cxbbf173efedf4338d0562edf67f3f563cd6f09b18', 'cxadedc487277793fe7cd73ac4cdfdbc2fee02e0e1', '0x4c3ba39c5e411100000'], 'data': ['0x4e6f6e65']} \n",
      "\n",
      "{'scoreAddress': 'cx0f493f0d561d14576f3705ff422c32fe305b2e6a', 'indexed': ['OraclePrice(str,str,Address,int)', 'USDICX', 'BandChain', 'cx7171e2f5653c1b9c000e24228276b8d24e84f10d'], 'data': ['0x84c5d90848544bb']} \n",
      "\n",
      "{'scoreAddress': 'cx764463174b4f7d44988968f93c08081881fcfc85', 'indexed': ['PositionStanding(Address,str,int,str)', 'hxe62d11fa19a0e8575ad92f06bc8fd42edbfe27db', 'Mining'], 'data': ['0x47945ad144ea6ba3', 'Position up to date.']} \n",
      "\n"
     ]
    }
   ],
   "source": [
    "# Gets the total number of borrowers in the system and iterates over them by index to update each one.\n",
    "\n",
    "params = {}\n",
    "call1 = CallBuilder().from_(wallet.get_address())\\\n",
    "                     .to(contracts['loans']['SCORE'])\\\n",
    "                     .method(\"borrowerCount\")\\\n",
    "                     .params(params)\\\n",
    "                     .build()\n",
    "total_borrowers = int(icon_service.call(call1), 0)\n",
    "for i in range(total_borrowers):\n",
    "    params = {'_index': i + 1}\n",
    "    call = CallBuilder().from_(wallet.get_address())\\\n",
    "                        .to(contracts['loans']['SCORE'])\\\n",
    "                        .method(\"getPositionAddress\")\\\n",
    "                        .params(params)\\\n",
    "                        .build()\n",
    "    params = {'_owner': icon_service.call(call)}\n",
    "    transaction = CallTransactionBuilder()\\\n",
    "        .from_(wallet.get_address())\\\n",
    "        .to(contracts['loans']['SCORE'])\\\n",
    "        .value(0)\\\n",
    "        .step_limit(10000000)\\\n",
    "        .nid(NID)\\\n",
    "        .nonce(100)\\\n",
    "        .method(\"updateStanding\")\\\n",
    "        .params(params)\\\n",
    "        .build()\n",
    "    signed_transaction = SignedTransaction(transaction, wallet)\n",
    "    tx_hash = icon_service.send_transaction(signed_transaction)\n",
    "    sleep(1)\n",
    "\n",
    "res = get_tx_result(tx_hash)\n",
    "print(f'Status: {res[\"status\"]}')\n",
    "if len(res[\"eventLogs\"]) > 0:\n",
    "    for item in res[\"eventLogs\"]:\n",
    "        print(f'{item} \\n')\n",
    "if res['status'] == 0:\n",
    "    print(f'Failure: {res[\"failure\"]}')"
   ]
  },
  {
   "cell_type": "code",
   "execution_count": 20,
   "metadata": {},
   "outputs": [
    {
     "name": "stdout",
     "output_type": "stream",
     "text": [
      "------------------------------------------------------------------------------------------------------------------\n",
      "Calling addCollateral, with parameters {'_asset': 'bnUSD', '_amount': 50000000000000000000} on the loans contract.\n",
      "------------------------------------------------------------------------------------------------------------------\n"
     ]
    },
    {
     "name": "stderr",
     "output_type": "stream",
     "text": [
      "Raised JSONRPCException while returning the custom response. Error message: {'code': -32602, 'message': 'Pending transaction'}\n"
     ]
    },
    {
     "name": "stdout",
     "output_type": "stream",
     "text": [
      "Retrying in 1 seconds...\n",
      "************************************************** Status: 1 **************************************************\n",
      "{'scoreAddress': 'cx63cfe2f8703dbedfc4dd80d93aa7ea917d498c06', 'indexed': ['ICXTransfer(Address,Address,int)', 'cx63cfe2f8703dbedfc4dd80d93aa7ea917d498c06', 'cx7dae0b285450d0abbfbc430c37fb480f1036a73d', '0x2b5e3af16b18800000'], 'data': []} \n",
      "\n",
      "{'scoreAddress': 'cxb75a7131820f8663ea14c1769374ac3e76bf5110', 'indexed': ['Transfer(Address,Address,int,bytes)', 'cxb75a7131820f8663ea14c1769374ac3e76bf5110', 'hxe62d11fa19a0e8575ad92f06bc8fd42edbfe27db', '0x2b5e3af16b18800000'], 'data': ['0x7b226d6574686f64223a225f6465706f7369745f616e645f626f72726f77222c22706172616d73223a7b225f73656e646572223a22687865363264313166613139613065383537356164393266303662633866643432656462666532376462222c225f6173736574223a22626e555344222c225f616d6f756e74223a35303030303030303030303030303030303030307d7d']} \n",
      "\n",
      "{'scoreAddress': 'cxb75a7131820f8663ea14c1769374ac3e76bf5110', 'indexed': ['Mint(Address,int,bytes)', 'hxe62d11fa19a0e8575ad92f06bc8fd42edbfe27db'], 'data': ['0x2b5e3af16b18800000', '0x7b226d6574686f64223a225f6465706f7369745f616e645f626f72726f77222c22706172616d73223a7b225f73656e646572223a22687865363264313166613139613065383537356164393266303662633866643432656462666532376462222c225f6173736574223a22626e555344222c225f616d6f756e74223a35303030303030303030303030303030303030307d7d']} \n",
      "\n",
      "{'scoreAddress': 'cx63cfe2f8703dbedfc4dd80d93aa7ea917d498c06', 'indexed': ['CollateralReceived(Address,str)', 'hxe62d11fa19a0e8575ad92f06bc8fd42edbfe27db', 'sICX'], 'data': []} \n",
      "\n",
      "{'scoreAddress': 'cxbfa6fbf061d1d6bc9b55034efd2db3405ee7e0d1', 'indexed': ['OraclePrice(str,str,Address,int)', 'USDICX', 'BandChain', 'cx7171e2f5653c1b9c000e24228276b8d24e84f10d'], 'data': ['0x84c5d90848544bb']} \n",
      "\n",
      "{'scoreAddress': 'cx63cfe2f8703dbedfc4dd80d93aa7ea917d498c06', 'indexed': ['OriginateLoan(Address,str,int,str)', 'hxe62d11fa19a0e8575ad92f06bc8fd42edbfe27db', 'bnUSD', '0x2b5e3af16b1880000'], 'data': ['Loan of 50.0 bnUSD from Balanced.']} \n",
      "\n",
      "{'scoreAddress': 'cxbfa6fbf061d1d6bc9b55034efd2db3405ee7e0d1', 'indexed': ['Transfer(Address,Address,int,bytes)', 'cxbfa6fbf061d1d6bc9b55034efd2db3405ee7e0d1', 'hxe62d11fa19a0e8575ad92f06bc8fd42edbfe27db', '0x2b5e3af16b1880000'], 'data': ['0x4e6f6e65']} \n",
      "\n",
      "{'scoreAddress': 'cxbfa6fbf061d1d6bc9b55034efd2db3405ee7e0d1', 'indexed': ['Mint(Address,int,bytes)', 'hxe62d11fa19a0e8575ad92f06bc8fd42edbfe27db'], 'data': ['0x2b5e3af16b1880000', '0x4e6f6e65']} \n",
      "\n",
      "{'scoreAddress': 'cxbfa6fbf061d1d6bc9b55034efd2db3405ee7e0d1', 'indexed': ['Transfer(Address,Address,int,bytes)', 'cxbfa6fbf061d1d6bc9b55034efd2db3405ee7e0d1', 'cxd709ac6f7c65c034f01de0b0e2d1663a7778f753', '0x6f05b59d3b20000'], 'data': ['0x4e6f6e65']} \n",
      "\n",
      "{'scoreAddress': 'cxbfa6fbf061d1d6bc9b55034efd2db3405ee7e0d1', 'indexed': ['Mint(Address,int,bytes)', 'cxd709ac6f7c65c034f01de0b0e2d1663a7778f753'], 'data': ['0x6f05b59d3b20000', '0x4e6f6e65']} \n",
      "\n",
      "{'scoreAddress': 'cx63cfe2f8703dbedfc4dd80d93aa7ea917d498c06', 'indexed': ['FeePaid(str,int,str,str)', 'bnUSD', '0x6f05b59d3b20000', 'origination'], 'data': ['']} \n",
      "\n",
      "{'scoreAddress': 'cxb75a7131820f8663ea14c1769374ac3e76bf5110', 'indexed': ['Transfer(Address,Address,int,bytes)', 'hxe62d11fa19a0e8575ad92f06bc8fd42edbfe27db', 'cx63cfe2f8703dbedfc4dd80d93aa7ea917d498c06', '0x2b5e3af16b18800000'], 'data': ['0x7b226d6574686f64223a225f6465706f7369745f616e645f626f72726f77222c22706172616d73223a7b225f73656e646572223a22687865363264313166613139613065383537356164393266303662633866643432656462666532376462222c225f6173736574223a22626e555344222c225f616d6f756e74223a35303030303030303030303030303030303030307d7d']} \n",
      "\n",
      "{'scoreAddress': 'cx7dae0b285450d0abbfbc430c37fb480f1036a73d', 'indexed': ['TokenTransfer(Address,int,str)', 'cx63cfe2f8703dbedfc4dd80d93aa7ea917d498c06', '0x2b5e3af16b18800000'], 'data': ['800.0 sICX minted to cx63cfe2f8703dbedfc4dd80d93aa7ea917d498c06']} \n",
      "\n",
      "------------------------------------------------------------------------------------------------------------------\n",
      "Calling addCollateral, with parameters {'_asset': 'bnUSD', '_amount': 50000000000000000000} on the loans contract.\n",
      "------------------------------------------------------------------------------------------------------------------\n",
      "************************************************** Status: 1 **************************************************\n",
      "{'scoreAddress': 'cx63cfe2f8703dbedfc4dd80d93aa7ea917d498c06', 'indexed': ['ICXTransfer(Address,Address,int)', 'cx63cfe2f8703dbedfc4dd80d93aa7ea917d498c06', 'cx7dae0b285450d0abbfbc430c37fb480f1036a73d', '0x2b5e3af16b18800000'], 'data': []} \n",
      "\n",
      "{'scoreAddress': 'cxb75a7131820f8663ea14c1769374ac3e76bf5110', 'indexed': ['Transfer(Address,Address,int,bytes)', 'cxb75a7131820f8663ea14c1769374ac3e76bf5110', 'hx7a1824129a8fe803e45a3aae1c0e060399546187', '0x2b5e3af16b18800000'], 'data': ['0x7b226d6574686f64223a225f6465706f7369745f616e645f626f72726f77222c22706172616d73223a7b225f73656e646572223a22687837613138323431323961386665383033653435613361616531633065303630333939353436313837222c225f6173736574223a22626e555344222c225f616d6f756e74223a35303030303030303030303030303030303030307d7d']} \n",
      "\n",
      "{'scoreAddress': 'cxb75a7131820f8663ea14c1769374ac3e76bf5110', 'indexed': ['Mint(Address,int,bytes)', 'hx7a1824129a8fe803e45a3aae1c0e060399546187'], 'data': ['0x2b5e3af16b18800000', '0x7b226d6574686f64223a225f6465706f7369745f616e645f626f72726f77222c22706172616d73223a7b225f73656e646572223a22687837613138323431323961386665383033653435613361616531633065303630333939353436313837222c225f6173736574223a22626e555344222c225f616d6f756e74223a35303030303030303030303030303030303030307d7d']} \n",
      "\n",
      "{'scoreAddress': 'cx63cfe2f8703dbedfc4dd80d93aa7ea917d498c06', 'indexed': ['CollateralReceived(Address,str)', 'hx7a1824129a8fe803e45a3aae1c0e060399546187', 'sICX'], 'data': []} \n",
      "\n",
      "{'scoreAddress': 'cx63cfe2f8703dbedfc4dd80d93aa7ea917d498c06', 'indexed': ['OriginateLoan(Address,str,int,str)', 'hx7a1824129a8fe803e45a3aae1c0e060399546187', 'bnUSD', '0x2b5e3af16b1880000'], 'data': ['Loan of 50.0 bnUSD from Balanced.']} \n",
      "\n",
      "{'scoreAddress': 'cxbfa6fbf061d1d6bc9b55034efd2db3405ee7e0d1', 'indexed': ['Transfer(Address,Address,int,bytes)', 'cxbfa6fbf061d1d6bc9b55034efd2db3405ee7e0d1', 'hx7a1824129a8fe803e45a3aae1c0e060399546187', '0x2b5e3af16b1880000'], 'data': ['0x4e6f6e65']} \n",
      "\n",
      "{'scoreAddress': 'cxbfa6fbf061d1d6bc9b55034efd2db3405ee7e0d1', 'indexed': ['Mint(Address,int,bytes)', 'hx7a1824129a8fe803e45a3aae1c0e060399546187'], 'data': ['0x2b5e3af16b1880000', '0x4e6f6e65']} \n",
      "\n",
      "{'scoreAddress': 'cxbfa6fbf061d1d6bc9b55034efd2db3405ee7e0d1', 'indexed': ['Transfer(Address,Address,int,bytes)', 'cxbfa6fbf061d1d6bc9b55034efd2db3405ee7e0d1', 'cxd709ac6f7c65c034f01de0b0e2d1663a7778f753', '0x6f05b59d3b20000'], 'data': ['0x4e6f6e65']} \n",
      "\n",
      "{'scoreAddress': 'cxbfa6fbf061d1d6bc9b55034efd2db3405ee7e0d1', 'indexed': ['Mint(Address,int,bytes)', 'cxd709ac6f7c65c034f01de0b0e2d1663a7778f753'], 'data': ['0x6f05b59d3b20000', '0x4e6f6e65']} \n",
      "\n",
      "{'scoreAddress': 'cx63cfe2f8703dbedfc4dd80d93aa7ea917d498c06', 'indexed': ['FeePaid(str,int,str,str)', 'bnUSD', '0x6f05b59d3b20000', 'origination'], 'data': ['']} \n",
      "\n",
      "{'scoreAddress': 'cxb75a7131820f8663ea14c1769374ac3e76bf5110', 'indexed': ['Transfer(Address,Address,int,bytes)', 'hx7a1824129a8fe803e45a3aae1c0e060399546187', 'cx63cfe2f8703dbedfc4dd80d93aa7ea917d498c06', '0x2b5e3af16b18800000'], 'data': ['0x7b226d6574686f64223a225f6465706f7369745f616e645f626f72726f77222c22706172616d73223a7b225f73656e646572223a22687837613138323431323961386665383033653435613361616531633065303630333939353436313837222c225f6173736574223a22626e555344222c225f616d6f756e74223a35303030303030303030303030303030303030307d7d']} \n",
      "\n",
      "{'scoreAddress': 'cx7dae0b285450d0abbfbc430c37fb480f1036a73d', 'indexed': ['TokenTransfer(Address,int,str)', 'cx63cfe2f8703dbedfc4dd80d93aa7ea917d498c06', '0x2b5e3af16b18800000'], 'data': ['800.0 sICX minted to cx63cfe2f8703dbedfc4dd80d93aa7ea917d498c06']} \n",
      "\n",
      "------------------------------------------------------------------------------------------------------------------\n",
      "Reading getAccountPositions, with parameters {'_owner': 'hxe62d11fa19a0e8575ad92f06bc8fd42edbfe27db'} on the loans contract.\n",
      "------------------------------------------------------------------------------------------------------------------\n"
     ]
    },
    {
     "name": "stdout",
     "output_type": "stream",
     "text": [
      "{'pos_id': '0x1', 'created': '0x5bdca345b8e0c', 'address': 'hxe62d11fa19a0e8575ad92f06bc8fd42edbfe27db', 'snap_id': '0x1', 'snaps_length': '0x1', 'last_snap': '0x1', 'first day': '0x1', 'assets': {'sICX': '0x2b5e3af16b18800000', 'bnUSD': '0x2bcd40a70853a0000'}, 'replay_index': '0x0', 'events_behind': '0x0', 'total_debt': '0x1a3107502244a0ee3', 'ratio': '0x16fa9b49c5a16dc0c', 'standing': 'Mining'}\n",
      "------------------------------------------------------------------------------------------------------------------\n",
      "Reading getAccountPositions, with parameters {'_owner': 'hx7a1824129a8fe803e45a3aae1c0e060399546187'} on the loans contract.\n",
      "------------------------------------------------------------------------------------------------------------------\n",
      "{'pos_id': '0x2', 'created': '0x5bdca347a1807', 'address': 'hx7a1824129a8fe803e45a3aae1c0e060399546187', 'snap_id': '0x1', 'snaps_length': '0x1', 'last_snap': '0x1', 'first day': '0x1', 'assets': {'sICX': '0x2b5e3af16b18800000', 'bnUSD': '0x2bcd40a70853a0000'}, 'replay_index': '0x0', 'events_behind': '0x0', 'total_debt': '0x1a3107502244a0ee3', 'ratio': '0x16fa9b49c5a16dc0c', 'standing': 'Mining'}\n"
     ]
    }
   ],
   "source": [
    "#2. redeem 50 ICD from user1 that  have 50 bnUSD  on Balanced. \n",
    "# a.deposite 800icx and mint 50 bnusd to both user1 and user2\n",
    "# b.user2 tries to retire 50 bnusd(actual value of bnusd of user2 50.5 bnusd) \n",
    "send_tx('loans', 800*ICX, 'addCollateral', {'_asset': 'bnUSD', '_amount': 50 * ICX}, user1)\n",
    "send_tx('loans', 800*ICX, 'addCollateral', {'_asset': 'bnUSD', '_amount': 50 * ICX}, user2)\n",
    "\n",
    "call_tx('loans', 'getAccountPositions', {'_owner': user1.get_address()})\n",
    "call_tx('loans', 'getAccountPositions', {'_owner': user2.get_address()})\n"
   ]
  },
  {
   "cell_type": "code",
   "execution_count": 25,
   "metadata": {},
   "outputs": [
    {
     "name": "stdout",
     "output_type": "stream",
     "text": [
      "Status: 1\n",
      "{'scoreAddress': 'cxbfa6fbf061d1d6bc9b55034efd2db3405ee7e0d1', 'indexed': ['Transfer(Address,Address,int,bytes)', 'cx63cfe2f8703dbedfc4dd80d93aa7ea917d498c06', 'cxbfa6fbf061d1d6bc9b55034efd2db3405ee7e0d1', '0x6f05b59d3b20000'], 'data': ['0x4e6f6e65']} \n",
      "\n",
      "{'scoreAddress': 'cxbfa6fbf061d1d6bc9b55034efd2db3405ee7e0d1', 'indexed': ['Burn(Address,int)', 'cx63cfe2f8703dbedfc4dd80d93aa7ea917d498c06'], 'data': ['0x6f05b59d3b20000']} \n",
      "\n",
      "{'scoreAddress': 'cx63cfe2f8703dbedfc4dd80d93aa7ea917d498c06', 'indexed': ['LoanRepaid(Address,str,int,str)', 'hx7a1824129a8fe803e45a3aae1c0e060399546187', 'bnUSD', '0x6f05b59d3b20000'], 'data': ['Loan of 0.5 bnUSD repaid to Balanced.']} \n",
      "\n",
      "{'scoreAddress': 'cxbfa6fbf061d1d6bc9b55034efd2db3405ee7e0d1', 'indexed': ['Transfer(Address,Address,int,bytes)', 'hx7a1824129a8fe803e45a3aae1c0e060399546187', 'cx63cfe2f8703dbedfc4dd80d93aa7ea917d498c06', '0x6f05b59d3b20000'], 'data': ['0x7b226d6574686f64223a20225f7265746972655f6173736574222c2022706172616d73223a207b7d7d']} \n",
      "\n"
     ]
    }
   ],
   "source": [
    "#2. redeem 50.5 bnusd from user1 that  have 50 bnUSD  on Balanced. \n",
    "\n",
    "\n",
    "params = {'_to': user2.get_address(), '_value': 50500000000000000000}\n",
    "transaction = CallTransactionBuilder()\\\n",
    "    .from_(user1.get_address())\\\n",
    "    .to(contracts['bnUSD']['SCORE'])\\\n",
    "    .value(0)\\\n",
    "    .step_limit(10000000)\\\n",
    "    .nid(NID)\\\n",
    "    .nonce(100)\\\n",
    "    .method(\"transfer\")\\\n",
    "    .params(params)\\\n",
    "    .build()\n",
    "signed_transaction = SignedTransaction(transaction, user1)\n",
    "tx_hash = icon_service.send_transaction(signed_transaction)\n",
    "sleep(2)\n",
    "params = {\"method\": \"_retire_asset\", \"params\": {}}\n",
    "data = json.dumps(params).encode(\"utf-8\")\n",
    "params = {'_to': contracts['loans']['SCORE'], '_value': 50500000000000000000, '_data': data}\n",
    "transaction = CallTransactionBuilder()\\\n",
    "    .from_(user2.get_address())\\\n",
    "    .to(contracts['bnUSD']['SCORE'])\\\n",
    "    .value(0)\\\n",
    "    .step_limit(10000000)\\\n",
    "    .nid(NID)\\\n",
    "    .nonce(100)\\\n",
    "    .method(\"transfer\")\\\n",
    "    .params(params)\\\n",
    "    .build()\n",
    "signed_transaction = SignedTransaction(transaction, user2)\n",
    "tx_hash = icon_service.send_transaction(signed_transaction)\n",
    "sleep(1)\n",
    "\n",
    "res = get_tx_result(tx_hash)\n",
    "print(f'Status: {res[\"status\"]}')\n",
    "if len(res[\"eventLogs\"]) > 0:\n",
    "    for item in res[\"eventLogs\"]:\n",
    "        print(f'{item} \\n')\n",
    "if res['status'] == 0:\n",
    "    print(f'Failure: {res[\"failure\"]}')"
   ]
  },
  {
   "cell_type": "code",
   "execution_count": 26,
   "metadata": {},
   "outputs": [
    {
     "name": "stdout",
     "output_type": "stream",
     "text": [
      "------------------------------------------------------------------------------------------------------------------\n",
      "Reading getAccountPositions, with parameters {'_owner': 'hxe62d11fa19a0e8575ad92f06bc8fd42edbfe27db'} on the loans contract.\n",
      "------------------------------------------------------------------------------------------------------------------\n",
      "{'pos_id': '0x1', 'created': '0x5bdca345b8e0c', 'address': 'hxe62d11fa19a0e8575ad92f06bc8fd42edbfe27db', 'snap_id': '0x1', 'snaps_length': '0x1', 'last_snap': '0x1', 'first day': '0x1', 'assets': {'sICX': '0x2b5e3af16b18800000', 'bnUSD': '0x2bcd40a70853a0000'}, 'replay_index': '0x0', 'events_behind': '0x0', 'total_debt': '0x1a3107502244a0ee3', 'ratio': '0x16fa9b49c5a16dc0c', 'standing': 'Mining'}\n",
      "------------------------------------------------------------------------------------------------------------------\n",
      "Reading getAccountPositions, with parameters {'_owner': 'hx7a1824129a8fe803e45a3aae1c0e060399546187'} on the loans contract.\n",
      "------------------------------------------------------------------------------------------------------------------\n",
      "{'pos_id': '0x2', 'created': '0x5bdca347a1807', 'address': 'hx7a1824129a8fe803e45a3aae1c0e060399546187', 'snap_id': '0x1', 'snaps_length': '0x1', 'last_snap': '0x1', 'first day': '0x1', 'assets': {'sICX': '0x2b5e3af16b18800000', 'bnUSD': '0x0'}, 'replay_index': '0x0', 'events_behind': '0x0', 'total_debt': '0x0', 'ratio': '0x0', 'standing': 'No Debt'}\n"
     ]
    }
   ],
   "source": [
    "# check the account position after retiring\n",
    "call_tx('loans', 'getAccountPositions', {'_owner': user1.get_address()})\n",
    "call_tx('loans', 'getAccountPositions', {'_owner': user2.get_address()})"
   ]
  },
  {
   "cell_type": "code",
   "execution_count": 31,
   "metadata": {},
   "outputs": [
    {
     "name": "stdout",
     "output_type": "stream",
     "text": [
      "------------------------------------------------------------------------------------------------------------------\n",
      "Reading getAccountPositions, with parameters {'_owner': 'hx7a1824129a8fe803e45a3aae1c0e060399546187'} on the loans contract.\n",
      "------------------------------------------------------------------------------------------------------------------\n",
      "{'pos_id': '0x2', 'created': '0x5bdca347a1807', 'address': 'hx7a1824129a8fe803e45a3aae1c0e060399546187', 'snap_id': '0x2', 'snaps_length': '0x2', 'last_snap': '0x2', 'first day': '0x1', 'assets': {'sICX': '0x2b5e3af16b18800000', 'bnUSD': '0x11f452c53a2960000', 'BALN': '0x0'}, 'replay_index': '0x0', 'events_behind': '0x0', 'total_debt': '0xabc65d95ea6041eb', 'ratio': '0x380f495fe0e7d064a', 'standing': 'Mining'}\n",
      "------------------------------------------------------------------------------------------------------------------\n",
      "Calling originateLoan, with parameters {'_asset': 'bnUSD', '_amount': 50000000000000000000} on the loans contract.\n",
      "------------------------------------------------------------------------------------------------------------------\n",
      "************************************************** Status: 1 **************************************************\n",
      "{'scoreAddress': 'cxbfa6fbf061d1d6bc9b55034efd2db3405ee7e0d1', 'indexed': ['OraclePrice(str,str,Address,int)', 'USDICX', 'BandChain', 'cx7171e2f5653c1b9c000e24228276b8d24e84f10d'], 'data': ['0x84c5d90848544bb']} \n",
      "\n",
      "{'scoreAddress': 'cx63cfe2f8703dbedfc4dd80d93aa7ea917d498c06', 'indexed': ['Snapshot(int)', '0x4'], 'data': []} \n",
      "\n",
      "{'scoreAddress': 'cx1940cd3c1c873a0a5fcbec084acbde151639194e', 'indexed': ['Mint(Address,int,bytes)', 'cx1940cd3c1c873a0a5fcbec084acbde151639194e'], 'data': ['0x152d02c7e14af6800000', '0x4e6f6e65']} \n",
      "\n",
      "{'scoreAddress': 'cx1940cd3c1c873a0a5fcbec084acbde151639194e', 'indexed': ['Transfer(Address,Address,int,bytes)', 'cx1940cd3c1c873a0a5fcbec084acbde151639194e', 'cxbebe4baa27910566e5340b23d315db8bb84f24ae', '0x152d02c7e14af6800000'], 'data': ['0x4e6f6e65']} \n",
      "\n",
      "{'scoreAddress': 'cx1940cd3c1c873a0a5fcbec084acbde151639194e', 'indexed': ['Transfer(Address,Address,int,bytes)', 'cxbebe4baa27910566e5340b23d315db8bb84f24ae', 'cxe1bf6cfbcad5c0c067590d4dfe8fc74dc62c66e7', '0x43c33c1937564800000'], 'data': ['0x4e6f6e65']} \n",
      "\n",
      "{'scoreAddress': 'cx1940cd3c1c873a0a5fcbec084acbde151639194e', 'indexed': ['Transfer(Address,Address,int,bytes)', 'cxbebe4baa27910566e5340b23d315db8bb84f24ae', 'cxc23e00aa79121c3145287e1abc4dcad262dc766b', '0x10f0cf064dd59200000'], 'data': ['0x4e6f6e65']} \n",
      "\n",
      "{'scoreAddress': 'cx63cfe2f8703dbedfc4dd80d93aa7ea917d498c06', 'indexed': ['OriginateLoan(Address,str,int,str)', 'hx7a1824129a8fe803e45a3aae1c0e060399546187', 'bnUSD', '0x2b5e3af16b1880000'], 'data': ['Loan of 50.0 bnUSD from Balanced.']} \n",
      "\n",
      "{'scoreAddress': 'cxbfa6fbf061d1d6bc9b55034efd2db3405ee7e0d1', 'indexed': ['Transfer(Address,Address,int,bytes)', 'cxbfa6fbf061d1d6bc9b55034efd2db3405ee7e0d1', 'hx7a1824129a8fe803e45a3aae1c0e060399546187', '0x2b5e3af16b1880000'], 'data': ['0x4e6f6e65']} \n",
      "\n",
      "{'scoreAddress': 'cxbfa6fbf061d1d6bc9b55034efd2db3405ee7e0d1', 'indexed': ['Mint(Address,int,bytes)', 'hx7a1824129a8fe803e45a3aae1c0e060399546187'], 'data': ['0x2b5e3af16b1880000', '0x4e6f6e65']} \n",
      "\n",
      "{'scoreAddress': 'cxbfa6fbf061d1d6bc9b55034efd2db3405ee7e0d1', 'indexed': ['Transfer(Address,Address,int,bytes)', 'cxbfa6fbf061d1d6bc9b55034efd2db3405ee7e0d1', 'cxd709ac6f7c65c034f01de0b0e2d1663a7778f753', '0x6f05b59d3b20000'], 'data': ['0x4e6f6e65']} \n",
      "\n",
      "{'scoreAddress': 'cxbfa6fbf061d1d6bc9b55034efd2db3405ee7e0d1', 'indexed': ['Mint(Address,int,bytes)', 'cxd709ac6f7c65c034f01de0b0e2d1663a7778f753'], 'data': ['0x6f05b59d3b20000', '0x4e6f6e65']} \n",
      "\n",
      "{'scoreAddress': 'cx63cfe2f8703dbedfc4dd80d93aa7ea917d498c06', 'indexed': ['FeePaid(str,int,str,str)', 'bnUSD', '0x6f05b59d3b20000', 'origination'], 'data': ['']} \n",
      "\n",
      "------------------------------------------------------------------------------------------------------------------\n",
      "Reading getAccountPositions, with parameters {'_owner': 'hxe62d11fa19a0e8575ad92f06bc8fd42edbfe27db'} on the loans contract.\n",
      "------------------------------------------------------------------------------------------------------------------\n",
      "{'pos_id': '0x1', 'created': '0x5bdca345b8e0c', 'address': 'hxe62d11fa19a0e8575ad92f06bc8fd42edbfe27db', 'snap_id': '0x1', 'snaps_length': '0x1', 'last_snap': '0x1', 'first day': '0x1', 'assets': {'sICX': '0x2b5e3af16b18800000', 'bnUSD': '0x2bcd40a70853a0000'}, 'replay_index': '0x0', 'events_behind': '0x0', 'total_debt': '0x0', 'ratio': '0x0', 'standing': 'Indeterminate'}\n",
      "------------------------------------------------------------------------------------------------------------------\n",
      "Reading getAccountPositions, with parameters {'_owner': 'hx7a1824129a8fe803e45a3aae1c0e060399546187'} on the loans contract.\n",
      "------------------------------------------------------------------------------------------------------------------\n",
      "{'pos_id': '0x2', 'created': '0x5bdca347a1807', 'address': 'hx7a1824129a8fe803e45a3aae1c0e060399546187', 'snap_id': '0x4', 'snaps_length': '0x3', 'last_snap': '0x4', 'first day': '0x1', 'assets': {'sICX': '0x2b5e3af16b18800000', 'bnUSD': '0x3dc1936c427d00000', 'BALN': '0x0'}, 'replay_index': '0x0', 'events_behind': '0x0', 'total_debt': '0x24ed6d2980eaa50cf', 'ratio': '0x104c5ab9b7add284b', 'standing': 'Mining'}\n"
     ]
    }
   ],
   "source": [
    "# 3.no bad debt for asset, retiring 50 bnUSD from account with a debt position > 50.\n",
    "# a. user1 has  800 ICX and 50 bnusd loan \n",
    "# b.user2 has 800icx and 70 bnusd loan\n",
    "\n",
    "call_tx('loans', 'getAccountPositions', {'_owner': user2.get_address()})\n",
    "send_tx('loans', 0, 'originateLoan', {'_asset':'bnUSD', '_amount':50 *ICX}, user2)\n",
    "call_tx('loans', 'getAccountPositions', {'_owner': user1.get_address()})\n",
    "call_tx('loans', 'getAccountPositions', {'_owner': user2.get_address()})"
   ]
  },
  {
   "cell_type": "code",
   "execution_count": 36,
   "metadata": {},
   "outputs": [
    {
     "name": "stdout",
     "output_type": "stream",
     "text": [
      "User1 delegates 100% of it's votes to hx4917005bf4b8188b9591da520fc1c6dab8fe717f\n",
      "Status: 1\n",
      "{'scoreAddress': 'cx1940cd3c1c873a0a5fcbec084acbde151639194e', 'indexed': ['Mint(Address,int,bytes)', 'cx1940cd3c1c873a0a5fcbec084acbde151639194e'], 'data': ['0x152d02c7e14af6800000', '0x4e6f6e65']} \n",
      "\n",
      "{'scoreAddress': 'cx1940cd3c1c873a0a5fcbec084acbde151639194e', 'indexed': ['Transfer(Address,Address,int,bytes)', 'cx1940cd3c1c873a0a5fcbec084acbde151639194e', 'cxbebe4baa27910566e5340b23d315db8bb84f24ae', '0x152d02c7e14af6800000'], 'data': ['0x4e6f6e65']} \n",
      "\n",
      "{'scoreAddress': 'cx1940cd3c1c873a0a5fcbec084acbde151639194e', 'indexed': ['Transfer(Address,Address,int,bytes)', 'cxbebe4baa27910566e5340b23d315db8bb84f24ae', 'cxe1bf6cfbcad5c0c067590d4dfe8fc74dc62c66e7', '0x43c33c1937564800000'], 'data': ['0x4e6f6e65']} \n",
      "\n",
      "{'scoreAddress': 'cx1940cd3c1c873a0a5fcbec084acbde151639194e', 'indexed': ['Transfer(Address,Address,int,bytes)', 'cxbebe4baa27910566e5340b23d315db8bb84f24ae', 'cxc23e00aa79121c3145287e1abc4dcad262dc766b', '0x10f0cf064dd59200000'], 'data': ['0x4e6f6e65']} \n",
      "\n",
      "{'scoreAddress': 'cxbfa6fbf061d1d6bc9b55034efd2db3405ee7e0d1', 'indexed': ['Transfer(Address,Address,int,bytes)', 'cx63cfe2f8703dbedfc4dd80d93aa7ea917d498c06', 'cxbfa6fbf061d1d6bc9b55034efd2db3405ee7e0d1', '0x2b5e3af16b1880000'], 'data': ['0x4e6f6e65']} \n",
      "\n",
      "{'scoreAddress': 'cxbfa6fbf061d1d6bc9b55034efd2db3405ee7e0d1', 'indexed': ['Burn(Address,int)', 'cx63cfe2f8703dbedfc4dd80d93aa7ea917d498c06'], 'data': ['0x2b5e3af16b1880000']} \n",
      "\n",
      "{'scoreAddress': 'cx63cfe2f8703dbedfc4dd80d93aa7ea917d498c06', 'indexed': ['LoanRepaid(Address,str,int,str)', 'hx7a1824129a8fe803e45a3aae1c0e060399546187', 'bnUSD', '0x2b5e3af16b1880000'], 'data': ['Loan of 50.0 bnUSD repaid to Balanced.']} \n",
      "\n",
      "{'scoreAddress': 'cxbfa6fbf061d1d6bc9b55034efd2db3405ee7e0d1', 'indexed': ['OraclePrice(str,str,Address,int)', 'USDICX', 'BandChain', 'cx7171e2f5653c1b9c000e24228276b8d24e84f10d'], 'data': ['0x84c5d90848544bb']} \n",
      "\n",
      "{'scoreAddress': 'cxbfa6fbf061d1d6bc9b55034efd2db3405ee7e0d1', 'indexed': ['Transfer(Address,Address,int,bytes)', 'hx7a1824129a8fe803e45a3aae1c0e060399546187', 'cx63cfe2f8703dbedfc4dd80d93aa7ea917d498c06', '0x2b5e3af16b1880000'], 'data': ['0x7b226d6574686f64223a20225f7265746972655f6173736574222c2022706172616d73223a207b7d7d']} \n",
      "\n"
     ]
    }
   ],
   "source": [
    "# c.user2 tries to retire 50 bnusd\n",
    "\n",
    "test_cases =  { \n",
    "    \n",
    "    \"stories\": [ {\n",
    "      \"description\": \"User2 tres to retire 50 bnusd\",\n",
    "      \"actions\": {\n",
    "          \"sender\":\"user2\",\n",
    "          \"first_meth\": \"transfer\",\n",
    "          \"second_meth\":\"transfer\",\n",
    "          \"deposited_icx\":\"0\",\n",
    "          \"first_params\":{'_to': user2.get_address(), '_value': 50 * ICX},\n",
    "          \"second_params\":{\"method\": \"_retire_asset\", \"params\": {},'_to': contracts['loans']['SCORE'], '_value': 50 * ICX},\n",
    "          \"expected_bnusd_wallet\":\"20700000000000000000\"\n",
    "          \n",
    "      }\n",
    "    }     \n",
    "\n",
    "  ]\n",
    "}\n",
    "\n",
    "for case in test_cases['stories']:\n",
    "    print(case['description'])\n",
    "    if case['actions']['sender'] == 'user1':\n",
    "        wallet_address = user1.get_address()\n",
    "        wallet = user1\n",
    "    else:\n",
    "        wallet_address = user2.get_address()\n",
    "        wallet = user2\n",
    "    \n",
    "    _to = contracts['bnUSD']['SCORE']\n",
    "    meth1 = case['actions']['first_meth']\n",
    "    meth2 = case['actions']['second_meth']\n",
    "    val = int(case['actions']['deposited_icx'])\n",
    "    data1 = case['actions']['first_params']\n",
    "    first_params = {\"_to\": data1['_to'], \"_value\": data1['_value']}\n",
    "    \n",
    "    data2 = case['actions']['second_params']\n",
    "    params = {\"method\": data2['method'], \"params\": data2['params']}\n",
    "    data = json.dumps(params).encode(\"utf-8\")\n",
    "    second_params = {'_to': data2['_to'], '_value': data2['_value'], '_data': data}\n",
    "\n",
    "\n",
    "    transaction = CallTransactionBuilder()\\\n",
    "        .from_(user1.get_address())\\\n",
    "        .to(_to)\\\n",
    "        .value(val)\\\n",
    "        .step_limit(10000000)\\\n",
    "        .nid(NID)\\\n",
    "        .nonce(100)\\\n",
    "        .method(meth1)\\\n",
    "        .params(first_params)\\\n",
    "        .build()\n",
    "    signed_transaction = SignedTransaction(transaction, user1)\n",
    "    tx_hash = icon_service.send_transaction(signed_transaction)\n",
    "    sleep(2)\n",
    "\n",
    "    transaction = CallTransactionBuilder()\\\n",
    "        .from_(user2.get_address())\\\n",
    "        .to(_to)\\\n",
    "        .value(val)\\\n",
    "        .step_limit(10000000)\\\n",
    "        .nid(NID)\\\n",
    "        .nonce(100)\\\n",
    "        .method(meth2)\\\n",
    "        .params(second_params)\\\n",
    "        .build()\n",
    "    signed_transaction = SignedTransaction(transaction, user2)\n",
    "    tx_hash = icon_service.send_transaction(signed_transaction)\n",
    "    sleep(1)\n",
    "\n",
    "    res = get_tx_result(tx_hash)\n",
    "    print(f'Status: {res[\"status\"]}')\n",
    "    if len(res[\"eventLogs\"]) > 0:\n",
    "        for item in res[\"eventLogs\"]:\n",
    "            print(f'{item} \\n')\n",
    "    if res['status'] == 0:\n",
    "        print(f'Failure: {res[\"failure\"]}')"
   ]
  },
  {
   "cell_type": "code",
   "execution_count": 46,
   "metadata": {},
   "outputs": [
    {
     "name": "stdout",
     "output_type": "stream",
     "text": [
      "------------------------------------------------------------------------------------------------------------------\n",
      "Reading getAccountPositions, with parameters {'_owner': 'hxe62d11fa19a0e8575ad92f06bc8fd42edbfe27db'} on the loans contract.\n",
      "------------------------------------------------------------------------------------------------------------------\n",
      "{'pos_id': '0x1', 'created': '0x5bdca345b8e0c', 'address': 'hxe62d11fa19a0e8575ad92f06bc8fd42edbfe27db', 'snap_id': '0x1', 'snaps_length': '0x1', 'last_snap': '0x1', 'first day': '0x1', 'assets': {'sICX': '0x2b5e3af16b18800000', 'bnUSD': '0x2bcd40a70853a0000'}, 'replay_index': '0x0', 'events_behind': '0x0', 'total_debt': '0x0', 'ratio': '0x0', 'standing': 'Indeterminate'}\n",
      "------------------------------------------------------------------------------------------------------------------\n",
      "Reading getAccountPositions, with parameters {'_owner': 'hx7a1824129a8fe803e45a3aae1c0e060399546187'} on the loans contract.\n",
      "------------------------------------------------------------------------------------------------------------------\n",
      "{'pos_id': '0x2', 'created': '0x5bdca347a1807', 'address': 'hx7a1824129a8fe803e45a3aae1c0e060399546187', 'snap_id': '0x4', 'snaps_length': '0x3', 'last_snap': '0x4', 'first day': '0x1', 'assets': {'sICX': '0x2b5e3af16b18800000', 'bnUSD': '0x1263587ad76480000', 'BALN': '0x0'}, 'replay_index': '0x0', 'events_behind': '0x0', 'total_debt': '0xafec8c5e2ca2e449', 'ratio': '0x36bcd018c97ce9aa8', 'standing': 'Mining'}\n",
      "0x1263587ad76480000\n",
      "success\n"
     ]
    }
   ],
   "source": [
    "call_tx('loans', 'getAccountPositions', {'_owner': user1.get_address()})\n",
    "res = call_tx('loans', 'getAccountPositions', {'_owner': user2.get_address()})\n",
    "print(res['assets']['bnUSD'])\n",
    "if (res['assets']['bnUSD']) == hex(21200000000000000000):\n",
    "    print('success')\n",
    "else:\n",
    "    print('fail')"
   ]
  },
  {
   "cell_type": "code",
   "execution_count": 22,
   "metadata": {},
   "outputs": [
    {
     "name": "stdout",
     "output_type": "stream",
     "text": [
      "------------------------------------------------------------------------------------------------------------------\n",
      "Reading getAccountPositions, with parameters {'_owner': 'hxe62d11fa19a0e8575ad92f06bc8fd42edbfe27db'} on the loans contract.\n",
      "------------------------------------------------------------------------------------------------------------------\n",
      "{'pos_id': '0x1', 'created': '0x5bdde2116b206', 'address': 'hxe62d11fa19a0e8575ad92f06bc8fd42edbfe27db', 'snap_id': '0x1', 'snaps_length': '0x1', 'last_snap': '0x1', 'first day': '0x1', 'assets': {'sICX': '0x1b1ae4d6e2ef500000', 'bnUSD': '0x15af1d78b58c400000'}, 'replay_index': '0x0', 'events_behind': '0x0', 'total_debt': '0xcf75231cf103b6430', 'ratio': '0x1d02ca7389823429', 'standing': 'Locked'}\n",
      "------------------------------------------------------------------------------------------------------------------\n",
      "Calling add_bad_test_position, with parameters {} on the loans contract.\n",
      "------------------------------------------------------------------------------------------------------------------\n"
     ]
    },
    {
     "name": "stderr",
     "output_type": "stream",
     "text": [
      "Raised JSONRPCException while returning the custom response. Error message: {'code': -32602, 'message': 'Pending transaction'}\n"
     ]
    },
    {
     "name": "stdout",
     "output_type": "stream",
     "text": [
      "Retrying in 1 seconds...\n",
      "************************************************** Status: 1 **************************************************\n",
      "{'scoreAddress': 'cx30f2b3443542fc7aec4956c922d95f116da521ae', 'indexed': ['Transfer(Address,Address,int,bytes)', 'cx30f2b3443542fc7aec4956c922d95f116da521ae', 'hxe62d11fa19a0e8575ad92f06bc8fd42edbfe27db', '0xad78ebc5ac6200000'], 'data': ['0x4e6f6e65']} \n",
      "\n",
      "{'scoreAddress': 'cx30f2b3443542fc7aec4956c922d95f116da521ae', 'indexed': ['Mint(Address,int,bytes)', 'hxe62d11fa19a0e8575ad92f06bc8fd42edbfe27db'], 'data': ['0xad78ebc5ac6200000', '0x4e6f6e65']} \n",
      "\n",
      "------------------------------------------------------------------------------------------------------------------\n",
      "Reading getAccountPositions, with parameters {'_owner': 'hxe62d11fa19a0e8575ad92f06bc8fd42edbfe27db'} on the loans contract.\n",
      "------------------------------------------------------------------------------------------------------------------\n",
      "{'pos_id': '0x1', 'created': '0x5bdde2116b206', 'address': 'hxe62d11fa19a0e8575ad92f06bc8fd42edbfe27db', 'snap_id': '0x1', 'snaps_length': '0x1', 'last_snap': '0x1', 'first day': '0x1', 'assets': {'sICX': '0x1b1ae4d6e2ef500000', 'bnUSD': '0x2086ac351052600000'}, 'replay_index': '0x0', 'events_behind': '0x0', 'total_debt': '0x1372fb4ab698591648', 'ratio': '0x135731a25bac22c6', 'standing': 'Liquidate'}\n"
     ]
    }
   ],
   "source": [
    "# 4.Retiring 50 bnUSD, with bad_debt > 50 bnUSD for the asset, retired from account without a position on Balanced, liquidation pool > 1.1x the value of the retired asset.\n",
    "# a. Liquidate an account with a bad_debt more than 50 bnusd\n",
    "\n",
    "# Try liquidating an account user1\n",
    "\n",
    "# 1. Deposit collateral to user1 wallet\n",
    "# 2. Check the account standing after depositing collateral - Should be 'No Debt', and\n",
    "#    holding '0x2a6f1a22364bbe8000' worth of sICX.\n",
    "# 3a. Mints 200 ICD to the test address without checking collateralization ratio\n",
    "#     With the above collateral deposit it will put the position in a standing of Liquidation.\n",
    "# 4. Check the new standing of the account. Should have added '0xad78ebc5ac6200000' ICD and have standing of 'Liquidate'.\n",
    "\n",
    "call_tx('loans', 'getAccountPositions', {'_owner': user1.get_address()})\n",
    "send_tx('loans', 500 * ICX, 'addCollateral', {'_asset': '', '_amount': 0}, user1)\n",
    "call_tx('loans', 'getAccountPositions', {'_owner': user1.get_address()})\n",
    "send_tx('loans', 0, 'add_bad_test_position', {}, user1)\n",
    "call_tx('loans', 'getAccountPositions', {'_owner': user1.get_address()})\n",
    "send_tx('loans', 0, 'add_bad_test_position', {}, user1)\n",
    "send_tx('loans', 0, 'add_bad_test_position', {}, user1)\n",
    "call_tx('loans', 'getAccountPositions', {'_owner': user1.get_address()})\n"
   ]
  },
  {
   "cell_type": "code",
   "execution_count": 23,
   "metadata": {},
   "outputs": [
    {
     "name": "stdout",
     "output_type": "stream",
     "text": [
      "------------------------------------------------------------------------------------------------------------------\n",
      "Reading getAccountPositions, with parameters {'_owner': 'hxe62d11fa19a0e8575ad92f06bc8fd42edbfe27db'} on the loans contract.\n",
      "------------------------------------------------------------------------------------------------------------------\n",
      "{'pos_id': '0x1', 'created': '0x5bdde2116b206', 'address': 'hxe62d11fa19a0e8575ad92f06bc8fd42edbfe27db', 'snap_id': '0x1', 'snaps_length': '0x1', 'last_snap': '0x1', 'first day': '0x1', 'assets': {'sICX': '0x1b1ae4d6e2ef500000', 'bnUSD': '0x2086ac351052600000'}, 'replay_index': '0x0', 'events_behind': '0x0', 'total_debt': '0x1372fb4ab698591648', 'ratio': '0x135731a25bac22c6', 'standing': 'Liquidate'}\n",
      "------------------------------------------------------------------------------------------------------------------\n",
      "Calling liquidate, with parameters {'_owner': 'hxe62d11fa19a0e8575ad92f06bc8fd42edbfe27db'} on the loans contract.\n",
      "------------------------------------------------------------------------------------------------------------------\n",
      "************************************************** Status: 1 **************************************************\n",
      "{'scoreAddress': 'cx30f2b3443542fc7aec4956c922d95f116da521ae', 'indexed': ['OraclePrice(str,str,Address,int)', 'USDICX', 'BandChain', 'cx7171e2f5653c1b9c000e24228276b8d24e84f10d'], 'data': ['0x84c5d90848544bb']} \n",
      "\n",
      "{'scoreAddress': 'cxe49964351f78130791764def7b86a395e561e750', 'indexed': ['PositionStanding(Address,str,str,str)', 'hxe62d11fa19a0e8575ad92f06bc8fd42edbfe27db', 'Liquidate'], 'data': ['1.3936371830869285', 'Position up to date.']} \n",
      "\n",
      "{'scoreAddress': 'cx3d607dbc36d63c190a6fa130392794c7e1b1bf3a', 'indexed': ['Transfer(Address,Address,int,bytes)', 'cxe49964351f78130791764def7b86a395e561e750', 'hxe62d11fa19a0e8575ad92f06bc8fd42edbfe27db', '0x2e7d97403d8f0000'], 'data': ['0x4e6f6e65']} \n",
      "\n",
      "{'scoreAddress': 'cxe49964351f78130791764def7b86a395e561e750', 'indexed': ['TokenTransfer(Address,int,str)', 'hxe62d11fa19a0e8575ad92f06bc8fd42edbfe27db', '0x2e7d97403d8f0000'], 'data': ['Liquidation reward of 3350000000000000000 sICX sent to hxe62d11fa19a0e8575ad92f06bc8fd42edbfe27db.']} \n",
      "\n",
      "{'scoreAddress': 'cxe49964351f78130791764def7b86a395e561e750', 'indexed': ['Liquidate(Address,int,str)', 'hxe62d11fa19a0e8575ad92f06bc8fd42edbfe27db', '0x1b1ae4d6e2ef500000'], 'data': ['500000000000000000000 liquidated from hxe62d11fa19a0e8575ad92f06bc8fd42edbfe27db']} \n",
      "\n",
      "------------------------------------------------------------------------------------------------------------------\n",
      "Reading getAccountPositions, with parameters {'_owner': 'hxe62d11fa19a0e8575ad92f06bc8fd42edbfe27db'} on the loans contract.\n",
      "------------------------------------------------------------------------------------------------------------------\n",
      "{'pos_id': '0x1', 'created': '0x5bdde2116b206', 'address': 'hxe62d11fa19a0e8575ad92f06bc8fd42edbfe27db', 'snap_id': '0x1', 'snaps_length': '0x1', 'last_snap': '0x1', 'first day': '0x1', 'assets': {'sICX': '0x0', 'bnUSD': '0x0'}, 'replay_index': '0x0', 'events_behind': '0x0', 'total_debt': '0x0', 'ratio': '0x0', 'standing': 'Zero'}\n",
      "------------------------------------------------------------------------------------------------------------------\n",
      "Reading checkDebts, with parameters {} on the loans contract.\n",
      "------------------------------------------------------------------------------------------------------------------\n",
      "{'system': {'debts': '0x0', 'bad_debt': '0x2086ac351052600000', 'supply': '0x2086ac351052600000', 'diff': '0x0', 'remaining': '0x0'}, 'events': {}}\n"
     ]
    }
   ],
   "source": [
    "# 5. Liquidate the account position.\n",
    "# 6. Check the standing of the account after liquidation. Should now have zero balance for sICX and ICD.\n",
    "# 7. Checking the debts should show the sum of the borrower debt and the bad debt equals the total supply.\n",
    "\n",
    "call_tx('loans', 'getAccountPositions', {'_owner': user1.get_address()})\n",
    "send_tx('loans', 0, 'liquidate', {'_owner': user1.get_address()}, user1)\n",
    "call_tx('loans', 'getAccountPositions', {'_owner': user1.get_address()})\n",
    "call_tx('loans', 'checkDebts', {})\n"
   ]
  },
  {
   "cell_type": "code",
   "execution_count": 25,
   "metadata": {},
   "outputs": [
    {
     "name": "stdout",
     "output_type": "stream",
     "text": [
      "Status: 1\n",
      "{'scoreAddress': 'cx30f2b3443542fc7aec4956c922d95f116da521ae', 'indexed': ['OraclePrice(str,str,Address,int)', 'USDICX', 'BandChain', 'cx7171e2f5653c1b9c000e24228276b8d24e84f10d'], 'data': ['0x84c5d90848544bb']} \n",
      "\n",
      "{'scoreAddress': 'cx30f2b3443542fc7aec4956c922d95f116da521ae', 'indexed': ['Transfer(Address,Address,int,bytes)', 'cxe49964351f78130791764def7b86a395e561e750', 'cx30f2b3443542fc7aec4956c922d95f116da521ae', '0x2b26b8169c7af0000'], 'data': ['0x4e6f6e65']} \n",
      "\n",
      "{'scoreAddress': 'cx30f2b3443542fc7aec4956c922d95f116da521ae', 'indexed': ['Burn(Address,int)', 'cxe49964351f78130791764def7b86a395e561e750'], 'data': ['0x2b26b8169c7af0000']} \n",
      "\n",
      "{'scoreAddress': 'cx3d607dbc36d63c190a6fa130392794c7e1b1bf3a', 'indexed': ['Transfer(Address,Address,int,bytes)', 'cxe49964351f78130791764def7b86a395e561e750', 'hx7a1824129a8fe803e45a3aae1c0e060399546187', '0x1c61fe6b7edc9eadf'], 'data': ['0x4e6f6e65']} \n",
      "\n",
      "{'scoreAddress': 'cxe49964351f78130791764def7b86a395e561e750', 'indexed': ['TokenTransfer(Address,int,str)', 'hx7a1824129a8fe803e45a3aae1c0e060399546187', '0x1c61fe6b7edc9eadf'], 'data': ['Collateral redeemed. 32723127095140149983 sICX sent to hx7a1824129a8fe803e45a3aae1c0e060399546187.']} \n",
      "\n",
      "{'scoreAddress': 'cx30f2b3443542fc7aec4956c922d95f116da521ae', 'indexed': ['Transfer(Address,Address,int,bytes)', 'cxe49964351f78130791764def7b86a395e561e750', 'cxc9f96ed759a489278bcb0e1e95f68dfaa95b1f93', '0x3782dace9d90000'], 'data': ['0x4e6f6e65']} \n",
      "\n",
      "{'scoreAddress': 'cxe49964351f78130791764def7b86a395e561e750', 'indexed': ['TokenTransfer(Address,int,str)', 'cxc9f96ed759a489278bcb0e1e95f68dfaa95b1f93', '0x3782dace9d90000'], 'data': ['Redemption fee. 250000000000000000 bnUSD sent to cxc9f96ed759a489278bcb0e1e95f68dfaa95b1f93.']} \n",
      "\n",
      "{'scoreAddress': 'cxe49964351f78130791764def7b86a395e561e750', 'indexed': ['AssetRedeemed(Address,str,int,str)', 'hx7a1824129a8fe803e45a3aae1c0e060399546187', 'bnUSD', '0x2b5e3af16b1880000'], 'data': ['50.0 bnUSD redeemed on Balanced at price 0.5979557258134335 ICX/bnUSD.']} \n",
      "\n",
      "{'scoreAddress': 'cx30f2b3443542fc7aec4956c922d95f116da521ae', 'indexed': ['Transfer(Address,Address,int,bytes)', 'hx7a1824129a8fe803e45a3aae1c0e060399546187', 'cxe49964351f78130791764def7b86a395e561e750', '0x2b5e3af16b1880000'], 'data': ['0x7b226d6574686f64223a20225f7265746972655f6173736574222c2022706172616d73223a207b7d7d']} \n",
      "\n"
     ]
    }
   ],
   "source": [
    "# 8. after liquidating we have a bad_debt of 600 bnusd and supply of 600 bnusd.Now, we retire 50 bnusd from user2 \n",
    "#   that doesn't have position on balanced.\n",
    "\n",
    "\n",
    "\n",
    "params = {'_to': user2.get_address(), '_value': 50 * ICX}\n",
    "transaction = CallTransactionBuilder()\\\n",
    "    .from_(user1.get_address())\\\n",
    "    .to(contracts['bnUSD']['SCORE'])\\\n",
    "    .value(0)\\\n",
    "    .step_limit(10000000)\\\n",
    "    .nid(NID)\\\n",
    "    .nonce(100)\\\n",
    "    .method(\"transfer\")\\\n",
    "    .params(params)\\\n",
    "    .build()\n",
    "signed_transaction = SignedTransaction(transaction, user1)\n",
    "tx_hash = icon_service.send_transaction(signed_transaction)\n",
    "sleep(2)\n",
    "params = {\"method\": \"_retire_asset\", \"params\": {}}\n",
    "data = json.dumps(params).encode(\"utf-8\")\n",
    "params = {'_to': contracts['loans']['SCORE'], '_value': 50 * ICX, '_data': data}\n",
    "transaction = CallTransactionBuilder()\\\n",
    "    .from_(user2.get_address())\\\n",
    "    .to(contracts['bnUSD']['SCORE'])\\\n",
    "    .value(0)\\\n",
    "    .step_limit(10000000)\\\n",
    "    .nid(NID)\\\n",
    "    .nonce(100)\\\n",
    "    .method(\"transfer\")\\\n",
    "    .params(params)\\\n",
    "    .build()\n",
    "signed_transaction = SignedTransaction(transaction, user2)\n",
    "tx_hash = icon_service.send_transaction(signed_transaction)\n",
    "sleep(1)\n",
    "\n",
    "res = get_tx_result(tx_hash)\n",
    "print(f'Status: {res[\"status\"]}')\n",
    "if len(res[\"eventLogs\"]) > 0:\n",
    "    for item in res[\"eventLogs\"]:\n",
    "        print(f'{item} \\n')\n",
    "if res['status'] == 0:\n",
    "    print(f'Failure: {res[\"failure\"]}')"
   ]
  },
  {
   "cell_type": "code",
   "execution_count": 26,
   "metadata": {},
   "outputs": [
    {
     "name": "stdout",
     "output_type": "stream",
     "text": [
      "------------------------------------------------------------------------------------------------------------------\n",
      "Reading getAccountPositions, with parameters {'_owner': 'hxe62d11fa19a0e8575ad92f06bc8fd42edbfe27db'} on the loans contract.\n",
      "------------------------------------------------------------------------------------------------------------------\n",
      "{'pos_id': '0x1', 'created': '0x5bdde2116b206', 'address': 'hxe62d11fa19a0e8575ad92f06bc8fd42edbfe27db', 'snap_id': '0x1', 'snaps_length': '0x1', 'last_snap': '0x1', 'first day': '0x1', 'assets': {'sICX': '0x0', 'bnUSD': '0x0'}, 'replay_index': '0x0', 'events_behind': '0x0', 'total_debt': '0x0', 'ratio': '0x0', 'standing': 'Zero'}\n",
      "------------------------------------------------------------------------------------------------------------------\n",
      "Reading getAccountPositions, with parameters {'_owner': 'hx7a1824129a8fe803e45a3aae1c0e060399546187'} on the loans contract.\n",
      "------------------------------------------------------------------------------------------------------------------\n",
      "{'message': 'That address has no outstanding loans or deposited collateral.'}\n",
      "------------------------------------------------------------------------------------------------------------------\n",
      "Reading checkDebts, with parameters {} on the loans contract.\n",
      "------------------------------------------------------------------------------------------------------------------\n",
      "{'system': {'debts': '0x0', 'bad_debt': '0x1dd440b3a68ab10000', 'supply': '0x1dd440b3a68ab10000', 'diff': '0x0', 'remaining': '0x0'}, 'events': {}}\n"
     ]
    }
   ],
   "source": [
    "call_tx('loans', 'getAccountPositions', {'_owner': user1.get_address()})\n",
    "call_tx('loans', 'getAccountPositions', {'_owner': user2.get_address()})\n",
    "call_tx('loans', 'checkDebts', {})"
   ]
  },
  {
   "cell_type": "markdown",
   "metadata": {},
   "source": [
    "Testing dead market"
   ]
  },
  {
   "cell_type": "code",
   "execution_count": 27,
   "metadata": {},
   "outputs": [
    {
     "name": "stdout",
     "output_type": "stream",
     "text": [
      "------------------------------------------------------------------------------------------------------------------\n",
      "Reading getAccountPositions, with parameters {'_owner': 'hxe62d11fa19a0e8575ad92f06bc8fd42edbfe27db'} on the loans contract.\n",
      "------------------------------------------------------------------------------------------------------------------\n",
      "{'pos_id': '0x1', 'created': '0x5bdde2116b206', 'address': 'hxe62d11fa19a0e8575ad92f06bc8fd42edbfe27db', 'snap_id': '0x1', 'snaps_length': '0x1', 'last_snap': '0x1', 'first day': '0x1', 'assets': {'sICX': '0x0', 'bnUSD': '0x0'}, 'replay_index': '0x0', 'events_behind': '0x0', 'total_debt': '0x0', 'ratio': '0x0', 'standing': 'Zero'}\n",
      "------------------------------------------------------------------------------------------------------------------\n",
      "Calling originateLoan, with parameters {'_asset': 'bnUSD', '_amount': 50000000000000000000} on the loans contract.\n",
      "------------------------------------------------------------------------------------------------------------------\n",
      "************************************************** Status: 0 **************************************************\n",
      "Failure: {'code': 32, 'message': 'No new loans of bnUSD can be originated since it is in a dead market state.'}\n",
      "------------------------------------------------------------------------------------------------------------------\n",
      "Reading getAccountPositions, with parameters {'_owner': 'hxe62d11fa19a0e8575ad92f06bc8fd42edbfe27db'} on the loans contract.\n",
      "------------------------------------------------------------------------------------------------------------------\n",
      "{'pos_id': '0x1', 'created': '0x5bdde2116b206', 'address': 'hxe62d11fa19a0e8575ad92f06bc8fd42edbfe27db', 'snap_id': '0x1', 'snaps_length': '0x1', 'last_snap': '0x1', 'first day': '0x1', 'assets': {'sICX': '0x0', 'bnUSD': '0x0'}, 'replay_index': '0x0', 'events_behind': '0x0', 'total_debt': '0x0', 'ratio': '0x0', 'standing': 'Zero'}\n"
     ]
    }
   ],
   "source": [
    "# 1.Try originating loan from the market which is dead, the transaction fails.\n",
    "call_tx('loans', 'getAccountPositions', {'_owner': user1.get_address()})\n",
    "send_tx('loans', 0, 'originateLoan', {'_asset':'bnUSD', '_amount':50 *ICX}, user1)\n",
    "call_tx('loans', 'getAccountPositions', {'_owner': user1.get_address()})\n"
   ]
  },
  {
   "cell_type": "code",
   "execution_count": 39,
   "metadata": {},
   "outputs": [
    {
     "name": "stdout",
     "output_type": "stream",
     "text": [
      "User2 tres to retire 100 bnusd\n",
      "Status: 0\n",
      "Failure: {'code': 1, 'message': 'Insufficient balance.'}\n",
      "------------------------------------------------------------------------------------------------------------------\n",
      "Reading checkDebts, with parameters {} on the loans contract.\n",
      "------------------------------------------------------------------------------------------------------------------\n",
      "{'system': {'debts': '0x0', 'bad_debt': '0x2d1b26f18ea386000', 'supply': '0x2d1b26f18ea386000', 'diff': '0x0', 'remaining': '0x0'}, 'events': {}}\n",
      "Market still dead\n"
     ]
    }
   ],
   "source": [
    "#  Now we try to revive the dead market\n",
    "# 1. Test with retiring less than enough to revive the market with bad_debt 550.25 bnusd \n",
    "# i.e user2 retires 100 bnusd\n",
    "\n",
    "test_cases =  { \n",
    "    \n",
    "    \"stories\": [ {\n",
    "      \"description\": \"User2 tres to retire 100 bnusd\",\n",
    "      \"actions\": {\n",
    "          \"sender\":\"user2\",\n",
    "          \"first_meth\": \"transfer\",\n",
    "          \"second_meth\":\"transfer\",\n",
    "          \"deposited_icx\":\"0\",\n",
    "          \"first_params\":{'_to': user2.get_address(), '_value': 100 * ICX},\n",
    "          \"second_params\":{\"method\": \"_retire_asset\", \"params\": {},'_to': contracts['loans']['SCORE'], '_value': 100 * ICX},\n",
    "          \"expected_bnusd_wallet\":\"20700000000000000000\"\n",
    "          \n",
    "      }\n",
    "    },\n",
    "        {\n",
    "            \"description\": \"User2 tries to retire 100 bnusd\",\n",
    "              \"actions\": {\n",
    "                  \"sender\":\"user2\",\n",
    "                  \"first_meth\": \"transfer\",\n",
    "                  \"second_meth\":\"transfer\",\n",
    "                  \"deposited_icx\":\"0\",\n",
    "                  \"first_params\":{'_to': user2.get_address(), '_value': 251750000000000000000},\n",
    "                  \"second_params\":{\"method\": \"_retire_asset\", \"params\": {},'_to': contracts['loans']['SCORE'], '_value': 251250000000000000000},\n",
    "                  \"expected_bnusd_wallet\":\"20700000000000000000\"\n",
    "\n",
    "      }\n",
    "        }\n",
    "\n",
    "  ]\n",
    "}\n",
    "\n",
    "for case in test_cases['stories']:\n",
    "    print(case['description'])\n",
    "    _to = contracts['bnUSD']['SCORE']\n",
    "    meth1 = case['actions']['first_meth']\n",
    "    meth2 = case['actions']['second_meth']\n",
    "    val = int(case['actions']['deposited_icx'])\n",
    "    data1 = case['actions']['first_params']\n",
    "    first_params = {\"_to\": data1['_to'], \"_value\": data1['_value']}\n",
    "    \n",
    "    data2 = case['actions']['second_params']\n",
    "    params = {\"method\": data2['method'], \"params\": data2['params']}\n",
    "    data = json.dumps(params).encode(\"utf-8\")\n",
    "    second_params = {'_to': data2['_to'], '_value': data2['_value'], '_data': data}\n",
    "\n",
    "\n",
    "    transaction = CallTransactionBuilder()\\\n",
    "        .from_(user1.get_address())\\\n",
    "        .to(_to)\\\n",
    "        .value(val)\\\n",
    "        .step_limit(10000000)\\\n",
    "        .nid(NID)\\\n",
    "        .nonce(100)\\\n",
    "        .method(meth1)\\\n",
    "        .params(first_params)\\\n",
    "        .build()\n",
    "    signed_transaction = SignedTransaction(transaction, user1)\n",
    "    tx_hash = icon_service.send_transaction(signed_transaction)\n",
    "    sleep(2)\n",
    "\n",
    "    transaction = CallTransactionBuilder()\\\n",
    "        .from_(user2.get_address())\\\n",
    "        .to(_to)\\\n",
    "        .value(val)\\\n",
    "        .step_limit(10000000)\\\n",
    "        .nid(NID)\\\n",
    "        .nonce(100)\\\n",
    "        .method(meth2)\\\n",
    "        .params(second_params)\\\n",
    "        .build()\n",
    "    signed_transaction = SignedTransaction(transaction, user2)\n",
    "    tx_hash = icon_service.send_transaction(signed_transaction)\n",
    "    sleep(1)\n",
    "\n",
    "    res = get_tx_result(tx_hash)\n",
    "    print(f'Status: {res[\"status\"]}')\n",
    "    if len(res[\"eventLogs\"]) > 0:\n",
    "        for item in res[\"eventLogs\"]:\n",
    "            print(f'{item} \\n')\n",
    "    if res['status'] == 0:\n",
    "        print(f'Failure: {res[\"failure\"]}')\n",
    "    \n",
    "    tes= call_tx('loans', 'checkDebts', {})\n",
    "    if tes['system']['bad_debt'] != hex(0):\n",
    "        print(\"Market still dead\")\n",
    "    else:\n",
    "        print(\"Market revived\")\n",
    "    "
   ]
  },
  {
   "cell_type": "code",
   "execution_count": 40,
   "metadata": {},
   "outputs": [
    {
     "name": "stdout",
     "output_type": "stream",
     "text": [
      "------------------------------------------------------------------------------------------------------------------\n",
      "Reading getAccountPositions, with parameters {'_owner': 'hxe62d11fa19a0e8575ad92f06bc8fd42edbfe27db'} on the loans contract.\n",
      "------------------------------------------------------------------------------------------------------------------\n",
      "{'pos_id': '0x1', 'created': '0x5bdde2116b206', 'address': 'hxe62d11fa19a0e8575ad92f06bc8fd42edbfe27db', 'snap_id': '0x1', 'snaps_length': '0x1', 'last_snap': '0x1', 'first day': '0x1', 'assets': {'sICX': '0x0', 'bnUSD': '0x0'}, 'replay_index': '0x0', 'events_behind': '0x0', 'total_debt': '0x0', 'ratio': '0x0', 'standing': 'Indeterminate'}\n",
      "------------------------------------------------------------------------------------------------------------------\n",
      "Calling addCollateral, with parameters {'_asset': '', '_amount': 0} on the loans contract.\n",
      "------------------------------------------------------------------------------------------------------------------\n"
     ]
    },
    {
     "name": "stderr",
     "output_type": "stream",
     "text": [
      "Raised JSONRPCException while returning the custom response. Error message: {'code': -32602, 'message': 'Pending transaction'}\n"
     ]
    },
    {
     "name": "stdout",
     "output_type": "stream",
     "text": [
      "Retrying in 1 seconds...\n",
      "************************************************** Status: 1 **************************************************\n",
      "{'scoreAddress': 'cxe49964351f78130791764def7b86a395e561e750', 'indexed': ['ICXTransfer(Address,Address,int)', 'cxe49964351f78130791764def7b86a395e561e750', 'cxcc3158173154e905c0ab933ac3b35bdd3694dce9', '0x2b5e3af16b18800000'], 'data': []} \n",
      "\n",
      "{'scoreAddress': 'cx3d607dbc36d63c190a6fa130392794c7e1b1bf3a', 'indexed': ['Transfer(Address,Address,int,bytes)', 'cx3d607dbc36d63c190a6fa130392794c7e1b1bf3a', 'hxe62d11fa19a0e8575ad92f06bc8fd42edbfe27db', '0x2b5e3af16b18800000'], 'data': ['0x7b226d6574686f64223a225f6465706f7369745f616e645f626f72726f77222c22706172616d73223a7b225f73656e646572223a22687865363264313166613139613065383537356164393266303662633866643432656462666532376462222c225f6173736574223a22222c225f616d6f756e74223a307d7d']} \n",
      "\n",
      "{'scoreAddress': 'cx3d607dbc36d63c190a6fa130392794c7e1b1bf3a', 'indexed': ['Mint(Address,int,bytes)', 'hxe62d11fa19a0e8575ad92f06bc8fd42edbfe27db'], 'data': ['0x2b5e3af16b18800000', '0x7b226d6574686f64223a225f6465706f7369745f616e645f626f72726f77222c22706172616d73223a7b225f73656e646572223a22687865363264313166613139613065383537356164393266303662633866643432656462666532376462222c225f6173736574223a22222c225f616d6f756e74223a307d7d']} \n",
      "\n",
      "{'scoreAddress': 'cx30f2b3443542fc7aec4956c922d95f116da521ae', 'indexed': ['OraclePrice(str,str,Address,int)', 'USDICX', 'BandChain', 'cx7171e2f5653c1b9c000e24228276b8d24e84f10d'], 'data': ['0x84c5d90848544bb']} \n",
      "\n",
      "{'scoreAddress': 'cxe49964351f78130791764def7b86a395e561e750', 'indexed': ['Snapshot(int)', '0x6'], 'data': []} \n",
      "\n",
      "{'scoreAddress': 'cx4ea194f603ed6893a66508795e1e5d882017da79', 'indexed': ['Mint(Address,int,bytes)', 'cx4ea194f603ed6893a66508795e1e5d882017da79'], 'data': ['0x152d02c7e14af6800000', '0x4e6f6e65']} \n",
      "\n",
      "{'scoreAddress': 'cx4ea194f603ed6893a66508795e1e5d882017da79', 'indexed': ['Transfer(Address,Address,int,bytes)', 'cx4ea194f603ed6893a66508795e1e5d882017da79', 'cx0d873539cf8b28ac66ddbe8095d38c65bd9be04a', '0x152d02c7e14af6800000'], 'data': ['0x4e6f6e65']} \n",
      "\n",
      "{'scoreAddress': 'cx4ea194f603ed6893a66508795e1e5d882017da79', 'indexed': ['Transfer(Address,Address,int,bytes)', 'cx0d873539cf8b28ac66ddbe8095d38c65bd9be04a', 'cxb8de859beffaf2371d616f14e25e4e668850ed8b', '0x43c33c1937564800000'], 'data': ['0x4e6f6e65']} \n",
      "\n",
      "{'scoreAddress': 'cx4ea194f603ed6893a66508795e1e5d882017da79', 'indexed': ['Transfer(Address,Address,int,bytes)', 'cx0d873539cf8b28ac66ddbe8095d38c65bd9be04a', 'cxe9bc140ae5bd5068e0bf22eba2a1ce8e1bb3d58a', '0x10f0cf064dd59200000'], 'data': ['0x4e6f6e65']} \n",
      "\n",
      "{'scoreAddress': 'cxe49964351f78130791764def7b86a395e561e750', 'indexed': ['CollateralReceived(Address,str)', 'hxe62d11fa19a0e8575ad92f06bc8fd42edbfe27db', 'sICX'], 'data': []} \n",
      "\n",
      "{'scoreAddress': 'cx3d607dbc36d63c190a6fa130392794c7e1b1bf3a', 'indexed': ['Transfer(Address,Address,int,bytes)', 'hxe62d11fa19a0e8575ad92f06bc8fd42edbfe27db', 'cxe49964351f78130791764def7b86a395e561e750', '0x2b5e3af16b18800000'], 'data': ['0x7b226d6574686f64223a225f6465706f7369745f616e645f626f72726f77222c22706172616d73223a7b225f73656e646572223a22687865363264313166613139613065383537356164393266303662633866643432656462666532376462222c225f6173736574223a22222c225f616d6f756e74223a307d7d']} \n",
      "\n",
      "{'scoreAddress': 'cxcc3158173154e905c0ab933ac3b35bdd3694dce9', 'indexed': ['TokenTransfer(Address,int,str)', 'cxe49964351f78130791764def7b86a395e561e750', '0x2b5e3af16b18800000'], 'data': ['800.0 sICX minted to cxe49964351f78130791764def7b86a395e561e750']} \n",
      "\n",
      "------------------------------------------------------------------------------------------------------------------\n",
      "Calling originateLoan, with parameters {'_asset': 'bnUSD', '_amount': 50000000000000000000} on the loans contract.\n",
      "------------------------------------------------------------------------------------------------------------------\n",
      "************************************************** Status: 1 **************************************************\n",
      "{'scoreAddress': 'cx4ea194f603ed6893a66508795e1e5d882017da79', 'indexed': ['Mint(Address,int,bytes)', 'cx4ea194f603ed6893a66508795e1e5d882017da79'], 'data': ['0x152d02c7e14af6800000', '0x4e6f6e65']} \n",
      "\n",
      "{'scoreAddress': 'cx4ea194f603ed6893a66508795e1e5d882017da79', 'indexed': ['Transfer(Address,Address,int,bytes)', 'cx4ea194f603ed6893a66508795e1e5d882017da79', 'cx0d873539cf8b28ac66ddbe8095d38c65bd9be04a', '0x152d02c7e14af6800000'], 'data': ['0x4e6f6e65']} \n",
      "\n",
      "{'scoreAddress': 'cx4ea194f603ed6893a66508795e1e5d882017da79', 'indexed': ['Transfer(Address,Address,int,bytes)', 'cx0d873539cf8b28ac66ddbe8095d38c65bd9be04a', 'cxb8de859beffaf2371d616f14e25e4e668850ed8b', '0x43c33c1937564800000'], 'data': ['0x4e6f6e65']} \n",
      "\n",
      "{'scoreAddress': 'cx4ea194f603ed6893a66508795e1e5d882017da79', 'indexed': ['Transfer(Address,Address,int,bytes)', 'cx0d873539cf8b28ac66ddbe8095d38c65bd9be04a', 'cxe9bc140ae5bd5068e0bf22eba2a1ce8e1bb3d58a', '0x10f0cf064dd59200000'], 'data': ['0x4e6f6e65']} \n",
      "\n",
      "{'scoreAddress': 'cxe49964351f78130791764def7b86a395e561e750', 'indexed': ['OriginateLoan(Address,str,int,str)', 'hxe62d11fa19a0e8575ad92f06bc8fd42edbfe27db', 'bnUSD', '0x2b5e3af16b1880000'], 'data': ['Loan of 50.0 bnUSD from Balanced.']} \n",
      "\n",
      "{'scoreAddress': 'cx30f2b3443542fc7aec4956c922d95f116da521ae', 'indexed': ['Transfer(Address,Address,int,bytes)', 'cx30f2b3443542fc7aec4956c922d95f116da521ae', 'hxe62d11fa19a0e8575ad92f06bc8fd42edbfe27db', '0x2b5e3af16b1880000'], 'data': ['0x4e6f6e65']} \n",
      "\n",
      "{'scoreAddress': 'cx30f2b3443542fc7aec4956c922d95f116da521ae', 'indexed': ['Mint(Address,int,bytes)', 'hxe62d11fa19a0e8575ad92f06bc8fd42edbfe27db'], 'data': ['0x2b5e3af16b1880000', '0x4e6f6e65']} \n",
      "\n",
      "{'scoreAddress': 'cx30f2b3443542fc7aec4956c922d95f116da521ae', 'indexed': ['Transfer(Address,Address,int,bytes)', 'cx30f2b3443542fc7aec4956c922d95f116da521ae', 'cxc9f96ed759a489278bcb0e1e95f68dfaa95b1f93', '0x6f05b59d3b20000'], 'data': ['0x4e6f6e65']} \n",
      "\n",
      "{'scoreAddress': 'cx30f2b3443542fc7aec4956c922d95f116da521ae', 'indexed': ['Mint(Address,int,bytes)', 'cxc9f96ed759a489278bcb0e1e95f68dfaa95b1f93'], 'data': ['0x6f05b59d3b20000', '0x4e6f6e65']} \n",
      "\n",
      "{'scoreAddress': 'cxe49964351f78130791764def7b86a395e561e750', 'indexed': ['FeePaid(str,int,str,str)', 'bnUSD', '0x6f05b59d3b20000', 'origination'], 'data': ['']} \n",
      "\n",
      "------------------------------------------------------------------------------------------------------------------\n",
      "Reading getAccountPositions, with parameters {'_owner': 'hxe62d11fa19a0e8575ad92f06bc8fd42edbfe27db'} on the loans contract.\n",
      "------------------------------------------------------------------------------------------------------------------\n",
      "{'pos_id': '0x1', 'created': '0x5bdde2116b206', 'address': 'hxe62d11fa19a0e8575ad92f06bc8fd42edbfe27db', 'snap_id': '0x6', 'snaps_length': '0x2', 'last_snap': '0x6', 'first day': '0x1', 'assets': {'sICX': '0x2b5e3af16b18800000', 'bnUSD': '0x2bcd40a70853a0000', 'BALN': '0x0'}, 'replay_index': '0x0', 'events_behind': '0x0', 'total_debt': '0x1a3107502244a0ee3', 'ratio': '0x16fa9b49c5a16dc0c', 'standing': 'Mining'}\n",
      "------------------------------------------------------------------------------------------------------------------\n",
      "Reading checkDebts, with parameters {} on the loans contract.\n",
      "------------------------------------------------------------------------------------------------------------------\n",
      "{'system': {'debts': '0x2bcd40a70853a0000', 'bad_debt': '0x2d1b26f18ea386000', 'supply': '0x58e8679896f726000', 'diff': '0x0', 'remaining': '0x0'}, 'events': {}}\n"
     ]
    },
    {
     "data": {
      "text/plain": [
       "{'system': {'debts': '0x2bcd40a70853a0000',\n",
       "  'bad_debt': '0x2d1b26f18ea386000',\n",
       "  'supply': '0x58e8679896f726000',\n",
       "  'diff': '0x0',\n",
       "  'remaining': '0x0'},\n",
       " 'events': {}}"
      ]
     },
     "execution_count": 40,
     "metadata": {},
     "output_type": "execute_result"
    }
   ],
   "source": [
    "call_tx('loans', 'getAccountPositions', {'_owner': user1.get_address()})\n",
    "send_tx('loans', 800 * ICX, 'addCollateral', {'_asset': '', '_amount': 0}, user1)\n",
    "send_tx('loans', 0, 'originateLoan', {'_asset':'bnUSD', '_amount':50 *ICX}, user1)\n",
    "call_tx('loans', 'getAccountPositions', {'_owner': user1.get_address()})\n",
    "\n",
    "call_tx('loans', 'checkDebts', {})\n"
   ]
  },
  {
   "cell_type": "code",
   "execution_count": null,
   "metadata": {},
   "outputs": [],
   "source": []
  }
 ],
 "metadata": {
  "kernelspec": {
   "display_name": "Python 3",
   "language": "python",
   "name": "python3"
  },
  "language_info": {
   "codemirror_mode": {
    "name": "ipython",
    "version": 3
   },
   "file_extension": ".py",
   "mimetype": "text/x-python",
   "name": "python",
   "nbconvert_exporter": "python",
   "pygments_lexer": "ipython3",
   "version": "3.7.6"
  }
 },
 "nbformat": 4,
 "nbformat_minor": 4
}
