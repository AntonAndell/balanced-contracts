{
 "cells": [
  {
   "cell_type": "code",
   "execution_count": 1,
   "metadata": {},
   "outputs": [],
   "source": [
    "# Cell 0\n",
    "\n",
    "network = \"custom\"  # set this to one of mainnet, yeouido, euljiro, pagoda, or custom\n",
    "\n",
    "connections = {\n",
    "\"mainnet\": {\"iconservice\": \"https://ctz.solidwallet.io\",       \"nid\": 1},\n",
    "\"yeouido\": {\"iconservice\": \"https://bicon.net.solidwallet.io\", \"nid\": 3},\n",
    "\"euljiro\": {\"iconservice\": \"https://test-ctz.solidwallet.io\",  \"nid\": 2},\n",
    "\"pagoda\":  {\"iconservice\": \"https://zicon.net.solidwallet.io\", \"nid\":80},\n",
    "\"custom\":  {\"iconservice\": \"http://18.144.108.38:9000\",        \"nid\": 3}}\n",
    "\n",
    "env = connections[network]"
   ]
  },
  {
   "cell_type": "code",
   "execution_count": 2,
   "metadata": {},
   "outputs": [],
   "source": [
    "# Cell 1\n",
    "\n",
    "from iconsdk.exception import JSONRPCException\n",
    "from iconsdk.libs.in_memory_zip import gen_deploy_data_content\n",
    "from iconsdk.icon_service import IconService\n",
    "from iconsdk.providers.http_provider import HTTPProvider\n",
    "from iconsdk.builder.transaction_builder import CallTransactionBuilder, TransactionBuilder, DeployTransactionBuilder\n",
    "from iconsdk.builder.call_builder import CallBuilder\n",
    "from iconsdk.signed_transaction import SignedTransaction\n",
    "from iconsdk.wallet.wallet import KeyWallet\n",
    "from iconsdk.utils.convert_type import convert_hex_str_to_int\n",
    "from repeater import retry\n",
    "from shutil import make_archive\n",
    "import pickle as pkl\n",
    "from datetime import datetime\n",
    "from time import sleep\n",
    "import json\n",
    "import os\n",
    "\n",
    "ICX = 1000000000000000000 # 10**18\n",
    "GOVERNANCE_ADDRESS = \"cx0000000000000000000000000000000000000000\"\n",
    "ORACLE = \"cx61a36e5d10412e03c907a507d1e8c6c3856d9964\"\n",
    "\n",
    "@retry(JSONRPCException, tries=10, delay=1, back_off=2)\n",
    "def get_tx_result(_tx_hash):\n",
    "    tx_result = icon_service.get_transaction_result(_tx_hash)\n",
    "    return tx_result"
   ]
  },
  {
   "cell_type": "code",
   "execution_count": 3,
   "metadata": {},
   "outputs": [],
   "source": [
    "# Cell 2\n",
    "\n",
    "icon_service = IconService(HTTPProvider(env[\"iconservice\"], 3))\n",
    "NID = env[\"nid\"]"
   ]
  },
  {
   "cell_type": "code",
   "execution_count": 4,
   "metadata": {},
   "outputs": [
    {
     "name": "stdout",
     "output_type": "stream",
     "text": [
      "781346924.427802\n",
      "4964565.0331132\n"
     ]
    }
   ],
   "source": [
    "# Cell 3\n",
    "\n",
    "wallet = KeyWallet.load(\"../../keystores/keystore_test1.json\", \"test1_Account\")\n",
    "# Balanced test wallet\n",
    "with open(\"../../keystores/balanced_test.pwd\", \"r\") as f:\n",
    "    key_data = f.read()\n",
    "btest_wallet = KeyWallet.load(\"../../keystores/balanced_test.json\", key_data)\n",
    "print(icon_service.get_balance(wallet.get_address())/10**18)\n",
    "print(icon_service.get_balance(btest_wallet.get_address())/10**18)"
   ]
  },
  {
   "cell_type": "code",
   "execution_count": 5,
   "metadata": {},
   "outputs": [
    {
     "name": "stdout",
     "output_type": "stream",
     "text": [
      "hxe7af5fcfd8dfc67530a01a0e403882687528dfcb\n",
      "781346924.427802\n"
     ]
    }
   ],
   "source": [
    "print(wallet.get_address())\n",
    "print(icon_service.get_balance(wallet.get_address()) / 10**18)"
   ]
  },
  {
   "cell_type": "code",
   "execution_count": 6,
   "metadata": {},
   "outputs": [
    {
     "name": "stdout",
     "output_type": "stream",
     "text": [
      "hx3f01840a599da07b0f620eeae7aa9c574169a4be\n",
      "4964565.0331132\n"
     ]
    }
   ],
   "source": [
    "print(btest_wallet.get_address())\n",
    "print(icon_service.get_balance(btest_wallet.get_address()) / 10**18)"
   ]
  },
  {
   "cell_type": "code",
   "execution_count": 7,
   "metadata": {},
   "outputs": [
    {
     "name": "stdout",
     "output_type": "stream",
     "text": [
      "0.0\n",
      "hxe62d11fa19a0e8575ad92f06bc8fd42edbfe27db\n",
      "0.0\n",
      "hx7a1824129a8fe803e45a3aae1c0e060399546187\n"
     ]
    }
   ],
   "source": [
    "user1 = KeyWallet.load(\"../../keystores/user1.json\",\"HelloWorld@1234\")\n",
    "# btest_wallet = KeyWallet.load(\"./balanced_test.json\",\"HelloWorld@1234\")\n",
    "\n",
    "print(icon_service.get_balance(user1.get_address())/10**18)\n",
    "print(user1.get_address())\n",
    "\n",
    "# test2 = hx7a1824129a8fe803e45a3aae1c0e060399546187\n",
    "private = \"0a354424b20a7e3c55c43808d607bddfac85d033e63d7d093cb9f0a26c4ee022\"\n",
    "user2 = KeyWallet.load(bytes.fromhex(private))\n",
    "print(icon_service.get_balance(user2.get_address())/10**18)\n",
    "print(user2.get_address())"
   ]
  },
  {
   "cell_type": "code",
   "execution_count": 8,
   "metadata": {},
   "outputs": [],
   "source": [
    "# The following addresses are those deployed to the private tbears server.\n",
    "\n",
    "contracts = {'loans': {'zip': 'core_contracts/loans.zip',\n",
    "  'SCORE': 'cxbbd36ca8d91aefbe1060c3be62fed4d1b848ca85'},\n",
    " 'staking': {'zip': 'core_contracts/staking.zip',\n",
    "  'SCORE': 'cxd8e05c1280bc2c32bf53ff61f3bb2e2ecc7d6df5'},\n",
    " 'dividends': {'zip': 'core_contracts/dividends.zip',\n",
    "  'SCORE': 'cx7c617e3fca4ba06b6ad203ce113245ae96a9d91e'},\n",
    " 'reserve': {'zip': 'core_contracts/reserve.zip',\n",
    "  'SCORE': 'cx70cd5c86f0182d5ac0bd224562d929cd968d9132'},\n",
    " 'daofund': {'zip': 'core_contracts/daofund.zip',\n",
    "  'SCORE': 'cxeb91bc377b0620356787d9c9eb68152eb0c62d8a'},\n",
    " 'rewards': {'zip': 'core_contracts/rewards.zip',\n",
    "  'SCORE': 'cxfd7511ece084744154fed19dc34732681ad078e6'},\n",
    " 'dex': {'zip': 'core_contracts/dex.zip',\n",
    "  'SCORE': 'cx9a3161c778eee2d5758371d3548c5599f76704ec'},\n",
    " 'governance': {'zip': 'core_contracts/governance.zip',\n",
    "  'SCORE': 'cx238cd1a1e3a9702d6c9c6dc130719472164db376'},\n",
    " 'oracle': {'zip': 'core_contracts/oracle.zip',\n",
    "  'SCORE': 'cx7171e2f5653c1b9c000e24228276b8d24e84f10d'},\n",
    " 'sicx': {'zip': 'token_contracts/sicx.zip',\n",
    "  'SCORE': 'cxcff8bf80ab213fa9bbb350636a4d68f5cb4fd9c1'},\n",
    " 'bnUSD': {'zip': 'token_contracts/bnUSD.zip',\n",
    "  'SCORE': 'cx4c1beaa71b9377100c810c46059ddf5f3da37602'},\n",
    " 'baln': {'zip': 'token_contracts/baln.zip',\n",
    "  'SCORE': 'cx3825a86d52c5baf188ff29aa6a7fc2467e285885'},\n",
    " 'bwt': {'zip': 'token_contracts/bwt.zip',\n",
    "  'SCORE': 'cx140b49ea041457ebc4cd5e199f5723916bb50021'}}"
   ]
  },
  {
   "cell_type": "code",
   "execution_count": 9,
   "metadata": {},
   "outputs": [],
   "source": [
    "# Cell 6\n",
    "# Define deploy and send_tx functions\n",
    "\n",
    "def compress():\n",
    "    \"\"\"\n",
    "    Compress all SCORE folders in the core_contracts and toekn_contracts folders\n",
    "    \"\"\"\n",
    "    deploy = list(contracts.keys())[:]\n",
    "    for directory in {\"../../core_contracts\", \"../../token_contracts\"}:\n",
    "        with os.scandir(directory) as it:\n",
    "            for file in it:\n",
    "                archive_name = directory + \"/\" + file.name\n",
    "                if file.is_dir() and file.name in deploy:\n",
    "                    make_archive(archive_name, \"zip\", directory, file.name)\n",
    "                    contracts[file.name]['zip'] = archive_name + '.zip'\n",
    "\n",
    "def deploy_SCORE(contract, params, wallet, update) -> str:\n",
    "    \"\"\"\n",
    "    contract is of form {'zip': 'core_contracts/governance.zip', 'SCORE': 'cx1d81f93b3b8d8d2a6455681c46128868782ddd09'}\n",
    "    params is a dicts\n",
    "    wallet is a wallet file\n",
    "    update is boolian\n",
    "    \"\"\"\n",
    "    print(f'{contract[\"zip\"]}')\n",
    "    if update:\n",
    "        dest = contract['SCORE']\n",
    "    else:\n",
    "        dest = GOVERNANCE_ADDRESS\n",
    "    zip_file = contract['zip']\n",
    "    step_limit = 4000100000\n",
    "    deploy_transaction = DeployTransactionBuilder()\\\n",
    "        .from_(wallet.get_address())\\\n",
    "        .to(dest)\\\n",
    "        .nid(NID)\\\n",
    "        .nonce(100)\\\n",
    "        .content_type(\"application/zip\")\\\n",
    "        .content(gen_deploy_data_content(zip_file))\\\n",
    "        .params(params)\\\n",
    "        .build()\n",
    "\n",
    "    signed_transaction = SignedTransaction(deploy_transaction, wallet, step_limit)\n",
    "    tx_hash = icon_service.send_transaction(signed_transaction)\n",
    "\n",
    "    res = get_tx_result(tx_hash)\n",
    "    print(f'Status: {res[\"status\"]}')\n",
    "    if len(res[\"eventLogs\"]) > 0:\n",
    "        for item in res[\"eventLogs\"]:\n",
    "            print(f'{item} \\n')\n",
    "    if res['status'] == 0:\n",
    "        print(f'Failure: {res[\"failure\"]}')\n",
    "    print('')\n",
    "    return res.get('scoreAddress', '')\n",
    "\n",
    "def send_tx(dest, value, method, params, wallet):\n",
    "    \"\"\"\n",
    "    dest is the name of the destination contract.\n",
    "    \"\"\"\n",
    "    print('------------------------------------------------------------------------------------------------------------------')\n",
    "    print(f'Calling {method}, with parameters {params} on the {dest} contract.')\n",
    "    print('------------------------------------------------------------------------------------------------------------------')\n",
    "    transaction = CallTransactionBuilder()\\\n",
    "        .from_(wallet.get_address())\\\n",
    "        .to(contracts[dest]['SCORE'])\\\n",
    "        .value(value)\\\n",
    "        .step_limit(10000000)\\\n",
    "        .nid(NID)\\\n",
    "        .nonce(100)\\\n",
    "        .method(method)\\\n",
    "        .params(params)\\\n",
    "        .build()\n",
    "    signed_transaction = SignedTransaction(transaction, wallet)\n",
    "    tx_hash = icon_service.send_transaction(signed_transaction)\n",
    "\n",
    "    res = get_tx_result(tx_hash)\n",
    "    print(f'************************************************** Status: {res[\"status\"]} **************************************************')\n",
    "    if len(res[\"eventLogs\"]) > 0:\n",
    "        for item in res[\"eventLogs\"]:\n",
    "            print(f'{item} \\n')\n",
    "    if res['status'] == 0:\n",
    "        print(f'Failure: {res[\"failure\"]}')\n",
    "    return res\n",
    "\n",
    "def deploy_all(wallet):\n",
    "    \"\"\"\n",
    "    Compress, Deploy and Configure all SCOREs\n",
    "    \"\"\"\n",
    "    compress()\n",
    "\n",
    "    deploy = list(contracts.keys())[:]\n",
    "    deploy.remove('oracle')\n",
    "    deploy.remove('staking')\n",
    "    deploy.remove('sicx')\n",
    "    deploy.remove('governance')\n",
    "\n",
    "    governance = deploy_SCORE(contracts['governance'], {}, wallet, 0)\n",
    "    contracts['governance']['SCORE'] = governance\n",
    "    for score in deploy:\n",
    "        contracts[score]['SCORE'] = deploy_SCORE(contracts[score], {'_governance': governance}, wallet, 0)\n",
    "    contracts['staking']['SCORE'] = deploy_SCORE(contracts['staking'], {}, wallet, 0)\n",
    "    contracts['sicx']['SCORE'] = deploy_SCORE(contracts['sicx'], {'_admin': contracts['staking']['SCORE']}, wallet, 0)\n",
    "\n",
    "    config = list(contracts.keys())[:]\n",
    "    config.remove('governance')\n",
    "    addresses = {contract: contracts[contract]['SCORE'] for contract in config}\n",
    "\n",
    "    txns = [{'contract': 'staking', 'value': 0, 'method': 'setSicxAddress', 'params': {'_address': contracts['sicx']['SCORE']}},\n",
    "            {'contract': 'governance', 'value': 0, 'method': 'setAddresses', 'params': {'_addresses': addresses}},\n",
    "            {'contract': 'governance', 'value': 0, 'method': 'launchBalanced', 'params': {}}]\n",
    "\n",
    "    for tx in txns:\n",
    "        res = send_tx(tx[\"contract\"], tx[\"value\"], tx[\"method\"], tx[\"params\"], wallet)\n",
    "        results[f'{tx[\"contract\"]}|{tx[\"method\"]}|{tx[\"params\"]}'] = res\n",
    "\n",
    "def get_scores_json(contracts):\n",
    "    \"\"\"\n",
    "    Prints out dictionary of SCORE addresses for use in testing UI.\n",
    "    \"\"\"\n",
    "    scores = {}\n",
    "    for score in contracts:\n",
    "        scores[score] = contracts[score]['SCORE']\n",
    "    return json.dumps(scores)\n",
    "\n",
    "def call_tx(dest: str, method: str, params: dict = {}):\n",
    "    \"\"\"\n",
    "    dest is the name of the destination contract.\n",
    "    \"\"\"\n",
    "    print('------------------------------------------------------------------------------------------------------------------')\n",
    "    print(f'Reading {method}, with parameters {params} on the {dest} contract.')\n",
    "    print('------------------------------------------------------------------------------------------------------------------')\n",
    "    call = CallBuilder()\\\n",
    "        .from_(wallet.get_address())\\\n",
    "        .to(contracts[dest]['SCORE'])\\\n",
    "        .method(method)\\\n",
    "        .params(params)\\\n",
    "        .build()\n",
    "    print(icon_service.call(call))\n",
    "    return icon_service.call(call)\n"
   ]
  },
  {
   "cell_type": "code",
   "execution_count": 10,
   "metadata": {},
   "outputs": [
    {
     "name": "stdout",
     "output_type": "stream",
     "text": [
      "../../core_contracts/governance.zip\n"
     ]
    },
    {
     "name": "stderr",
     "output_type": "stream",
     "text": [
      "Raised JSONRPCException while returning the custom response. Error message: {'code': -32602, 'message': 'Pending transaction'}\n"
     ]
    },
    {
     "name": "stdout",
     "output_type": "stream",
     "text": [
      "Retrying in 1 seconds...\n",
      "Status: 1\n",
      "\n",
      "../../core_contracts/loans.zip\n"
     ]
    },
    {
     "name": "stderr",
     "output_type": "stream",
     "text": [
      "Raised JSONRPCException while returning the custom response. Error message: {'code': -32602, 'message': 'Pending transaction'}\n"
     ]
    },
    {
     "name": "stdout",
     "output_type": "stream",
     "text": [
      "Retrying in 1 seconds...\n",
      "Status: 1\n",
      "\n",
      "../../core_contracts/dividends.zip\n"
     ]
    },
    {
     "name": "stderr",
     "output_type": "stream",
     "text": [
      "Raised JSONRPCException while returning the custom response. Error message: {'code': -32602, 'message': 'Pending transaction'}\n"
     ]
    },
    {
     "name": "stdout",
     "output_type": "stream",
     "text": [
      "Retrying in 1 seconds...\n",
      "Status: 1\n",
      "\n",
      "../../core_contracts/reserve.zip\n"
     ]
    },
    {
     "name": "stderr",
     "output_type": "stream",
     "text": [
      "Raised JSONRPCException while returning the custom response. Error message: {'code': -32602, 'message': 'Pending transaction'}\n"
     ]
    },
    {
     "name": "stdout",
     "output_type": "stream",
     "text": [
      "Retrying in 1 seconds...\n",
      "Status: 1\n",
      "\n",
      "../../core_contracts/daofund.zip\n",
      "Status: 1\n",
      "\n",
      "../../core_contracts/rewards.zip\n"
     ]
    },
    {
     "name": "stderr",
     "output_type": "stream",
     "text": [
      "Raised JSONRPCException while returning the custom response. Error message: {'code': -32602, 'message': 'Pending transaction'}\n"
     ]
    },
    {
     "name": "stdout",
     "output_type": "stream",
     "text": [
      "Retrying in 1 seconds...\n",
      "Status: 1\n",
      "\n",
      "../../core_contracts/dex.zip\n"
     ]
    },
    {
     "name": "stderr",
     "output_type": "stream",
     "text": [
      "Raised JSONRPCException while returning the custom response. Error message: {'code': -32602, 'message': 'Pending transaction'}\n"
     ]
    },
    {
     "name": "stdout",
     "output_type": "stream",
     "text": [
      "Retrying in 1 seconds...\n",
      "Status: 1\n",
      "\n",
      "../../token_contracts/bnUSD.zip\n"
     ]
    },
    {
     "name": "stderr",
     "output_type": "stream",
     "text": [
      "Raised JSONRPCException while returning the custom response. Error message: {'code': -32602, 'message': 'Pending transaction'}\n"
     ]
    },
    {
     "name": "stdout",
     "output_type": "stream",
     "text": [
      "Retrying in 1 seconds...\n",
      "Status: 1\n",
      "\n",
      "../../token_contracts/baln.zip\n"
     ]
    },
    {
     "name": "stderr",
     "output_type": "stream",
     "text": [
      "Raised JSONRPCException while returning the custom response. Error message: {'code': -32602, 'message': 'Pending transaction'}\n"
     ]
    },
    {
     "name": "stdout",
     "output_type": "stream",
     "text": [
      "Retrying in 1 seconds...\n",
      "Status: 1\n",
      "\n",
      "../../token_contracts/bwt.zip\n",
      "Status: 1\n",
      "\n",
      "../../core_contracts/staking.zip\n"
     ]
    },
    {
     "name": "stderr",
     "output_type": "stream",
     "text": [
      "Raised JSONRPCException while returning the custom response. Error message: {'code': -32602, 'message': 'Pending transaction'}\n"
     ]
    },
    {
     "name": "stdout",
     "output_type": "stream",
     "text": [
      "Retrying in 1 seconds...\n",
      "Status: 1\n",
      "\n",
      "../../token_contracts/sicx.zip\n"
     ]
    },
    {
     "name": "stderr",
     "output_type": "stream",
     "text": [
      "Raised JSONRPCException while returning the custom response. Error message: {'code': -32602, 'message': 'Pending transaction'}\n"
     ]
    },
    {
     "name": "stdout",
     "output_type": "stream",
     "text": [
      "Retrying in 1 seconds...\n",
      "Status: 1\n",
      "\n",
      "------------------------------------------------------------------------------------------------------------------\n",
      "Calling setSicxAddress, with parameters {'_address': 'cxc4ff973fdf0cb62dc444ddf486e4747d08aace77'} on the staking contract.\n",
      "------------------------------------------------------------------------------------------------------------------\n"
     ]
    },
    {
     "name": "stderr",
     "output_type": "stream",
     "text": [
      "Raised JSONRPCException while returning the custom response. Error message: {'code': -32602, 'message': 'Pending transaction'}\n"
     ]
    },
    {
     "name": "stdout",
     "output_type": "stream",
     "text": [
      "Retrying in 1 seconds...\n",
      "************************************************** Status: 1 **************************************************\n",
      "------------------------------------------------------------------------------------------------------------------\n",
      "Calling setAddresses, with parameters {'_addresses': {'loans': 'cx5d322628b7d0386b6423bc5d4e15b60181e009f1', 'staking': 'cx8d868c7aeb90b32be33399c2c1755f4464e7f7c5', 'dividends': 'cxfda08fe3eae28616e30d9bfb3489f632c51a0e60', 'reserve': 'cxf85438325695fa51e39bb56d0f144c9e812fa269', 'daofund': 'cxc4be27255ab0011dba360ce5c3d937bd962dfc32', 'rewards': 'cx279949388e1a860c184ccbb3aae013ae1b495d6b', 'dex': 'cxa323c6808ef6609302eb0be73e825227d401a403', 'oracle': 'cx7171e2f5653c1b9c000e24228276b8d24e84f10d', 'sicx': 'cxc4ff973fdf0cb62dc444ddf486e4747d08aace77', 'bnUSD': 'cx2cc8c675a95df614e7f25a5e2e264de44b63c29f', 'baln': 'cxad48a62ed96ad453f9a10d899d6e0f65db9988f9', 'bwt': 'cxf7e5443f26cae5e226fbf2c4d15ef57c541ef170'}} on the governance contract.\n",
      "------------------------------------------------------------------------------------------------------------------\n"
     ]
    },
    {
     "name": "stderr",
     "output_type": "stream",
     "text": [
      "Raised JSONRPCException while returning the custom response. Error message: {'code': -32602, 'message': 'Pending transaction'}\n"
     ]
    },
    {
     "name": "stdout",
     "output_type": "stream",
     "text": [
      "Retrying in 1 seconds...\n",
      "************************************************** Status: 1 **************************************************\n",
      "------------------------------------------------------------------------------------------------------------------\n",
      "Calling launchBalanced, with parameters {} on the governance contract.\n",
      "------------------------------------------------------------------------------------------------------------------\n"
     ]
    },
    {
     "name": "stderr",
     "output_type": "stream",
     "text": [
      "Raised JSONRPCException while returning the custom response. Error message: {'code': -32602, 'message': 'Pending transaction'}\n"
     ]
    },
    {
     "name": "stdout",
     "output_type": "stream",
     "text": [
      "Retrying in 1 seconds...\n",
      "************************************************** Status: 1 **************************************************\n",
      "{'scoreAddress': 'cx5d322628b7d0386b6423bc5d4e15b60181e009f1', 'indexed': ['AssetAdded(Address,str,bool)', 'cxc4ff973fdf0cb62dc444ddf486e4747d08aace77', 'sICX', '0x1'], 'data': []} \n",
      "\n",
      "{'scoreAddress': 'cx5d322628b7d0386b6423bc5d4e15b60181e009f1', 'indexed': ['AssetAdded(Address,str,bool)', 'cx2cc8c675a95df614e7f25a5e2e264de44b63c29f', 'bnUSD', '0x0'], 'data': []} \n",
      "\n",
      "{'scoreAddress': 'cx5d322628b7d0386b6423bc5d4e15b60181e009f1', 'indexed': ['AssetAdded(Address,str,bool)', 'cxad48a62ed96ad453f9a10d899d6e0f65db9988f9', 'BALN', '0x1'], 'data': []} \n",
      "\n",
      "{'scoreAddress': 'cx5d322628b7d0386b6423bc5d4e15b60181e009f1', 'indexed': ['ContractActive(str,str)', 'Loans'], 'data': ['Active']} \n",
      "\n",
      "------------------------------------------------------------------------------------------------------------------\n",
      "{'loans': {'zip': '../../core_contracts/loans.zip', 'SCORE': 'cx5d322628b7d0386b6423bc5d4e15b60181e009f1'}, 'staking': {'zip': '../../core_contracts/staking.zip', 'SCORE': 'cx8d868c7aeb90b32be33399c2c1755f4464e7f7c5'}, 'dividends': {'zip': '../../core_contracts/dividends.zip', 'SCORE': 'cxfda08fe3eae28616e30d9bfb3489f632c51a0e60'}, 'reserve': {'zip': '../../core_contracts/reserve.zip', 'SCORE': 'cxf85438325695fa51e39bb56d0f144c9e812fa269'}, 'daofund': {'zip': '../../core_contracts/daofund.zip', 'SCORE': 'cxc4be27255ab0011dba360ce5c3d937bd962dfc32'}, 'rewards': {'zip': '../../core_contracts/rewards.zip', 'SCORE': 'cx279949388e1a860c184ccbb3aae013ae1b495d6b'}, 'dex': {'zip': '../../core_contracts/dex.zip', 'SCORE': 'cxa323c6808ef6609302eb0be73e825227d401a403'}, 'governance': {'zip': '../../core_contracts/governance.zip', 'SCORE': 'cxfb1f9404afafe97fb69282e84a6ef61141e8d535'}, 'oracle': {'zip': '../../core_contracts/oracle.zip', 'SCORE': 'cx7171e2f5653c1b9c000e24228276b8d24e84f10d'}, 'sicx': {'zip': '../../token_contracts/sicx.zip', 'SCORE': 'cxc4ff973fdf0cb62dc444ddf486e4747d08aace77'}, 'bnUSD': {'zip': '../../token_contracts/bnUSD.zip', 'SCORE': 'cx2cc8c675a95df614e7f25a5e2e264de44b63c29f'}, 'baln': {'zip': '../../token_contracts/baln.zip', 'SCORE': 'cxad48a62ed96ad453f9a10d899d6e0f65db9988f9'}, 'bwt': {'zip': '../../token_contracts/bwt.zip', 'SCORE': 'cxf7e5443f26cae5e226fbf2c4d15ef57c541ef170'}}\n",
      "{\"loans\": \"cx5d322628b7d0386b6423bc5d4e15b60181e009f1\", \"staking\": \"cx8d868c7aeb90b32be33399c2c1755f4464e7f7c5\", \"dividends\": \"cxfda08fe3eae28616e30d9bfb3489f632c51a0e60\", \"reserve\": \"cxf85438325695fa51e39bb56d0f144c9e812fa269\", \"daofund\": \"cxc4be27255ab0011dba360ce5c3d937bd962dfc32\", \"rewards\": \"cx279949388e1a860c184ccbb3aae013ae1b495d6b\", \"dex\": \"cxa323c6808ef6609302eb0be73e825227d401a403\", \"governance\": \"cxfb1f9404afafe97fb69282e84a6ef61141e8d535\", \"oracle\": \"cx7171e2f5653c1b9c000e24228276b8d24e84f10d\", \"sicx\": \"cxc4ff973fdf0cb62dc444ddf486e4747d08aace77\", \"bnUSD\": \"cx2cc8c675a95df614e7f25a5e2e264de44b63c29f\", \"baln\": \"cxad48a62ed96ad453f9a10d899d6e0f65db9988f9\", \"bwt\": \"cxf7e5443f26cae5e226fbf2c4d15ef57c541ef170\"}\n"
     ]
    }
   ],
   "source": [
    "# Cell 7\n",
    "# Deploy and configure Balanced. Print results if anything goes wrong.\n",
    "\n",
    "results = {}\n",
    "deploy_all(btest_wallet)\n",
    "print('------------------------------------------------------------------------------------------------------------------')\n",
    "print(contracts)\n",
    "print(get_scores_json(contracts))"
   ]
  },
  {
   "cell_type": "code",
   "execution_count": 18,
   "metadata": {},
   "outputs": [
    {
     "name": "stdout",
     "output_type": "stream",
     "text": [
      "../../core_contracts/loans.zip\n"
     ]
    },
    {
     "name": "stderr",
     "output_type": "stream",
     "text": [
      "Raised JSONRPCException while returning the custom response. Error message: {'code': -32602, 'message': 'Pending transaction'}\n"
     ]
    },
    {
     "name": "stdout",
     "output_type": "stream",
     "text": [
      "Retrying in 1 seconds...\n",
      "Status: 1\n",
      "\n"
     ]
    },
    {
     "data": {
      "text/plain": [
       "'cx5d322628b7d0386b6423bc5d4e15b60181e009f1'"
      ]
     },
     "execution_count": 18,
     "metadata": {},
     "output_type": "execute_result"
    }
   ],
   "source": [
    "# Cell 8\n",
    "# Deploy or Update a single SCORE\n",
    "\n",
    "compress()\n",
    "update = 1\n",
    "contract = contracts['loans']\n",
    "params = {}\n",
    "# params = {'_governance': contracts['governance']['SCORE']}\n",
    "deploy_SCORE(contract, params, btest_wallet, update)"
   ]
  },
  {
   "cell_type": "code",
   "execution_count": null,
   "metadata": {},
   "outputs": [],
   "source": []
  },
  {
   "cell_type": "code",
   "execution_count": 11,
   "metadata": {},
   "outputs": [
    {
     "name": "stdout",
     "output_type": "stream",
     "text": [
      "------------------------------------------------------------------------------------------------------------------\n",
      "Reading getAccountPositions, with parameters {'_owner': 'hxe62d11fa19a0e8575ad92f06bc8fd42edbfe27db'} on the loans contract.\n",
      "------------------------------------------------------------------------------------------------------------------\n",
      "{'message': 'That address has no outstanding loans or deposited collateral.'}\n",
      "------------------------------------------------------------------------------------------------------------------\n",
      "Reading getAccountPositions, with parameters {'_owner': 'hx7a1824129a8fe803e45a3aae1c0e060399546187'} on the loans contract.\n",
      "------------------------------------------------------------------------------------------------------------------\n",
      "{'message': 'That address has no outstanding loans or deposited collateral.'}\n"
     ]
    },
    {
     "data": {
      "text/plain": [
       "{'message': 'That address has no outstanding loans or deposited collateral.'}"
      ]
     },
     "execution_count": 11,
     "metadata": {},
     "output_type": "execute_result"
    }
   ],
   "source": [
    "# 1.no bad debt for asset, retired from account user2 without a position on Balanced.\n",
    "call_tx('loans', 'getAccountPositions', {'_owner': user1.get_address()})\n",
    "call_tx('loans', 'getAccountPositions', {'_owner': user2.get_address()})\n"
   ]
  },
  {
   "cell_type": "code",
   "execution_count": 22,
   "metadata": {},
   "outputs": [
    {
     "name": "stdout",
     "output_type": "stream",
     "text": [
      "------------------------------------------------------------------------------------------------------------------\n",
      "Reading getMaxRetireAmount, with parameters {'_symbol': 'bnUSD'} on the loans contract.\n",
      "------------------------------------------------------------------------------------------------------------------\n",
      "0x4562b068af5f0800\n"
     ]
    },
    {
     "data": {
      "text/plain": [
       "'0x4562b068af5f0800'"
      ]
     },
     "execution_count": 22,
     "metadata": {},
     "output_type": "execute_result"
    }
   ],
   "source": [
    "call_tx('loans', 'getMaxRetireAmount', {'_symbol': 'bnUSD'})\n"
   ]
  },
  {
   "cell_type": "code",
   "execution_count": 19,
   "metadata": {},
   "outputs": [
    {
     "name": "stdout",
     "output_type": "stream",
     "text": [
      "------------------------------------------------------------------------------------------------------------------\n",
      "Calling depositAndBorrow, with parameters {'_asset': 'bnUSD', '_amount': 500000000000000000000} on the loans contract.\n",
      "------------------------------------------------------------------------------------------------------------------\n"
     ]
    },
    {
     "name": "stderr",
     "output_type": "stream",
     "text": [
      "Raised JSONRPCException while returning the custom response. Error message: {'code': -32602, 'message': 'Pending transaction'}\n"
     ]
    },
    {
     "name": "stdout",
     "output_type": "stream",
     "text": [
      "Retrying in 1 seconds...\n",
      "************************************************** Status: 0 **************************************************\n",
      "Failure: {'code': 1, 'message': \"name 'TAG' is not defined\"}\n"
     ]
    },
    {
     "data": {
      "text/plain": [
       "{'txHash': '0x646ab658ffaeb031c97a58d6243f53adbc5c4cf49512b00b66b9080d9bd2a6fe',\n",
       " 'blockHeight': 131353,\n",
       " 'blockHash': '0x1b875a5a137fdbbbd13e2d9904d6da3f2b8562e36eec9f37e212d273b173b382',\n",
       " 'txIndex': 1,\n",
       " 'to': 'cx5d322628b7d0386b6423bc5d4e15b60181e009f1',\n",
       " 'stepUsed': 168320,\n",
       " 'stepPrice': 10000000000,\n",
       " 'cumulativeStepUsed': 168320,\n",
       " 'eventLogs': [],\n",
       " 'logsBloom': b'\\x00\\x00\\x00\\x00\\x00\\x00\\x00\\x00\\x00\\x00\\x00\\x00\\x00\\x00\\x00\\x00\\x00\\x00\\x00\\x00\\x00\\x00\\x00\\x00\\x00\\x00\\x00\\x00\\x00\\x00\\x00\\x00\\x00\\x00\\x00\\x00\\x00\\x00\\x00\\x00\\x00\\x00\\x00\\x00\\x00\\x00\\x00\\x00\\x00\\x00\\x00\\x00\\x00\\x00\\x00\\x00\\x00\\x00\\x00\\x00\\x00\\x00\\x00\\x00\\x00\\x00\\x00\\x00\\x00\\x00\\x00\\x00\\x00\\x00\\x00\\x00\\x00\\x00\\x00\\x00\\x00\\x00\\x00\\x00\\x00\\x00\\x00\\x00\\x00\\x00\\x00\\x00\\x00\\x00\\x00\\x00\\x00\\x00\\x00\\x00\\x00\\x00\\x00\\x00\\x00\\x00\\x00\\x00\\x00\\x00\\x00\\x00\\x00\\x00\\x00\\x00\\x00\\x00\\x00\\x00\\x00\\x00\\x00\\x00\\x00\\x00\\x00\\x00\\x00\\x00\\x00\\x00\\x00\\x00\\x00\\x00\\x00\\x00\\x00\\x00\\x00\\x00\\x00\\x00\\x00\\x00\\x00\\x00\\x00\\x00\\x00\\x00\\x00\\x00\\x00\\x00\\x00\\x00\\x00\\x00\\x00\\x00\\x00\\x00\\x00\\x00\\x00\\x00\\x00\\x00\\x00\\x00\\x00\\x00\\x00\\x00\\x00\\x00\\x00\\x00\\x00\\x00\\x00\\x00\\x00\\x00\\x00\\x00\\x00\\x00\\x00\\x00\\x00\\x00\\x00\\x00\\x00\\x00\\x00\\x00\\x00\\x00\\x00\\x00\\x00\\x00\\x00\\x00\\x00\\x00\\x00\\x00\\x00\\x00\\x00\\x00\\x00\\x00\\x00\\x00\\x00\\x00\\x00\\x00\\x00\\x00\\x00\\x00\\x00\\x00\\x00\\x00\\x00\\x00\\x00\\x00\\x00\\x00\\x00\\x00\\x00\\x00\\x00\\x00\\x00\\x00\\x00\\x00\\x00\\x00\\x00\\x00\\x00\\x00\\x00\\x00',\n",
       " 'status': 0,\n",
       " 'failure': {'code': 1, 'message': \"name 'TAG' is not defined\"}}"
      ]
     },
     "execution_count": 19,
     "metadata": {},
     "output_type": "execute_result"
    }
   ],
   "source": [
    "send_tx('loans', 2000*ICX, 'depositAndBorrow', {'_asset': 'bnUSD', '_amount': 500 * ICX}, wallet)\n"
   ]
  },
  {
   "cell_type": "code",
   "execution_count": 21,
   "metadata": {},
   "outputs": [
    {
     "name": "stdout",
     "output_type": "stream",
     "text": [
      "------------------------------------------------------------------------------------------------------------------\n",
      "Reading getMaxRetireAmount, with parameters {'_symbol': 'bnUSD'} on the loans contract.\n",
      "------------------------------------------------------------------------------------------------------------------\n",
      "0x4615343e73b90000\n",
      "------------------------------------------------------------------------------------------------------------------\n",
      "Reading getMaxRetireAmount, with parameters {'_symbol': 'bnUSD'} on the loans contract.\n",
      "------------------------------------------------------------------------------------------------------------------\n",
      "0x4615343e73b90000\n",
      "User2 tries to retire 10 bnusd\n",
      "------------------------------------------------------------------------------------------------------------------\n",
      "Calling transfer, with parameters {'_to': 'hx7a1824129a8fe803e45a3aae1c0e060399546187', '_value': '0x4615343e73b90000'} on the bnUSD contract.\n",
      "------------------------------------------------------------------------------------------------------------------\n",
      "************************************************** Status: 1 **************************************************\n",
      "{'scoreAddress': 'cxaa47d8fda4ba82400984e6977be23963b5e7f4cc', 'indexed': ['Transfer(Address,Address,int,bytes)', 'hxe62d11fa19a0e8575ad92f06bc8fd42edbfe27db', 'hx7a1824129a8fe803e45a3aae1c0e060399546187', '0x4615343e73b90000'], 'data': ['0x4e6f6e65']} \n",
      "\n",
      "------------------------------------------------------------------------------------------------------------------\n",
      "Calling transfer, with parameters {'_to': 'cxf73c31c4663c4e0e6df081e7966a77000a7f37ab', '_value': '0x4615343e73b90000', '_data': b'{\"method\": \"_retire_asset\", \"params\": {}}'} on the bnUSD contract.\n",
      "------------------------------------------------------------------------------------------------------------------\n"
     ]
    },
    {
     "name": "stderr",
     "output_type": "stream",
     "text": [
      "Raised JSONRPCException while returning the custom response. Error message: {'code': -32602, 'message': 'Pending transaction'}\n"
     ]
    },
    {
     "name": "stdout",
     "output_type": "stream",
     "text": [
      "Retrying in 1 seconds...\n",
      "************************************************** Status: 1 **************************************************\n",
      "{'scoreAddress': 'cxaa47d8fda4ba82400984e6977be23963b5e7f4cc', 'indexed': ['Transfer(Address,Address,int,bytes)', 'hx7a1824129a8fe803e45a3aae1c0e060399546187', 'cxf73c31c4663c4e0e6df081e7966a77000a7f37ab', '0x4615343e73b90000'], 'data': ['0x7b226d6574686f64223a20225f7265746972655f6173736574222c2022706172616d73223a207b7d7d']} \n",
      "\n",
      "{'scoreAddress': 'cxaa47d8fda4ba82400984e6977be23963b5e7f4cc', 'indexed': ['OraclePrice(str,str,Address,int)', 'USDICX', 'BandChain', 'cx7171e2f5653c1b9c000e24228276b8d24e84f10d'], 'data': ['0x84c5d90848544bb']} \n",
      "\n",
      "{'scoreAddress': 'cxaa47d8fda4ba82400984e6977be23963b5e7f4cc', 'indexed': ['Burn(Address,int)', 'cxf73c31c4663c4e0e6df081e7966a77000a7f37ab'], 'data': ['0x45bb7f80b324e000']} \n",
      "\n",
      "{'scoreAddress': 'cxaa47d8fda4ba82400984e6977be23963b5e7f4cc', 'indexed': ['Transfer(Address,Address,int,bytes)', 'cxf73c31c4663c4e0e6df081e7966a77000a7f37ab', 'hx0000000000000000000000000000000000000000', '0x45bb7f80b324e000'], 'data': ['0x4e6f6e65']} \n",
      "\n",
      "{'scoreAddress': 'cx5e46cd5013a8f54a9b0d307d2995906cea3a5a2b', 'indexed': ['Transfer(Address,Address,int,bytes)', 'cxf73c31c4663c4e0e6df081e7966a77000a7f37ab', 'hx7a1824129a8fe803e45a3aae1c0e060399546187', '0x29b267cd65a8a616'], 'data': ['0x4e6f6e65']} \n",
      "\n",
      "{'scoreAddress': 'cxf73c31c4663c4e0e6df081e7966a77000a7f37ab', 'indexed': ['TokenTransfer(Address,int,str)', 'hx7a1824129a8fe803e45a3aae1c0e060399546187', '0x29b267cd65a8a616'], 'data': ['Collateral redeemed. 3004578033281050134 sICX sent to hx7a1824129a8fe803e45a3aae1c0e060399546187.']} \n",
      "\n",
      "{'scoreAddress': 'cxaa47d8fda4ba82400984e6977be23963b5e7f4cc', 'indexed': ['Transfer(Address,Address,int,bytes)', 'cxf73c31c4663c4e0e6df081e7966a77000a7f37ab', 'cx8c80bc90b668958a5603f19d41adb76c4f10a468', '0x59b4bdc0942000'], 'data': ['0x4e6f6e65']} \n",
      "\n",
      "{'scoreAddress': 'cxf73c31c4663c4e0e6df081e7966a77000a7f37ab', 'indexed': ['TokenTransfer(Address,int,str)', 'cx8c80bc90b668958a5603f19d41adb76c4f10a468', '0x59b4bdc0942000'], 'data': ['Redemption fee. 25250000000000000 bnUSD sent to cx8c80bc90b668958a5603f19d41adb76c4f10a468.']} \n",
      "\n",
      "{'scoreAddress': 'cxf73c31c4663c4e0e6df081e7966a77000a7f37ab', 'indexed': ['AssetRetired(str,int,int,str)', 'bnUSD', '0x45bb7f80b324e000', '0x84c5d90848544bb'], 'data': ['total_batch_debt: 505000000000000000000, batch_dict: {1: 505000000000000000000}, _from: hx7a1824129a8fe803e45a3aae1c0e060399546187']} \n",
      "\n",
      "Test case passed\n"
     ]
    }
   ],
   "source": [
    "#  Now we try to retire maximum bnusd retirement allowed  \n",
    "\n",
    "\n",
    "test_cases =  { \n",
    "    \n",
    "    \"stories\": [ \n",
    "        {\n",
    "            \"description\": \"User2 tries to retire 10 bnusd\",\n",
    "              \"actions\": {\n",
    "                  \"sender\":\"user2\",\n",
    "                  \"first_meth\": \"transfer\",\n",
    "                  \"second_meth\":\"transfer\",\n",
    "                  \"deposited_icx\":\"0\",\n",
    "                  \"first_params\":{'_to': user2.get_address(), '_value': call_tx('loans', 'getMaxRetireAmount', {'_symbol': 'bnUSD'})},\n",
    "                  \"second_params\":{\"method\": \"_retire_asset\", \"params\": {},'_to': contracts['loans']['SCORE'], '_value': call_tx('loans', 'getMaxRetireAmount', {'_symbol': 'bnUSD'})},\n",
    "                  \"expected_status_result\":\"1\"\n",
    "          }\n",
    "        }\n",
    "  ]\n",
    "}\n",
    "\n",
    "for case in test_cases['stories']:\n",
    "    print(case['description'])\n",
    "    _to = contracts['bnUSD']['SCORE']\n",
    "    meth1 = case['actions']['first_meth']\n",
    "    meth2 = case['actions']['second_meth']\n",
    "    val = int(case['actions']['deposited_icx'])\n",
    "    data1 = case['actions']['first_params']\n",
    "    first_params = {\"_to\": data1['_to'], \"_value\": data1['_value']}\n",
    "    \n",
    "    data2 = case['actions']['second_params']\n",
    "    params = {\"method\": data2['method'], \"params\": data2['params']}\n",
    "    data = json.dumps(params).encode(\"utf-8\")\n",
    "    second_params = {'_to': data2['_to'], '_value': data2['_value'], '_data': data}\n",
    "\n",
    "    send_tx('bnUSD', 0 ,meth1 , first_params, user1)\n",
    "    sleep(2)\n",
    "    res = send_tx('bnUSD', 0 ,meth2 , second_params, user2)\n",
    "    assert res['status'] == int(case['actions']['expected_status_result']) , 'Retired amount is greater than the current maximum allowed'\n",
    "    print('Test case passed')\n"
   ]
  },
  {
   "cell_type": "code",
   "execution_count": null,
   "metadata": {},
   "outputs": [],
   "source": []
  }
 ],
 "metadata": {
  "kernelspec": {
   "display_name": "Python 3",
   "language": "python",
   "name": "python3"
  },
  "language_info": {
   "codemirror_mode": {
    "name": "ipython",
    "version": 3
   },
   "file_extension": ".py",
   "mimetype": "text/x-python",
   "name": "python",
   "nbconvert_exporter": "python",
   "pygments_lexer": "ipython3",
   "version": "3.7.6"
  }
 },
 "nbformat": 4,
 "nbformat_minor": 4
}
