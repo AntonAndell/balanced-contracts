{
 "cells": [
  {
   "cell_type": "code",
   "execution_count": 53,
   "metadata": {},
   "outputs": [],
   "source": [
    "# Cell 0\n",
    "# If at all possible please test locally or on the private tbears server. The Testnet\n",
    "# is becoming cluttered with many deployments of Balanced contracts.\n",
    "# Note that running on the private tbears server will require the number of top P-Reps \n",
    "# be set to 4 in the staking contract or it will fail to deploy.\n",
    "\n",
    "network = \"custom\"  # set this to one of mainnet, yeouido, euljiro, pagoda, or custom\n",
    "\n",
    "connections = {\n",
    "\"mainnet\": {\"iconservice\": \"https://ctz.solidwallet.io\",       \"nid\": 1},\n",
    "\"yeouido\": {\"iconservice\": \"https://bicon.net.solidwallet.io\", \"nid\": 3},\n",
    "\"gangnam\": {\"iconservice\": \"https://gicon.net.solidwallet.io\", \"nid\": 3},\n",
    "\"hannam\": {\"iconservice\": \"https://hannam.net.solidwallet.io\", \"nid\": 3},\n",
    "\"euljiro\": {\"iconservice\": \"https://test-ctz.solidwallet.io\",  \"nid\": 2},\n",
    "\"pagoda\":  {\"iconservice\": \"https://zicon.net.solidwallet.io\", \"nid\":80},\n",
    "\"custom\":  {\"iconservice\": \"http://18.144.108.38:9000\",        \"nid\": 3}}\n",
    "\n",
    "env = connections[network]"
   ]
  },
  {
   "cell_type": "code",
   "execution_count": 54,
   "metadata": {},
   "outputs": [],
   "source": [
    "# Cell 1\n",
    "\n",
    "from iconsdk.exception import JSONRPCException\n",
    "from iconsdk.libs.in_memory_zip import gen_deploy_data_content\n",
    "from iconsdk.icon_service import IconService\n",
    "from iconsdk.providers.http_provider import HTTPProvider\n",
    "from iconsdk.builder.transaction_builder import CallTransactionBuilder, TransactionBuilder, DeployTransactionBuilder\n",
    "from iconsdk.builder.call_builder import CallBuilder\n",
    "from iconsdk.signed_transaction import SignedTransaction\n",
    "from iconsdk.wallet.wallet import KeyWallet\n",
    "from iconsdk.utils.convert_type import convert_hex_str_to_int\n",
    "from repeater import retry\n",
    "from shutil import make_archive\n",
    "import pickle as pkl\n",
    "from datetime import datetime\n",
    "from time import sleep\n",
    "import json\n",
    "import os\n",
    "\n",
    "ICX = 1000000000000000000 # 10**18\n",
    "GOVERNANCE_ADDRESS = \"cx0000000000000000000000000000000000000000\"\n",
    "TEST_ORACLE = \"cx61a36e5d10412e03c907a507d1e8c6c3856d9964\"\n",
    "MAIN_ORACLE = \"cxe647e0af68a4661566f5e9861ad4ac854de808a2\"\n",
    "BALANCED_TEST = \"hx3f01840a599da07b0f620eeae7aa9c574169a4be\"\n",
    "\n",
    "@retry(JSONRPCException, tries=10, delay=1, back_off=2)\n",
    "def get_tx_result(_tx_hash):\n",
    "    tx_result = icon_service.get_transaction_result(_tx_hash)\n",
    "    return tx_result"
   ]
  },
  {
   "cell_type": "code",
   "execution_count": 55,
   "metadata": {},
   "outputs": [],
   "source": [
    "# Cell 2\n",
    "\n",
    "icon_service = IconService(HTTPProvider(env[\"iconservice\"], 3))\n",
    "NID = env[\"nid\"]"
   ]
  },
  {
   "cell_type": "code",
   "execution_count": 75,
   "metadata": {},
   "outputs": [],
   "source": [
    "# Cell 3\n",
    "\n",
    "wallet = KeyWallet.load(\"../../keystores/keystore_test1.json\", \"test1_Account\")\n",
    "# Balanced test wallet\n",
    "with open(\"../../keystores/balanced_test.pwd\", \"r\") as f:\n",
    "    key_data = f.read()\n",
    "btest_wallet = KeyWallet.load(\"../../keystores/balanced_test.json\", key_data)\n",
    "with open(\"../../keystores/staking_test.pwd\", \"r\") as f:\n",
    "    key_data = f.read()\n",
    "staking_wallet = KeyWallet.load(\"../../keystores/staking_test.json\", key_data)\n"
   ]
  },
  {
   "cell_type": "code",
   "execution_count": 76,
   "metadata": {},
   "outputs": [
    {
     "name": "stdout",
     "output_type": "stream",
     "text": [
      "hxe7af5fcfd8dfc67530a01a0e403882687528dfcb\n",
      "780849466.7394332\n"
     ]
    }
   ],
   "source": [
    "print(wallet.get_address())\n",
    "print(icon_service.get_balance(wallet.get_address()) / 10**18)"
   ]
  },
  {
   "cell_type": "code",
   "execution_count": 77,
   "metadata": {},
   "outputs": [
    {
     "name": "stdout",
     "output_type": "stream",
     "text": [
      "hx3f01840a599da07b0f620eeae7aa9c574169a4be\n",
      "4176715.4138148\n"
     ]
    }
   ],
   "source": [
    "print(btest_wallet.get_address())\n",
    "print(icon_service.get_balance(btest_wallet.get_address()) / 10**18)"
   ]
  },
  {
   "cell_type": "code",
   "execution_count": 78,
   "metadata": {},
   "outputs": [
    {
     "name": "stdout",
     "output_type": "stream",
     "text": [
      "193999.8725572\n",
      "hxe62d11fa19a0e8575ad92f06bc8fd42edbfe27db\n",
      "208479.7823892\n",
      "hx7a1824129a8fe803e45a3aae1c0e060399546187\n"
     ]
    }
   ],
   "source": [
    "user1 = KeyWallet.load(\"../../keystores/user1.json\",\"HelloWorld@1234\")\n",
    "# btest_wallet = KeyWallet.load(\"./balanced_test.json\",\"HelloWorld@1234\")\n",
    "\n",
    "print(icon_service.get_balance(user1.get_address())/10**18)\n",
    "print(user1.get_address())\n",
    "\n",
    "# test2 = hx7a1824129a8fe803e45a3aae1c0e060399546187\n",
    "private = \"0a354424b20a7e3c55c43808d607bddfac85d033e63d7d093cb9f0a26c4ee022\"\n",
    "user2 = KeyWallet.load(bytes.fromhex(private))\n",
    "print(icon_service.get_balance(user2.get_address())/10**18)\n",
    "print(user2.get_address())"
   ]
  },
  {
   "cell_type": "code",
   "execution_count": 79,
   "metadata": {},
   "outputs": [],
   "source": [
    "# Cell 5a\n",
    "# The following addresses are those deployed to the private tbears server.\n",
    "\n",
    "contracts = {'loans': {'zip': 'core_contracts/loans.zip',\n",
    "  'SCORE': 'cxa0f715fb2c4bc8f4c6399c2cc26167a27be0aa61'},\n",
    " 'staking': {'zip': 'core_contracts/staking.zip',\n",
    "  'SCORE': 'cxbabed822d59b605dbeb6322735c529b292baac3b'},\n",
    " 'dividends': {'zip': 'core_contracts/dividends.zip',\n",
    "  'SCORE': 'cx1379084f45776301abda3849c6e374f460ee0155'},\n",
    " 'reserve': {'zip': 'core_contracts/reserve.zip',\n",
    "  'SCORE': 'cx71dda2221bf88faddc8f84b72ffd6db296e5609e'},\n",
    " 'daofund': {'zip': 'core_contracts/daofund.zip',\n",
    "  'SCORE': 'cxfd09787f23d23b945fa0c7eb55b5aa69425da1c8'},\n",
    " 'rewards': {'zip': 'core_contracts/rewards.zip',\n",
    "  'SCORE': 'cx27aa3bf62145822e60d85fa5d18dabdcff5b9ada'},\n",
    " 'dex': {'zip': 'core_contracts/dex.zip',\n",
    "  'SCORE': 'cx01eee12b6614e5328e0a84261652cb7f055e0176'},\n",
    " 'governance': {'zip': 'core_contracts/governance.zip',\n",
    "  'SCORE': 'cxd7b3e71dcff3d75392216e208f28ef68e8a54ec0'},\n",
    " 'oracle': {'zip': 'core_contracts/oracle.zip',\n",
    "  'SCORE': 'cxed97bdb35a7ca1b3993e400e4dba9e11610338f7'},\n",
    " 'sicx': {'zip': 'token_contracts/sicx.zip',\n",
    "  'SCORE': 'cx799f724e02560a762b5f2bd3b6d2d8d59d7aecc1'},\n",
    " 'bnUSD': {'zip': 'token_contracts/bnUSD.zip',\n",
    "  'SCORE': 'cx266bdc0c35828c8130cdf1cbaa3ad109f7694722'},\n",
    " 'bnXLM': {'zip': 'token_contracts/bnXLM.zip',\n",
    "  'SCORE': 'cx266bdc0c35828c8130cdf1cbaa3ad109f7694722'},\n",
    " 'bnDOGE': {'zip': 'token_contracts/bnDOGE.zip',\n",
    "  'SCORE': 'cx266bdc0c35828c8130cdf1cbaa3ad109f7694722'},\n",
    " 'baln': {'zip': 'token_contracts/baln.zip',\n",
    "  'SCORE': 'cx4d0768508a7ff550de4405f27aebfb8831565c19'},\n",
    " 'bwt': {'zip': 'token_contracts/bwt.zip',\n",
    "  'SCORE': 'cx663f9d59163846d9f6c6f7b586858c59aa8878a9'}}"
   ]
  },
  {
   "cell_type": "code",
   "execution_count": 110,
   "metadata": {},
   "outputs": [],
   "source": [
    "# Cell 6\n",
    "# Define deploy and send_tx functions\n",
    "\n",
    "def send_icx(to, amount, wallet):\n",
    "    transaction = TransactionBuilder()\\\n",
    "        .from_(wallet.get_address())\\\n",
    "        .to(to)\\\n",
    "        .value(amount)\\\n",
    "        .step_limit(1000000) \\\n",
    "        .nid(NID) \\\n",
    "        .nonce(2) \\\n",
    "        .version(3) \\\n",
    "        .build()\n",
    "    signed_transaction = SignedTransaction(transaction, wallet)\n",
    "    return icon_service.send_transaction(signed_transaction)\n",
    "\n",
    "\n",
    "def compress():\n",
    "    \"\"\"\n",
    "    Compress all SCORE folders in the core_contracts and token_contracts folders.\n",
    "    Make sure the oracle address is correct.\n",
    "    \"\"\"\n",
    "    deploy = list(contracts.keys())[:]\n",
    "    for directory in {\"../../core_contracts\", \"../../token_contracts\"}:\n",
    "        with os.scandir(directory) as it:\n",
    "            for file in it:\n",
    "                archive_name = directory + \"/\" + file.name\n",
    "                if file.is_dir() and file.name in deploy:\n",
    "                    make_archive(archive_name, \"zip\", directory, file.name)\n",
    "                    contracts[file.name]['zip'] = archive_name + '.zip'\n",
    "    if network == \"yeouido\":\n",
    "        contracts['oracle']['SCORE'] = TEST_ORACLE\n",
    "    elif network == \"mainnet\":\n",
    "        contracts['oracle']['SCORE'] = MAIN_ORACLE\n",
    "                    \n",
    "\n",
    "def deploy_SCORE(contract, params, wallet, update) -> str:\n",
    "    \"\"\"\n",
    "    contract is of form {'zip': 'core_contracts/governance.zip', 'SCORE': 'cx1d81f93b3b8d8d2a6455681c46128868782ddd09'}\n",
    "    params is a dicts\n",
    "    wallet is a wallet file\n",
    "    update is boolian\n",
    "    \"\"\"\n",
    "    print(f'{contract[\"zip\"]}')\n",
    "    if update:\n",
    "        dest = contract['SCORE']\n",
    "    else:\n",
    "        dest = GOVERNANCE_ADDRESS\n",
    "    zip_file = contract['zip']\n",
    "    step_limit = 4000100000\n",
    "    deploy_transaction = DeployTransactionBuilder()\\\n",
    "        .from_(wallet.get_address())\\\n",
    "        .to(dest)\\\n",
    "        .nid(NID)\\\n",
    "        .nonce(100)\\\n",
    "        .content_type(\"application/zip\")\\\n",
    "        .content(gen_deploy_data_content(zip_file))\\\n",
    "        .params(params)\\\n",
    "        .build()\n",
    "\n",
    "    signed_transaction = SignedTransaction(deploy_transaction, wallet, step_limit)\n",
    "    tx_hash = icon_service.send_transaction(signed_transaction)\n",
    "\n",
    "    res = get_tx_result(tx_hash)\n",
    "    print(f'Status: {res[\"status\"]}')\n",
    "    if len(res[\"eventLogs\"]) > 0:\n",
    "        for item in res[\"eventLogs\"]:\n",
    "            print(f'{item} \\n')\n",
    "    if res['status'] == 0:\n",
    "        print(f'Failure: {res[\"failure\"]}')\n",
    "    print('')\n",
    "    return res\n",
    "\n",
    "def send_tx(dest, value, method, params, wallet):\n",
    "    \"\"\"\n",
    "    dest is the name of the destination contract.\n",
    "    \"\"\"\n",
    "    print('------------------------------------------------------------------------------------------------------------------')\n",
    "    print(f'Calling {method}, with parameters {params} on the {dest} contract.')\n",
    "    print('------------------------------------------------------------------------------------------------------------------')\n",
    "    transaction = CallTransactionBuilder()\\\n",
    "        .from_(wallet.get_address())\\\n",
    "        .to(contracts[dest]['SCORE'])\\\n",
    "        .value(value)\\\n",
    "        .step_limit(10000000)\\\n",
    "        .nid(NID)\\\n",
    "        .nonce(100)\\\n",
    "        .method(method)\\\n",
    "        .params(params)\\\n",
    "        .build()\n",
    "    signed_transaction = SignedTransaction(transaction, wallet)\n",
    "    tx_hash = icon_service.send_transaction(signed_transaction)\n",
    "\n",
    "    res = get_tx_result(tx_hash)\n",
    "    print(f'************************************************** Status: {res[\"status\"]} **************************************************')\n",
    "    if len(res[\"eventLogs\"]) > 0:\n",
    "        for item in res[\"eventLogs\"]:\n",
    "            print(f'{item} \\n')\n",
    "    if res['status'] == 0:\n",
    "        print(f'Failure: {res[\"failure\"]}')\n",
    "    return res\n",
    "\n",
    "def deploy_all(wallet, staking_wallet):\n",
    "    \"\"\"\n",
    "    Compress and Deploy all SCOREs.\n",
    "    \"\"\"\n",
    "    compress()\n",
    "\n",
    "    deploy = list(contracts.keys())[:]\n",
    "    deploy.remove('oracle')\n",
    "    deploy.remove('staking')\n",
    "    deploy.remove('sicx')\n",
    "    deploy.remove('governance')\n",
    "    if network == \"mainnet\":\n",
    "        deploy.remove('bnXLM')\n",
    "        deploy.remove('bnDOGE')\n",
    "\n",
    "    results = {}\n",
    "    res = deploy_SCORE(contracts['governance'], {}, wallet, 0)\n",
    "    results[f'{contracts[\"governance\"]}|deploy|{{}}'] = res\n",
    "    governance = res.get('scoreAddress', '')\n",
    "    contracts['governance']['SCORE'] = governance\n",
    "    params = {'_governance': governance}\n",
    "    for score in deploy:\n",
    "        res = deploy_SCORE(contracts[score], params, wallet, 0)\n",
    "        results[f'{contracts[score]}|deploy|{params}'] = res\n",
    "        contracts[score]['SCORE'] = res.get('scoreAddress', '')\n",
    "\n",
    "    res = deploy_SCORE(contracts['staking'], {}, staking_wallet, 0)\n",
    "    results[f'{contracts[\"staking\"]}|deploy|{{}}'] = res\n",
    "    contracts['staking']['SCORE'] = res.get('scoreAddress', '')\n",
    "\n",
    "    params = {'_admin': contracts['staking']['SCORE']}\n",
    "    res = deploy_SCORE(contracts['sicx'], params, staking_wallet, 0)\n",
    "    results[f'{contracts[\"sicx\"]}|deploy|{params}'] = res\n",
    "    contracts['sicx']['SCORE'] = res.get('scoreAddress', '')\n",
    "    \n",
    "    return results\n",
    "\n",
    "    \n",
    "def config_balanced(wallet, staking_wallet):\n",
    "    \"\"\"\n",
    "    Configure all SCOREs before launch.\n",
    "    \"\"\"\n",
    "    config = list(contracts.keys())[:]\n",
    "    config.remove('governance')\n",
    "    config.remove('bnDOGE')\n",
    "    config.remove('bnXLM')\n",
    "    addresses = {contract: contracts[contract]['SCORE'] for contract in config}\n",
    "    txns = [{'contract': 'governance', 'value': 0, 'method': 'setAddresses', 'params': {'_addresses': addresses}, 'wallet': wallet},\n",
    "            {'contract': 'staking', 'value': 0, 'method': 'setSicxAddress', 'params': {'_address': contracts['sicx']['SCORE']}, 'wallet': staking_wallet},\n",
    "            {'contract': 'governance', 'value': 0, 'method': 'configureBalanced', 'params': {}, 'wallet': wallet}]\n",
    "\n",
    "    results = {}\n",
    "    for tx in txns:\n",
    "        res = send_tx(tx[\"contract\"], tx[\"value\"], tx[\"method\"], tx[\"params\"], tx[\"wallet\"])\n",
    "        results[f'{tx[\"contract\"]}|{tx[\"method\"]}|{tx[\"params\"]}'] = res\n",
    "\n",
    "    return results\n",
    "\n",
    "def launch_balanced(wallet, staking_wallet):\n",
    "    \"\"\"\n",
    "    Launch Balanced, turn on staking management, and set delegation for sICX on the Loans contract.\n",
    "    \"\"\"\n",
    "    if network == \"custom\":\n",
    "        preps = {\n",
    "            \"hx9eec61296a7010c867ce24c20e69588e2832bc52\",  # ICX Station\n",
    "            \"hx000e0415037ae871184b2c7154e5924ef2bc075e\"}  # iBriz-ICONOsphere\n",
    "    elif network == \"yeouido\":\n",
    "        preps = {\n",
    "            \"hx23823847f593ecb65c9e1ea81a789b02766280e8\",  # ICX Station\n",
    "            \"hxe0cde6567eb6529fe31b0dc2f2697af84847f321\",  # iBriz-ICONOsphere\n",
    "            \"hx83c0fc2bcac7ecb3928539e0256e29fc371b5078\",  # Mousebelt\n",
    "            \"hx48b4636e84d8c491c88c18b65dceb7598c4600cc\",  # Parrot 9\n",
    "            \"hxb4e90a285a79687ec148c29faabe6f71afa8a066\"}  # ICONDAO\n",
    "    elif network == \"mainnet\":\n",
    "        preps = {\n",
    "            \"\",  # ICX Station\n",
    "            \"\",  # iBriz-ICONOsphere\n",
    "            \"\",  # Mousebelt\n",
    "            \"\",  # Parrot 9\n",
    "            \"\"}  # ICONDAO\n",
    "    else:\n",
    "        return\n",
    "    \n",
    "    txns = [{'contract': 'governance', 'value': 0, 'method': 'launchBalanced', 'params': {}, 'wallet': wallet},\n",
    "            {'contract': 'staking', 'value': 0, 'method': 'toggleStakingOn', 'params': {}, 'wallet': staking_wallet},\n",
    "            {'contract': 'governance', 'value': 0, 'method': 'delegate', 'params': {'_delegations': [{'_address': prep, '_votes_in_per': str(100 * ICX // len(preps))} for prep in preps]}, 'wallet': wallet}]\n",
    "\n",
    "    results = {}\n",
    "    for tx in txns:\n",
    "        res = send_tx(tx[\"contract\"], tx[\"value\"], tx[\"method\"], tx[\"params\"], tx[\"wallet\"])\n",
    "        results[f'{tx[\"contract\"]}|{tx[\"method\"]}|{tx[\"params\"]}'] = res\n",
    "\n",
    "    return results\n",
    "   \n",
    "\n",
    "def get_scores_json(contracts):\n",
    "    \"\"\"\n",
    "    Prints out dictionary of SCORE addresses for use in testing UI.\n",
    "    \"\"\"\n",
    "    scores = {}\n",
    "    for score in contracts:\n",
    "        scores[score] = contracts[score]['SCORE']\n",
    "    return json.dumps(scores)\n",
    "\n",
    "def call_tx(dest: str, method: str, params: dict = {}):\n",
    "    \"\"\"\n",
    "    dest is the name of the destination contract.\n",
    "    \"\"\"\n",
    "    print('------------------------------------------------------------------------------------------------------------------')\n",
    "    print(f'Reading {method}, with parameters {params} on the {dest} contract.')\n",
    "    print('------------------------------------------------------------------------------------------------------------------')\n",
    "    call = CallBuilder()\\\n",
    "        .from_(wallet.get_address())\\\n",
    "        .to(contracts[dest]['SCORE'])\\\n",
    "        .method(method)\\\n",
    "        .params(params)\\\n",
    "        .build()\n",
    "    result = icon_service.call(call)\n",
    "    print(result)\n",
    "    return result"
   ]
  },
  {
   "cell_type": "code",
   "execution_count": 105,
   "metadata": {},
   "outputs": [
    {
     "name": "stdout",
     "output_type": "stream",
     "text": [
      "../../core_contracts/governance.zip\n"
     ]
    },
    {
     "name": "stderr",
     "output_type": "stream",
     "text": [
      "Raised JSONRPCException while returning the custom response. Error message: {'code': -32602, 'message': 'Pending transaction'}\n"
     ]
    },
    {
     "name": "stdout",
     "output_type": "stream",
     "text": [
      "Retrying in 1 seconds...\n",
      "Status: 1\n",
      "\n",
      "../../core_contracts/loans.zip\n"
     ]
    },
    {
     "name": "stderr",
     "output_type": "stream",
     "text": [
      "Raised JSONRPCException while returning the custom response. Error message: {'code': -32602, 'message': 'Pending transaction'}\n"
     ]
    },
    {
     "name": "stdout",
     "output_type": "stream",
     "text": [
      "Retrying in 1 seconds...\n",
      "Status: 1\n",
      "\n",
      "../../core_contracts/dividends.zip\n"
     ]
    },
    {
     "name": "stderr",
     "output_type": "stream",
     "text": [
      "Raised JSONRPCException while returning the custom response. Error message: {'code': -32602, 'message': 'Pending transaction'}\n"
     ]
    },
    {
     "name": "stdout",
     "output_type": "stream",
     "text": [
      "Retrying in 1 seconds...\n",
      "Status: 1\n",
      "\n",
      "../../core_contracts/reserve.zip\n"
     ]
    },
    {
     "name": "stderr",
     "output_type": "stream",
     "text": [
      "Raised JSONRPCException while returning the custom response. Error message: {'code': -32602, 'message': 'Pending transaction'}\n"
     ]
    },
    {
     "name": "stdout",
     "output_type": "stream",
     "text": [
      "Retrying in 1 seconds...\n",
      "Status: 1\n",
      "\n",
      "../../core_contracts/daofund.zip\n"
     ]
    },
    {
     "name": "stderr",
     "output_type": "stream",
     "text": [
      "Raised JSONRPCException while returning the custom response. Error message: {'code': -32602, 'message': 'Pending transaction'}\n"
     ]
    },
    {
     "name": "stdout",
     "output_type": "stream",
     "text": [
      "Retrying in 1 seconds...\n",
      "Status: 1\n",
      "\n",
      "../../core_contracts/rewards.zip\n",
      "Status: 1\n",
      "\n",
      "../../core_contracts/dex.zip\n"
     ]
    },
    {
     "name": "stderr",
     "output_type": "stream",
     "text": [
      "Raised JSONRPCException while returning the custom response. Error message: {'code': -32602, 'message': 'Pending transaction'}\n"
     ]
    },
    {
     "name": "stdout",
     "output_type": "stream",
     "text": [
      "Retrying in 1 seconds...\n",
      "Status: 1\n",
      "\n",
      "../../token_contracts/bnUSD.zip\n"
     ]
    },
    {
     "name": "stderr",
     "output_type": "stream",
     "text": [
      "Raised JSONRPCException while returning the custom response. Error message: {'code': -32602, 'message': 'Pending transaction'}\n"
     ]
    },
    {
     "name": "stdout",
     "output_type": "stream",
     "text": [
      "Retrying in 1 seconds...\n",
      "Status: 1\n",
      "\n",
      "../../token_contracts/bnXLM.zip\n"
     ]
    },
    {
     "name": "stderr",
     "output_type": "stream",
     "text": [
      "Raised JSONRPCException while returning the custom response. Error message: {'code': -32602, 'message': 'Pending transaction'}\n"
     ]
    },
    {
     "name": "stdout",
     "output_type": "stream",
     "text": [
      "Retrying in 1 seconds...\n",
      "Status: 1\n",
      "\n",
      "../../token_contracts/bnDOGE.zip\n"
     ]
    },
    {
     "name": "stderr",
     "output_type": "stream",
     "text": [
      "Raised JSONRPCException while returning the custom response. Error message: {'code': -32602, 'message': 'Pending transaction'}\n"
     ]
    },
    {
     "name": "stdout",
     "output_type": "stream",
     "text": [
      "Retrying in 1 seconds...\n",
      "Status: 1\n",
      "\n",
      "../../token_contracts/baln.zip\n"
     ]
    },
    {
     "name": "stderr",
     "output_type": "stream",
     "text": [
      "Raised JSONRPCException while returning the custom response. Error message: {'code': -32602, 'message': 'Pending transaction'}\n"
     ]
    },
    {
     "name": "stdout",
     "output_type": "stream",
     "text": [
      "Retrying in 1 seconds...\n",
      "Status: 1\n",
      "\n",
      "../../token_contracts/bwt.zip\n",
      "Status: 1\n",
      "\n",
      "../../core_contracts/staking.zip\n",
      "Status: 1\n",
      "\n",
      "../../token_contracts/sicx.zip\n"
     ]
    },
    {
     "name": "stderr",
     "output_type": "stream",
     "text": [
      "Raised JSONRPCException while returning the custom response. Error message: {'code': -32602, 'message': 'Pending transaction'}\n"
     ]
    },
    {
     "name": "stdout",
     "output_type": "stream",
     "text": [
      "Retrying in 1 seconds...\n",
      "Status: 1\n",
      "\n",
      "------------------------------------------------------------------------------------------------------------------\n",
      "{'loans': {'zip': '../../core_contracts/loans.zip', 'SCORE': 'cxa9f1121fd3fa918db6ea1d533236ee27a8fff660'}, 'staking': {'zip': '../../core_contracts/staking.zip', 'SCORE': 'cx8a098d3c1622f541cd1353b52311b6001cf9a601'}, 'dividends': {'zip': '../../core_contracts/dividends.zip', 'SCORE': 'cx1b5a23306005e621d0a5bd719885fdcb95e4aa2f'}, 'reserve': {'zip': '../../core_contracts/reserve.zip', 'SCORE': 'cx8448c097e09919e50bb172cee1060c2b51b56373'}, 'daofund': {'zip': '../../core_contracts/daofund.zip', 'SCORE': 'cx1ae7bf330091977aa8533fa2009bc54842728952'}, 'rewards': {'zip': '../../core_contracts/rewards.zip', 'SCORE': 'cxc38f8ec12aa32cb041caf2a396bbae4dd2dc0c7b'}, 'dex': {'zip': '../../core_contracts/dex.zip', 'SCORE': 'cx358d867f74a440a2f88352dfc2a9b716f0df48d0'}, 'governance': {'zip': '../../core_contracts/governance.zip', 'SCORE': 'cxfbcf99c2be17a649597a7343100ac11f11bf4e03'}, 'oracle': {'zip': '../../core_contracts/oracle.zip', 'SCORE': 'cxed97bdb35a7ca1b3993e400e4dba9e11610338f7'}, 'sicx': {'zip': '../../token_contracts/sicx.zip', 'SCORE': 'cx20b7cc4a6f790c772e2b3d4f99b157628a8df96e'}, 'bnUSD': {'zip': '../../token_contracts/bnUSD.zip', 'SCORE': 'cx0a65bd93026382a2fac19712cddd45ed0c7b42b5'}, 'bnXLM': {'zip': '../../token_contracts/bnXLM.zip', 'SCORE': 'cxacb944b7de5806848106c780f21265425c1de06d'}, 'bnDOGE': {'zip': '../../token_contracts/bnDOGE.zip', 'SCORE': 'cxcd8d8e83a53a7958357d1459abe349773500eb99'}, 'baln': {'zip': '../../token_contracts/baln.zip', 'SCORE': 'cxa34d528ef695ddf42891c1bae6d630d81fac8e0b'}, 'bwt': {'zip': '../../token_contracts/bwt.zip', 'SCORE': 'cxe8390b05f7d3f0b694f78e94912e9594a3cc63eb'}}\n",
      "----------Contracts for Testing UI--------------------------------------------------------------------------------\n",
      "{\"loans\": \"cxa9f1121fd3fa918db6ea1d533236ee27a8fff660\", \"staking\": \"cx8a098d3c1622f541cd1353b52311b6001cf9a601\", \"dividends\": \"cx1b5a23306005e621d0a5bd719885fdcb95e4aa2f\", \"reserve\": \"cx8448c097e09919e50bb172cee1060c2b51b56373\", \"daofund\": \"cx1ae7bf330091977aa8533fa2009bc54842728952\", \"rewards\": \"cxc38f8ec12aa32cb041caf2a396bbae4dd2dc0c7b\", \"dex\": \"cx358d867f74a440a2f88352dfc2a9b716f0df48d0\", \"governance\": \"cxfbcf99c2be17a649597a7343100ac11f11bf4e03\", \"oracle\": \"cxed97bdb35a7ca1b3993e400e4dba9e11610338f7\", \"sicx\": \"cx20b7cc4a6f790c772e2b3d4f99b157628a8df96e\", \"bnUSD\": \"cx0a65bd93026382a2fac19712cddd45ed0c7b42b5\", \"bnXLM\": \"cxacb944b7de5806848106c780f21265425c1de06d\", \"bnDOGE\": \"cxcd8d8e83a53a7958357d1459abe349773500eb99\", \"baln\": \"cxa34d528ef695ddf42891c1bae6d630d81fac8e0b\", \"bwt\": \"cxe8390b05f7d3f0b694f78e94912e9594a3cc63eb\"}\n"
     ]
    }
   ],
   "source": [
    "# Cell 7\n",
    "# Deploy and configure Balanced. Print results if anything goes wrong.\n",
    "\n",
    "if network == 'custom':\n",
    "    confirm = 'Yes'\n",
    "else:\n",
    "    confirm = input(f'Deploying Balanced to {network}. Proceed (Yes/No)? ')\n",
    "if confirm == 'Yes':\n",
    "    results = {}\n",
    "    deploy_all(btest_wallet, staking_wallet)\n",
    "    print('------------------------------------------------------------------------------------------------------------------')\n",
    "    print(contracts)\n",
    "    print('----------Contracts for Testing UI--------------------------------------------------------------------------------')\n",
    "    print(get_scores_json(contracts))"
   ]
  },
  {
   "cell_type": "code",
   "execution_count": 106,
   "metadata": {},
   "outputs": [
    {
     "name": "stdout",
     "output_type": "stream",
     "text": [
      "------------------------------------------------------------------------------------------------------------------\n",
      "Calling setAddresses, with parameters {'_addresses': {'loans': 'cxa9f1121fd3fa918db6ea1d533236ee27a8fff660', 'staking': 'cx8a098d3c1622f541cd1353b52311b6001cf9a601', 'dividends': 'cx1b5a23306005e621d0a5bd719885fdcb95e4aa2f', 'reserve': 'cx8448c097e09919e50bb172cee1060c2b51b56373', 'daofund': 'cx1ae7bf330091977aa8533fa2009bc54842728952', 'rewards': 'cxc38f8ec12aa32cb041caf2a396bbae4dd2dc0c7b', 'dex': 'cx358d867f74a440a2f88352dfc2a9b716f0df48d0', 'oracle': 'cxed97bdb35a7ca1b3993e400e4dba9e11610338f7', 'sicx': 'cx20b7cc4a6f790c772e2b3d4f99b157628a8df96e', 'bnUSD': 'cx0a65bd93026382a2fac19712cddd45ed0c7b42b5', 'baln': 'cxa34d528ef695ddf42891c1bae6d630d81fac8e0b', 'bwt': 'cxe8390b05f7d3f0b694f78e94912e9594a3cc63eb'}} on the governance contract.\n",
      "------------------------------------------------------------------------------------------------------------------\n",
      "************************************************** Status: 1 **************************************************\n",
      "------------------------------------------------------------------------------------------------------------------\n",
      "Calling setSicxAddress, with parameters {'_address': 'cx20b7cc4a6f790c772e2b3d4f99b157628a8df96e'} on the staking contract.\n",
      "------------------------------------------------------------------------------------------------------------------\n"
     ]
    },
    {
     "name": "stderr",
     "output_type": "stream",
     "text": [
      "Raised JSONRPCException while returning the custom response. Error message: {'code': -32602, 'message': 'Pending transaction'}\n"
     ]
    },
    {
     "name": "stdout",
     "output_type": "stream",
     "text": [
      "Retrying in 1 seconds...\n",
      "************************************************** Status: 1 **************************************************\n",
      "------------------------------------------------------------------------------------------------------------------\n",
      "Calling configureBalanced, with parameters {} on the governance contract.\n",
      "------------------------------------------------------------------------------------------------------------------\n",
      "************************************************** Status: 1 **************************************************\n",
      "{'scoreAddress': 'cxa9f1121fd3fa918db6ea1d533236ee27a8fff660', 'indexed': ['AssetAdded(Address,str,bool)', 'cx20b7cc4a6f790c772e2b3d4f99b157628a8df96e', 'sICX', '0x1'], 'data': []} \n",
      "\n",
      "{'scoreAddress': 'cxa9f1121fd3fa918db6ea1d533236ee27a8fff660', 'indexed': ['AssetAdded(Address,str,bool)', 'cx0a65bd93026382a2fac19712cddd45ed0c7b42b5', 'bnUSD', '0x0'], 'data': []} \n",
      "\n",
      "{'scoreAddress': 'cxa9f1121fd3fa918db6ea1d533236ee27a8fff660', 'indexed': ['AssetAdded(Address,str,bool)', 'cxa34d528ef695ddf42891c1bae6d630d81fac8e0b', 'BALN', '0x1'], 'data': []} \n",
      "\n",
      "{\"governance|setAddresses|{'_addresses': {'loans': 'cxa9f1121fd3fa918db6ea1d533236ee27a8fff660', 'staking': 'cx8a098d3c1622f541cd1353b52311b6001cf9a601', 'dividends': 'cx1b5a23306005e621d0a5bd719885fdcb95e4aa2f', 'reserve': 'cx8448c097e09919e50bb172cee1060c2b51b56373', 'daofund': 'cx1ae7bf330091977aa8533fa2009bc54842728952', 'rewards': 'cxc38f8ec12aa32cb041caf2a396bbae4dd2dc0c7b', 'dex': 'cx358d867f74a440a2f88352dfc2a9b716f0df48d0', 'oracle': 'cxed97bdb35a7ca1b3993e400e4dba9e11610338f7', 'sicx': 'cx20b7cc4a6f790c772e2b3d4f99b157628a8df96e', 'bnUSD': 'cx0a65bd93026382a2fac19712cddd45ed0c7b42b5', 'baln': 'cxa34d528ef695ddf42891c1bae6d630d81fac8e0b', 'bwt': 'cxe8390b05f7d3f0b694f78e94912e9594a3cc63eb'}}\": {'txHash': '0xe8be4ef0a1a764ade85cec11f2731a5831f6bc52cafd729621ed989c1f96b11b', 'blockHeight': 259600, 'blockHash': '0xfec85ccb8f42776259ddc69b8d7b56df1acbe32df015e479ce75bcad84676358', 'txIndex': 1, 'to': 'cxfbcf99c2be17a649597a7343100ac11f11bf4e03', 'stepUsed': 344440, 'stepPrice': 10000000000, 'cumulativeStepUsed': 344440, 'eventLogs': [], 'logsBloom': b'\\x00\\x00\\x00\\x00\\x00\\x00\\x00\\x00\\x00\\x00\\x00\\x00\\x00\\x00\\x00\\x00\\x00\\x00\\x00\\x00\\x00\\x00\\x00\\x00\\x00\\x00\\x00\\x00\\x00\\x00\\x00\\x00\\x00\\x00\\x00\\x00\\x00\\x00\\x00\\x00\\x00\\x00\\x00\\x00\\x00\\x00\\x00\\x00\\x00\\x00\\x00\\x00\\x00\\x00\\x00\\x00\\x00\\x00\\x00\\x00\\x00\\x00\\x00\\x00\\x00\\x00\\x00\\x00\\x00\\x00\\x00\\x00\\x00\\x00\\x00\\x00\\x00\\x00\\x00\\x00\\x00\\x00\\x00\\x00\\x00\\x00\\x00\\x00\\x00\\x00\\x00\\x00\\x00\\x00\\x00\\x00\\x00\\x00\\x00\\x00\\x00\\x00\\x00\\x00\\x00\\x00\\x00\\x00\\x00\\x00\\x00\\x00\\x00\\x00\\x00\\x00\\x00\\x00\\x00\\x00\\x00\\x00\\x00\\x00\\x00\\x00\\x00\\x00\\x00\\x00\\x00\\x00\\x00\\x00\\x00\\x00\\x00\\x00\\x00\\x00\\x00\\x00\\x00\\x00\\x00\\x00\\x00\\x00\\x00\\x00\\x00\\x00\\x00\\x00\\x00\\x00\\x00\\x00\\x00\\x00\\x00\\x00\\x00\\x00\\x00\\x00\\x00\\x00\\x00\\x00\\x00\\x00\\x00\\x00\\x00\\x00\\x00\\x00\\x00\\x00\\x00\\x00\\x00\\x00\\x00\\x00\\x00\\x00\\x00\\x00\\x00\\x00\\x00\\x00\\x00\\x00\\x00\\x00\\x00\\x00\\x00\\x00\\x00\\x00\\x00\\x00\\x00\\x00\\x00\\x00\\x00\\x00\\x00\\x00\\x00\\x00\\x00\\x00\\x00\\x00\\x00\\x00\\x00\\x00\\x00\\x00\\x00\\x00\\x00\\x00\\x00\\x00\\x00\\x00\\x00\\x00\\x00\\x00\\x00\\x00\\x00\\x00\\x00\\x00\\x00\\x00\\x00\\x00\\x00\\x00\\x00\\x00\\x00\\x00\\x00\\x00', 'status': 1}, \"staking|setSicxAddress|{'_address': 'cx20b7cc4a6f790c772e2b3d4f99b157628a8df96e'}\": {'txHash': '0x244a95b8141bd1830a2b9d5dbecd7dd7893f83c43013d9d136424c166d7f69d5', 'blockHeight': 259601, 'blockHash': '0x50b57ed9b4774c2339d80b988f66b81eb52ae9a90c5b2c1455a161b4d216fc54', 'txIndex': 1, 'to': 'cx8a098d3c1622f541cd1353b52311b6001cf9a601', 'stepUsed': 150520, 'stepPrice': 10000000000, 'cumulativeStepUsed': 150520, 'eventLogs': [], 'logsBloom': b'\\x00\\x00\\x00\\x00\\x00\\x00\\x00\\x00\\x00\\x00\\x00\\x00\\x00\\x00\\x00\\x00\\x00\\x00\\x00\\x00\\x00\\x00\\x00\\x00\\x00\\x00\\x00\\x00\\x00\\x00\\x00\\x00\\x00\\x00\\x00\\x00\\x00\\x00\\x00\\x00\\x00\\x00\\x00\\x00\\x00\\x00\\x00\\x00\\x00\\x00\\x00\\x00\\x00\\x00\\x00\\x00\\x00\\x00\\x00\\x00\\x00\\x00\\x00\\x00\\x00\\x00\\x00\\x00\\x00\\x00\\x00\\x00\\x00\\x00\\x00\\x00\\x00\\x00\\x00\\x00\\x00\\x00\\x00\\x00\\x00\\x00\\x00\\x00\\x00\\x00\\x00\\x00\\x00\\x00\\x00\\x00\\x00\\x00\\x00\\x00\\x00\\x00\\x00\\x00\\x00\\x00\\x00\\x00\\x00\\x00\\x00\\x00\\x00\\x00\\x00\\x00\\x00\\x00\\x00\\x00\\x00\\x00\\x00\\x00\\x00\\x00\\x00\\x00\\x00\\x00\\x00\\x00\\x00\\x00\\x00\\x00\\x00\\x00\\x00\\x00\\x00\\x00\\x00\\x00\\x00\\x00\\x00\\x00\\x00\\x00\\x00\\x00\\x00\\x00\\x00\\x00\\x00\\x00\\x00\\x00\\x00\\x00\\x00\\x00\\x00\\x00\\x00\\x00\\x00\\x00\\x00\\x00\\x00\\x00\\x00\\x00\\x00\\x00\\x00\\x00\\x00\\x00\\x00\\x00\\x00\\x00\\x00\\x00\\x00\\x00\\x00\\x00\\x00\\x00\\x00\\x00\\x00\\x00\\x00\\x00\\x00\\x00\\x00\\x00\\x00\\x00\\x00\\x00\\x00\\x00\\x00\\x00\\x00\\x00\\x00\\x00\\x00\\x00\\x00\\x00\\x00\\x00\\x00\\x00\\x00\\x00\\x00\\x00\\x00\\x00\\x00\\x00\\x00\\x00\\x00\\x00\\x00\\x00\\x00\\x00\\x00\\x00\\x00\\x00\\x00\\x00\\x00\\x00\\x00\\x00\\x00\\x00\\x00\\x00\\x00\\x00', 'status': 1}, 'governance|configureBalanced|{}': {'txHash': '0x37c0b23ef20a664168219f876ab99ed358e6f1402b578ab1f715f383c1f1877d', 'blockHeight': 259602, 'blockHash': '0xaed17981be081352720785754312b3027b624e0d77f62d1e59cf86270041fa9b', 'txIndex': 1, 'to': 'cxfbcf99c2be17a649597a7343100ac11f11bf4e03', 'stepUsed': 1554780, 'stepPrice': 10000000000, 'cumulativeStepUsed': 1554780, 'eventLogs': [{'scoreAddress': 'cxa9f1121fd3fa918db6ea1d533236ee27a8fff660', 'indexed': ['AssetAdded(Address,str,bool)', 'cx20b7cc4a6f790c772e2b3d4f99b157628a8df96e', 'sICX', '0x1'], 'data': []}, {'scoreAddress': 'cxa9f1121fd3fa918db6ea1d533236ee27a8fff660', 'indexed': ['AssetAdded(Address,str,bool)', 'cx0a65bd93026382a2fac19712cddd45ed0c7b42b5', 'bnUSD', '0x0'], 'data': []}, {'scoreAddress': 'cxa9f1121fd3fa918db6ea1d533236ee27a8fff660', 'indexed': ['AssetAdded(Address,str,bool)', 'cxa34d528ef695ddf42891c1bae6d630d81fac8e0b', 'BALN', '0x1'], 'data': []}], 'logsBloom': b'\\x00\\x00\\x10\\x00\\x00\\x00\\x00\\x00\\x00\\x00\\x00\\x00\\x00\\x00\\x00\\x00\\x04\\x00\\x00\\x00\\x00\\x00\\x00\\x00\\x00\\x00\\x00\\x00\\x00\\x00\\x00\\x00\\x00\\x00\\x80\\x80\\x00\\x00\\x10\\x00\\x00\\x00\\x00\\x00\\x00\\x00\\x00\\x00\\x00\\x00 \\x02\\x00\\x00\\x00\\x00\\x00\\x00\\x00\\x00\\x00\\x00\\x00 \\x00\\x00\\x00\\x00\\x00\\x00\\x01\\x00\\x00\\x00\\x80\\x00\\x00\\x00\\x00\\x00\\x00\\x00\\x00\\x00\\x00\\x02\\x00\\x00\\x00\\x00\\x00\\x00\\x00\\x00\\x00\\x00\\x00\\x00\\x08\\x02\\x01\\x00\\x00\\x00\\x02\\x00\\x00\\x00\\x00\\x00\\x00\\x00\\x00\\x00\\x00\\x00\\x00\\x00\\x00\\x00\\x00\\x00\\x00\\x00\\x00\\x00\\x01\\x00\\x00\\x00\\x00\\x00@\\x00\\x00\\x00\\x00\\x00\\x00\\x00\\x00\\x00\\x00\\x00\\x00\\x00\\x00\\x00\\x80\\x00\\x00\\x00\\x00\\x00\\x00\\x00\\x00\\x00\\x00\\x00\\x00\\x80\\x00\\x00\\x00\\x00\\x08\\x00\\x00\\x01\\x00\\x00\\x00\\x00\\x00\\x00\\x04\\x00\\x00\\x00\\x00\\x00\\x00\\x00\\x00\\x00\\x00\\x00\\x00\\x00\\x00\\x00\\x00\\x00\\x00\\x00\\x00\\x00\\x00\\x00\\x00\\x00\\x00\\x00\\x00\\x08\\x00\\x01\\x00\\x00 \\x00\\x00\\x02\\x00\\x00\\x00\\x00\\x00\\x00\\x00\\x00\\x00\\x00\\x00\\x00\\x00\\x00\\x00\\x00\\x01\\x00\\x00\\x00\\x00\\x00\\x00\\x00\\x00\\x00\\x00\\x00\\x00\\x00 \\x00\\x00\\x00\\x00\\x00\\x00\\x00\\x00\\x00@\\x00', 'status': 1}}\n"
     ]
    }
   ],
   "source": [
    "# Cell 7a\n",
    "# Configure Balanced\n",
    "\n",
    "config_results = config_balanced(btest_wallet, staking_wallet)\n",
    "print(config_results)"
   ]
  },
  {
   "cell_type": "code",
   "execution_count": 111,
   "metadata": {},
   "outputs": [
    {
     "name": "stdout",
     "output_type": "stream",
     "text": [
      "------------------------------------------------------------------------------------------------------------------\n",
      "Calling launchBalanced, with parameters {} on the governance contract.\n",
      "------------------------------------------------------------------------------------------------------------------\n"
     ]
    },
    {
     "name": "stderr",
     "output_type": "stream",
     "text": [
      "Raised JSONRPCException while returning the custom response. Error message: {'code': -32602, 'message': 'Pending transaction'}\n"
     ]
    },
    {
     "name": "stdout",
     "output_type": "stream",
     "text": [
      "Retrying in 1 seconds...\n",
      "************************************************** Status: 1 **************************************************\n",
      "------------------------------------------------------------------------------------------------------------------\n",
      "Calling toggleStakingOn, with parameters {} on the staking contract.\n",
      "------------------------------------------------------------------------------------------------------------------\n"
     ]
    },
    {
     "name": "stderr",
     "output_type": "stream",
     "text": [
      "Raised JSONRPCException while returning the custom response. Error message: {'code': -32602, 'message': 'Pending transaction'}\n"
     ]
    },
    {
     "name": "stdout",
     "output_type": "stream",
     "text": [
      "Retrying in 1 seconds...\n",
      "************************************************** Status: 1 **************************************************\n",
      "------------------------------------------------------------------------------------------------------------------\n",
      "Calling delegate, with parameters {'_delegations': [{'_address': 'hx000e0415037ae871184b2c7154e5924ef2bc075e', '_votes_in_per': '50000000000000000000'}, {'_address': 'hx9eec61296a7010c867ce24c20e69588e2832bc52', '_votes_in_per': '50000000000000000000'}]} on the governance contract.\n",
      "------------------------------------------------------------------------------------------------------------------\n",
      "************************************************** Status: 1 **************************************************\n",
      "{'governance|launchBalanced|{}': {'txHash': '0x3ba0ea7ad540b431583d1aaacc2d0b059ef84c7580155385789dcadbe0ee790e', 'blockHeight': 259902, 'blockHash': '0xca92294010b0c9b1bb56cd48872fafcc6b738e69c4a0be40980aeeebf6a11ff6', 'txIndex': 1, 'to': 'cxfbcf99c2be17a649597a7343100ac11f11bf4e03', 'stepUsed': 130400, 'stepPrice': 10000000000, 'cumulativeStepUsed': 130400, 'eventLogs': [], 'logsBloom': b'\\x00\\x00\\x00\\x00\\x00\\x00\\x00\\x00\\x00\\x00\\x00\\x00\\x00\\x00\\x00\\x00\\x00\\x00\\x00\\x00\\x00\\x00\\x00\\x00\\x00\\x00\\x00\\x00\\x00\\x00\\x00\\x00\\x00\\x00\\x00\\x00\\x00\\x00\\x00\\x00\\x00\\x00\\x00\\x00\\x00\\x00\\x00\\x00\\x00\\x00\\x00\\x00\\x00\\x00\\x00\\x00\\x00\\x00\\x00\\x00\\x00\\x00\\x00\\x00\\x00\\x00\\x00\\x00\\x00\\x00\\x00\\x00\\x00\\x00\\x00\\x00\\x00\\x00\\x00\\x00\\x00\\x00\\x00\\x00\\x00\\x00\\x00\\x00\\x00\\x00\\x00\\x00\\x00\\x00\\x00\\x00\\x00\\x00\\x00\\x00\\x00\\x00\\x00\\x00\\x00\\x00\\x00\\x00\\x00\\x00\\x00\\x00\\x00\\x00\\x00\\x00\\x00\\x00\\x00\\x00\\x00\\x00\\x00\\x00\\x00\\x00\\x00\\x00\\x00\\x00\\x00\\x00\\x00\\x00\\x00\\x00\\x00\\x00\\x00\\x00\\x00\\x00\\x00\\x00\\x00\\x00\\x00\\x00\\x00\\x00\\x00\\x00\\x00\\x00\\x00\\x00\\x00\\x00\\x00\\x00\\x00\\x00\\x00\\x00\\x00\\x00\\x00\\x00\\x00\\x00\\x00\\x00\\x00\\x00\\x00\\x00\\x00\\x00\\x00\\x00\\x00\\x00\\x00\\x00\\x00\\x00\\x00\\x00\\x00\\x00\\x00\\x00\\x00\\x00\\x00\\x00\\x00\\x00\\x00\\x00\\x00\\x00\\x00\\x00\\x00\\x00\\x00\\x00\\x00\\x00\\x00\\x00\\x00\\x00\\x00\\x00\\x00\\x00\\x00\\x00\\x00\\x00\\x00\\x00\\x00\\x00\\x00\\x00\\x00\\x00\\x00\\x00\\x00\\x00\\x00\\x00\\x00\\x00\\x00\\x00\\x00\\x00\\x00\\x00\\x00\\x00\\x00\\x00\\x00\\x00\\x00\\x00\\x00\\x00\\x00\\x00', 'status': 1}, 'staking|toggleStakingOn|{}': {'txHash': '0xe6a5aa4ded9ddc57756eecb2120a875dc8976cd073b0cbb91f2225e6a890d442', 'blockHeight': 259903, 'blockHash': '0xa25e3653cfa845589343d373f516abfd3b1bb88e713619ba9acc33b7b67b690f', 'txIndex': 1, 'to': 'cx8a098d3c1622f541cd1353b52311b6001cf9a601', 'stepUsed': 130680, 'stepPrice': 10000000000, 'cumulativeStepUsed': 130680, 'eventLogs': [], 'logsBloom': b'\\x00\\x00\\x00\\x00\\x00\\x00\\x00\\x00\\x00\\x00\\x00\\x00\\x00\\x00\\x00\\x00\\x00\\x00\\x00\\x00\\x00\\x00\\x00\\x00\\x00\\x00\\x00\\x00\\x00\\x00\\x00\\x00\\x00\\x00\\x00\\x00\\x00\\x00\\x00\\x00\\x00\\x00\\x00\\x00\\x00\\x00\\x00\\x00\\x00\\x00\\x00\\x00\\x00\\x00\\x00\\x00\\x00\\x00\\x00\\x00\\x00\\x00\\x00\\x00\\x00\\x00\\x00\\x00\\x00\\x00\\x00\\x00\\x00\\x00\\x00\\x00\\x00\\x00\\x00\\x00\\x00\\x00\\x00\\x00\\x00\\x00\\x00\\x00\\x00\\x00\\x00\\x00\\x00\\x00\\x00\\x00\\x00\\x00\\x00\\x00\\x00\\x00\\x00\\x00\\x00\\x00\\x00\\x00\\x00\\x00\\x00\\x00\\x00\\x00\\x00\\x00\\x00\\x00\\x00\\x00\\x00\\x00\\x00\\x00\\x00\\x00\\x00\\x00\\x00\\x00\\x00\\x00\\x00\\x00\\x00\\x00\\x00\\x00\\x00\\x00\\x00\\x00\\x00\\x00\\x00\\x00\\x00\\x00\\x00\\x00\\x00\\x00\\x00\\x00\\x00\\x00\\x00\\x00\\x00\\x00\\x00\\x00\\x00\\x00\\x00\\x00\\x00\\x00\\x00\\x00\\x00\\x00\\x00\\x00\\x00\\x00\\x00\\x00\\x00\\x00\\x00\\x00\\x00\\x00\\x00\\x00\\x00\\x00\\x00\\x00\\x00\\x00\\x00\\x00\\x00\\x00\\x00\\x00\\x00\\x00\\x00\\x00\\x00\\x00\\x00\\x00\\x00\\x00\\x00\\x00\\x00\\x00\\x00\\x00\\x00\\x00\\x00\\x00\\x00\\x00\\x00\\x00\\x00\\x00\\x00\\x00\\x00\\x00\\x00\\x00\\x00\\x00\\x00\\x00\\x00\\x00\\x00\\x00\\x00\\x00\\x00\\x00\\x00\\x00\\x00\\x00\\x00\\x00\\x00\\x00\\x00\\x00\\x00\\x00\\x00\\x00', 'status': 1}, \"governance|delegate|{'_delegations': [{'_address': 'hx000e0415037ae871184b2c7154e5924ef2bc075e', '_votes_in_per': '50000000000000000000'}, {'_address': 'hx9eec61296a7010c867ce24c20e69588e2832bc52', '_votes_in_per': '50000000000000000000'}]}\": {'txHash': '0xc8090df8016b13f77a480b18a8f15a4620e9fec46dcebf5bf2824f32807e647f', 'blockHeight': 259904, 'blockHash': '0x1017e1d6f61b211635de02b94d561b3887378f657ad65750a880db04a01404db', 'txIndex': 1, 'to': 'cxfbcf99c2be17a649597a7343100ac11f11bf4e03', 'stepUsed': 354320, 'stepPrice': 10000000000, 'cumulativeStepUsed': 354320, 'eventLogs': [], 'logsBloom': b'\\x00\\x00\\x00\\x00\\x00\\x00\\x00\\x00\\x00\\x00\\x00\\x00\\x00\\x00\\x00\\x00\\x00\\x00\\x00\\x00\\x00\\x00\\x00\\x00\\x00\\x00\\x00\\x00\\x00\\x00\\x00\\x00\\x00\\x00\\x00\\x00\\x00\\x00\\x00\\x00\\x00\\x00\\x00\\x00\\x00\\x00\\x00\\x00\\x00\\x00\\x00\\x00\\x00\\x00\\x00\\x00\\x00\\x00\\x00\\x00\\x00\\x00\\x00\\x00\\x00\\x00\\x00\\x00\\x00\\x00\\x00\\x00\\x00\\x00\\x00\\x00\\x00\\x00\\x00\\x00\\x00\\x00\\x00\\x00\\x00\\x00\\x00\\x00\\x00\\x00\\x00\\x00\\x00\\x00\\x00\\x00\\x00\\x00\\x00\\x00\\x00\\x00\\x00\\x00\\x00\\x00\\x00\\x00\\x00\\x00\\x00\\x00\\x00\\x00\\x00\\x00\\x00\\x00\\x00\\x00\\x00\\x00\\x00\\x00\\x00\\x00\\x00\\x00\\x00\\x00\\x00\\x00\\x00\\x00\\x00\\x00\\x00\\x00\\x00\\x00\\x00\\x00\\x00\\x00\\x00\\x00\\x00\\x00\\x00\\x00\\x00\\x00\\x00\\x00\\x00\\x00\\x00\\x00\\x00\\x00\\x00\\x00\\x00\\x00\\x00\\x00\\x00\\x00\\x00\\x00\\x00\\x00\\x00\\x00\\x00\\x00\\x00\\x00\\x00\\x00\\x00\\x00\\x00\\x00\\x00\\x00\\x00\\x00\\x00\\x00\\x00\\x00\\x00\\x00\\x00\\x00\\x00\\x00\\x00\\x00\\x00\\x00\\x00\\x00\\x00\\x00\\x00\\x00\\x00\\x00\\x00\\x00\\x00\\x00\\x00\\x00\\x00\\x00\\x00\\x00\\x00\\x00\\x00\\x00\\x00\\x00\\x00\\x00\\x00\\x00\\x00\\x00\\x00\\x00\\x00\\x00\\x00\\x00\\x00\\x00\\x00\\x00\\x00\\x00\\x00\\x00\\x00\\x00\\x00\\x00\\x00\\x00\\x00\\x00\\x00\\x00', 'status': 1}}\n"
     ]
    }
   ],
   "source": [
    "# Cell 7b\n",
    "# Launch Balanced\n",
    "# We may want to make this a payable method and have the governance SCORE borrow bnUSD,\n",
    "# start and name the sICXbnUSD market, and add it as a rewards DataSource.\n",
    "\n",
    "launch_results = launch_balanced(btest_wallet, staking_wallet)\n",
    "print(launch_results)"
   ]
  },
  {
   "cell_type": "code",
   "execution_count": 88,
   "metadata": {},
   "outputs": [
    {
     "name": "stdout",
     "output_type": "stream",
     "text": [
      "Updating staking with params: {} to custom. Proceed (Yes/No)? Yes\n",
      "../../core_contracts/staking.zip\n",
      "Status: 1\n",
      "\n"
     ]
    }
   ],
   "source": [
    "# Cell 8\n",
    "# Deploy or Update a single SCORE\n",
    "\n",
    "contract_name = 'staking'\n",
    "update = 1\n",
    "params = {}\n",
    "if update == 0:\n",
    "    params = {'_governance': contracts['governance']['SCORE']}\n",
    "\n",
    "compress()\n",
    "contract = contracts[contract_name]\n",
    "confirm = input(f'{\"Updating\" if update else \"Deploying\"} {contract_name} with params: {params} to {network}. Proceed (Yes/No)? ')\n",
    "if confirm == 'Yes':\n",
    "    deploy_SCORE(contract, params, btest_wallet, update)"
   ]
  },
  {
   "cell_type": "code",
   "execution_count": 48,
   "metadata": {},
   "outputs": [
    {
     "name": "stdout",
     "output_type": "stream",
     "text": [
      "------------------------------------------------------------------------------------------------------------------\n",
      "Calling toggleStakingOn, with parameters {} on the staking contract.\n",
      "------------------------------------------------------------------------------------------------------------------\n",
      "************************************************** Status: 1 **************************************************\n"
     ]
    },
    {
     "data": {
      "text/plain": [
       "{'txHash': '0xc40f28140c7b131e95262cfdbd05829d1f935dd1fca14fb9d75e022bd3988f40',\n",
       " 'blockHeight': 255523,\n",
       " 'blockHash': '0xd3a1d00502b1aea97adb74589c2f9134b667a244d3b2b58d06757841877210aa',\n",
       " 'txIndex': 1,\n",
       " 'to': 'cxdb102ae83b69bc45f4dd195f5d48453d44d0710e',\n",
       " 'stepUsed': 130680,\n",
       " 'stepPrice': 10000000000,\n",
       " 'cumulativeStepUsed': 130680,\n",
       " 'eventLogs': [],\n",
       " 'logsBloom': b'\\x00\\x00\\x00\\x00\\x00\\x00\\x00\\x00\\x00\\x00\\x00\\x00\\x00\\x00\\x00\\x00\\x00\\x00\\x00\\x00\\x00\\x00\\x00\\x00\\x00\\x00\\x00\\x00\\x00\\x00\\x00\\x00\\x00\\x00\\x00\\x00\\x00\\x00\\x00\\x00\\x00\\x00\\x00\\x00\\x00\\x00\\x00\\x00\\x00\\x00\\x00\\x00\\x00\\x00\\x00\\x00\\x00\\x00\\x00\\x00\\x00\\x00\\x00\\x00\\x00\\x00\\x00\\x00\\x00\\x00\\x00\\x00\\x00\\x00\\x00\\x00\\x00\\x00\\x00\\x00\\x00\\x00\\x00\\x00\\x00\\x00\\x00\\x00\\x00\\x00\\x00\\x00\\x00\\x00\\x00\\x00\\x00\\x00\\x00\\x00\\x00\\x00\\x00\\x00\\x00\\x00\\x00\\x00\\x00\\x00\\x00\\x00\\x00\\x00\\x00\\x00\\x00\\x00\\x00\\x00\\x00\\x00\\x00\\x00\\x00\\x00\\x00\\x00\\x00\\x00\\x00\\x00\\x00\\x00\\x00\\x00\\x00\\x00\\x00\\x00\\x00\\x00\\x00\\x00\\x00\\x00\\x00\\x00\\x00\\x00\\x00\\x00\\x00\\x00\\x00\\x00\\x00\\x00\\x00\\x00\\x00\\x00\\x00\\x00\\x00\\x00\\x00\\x00\\x00\\x00\\x00\\x00\\x00\\x00\\x00\\x00\\x00\\x00\\x00\\x00\\x00\\x00\\x00\\x00\\x00\\x00\\x00\\x00\\x00\\x00\\x00\\x00\\x00\\x00\\x00\\x00\\x00\\x00\\x00\\x00\\x00\\x00\\x00\\x00\\x00\\x00\\x00\\x00\\x00\\x00\\x00\\x00\\x00\\x00\\x00\\x00\\x00\\x00\\x00\\x00\\x00\\x00\\x00\\x00\\x00\\x00\\x00\\x00\\x00\\x00\\x00\\x00\\x00\\x00\\x00\\x00\\x00\\x00\\x00\\x00\\x00\\x00\\x00\\x00\\x00\\x00\\x00\\x00\\x00\\x00\\x00\\x00\\x00\\x00\\x00\\x00',\n",
       " 'status': 1}"
      ]
     },
     "execution_count": 48,
     "metadata": {},
     "output_type": "execute_result"
    }
   ],
   "source": [
    "send_tx('staking', 0, 'toggleStakingOn', {}, btest_wallet)\n"
   ]
  },
  {
   "cell_type": "code",
   "execution_count": 49,
   "metadata": {},
   "outputs": [
    {
     "name": "stdout",
     "output_type": "stream",
     "text": [
      "------------------------------------------------------------------------------------------------------------------\n",
      "Calling balanceToggleStakingEnabled, with parameters {} on the governance contract.\n",
      "------------------------------------------------------------------------------------------------------------------\n",
      "************************************************** Status: 1 **************************************************\n"
     ]
    },
    {
     "data": {
      "text/plain": [
       "{'txHash': '0xe1e2f1c818fff8da04935e073d4ad35fd590e279cabc3001e491c435ae0c4a99',\n",
       " 'blockHeight': 255524,\n",
       " 'blockHash': '0x2bd4039b2db25fc9e6e2b543170177ba1538ac26037bbd4ebfbcea1f7e47eaef',\n",
       " 'txIndex': 1,\n",
       " 'to': 'cx0081a3ee4e80db52bd53ffe4849ed3cdd383cfd3',\n",
       " 'stepUsed': 158080,\n",
       " 'stepPrice': 10000000000,\n",
       " 'cumulativeStepUsed': 158080,\n",
       " 'eventLogs': [],\n",
       " 'logsBloom': b'\\x00\\x00\\x00\\x00\\x00\\x00\\x00\\x00\\x00\\x00\\x00\\x00\\x00\\x00\\x00\\x00\\x00\\x00\\x00\\x00\\x00\\x00\\x00\\x00\\x00\\x00\\x00\\x00\\x00\\x00\\x00\\x00\\x00\\x00\\x00\\x00\\x00\\x00\\x00\\x00\\x00\\x00\\x00\\x00\\x00\\x00\\x00\\x00\\x00\\x00\\x00\\x00\\x00\\x00\\x00\\x00\\x00\\x00\\x00\\x00\\x00\\x00\\x00\\x00\\x00\\x00\\x00\\x00\\x00\\x00\\x00\\x00\\x00\\x00\\x00\\x00\\x00\\x00\\x00\\x00\\x00\\x00\\x00\\x00\\x00\\x00\\x00\\x00\\x00\\x00\\x00\\x00\\x00\\x00\\x00\\x00\\x00\\x00\\x00\\x00\\x00\\x00\\x00\\x00\\x00\\x00\\x00\\x00\\x00\\x00\\x00\\x00\\x00\\x00\\x00\\x00\\x00\\x00\\x00\\x00\\x00\\x00\\x00\\x00\\x00\\x00\\x00\\x00\\x00\\x00\\x00\\x00\\x00\\x00\\x00\\x00\\x00\\x00\\x00\\x00\\x00\\x00\\x00\\x00\\x00\\x00\\x00\\x00\\x00\\x00\\x00\\x00\\x00\\x00\\x00\\x00\\x00\\x00\\x00\\x00\\x00\\x00\\x00\\x00\\x00\\x00\\x00\\x00\\x00\\x00\\x00\\x00\\x00\\x00\\x00\\x00\\x00\\x00\\x00\\x00\\x00\\x00\\x00\\x00\\x00\\x00\\x00\\x00\\x00\\x00\\x00\\x00\\x00\\x00\\x00\\x00\\x00\\x00\\x00\\x00\\x00\\x00\\x00\\x00\\x00\\x00\\x00\\x00\\x00\\x00\\x00\\x00\\x00\\x00\\x00\\x00\\x00\\x00\\x00\\x00\\x00\\x00\\x00\\x00\\x00\\x00\\x00\\x00\\x00\\x00\\x00\\x00\\x00\\x00\\x00\\x00\\x00\\x00\\x00\\x00\\x00\\x00\\x00\\x00\\x00\\x00\\x00\\x00\\x00\\x00\\x00\\x00\\x00\\x00\\x00\\x00',\n",
       " 'status': 1}"
      ]
     },
     "execution_count": 49,
     "metadata": {},
     "output_type": "execute_result"
    }
   ],
   "source": [
    "send_tx('governance', 0, 'balanceToggleStakingEnabled', {}, btest_wallet)\n"
   ]
  },
  {
   "cell_type": "code",
   "execution_count": 84,
   "metadata": {},
   "outputs": [
    {
     "name": "stdout",
     "output_type": "stream",
     "text": [
      "------------------------------------------------------------------------------------------------------------------\n",
      "Reading getAccountPositions, with parameters {'_owner': 'hxe62d11fa19a0e8575ad92f06bc8fd42edbfe27db'} on the loans contract.\n",
      "------------------------------------------------------------------------------------------------------------------\n",
      "{'message': 'That address has no outstanding loans or deposited collateral.'}\n",
      "------------------------------------------------------------------------------------------------------------------\n",
      "Reading getAccountPositions, with parameters {'_owner': 'hx7a1824129a8fe803e45a3aae1c0e060399546187'} on the loans contract.\n",
      "------------------------------------------------------------------------------------------------------------------\n",
      "{'message': 'That address has no outstanding loans or deposited collateral.'}\n"
     ]
    },
    {
     "data": {
      "text/plain": [
       "{'message': 'That address has no outstanding loans or deposited collateral.'}"
      ]
     },
     "execution_count": 84,
     "metadata": {},
     "output_type": "execute_result"
    }
   ],
   "source": [
    "# 1.no bad debt for asset, retired from account user2 without a position on Balanced.\n",
    "call_tx('loans', 'getAccountPositions', {'_owner': user1.get_address()})\n",
    "call_tx('loans', 'getAccountPositions', {'_owner': user2.get_address()})\n"
   ]
  },
  {
   "cell_type": "code",
   "execution_count": 68,
   "metadata": {},
   "outputs": [
    {
     "name": "stdout",
     "output_type": "stream",
     "text": [
      "------------------------------------------------------------------------------------------------------------------\n",
      "Reading getMaxRetireAmount, with parameters {'_symbol': 'bnUSD'} on the loans contract.\n",
      "------------------------------------------------------------------------------------------------------------------\n",
      "0x0\n"
     ]
    },
    {
     "data": {
      "text/plain": [
       "'0x0'"
      ]
     },
     "execution_count": 68,
     "metadata": {},
     "output_type": "execute_result"
    }
   ],
   "source": [
    "call_tx('loans', 'getMaxRetireAmount', {'_symbol': 'bnUSD'})\n"
   ]
  },
  {
   "cell_type": "code",
   "execution_count": 86,
   "metadata": {},
   "outputs": [
    {
     "name": "stdout",
     "output_type": "stream",
     "text": [
      "------------------------------------------------------------------------------------------------------------------\n",
      "Calling depositAndBorrow, with parameters {'_asset': 'bnUSD', '_amount': 500000000000000000000} on the loans contract.\n",
      "------------------------------------------------------------------------------------------------------------------\n",
      "************************************************** Status: 1 **************************************************\n",
      "{'scoreAddress': 'cx626ef1ae9e345c3c45e42be9a5de44fafec306cd', 'indexed': ['ICXTransfer(Address,Address,int)', 'cx626ef1ae9e345c3c45e42be9a5de44fafec306cd', 'cxc267760200b71291ed2727248e71a0ea5b761f3f', '0x6c6b935b8bbd400000'], 'data': []} \n",
      "\n",
      "{'scoreAddress': 'cxc19dadb61fb38fb8296d723aa22731b08dc8ca2e', 'indexed': ['Mint(Address,int,bytes)', 'cx626ef1ae9e345c3c45e42be9a5de44fafec306cd'], 'data': ['0x6c6b935b8bbd400000', '0x4e6f6e65']} \n",
      "\n",
      "{'scoreAddress': 'cxc19dadb61fb38fb8296d723aa22731b08dc8ca2e', 'indexed': ['Transfer(Address,Address,int,bytes)', 'hx0000000000000000000000000000000000000000', 'cx626ef1ae9e345c3c45e42be9a5de44fafec306cd', '0x6c6b935b8bbd400000'], 'data': ['0x4e6f6e65']} \n",
      "\n",
      "{'scoreAddress': 'cxc267760200b71291ed2727248e71a0ea5b761f3f', 'indexed': ['TokenTransfer(Address,int,str)', 'cx626ef1ae9e345c3c45e42be9a5de44fafec306cd', '0x6c6b935b8bbd400000'], 'data': ['2000 sICX minted to cx626ef1ae9e345c3c45e42be9a5de44fafec306cd']} \n",
      "\n",
      "{'scoreAddress': 'cx626ef1ae9e345c3c45e42be9a5de44fafec306cd', 'indexed': ['CollateralReceived(Address,str,int)', 'hxe62d11fa19a0e8575ad92f06bc8fd42edbfe27db', 'sICX'], 'data': ['0x6c6b935b8bbd400000']} \n",
      "\n",
      "{'scoreAddress': 'cx148938451f1aefaf86d8ec292aca09c05da4370f', 'indexed': ['OraclePrice(str,str,Address,int)', 'USDICX', 'BandChain', 'cxed97bdb35a7ca1b3993e400e4dba9e11610338f7'], 'data': ['0x84c5d90848544bb']} \n",
      "\n",
      "{'scoreAddress': 'cx626ef1ae9e345c3c45e42be9a5de44fafec306cd', 'indexed': ['OriginateLoan(Address,str,int,str)', 'hxe62d11fa19a0e8575ad92f06bc8fd42edbfe27db', 'bnUSD', '0x1b1ae4d6e2ef500000'], 'data': ['Loan of 500000000000000000000 bnUSD from Balanced.']} \n",
      "\n",
      "{'scoreAddress': 'cx148938451f1aefaf86d8ec292aca09c05da4370f', 'indexed': ['Mint(Address,int,bytes)', 'hxe62d11fa19a0e8575ad92f06bc8fd42edbfe27db'], 'data': ['0x1b1ae4d6e2ef500000', '0x4e6f6e65']} \n",
      "\n",
      "{'scoreAddress': 'cx148938451f1aefaf86d8ec292aca09c05da4370f', 'indexed': ['Transfer(Address,Address,int,bytes)', 'hx0000000000000000000000000000000000000000', 'hxe62d11fa19a0e8575ad92f06bc8fd42edbfe27db', '0x1b1ae4d6e2ef500000'], 'data': ['0x4e6f6e65']} \n",
      "\n",
      "{'scoreAddress': 'cx148938451f1aefaf86d8ec292aca09c05da4370f', 'indexed': ['Mint(Address,int,bytes)', 'cx9dd2c3daebfa07412547f7651b85bf733b3bcbda'], 'data': ['0x4563918244f40000', '0x4e6f6e65']} \n",
      "\n",
      "{'scoreAddress': 'cx148938451f1aefaf86d8ec292aca09c05da4370f', 'indexed': ['Transfer(Address,Address,int,bytes)', 'hx0000000000000000000000000000000000000000', 'cx9dd2c3daebfa07412547f7651b85bf733b3bcbda', '0x4563918244f40000'], 'data': ['0x4e6f6e65']} \n",
      "\n",
      "{'scoreAddress': 'cx626ef1ae9e345c3c45e42be9a5de44fafec306cd', 'indexed': ['FeePaid(str,int,str)', 'bnUSD', '0x4563918244f40000', 'origination'], 'data': []} \n",
      "\n"
     ]
    },
    {
     "data": {
      "text/plain": [
       "{'txHash': '0xd84925737491122a638fa99428ff67bcc3358450fef0c6f6128b143ed2b5072c',\n",
       " 'blockHeight': 257647,\n",
       " 'blockHash': '0x9e7f9f7eaf5d49e895e2f2b89608023aa7ddbc3e23e1698cdac72a64bfd86415',\n",
       " 'txIndex': 1,\n",
       " 'to': 'cx626ef1ae9e345c3c45e42be9a5de44fafec306cd',\n",
       " 'stepUsed': 957100,\n",
       " 'stepPrice': 10000000000,\n",
       " 'cumulativeStepUsed': 957100,\n",
       " 'eventLogs': [{'scoreAddress': 'cx626ef1ae9e345c3c45e42be9a5de44fafec306cd',\n",
       "   'indexed': ['ICXTransfer(Address,Address,int)',\n",
       "    'cx626ef1ae9e345c3c45e42be9a5de44fafec306cd',\n",
       "    'cxc267760200b71291ed2727248e71a0ea5b761f3f',\n",
       "    '0x6c6b935b8bbd400000'],\n",
       "   'data': []},\n",
       "  {'scoreAddress': 'cxc19dadb61fb38fb8296d723aa22731b08dc8ca2e',\n",
       "   'indexed': ['Mint(Address,int,bytes)',\n",
       "    'cx626ef1ae9e345c3c45e42be9a5de44fafec306cd'],\n",
       "   'data': ['0x6c6b935b8bbd400000', '0x4e6f6e65']},\n",
       "  {'scoreAddress': 'cxc19dadb61fb38fb8296d723aa22731b08dc8ca2e',\n",
       "   'indexed': ['Transfer(Address,Address,int,bytes)',\n",
       "    'hx0000000000000000000000000000000000000000',\n",
       "    'cx626ef1ae9e345c3c45e42be9a5de44fafec306cd',\n",
       "    '0x6c6b935b8bbd400000'],\n",
       "   'data': ['0x4e6f6e65']},\n",
       "  {'scoreAddress': 'cxc267760200b71291ed2727248e71a0ea5b761f3f',\n",
       "   'indexed': ['TokenTransfer(Address,int,str)',\n",
       "    'cx626ef1ae9e345c3c45e42be9a5de44fafec306cd',\n",
       "    '0x6c6b935b8bbd400000'],\n",
       "   'data': ['2000 sICX minted to cx626ef1ae9e345c3c45e42be9a5de44fafec306cd']},\n",
       "  {'scoreAddress': 'cx626ef1ae9e345c3c45e42be9a5de44fafec306cd',\n",
       "   'indexed': ['CollateralReceived(Address,str,int)',\n",
       "    'hxe62d11fa19a0e8575ad92f06bc8fd42edbfe27db',\n",
       "    'sICX'],\n",
       "   'data': ['0x6c6b935b8bbd400000']},\n",
       "  {'scoreAddress': 'cx148938451f1aefaf86d8ec292aca09c05da4370f',\n",
       "   'indexed': ['OraclePrice(str,str,Address,int)',\n",
       "    'USDICX',\n",
       "    'BandChain',\n",
       "    'cxed97bdb35a7ca1b3993e400e4dba9e11610338f7'],\n",
       "   'data': ['0x84c5d90848544bb']},\n",
       "  {'scoreAddress': 'cx626ef1ae9e345c3c45e42be9a5de44fafec306cd',\n",
       "   'indexed': ['OriginateLoan(Address,str,int,str)',\n",
       "    'hxe62d11fa19a0e8575ad92f06bc8fd42edbfe27db',\n",
       "    'bnUSD',\n",
       "    '0x1b1ae4d6e2ef500000'],\n",
       "   'data': ['Loan of 500000000000000000000 bnUSD from Balanced.']},\n",
       "  {'scoreAddress': 'cx148938451f1aefaf86d8ec292aca09c05da4370f',\n",
       "   'indexed': ['Mint(Address,int,bytes)',\n",
       "    'hxe62d11fa19a0e8575ad92f06bc8fd42edbfe27db'],\n",
       "   'data': ['0x1b1ae4d6e2ef500000', '0x4e6f6e65']},\n",
       "  {'scoreAddress': 'cx148938451f1aefaf86d8ec292aca09c05da4370f',\n",
       "   'indexed': ['Transfer(Address,Address,int,bytes)',\n",
       "    'hx0000000000000000000000000000000000000000',\n",
       "    'hxe62d11fa19a0e8575ad92f06bc8fd42edbfe27db',\n",
       "    '0x1b1ae4d6e2ef500000'],\n",
       "   'data': ['0x4e6f6e65']},\n",
       "  {'scoreAddress': 'cx148938451f1aefaf86d8ec292aca09c05da4370f',\n",
       "   'indexed': ['Mint(Address,int,bytes)',\n",
       "    'cx9dd2c3daebfa07412547f7651b85bf733b3bcbda'],\n",
       "   'data': ['0x4563918244f40000', '0x4e6f6e65']},\n",
       "  {'scoreAddress': 'cx148938451f1aefaf86d8ec292aca09c05da4370f',\n",
       "   'indexed': ['Transfer(Address,Address,int,bytes)',\n",
       "    'hx0000000000000000000000000000000000000000',\n",
       "    'cx9dd2c3daebfa07412547f7651b85bf733b3bcbda',\n",
       "    '0x4563918244f40000'],\n",
       "   'data': ['0x4e6f6e65']},\n",
       "  {'scoreAddress': 'cx626ef1ae9e345c3c45e42be9a5de44fafec306cd',\n",
       "   'indexed': ['FeePaid(str,int,str)',\n",
       "    'bnUSD',\n",
       "    '0x4563918244f40000',\n",
       "    'origination'],\n",
       "   'data': []}],\n",
       " 'logsBloom': b'\\x10\\x000\\x00\\x08\\x00\\x00\\x00\\x02\\x00\\x00!\\x00\\x08\\x00\\x00\\x02\\x00 \\x00\\x00\\x00\\x00\\x00 \\x01\\x00\\x00\\x00(\\x00\\x00\\x00\\x00\\x00\\x00\\x00\\x00\\x00\\x00\\x00\\x00@@\\x00\\x00\\x00\\x00\\x00\\x02\\x80\\x02\\x00\\x01\\x04\\x00\\x00@\\x18\\x00\\x00\\x00\\x00 \\x80\\x10\\x00\\x00\\x00\\x08\\x00\\x00\\x00\\x00\\x00\\x08\\x00\\x00\\x00\\x00\\x00\\x00\\x80\\x00@\\x02\\x00\\x00\\x00\\x00\\x00\\x00\\x00\\x00\\x00\\x00\\x00\\x00\\x08\\x01\\x00@\\x00\\x00\\x00\\x01\\x00\\x00\\x80\\x00@\\x00\\x00\\x00\\x01\\x00\\x00\\x00\\x00\\x04\\x00\\x08\\x00\\x00(\\x00\\x01\\x18\\x00 \\x00\\x00\\x00\\x90\\x00\\x00\\x00\\x10\\x00\\x00\\x00\\x00\\x00\\x00@\\x00P\\x00\\x00\\x00\\x00\\x00\\x00\\x00\\x00 @\\x90\\x00\\x00\\x00\\x00\\x00\\x00\\x00\\x04\\x08\\x88\\x00\\x00\\x00\\x00\\x00\\x00\\x00\\x04\\x01\\x00\\x00\\x00\\x00\\x00\\x00\\x80\\x10\\x00\\x00\\x00\\x00\\x00\\x10\\x00\\x00\\x01\\x0c\\x00\\x00\\x02\\x00@\\x02\\x04\\x00\\x10@\\x00\\xa0\\x80\\x00\\x08\\x00\\x00\\x10\\xc1\\x00\\x00\\x00\\x00\\x80\\x00\\x00\\x00\\x00\\x00\\x00\\x80\\x10\\x04@\\x00\\x00\\x00\\x00\\x00\\x00\\x00\\x00\\x00\\x00\\x00\\x00\\x00\\x00\\xb0\\x00 \\x00\\x00\\x10\\x00\\x00@\\x00\\x08\\x00\\x00',\n",
       " 'status': 1}"
      ]
     },
     "execution_count": 86,
     "metadata": {},
     "output_type": "execute_result"
    }
   ],
   "source": [
    "send_tx('loans', 2000*ICX, 'depositAndBorrow', {'_asset': 'bnUSD', '_amount': 500 * ICX}, user1)\n"
   ]
  },
  {
   "cell_type": "code",
   "execution_count": 23,
   "metadata": {},
   "outputs": [
    {
     "name": "stdout",
     "output_type": "stream",
     "text": [
      "------------------------------------------------------------------------------------------------------------------\n",
      "Calling returnAsset, with parameters {'_symbol': 'bnUSD', '_value': 50000000000000000000} on the loans contract.\n",
      "------------------------------------------------------------------------------------------------------------------\n"
     ]
    },
    {
     "name": "stderr",
     "output_type": "stream",
     "text": [
      "Raised JSONRPCException while returning the custom response. Error message: {'code': -32602, 'message': 'Pending transaction'}\n"
     ]
    },
    {
     "name": "stdout",
     "output_type": "stream",
     "text": [
      "Retrying in 1 seconds...\n",
      "************************************************** Status: 1 **************************************************\n",
      "{'scoreAddress': 'cx084e59320817d17dc6e05e4f9a7fe435716aeba9', 'indexed': ['Burn(Address,int)', 'hxe7af5fcfd8dfc67530a01a0e403882687528dfcb'], 'data': ['0x2b5e3af16b1880000']} \n",
      "\n",
      "{'scoreAddress': 'cx084e59320817d17dc6e05e4f9a7fe435716aeba9', 'indexed': ['Transfer(Address,Address,int,bytes)', 'hxe7af5fcfd8dfc67530a01a0e403882687528dfcb', 'hx0000000000000000000000000000000000000000', '0x2b5e3af16b1880000'], 'data': ['0x4e6f6e65']} \n",
      "\n",
      "{'scoreAddress': 'cxfeaee564d1cf035aa61184049badb51639fe7107', 'indexed': ['LoanRepaid(Address,str,int,str)', 'hxe7af5fcfd8dfc67530a01a0e403882687528dfcb', 'bnUSD', '0x2b5e3af16b1880000'], 'data': ['Loan of 50000000000000000000 bnUSD repaid to Balanced.']} \n",
      "\n",
      "{'scoreAddress': 'cx084e59320817d17dc6e05e4f9a7fe435716aeba9', 'indexed': ['OraclePrice(str,str,Address,int)', 'USDICX', 'BandChain', 'cx2780eeb8c800ac9886786baae281c3d23bb832fc'], 'data': ['0x84c5d90848544bb']} \n",
      "\n"
     ]
    },
    {
     "data": {
      "text/plain": [
       "{'txHash': '0x052d7d0ca14322080d9046481b0fce424bf4e69b42af76044e8e791be0645c14',\n",
       " 'blockHeight': 172185,\n",
       " 'blockHash': '0x71580799e364f02a4d24bdda697bd3663dcf7ba6ff163621ab07a6bcb3ad978b',\n",
       " 'txIndex': 1,\n",
       " 'to': 'cxfeaee564d1cf035aa61184049badb51639fe7107',\n",
       " 'stepUsed': 358340,\n",
       " 'stepPrice': 10000000000,\n",
       " 'cumulativeStepUsed': 358340,\n",
       " 'eventLogs': [{'scoreAddress': 'cx084e59320817d17dc6e05e4f9a7fe435716aeba9',\n",
       "   'indexed': ['Burn(Address,int)',\n",
       "    'hxe7af5fcfd8dfc67530a01a0e403882687528dfcb'],\n",
       "   'data': ['0x2b5e3af16b1880000']},\n",
       "  {'scoreAddress': 'cx084e59320817d17dc6e05e4f9a7fe435716aeba9',\n",
       "   'indexed': ['Transfer(Address,Address,int,bytes)',\n",
       "    'hxe7af5fcfd8dfc67530a01a0e403882687528dfcb',\n",
       "    'hx0000000000000000000000000000000000000000',\n",
       "    '0x2b5e3af16b1880000'],\n",
       "   'data': ['0x4e6f6e65']},\n",
       "  {'scoreAddress': 'cxfeaee564d1cf035aa61184049badb51639fe7107',\n",
       "   'indexed': ['LoanRepaid(Address,str,int,str)',\n",
       "    'hxe7af5fcfd8dfc67530a01a0e403882687528dfcb',\n",
       "    'bnUSD',\n",
       "    '0x2b5e3af16b1880000'],\n",
       "   'data': ['Loan of 50000000000000000000 bnUSD repaid to Balanced.']},\n",
       "  {'scoreAddress': 'cx084e59320817d17dc6e05e4f9a7fe435716aeba9',\n",
       "   'indexed': ['OraclePrice(str,str,Address,int)',\n",
       "    'USDICX',\n",
       "    'BandChain',\n",
       "    'cx2780eeb8c800ac9886786baae281c3d23bb832fc'],\n",
       "   'data': ['0x84c5d90848544bb']}],\n",
       " 'logsBloom': b'\\x00\\x00\\x00\\x00\\x00\\x08\\x80\\x00\\x00\\x00\\x00 \\x00\\x00\\x00\\x00@\\x00\\x00\\x00\\x00\\x00\\x00\\x00\\x00\\x00\\x01@\\x00\\x0c\\x00\\x08\\x00\\x00\\x00\\x00\\x00\\x00\\x00\\x00\\x00\\x00\\x00\\x00\\x00\\x00\\x00\\x00\\x00\\x00\\x00\\x00\\x00\\x00\\x00\\x00\\x00\\x00\\x10\\x00\\x00\\x00\\x00  \\x00\\x04\\x00\\x00\\x00\\x00\\x00\\x00\\x00\\x80\\x00\\x00\\x00\\x00\\x04\\x00\\x00\\x00\\x00@\\x00\\x00\\x00\\x00\\x00\\x00\\x08\\x00\\x00\\x00\\x00\\x00\\x00\\x00@\\x00\\x00\\x02\\x00\\x00\\x00\\x00\\x00\\x00\\x00@\\x00\\x00\\x00\\x00\\x00\\x00\\x00\\x00\\x00\\x00\\x00\\x00\\x00\\x00\\x00\\x01\\x00\\x00\\x00 \\x00\\x00\\x80\\x00\\x00\\x00\\x00\\x00\\x00\\x00\\x00\\x00\\x01\\x00\\x00\\x00\\x00\\x00\\x00\\x00\\x00\\x00@\\x00\\x00\\x00\\x10\\x00\\x00\\x00\\x00\\x00\\x00\\x00\\x04\\x08\\x01\\x00\\x00\\x00\\x00\\x00\\x00\\x00\\x00\\x00\\x00\\x00\\x00\\x00\\x00\\x00\\x00\\x10\\x00\\x00\\x01\\x00\\x00\\x00\\x00\\x00\\x00\\x00 \\x00\\x00\\x00\\x00\\x00\\x00\\x00\\x00\\x00\\x00\\x00\\x00\\x00\\x00\\x00\\x00\\x00\\x01\\x00\\x00\\x08\\x02\\x00\\x00\\x00\\x00\\x00\\x00\\x00\\x00\\x00\\x04\\x00\\x00\\x00\\x00\\x00\\x00\\x00\\x00 \\x00\\x00\\x00\\x00\\x00\\x00\\x00\\x00\\x00\\x00\\x00\\x00\\x00\\x00@\\x00\\x00\\x00\\x00',\n",
       " 'status': 1}"
      ]
     },
     "execution_count": 23,
     "metadata": {},
     "output_type": "execute_result"
    }
   ],
   "source": [
    "send_tx('loans', 0, 'returnAsset', {'_symbol': 'bnUSD', '_value': 50 * ICX}, wallet)\n"
   ]
  },
  {
   "cell_type": "code",
   "execution_count": 87,
   "metadata": {},
   "outputs": [
    {
     "name": "stdout",
     "output_type": "stream",
     "text": [
      "User2 tries to retire 10 bnusd\n",
      "------------------------------------------------------------------------------------------------------------------\n",
      "Calling transfer, with parameters {'_to': 'hx7a1824129a8fe803e45a3aae1c0e060399546187', '_value': 20000000000000000000} on the bnUSD contract.\n",
      "------------------------------------------------------------------------------------------------------------------\n"
     ]
    },
    {
     "name": "stderr",
     "output_type": "stream",
     "text": [
      "Raised JSONRPCException while returning the custom response. Error message: {'code': -32602, 'message': 'Pending transaction'}\n"
     ]
    },
    {
     "name": "stdout",
     "output_type": "stream",
     "text": [
      "Retrying in 1 seconds...\n",
      "************************************************** Status: 1 **************************************************\n",
      "{'scoreAddress': 'cx148938451f1aefaf86d8ec292aca09c05da4370f', 'indexed': ['Transfer(Address,Address,int,bytes)', 'hxe62d11fa19a0e8575ad92f06bc8fd42edbfe27db', 'hx7a1824129a8fe803e45a3aae1c0e060399546187', '0x1158e460913d00000'], 'data': ['0x4e6f6e65']} \n",
      "\n",
      "------------------------------------------------------------------------------------------------------------------\n",
      "Calling returnAsset, with parameters {'_symbol': 'bnUSD', '_value': 10000000000000000000} on the loans contract.\n",
      "------------------------------------------------------------------------------------------------------------------\n"
     ]
    },
    {
     "name": "stderr",
     "output_type": "stream",
     "text": [
      "Raised JSONRPCException while returning the custom response. Error message: {'code': -32602, 'message': 'Pending transaction'}\n"
     ]
    },
    {
     "name": "stdout",
     "output_type": "stream",
     "text": [
      "Retrying in 1 seconds...\n",
      "************************************************** Status: 0 **************************************************\n",
      "Failure: {'code': 1, 'message': \"('borrowers_LINKED_LISTDB', 1)\"}\n"
     ]
    },
    {
     "ename": "AssertionError",
     "evalue": "Retired amount is greater than the current maximum allowed",
     "output_type": "error",
     "traceback": [
      "\u001b[0;31m---------------------------------------------------------------------------\u001b[0m",
      "\u001b[0;31mAssertionError\u001b[0m                            Traceback (most recent call last)",
      "\u001b[0;32m<ipython-input-87-145173612a4f>\u001b[0m in \u001b[0;36m<module>\u001b[0;34m\u001b[0m\n\u001b[1;32m     31\u001b[0m     \u001b[0msleep\u001b[0m\u001b[0;34m(\u001b[0m\u001b[0;36m2\u001b[0m\u001b[0;34m)\u001b[0m\u001b[0;34m\u001b[0m\u001b[0;34m\u001b[0m\u001b[0m\n\u001b[1;32m     32\u001b[0m     \u001b[0mres\u001b[0m \u001b[0;34m=\u001b[0m \u001b[0msend_tx\u001b[0m\u001b[0;34m(\u001b[0m\u001b[0;34m'loans'\u001b[0m\u001b[0;34m,\u001b[0m \u001b[0;36m0\u001b[0m \u001b[0;34m,\u001b[0m\u001b[0mmeth2\u001b[0m \u001b[0;34m,\u001b[0m \u001b[0msecond_params\u001b[0m\u001b[0;34m,\u001b[0m \u001b[0muser2\u001b[0m\u001b[0;34m)\u001b[0m\u001b[0;34m\u001b[0m\u001b[0;34m\u001b[0m\u001b[0m\n\u001b[0;32m---> 33\u001b[0;31m     \u001b[0;32massert\u001b[0m \u001b[0mres\u001b[0m\u001b[0;34m[\u001b[0m\u001b[0;34m'status'\u001b[0m\u001b[0;34m]\u001b[0m \u001b[0;34m==\u001b[0m \u001b[0mint\u001b[0m\u001b[0;34m(\u001b[0m\u001b[0mcase\u001b[0m\u001b[0;34m[\u001b[0m\u001b[0;34m'actions'\u001b[0m\u001b[0;34m]\u001b[0m\u001b[0;34m[\u001b[0m\u001b[0;34m'expected_status_result'\u001b[0m\u001b[0;34m]\u001b[0m\u001b[0;34m)\u001b[0m\u001b[0;34m,\u001b[0m \u001b[0;34m'Retired amount is greater than the current maximum allowed'\u001b[0m\u001b[0;34m\u001b[0m\u001b[0;34m\u001b[0m\u001b[0m\n\u001b[0m\u001b[1;32m     34\u001b[0m     \u001b[0mprint\u001b[0m\u001b[0;34m(\u001b[0m\u001b[0;34m'Test case passed'\u001b[0m\u001b[0;34m)\u001b[0m\u001b[0;34m\u001b[0m\u001b[0;34m\u001b[0m\u001b[0m\n",
      "\u001b[0;31mAssertionError\u001b[0m: Retired amount is greater than the current maximum allowed"
     ]
    }
   ],
   "source": [
    "test_cases = {\n",
    "        \"stories\": [\n",
    "            {\n",
    "                \"description\": \"User2 tries to retire 10 bnusd\",\n",
    "                  \"actions\": {\n",
    "                      \"sender\":\"user2\",\n",
    "                      \"first_meth\": \"transfer\",\n",
    "                      \"second_meth\":\"returnAsset\",\n",
    "                      \"deposited_icx\":\"0\",\n",
    "                      \"first_params\":{'_to': user2.get_address(), '_value': 20 * ICX},\n",
    "                      \"second_params\":{\"_symbol\": \"bnUSD\", '_value': 10 * ICX},\n",
    "                      \"expected_status_result\":\"1\"\n",
    "              }\n",
    "            }\n",
    "      ]\n",
    "    }\n",
    "\n",
    "for case in test_cases['stories']:\n",
    "    print(case['description'])\n",
    "    _to = contracts['bnUSD']['SCORE']\n",
    "    meth1 = case['actions']['first_meth']\n",
    "    meth2 = case['actions']['second_meth']\n",
    "    val = int(case['actions']['deposited_icx'])\n",
    "    data1 = case['actions']['first_params']\n",
    "    first_params = {\"_to\": data1['_to'], \"_value\": data1['_value']}\n",
    "\n",
    "    data2 = case['actions']['second_params']\n",
    "    second_params = {'_symbol': data2['_symbol'], '_value': data2['_value']}\n",
    "\n",
    "    send_tx('bnUSD', 0 ,meth1 , first_params, user1)\n",
    "    sleep(2)\n",
    "    res = send_tx('loans', 0 ,meth2 , second_params, user2)\n",
    "    assert res['status'] == int(case['actions']['expected_status_result']), 'Retired amount is greater than the current maximum allowed'\n",
    "    print('Test case passed')"
   ]
  },
  {
   "cell_type": "code",
   "execution_count": null,
   "metadata": {},
   "outputs": [],
   "source": []
  }
 ],
 "metadata": {
  "kernelspec": {
   "display_name": "Python 3",
   "language": "python",
   "name": "python3"
  },
  "language_info": {
   "codemirror_mode": {
    "name": "ipython",
    "version": 3
   },
   "file_extension": ".py",
   "mimetype": "text/x-python",
   "name": "python",
   "nbconvert_exporter": "python",
   "pygments_lexer": "ipython3",
   "version": "3.7.6"
  }
 },
 "nbformat": 4,
 "nbformat_minor": 4
}
