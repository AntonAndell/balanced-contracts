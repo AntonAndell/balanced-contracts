{
 "cells": [
  {
   "cell_type": "code",
   "execution_count": 1,
   "metadata": {},
   "outputs": [],
   "source": [
    "# Cell 0\n",
    "\n",
    "network = \"custom\"  # set this to one of mainnet, yeouido, euljiro, pagoda, or custom\n",
    "\n",
    "connections = {\n",
    "\"mainnet\": {\"iconservice\": \"https://ctz.solidwallet.io\",       \"nid\": 1},\n",
    "\"yeouido\": {\"iconservice\": \"https://bicon.net.solidwallet.io\", \"nid\": 3},\n",
    "\"euljiro\": {\"iconservice\": \"https://test-ctz.solidwallet.io\",  \"nid\": 2},\n",
    "\"pagoda\":  {\"iconservice\": \"https://zicon.net.solidwallet.io\", \"nid\":80},\n",
    "\"custom\":  {\"iconservice\": \"http://18.144.108.38:9000\",        \"nid\": 3}}\n",
    "\n",
    "env = connections[network]"
   ]
  },
  {
   "cell_type": "code",
   "execution_count": 2,
   "metadata": {},
   "outputs": [],
   "source": [
    "# Cell 1\n",
    "\n",
    "from iconsdk.exception import JSONRPCException\n",
    "from iconsdk.libs.in_memory_zip import gen_deploy_data_content\n",
    "from iconsdk.icon_service import IconService\n",
    "from iconsdk.providers.http_provider import HTTPProvider\n",
    "from iconsdk.builder.transaction_builder import CallTransactionBuilder, TransactionBuilder, DeployTransactionBuilder\n",
    "from iconsdk.builder.call_builder import CallBuilder\n",
    "from iconsdk.signed_transaction import SignedTransaction\n",
    "from iconsdk.wallet.wallet import KeyWallet\n",
    "from iconsdk.utils.convert_type import convert_hex_str_to_int\n",
    "from repeater import retry\n",
    "from shutil import make_archive\n",
    "import pickle as pkl\n",
    "from datetime import datetime\n",
    "from time import sleep\n",
    "import json\n",
    "import os\n",
    "\n",
    "ICX = 1000000000000000000 # 10**18\n",
    "GOVERNANCE_ADDRESS = \"cx0000000000000000000000000000000000000000\"\n",
    "ORACLE = \"cx61a36e5d10412e03c907a507d1e8c6c3856d9964\"\n",
    "\n",
    "@retry(JSONRPCException, tries=10, delay=1, back_off=2)\n",
    "def get_tx_result(_tx_hash):\n",
    "    tx_result = icon_service.get_transaction_result(_tx_hash)\n",
    "    return tx_result"
   ]
  },
  {
   "cell_type": "code",
   "execution_count": 3,
   "metadata": {},
   "outputs": [],
   "source": [
    "# Cell 2\n",
    "\n",
    "icon_service = IconService(HTTPProvider(env[\"iconservice\"], 3))\n",
    "NID = env[\"nid\"]"
   ]
  },
  {
   "cell_type": "code",
   "execution_count": 4,
   "metadata": {},
   "outputs": [
    {
     "name": "stdout",
     "output_type": "stream",
     "text": [
      "780851236.8012704\n",
      "4177761.8313104\n"
     ]
    }
   ],
   "source": [
    "# Cell 3\n",
    "\n",
    "wallet = KeyWallet.load(\"../../keystores/keystore_test1.json\", \"test1_Account\")\n",
    "# Balanced test wallet\n",
    "with open(\"../../keystores/balanced_test.pwd\", \"r\") as f:\n",
    "    key_data = f.read()\n",
    "btest_wallet = KeyWallet.load(\"../../keystores/balanced_test.json\", key_data)\n",
    "print(icon_service.get_balance(wallet.get_address())/10**18)\n",
    "print(icon_service.get_balance(btest_wallet.get_address())/10**18)"
   ]
  },
  {
   "cell_type": "code",
   "execution_count": 5,
   "metadata": {},
   "outputs": [
    {
     "name": "stdout",
     "output_type": "stream",
     "text": [
      "hxe7af5fcfd8dfc67530a01a0e403882687528dfcb\n",
      "780851236.8012704\n"
     ]
    }
   ],
   "source": [
    "print(wallet.get_address())\n",
    "print(icon_service.get_balance(wallet.get_address()) / 10**18)"
   ]
  },
  {
   "cell_type": "code",
   "execution_count": 6,
   "metadata": {},
   "outputs": [
    {
     "name": "stdout",
     "output_type": "stream",
     "text": [
      "hx3f01840a599da07b0f620eeae7aa9c574169a4be\n",
      "4177761.8313104\n"
     ]
    }
   ],
   "source": [
    "print(btest_wallet.get_address())\n",
    "print(icon_service.get_balance(btest_wallet.get_address()) / 10**18)"
   ]
  },
  {
   "cell_type": "code",
   "execution_count": 7,
   "metadata": {},
   "outputs": [
    {
     "name": "stdout",
     "output_type": "stream",
     "text": [
      "197999.9138008\n",
      "hxe62d11fa19a0e8575ad92f06bc8fd42edbfe27db\n",
      "208479.8202492\n",
      "hx7a1824129a8fe803e45a3aae1c0e060399546187\n"
     ]
    }
   ],
   "source": [
    "user1 = KeyWallet.load(\"../../keystores/user1.json\",\"HelloWorld@1234\")\n",
    "# btest_wallet = KeyWallet.load(\"./balanced_test.json\",\"HelloWorld@1234\")\n",
    "\n",
    "print(icon_service.get_balance(user1.get_address())/10**18)\n",
    "print(user1.get_address())\n",
    "\n",
    "# test2 = hx7a1824129a8fe803e45a3aae1c0e060399546187\n",
    "private = \"0a354424b20a7e3c55c43808d607bddfac85d033e63d7d093cb9f0a26c4ee022\"\n",
    "user2 = KeyWallet.load(bytes.fromhex(private))\n",
    "print(icon_service.get_balance(user2.get_address())/10**18)\n",
    "print(user2.get_address())"
   ]
  },
  {
   "cell_type": "code",
   "execution_count": 8,
   "metadata": {},
   "outputs": [],
   "source": [
    "# The following addresses are those deployed to the private tbears server.\n",
    "\n",
    "contracts = {'loans': {'zip': 'core_contracts/loans.zip',\n",
    "  'SCORE': 'cxbbd36ca8d91aefbe1060c3be62fed4d1b848ca85'},\n",
    " 'staking': {'zip': 'core_contracts/staking.zip',\n",
    "  'SCORE': 'cxd8e05c1280bc2c32bf53ff61f3bb2e2ecc7d6df5'},\n",
    " 'dividends': {'zip': 'core_contracts/dividends.zip',\n",
    "  'SCORE': 'cx7c617e3fca4ba06b6ad203ce113245ae96a9d91e'},\n",
    " 'reserve': {'zip': 'core_contracts/reserve.zip',\n",
    "  'SCORE': 'cx70cd5c86f0182d5ac0bd224562d929cd968d9132'},\n",
    " 'daofund': {'zip': 'core_contracts/daofund.zip',\n",
    "  'SCORE': 'cxeb91bc377b0620356787d9c9eb68152eb0c62d8a'},\n",
    " 'rewards': {'zip': 'core_contracts/rewards.zip',\n",
    "  'SCORE': 'cxfd7511ece084744154fed19dc34732681ad078e6'},\n",
    " 'dex': {'zip': 'core_contracts/dex.zip',\n",
    "  'SCORE': 'cx9a3161c778eee2d5758371d3548c5599f76704ec'},\n",
    " 'governance': {'zip': 'core_contracts/governance.zip',\n",
    "  'SCORE': 'cx238cd1a1e3a9702d6c9c6dc130719472164db376'},\n",
    " 'oracle': {'zip': 'core_contracts/oracle.zip',\n",
    "  'SCORE': 'cx2780eeb8c800ac9886786baae281c3d23bb832fc'},\n",
    " 'sicx': {'zip': 'token_contracts/sicx.zip',\n",
    "  'SCORE': 'cxcff8bf80ab213fa9bbb350636a4d68f5cb4fd9c1'},\n",
    " 'bnUSD': {'zip': 'token_contracts/bnUSD.zip',\n",
    "  'SCORE': 'cx4c1beaa71b9377100c810c46059ddf5f3da37602'},\n",
    " 'baln': {'zip': 'token_contracts/baln.zip',\n",
    "  'SCORE': 'cx3825a86d52c5baf188ff29aa6a7fc2467e285885'},\n",
    " 'bwt': {'zip': 'token_contracts/bwt.zip',\n",
    "  'SCORE': 'cx140b49ea041457ebc4cd5e199f5723916bb50021'}}"
   ]
  },
  {
   "cell_type": "code",
   "execution_count": 9,
   "metadata": {},
   "outputs": [],
   "source": [
    "# Cell 6\n",
    "# Define deploy and send_tx functions\n",
    "\n",
    "def compress():\n",
    "    \"\"\"\n",
    "    Compress all SCORE folders in the core_contracts and toekn_contracts folders\n",
    "    \"\"\"\n",
    "    deploy = list(contracts.keys())[:]\n",
    "    for directory in {\"../../core_contracts\", \"../../token_contracts\"}:\n",
    "        with os.scandir(directory) as it:\n",
    "            for file in it:\n",
    "                archive_name = directory + \"/\" + file.name\n",
    "                if file.is_dir() and file.name in deploy:\n",
    "                    make_archive(archive_name, \"zip\", directory, file.name)\n",
    "                    contracts[file.name]['zip'] = archive_name + '.zip'\n",
    "\n",
    "def deploy_SCORE(contract, params, wallet, update) -> str:\n",
    "    \"\"\"\n",
    "    contract is of form {'zip': 'core_contracts/governance.zip', 'SCORE': 'cx1d81f93b3b8d8d2a6455681c46128868782ddd09'}\n",
    "    params is a dicts\n",
    "    wallet is a wallet file\n",
    "    update is boolian\n",
    "    \"\"\"\n",
    "    print(f'{contract[\"zip\"]}')\n",
    "    if update:\n",
    "        dest = contract['SCORE']\n",
    "    else:\n",
    "        dest = GOVERNANCE_ADDRESS\n",
    "    zip_file = contract['zip']\n",
    "    step_limit = 4000100000\n",
    "    deploy_transaction = DeployTransactionBuilder()\\\n",
    "        .from_(wallet.get_address())\\\n",
    "        .to(dest)\\\n",
    "        .nid(NID)\\\n",
    "        .nonce(100)\\\n",
    "        .content_type(\"application/zip\")\\\n",
    "        .content(gen_deploy_data_content(zip_file))\\\n",
    "        .params(params)\\\n",
    "        .build()\n",
    "\n",
    "    signed_transaction = SignedTransaction(deploy_transaction, wallet, step_limit)\n",
    "    tx_hash = icon_service.send_transaction(signed_transaction)\n",
    "\n",
    "    res = get_tx_result(tx_hash)\n",
    "    print(f'Status: {res[\"status\"]}')\n",
    "    if len(res[\"eventLogs\"]) > 0:\n",
    "        for item in res[\"eventLogs\"]:\n",
    "            print(f'{item} \\n')\n",
    "    if res['status'] == 0:\n",
    "        print(f'Failure: {res[\"failure\"]}')\n",
    "    print('')\n",
    "    return res.get('scoreAddress', '')\n",
    "\n",
    "def send_tx(dest, value, method, params, wallet):\n",
    "    \"\"\"\n",
    "    dest is the name of the destination contract.\n",
    "    \"\"\"\n",
    "    print('------------------------------------------------------------------------------------------------------------------')\n",
    "    print(f'Calling {method}, with parameters {params} on the {dest} contract.')\n",
    "    print('------------------------------------------------------------------------------------------------------------------')\n",
    "    transaction = CallTransactionBuilder()\\\n",
    "        .from_(wallet.get_address())\\\n",
    "        .to(contracts[dest]['SCORE'])\\\n",
    "        .value(value)\\\n",
    "        .step_limit(10000000)\\\n",
    "        .nid(NID)\\\n",
    "        .nonce(100)\\\n",
    "        .method(method)\\\n",
    "        .params(params)\\\n",
    "        .build()\n",
    "    signed_transaction = SignedTransaction(transaction, wallet)\n",
    "    tx_hash = icon_service.send_transaction(signed_transaction)\n",
    "\n",
    "    res = get_tx_result(tx_hash)\n",
    "    print(f'************************************************** Status: {res[\"status\"]} **************************************************')\n",
    "    if len(res[\"eventLogs\"]) > 0:\n",
    "        for item in res[\"eventLogs\"]:\n",
    "            print(f'{item} \\n')\n",
    "    if res['status'] == 0:\n",
    "        print(f'Failure: {res[\"failure\"]}')\n",
    "    return res\n",
    "\n",
    "def deploy_all(wallet):\n",
    "    \"\"\"\n",
    "    Compress, Deploy and Configure all SCOREs\n",
    "    \"\"\"\n",
    "    compress()\n",
    "\n",
    "    deploy = list(contracts.keys())[:]\n",
    "    deploy.remove('oracle')\n",
    "    deploy.remove('staking')\n",
    "    deploy.remove('sicx')\n",
    "    deploy.remove('governance')\n",
    "\n",
    "    governance = deploy_SCORE(contracts['governance'], {}, wallet, 0)\n",
    "    contracts['governance']['SCORE'] = governance\n",
    "    for score in deploy:\n",
    "        contracts[score]['SCORE'] = deploy_SCORE(contracts[score], {'_governance': governance}, wallet, 0)\n",
    "    contracts['staking']['SCORE'] = deploy_SCORE(contracts['staking'], {}, wallet, 0)\n",
    "    contracts['sicx']['SCORE'] = deploy_SCORE(contracts['sicx'], {'_admin': contracts['staking']['SCORE']}, wallet, 0)\n",
    "\n",
    "    config = list(contracts.keys())[:]\n",
    "    config.remove('governance')\n",
    "    addresses = {contract: contracts[contract]['SCORE'] for contract in config}\n",
    "\n",
    "    txns = [{'contract': 'staking', 'value': 0, 'method': 'setSicxAddress', 'params': {'_address': contracts['sicx']['SCORE']}},\n",
    "            {'contract': 'governance', 'value': 0, 'method': 'setAddresses', 'params': {'_addresses': addresses}},\n",
    "            {'contract': 'governance', 'value': 0, 'method': 'launchBalanced', 'params': {}}]\n",
    "\n",
    "    for tx in txns:\n",
    "        res = send_tx(tx[\"contract\"], tx[\"value\"], tx[\"method\"], tx[\"params\"], wallet)\n",
    "        results[f'{tx[\"contract\"]}|{tx[\"method\"]}|{tx[\"params\"]}'] = res\n",
    "\n",
    "def get_scores_json(contracts):\n",
    "    \"\"\"\n",
    "    Prints out dictionary of SCORE addresses for use in testing UI.\n",
    "    \"\"\"\n",
    "    scores = {}\n",
    "    for score in contracts:\n",
    "        scores[score] = contracts[score]['SCORE']\n",
    "    return json.dumps(scores)\n",
    "\n",
    "def call_tx(dest: str, method: str, params: dict = {}):\n",
    "    \"\"\"\n",
    "    dest is the name of the destination contract.\n",
    "    \"\"\"\n",
    "    print('------------------------------------------------------------------------------------------------------------------')\n",
    "    print(f'Reading {method}, with parameters {params} on the {dest} contract.')\n",
    "    print('------------------------------------------------------------------------------------------------------------------')\n",
    "    call = CallBuilder()\\\n",
    "        .from_(wallet.get_address())\\\n",
    "        .to(contracts[dest]['SCORE'])\\\n",
    "        .method(method)\\\n",
    "        .params(params)\\\n",
    "        .build()\n",
    "    print(icon_service.call(call))\n",
    "    return icon_service.call(call)\n"
   ]
  },
  {
   "cell_type": "code",
   "execution_count": 10,
   "metadata": {},
   "outputs": [
    {
     "name": "stdout",
     "output_type": "stream",
     "text": [
      "../../core_contracts/governance.zip\n",
      "Status: 1\n",
      "\n",
      "../../core_contracts/loans.zip\n",
      "Status: 1\n",
      "\n",
      "../../core_contracts/dividends.zip\n"
     ]
    },
    {
     "name": "stderr",
     "output_type": "stream",
     "text": [
      "Raised JSONRPCException while returning the custom response. Error message: {'code': -32602, 'message': 'Pending transaction'}\n"
     ]
    },
    {
     "name": "stdout",
     "output_type": "stream",
     "text": [
      "Retrying in 1 seconds...\n",
      "Status: 1\n",
      "\n",
      "../../core_contracts/reserve.zip\n"
     ]
    },
    {
     "name": "stderr",
     "output_type": "stream",
     "text": [
      "Raised JSONRPCException while returning the custom response. Error message: {'code': -32602, 'message': 'Pending transaction'}\n"
     ]
    },
    {
     "name": "stdout",
     "output_type": "stream",
     "text": [
      "Retrying in 1 seconds...\n",
      "Status: 1\n",
      "\n",
      "../../core_contracts/daofund.zip\n"
     ]
    },
    {
     "name": "stderr",
     "output_type": "stream",
     "text": [
      "Raised JSONRPCException while returning the custom response. Error message: {'code': -32602, 'message': 'Pending transaction'}\n"
     ]
    },
    {
     "name": "stdout",
     "output_type": "stream",
     "text": [
      "Retrying in 1 seconds...\n",
      "Status: 1\n",
      "\n",
      "../../core_contracts/rewards.zip\n"
     ]
    },
    {
     "name": "stderr",
     "output_type": "stream",
     "text": [
      "Raised JSONRPCException while returning the custom response. Error message: {'code': -32602, 'message': 'Pending transaction'}\n"
     ]
    },
    {
     "name": "stdout",
     "output_type": "stream",
     "text": [
      "Retrying in 1 seconds...\n",
      "Status: 1\n",
      "\n",
      "../../core_contracts/dex.zip\n",
      "Status: 1\n",
      "\n",
      "../../token_contracts/bnUSD.zip\n"
     ]
    },
    {
     "name": "stderr",
     "output_type": "stream",
     "text": [
      "Raised JSONRPCException while returning the custom response. Error message: {'code': -32602, 'message': 'Pending transaction'}\n"
     ]
    },
    {
     "name": "stdout",
     "output_type": "stream",
     "text": [
      "Retrying in 1 seconds...\n",
      "Status: 1\n",
      "\n",
      "../../token_contracts/baln.zip\n"
     ]
    },
    {
     "name": "stderr",
     "output_type": "stream",
     "text": [
      "Raised JSONRPCException while returning the custom response. Error message: {'code': -32602, 'message': 'Pending transaction'}\n"
     ]
    },
    {
     "name": "stdout",
     "output_type": "stream",
     "text": [
      "Retrying in 1 seconds...\n",
      "Status: 1\n",
      "\n",
      "../../token_contracts/bwt.zip\n",
      "Status: 1\n",
      "\n",
      "../../core_contracts/staking.zip\n",
      "Status: 1\n",
      "\n",
      "../../token_contracts/sicx.zip\n"
     ]
    },
    {
     "name": "stderr",
     "output_type": "stream",
     "text": [
      "Raised JSONRPCException while returning the custom response. Error message: {'code': -32602, 'message': 'Pending transaction'}\n"
     ]
    },
    {
     "name": "stdout",
     "output_type": "stream",
     "text": [
      "Retrying in 1 seconds...\n",
      "Status: 1\n",
      "\n",
      "------------------------------------------------------------------------------------------------------------------\n",
      "Calling setSicxAddress, with parameters {'_address': 'cxb2d986916fe48a424554526baf61c0451222a067'} on the staking contract.\n",
      "------------------------------------------------------------------------------------------------------------------\n",
      "************************************************** Status: 1 **************************************************\n",
      "------------------------------------------------------------------------------------------------------------------\n",
      "Calling setAddresses, with parameters {'_addresses': {'loans': 'cx66f9f3b797d345e9d1001d7214a3040615db6ca1', 'staking': 'cx252d78d074053dc19652aa25ad659824fdc31d7e', 'dividends': 'cxfa5b615097d9ad7b52ea10734c70f4b4a636ff1a', 'reserve': 'cx937a4d5f5cc89d3028e91f2ef44355ed7c54357c', 'daofund': 'cxc567be9276434f34d285b671e7c9360e63ac2746', 'rewards': 'cx593e188212e9c29fa04473d9af4ffe5f1e9d69fa', 'dex': 'cxafc8e3706f5fafdcb2103013249f25ccd2ddee44', 'oracle': 'cx2780eeb8c800ac9886786baae281c3d23bb832fc', 'sicx': 'cxb2d986916fe48a424554526baf61c0451222a067', 'bnUSD': 'cxbc78363e6ef2cf4bd5a5ac1951a4cec4764f15c6', 'baln': 'cx9838e705d3b4d381f86b71e3b429abeb3e44b1d3', 'bwt': 'cx2cfd11933d9b7c9e595e68cd994bcafb52111d01'}} on the governance contract.\n",
      "------------------------------------------------------------------------------------------------------------------\n"
     ]
    },
    {
     "name": "stderr",
     "output_type": "stream",
     "text": [
      "Raised JSONRPCException while returning the custom response. Error message: {'code': -32602, 'message': 'Pending transaction'}\n"
     ]
    },
    {
     "name": "stdout",
     "output_type": "stream",
     "text": [
      "Retrying in 1 seconds...\n",
      "************************************************** Status: 1 **************************************************\n",
      "------------------------------------------------------------------------------------------------------------------\n",
      "Calling launchBalanced, with parameters {} on the governance contract.\n",
      "------------------------------------------------------------------------------------------------------------------\n",
      "************************************************** Status: 1 **************************************************\n",
      "{'scoreAddress': 'cx66f9f3b797d345e9d1001d7214a3040615db6ca1', 'indexed': ['AssetAdded(Address,str,bool)', 'cxb2d986916fe48a424554526baf61c0451222a067', 'sICX', '0x1'], 'data': []} \n",
      "\n",
      "{'scoreAddress': 'cx66f9f3b797d345e9d1001d7214a3040615db6ca1', 'indexed': ['AssetAdded(Address,str,bool)', 'cxbc78363e6ef2cf4bd5a5ac1951a4cec4764f15c6', 'bnUSD', '0x0'], 'data': []} \n",
      "\n",
      "{'scoreAddress': 'cx66f9f3b797d345e9d1001d7214a3040615db6ca1', 'indexed': ['AssetAdded(Address,str,bool)', 'cx9838e705d3b4d381f86b71e3b429abeb3e44b1d3', 'BALN', '0x1'], 'data': []} \n",
      "\n",
      "{'scoreAddress': 'cx66f9f3b797d345e9d1001d7214a3040615db6ca1', 'indexed': ['ContractActive(str,str)', 'Loans'], 'data': ['Active']} \n",
      "\n",
      "------------------------------------------------------------------------------------------------------------------\n",
      "{'loans': {'zip': '../../core_contracts/loans.zip', 'SCORE': 'cx66f9f3b797d345e9d1001d7214a3040615db6ca1'}, 'staking': {'zip': '../../core_contracts/staking.zip', 'SCORE': 'cx252d78d074053dc19652aa25ad659824fdc31d7e'}, 'dividends': {'zip': '../../core_contracts/dividends.zip', 'SCORE': 'cxfa5b615097d9ad7b52ea10734c70f4b4a636ff1a'}, 'reserve': {'zip': '../../core_contracts/reserve.zip', 'SCORE': 'cx937a4d5f5cc89d3028e91f2ef44355ed7c54357c'}, 'daofund': {'zip': '../../core_contracts/daofund.zip', 'SCORE': 'cxc567be9276434f34d285b671e7c9360e63ac2746'}, 'rewards': {'zip': '../../core_contracts/rewards.zip', 'SCORE': 'cx593e188212e9c29fa04473d9af4ffe5f1e9d69fa'}, 'dex': {'zip': '../../core_contracts/dex.zip', 'SCORE': 'cxafc8e3706f5fafdcb2103013249f25ccd2ddee44'}, 'governance': {'zip': '../../core_contracts/governance.zip', 'SCORE': 'cx1356633adedaab940853cd87450c70472ffb30e7'}, 'oracle': {'zip': '../../core_contracts/oracle.zip', 'SCORE': 'cx2780eeb8c800ac9886786baae281c3d23bb832fc'}, 'sicx': {'zip': '../../token_contracts/sicx.zip', 'SCORE': 'cxb2d986916fe48a424554526baf61c0451222a067'}, 'bnUSD': {'zip': '../../token_contracts/bnUSD.zip', 'SCORE': 'cxbc78363e6ef2cf4bd5a5ac1951a4cec4764f15c6'}, 'baln': {'zip': '../../token_contracts/baln.zip', 'SCORE': 'cx9838e705d3b4d381f86b71e3b429abeb3e44b1d3'}, 'bwt': {'zip': '../../token_contracts/bwt.zip', 'SCORE': 'cx2cfd11933d9b7c9e595e68cd994bcafb52111d01'}}\n",
      "{\"loans\": \"cx66f9f3b797d345e9d1001d7214a3040615db6ca1\", \"staking\": \"cx252d78d074053dc19652aa25ad659824fdc31d7e\", \"dividends\": \"cxfa5b615097d9ad7b52ea10734c70f4b4a636ff1a\", \"reserve\": \"cx937a4d5f5cc89d3028e91f2ef44355ed7c54357c\", \"daofund\": \"cxc567be9276434f34d285b671e7c9360e63ac2746\", \"rewards\": \"cx593e188212e9c29fa04473d9af4ffe5f1e9d69fa\", \"dex\": \"cxafc8e3706f5fafdcb2103013249f25ccd2ddee44\", \"governance\": \"cx1356633adedaab940853cd87450c70472ffb30e7\", \"oracle\": \"cx2780eeb8c800ac9886786baae281c3d23bb832fc\", \"sicx\": \"cxb2d986916fe48a424554526baf61c0451222a067\", \"bnUSD\": \"cxbc78363e6ef2cf4bd5a5ac1951a4cec4764f15c6\", \"baln\": \"cx9838e705d3b4d381f86b71e3b429abeb3e44b1d3\", \"bwt\": \"cx2cfd11933d9b7c9e595e68cd994bcafb52111d01\"}\n"
     ]
    }
   ],
   "source": [
    "# Cell 7\n",
    "# Deploy and configure Balanced. Print results if anything goes wrong.\n",
    "\n",
    "results = {}\n",
    "deploy_all(btest_wallet)\n",
    "print('------------------------------------------------------------------------------------------------------------------')\n",
    "print(contracts)\n",
    "print(get_scores_json(contracts))"
   ]
  },
  {
   "cell_type": "code",
   "execution_count": 35,
   "metadata": {},
   "outputs": [
    {
     "name": "stdout",
     "output_type": "stream",
     "text": [
      "../../core_contracts/loans.zip\n"
     ]
    },
    {
     "name": "stderr",
     "output_type": "stream",
     "text": [
      "Raised JSONRPCException while returning the custom response. Error message: {'code': -32602, 'message': 'Pending transaction'}\n"
     ]
    },
    {
     "name": "stdout",
     "output_type": "stream",
     "text": [
      "Retrying in 1 seconds...\n",
      "Status: 1\n",
      "\n"
     ]
    },
    {
     "data": {
      "text/plain": [
       "'cx66f9f3b797d345e9d1001d7214a3040615db6ca1'"
      ]
     },
     "execution_count": 35,
     "metadata": {},
     "output_type": "execute_result"
    }
   ],
   "source": [
    "# Cell 8\n",
    "# Deploy or Update a single SCORE\n",
    "\n",
    "compress()\n",
    "update = 1\n",
    "contract = contracts['loans']\n",
    "params = {}\n",
    "# params = {'_governance': contracts['governance']['SCORE']}\n",
    "deploy_SCORE(contract, params, btest_wallet, update)"
   ]
  },
  {
   "cell_type": "code",
   "execution_count": 13,
   "metadata": {},
   "outputs": [
    {
     "name": "stdout",
     "output_type": "stream",
     "text": [
      "------------------------------------------------------------------------------------------------------------------\n",
      "Calling toggleStakingOn, with parameters {} on the staking contract.\n",
      "------------------------------------------------------------------------------------------------------------------\n"
     ]
    },
    {
     "name": "stderr",
     "output_type": "stream",
     "text": [
      "Raised JSONRPCException while returning the custom response. Error message: {'code': -32602, 'message': 'Pending transaction'}\n"
     ]
    },
    {
     "name": "stdout",
     "output_type": "stream",
     "text": [
      "Retrying in 1 seconds...\n",
      "************************************************** Status: 1 **************************************************\n"
     ]
    },
    {
     "data": {
      "text/plain": [
       "{'txHash': '0x939d5513bd46fe7fd360ee005a34fbf3b701f344cc6bb6495bf55e4d21ae7e59',\n",
       " 'blockHeight': 252001,\n",
       " 'blockHash': '0x500fff76ea0de9c74cda447915ab5ffa96300d29485e3cd7e9e589eebd56e595',\n",
       " 'txIndex': 1,\n",
       " 'to': 'cx252d78d074053dc19652aa25ad659824fdc31d7e',\n",
       " 'stepUsed': 130680,\n",
       " 'stepPrice': 10000000000,\n",
       " 'cumulativeStepUsed': 130680,\n",
       " 'eventLogs': [],\n",
       " 'logsBloom': b'\\x00\\x00\\x00\\x00\\x00\\x00\\x00\\x00\\x00\\x00\\x00\\x00\\x00\\x00\\x00\\x00\\x00\\x00\\x00\\x00\\x00\\x00\\x00\\x00\\x00\\x00\\x00\\x00\\x00\\x00\\x00\\x00\\x00\\x00\\x00\\x00\\x00\\x00\\x00\\x00\\x00\\x00\\x00\\x00\\x00\\x00\\x00\\x00\\x00\\x00\\x00\\x00\\x00\\x00\\x00\\x00\\x00\\x00\\x00\\x00\\x00\\x00\\x00\\x00\\x00\\x00\\x00\\x00\\x00\\x00\\x00\\x00\\x00\\x00\\x00\\x00\\x00\\x00\\x00\\x00\\x00\\x00\\x00\\x00\\x00\\x00\\x00\\x00\\x00\\x00\\x00\\x00\\x00\\x00\\x00\\x00\\x00\\x00\\x00\\x00\\x00\\x00\\x00\\x00\\x00\\x00\\x00\\x00\\x00\\x00\\x00\\x00\\x00\\x00\\x00\\x00\\x00\\x00\\x00\\x00\\x00\\x00\\x00\\x00\\x00\\x00\\x00\\x00\\x00\\x00\\x00\\x00\\x00\\x00\\x00\\x00\\x00\\x00\\x00\\x00\\x00\\x00\\x00\\x00\\x00\\x00\\x00\\x00\\x00\\x00\\x00\\x00\\x00\\x00\\x00\\x00\\x00\\x00\\x00\\x00\\x00\\x00\\x00\\x00\\x00\\x00\\x00\\x00\\x00\\x00\\x00\\x00\\x00\\x00\\x00\\x00\\x00\\x00\\x00\\x00\\x00\\x00\\x00\\x00\\x00\\x00\\x00\\x00\\x00\\x00\\x00\\x00\\x00\\x00\\x00\\x00\\x00\\x00\\x00\\x00\\x00\\x00\\x00\\x00\\x00\\x00\\x00\\x00\\x00\\x00\\x00\\x00\\x00\\x00\\x00\\x00\\x00\\x00\\x00\\x00\\x00\\x00\\x00\\x00\\x00\\x00\\x00\\x00\\x00\\x00\\x00\\x00\\x00\\x00\\x00\\x00\\x00\\x00\\x00\\x00\\x00\\x00\\x00\\x00\\x00\\x00\\x00\\x00\\x00\\x00\\x00\\x00\\x00\\x00\\x00\\x00',\n",
       " 'status': 1}"
      ]
     },
     "execution_count": 13,
     "metadata": {},
     "output_type": "execute_result"
    }
   ],
   "source": [
    "send_tx('staking', 0, 'toggleStakingOn', {}, btest_wallet)\n"
   ]
  },
  {
   "cell_type": "code",
   "execution_count": 14,
   "metadata": {},
   "outputs": [
    {
     "name": "stdout",
     "output_type": "stream",
     "text": [
      "------------------------------------------------------------------------------------------------------------------\n",
      "Calling balanceToggleStakingEnabled, with parameters {} on the governance contract.\n",
      "------------------------------------------------------------------------------------------------------------------\n"
     ]
    },
    {
     "name": "stderr",
     "output_type": "stream",
     "text": [
      "Raised JSONRPCException while returning the custom response. Error message: {'code': -32602, 'message': 'Pending transaction'}\n"
     ]
    },
    {
     "name": "stdout",
     "output_type": "stream",
     "text": [
      "Retrying in 1 seconds...\n",
      "************************************************** Status: 1 **************************************************\n"
     ]
    },
    {
     "data": {
      "text/plain": [
       "{'txHash': '0x5e9675035478e23b1fd7134e891fd519ba0b40db929c7135fcee736327cfaa27',\n",
       " 'blockHeight': 252003,\n",
       " 'blockHash': '0xe957d4c1d210e0bc17a0fd946f627d0d04618f535980b5731fc163b556530e09',\n",
       " 'txIndex': 1,\n",
       " 'to': 'cx1356633adedaab940853cd87450c70472ffb30e7',\n",
       " 'stepUsed': 158080,\n",
       " 'stepPrice': 10000000000,\n",
       " 'cumulativeStepUsed': 158080,\n",
       " 'eventLogs': [],\n",
       " 'logsBloom': b'\\x00\\x00\\x00\\x00\\x00\\x00\\x00\\x00\\x00\\x00\\x00\\x00\\x00\\x00\\x00\\x00\\x00\\x00\\x00\\x00\\x00\\x00\\x00\\x00\\x00\\x00\\x00\\x00\\x00\\x00\\x00\\x00\\x00\\x00\\x00\\x00\\x00\\x00\\x00\\x00\\x00\\x00\\x00\\x00\\x00\\x00\\x00\\x00\\x00\\x00\\x00\\x00\\x00\\x00\\x00\\x00\\x00\\x00\\x00\\x00\\x00\\x00\\x00\\x00\\x00\\x00\\x00\\x00\\x00\\x00\\x00\\x00\\x00\\x00\\x00\\x00\\x00\\x00\\x00\\x00\\x00\\x00\\x00\\x00\\x00\\x00\\x00\\x00\\x00\\x00\\x00\\x00\\x00\\x00\\x00\\x00\\x00\\x00\\x00\\x00\\x00\\x00\\x00\\x00\\x00\\x00\\x00\\x00\\x00\\x00\\x00\\x00\\x00\\x00\\x00\\x00\\x00\\x00\\x00\\x00\\x00\\x00\\x00\\x00\\x00\\x00\\x00\\x00\\x00\\x00\\x00\\x00\\x00\\x00\\x00\\x00\\x00\\x00\\x00\\x00\\x00\\x00\\x00\\x00\\x00\\x00\\x00\\x00\\x00\\x00\\x00\\x00\\x00\\x00\\x00\\x00\\x00\\x00\\x00\\x00\\x00\\x00\\x00\\x00\\x00\\x00\\x00\\x00\\x00\\x00\\x00\\x00\\x00\\x00\\x00\\x00\\x00\\x00\\x00\\x00\\x00\\x00\\x00\\x00\\x00\\x00\\x00\\x00\\x00\\x00\\x00\\x00\\x00\\x00\\x00\\x00\\x00\\x00\\x00\\x00\\x00\\x00\\x00\\x00\\x00\\x00\\x00\\x00\\x00\\x00\\x00\\x00\\x00\\x00\\x00\\x00\\x00\\x00\\x00\\x00\\x00\\x00\\x00\\x00\\x00\\x00\\x00\\x00\\x00\\x00\\x00\\x00\\x00\\x00\\x00\\x00\\x00\\x00\\x00\\x00\\x00\\x00\\x00\\x00\\x00\\x00\\x00\\x00\\x00\\x00\\x00\\x00\\x00\\x00\\x00\\x00',\n",
       " 'status': 1}"
      ]
     },
     "execution_count": 14,
     "metadata": {},
     "output_type": "execute_result"
    }
   ],
   "source": [
    "send_tx('governance', 0, 'balanceToggleStakingEnabled', {}, btest_wallet)\n"
   ]
  },
  {
   "cell_type": "code",
   "execution_count": 37,
   "metadata": {},
   "outputs": [
    {
     "name": "stdout",
     "output_type": "stream",
     "text": [
      "------------------------------------------------------------------------------------------------------------------\n",
      "Reading getAccountPositions, with parameters {'_owner': 'hxe62d11fa19a0e8575ad92f06bc8fd42edbfe27db'} on the loans contract.\n",
      "------------------------------------------------------------------------------------------------------------------\n",
      "{'pos_id': '0x1', 'created': '0x5c09c14d5dc54', 'address': 'hxe62d11fa19a0e8575ad92f06bc8fd42edbfe27db', 'snap_id': '0x1', 'snaps_length': '0x1', 'last_snap': '0x1', 'first day': '0x1', 'assets': {'sICX': '0x6c6b935b8bbd400000', 'bnUSD': '0x1b6048686534440000'}, 'total_debt': '0x105ea492156ae494e3', 'collateral': '0x6c6b935b8bbd400000', 'ratio': '0x5bea6d271685b702', 'standing': 'Mining'}\n",
      "------------------------------------------------------------------------------------------------------------------\n",
      "Reading getAccountPositions, with parameters {'_owner': 'hx7a1824129a8fe803e45a3aae1c0e060399546187'} on the loans contract.\n",
      "------------------------------------------------------------------------------------------------------------------\n",
      "{'message': 'That address has no outstanding loans or deposited collateral.'}\n"
     ]
    },
    {
     "data": {
      "text/plain": [
       "{'message': 'That address has no outstanding loans or deposited collateral.'}"
      ]
     },
     "execution_count": 37,
     "metadata": {},
     "output_type": "execute_result"
    }
   ],
   "source": [
    "# 1.no bad debt for asset, retired from account user2 without a position on Balanced.\n",
    "call_tx('loans', 'getAccountPositions', {'_owner': user1.get_address()})\n",
    "call_tx('loans', 'getAccountPositions', {'_owner': user2.get_address()})\n"
   ]
  },
  {
   "cell_type": "code",
   "execution_count": 18,
   "metadata": {},
   "outputs": [
    {
     "name": "stdout",
     "output_type": "stream",
     "text": [
      "------------------------------------------------------------------------------------------------------------------\n",
      "Reading getMaxRetireAmount, with parameters {'_symbol': 'bnUSD'} on the loans contract.\n",
      "------------------------------------------------------------------------------------------------------------------\n",
      "0x466f5c62c9356d58\n"
     ]
    },
    {
     "data": {
      "text/plain": [
       "'0x466f5c62c9356d58'"
      ]
     },
     "execution_count": 18,
     "metadata": {},
     "output_type": "execute_result"
    }
   ],
   "source": [
    "call_tx('loans', 'getMaxRetireAmount', {'_symbol': 'bnUSD'})\n"
   ]
  },
  {
   "cell_type": "code",
   "execution_count": 16,
   "metadata": {},
   "outputs": [
    {
     "name": "stdout",
     "output_type": "stream",
     "text": [
      "------------------------------------------------------------------------------------------------------------------\n",
      "Calling depositAndBorrow, with parameters {'_asset': 'bnUSD', '_amount': 500000000000000000000} on the loans contract.\n",
      "------------------------------------------------------------------------------------------------------------------\n",
      "************************************************** Status: 1 **************************************************\n",
      "{'scoreAddress': 'cx66f9f3b797d345e9d1001d7214a3040615db6ca1', 'indexed': ['ICXTransfer(Address,Address,int)', 'cx66f9f3b797d345e9d1001d7214a3040615db6ca1', 'cx252d78d074053dc19652aa25ad659824fdc31d7e', '0x6c6b935b8bbd400000'], 'data': []} \n",
      "\n",
      "{'scoreAddress': 'cxb2d986916fe48a424554526baf61c0451222a067', 'indexed': ['Mint(Address,int,bytes)', 'cx66f9f3b797d345e9d1001d7214a3040615db6ca1'], 'data': ['0x6c6b935b8bbd400000', '0x4e6f6e65']} \n",
      "\n",
      "{'scoreAddress': 'cxb2d986916fe48a424554526baf61c0451222a067', 'indexed': ['Transfer(Address,Address,int,bytes)', 'hx0000000000000000000000000000000000000000', 'cx66f9f3b797d345e9d1001d7214a3040615db6ca1', '0x6c6b935b8bbd400000'], 'data': ['0x4e6f6e65']} \n",
      "\n",
      "{'scoreAddress': 'cx252d78d074053dc19652aa25ad659824fdc31d7e', 'indexed': ['TokenTransfer(Address,int,str)', 'cx66f9f3b797d345e9d1001d7214a3040615db6ca1', '0x6c6b935b8bbd400000'], 'data': ['2000 sICX minted to cx66f9f3b797d345e9d1001d7214a3040615db6ca1']} \n",
      "\n",
      "{'scoreAddress': 'cx66f9f3b797d345e9d1001d7214a3040615db6ca1', 'indexed': ['CollateralReceived(Address,str,int)', 'hxe62d11fa19a0e8575ad92f06bc8fd42edbfe27db', 'sICX'], 'data': ['0x6c6b935b8bbd400000']} \n",
      "\n",
      "{'scoreAddress': 'cxbc78363e6ef2cf4bd5a5ac1951a4cec4764f15c6', 'indexed': ['OraclePrice(str,str,Address,int)', 'USDICX', 'BandChain', 'cx2780eeb8c800ac9886786baae281c3d23bb832fc'], 'data': ['0x84c5d90848544bb']} \n",
      "\n",
      "{'scoreAddress': 'cx66f9f3b797d345e9d1001d7214a3040615db6ca1', 'indexed': ['OriginateLoan(Address,str,int,str)', 'hxe62d11fa19a0e8575ad92f06bc8fd42edbfe27db', 'bnUSD', '0x1b1ae4d6e2ef500000'], 'data': ['Loan of 500000000000000000000 bnUSD from Balanced.']} \n",
      "\n",
      "{'scoreAddress': 'cxbc78363e6ef2cf4bd5a5ac1951a4cec4764f15c6', 'indexed': ['Mint(Address,int,bytes)', 'hxe62d11fa19a0e8575ad92f06bc8fd42edbfe27db'], 'data': ['0x1b1ae4d6e2ef500000', '0x4e6f6e65']} \n",
      "\n",
      "{'scoreAddress': 'cxbc78363e6ef2cf4bd5a5ac1951a4cec4764f15c6', 'indexed': ['Transfer(Address,Address,int,bytes)', 'hx0000000000000000000000000000000000000000', 'hxe62d11fa19a0e8575ad92f06bc8fd42edbfe27db', '0x1b1ae4d6e2ef500000'], 'data': ['0x4e6f6e65']} \n",
      "\n",
      "{'scoreAddress': 'cxbc78363e6ef2cf4bd5a5ac1951a4cec4764f15c6', 'indexed': ['Mint(Address,int,bytes)', 'cxfa5b615097d9ad7b52ea10734c70f4b4a636ff1a'], 'data': ['0x4563918244f40000', '0x4e6f6e65']} \n",
      "\n",
      "{'scoreAddress': 'cxbc78363e6ef2cf4bd5a5ac1951a4cec4764f15c6', 'indexed': ['Transfer(Address,Address,int,bytes)', 'hx0000000000000000000000000000000000000000', 'cxfa5b615097d9ad7b52ea10734c70f4b4a636ff1a', '0x4563918244f40000'], 'data': ['0x4e6f6e65']} \n",
      "\n",
      "{'scoreAddress': 'cx66f9f3b797d345e9d1001d7214a3040615db6ca1', 'indexed': ['FeePaid(str,int,str)', 'bnUSD', '0x4563918244f40000', 'origination'], 'data': []} \n",
      "\n"
     ]
    },
    {
     "data": {
      "text/plain": [
       "{'txHash': '0x70b648f216c9deb00887bb4c78dd01a9f2f0f06c318b0a9ee67e7f7a4f6292e7',\n",
       " 'blockHeight': 252007,\n",
       " 'blockHash': '0x06b337c93cecac2dbefc6a3970accd1f19ad229c276ce779dcce50683b04197c',\n",
       " 'txIndex': 1,\n",
       " 'to': 'cx66f9f3b797d345e9d1001d7214a3040615db6ca1',\n",
       " 'stepUsed': 954540,\n",
       " 'stepPrice': 10000000000,\n",
       " 'cumulativeStepUsed': 954540,\n",
       " 'eventLogs': [{'scoreAddress': 'cx66f9f3b797d345e9d1001d7214a3040615db6ca1',\n",
       "   'indexed': ['ICXTransfer(Address,Address,int)',\n",
       "    'cx66f9f3b797d345e9d1001d7214a3040615db6ca1',\n",
       "    'cx252d78d074053dc19652aa25ad659824fdc31d7e',\n",
       "    '0x6c6b935b8bbd400000'],\n",
       "   'data': []},\n",
       "  {'scoreAddress': 'cxb2d986916fe48a424554526baf61c0451222a067',\n",
       "   'indexed': ['Mint(Address,int,bytes)',\n",
       "    'cx66f9f3b797d345e9d1001d7214a3040615db6ca1'],\n",
       "   'data': ['0x6c6b935b8bbd400000', '0x4e6f6e65']},\n",
       "  {'scoreAddress': 'cxb2d986916fe48a424554526baf61c0451222a067',\n",
       "   'indexed': ['Transfer(Address,Address,int,bytes)',\n",
       "    'hx0000000000000000000000000000000000000000',\n",
       "    'cx66f9f3b797d345e9d1001d7214a3040615db6ca1',\n",
       "    '0x6c6b935b8bbd400000'],\n",
       "   'data': ['0x4e6f6e65']},\n",
       "  {'scoreAddress': 'cx252d78d074053dc19652aa25ad659824fdc31d7e',\n",
       "   'indexed': ['TokenTransfer(Address,int,str)',\n",
       "    'cx66f9f3b797d345e9d1001d7214a3040615db6ca1',\n",
       "    '0x6c6b935b8bbd400000'],\n",
       "   'data': ['2000 sICX minted to cx66f9f3b797d345e9d1001d7214a3040615db6ca1']},\n",
       "  {'scoreAddress': 'cx66f9f3b797d345e9d1001d7214a3040615db6ca1',\n",
       "   'indexed': ['CollateralReceived(Address,str,int)',\n",
       "    'hxe62d11fa19a0e8575ad92f06bc8fd42edbfe27db',\n",
       "    'sICX'],\n",
       "   'data': ['0x6c6b935b8bbd400000']},\n",
       "  {'scoreAddress': 'cxbc78363e6ef2cf4bd5a5ac1951a4cec4764f15c6',\n",
       "   'indexed': ['OraclePrice(str,str,Address,int)',\n",
       "    'USDICX',\n",
       "    'BandChain',\n",
       "    'cx2780eeb8c800ac9886786baae281c3d23bb832fc'],\n",
       "   'data': ['0x84c5d90848544bb']},\n",
       "  {'scoreAddress': 'cx66f9f3b797d345e9d1001d7214a3040615db6ca1',\n",
       "   'indexed': ['OriginateLoan(Address,str,int,str)',\n",
       "    'hxe62d11fa19a0e8575ad92f06bc8fd42edbfe27db',\n",
       "    'bnUSD',\n",
       "    '0x1b1ae4d6e2ef500000'],\n",
       "   'data': ['Loan of 500000000000000000000 bnUSD from Balanced.']},\n",
       "  {'scoreAddress': 'cxbc78363e6ef2cf4bd5a5ac1951a4cec4764f15c6',\n",
       "   'indexed': ['Mint(Address,int,bytes)',\n",
       "    'hxe62d11fa19a0e8575ad92f06bc8fd42edbfe27db'],\n",
       "   'data': ['0x1b1ae4d6e2ef500000', '0x4e6f6e65']},\n",
       "  {'scoreAddress': 'cxbc78363e6ef2cf4bd5a5ac1951a4cec4764f15c6',\n",
       "   'indexed': ['Transfer(Address,Address,int,bytes)',\n",
       "    'hx0000000000000000000000000000000000000000',\n",
       "    'hxe62d11fa19a0e8575ad92f06bc8fd42edbfe27db',\n",
       "    '0x1b1ae4d6e2ef500000'],\n",
       "   'data': ['0x4e6f6e65']},\n",
       "  {'scoreAddress': 'cxbc78363e6ef2cf4bd5a5ac1951a4cec4764f15c6',\n",
       "   'indexed': ['Mint(Address,int,bytes)',\n",
       "    'cxfa5b615097d9ad7b52ea10734c70f4b4a636ff1a'],\n",
       "   'data': ['0x4563918244f40000', '0x4e6f6e65']},\n",
       "  {'scoreAddress': 'cxbc78363e6ef2cf4bd5a5ac1951a4cec4764f15c6',\n",
       "   'indexed': ['Transfer(Address,Address,int,bytes)',\n",
       "    'hx0000000000000000000000000000000000000000',\n",
       "    'cxfa5b615097d9ad7b52ea10734c70f4b4a636ff1a',\n",
       "    '0x4563918244f40000'],\n",
       "   'data': ['0x4e6f6e65']},\n",
       "  {'scoreAddress': 'cx66f9f3b797d345e9d1001d7214a3040615db6ca1',\n",
       "   'indexed': ['FeePaid(str,int,str)',\n",
       "    'bnUSD',\n",
       "    '0x4563918244f40000',\n",
       "    'origination'],\n",
       "   'data': []}],\n",
       " 'logsBloom': b'\\x00\\x00\\x10 \\x08\\x00\\x00\\x00\\x02\\x00\\x00!\\x00\\x02\\x01\\x00\\x00\\x00 \\x00\\x00\\x01\\x00\\x00 \\x01\\t\\x00\\x00\\x0c\\x00\\x00\\x00\\x00\\x00\\x00\\x00\\x00\\x00\\x00\\x00\\x00@@\\x00\\x01\\x00\\x00\\x00\\x00\\x00\\x02\\x00\\x03\\x04\\x00\\x00\\x00\\x18\\x00\\x00\\x00\\x00 \\x80\\x10\\x00\\x00\\x00\\x08\\x00\\x00\\x00\\x00\\x00\\x01\\x00\\x00\\x00\\x00\\x00\\x00\\x10\\x00@\\x02\\x00\\x00\\x00\\x00\\x00\\x00\\x00\\x00\\x00\\x80\\x00\\x02\\x08A\\x00D\\x00\\x00\\x00\\x01\\x00\\x00\\x80\\x00@\\x00\\x00\\x00\\x01\\x00\\x00\\x00\\x00\\x04\\x00\\x08\\x00\\x00\\x00\\x00\\x01\\x08\\x00 \\x00\\x00\\x00\\x80\\x00\\x00\\x00\\x10\\x00\\x00\\x00\\x00\\x00\\x00@@\\x10\\x00\\x00\\x00\\x00\\x00\\x00\\x00\\x02 \\x00\\x10\\x00\\x00\\x00\\x00\\x00\\x00\\x00\\x04\\x08\\x88\\x00\\x00\\x00\\x00\\x00\\x00\\x02\\x04\\x01\\x00\\x00\\x00\\x00 \\x00\\x80\\x10\\x00\\x00\\x00\\x00\\x00\\x10\\x00\\x00\\x01(\\x00\\x00\\x02\\x00@\\x00\\x04 \\x00@\\x00 \\x00\\x08\\x00\\x00\\x00\\x10\\xc1\\x00\\x00\\x00\\x00\\x00\\x00\\x00\\x00\\x00\\x00\\x00\\x00\\x00D\\x00\\x00\\x00\\x00(\\x00\\x00\\x00\\x00\\x00\\x00\\x00\\x00\\x00\\x00\\xb0\\x00\\x00\\x00\\x80\\x10\\x00\\x00@\\x00\\x08\\x00\\x00',\n",
       " 'status': 1}"
      ]
     },
     "execution_count": 16,
     "metadata": {},
     "output_type": "execute_result"
    }
   ],
   "source": [
    "send_tx('loans', 2000*ICX, 'depositAndBorrow', {'_asset': 'bnUSD', '_amount': 500 * ICX}, user1)\n"
   ]
  },
  {
   "cell_type": "code",
   "execution_count": 23,
   "metadata": {},
   "outputs": [
    {
     "name": "stdout",
     "output_type": "stream",
     "text": [
      "------------------------------------------------------------------------------------------------------------------\n",
      "Calling returnAsset, with parameters {'_symbol': 'bnUSD', '_value': 50000000000000000000} on the loans contract.\n",
      "------------------------------------------------------------------------------------------------------------------\n"
     ]
    },
    {
     "name": "stderr",
     "output_type": "stream",
     "text": [
      "Raised JSONRPCException while returning the custom response. Error message: {'code': -32602, 'message': 'Pending transaction'}\n"
     ]
    },
    {
     "name": "stdout",
     "output_type": "stream",
     "text": [
      "Retrying in 1 seconds...\n",
      "************************************************** Status: 1 **************************************************\n",
      "{'scoreAddress': 'cx084e59320817d17dc6e05e4f9a7fe435716aeba9', 'indexed': ['Burn(Address,int)', 'hxe7af5fcfd8dfc67530a01a0e403882687528dfcb'], 'data': ['0x2b5e3af16b1880000']} \n",
      "\n",
      "{'scoreAddress': 'cx084e59320817d17dc6e05e4f9a7fe435716aeba9', 'indexed': ['Transfer(Address,Address,int,bytes)', 'hxe7af5fcfd8dfc67530a01a0e403882687528dfcb', 'hx0000000000000000000000000000000000000000', '0x2b5e3af16b1880000'], 'data': ['0x4e6f6e65']} \n",
      "\n",
      "{'scoreAddress': 'cxfeaee564d1cf035aa61184049badb51639fe7107', 'indexed': ['LoanRepaid(Address,str,int,str)', 'hxe7af5fcfd8dfc67530a01a0e403882687528dfcb', 'bnUSD', '0x2b5e3af16b1880000'], 'data': ['Loan of 50000000000000000000 bnUSD repaid to Balanced.']} \n",
      "\n",
      "{'scoreAddress': 'cx084e59320817d17dc6e05e4f9a7fe435716aeba9', 'indexed': ['OraclePrice(str,str,Address,int)', 'USDICX', 'BandChain', 'cx2780eeb8c800ac9886786baae281c3d23bb832fc'], 'data': ['0x84c5d90848544bb']} \n",
      "\n"
     ]
    },
    {
     "data": {
      "text/plain": [
       "{'txHash': '0x052d7d0ca14322080d9046481b0fce424bf4e69b42af76044e8e791be0645c14',\n",
       " 'blockHeight': 172185,\n",
       " 'blockHash': '0x71580799e364f02a4d24bdda697bd3663dcf7ba6ff163621ab07a6bcb3ad978b',\n",
       " 'txIndex': 1,\n",
       " 'to': 'cxfeaee564d1cf035aa61184049badb51639fe7107',\n",
       " 'stepUsed': 358340,\n",
       " 'stepPrice': 10000000000,\n",
       " 'cumulativeStepUsed': 358340,\n",
       " 'eventLogs': [{'scoreAddress': 'cx084e59320817d17dc6e05e4f9a7fe435716aeba9',\n",
       "   'indexed': ['Burn(Address,int)',\n",
       "    'hxe7af5fcfd8dfc67530a01a0e403882687528dfcb'],\n",
       "   'data': ['0x2b5e3af16b1880000']},\n",
       "  {'scoreAddress': 'cx084e59320817d17dc6e05e4f9a7fe435716aeba9',\n",
       "   'indexed': ['Transfer(Address,Address,int,bytes)',\n",
       "    'hxe7af5fcfd8dfc67530a01a0e403882687528dfcb',\n",
       "    'hx0000000000000000000000000000000000000000',\n",
       "    '0x2b5e3af16b1880000'],\n",
       "   'data': ['0x4e6f6e65']},\n",
       "  {'scoreAddress': 'cxfeaee564d1cf035aa61184049badb51639fe7107',\n",
       "   'indexed': ['LoanRepaid(Address,str,int,str)',\n",
       "    'hxe7af5fcfd8dfc67530a01a0e403882687528dfcb',\n",
       "    'bnUSD',\n",
       "    '0x2b5e3af16b1880000'],\n",
       "   'data': ['Loan of 50000000000000000000 bnUSD repaid to Balanced.']},\n",
       "  {'scoreAddress': 'cx084e59320817d17dc6e05e4f9a7fe435716aeba9',\n",
       "   'indexed': ['OraclePrice(str,str,Address,int)',\n",
       "    'USDICX',\n",
       "    'BandChain',\n",
       "    'cx2780eeb8c800ac9886786baae281c3d23bb832fc'],\n",
       "   'data': ['0x84c5d90848544bb']}],\n",
       " 'logsBloom': b'\\x00\\x00\\x00\\x00\\x00\\x08\\x80\\x00\\x00\\x00\\x00 \\x00\\x00\\x00\\x00@\\x00\\x00\\x00\\x00\\x00\\x00\\x00\\x00\\x00\\x01@\\x00\\x0c\\x00\\x08\\x00\\x00\\x00\\x00\\x00\\x00\\x00\\x00\\x00\\x00\\x00\\x00\\x00\\x00\\x00\\x00\\x00\\x00\\x00\\x00\\x00\\x00\\x00\\x00\\x00\\x00\\x10\\x00\\x00\\x00\\x00  \\x00\\x04\\x00\\x00\\x00\\x00\\x00\\x00\\x00\\x80\\x00\\x00\\x00\\x00\\x04\\x00\\x00\\x00\\x00@\\x00\\x00\\x00\\x00\\x00\\x00\\x08\\x00\\x00\\x00\\x00\\x00\\x00\\x00@\\x00\\x00\\x02\\x00\\x00\\x00\\x00\\x00\\x00\\x00@\\x00\\x00\\x00\\x00\\x00\\x00\\x00\\x00\\x00\\x00\\x00\\x00\\x00\\x00\\x00\\x01\\x00\\x00\\x00 \\x00\\x00\\x80\\x00\\x00\\x00\\x00\\x00\\x00\\x00\\x00\\x00\\x01\\x00\\x00\\x00\\x00\\x00\\x00\\x00\\x00\\x00@\\x00\\x00\\x00\\x10\\x00\\x00\\x00\\x00\\x00\\x00\\x00\\x04\\x08\\x01\\x00\\x00\\x00\\x00\\x00\\x00\\x00\\x00\\x00\\x00\\x00\\x00\\x00\\x00\\x00\\x00\\x10\\x00\\x00\\x01\\x00\\x00\\x00\\x00\\x00\\x00\\x00 \\x00\\x00\\x00\\x00\\x00\\x00\\x00\\x00\\x00\\x00\\x00\\x00\\x00\\x00\\x00\\x00\\x00\\x01\\x00\\x00\\x08\\x02\\x00\\x00\\x00\\x00\\x00\\x00\\x00\\x00\\x00\\x04\\x00\\x00\\x00\\x00\\x00\\x00\\x00\\x00 \\x00\\x00\\x00\\x00\\x00\\x00\\x00\\x00\\x00\\x00\\x00\\x00\\x00\\x00@\\x00\\x00\\x00\\x00',\n",
       " 'status': 1}"
      ]
     },
     "execution_count": 23,
     "metadata": {},
     "output_type": "execute_result"
    }
   ],
   "source": [
    "send_tx('loans', 0, 'returnAsset', {'_symbol': 'bnUSD', '_value': 50 * ICX}, wallet)\n"
   ]
  },
  {
   "cell_type": "code",
   "execution_count": 36,
   "metadata": {},
   "outputs": [
    {
     "name": "stdout",
     "output_type": "stream",
     "text": [
      "User2 tries to retire 10 bnusd\n",
      "------------------------------------------------------------------------------------------------------------------\n",
      "Calling transfer, with parameters {'_to': 'hx7a1824129a8fe803e45a3aae1c0e060399546187', '_value': 2000000000000000000} on the bnUSD contract.\n",
      "------------------------------------------------------------------------------------------------------------------\n",
      "************************************************** Status: 1 **************************************************\n",
      "{'scoreAddress': 'cxbc78363e6ef2cf4bd5a5ac1951a4cec4764f15c6', 'indexed': ['Transfer(Address,Address,int,bytes)', 'hxe62d11fa19a0e8575ad92f06bc8fd42edbfe27db', 'hx7a1824129a8fe803e45a3aae1c0e060399546187', '0x1bc16d674ec80000'], 'data': ['0x4e6f6e65']} \n",
      "\n",
      "------------------------------------------------------------------------------------------------------------------\n",
      "Calling returnAsset, with parameters {'_symbol': 'bnUSD', '_value': 10000000000000000000} on the loans contract.\n",
      "------------------------------------------------------------------------------------------------------------------\n"
     ]
    },
    {
     "name": "stderr",
     "output_type": "stream",
     "text": [
      "Raised JSONRPCException while returning the custom response. Error message: {'code': -32602, 'message': 'Pending transaction'}\n"
     ]
    },
    {
     "name": "stdout",
     "output_type": "stream",
     "text": [
      "Retrying in 1 seconds...\n",
      "************************************************** Status: 0 **************************************************\n",
      "Failure: {'code': 1, 'message': \"('borrowers_LINKED_LISTDB', 1)\"}\n"
     ]
    },
    {
     "ename": "AssertionError",
     "evalue": "Retired amount is greater than the current maximum allowed",
     "output_type": "error",
     "traceback": [
      "\u001b[0;31m---------------------------------------------------------------------------\u001b[0m",
      "\u001b[0;31mAssertionError\u001b[0m                            Traceback (most recent call last)",
      "\u001b[0;32m<ipython-input-36-bce4f48f1543>\u001b[0m in \u001b[0;36m<module>\u001b[0;34m\u001b[0m\n\u001b[1;32m     31\u001b[0m     \u001b[0msleep\u001b[0m\u001b[0;34m(\u001b[0m\u001b[0;36m2\u001b[0m\u001b[0;34m)\u001b[0m\u001b[0;34m\u001b[0m\u001b[0;34m\u001b[0m\u001b[0m\n\u001b[1;32m     32\u001b[0m     \u001b[0mres\u001b[0m \u001b[0;34m=\u001b[0m \u001b[0msend_tx\u001b[0m\u001b[0;34m(\u001b[0m\u001b[0;34m'loans'\u001b[0m\u001b[0;34m,\u001b[0m \u001b[0;36m0\u001b[0m \u001b[0;34m,\u001b[0m\u001b[0mmeth2\u001b[0m \u001b[0;34m,\u001b[0m \u001b[0msecond_params\u001b[0m\u001b[0;34m,\u001b[0m \u001b[0muser2\u001b[0m\u001b[0;34m)\u001b[0m\u001b[0;34m\u001b[0m\u001b[0;34m\u001b[0m\u001b[0m\n\u001b[0;32m---> 33\u001b[0;31m     \u001b[0;32massert\u001b[0m \u001b[0mres\u001b[0m\u001b[0;34m[\u001b[0m\u001b[0;34m'status'\u001b[0m\u001b[0;34m]\u001b[0m \u001b[0;34m==\u001b[0m \u001b[0mint\u001b[0m\u001b[0;34m(\u001b[0m\u001b[0mcase\u001b[0m\u001b[0;34m[\u001b[0m\u001b[0;34m'actions'\u001b[0m\u001b[0;34m]\u001b[0m\u001b[0;34m[\u001b[0m\u001b[0;34m'expected_status_result'\u001b[0m\u001b[0;34m]\u001b[0m\u001b[0;34m)\u001b[0m\u001b[0;34m,\u001b[0m \u001b[0;34m'Retired amount is greater than the current maximum allowed'\u001b[0m\u001b[0;34m\u001b[0m\u001b[0;34m\u001b[0m\u001b[0m\n\u001b[0m\u001b[1;32m     34\u001b[0m     \u001b[0mprint\u001b[0m\u001b[0;34m(\u001b[0m\u001b[0;34m'Test case passed'\u001b[0m\u001b[0;34m)\u001b[0m\u001b[0;34m\u001b[0m\u001b[0;34m\u001b[0m\u001b[0m\n",
      "\u001b[0;31mAssertionError\u001b[0m: Retired amount is greater than the current maximum allowed"
     ]
    }
   ],
   "source": [
    "test_cases = {\n",
    "        \"stories\": [\n",
    "            {\n",
    "                \"description\": \"User2 tries to retire 10 bnusd\",\n",
    "                  \"actions\": {\n",
    "                      \"sender\":\"user2\",\n",
    "                      \"first_meth\": \"transfer\",\n",
    "                      \"second_meth\":\"returnAsset\",\n",
    "                      \"deposited_icx\":\"0\",\n",
    "                      \"first_params\":{'_to': user2.get_address(), '_value': 20 * ICX},\n",
    "                      \"second_params\":{\"_symbol\": \"bnUSD\", '_value': 10 * ICX},\n",
    "                      \"expected_status_result\":\"1\"\n",
    "              }\n",
    "            }\n",
    "      ]\n",
    "    }\n",
    "\n",
    "for case in test_cases['stories']:\n",
    "    print(case['description'])\n",
    "    _to = contracts['bnUSD']['SCORE']\n",
    "    meth1 = case['actions']['first_meth']\n",
    "    meth2 = case['actions']['second_meth']\n",
    "    val = int(case['actions']['deposited_icx'])\n",
    "    data1 = case['actions']['first_params']\n",
    "    first_params = {\"_to\": data1['_to'], \"_value\": data1['_value']}\n",
    "\n",
    "    data2 = case['actions']['second_params']\n",
    "    second_params = {'_symbol': data2['_symbol'], '_value': data2['_value']}\n",
    "\n",
    "    send_tx('bnUSD', 0 ,meth1 , first_params, user1)\n",
    "    sleep(2)\n",
    "    res = send_tx('loans', 0 ,meth2 , second_params, user2)\n",
    "    assert res['status'] == int(case['actions']['expected_status_result']), 'Retired amount is greater than the current maximum allowed'\n",
    "    print('Test case passed')"
   ]
  },
  {
   "cell_type": "code",
   "execution_count": null,
   "metadata": {},
   "outputs": [],
   "source": []
  }
 ],
 "metadata": {
  "kernelspec": {
   "display_name": "Python 3",
   "language": "python",
   "name": "python3"
  },
  "language_info": {
   "codemirror_mode": {
    "name": "ipython",
    "version": 3
   },
   "file_extension": ".py",
   "mimetype": "text/x-python",
   "name": "python",
   "nbconvert_exporter": "python",
   "pygments_lexer": "ipython3",
   "version": "3.7.6"
  }
 },
 "nbformat": 4,
 "nbformat_minor": 4
}
