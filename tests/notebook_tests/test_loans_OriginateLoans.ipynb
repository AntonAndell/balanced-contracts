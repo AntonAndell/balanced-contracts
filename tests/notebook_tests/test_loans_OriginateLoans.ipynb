{
 "cells": [
  {
   "cell_type": "code",
   "execution_count": 5,
   "metadata": {},
   "outputs": [],
   "source": [
    "# Cell 0\n",
    "\n",
    "network = \"custom\"  # set this to one of mainnet, yeouido, euljiro, pagoda, or custom\n",
    "\n",
    "connections = {\n",
    "\"mainnet\": {\"iconservice\": \"https://ctz.solidwallet.io\",       \"nid\": 1},\n",
    "\"yeouido\": {\"iconservice\": \"https://bicon.net.solidwallet.io\", \"nid\": 3},\n",
    "\"euljiro\": {\"iconservice\": \"https://test-ctz.solidwallet.io\",  \"nid\": 2},\n",
    "\"pagoda\":  {\"iconservice\": \"https://zicon.net.solidwallet.io\", \"nid\":80},\n",
    "\"custom\":  {\"iconservice\": \"http://18.144.108.38:9000\",        \"nid\": 3}}\n",
    "\n",
    "env = connections[network]"
   ]
  },
  {
   "cell_type": "code",
   "execution_count": 10,
   "metadata": {},
   "outputs": [],
   "source": [
    "# Cell 1\n",
    "\n",
    "from iconsdk.exception import JSONRPCException\n",
    "from iconsdk.libs.in_memory_zip import gen_deploy_data_content\n",
    "from iconsdk.icon_service import IconService\n",
    "from iconsdk.providers.http_provider import HTTPProvider\n",
    "from iconsdk.builder.transaction_builder import CallTransactionBuilder, TransactionBuilder, DeployTransactionBuilder\n",
    "from iconsdk.builder.call_builder import CallBuilder\n",
    "from iconsdk.signed_transaction import SignedTransaction\n",
    "from iconsdk.wallet.wallet import KeyWallet\n",
    "from iconsdk.utils.convert_type import convert_hex_str_to_int\n",
    "from repeater import retry\n",
    "from shutil import make_archive\n",
    "import pickle as pkl\n",
    "from datetime import datetime\n",
    "from time import sleep\n",
    "import json\n",
    "import os\n",
    "\n",
    "ICX = 1000000000000000000 # 10**18\n",
    "GOVERNANCE_ADDRESS = \"cx0000000000000000000000000000000000000000\"\n",
    "ORACLE = \"cx61a36e5d10412e03c907a507d1e8c6c3856d9964\"\n",
    "\n",
    "@retry(JSONRPCException, tries=10, delay=1, back_off=2)\n",
    "def get_tx_result(_tx_hash):\n",
    "    tx_result = icon_service.get_transaction_result(_tx_hash)\n",
    "    return tx_result"
   ]
  },
  {
   "cell_type": "code",
   "execution_count": 11,
   "metadata": {},
   "outputs": [],
   "source": [
    "# Cell 2\n",
    "\n",
    "icon_service = IconService(HTTPProvider(env[\"iconservice\"], 3))\n",
    "NID = env[\"nid\"]"
   ]
  },
  {
   "cell_type": "code",
   "execution_count": 12,
   "metadata": {},
   "outputs": [
    {
     "name": "stdout",
     "output_type": "stream",
     "text": [
      "760036701.3741603\n",
      "16792671.1682732\n"
     ]
    }
   ],
   "source": [
    "# Cell 3\n",
    "\n",
    "wallet = KeyWallet.load(\"../../keystores/keystore_test1.json\", \"test1_Account\")\n",
    "# Balanced test wallet\n",
    "with open(\"../../keystores/balanced_test.pwd\", \"r\") as f:\n",
    "    key_data = f.read()\n",
    "btest_wallet = KeyWallet.load(\"../../keystores/balanced_test.json\", key_data)\n",
    "print(icon_service.get_balance(wallet.get_address())/10**18)\n",
    "print(icon_service.get_balance(btest_wallet.get_address())/10**18)"
   ]
  },
  {
   "cell_type": "code",
   "execution_count": 13,
   "metadata": {},
   "outputs": [
    {
     "name": "stdout",
     "output_type": "stream",
     "text": [
      "hxe7af5fcfd8dfc67530a01a0e403882687528dfcb\n",
      "760036701.3741603\n"
     ]
    }
   ],
   "source": [
    "print(wallet.get_address())\n",
    "print(icon_service.get_balance(wallet.get_address()) / 10**18)"
   ]
  },
  {
   "cell_type": "code",
   "execution_count": 14,
   "metadata": {},
   "outputs": [
    {
     "name": "stdout",
     "output_type": "stream",
     "text": [
      "hx3f01840a599da07b0f620eeae7aa9c574169a4be\n",
      "16792671.1682732\n"
     ]
    }
   ],
   "source": [
    "print(btest_wallet.get_address())\n",
    "print(icon_service.get_balance(btest_wallet.get_address()) / 10**18)"
   ]
  },
  {
   "cell_type": "code",
   "execution_count": 15,
   "metadata": {},
   "outputs": [
    {
     "name": "stdout",
     "output_type": "stream",
     "text": [
      "1034849.4814728\n",
      "hxe62d11fa19a0e8575ad92f06bc8fd42edbfe27db\n",
      "1012894.5146526\n",
      "hx7a1824129a8fe803e45a3aae1c0e060399546187\n"
     ]
    }
   ],
   "source": [
    "user1 = KeyWallet.load(\"../../keystores/user1.json\",\"HelloWorld@1234\")\n",
    "# btest_wallet = KeyWallet.load(\"./balanced_test.json\",\"HelloWorld@1234\")\n",
    "\n",
    "print(icon_service.get_balance(user1.get_address())/10**18)\n",
    "print(user1.get_address())\n",
    "\n",
    "# test2 = hx7a1824129a8fe803e45a3aae1c0e060399546187\n",
    "private = \"0a354424b20a7e3c55c43808d607bddfac85d033e63d7d093cb9f0a26c4ee022\"\n",
    "user2 = KeyWallet.load(bytes.fromhex(private))\n",
    "print(icon_service.get_balance(user2.get_address())/10**18)\n",
    "print(user2.get_address())"
   ]
  },
  {
   "cell_type": "code",
   "execution_count": 16,
   "metadata": {},
   "outputs": [],
   "source": [
    "# The following addresses are those deployed to the private tbears server.\n",
    "\n",
    "contracts = {'loans': {'zip': 'core_contracts/loans.zip',\n",
    "  'SCORE': 'cxbbd36ca8d91aefbe1060c3be62fed4d1b848ca85'},\n",
    " 'staking': {'zip': 'core_contracts/staking.zip',\n",
    "  'SCORE': 'cxd8e05c1280bc2c32bf53ff61f3bb2e2ecc7d6df5'},\n",
    " 'dividends': {'zip': 'core_contracts/dividends.zip',\n",
    "  'SCORE': 'cx7c617e3fca4ba06b6ad203ce113245ae96a9d91e'},\n",
    " 'reserve': {'zip': 'core_contracts/reserve.zip',\n",
    "  'SCORE': 'cx70cd5c86f0182d5ac0bd224562d929cd968d9132'},\n",
    " 'daofund': {'zip': 'core_contracts/daofund.zip',\n",
    "  'SCORE': 'cxeb91bc377b0620356787d9c9eb68152eb0c62d8a'},\n",
    " 'rewards': {'zip': 'core_contracts/rewards.zip',\n",
    "  'SCORE': 'cxfd7511ece084744154fed19dc34732681ad078e6'},\n",
    " 'dex': {'zip': 'core_contracts/dex.zip',\n",
    "  'SCORE': 'cx9a3161c778eee2d5758371d3548c5599f76704ec'},\n",
    " 'governance': {'zip': 'core_contracts/governance.zip',\n",
    "  'SCORE': 'cx238cd1a1e3a9702d6c9c6dc130719472164db376'},\n",
    " 'oracle': {'zip': 'core_contracts/oracle.zip',\n",
    "  'SCORE': 'cx7171e2f5653c1b9c000e24228276b8d24e84f10d'},\n",
    " 'sicx': {'zip': 'token_contracts/sicx.zip',\n",
    "  'SCORE': 'cxcff8bf80ab213fa9bbb350636a4d68f5cb4fd9c1'},\n",
    " 'bnUSD': {'zip': 'token_contracts/bnUSD.zip',\n",
    "  'SCORE': 'cx4c1beaa71b9377100c810c46059ddf5f3da37602'},\n",
    " 'baln': {'zip': 'token_contracts/baln.zip',\n",
    "  'SCORE': 'cx3825a86d52c5baf188ff29aa6a7fc2467e285885'},\n",
    " 'bwt': {'zip': 'token_contracts/bwt.zip',\n",
    "  'SCORE': 'cx140b49ea041457ebc4cd5e199f5723916bb50021'}}"
   ]
  },
  {
   "cell_type": "code",
   "execution_count": null,
   "metadata": {},
   "outputs": [],
   "source": []
  },
  {
   "cell_type": "code",
   "execution_count": 17,
   "metadata": {},
   "outputs": [],
   "source": [
    "# Cell 6\n",
    "# Define deploy and send_tx functions\n",
    "\n",
    "def compress():\n",
    "    \"\"\"\n",
    "    Compress all SCORE folders in the core_contracts and toekn_contracts folders\n",
    "    \"\"\"\n",
    "    deploy = list(contracts.keys())[:]\n",
    "    for directory in {\"../../core_contracts\", \"../../token_contracts\"}:\n",
    "        with os.scandir(directory) as it:\n",
    "            for file in it:\n",
    "                archive_name = directory + \"/\" + file.name\n",
    "                if file.is_dir() and file.name in deploy:\n",
    "                    make_archive(archive_name, \"zip\", directory, file.name)\n",
    "                    contracts[file.name]['zip'] = archive_name + '.zip'\n",
    "\n",
    "def deploy_SCORE(contract, params, wallet, update) -> str:\n",
    "    \"\"\"\n",
    "    contract is of form {'zip': 'core_contracts/governance.zip', 'SCORE': 'cx1d81f93b3b8d8d2a6455681c46128868782ddd09'}\n",
    "    params is a dicts\n",
    "    wallet is a wallet file\n",
    "    update is boolian\n",
    "    \"\"\"\n",
    "    print(f'{contract[\"zip\"]}')\n",
    "    if update:\n",
    "        dest = contract['SCORE']\n",
    "    else:\n",
    "        dest = GOVERNANCE_ADDRESS\n",
    "    zip_file = contract['zip']\n",
    "    step_limit = 4000100000\n",
    "    deploy_transaction = DeployTransactionBuilder()\\\n",
    "        .from_(wallet.get_address())\\\n",
    "        .to(dest)\\\n",
    "        .nid(NID)\\\n",
    "        .nonce(100)\\\n",
    "        .content_type(\"application/zip\")\\\n",
    "        .content(gen_deploy_data_content(zip_file))\\\n",
    "        .params(params)\\\n",
    "        .build()\n",
    "\n",
    "    signed_transaction = SignedTransaction(deploy_transaction, wallet, step_limit)\n",
    "    tx_hash = icon_service.send_transaction(signed_transaction)\n",
    "\n",
    "    res = get_tx_result(tx_hash)\n",
    "    print(f'Status: {res[\"status\"]}')\n",
    "    if len(res[\"eventLogs\"]) > 0:\n",
    "        for item in res[\"eventLogs\"]:\n",
    "            print(f'{item} \\n')\n",
    "    if res['status'] == 0:\n",
    "        print(f'Failure: {res[\"failure\"]}')\n",
    "    print('')\n",
    "    return res.get('scoreAddress', '')\n",
    "\n",
    "def send_tx(dest, value, method, params, wallet):\n",
    "    \"\"\"\n",
    "    dest is the name of the destination contract.\n",
    "    \"\"\"\n",
    "    print('------------------------------------------------------------------------------------------------------------------')\n",
    "    print(f'Calling {method}, with parameters {params} on the {dest} contract.')\n",
    "    print('------------------------------------------------------------------------------------------------------------------')\n",
    "    transaction = CallTransactionBuilder()\\\n",
    "        .from_(wallet.get_address())\\\n",
    "        .to(contracts[dest]['SCORE'])\\\n",
    "        .value(value)\\\n",
    "        .step_limit(10000000)\\\n",
    "        .nid(NID)\\\n",
    "        .nonce(100)\\\n",
    "        .method(method)\\\n",
    "        .params(params)\\\n",
    "        .build()\n",
    "    signed_transaction = SignedTransaction(transaction, wallet)\n",
    "    tx_hash = icon_service.send_transaction(signed_transaction)\n",
    "\n",
    "    res = get_tx_result(tx_hash)\n",
    "    print(f'************************************************** Status: {res[\"status\"]} **************************************************')\n",
    "    if len(res[\"eventLogs\"]) > 0:\n",
    "        for item in res[\"eventLogs\"]:\n",
    "            print(f'{item} \\n')\n",
    "    if res['status'] == 0:\n",
    "        print(f'Failure: {res[\"failure\"]}')\n",
    "    return res\n",
    "\n",
    "def deploy_all(wallet):\n",
    "    \"\"\"\n",
    "    Compress, Deploy and Configure all SCOREs\n",
    "    \"\"\"\n",
    "    compress()\n",
    "\n",
    "    deploy = list(contracts.keys())[:]\n",
    "    deploy.remove('oracle')\n",
    "    deploy.remove('staking')\n",
    "    deploy.remove('sicx')\n",
    "    deploy.remove('governance')\n",
    "\n",
    "    governance = deploy_SCORE(contracts['governance'], {}, wallet, 0)\n",
    "    contracts['governance']['SCORE'] = governance\n",
    "    for score in deploy:\n",
    "        contracts[score]['SCORE'] = deploy_SCORE(contracts[score], {'_governance': governance}, wallet, 0)\n",
    "    contracts['staking']['SCORE'] = deploy_SCORE(contracts['staking'], {}, wallet, 0)\n",
    "    contracts['sicx']['SCORE'] = deploy_SCORE(contracts['sicx'], {'_admin': contracts['staking']['SCORE']}, wallet, 0)\n",
    "\n",
    "    config = list(contracts.keys())[:]\n",
    "    config.remove('governance')\n",
    "    addresses = {contract: contracts[contract]['SCORE'] for contract in config}\n",
    "\n",
    "    txns = [{'contract': 'staking', 'value': 0, 'method': 'setSicxAddress', 'params': {'_address': contracts['sicx']['SCORE']}},\n",
    "            {'contract': 'governance', 'value': 0, 'method': 'setAddresses', 'params': {'_addresses': addresses}},\n",
    "            {'contract': 'governance', 'value': 0, 'method': 'launchBalanced', 'params': {}}]\n",
    "\n",
    "    for tx in txns:\n",
    "        res = send_tx(tx[\"contract\"], tx[\"value\"], tx[\"method\"], tx[\"params\"], wallet)\n",
    "        results[f'{tx[\"contract\"]}|{tx[\"method\"]}|{tx[\"params\"]}'] = res\n",
    "\n",
    "def get_scores_json(contracts):\n",
    "    \"\"\"\n",
    "    Prints out dictionary of SCORE addresses for use in testing UI.\n",
    "    \"\"\"\n",
    "    scores = {}\n",
    "    for score in contracts:\n",
    "        scores[score] = contracts[score]['SCORE']\n",
    "    return json.dumps(scores)\n",
    "\n",
    "def call_tx(dest: str, method: str, params: dict = {}):\n",
    "    \"\"\"\n",
    "    dest is the name of the destination contract.\n",
    "    \"\"\"\n",
    "    print('------------------------------------------------------------------------------------------------------------------')\n",
    "    print(f'Reading {method}, with parameters {params} on the {dest} contract.')\n",
    "    print('------------------------------------------------------------------------------------------------------------------')\n",
    "    call = CallBuilder()\\\n",
    "        .from_(wallet.get_address())\\\n",
    "        .to(contracts[dest]['SCORE'])\\\n",
    "        .method(method)\\\n",
    "        .params(params)\\\n",
    "        .build()\n",
    "    print(icon_service.call(call))\n",
    "    return icon_service.call(call)\n"
   ]
  },
  {
   "cell_type": "code",
   "execution_count": 18,
   "metadata": {},
   "outputs": [
    {
     "name": "stdout",
     "output_type": "stream",
     "text": [
      "../../core_contracts/governance.zip\n"
     ]
    },
    {
     "name": "stderr",
     "output_type": "stream",
     "text": [
      "Raised JSONRPCException while returning the custom response. Error message: {'code': -32602, 'message': 'Pending transaction'}\n"
     ]
    },
    {
     "name": "stdout",
     "output_type": "stream",
     "text": [
      "Retrying in 1 seconds...\n",
      "Status: 1\n",
      "\n",
      "../../core_contracts/loans.zip\n"
     ]
    },
    {
     "name": "stderr",
     "output_type": "stream",
     "text": [
      "Raised JSONRPCException while returning the custom response. Error message: {'code': -32602, 'message': 'Pending transaction'}\n"
     ]
    },
    {
     "name": "stdout",
     "output_type": "stream",
     "text": [
      "Retrying in 1 seconds...\n",
      "Status: 1\n",
      "\n",
      "../../core_contracts/dividends.zip\n"
     ]
    },
    {
     "name": "stderr",
     "output_type": "stream",
     "text": [
      "Raised JSONRPCException while returning the custom response. Error message: {'code': -32602, 'message': 'Pending transaction'}\n"
     ]
    },
    {
     "name": "stdout",
     "output_type": "stream",
     "text": [
      "Retrying in 1 seconds...\n",
      "Status: 1\n",
      "\n",
      "../../core_contracts/reserve.zip\n",
      "Status: 1\n",
      "\n",
      "../../core_contracts/daofund.zip\n"
     ]
    },
    {
     "name": "stderr",
     "output_type": "stream",
     "text": [
      "Raised JSONRPCException while returning the custom response. Error message: {'code': -32602, 'message': 'Pending transaction'}\n"
     ]
    },
    {
     "name": "stdout",
     "output_type": "stream",
     "text": [
      "Retrying in 1 seconds...\n",
      "Status: 1\n",
      "\n",
      "../../core_contracts/rewards.zip\n"
     ]
    },
    {
     "name": "stderr",
     "output_type": "stream",
     "text": [
      "Raised JSONRPCException while returning the custom response. Error message: {'code': -32602, 'message': 'Pending transaction'}\n"
     ]
    },
    {
     "name": "stdout",
     "output_type": "stream",
     "text": [
      "Retrying in 1 seconds...\n",
      "Status: 1\n",
      "\n",
      "../../core_contracts/dex.zip\n"
     ]
    },
    {
     "name": "stderr",
     "output_type": "stream",
     "text": [
      "Raised JSONRPCException while returning the custom response. Error message: {'code': -32602, 'message': 'Pending transaction'}\n"
     ]
    },
    {
     "name": "stdout",
     "output_type": "stream",
     "text": [
      "Retrying in 1 seconds...\n",
      "Status: 1\n",
      "\n",
      "../../token_contracts/bnUSD.zip\n",
      "Status: 1\n",
      "\n",
      "../../token_contracts/baln.zip\n"
     ]
    },
    {
     "name": "stderr",
     "output_type": "stream",
     "text": [
      "Raised JSONRPCException while returning the custom response. Error message: {'code': -32602, 'message': 'Pending transaction'}\n"
     ]
    },
    {
     "name": "stdout",
     "output_type": "stream",
     "text": [
      "Retrying in 1 seconds...\n",
      "Status: 1\n",
      "\n",
      "../../token_contracts/bwt.zip\n"
     ]
    },
    {
     "name": "stderr",
     "output_type": "stream",
     "text": [
      "Raised JSONRPCException while returning the custom response. Error message: {'code': -32602, 'message': 'Pending transaction'}\n"
     ]
    },
    {
     "name": "stdout",
     "output_type": "stream",
     "text": [
      "Retrying in 1 seconds...\n",
      "Status: 1\n",
      "\n",
      "../../core_contracts/staking.zip\n"
     ]
    },
    {
     "name": "stderr",
     "output_type": "stream",
     "text": [
      "Raised JSONRPCException while returning the custom response. Error message: {'code': -32602, 'message': 'Pending transaction'}\n"
     ]
    },
    {
     "name": "stdout",
     "output_type": "stream",
     "text": [
      "Retrying in 1 seconds...\n"
     ]
    },
    {
     "name": "stderr",
     "output_type": "stream",
     "text": [
      "Raised JSONRPCException while returning the custom response. Error message: {'code': -32602, 'message': 'Pending transaction'}\n"
     ]
    },
    {
     "name": "stdout",
     "output_type": "stream",
     "text": [
      "Retrying in 2 seconds...\n",
      "Status: 1\n",
      "\n",
      "../../token_contracts/sicx.zip\n"
     ]
    },
    {
     "name": "stderr",
     "output_type": "stream",
     "text": [
      "Raised JSONRPCException while returning the custom response. Error message: {'code': -32602, 'message': 'Pending transaction'}\n"
     ]
    },
    {
     "name": "stdout",
     "output_type": "stream",
     "text": [
      "Retrying in 1 seconds...\n",
      "Status: 1\n",
      "\n",
      "------------------------------------------------------------------------------------------------------------------\n",
      "Calling setSicxAddress, with parameters {'_address': 'cx0814d0754f95694376554bc1f8c2ccf7849f0dd2'} on the staking contract.\n",
      "------------------------------------------------------------------------------------------------------------------\n"
     ]
    },
    {
     "name": "stderr",
     "output_type": "stream",
     "text": [
      "Raised JSONRPCException while returning the custom response. Error message: {'code': -32602, 'message': 'Pending transaction'}\n"
     ]
    },
    {
     "name": "stdout",
     "output_type": "stream",
     "text": [
      "Retrying in 1 seconds...\n",
      "************************************************** Status: 1 **************************************************\n",
      "------------------------------------------------------------------------------------------------------------------\n",
      "Calling setAddresses, with parameters {'_addresses': {'loans': 'cx3961887405ab2a5c82714603fdbe19422822f5bf', 'staking': 'cx1ccd5b134240bb2f3918548e4bb4e460abb7c1bb', 'dividends': 'cx64d2fbdcea9f40069b547c135a1481cf62d2bde6', 'reserve': 'cxa6f5b37888b09cb845d7e58c19dc68627efb5f8f', 'daofund': 'cxfa4daf14d1dc41f4ecacc8702ed379a368b7c9b2', 'rewards': 'cx0b08adb16bb953879853aba9f97b72a8522b0909', 'dex': 'cxc7dafde9d4ebf0140cd138ea83ceaf144a65f93d', 'oracle': 'cx7171e2f5653c1b9c000e24228276b8d24e84f10d', 'sicx': 'cx0814d0754f95694376554bc1f8c2ccf7849f0dd2', 'bnUSD': 'cx7ab9dff691a3c1b0be060036700a1f1d177f78ee', 'baln': 'cxcf94292ec417f42216b23568df8e3cc3ead1d848', 'bwt': 'cx211680b4d07a94c5f0d55ac131c95e4022add731'}} on the governance contract.\n",
      "------------------------------------------------------------------------------------------------------------------\n",
      "************************************************** Status: 1 **************************************************\n",
      "------------------------------------------------------------------------------------------------------------------\n",
      "Calling launchBalanced, with parameters {} on the governance contract.\n",
      "------------------------------------------------------------------------------------------------------------------\n"
     ]
    },
    {
     "name": "stderr",
     "output_type": "stream",
     "text": [
      "Raised JSONRPCException while returning the custom response. Error message: {'code': -32602, 'message': 'Pending transaction'}\n"
     ]
    },
    {
     "name": "stdout",
     "output_type": "stream",
     "text": [
      "Retrying in 1 seconds...\n",
      "************************************************** Status: 1 **************************************************\n",
      "{'scoreAddress': 'cx3961887405ab2a5c82714603fdbe19422822f5bf', 'indexed': ['AssetAdded(Address,str,bool)', 'cx0814d0754f95694376554bc1f8c2ccf7849f0dd2', 'sICX', '0x1'], 'data': []} \n",
      "\n",
      "{'scoreAddress': 'cx3961887405ab2a5c82714603fdbe19422822f5bf', 'indexed': ['AssetAdded(Address,str,bool)', 'cx7ab9dff691a3c1b0be060036700a1f1d177f78ee', 'bnUSD', '0x0'], 'data': []} \n",
      "\n",
      "{'scoreAddress': 'cx3961887405ab2a5c82714603fdbe19422822f5bf', 'indexed': ['AssetAdded(Address,str,bool)', 'cxcf94292ec417f42216b23568df8e3cc3ead1d848', 'BALN', '0x1'], 'data': []} \n",
      "\n",
      "{'scoreAddress': 'cx3961887405ab2a5c82714603fdbe19422822f5bf', 'indexed': ['ContractActive(str,str)', 'Loans'], 'data': ['Active']} \n",
      "\n",
      "------------------------------------------------------------------------------------------------------------------\n",
      "{'loans': {'zip': '../../core_contracts/loans.zip', 'SCORE': 'cx3961887405ab2a5c82714603fdbe19422822f5bf'}, 'staking': {'zip': '../../core_contracts/staking.zip', 'SCORE': 'cx1ccd5b134240bb2f3918548e4bb4e460abb7c1bb'}, 'dividends': {'zip': '../../core_contracts/dividends.zip', 'SCORE': 'cx64d2fbdcea9f40069b547c135a1481cf62d2bde6'}, 'reserve': {'zip': '../../core_contracts/reserve.zip', 'SCORE': 'cxa6f5b37888b09cb845d7e58c19dc68627efb5f8f'}, 'daofund': {'zip': '../../core_contracts/daofund.zip', 'SCORE': 'cxfa4daf14d1dc41f4ecacc8702ed379a368b7c9b2'}, 'rewards': {'zip': '../../core_contracts/rewards.zip', 'SCORE': 'cx0b08adb16bb953879853aba9f97b72a8522b0909'}, 'dex': {'zip': '../../core_contracts/dex.zip', 'SCORE': 'cxc7dafde9d4ebf0140cd138ea83ceaf144a65f93d'}, 'governance': {'zip': '../../core_contracts/governance.zip', 'SCORE': 'cxb098b3243bb2b0c3356581a7a308961aed369dde'}, 'oracle': {'zip': '../../core_contracts/oracle.zip', 'SCORE': 'cx7171e2f5653c1b9c000e24228276b8d24e84f10d'}, 'sicx': {'zip': '../../token_contracts/sicx.zip', 'SCORE': 'cx0814d0754f95694376554bc1f8c2ccf7849f0dd2'}, 'bnUSD': {'zip': '../../token_contracts/bnUSD.zip', 'SCORE': 'cx7ab9dff691a3c1b0be060036700a1f1d177f78ee'}, 'baln': {'zip': '../../token_contracts/baln.zip', 'SCORE': 'cxcf94292ec417f42216b23568df8e3cc3ead1d848'}, 'bwt': {'zip': '../../token_contracts/bwt.zip', 'SCORE': 'cx211680b4d07a94c5f0d55ac131c95e4022add731'}}\n",
      "{\"loans\": \"cx3961887405ab2a5c82714603fdbe19422822f5bf\", \"staking\": \"cx1ccd5b134240bb2f3918548e4bb4e460abb7c1bb\", \"dividends\": \"cx64d2fbdcea9f40069b547c135a1481cf62d2bde6\", \"reserve\": \"cxa6f5b37888b09cb845d7e58c19dc68627efb5f8f\", \"daofund\": \"cxfa4daf14d1dc41f4ecacc8702ed379a368b7c9b2\", \"rewards\": \"cx0b08adb16bb953879853aba9f97b72a8522b0909\", \"dex\": \"cxc7dafde9d4ebf0140cd138ea83ceaf144a65f93d\", \"governance\": \"cxb098b3243bb2b0c3356581a7a308961aed369dde\", \"oracle\": \"cx7171e2f5653c1b9c000e24228276b8d24e84f10d\", \"sicx\": \"cx0814d0754f95694376554bc1f8c2ccf7849f0dd2\", \"bnUSD\": \"cx7ab9dff691a3c1b0be060036700a1f1d177f78ee\", \"baln\": \"cxcf94292ec417f42216b23568df8e3cc3ead1d848\", \"bwt\": \"cx211680b4d07a94c5f0d55ac131c95e4022add731\"}\n"
     ]
    }
   ],
   "source": [
    "# Cell 7\n",
    "# Deploy and configure Balanced. Print results if anything goes wrong.\n",
    "\n",
    "results = {}\n",
    "deploy_all(btest_wallet)\n",
    "print('------------------------------------------------------------------------------------------------------------------')\n",
    "print(contracts)\n",
    "print(get_scores_json(contracts))"
   ]
  },
  {
   "cell_type": "code",
   "execution_count": null,
   "metadata": {},
   "outputs": [],
   "source": [
    "# Cell 8\n",
    "# Deploy or Update a single SCORE\n",
    "\n",
    "compress()\n",
    "update = 0\n",
    "contract = contracts['loans']\n",
    "params = {}\n",
    "params = {'_governance': contracts['governance']['SCORE']}\n",
    "deploy_SCORE(contract, params, btest_wallet, update)"
   ]
  },
  {
   "cell_type": "markdown",
   "metadata": {},
   "source": [
    "Test Originate Loans"
   ]
  },
  {
   "cell_type": "code",
   "execution_count": 19,
   "metadata": {},
   "outputs": [
    {
     "name": "stdout",
     "output_type": "stream",
     "text": [
      "check account position and originating loans with the account that doesn’t have a position in Balanced\n",
      "------------------------------------------------------------------------------------------------------------------\n",
      "Reading getAccountPositions, with parameters {'_owner': 'hx3f01840a599da07b0f620eeae7aa9c574169a4be'} on the loans contract.\n",
      "------------------------------------------------------------------------------------------------------------------\n",
      "{'message': 'That address has no outstanding loans or deposited collateral.'}\n",
      "------------------------------------------------------------------------------------------------------------------\n",
      "Calling originateLoan, with parameters {'_asset': 'bnUSD', '_amount': 50000000000000000000} on the loans contract.\n",
      "------------------------------------------------------------------------------------------------------------------\n",
      "************************************************** Status: 0 **************************************************\n",
      "Failure: {'code': 32, 'message': 'This address does not have a position on Balanced. Collateral must be deposited before originating a loan.'}\n",
      "Test Successfull\n"
     ]
    }
   ],
   "source": [
    "#Try originating loans with an account that doesn’t have a position in Balanced \n",
    "\n",
    "test_cases = {\n",
    "        \"stories\":[\n",
    "            {\n",
    "            \"description\": \"check account position and originating loans with the account that doesn’t have a position in Balanced\",\n",
    "            \"actions\":{\n",
    "                \"deposited_icx\": 0,\n",
    "                \"acc_method\":\"getAccountPositions\",\n",
    "                \"acc_params\":{\"owner\": btest_wallet.get_address()},\n",
    "                \"method\":\"originateLoan\",\n",
    "                \"params\":{\"asset\": \"bnUSD\", \"amount\": 50 * ICX},\n",
    "                \"expected_result\":\"This address does not have a position on Balanced. Collateral must be deposited before originating a loan.\"\n",
    "            }\n",
    "        }\n",
    "    ]\n",
    "}\n",
    "\n",
    "for case in test_cases['stories']:\n",
    "    print(case['description'])\n",
    "    _acc_method = case['actions']['acc_method']\n",
    "    _acc_data = case['actions']['acc_params']\n",
    "    _acc_params = {'_owner':_acc_data['owner']}\n",
    "    _loan_method = case['actions']['method']\n",
    "    _loan_data = case['actions']['params']\n",
    "    _loan_params = {'_asset': _loan_data['asset'], '_amount': _loan_data['amount']}\n",
    "    \n",
    "    res = call_tx('loans', _acc_method, _acc_params)\n",
    "    if res['message'] == 'That address has no outstanding loans or deposited collateral.':\n",
    "        res = send_tx('loans', 0, _loan_method, _loan_params, btest_wallet)\n",
    "        assert res['failure']['message'] == case['actions']['expected_result'], 'Test failed'\n",
    "        print('Test Successfull')\n",
    "            \n",
    "            \n"
   ]
  },
  {
   "cell_type": "code",
   "execution_count": 23,
   "metadata": {},
   "outputs": [
    {
     "name": "stdout",
     "output_type": "stream",
     "text": [
      "check account position and depositing 10 ICX and call originate loan of 50 bnUSD\n",
      "------------------------------------------------------------------------------------------------------------------\n",
      "Reading getAccountPositions, with parameters {'_owner': 'hx3f01840a599da07b0f620eeae7aa9c574169a4be'} on the loans contract.\n",
      "------------------------------------------------------------------------------------------------------------------\n",
      "{'pos_id': '0x1', 'created': '0x5c00ff23b5859', 'address': 'hx3f01840a599da07b0f620eeae7aa9c574169a4be', 'snap_id': '0x1', 'snaps_length': '0x1', 'last_snap': '0x1', 'first day': '0x1', 'assets': {'sICX': '0x1a055690d9db80000'}, 'total_debt': '0x0', 'collateral': '0x1a055690d9db80000', 'ratio': '0x0', 'standing': 'No Debt'}\n",
      "------------------------------------------------------------------------------------------------------------------\n",
      "Calling addCollateral, with parameters {'_asset': ' ', '_amount': 0} on the loans contract.\n",
      "------------------------------------------------------------------------------------------------------------------\n",
      "************************************************** Status: 1 **************************************************\n",
      "{'scoreAddress': 'cx3961887405ab2a5c82714603fdbe19422822f5bf', 'indexed': ['ICXTransfer(Address,Address,int)', 'cx3961887405ab2a5c82714603fdbe19422822f5bf', 'cx1ccd5b134240bb2f3918548e4bb4e460abb7c1bb', '0x8ac7230489e80000'], 'data': []} \n",
      "\n",
      "{'scoreAddress': 'cx0814d0754f95694376554bc1f8c2ccf7849f0dd2', 'indexed': ['Mint(Address,int,bytes)', 'cx3961887405ab2a5c82714603fdbe19422822f5bf'], 'data': ['0x8ac7230489e80000', '0x7b226d6574686f64223a225f6465706f7369745f616e645f626f72726f77222c22706172616d73223a7b225f73656e646572223a22687833663031383430613539396461303762306636323065656165376161396335373431363961346265222c225f6173736574223a2220222c225f616d6f756e74223a307d7d']} \n",
      "\n",
      "{'scoreAddress': 'cx0814d0754f95694376554bc1f8c2ccf7849f0dd2', 'indexed': ['Transfer(Address,Address,int,bytes)', 'hx0000000000000000000000000000000000000000', 'cx3961887405ab2a5c82714603fdbe19422822f5bf', '0x8ac7230489e80000'], 'data': ['0x7b226d6574686f64223a225f6465706f7369745f616e645f626f72726f77222c22706172616d73223a7b225f73656e646572223a22687833663031383430613539396461303762306636323065656165376161396335373431363961346265222c225f6173736574223a2220222c225f616d6f756e74223a307d7d']} \n",
      "\n",
      "{'scoreAddress': 'cx3961887405ab2a5c82714603fdbe19422822f5bf', 'indexed': ['CollateralReceived(Address,str)', 'hx3f01840a599da07b0f620eeae7aa9c574169a4be', 'sICX'], 'data': []} \n",
      "\n",
      "{'scoreAddress': 'cx1ccd5b134240bb2f3918548e4bb4e460abb7c1bb', 'indexed': ['TokenTransfer(Address,int,str)', 'cx3961887405ab2a5c82714603fdbe19422822f5bf', '0x8ac7230489e80000'], 'data': ['10 sICX minted to cx3961887405ab2a5c82714603fdbe19422822f5bf']} \n",
      "\n",
      "------------------------------------------------------------------------------------------------------------------\n",
      "Calling originateLoan, with parameters {'_asset': 'bnUSD', '_amount': 50000000000000000000} on the loans contract.\n",
      "------------------------------------------------------------------------------------------------------------------\n"
     ]
    },
    {
     "name": "stderr",
     "output_type": "stream",
     "text": [
      "Raised JSONRPCException while returning the custom response. Error message: {'code': -32602, 'message': 'Pending transaction'}\n"
     ]
    },
    {
     "name": "stdout",
     "output_type": "stream",
     "text": [
      "Retrying in 1 seconds...\n",
      "************************************************** Status: 0 **************************************************\n",
      "Failure: {'code': 32, 'message': '40.0 collateral is insufficient to originate a loan of 50.0 bnUSD when max_debt_value = 10.0 and new_debt_value = 30.196764153578393, plus a fee of 0.5 bnUSD, and an existing loan value of 0.0.'}\n",
      ".....Test Successfull...\n",
      "------------------------------------------------------------------------------------------------------------------\n",
      "Reading getAccountPositions, with parameters {'_owner': 'hx3f01840a599da07b0f620eeae7aa9c574169a4be'} on the loans contract.\n",
      "------------------------------------------------------------------------------------------------------------------\n",
      "{'pos_id': '0x1', 'created': '0x5c00ff23b5859', 'address': 'hx3f01840a599da07b0f620eeae7aa9c574169a4be', 'snap_id': '0x1', 'snaps_length': '0x1', 'last_snap': '0x1', 'first day': '0x1', 'assets': {'sICX': '0x22b1c8c1227a00000'}, 'total_debt': '0x0', 'collateral': '0x22b1c8c1227a00000', 'ratio': '0x0', 'standing': 'No Debt'}\n",
      ".....Test Successfull...\n",
      "check account position and depositing enough ICX to get a loan of 50 bnUSD and call originate loan of 50 bnUSD\n",
      "------------------------------------------------------------------------------------------------------------------\n",
      "Reading getAccountPositions, with parameters {'_owner': 'hx3f01840a599da07b0f620eeae7aa9c574169a4be'} on the loans contract.\n",
      "------------------------------------------------------------------------------------------------------------------\n",
      "{'pos_id': '0x1', 'created': '0x5c00ff23b5859', 'address': 'hx3f01840a599da07b0f620eeae7aa9c574169a4be', 'snap_id': '0x1', 'snaps_length': '0x1', 'last_snap': '0x1', 'first day': '0x1', 'assets': {'sICX': '0x22b1c8c1227a00000'}, 'total_debt': '0x0', 'collateral': '0x22b1c8c1227a00000', 'ratio': '0x0', 'standing': 'No Debt'}\n",
      "------------------------------------------------------------------------------------------------------------------\n",
      "Calling addCollateral, with parameters {'_asset': ' ', '_amount': 0} on the loans contract.\n",
      "------------------------------------------------------------------------------------------------------------------\n",
      "************************************************** Status: 1 **************************************************\n",
      "{'scoreAddress': 'cx3961887405ab2a5c82714603fdbe19422822f5bf', 'indexed': ['ICXTransfer(Address,Address,int)', 'cx3961887405ab2a5c82714603fdbe19422822f5bf', 'cx1ccd5b134240bb2f3918548e4bb4e460abb7c1bb', '0x1043561a8829300000'], 'data': []} \n",
      "\n",
      "{'scoreAddress': 'cx0814d0754f95694376554bc1f8c2ccf7849f0dd2', 'indexed': ['Mint(Address,int,bytes)', 'cx3961887405ab2a5c82714603fdbe19422822f5bf'], 'data': ['0x1043561a8829300000', '0x7b226d6574686f64223a225f6465706f7369745f616e645f626f72726f77222c22706172616d73223a7b225f73656e646572223a22687833663031383430613539396461303762306636323065656165376161396335373431363961346265222c225f6173736574223a2220222c225f616d6f756e74223a307d7d']} \n",
      "\n",
      "{'scoreAddress': 'cx0814d0754f95694376554bc1f8c2ccf7849f0dd2', 'indexed': ['Transfer(Address,Address,int,bytes)', 'hx0000000000000000000000000000000000000000', 'cx3961887405ab2a5c82714603fdbe19422822f5bf', '0x1043561a8829300000'], 'data': ['0x7b226d6574686f64223a225f6465706f7369745f616e645f626f72726f77222c22706172616d73223a7b225f73656e646572223a22687833663031383430613539396461303762306636323065656165376161396335373431363961346265222c225f6173736574223a2220222c225f616d6f756e74223a307d7d']} \n",
      "\n",
      "{'scoreAddress': 'cx3961887405ab2a5c82714603fdbe19422822f5bf', 'indexed': ['CollateralReceived(Address,str)', 'hx3f01840a599da07b0f620eeae7aa9c574169a4be', 'sICX'], 'data': []} \n",
      "\n",
      "{'scoreAddress': 'cx1ccd5b134240bb2f3918548e4bb4e460abb7c1bb', 'indexed': ['TokenTransfer(Address,int,str)', 'cx3961887405ab2a5c82714603fdbe19422822f5bf', '0x1043561a8829300000'], 'data': ['300 sICX minted to cx3961887405ab2a5c82714603fdbe19422822f5bf']} \n",
      "\n",
      "------------------------------------------------------------------------------------------------------------------\n",
      "Calling originateLoan, with parameters {'_asset': 'bnUSD', '_amount': 50000000000000000000} on the loans contract.\n",
      "------------------------------------------------------------------------------------------------------------------\n"
     ]
    },
    {
     "name": "stderr",
     "output_type": "stream",
     "text": [
      "Raised JSONRPCException while returning the custom response. Error message: {'code': -32602, 'message': 'Pending transaction'}\n"
     ]
    },
    {
     "name": "stdout",
     "output_type": "stream",
     "text": [
      "Retrying in 1 seconds...\n",
      "************************************************** Status: 1 **************************************************\n",
      "{'scoreAddress': 'cx7ab9dff691a3c1b0be060036700a1f1d177f78ee', 'indexed': ['OraclePrice(str,str,Address,int)', 'USDICX', 'BandChain', 'cx7171e2f5653c1b9c000e24228276b8d24e84f10d'], 'data': ['0x84c5d90848544bb']} \n",
      "\n",
      "{'scoreAddress': 'cx3961887405ab2a5c82714603fdbe19422822f5bf', 'indexed': ['OriginateLoan(Address,str,int,str)', 'hx3f01840a599da07b0f620eeae7aa9c574169a4be', 'bnUSD', '0x2b5e3af16b1880000'], 'data': ['Loan of 50000000000000000000 bnUSD from Balanced.']} \n",
      "\n",
      "{'scoreAddress': 'cx7ab9dff691a3c1b0be060036700a1f1d177f78ee', 'indexed': ['Mint(Address,int,bytes)', 'hx3f01840a599da07b0f620eeae7aa9c574169a4be'], 'data': ['0x2b5e3af16b1880000', '0x4e6f6e65']} \n",
      "\n",
      "{'scoreAddress': 'cx7ab9dff691a3c1b0be060036700a1f1d177f78ee', 'indexed': ['Transfer(Address,Address,int,bytes)', 'hx0000000000000000000000000000000000000000', 'hx3f01840a599da07b0f620eeae7aa9c574169a4be', '0x2b5e3af16b1880000'], 'data': ['0x4e6f6e65']} \n",
      "\n",
      "{'scoreAddress': 'cx7ab9dff691a3c1b0be060036700a1f1d177f78ee', 'indexed': ['Mint(Address,int,bytes)', 'cx64d2fbdcea9f40069b547c135a1481cf62d2bde6'], 'data': ['0x6f05b59d3b20000', '0x4e6f6e65']} \n",
      "\n",
      "{'scoreAddress': 'cx7ab9dff691a3c1b0be060036700a1f1d177f78ee', 'indexed': ['Transfer(Address,Address,int,bytes)', 'hx0000000000000000000000000000000000000000', 'cx64d2fbdcea9f40069b547c135a1481cf62d2bde6', '0x6f05b59d3b20000'], 'data': ['0x4e6f6e65']} \n",
      "\n",
      "{'scoreAddress': 'cx3961887405ab2a5c82714603fdbe19422822f5bf', 'indexed': ['FeePaid(str,int,str,str)', 'bnUSD', '0x6f05b59d3b20000', 'origination'], 'data': ['']} \n",
      "\n",
      ".....Test Successfull...\n",
      "------------------------------------------------------------------------------------------------------------------\n",
      "Reading getAccountPositions, with parameters {'_owner': 'hx3f01840a599da07b0f620eeae7aa9c574169a4be'} on the loans contract.\n",
      "------------------------------------------------------------------------------------------------------------------\n",
      "{'pos_id': '0x1', 'created': '0x5c00ff23b5859', 'address': 'hx3f01840a599da07b0f620eeae7aa9c574169a4be', 'snap_id': '0x1', 'snaps_length': '0x1', 'last_snap': '0x1', 'first day': '0x1', 'assets': {'sICX': '0x126e72a69a50d00000', 'bnUSD': '0x2bcd40a70853a0000'}, 'total_debt': '0x1a3107502244a0ee3', 'collateral': '0x126e72a69a50d00000', 'ratio': '0x9c41b98f3fe350b8', 'standing': 'Mining'}\n",
      ".....Test Successfull...\n"
     ]
    }
   ],
   "source": [
    "test_cases = {\n",
    "        \"stories\":[\n",
    "            {\n",
    "            \"description\": \"check account position and depositing 10 ICX and call originate loan of 50 bnUSD\",\n",
    "            \"actions\":{\n",
    "                \"deposited_icx\": 10 * ICX,\n",
    "                \"acc_method\":\"getAccountPositions\",\n",
    "                \"acc_params\":{\"owner\": btest_wallet.get_address()},\n",
    "                \"collateral_method\":\"addCollateral\",\n",
    "                \"collateral_params\":{\"asset\":\" \", \"amount\": 0 },\n",
    "                \"method\":\"originateLoan\",\n",
    "                \"params\":{\"asset\": \"bnUSD\", \"amount\": 50 * ICX},\n",
    "                \"expected_status\":\"0\",\n",
    "                \"expected_result\":\"No Debt\"\n",
    "            }\n",
    "        },\n",
    "            {\n",
    "            \"description\": \"check account position and depositing enough ICX to get a loan of 50 bnUSD and call originate loan of 50 bnUSD\",\n",
    "            \"actions\":{\n",
    "                \"deposited_icx\": 300 * ICX,\n",
    "                \"acc_method\":\"getAccountPositions\",\n",
    "                \"acc_params\":{\"owner\": btest_wallet.get_address()},\n",
    "                \"collateral_method\":\"addCollateral\",\n",
    "                \"collateral_params\":{\"asset\":\" \", \"amount\": 0 },\n",
    "                \"method\":\"originateLoan\",\n",
    "                \"params\":{\"asset\": \"bnUSD\", \"amount\": 50 * ICX},\n",
    "                \"expected_status\":\"1\",\n",
    "                \"expected_result\":\"Mining\"\n",
    "            }\n",
    "        }\n",
    "    ]\n",
    "}\n",
    "\n",
    "for case in test_cases['stories']:\n",
    "    print(case['description'])\n",
    "    _collateral = case['actions']['deposited_icx']\n",
    "    _acc_method = case['actions']['acc_method']\n",
    "    _acc_data = case['actions']['acc_params']\n",
    "    _acc_params = {'_owner':_acc_data['owner']}\n",
    "    _collateral_method = case['actions']['collateral_method']\n",
    "    _collateral_data = case['actions']['collateral_params']\n",
    "    _collateral_params = {'_asset': _collateral_data['asset'], '_amount': _collateral_data['amount']}\n",
    "    _loan_method = case['actions']['method']\n",
    "    _loan_data = case['actions']['params']\n",
    "    _loan_params = {'_asset': _loan_data['asset'], '_amount': _loan_data['amount']}\n",
    "    \n",
    "    call_tx('loans', _acc_method, _acc_params)\n",
    "    send_tx('loans', _collateral, _collateral_method, _collateral_params, btest_wallet)\n",
    "    res = send_tx('loans', 0, _loan_method, _loan_params, btest_wallet)\n",
    "    assert res['status'] == int(case['actions']['expected_status']), 'Test case failed '\n",
    "    print('.....Test Successfull...')\n",
    "    res = call_tx('loans', _acc_method, _acc_params)\n",
    "    assert res['standing'] == int(case['actions']['expected_result']), 'Test case failed'\n",
    "    print('.....Test Successfull...')"
   ]
  },
  {
   "cell_type": "code",
   "execution_count": 51,
   "metadata": {},
   "outputs": [
    {
     "name": "stdout",
     "output_type": "stream",
     "text": [
      "------------------------------------------------------------------------------------------------------------------\n",
      "Reading getAccountPositions, with parameters {'_owner': 'hxe7af5fcfd8dfc67530a01a0e403882687528dfcb'} on the loans contract.\n",
      "------------------------------------------------------------------------------------------------------------------\n",
      "{'message': 'That address has no outstanding loans or deposited collateral.'}\n",
      "------------------------------------------------------------------------------------------------------------------\n",
      "Reading getAccountPositions, with parameters {'_owner': 'hx3f01840a599da07b0f620eeae7aa9c574169a4be'} on the loans contract.\n",
      "------------------------------------------------------------------------------------------------------------------\n",
      "{'pos_id': '0x1', 'created': '0x5bfff4df5f719', 'address': 'hx3f01840a599da07b0f620eeae7aa9c574169a4be', 'snap_id': '0x1', 'snaps_length': '0x1', 'last_snap': '0x1', 'first day': '0x1', 'assets': {'sICX': '0x10ce1d3d8cb3180000', 'bnUSD': '0x2bcd40a70853a0000'}, 'total_debt': '0x1a3107502244a0ee3', 'collateral': '0x10ce1d3d8cb3180000', 'ratio': '0x8e78292fc94f4211', 'standing': 'Mining'}\n"
     ]
    },
    {
     "data": {
      "text/plain": [
       "{'pos_id': '0x1',\n",
       " 'created': '0x5bfff4df5f719',\n",
       " 'address': 'hx3f01840a599da07b0f620eeae7aa9c574169a4be',\n",
       " 'snap_id': '0x1',\n",
       " 'snaps_length': '0x1',\n",
       " 'last_snap': '0x1',\n",
       " 'first day': '0x1',\n",
       " 'assets': {'sICX': '0x10ce1d3d8cb3180000', 'bnUSD': '0x2bcd40a70853a0000'},\n",
       " 'total_debt': '0x1a3107502244a0ee3',\n",
       " 'collateral': '0x10ce1d3d8cb3180000',\n",
       " 'ratio': '0x8e78292fc94f4211',\n",
       " 'standing': 'Mining'}"
      ]
     },
     "execution_count": 51,
     "metadata": {},
     "output_type": "execute_result"
    }
   ],
   "source": [
    "call_tx('loans', 'getAccountPositions', {'_owner': wallet.get_address()})\n",
    "call_tx('loans', 'getAccountPositions', {'_owner': btest_wallet.get_address()})\n"
   ]
  },
  {
   "cell_type": "markdown",
   "metadata": {},
   "source": [
    "Trying to mint loan to account wallet from btest_wallet"
   ]
  },
  {
   "cell_type": "code",
   "execution_count": 25,
   "metadata": {},
   "outputs": [
    {
     "name": "stdout",
     "output_type": "stream",
     "text": [
      "mint loan to account wallet from btest_wallet\n",
      "------------------------------------------------------------------------------------------------------------------\n",
      "Reading getAccountPositions, with parameters {'_owner': 'hxe7af5fcfd8dfc67530a01a0e403882687528dfcb'} on the loans contract.\n",
      "------------------------------------------------------------------------------------------------------------------\n",
      "{'message': 'That address has no outstanding loans or deposited collateral.'}\n",
      "------------------------------------------------------------------------------------------------------------------\n",
      "Calling addCollateral, with parameters {'_asset': ' ', '_amount': 0} on the loans contract.\n",
      "------------------------------------------------------------------------------------------------------------------\n",
      "************************************************** Status: 1 **************************************************\n",
      "{'scoreAddress': 'cx3961887405ab2a5c82714603fdbe19422822f5bf', 'indexed': ['ICXTransfer(Address,Address,int)', 'cx3961887405ab2a5c82714603fdbe19422822f5bf', 'cx1ccd5b134240bb2f3918548e4bb4e460abb7c1bb', '0xad78ebc5ac6200000'], 'data': []} \n",
      "\n",
      "{'scoreAddress': 'cx0814d0754f95694376554bc1f8c2ccf7849f0dd2', 'indexed': ['Mint(Address,int,bytes)', 'cx3961887405ab2a5c82714603fdbe19422822f5bf'], 'data': ['0xad78ebc5ac6200000', '0x7b226d6574686f64223a225f6465706f7369745f616e645f626f72726f77222c22706172616d73223a7b225f73656e646572223a22687865376166356663666438646663363735333061303161306534303338383236383735323864666362222c225f6173736574223a2220222c225f616d6f756e74223a307d7d']} \n",
      "\n",
      "{'scoreAddress': 'cx0814d0754f95694376554bc1f8c2ccf7849f0dd2', 'indexed': ['Transfer(Address,Address,int,bytes)', 'hx0000000000000000000000000000000000000000', 'cx3961887405ab2a5c82714603fdbe19422822f5bf', '0xad78ebc5ac6200000'], 'data': ['0x7b226d6574686f64223a225f6465706f7369745f616e645f626f72726f77222c22706172616d73223a7b225f73656e646572223a22687865376166356663666438646663363735333061303161306534303338383236383735323864666362222c225f6173736574223a2220222c225f616d6f756e74223a307d7d']} \n",
      "\n",
      "{'scoreAddress': 'cx3961887405ab2a5c82714603fdbe19422822f5bf', 'indexed': ['CollateralReceived(Address,str)', 'hxe7af5fcfd8dfc67530a01a0e403882687528dfcb', 'sICX'], 'data': []} \n",
      "\n",
      "{'scoreAddress': 'cx1ccd5b134240bb2f3918548e4bb4e460abb7c1bb', 'indexed': ['TokenTransfer(Address,int,str)', 'cx3961887405ab2a5c82714603fdbe19422822f5bf', '0xad78ebc5ac6200000'], 'data': ['200 sICX minted to cx3961887405ab2a5c82714603fdbe19422822f5bf']} \n",
      "\n",
      "------------------------------------------------------------------------------------------------------------------\n",
      "Calling originateLoan, with parameters {'_asset': 'bnUSD', '_amount': 50000000000000000000, '_from': 'hxe7af5fcfd8dfc67530a01a0e403882687528dfcb'} on the loans contract.\n",
      "------------------------------------------------------------------------------------------------------------------\n"
     ]
    },
    {
     "name": "stderr",
     "output_type": "stream",
     "text": [
      "Raised JSONRPCException while returning the custom response. Error message: {'code': -32602, 'message': 'Pending transaction'}\n"
     ]
    },
    {
     "name": "stdout",
     "output_type": "stream",
     "text": [
      "Retrying in 1 seconds...\n",
      "************************************************** Status: 1 **************************************************\n",
      "{'scoreAddress': 'cx7ab9dff691a3c1b0be060036700a1f1d177f78ee', 'indexed': ['OraclePrice(str,str,Address,int)', 'USDICX', 'BandChain', 'cx7171e2f5653c1b9c000e24228276b8d24e84f10d'], 'data': ['0x84c5d90848544bb']} \n",
      "\n",
      "{'scoreAddress': 'cx3961887405ab2a5c82714603fdbe19422822f5bf', 'indexed': ['OriginateLoan(Address,str,int,str)', 'hxe7af5fcfd8dfc67530a01a0e403882687528dfcb', 'bnUSD', '0x2b5e3af16b1880000'], 'data': ['Loan of 50000000000000000000 bnUSD from Balanced.']} \n",
      "\n",
      "{'scoreAddress': 'cx7ab9dff691a3c1b0be060036700a1f1d177f78ee', 'indexed': ['Mint(Address,int,bytes)', 'hxe7af5fcfd8dfc67530a01a0e403882687528dfcb'], 'data': ['0x2b5e3af16b1880000', '0x4e6f6e65']} \n",
      "\n",
      "{'scoreAddress': 'cx7ab9dff691a3c1b0be060036700a1f1d177f78ee', 'indexed': ['Transfer(Address,Address,int,bytes)', 'hx0000000000000000000000000000000000000000', 'hxe7af5fcfd8dfc67530a01a0e403882687528dfcb', '0x2b5e3af16b1880000'], 'data': ['0x4e6f6e65']} \n",
      "\n",
      "{'scoreAddress': 'cx7ab9dff691a3c1b0be060036700a1f1d177f78ee', 'indexed': ['Mint(Address,int,bytes)', 'cx64d2fbdcea9f40069b547c135a1481cf62d2bde6'], 'data': ['0x6f05b59d3b20000', '0x4e6f6e65']} \n",
      "\n",
      "{'scoreAddress': 'cx7ab9dff691a3c1b0be060036700a1f1d177f78ee', 'indexed': ['Transfer(Address,Address,int,bytes)', 'hx0000000000000000000000000000000000000000', 'cx64d2fbdcea9f40069b547c135a1481cf62d2bde6', '0x6f05b59d3b20000'], 'data': ['0x4e6f6e65']} \n",
      "\n",
      "{'scoreAddress': 'cx3961887405ab2a5c82714603fdbe19422822f5bf', 'indexed': ['FeePaid(str,int,str,str)', 'bnUSD', '0x6f05b59d3b20000', 'origination'], 'data': ['']} \n",
      "\n",
      "------------------------------------------------------------------------------------------------------------------\n",
      "Reading getAccountPositions, with parameters {'_owner': 'hx3f01840a599da07b0f620eeae7aa9c574169a4be'} on the loans contract.\n",
      "------------------------------------------------------------------------------------------------------------------\n",
      "{'pos_id': '0x1', 'created': '0x5c00ff23b5859', 'address': 'hx3f01840a599da07b0f620eeae7aa9c574169a4be', 'snap_id': '0x1', 'snaps_length': '0x1', 'last_snap': '0x1', 'first day': '0x1', 'assets': {'sICX': '0x126e72a69a50d00000', 'bnUSD': '0x2bcd40a70853a0000'}, 'total_debt': '0x1a3107502244a0ee3', 'collateral': '0x126e72a69a50d00000', 'ratio': '0x9c41b98f3fe350b8', 'standing': 'Mining'}\n",
      "------------------------------------------------------------------------------------------------------------------\n",
      "Reading getAccountPositions, with parameters {'_owner': 'hxe7af5fcfd8dfc67530a01a0e403882687528dfcb'} on the loans contract.\n",
      "------------------------------------------------------------------------------------------------------------------\n",
      "{'pos_id': '0x2', 'created': '0x5c010377548da', 'address': 'hxe7af5fcfd8dfc67530a01a0e403882687528dfcb', 'snap_id': '0x1', 'snaps_length': '0x1', 'last_snap': '0x1', 'first day': '0x1', 'assets': {'sICX': '0xad78ebc5ac6200000', 'bnUSD': '0x2bcd40a70853a0000'}, 'total_debt': '0x1a3107502244a0ee3', 'collateral': '0xad78ebc5ac6200000', 'ratio': '0x5bea6d271685b703', 'standing': 'Mining'}\n",
      "......!!!!!!!!!!!!!!!!............\n",
      ".....Test Successfull...\n"
     ]
    }
   ],
   "source": [
    "test_cases = {\n",
    "        \"stories\":[\n",
    "            {\n",
    "            \"description\": \"mint loan to account wallet from btest_wallet\",\n",
    "            \"actions\":{\n",
    "                \"deposited_icx\": 200 * ICX,\n",
    "                \"acc_method\":\"getAccountPositions\",\n",
    "                \"acc_params\":{\"owner\": btest_wallet.get_address()},\n",
    "                \"new_acc_params\":{\"owner\": wallet.get_address()},\n",
    "                \"collateral_method\":\"addCollateral\",\n",
    "                \"collateral_params\":{\"asset\":\" \", \"amount\": 0 },\n",
    "                \"method\":\"originateLoan\",\n",
    "                \"params\":{\"asset\": \"bnUSD\", \"amount\": 50 * ICX, \"from\":wallet.get_address()},\n",
    "                \"expected_account_status\":\"That address has no outstanding loans or deposited collateral.\",\n",
    "                \"expected_result\":\"Mining\"\n",
    "            }\n",
    "        }\n",
    "    ]\n",
    "}\n",
    "\n",
    "for case in test_cases['stories']:\n",
    "    print(case['description'])\n",
    "    _collateral = case['actions']['deposited_icx']\n",
    "    _acc_method = case['actions']['acc_method']\n",
    "    _acc_data = case['actions']['acc_params']\n",
    "    _acc_params = {'_owner':_acc_data['owner']}\n",
    "    _new_acc_data = case['actions']['new_acc_params']\n",
    "    _new_acc_params = {'_owner':_new_acc_data['owner']}\n",
    "    _collateral_method = case['actions']['collateral_method']\n",
    "    _collateral_data = case['actions']['collateral_params']\n",
    "    _collateral_params = {'_asset': _collateral_data['asset'], '_amount': _collateral_data['amount']}\n",
    "    _loan_method = case['actions']['method']\n",
    "    _loan_data = case['actions']['params']\n",
    "    _loan_params = {'_asset': _loan_data['asset'], '_amount': _loan_data['amount'],'_from': _loan_data['from']}\n",
    "\n",
    "    res = call_tx('loans', _acc_method, _new_acc_params)\n",
    "    assert res['message'] == case['actions']['expected_account_status'], 'Test case failed for minting loan from btest_wallet'\n",
    "    send_tx('loans', _collateral, _collateral_method, _collateral_params, wallet)\n",
    "    send_tx('loans', 0, _loan_method, _loan_params, btest_wallet)\n",
    "    \n",
    "    call_tx('loans', _acc_method, _acc_params)\n",
    "    res = call_tx('loans', _acc_method, _new_acc_params)\n",
    "    assert res['standing'] == case['actions']['expected_result'] , 'Test case failed for minting loan from btest_wallet'\n",
    "    print('......!!!!!!!!!!!!!!!!............')\n",
    "    print('.....Test Successfull...')\n",
    "\n"
   ]
  },
  {
   "cell_type": "markdown",
   "metadata": {},
   "source": [
    "Try taking loan from user1 who has deposited 500 ICX and havent taken loan, calling from btest_wallet"
   ]
  },
  {
   "cell_type": "code",
   "execution_count": 26,
   "metadata": {
    "scrolled": true
   },
   "outputs": [
    {
     "name": "stdout",
     "output_type": "stream",
     "text": [
      "mint loan to account wallet from btest_wallet which doesn't have loans\n",
      "------------------------------------------------------------------------------------------------------------------\n",
      "Reading getAccountPositions, with parameters {'_owner': 'hxe62d11fa19a0e8575ad92f06bc8fd42edbfe27db'} on the loans contract.\n",
      "------------------------------------------------------------------------------------------------------------------\n",
      "{'message': 'That address has no outstanding loans or deposited collateral.'}\n",
      "------------------------------------------------------------------------------------------------------------------\n",
      "Calling addCollateral, with parameters {'_asset': ' ', '_amount': 0} on the loans contract.\n",
      "------------------------------------------------------------------------------------------------------------------\n"
     ]
    },
    {
     "name": "stderr",
     "output_type": "stream",
     "text": [
      "Raised JSONRPCException while returning the custom response. Error message: {'code': -32602, 'message': 'Pending transaction'}\n"
     ]
    },
    {
     "name": "stdout",
     "output_type": "stream",
     "text": [
      "Retrying in 1 seconds...\n",
      "************************************************** Status: 1 **************************************************\n",
      "{'scoreAddress': 'cx3961887405ab2a5c82714603fdbe19422822f5bf', 'indexed': ['ICXTransfer(Address,Address,int)', 'cx3961887405ab2a5c82714603fdbe19422822f5bf', 'cx1ccd5b134240bb2f3918548e4bb4e460abb7c1bb', '0x1b1ae4d6e2ef500000'], 'data': []} \n",
      "\n",
      "{'scoreAddress': 'cx0814d0754f95694376554bc1f8c2ccf7849f0dd2', 'indexed': ['Mint(Address,int,bytes)', 'cx3961887405ab2a5c82714603fdbe19422822f5bf'], 'data': ['0x1b1ae4d6e2ef500000', '0x7b226d6574686f64223a225f6465706f7369745f616e645f626f72726f77222c22706172616d73223a7b225f73656e646572223a22687865363264313166613139613065383537356164393266303662633866643432656462666532376462222c225f6173736574223a2220222c225f616d6f756e74223a307d7d']} \n",
      "\n",
      "{'scoreAddress': 'cx0814d0754f95694376554bc1f8c2ccf7849f0dd2', 'indexed': ['Transfer(Address,Address,int,bytes)', 'hx0000000000000000000000000000000000000000', 'cx3961887405ab2a5c82714603fdbe19422822f5bf', '0x1b1ae4d6e2ef500000'], 'data': ['0x7b226d6574686f64223a225f6465706f7369745f616e645f626f72726f77222c22706172616d73223a7b225f73656e646572223a22687865363264313166613139613065383537356164393266303662633866643432656462666532376462222c225f6173736574223a2220222c225f616d6f756e74223a307d7d']} \n",
      "\n",
      "{'scoreAddress': 'cx3961887405ab2a5c82714603fdbe19422822f5bf', 'indexed': ['CollateralReceived(Address,str)', 'hxe62d11fa19a0e8575ad92f06bc8fd42edbfe27db', 'sICX'], 'data': []} \n",
      "\n",
      "{'scoreAddress': 'cx1ccd5b134240bb2f3918548e4bb4e460abb7c1bb', 'indexed': ['TokenTransfer(Address,int,str)', 'cx3961887405ab2a5c82714603fdbe19422822f5bf', '0x1b1ae4d6e2ef500000'], 'data': ['500 sICX minted to cx3961887405ab2a5c82714603fdbe19422822f5bf']} \n",
      "\n",
      "------------------------------------------------------------------------------------------------------------------\n",
      "Calling originateLoan, with parameters {'_asset': 'bnUSD', '_amount': 50000000000000000000, '_from': 'hxe62d11fa19a0e8575ad92f06bc8fd42edbfe27db'} on the loans contract.\n",
      "------------------------------------------------------------------------------------------------------------------\n"
     ]
    },
    {
     "name": "stderr",
     "output_type": "stream",
     "text": [
      "Raised JSONRPCException while returning the custom response. Error message: {'code': -32602, 'message': 'Pending transaction'}\n"
     ]
    },
    {
     "name": "stdout",
     "output_type": "stream",
     "text": [
      "Retrying in 1 seconds...\n",
      "************************************************** Status: 1 **************************************************\n",
      "{'scoreAddress': 'cx7ab9dff691a3c1b0be060036700a1f1d177f78ee', 'indexed': ['OraclePrice(str,str,Address,int)', 'USDICX', 'BandChain', 'cx7171e2f5653c1b9c000e24228276b8d24e84f10d'], 'data': ['0x84c5d90848544bb']} \n",
      "\n",
      "{'scoreAddress': 'cx3961887405ab2a5c82714603fdbe19422822f5bf', 'indexed': ['OriginateLoan(Address,str,int,str)', 'hxe62d11fa19a0e8575ad92f06bc8fd42edbfe27db', 'bnUSD', '0x2b5e3af16b1880000'], 'data': ['Loan of 50000000000000000000 bnUSD from Balanced.']} \n",
      "\n",
      "{'scoreAddress': 'cx7ab9dff691a3c1b0be060036700a1f1d177f78ee', 'indexed': ['Mint(Address,int,bytes)', 'hxe62d11fa19a0e8575ad92f06bc8fd42edbfe27db'], 'data': ['0x2b5e3af16b1880000', '0x4e6f6e65']} \n",
      "\n",
      "{'scoreAddress': 'cx7ab9dff691a3c1b0be060036700a1f1d177f78ee', 'indexed': ['Transfer(Address,Address,int,bytes)', 'hx0000000000000000000000000000000000000000', 'hxe62d11fa19a0e8575ad92f06bc8fd42edbfe27db', '0x2b5e3af16b1880000'], 'data': ['0x4e6f6e65']} \n",
      "\n",
      "{'scoreAddress': 'cx7ab9dff691a3c1b0be060036700a1f1d177f78ee', 'indexed': ['Mint(Address,int,bytes)', 'cx64d2fbdcea9f40069b547c135a1481cf62d2bde6'], 'data': ['0x6f05b59d3b20000', '0x4e6f6e65']} \n",
      "\n",
      "{'scoreAddress': 'cx7ab9dff691a3c1b0be060036700a1f1d177f78ee', 'indexed': ['Transfer(Address,Address,int,bytes)', 'hx0000000000000000000000000000000000000000', 'cx64d2fbdcea9f40069b547c135a1481cf62d2bde6', '0x6f05b59d3b20000'], 'data': ['0x4e6f6e65']} \n",
      "\n",
      "{'scoreAddress': 'cx3961887405ab2a5c82714603fdbe19422822f5bf', 'indexed': ['FeePaid(str,int,str,str)', 'bnUSD', '0x6f05b59d3b20000', 'origination'], 'data': ['']} \n",
      "\n",
      "------------------------------------------------------------------------------------------------------------------\n",
      "Reading getAccountPositions, with parameters {'_owner': 'hxe62d11fa19a0e8575ad92f06bc8fd42edbfe27db'} on the loans contract.\n",
      "------------------------------------------------------------------------------------------------------------------\n",
      "{'pos_id': '0x3', 'created': '0x5c010415d6ba4', 'address': 'hxe62d11fa19a0e8575ad92f06bc8fd42edbfe27db', 'snap_id': '0x1', 'snaps_length': '0x1', 'last_snap': '0x1', 'first day': '0x1', 'assets': {'sICX': '0x1b1ae4d6e2ef500000', 'bnUSD': '0x2bcd40a70853a0000'}, 'total_debt': '0x1a3107502244a0ee3', 'collateral': '0x1b1ae4d6e2ef500000', 'ratio': '0xe5ca10e1b84e4987', 'standing': 'Mining'}\n",
      "......!!!!!!!!!!!!!!!!............\n",
      ".....Test Successfull...\n"
     ]
    }
   ],
   "source": [
    "# 1. Deposit only collateral to user1 wallet of 500 ICX\n",
    "\n",
    "test_cases = {\n",
    "        \"stories\":[\n",
    "            {\n",
    "            \"description\": \"mint loan to account wallet from btest_wallet which doesn't have loans\",\n",
    "            \"actions\":{\n",
    "                \"deposited_icx\": 500 * ICX,\n",
    "                \"acc_method\":\"getAccountPositions\",\n",
    "                \"acc_params\":{\"owner\": btest_wallet.get_address()},\n",
    "                \"user1_acc_params\":{\"owner\": user1.get_address()},\n",
    "                \"collateral_method\":\"addCollateral\",\n",
    "                \"collateral_params\":{\"asset\":\" \", \"amount\": 0 },\n",
    "                \"method\":\"originateLoan\",\n",
    "                \"params\":{\"asset\": \"bnUSD\", \"amount\": 50 * ICX, \"from\":user1.get_address()},\n",
    "                \"expected_account_status\":\"That address has no outstanding loans or deposited collateral.\",\n",
    "                \"expected_result\":\"Mining\"\n",
    "            }\n",
    "        }\n",
    "    ]\n",
    "}\n",
    "\n",
    "for case in test_cases['stories']:\n",
    "    print(case['description'])\n",
    "    _collateral = case['actions']['deposited_icx']\n",
    "    _acc_method = case['actions']['acc_method']\n",
    "    _acc_data = case['actions']['acc_params']\n",
    "    _acc_params = {'_owner':_acc_data['owner']}\n",
    "    _user1_acc_data = case['actions']['user1_acc_params']\n",
    "    _user1_acc_params = {'_owner':_user1_acc_data['owner']}\n",
    "    _collateral_method = case['actions']['collateral_method']\n",
    "    _collateral_data = case['actions']['collateral_params']\n",
    "    _collateral_params = {'_asset': _collateral_data['asset'], '_amount': _collateral_data['amount']}\n",
    "    _loan_method = case['actions']['method']\n",
    "    _loan_data = case['actions']['params']\n",
    "    _loan_params = {'_asset': _loan_data['asset'], '_amount': _loan_data['amount'],'_from': _loan_data['from']}\n",
    "\n",
    "    \n",
    "    res = call_tx('loans', _acc_method, _user1_acc_params)\n",
    "    assert res['message'] == case['actions']['expected_account_status'], 'Test case faied trying to take loan on account wallet from btest_wallet which doesnt have loans'\n",
    "    send_tx('loans', _collateral, _collateral_method, _collateral_params, user1)\n",
    "    send_tx('loans', 0, _loan_method, _loan_params, btest_wallet)\n",
    "    \n",
    "    res = call_tx('loans', _acc_method, _user1_acc_params)\n",
    "    assert res['standing'] == case['actions']['expected_result'], 'Test case faied trying to take loan on account wallet from btest_wallet which doesnt have loans'\n",
    "    print('......!!!!!!!!!!!!!!!!............')\n",
    "    print('.....Test Successfull...')\n",
    "\n"
   ]
  },
  {
   "cell_type": "code",
   "execution_count": null,
   "metadata": {},
   "outputs": [],
   "source": []
  }
 ],
 "metadata": {
  "kernelspec": {
   "display_name": "Python 3",
   "language": "python",
   "name": "python3"
  },
  "language_info": {
   "codemirror_mode": {
    "name": "ipython",
    "version": 3
   },
   "file_extension": ".py",
   "mimetype": "text/x-python",
   "name": "python",
   "nbconvert_exporter": "python",
   "pygments_lexer": "ipython3",
   "version": "3.7.6"
  }
 },
 "nbformat": 4,
 "nbformat_minor": 4
}
