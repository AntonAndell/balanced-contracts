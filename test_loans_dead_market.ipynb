{
 "cells": [
  {
   "cell_type": "code",
   "execution_count": 22,
   "metadata": {},
   "outputs": [],
   "source": [
    "# Cell 0\n",
    "\n",
    "network = \"custom\"  # set this to one of mainnet, yeouido, euljiro, pagoda, or custom\n",
    "\n",
    "connections = {\n",
    "\"mainnet\": {\"iconservice\": \"https://ctz.solidwallet.io\",       \"nid\": 1},\n",
    "\"yeouido\": {\"iconservice\": \"https://bicon.net.solidwallet.io\", \"nid\": 3},\n",
    "\"euljiro\": {\"iconservice\": \"https://test-ctz.solidwallet.io\",  \"nid\": 2},\n",
    "\"pagoda\":  {\"iconservice\": \"https://zicon.net.solidwallet.io\", \"nid\":80},\n",
    "\"custom\":  {\"iconservice\": \"http://18.144.108.38:9000\",        \"nid\": 3}}\n",
    "\n",
    "env = connections[network]"
   ]
  },
  {
   "cell_type": "code",
   "execution_count": 23,
   "metadata": {},
   "outputs": [],
   "source": [
    "# Cell 1\n",
    "\n",
    "from iconsdk.exception import JSONRPCException\n",
    "from iconsdk.libs.in_memory_zip import gen_deploy_data_content\n",
    "from iconsdk.icon_service import IconService\n",
    "from iconsdk.providers.http_provider import HTTPProvider\n",
    "from iconsdk.builder.transaction_builder import CallTransactionBuilder, TransactionBuilder, DeployTransactionBuilder\n",
    "from iconsdk.builder.call_builder import CallBuilder\n",
    "from iconsdk.signed_transaction import SignedTransaction\n",
    "from iconsdk.wallet.wallet import KeyWallet\n",
    "from iconsdk.utils.convert_type import convert_hex_str_to_int\n",
    "from repeater import retry\n",
    "from shutil import make_archive\n",
    "import pickle as pkl\n",
    "from datetime import datetime\n",
    "from time import sleep\n",
    "import json\n",
    "import os\n",
    "\n",
    "ICX = 1000000000000000000 # 10**18\n",
    "GOVERNANCE_ADDRESS = \"cx0000000000000000000000000000000000000000\"\n",
    "ORACLE = \"cx61a36e5d10412e03c907a507d1e8c6c3856d9964\"\n",
    "\n",
    "@retry(JSONRPCException, tries=10, delay=1, back_off=2)\n",
    "def get_tx_result(_tx_hash):\n",
    "    tx_result = icon_service.get_transaction_result(_tx_hash)\n",
    "    return tx_result"
   ]
  },
  {
   "cell_type": "code",
   "execution_count": 24,
   "metadata": {},
   "outputs": [],
   "source": [
    "# Cell 2\n",
    "\n",
    "icon_service = IconService(HTTPProvider(env[\"iconservice\"], 3))\n",
    "NID = env[\"nid\"]"
   ]
  },
  {
   "cell_type": "code",
   "execution_count": 25,
   "metadata": {},
   "outputs": [
    {
     "name": "stdout",
     "output_type": "stream",
     "text": [
      "774333536.3688427\n",
      "4950486.2541346\n"
     ]
    }
   ],
   "source": [
    "# Cell 3\n",
    "\n",
    "wallet = KeyWallet.load(\"keystores/keystore_test1.json\", \"test1_Account\")\n",
    "# Balanced test wallet\n",
    "with open(\"keystores/balanced_test.pwd\", \"r\") as f:\n",
    "    key_data = f.read()\n",
    "btest_wallet = KeyWallet.load(\"keystores/balanced_test.json\", key_data)\n",
    "print(icon_service.get_balance(wallet.get_address())/10**18)\n",
    "print(icon_service.get_balance(btest_wallet.get_address())/10**18)"
   ]
  },
  {
   "cell_type": "code",
   "execution_count": 26,
   "metadata": {},
   "outputs": [
    {
     "name": "stdout",
     "output_type": "stream",
     "text": [
      "hxe7af5fcfd8dfc67530a01a0e403882687528dfcb\n",
      "774333536.3688427\n"
     ]
    }
   ],
   "source": [
    "print(wallet.get_address())\n",
    "print(icon_service.get_balance(wallet.get_address()) / 10**18)"
   ]
  },
  {
   "cell_type": "code",
   "execution_count": 27,
   "metadata": {},
   "outputs": [
    {
     "name": "stdout",
     "output_type": "stream",
     "text": [
      "hx3f01840a599da07b0f620eeae7aa9c574169a4be\n",
      "4950486.2541346\n"
     ]
    }
   ],
   "source": [
    "print(btest_wallet.get_address())\n",
    "print(icon_service.get_balance(btest_wallet.get_address()) / 10**18)"
   ]
  },
  {
   "cell_type": "code",
   "execution_count": 28,
   "metadata": {},
   "outputs": [
    {
     "name": "stdout",
     "output_type": "stream",
     "text": [
      "56450.1956236\n",
      "hxe62d11fa19a0e8575ad92f06bc8fd42edbfe27db\n",
      "696.2848526\n",
      "hx7a1824129a8fe803e45a3aae1c0e060399546187\n"
     ]
    }
   ],
   "source": [
    "user1 = KeyWallet.load(\"keystores/user1.json\",\"HelloWorld@1234\")\n",
    "# btest_wallet = KeyWallet.load(\"./balanced_test.json\",\"HelloWorld@1234\")\n",
    "\n",
    "print(icon_service.get_balance(user1.get_address())/10**18)\n",
    "print(user1.get_address())\n",
    "\n",
    "# test2 = hx7a1824129a8fe803e45a3aae1c0e060399546187\n",
    "private = \"0a354424b20a7e3c55c43808d607bddfac85d033e63d7d093cb9f0a26c4ee022\"\n",
    "user2 = KeyWallet.load(bytes.fromhex(private))\n",
    "print(icon_service.get_balance(user2.get_address())/10**18)\n",
    "print(user2.get_address())"
   ]
  },
  {
   "cell_type": "code",
   "execution_count": 29,
   "metadata": {},
   "outputs": [],
   "source": [
    "# The following addresses are those deployed to the private tbears server.\n",
    "\n",
    "contracts = {'loans': {'zip': 'core_contracts/loans.zip', 'SCORE': 'cx55f2ab7a026bd070d117233f32fbc614bd904a20'}, 'staking': {'zip': 'core_contracts/staking.zip', 'SCORE': 'cxd0c708c7c7c2ed97b10bc0a1772f7036d351a5c5'}, 'dividends': {'zip': 'core_contracts/dividends.zip', 'SCORE': 'cx3d1fa0db471e68dc5df110455660a1c476e46eec'}, 'reserve': {'zip': 'core_contracts/reserve.zip', 'SCORE': 'cx8d447de699e8c40bafe0fd35d498cd3c58c99425'}, 'daofund': {'zip': 'core_contracts/daofund.zip', 'SCORE': 'cxfd51e9df2e7a10df873009a2a6bf80c13a0508af'}, 'rewards': {'zip': 'core_contracts/rewards.zip', 'SCORE': 'cx5c3c476f9a097589d7108fe2e9b71ada7161ad78'}, 'dex': {'zip': 'core_contracts/dex.zip', 'SCORE': 'cxd9f12ee8e9a3d0774e929b3118c568555a419385'}, 'governance': {'zip': 'core_contracts/governance.zip', 'SCORE': 'cx5c0170c8a2059a8678e65297fd4188b3de631b74'}, 'oracle': {'zip': 'core_contracts/oracle.zip', 'SCORE': 'cx7171e2f5653c1b9c000e24228276b8d24e84f10d'}, 'sicx': {'zip': 'token_contracts/sicx.zip', 'SCORE': 'cx51b3add2ab11c541b628fd8eca22dd362b11f54c'}, 'bnUSD': {'zip': 'token_contracts/bnUSD.zip', 'SCORE': 'cx228a83c7dabe2a34424de5d963944b1a1e55d09e'}, 'baln': {'zip': 'token_contracts/baln.zip', 'SCORE': 'cxcacc2eef044822a9f000a1566f3585fe26f35af2'}, 'bwt': {'zip': 'token_contracts/bwt.zip', 'SCORE': 'cx2c79be5145135b056d49990ed3259adfb4acef75'}}"
   ]
  },
  {
   "cell_type": "code",
   "execution_count": 32,
   "metadata": {},
   "outputs": [],
   "source": [
    "# Cell 6\n",
    "# Define deploy and send_tx functions\n",
    "\n",
    "def compress():\n",
    "    \"\"\"\n",
    "    Compress all SCORE folders in the core_contracts and toekn_contracts folders\n",
    "    \"\"\"\n",
    "    deploy = list(contracts.keys())[:]\n",
    "    for directory in {\"core_contracts\", \"token_contracts\"}:\n",
    "        with os.scandir(directory) as it:\n",
    "            for file in it:\n",
    "                archive_name = directory + \"/\" + file.name\n",
    "                if file.is_dir() and file.name in deploy:\n",
    "                    make_archive(archive_name, \"zip\", directory, file.name)\n",
    "                    contracts[file.name]['zip'] = archive_name + '.zip'\n",
    "\n",
    "def deploy_SCORE(contract, params, wallet, update) -> str:\n",
    "    \"\"\"\n",
    "    contract is of form {'zip': 'core_contracts/governance.zip', 'SCORE': 'cx1d81f93b3b8d8d2a6455681c46128868782ddd09'}\n",
    "    params is a dicts\n",
    "    wallet is a wallet file\n",
    "    update is boolian\n",
    "    \"\"\"\n",
    "    print(f'{contract[\"zip\"]}')\n",
    "    if update:\n",
    "        dest = contract['SCORE']\n",
    "    else:\n",
    "        dest = GOVERNANCE_ADDRESS\n",
    "    zip_file = contract['zip']\n",
    "    step_limit = 4000100000\n",
    "    deploy_transaction = DeployTransactionBuilder()\\\n",
    "        .from_(wallet.get_address())\\\n",
    "        .to(dest)\\\n",
    "        .nid(NID)\\\n",
    "        .nonce(100)\\\n",
    "        .content_type(\"application/zip\")\\\n",
    "        .content(gen_deploy_data_content(zip_file))\\\n",
    "        .params(params)\\\n",
    "        .build()\n",
    "\n",
    "    signed_transaction = SignedTransaction(deploy_transaction, wallet, step_limit)\n",
    "    tx_hash = icon_service.send_transaction(signed_transaction)\n",
    "\n",
    "    res = get_tx_result(tx_hash)\n",
    "    print(f'Status: {res[\"status\"]}')\n",
    "    if len(res[\"eventLogs\"]) > 0:\n",
    "        for item in res[\"eventLogs\"]:\n",
    "            print(f'{item} \\n')\n",
    "    if res['status'] == 0:\n",
    "        print(f'Failure: {res[\"failure\"]}')\n",
    "    print('')\n",
    "    return res.get('scoreAddress', '')\n",
    "\n",
    "def send_tx(dest, value, method, params, wallet):\n",
    "    \"\"\"\n",
    "    dest is the name of the destination contract.\n",
    "    \"\"\"\n",
    "    print('------------------------------------------------------------------------------------------------------------------')\n",
    "    print(f'Calling {method}, with parameters {params} on the {dest} contract.')\n",
    "    print('------------------------------------------------------------------------------------------------------------------')\n",
    "    transaction = CallTransactionBuilder()\\\n",
    "        .from_(wallet.get_address())\\\n",
    "        .to(contracts[dest]['SCORE'])\\\n",
    "        .value(value)\\\n",
    "        .step_limit(10000000)\\\n",
    "        .nid(NID)\\\n",
    "        .nonce(100)\\\n",
    "        .method(method)\\\n",
    "        .params(params)\\\n",
    "        .build()\n",
    "    signed_transaction = SignedTransaction(transaction, wallet)\n",
    "    tx_hash = icon_service.send_transaction(signed_transaction)\n",
    "\n",
    "    res = get_tx_result(tx_hash)\n",
    "    print(f'************************************************** Status: {res[\"status\"]} **************************************************')\n",
    "    if len(res[\"eventLogs\"]) > 0:\n",
    "        for item in res[\"eventLogs\"]:\n",
    "            print(f'{item} \\n')\n",
    "    if res['status'] == 0:\n",
    "        print(f'Failure: {res[\"failure\"]}')\n",
    "    return res\n",
    "\n",
    "def deploy_all(wallet):\n",
    "    \"\"\"\n",
    "    Compress, Deploy and Configure all SCOREs\n",
    "    \"\"\"\n",
    "    compress()\n",
    "\n",
    "    deploy = list(contracts.keys())[:]\n",
    "    deploy.remove('oracle')\n",
    "    deploy.remove('staking')\n",
    "    deploy.remove('sicx')\n",
    "    deploy.remove('governance')\n",
    "\n",
    "    governance = deploy_SCORE(contracts['governance'], {}, wallet, 0)\n",
    "    contracts['governance']['SCORE'] = governance\n",
    "    for score in deploy:\n",
    "        contracts[score]['SCORE'] = deploy_SCORE(contracts[score], {'_governance': governance}, wallet, 0)\n",
    "    contracts['staking']['SCORE'] = deploy_SCORE(contracts['staking'], {}, wallet, 0)\n",
    "    contracts['sicx']['SCORE'] = deploy_SCORE(contracts['sicx'], {'_admin': contracts['staking']['SCORE']}, wallet, 0)\n",
    "\n",
    "    config = list(contracts.keys())[:]\n",
    "    config.remove('governance')\n",
    "    addresses = {contract: contracts[contract]['SCORE'] for contract in config}\n",
    "\n",
    "    txns = [{'contract': 'staking', 'value': 0, 'method': 'setSicxAddress', 'params': {'_address': contracts['sicx']['SCORE']}},\n",
    "            {'contract': 'governance', 'value': 0, 'method': 'setAddresses', 'params': {'_addresses': addresses}},\n",
    "            {'contract': 'governance', 'value': 0, 'method': 'launchBalanced', 'params': {}}]\n",
    "\n",
    "    for tx in txns:\n",
    "        res = send_tx(tx[\"contract\"], tx[\"value\"], tx[\"method\"], tx[\"params\"], wallet)\n",
    "        results[f'{tx[\"contract\"]}|{tx[\"method\"]}|{tx[\"params\"]}'] = res\n",
    "\n",
    "def get_scores_json(contracts):\n",
    "    \"\"\"\n",
    "    Prints out dictionary of SCORE addresses for use in testing UI.\n",
    "    \"\"\"\n",
    "    scores = {}\n",
    "    for score in contracts:\n",
    "        scores[score] = contracts[score]['SCORE']\n",
    "    return json.dumps(scores)\n",
    "\n",
    "def call_tx(dest: str, method: str, params: dict = {}):\n",
    "    \"\"\"\n",
    "    dest is the name of the destination contract.\n",
    "    \"\"\"\n",
    "    print('------------------------------------------------------------------------------------------------------------------')\n",
    "    print(f'Reading {method}, with parameters {params} on the {dest} contract.')\n",
    "    print('------------------------------------------------------------------------------------------------------------------')\n",
    "    call = CallBuilder()\\\n",
    "        .from_(wallet.get_address())\\\n",
    "        .to(contracts[dest]['SCORE'])\\\n",
    "        .method(method)\\\n",
    "        .params(params)\\\n",
    "        .build()\n",
    "    result = icon_service.call(call)\n",
    "    print(result)\n",
    "    return result\n"
   ]
  },
  {
   "cell_type": "code",
   "execution_count": 33,
   "metadata": {},
   "outputs": [
    {
     "name": "stdout",
     "output_type": "stream",
     "text": [
      "core_contracts/governance.zip\n",
      "Status: 1\n",
      "\n",
      "core_contracts/loans.zip\n",
      "Status: 1\n",
      "\n",
      "core_contracts/dividends.zip\n"
     ]
    },
    {
     "name": "stderr",
     "output_type": "stream",
     "text": [
      "Raised JSONRPCException while returning the custom response. Error message: {'code': -32602, 'message': 'Pending transaction'}\n"
     ]
    },
    {
     "name": "stdout",
     "output_type": "stream",
     "text": [
      "Retrying in 1 seconds...\n",
      "Status: 1\n",
      "\n",
      "core_contracts/reserve.zip\n",
      "Status: 1\n",
      "\n",
      "core_contracts/daofund.zip\n"
     ]
    },
    {
     "name": "stderr",
     "output_type": "stream",
     "text": [
      "Raised JSONRPCException while returning the custom response. Error message: {'code': -32602, 'message': 'Pending transaction'}\n"
     ]
    },
    {
     "name": "stdout",
     "output_type": "stream",
     "text": [
      "Retrying in 1 seconds...\n",
      "Status: 1\n",
      "\n",
      "core_contracts/rewards.zip\n"
     ]
    },
    {
     "name": "stderr",
     "output_type": "stream",
     "text": [
      "Raised JSONRPCException while returning the custom response. Error message: {'code': -32602, 'message': 'Pending transaction'}\n"
     ]
    },
    {
     "name": "stdout",
     "output_type": "stream",
     "text": [
      "Retrying in 1 seconds...\n",
      "Status: 1\n",
      "\n",
      "core_contracts/dex.zip\n",
      "Status: 1\n",
      "\n",
      "token_contracts/bnUSD.zip\n"
     ]
    },
    {
     "name": "stderr",
     "output_type": "stream",
     "text": [
      "Raised JSONRPCException while returning the custom response. Error message: {'code': -32602, 'message': 'Pending transaction'}\n"
     ]
    },
    {
     "name": "stdout",
     "output_type": "stream",
     "text": [
      "Retrying in 1 seconds...\n",
      "Status: 1\n",
      "\n",
      "token_contracts/baln.zip\n"
     ]
    },
    {
     "name": "stderr",
     "output_type": "stream",
     "text": [
      "Raised JSONRPCException while returning the custom response. Error message: {'code': -32602, 'message': 'Pending transaction'}\n"
     ]
    },
    {
     "name": "stdout",
     "output_type": "stream",
     "text": [
      "Retrying in 1 seconds...\n",
      "Status: 1\n",
      "\n",
      "token_contracts/bwt.zip\n"
     ]
    },
    {
     "name": "stderr",
     "output_type": "stream",
     "text": [
      "Raised JSONRPCException while returning the custom response. Error message: {'code': -32602, 'message': 'Pending transaction'}\n"
     ]
    },
    {
     "name": "stdout",
     "output_type": "stream",
     "text": [
      "Retrying in 1 seconds...\n",
      "Status: 1\n",
      "\n",
      "core_contracts/staking.zip\n"
     ]
    },
    {
     "name": "stderr",
     "output_type": "stream",
     "text": [
      "Raised JSONRPCException while returning the custom response. Error message: {'code': -32602, 'message': 'Pending transaction'}\n"
     ]
    },
    {
     "name": "stdout",
     "output_type": "stream",
     "text": [
      "Retrying in 1 seconds...\n",
      "Status: 1\n",
      "\n",
      "token_contracts/sicx.zip\n"
     ]
    },
    {
     "name": "stderr",
     "output_type": "stream",
     "text": [
      "Raised JSONRPCException while returning the custom response. Error message: {'code': -32602, 'message': 'Pending transaction'}\n"
     ]
    },
    {
     "name": "stdout",
     "output_type": "stream",
     "text": [
      "Retrying in 1 seconds...\n",
      "Status: 1\n",
      "\n",
      "------------------------------------------------------------------------------------------------------------------\n",
      "Calling setSicxAddress, with parameters {'_address': 'cx4f59af61d7210e2a138b88eb1077e8e8a68af9b1'} on the staking contract.\n",
      "------------------------------------------------------------------------------------------------------------------\n"
     ]
    },
    {
     "name": "stderr",
     "output_type": "stream",
     "text": [
      "Raised JSONRPCException while returning the custom response. Error message: {'code': -32602, 'message': 'Pending transaction'}\n"
     ]
    },
    {
     "name": "stdout",
     "output_type": "stream",
     "text": [
      "Retrying in 1 seconds...\n",
      "************************************************** Status: 1 **************************************************\n",
      "------------------------------------------------------------------------------------------------------------------\n",
      "Calling setAddresses, with parameters {'_addresses': {'loans': 'cx7a7a8af8ac6543e3bdca1dad1b25c3da23b28ce7', 'staking': 'cx7d74364aee41eb0376eed58b19435f026ae22d99', 'dividends': 'cx9f1d8346b38dd64c749931aabd005742e126e954', 'reserve': 'cx08a3e025cf82ec9aaf9b2ebf245c28a2014a0a59', 'daofund': 'cx9bf0bc2dac101217eeaac43627391ef8a0ccfcf0', 'rewards': 'cx525b3c633fba819bbf7c5296c77595532425dbe0', 'dex': 'cx1b0a4ec3707abff4df7905dfefeaebdefc5bba80', 'oracle': 'cx7171e2f5653c1b9c000e24228276b8d24e84f10d', 'sicx': 'cx4f59af61d7210e2a138b88eb1077e8e8a68af9b1', 'bnUSD': 'cx5b9a525b571874ab429fc04d1534f90a987696dd', 'baln': 'cxd687405123ed77f7935e4e5c951382e1a292dd54', 'bwt': 'cx2232bfa18f00c07802e52024aa5508e6c4b2eab0'}} on the governance contract.\n",
      "------------------------------------------------------------------------------------------------------------------\n"
     ]
    },
    {
     "name": "stderr",
     "output_type": "stream",
     "text": [
      "Raised JSONRPCException while returning the custom response. Error message: {'code': -32602, 'message': 'Pending transaction'}\n"
     ]
    },
    {
     "name": "stdout",
     "output_type": "stream",
     "text": [
      "Retrying in 1 seconds...\n",
      "************************************************** Status: 1 **************************************************\n",
      "------------------------------------------------------------------------------------------------------------------\n",
      "Calling launchBalanced, with parameters {} on the governance contract.\n",
      "------------------------------------------------------------------------------------------------------------------\n"
     ]
    },
    {
     "name": "stderr",
     "output_type": "stream",
     "text": [
      "Raised JSONRPCException while returning the custom response. Error message: {'code': -32602, 'message': 'Pending transaction'}\n"
     ]
    },
    {
     "name": "stdout",
     "output_type": "stream",
     "text": [
      "Retrying in 1 seconds...\n",
      "************************************************** Status: 1 **************************************************\n",
      "{'scoreAddress': 'cx7a7a8af8ac6543e3bdca1dad1b25c3da23b28ce7', 'indexed': ['AssetAdded(Address,str,bool)', 'cx4f59af61d7210e2a138b88eb1077e8e8a68af9b1', 'sICX', '0x1'], 'data': []} \n",
      "\n",
      "{'scoreAddress': 'cx7a7a8af8ac6543e3bdca1dad1b25c3da23b28ce7', 'indexed': ['AssetAdded(Address,str,bool)', 'cx5b9a525b571874ab429fc04d1534f90a987696dd', 'bnUSD', '0x0'], 'data': []} \n",
      "\n",
      "{'scoreAddress': 'cx7a7a8af8ac6543e3bdca1dad1b25c3da23b28ce7', 'indexed': ['AssetAdded(Address,str,bool)', 'cxd687405123ed77f7935e4e5c951382e1a292dd54', 'BALN', '0x1'], 'data': []} \n",
      "\n",
      "{'scoreAddress': 'cx7a7a8af8ac6543e3bdca1dad1b25c3da23b28ce7', 'indexed': ['ContractActive(str,str)', 'Loans'], 'data': ['Active']} \n",
      "\n",
      "------------------------------------------------------------------------------------------------------------------\n",
      "{'loans': {'zip': 'core_contracts/loans.zip', 'SCORE': 'cx7a7a8af8ac6543e3bdca1dad1b25c3da23b28ce7'}, 'staking': {'zip': 'core_contracts/staking.zip', 'SCORE': 'cx7d74364aee41eb0376eed58b19435f026ae22d99'}, 'dividends': {'zip': 'core_contracts/dividends.zip', 'SCORE': 'cx9f1d8346b38dd64c749931aabd005742e126e954'}, 'reserve': {'zip': 'core_contracts/reserve.zip', 'SCORE': 'cx08a3e025cf82ec9aaf9b2ebf245c28a2014a0a59'}, 'daofund': {'zip': 'core_contracts/daofund.zip', 'SCORE': 'cx9bf0bc2dac101217eeaac43627391ef8a0ccfcf0'}, 'rewards': {'zip': 'core_contracts/rewards.zip', 'SCORE': 'cx525b3c633fba819bbf7c5296c77595532425dbe0'}, 'dex': {'zip': 'core_contracts/dex.zip', 'SCORE': 'cx1b0a4ec3707abff4df7905dfefeaebdefc5bba80'}, 'governance': {'zip': 'core_contracts/governance.zip', 'SCORE': 'cxe1303fee592208ed58c92648ca7301b517c3b2cd'}, 'oracle': {'zip': 'core_contracts/oracle.zip', 'SCORE': 'cx7171e2f5653c1b9c000e24228276b8d24e84f10d'}, 'sicx': {'zip': 'token_contracts/sicx.zip', 'SCORE': 'cx4f59af61d7210e2a138b88eb1077e8e8a68af9b1'}, 'bnUSD': {'zip': 'token_contracts/bnUSD.zip', 'SCORE': 'cx5b9a525b571874ab429fc04d1534f90a987696dd'}, 'baln': {'zip': 'token_contracts/baln.zip', 'SCORE': 'cxd687405123ed77f7935e4e5c951382e1a292dd54'}, 'bwt': {'zip': 'token_contracts/bwt.zip', 'SCORE': 'cx2232bfa18f00c07802e52024aa5508e6c4b2eab0'}}\n",
      "{\"loans\": \"cx7a7a8af8ac6543e3bdca1dad1b25c3da23b28ce7\", \"staking\": \"cx7d74364aee41eb0376eed58b19435f026ae22d99\", \"dividends\": \"cx9f1d8346b38dd64c749931aabd005742e126e954\", \"reserve\": \"cx08a3e025cf82ec9aaf9b2ebf245c28a2014a0a59\", \"daofund\": \"cx9bf0bc2dac101217eeaac43627391ef8a0ccfcf0\", \"rewards\": \"cx525b3c633fba819bbf7c5296c77595532425dbe0\", \"dex\": \"cx1b0a4ec3707abff4df7905dfefeaebdefc5bba80\", \"governance\": \"cxe1303fee592208ed58c92648ca7301b517c3b2cd\", \"oracle\": \"cx7171e2f5653c1b9c000e24228276b8d24e84f10d\", \"sicx\": \"cx4f59af61d7210e2a138b88eb1077e8e8a68af9b1\", \"bnUSD\": \"cx5b9a525b571874ab429fc04d1534f90a987696dd\", \"baln\": \"cxd687405123ed77f7935e4e5c951382e1a292dd54\", \"bwt\": \"cx2232bfa18f00c07802e52024aa5508e6c4b2eab0\"}\n"
     ]
    }
   ],
   "source": [
    "# Cell 7\n",
    "# Deploy and configure Balanced. Print results if anything goes wrong.\n",
    "\n",
    "results = {}\n",
    "deploy_all(btest_wallet)\n",
    "print('------------------------------------------------------------------------------------------------------------------')\n",
    "print(contracts)\n",
    "print(get_scores_json(contracts))"
   ]
  },
  {
   "cell_type": "code",
   "execution_count": 21,
   "metadata": {},
   "outputs": [
    {
     "name": "stdout",
     "output_type": "stream",
     "text": [
      "core_contracts/reserve.zip\n"
     ]
    },
    {
     "name": "stderr",
     "output_type": "stream",
     "text": [
      "Raised JSONRPCException while returning the custom response. Error message: {'code': -32602, 'message': 'Pending transaction'}\n"
     ]
    },
    {
     "name": "stdout",
     "output_type": "stream",
     "text": [
      "Retrying in 1 seconds...\n",
      "Status: 1\n",
      "\n"
     ]
    },
    {
     "data": {
      "text/plain": [
       "'cxed4dccb2bd576a4479f92a737be292367207f923'"
      ]
     },
     "execution_count": 21,
     "metadata": {},
     "output_type": "execute_result"
    }
   ],
   "source": [
    "# Cell 8\n",
    "# Deploy or Update a single SCORE\n",
    "\n",
    "compress()\n",
    "update = 0\n",
    "contract = contracts['reserve']\n",
    "params = {}\n",
    "params = {'_governance': contracts['governance']['SCORE']}\n",
    "deploy_SCORE(contract, params, btest_wallet, update)"
   ]
  },
  {
   "cell_type": "code",
   "execution_count": 54,
   "metadata": {},
   "outputs": [
    {
     "name": "stdout",
     "output_type": "stream",
     "text": [
      "------------------------------------------------------------------------------------------------------------------\n",
      "Calling create_test_position, with parameters {'_address': 'hxe62d11fa19a0e8575ad92f06bc8fd42edbfe27db', '_asset': 'bnUSD', '_amount': 1000000000000000000000} on the loans contract.\n",
      "------------------------------------------------------------------------------------------------------------------\n"
     ]
    },
    {
     "name": "stderr",
     "output_type": "stream",
     "text": [
      "Raised JSONRPCException while returning the custom response. Error message: {'code': -32602, 'message': 'Pending transaction'}\n"
     ]
    },
    {
     "name": "stdout",
     "output_type": "stream",
     "text": [
      "Retrying in 1 seconds...\n",
      "************************************************** Status: 1 **************************************************\n",
      "{'scoreAddress': 'cx7a7a8af8ac6543e3bdca1dad1b25c3da23b28ce7', 'indexed': ['ICXTransfer(Address,Address,int)', 'cx7a7a8af8ac6543e3bdca1dad1b25c3da23b28ce7', 'cx7d74364aee41eb0376eed58b19435f026ae22d99', '0x258'], 'data': []} \n",
      "\n",
      "{'scoreAddress': 'cx4f59af61d7210e2a138b88eb1077e8e8a68af9b1', 'indexed': ['Mint(Address,int,bytes)', 'cx7a7a8af8ac6543e3bdca1dad1b25c3da23b28ce7'], 'data': ['0x258', '0x7b226d6574686f64223a225f6465706f7369745f616e645f626f72726f77222c22706172616d73223a7b225f73656e646572223a22687865363264313166613139613065383537356164393266303662633866643432656462666532376462222c225f6173736574223a22222c225f616d6f756e74223a307d7d']} \n",
      "\n",
      "{'scoreAddress': 'cx4f59af61d7210e2a138b88eb1077e8e8a68af9b1', 'indexed': ['Transfer(Address,Address,int,bytes)', 'hx0000000000000000000000000000000000000000', 'cx7a7a8af8ac6543e3bdca1dad1b25c3da23b28ce7', '0x258'], 'data': ['0x7b226d6574686f64223a225f6465706f7369745f616e645f626f72726f77222c22706172616d73223a7b225f73656e646572223a22687865363264313166613139613065383537356164393266303662633866643432656462666532376462222c225f6173736574223a22222c225f616d6f756e74223a307d7d']} \n",
      "\n",
      "{'scoreAddress': 'cx7a7a8af8ac6543e3bdca1dad1b25c3da23b28ce7', 'indexed': ['CollateralReceived(Address,str)', 'hxe62d11fa19a0e8575ad92f06bc8fd42edbfe27db', 'sICX'], 'data': []} \n",
      "\n",
      "{'scoreAddress': 'cx5b9a525b571874ab429fc04d1534f90a987696dd', 'indexed': ['OraclePrice(str,str,Address,int)', 'USDICX', 'BandChain', 'cx7171e2f5653c1b9c000e24228276b8d24e84f10d'], 'data': ['0x84c5d90848544bb']} \n",
      "\n",
      "{'scoreAddress': 'cx7d74364aee41eb0376eed58b19435f026ae22d99', 'indexed': ['TokenTransfer(Address,int,str)', 'cx7a7a8af8ac6543e3bdca1dad1b25c3da23b28ce7', '0x258'], 'data': ['6e-16 sICX minted to cx7a7a8af8ac6543e3bdca1dad1b25c3da23b28ce7']} \n",
      "\n",
      "{'scoreAddress': 'cx5b9a525b571874ab429fc04d1534f90a987696dd', 'indexed': ['Mint(Address,int,bytes)', 'hxe62d11fa19a0e8575ad92f06bc8fd42edbfe27db'], 'data': ['0x3635c9adc5dea00000', '0x4e6f6e65']} \n",
      "\n",
      "{'scoreAddress': 'cx5b9a525b571874ab429fc04d1534f90a987696dd', 'indexed': ['Transfer(Address,Address,int,bytes)', 'hx0000000000000000000000000000000000000000', 'hxe62d11fa19a0e8575ad92f06bc8fd42edbfe27db', '0x3635c9adc5dea00000'], 'data': ['0x4e6f6e65']} \n",
      "\n",
      "------------------------------------------------------------------------------------------------------------------\n",
      "Reading getAccountPositions, with parameters {'_owner': 'hxe62d11fa19a0e8575ad92f06bc8fd42edbfe27db'} on the loans contract.\n",
      "------------------------------------------------------------------------------------------------------------------\n",
      "{'pos_id': '0x2', 'created': '0x5bea68cca168e', 'address': 'hxe62d11fa19a0e8575ad92f06bc8fd42edbfe27db', 'snap_id': '0x2', 'snaps_length': '0x2', 'last_snap': '0x2', 'first day': '0x1', 'assets': {'sICX': '0x258', 'bnUSD': '0x3635c9adc5dea00000'}, 'replay_index': '0x0', 'events_behind': '0x0', 'total_debt': '0x0', 'ratio': '0x1', 'standing': 'Liquidate'}\n"
     ]
    },
    {
     "data": {
      "text/plain": [
       "{'pos_id': '0x2',\n",
       " 'created': '0x5bea68cca168e',\n",
       " 'address': 'hxe62d11fa19a0e8575ad92f06bc8fd42edbfe27db',\n",
       " 'snap_id': '0x2',\n",
       " 'snaps_length': '0x2',\n",
       " 'last_snap': '0x2',\n",
       " 'first day': '0x1',\n",
       " 'assets': {'sICX': '0x258', 'bnUSD': '0x3635c9adc5dea00000'},\n",
       " 'replay_index': '0x0',\n",
       " 'events_behind': '0x0',\n",
       " 'total_debt': '0x0',\n",
       " 'ratio': '0x1',\n",
       " 'standing': 'Liquidate'}"
      ]
     },
     "execution_count": 54,
     "metadata": {},
     "output_type": "execute_result"
    }
   ],
   "source": [
    "# 1.Add 500icx collateral and mint 50 bnusd of loans from account user2.\n",
    "# 2.call add_test_position method and add bnusd until account is in dead market state from account user1.\n",
    "# 3.after this the asset bnusd will be dead\n",
    "\n",
    "# send_tx('loans', 500 * ICX , 'addCollateral', {'_asset': 'bnUSD', '_amount': 50 * ICX}, user2)\n",
    "# call_tx('loans', 'getAccountPositions', {'_owner': user2.get_address()})\n",
    "# send_tx('loans', 500 * ICX , 'addCollateral', {'_asset': '', '_amount': 0}, user1)\n",
    "# send_tx('loans', 0, 'toggleTestMode', {}, btest_wallet)\n",
    "send_tx('loans', 600, 'create_test_position', {'_address': user1.get_address(), '_asset': 'bnUSD', '_amount': 1000 * ICX}, user1)\n",
    "call_tx('loans', 'getAccountPositions', {'_owner': user1.get_address()})"
   ]
  },
  {
   "cell_type": "code",
   "execution_count": 55,
   "metadata": {},
   "outputs": [
    {
     "name": "stdout",
     "output_type": "stream",
     "text": [
      "------------------------------------------------------------------------------------------------------------------\n",
      "Reading checkDebts, with parameters {} on the loans contract.\n",
      "------------------------------------------------------------------------------------------------------------------\n",
      "{'system': {'debts': '0x38f29db83663da0000', 'bad_debt': '0x2086ac351052600000', 'supply': '0x597949ed46b63a0000', 'diff': '0x0', 'remaining': '0x0'}, 'events': {}}\n",
      "------------------------------------------------------------------------------------------------------------------\n",
      "Calling liquidate, with parameters {'_owner': 'hxe62d11fa19a0e8575ad92f06bc8fd42edbfe27db'} on the loans contract.\n",
      "------------------------------------------------------------------------------------------------------------------\n"
     ]
    },
    {
     "name": "stderr",
     "output_type": "stream",
     "text": [
      "Raised JSONRPCException while returning the custom response. Error message: {'code': -32602, 'message': 'Pending transaction'}\n"
     ]
    },
    {
     "name": "stdout",
     "output_type": "stream",
     "text": [
      "Retrying in 1 seconds...\n",
      "************************************************** Status: 1 **************************************************\n",
      "{'scoreAddress': 'cx7a7a8af8ac6543e3bdca1dad1b25c3da23b28ce7', 'indexed': ['PositionStanding(Address,str,str,str)', 'hxe62d11fa19a0e8575ad92f06bc8fd42edbfe27db', 'Liquidate'], 'data': ['1.0034187718225886e-18', 'Position up to date.']} \n",
      "\n",
      "{'scoreAddress': 'cx4f59af61d7210e2a138b88eb1077e8e8a68af9b1', 'indexed': ['Transfer(Address,Address,int,bytes)', 'cx7a7a8af8ac6543e3bdca1dad1b25c3da23b28ce7', 'hxe62d11fa19a0e8575ad92f06bc8fd42edbfe27db', '0x4'], 'data': ['0x4e6f6e65']} \n",
      "\n",
      "{'scoreAddress': 'cx7a7a8af8ac6543e3bdca1dad1b25c3da23b28ce7', 'indexed': ['TokenTransfer(Address,int,str)', 'hxe62d11fa19a0e8575ad92f06bc8fd42edbfe27db', '0x4'], 'data': ['Liquidation reward of 4 sICX sent to hxe62d11fa19a0e8575ad92f06bc8fd42edbfe27db.']} \n",
      "\n",
      "{'scoreAddress': 'cx7a7a8af8ac6543e3bdca1dad1b25c3da23b28ce7', 'indexed': ['Liquidate(Address,int,str)', 'hxe62d11fa19a0e8575ad92f06bc8fd42edbfe27db', '0x258'], 'data': ['600 liquidated from hxe62d11fa19a0e8575ad92f06bc8fd42edbfe27db']} \n",
      "\n",
      "------------------------------------------------------------------------------------------------------------------\n",
      "Reading getAccountPositions, with parameters {'_owner': 'hxe62d11fa19a0e8575ad92f06bc8fd42edbfe27db'} on the loans contract.\n",
      "------------------------------------------------------------------------------------------------------------------\n",
      "{'pos_id': '0x2', 'created': '0x5bea68cca168e', 'address': 'hxe62d11fa19a0e8575ad92f06bc8fd42edbfe27db', 'snap_id': '0x2', 'snaps_length': '0x2', 'last_snap': '0x2', 'first day': '0x1', 'assets': {'sICX': '0x0'}, 'replay_index': '0x0', 'events_behind': '0x0', 'total_debt': '0x0', 'ratio': '0x0', 'standing': 'Zero'}\n",
      "------------------------------------------------------------------------------------------------------------------\n",
      "Reading checkDebts, with parameters {} on the loans contract.\n",
      "------------------------------------------------------------------------------------------------------------------\n",
      "{'system': {'debts': '0x2bcd40a70853a0000', 'bad_debt': '0x56bc75e2d631000000', 'supply': '0x597949ed46b63a0000', 'diff': '0x0', 'remaining': '0x0'}, 'events': {}}\n"
     ]
    },
    {
     "data": {
      "text/plain": [
       "{'system': {'debts': '0x2bcd40a70853a0000',\n",
       "  'bad_debt': '0x56bc75e2d631000000',\n",
       "  'supply': '0x597949ed46b63a0000',\n",
       "  'diff': '0x0',\n",
       "  'remaining': '0x0'},\n",
       " 'events': {}}"
      ]
     },
     "execution_count": 55,
     "metadata": {},
     "output_type": "execute_result"
    }
   ],
   "source": [
    "# call_tx('loans', 'checkDebts', {})\n",
    "# send_tx('loans', 0, 'add_bad_test_position', {}, user1)\n",
    "call_tx('loans', 'checkDebts', {})\n",
    "send_tx('loans', 0, 'liquidate', {'_owner': user1.get_address()}, user1)\n",
    "call_tx('loans', 'getAccountPositions', {'_owner': user1.get_address()})\n",
    "call_tx('loans', 'checkDebts', {})\n"
   ]
  },
  {
   "cell_type": "code",
   "execution_count": 36,
   "metadata": {},
   "outputs": [
    {
     "name": "stdout",
     "output_type": "stream",
     "text": [
      "------------------------------------------------------------------------------------------------------------------\n",
      "Reading getAccountPositions, with parameters {'_owner': 'hxe62d11fa19a0e8575ad92f06bc8fd42edbfe27db'} on the loans contract.\n",
      "------------------------------------------------------------------------------------------------------------------\n",
      "{'pos_id': '0x2', 'created': '0x5be2c15693ff5', 'address': 'hxe62d11fa19a0e8575ad92f06bc8fd42edbfe27db', 'snap_id': '0x1', 'snaps_length': '0x1', 'last_snap': '0x1', 'first day': '0x1', 'assets': {'sICX': '0x0', 'bnUSD': '0x0'}, 'replay_index': '0x0', 'events_behind': '0x0', 'total_debt': '0x0', 'ratio': '0x0', 'standing': 'Zero'}\n"
     ]
    },
    {
     "data": {
      "text/plain": [
       "{'pos_id': '0x2',\n",
       " 'created': '0x5be2c15693ff5',\n",
       " 'address': 'hxe62d11fa19a0e8575ad92f06bc8fd42edbfe27db',\n",
       " 'snap_id': '0x1',\n",
       " 'snaps_length': '0x1',\n",
       " 'last_snap': '0x1',\n",
       " 'first day': '0x1',\n",
       " 'assets': {'sICX': '0x0', 'bnUSD': '0x0'},\n",
       " 'replay_index': '0x0',\n",
       " 'events_behind': '0x0',\n",
       " 'total_debt': '0x0',\n",
       " 'ratio': '0x0',\n",
       " 'standing': 'Zero'}"
      ]
     },
     "execution_count": 36,
     "metadata": {},
     "output_type": "execute_result"
    }
   ],
   "source": [
    "# send_tx('loans', 500 * ICX , 'addCollateral', {'_asset': 'bnUSD', '_amount': 50 * ICX}, btest_wallet)\n",
    "call_tx('loans', 'getAccountPositions', {'_owner': user1.get_address()})\n"
   ]
  },
  {
   "cell_type": "code",
   "execution_count": 58,
   "metadata": {},
   "outputs": [
    {
     "name": "stdout",
     "output_type": "stream",
     "text": [
      "btest_wallet retire 1000 bnusd\n",
      "Status: 0\n",
      "Failure: {'code': 32, 'message': \"BALNbnUSD, BalancedDEX, cx1b0a4ec3707abff4df7905dfefeaebdefc5bba80, Exception: 'DexInterface' object has no attribute 'get_reference_data'\"}\n",
      "------------------------------------------------------------------------------------------------------------------\n",
      "Reading checkDebts, with parameters {} on the loans contract.\n",
      "------------------------------------------------------------------------------------------------------------------\n",
      "{'system': {'debts': '0x2bcd40a70853a0000', 'bad_debt': '0x56bc75e2d631000000', 'supply': '0x597949ed46b63a0000', 'diff': '0x0', 'remaining': '0x0'}, 'events': {}}\n",
      "Market still dead\n",
      "btest_wallet retire 100 bnusd\n",
      "Status: 0\n",
      "Failure: {'code': 32, 'message': 'Minimum redeemed asset value is $1000'}\n",
      "------------------------------------------------------------------------------------------------------------------\n",
      "Reading checkDebts, with parameters {} on the loans contract.\n",
      "------------------------------------------------------------------------------------------------------------------\n",
      "{'system': {'debts': '0x2bcd40a70853a0000', 'bad_debt': '0x56bc75e2d631000000', 'supply': '0x597949ed46b63a0000', 'diff': '0x0', 'remaining': '0x0'}, 'events': {}}\n",
      "Market still dead\n"
     ]
    }
   ],
   "source": [
    "#  Now we try to revive the dead market\n",
    "# 1. Test with retiring less than enough to revive the market with bad_debt 550.25 bnusd \n",
    "# i.e user2 retires 100 bnusd\n",
    "\n",
    "test_cases =  { \n",
    "    \n",
    "    \"stories\": [ {\n",
    "      \"description\": \"btest_wallet retire 1000 bnusd\",\n",
    "      \"actions\": {\n",
    "          \"sender\":\"user2\",\n",
    "          \"first_meth\": \"transfer\",\n",
    "          \"second_meth\":\"transfer\",\n",
    "          \"deposited_icx\":\"0\",\n",
    "          \"first_params\":{'_to': btest_wallet.get_address(), '_value': 1000 * ICX},\n",
    "          \"second_params\":{\"method\": \"_retire_asset\", \"params\": {},'_to': contracts['loans']['SCORE'], '_value': 1000 * ICX},\n",
    "          \"expected_bnusd_wallet\":\"20700000000000000000\"\n",
    "          \n",
    "      }\n",
    "    },\n",
    "        {\n",
    "            \"description\": \"btest_wallet retire 100 bnusd\",\n",
    "              \"actions\": {\n",
    "                  \"sender\":\"user2\",\n",
    "                  \"first_meth\": \"transfer\",\n",
    "                  \"second_meth\":\"transfer\",\n",
    "                  \"deposited_icx\":\"0\",\n",
    "                  \"first_params\":{'_to': btest_wallet.get_address(), '_value': 100 *ICX},\n",
    "                  \"second_params\":{\"method\": \"_retire_asset\", \"params\": {},'_to': contracts['loans']['SCORE'], '_value': 100 * ICX},\n",
    "                  \"expected_bnusd_wallet\":\"20700000000000000000\"\n",
    "\n",
    "      }\n",
    "        }\n",
    "\n",
    "  ]\n",
    "}\n",
    "\n",
    "for case in test_cases['stories']:\n",
    "    print(case['description'])\n",
    "    _to = contracts['bnUSD']['SCORE']\n",
    "    meth1 = case['actions']['first_meth']\n",
    "    meth2 = case['actions']['second_meth']\n",
    "    val = int(case['actions']['deposited_icx'])\n",
    "    data1 = case['actions']['first_params']\n",
    "    first_params = {\"_to\": data1['_to'], \"_value\": data1['_value']}\n",
    "    \n",
    "    data2 = case['actions']['second_params']\n",
    "    params = {\"method\": data2['method'], \"params\": data2['params']}\n",
    "    data = json.dumps(params).encode(\"utf-8\")\n",
    "    second_params = {'_to': data2['_to'], '_value': data2['_value'], '_data': data}\n",
    "\n",
    "\n",
    "    transaction = CallTransactionBuilder()\\\n",
    "        .from_(user1.get_address())\\\n",
    "        .to(_to)\\\n",
    "        .value(val)\\\n",
    "        .step_limit(10000000)\\\n",
    "        .nid(NID)\\\n",
    "        .nonce(100)\\\n",
    "        .method(meth1)\\\n",
    "        .params(first_params)\\\n",
    "        .build()\n",
    "    signed_transaction = SignedTransaction(transaction, user1)\n",
    "    tx_hash = icon_service.send_transaction(signed_transaction)\n",
    "    sleep(2)\n",
    "\n",
    "    transaction = CallTransactionBuilder()\\\n",
    "        .from_(btest_wallet.get_address())\\\n",
    "        .to(_to)\\\n",
    "        .value(val)\\\n",
    "        .step_limit(10000000)\\\n",
    "        .nid(NID)\\\n",
    "        .nonce(100)\\\n",
    "        .method(meth2)\\\n",
    "        .params(second_params)\\\n",
    "        .build()\n",
    "    signed_transaction = SignedTransaction(transaction, btest_wallet)\n",
    "    tx_hash = icon_service.send_transaction(signed_transaction)\n",
    "    sleep(1)\n",
    "\n",
    "    res = get_tx_result(tx_hash)\n",
    "    print(f'Status: {res[\"status\"]}')\n",
    "    if len(res[\"eventLogs\"]) > 0:\n",
    "        for item in res[\"eventLogs\"]:\n",
    "            print(f'{item} \\n')\n",
    "    if res['status'] == 0:\n",
    "        print(f'Failure: {res[\"failure\"]}')\n",
    "    \n",
    "    tes= call_tx('loans', 'checkDebts', {})\n",
    "    if tes['system']['bad_debt'] != hex(0):\n",
    "        print(\"Market still dead\")\n",
    "    else:\n",
    "        print(\"Market revived\")\n",
    "    "
   ]
  },
  {
   "cell_type": "code",
   "execution_count": 30,
   "metadata": {},
   "outputs": [
    {
     "name": "stdout",
     "output_type": "stream",
     "text": [
      "------------------------------------------------------------------------------------------------------------------\n",
      "Calling stakeICX, with parameters {'_to': 'cx95e12058bb2edc4d3e1212582c457adb1210568d'} on the staking contract.\n",
      "------------------------------------------------------------------------------------------------------------------\n"
     ]
    },
    {
     "name": "stderr",
     "output_type": "stream",
     "text": [
      "Raised JSONRPCException while returning the custom response. Error message: {'code': -32602, 'message': 'Pending transaction'}\n"
     ]
    },
    {
     "name": "stdout",
     "output_type": "stream",
     "text": [
      "Retrying in 1 seconds...\n",
      "************************************************** Status: 1 **************************************************\n",
      "{'scoreAddress': 'cx9ebe6efedce0d4f31dab493e09e8b8896ab8a92a', 'indexed': ['Mint(Address,int,bytes)', 'cx95e12058bb2edc4d3e1212582c457adb1210568d'], 'data': ['0x2b5e3af16b18800000', '0x4e6f6e65']} \n",
      "\n",
      "{'scoreAddress': 'cx9ebe6efedce0d4f31dab493e09e8b8896ab8a92a', 'indexed': ['Transfer(Address,Address,int,bytes)', 'hx0000000000000000000000000000000000000000', 'cx95e12058bb2edc4d3e1212582c457adb1210568d', '0x2b5e3af16b18800000'], 'data': ['0x4e6f6e65']} \n",
      "\n",
      "{'scoreAddress': 'cxff8bebd0de53723121a2e45ba25967a8dbb8c6bc', 'indexed': ['TokenTransfer(Address,int,str)', 'cx95e12058bb2edc4d3e1212582c457adb1210568d', '0x2b5e3af16b18800000'], 'data': ['800.0 sICX minted to cx95e12058bb2edc4d3e1212582c457adb1210568d']} \n",
      "\n"
     ]
    },
    {
     "data": {
      "text/plain": [
       "{'txHash': '0xb19ebde8b2fe3315f49c6e1e961d0e2c9a3b1c2e769abc78a95798045ba1045f',\n",
       " 'blockHeight': 1613631,\n",
       " 'blockHash': '0x22bfc40d1a9a40aed17e807bbdd043df4fe70dab86306fada7ac60f5a1b2bb4d',\n",
       " 'txIndex': 1,\n",
       " 'to': 'cxff8bebd0de53723121a2e45ba25967a8dbb8c6bc',\n",
       " 'stepUsed': 521680,\n",
       " 'stepPrice': 10000000000,\n",
       " 'cumulativeStepUsed': 521680,\n",
       " 'eventLogs': [{'scoreAddress': 'cx9ebe6efedce0d4f31dab493e09e8b8896ab8a92a',\n",
       "   'indexed': ['Mint(Address,int,bytes)',\n",
       "    'cx95e12058bb2edc4d3e1212582c457adb1210568d'],\n",
       "   'data': ['0x2b5e3af16b18800000', '0x4e6f6e65']},\n",
       "  {'scoreAddress': 'cx9ebe6efedce0d4f31dab493e09e8b8896ab8a92a',\n",
       "   'indexed': ['Transfer(Address,Address,int,bytes)',\n",
       "    'hx0000000000000000000000000000000000000000',\n",
       "    'cx95e12058bb2edc4d3e1212582c457adb1210568d',\n",
       "    '0x2b5e3af16b18800000'],\n",
       "   'data': ['0x4e6f6e65']},\n",
       "  {'scoreAddress': 'cxff8bebd0de53723121a2e45ba25967a8dbb8c6bc',\n",
       "   'indexed': ['TokenTransfer(Address,int,str)',\n",
       "    'cx95e12058bb2edc4d3e1212582c457adb1210568d',\n",
       "    '0x2b5e3af16b18800000'],\n",
       "   'data': ['800.0 sICX minted to cx95e12058bb2edc4d3e1212582c457adb1210568d']}],\n",
       " 'logsBloom': b'\\x00\\x00\\x00\\x00\\x00\\x00\\x00\\x00\\x02\\x00\\x00 \\x00\\x00\\x00\\x02\\x00\\x00\\x00\\x00\\x00\\x00\\x00\\x00\\x00\\x00\\x00\\x00\\x00\\x00\\x00\\x00\\x00\\x00\\x02\\x00\\x00\\x00\\x00\\x00\\x00\\x00\\x00\\x00\\x01\\x00\\x00\\x00\\x00\\x00\\x00\\x00\\x02\\x00\\x00\\x00\\x00\\x00\\x00\\x00\\x00\\x00\\x82\\x00\\x00\\x00\\x00\\x00\\x00\\x00\\x00\\x00\\x00\\x00\\x00\\x80\\x00\\x00\\x80\\x00\\x00\\x00 \\x00\\x00\\x00\\x00\\x00\\x00\\x00\\x00\\x00\\x00\\x00\\x00\\x00\\x00\\x00\\x00\\x00\\x00\\x00\\x00\\x00\\x00\\x01\\x00\\x00\\x80\\x00\\x00 \\x00@\\x01\\x00\\x00\\x00\\x00\\x04\\x01\\x08\\x00\\x00\\x00\\x04\\x00\\x00\\x00\\x00\\x00\\x00\\x00\\x00\\x00\\x00\\x00\\x00\\x00\\x00\\x00\\x00\\x00\\x00@\\x00\\x00\\x00\\x00\\x00\\x00\\x00\\x00\\x00\\x00\\x00\\x00\\x10\\x00\\x01\\x00\\x00\\x00\\x00\\x00\\x00\\x00\\x00\\x00\\x00\\x00\\x00\\x00\\x00\\x00\\x00\\x00\\x00\\x00\\x00\\x00\\x00\\x00\\x00\\x00\\x00\\x00\\x00\\x00\\x00\\x00\\x08\\x00\\x00\\x08\\x00\\x00\\x00\\x00\\x00\\x00\\x00\\x00\\x00\\x00\\x00\\x00\\x00\\x00\\x00\\x00\\x00\\x00A\\x01\\x00\\x00\\x00\\x08\\x00\\x00\\x00\\x00\\x00\\x00\\x00\\x00\\x00\\x00\\x00\\x00\\x00\\x00\\x00\\x00\\x00\\x00\\x00\\x00\\x00\\x00\\x00\\x00 \\x00\\x00\\x00\\x00\\x00\\x00\\x00\\x00\\x00\\x00\\x00\\x00',\n",
       " 'status': 1}"
      ]
     },
     "execution_count": 30,
     "metadata": {},
     "output_type": "execute_result"
    }
   ],
   "source": [
    "# call_tx('loans', 'getAccountPositions', {'_owner': user1.get_address()})\n",
    "\n",
    "send_tx('staking',  800*ICX, 'stakeICX', {'_to':contracts['reserve']['SCORE']}, user1)\n",
    "\n",
    "# send_tx('loans', 500 * ICX , 'addCollateral', {'_asset': 'bnUSD', '_amount': 50 * ICX}, btest_wallet)\n"
   ]
  },
  {
   "cell_type": "code",
   "execution_count": 39,
   "metadata": {},
   "outputs": [
    {
     "name": "stdout",
     "output_type": "stream",
     "text": [
      "------------------------------------------------------------------------------------------------------------------\n",
      "Reading availableBalanceOf, with parameters {'_owner': 'hx7a1824129a8fe803e45a3aae1c0e060399546187'} on the baln contract.\n",
      "------------------------------------------------------------------------------------------------------------------\n",
      "0x0\n",
      "------------------------------------------------------------------------------------------------------------------\n",
      "Reading totalSupply, with parameters {} on the baln contract.\n",
      "------------------------------------------------------------------------------------------------------------------\n",
      "0x152d02c7e14af6800000\n"
     ]
    },
    {
     "data": {
      "text/plain": [
       "100000.0"
      ]
     },
     "execution_count": 39,
     "metadata": {},
     "output_type": "execute_result"
    }
   ],
   "source": [
    "# send_tx('loans',  0, 'updateStanding', {'_owner':user2.get_address()}, user2)\n",
    "# send_tx('rewards',  0, 'claimRewards', {}, user2)\n",
    "# call_tx('rewards','getBalnHoldings', {'_holders': [user1.get_address(),contracts['reserve']['SCORE']]})\n",
    "call_tx('baln', 'availableBalanceOf', {'_owner': user2.get_address()})\n",
    "# call_tx('rewards', 'getRecipientsSplit', {})\n",
    "res =call_tx('baln', 'totalSupply', {})\n",
    "int(res, 0) /10**18"
   ]
  },
  {
   "cell_type": "code",
   "execution_count": null,
   "metadata": {},
   "outputs": [],
   "source": []
  },
  {
   "cell_type": "code",
   "execution_count": 38,
   "metadata": {},
   "outputs": [
    {
     "name": "stderr",
     "output_type": "stream",
     "text": [
      "Raised JSONRPCException while returning the custom response. Error message: {'code': -32602, 'message': 'Pending transaction'}\n"
     ]
    },
    {
     "name": "stdout",
     "output_type": "stream",
     "text": [
      "Retrying in 1 seconds...\n",
      "Status: 1\n",
      "{'scoreAddress': 'cx7a7a8af8ac6543e3bdca1dad1b25c3da23b28ce7', 'indexed': ['PositionStanding(Address,str,str,str)', 'hx7a1824129a8fe803e45a3aae1c0e060399546187', 'Mining'], 'data': ['16.558065541626874', 'Position up to date.']} \n",
      "\n"
     ]
    }
   ],
   "source": [
    "for _ in range(100):\n",
    "    params = {'_index': 1}\n",
    "    call = CallBuilder().from_(wallet.get_address())\\\n",
    "                        .to(contracts['loans']['SCORE'])\\\n",
    "                        .method(\"getPositionAddress\")\\\n",
    "                        .params(params)\\\n",
    "                        .build()\n",
    "    params = {'_owner': icon_service.call(call)}\n",
    "    transaction = CallTransactionBuilder()\\\n",
    "        .from_(user2.get_address())\\\n",
    "        .to(contracts['loans']['SCORE'])\\\n",
    "        .value(0)\\\n",
    "        .step_limit(10000000)\\\n",
    "        .nid(NID)\\\n",
    "        .nonce(100)\\\n",
    "        .method(\"updateStanding\")\\\n",
    "        .params(params)\\\n",
    "        .build()\n",
    "    signed_transaction = SignedTransaction(transaction, user2)\n",
    "    tx_hash = icon_service.send_transaction(signed_transaction)\n",
    "\n",
    "res = get_tx_result(tx_hash)\n",
    "print(f'Status: {res[\"status\"]}')\n",
    "if len(res[\"eventLogs\"]) > 0:\n",
    "    for item in res[\"eventLogs\"]:\n",
    "        print(f'{item} \\n')\n",
    "if res['status'] == 0:\n",
    "    print(f'Failure: {res[\"failure\"]}')"
   ]
  },
  {
   "cell_type": "code",
   "execution_count": 40,
   "metadata": {},
   "outputs": [
    {
     "name": "stdout",
     "output_type": "stream",
     "text": [
      "['hx7a1824129a8fe803e45a3aae1c0e060399546187', 25000000000000000000000, 25000.0]\n",
      "['hxe62d11fa19a0e8575ad92f06bc8fd42edbfe27db', 0, 0.0]\n",
      "Total unclaimed: 25000.0\n",
      "{'rewards': 52500.0, 'reserve': 5000.0, 'bwt': 20000.0}\n",
      "Total BALN: 77500.0\n"
     ]
    }
   ],
   "source": [
    "# Check BALN that has been distributed on the rewards SCORE, and to platform contract addresses.\n",
    "\n",
    "params = {}\n",
    "call = CallBuilder().from_(user2.get_address())\\\n",
    "                    .to(contracts['loans']['SCORE'])\\\n",
    "                    .method(\"borrowerCount\")\\\n",
    "                    .params(params)\\\n",
    "                    .build()\n",
    "borrowerCount = int(icon_service.call(call), 0)\n",
    "\n",
    "addresses = []\n",
    "for i in range(1, borrowerCount + 1):\n",
    "    params = {'_index': i, '_day': -1}\n",
    "    call = CallBuilder().from_(user2.get_address())\\\n",
    "                        .to(contracts['loans']['SCORE'])\\\n",
    "                        .method(\"getPositionByIndex\")\\\n",
    "                        .params(params)\\\n",
    "                        .build()\n",
    "    position = icon_service.call(call)\n",
    "    addresses.append(position['address'])\n",
    "\n",
    "params = {'_holders': addresses}\n",
    "call = CallBuilder().from_(user2.get_address())\\\n",
    "                    .to(contracts['rewards']['SCORE'])\\\n",
    "                    .method(\"getBalnHoldings\")\\\n",
    "                    .params(params)\\\n",
    "                    .build()\n",
    "holders = icon_service.call(call)\n",
    "\n",
    "total_balances = 0\n",
    "baln_balances = {}\n",
    "for contract in ['rewards', 'reserve', 'bwt']:\n",
    "    params = {'_owner': contracts[contract]['SCORE']}\n",
    "    call = CallBuilder().from_(user2.get_address())\\\n",
    "                        .to(contracts['baln']['SCORE'])\\\n",
    "                        .method(\"balanceOf\")\\\n",
    "                        .params(params)\\\n",
    "                        .build()\n",
    "    result = int(icon_service.call(call), 0)\n",
    "    baln_balances[contract] = result / 10**18\n",
    "    total_balances += result\n",
    "\n",
    "i = 0\n",
    "holdings = {i: [key, int(holders[key], 0), int(holders[key], 0) / 10**18] for i, key in enumerate(holders.keys())}\n",
    "total = 0\n",
    "for key in holdings:\n",
    "    total += holdings[key][1]\n",
    "    print(f'{holdings[key]}')\n",
    "\n",
    "print(f'Total unclaimed: {total / 10**18}')\n",
    "print(baln_balances)\n",
    "print(f'Total BALN: {total_balances / 10**18}')"
   ]
  },
  {
   "cell_type": "code",
   "execution_count": null,
   "metadata": {},
   "outputs": [],
   "source": []
  },
  {
   "cell_type": "code",
   "execution_count": null,
   "metadata": {},
   "outputs": [],
   "source": []
  }
 ],
 "metadata": {
  "kernelspec": {
   "display_name": "Python 3",
   "language": "python",
   "name": "python3"
  },
  "language_info": {
   "codemirror_mode": {
    "name": "ipython",
    "version": 3
   },
   "file_extension": ".py",
   "mimetype": "text/x-python",
   "name": "python",
   "nbconvert_exporter": "python",
   "pygments_lexer": "ipython3",
   "version": "3.7.6"
  }
 },
 "nbformat": 4,
 "nbformat_minor": 4
}
