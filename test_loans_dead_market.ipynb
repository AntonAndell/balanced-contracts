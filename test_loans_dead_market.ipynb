{
 "cells": [
  {
   "cell_type": "code",
   "execution_count": 13,
   "metadata": {},
   "outputs": [],
   "source": [
    "# Cell 0\n",
    "\n",
    "network = \"custom\"  # set this to one of mainnet, yeouido, euljiro, pagoda, or custom\n",
    "\n",
    "connections = {\n",
    "\"mainnet\": {\"iconservice\": \"https://ctz.solidwallet.io\",       \"nid\": 1},\n",
    "\"yeouido\": {\"iconservice\": \"https://bicon.net.solidwallet.io\", \"nid\": 3},\n",
    "\"euljiro\": {\"iconservice\": \"https://test-ctz.solidwallet.io\",  \"nid\": 2},\n",
    "\"pagoda\":  {\"iconservice\": \"https://zicon.net.solidwallet.io\", \"nid\":80},\n",
    "\"custom\":  {\"iconservice\": \"http://18.144.108.38:9000\",        \"nid\": 3}}\n",
    "\n",
    "env = connections[network]"
   ]
  },
  {
   "cell_type": "code",
   "execution_count": 14,
   "metadata": {},
   "outputs": [],
   "source": [
    "# Cell 1\n",
    "\n",
    "from iconsdk.exception import JSONRPCException\n",
    "from iconsdk.libs.in_memory_zip import gen_deploy_data_content\n",
    "from iconsdk.icon_service import IconService\n",
    "from iconsdk.providers.http_provider import HTTPProvider\n",
    "from iconsdk.builder.transaction_builder import CallTransactionBuilder, TransactionBuilder, DeployTransactionBuilder\n",
    "from iconsdk.builder.call_builder import CallBuilder\n",
    "from iconsdk.signed_transaction import SignedTransaction\n",
    "from iconsdk.wallet.wallet import KeyWallet\n",
    "from iconsdk.utils.convert_type import convert_hex_str_to_int\n",
    "from repeater import retry\n",
    "from shutil import make_archive\n",
    "import pickle as pkl\n",
    "from datetime import datetime\n",
    "from time import sleep\n",
    "import json\n",
    "import os\n",
    "\n",
    "ICX = 1000000000000000000 # 10**18\n",
    "GOVERNANCE_ADDRESS = \"cx0000000000000000000000000000000000000000\"\n",
    "ORACLE = \"cx61a36e5d10412e03c907a507d1e8c6c3856d9964\"\n",
    "\n",
    "@retry(JSONRPCException, tries=10, delay=1, back_off=2)\n",
    "def get_tx_result(_tx_hash):\n",
    "    tx_result = icon_service.get_transaction_result(_tx_hash)\n",
    "    return tx_result"
   ]
  },
  {
   "cell_type": "code",
   "execution_count": 15,
   "metadata": {},
   "outputs": [],
   "source": [
    "# Cell 2\n",
    "\n",
    "icon_service = IconService(HTTPProvider(env[\"iconservice\"], 3))\n",
    "NID = env[\"nid\"]"
   ]
  },
  {
   "cell_type": "code",
   "execution_count": 16,
   "metadata": {},
   "outputs": [
    {
     "name": "stdout",
     "output_type": "stream",
     "text": [
      "772325353.0332795\n",
      "4947379.6867576\n"
     ]
    }
   ],
   "source": [
    "# Cell 3\n",
    "\n",
    "wallet = KeyWallet.load(\"keystores/keystore_test1.json\", \"test1_Account\")\n",
    "# Balanced test wallet\n",
    "with open(\"keystores/balanced_test.pwd\", \"r\") as f:\n",
    "    key_data = f.read()\n",
    "btest_wallet = KeyWallet.load(\"keystores/balanced_test.json\", key_data)\n",
    "print(icon_service.get_balance(wallet.get_address())/10**18)\n",
    "print(icon_service.get_balance(btest_wallet.get_address())/10**18)"
   ]
  },
  {
   "cell_type": "code",
   "execution_count": 17,
   "metadata": {},
   "outputs": [
    {
     "name": "stdout",
     "output_type": "stream",
     "text": [
      "hxe7af5fcfd8dfc67530a01a0e403882687528dfcb\n",
      "772325353.0332795\n"
     ]
    }
   ],
   "source": [
    "print(wallet.get_address())\n",
    "print(icon_service.get_balance(wallet.get_address()) / 10**18)"
   ]
  },
  {
   "cell_type": "code",
   "execution_count": 18,
   "metadata": {},
   "outputs": [
    {
     "name": "stdout",
     "output_type": "stream",
     "text": [
      "hx3f01840a599da07b0f620eeae7aa9c574169a4be\n",
      "4947379.6867576\n"
     ]
    }
   ],
   "source": [
    "print(btest_wallet.get_address())\n",
    "print(icon_service.get_balance(btest_wallet.get_address()) / 10**18)"
   ]
  },
  {
   "cell_type": "code",
   "execution_count": 19,
   "metadata": {},
   "outputs": [
    {
     "name": "stdout",
     "output_type": "stream",
     "text": [
      "1054950.0340996\n",
      "hxe62d11fa19a0e8575ad92f06bc8fd42edbfe27db\n",
      "999195.2271886\n",
      "hx7a1824129a8fe803e45a3aae1c0e060399546187\n"
     ]
    }
   ],
   "source": [
    "user1 = KeyWallet.load(\"keystores/user1.json\",\"HelloWorld@1234\")\n",
    "# btest_wallet = KeyWallet.load(\"./balanced_test.json\",\"HelloWorld@1234\")\n",
    "\n",
    "print(icon_service.get_balance(user1.get_address())/10**18)\n",
    "print(user1.get_address())\n",
    "\n",
    "# test2 = hx7a1824129a8fe803e45a3aae1c0e060399546187\n",
    "private = \"0a354424b20a7e3c55c43808d607bddfac85d033e63d7d093cb9f0a26c4ee022\"\n",
    "user2 = KeyWallet.load(bytes.fromhex(private))\n",
    "print(icon_service.get_balance(user2.get_address())/10**18)\n",
    "print(user2.get_address())"
   ]
  },
  {
   "cell_type": "code",
   "execution_count": 84,
   "metadata": {},
   "outputs": [
    {
     "data": {
      "text/plain": [
       "'0x48846139f280d06a9c8d718ec4857a52530fdc9920ebc8f9dcc7c18ba7f948d3'"
      ]
     },
     "execution_count": 84,
     "metadata": {},
     "output_type": "execute_result"
    }
   ],
   "source": [
    "# Cell 4\n",
    "# Only necessary if running locally or on the private tbears server\n",
    "# for the first time since reinitializing.\n",
    "\n",
    "transaction = TransactionBuilder()\\\n",
    "    .from_(wallet.get_address())\\\n",
    "    .to(user1.get_address())\\\n",
    "    .value(1000000 * ICX)\\\n",
    "    .step_limit(1000000) \\\n",
    "    .nid(NID) \\\n",
    "    .nonce(2) \\\n",
    "    .version(3) \\\n",
    "    .build()\n",
    "signed_transaction = SignedTransaction(transaction, wallet)\n",
    "tx_hash = icon_service.send_transaction(signed_transaction)\n",
    "tx_hash"
   ]
  },
  {
   "cell_type": "code",
   "execution_count": 20,
   "metadata": {},
   "outputs": [],
   "source": [
    "# The following addresses are those deployed to the private tbears server.\n",
    "\n",
    "contracts = {'loans': {'zip': 'core_contracts/loans.zip', 'SCORE': 'cx55f2ab7a026bd070d117233f32fbc614bd904a20'}, 'staking': {'zip': 'core_contracts/staking.zip', 'SCORE': 'cxd0c708c7c7c2ed97b10bc0a1772f7036d351a5c5'}, 'dividends': {'zip': 'core_contracts/dividends.zip', 'SCORE': 'cx3d1fa0db471e68dc5df110455660a1c476e46eec'}, 'reserve': {'zip': 'core_contracts/reserve.zip', 'SCORE': 'cx8d447de699e8c40bafe0fd35d498cd3c58c99425'}, 'daofund': {'zip': 'core_contracts/daofund.zip', 'SCORE': 'cxfd51e9df2e7a10df873009a2a6bf80c13a0508af'}, 'rewards': {'zip': 'core_contracts/rewards.zip', 'SCORE': 'cx5c3c476f9a097589d7108fe2e9b71ada7161ad78'}, 'dex': {'zip': 'core_contracts/dex.zip', 'SCORE': 'cxd9f12ee8e9a3d0774e929b3118c568555a419385'}, 'governance': {'zip': 'core_contracts/governance.zip', 'SCORE': 'cx5c0170c8a2059a8678e65297fd4188b3de631b74'}, 'oracle': {'zip': 'core_contracts/oracle.zip', 'SCORE': 'cx7171e2f5653c1b9c000e24228276b8d24e84f10d'}, 'sicx': {'zip': 'token_contracts/sicx.zip', 'SCORE': 'cx51b3add2ab11c541b628fd8eca22dd362b11f54c'}, 'bnUSD': {'zip': 'token_contracts/bnUSD.zip', 'SCORE': 'cx228a83c7dabe2a34424de5d963944b1a1e55d09e'}, 'baln': {'zip': 'token_contracts/baln.zip', 'SCORE': 'cxcacc2eef044822a9f000a1566f3585fe26f35af2'}, 'bwt': {'zip': 'token_contracts/bwt.zip', 'SCORE': 'cx2c79be5145135b056d49990ed3259adfb4acef75'}}"
   ]
  },
  {
   "cell_type": "code",
   "execution_count": 21,
   "metadata": {},
   "outputs": [],
   "source": [
    "# Cell 6\n",
    "# Define deploy and send_tx functions\n",
    "\n",
    "def compress():\n",
    "    \"\"\"\n",
    "    Compress all SCORE folders in the core_contracts and toekn_contracts folders\n",
    "    \"\"\"\n",
    "    deploy = list(contracts.keys())[:]\n",
    "    for directory in {\"core_contracts\", \"token_contracts\"}:\n",
    "        with os.scandir(directory) as it:\n",
    "            for file in it:\n",
    "                archive_name = directory + \"/\" + file.name\n",
    "                if file.is_dir() and file.name in deploy:\n",
    "                    make_archive(archive_name, \"zip\", directory, file.name)\n",
    "                    contracts[file.name]['zip'] = archive_name + '.zip'\n",
    "\n",
    "def deploy_SCORE(contract, params, wallet, update) -> str:\n",
    "    \"\"\"\n",
    "    contract is of form {'zip': 'core_contracts/governance.zip', 'SCORE': 'cx1d81f93b3b8d8d2a6455681c46128868782ddd09'}\n",
    "    params is a dicts\n",
    "    wallet is a wallet file\n",
    "    update is boolian\n",
    "    \"\"\"\n",
    "    print(f'{contract[\"zip\"]}')\n",
    "    if update:\n",
    "        dest = contract['SCORE']\n",
    "    else:\n",
    "        dest = GOVERNANCE_ADDRESS\n",
    "    zip_file = contract['zip']\n",
    "    step_limit = 4000100000\n",
    "    deploy_transaction = DeployTransactionBuilder()\\\n",
    "        .from_(wallet.get_address())\\\n",
    "        .to(dest)\\\n",
    "        .nid(NID)\\\n",
    "        .nonce(100)\\\n",
    "        .content_type(\"application/zip\")\\\n",
    "        .content(gen_deploy_data_content(zip_file))\\\n",
    "        .params(params)\\\n",
    "        .build()\n",
    "\n",
    "    signed_transaction = SignedTransaction(deploy_transaction, wallet, step_limit)\n",
    "    tx_hash = icon_service.send_transaction(signed_transaction)\n",
    "\n",
    "    res = get_tx_result(tx_hash)\n",
    "    print(f'Status: {res[\"status\"]}')\n",
    "    if len(res[\"eventLogs\"]) > 0:\n",
    "        for item in res[\"eventLogs\"]:\n",
    "            print(f'{item} \\n')\n",
    "    if res['status'] == 0:\n",
    "        print(f'Failure: {res[\"failure\"]}')\n",
    "    print('')\n",
    "    return res.get('scoreAddress', '')\n",
    "\n",
    "def send_tx(dest, value, method, params, wallet):\n",
    "    \"\"\"\n",
    "    dest is the name of the destination contract.\n",
    "    \"\"\"\n",
    "    print('------------------------------------------------------------------------------------------------------------------')\n",
    "    print(f'Calling {method}, with parameters {params} on the {dest} contract.')\n",
    "    print('------------------------------------------------------------------------------------------------------------------')\n",
    "    transaction = CallTransactionBuilder()\\\n",
    "        .from_(wallet.get_address())\\\n",
    "        .to(contracts[dest]['SCORE'])\\\n",
    "        .value(value)\\\n",
    "        .step_limit(10000000)\\\n",
    "        .nid(NID)\\\n",
    "        .nonce(100)\\\n",
    "        .method(method)\\\n",
    "        .params(params)\\\n",
    "        .build()\n",
    "    signed_transaction = SignedTransaction(transaction, wallet)\n",
    "    tx_hash = icon_service.send_transaction(signed_transaction)\n",
    "\n",
    "    res = get_tx_result(tx_hash)\n",
    "    print(f'************************************************** Status: {res[\"status\"]} **************************************************')\n",
    "    if len(res[\"eventLogs\"]) > 0:\n",
    "        for item in res[\"eventLogs\"]:\n",
    "            print(f'{item} \\n')\n",
    "    if res['status'] == 0:\n",
    "        print(f'Failure: {res[\"failure\"]}')\n",
    "    return res\n",
    "\n",
    "def deploy_all(wallet):\n",
    "    \"\"\"\n",
    "    Compress, Deploy and Configure all SCOREs\n",
    "    \"\"\"\n",
    "    compress()\n",
    "\n",
    "    deploy = list(contracts.keys())[:]\n",
    "    deploy.remove('oracle')\n",
    "    deploy.remove('staking')\n",
    "    deploy.remove('sicx')\n",
    "    deploy.remove('governance')\n",
    "\n",
    "    governance = deploy_SCORE(contracts['governance'], {}, wallet, 0)\n",
    "    contracts['governance']['SCORE'] = governance\n",
    "    for score in deploy:\n",
    "        contracts[score]['SCORE'] = deploy_SCORE(contracts[score], {'_governance': governance}, wallet, 0)\n",
    "    contracts['staking']['SCORE'] = deploy_SCORE(contracts['staking'], {}, wallet, 0)\n",
    "    contracts['sicx']['SCORE'] = deploy_SCORE(contracts['sicx'], {'_admin': contracts['staking']['SCORE']}, wallet, 0)\n",
    "\n",
    "    config = list(contracts.keys())[:]\n",
    "    config.remove('governance')\n",
    "    addresses = {contract: contracts[contract]['SCORE'] for contract in config}\n",
    "\n",
    "    txns = [{'contract': 'staking', 'value': 0, 'method': 'setSicxAddress', 'params': {'_address': contracts['sicx']['SCORE']}},\n",
    "            {'contract': 'governance', 'value': 0, 'method': 'setAddresses', 'params': {'_addresses': addresses}},\n",
    "            {'contract': 'governance', 'value': 0, 'method': 'launchBalanced', 'params': {}}]\n",
    "\n",
    "    for tx in txns:\n",
    "        res = send_tx(tx[\"contract\"], tx[\"value\"], tx[\"method\"], tx[\"params\"], wallet)\n",
    "        results[f'{tx[\"contract\"]}|{tx[\"method\"]}|{tx[\"params\"]}'] = res\n",
    "\n",
    "def get_scores_json(contracts):\n",
    "    \"\"\"\n",
    "    Prints out dictionary of SCORE addresses for use in testing UI.\n",
    "    \"\"\"\n",
    "    scores = {}\n",
    "    for score in contracts:\n",
    "        scores[score] = contracts[score]['SCORE']\n",
    "    return json.dumps(scores)\n",
    "\n",
    "def call_tx(dest: str, method: str, params: dict = {}):\n",
    "    \"\"\"\n",
    "    dest is the name of the destination contract.\n",
    "    \"\"\"\n",
    "    print('------------------------------------------------------------------------------------------------------------------')\n",
    "    print(f'Reading {method}, with parameters {params} on the {dest} contract.')\n",
    "    print('------------------------------------------------------------------------------------------------------------------')\n",
    "    call = CallBuilder()\\\n",
    "        .from_(wallet.get_address())\\\n",
    "        .to(contracts[dest]['SCORE'])\\\n",
    "        .method(method)\\\n",
    "        .params(params)\\\n",
    "        .build()\n",
    "    result = icon_service.call(call)\n",
    "    print(result)\n",
    "    return result\n"
   ]
  },
  {
   "cell_type": "code",
   "execution_count": 22,
   "metadata": {},
   "outputs": [
    {
     "name": "stdout",
     "output_type": "stream",
     "text": [
      "core_contracts/governance.zip\n"
     ]
    },
    {
     "name": "stderr",
     "output_type": "stream",
     "text": [
      "Raised JSONRPCException while returning the custom response. Error message: {'code': -32602, 'message': 'Pending transaction'}\n"
     ]
    },
    {
     "name": "stdout",
     "output_type": "stream",
     "text": [
      "Retrying in 1 seconds...\n",
      "Status: 1\n",
      "\n",
      "core_contracts/loans.zip\n",
      "Status: 1\n",
      "\n",
      "core_contracts/dividends.zip\n"
     ]
    },
    {
     "name": "stderr",
     "output_type": "stream",
     "text": [
      "Raised JSONRPCException while returning the custom response. Error message: {'code': -32602, 'message': 'Pending transaction'}\n"
     ]
    },
    {
     "name": "stdout",
     "output_type": "stream",
     "text": [
      "Retrying in 1 seconds...\n",
      "Status: 1\n",
      "\n",
      "core_contracts/reserve.zip\n",
      "Status: 1\n",
      "\n",
      "core_contracts/daofund.zip\n"
     ]
    },
    {
     "name": "stderr",
     "output_type": "stream",
     "text": [
      "Raised JSONRPCException while returning the custom response. Error message: {'code': -32602, 'message': 'Pending transaction'}\n"
     ]
    },
    {
     "name": "stdout",
     "output_type": "stream",
     "text": [
      "Retrying in 1 seconds...\n",
      "Status: 1\n",
      "\n",
      "core_contracts/rewards.zip\n"
     ]
    },
    {
     "name": "stderr",
     "output_type": "stream",
     "text": [
      "Raised JSONRPCException while returning the custom response. Error message: {'code': -32602, 'message': 'Pending transaction'}\n"
     ]
    },
    {
     "name": "stdout",
     "output_type": "stream",
     "text": [
      "Retrying in 1 seconds...\n",
      "Status: 1\n",
      "\n",
      "core_contracts/dex.zip\n",
      "Status: 1\n",
      "\n",
      "token_contracts/bnUSD.zip\n"
     ]
    },
    {
     "name": "stderr",
     "output_type": "stream",
     "text": [
      "Raised JSONRPCException while returning the custom response. Error message: {'code': -32602, 'message': 'Pending transaction'}\n"
     ]
    },
    {
     "name": "stdout",
     "output_type": "stream",
     "text": [
      "Retrying in 1 seconds...\n",
      "Status: 1\n",
      "\n",
      "token_contracts/baln.zip\n"
     ]
    },
    {
     "name": "stderr",
     "output_type": "stream",
     "text": [
      "Raised JSONRPCException while returning the custom response. Error message: {'code': -32602, 'message': 'Pending transaction'}\n"
     ]
    },
    {
     "name": "stdout",
     "output_type": "stream",
     "text": [
      "Retrying in 1 seconds...\n",
      "Status: 1\n",
      "\n",
      "token_contracts/bwt.zip\n"
     ]
    },
    {
     "name": "stderr",
     "output_type": "stream",
     "text": [
      "Raised JSONRPCException while returning the custom response. Error message: {'code': -32602, 'message': 'Pending transaction'}\n"
     ]
    },
    {
     "name": "stdout",
     "output_type": "stream",
     "text": [
      "Retrying in 1 seconds...\n",
      "Status: 1\n",
      "\n",
      "core_contracts/staking.zip\n"
     ]
    },
    {
     "name": "stderr",
     "output_type": "stream",
     "text": [
      "Raised JSONRPCException while returning the custom response. Error message: {'code': -32602, 'message': 'Pending transaction'}\n"
     ]
    },
    {
     "name": "stdout",
     "output_type": "stream",
     "text": [
      "Retrying in 1 seconds...\n",
      "Status: 1\n",
      "\n",
      "token_contracts/sicx.zip\n"
     ]
    },
    {
     "name": "stderr",
     "output_type": "stream",
     "text": [
      "Raised JSONRPCException while returning the custom response. Error message: {'code': -32602, 'message': 'Pending transaction'}\n"
     ]
    },
    {
     "name": "stdout",
     "output_type": "stream",
     "text": [
      "Retrying in 1 seconds...\n",
      "Status: 1\n",
      "\n",
      "------------------------------------------------------------------------------------------------------------------\n",
      "Calling setSicxAddress, with parameters {'_address': 'cx709ee3a881fea823c13825d341d585440033923e'} on the staking contract.\n",
      "------------------------------------------------------------------------------------------------------------------\n",
      "************************************************** Status: 1 **************************************************\n",
      "------------------------------------------------------------------------------------------------------------------\n",
      "Calling setAddresses, with parameters {'_addresses': {'loans': 'cx7fc820601ef77635186a3d2bd874a2417d24801e', 'staking': 'cxe750ed36026a9becd7ebe64fdeaa19a62c5e12be', 'dividends': 'cxfb9ff4b338026f5f79085645bfbc0299ada99c67', 'reserve': 'cxe50188447b0cdbd50d9981943e686a9242c502d0', 'daofund': 'cxc3549d656042dfe484c4fb772536d4dbd6dc9ebe', 'rewards': 'cx0e90bd4f1ff3d27f10b27decfc0108ec4da03962', 'dex': 'cx1ca833b639be0fa3f9b9d8b953eeb3c7e00ed2f8', 'oracle': 'cx7171e2f5653c1b9c000e24228276b8d24e84f10d', 'sicx': 'cx709ee3a881fea823c13825d341d585440033923e', 'bnUSD': 'cxa391273c1b2dc7a2dda968ae2db465b5ea655213', 'baln': 'cx138307105ad7ef858e755b3f72b4b1759b9254cc', 'bwt': 'cx361d361ac375975cd13308b11bc2eb568ef752db'}} on the governance contract.\n",
      "------------------------------------------------------------------------------------------------------------------\n"
     ]
    },
    {
     "name": "stderr",
     "output_type": "stream",
     "text": [
      "Raised JSONRPCException while returning the custom response. Error message: {'code': -32602, 'message': 'Pending transaction'}\n"
     ]
    },
    {
     "name": "stdout",
     "output_type": "stream",
     "text": [
      "Retrying in 1 seconds...\n",
      "************************************************** Status: 1 **************************************************\n",
      "------------------------------------------------------------------------------------------------------------------\n",
      "Calling launchBalanced, with parameters {} on the governance contract.\n",
      "------------------------------------------------------------------------------------------------------------------\n",
      "************************************************** Status: 1 **************************************************\n",
      "{'scoreAddress': 'cx7fc820601ef77635186a3d2bd874a2417d24801e', 'indexed': ['AssetAdded(Address,str,bool)', 'cx709ee3a881fea823c13825d341d585440033923e', 'sICX', '0x1'], 'data': []} \n",
      "\n",
      "{'scoreAddress': 'cx7fc820601ef77635186a3d2bd874a2417d24801e', 'indexed': ['AssetAdded(Address,str,bool)', 'cxa391273c1b2dc7a2dda968ae2db465b5ea655213', 'bnUSD', '0x0'], 'data': []} \n",
      "\n",
      "{'scoreAddress': 'cx7fc820601ef77635186a3d2bd874a2417d24801e', 'indexed': ['AssetAdded(Address,str,bool)', 'cx138307105ad7ef858e755b3f72b4b1759b9254cc', 'BALN', '0x1'], 'data': []} \n",
      "\n",
      "{'scoreAddress': 'cx7fc820601ef77635186a3d2bd874a2417d24801e', 'indexed': ['ContractActive(str,str)', 'Loans'], 'data': ['Active']} \n",
      "\n",
      "------------------------------------------------------------------------------------------------------------------\n",
      "{'loans': {'zip': 'core_contracts/loans.zip', 'SCORE': 'cx7fc820601ef77635186a3d2bd874a2417d24801e'}, 'staking': {'zip': 'core_contracts/staking.zip', 'SCORE': 'cxe750ed36026a9becd7ebe64fdeaa19a62c5e12be'}, 'dividends': {'zip': 'core_contracts/dividends.zip', 'SCORE': 'cxfb9ff4b338026f5f79085645bfbc0299ada99c67'}, 'reserve': {'zip': 'core_contracts/reserve.zip', 'SCORE': 'cxe50188447b0cdbd50d9981943e686a9242c502d0'}, 'daofund': {'zip': 'core_contracts/daofund.zip', 'SCORE': 'cxc3549d656042dfe484c4fb772536d4dbd6dc9ebe'}, 'rewards': {'zip': 'core_contracts/rewards.zip', 'SCORE': 'cx0e90bd4f1ff3d27f10b27decfc0108ec4da03962'}, 'dex': {'zip': 'core_contracts/dex.zip', 'SCORE': 'cx1ca833b639be0fa3f9b9d8b953eeb3c7e00ed2f8'}, 'governance': {'zip': 'core_contracts/governance.zip', 'SCORE': 'cx98b1f8380dfdd5ded1b2566c1a55c141a581cd4d'}, 'oracle': {'zip': 'core_contracts/oracle.zip', 'SCORE': 'cx7171e2f5653c1b9c000e24228276b8d24e84f10d'}, 'sicx': {'zip': 'token_contracts/sicx.zip', 'SCORE': 'cx709ee3a881fea823c13825d341d585440033923e'}, 'bnUSD': {'zip': 'token_contracts/bnUSD.zip', 'SCORE': 'cxa391273c1b2dc7a2dda968ae2db465b5ea655213'}, 'baln': {'zip': 'token_contracts/baln.zip', 'SCORE': 'cx138307105ad7ef858e755b3f72b4b1759b9254cc'}, 'bwt': {'zip': 'token_contracts/bwt.zip', 'SCORE': 'cx361d361ac375975cd13308b11bc2eb568ef752db'}}\n",
      "{\"loans\": \"cx7fc820601ef77635186a3d2bd874a2417d24801e\", \"staking\": \"cxe750ed36026a9becd7ebe64fdeaa19a62c5e12be\", \"dividends\": \"cxfb9ff4b338026f5f79085645bfbc0299ada99c67\", \"reserve\": \"cxe50188447b0cdbd50d9981943e686a9242c502d0\", \"daofund\": \"cxc3549d656042dfe484c4fb772536d4dbd6dc9ebe\", \"rewards\": \"cx0e90bd4f1ff3d27f10b27decfc0108ec4da03962\", \"dex\": \"cx1ca833b639be0fa3f9b9d8b953eeb3c7e00ed2f8\", \"governance\": \"cx98b1f8380dfdd5ded1b2566c1a55c141a581cd4d\", \"oracle\": \"cx7171e2f5653c1b9c000e24228276b8d24e84f10d\", \"sicx\": \"cx709ee3a881fea823c13825d341d585440033923e\", \"bnUSD\": \"cxa391273c1b2dc7a2dda968ae2db465b5ea655213\", \"baln\": \"cx138307105ad7ef858e755b3f72b4b1759b9254cc\", \"bwt\": \"cx361d361ac375975cd13308b11bc2eb568ef752db\"}\n"
     ]
    }
   ],
   "source": [
    "# Cell 7\n",
    "# Deploy and configure Balanced. Print results if anything goes wrong.\n",
    "\n",
    "results = {}\n",
    "deploy_all(btest_wallet)\n",
    "print('------------------------------------------------------------------------------------------------------------------')\n",
    "print(contracts)\n",
    "print(get_scores_json(contracts))"
   ]
  },
  {
   "cell_type": "code",
   "execution_count": 21,
   "metadata": {},
   "outputs": [
    {
     "name": "stdout",
     "output_type": "stream",
     "text": [
      "core_contracts/reserve.zip\n"
     ]
    },
    {
     "name": "stderr",
     "output_type": "stream",
     "text": [
      "Raised JSONRPCException while returning the custom response. Error message: {'code': -32602, 'message': 'Pending transaction'}\n"
     ]
    },
    {
     "name": "stdout",
     "output_type": "stream",
     "text": [
      "Retrying in 1 seconds...\n",
      "Status: 1\n",
      "\n"
     ]
    },
    {
     "data": {
      "text/plain": [
       "'cxed4dccb2bd576a4479f92a737be292367207f923'"
      ]
     },
     "execution_count": 21,
     "metadata": {},
     "output_type": "execute_result"
    }
   ],
   "source": [
    "# Cell 8\n",
    "# Deploy or Update a single SCORE\n",
    "\n",
    "compress()\n",
    "update = 0\n",
    "contract = contracts['reserve']\n",
    "params = {}\n",
    "params = {'_governance': contracts['governance']['SCORE']}\n",
    "deploy_SCORE(contract, params, btest_wallet, update)"
   ]
  },
  {
   "cell_type": "code",
   "execution_count": 31,
   "metadata": {},
   "outputs": [
    {
     "name": "stdout",
     "output_type": "stream",
     "text": [
      "------------------------------------------------------------------------------------------------------------------\n",
      "Calling addCollateral, with parameters {'_asset': 'bnUSD', '_amount': 50000000000000000000} on the loans contract.\n",
      "------------------------------------------------------------------------------------------------------------------\n",
      "************************************************** Status: 1 **************************************************\n",
      "{'scoreAddress': 'cx7fc820601ef77635186a3d2bd874a2417d24801e', 'indexed': ['ICXTransfer(Address,Address,int)', 'cx7fc820601ef77635186a3d2bd874a2417d24801e', 'cxe750ed36026a9becd7ebe64fdeaa19a62c5e12be', '0x878678326eac900000'], 'data': []} \n",
      "\n",
      "{'scoreAddress': 'cx709ee3a881fea823c13825d341d585440033923e', 'indexed': ['Mint(Address,int,bytes)', 'cx7fc820601ef77635186a3d2bd874a2417d24801e'], 'data': ['0x878678326eac900000', '0x7b226d6574686f64223a225f6465706f7369745f616e645f626f72726f77222c22706172616d73223a7b225f73656e646572223a22687837613138323431323961386665383033653435613361616531633065303630333939353436313837222c225f6173736574223a22626e555344222c225f616d6f756e74223a35303030303030303030303030303030303030307d7d']} \n",
      "\n",
      "{'scoreAddress': 'cx709ee3a881fea823c13825d341d585440033923e', 'indexed': ['Transfer(Address,Address,int,bytes)', 'hx0000000000000000000000000000000000000000', 'cx7fc820601ef77635186a3d2bd874a2417d24801e', '0x878678326eac900000'], 'data': ['0x7b226d6574686f64223a225f6465706f7369745f616e645f626f72726f77222c22706172616d73223a7b225f73656e646572223a22687837613138323431323961386665383033653435613361616531633065303630333939353436313837222c225f6173736574223a22626e555344222c225f616d6f756e74223a35303030303030303030303030303030303030307d7d']} \n",
      "\n",
      "{'scoreAddress': 'cx138307105ad7ef858e755b3f72b4b1759b9254cc', 'indexed': ['Mint(Address,int,bytes)', 'cx0e90bd4f1ff3d27f10b27decfc0108ec4da03962'], 'data': ['0x152d02c7e14af6800000', '0x4e6f6e65']} \n",
      "\n",
      "{'scoreAddress': 'cx138307105ad7ef858e755b3f72b4b1759b9254cc', 'indexed': ['Transfer(Address,Address,int,bytes)', 'hx0000000000000000000000000000000000000000', 'cx0e90bd4f1ff3d27f10b27decfc0108ec4da03962', '0x152d02c7e14af6800000'], 'data': ['0x4e6f6e65']} \n",
      "\n",
      "{'scoreAddress': 'cx138307105ad7ef858e755b3f72b4b1759b9254cc', 'indexed': ['Transfer(Address,Address,int,bytes)', 'cx0e90bd4f1ff3d27f10b27decfc0108ec4da03962', 'cx361d361ac375975cd13308b11bc2eb568ef752db', '0x43c33c1937564800000'], 'data': ['0x4e6f6e65']} \n",
      "\n",
      "{'scoreAddress': 'cx138307105ad7ef858e755b3f72b4b1759b9254cc', 'indexed': ['Transfer(Address,Address,int,bytes)', 'cx0e90bd4f1ff3d27f10b27decfc0108ec4da03962', 'cxe50188447b0cdbd50d9981943e686a9242c502d0', '0x10f0cf064dd59200000'], 'data': ['0x4e6f6e65']} \n",
      "\n",
      "{'scoreAddress': 'cx138307105ad7ef858e755b3f72b4b1759b9254cc', 'indexed': ['Transfer(Address,Address,int,bytes)', 'cx0e90bd4f1ff3d27f10b27decfc0108ec4da03962', 'cxc3549d656042dfe484c4fb772536d4dbd6dc9ebe', '0x4c3ba39c5e411100000'], 'data': ['0x4e6f6e65']} \n",
      "\n",
      "{'scoreAddress': 'cx7fc820601ef77635186a3d2bd874a2417d24801e', 'indexed': ['CollateralReceived(Address,str)', 'hx7a1824129a8fe803e45a3aae1c0e060399546187', 'sICX'], 'data': []} \n",
      "\n",
      "{'scoreAddress': 'cx7fc820601ef77635186a3d2bd874a2417d24801e', 'indexed': ['OriginateLoan(Address,str,int,str)', 'hx7a1824129a8fe803e45a3aae1c0e060399546187', 'bnUSD', '0x2b5e3af16b1880000'], 'data': ['Loan of 50.0 bnUSD from Balanced.']} \n",
      "\n",
      "{'scoreAddress': 'cxa391273c1b2dc7a2dda968ae2db465b5ea655213', 'indexed': ['Mint(Address,int,bytes)', 'hx7a1824129a8fe803e45a3aae1c0e060399546187'], 'data': ['0x2b5e3af16b1880000', '0x4e6f6e65']} \n",
      "\n",
      "{'scoreAddress': 'cxa391273c1b2dc7a2dda968ae2db465b5ea655213', 'indexed': ['Transfer(Address,Address,int,bytes)', 'hx0000000000000000000000000000000000000000', 'hx7a1824129a8fe803e45a3aae1c0e060399546187', '0x2b5e3af16b1880000'], 'data': ['0x4e6f6e65']} \n",
      "\n",
      "{'scoreAddress': 'cxa391273c1b2dc7a2dda968ae2db465b5ea655213', 'indexed': ['Mint(Address,int,bytes)', 'cxfb9ff4b338026f5f79085645bfbc0299ada99c67'], 'data': ['0x6f05b59d3b20000', '0x4e6f6e65']} \n",
      "\n",
      "{'scoreAddress': 'cxa391273c1b2dc7a2dda968ae2db465b5ea655213', 'indexed': ['Transfer(Address,Address,int,bytes)', 'hx0000000000000000000000000000000000000000', 'cxfb9ff4b338026f5f79085645bfbc0299ada99c67', '0x6f05b59d3b20000'], 'data': ['0x4e6f6e65']} \n",
      "\n",
      "{'scoreAddress': 'cx7fc820601ef77635186a3d2bd874a2417d24801e', 'indexed': ['FeePaid(str,int,str,str)', 'bnUSD', '0x6f05b59d3b20000', 'origination'], 'data': ['']} \n",
      "\n",
      "{'scoreAddress': 'cxe750ed36026a9becd7ebe64fdeaa19a62c5e12be', 'indexed': ['TokenTransfer(Address,int,str)', 'cx7fc820601ef77635186a3d2bd874a2417d24801e', '0x878678326eac900000'], 'data': ['2500.0 sICX minted to cx7fc820601ef77635186a3d2bd874a2417d24801e']} \n",
      "\n",
      "------------------------------------------------------------------------------------------------------------------\n",
      "Reading getAccountPositions, with parameters {'_owner': 'hx7a1824129a8fe803e45a3aae1c0e060399546187'} on the loans contract.\n",
      "------------------------------------------------------------------------------------------------------------------\n",
      "{'pos_id': '0x1', 'created': '0x5bebc07f1dd25', 'address': 'hx7a1824129a8fe803e45a3aae1c0e060399546187', 'snap_id': '0x3', 'snaps_length': '0x2', 'last_snap': '0x3', 'first day': '0x1', 'assets': {'sICX': '0x1916d7dc57be305dd2f', 'bnUSD': '0x3d0a639a3241d80000'}, 'replay_index': '0x1', 'events_behind': '0x0', 'total_debt': '0x0', 'ratio': '0x98a147336b564350', 'standing': 'Mining'}\n"
     ]
    },
    {
     "data": {
      "text/plain": [
       "{'pos_id': '0x1',\n",
       " 'created': '0x5bebc07f1dd25',\n",
       " 'address': 'hx7a1824129a8fe803e45a3aae1c0e060399546187',\n",
       " 'snap_id': '0x3',\n",
       " 'snaps_length': '0x2',\n",
       " 'last_snap': '0x3',\n",
       " 'first day': '0x1',\n",
       " 'assets': {'sICX': '0x1916d7dc57be305dd2f', 'bnUSD': '0x3d0a639a3241d80000'},\n",
       " 'replay_index': '0x1',\n",
       " 'events_behind': '0x0',\n",
       " 'total_debt': '0x0',\n",
       " 'ratio': '0x98a147336b564350',\n",
       " 'standing': 'Mining'}"
      ]
     },
     "execution_count": 31,
     "metadata": {},
     "output_type": "execute_result"
    }
   ],
   "source": [
    "# 1.Add 500icx collateral and mint 50 bnusd of loans from account user2.\n",
    "# 2.call add_test_position method and add bnusd until account is in dead market state from account user1.\n",
    "# 3.after this the asset bnusd will be dead\n",
    "\n",
    "send_tx('loans', 2500 * ICX , 'addCollateral', {'_asset': 'bnUSD', '_amount': 50 * ICX}, user2)\n",
    "call_tx('loans', 'getAccountPositions', {'_owner': user2.get_address()})\n",
    "# send_tx('loans', 500 * ICX , 'addCollateral', {'_asset': '', '_amount': 0}, user1)\n",
    "# send_tx('loans', 0, 'toggleTestMode', {}, btest_wallet)\n",
    "# send_tx('loans', 600, 'create_test_position', {'_address': user1.get_address(), '_asset': 'bnUSD', '_amount': 1000 * ICX}, user1)\n",
    "# call_tx('loans', 'getAccountPositions', {'_owner': user1.get_address()})"
   ]
  },
  {
   "cell_type": "code",
   "execution_count": 12,
   "metadata": {},
   "outputs": [
    {
     "name": "stdout",
     "output_type": "stream",
     "text": [
      "------------------------------------------------------------------------------------------------------------------\n",
      "Reading checkDebts, with parameters {} on the loans contract.\n",
      "------------------------------------------------------------------------------------------------------------------\n",
      "{'system': {'debts': '0x38f29db83663da0000', 'bad_debt': '0x0', 'supply': '0x38f29db83663da0000', 'diff': '0x0', 'remaining': '0x0'}, 'events': {}}\n",
      "------------------------------------------------------------------------------------------------------------------\n",
      "Calling liquidate, with parameters {'_owner': 'hxe62d11fa19a0e8575ad92f06bc8fd42edbfe27db'} on the loans contract.\n",
      "------------------------------------------------------------------------------------------------------------------\n"
     ]
    },
    {
     "name": "stderr",
     "output_type": "stream",
     "text": [
      "Raised JSONRPCException while returning the custom response. Error message: {'code': -32602, 'message': 'Pending transaction'}\n"
     ]
    },
    {
     "name": "stdout",
     "output_type": "stream",
     "text": [
      "Retrying in 1 seconds...\n",
      "************************************************** Status: 1 **************************************************\n",
      "{'scoreAddress': 'cxede88a11ee5748d406cb54a6b31826503c593c3d', 'indexed': ['OraclePrice(str,str,Address,int)', 'USDICX', 'BandChain', 'cx7171e2f5653c1b9c000e24228276b8d24e84f10d'], 'data': ['0x84c5d90848544bb']} \n",
      "\n",
      "{'scoreAddress': 'cx0f13608c23998b89a784ec9a6836e83e8ca1176e', 'indexed': ['PositionStanding(Address,str,str,str)', 'hxe62d11fa19a0e8575ad92f06bc8fd42edbfe27db', 'Liquidate'], 'data': ['0.8361823098521571', 'Position up to date.']} \n",
      "\n",
      "{'scoreAddress': 'cx6061322d4c7f7df89f2697d32a25cbc1248c2660', 'indexed': ['Transfer(Address,Address,int,bytes)', 'cx0f13608c23998b89a784ec9a6836e83e8ca1176e', 'hxe62d11fa19a0e8575ad92f06bc8fd42edbfe27db', '0x2e7d97403d8f0004'], 'data': ['0x4e6f6e65']} \n",
      "\n",
      "{'scoreAddress': 'cx0f13608c23998b89a784ec9a6836e83e8ca1176e', 'indexed': ['TokenTransfer(Address,int,str)', 'hxe62d11fa19a0e8575ad92f06bc8fd42edbfe27db', '0x2e7d97403d8f0004'], 'data': ['Liquidation reward of 3350000000000000004 sICX sent to hxe62d11fa19a0e8575ad92f06bc8fd42edbfe27db.']} \n",
      "\n",
      "{'scoreAddress': 'cx0f13608c23998b89a784ec9a6836e83e8ca1176e', 'indexed': ['Liquidate(Address,int,str)', 'hxe62d11fa19a0e8575ad92f06bc8fd42edbfe27db', '0x1b1ae4d6e2ef500258'], 'data': ['500000000000000000600 liquidated from hxe62d11fa19a0e8575ad92f06bc8fd42edbfe27db']} \n",
      "\n",
      "------------------------------------------------------------------------------------------------------------------\n",
      "Reading getAccountPositions, with parameters {'_owner': 'hxe62d11fa19a0e8575ad92f06bc8fd42edbfe27db'} on the loans contract.\n",
      "------------------------------------------------------------------------------------------------------------------\n",
      "{'pos_id': '0x2', 'created': '0x5beb9d60ca6b0', 'address': 'hxe62d11fa19a0e8575ad92f06bc8fd42edbfe27db', 'snap_id': '0x1', 'snaps_length': '0x1', 'last_snap': '0x1', 'first day': '0x1', 'assets': {'sICX': '0x0'}, 'replay_index': '0x0', 'events_behind': '0x0', 'total_debt': '0x0', 'ratio': '0x0', 'standing': 'Zero'}\n",
      "------------------------------------------------------------------------------------------------------------------\n",
      "Reading checkDebts, with parameters {} on the loans contract.\n",
      "------------------------------------------------------------------------------------------------------------------\n",
      "{'system': {'debts': '0x2bcd40a70853a0000', 'bad_debt': '0x3635c9adc5dea00000', 'supply': '0x38f29db83663da0000', 'diff': '0x0', 'remaining': '0x0'}, 'events': {}}\n"
     ]
    },
    {
     "data": {
      "text/plain": [
       "{'system': {'debts': '0x2bcd40a70853a0000',\n",
       "  'bad_debt': '0x3635c9adc5dea00000',\n",
       "  'supply': '0x38f29db83663da0000',\n",
       "  'diff': '0x0',\n",
       "  'remaining': '0x0'},\n",
       " 'events': {}}"
      ]
     },
     "execution_count": 12,
     "metadata": {},
     "output_type": "execute_result"
    }
   ],
   "source": [
    "# call_tx('loans', 'checkDebts', {})\n",
    "# send_tx('loans', 0, 'add_bad_test_position', {}, user1)\n",
    "call_tx('loans', 'checkDebts', {})\n",
    "send_tx('loans', 0, 'liquidate', {'_owner': user1.get_address()}, user1)\n",
    "call_tx('loans', 'getAccountPositions', {'_owner': user1.get_address()})\n",
    "call_tx('loans', 'checkDebts', {})\n"
   ]
  },
  {
   "cell_type": "code",
   "execution_count": 36,
   "metadata": {},
   "outputs": [
    {
     "name": "stdout",
     "output_type": "stream",
     "text": [
      "------------------------------------------------------------------------------------------------------------------\n",
      "Reading getAccountPositions, with parameters {'_owner': 'hxe62d11fa19a0e8575ad92f06bc8fd42edbfe27db'} on the loans contract.\n",
      "------------------------------------------------------------------------------------------------------------------\n",
      "{'pos_id': '0x2', 'created': '0x5be2c15693ff5', 'address': 'hxe62d11fa19a0e8575ad92f06bc8fd42edbfe27db', 'snap_id': '0x1', 'snaps_length': '0x1', 'last_snap': '0x1', 'first day': '0x1', 'assets': {'sICX': '0x0', 'bnUSD': '0x0'}, 'replay_index': '0x0', 'events_behind': '0x0', 'total_debt': '0x0', 'ratio': '0x0', 'standing': 'Zero'}\n"
     ]
    },
    {
     "data": {
      "text/plain": [
       "{'pos_id': '0x2',\n",
       " 'created': '0x5be2c15693ff5',\n",
       " 'address': 'hxe62d11fa19a0e8575ad92f06bc8fd42edbfe27db',\n",
       " 'snap_id': '0x1',\n",
       " 'snaps_length': '0x1',\n",
       " 'last_snap': '0x1',\n",
       " 'first day': '0x1',\n",
       " 'assets': {'sICX': '0x0', 'bnUSD': '0x0'},\n",
       " 'replay_index': '0x0',\n",
       " 'events_behind': '0x0',\n",
       " 'total_debt': '0x0',\n",
       " 'ratio': '0x0',\n",
       " 'standing': 'Zero'}"
      ]
     },
     "execution_count": 36,
     "metadata": {},
     "output_type": "execute_result"
    }
   ],
   "source": [
    "# send_tx('loans', 500 * ICX , 'addCollateral', {'_asset': 'bnUSD', '_amount': 50 * ICX}, btest_wallet)\n",
    "call_tx('loans', 'getAccountPositions', {'_owner': user1.get_address()})\n"
   ]
  },
  {
   "cell_type": "code",
   "execution_count": 99,
   "metadata": {},
   "outputs": [
    {
     "name": "stdout",
     "output_type": "stream",
     "text": [
      "Status: 1\n",
      "\n",
      "\n",
      "['SICXICX', 'BALNbnUSD']\n"
     ]
    }
   ],
   "source": [
    "transaction = CallTransactionBuilder()\\\n",
    "    .from_(btest_wallet.get_address())\\\n",
    "    .to(contracts['governance']['SCORE'])\\\n",
    "    .value(0)\\\n",
    "    .step_limit(10000000)\\\n",
    "    .nid(NID)\\\n",
    "    .nonce(100)\\\n",
    "    .method(\"setMarketName\")\\\n",
    "    .params({'_pid':3, '_name': 'BALNbnUSD'}) \\\n",
    "    .build()\n",
    "signed_transaction = SignedTransaction(transaction, btest_wallet)\n",
    "tx_hash = icon_service.send_transaction(signed_transaction)\n",
    "tx_hash\n",
    "\n",
    "res = get_tx_result(tx_hash)\n",
    "print(f'Status: {res[\"status\"]}')\n",
    "if len(res[\"eventLogs\"]) > 0:\n",
    "    for item in res[\"eventLogs\"]:\n",
    "        print(f'{item} \\n')\n",
    "if res['status'] == 0:\n",
    "    print(f'Failure: {res[\"failure\"]}')\n",
    "print('\\n')\n",
    "\n",
    "call = CallBuilder().from_(wallet.get_address())\\\n",
    "                    .to(contracts['dex']['SCORE'])\\\n",
    "                    .method('getNamedPools')\\\n",
    "                    .build()\n",
    "result = icon_service.call(call)\n",
    "print(result)"
   ]
  },
  {
   "cell_type": "code",
   "execution_count": 102,
   "metadata": {},
   "outputs": [
    {
     "name": "stderr",
     "output_type": "stream",
     "text": [
      "Raised JSONRPCException while returning the custom response. Error message: {'code': -32602, 'message': 'Pending transaction'}\n"
     ]
    },
    {
     "name": "stdout",
     "output_type": "stream",
     "text": [
      "Retrying in 1 seconds...\n",
      "Status: 1\n",
      "\n",
      "\n",
      "['SICXICX', 'BALNbnUSD']\n"
     ]
    }
   ],
   "source": [
    "# Cell 44\n",
    "\n",
    "transaction = CallTransactionBuilder()\\\n",
    "    .from_(btest_wallet.get_address())\\\n",
    "    .to(contracts['governance']['SCORE'])\\\n",
    "    .value(0)\\\n",
    "    .step_limit(10000000)\\\n",
    "    .nid(NID)\\\n",
    "    .nonce(100)\\\n",
    "    .method(\"setMarketName\")\\\n",
    "    .params({'_pid':3, '_name': 'BALNbnUSD'}) \\\n",
    "    .build()\n",
    "signed_transaction = SignedTransaction(transaction, btest_wallet)\n",
    "tx_hash = icon_service.send_transaction(signed_transaction)\n",
    "tx_hash\n",
    "\n",
    "res = get_tx_result(tx_hash)\n",
    "print(f'Status: {res[\"status\"]}')\n",
    "if len(res[\"eventLogs\"]) > 0:\n",
    "    for item in res[\"eventLogs\"]:\n",
    "        print(f'{item} \\n')\n",
    "if res['status'] == 0:\n",
    "    print(f'Failure: {res[\"failure\"]}')\n",
    "print('\\n')\n",
    "\n",
    "call = CallBuilder().from_(wallet.get_address())\\\n",
    "                    .to(contracts['dex']['SCORE'])\\\n",
    "                    .method('getNamedPools')\\\n",
    "                    .build()\n",
    "result = icon_service.call(call)\n",
    "print(result)"
   ]
  },
  {
   "cell_type": "code",
   "execution_count": 24,
   "metadata": {},
   "outputs": [
    {
     "name": "stdout",
     "output_type": "stream",
     "text": [
      "------------------------------------------------------------------------------------------------------------------\n",
      "Reading checkDeadMarkets, with parameters {} on the loans contract.\n",
      "------------------------------------------------------------------------------------------------------------------\n",
      "[]\n",
      "------------------------------------------------------------------------------------------------------------------\n",
      "Reading getAvailableAssets, with parameters {} on the loans contract.\n",
      "------------------------------------------------------------------------------------------------------------------\n",
      "{'sICX': {'symbol': 'sICX', 'address': 'cx709ee3a881fea823c13825d341d585440033923e', 'peg': 'sICX', 'added': '0x5bebc034a3d2a', 'is_collateral': '0x1', 'active': '0x1', 'bad_debt': '0x0', 'liquidation_pool': '0x0', 'dead_market': '0x0'}, 'bnUSD': {'symbol': 'bnUSD', 'address': 'cxa391273c1b2dc7a2dda968ae2db465b5ea655213', 'peg': 'USD', 'added': '0x5bebc034a3d2a', 'is_collateral': '0x0', 'active': '0x1', 'bad_debt': '0x0', 'liquidation_pool': '0x0', 'dead_market': '0x0'}}\n",
      "------------------------------------------------------------------------------------------------------------------\n",
      "Calling transfer, with parameters {'_to': 'cx7fc820601ef77635186a3d2bd874a2417d24801e', '_value': 50000000000000000000, '_data': b'{\"method\": \"_retire_asset\", \"params\": {}}'} on the bnUSD contract.\n",
      "------------------------------------------------------------------------------------------------------------------\n"
     ]
    },
    {
     "name": "stderr",
     "output_type": "stream",
     "text": [
      "Raised JSONRPCException while returning the custom response. Error message: {'code': -32602, 'message': 'Pending transaction'}\n"
     ]
    },
    {
     "name": "stdout",
     "output_type": "stream",
     "text": [
      "Retrying in 1 seconds...\n",
      "************************************************** Status: 0 **************************************************\n",
      "Failure: {'code': 1, 'message': 'Insufficient balance.'}\n",
      "------------------------------------------------------------------------------------------------------------------\n",
      "Reading getAvailableAssets, with parameters {} on the loans contract.\n",
      "------------------------------------------------------------------------------------------------------------------\n",
      "{'sICX': {'symbol': 'sICX', 'address': 'cx709ee3a881fea823c13825d341d585440033923e', 'peg': 'sICX', 'added': '0x5bebc034a3d2a', 'is_collateral': '0x1', 'active': '0x1', 'bad_debt': '0x0', 'liquidation_pool': '0x0', 'dead_market': '0x0'}, 'bnUSD': {'symbol': 'bnUSD', 'address': 'cxa391273c1b2dc7a2dda968ae2db465b5ea655213', 'peg': 'USD', 'added': '0x5bebc034a3d2a', 'is_collateral': '0x0', 'active': '0x1', 'bad_debt': '0x0', 'liquidation_pool': '0x0', 'dead_market': '0x0'}}\n"
     ]
    },
    {
     "data": {
      "text/plain": [
       "{'sICX': {'symbol': 'sICX',\n",
       "  'address': 'cx709ee3a881fea823c13825d341d585440033923e',\n",
       "  'peg': 'sICX',\n",
       "  'added': '0x5bebc034a3d2a',\n",
       "  'is_collateral': '0x1',\n",
       "  'active': '0x1',\n",
       "  'bad_debt': '0x0',\n",
       "  'liquidation_pool': '0x0',\n",
       "  'dead_market': '0x0'},\n",
       " 'bnUSD': {'symbol': 'bnUSD',\n",
       "  'address': 'cxa391273c1b2dc7a2dda968ae2db465b5ea655213',\n",
       "  'peg': 'USD',\n",
       "  'added': '0x5bebc034a3d2a',\n",
       "  'is_collateral': '0x0',\n",
       "  'active': '0x1',\n",
       "  'bad_debt': '0x0',\n",
       "  'liquidation_pool': '0x0',\n",
       "  'dead_market': '0x0'}}"
      ]
     },
     "execution_count": 24,
     "metadata": {},
     "output_type": "execute_result"
    }
   ],
   "source": [
    "# Cell 13\n",
    "# 1. Check that there is a Dead Market\n",
    "# 2. Check the bad debt, liquidation pool and dead_market state of the asset.\n",
    "# 3. Retire enough of the bad debt to get the asset out of the dead_market state.\n",
    "# 4. Again, check the bad debt, liquidation pool and dead_market state of the asset.\n",
    "\n",
    "call_tx('loans', 'checkDeadMarkets', {})\n",
    "call_tx('loans', 'getAvailableAssets', {})\n",
    "send_tx('bnUSD', 0, 'transfer', {'_to': contracts['loans']['SCORE'], '_value': 50 * ICX, '_data': json.dumps({\"method\": \"_retire_asset\", \"params\": {}}).encode()}, btest_wallet)\n",
    "call_tx('loans', 'getAvailableAssets', {})\n"
   ]
  },
  {
   "cell_type": "code",
   "execution_count": 29,
   "metadata": {},
   "outputs": [
    {
     "name": "stdout",
     "output_type": "stream",
     "text": [
      "btest_wallet retire 1000 bnusd\n",
      "Status: 1\n",
      "{'scoreAddress': 'cxa391273c1b2dc7a2dda968ae2db465b5ea655213', 'indexed': ['Transfer(Address,Address,int,bytes)', 'hx3f01840a599da07b0f620eeae7aa9c574169a4be', 'cx7fc820601ef77635186a3d2bd874a2417d24801e', '0x3635c9adc5dea00000'], 'data': ['0x7b226d6574686f64223a20225f7265746972655f6173736574222c2022706172616d73223a207b7d7d']} \n",
      "\n",
      "{'scoreAddress': 'cxa391273c1b2dc7a2dda968ae2db465b5ea655213', 'indexed': ['OraclePrice(str,str,Address,int)', 'USDICX', 'BandChain', 'cx7171e2f5653c1b9c000e24228276b8d24e84f10d'], 'data': ['0x84c5d90848544bb']} \n",
      "\n",
      "{'scoreAddress': 'cxa391273c1b2dc7a2dda968ae2db465b5ea655213', 'indexed': ['Burn(Address,int)', 'cx7fc820601ef77635186a3d2bd874a2417d24801e'], 'data': ['0x35f0661c4399ac0000']} \n",
      "\n",
      "{'scoreAddress': 'cxa391273c1b2dc7a2dda968ae2db465b5ea655213', 'indexed': ['Transfer(Address,Address,int,bytes)', 'cx7fc820601ef77635186a3d2bd874a2417d24801e', 'hx0000000000000000000000000000000000000000', '0x35f0661c4399ac0000'], 'data': ['0x4e6f6e65']} \n",
      "\n",
      "{'scoreAddress': 'cx709ee3a881fea823c13825d341d585440033923e', 'indexed': ['Transfer(Address,Address,int,bytes)', 'cx7fc820601ef77635186a3d2bd874a2417d24801e', 'hx3f01840a599da07b0f620eeae7aa9c574169a4be', '0x2040cfa8b311fa22d1'], 'data': ['0x4e6f6e65']} \n",
      "\n",
      "{'scoreAddress': 'cx7fc820601ef77635186a3d2bd874a2417d24801e', 'indexed': ['TokenTransfer(Address,int,str)', 'hx3f01840a599da07b0f620eeae7aa9c574169a4be', '0x2040cfa8b311fa22d1'], 'data': ['Collateral redeemed. 594965947184366363345 sICX sent to hx3f01840a599da07b0f620eeae7aa9c574169a4be.']} \n",
      "\n",
      "{'scoreAddress': 'cxa391273c1b2dc7a2dda968ae2db465b5ea655213', 'indexed': ['Transfer(Address,Address,int,bytes)', 'cx7fc820601ef77635186a3d2bd874a2417d24801e', 'cxfb9ff4b338026f5f79085645bfbc0299ada99c67', '0x4563918244f40000'], 'data': ['0x4e6f6e65']} \n",
      "\n",
      "{'scoreAddress': 'cx7fc820601ef77635186a3d2bd874a2417d24801e', 'indexed': ['TokenTransfer(Address,int,str)', 'cxfb9ff4b338026f5f79085645bfbc0299ada99c67', '0x4563918244f40000'], 'data': ['Redemption fee. 5000000000000000000 bnUSD sent to cxfb9ff4b338026f5f79085645bfbc0299ada99c67.']} \n",
      "\n",
      "{'scoreAddress': 'cx7fc820601ef77635186a3d2bd874a2417d24801e', 'indexed': ['AssetRedeemed(Address,str,int,str)', 'hx3f01840a599da07b0f620eeae7aa9c574169a4be', 'bnUSD', '0x3635c9adc5dea00000'], 'data': ['1000.0 bnUSD redeemed on Balanced at price 0.5979557258134335 ICX/bnUSD.']} \n",
      "\n",
      "------------------------------------------------------------------------------------------------------------------\n",
      "Reading checkDebts, with parameters {} on the loans contract.\n",
      "------------------------------------------------------------------------------------------------------------------\n",
      "{'system': {'debts': '0x397d64db3aedc20000', 'bad_debt': '0x0', 'supply': '0x38cfebef754160000', 'diff': '-0x35f0661c4399ac0000', 'remaining': '0x35f0661c4399ac0000'}, 'events': {'1': {'remaining_value': '0x35f0661c4399ac0000', 'remaining_sicx': '0x2040cfa8b311fa22d1', 'remaining_supply': '0x397d64db3aedc20000'}}}\n",
      "Market revived\n",
      "btest_wallet retire 100 bnusd\n"
     ]
    },
    {
     "name": "stderr",
     "output_type": "stream",
     "text": [
      "Raised JSONRPCException while returning the custom response. Error message: {'code': -32602, 'message': 'Pending transaction'}\n"
     ]
    },
    {
     "name": "stdout",
     "output_type": "stream",
     "text": [
      "Retrying in 1 seconds...\n",
      "Status: 0\n",
      "Failure: {'code': 1, 'message': 'Insufficient balance.'}\n",
      "------------------------------------------------------------------------------------------------------------------\n",
      "Reading checkDebts, with parameters {} on the loans contract.\n",
      "------------------------------------------------------------------------------------------------------------------\n",
      "{'system': {'debts': '0x397d64db3aedc20000', 'bad_debt': '0x0', 'supply': '0x38cfebef754160000', 'diff': '-0x35f0661c4399ac0000', 'remaining': '0x35f0661c4399ac0000'}, 'events': {'1': {'remaining_value': '0x35f0661c4399ac0000', 'remaining_sicx': '0x2040cfa8b311fa22d1', 'remaining_supply': '0x397d64db3aedc20000'}}}\n",
      "Market revived\n"
     ]
    }
   ],
   "source": [
    "#  Now we try to revive the dead market\n",
    "# 1. Test with retiring less than enough to revive the market with bad_debt 550.25 bnusd \n",
    "# i.e user2 retires 100 bnusd\n",
    "\n",
    "test_cases =  { \n",
    "    \n",
    "    \"stories\": [ {\n",
    "      \"description\": \"btest_wallet retire 1000 bnusd\",\n",
    "      \"actions\": {\n",
    "          \"sender\":\"user2\",\n",
    "          \"first_meth\": \"transfer\",\n",
    "          \"second_meth\":\"transfer\",\n",
    "          \"deposited_icx\":\"0\",\n",
    "          \"first_params\":{'_to': btest_wallet.get_address(), '_value': 1000 * ICX},\n",
    "          \"second_params\":{\"method\": \"_retire_asset\", \"params\": {},'_to': contracts['loans']['SCORE'], '_value': 1000 * ICX},\n",
    "          \"expected_bnusd_wallet\":\"20700000000000000000\"\n",
    "          \n",
    "      }\n",
    "    },\n",
    "        {\n",
    "            \"description\": \"btest_wallet retire 100 bnusd\",\n",
    "              \"actions\": {\n",
    "                  \"sender\":\"user2\",\n",
    "                  \"first_meth\": \"transfer\",\n",
    "                  \"second_meth\":\"transfer\",\n",
    "                  \"deposited_icx\":\"0\",\n",
    "                  \"first_params\":{'_to': btest_wallet.get_address(), '_value': 100 *ICX},\n",
    "                  \"second_params\":{\"method\": \"_retire_asset\", \"params\": {},'_to': contracts['loans']['SCORE'], '_value': 100 * ICX},\n",
    "                  \"expected_bnusd_wallet\":\"20700000000000000000\"\n",
    "\n",
    "      }\n",
    "        }\n",
    "\n",
    "  ]\n",
    "}\n",
    "\n",
    "for case in test_cases['stories']:\n",
    "    print(case['description'])\n",
    "    _to = contracts['bnUSD']['SCORE']\n",
    "    meth1 = case['actions']['first_meth']\n",
    "    meth2 = case['actions']['second_meth']\n",
    "    val = int(case['actions']['deposited_icx'])\n",
    "    data1 = case['actions']['first_params']\n",
    "    first_params = {\"_to\": data1['_to'], \"_value\": data1['_value']}\n",
    "    \n",
    "    data2 = case['actions']['second_params']\n",
    "    params = {\"method\": data2['method'], \"params\": data2['params']}\n",
    "    data = json.dumps(params).encode(\"utf-8\")\n",
    "    second_params = {'_to': data2['_to'], '_value': data2['_value'], '_data': data}\n",
    "\n",
    "\n",
    "    transaction = CallTransactionBuilder()\\\n",
    "        .from_(user2.get_address())\\\n",
    "        .to(_to)\\\n",
    "        .value(val)\\\n",
    "        .step_limit(10000000)\\\n",
    "        .nid(NID)\\\n",
    "        .nonce(100)\\\n",
    "        .method(meth1)\\\n",
    "        .params(first_params)\\\n",
    "        .build()\n",
    "    signed_transaction = SignedTransaction(transaction, user2)\n",
    "    tx_hash = icon_service.send_transaction(signed_transaction)\n",
    "    sleep(2)\n",
    "\n",
    "    transaction = CallTransactionBuilder()\\\n",
    "        .from_(btest_wallet.get_address())\\\n",
    "        .to(_to)\\\n",
    "        .value(val)\\\n",
    "        .step_limit(10000000)\\\n",
    "        .nid(NID)\\\n",
    "        .nonce(100)\\\n",
    "        .method(meth2)\\\n",
    "        .params(second_params)\\\n",
    "        .build()\n",
    "    signed_transaction = SignedTransaction(transaction, btest_wallet)\n",
    "    tx_hash = icon_service.send_transaction(signed_transaction)\n",
    "    sleep(1)\n",
    "\n",
    "    res = get_tx_result(tx_hash)\n",
    "    print(f'Status: {res[\"status\"]}')\n",
    "    if len(res[\"eventLogs\"]) > 0:\n",
    "        for item in res[\"eventLogs\"]:\n",
    "            print(f'{item} \\n')\n",
    "    if res['status'] == 0:\n",
    "        print(f'Failure: {res[\"failure\"]}')\n",
    "    \n",
    "    tes= call_tx('loans', 'checkDebts', {})\n",
    "    if tes['system']['bad_debt'] != hex(0):\n",
    "        print(\"Market still dead\")\n",
    "    else:\n",
    "        print(\"Market revived\")\n",
    "    "
   ]
  },
  {
   "cell_type": "code",
   "execution_count": 30,
   "metadata": {},
   "outputs": [
    {
     "name": "stdout",
     "output_type": "stream",
     "text": [
      "------------------------------------------------------------------------------------------------------------------\n",
      "Calling stakeICX, with parameters {'_to': 'cx95e12058bb2edc4d3e1212582c457adb1210568d'} on the staking contract.\n",
      "------------------------------------------------------------------------------------------------------------------\n"
     ]
    },
    {
     "name": "stderr",
     "output_type": "stream",
     "text": [
      "Raised JSONRPCException while returning the custom response. Error message: {'code': -32602, 'message': 'Pending transaction'}\n"
     ]
    },
    {
     "name": "stdout",
     "output_type": "stream",
     "text": [
      "Retrying in 1 seconds...\n",
      "************************************************** Status: 1 **************************************************\n",
      "{'scoreAddress': 'cx9ebe6efedce0d4f31dab493e09e8b8896ab8a92a', 'indexed': ['Mint(Address,int,bytes)', 'cx95e12058bb2edc4d3e1212582c457adb1210568d'], 'data': ['0x2b5e3af16b18800000', '0x4e6f6e65']} \n",
      "\n",
      "{'scoreAddress': 'cx9ebe6efedce0d4f31dab493e09e8b8896ab8a92a', 'indexed': ['Transfer(Address,Address,int,bytes)', 'hx0000000000000000000000000000000000000000', 'cx95e12058bb2edc4d3e1212582c457adb1210568d', '0x2b5e3af16b18800000'], 'data': ['0x4e6f6e65']} \n",
      "\n",
      "{'scoreAddress': 'cxff8bebd0de53723121a2e45ba25967a8dbb8c6bc', 'indexed': ['TokenTransfer(Address,int,str)', 'cx95e12058bb2edc4d3e1212582c457adb1210568d', '0x2b5e3af16b18800000'], 'data': ['800.0 sICX minted to cx95e12058bb2edc4d3e1212582c457adb1210568d']} \n",
      "\n"
     ]
    },
    {
     "data": {
      "text/plain": [
       "{'txHash': '0xb19ebde8b2fe3315f49c6e1e961d0e2c9a3b1c2e769abc78a95798045ba1045f',\n",
       " 'blockHeight': 1613631,\n",
       " 'blockHash': '0x22bfc40d1a9a40aed17e807bbdd043df4fe70dab86306fada7ac60f5a1b2bb4d',\n",
       " 'txIndex': 1,\n",
       " 'to': 'cxff8bebd0de53723121a2e45ba25967a8dbb8c6bc',\n",
       " 'stepUsed': 521680,\n",
       " 'stepPrice': 10000000000,\n",
       " 'cumulativeStepUsed': 521680,\n",
       " 'eventLogs': [{'scoreAddress': 'cx9ebe6efedce0d4f31dab493e09e8b8896ab8a92a',\n",
       "   'indexed': ['Mint(Address,int,bytes)',\n",
       "    'cx95e12058bb2edc4d3e1212582c457adb1210568d'],\n",
       "   'data': ['0x2b5e3af16b18800000', '0x4e6f6e65']},\n",
       "  {'scoreAddress': 'cx9ebe6efedce0d4f31dab493e09e8b8896ab8a92a',\n",
       "   'indexed': ['Transfer(Address,Address,int,bytes)',\n",
       "    'hx0000000000000000000000000000000000000000',\n",
       "    'cx95e12058bb2edc4d3e1212582c457adb1210568d',\n",
       "    '0x2b5e3af16b18800000'],\n",
       "   'data': ['0x4e6f6e65']},\n",
       "  {'scoreAddress': 'cxff8bebd0de53723121a2e45ba25967a8dbb8c6bc',\n",
       "   'indexed': ['TokenTransfer(Address,int,str)',\n",
       "    'cx95e12058bb2edc4d3e1212582c457adb1210568d',\n",
       "    '0x2b5e3af16b18800000'],\n",
       "   'data': ['800.0 sICX minted to cx95e12058bb2edc4d3e1212582c457adb1210568d']}],\n",
       " 'logsBloom': b'\\x00\\x00\\x00\\x00\\x00\\x00\\x00\\x00\\x02\\x00\\x00 \\x00\\x00\\x00\\x02\\x00\\x00\\x00\\x00\\x00\\x00\\x00\\x00\\x00\\x00\\x00\\x00\\x00\\x00\\x00\\x00\\x00\\x00\\x02\\x00\\x00\\x00\\x00\\x00\\x00\\x00\\x00\\x00\\x01\\x00\\x00\\x00\\x00\\x00\\x00\\x00\\x02\\x00\\x00\\x00\\x00\\x00\\x00\\x00\\x00\\x00\\x82\\x00\\x00\\x00\\x00\\x00\\x00\\x00\\x00\\x00\\x00\\x00\\x00\\x80\\x00\\x00\\x80\\x00\\x00\\x00 \\x00\\x00\\x00\\x00\\x00\\x00\\x00\\x00\\x00\\x00\\x00\\x00\\x00\\x00\\x00\\x00\\x00\\x00\\x00\\x00\\x00\\x00\\x01\\x00\\x00\\x80\\x00\\x00 \\x00@\\x01\\x00\\x00\\x00\\x00\\x04\\x01\\x08\\x00\\x00\\x00\\x04\\x00\\x00\\x00\\x00\\x00\\x00\\x00\\x00\\x00\\x00\\x00\\x00\\x00\\x00\\x00\\x00\\x00\\x00@\\x00\\x00\\x00\\x00\\x00\\x00\\x00\\x00\\x00\\x00\\x00\\x00\\x10\\x00\\x01\\x00\\x00\\x00\\x00\\x00\\x00\\x00\\x00\\x00\\x00\\x00\\x00\\x00\\x00\\x00\\x00\\x00\\x00\\x00\\x00\\x00\\x00\\x00\\x00\\x00\\x00\\x00\\x00\\x00\\x00\\x00\\x08\\x00\\x00\\x08\\x00\\x00\\x00\\x00\\x00\\x00\\x00\\x00\\x00\\x00\\x00\\x00\\x00\\x00\\x00\\x00\\x00\\x00A\\x01\\x00\\x00\\x00\\x08\\x00\\x00\\x00\\x00\\x00\\x00\\x00\\x00\\x00\\x00\\x00\\x00\\x00\\x00\\x00\\x00\\x00\\x00\\x00\\x00\\x00\\x00\\x00\\x00 \\x00\\x00\\x00\\x00\\x00\\x00\\x00\\x00\\x00\\x00\\x00\\x00',\n",
       " 'status': 1}"
      ]
     },
     "execution_count": 30,
     "metadata": {},
     "output_type": "execute_result"
    }
   ],
   "source": [
    "# call_tx('loans', 'getAccountPositions', {'_owner': user1.get_address()})\n",
    "\n",
    "send_tx('staking',  800*ICX, 'stakeICX', {'_to':contracts['reserve']['SCORE']}, user1)\n",
    "\n",
    "# send_tx('loans', 500 * ICX , 'addCollateral', {'_asset': 'bnUSD', '_amount': 50 * ICX}, btest_wallet)\n"
   ]
  },
  {
   "cell_type": "code",
   "execution_count": 97,
   "metadata": {},
   "outputs": [
    {
     "name": "stdout",
     "output_type": "stream",
     "text": [
      "------------------------------------------------------------------------------------------------------------------\n",
      "Reading availableBalanceOf, with parameters {'_owner': 'hx7a1824129a8fe803e45a3aae1c0e060399546187'} on the baln contract.\n",
      "------------------------------------------------------------------------------------------------------------------\n",
      "0x0\n",
      "------------------------------------------------------------------------------------------------------------------\n",
      "Reading totalSupply, with parameters {} on the baln contract.\n",
      "------------------------------------------------------------------------------------------------------------------\n",
      "0x2a5a058fc295ed000000\n"
     ]
    },
    {
     "data": {
      "text/plain": [
       "200000.0"
      ]
     },
     "execution_count": 97,
     "metadata": {},
     "output_type": "execute_result"
    }
   ],
   "source": [
    "# send_tx('loans',  0, 'updateStanding', {'_owner':user2.get_address()}, user2)\n",
    "# send_tx('rewards',  0, 'claimRewards', {}, user2)\n",
    "# call_tx('rewards','getBalnHoldings', {'_holders': [user1.get_address(),contracts['reserve']['SCORE']]})\n",
    "call_tx('baln', 'availableBalanceOf', {'_owner': user2.get_address()})\n",
    "# call_tx('rewards', 'getRecipientsSplit', {})\n",
    "res =call_tx('baln', 'totalSupply', {})\n",
    "int(res, 0) /10**18"
   ]
  },
  {
   "cell_type": "code",
   "execution_count": null,
   "metadata": {},
   "outputs": [],
   "source": []
  },
  {
   "cell_type": "code",
   "execution_count": 93,
   "metadata": {},
   "outputs": [
    {
     "name": "stderr",
     "output_type": "stream",
     "text": [
      "Raised JSONRPCException while returning the custom response. Error message: {'code': -32602, 'message': 'Pending transaction'}\n"
     ]
    },
    {
     "name": "stdout",
     "output_type": "stream",
     "text": [
      "Retrying in 1 seconds...\n",
      "Status: 1\n",
      "{'scoreAddress': 'cx4ce0aa7823df348b2f527b7ca29bc690276bd565', 'indexed': ['PositionStanding(Address,str,str,str)', 'hx7a1824129a8fe803e45a3aae1c0e060399546187', 'Mining'], 'data': ['16.558065541626874', 'Position up to date.']} \n",
      "\n"
     ]
    }
   ],
   "source": [
    "for _ in range(100):\n",
    "    params = {'_index': 1}\n",
    "    call = CallBuilder().from_(wallet.get_address())\\\n",
    "                        .to(contracts['loans']['SCORE'])\\\n",
    "                        .method(\"getPositionAddress\")\\\n",
    "                        .params(params)\\\n",
    "                        .build()\n",
    "    params = {'_owner': icon_service.call(call)}\n",
    "    transaction = CallTransactionBuilder()\\\n",
    "        .from_(user2.get_address())\\\n",
    "        .to(contracts['loans']['SCORE'])\\\n",
    "        .value(0)\\\n",
    "        .step_limit(10000000)\\\n",
    "        .nid(NID)\\\n",
    "        .nonce(100)\\\n",
    "        .method(\"updateStanding\")\\\n",
    "        .params(params)\\\n",
    "        .build()\n",
    "    signed_transaction = SignedTransaction(transaction, user2)\n",
    "    tx_hash = icon_service.send_transaction(signed_transaction)\n",
    "\n",
    "res = get_tx_result(tx_hash)\n",
    "print(f'Status: {res[\"status\"]}')\n",
    "if len(res[\"eventLogs\"]) > 0:\n",
    "    for item in res[\"eventLogs\"]:\n",
    "        print(f'{item} \\n')\n",
    "if res['status'] == 0:\n",
    "    print(f'Failure: {res[\"failure\"]}')"
   ]
  },
  {
   "cell_type": "code",
   "execution_count": 98,
   "metadata": {},
   "outputs": [
    {
     "name": "stdout",
     "output_type": "stream",
     "text": [
      "['hx7a1824129a8fe803e45a3aae1c0e060399546187', 25000000000000000000000, 25000.0]\n",
      "['hxe62d11fa19a0e8575ad92f06bc8fd42edbfe27db', 0, 0.0]\n",
      "Total unclaimed: 25000.0\n",
      "{'rewards': 105000.0, 'reserve': 10000.0, 'bwt': 40000.0}\n",
      "Total BALN: 155000.0\n"
     ]
    }
   ],
   "source": [
    "# Check BALN that has been distributed on the rewards SCORE, and to platform contract addresses.\n",
    "\n",
    "params = {}\n",
    "call = CallBuilder().from_(user2.get_address())\\\n",
    "                    .to(contracts['loans']['SCORE'])\\\n",
    "                    .method(\"borrowerCount\")\\\n",
    "                    .params(params)\\\n",
    "                    .build()\n",
    "borrowerCount = int(icon_service.call(call), 0)\n",
    "\n",
    "addresses = []\n",
    "for i in range(1, borrowerCount + 1):\n",
    "    params = {'_index': i, '_day': -1}\n",
    "    call = CallBuilder().from_(user2.get_address())\\\n",
    "                        .to(contracts['loans']['SCORE'])\\\n",
    "                        .method(\"getPositionByIndex\")\\\n",
    "                        .params(params)\\\n",
    "                        .build()\n",
    "    position = icon_service.call(call)\n",
    "    addresses.append(position['address'])\n",
    "\n",
    "params = {'_holders': addresses}\n",
    "call = CallBuilder().from_(user2.get_address())\\\n",
    "                    .to(contracts['rewards']['SCORE'])\\\n",
    "                    .method(\"getBalnHoldings\")\\\n",
    "                    .params(params)\\\n",
    "                    .build()\n",
    "holders = icon_service.call(call)\n",
    "\n",
    "total_balances = 0\n",
    "baln_balances = {}\n",
    "for contract in ['rewards', 'reserve', 'bwt']:\n",
    "    params = {'_owner': contracts[contract]['SCORE']}\n",
    "    call = CallBuilder().from_(user2.get_address())\\\n",
    "                        .to(contracts['baln']['SCORE'])\\\n",
    "                        .method(\"balanceOf\")\\\n",
    "                        .params(params)\\\n",
    "                        .build()\n",
    "    result = int(icon_service.call(call), 0)\n",
    "    baln_balances[contract] = result / 10**18\n",
    "    total_balances += result\n",
    "\n",
    "i = 0\n",
    "holdings = {i: [key, int(holders[key], 0), int(holders[key], 0) / 10**18] for i, key in enumerate(holders.keys())}\n",
    "total = 0\n",
    "for key in holdings:\n",
    "    total += holdings[key][1]\n",
    "    print(f'{holdings[key]}')\n",
    "\n",
    "print(f'Total unclaimed: {total / 10**18}')\n",
    "print(baln_balances)\n",
    "print(f'Total BALN: {total_balances / 10**18}')"
   ]
  },
  {
   "cell_type": "code",
   "execution_count": null,
   "metadata": {},
   "outputs": [],
   "source": []
  },
  {
   "cell_type": "code",
   "execution_count": null,
   "metadata": {},
   "outputs": [],
   "source": []
  }
 ],
 "metadata": {
  "kernelspec": {
   "display_name": "Python 3",
   "language": "python",
   "name": "python3"
  },
  "language_info": {
   "codemirror_mode": {
    "name": "ipython",
    "version": 3
   },
   "file_extension": ".py",
   "mimetype": "text/x-python",
   "name": "python",
   "nbconvert_exporter": "python",
   "pygments_lexer": "ipython3",
   "version": "3.7.6"
  }
 },
 "nbformat": 4,
 "nbformat_minor": 4
}
