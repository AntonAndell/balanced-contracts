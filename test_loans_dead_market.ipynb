{
 "cells": [
  {
   "cell_type": "code",
   "execution_count": 17,
   "metadata": {},
   "outputs": [],
   "source": [
    "# Cell 0\n",
    "\n",
    "network = \"custom\"  # set this to one of mainnet, yeouido, euljiro, pagoda, or custom\n",
    "\n",
    "connections = {\n",
    "\"mainnet\": {\"iconservice\": \"https://ctz.solidwallet.io\",       \"nid\": 1},\n",
    "\"yeouido\": {\"iconservice\": \"https://bicon.net.solidwallet.io\", \"nid\": 3},\n",
    "\"euljiro\": {\"iconservice\": \"https://test-ctz.solidwallet.io\",  \"nid\": 2},\n",
    "\"pagoda\":  {\"iconservice\": \"https://zicon.net.solidwallet.io\", \"nid\":80},\n",
    "\"custom\":  {\"iconservice\": \"http://18.144.108.38:9000\",        \"nid\": 3}}\n",
    "\n",
    "env = connections[network]"
   ]
  },
  {
   "cell_type": "code",
   "execution_count": 18,
   "metadata": {},
   "outputs": [],
   "source": [
    "# Cell 1\n",
    "\n",
    "from iconsdk.exception import JSONRPCException\n",
    "from iconsdk.libs.in_memory_zip import gen_deploy_data_content\n",
    "from iconsdk.icon_service import IconService\n",
    "from iconsdk.providers.http_provider import HTTPProvider\n",
    "from iconsdk.builder.transaction_builder import CallTransactionBuilder, TransactionBuilder, DeployTransactionBuilder\n",
    "from iconsdk.builder.call_builder import CallBuilder\n",
    "from iconsdk.signed_transaction import SignedTransaction\n",
    "from iconsdk.wallet.wallet import KeyWallet\n",
    "from iconsdk.utils.convert_type import convert_hex_str_to_int\n",
    "from repeater import retry\n",
    "from shutil import make_archive\n",
    "import pickle as pkl\n",
    "from datetime import datetime\n",
    "from time import sleep\n",
    "import json\n",
    "import os\n",
    "\n",
    "ICX = 1000000000000000000 # 10**18\n",
    "GOVERNANCE_ADDRESS = \"cx0000000000000000000000000000000000000000\"\n",
    "ORACLE = \"cx61a36e5d10412e03c907a507d1e8c6c3856d9964\"\n",
    "\n",
    "@retry(JSONRPCException, tries=10, delay=1, back_off=2)\n",
    "def get_tx_result(_tx_hash):\n",
    "    tx_result = icon_service.get_transaction_result(_tx_hash)\n",
    "    return tx_result"
   ]
  },
  {
   "cell_type": "code",
   "execution_count": 19,
   "metadata": {},
   "outputs": [],
   "source": [
    "# Cell 2\n",
    "\n",
    "icon_service = IconService(HTTPProvider(env[\"iconservice\"], 3))\n",
    "NID = env[\"nid\"]"
   ]
  },
  {
   "cell_type": "code",
   "execution_count": 20,
   "metadata": {},
   "outputs": [
    {
     "name": "stdout",
     "output_type": "stream",
     "text": [
      "776338449.6328553\n",
      "2955900.0951286\n"
     ]
    }
   ],
   "source": [
    "# Cell 3\n",
    "\n",
    "wallet = KeyWallet.load(\"keystores/keystore_test1.json\", \"test1_Account\")\n",
    "# Balanced test wallet\n",
    "with open(\"keystores/balanced_test.pwd\", \"r\") as f:\n",
    "    key_data = f.read()\n",
    "btest_wallet = KeyWallet.load(\"keystores/balanced_test.json\", key_data)\n",
    "print(icon_service.get_balance(wallet.get_address())/10**18)\n",
    "print(icon_service.get_balance(btest_wallet.get_address())/10**18)"
   ]
  },
  {
   "cell_type": "code",
   "execution_count": 21,
   "metadata": {},
   "outputs": [
    {
     "name": "stdout",
     "output_type": "stream",
     "text": [
      "hxe7af5fcfd8dfc67530a01a0e403882687528dfcb\n",
      "776338449.6328553\n"
     ]
    }
   ],
   "source": [
    "print(wallet.get_address())\n",
    "print(icon_service.get_balance(wallet.get_address()) / 10**18)"
   ]
  },
  {
   "cell_type": "code",
   "execution_count": 22,
   "metadata": {},
   "outputs": [
    {
     "name": "stdout",
     "output_type": "stream",
     "text": [
      "hx3f01840a599da07b0f620eeae7aa9c574169a4be\n",
      "2955900.0951286\n"
     ]
    }
   ],
   "source": [
    "print(btest_wallet.get_address())\n",
    "print(icon_service.get_balance(btest_wallet.get_address()) / 10**18)"
   ]
  },
  {
   "cell_type": "code",
   "execution_count": 23,
   "metadata": {},
   "outputs": [
    {
     "name": "stdout",
     "output_type": "stream",
     "text": [
      "59751.6306396\n",
      "hxe62d11fa19a0e8575ad92f06bc8fd42edbfe27db\n",
      "3199.2083936\n",
      "hx7a1824129a8fe803e45a3aae1c0e060399546187\n"
     ]
    }
   ],
   "source": [
    "user1 = KeyWallet.load(\"keystores/user1.json\",\"HelloWorld@1234\")\n",
    "# btest_wallet = KeyWallet.load(\"./balanced_test.json\",\"HelloWorld@1234\")\n",
    "\n",
    "print(icon_service.get_balance(user1.get_address())/10**18)\n",
    "print(user1.get_address())\n",
    "\n",
    "# test2 = hx7a1824129a8fe803e45a3aae1c0e060399546187\n",
    "private = \"0a354424b20a7e3c55c43808d607bddfac85d033e63d7d093cb9f0a26c4ee022\"\n",
    "user2 = KeyWallet.load(bytes.fromhex(private))\n",
    "print(icon_service.get_balance(user2.get_address())/10**18)\n",
    "print(user2.get_address())"
   ]
  },
  {
   "cell_type": "code",
   "execution_count": 24,
   "metadata": {},
   "outputs": [],
   "source": [
    "# The following addresses are those deployed to the private tbears server.\n",
    "\n",
    "contracts = {'loans': {'zip': 'core_contracts/loans.zip',\n",
    "  'SCORE': 'cxbbd36ca8d91aefbe1060c3be62fed4d1b848ca85'},\n",
    " 'staking': {'zip': 'core_contracts/staking.zip',\n",
    "  'SCORE': 'cxd8e05c1280bc2c32bf53ff61f3bb2e2ecc7d6df5'},\n",
    " 'dividends': {'zip': 'core_contracts/dividends.zip',\n",
    "  'SCORE': 'cx7c617e3fca4ba06b6ad203ce113245ae96a9d91e'},\n",
    " 'reserve': {'zip': 'core_contracts/reserve.zip',\n",
    "  'SCORE': 'cx70cd5c86f0182d5ac0bd224562d929cd968d9132'},\n",
    " 'daofund': {'zip': 'core_contracts/daofund.zip',\n",
    "  'SCORE': 'cxeb91bc377b0620356787d9c9eb68152eb0c62d8a'},\n",
    " 'rewards': {'zip': 'core_contracts/rewards.zip',\n",
    "  'SCORE': 'cxfd7511ece084744154fed19dc34732681ad078e6'},\n",
    " 'dex': {'zip': 'core_contracts/dex.zip',\n",
    "  'SCORE': 'cx9a3161c778eee2d5758371d3548c5599f76704ec'},\n",
    " 'governance': {'zip': 'core_contracts/governance.zip',\n",
    "  'SCORE': 'cx238cd1a1e3a9702d6c9c6dc130719472164db376'},\n",
    " 'oracle': {'zip': 'core_contracts/oracle.zip',\n",
    "  'SCORE': 'cx7171e2f5653c1b9c000e24228276b8d24e84f10d'},\n",
    " 'sicx': {'zip': 'token_contracts/sicx.zip',\n",
    "  'SCORE': 'cxcff8bf80ab213fa9bbb350636a4d68f5cb4fd9c1'},\n",
    " 'bnUSD': {'zip': 'token_contracts/bnUSD.zip',\n",
    "  'SCORE': 'cx4c1beaa71b9377100c810c46059ddf5f3da37602'},\n",
    " 'baln': {'zip': 'token_contracts/baln.zip',\n",
    "  'SCORE': 'cx3825a86d52c5baf188ff29aa6a7fc2467e285885'},\n",
    " 'bwt': {'zip': 'token_contracts/bwt.zip',\n",
    "  'SCORE': 'cx140b49ea041457ebc4cd5e199f5723916bb50021'}}"
   ]
  },
  {
   "cell_type": "code",
   "execution_count": 25,
   "metadata": {},
   "outputs": [],
   "source": [
    "# Cell 6\n",
    "# Define deploy and send_tx functions\n",
    "\n",
    "def compress():\n",
    "    \"\"\"\n",
    "    Compress all SCORE folders in the core_contracts and toekn_contracts folders\n",
    "    \"\"\"\n",
    "    deploy = list(contracts.keys())[:]\n",
    "    for directory in {\"core_contracts\", \"token_contracts\"}:\n",
    "        with os.scandir(directory) as it:\n",
    "            for file in it:\n",
    "                archive_name = directory + \"/\" + file.name\n",
    "                if file.is_dir() and file.name in deploy:\n",
    "                    make_archive(archive_name, \"zip\", directory, file.name)\n",
    "                    contracts[file.name]['zip'] = archive_name + '.zip'\n",
    "\n",
    "def deploy_SCORE(contract, params, wallet, update) -> str:\n",
    "    \"\"\"\n",
    "    contract is of form {'zip': 'core_contracts/governance.zip', 'SCORE': 'cx1d81f93b3b8d8d2a6455681c46128868782ddd09'}\n",
    "    params is a dicts\n",
    "    wallet is a wallet file\n",
    "    update is boolian\n",
    "    \"\"\"\n",
    "    print(f'{contract[\"zip\"]}')\n",
    "    if update:\n",
    "        dest = contract['SCORE']\n",
    "    else:\n",
    "        dest = GOVERNANCE_ADDRESS\n",
    "    zip_file = contract['zip']\n",
    "    step_limit = 4000100000\n",
    "    deploy_transaction = DeployTransactionBuilder()\\\n",
    "        .from_(wallet.get_address())\\\n",
    "        .to(dest)\\\n",
    "        .nid(NID)\\\n",
    "        .nonce(100)\\\n",
    "        .content_type(\"application/zip\")\\\n",
    "        .content(gen_deploy_data_content(zip_file))\\\n",
    "        .params(params)\\\n",
    "        .build()\n",
    "\n",
    "    signed_transaction = SignedTransaction(deploy_transaction, wallet, step_limit)\n",
    "    tx_hash = icon_service.send_transaction(signed_transaction)\n",
    "\n",
    "    res = get_tx_result(tx_hash)\n",
    "    print(f'Status: {res[\"status\"]}')\n",
    "    if len(res[\"eventLogs\"]) > 0:\n",
    "        for item in res[\"eventLogs\"]:\n",
    "            print(f'{item} \\n')\n",
    "    if res['status'] == 0:\n",
    "        print(f'Failure: {res[\"failure\"]}')\n",
    "    print('')\n",
    "    return res.get('scoreAddress', '')\n",
    "\n",
    "def send_tx(dest, value, method, params, wallet):\n",
    "    \"\"\"\n",
    "    dest is the name of the destination contract.\n",
    "    \"\"\"\n",
    "    print('------------------------------------------------------------------------------------------------------------------')\n",
    "    print(f'Calling {method}, with parameters {params} on the {dest} contract.')\n",
    "    print('------------------------------------------------------------------------------------------------------------------')\n",
    "    transaction = CallTransactionBuilder()\\\n",
    "        .from_(wallet.get_address())\\\n",
    "        .to(contracts[dest]['SCORE'])\\\n",
    "        .value(value)\\\n",
    "        .step_limit(10000000)\\\n",
    "        .nid(NID)\\\n",
    "        .nonce(100)\\\n",
    "        .method(method)\\\n",
    "        .params(params)\\\n",
    "        .build()\n",
    "    signed_transaction = SignedTransaction(transaction, wallet)\n",
    "    tx_hash = icon_service.send_transaction(signed_transaction)\n",
    "\n",
    "    res = get_tx_result(tx_hash)\n",
    "    print(f'************************************************** Status: {res[\"status\"]} **************************************************')\n",
    "    if len(res[\"eventLogs\"]) > 0:\n",
    "        for item in res[\"eventLogs\"]:\n",
    "            print(f'{item} \\n')\n",
    "    if res['status'] == 0:\n",
    "        print(f'Failure: {res[\"failure\"]}')\n",
    "    return res\n",
    "\n",
    "def deploy_all(wallet):\n",
    "    \"\"\"\n",
    "    Compress, Deploy and Configure all SCOREs\n",
    "    \"\"\"\n",
    "    compress()\n",
    "\n",
    "    deploy = list(contracts.keys())[:]\n",
    "    deploy.remove('oracle')\n",
    "    deploy.remove('staking')\n",
    "    deploy.remove('sicx')\n",
    "    deploy.remove('governance')\n",
    "\n",
    "    governance = deploy_SCORE(contracts['governance'], {}, wallet, 0)\n",
    "    contracts['governance']['SCORE'] = governance\n",
    "    for score in deploy:\n",
    "        contracts[score]['SCORE'] = deploy_SCORE(contracts[score], {'_governance': governance}, wallet, 0)\n",
    "    contracts['staking']['SCORE'] = deploy_SCORE(contracts['staking'], {}, wallet, 0)\n",
    "    contracts['sicx']['SCORE'] = deploy_SCORE(contracts['sicx'], {'_admin': contracts['staking']['SCORE']}, wallet, 0)\n",
    "\n",
    "    config = list(contracts.keys())[:]\n",
    "    config.remove('governance')\n",
    "    addresses = {contract: contracts[contract]['SCORE'] for contract in config}\n",
    "\n",
    "    txns = [{'contract': 'staking', 'value': 0, 'method': 'setSicxAddress', 'params': {'_address': contracts['sicx']['SCORE']}},\n",
    "            {'contract': 'governance', 'value': 0, 'method': 'setAddresses', 'params': {'_addresses': addresses}},\n",
    "            {'contract': 'governance', 'value': 0, 'method': 'launchBalanced', 'params': {}}]\n",
    "\n",
    "    for tx in txns:\n",
    "        res = send_tx(tx[\"contract\"], tx[\"value\"], tx[\"method\"], tx[\"params\"], wallet)\n",
    "        results[f'{tx[\"contract\"]}|{tx[\"method\"]}|{tx[\"params\"]}'] = res\n",
    "\n",
    "def get_scores_json(contracts):\n",
    "    \"\"\"\n",
    "    Prints out dictionary of SCORE addresses for use in testing UI.\n",
    "    \"\"\"\n",
    "    scores = {}\n",
    "    for score in contracts:\n",
    "        scores[score] = contracts[score]['SCORE']\n",
    "    return json.dumps(scores)\n",
    "\n",
    "def call_tx(dest: str, method: str, params: dict = {}):\n",
    "    \"\"\"\n",
    "    dest is the name of the destination contract.\n",
    "    \"\"\"\n",
    "    print('------------------------------------------------------------------------------------------------------------------')\n",
    "    print(f'Reading {method}, with parameters {params} on the {dest} contract.')\n",
    "    print('------------------------------------------------------------------------------------------------------------------')\n",
    "    call = CallBuilder()\\\n",
    "        .from_(wallet.get_address())\\\n",
    "        .to(contracts[dest]['SCORE'])\\\n",
    "        .method(method)\\\n",
    "        .params(params)\\\n",
    "        .build()\n",
    "    print(icon_service.call(call))\n",
    "    return icon_service.call(call)\n"
   ]
  },
  {
   "cell_type": "code",
   "execution_count": 26,
   "metadata": {},
   "outputs": [
    {
     "name": "stdout",
     "output_type": "stream",
     "text": [
      "core_contracts/governance.zip\n"
     ]
    },
    {
     "name": "stderr",
     "output_type": "stream",
     "text": [
      "Raised JSONRPCException while returning the custom response. Error message: {'code': -32602, 'message': 'Pending transaction'}\n"
     ]
    },
    {
     "name": "stdout",
     "output_type": "stream",
     "text": [
      "Retrying in 1 seconds...\n",
      "Status: 1\n",
      "\n",
      "core_contracts/loans.zip\n"
     ]
    },
    {
     "name": "stderr",
     "output_type": "stream",
     "text": [
      "Raised JSONRPCException while returning the custom response. Error message: {'code': -32602, 'message': 'Pending transaction'}\n"
     ]
    },
    {
     "name": "stdout",
     "output_type": "stream",
     "text": [
      "Retrying in 1 seconds...\n",
      "Status: 1\n",
      "\n",
      "core_contracts/dividends.zip\n",
      "Status: 1\n",
      "\n",
      "core_contracts/reserve.zip\n"
     ]
    },
    {
     "name": "stderr",
     "output_type": "stream",
     "text": [
      "Raised JSONRPCException while returning the custom response. Error message: {'code': -32602, 'message': 'Pending transaction'}\n"
     ]
    },
    {
     "name": "stdout",
     "output_type": "stream",
     "text": [
      "Retrying in 1 seconds...\n",
      "Status: 1\n",
      "\n",
      "core_contracts/daofund.zip\n",
      "Status: 1\n",
      "\n",
      "core_contracts/rewards.zip\n"
     ]
    },
    {
     "name": "stderr",
     "output_type": "stream",
     "text": [
      "Raised JSONRPCException while returning the custom response. Error message: {'code': -32602, 'message': 'Pending transaction'}\n"
     ]
    },
    {
     "name": "stdout",
     "output_type": "stream",
     "text": [
      "Retrying in 1 seconds...\n",
      "Status: 1\n",
      "\n",
      "core_contracts/dex.zip\n"
     ]
    },
    {
     "name": "stderr",
     "output_type": "stream",
     "text": [
      "Raised JSONRPCException while returning the custom response. Error message: {'code': -32602, 'message': 'Pending transaction'}\n"
     ]
    },
    {
     "name": "stdout",
     "output_type": "stream",
     "text": [
      "Retrying in 1 seconds...\n"
     ]
    },
    {
     "name": "stderr",
     "output_type": "stream",
     "text": [
      "Raised JSONRPCException while returning the custom response. Error message: {'code': -32602, 'message': 'Pending transaction'}\n"
     ]
    },
    {
     "name": "stdout",
     "output_type": "stream",
     "text": [
      "Retrying in 2 seconds...\n",
      "Status: 1\n",
      "\n",
      "token_contracts/bnUSD.zip\n",
      "Status: 1\n",
      "\n",
      "token_contracts/baln.zip\n"
     ]
    },
    {
     "name": "stderr",
     "output_type": "stream",
     "text": [
      "Raised JSONRPCException while returning the custom response. Error message: {'code': -32602, 'message': 'Pending transaction'}\n"
     ]
    },
    {
     "name": "stdout",
     "output_type": "stream",
     "text": [
      "Retrying in 1 seconds...\n",
      "Status: 1\n",
      "\n",
      "token_contracts/bwt.zip\n"
     ]
    },
    {
     "name": "stderr",
     "output_type": "stream",
     "text": [
      "Raised JSONRPCException while returning the custom response. Error message: {'code': -32602, 'message': 'Pending transaction'}\n"
     ]
    },
    {
     "name": "stdout",
     "output_type": "stream",
     "text": [
      "Retrying in 1 seconds...\n",
      "Status: 1\n",
      "\n",
      "core_contracts/staking.zip\n"
     ]
    },
    {
     "name": "stderr",
     "output_type": "stream",
     "text": [
      "Raised JSONRPCException while returning the custom response. Error message: {'code': -32602, 'message': 'Pending transaction'}\n"
     ]
    },
    {
     "name": "stdout",
     "output_type": "stream",
     "text": [
      "Retrying in 1 seconds...\n",
      "Status: 1\n",
      "\n",
      "token_contracts/sicx.zip\n"
     ]
    },
    {
     "name": "stderr",
     "output_type": "stream",
     "text": [
      "Raised JSONRPCException while returning the custom response. Error message: {'code': -32602, 'message': 'Pending transaction'}\n"
     ]
    },
    {
     "name": "stdout",
     "output_type": "stream",
     "text": [
      "Retrying in 1 seconds...\n",
      "Status: 1\n",
      "\n",
      "------------------------------------------------------------------------------------------------------------------\n",
      "Calling setSicxAddress, with parameters {'_address': 'cxe033a391ad0e124db500ec2d734abe29a9e5e3ec'} on the staking contract.\n",
      "------------------------------------------------------------------------------------------------------------------\n"
     ]
    },
    {
     "name": "stderr",
     "output_type": "stream",
     "text": [
      "Raised JSONRPCException while returning the custom response. Error message: {'code': -32602, 'message': 'Pending transaction'}\n"
     ]
    },
    {
     "name": "stdout",
     "output_type": "stream",
     "text": [
      "Retrying in 1 seconds...\n",
      "************************************************** Status: 1 **************************************************\n",
      "------------------------------------------------------------------------------------------------------------------\n",
      "Calling setAddresses, with parameters {'_addresses': {'loans': 'cxbe9c1c46b8a7bdfb41c52c4e60d04e367e0337ab', 'staking': 'cx7fb5a0548ed8048983fccf4803ff9b60a422382f', 'dividends': 'cxf60d5b2ae6aee8ea6efffca4ab0ac79d450741d5', 'reserve': 'cx07fbf487cae6a41028f30cd888f587c10818caa0', 'daofund': 'cxc8137987ec6ade212052de2dd04f5c1cc38c8de1', 'rewards': 'cx3e940dd067d7fe21557552972f45de5ecc0cc0fc', 'dex': 'cx5b3b650487333e8bfa00416f02d41c95e9a7f508', 'oracle': 'cx7171e2f5653c1b9c000e24228276b8d24e84f10d', 'sicx': 'cxe033a391ad0e124db500ec2d734abe29a9e5e3ec', 'bnUSD': 'cx03d4c178da96e7eda17c2684cb4623e20daf9317', 'baln': 'cx95638180a76045184e6f5b37b50c6aae372767f3', 'bwt': 'cx91d2b7a0ab566c3fc458c1efa54598e52ec04d8a'}} on the governance contract.\n",
      "------------------------------------------------------------------------------------------------------------------\n",
      "************************************************** Status: 1 **************************************************\n",
      "------------------------------------------------------------------------------------------------------------------\n",
      "Calling launchBalanced, with parameters {} on the governance contract.\n",
      "------------------------------------------------------------------------------------------------------------------\n"
     ]
    },
    {
     "name": "stderr",
     "output_type": "stream",
     "text": [
      "Raised JSONRPCException while returning the custom response. Error message: {'code': -32602, 'message': 'Pending transaction'}\n"
     ]
    },
    {
     "name": "stdout",
     "output_type": "stream",
     "text": [
      "Retrying in 1 seconds...\n",
      "************************************************** Status: 1 **************************************************\n",
      "{'scoreAddress': 'cxbe9c1c46b8a7bdfb41c52c4e60d04e367e0337ab', 'indexed': ['AssetAdded(Address,str,bool)', 'cxe033a391ad0e124db500ec2d734abe29a9e5e3ec', 'sICX', '0x1'], 'data': []} \n",
      "\n",
      "{'scoreAddress': 'cxbe9c1c46b8a7bdfb41c52c4e60d04e367e0337ab', 'indexed': ['AssetAdded(Address,str,bool)', 'cx03d4c178da96e7eda17c2684cb4623e20daf9317', 'bnUSD', '0x0'], 'data': []} \n",
      "\n",
      "{'scoreAddress': 'cxbe9c1c46b8a7bdfb41c52c4e60d04e367e0337ab', 'indexed': ['AssetAdded(Address,str,bool)', 'cx95638180a76045184e6f5b37b50c6aae372767f3', 'BALN', '0x1'], 'data': []} \n",
      "\n",
      "{'scoreAddress': 'cxbe9c1c46b8a7bdfb41c52c4e60d04e367e0337ab', 'indexed': ['ContractActive(str,str)', 'Loans'], 'data': ['Active']} \n",
      "\n",
      "------------------------------------------------------------------------------------------------------------------\n",
      "{'loans': {'zip': 'core_contracts/loans.zip', 'SCORE': 'cxbe9c1c46b8a7bdfb41c52c4e60d04e367e0337ab'}, 'staking': {'zip': 'core_contracts/staking.zip', 'SCORE': 'cx7fb5a0548ed8048983fccf4803ff9b60a422382f'}, 'dividends': {'zip': 'core_contracts/dividends.zip', 'SCORE': 'cxf60d5b2ae6aee8ea6efffca4ab0ac79d450741d5'}, 'reserve': {'zip': 'core_contracts/reserve.zip', 'SCORE': 'cx07fbf487cae6a41028f30cd888f587c10818caa0'}, 'daofund': {'zip': 'core_contracts/daofund.zip', 'SCORE': 'cxc8137987ec6ade212052de2dd04f5c1cc38c8de1'}, 'rewards': {'zip': 'core_contracts/rewards.zip', 'SCORE': 'cx3e940dd067d7fe21557552972f45de5ecc0cc0fc'}, 'dex': {'zip': 'core_contracts/dex.zip', 'SCORE': 'cx5b3b650487333e8bfa00416f02d41c95e9a7f508'}, 'governance': {'zip': 'core_contracts/governance.zip', 'SCORE': 'cxa2acf40d51fbd1cb79dab9acd5719067e4aefd14'}, 'oracle': {'zip': 'core_contracts/oracle.zip', 'SCORE': 'cx7171e2f5653c1b9c000e24228276b8d24e84f10d'}, 'sicx': {'zip': 'token_contracts/sicx.zip', 'SCORE': 'cxe033a391ad0e124db500ec2d734abe29a9e5e3ec'}, 'bnUSD': {'zip': 'token_contracts/bnUSD.zip', 'SCORE': 'cx03d4c178da96e7eda17c2684cb4623e20daf9317'}, 'baln': {'zip': 'token_contracts/baln.zip', 'SCORE': 'cx95638180a76045184e6f5b37b50c6aae372767f3'}, 'bwt': {'zip': 'token_contracts/bwt.zip', 'SCORE': 'cx91d2b7a0ab566c3fc458c1efa54598e52ec04d8a'}}\n",
      "{\"loans\": \"cxbe9c1c46b8a7bdfb41c52c4e60d04e367e0337ab\", \"staking\": \"cx7fb5a0548ed8048983fccf4803ff9b60a422382f\", \"dividends\": \"cxf60d5b2ae6aee8ea6efffca4ab0ac79d450741d5\", \"reserve\": \"cx07fbf487cae6a41028f30cd888f587c10818caa0\", \"daofund\": \"cxc8137987ec6ade212052de2dd04f5c1cc38c8de1\", \"rewards\": \"cx3e940dd067d7fe21557552972f45de5ecc0cc0fc\", \"dex\": \"cx5b3b650487333e8bfa00416f02d41c95e9a7f508\", \"governance\": \"cxa2acf40d51fbd1cb79dab9acd5719067e4aefd14\", \"oracle\": \"cx7171e2f5653c1b9c000e24228276b8d24e84f10d\", \"sicx\": \"cxe033a391ad0e124db500ec2d734abe29a9e5e3ec\", \"bnUSD\": \"cx03d4c178da96e7eda17c2684cb4623e20daf9317\", \"baln\": \"cx95638180a76045184e6f5b37b50c6aae372767f3\", \"bwt\": \"cx91d2b7a0ab566c3fc458c1efa54598e52ec04d8a\"}\n"
     ]
    }
   ],
   "source": [
    "# Cell 7\n",
    "# Deploy and configure Balanced. Print results if anything goes wrong.\n",
    "\n",
    "results = {}\n",
    "deploy_all(btest_wallet)\n",
    "print('------------------------------------------------------------------------------------------------------------------')\n",
    "print(contracts)\n",
    "print(get_scores_json(contracts))"
   ]
  },
  {
   "cell_type": "markdown",
   "metadata": {},
   "source": [
    "# Cell 8\n",
    "# Deploy or Update a single SCORE\n",
    "\n",
    "compress()\n",
    "update = 0\n",
    "contract = contracts['reserve']\n",
    "params = {}\n",
    "params = {'_governance': contracts['governance']['SCORE']}\n",
    "deploy_SCORE(contract, params, btest_wallet, update)"
   ]
  },
  {
   "cell_type": "code",
   "execution_count": 27,
   "metadata": {},
   "outputs": [
    {
     "name": "stdout",
     "output_type": "stream",
     "text": [
      "------------------------------------------------------------------------------------------------------------------\n",
      "Calling addCollateral, with parameters {'_asset': 'bnUSD', '_amount': 50000000000000000000} on the loans contract.\n",
      "------------------------------------------------------------------------------------------------------------------\n"
     ]
    },
    {
     "name": "stderr",
     "output_type": "stream",
     "text": [
      "Raised JSONRPCException while returning the custom response. Error message: {'code': -32602, 'message': 'Pending transaction'}\n"
     ]
    },
    {
     "name": "stdout",
     "output_type": "stream",
     "text": [
      "Retrying in 1 seconds...\n",
      "************************************************** Status: 1 **************************************************\n",
      "{'scoreAddress': 'cxbe9c1c46b8a7bdfb41c52c4e60d04e367e0337ab', 'indexed': ['ICXTransfer(Address,Address,int)', 'cxbe9c1c46b8a7bdfb41c52c4e60d04e367e0337ab', 'cx7fb5a0548ed8048983fccf4803ff9b60a422382f', '0x1b1ae4d6e2ef500000'], 'data': []} \n",
      "\n",
      "{'scoreAddress': 'cxe033a391ad0e124db500ec2d734abe29a9e5e3ec', 'indexed': ['Transfer(Address,Address,int,bytes)', 'cxe033a391ad0e124db500ec2d734abe29a9e5e3ec', 'hx7a1824129a8fe803e45a3aae1c0e060399546187', '0x1b1ae4d6e2ef500000'], 'data': ['0x7b226d6574686f64223a225f6465706f7369745f616e645f626f72726f77222c22706172616d73223a7b225f73656e646572223a22687837613138323431323961386665383033653435613361616531633065303630333939353436313837222c225f6173736574223a22626e555344222c225f616d6f756e74223a35303030303030303030303030303030303030307d7d']} \n",
      "\n",
      "{'scoreAddress': 'cxe033a391ad0e124db500ec2d734abe29a9e5e3ec', 'indexed': ['Mint(Address,int,bytes)', 'hx7a1824129a8fe803e45a3aae1c0e060399546187'], 'data': ['0x1b1ae4d6e2ef500000', '0x7b226d6574686f64223a225f6465706f7369745f616e645f626f72726f77222c22706172616d73223a7b225f73656e646572223a22687837613138323431323961386665383033653435613361616531633065303630333939353436313837222c225f6173736574223a22626e555344222c225f616d6f756e74223a35303030303030303030303030303030303030307d7d']} \n",
      "\n",
      "{'scoreAddress': 'cxbe9c1c46b8a7bdfb41c52c4e60d04e367e0337ab', 'indexed': ['CollateralReceived(Address,str)', 'hx7a1824129a8fe803e45a3aae1c0e060399546187', 'sICX'], 'data': []} \n",
      "\n",
      "{'scoreAddress': 'cx03d4c178da96e7eda17c2684cb4623e20daf9317', 'indexed': ['OraclePrice(str,str,Address,int)', 'USDICX', 'BandChain', 'cx7171e2f5653c1b9c000e24228276b8d24e84f10d'], 'data': ['0x84c5d90848544bb']} \n",
      "\n",
      "{'scoreAddress': 'cxbe9c1c46b8a7bdfb41c52c4e60d04e367e0337ab', 'indexed': ['OriginateLoan(Address,str,int,str)', 'hx7a1824129a8fe803e45a3aae1c0e060399546187', 'bnUSD', '0x2b5e3af16b1880000'], 'data': ['Loan of 50.0 bnUSD from Balanced.']} \n",
      "\n",
      "{'scoreAddress': 'cx03d4c178da96e7eda17c2684cb4623e20daf9317', 'indexed': ['Transfer(Address,Address,int,bytes)', 'cx03d4c178da96e7eda17c2684cb4623e20daf9317', 'hx7a1824129a8fe803e45a3aae1c0e060399546187', '0x2b5e3af16b1880000'], 'data': ['0x4e6f6e65']} \n",
      "\n",
      "{'scoreAddress': 'cx03d4c178da96e7eda17c2684cb4623e20daf9317', 'indexed': ['Mint(Address,int,bytes)', 'hx7a1824129a8fe803e45a3aae1c0e060399546187'], 'data': ['0x2b5e3af16b1880000', '0x4e6f6e65']} \n",
      "\n",
      "{'scoreAddress': 'cx03d4c178da96e7eda17c2684cb4623e20daf9317', 'indexed': ['Transfer(Address,Address,int,bytes)', 'cx03d4c178da96e7eda17c2684cb4623e20daf9317', 'cxf60d5b2ae6aee8ea6efffca4ab0ac79d450741d5', '0x6f05b59d3b20000'], 'data': ['0x4e6f6e65']} \n",
      "\n",
      "{'scoreAddress': 'cx03d4c178da96e7eda17c2684cb4623e20daf9317', 'indexed': ['Mint(Address,int,bytes)', 'cxf60d5b2ae6aee8ea6efffca4ab0ac79d450741d5'], 'data': ['0x6f05b59d3b20000', '0x4e6f6e65']} \n",
      "\n",
      "{'scoreAddress': 'cxbe9c1c46b8a7bdfb41c52c4e60d04e367e0337ab', 'indexed': ['FeePaid(str,int,str,str)', 'bnUSD', '0x6f05b59d3b20000', 'origination'], 'data': ['']} \n",
      "\n",
      "{'scoreAddress': 'cxe033a391ad0e124db500ec2d734abe29a9e5e3ec', 'indexed': ['Transfer(Address,Address,int,bytes)', 'hx7a1824129a8fe803e45a3aae1c0e060399546187', 'cxbe9c1c46b8a7bdfb41c52c4e60d04e367e0337ab', '0x1b1ae4d6e2ef500000'], 'data': ['0x7b226d6574686f64223a225f6465706f7369745f616e645f626f72726f77222c22706172616d73223a7b225f73656e646572223a22687837613138323431323961386665383033653435613361616531633065303630333939353436313837222c225f6173736574223a22626e555344222c225f616d6f756e74223a35303030303030303030303030303030303030307d7d']} \n",
      "\n",
      "{'scoreAddress': 'cx7fb5a0548ed8048983fccf4803ff9b60a422382f', 'indexed': ['TokenTransfer(Address,int,str)', 'cxbe9c1c46b8a7bdfb41c52c4e60d04e367e0337ab', '0x1b1ae4d6e2ef500000'], 'data': ['500.0 sICX minted to cxbe9c1c46b8a7bdfb41c52c4e60d04e367e0337ab']} \n",
      "\n",
      "------------------------------------------------------------------------------------------------------------------\n",
      "Reading getAccountPositions, with parameters {'_owner': 'hx7a1824129a8fe803e45a3aae1c0e060399546187'} on the loans contract.\n",
      "------------------------------------------------------------------------------------------------------------------\n",
      "{'pos_id': '0x1', 'created': '0x5be44336db1bf', 'address': 'hx7a1824129a8fe803e45a3aae1c0e060399546187', 'snap_id': '0x1', 'snaps_length': '0x1', 'last_snap': '0x1', 'first day': '0x1', 'assets': {'sICX': '0x1b1ae4d6e2ef500000', 'bnUSD': '0x2bcd40a70853a0000'}, 'replay_index': '0x0', 'events_behind': '0x0', 'total_debt': '0x1a3107502244a0ee3', 'ratio': '0xe5ca10e1b84e4987', 'standing': 'Mining'}\n",
      "------------------------------------------------------------------------------------------------------------------\n",
      "Calling addCollateral, with parameters {'_asset': '', '_amount': 0} on the loans contract.\n",
      "------------------------------------------------------------------------------------------------------------------\n"
     ]
    },
    {
     "name": "stderr",
     "output_type": "stream",
     "text": [
      "Raised JSONRPCException while returning the custom response. Error message: {'code': -32602, 'message': 'Pending transaction'}\n"
     ]
    },
    {
     "name": "stdout",
     "output_type": "stream",
     "text": [
      "Retrying in 1 seconds...\n",
      "************************************************** Status: 1 **************************************************\n",
      "{'scoreAddress': 'cxbe9c1c46b8a7bdfb41c52c4e60d04e367e0337ab', 'indexed': ['ICXTransfer(Address,Address,int)', 'cxbe9c1c46b8a7bdfb41c52c4e60d04e367e0337ab', 'cx7fb5a0548ed8048983fccf4803ff9b60a422382f', '0x56bc75e2d63100000'], 'data': []} \n",
      "\n",
      "{'scoreAddress': 'cxe033a391ad0e124db500ec2d734abe29a9e5e3ec', 'indexed': ['Transfer(Address,Address,int,bytes)', 'cxe033a391ad0e124db500ec2d734abe29a9e5e3ec', 'hxe62d11fa19a0e8575ad92f06bc8fd42edbfe27db', '0x56bc75e2d63100000'], 'data': ['0x7b226d6574686f64223a225f6465706f7369745f616e645f626f72726f77222c22706172616d73223a7b225f73656e646572223a22687865363264313166613139613065383537356164393266303662633866643432656462666532376462222c225f6173736574223a22222c225f616d6f756e74223a307d7d']} \n",
      "\n",
      "{'scoreAddress': 'cxe033a391ad0e124db500ec2d734abe29a9e5e3ec', 'indexed': ['Mint(Address,int,bytes)', 'hxe62d11fa19a0e8575ad92f06bc8fd42edbfe27db'], 'data': ['0x56bc75e2d63100000', '0x7b226d6574686f64223a225f6465706f7369745f616e645f626f72726f77222c22706172616d73223a7b225f73656e646572223a22687865363264313166613139613065383537356164393266303662633866643432656462666532376462222c225f6173736574223a22222c225f616d6f756e74223a307d7d']} \n",
      "\n",
      "{'scoreAddress': 'cxbe9c1c46b8a7bdfb41c52c4e60d04e367e0337ab', 'indexed': ['CollateralReceived(Address,str)', 'hxe62d11fa19a0e8575ad92f06bc8fd42edbfe27db', 'sICX'], 'data': []} \n",
      "\n",
      "{'scoreAddress': 'cxe033a391ad0e124db500ec2d734abe29a9e5e3ec', 'indexed': ['Transfer(Address,Address,int,bytes)', 'hxe62d11fa19a0e8575ad92f06bc8fd42edbfe27db', 'cxbe9c1c46b8a7bdfb41c52c4e60d04e367e0337ab', '0x56bc75e2d63100000'], 'data': ['0x7b226d6574686f64223a225f6465706f7369745f616e645f626f72726f77222c22706172616d73223a7b225f73656e646572223a22687865363264313166613139613065383537356164393266303662633866643432656462666532376462222c225f6173736574223a22222c225f616d6f756e74223a307d7d']} \n",
      "\n",
      "{'scoreAddress': 'cx7fb5a0548ed8048983fccf4803ff9b60a422382f', 'indexed': ['TokenTransfer(Address,int,str)', 'cxbe9c1c46b8a7bdfb41c52c4e60d04e367e0337ab', '0x56bc75e2d63100000'], 'data': ['100.0 sICX minted to cxbe9c1c46b8a7bdfb41c52c4e60d04e367e0337ab']} \n",
      "\n",
      "------------------------------------------------------------------------------------------------------------------\n",
      "Calling add_bad_test_position, with parameters {} on the loans contract.\n",
      "------------------------------------------------------------------------------------------------------------------\n"
     ]
    },
    {
     "name": "stderr",
     "output_type": "stream",
     "text": [
      "Raised JSONRPCException while returning the custom response. Error message: {'code': -32602, 'message': 'Pending transaction'}\n"
     ]
    },
    {
     "name": "stdout",
     "output_type": "stream",
     "text": [
      "Retrying in 1 seconds...\n",
      "************************************************** Status: 1 **************************************************\n",
      "{'scoreAddress': 'cx03d4c178da96e7eda17c2684cb4623e20daf9317', 'indexed': ['Transfer(Address,Address,int,bytes)', 'cx03d4c178da96e7eda17c2684cb4623e20daf9317', 'hxe62d11fa19a0e8575ad92f06bc8fd42edbfe27db', '0xad78ebc5ac6200000'], 'data': ['0x4e6f6e65']} \n",
      "\n",
      "{'scoreAddress': 'cx03d4c178da96e7eda17c2684cb4623e20daf9317', 'indexed': ['Mint(Address,int,bytes)', 'hxe62d11fa19a0e8575ad92f06bc8fd42edbfe27db'], 'data': ['0xad78ebc5ac6200000', '0x4e6f6e65']} \n",
      "\n",
      "------------------------------------------------------------------------------------------------------------------\n",
      "Reading getAccountPositions, with parameters {'_owner': 'hxe62d11fa19a0e8575ad92f06bc8fd42edbfe27db'} on the loans contract.\n",
      "------------------------------------------------------------------------------------------------------------------\n",
      "{'pos_id': '0x2', 'created': '0x5be4433aac79b', 'address': 'hxe62d11fa19a0e8575ad92f06bc8fd42edbfe27db', 'snap_id': '0x1', 'snaps_length': '0x1', 'last_snap': '0x1', 'first day': '0x1', 'assets': {'sICX': '0x56bc75e2d63100000', 'bnUSD': '0xad78ebc5ac6200000'}, 'replay_index': '0x0', 'events_behind': '0x0', 'total_debt': '0x67ba918e7881db218', 'ratio': '0xb9ab7616a3414dd', 'standing': 'Liquidate'}\n"
     ]
    },
    {
     "data": {
      "text/plain": [
       "{'pos_id': '0x2',\n",
       " 'created': '0x5be4433aac79b',\n",
       " 'address': 'hxe62d11fa19a0e8575ad92f06bc8fd42edbfe27db',\n",
       " 'snap_id': '0x1',\n",
       " 'snaps_length': '0x1',\n",
       " 'last_snap': '0x1',\n",
       " 'first day': '0x1',\n",
       " 'assets': {'sICX': '0x56bc75e2d63100000', 'bnUSD': '0xad78ebc5ac6200000'},\n",
       " 'replay_index': '0x0',\n",
       " 'events_behind': '0x0',\n",
       " 'total_debt': '0x67ba918e7881db218',\n",
       " 'ratio': '0xb9ab7616a3414dd',\n",
       " 'standing': 'Liquidate'}"
      ]
     },
     "execution_count": 27,
     "metadata": {},
     "output_type": "execute_result"
    }
   ],
   "source": [
    "# 1.Add 500icx collateral and mint 50 bnusd of loans from account user2.\n",
    "# 2.call add_test_position method and add bnusd until account is in dead market state from account user1.\n",
    "# 3.after this the asset bnusd will be dead\n",
    "\n",
    "send_tx('loans', 500 * ICX , 'addCollateral', {'_asset': 'bnUSD', '_amount': 50 * ICX}, user2)\n",
    "call_tx('loans', 'getAccountPositions', {'_owner': user2.get_address()})\n",
    "send_tx('loans', 100 * ICX , 'addCollateral', {'_asset': '', '_amount': 0}, user1)\n",
    "send_tx('loans', 0, 'add_bad_test_position', {}, user1)\n",
    "call_tx('loans', 'getAccountPositions', {'_owner': user1.get_address()})"
   ]
  },
  {
   "cell_type": "code",
   "execution_count": 28,
   "metadata": {},
   "outputs": [
    {
     "name": "stdout",
     "output_type": "stream",
     "text": [
      "------------------------------------------------------------------------------------------------------------------\n",
      "Reading checkDebts, with parameters {} on the loans contract.\n",
      "------------------------------------------------------------------------------------------------------------------\n",
      "{'system': {'debts': '0xd9462c6cb4b5a0000', 'bad_debt': '0x0', 'supply': '0xd9462c6cb4b5a0000', 'diff': '0x0', 'remaining': '0x0'}, 'events': {}}\n",
      "------------------------------------------------------------------------------------------------------------------\n",
      "Calling liquidate, with parameters {'_owner': 'hxe62d11fa19a0e8575ad92f06bc8fd42edbfe27db'} on the loans contract.\n",
      "------------------------------------------------------------------------------------------------------------------\n"
     ]
    },
    {
     "name": "stderr",
     "output_type": "stream",
     "text": [
      "Raised JSONRPCException while returning the custom response. Error message: {'code': -32602, 'message': 'Pending transaction'}\n"
     ]
    },
    {
     "name": "stdout",
     "output_type": "stream",
     "text": [
      "Retrying in 1 seconds...\n",
      "************************************************** Status: 1 **************************************************\n",
      "{'scoreAddress': 'cx03d4c178da96e7eda17c2684cb4623e20daf9317', 'indexed': ['OraclePrice(str,str,Address,int)', 'USDICX', 'BandChain', 'cx7171e2f5653c1b9c000e24228276b8d24e84f10d'], 'data': ['0x84c5d90848544bb']} \n",
      "\n",
      "{'scoreAddress': 'cxbe9c1c46b8a7bdfb41c52c4e60d04e367e0337ab', 'indexed': ['PositionStanding(Address,str,str,str)', 'hxe62d11fa19a0e8575ad92f06bc8fd42edbfe27db', 'Liquidate'], 'data': ['0.8361823098521571', 'Position up to date.']} \n",
      "\n",
      "{'scoreAddress': 'cxe033a391ad0e124db500ec2d734abe29a9e5e3ec', 'indexed': ['Transfer(Address,Address,int,bytes)', 'cxbe9c1c46b8a7bdfb41c52c4e60d04e367e0337ab', 'hxe62d11fa19a0e8575ad92f06bc8fd42edbfe27db', '0x94c51733f830000'], 'data': ['0x4e6f6e65']} \n",
      "\n",
      "{'scoreAddress': 'cxbe9c1c46b8a7bdfb41c52c4e60d04e367e0337ab', 'indexed': ['TokenTransfer(Address,int,str)', 'hxe62d11fa19a0e8575ad92f06bc8fd42edbfe27db', '0x94c51733f830000'], 'data': ['Liquidation reward of 670000000000000000 sICX sent to hxe62d11fa19a0e8575ad92f06bc8fd42edbfe27db.']} \n",
      "\n",
      "{'scoreAddress': 'cxbe9c1c46b8a7bdfb41c52c4e60d04e367e0337ab', 'indexed': ['Liquidate(Address,int,str)', 'hxe62d11fa19a0e8575ad92f06bc8fd42edbfe27db', '0x56bc75e2d63100000'], 'data': ['100000000000000000000 liquidated from hxe62d11fa19a0e8575ad92f06bc8fd42edbfe27db']} \n",
      "\n",
      "------------------------------------------------------------------------------------------------------------------\n",
      "Reading getAccountPositions, with parameters {'_owner': 'hxe62d11fa19a0e8575ad92f06bc8fd42edbfe27db'} on the loans contract.\n",
      "------------------------------------------------------------------------------------------------------------------\n",
      "{'pos_id': '0x2', 'created': '0x5be4433aac79b', 'address': 'hxe62d11fa19a0e8575ad92f06bc8fd42edbfe27db', 'snap_id': '0x1', 'snaps_length': '0x1', 'last_snap': '0x1', 'first day': '0x1', 'assets': {'sICX': '0x0', 'bnUSD': '0x0'}, 'replay_index': '0x0', 'events_behind': '0x0', 'total_debt': '0x0', 'ratio': '0x0', 'standing': 'Zero'}\n",
      "------------------------------------------------------------------------------------------------------------------\n",
      "Reading checkDebts, with parameters {} on the loans contract.\n",
      "------------------------------------------------------------------------------------------------------------------\n",
      "{'system': {'debts': '0x2bcd40a70853a0000', 'bad_debt': '0xad78ebc5ac6200000', 'supply': '0xd9462c6cb4b5a0000', 'diff': '0x0', 'remaining': '0x0'}, 'events': {}}\n"
     ]
    },
    {
     "data": {
      "text/plain": [
       "{'system': {'debts': '0x2bcd40a70853a0000',\n",
       "  'bad_debt': '0xad78ebc5ac6200000',\n",
       "  'supply': '0xd9462c6cb4b5a0000',\n",
       "  'diff': '0x0',\n",
       "  'remaining': '0x0'},\n",
       " 'events': {}}"
      ]
     },
     "execution_count": 28,
     "metadata": {},
     "output_type": "execute_result"
    }
   ],
   "source": [
    "# call_tx('loans', 'checkDebts', {})\n",
    "# send_tx('loans', 0, 'add_bad_test_position', {}, user1)\n",
    "call_tx('loans', 'checkDebts', {})\n",
    "send_tx('loans', 0, 'liquidate', {'_owner': user1.get_address()}, user1)\n",
    "call_tx('loans', 'getAccountPositions', {'_owner': user1.get_address()})\n",
    "call_tx('loans', 'checkDebts', {})\n"
   ]
  },
  {
   "cell_type": "code",
   "execution_count": 36,
   "metadata": {},
   "outputs": [
    {
     "name": "stdout",
     "output_type": "stream",
     "text": [
      "------------------------------------------------------------------------------------------------------------------\n",
      "Reading getAccountPositions, with parameters {'_owner': 'hxe62d11fa19a0e8575ad92f06bc8fd42edbfe27db'} on the loans contract.\n",
      "------------------------------------------------------------------------------------------------------------------\n",
      "{'pos_id': '0x2', 'created': '0x5be2c15693ff5', 'address': 'hxe62d11fa19a0e8575ad92f06bc8fd42edbfe27db', 'snap_id': '0x1', 'snaps_length': '0x1', 'last_snap': '0x1', 'first day': '0x1', 'assets': {'sICX': '0x0', 'bnUSD': '0x0'}, 'replay_index': '0x0', 'events_behind': '0x0', 'total_debt': '0x0', 'ratio': '0x0', 'standing': 'Zero'}\n"
     ]
    },
    {
     "data": {
      "text/plain": [
       "{'pos_id': '0x2',\n",
       " 'created': '0x5be2c15693ff5',\n",
       " 'address': 'hxe62d11fa19a0e8575ad92f06bc8fd42edbfe27db',\n",
       " 'snap_id': '0x1',\n",
       " 'snaps_length': '0x1',\n",
       " 'last_snap': '0x1',\n",
       " 'first day': '0x1',\n",
       " 'assets': {'sICX': '0x0', 'bnUSD': '0x0'},\n",
       " 'replay_index': '0x0',\n",
       " 'events_behind': '0x0',\n",
       " 'total_debt': '0x0',\n",
       " 'ratio': '0x0',\n",
       " 'standing': 'Zero'}"
      ]
     },
     "execution_count": 36,
     "metadata": {},
     "output_type": "execute_result"
    }
   ],
   "source": [
    "# send_tx('loans', 500 * ICX , 'addCollateral', {'_asset': 'bnUSD', '_amount': 50 * ICX}, btest_wallet)\n",
    "call_tx('loans', 'getAccountPositions', {'_owner': user1.get_address()})\n"
   ]
  },
  {
   "cell_type": "code",
   "execution_count": 30,
   "metadata": {},
   "outputs": [
    {
     "name": "stdout",
     "output_type": "stream",
     "text": [
      "btest_wallet retire 50 bnusd\n",
      "Status: 1\n",
      "{'scoreAddress': 'cx03d4c178da96e7eda17c2684cb4623e20daf9317', 'indexed': ['OraclePrice(str,str,Address,int)', 'USDICX', 'BandChain', 'cx7171e2f5653c1b9c000e24228276b8d24e84f10d'], 'data': ['0x84c5d90848544bb']} \n",
      "\n",
      "{'scoreAddress': 'cx03d4c178da96e7eda17c2684cb4623e20daf9317', 'indexed': ['Transfer(Address,Address,int,bytes)', 'cxbe9c1c46b8a7bdfb41c52c4e60d04e367e0337ab', 'cx03d4c178da96e7eda17c2684cb4623e20daf9317', '0x2b26b8169c7af0000'], 'data': ['0x4e6f6e65']} \n",
      "\n",
      "{'scoreAddress': 'cx03d4c178da96e7eda17c2684cb4623e20daf9317', 'indexed': ['Burn(Address,int)', 'cxbe9c1c46b8a7bdfb41c52c4e60d04e367e0337ab'], 'data': ['0x2b26b8169c7af0000']} \n",
      "\n",
      "{'scoreAddress': 'cxe033a391ad0e124db500ec2d734abe29a9e5e3ec', 'indexed': ['Transfer(Address,Address,int,bytes)', 'cxbe9c1c46b8a7bdfb41c52c4e60d04e367e0337ab', 'hx3f01840a599da07b0f620eeae7aa9c574169a4be', '0x1c61fe6b7edc9eadf'], 'data': ['0x4e6f6e65']} \n",
      "\n",
      "{'scoreAddress': 'cxbe9c1c46b8a7bdfb41c52c4e60d04e367e0337ab', 'indexed': ['TokenTransfer(Address,int,str)', 'hx3f01840a599da07b0f620eeae7aa9c574169a4be', '0x1c61fe6b7edc9eadf'], 'data': ['Collateral redeemed. 32723127095140149983 sICX sent to hx3f01840a599da07b0f620eeae7aa9c574169a4be.']} \n",
      "\n",
      "{'scoreAddress': 'cx03d4c178da96e7eda17c2684cb4623e20daf9317', 'indexed': ['Transfer(Address,Address,int,bytes)', 'cxbe9c1c46b8a7bdfb41c52c4e60d04e367e0337ab', 'cxf60d5b2ae6aee8ea6efffca4ab0ac79d450741d5', '0x3782dace9d90000'], 'data': ['0x4e6f6e65']} \n",
      "\n",
      "{'scoreAddress': 'cxbe9c1c46b8a7bdfb41c52c4e60d04e367e0337ab', 'indexed': ['TokenTransfer(Address,int,str)', 'cxf60d5b2ae6aee8ea6efffca4ab0ac79d450741d5', '0x3782dace9d90000'], 'data': ['Redemption fee. 250000000000000000 bnUSD sent to cxf60d5b2ae6aee8ea6efffca4ab0ac79d450741d5.']} \n",
      "\n",
      "{'scoreAddress': 'cxbe9c1c46b8a7bdfb41c52c4e60d04e367e0337ab', 'indexed': ['AssetRedeemed(Address,str,int,str)', 'hx3f01840a599da07b0f620eeae7aa9c574169a4be', 'bnUSD', '0x2b5e3af16b1880000'], 'data': ['50.0 bnUSD redeemed on Balanced at price 0.5979557258134335 ICX/bnUSD.']} \n",
      "\n",
      "{'scoreAddress': 'cx03d4c178da96e7eda17c2684cb4623e20daf9317', 'indexed': ['Transfer(Address,Address,int,bytes)', 'hx3f01840a599da07b0f620eeae7aa9c574169a4be', 'cxbe9c1c46b8a7bdfb41c52c4e60d04e367e0337ab', '0x2b5e3af16b1880000'], 'data': ['0x7b226d6574686f64223a20225f7265746972655f6173736574222c2022706172616d73223a207b7d7d']} \n",
      "\n",
      "------------------------------------------------------------------------------------------------------------------\n",
      "Reading checkDebts, with parameters {} on the loans contract.\n",
      "------------------------------------------------------------------------------------------------------------------\n",
      "{'system': {'debts': '0x2bcd40a70853a0000', 'bad_debt': '0x2c04c381d6f130000', 'supply': '0x57d20428df44d0000', 'diff': '0x0', 'remaining': '0x0'}, 'events': {}}\n",
      "Market still dead\n",
      "btest_wallet retire 50 bnusd\n",
      "Status: 0\n",
      "Failure: {'code': 32, 'message': '0 BALN not sent to cxbe9c1c46b8a7bdfb41c52c4e60d04e367e0337ab. Exception: Amount sent must be greater than zero. (32)'}\n",
      "------------------------------------------------------------------------------------------------------------------\n",
      "Reading checkDebts, with parameters {} on the loans contract.\n",
      "------------------------------------------------------------------------------------------------------------------\n",
      "{'system': {'debts': '0x2bcd40a70853a0000', 'bad_debt': '0x2c04c381d6f130000', 'supply': '0x57d20428df44d0000', 'diff': '0x0', 'remaining': '0x0'}, 'events': {}}\n",
      "Market still dead\n"
     ]
    }
   ],
   "source": [
    "#  Now we try to revive the dead market\n",
    "# 1. Test with retiring less than enough to revive the market with bad_debt 550.25 bnusd \n",
    "# i.e user2 retires 100 bnusd\n",
    "\n",
    "test_cases =  { \n",
    "    \n",
    "    \"stories\": [ {\n",
    "      \"description\": \"btest_wallet retire 50 bnusd\",\n",
    "      \"actions\": {\n",
    "          \"sender\":\"user2\",\n",
    "          \"first_meth\": \"transfer\",\n",
    "          \"second_meth\":\"transfer\",\n",
    "          \"deposited_icx\":\"0\",\n",
    "          \"first_params\":{'_to': btest_wallet.get_address(), '_value': 50 * ICX},\n",
    "          \"second_params\":{\"method\": \"_retire_asset\", \"params\": {},'_to': contracts['loans']['SCORE'], '_value': 50 * ICX},\n",
    "          \"expected_bnusd_wallet\":\"20700000000000000000\"\n",
    "          \n",
    "      }\n",
    "    },\n",
    "        {\n",
    "            \"description\": \"btest_wallet retire 50 bnusd\",\n",
    "              \"actions\": {\n",
    "                  \"sender\":\"user2\",\n",
    "                  \"first_meth\": \"transfer\",\n",
    "                  \"second_meth\":\"transfer\",\n",
    "                  \"deposited_icx\":\"0\",\n",
    "                  \"first_params\":{'_to': btest_wallet.get_address(), '_value': 50 *ICX},\n",
    "                  \"second_params\":{\"method\": \"_retire_asset\", \"params\": {},'_to': contracts['loans']['SCORE'], '_value': 50 * ICX},\n",
    "                  \"expected_bnusd_wallet\":\"20700000000000000000\"\n",
    "\n",
    "      }\n",
    "        }\n",
    "\n",
    "  ]\n",
    "}\n",
    "\n",
    "for case in test_cases['stories']:\n",
    "    print(case['description'])\n",
    "    _to = contracts['bnUSD']['SCORE']\n",
    "    meth1 = case['actions']['first_meth']\n",
    "    meth2 = case['actions']['second_meth']\n",
    "    val = int(case['actions']['deposited_icx'])\n",
    "    data1 = case['actions']['first_params']\n",
    "    first_params = {\"_to\": data1['_to'], \"_value\": data1['_value']}\n",
    "    \n",
    "    data2 = case['actions']['second_params']\n",
    "    params = {\"method\": data2['method'], \"params\": data2['params']}\n",
    "    data = json.dumps(params).encode(\"utf-8\")\n",
    "    second_params = {'_to': data2['_to'], '_value': data2['_value'], '_data': data}\n",
    "\n",
    "\n",
    "    transaction = CallTransactionBuilder()\\\n",
    "        .from_(user1.get_address())\\\n",
    "        .to(_to)\\\n",
    "        .value(val)\\\n",
    "        .step_limit(10000000)\\\n",
    "        .nid(NID)\\\n",
    "        .nonce(100)\\\n",
    "        .method(meth1)\\\n",
    "        .params(first_params)\\\n",
    "        .build()\n",
    "    signed_transaction = SignedTransaction(transaction, user1)\n",
    "    tx_hash = icon_service.send_transaction(signed_transaction)\n",
    "    sleep(2)\n",
    "\n",
    "    transaction = CallTransactionBuilder()\\\n",
    "        .from_(btest_wallet.get_address())\\\n",
    "        .to(_to)\\\n",
    "        .value(val)\\\n",
    "        .step_limit(10000000)\\\n",
    "        .nid(NID)\\\n",
    "        .nonce(100)\\\n",
    "        .method(meth2)\\\n",
    "        .params(second_params)\\\n",
    "        .build()\n",
    "    signed_transaction = SignedTransaction(transaction, btest_wallet)\n",
    "    tx_hash = icon_service.send_transaction(signed_transaction)\n",
    "    sleep(1)\n",
    "\n",
    "    res = get_tx_result(tx_hash)\n",
    "    print(f'Status: {res[\"status\"]}')\n",
    "    if len(res[\"eventLogs\"]) > 0:\n",
    "        for item in res[\"eventLogs\"]:\n",
    "            print(f'{item} \\n')\n",
    "    if res['status'] == 0:\n",
    "        print(f'Failure: {res[\"failure\"]}')\n",
    "    \n",
    "    tes= call_tx('loans', 'checkDebts', {})\n",
    "    if tes['system']['bad_debt'] != hex(0):\n",
    "        print(\"Market still dead\")\n",
    "    else:\n",
    "        print(\"Market revived\")\n",
    "    "
   ]
  },
  {
   "cell_type": "code",
   "execution_count": 122,
   "metadata": {},
   "outputs": [
    {
     "name": "stdout",
     "output_type": "stream",
     "text": [
      "------------------------------------------------------------------------------------------------------------------\n",
      "Calling stakeICX, with parameters {'_to': 'cxe74fb8364f4edbd1e88af6cdfeeb7fe939b743d2'} on the staking contract.\n",
      "------------------------------------------------------------------------------------------------------------------\n"
     ]
    },
    {
     "name": "stderr",
     "output_type": "stream",
     "text": [
      "Raised JSONRPCException while returning the custom response. Error message: {'code': -32602, 'message': 'Pending transaction'}\n"
     ]
    },
    {
     "name": "stdout",
     "output_type": "stream",
     "text": [
      "Retrying in 1 seconds...\n",
      "************************************************** Status: 1 **************************************************\n",
      "{'scoreAddress': 'cx098ce1ed177b2e3f5e3416b4cb61d2a85c084e90', 'indexed': ['Transfer(Address,Address,int,bytes)', 'cx098ce1ed177b2e3f5e3416b4cb61d2a85c084e90', 'hxe62d11fa19a0e8575ad92f06bc8fd42edbfe27db', '0x2b5e3af16b18800000'], 'data': ['0x4e6f6e65']} \n",
      "\n",
      "{'scoreAddress': 'cx098ce1ed177b2e3f5e3416b4cb61d2a85c084e90', 'indexed': ['Mint(Address,int,bytes)', 'hxe62d11fa19a0e8575ad92f06bc8fd42edbfe27db'], 'data': ['0x2b5e3af16b18800000', '0x4e6f6e65']} \n",
      "\n",
      "{'scoreAddress': 'cx098ce1ed177b2e3f5e3416b4cb61d2a85c084e90', 'indexed': ['Transfer(Address,Address,int,bytes)', 'hxe62d11fa19a0e8575ad92f06bc8fd42edbfe27db', 'cxe74fb8364f4edbd1e88af6cdfeeb7fe939b743d2', '0x2b5e3af16b18800000'], 'data': ['0x4e6f6e65']} \n",
      "\n",
      "{'scoreAddress': 'cx4c19ea164684d8b9e52d8cb89a20a28998a31edc', 'indexed': ['TokenTransfer(Address,int,str)', 'cxe74fb8364f4edbd1e88af6cdfeeb7fe939b743d2', '0x2b5e3af16b18800000'], 'data': ['800.0 sICX minted to cxe74fb8364f4edbd1e88af6cdfeeb7fe939b743d2']} \n",
      "\n"
     ]
    },
    {
     "data": {
      "text/plain": [
       "{'txHash': '0xc1f65cf10d58f92a21d59409e8756591db80974e5d0df0e012becce38cfe1e48',\n",
       " 'blockHeight': 1533442,\n",
       " 'blockHash': '0xa083f0deade50430501c89eefad02b8650c786adff84fbe6eac699d7ef577a38',\n",
       " 'txIndex': 1,\n",
       " 'to': 'cx4c19ea164684d8b9e52d8cb89a20a28998a31edc',\n",
       " 'stepUsed': 532120,\n",
       " 'stepPrice': 10000000000,\n",
       " 'cumulativeStepUsed': 532120,\n",
       " 'eventLogs': [{'scoreAddress': 'cx098ce1ed177b2e3f5e3416b4cb61d2a85c084e90',\n",
       "   'indexed': ['Transfer(Address,Address,int,bytes)',\n",
       "    'cx098ce1ed177b2e3f5e3416b4cb61d2a85c084e90',\n",
       "    'hxe62d11fa19a0e8575ad92f06bc8fd42edbfe27db',\n",
       "    '0x2b5e3af16b18800000'],\n",
       "   'data': ['0x4e6f6e65']},\n",
       "  {'scoreAddress': 'cx098ce1ed177b2e3f5e3416b4cb61d2a85c084e90',\n",
       "   'indexed': ['Mint(Address,int,bytes)',\n",
       "    'hxe62d11fa19a0e8575ad92f06bc8fd42edbfe27db'],\n",
       "   'data': ['0x2b5e3af16b18800000', '0x4e6f6e65']},\n",
       "  {'scoreAddress': 'cx098ce1ed177b2e3f5e3416b4cb61d2a85c084e90',\n",
       "   'indexed': ['Transfer(Address,Address,int,bytes)',\n",
       "    'hxe62d11fa19a0e8575ad92f06bc8fd42edbfe27db',\n",
       "    'cxe74fb8364f4edbd1e88af6cdfeeb7fe939b743d2',\n",
       "    '0x2b5e3af16b18800000'],\n",
       "   'data': ['0x4e6f6e65']},\n",
       "  {'scoreAddress': 'cx4c19ea164684d8b9e52d8cb89a20a28998a31edc',\n",
       "   'indexed': ['TokenTransfer(Address,int,str)',\n",
       "    'cxe74fb8364f4edbd1e88af6cdfeeb7fe939b743d2',\n",
       "    '0x2b5e3af16b18800000'],\n",
       "   'data': ['800.0 sICX minted to cxe74fb8364f4edbd1e88af6cdfeeb7fe939b743d2']}],\n",
       " 'logsBloom': b'\\x00\\x00\\x00\\x00\\x00\\x00\\x00\\x00\\x00\\x00\\x00 \\x00\\x00\\x00\\x02\\x00\\x00 \\x00\\x00\\x00\\x00\\x00 \\x00\\x00\\x00\\x00\\x00\\x00\\x00\\x00\\x00\\x00\\x00\\x00\\x00\\x00\\x00\\x00\\x00\\x00@\\x01\\x00\\x00\\x00\\x00\\x00\\x00\\x00\\x02\\x00\\x04\\x00\\x00\\x00\\x00\\x00\\x00\\x00\\x00\\x00\\x00\\x80\\x00\\x00\\x00\\x00\\x00\\x00\\x02\\x00\\x00\\x00\\x00\\x00\\x00\\x00\\x00\\x00\\x00\\x00\\x00\\x00\\x00\\x00\\x00\\x00\\x00\\x00\\x00\\x00\\x00\\x01\\x00\\x00\\x00\\x00\\x00@\\x00\\x00\\x00\\x01\\x00\\x00\\x80\\x00\\x00\\x00\\x00\\x00\\x00\\x00\\x00\\x00\\x00\\x00\\x01\\x08\\x00\\x00\\x04\\x00\\x00\\x00\\x00 \\x00\\x00\\x00\\x00\\x00\\x00\\x02\\x02\\x00\\x00\\x00\\x00\\x00\\x00@\\x00\\x00\\x00\\x00\\x00\\x00\\x00\\x00\\x80\\x00\\x00\\x00\\x10\\x00\\x00@\\x00\\x00\\x00\\x00\\x00\\x00\\x00\\x00\\x00\\x00\\x00\\x00\\x00\\x00\\x00\\x00\\x00\\x00\\x00\\x00\\x00\\x00\\x00\\x00\\x00\\x00\\x00\\x00\\x00\\x00\\x08\\x00\\x00\\x08\\x00\\x02\\x00\\x00\\x00\\x00\\x00\\x00\\x00\\x00\\x00\\x00\\x00 \\x00\\x00\\x00\\x01\\xc1\\x01@\\x00\\x00\\x00\\x00\\x00\\x00\\x00\\x00\\x00 \\x00\\x00\\x00\\x00\\x00\\x00\\x00\\x00\\x00\\x00\\x00\\x00\\x00\\x00\\x00\\x00\\x00 \\x00\\x00\\x00\\x00\\x00\\x00\\x00\\x00\\x00\\x00\\x00\\x00',\n",
       " 'status': 1}"
      ]
     },
     "execution_count": 122,
     "metadata": {},
     "output_type": "execute_result"
    }
   ],
   "source": [
    "# call_tx('loans', 'getAccountPositions', {'_owner': user1.get_address()})\n",
    "\n",
    "send_tx('staking',  800*ICX, 'stakeICX', {'_to':contracts['reserve']['SCORE']}, user1)\n",
    "\n",
    "# send_tx('loans', 500 * ICX , 'addCollateral', {'_asset': 'bnUSD', '_amount': 50 * ICX}, btest_wallet)\n"
   ]
  },
  {
   "cell_type": "code",
   "execution_count": 94,
   "metadata": {},
   "outputs": [
    {
     "name": "stderr",
     "output_type": "stream",
     "text": [
      "Raised JSONRPCException while returning the custom response. Error message: {'code': -32006, 'message': 'Type mismatch: value=hx7a1824129a8fe803e45a3aae1c0e060399546187 type_hint=typing.List[str]'}\n"
     ]
    },
    {
     "ename": "JSONRPCException",
     "evalue": "{'code': -32006, 'message': 'Type mismatch: value=hx7a1824129a8fe803e45a3aae1c0e060399546187 type_hint=typing.List[str]'} (Json rpc error)",
     "output_type": "error",
     "traceback": [
      "\u001b[0;31m---------------------------------------------------------------------------\u001b[0m",
      "\u001b[0;31mJSONRPCException\u001b[0m                          Traceback (most recent call last)",
      "\u001b[0;32m<ipython-input-94-6f3dcf4ef48f>\u001b[0m in \u001b[0;36m<module>\u001b[0;34m\u001b[0m\n\u001b[1;32m      6\u001b[0m                     \u001b[0;34m.\u001b[0m\u001b[0mparams\u001b[0m\u001b[0;34m(\u001b[0m\u001b[0mparams\u001b[0m\u001b[0;34m)\u001b[0m\u001b[0;31m\\\u001b[0m\u001b[0;34m\u001b[0m\u001b[0;34m\u001b[0m\u001b[0m\n\u001b[1;32m      7\u001b[0m                     \u001b[0;34m.\u001b[0m\u001b[0mbuild\u001b[0m\u001b[0;34m(\u001b[0m\u001b[0;34m)\u001b[0m\u001b[0;34m\u001b[0m\u001b[0;34m\u001b[0m\u001b[0m\n\u001b[0;32m----> 8\u001b[0;31m \u001b[0mresult\u001b[0m \u001b[0;34m=\u001b[0m \u001b[0micon_service\u001b[0m\u001b[0;34m.\u001b[0m\u001b[0mcall\u001b[0m\u001b[0;34m(\u001b[0m\u001b[0mcall\u001b[0m\u001b[0;34m)\u001b[0m\u001b[0;34m\u001b[0m\u001b[0;34m\u001b[0m\u001b[0m\n\u001b[0m\u001b[1;32m      9\u001b[0m \u001b[0mprint\u001b[0m\u001b[0;34m(\u001b[0m\u001b[0mresult\u001b[0m\u001b[0;34m)\u001b[0m\u001b[0;34m\u001b[0m\u001b[0;34m\u001b[0m\u001b[0m\n\u001b[1;32m     10\u001b[0m \u001b[0;31m# int(result, 0) / 10**18\u001b[0m\u001b[0;34m\u001b[0m\u001b[0;34m\u001b[0m\u001b[0;34m\u001b[0m\u001b[0m\n",
      "\u001b[0;32m~/anaconda3/lib/python3.7/site-packages/iconsdk/icon_service.py\u001b[0m in \u001b[0;36mcall\u001b[0;34m(self, call, full_response)\u001b[0m\n\u001b[1;32m    233\u001b[0m             \u001b[0mparams\u001b[0m\u001b[0;34m[\u001b[0m\u001b[0;34m\"data\"\u001b[0m\u001b[0;34m]\u001b[0m\u001b[0;34m[\u001b[0m\u001b[0;34m\"params\"\u001b[0m\u001b[0;34m]\u001b[0m \u001b[0;34m=\u001b[0m \u001b[0mcall\u001b[0m\u001b[0;34m.\u001b[0m\u001b[0mparams\u001b[0m\u001b[0;34m\u001b[0m\u001b[0;34m\u001b[0m\u001b[0m\n\u001b[1;32m    234\u001b[0m \u001b[0;34m\u001b[0m\u001b[0m\n\u001b[0;32m--> 235\u001b[0;31m         \u001b[0;32mreturn\u001b[0m \u001b[0mself\u001b[0m\u001b[0;34m.\u001b[0m\u001b[0m__provider\u001b[0m\u001b[0;34m.\u001b[0m\u001b[0mmake_request\u001b[0m\u001b[0;34m(\u001b[0m\u001b[0;34m'icx_call'\u001b[0m\u001b[0;34m,\u001b[0m \u001b[0mparams\u001b[0m\u001b[0;34m,\u001b[0m \u001b[0mfull_response\u001b[0m\u001b[0;34m)\u001b[0m\u001b[0;34m\u001b[0m\u001b[0;34m\u001b[0m\u001b[0m\n\u001b[0m\u001b[1;32m    236\u001b[0m \u001b[0;34m\u001b[0m\u001b[0m\n\u001b[1;32m    237\u001b[0m     \u001b[0;32mdef\u001b[0m \u001b[0msend_transaction\u001b[0m\u001b[0;34m(\u001b[0m\u001b[0mself\u001b[0m\u001b[0;34m,\u001b[0m \u001b[0msigned_transaction\u001b[0m\u001b[0;34m:\u001b[0m \u001b[0mSignedTransaction\u001b[0m\u001b[0;34m,\u001b[0m \u001b[0mfull_response\u001b[0m\u001b[0;34m:\u001b[0m \u001b[0mbool\u001b[0m \u001b[0;34m=\u001b[0m \u001b[0;32mFalse\u001b[0m\u001b[0;34m)\u001b[0m \u001b[0;34m->\u001b[0m \u001b[0mUnion\u001b[0m\u001b[0;34m[\u001b[0m\u001b[0mdict\u001b[0m\u001b[0;34m,\u001b[0m \u001b[0mstr\u001b[0m\u001b[0;34m]\u001b[0m\u001b[0;34m:\u001b[0m\u001b[0;34m\u001b[0m\u001b[0;34m\u001b[0m\u001b[0m\n",
      "\u001b[0;32m~/anaconda3/lib/python3.7/site-packages/iconsdk/providers/http_provider.py\u001b[0m in \u001b[0;36mmake_request\u001b[0;34m(self, method, params, full_response)\u001b[0m\n\u001b[1;32m    127\u001b[0m         \u001b[0mfull_path_url\u001b[0m \u001b[0;34m=\u001b[0m \u001b[0mself\u001b[0m\u001b[0;34m.\u001b[0m\u001b[0m_full_path_url\u001b[0m \u001b[0;32mif\u001b[0m \u001b[0mself\u001b[0m\u001b[0;34m.\u001b[0m\u001b[0m_full_path_url\u001b[0m \u001b[0;32melse\u001b[0m \u001b[0mself\u001b[0m\u001b[0;34m.\u001b[0m\u001b[0m_get_full_path_url\u001b[0m\u001b[0;34m(\u001b[0m\u001b[0mmethod\u001b[0m\u001b[0;34m)\u001b[0m\u001b[0;34m\u001b[0m\u001b[0;34m\u001b[0m\u001b[0m\n\u001b[1;32m    128\u001b[0m         \u001b[0mresponse\u001b[0m \u001b[0;34m=\u001b[0m \u001b[0mself\u001b[0m\u001b[0;34m.\u001b[0m\u001b[0m_make_post_request\u001b[0m\u001b[0;34m(\u001b[0m\u001b[0mfull_path_url\u001b[0m\u001b[0;34m,\u001b[0m \u001b[0mrpc_dict\u001b[0m\u001b[0;34m,\u001b[0m \u001b[0;34m**\u001b[0m\u001b[0mself\u001b[0m\u001b[0;34m.\u001b[0m\u001b[0m_get_request_kwargs\u001b[0m\u001b[0;34m(\u001b[0m\u001b[0;34m)\u001b[0m\u001b[0;34m)\u001b[0m\u001b[0;34m\u001b[0m\u001b[0;34m\u001b[0m\u001b[0m\n\u001b[0;32m--> 129\u001b[0;31m         \u001b[0mcustom_response\u001b[0m \u001b[0;34m=\u001b[0m \u001b[0mself\u001b[0m\u001b[0;34m.\u001b[0m\u001b[0m_return_custom_response\u001b[0m\u001b[0;34m(\u001b[0m\u001b[0mresponse\u001b[0m\u001b[0;34m,\u001b[0m \u001b[0mfull_response\u001b[0m\u001b[0;34m)\u001b[0m\u001b[0;34m\u001b[0m\u001b[0;34m\u001b[0m\u001b[0m\n\u001b[0m\u001b[1;32m    130\u001b[0m \u001b[0;34m\u001b[0m\u001b[0m\n\u001b[1;32m    131\u001b[0m         \u001b[0mlogger\u001b[0m\u001b[0;34m.\u001b[0m\u001b[0mdebug\u001b[0m\u001b[0;34m(\u001b[0m\u001b[0;34mf\"Request: {rpc_dict}\"\u001b[0m\u001b[0;34m)\u001b[0m\u001b[0;34m\u001b[0m\u001b[0;34m\u001b[0m\u001b[0m\n",
      "\u001b[0;32m~/anaconda3/lib/python3.7/site-packages/iconsdk/providers/http_provider.py\u001b[0m in \u001b[0;36m_return_custom_response\u001b[0;34m(response, full_response)\u001b[0m\n\u001b[1;32m    152\u001b[0m                 logger.error(f\"Raised JSONRPCException while returning the custom response. \"\n\u001b[1;32m    153\u001b[0m                              f\"Error message: {content_as_dict['error']}\")\n\u001b[0;32m--> 154\u001b[0;31m                 \u001b[0;32mraise\u001b[0m \u001b[0mJSONRPCException\u001b[0m\u001b[0;34m(\u001b[0m\u001b[0mcontent_as_dict\u001b[0m\u001b[0;34m[\u001b[0m\u001b[0;34m\"error\"\u001b[0m\u001b[0;34m]\u001b[0m\u001b[0;34m)\u001b[0m\u001b[0;34m\u001b[0m\u001b[0;34m\u001b[0m\u001b[0m\n\u001b[0m\u001b[1;32m    155\u001b[0m \u001b[0;34m\u001b[0m\u001b[0m\n\u001b[1;32m    156\u001b[0m     \u001b[0;32mdef\u001b[0m \u001b[0mis_connected\u001b[0m\u001b[0;34m(\u001b[0m\u001b[0mself\u001b[0m\u001b[0;34m)\u001b[0m \u001b[0;34m->\u001b[0m \u001b[0mbool\u001b[0m\u001b[0;34m:\u001b[0m\u001b[0;34m\u001b[0m\u001b[0;34m\u001b[0m\u001b[0m\n",
      "\u001b[0;31mJSONRPCException\u001b[0m: {'code': -32006, 'message': 'Type mismatch: value=hx7a1824129a8fe803e45a3aae1c0e060399546187 type_hint=typing.List[str]'} (Json rpc error)"
     ]
    }
   ],
   "source": []
  },
  {
   "cell_type": "code",
   "execution_count": 16,
   "metadata": {},
   "outputs": [
    {
     "name": "stdout",
     "output_type": "stream",
     "text": [
      "------------------------------------------------------------------------------------------------------------------\n",
      "Reading balanceOf, with parameters {'_owner': 'hx7a1824129a8fe803e45a3aae1c0e060399546187'} on the baln contract.\n",
      "------------------------------------------------------------------------------------------------------------------\n",
      "0x0\n"
     ]
    },
    {
     "data": {
      "text/plain": [
       "'0x0'"
      ]
     },
     "execution_count": 16,
     "metadata": {},
     "output_type": "execute_result"
    }
   ],
   "source": [
    "# send_tx('rewards',  0, 'claimRewards', {}, user1)\n",
    "\n",
    "call_tx('baln', 'balanceOf', {'_owner': user2.get_address()})\n"
   ]
  },
  {
   "cell_type": "code",
   "execution_count": null,
   "metadata": {},
   "outputs": [],
   "source": []
  }
 ],
 "metadata": {
  "kernelspec": {
   "display_name": "Python 3",
   "language": "python",
   "name": "python3"
  },
  "language_info": {
   "codemirror_mode": {
    "name": "ipython",
    "version": 3
   },
   "file_extension": ".py",
   "mimetype": "text/x-python",
   "name": "python",
   "nbconvert_exporter": "python",
   "pygments_lexer": "ipython3",
   "version": "3.7.6"
  }
 },
 "nbformat": 4,
 "nbformat_minor": 4
}
