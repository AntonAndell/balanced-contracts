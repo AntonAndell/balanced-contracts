{
 "cells": [
  {
   "cell_type": "code",
   "execution_count": 1,
   "metadata": {},
   "outputs": [],
   "source": [
    "# Cell 0\n",
    "\n",
    "network = \"custom\"  # set this to one of mainnet, yeouido, euljiro, pagoda, or custom\n",
    "\n",
    "connections = {\n",
    "\"mainnet\": {\"iconservice\": \"https://ctz.solidwallet.io\",       \"nid\": 1},\n",
    "\"yeouido\": {\"iconservice\": \"https://bicon.net.solidwallet.io\", \"nid\": 3},\n",
    "\"euljiro\": {\"iconservice\": \"https://test-ctz.solidwallet.io\",  \"nid\": 2},\n",
    "\"pagoda\":  {\"iconservice\": \"https://zicon.net.solidwallet.io\", \"nid\":80},\n",
    "\"custom\":  {\"iconservice\": \"http://18.144.108.38:9000\",        \"nid\": 3}}\n",
    "\n",
    "env = connections[network]"
   ]
  },
  {
   "cell_type": "code",
   "execution_count": 2,
   "metadata": {},
   "outputs": [],
   "source": [
    "# Cell 1\n",
    "\n",
    "from iconsdk.exception import JSONRPCException\n",
    "from iconsdk.libs.in_memory_zip import gen_deploy_data_content\n",
    "from iconsdk.icon_service import IconService\n",
    "from iconsdk.providers.http_provider import HTTPProvider\n",
    "from iconsdk.builder.transaction_builder import CallTransactionBuilder, TransactionBuilder, DeployTransactionBuilder\n",
    "from iconsdk.builder.call_builder import CallBuilder\n",
    "from iconsdk.signed_transaction import SignedTransaction\n",
    "from iconsdk.wallet.wallet import KeyWallet\n",
    "from iconsdk.utils.convert_type import convert_hex_str_to_int\n",
    "from repeater import retry\n",
    "from shutil import make_archive\n",
    "import pickle as pkl\n",
    "from datetime import datetime\n",
    "from time import sleep\n",
    "import json\n",
    "import os\n",
    "\n",
    "ICX = 1000000000000000000 # 10**18\n",
    "GOVERNANCE_ADDRESS = \"cx0000000000000000000000000000000000000000\"\n",
    "ORACLE = \"cx61a36e5d10412e03c907a507d1e8c6c3856d9964\"\n",
    "\n",
    "@retry(JSONRPCException, tries=10, delay=1, back_off=2)\n",
    "def get_tx_result(_tx_hash):\n",
    "    tx_result = icon_service.get_transaction_result(_tx_hash)\n",
    "    return tx_result"
   ]
  },
  {
   "cell_type": "code",
   "execution_count": 3,
   "metadata": {},
   "outputs": [],
   "source": [
    "# Cell 2\n",
    "\n",
    "icon_service = IconService(HTTPProvider(env[\"iconservice\"], 3))\n",
    "NID = env[\"nid\"]"
   ]
  },
  {
   "cell_type": "code",
   "execution_count": 4,
   "metadata": {},
   "outputs": [
    {
     "name": "stdout",
     "output_type": "stream",
     "text": [
      "772315353.0322795\n",
      "4945597.2534498\n"
     ]
    }
   ],
   "source": [
    "# Cell 3\n",
    "\n",
    "wallet = KeyWallet.load(\"keystores/keystore_test1.json\", \"test1_Account\")\n",
    "# Balanced test wallet\n",
    "with open(\"keystores/balanced_test.pwd\", \"r\") as f:\n",
    "    key_data = f.read()\n",
    "btest_wallet = KeyWallet.load(\"keystores/balanced_test.json\", key_data)\n",
    "print(icon_service.get_balance(wallet.get_address())/10**18)\n",
    "print(icon_service.get_balance(btest_wallet.get_address())/10**18)"
   ]
  },
  {
   "cell_type": "code",
   "execution_count": 5,
   "metadata": {},
   "outputs": [
    {
     "name": "stdout",
     "output_type": "stream",
     "text": [
      "hxe7af5fcfd8dfc67530a01a0e403882687528dfcb\n",
      "772315353.0322795\n"
     ]
    }
   ],
   "source": [
    "print(wallet.get_address())\n",
    "print(icon_service.get_balance(wallet.get_address()) / 10**18)"
   ]
  },
  {
   "cell_type": "code",
   "execution_count": 6,
   "metadata": {},
   "outputs": [
    {
     "name": "stdout",
     "output_type": "stream",
     "text": [
      "hx3f01840a599da07b0f620eeae7aa9c574169a4be\n",
      "4945597.2534498\n"
     ]
    }
   ],
   "source": [
    "print(btest_wallet.get_address())\n",
    "print(icon_service.get_balance(btest_wallet.get_address()) / 10**18)"
   ]
  },
  {
   "cell_type": "code",
   "execution_count": 7,
   "metadata": {},
   "outputs": [
    {
     "name": "stdout",
     "output_type": "stream",
     "text": [
      "1052449.9728118\n",
      "hxe62d11fa19a0e8575ad92f06bc8fd42edbfe27db\n",
      "988695.093124\n",
      "hx7a1824129a8fe803e45a3aae1c0e060399546187\n"
     ]
    }
   ],
   "source": [
    "user1 = KeyWallet.load(\"keystores/user1.json\",\"HelloWorld@1234\")\n",
    "# btest_wallet = KeyWallet.load(\"./balanced_test.json\",\"HelloWorld@1234\")\n",
    "\n",
    "print(icon_service.get_balance(user1.get_address())/10**18)\n",
    "print(user1.get_address())\n",
    "\n",
    "# test2 = hx7a1824129a8fe803e45a3aae1c0e060399546187\n",
    "private = \"0a354424b20a7e3c55c43808d607bddfac85d033e63d7d093cb9f0a26c4ee022\"\n",
    "user2 = KeyWallet.load(bytes.fromhex(private))\n",
    "print(icon_service.get_balance(user2.get_address())/10**18)\n",
    "print(user2.get_address())"
   ]
  },
  {
   "cell_type": "code",
   "execution_count": 8,
   "metadata": {},
   "outputs": [],
   "source": [
    "# The following addresses are those deployed to the private tbears server.\n",
    "\n",
    "contracts = {'loans': {'zip': 'core_contracts/loans.zip',\n",
    "  'SCORE': 'cxbbd36ca8d91aefbe1060c3be62fed4d1b848ca85'},\n",
    " 'staking': {'zip': 'core_contracts/staking.zip',\n",
    "  'SCORE': 'cxd8e05c1280bc2c32bf53ff61f3bb2e2ecc7d6df5'},\n",
    " 'dividends': {'zip': 'core_contracts/dividends.zip',\n",
    "  'SCORE': 'cx7c617e3fca4ba06b6ad203ce113245ae96a9d91e'},\n",
    " 'reserve': {'zip': 'core_contracts/reserve.zip',\n",
    "  'SCORE': 'cx70cd5c86f0182d5ac0bd224562d929cd968d9132'},\n",
    " 'daofund': {'zip': 'core_contracts/daofund.zip',\n",
    "  'SCORE': 'cxeb91bc377b0620356787d9c9eb68152eb0c62d8a'},\n",
    " 'rewards': {'zip': 'core_contracts/rewards.zip',\n",
    "  'SCORE': 'cxfd7511ece084744154fed19dc34732681ad078e6'},\n",
    " 'dex': {'zip': 'core_contracts/dex.zip',\n",
    "  'SCORE': 'cx9a3161c778eee2d5758371d3548c5599f76704ec'},\n",
    " 'governance': {'zip': 'core_contracts/governance.zip',\n",
    "  'SCORE': 'cx238cd1a1e3a9702d6c9c6dc130719472164db376'},\n",
    " 'oracle': {'zip': 'core_contracts/oracle.zip',\n",
    "  'SCORE': 'cx7171e2f5653c1b9c000e24228276b8d24e84f10d'},\n",
    " 'sicx': {'zip': 'token_contracts/sicx.zip',\n",
    "  'SCORE': 'cxcff8bf80ab213fa9bbb350636a4d68f5cb4fd9c1'},\n",
    " 'bnUSD': {'zip': 'token_contracts/bnUSD.zip',\n",
    "  'SCORE': 'cx4c1beaa71b9377100c810c46059ddf5f3da37602'},\n",
    " 'baln': {'zip': 'token_contracts/baln.zip',\n",
    "  'SCORE': 'cx3825a86d52c5baf188ff29aa6a7fc2467e285885'},\n",
    " 'bwt': {'zip': 'token_contracts/bwt.zip',\n",
    "  'SCORE': 'cx140b49ea041457ebc4cd5e199f5723916bb50021'}}"
   ]
  },
  {
   "cell_type": "code",
   "execution_count": 9,
   "metadata": {},
   "outputs": [],
   "source": [
    "# Cell 6\n",
    "# Define deploy and send_tx functions\n",
    "\n",
    "def compress():\n",
    "    \"\"\"\n",
    "    Compress all SCORE folders in the core_contracts and toekn_contracts folders\n",
    "    \"\"\"\n",
    "    deploy = list(contracts.keys())[:]\n",
    "    for directory in {\"core_contracts\", \"token_contracts\"}:\n",
    "        with os.scandir(directory) as it:\n",
    "            for file in it:\n",
    "                archive_name = directory + \"/\" + file.name\n",
    "                if file.is_dir() and file.name in deploy:\n",
    "                    make_archive(archive_name, \"zip\", directory, file.name)\n",
    "                    contracts[file.name]['zip'] = archive_name + '.zip'\n",
    "\n",
    "def deploy_SCORE(contract, params, wallet, update) -> str:\n",
    "    \"\"\"\n",
    "    contract is of form {'zip': 'core_contracts/governance.zip', 'SCORE': 'cx1d81f93b3b8d8d2a6455681c46128868782ddd09'}\n",
    "    params is a dicts\n",
    "    wallet is a wallet file\n",
    "    update is boolian\n",
    "    \"\"\"\n",
    "    print(f'{contract[\"zip\"]}')\n",
    "    if update:\n",
    "        dest = contract['SCORE']\n",
    "    else:\n",
    "        dest = GOVERNANCE_ADDRESS\n",
    "    zip_file = contract['zip']\n",
    "    step_limit = 4000100000\n",
    "    deploy_transaction = DeployTransactionBuilder()\\\n",
    "        .from_(wallet.get_address())\\\n",
    "        .to(dest)\\\n",
    "        .nid(NID)\\\n",
    "        .nonce(100)\\\n",
    "        .content_type(\"application/zip\")\\\n",
    "        .content(gen_deploy_data_content(zip_file))\\\n",
    "        .params(params)\\\n",
    "        .build()\n",
    "\n",
    "    signed_transaction = SignedTransaction(deploy_transaction, wallet, step_limit)\n",
    "    tx_hash = icon_service.send_transaction(signed_transaction)\n",
    "\n",
    "    res = get_tx_result(tx_hash)\n",
    "    print(f'Status: {res[\"status\"]}')\n",
    "    if len(res[\"eventLogs\"]) > 0:\n",
    "        for item in res[\"eventLogs\"]:\n",
    "            print(f'{item} \\n')\n",
    "    if res['status'] == 0:\n",
    "        print(f'Failure: {res[\"failure\"]}')\n",
    "    print('')\n",
    "    return res.get('scoreAddress', '')\n",
    "\n",
    "def send_tx(dest, value, method, params, wallet):\n",
    "    \"\"\"\n",
    "    dest is the name of the destination contract.\n",
    "    \"\"\"\n",
    "    print('------------------------------------------------------------------------------------------------------------------')\n",
    "    print(f'Calling {method}, with parameters {params} on the {dest} contract.')\n",
    "    print('------------------------------------------------------------------------------------------------------------------')\n",
    "    transaction = CallTransactionBuilder()\\\n",
    "        .from_(wallet.get_address())\\\n",
    "        .to(contracts[dest]['SCORE'])\\\n",
    "        .value(value)\\\n",
    "        .step_limit(10000000)\\\n",
    "        .nid(NID)\\\n",
    "        .nonce(100)\\\n",
    "        .method(method)\\\n",
    "        .params(params)\\\n",
    "        .build()\n",
    "    signed_transaction = SignedTransaction(transaction, wallet)\n",
    "    tx_hash = icon_service.send_transaction(signed_transaction)\n",
    "\n",
    "    res = get_tx_result(tx_hash)\n",
    "    print(f'************************************************** Status: {res[\"status\"]} **************************************************')\n",
    "    if len(res[\"eventLogs\"]) > 0:\n",
    "        for item in res[\"eventLogs\"]:\n",
    "            print(f'{item} \\n')\n",
    "    if res['status'] == 0:\n",
    "        print(f'Failure: {res[\"failure\"]}')\n",
    "    return res\n",
    "\n",
    "def deploy_all(wallet):\n",
    "    \"\"\"\n",
    "    Compress, Deploy and Configure all SCOREs\n",
    "    \"\"\"\n",
    "    compress()\n",
    "\n",
    "    deploy = list(contracts.keys())[:]\n",
    "    deploy.remove('oracle')\n",
    "    deploy.remove('staking')\n",
    "    deploy.remove('sicx')\n",
    "    deploy.remove('governance')\n",
    "\n",
    "    governance = deploy_SCORE(contracts['governance'], {}, wallet, 0)\n",
    "    contracts['governance']['SCORE'] = governance\n",
    "    for score in deploy:\n",
    "        contracts[score]['SCORE'] = deploy_SCORE(contracts[score], {'_governance': governance}, wallet, 0)\n",
    "    contracts['staking']['SCORE'] = deploy_SCORE(contracts['staking'], {}, wallet, 0)\n",
    "    contracts['sicx']['SCORE'] = deploy_SCORE(contracts['sicx'], {'_admin': contracts['staking']['SCORE']}, wallet, 0)\n",
    "\n",
    "    config = list(contracts.keys())[:]\n",
    "    config.remove('governance')\n",
    "    addresses = {contract: contracts[contract]['SCORE'] for contract in config}\n",
    "\n",
    "    txns = [{'contract': 'staking', 'value': 0, 'method': 'setSicxAddress', 'params': {'_address': contracts['sicx']['SCORE']}},\n",
    "            {'contract': 'governance', 'value': 0, 'method': 'setAddresses', 'params': {'_addresses': addresses}},\n",
    "            {'contract': 'governance', 'value': 0, 'method': 'launchBalanced', 'params': {}}]\n",
    "\n",
    "    for tx in txns:\n",
    "        res = send_tx(tx[\"contract\"], tx[\"value\"], tx[\"method\"], tx[\"params\"], wallet)\n",
    "        results[f'{tx[\"contract\"]}|{tx[\"method\"]}|{tx[\"params\"]}'] = res\n",
    "\n",
    "def get_scores_json(contracts):\n",
    "    \"\"\"\n",
    "    Prints out dictionary of SCORE addresses for use in testing UI.\n",
    "    \"\"\"\n",
    "    scores = {}\n",
    "    for score in contracts:\n",
    "        scores[score] = contracts[score]['SCORE']\n",
    "    return json.dumps(scores)\n",
    "\n",
    "def call_tx(dest: str, method: str, params: dict = {}):\n",
    "    \"\"\"\n",
    "    dest is the name of the destination contract.\n",
    "    \"\"\"\n",
    "    print('------------------------------------------------------------------------------------------------------------------')\n",
    "    print(f'Reading {method}, with parameters {params} on the {dest} contract.')\n",
    "    print('------------------------------------------------------------------------------------------------------------------')\n",
    "    call = CallBuilder()\\\n",
    "        .from_(wallet.get_address())\\\n",
    "        .to(contracts[dest]['SCORE'])\\\n",
    "        .method(method)\\\n",
    "        .params(params)\\\n",
    "        .build()\n",
    "    result = icon_service.call(call)\n",
    "    print(result)\n",
    "    return result\n"
   ]
  },
  {
   "cell_type": "code",
   "execution_count": 10,
   "metadata": {},
   "outputs": [
    {
     "name": "stdout",
     "output_type": "stream",
     "text": [
      "core_contracts/governance.zip\n"
     ]
    },
    {
     "name": "stderr",
     "output_type": "stream",
     "text": [
      "Raised JSONRPCException while returning the custom response. Error message: {'code': -32602, 'message': 'Pending transaction'}\n"
     ]
    },
    {
     "name": "stdout",
     "output_type": "stream",
     "text": [
      "Retrying in 1 seconds...\n",
      "Status: 1\n",
      "\n",
      "core_contracts/loans.zip\n"
     ]
    },
    {
     "name": "stderr",
     "output_type": "stream",
     "text": [
      "Raised JSONRPCException while returning the custom response. Error message: {'code': -32602, 'message': 'Pending transaction'}\n"
     ]
    },
    {
     "name": "stdout",
     "output_type": "stream",
     "text": [
      "Retrying in 1 seconds...\n",
      "Status: 1\n",
      "\n",
      "core_contracts/dividends.zip\n",
      "Status: 1\n",
      "\n",
      "core_contracts/reserve.zip\n"
     ]
    },
    {
     "name": "stderr",
     "output_type": "stream",
     "text": [
      "Raised JSONRPCException while returning the custom response. Error message: {'code': -32602, 'message': 'Pending transaction'}\n"
     ]
    },
    {
     "name": "stdout",
     "output_type": "stream",
     "text": [
      "Retrying in 1 seconds...\n",
      "Status: 1\n",
      "\n",
      "core_contracts/daofund.zip\n",
      "Status: 1\n",
      "\n",
      "core_contracts/rewards.zip\n"
     ]
    },
    {
     "name": "stderr",
     "output_type": "stream",
     "text": [
      "Raised JSONRPCException while returning the custom response. Error message: {'code': -32602, 'message': 'Pending transaction'}\n"
     ]
    },
    {
     "name": "stdout",
     "output_type": "stream",
     "text": [
      "Retrying in 1 seconds...\n"
     ]
    },
    {
     "name": "stderr",
     "output_type": "stream",
     "text": [
      "Raised JSONRPCException while returning the custom response. Error message: {'code': -32602, 'message': 'Pending transaction'}\n"
     ]
    },
    {
     "name": "stdout",
     "output_type": "stream",
     "text": [
      "Retrying in 2 seconds...\n",
      "Status: 1\n",
      "\n",
      "core_contracts/dex.zip\n"
     ]
    },
    {
     "name": "stderr",
     "output_type": "stream",
     "text": [
      "Raised JSONRPCException while returning the custom response. Error message: {'code': -32602, 'message': 'Pending transaction'}\n"
     ]
    },
    {
     "name": "stdout",
     "output_type": "stream",
     "text": [
      "Retrying in 1 seconds...\n",
      "Status: 1\n",
      "\n",
      "token_contracts/bnUSD.zip\n",
      "Status: 1\n",
      "\n",
      "token_contracts/baln.zip\n",
      "Status: 1\n",
      "\n",
      "token_contracts/bwt.zip\n"
     ]
    },
    {
     "name": "stderr",
     "output_type": "stream",
     "text": [
      "Raised JSONRPCException while returning the custom response. Error message: {'code': -32602, 'message': 'Pending transaction'}\n"
     ]
    },
    {
     "name": "stdout",
     "output_type": "stream",
     "text": [
      "Retrying in 1 seconds...\n",
      "Status: 1\n",
      "\n",
      "core_contracts/staking.zip\n"
     ]
    },
    {
     "name": "stderr",
     "output_type": "stream",
     "text": [
      "Raised JSONRPCException while returning the custom response. Error message: {'code': -32602, 'message': 'Pending transaction'}\n"
     ]
    },
    {
     "name": "stdout",
     "output_type": "stream",
     "text": [
      "Retrying in 1 seconds...\n",
      "Status: 1\n",
      "\n",
      "token_contracts/sicx.zip\n",
      "Status: 1\n",
      "\n",
      "------------------------------------------------------------------------------------------------------------------\n",
      "Calling setSicxAddress, with parameters {'_address': 'cx64cf6d1b9331fbc450204bd15e0e70caa87de13b'} on the staking contract.\n",
      "------------------------------------------------------------------------------------------------------------------\n"
     ]
    },
    {
     "name": "stderr",
     "output_type": "stream",
     "text": [
      "Raised JSONRPCException while returning the custom response. Error message: {'code': -32602, 'message': 'Pending transaction'}\n"
     ]
    },
    {
     "name": "stdout",
     "output_type": "stream",
     "text": [
      "Retrying in 1 seconds...\n",
      "************************************************** Status: 1 **************************************************\n",
      "------------------------------------------------------------------------------------------------------------------\n",
      "Calling setAddresses, with parameters {'_addresses': {'loans': 'cxaaf61cfcd3d26e15c4187898cad2f978d47d3c79', 'staking': 'cx8aca86ded48f6e0409426057e47abb10551dc598', 'dividends': 'cx4c49a86387a70150eb9138ee3bcfef1b8c1f1d5b', 'reserve': 'cxd0d39546d3820becf81e6dd2bc274022bfbb4f84', 'daofund': 'cx9313589632eb642ac53f2695c70a3ec3366cd015', 'rewards': 'cx5473621f28c12fb0cdc5536ae15a81343da34633', 'dex': 'cxefe131710067e88d079212da01eb82d5af08108b', 'oracle': 'cx7171e2f5653c1b9c000e24228276b8d24e84f10d', 'sicx': 'cx64cf6d1b9331fbc450204bd15e0e70caa87de13b', 'bnUSD': 'cxea273eaa889cec261a2433f1a51807ee7085d80a', 'baln': 'cx0e19f8b37c7031d19e658fb170fadc0eb86c28c0', 'bwt': 'cx6f1f24eac1a6ed40bc01c1eb3e30a45014246123'}} on the governance contract.\n",
      "------------------------------------------------------------------------------------------------------------------\n",
      "************************************************** Status: 1 **************************************************\n",
      "------------------------------------------------------------------------------------------------------------------\n",
      "Calling launchBalanced, with parameters {} on the governance contract.\n",
      "------------------------------------------------------------------------------------------------------------------\n"
     ]
    },
    {
     "name": "stderr",
     "output_type": "stream",
     "text": [
      "Raised JSONRPCException while returning the custom response. Error message: {'code': -32602, 'message': 'Pending transaction'}\n"
     ]
    },
    {
     "name": "stdout",
     "output_type": "stream",
     "text": [
      "Retrying in 1 seconds...\n",
      "************************************************** Status: 1 **************************************************\n",
      "{'scoreAddress': 'cxaaf61cfcd3d26e15c4187898cad2f978d47d3c79', 'indexed': ['AssetAdded(Address,str,bool)', 'cx64cf6d1b9331fbc450204bd15e0e70caa87de13b', 'sICX', '0x1'], 'data': []} \n",
      "\n",
      "{'scoreAddress': 'cxaaf61cfcd3d26e15c4187898cad2f978d47d3c79', 'indexed': ['AssetAdded(Address,str,bool)', 'cxea273eaa889cec261a2433f1a51807ee7085d80a', 'bnUSD', '0x0'], 'data': []} \n",
      "\n",
      "{'scoreAddress': 'cxaaf61cfcd3d26e15c4187898cad2f978d47d3c79', 'indexed': ['AssetAdded(Address,str,bool)', 'cx0e19f8b37c7031d19e658fb170fadc0eb86c28c0', 'BALN', '0x1'], 'data': []} \n",
      "\n",
      "{'scoreAddress': 'cxaaf61cfcd3d26e15c4187898cad2f978d47d3c79', 'indexed': ['ContractActive(str,str)', 'Loans'], 'data': ['Active']} \n",
      "\n",
      "------------------------------------------------------------------------------------------------------------------\n",
      "{'loans': {'zip': 'core_contracts/loans.zip', 'SCORE': 'cxaaf61cfcd3d26e15c4187898cad2f978d47d3c79'}, 'staking': {'zip': 'core_contracts/staking.zip', 'SCORE': 'cx8aca86ded48f6e0409426057e47abb10551dc598'}, 'dividends': {'zip': 'core_contracts/dividends.zip', 'SCORE': 'cx4c49a86387a70150eb9138ee3bcfef1b8c1f1d5b'}, 'reserve': {'zip': 'core_contracts/reserve.zip', 'SCORE': 'cxd0d39546d3820becf81e6dd2bc274022bfbb4f84'}, 'daofund': {'zip': 'core_contracts/daofund.zip', 'SCORE': 'cx9313589632eb642ac53f2695c70a3ec3366cd015'}, 'rewards': {'zip': 'core_contracts/rewards.zip', 'SCORE': 'cx5473621f28c12fb0cdc5536ae15a81343da34633'}, 'dex': {'zip': 'core_contracts/dex.zip', 'SCORE': 'cxefe131710067e88d079212da01eb82d5af08108b'}, 'governance': {'zip': 'core_contracts/governance.zip', 'SCORE': 'cxd16815ea7c1bdebc67444bbe146558d708b32cb3'}, 'oracle': {'zip': 'core_contracts/oracle.zip', 'SCORE': 'cx7171e2f5653c1b9c000e24228276b8d24e84f10d'}, 'sicx': {'zip': 'token_contracts/sicx.zip', 'SCORE': 'cx64cf6d1b9331fbc450204bd15e0e70caa87de13b'}, 'bnUSD': {'zip': 'token_contracts/bnUSD.zip', 'SCORE': 'cxea273eaa889cec261a2433f1a51807ee7085d80a'}, 'baln': {'zip': 'token_contracts/baln.zip', 'SCORE': 'cx0e19f8b37c7031d19e658fb170fadc0eb86c28c0'}, 'bwt': {'zip': 'token_contracts/bwt.zip', 'SCORE': 'cx6f1f24eac1a6ed40bc01c1eb3e30a45014246123'}}\n",
      "{\"loans\": \"cxaaf61cfcd3d26e15c4187898cad2f978d47d3c79\", \"staking\": \"cx8aca86ded48f6e0409426057e47abb10551dc598\", \"dividends\": \"cx4c49a86387a70150eb9138ee3bcfef1b8c1f1d5b\", \"reserve\": \"cxd0d39546d3820becf81e6dd2bc274022bfbb4f84\", \"daofund\": \"cx9313589632eb642ac53f2695c70a3ec3366cd015\", \"rewards\": \"cx5473621f28c12fb0cdc5536ae15a81343da34633\", \"dex\": \"cxefe131710067e88d079212da01eb82d5af08108b\", \"governance\": \"cxd16815ea7c1bdebc67444bbe146558d708b32cb3\", \"oracle\": \"cx7171e2f5653c1b9c000e24228276b8d24e84f10d\", \"sicx\": \"cx64cf6d1b9331fbc450204bd15e0e70caa87de13b\", \"bnUSD\": \"cxea273eaa889cec261a2433f1a51807ee7085d80a\", \"baln\": \"cx0e19f8b37c7031d19e658fb170fadc0eb86c28c0\", \"bwt\": \"cx6f1f24eac1a6ed40bc01c1eb3e30a45014246123\"}\n"
     ]
    }
   ],
   "source": [
    "# Cell 7\n",
    "# Deploy and configure Balanced. Print results if anything goes wrong.\n",
    "\n",
    "results = {}\n",
    "deploy_all(btest_wallet)\n",
    "print('------------------------------------------------------------------------------------------------------------------')\n",
    "print(contracts)\n",
    "print(get_scores_json(contracts))"
   ]
  },
  {
   "cell_type": "code",
   "execution_count": 20,
   "metadata": {},
   "outputs": [
    {
     "name": "stdout",
     "output_type": "stream",
     "text": [
      "core_contracts/loans.zip\n"
     ]
    },
    {
     "name": "stderr",
     "output_type": "stream",
     "text": [
      "Raised JSONRPCException while returning the custom response. Error message: {'code': -32602, 'message': 'Pending transaction'}\n"
     ]
    },
    {
     "name": "stdout",
     "output_type": "stream",
     "text": [
      "Retrying in 1 seconds...\n",
      "Status: 1\n",
      "\n"
     ]
    },
    {
     "data": {
      "text/plain": [
       "'cx6904d0524b67dfa9937963c348afaa866f0042b6'"
      ]
     },
     "execution_count": 20,
     "metadata": {},
     "output_type": "execute_result"
    }
   ],
   "source": [
    "# Cell 8\n",
    "# Deploy or Update a single SCORE\n",
    "\n",
    "compress()\n",
    "update = 0\n",
    "contract = contracts['loans']\n",
    "params = {}\n",
    "params = {'_governance': contracts['governance']['SCORE']}\n",
    "deploy_SCORE(contract, params, btest_wallet, update)"
   ]
  },
  {
   "cell_type": "markdown",
   "metadata": {},
   "source": [
    "Test Liquidation"
   ]
  },
  {
   "cell_type": "code",
   "execution_count": 24,
   "metadata": {},
   "outputs": [
    {
     "name": "stdout",
     "output_type": "stream",
     "text": [
      "liquidating btest_wallet account by depositing 782icx collateral and minting 1000 bnusd loan\n",
      "------------------------------------------------------------------------------------------------------------------\n",
      "Calling addCollateral, with parameters {'_asset': '', '_amount': 0} on the loans contract.\n",
      "------------------------------------------------------------------------------------------------------------------\n"
     ]
    },
    {
     "name": "stderr",
     "output_type": "stream",
     "text": [
      "Raised JSONRPCException while returning the custom response. Error message: {'code': -32602, 'message': 'Pending transaction'}\n"
     ]
    },
    {
     "name": "stdout",
     "output_type": "stream",
     "text": [
      "Retrying in 1 seconds...\n",
      "************************************************** Status: 1 **************************************************\n",
      "{'scoreAddress': 'cxaaf61cfcd3d26e15c4187898cad2f978d47d3c79', 'indexed': ['ICXTransfer(Address,Address,int)', 'cxaaf61cfcd3d26e15c4187898cad2f978d47d3c79', 'cx8aca86ded48f6e0409426057e47abb10551dc598', '0x2a6f1a22364bbe8000'], 'data': []} \n",
      "\n",
      "{'scoreAddress': 'cx64cf6d1b9331fbc450204bd15e0e70caa87de13b', 'indexed': ['Mint(Address,int,bytes)', 'cxaaf61cfcd3d26e15c4187898cad2f978d47d3c79'], 'data': ['0x2a6f1a22364bbe8000', '0x7b226d6574686f64223a225f6465706f7369745f616e645f626f72726f77222c22706172616d73223a7b225f73656e646572223a22687833663031383430613539396461303762306636323065656165376161396335373431363961346265222c225f6173736574223a22222c225f616d6f756e74223a307d7d']} \n",
      "\n",
      "{'scoreAddress': 'cx64cf6d1b9331fbc450204bd15e0e70caa87de13b', 'indexed': ['Transfer(Address,Address,int,bytes)', 'hx0000000000000000000000000000000000000000', 'cxaaf61cfcd3d26e15c4187898cad2f978d47d3c79', '0x2a6f1a22364bbe8000'], 'data': ['0x7b226d6574686f64223a225f6465706f7369745f616e645f626f72726f77222c22706172616d73223a7b225f73656e646572223a22687833663031383430613539396461303762306636323065656165376161396335373431363961346265222c225f6173736574223a22222c225f616d6f756e74223a307d7d']} \n",
      "\n",
      "{'scoreAddress': 'cxea273eaa889cec261a2433f1a51807ee7085d80a', 'indexed': ['OraclePrice(str,str,Address,int)', 'USDICX', 'BandChain', 'cx7171e2f5653c1b9c000e24228276b8d24e84f10d'], 'data': ['0x84c5d90848544bb']} \n",
      "\n",
      "{'scoreAddress': 'cxaaf61cfcd3d26e15c4187898cad2f978d47d3c79', 'indexed': ['Snapshot(int)', '0x2'], 'data': []} \n",
      "\n",
      "{'scoreAddress': 'cxaaf61cfcd3d26e15c4187898cad2f978d47d3c79', 'indexed': ['CollateralReceived(Address,str)', 'hx3f01840a599da07b0f620eeae7aa9c574169a4be', 'sICX'], 'data': []} \n",
      "\n",
      "{'scoreAddress': 'cx8aca86ded48f6e0409426057e47abb10551dc598', 'indexed': ['TokenTransfer(Address,int,str)', 'cxaaf61cfcd3d26e15c4187898cad2f978d47d3c79', '0x2a6f1a22364bbe8000'], 'data': ['782.769 sICX minted to cxaaf61cfcd3d26e15c4187898cad2f978d47d3c79']} \n",
      "\n",
      "------------------------------------------------------------------------------------------------------------------\n",
      "Reading getAccountPositions, with parameters {'_owner': 'hx3f01840a599da07b0f620eeae7aa9c574169a4be'} on the loans contract.\n",
      "------------------------------------------------------------------------------------------------------------------\n",
      "{'pos_id': '0x1', 'created': '0x5bebe46412e4b', 'address': 'hx3f01840a599da07b0f620eeae7aa9c574169a4be', 'snap_id': '0x2', 'snaps_length': '0x2', 'last_snap': '0x2', 'first day': '0x1', 'assets': {'sICX': '0x2a6f1a22364bbe8000'}, 'replay_index': '0x0', 'events_behind': '0x0', 'total_debt': '0x0', 'ratio': '0x0', 'standing': 'No Debt'}\n",
      "------------------------------------------------------------------------------------------------------------------\n",
      "Calling create_test_position, with parameters {'_address': 'hx3f01840a599da07b0f620eeae7aa9c574169a4be', '_asset': 'bnUSD', '_amount': 1000000000000000000000} on the loans contract.\n",
      "------------------------------------------------------------------------------------------------------------------\n"
     ]
    },
    {
     "name": "stderr",
     "output_type": "stream",
     "text": [
      "Raised JSONRPCException while returning the custom response. Error message: {'code': -32602, 'message': 'Pending transaction'}\n"
     ]
    },
    {
     "name": "stdout",
     "output_type": "stream",
     "text": [
      "Retrying in 1 seconds...\n",
      "************************************************** Status: 1 **************************************************\n",
      "{'scoreAddress': 'cxaaf61cfcd3d26e15c4187898cad2f978d47d3c79', 'indexed': ['ICXTransfer(Address,Address,int)', 'cxaaf61cfcd3d26e15c4187898cad2f978d47d3c79', 'cx8aca86ded48f6e0409426057e47abb10551dc598', '0x258'], 'data': []} \n",
      "\n",
      "{'scoreAddress': 'cx64cf6d1b9331fbc450204bd15e0e70caa87de13b', 'indexed': ['Mint(Address,int,bytes)', 'cxaaf61cfcd3d26e15c4187898cad2f978d47d3c79'], 'data': ['0x258', '0x7b226d6574686f64223a225f6465706f7369745f616e645f626f72726f77222c22706172616d73223a7b225f73656e646572223a22687833663031383430613539396461303762306636323065656165376161396335373431363961346265222c225f6173736574223a22222c225f616d6f756e74223a307d7d']} \n",
      "\n",
      "{'scoreAddress': 'cx64cf6d1b9331fbc450204bd15e0e70caa87de13b', 'indexed': ['Transfer(Address,Address,int,bytes)', 'hx0000000000000000000000000000000000000000', 'cxaaf61cfcd3d26e15c4187898cad2f978d47d3c79', '0x258'], 'data': ['0x7b226d6574686f64223a225f6465706f7369745f616e645f626f72726f77222c22706172616d73223a7b225f73656e646572223a22687833663031383430613539396461303762306636323065656165376161396335373431363961346265222c225f6173736574223a22222c225f616d6f756e74223a307d7d']} \n",
      "\n",
      "{'scoreAddress': 'cx0e19f8b37c7031d19e658fb170fadc0eb86c28c0', 'indexed': ['Mint(Address,int,bytes)', 'cx5473621f28c12fb0cdc5536ae15a81343da34633'], 'data': ['0x152d02c7e14af6800000', '0x4e6f6e65']} \n",
      "\n",
      "{'scoreAddress': 'cx0e19f8b37c7031d19e658fb170fadc0eb86c28c0', 'indexed': ['Transfer(Address,Address,int,bytes)', 'hx0000000000000000000000000000000000000000', 'cx5473621f28c12fb0cdc5536ae15a81343da34633', '0x152d02c7e14af6800000'], 'data': ['0x4e6f6e65']} \n",
      "\n",
      "{'scoreAddress': 'cx0e19f8b37c7031d19e658fb170fadc0eb86c28c0', 'indexed': ['Transfer(Address,Address,int,bytes)', 'cx5473621f28c12fb0cdc5536ae15a81343da34633', 'cx6f1f24eac1a6ed40bc01c1eb3e30a45014246123', '0x43c33c1937564800000'], 'data': ['0x4e6f6e65']} \n",
      "\n",
      "{'scoreAddress': 'cx0e19f8b37c7031d19e658fb170fadc0eb86c28c0', 'indexed': ['Transfer(Address,Address,int,bytes)', 'cx5473621f28c12fb0cdc5536ae15a81343da34633', 'cxd0d39546d3820becf81e6dd2bc274022bfbb4f84', '0x10f0cf064dd59200000'], 'data': ['0x4e6f6e65']} \n",
      "\n",
      "{'scoreAddress': 'cx0e19f8b37c7031d19e658fb170fadc0eb86c28c0', 'indexed': ['Transfer(Address,Address,int,bytes)', 'cx5473621f28c12fb0cdc5536ae15a81343da34633', 'cx9313589632eb642ac53f2695c70a3ec3366cd015', '0x4c3ba39c5e411100000'], 'data': ['0x4e6f6e65']} \n",
      "\n",
      "{'scoreAddress': 'cxaaf61cfcd3d26e15c4187898cad2f978d47d3c79', 'indexed': ['CollateralReceived(Address,str)', 'hx3f01840a599da07b0f620eeae7aa9c574169a4be', 'sICX'], 'data': []} \n",
      "\n",
      "{'scoreAddress': 'cx8aca86ded48f6e0409426057e47abb10551dc598', 'indexed': ['TokenTransfer(Address,int,str)', 'cxaaf61cfcd3d26e15c4187898cad2f978d47d3c79', '0x258'], 'data': ['6e-16 sICX minted to cxaaf61cfcd3d26e15c4187898cad2f978d47d3c79']} \n",
      "\n",
      "{'scoreAddress': 'cxea273eaa889cec261a2433f1a51807ee7085d80a', 'indexed': ['Mint(Address,int,bytes)', 'hx3f01840a599da07b0f620eeae7aa9c574169a4be'], 'data': ['0x3635c9adc5dea00000', '0x4e6f6e65']} \n",
      "\n",
      "{'scoreAddress': 'cxea273eaa889cec261a2433f1a51807ee7085d80a', 'indexed': ['Transfer(Address,Address,int,bytes)', 'hx0000000000000000000000000000000000000000', 'hx3f01840a599da07b0f620eeae7aa9c574169a4be', '0x3635c9adc5dea00000'], 'data': ['0x4e6f6e65']} \n",
      "\n",
      "------------------------------------------------------------------------------------------------------------------\n",
      "Reading getAccountPositions, with parameters {'_owner': 'hx3f01840a599da07b0f620eeae7aa9c574169a4be'} on the loans contract.\n",
      "------------------------------------------------------------------------------------------------------------------\n",
      "{'pos_id': '0x1', 'created': '0x5bebe46412e4b', 'address': 'hx3f01840a599da07b0f620eeae7aa9c574169a4be', 'snap_id': '0x2', 'snaps_length': '0x2', 'last_snap': '0x2', 'first day': '0x1', 'assets': {'sICX': '0x2a6f1a22364bbe8258', 'bnUSD': '0x3635c9adc5dea00000'}, 'replay_index': '0x0', 'events_behind': '0x0', 'total_debt': '0x0', 'ratio': '0x122ac4f0fbdd3f40', 'standing': 'Liquidate'}\n",
      "------------------------------------------------------------------------------------------------------------------\n",
      "Reading getAccountPositions, with parameters {'_owner': 'hx3f01840a599da07b0f620eeae7aa9c574169a4be'} on the loans contract.\n",
      "------------------------------------------------------------------------------------------------------------------\n",
      "{'pos_id': '0x1', 'created': '0x5bebe46412e4b', 'address': 'hx3f01840a599da07b0f620eeae7aa9c574169a4be', 'snap_id': '0x2', 'snaps_length': '0x2', 'last_snap': '0x2', 'first day': '0x1', 'assets': {'sICX': '0x2a6f1a22364bbe8258', 'bnUSD': '0x3635c9adc5dea00000'}, 'replay_index': '0x0', 'events_behind': '0x0', 'total_debt': '0x0', 'ratio': '0x122ac4f0fbdd3f40', 'standing': 'Liquidate'}\n",
      "------------------------------------------------------------------------------------------------------------------\n",
      "Calling liquidate, with parameters {'_owner': 'hx3f01840a599da07b0f620eeae7aa9c574169a4be'} on the loans contract.\n",
      "------------------------------------------------------------------------------------------------------------------\n"
     ]
    },
    {
     "name": "stderr",
     "output_type": "stream",
     "text": [
      "Raised JSONRPCException while returning the custom response. Error message: {'code': -32602, 'message': 'Pending transaction'}\n"
     ]
    },
    {
     "name": "stdout",
     "output_type": "stream",
     "text": [
      "Retrying in 1 seconds...\n",
      "************************************************** Status: 1 **************************************************\n",
      "{'scoreAddress': 'cxaaf61cfcd3d26e15c4187898cad2f978d47d3c79', 'indexed': ['PositionStanding(Address,str,str,str)', 'hx3f01840a599da07b0f620eeae7aa9c574169a4be', 'Liquidate'], 'data': ['1.3090751810013264', 'Position up to date.']} \n",
      "\n",
      "{'scoreAddress': 'cx64cf6d1b9331fbc450204bd15e0e70caa87de13b', 'indexed': ['Transfer(Address,Address,int,bytes)', 'cxaaf61cfcd3d26e15c4187898cad2f978d47d3c79', 'hx3f01840a599da07b0f620eeae7aa9c574169a4be', '0x48c86487af753804'], 'data': ['0x4e6f6e65']} \n",
      "\n",
      "{'scoreAddress': 'cxaaf61cfcd3d26e15c4187898cad2f978d47d3c79', 'indexed': ['TokenTransfer(Address,int,str)', 'hx3f01840a599da07b0f620eeae7aa9c574169a4be', '0x48c86487af753804'], 'data': ['Liquidation reward of 5244552300000000004 sICX sent to hx3f01840a599da07b0f620eeae7aa9c574169a4be.']} \n",
      "\n",
      "{'scoreAddress': 'cxaaf61cfcd3d26e15c4187898cad2f978d47d3c79', 'indexed': ['Liquidate(Address,int,str)', 'hx3f01840a599da07b0f620eeae7aa9c574169a4be', '0x2a6f1a22364bbe8258'], 'data': ['782769000000000000600 liquidated from hx3f01840a599da07b0f620eeae7aa9c574169a4be']} \n",
      "\n",
      "------------------------------------------------------------------------------------------------------------------\n",
      "Reading getAccountPositions, with parameters {'_owner': 'hx3f01840a599da07b0f620eeae7aa9c574169a4be'} on the loans contract.\n",
      "------------------------------------------------------------------------------------------------------------------\n",
      "{'pos_id': '0x1', 'created': '0x5bebe46412e4b', 'address': 'hx3f01840a599da07b0f620eeae7aa9c574169a4be', 'snap_id': '0x2', 'snaps_length': '0x2', 'last_snap': '0x2', 'first day': '0x1', 'assets': {'sICX': '0x0'}, 'replay_index': '0x0', 'events_behind': '0x0', 'total_debt': '0x0', 'ratio': '0x0', 'standing': 'Zero'}\n",
      "Test Successfull\n",
      "liquidating btest_wallet account by depositing 782icx collateral and minting 500 bnusd loan\n",
      "------------------------------------------------------------------------------------------------------------------\n",
      "Calling addCollateral, with parameters {'_asset': '', '_amount': 0} on the loans contract.\n",
      "------------------------------------------------------------------------------------------------------------------\n",
      "************************************************** Status: 1 **************************************************\n",
      "{'scoreAddress': 'cxaaf61cfcd3d26e15c4187898cad2f978d47d3c79', 'indexed': ['ICXTransfer(Address,Address,int)', 'cxaaf61cfcd3d26e15c4187898cad2f978d47d3c79', 'cx8aca86ded48f6e0409426057e47abb10551dc598', '0x2a6f1a22364bbe8000'], 'data': []} \n",
      "\n",
      "{'scoreAddress': 'cx64cf6d1b9331fbc450204bd15e0e70caa87de13b', 'indexed': ['Mint(Address,int,bytes)', 'cxaaf61cfcd3d26e15c4187898cad2f978d47d3c79'], 'data': ['0x2a6f1a22364bbe8000', '0x7b226d6574686f64223a225f6465706f7369745f616e645f626f72726f77222c22706172616d73223a7b225f73656e646572223a22687833663031383430613539396461303762306636323065656165376161396335373431363961346265222c225f6173736574223a22222c225f616d6f756e74223a307d7d']} \n",
      "\n",
      "{'scoreAddress': 'cx64cf6d1b9331fbc450204bd15e0e70caa87de13b', 'indexed': ['Transfer(Address,Address,int,bytes)', 'hx0000000000000000000000000000000000000000', 'cxaaf61cfcd3d26e15c4187898cad2f978d47d3c79', '0x2a6f1a22364bbe8000'], 'data': ['0x7b226d6574686f64223a225f6465706f7369745f616e645f626f72726f77222c22706172616d73223a7b225f73656e646572223a22687833663031383430613539396461303762306636323065656165376161396335373431363961346265222c225f6173736574223a22222c225f616d6f756e74223a307d7d']} \n",
      "\n",
      "{'scoreAddress': 'cxaaf61cfcd3d26e15c4187898cad2f978d47d3c79', 'indexed': ['CollateralReceived(Address,str)', 'hx3f01840a599da07b0f620eeae7aa9c574169a4be', 'sICX'], 'data': []} \n",
      "\n",
      "{'scoreAddress': 'cx8aca86ded48f6e0409426057e47abb10551dc598', 'indexed': ['TokenTransfer(Address,int,str)', 'cxaaf61cfcd3d26e15c4187898cad2f978d47d3c79', '0x2a6f1a22364bbe8000'], 'data': ['782.769 sICX minted to cxaaf61cfcd3d26e15c4187898cad2f978d47d3c79']} \n",
      "\n",
      "------------------------------------------------------------------------------------------------------------------\n",
      "Reading getAccountPositions, with parameters {'_owner': 'hx3f01840a599da07b0f620eeae7aa9c574169a4be'} on the loans contract.\n",
      "------------------------------------------------------------------------------------------------------------------\n",
      "{'pos_id': '0x1', 'created': '0x5bebe46412e4b', 'address': 'hx3f01840a599da07b0f620eeae7aa9c574169a4be', 'snap_id': '0x2', 'snaps_length': '0x2', 'last_snap': '0x2', 'first day': '0x1', 'assets': {'sICX': '0x2a6f1a22364bbe8000'}, 'replay_index': '0x0', 'events_behind': '0x0', 'total_debt': '0x0', 'ratio': '0x0', 'standing': 'No Debt'}\n",
      "------------------------------------------------------------------------------------------------------------------\n",
      "Calling create_test_position, with parameters {'_address': 'hx3f01840a599da07b0f620eeae7aa9c574169a4be', '_asset': 'bnUSD', '_amount': 500000000000000000000} on the loans contract.\n",
      "------------------------------------------------------------------------------------------------------------------\n",
      "************************************************** Status: 1 **************************************************\n",
      "{'scoreAddress': 'cxaaf61cfcd3d26e15c4187898cad2f978d47d3c79', 'indexed': ['ICXTransfer(Address,Address,int)', 'cxaaf61cfcd3d26e15c4187898cad2f978d47d3c79', 'cx8aca86ded48f6e0409426057e47abb10551dc598', '0x258'], 'data': []} \n",
      "\n",
      "{'scoreAddress': 'cx64cf6d1b9331fbc450204bd15e0e70caa87de13b', 'indexed': ['Mint(Address,int,bytes)', 'cxaaf61cfcd3d26e15c4187898cad2f978d47d3c79'], 'data': ['0x258', '0x7b226d6574686f64223a225f6465706f7369745f616e645f626f72726f77222c22706172616d73223a7b225f73656e646572223a22687833663031383430613539396461303762306636323065656165376161396335373431363961346265222c225f6173736574223a22222c225f616d6f756e74223a307d7d']} \n",
      "\n",
      "{'scoreAddress': 'cx64cf6d1b9331fbc450204bd15e0e70caa87de13b', 'indexed': ['Transfer(Address,Address,int,bytes)', 'hx0000000000000000000000000000000000000000', 'cxaaf61cfcd3d26e15c4187898cad2f978d47d3c79', '0x258'], 'data': ['0x7b226d6574686f64223a225f6465706f7369745f616e645f626f72726f77222c22706172616d73223a7b225f73656e646572223a22687833663031383430613539396461303762306636323065656165376161396335373431363961346265222c225f6173736574223a22222c225f616d6f756e74223a307d7d']} \n",
      "\n",
      "{'scoreAddress': 'cxaaf61cfcd3d26e15c4187898cad2f978d47d3c79', 'indexed': ['CollateralReceived(Address,str)', 'hx3f01840a599da07b0f620eeae7aa9c574169a4be', 'sICX'], 'data': []} \n",
      "\n",
      "{'scoreAddress': 'cx8aca86ded48f6e0409426057e47abb10551dc598', 'indexed': ['TokenTransfer(Address,int,str)', 'cxaaf61cfcd3d26e15c4187898cad2f978d47d3c79', '0x258'], 'data': ['6e-16 sICX minted to cxaaf61cfcd3d26e15c4187898cad2f978d47d3c79']} \n",
      "\n",
      "{'scoreAddress': 'cxea273eaa889cec261a2433f1a51807ee7085d80a', 'indexed': ['Mint(Address,int,bytes)', 'hx3f01840a599da07b0f620eeae7aa9c574169a4be'], 'data': ['0x1b1ae4d6e2ef500000', '0x4e6f6e65']} \n",
      "\n",
      "{'scoreAddress': 'cxea273eaa889cec261a2433f1a51807ee7085d80a', 'indexed': ['Transfer(Address,Address,int,bytes)', 'hx0000000000000000000000000000000000000000', 'hx3f01840a599da07b0f620eeae7aa9c574169a4be', '0x1b1ae4d6e2ef500000'], 'data': ['0x4e6f6e65']} \n",
      "\n",
      "------------------------------------------------------------------------------------------------------------------\n",
      "Reading getAccountPositions, with parameters {'_owner': 'hx3f01840a599da07b0f620eeae7aa9c574169a4be'} on the loans contract.\n",
      "------------------------------------------------------------------------------------------------------------------\n",
      "{'pos_id': '0x1', 'created': '0x5bebe46412e4b', 'address': 'hx3f01840a599da07b0f620eeae7aa9c574169a4be', 'snap_id': '0x2', 'snaps_length': '0x2', 'last_snap': '0x2', 'first day': '0x1', 'assets': {'sICX': '0x2a6f1a22364bbe8258', 'bnUSD': '0x1b1ae4d6e2ef500000'}, 'replay_index': '0x0', 'events_behind': '0x0', 'total_debt': '0x0', 'ratio': '0x245589e1f7ba7e81', 'standing': 'Locked'}\n",
      ".....Calling create_test_position 2nd time......\n",
      "------------------------------------------------------------------------------------------------------------------\n",
      "Calling create_test_position, with parameters {'_address': 'hx3f01840a599da07b0f620eeae7aa9c574169a4be', '_asset': 'bnUSD', '_amount': 500000000000000000000} on the loans contract.\n",
      "------------------------------------------------------------------------------------------------------------------\n"
     ]
    },
    {
     "name": "stderr",
     "output_type": "stream",
     "text": [
      "Raised JSONRPCException while returning the custom response. Error message: {'code': -32602, 'message': 'Pending transaction'}\n"
     ]
    },
    {
     "name": "stdout",
     "output_type": "stream",
     "text": [
      "Retrying in 1 seconds...\n",
      "************************************************** Status: 1 **************************************************\n",
      "{'scoreAddress': 'cxaaf61cfcd3d26e15c4187898cad2f978d47d3c79', 'indexed': ['ICXTransfer(Address,Address,int)', 'cxaaf61cfcd3d26e15c4187898cad2f978d47d3c79', 'cx8aca86ded48f6e0409426057e47abb10551dc598', '0x258'], 'data': []} \n",
      "\n",
      "{'scoreAddress': 'cx64cf6d1b9331fbc450204bd15e0e70caa87de13b', 'indexed': ['Mint(Address,int,bytes)', 'cxaaf61cfcd3d26e15c4187898cad2f978d47d3c79'], 'data': ['0x258', '0x7b226d6574686f64223a225f6465706f7369745f616e645f626f72726f77222c22706172616d73223a7b225f73656e646572223a22687833663031383430613539396461303762306636323065656165376161396335373431363961346265222c225f6173736574223a22222c225f616d6f756e74223a307d7d']} \n",
      "\n",
      "{'scoreAddress': 'cx64cf6d1b9331fbc450204bd15e0e70caa87de13b', 'indexed': ['Transfer(Address,Address,int,bytes)', 'hx0000000000000000000000000000000000000000', 'cxaaf61cfcd3d26e15c4187898cad2f978d47d3c79', '0x258'], 'data': ['0x7b226d6574686f64223a225f6465706f7369745f616e645f626f72726f77222c22706172616d73223a7b225f73656e646572223a22687833663031383430613539396461303762306636323065656165376161396335373431363961346265222c225f6173736574223a22222c225f616d6f756e74223a307d7d']} \n",
      "\n",
      "{'scoreAddress': 'cxaaf61cfcd3d26e15c4187898cad2f978d47d3c79', 'indexed': ['CollateralReceived(Address,str)', 'hx3f01840a599da07b0f620eeae7aa9c574169a4be', 'sICX'], 'data': []} \n",
      "\n",
      "{'scoreAddress': 'cx8aca86ded48f6e0409426057e47abb10551dc598', 'indexed': ['TokenTransfer(Address,int,str)', 'cxaaf61cfcd3d26e15c4187898cad2f978d47d3c79', '0x258'], 'data': ['6e-16 sICX minted to cxaaf61cfcd3d26e15c4187898cad2f978d47d3c79']} \n",
      "\n",
      "{'scoreAddress': 'cxea273eaa889cec261a2433f1a51807ee7085d80a', 'indexed': ['Mint(Address,int,bytes)', 'hx3f01840a599da07b0f620eeae7aa9c574169a4be'], 'data': ['0x1b1ae4d6e2ef500000', '0x4e6f6e65']} \n",
      "\n",
      "{'scoreAddress': 'cxea273eaa889cec261a2433f1a51807ee7085d80a', 'indexed': ['Transfer(Address,Address,int,bytes)', 'hx0000000000000000000000000000000000000000', 'hx3f01840a599da07b0f620eeae7aa9c574169a4be', '0x1b1ae4d6e2ef500000'], 'data': ['0x4e6f6e65']} \n",
      "\n",
      "------------------------------------------------------------------------------------------------------------------\n",
      "Reading getAccountPositions, with parameters {'_owner': 'hx3f01840a599da07b0f620eeae7aa9c574169a4be'} on the loans contract.\n",
      "------------------------------------------------------------------------------------------------------------------\n",
      "{'pos_id': '0x1', 'created': '0x5bebe46412e4b', 'address': 'hx3f01840a599da07b0f620eeae7aa9c574169a4be', 'snap_id': '0x2', 'snaps_length': '0x2', 'last_snap': '0x2', 'first day': '0x1', 'assets': {'sICX': '0x2a6f1a22364bbe84b0', 'bnUSD': '0x3635c9adc5dea00000'}, 'replay_index': '0x0', 'events_behind': '0x0', 'total_debt': '0x0', 'ratio': '0x122ac4f0fbdd3f41', 'standing': 'Liquidate'}\n",
      "------------------------------------------------------------------------------------------------------------------\n",
      "Calling liquidate, with parameters {'_owner': 'hx3f01840a599da07b0f620eeae7aa9c574169a4be'} on the loans contract.\n",
      "------------------------------------------------------------------------------------------------------------------\n"
     ]
    },
    {
     "name": "stderr",
     "output_type": "stream",
     "text": [
      "Raised JSONRPCException while returning the custom response. Error message: {'code': -32602, 'message': 'Pending transaction'}\n"
     ]
    },
    {
     "name": "stdout",
     "output_type": "stream",
     "text": [
      "Retrying in 1 seconds...\n",
      "************************************************** Status: 1 **************************************************\n",
      "{'scoreAddress': 'cxaaf61cfcd3d26e15c4187898cad2f978d47d3c79', 'indexed': ['PositionStanding(Address,str,str,str)', 'hx3f01840a599da07b0f620eeae7aa9c574169a4be', 'Liquidate'], 'data': ['1.3090751810013264', 'Position up to date.']} \n",
      "\n",
      "{'scoreAddress': 'cx64cf6d1b9331fbc450204bd15e0e70caa87de13b', 'indexed': ['Transfer(Address,Address,int,bytes)', 'cxaaf61cfcd3d26e15c4187898cad2f978d47d3c79', 'hx3f01840a599da07b0f620eeae7aa9c574169a4be', '0x48c86487af753808'], 'data': ['0x4e6f6e65']} \n",
      "\n",
      "{'scoreAddress': 'cxaaf61cfcd3d26e15c4187898cad2f978d47d3c79', 'indexed': ['TokenTransfer(Address,int,str)', 'hx3f01840a599da07b0f620eeae7aa9c574169a4be', '0x48c86487af753808'], 'data': ['Liquidation reward of 5244552300000000008 sICX sent to hx3f01840a599da07b0f620eeae7aa9c574169a4be.']} \n",
      "\n",
      "{'scoreAddress': 'cxaaf61cfcd3d26e15c4187898cad2f978d47d3c79', 'indexed': ['Liquidate(Address,int,str)', 'hx3f01840a599da07b0f620eeae7aa9c574169a4be', '0x2a6f1a22364bbe84b0'], 'data': ['782769000000000001200 liquidated from hx3f01840a599da07b0f620eeae7aa9c574169a4be']} \n",
      "\n",
      "------------------------------------------------------------------------------------------------------------------\n",
      "Reading getAccountPositions, with parameters {'_owner': 'hx3f01840a599da07b0f620eeae7aa9c574169a4be'} on the loans contract.\n",
      "------------------------------------------------------------------------------------------------------------------\n",
      "{'pos_id': '0x1', 'created': '0x5bebe46412e4b', 'address': 'hx3f01840a599da07b0f620eeae7aa9c574169a4be', 'snap_id': '0x2', 'snaps_length': '0x2', 'last_snap': '0x2', 'first day': '0x1', 'assets': {'sICX': '0x0'}, 'replay_index': '0x0', 'events_behind': '0x0', 'total_debt': '0x0', 'ratio': '0x0', 'standing': 'Zero'}\n",
      "Test Successfull\n"
     ]
    }
   ],
   "source": [
    "# Cell 10\n",
    "# 1. Deposit collateral to fresh wallet\n",
    "# 2. Once Call toggleTestMode to on test mode \n",
    "# 3. Check the account standing after depositing collateral - Should be 'No Debt', and\n",
    "#    holding '0x2a6f1a22364bbe8000' worth of sICX.\n",
    "# 3a. Mints bnUSD to the test address without checking collateralization ratio\n",
    "#     With the above collateral deposit it will put the position in a standing of Liquidation.\n",
    "# 4. Check the new standing of the account. Should have added '0xad78ebc5ac6200000' bnUSD and have standing of 'Liquidate'.\n",
    "#    if not 'Liquidate' then again call 'create_test_position' method\n",
    "# 5. Call liquidate method \n",
    "# 6. Check account position , if the account standing is 'Zero' ,the account is liquidated and test successfull\n",
    "\n",
    "test_cases = {\n",
    "        \"stories\":[{\n",
    "            \"description\": \"liquidating btest_wallet account by depositing 782icx collateral and minting 1000 bnusd loan\",\n",
    "            \"actions\":{\n",
    "                \"deposited_icx\": 782769 * ICX // 1000,\n",
    "                \"test_icx\": 600,\n",
    "                \"test_bnUSD\": 1000 * ICX\n",
    "            }\n",
    "        },\n",
    "        {\n",
    "           \"description\": \"liquidating btest_wallet account by depositing 782icx collateral and minting 500 bnusd loan\",\n",
    "            \"actions\":{\n",
    "                \"deposited_icx\": 782769 * ICX // 1000,\n",
    "                \"test_icx\": 600,\n",
    "                \"test_bnUSD\": 500 * ICX\n",
    "            } \n",
    "        }\n",
    "    ]\n",
    "}\n",
    "\n",
    "for case in test_cases['stories']:\n",
    "    print(case['description'])\n",
    "    \n",
    "    _icx = case['actions']['deposited_icx']\n",
    "    _test_icx = case['actions']['test_icx']\n",
    "    _test_bnUSD = case['actions']['test_bnUSD']\n",
    "\n",
    "    \n",
    "    send_tx('loans', _icx, 'addCollateral', {'_asset': '', '_amount': 0}, btest_wallet)\n",
    "\n",
    "    # send_tx('loans', 0, 'toggleTestMode', {}, btest_wallet)\n",
    "\n",
    "    res = call_tx('loans', 'getAccountPositions', {'_owner': btest_wallet.get_address()})\n",
    "    if res['standing'] == 'No Debt' and res['assets']['sICX'] == '0x2a6f1a22364bbe8000':\n",
    "        send_tx('loans', _test_icx, 'create_test_position', {'_address': btest_wallet.get_address(), '_asset': 'bnUSD', '_amount': _test_bnUSD}, btest_wallet)\n",
    "\n",
    "    res = call_tx('loans', 'getAccountPositions', {'_owner': btest_wallet.get_address()})\n",
    "    if res['standing'] != 'Liquidate':\n",
    "        print('.....Calling create_test_position 2nd time......')\n",
    "        send_tx('loans', _test_icx, 'create_test_position', {'_address': btest_wallet.get_address(), '_asset': 'bnUSD', '_amount': _test_bnUSD}, btest_wallet)\n",
    "\n",
    "    res = call_tx('loans', 'getAccountPositions', {'_owner': btest_wallet.get_address()})\n",
    "    if res['standing'] == 'Liquidate':\n",
    "        send_tx('loans', 0, 'liquidate', {'_owner': btest_wallet.get_address()}, btest_wallet)\n",
    "\n",
    "\n",
    "    res = call_tx('loans', 'getAccountPositions', {'_owner': btest_wallet.get_address()})\n",
    "    if res['standing'] == 'Zero':\n",
    "        print(\"Test Successfull\")\n",
    "        print('............................................')\n",
    "\n"
   ]
  },
  {
   "cell_type": "code",
   "execution_count": null,
   "metadata": {},
   "outputs": [],
   "source": []
  }
 ],
 "metadata": {
  "kernelspec": {
   "display_name": "Python 3",
   "language": "python",
   "name": "python3"
  },
  "language_info": {
   "codemirror_mode": {
    "name": "ipython",
    "version": 3
   },
   "file_extension": ".py",
   "mimetype": "text/x-python",
   "name": "python",
   "nbconvert_exporter": "python",
   "pygments_lexer": "ipython3",
   "version": "3.7.6"
  }
 },
 "nbformat": 4,
 "nbformat_minor": 4
}
