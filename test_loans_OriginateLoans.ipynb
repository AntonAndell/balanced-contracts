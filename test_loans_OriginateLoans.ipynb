{
 "cells": [
  {
   "cell_type": "code",
   "execution_count": 11,
   "metadata": {},
   "outputs": [],
   "source": [
    "# Cell 0\n",
    "\n",
    "network = \"custom\"  # set this to one of mainnet, yeouido, euljiro, pagoda, or custom\n",
    "\n",
    "connections = {\n",
    "\"mainnet\": {\"iconservice\": \"https://ctz.solidwallet.io\",       \"nid\": 1},\n",
    "\"yeouido\": {\"iconservice\": \"https://bicon.net.solidwallet.io\", \"nid\": 3},\n",
    "\"euljiro\": {\"iconservice\": \"https://test-ctz.solidwallet.io\",  \"nid\": 2},\n",
    "\"pagoda\":  {\"iconservice\": \"https://zicon.net.solidwallet.io\", \"nid\":80},\n",
    "\"custom\":  {\"iconservice\": \"http://18.144.108.38:9000\",        \"nid\": 3}}\n",
    "\n",
    "env = connections[network]"
   ]
  },
  {
   "cell_type": "code",
   "execution_count": 12,
   "metadata": {},
   "outputs": [],
   "source": [
    "# Cell 1\n",
    "\n",
    "from iconsdk.exception import JSONRPCException\n",
    "from iconsdk.libs.in_memory_zip import gen_deploy_data_content\n",
    "from iconsdk.icon_service import IconService\n",
    "from iconsdk.providers.http_provider import HTTPProvider\n",
    "from iconsdk.builder.transaction_builder import CallTransactionBuilder, TransactionBuilder, DeployTransactionBuilder\n",
    "from iconsdk.builder.call_builder import CallBuilder\n",
    "from iconsdk.signed_transaction import SignedTransaction\n",
    "from iconsdk.wallet.wallet import KeyWallet\n",
    "from iconsdk.utils.convert_type import convert_hex_str_to_int\n",
    "from repeater import retry\n",
    "from shutil import make_archive\n",
    "import pickle as pkl\n",
    "from datetime import datetime\n",
    "from time import sleep\n",
    "import json\n",
    "import os\n",
    "\n",
    "ICX = 1000000000000000000 # 10**18\n",
    "GOVERNANCE_ADDRESS = \"cx0000000000000000000000000000000000000000\"\n",
    "ORACLE = \"cx61a36e5d10412e03c907a507d1e8c6c3856d9964\"\n",
    "\n",
    "@retry(JSONRPCException, tries=10, delay=1, back_off=2)\n",
    "def get_tx_result(_tx_hash):\n",
    "    tx_result = icon_service.get_transaction_result(_tx_hash)\n",
    "    return tx_result"
   ]
  },
  {
   "cell_type": "code",
   "execution_count": 13,
   "metadata": {},
   "outputs": [],
   "source": [
    "# Cell 2\n",
    "\n",
    "icon_service = IconService(HTTPProvider(env[\"iconservice\"], 3))\n",
    "NID = env[\"nid\"]"
   ]
  },
  {
   "cell_type": "code",
   "execution_count": 14,
   "metadata": {},
   "outputs": [
    {
     "name": "stdout",
     "output_type": "stream",
     "text": [
      "771305113.0045675\n",
      "5938832.5610038\n"
     ]
    }
   ],
   "source": [
    "# Cell 3\n",
    "\n",
    "wallet = KeyWallet.load(\"keystores/keystore_test1.json\", \"test1_Account\")\n",
    "# Balanced test wallet\n",
    "with open(\"keystores/balanced_test.pwd\", \"r\") as f:\n",
    "    key_data = f.read()\n",
    "btest_wallet = KeyWallet.load(\"keystores/balanced_test.json\", key_data)\n",
    "print(icon_service.get_balance(wallet.get_address())/10**18)\n",
    "print(icon_service.get_balance(btest_wallet.get_address())/10**18)"
   ]
  },
  {
   "cell_type": "code",
   "execution_count": 15,
   "metadata": {},
   "outputs": [
    {
     "name": "stdout",
     "output_type": "stream",
     "text": [
      "hxe7af5fcfd8dfc67530a01a0e403882687528dfcb\n",
      "771305113.0045675\n"
     ]
    }
   ],
   "source": [
    "print(wallet.get_address())\n",
    "print(icon_service.get_balance(wallet.get_address()) / 10**18)"
   ]
  },
  {
   "cell_type": "code",
   "execution_count": 16,
   "metadata": {},
   "outputs": [
    {
     "name": "stdout",
     "output_type": "stream",
     "text": [
      "hx3f01840a599da07b0f620eeae7aa9c574169a4be\n",
      "5938832.5610038\n"
     ]
    }
   ],
   "source": [
    "print(btest_wallet.get_address())\n",
    "print(icon_service.get_balance(btest_wallet.get_address()) / 10**18)"
   ]
  },
  {
   "cell_type": "code",
   "execution_count": 17,
   "metadata": {},
   "outputs": [
    {
     "name": "stdout",
     "output_type": "stream",
     "text": [
      "1049749.901181\n",
      "hxe62d11fa19a0e8575ad92f06bc8fd42edbfe27db\n",
      "996195.0812754\n",
      "hx7a1824129a8fe803e45a3aae1c0e060399546187\n"
     ]
    }
   ],
   "source": [
    "user1 = KeyWallet.load(\"keystores/user1.json\",\"HelloWorld@1234\")\n",
    "# btest_wallet = KeyWallet.load(\"./balanced_test.json\",\"HelloWorld@1234\")\n",
    "\n",
    "print(icon_service.get_balance(user1.get_address())/10**18)\n",
    "print(user1.get_address())\n",
    "\n",
    "# test2 = hx7a1824129a8fe803e45a3aae1c0e060399546187\n",
    "private = \"0a354424b20a7e3c55c43808d607bddfac85d033e63d7d093cb9f0a26c4ee022\"\n",
    "user2 = KeyWallet.load(bytes.fromhex(private))\n",
    "print(icon_service.get_balance(user2.get_address())/10**18)\n",
    "print(user2.get_address())"
   ]
  },
  {
   "cell_type": "code",
   "execution_count": 18,
   "metadata": {},
   "outputs": [],
   "source": [
    "# The following addresses are those deployed to the private tbears server.\n",
    "\n",
    "contracts = {'loans': {'zip': 'core_contracts/loans.zip',\n",
    "  'SCORE': 'cxbbd36ca8d91aefbe1060c3be62fed4d1b848ca85'},\n",
    " 'staking': {'zip': 'core_contracts/staking.zip',\n",
    "  'SCORE': 'cxd8e05c1280bc2c32bf53ff61f3bb2e2ecc7d6df5'},\n",
    " 'dividends': {'zip': 'core_contracts/dividends.zip',\n",
    "  'SCORE': 'cx7c617e3fca4ba06b6ad203ce113245ae96a9d91e'},\n",
    " 'reserve': {'zip': 'core_contracts/reserve.zip',\n",
    "  'SCORE': 'cx70cd5c86f0182d5ac0bd224562d929cd968d9132'},\n",
    " 'daofund': {'zip': 'core_contracts/daofund.zip',\n",
    "  'SCORE': 'cxeb91bc377b0620356787d9c9eb68152eb0c62d8a'},\n",
    " 'rewards': {'zip': 'core_contracts/rewards.zip',\n",
    "  'SCORE': 'cxfd7511ece084744154fed19dc34732681ad078e6'},\n",
    " 'dex': {'zip': 'core_contracts/dex.zip',\n",
    "  'SCORE': 'cx9a3161c778eee2d5758371d3548c5599f76704ec'},\n",
    " 'governance': {'zip': 'core_contracts/governance.zip',\n",
    "  'SCORE': 'cx238cd1a1e3a9702d6c9c6dc130719472164db376'},\n",
    " 'oracle': {'zip': 'core_contracts/oracle.zip',\n",
    "  'SCORE': 'cx7171e2f5653c1b9c000e24228276b8d24e84f10d'},\n",
    " 'sicx': {'zip': 'token_contracts/sicx.zip',\n",
    "  'SCORE': 'cxcff8bf80ab213fa9bbb350636a4d68f5cb4fd9c1'},\n",
    " 'bnUSD': {'zip': 'token_contracts/bnUSD.zip',\n",
    "  'SCORE': 'cx4c1beaa71b9377100c810c46059ddf5f3da37602'},\n",
    " 'baln': {'zip': 'token_contracts/baln.zip',\n",
    "  'SCORE': 'cx3825a86d52c5baf188ff29aa6a7fc2467e285885'},\n",
    " 'bwt': {'zip': 'token_contracts/bwt.zip',\n",
    "  'SCORE': 'cx140b49ea041457ebc4cd5e199f5723916bb50021'}}"
   ]
  },
  {
   "cell_type": "code",
   "execution_count": null,
   "metadata": {},
   "outputs": [],
   "source": []
  },
  {
   "cell_type": "code",
   "execution_count": 19,
   "metadata": {},
   "outputs": [],
   "source": [
    "# Cell 6\n",
    "# Define deploy and send_tx functions\n",
    "\n",
    "def compress():\n",
    "    \"\"\"\n",
    "    Compress all SCORE folders in the core_contracts and toekn_contracts folders\n",
    "    \"\"\"\n",
    "    deploy = list(contracts.keys())[:]\n",
    "    for directory in {\"core_contracts\", \"token_contracts\"}:\n",
    "        with os.scandir(directory) as it:\n",
    "            for file in it:\n",
    "                archive_name = directory + \"/\" + file.name\n",
    "                if file.is_dir() and file.name in deploy:\n",
    "                    make_archive(archive_name, \"zip\", directory, file.name)\n",
    "                    contracts[file.name]['zip'] = archive_name + '.zip'\n",
    "\n",
    "def deploy_SCORE(contract, params, wallet, update) -> str:\n",
    "    \"\"\"\n",
    "    contract is of form {'zip': 'core_contracts/governance.zip', 'SCORE': 'cx1d81f93b3b8d8d2a6455681c46128868782ddd09'}\n",
    "    params is a dicts\n",
    "    wallet is a wallet file\n",
    "    update is boolian\n",
    "    \"\"\"\n",
    "    print(f'{contract[\"zip\"]}')\n",
    "    if update:\n",
    "        dest = contract['SCORE']\n",
    "    else:\n",
    "        dest = GOVERNANCE_ADDRESS\n",
    "    zip_file = contract['zip']\n",
    "    step_limit = 4000100000\n",
    "    deploy_transaction = DeployTransactionBuilder()\\\n",
    "        .from_(wallet.get_address())\\\n",
    "        .to(dest)\\\n",
    "        .nid(NID)\\\n",
    "        .nonce(100)\\\n",
    "        .content_type(\"application/zip\")\\\n",
    "        .content(gen_deploy_data_content(zip_file))\\\n",
    "        .params(params)\\\n",
    "        .build()\n",
    "\n",
    "    signed_transaction = SignedTransaction(deploy_transaction, wallet, step_limit)\n",
    "    tx_hash = icon_service.send_transaction(signed_transaction)\n",
    "\n",
    "    res = get_tx_result(tx_hash)\n",
    "    print(f'Status: {res[\"status\"]}')\n",
    "    if len(res[\"eventLogs\"]) > 0:\n",
    "        for item in res[\"eventLogs\"]:\n",
    "            print(f'{item} \\n')\n",
    "    if res['status'] == 0:\n",
    "        print(f'Failure: {res[\"failure\"]}')\n",
    "    print('')\n",
    "    return res.get('scoreAddress', '')\n",
    "\n",
    "def send_tx(dest, value, method, params, wallet):\n",
    "    \"\"\"\n",
    "    dest is the name of the destination contract.\n",
    "    \"\"\"\n",
    "    print('------------------------------------------------------------------------------------------------------------------')\n",
    "    print(f'Calling {method}, with parameters {params} on the {dest} contract.')\n",
    "    print('------------------------------------------------------------------------------------------------------------------')\n",
    "    transaction = CallTransactionBuilder()\\\n",
    "        .from_(wallet.get_address())\\\n",
    "        .to(contracts[dest]['SCORE'])\\\n",
    "        .value(value)\\\n",
    "        .step_limit(10000000)\\\n",
    "        .nid(NID)\\\n",
    "        .nonce(100)\\\n",
    "        .method(method)\\\n",
    "        .params(params)\\\n",
    "        .build()\n",
    "    signed_transaction = SignedTransaction(transaction, wallet)\n",
    "    tx_hash = icon_service.send_transaction(signed_transaction)\n",
    "\n",
    "    res = get_tx_result(tx_hash)\n",
    "    print(f'************************************************** Status: {res[\"status\"]} **************************************************')\n",
    "    if len(res[\"eventLogs\"]) > 0:\n",
    "        for item in res[\"eventLogs\"]:\n",
    "            print(f'{item} \\n')\n",
    "    if res['status'] == 0:\n",
    "        print(f'Failure: {res[\"failure\"]}')\n",
    "    return res\n",
    "\n",
    "def deploy_all(wallet):\n",
    "    \"\"\"\n",
    "    Compress, Deploy and Configure all SCOREs\n",
    "    \"\"\"\n",
    "    compress()\n",
    "\n",
    "    deploy = list(contracts.keys())[:]\n",
    "    deploy.remove('oracle')\n",
    "    deploy.remove('staking')\n",
    "    deploy.remove('sicx')\n",
    "    deploy.remove('governance')\n",
    "\n",
    "    governance = deploy_SCORE(contracts['governance'], {}, wallet, 0)\n",
    "    contracts['governance']['SCORE'] = governance\n",
    "    for score in deploy:\n",
    "        contracts[score]['SCORE'] = deploy_SCORE(contracts[score], {'_governance': governance}, wallet, 0)\n",
    "    contracts['staking']['SCORE'] = deploy_SCORE(contracts['staking'], {}, wallet, 0)\n",
    "    contracts['sicx']['SCORE'] = deploy_SCORE(contracts['sicx'], {'_admin': contracts['staking']['SCORE']}, wallet, 0)\n",
    "\n",
    "    config = list(contracts.keys())[:]\n",
    "    config.remove('governance')\n",
    "    addresses = {contract: contracts[contract]['SCORE'] for contract in config}\n",
    "\n",
    "    txns = [{'contract': 'staking', 'value': 0, 'method': 'setSicxAddress', 'params': {'_address': contracts['sicx']['SCORE']}},\n",
    "            {'contract': 'governance', 'value': 0, 'method': 'setAddresses', 'params': {'_addresses': addresses}},\n",
    "            {'contract': 'governance', 'value': 0, 'method': 'launchBalanced', 'params': {}}]\n",
    "\n",
    "    for tx in txns:\n",
    "        res = send_tx(tx[\"contract\"], tx[\"value\"], tx[\"method\"], tx[\"params\"], wallet)\n",
    "        results[f'{tx[\"contract\"]}|{tx[\"method\"]}|{tx[\"params\"]}'] = res\n",
    "\n",
    "def get_scores_json(contracts):\n",
    "    \"\"\"\n",
    "    Prints out dictionary of SCORE addresses for use in testing UI.\n",
    "    \"\"\"\n",
    "    scores = {}\n",
    "    for score in contracts:\n",
    "        scores[score] = contracts[score]['SCORE']\n",
    "    return json.dumps(scores)\n",
    "\n",
    "def call_tx(dest: str, method: str, params: dict = {}):\n",
    "    \"\"\"\n",
    "    dest is the name of the destination contract.\n",
    "    \"\"\"\n",
    "    print('------------------------------------------------------------------------------------------------------------------')\n",
    "    print(f'Reading {method}, with parameters {params} on the {dest} contract.')\n",
    "    print('------------------------------------------------------------------------------------------------------------------')\n",
    "    call = CallBuilder()\\\n",
    "        .from_(wallet.get_address())\\\n",
    "        .to(contracts[dest]['SCORE'])\\\n",
    "        .method(method)\\\n",
    "        .params(params)\\\n",
    "        .build()\n",
    "    print(icon_service.call(call))\n",
    "    return icon_service.call(call)\n"
   ]
  },
  {
   "cell_type": "code",
   "execution_count": 38,
   "metadata": {},
   "outputs": [
    {
     "name": "stdout",
     "output_type": "stream",
     "text": [
      "core_contracts/governance.zip\n"
     ]
    },
    {
     "name": "stderr",
     "output_type": "stream",
     "text": [
      "Raised JSONRPCException while returning the custom response. Error message: {'code': -32602, 'message': 'Pending transaction'}\n"
     ]
    },
    {
     "name": "stdout",
     "output_type": "stream",
     "text": [
      "Retrying in 1 seconds...\n",
      "Status: 1\n",
      "\n",
      "core_contracts/loans.zip\n",
      "Status: 1\n",
      "\n",
      "core_contracts/dividends.zip\n"
     ]
    },
    {
     "name": "stderr",
     "output_type": "stream",
     "text": [
      "Raised JSONRPCException while returning the custom response. Error message: {'code': -32602, 'message': 'Pending transaction'}\n"
     ]
    },
    {
     "name": "stdout",
     "output_type": "stream",
     "text": [
      "Retrying in 1 seconds...\n",
      "Status: 1\n",
      "\n",
      "core_contracts/reserve.zip\n"
     ]
    },
    {
     "name": "stderr",
     "output_type": "stream",
     "text": [
      "Raised JSONRPCException while returning the custom response. Error message: {'code': -32602, 'message': 'Pending transaction'}\n"
     ]
    },
    {
     "name": "stdout",
     "output_type": "stream",
     "text": [
      "Retrying in 1 seconds...\n",
      "Status: 1\n",
      "\n",
      "core_contracts/daofund.zip\n"
     ]
    },
    {
     "name": "stderr",
     "output_type": "stream",
     "text": [
      "Raised JSONRPCException while returning the custom response. Error message: {'code': -32602, 'message': 'Pending transaction'}\n"
     ]
    },
    {
     "name": "stdout",
     "output_type": "stream",
     "text": [
      "Retrying in 1 seconds...\n",
      "Status: 1\n",
      "\n",
      "core_contracts/rewards.zip\n",
      "Status: 1\n",
      "\n",
      "core_contracts/dex.zip\n",
      "Status: 1\n",
      "\n",
      "token_contracts/bnUSD.zip\n"
     ]
    },
    {
     "name": "stderr",
     "output_type": "stream",
     "text": [
      "Raised JSONRPCException while returning the custom response. Error message: {'code': -32602, 'message': 'Pending transaction'}\n"
     ]
    },
    {
     "name": "stdout",
     "output_type": "stream",
     "text": [
      "Retrying in 1 seconds...\n",
      "Status: 1\n",
      "\n",
      "token_contracts/baln.zip\n"
     ]
    },
    {
     "name": "stderr",
     "output_type": "stream",
     "text": [
      "Raised JSONRPCException while returning the custom response. Error message: {'code': -32602, 'message': 'Pending transaction'}\n"
     ]
    },
    {
     "name": "stdout",
     "output_type": "stream",
     "text": [
      "Retrying in 1 seconds...\n",
      "Status: 1\n",
      "\n",
      "token_contracts/bwt.zip\n"
     ]
    },
    {
     "name": "stderr",
     "output_type": "stream",
     "text": [
      "Raised JSONRPCException while returning the custom response. Error message: {'code': -32602, 'message': 'Pending transaction'}\n"
     ]
    },
    {
     "name": "stdout",
     "output_type": "stream",
     "text": [
      "Retrying in 1 seconds...\n",
      "Status: 1\n",
      "\n",
      "core_contracts/staking.zip\n"
     ]
    },
    {
     "name": "stderr",
     "output_type": "stream",
     "text": [
      "Raised JSONRPCException while returning the custom response. Error message: {'code': -32602, 'message': 'Pending transaction'}\n"
     ]
    },
    {
     "name": "stdout",
     "output_type": "stream",
     "text": [
      "Retrying in 1 seconds...\n",
      "Status: 1\n",
      "\n",
      "token_contracts/sicx.zip\n"
     ]
    },
    {
     "name": "stderr",
     "output_type": "stream",
     "text": [
      "Raised JSONRPCException while returning the custom response. Error message: {'code': -32602, 'message': 'Pending transaction'}\n"
     ]
    },
    {
     "name": "stdout",
     "output_type": "stream",
     "text": [
      "Retrying in 1 seconds...\n",
      "Status: 1\n",
      "\n",
      "------------------------------------------------------------------------------------------------------------------\n",
      "Calling setSicxAddress, with parameters {'_address': 'cxe8c0afc4759ad757080026119375ac78211564e4'} on the staking contract.\n",
      "------------------------------------------------------------------------------------------------------------------\n"
     ]
    },
    {
     "name": "stderr",
     "output_type": "stream",
     "text": [
      "Raised JSONRPCException while returning the custom response. Error message: {'code': -32602, 'message': 'Pending transaction'}\n"
     ]
    },
    {
     "name": "stdout",
     "output_type": "stream",
     "text": [
      "Retrying in 1 seconds...\n",
      "************************************************** Status: 1 **************************************************\n",
      "------------------------------------------------------------------------------------------------------------------\n",
      "Calling setAddresses, with parameters {'_addresses': {'loans': 'cxc90923dcda13208620144e7f7e43153b1adcdc4b', 'staking': 'cx69a2c0aac413646424a9715c93de49e093e7ea3b', 'dividends': 'cx99ebd2e9e50401478b1e3695c438f2e87c2befec', 'reserve': 'cx2db69e9bc6556289b7e63830b8cb7cc7916760c6', 'daofund': 'cx29c60deea590ef28e04563b6faa6ba1a0c4aa831', 'rewards': 'cxe4ca31ee8d2249daa1f9a7ecb63ceeb82345a464', 'dex': 'cxa248a5193554210c761399b2304f9eb0bdb82346', 'oracle': 'cx7171e2f5653c1b9c000e24228276b8d24e84f10d', 'sicx': 'cxe8c0afc4759ad757080026119375ac78211564e4', 'bnUSD': 'cxe64e843d53c9c9a1a74b6ebc119b604da06508c9', 'baln': 'cx53998ca868de2b98e62e8966b77386481afd44f1', 'bwt': 'cx63ec0e1dcd804efbba787cf18d3b13f69266cecf'}} on the governance contract.\n",
      "------------------------------------------------------------------------------------------------------------------\n",
      "************************************************** Status: 1 **************************************************\n",
      "------------------------------------------------------------------------------------------------------------------\n",
      "Calling launchBalanced, with parameters {} on the governance contract.\n",
      "------------------------------------------------------------------------------------------------------------------\n"
     ]
    },
    {
     "name": "stderr",
     "output_type": "stream",
     "text": [
      "Raised JSONRPCException while returning the custom response. Error message: {'code': -32602, 'message': 'Pending transaction'}\n"
     ]
    },
    {
     "name": "stdout",
     "output_type": "stream",
     "text": [
      "Retrying in 1 seconds...\n",
      "************************************************** Status: 1 **************************************************\n",
      "{'scoreAddress': 'cxc90923dcda13208620144e7f7e43153b1adcdc4b', 'indexed': ['AssetAdded(Address,str,bool)', 'cxe8c0afc4759ad757080026119375ac78211564e4', 'sICX', '0x1'], 'data': []} \n",
      "\n",
      "{'scoreAddress': 'cxc90923dcda13208620144e7f7e43153b1adcdc4b', 'indexed': ['AssetAdded(Address,str,bool)', 'cxe64e843d53c9c9a1a74b6ebc119b604da06508c9', 'bnUSD', '0x0'], 'data': []} \n",
      "\n",
      "{'scoreAddress': 'cxc90923dcda13208620144e7f7e43153b1adcdc4b', 'indexed': ['AssetAdded(Address,str,bool)', 'cx53998ca868de2b98e62e8966b77386481afd44f1', 'BALN', '0x1'], 'data': []} \n",
      "\n",
      "{'scoreAddress': 'cxc90923dcda13208620144e7f7e43153b1adcdc4b', 'indexed': ['ContractActive(str,str)', 'Loans'], 'data': ['Active']} \n",
      "\n",
      "------------------------------------------------------------------------------------------------------------------\n",
      "{'loans': {'zip': 'core_contracts/loans.zip', 'SCORE': 'cxc90923dcda13208620144e7f7e43153b1adcdc4b'}, 'staking': {'zip': 'core_contracts/staking.zip', 'SCORE': 'cx69a2c0aac413646424a9715c93de49e093e7ea3b'}, 'dividends': {'zip': 'core_contracts/dividends.zip', 'SCORE': 'cx99ebd2e9e50401478b1e3695c438f2e87c2befec'}, 'reserve': {'zip': 'core_contracts/reserve.zip', 'SCORE': 'cx2db69e9bc6556289b7e63830b8cb7cc7916760c6'}, 'daofund': {'zip': 'core_contracts/daofund.zip', 'SCORE': 'cx29c60deea590ef28e04563b6faa6ba1a0c4aa831'}, 'rewards': {'zip': 'core_contracts/rewards.zip', 'SCORE': 'cxe4ca31ee8d2249daa1f9a7ecb63ceeb82345a464'}, 'dex': {'zip': 'core_contracts/dex.zip', 'SCORE': 'cxa248a5193554210c761399b2304f9eb0bdb82346'}, 'governance': {'zip': 'core_contracts/governance.zip', 'SCORE': 'cx7a273f3e46d0306606620c5cf701f177385f06ff'}, 'oracle': {'zip': 'core_contracts/oracle.zip', 'SCORE': 'cx7171e2f5653c1b9c000e24228276b8d24e84f10d'}, 'sicx': {'zip': 'token_contracts/sicx.zip', 'SCORE': 'cxe8c0afc4759ad757080026119375ac78211564e4'}, 'bnUSD': {'zip': 'token_contracts/bnUSD.zip', 'SCORE': 'cxe64e843d53c9c9a1a74b6ebc119b604da06508c9'}, 'baln': {'zip': 'token_contracts/baln.zip', 'SCORE': 'cx53998ca868de2b98e62e8966b77386481afd44f1'}, 'bwt': {'zip': 'token_contracts/bwt.zip', 'SCORE': 'cx63ec0e1dcd804efbba787cf18d3b13f69266cecf'}}\n",
      "{\"loans\": \"cxc90923dcda13208620144e7f7e43153b1adcdc4b\", \"staking\": \"cx69a2c0aac413646424a9715c93de49e093e7ea3b\", \"dividends\": \"cx99ebd2e9e50401478b1e3695c438f2e87c2befec\", \"reserve\": \"cx2db69e9bc6556289b7e63830b8cb7cc7916760c6\", \"daofund\": \"cx29c60deea590ef28e04563b6faa6ba1a0c4aa831\", \"rewards\": \"cxe4ca31ee8d2249daa1f9a7ecb63ceeb82345a464\", \"dex\": \"cxa248a5193554210c761399b2304f9eb0bdb82346\", \"governance\": \"cx7a273f3e46d0306606620c5cf701f177385f06ff\", \"oracle\": \"cx7171e2f5653c1b9c000e24228276b8d24e84f10d\", \"sicx\": \"cxe8c0afc4759ad757080026119375ac78211564e4\", \"bnUSD\": \"cxe64e843d53c9c9a1a74b6ebc119b604da06508c9\", \"baln\": \"cx53998ca868de2b98e62e8966b77386481afd44f1\", \"bwt\": \"cx63ec0e1dcd804efbba787cf18d3b13f69266cecf\"}\n"
     ]
    }
   ],
   "source": [
    "# Cell 7\n",
    "# Deploy and configure Balanced. Print results if anything goes wrong.\n",
    "\n",
    "results = {}\n",
    "deploy_all(btest_wallet)\n",
    "print('------------------------------------------------------------------------------------------------------------------')\n",
    "print(contracts)\n",
    "print(get_scores_json(contracts))"
   ]
  },
  {
   "cell_type": "code",
   "execution_count": 36,
   "metadata": {},
   "outputs": [
    {
     "name": "stdout",
     "output_type": "stream",
     "text": [
      "core_contracts/loans.zip\n",
      "Status: 1\n",
      "\n"
     ]
    },
    {
     "data": {
      "text/plain": [
       "'cxa412dd53e9caac791ad218d051e3383a9c326827'"
      ]
     },
     "execution_count": 36,
     "metadata": {},
     "output_type": "execute_result"
    }
   ],
   "source": [
    "# Cell 8\n",
    "# Deploy or Update a single SCORE\n",
    "\n",
    "compress()\n",
    "update = 0\n",
    "contract = contracts['loans']\n",
    "params = {}\n",
    "params = {'_governance': contracts['governance']['SCORE']}\n",
    "deploy_SCORE(contract, params, btest_wallet, update)"
   ]
  },
  {
   "cell_type": "markdown",
   "metadata": {},
   "source": [
    "Test Originate Loans"
   ]
  },
  {
   "cell_type": "code",
   "execution_count": 27,
   "metadata": {},
   "outputs": [
    {
     "name": "stdout",
     "output_type": "stream",
     "text": [
      "check account position and originating loans with the account that doesn’t have a position in Balanced\n",
      "------------------------------------------------------------------------------------------------------------------\n",
      "Reading getAccountPositions, with parameters {'_owner': 'hx3f01840a599da07b0f620eeae7aa9c574169a4be'} on the loans contract.\n",
      "------------------------------------------------------------------------------------------------------------------\n",
      "{'message': 'That address has no outstanding loans or deposited collateral.'}\n",
      "------------------------------------------------------------------------------------------------------------------\n",
      "Calling originateLoan, with parameters {'_asset': 'bnUSD', '_amount': 50000000000000000000} on the loans contract.\n",
      "------------------------------------------------------------------------------------------------------------------\n"
     ]
    },
    {
     "name": "stderr",
     "output_type": "stream",
     "text": [
      "Raised JSONRPCException while returning the custom response. Error message: {'code': -32602, 'message': 'Pending transaction'}\n"
     ]
    },
    {
     "name": "stdout",
     "output_type": "stream",
     "text": [
      "Retrying in 1 seconds...\n",
      "************************************************** Status: 0 **************************************************\n",
      "Failure: {'code': 32, 'message': 'This address does not have a position on Balanced. Collateral must be deposited before originating a loan.'}\n",
      "......!!!!!!!!!!!!!!!!............\n",
      "Test Successfull\n"
     ]
    }
   ],
   "source": [
    "#Try originating loans with an account that doesn’t have a position in Balanced \n",
    "\n",
    "test_cases = {\n",
    "        \"stories\":[\n",
    "            {\n",
    "            \"description\": \"check account position and originating loans with the account that doesn’t have a position in Balanced\",\n",
    "            \"actions\":{\n",
    "                \"deposited_icx\": 0,\n",
    "                \"acc_method\":\"getAccountPositions\",\n",
    "                \"acc_params\":{\"owner\": btest_wallet.get_address()},\n",
    "                \"method\":\"originateLoan\",\n",
    "                \"params\":{\"asset\": \"bnUSD\", \"amount\": 50 * ICX}\n",
    "            }\n",
    "        }\n",
    "    ]\n",
    "}\n",
    "\n",
    "for case in test_cases['stories']:\n",
    "    print(case['description'])\n",
    "    _acc_method = case['actions']['acc_method']\n",
    "    _acc_data = case['actions']['acc_params']\n",
    "    _acc_params = {'_owner':_acc_data['owner']}\n",
    "    _loan_method = case['actions']['method']\n",
    "    _loan_data = case['actions']['params']\n",
    "    _loan_params = {'_asset': _loan_data['asset'], '_amount': _loan_data['amount']}\n",
    "    \n",
    "    res = call_tx('loans', _acc_method, _acc_params)\n",
    "    if res['message'] == 'That address has no outstanding loans or deposited collateral.':\n",
    "        res = send_tx('loans', 0, _loan_method, _loan_params, btest_wallet)\n",
    "        if res['failure']['message'] == 'This address does not have a position on Balanced. Collateral must be deposited before originating a loan.':\n",
    "            print('......!!!!!!!!!!!!!!!!............')\n",
    "            print('Test Successfull')\n",
    "            \n",
    "            \n"
   ]
  },
  {
   "cell_type": "code",
   "execution_count": 39,
   "metadata": {},
   "outputs": [
    {
     "name": "stdout",
     "output_type": "stream",
     "text": [
      "check account position and depositing 10 ICX and call originate loan of 50 bnUSD\n",
      "------------------------------------------------------------------------------------------------------------------\n",
      "Reading getAccountPositions, with parameters {'_owner': 'hx3f01840a599da07b0f620eeae7aa9c574169a4be'} on the loans contract.\n",
      "------------------------------------------------------------------------------------------------------------------\n",
      "{'message': 'That address has no outstanding loans or deposited collateral.'}\n",
      "------------------------------------------------------------------------------------------------------------------\n",
      "Calling addCollateral, with parameters {'_asset': ' ', '_amount': 0} on the loans contract.\n",
      "------------------------------------------------------------------------------------------------------------------\n",
      "************************************************** Status: 1 **************************************************\n",
      "{'scoreAddress': 'cxc90923dcda13208620144e7f7e43153b1adcdc4b', 'indexed': ['ICXTransfer(Address,Address,int)', 'cxc90923dcda13208620144e7f7e43153b1adcdc4b', 'cx69a2c0aac413646424a9715c93de49e093e7ea3b', '0x8ac7230489e80000'], 'data': []} \n",
      "\n",
      "{'scoreAddress': 'cxe8c0afc4759ad757080026119375ac78211564e4', 'indexed': ['Mint(Address,int,bytes)', 'cxc90923dcda13208620144e7f7e43153b1adcdc4b'], 'data': ['0x8ac7230489e80000', '0x7b226d6574686f64223a225f6465706f7369745f616e645f626f72726f77222c22706172616d73223a7b225f73656e646572223a22687833663031383430613539396461303762306636323065656165376161396335373431363961346265222c225f6173736574223a2220222c225f616d6f756e74223a307d7d']} \n",
      "\n",
      "{'scoreAddress': 'cxe8c0afc4759ad757080026119375ac78211564e4', 'indexed': ['Transfer(Address,Address,int,bytes)', 'hx0000000000000000000000000000000000000000', 'cxc90923dcda13208620144e7f7e43153b1adcdc4b', '0x8ac7230489e80000'], 'data': ['0x7b226d6574686f64223a225f6465706f7369745f616e645f626f72726f77222c22706172616d73223a7b225f73656e646572223a22687833663031383430613539396461303762306636323065656165376161396335373431363961346265222c225f6173736574223a2220222c225f616d6f756e74223a307d7d']} \n",
      "\n",
      "{'scoreAddress': 'cxc90923dcda13208620144e7f7e43153b1adcdc4b', 'indexed': ['CollateralReceived(Address,str)', 'hx3f01840a599da07b0f620eeae7aa9c574169a4be', 'sICX'], 'data': []} \n",
      "\n",
      "{'scoreAddress': 'cxe64e843d53c9c9a1a74b6ebc119b604da06508c9', 'indexed': ['OraclePrice(str,str,Address,int)', 'USDICX', 'BandChain', 'cx7171e2f5653c1b9c000e24228276b8d24e84f10d'], 'data': ['0x84c5d90848544bb']} \n",
      "\n",
      "{'scoreAddress': 'cx69a2c0aac413646424a9715c93de49e093e7ea3b', 'indexed': ['TokenTransfer(Address,int,str)', 'cxc90923dcda13208620144e7f7e43153b1adcdc4b', '0x8ac7230489e80000'], 'data': ['10.0 sICX minted to cxc90923dcda13208620144e7f7e43153b1adcdc4b']} \n",
      "\n",
      "------------------------------------------------------------------------------------------------------------------\n",
      "Calling originateLoan, with parameters {'_asset': 'bnUSD', '_amount': 50000000000000000000} on the loans contract.\n",
      "------------------------------------------------------------------------------------------------------------------\n"
     ]
    },
    {
     "name": "stderr",
     "output_type": "stream",
     "text": [
      "Raised JSONRPCException while returning the custom response. Error message: {'code': -32602, 'message': 'Pending transaction'}\n"
     ]
    },
    {
     "name": "stdout",
     "output_type": "stream",
     "text": [
      "Retrying in 1 seconds...\n",
      "************************************************** Status: 0 **************************************************\n",
      "Failure: {'code': 32, 'message': '10.0 collateral is insufficient to originate a loan of 50.0 bnUSD when max_debt_value = 2.5 and new_debt_value = 30.196764153578393, plus a fee of 0.5 bnUSD, and an existing loan value of 0.0.'}\n",
      "------------------------------------------------------------------------------------------------------------------\n",
      "Reading getAccountPositions, with parameters {'_owner': 'hx3f01840a599da07b0f620eeae7aa9c574169a4be'} on the loans contract.\n",
      "------------------------------------------------------------------------------------------------------------------\n",
      "{'pos_id': '0x1', 'created': '0x5bed12cce85d9', 'address': 'hx3f01840a599da07b0f620eeae7aa9c574169a4be', 'snap_id': '0x1', 'snaps_length': '0x1', 'last_snap': '0x1', 'first day': '0x1', 'assets': {'sICX': '0x8ac7230489e80000'}, 'replay_index': '0x0', 'events_behind': '0x0', 'total_debt': '0x0', 'ratio': '0x0', 'standing': 'No Debt'}\n",
      "check account position and depositing enough ICX to get a loan of 50 bnUSD and call originate loan of 50 bnUSD\n",
      "------------------------------------------------------------------------------------------------------------------\n",
      "Reading getAccountPositions, with parameters {'_owner': 'hx3f01840a599da07b0f620eeae7aa9c574169a4be'} on the loans contract.\n",
      "------------------------------------------------------------------------------------------------------------------\n",
      "{'pos_id': '0x1', 'created': '0x5bed12cce85d9', 'address': 'hx3f01840a599da07b0f620eeae7aa9c574169a4be', 'snap_id': '0x1', 'snaps_length': '0x1', 'last_snap': '0x1', 'first day': '0x1', 'assets': {'sICX': '0x8ac7230489e80000'}, 'replay_index': '0x0', 'events_behind': '0x0', 'total_debt': '0x0', 'ratio': '0x0', 'standing': 'No Debt'}\n",
      "------------------------------------------------------------------------------------------------------------------\n",
      "Calling addCollateral, with parameters {'_asset': ' ', '_amount': 0} on the loans contract.\n",
      "------------------------------------------------------------------------------------------------------------------\n"
     ]
    },
    {
     "name": "stderr",
     "output_type": "stream",
     "text": [
      "Raised JSONRPCException while returning the custom response. Error message: {'code': -32602, 'message': 'Pending transaction'}\n"
     ]
    },
    {
     "name": "stdout",
     "output_type": "stream",
     "text": [
      "Retrying in 1 seconds...\n",
      "************************************************** Status: 1 **************************************************\n",
      "{'scoreAddress': 'cxc90923dcda13208620144e7f7e43153b1adcdc4b', 'indexed': ['ICXTransfer(Address,Address,int)', 'cxc90923dcda13208620144e7f7e43153b1adcdc4b', 'cx69a2c0aac413646424a9715c93de49e093e7ea3b', '0x1043561a8829300000'], 'data': []} \n",
      "\n",
      "{'scoreAddress': 'cxe8c0afc4759ad757080026119375ac78211564e4', 'indexed': ['Mint(Address,int,bytes)', 'cxc90923dcda13208620144e7f7e43153b1adcdc4b'], 'data': ['0x1043561a8829300000', '0x7b226d6574686f64223a225f6465706f7369745f616e645f626f72726f77222c22706172616d73223a7b225f73656e646572223a22687833663031383430613539396461303762306636323065656165376161396335373431363961346265222c225f6173736574223a2220222c225f616d6f756e74223a307d7d']} \n",
      "\n",
      "{'scoreAddress': 'cxe8c0afc4759ad757080026119375ac78211564e4', 'indexed': ['Transfer(Address,Address,int,bytes)', 'hx0000000000000000000000000000000000000000', 'cxc90923dcda13208620144e7f7e43153b1adcdc4b', '0x1043561a8829300000'], 'data': ['0x7b226d6574686f64223a225f6465706f7369745f616e645f626f72726f77222c22706172616d73223a7b225f73656e646572223a22687833663031383430613539396461303762306636323065656165376161396335373431363961346265222c225f6173736574223a2220222c225f616d6f756e74223a307d7d']} \n",
      "\n",
      "{'scoreAddress': 'cxc90923dcda13208620144e7f7e43153b1adcdc4b', 'indexed': ['CollateralReceived(Address,str)', 'hx3f01840a599da07b0f620eeae7aa9c574169a4be', 'sICX'], 'data': []} \n",
      "\n",
      "{'scoreAddress': 'cx69a2c0aac413646424a9715c93de49e093e7ea3b', 'indexed': ['TokenTransfer(Address,int,str)', 'cxc90923dcda13208620144e7f7e43153b1adcdc4b', '0x1043561a8829300000'], 'data': ['300.0 sICX minted to cxc90923dcda13208620144e7f7e43153b1adcdc4b']} \n",
      "\n",
      "------------------------------------------------------------------------------------------------------------------\n",
      "Calling originateLoan, with parameters {'_asset': 'bnUSD', '_amount': 50000000000000000000} on the loans contract.\n",
      "------------------------------------------------------------------------------------------------------------------\n"
     ]
    },
    {
     "name": "stderr",
     "output_type": "stream",
     "text": [
      "Raised JSONRPCException while returning the custom response. Error message: {'code': -32602, 'message': 'Pending transaction'}\n"
     ]
    },
    {
     "name": "stdout",
     "output_type": "stream",
     "text": [
      "Retrying in 1 seconds...\n",
      "************************************************** Status: 1 **************************************************\n",
      "{'scoreAddress': 'cxc90923dcda13208620144e7f7e43153b1adcdc4b', 'indexed': ['OriginateLoan(Address,str,int,str)', 'hx3f01840a599da07b0f620eeae7aa9c574169a4be', 'bnUSD', '0x2b5e3af16b1880000'], 'data': ['Loan of 50.0 bnUSD from Balanced.']} \n",
      "\n",
      "{'scoreAddress': 'cxe64e843d53c9c9a1a74b6ebc119b604da06508c9', 'indexed': ['Mint(Address,int,bytes)', 'hx3f01840a599da07b0f620eeae7aa9c574169a4be'], 'data': ['0x2b5e3af16b1880000', '0x4e6f6e65']} \n",
      "\n",
      "{'scoreAddress': 'cxe64e843d53c9c9a1a74b6ebc119b604da06508c9', 'indexed': ['Transfer(Address,Address,int,bytes)', 'hx0000000000000000000000000000000000000000', 'hx3f01840a599da07b0f620eeae7aa9c574169a4be', '0x2b5e3af16b1880000'], 'data': ['0x4e6f6e65']} \n",
      "\n",
      "{'scoreAddress': 'cxe64e843d53c9c9a1a74b6ebc119b604da06508c9', 'indexed': ['Mint(Address,int,bytes)', 'cx99ebd2e9e50401478b1e3695c438f2e87c2befec'], 'data': ['0x6f05b59d3b20000', '0x4e6f6e65']} \n",
      "\n",
      "{'scoreAddress': 'cxe64e843d53c9c9a1a74b6ebc119b604da06508c9', 'indexed': ['Transfer(Address,Address,int,bytes)', 'hx0000000000000000000000000000000000000000', 'cx99ebd2e9e50401478b1e3695c438f2e87c2befec', '0x6f05b59d3b20000'], 'data': ['0x4e6f6e65']} \n",
      "\n",
      "{'scoreAddress': 'cxc90923dcda13208620144e7f7e43153b1adcdc4b', 'indexed': ['FeePaid(str,int,str,str)', 'bnUSD', '0x6f05b59d3b20000', 'origination'], 'data': ['']} \n",
      "\n",
      "------------------------------------------------------------------------------------------------------------------\n",
      "Reading getAccountPositions, with parameters {'_owner': 'hx3f01840a599da07b0f620eeae7aa9c574169a4be'} on the loans contract.\n",
      "------------------------------------------------------------------------------------------------------------------\n",
      "{'pos_id': '0x1', 'created': '0x5bed12cce85d9', 'address': 'hx3f01840a599da07b0f620eeae7aa9c574169a4be', 'snap_id': '0x1', 'snaps_length': '0x1', 'last_snap': '0x1', 'first day': '0x1', 'assets': {'sICX': '0x10ce1d3d8cb3180000', 'bnUSD': '0x2bcd40a70853a0000'}, 'replay_index': '0x0', 'events_behind': '0x0', 'total_debt': '0x0', 'ratio': '0x8e78292fc94f4211', 'standing': 'Mining'}\n",
      "......!!!!!!!!!!!!!!!!............\n",
      ".....Test Successfull...\n"
     ]
    }
   ],
   "source": [
    "test_cases = {\n",
    "        \"stories\":[\n",
    "            {\n",
    "            \"description\": \"check account position and depositing 10 ICX and call originate loan of 50 bnUSD\",\n",
    "            \"actions\":{\n",
    "                \"deposited_icx\": 10 * ICX,\n",
    "                \"acc_method\":\"getAccountPositions\",\n",
    "                \"acc_params\":{\"owner\": btest_wallet.get_address()},\n",
    "                \"collateral_method\":\"addCollateral\",\n",
    "                \"collateral_params\":{\"asset\":\" \", \"amount\": 0 },\n",
    "                \"method\":\"originateLoan\",\n",
    "                \"params\":{\"asset\": \"bnUSD\", \"amount\": 50 * ICX}\n",
    "            }\n",
    "        },\n",
    "            {\n",
    "            \"description\": \"check account position and depositing enough ICX to get a loan of 50 bnUSD and call originate loan of 50 bnUSD\",\n",
    "            \"actions\":{\n",
    "                \"deposited_icx\": 300 * ICX,\n",
    "                \"acc_method\":\"getAccountPositions\",\n",
    "                \"acc_params\":{\"owner\": btest_wallet.get_address()},\n",
    "                \"collateral_method\":\"addCollateral\",\n",
    "                \"collateral_params\":{\"asset\":\" \", \"amount\": 0 },\n",
    "                \"method\":\"originateLoan\",\n",
    "                \"params\":{\"asset\": \"bnUSD\", \"amount\": 50 * ICX}\n",
    "            }\n",
    "        }\n",
    "    ]\n",
    "}\n",
    "\n",
    "for case in test_cases['stories']:\n",
    "    print(case['description'])\n",
    "    _collateral = case['actions']['deposited_icx']\n",
    "    _acc_method = case['actions']['acc_method']\n",
    "    _acc_data = case['actions']['acc_params']\n",
    "    _acc_params = {'_owner':_acc_data['owner']}\n",
    "    _collateral_method = case['actions']['collateral_method']\n",
    "    _collateral_data = case['actions']['collateral_params']\n",
    "    _collateral_params = {'_asset': _collateral_data['asset'], '_amount': _collateral_data['amount']}\n",
    "    _loan_method = case['actions']['method']\n",
    "    _loan_data = case['actions']['params']\n",
    "    _loan_params = {'_asset': _loan_data['asset'], '_amount': _loan_data['amount']}\n",
    "    \n",
    "    call_tx('loans', _acc_method, _acc_params)\n",
    "    send_tx('loans', _collateral, _collateral_method, _collateral_params, btest_wallet)\n",
    "    res = send_tx('loans', 0, _loan_method, _loan_params, btest_wallet)\n",
    "    if res['status'] == '0':\n",
    "        print('......!!!!!!!!!!!!!!!!............')\n",
    "        print('.....Test Successfull...')\n",
    "    res = call_tx('loans', _acc_method, _acc_params)\n",
    "    if res['standing'] == 'Mining':\n",
    "        print('......!!!!!!!!!!!!!!!!............')\n",
    "        print('.....Test Successfull...')"
   ]
  },
  {
   "cell_type": "code",
   "execution_count": 40,
   "metadata": {},
   "outputs": [
    {
     "name": "stdout",
     "output_type": "stream",
     "text": [
      "------------------------------------------------------------------------------------------------------------------\n",
      "Reading getAccountPositions, with parameters {'_owner': 'hxe7af5fcfd8dfc67530a01a0e403882687528dfcb'} on the loans contract.\n",
      "------------------------------------------------------------------------------------------------------------------\n",
      "{'message': 'That address has no outstanding loans or deposited collateral.'}\n",
      "------------------------------------------------------------------------------------------------------------------\n",
      "Reading getAccountPositions, with parameters {'_owner': 'hx3f01840a599da07b0f620eeae7aa9c574169a4be'} on the loans contract.\n",
      "------------------------------------------------------------------------------------------------------------------\n",
      "{'pos_id': '0x1', 'created': '0x5bed12cce85d9', 'address': 'hx3f01840a599da07b0f620eeae7aa9c574169a4be', 'snap_id': '0x1', 'snaps_length': '0x1', 'last_snap': '0x1', 'first day': '0x1', 'assets': {'sICX': '0x10ce1d3d8cb3180000', 'bnUSD': '0x2bcd40a70853a0000'}, 'replay_index': '0x0', 'events_behind': '0x0', 'total_debt': '0x0', 'ratio': '0x8e78292fc94f4211', 'standing': 'Mining'}\n"
     ]
    },
    {
     "data": {
      "text/plain": [
       "{'pos_id': '0x1',\n",
       " 'created': '0x5bed12cce85d9',\n",
       " 'address': 'hx3f01840a599da07b0f620eeae7aa9c574169a4be',\n",
       " 'snap_id': '0x1',\n",
       " 'snaps_length': '0x1',\n",
       " 'last_snap': '0x1',\n",
       " 'first day': '0x1',\n",
       " 'assets': {'sICX': '0x10ce1d3d8cb3180000', 'bnUSD': '0x2bcd40a70853a0000'},\n",
       " 'replay_index': '0x0',\n",
       " 'events_behind': '0x0',\n",
       " 'total_debt': '0x0',\n",
       " 'ratio': '0x8e78292fc94f4211',\n",
       " 'standing': 'Mining'}"
      ]
     },
     "execution_count": 40,
     "metadata": {},
     "output_type": "execute_result"
    }
   ],
   "source": [
    "call_tx('loans', 'getAccountPositions', {'_owner': wallet.get_address()})\n",
    "call_tx('loans', 'getAccountPositions', {'_owner': btest_wallet.get_address()})\n"
   ]
  },
  {
   "cell_type": "markdown",
   "metadata": {},
   "source": [
    "Trying to mint loan to account wallet from btest_wallet"
   ]
  },
  {
   "cell_type": "code",
   "execution_count": 43,
   "metadata": {},
   "outputs": [
    {
     "name": "stdout",
     "output_type": "stream",
     "text": [
      "mint loan to account wallet from btest_wallet\n",
      "------------------------------------------------------------------------------------------------------------------\n",
      "Reading getAccountPositions, with parameters {'_owner': 'hxe7af5fcfd8dfc67530a01a0e403882687528dfcb'} on the loans contract.\n",
      "------------------------------------------------------------------------------------------------------------------\n",
      "{'message': 'That address has no outstanding loans or deposited collateral.'}\n",
      "------------------------------------------------------------------------------------------------------------------\n",
      "Calling addCollateral, with parameters {'_asset': ' ', '_amount': 0} on the loans contract.\n",
      "------------------------------------------------------------------------------------------------------------------\n"
     ]
    },
    {
     "name": "stderr",
     "output_type": "stream",
     "text": [
      "Raised JSONRPCException while returning the custom response. Error message: {'code': -32602, 'message': 'Pending transaction'}\n"
     ]
    },
    {
     "name": "stdout",
     "output_type": "stream",
     "text": [
      "Retrying in 1 seconds...\n",
      "************************************************** Status: 1 **************************************************\n",
      "{'scoreAddress': 'cxc90923dcda13208620144e7f7e43153b1adcdc4b', 'indexed': ['ICXTransfer(Address,Address,int)', 'cxc90923dcda13208620144e7f7e43153b1adcdc4b', 'cx69a2c0aac413646424a9715c93de49e093e7ea3b', '0xad78ebc5ac6200000'], 'data': []} \n",
      "\n",
      "{'scoreAddress': 'cxe8c0afc4759ad757080026119375ac78211564e4', 'indexed': ['Mint(Address,int,bytes)', 'cxc90923dcda13208620144e7f7e43153b1adcdc4b'], 'data': ['0xad78ebc5ac6200000', '0x7b226d6574686f64223a225f6465706f7369745f616e645f626f72726f77222c22706172616d73223a7b225f73656e646572223a22687865376166356663666438646663363735333061303161306534303338383236383735323864666362222c225f6173736574223a2220222c225f616d6f756e74223a307d7d']} \n",
      "\n",
      "{'scoreAddress': 'cxe8c0afc4759ad757080026119375ac78211564e4', 'indexed': ['Transfer(Address,Address,int,bytes)', 'hx0000000000000000000000000000000000000000', 'cxc90923dcda13208620144e7f7e43153b1adcdc4b', '0xad78ebc5ac6200000'], 'data': ['0x7b226d6574686f64223a225f6465706f7369745f616e645f626f72726f77222c22706172616d73223a7b225f73656e646572223a22687865376166356663666438646663363735333061303161306534303338383236383735323864666362222c225f6173736574223a2220222c225f616d6f756e74223a307d7d']} \n",
      "\n",
      "{'scoreAddress': 'cxc90923dcda13208620144e7f7e43153b1adcdc4b', 'indexed': ['CollateralReceived(Address,str)', 'hxe7af5fcfd8dfc67530a01a0e403882687528dfcb', 'sICX'], 'data': []} \n",
      "\n",
      "{'scoreAddress': 'cxe64e843d53c9c9a1a74b6ebc119b604da06508c9', 'indexed': ['OraclePrice(str,str,Address,int)', 'USDICX', 'BandChain', 'cx7171e2f5653c1b9c000e24228276b8d24e84f10d'], 'data': ['0x84c5d90848544bb']} \n",
      "\n",
      "{'scoreAddress': 'cx69a2c0aac413646424a9715c93de49e093e7ea3b', 'indexed': ['TokenTransfer(Address,int,str)', 'cxc90923dcda13208620144e7f7e43153b1adcdc4b', '0xad78ebc5ac6200000'], 'data': ['200.0 sICX minted to cxc90923dcda13208620144e7f7e43153b1adcdc4b']} \n",
      "\n",
      "------------------------------------------------------------------------------------------------------------------\n",
      "Calling originateLoan, with parameters {'_asset': 'bnUSD', '_amount': 50000000000000000000, '_from': 'hxe7af5fcfd8dfc67530a01a0e403882687528dfcb'} on the loans contract.\n",
      "------------------------------------------------------------------------------------------------------------------\n",
      "************************************************** Status: 1 **************************************************\n",
      "{'scoreAddress': 'cxc90923dcda13208620144e7f7e43153b1adcdc4b', 'indexed': ['OriginateLoan(Address,str,int,str)', 'hxe7af5fcfd8dfc67530a01a0e403882687528dfcb', 'bnUSD', '0x2b5e3af16b1880000'], 'data': ['Loan of 50.0 bnUSD from Balanced.']} \n",
      "\n",
      "{'scoreAddress': 'cxe64e843d53c9c9a1a74b6ebc119b604da06508c9', 'indexed': ['Mint(Address,int,bytes)', 'hxe7af5fcfd8dfc67530a01a0e403882687528dfcb'], 'data': ['0x2b5e3af16b1880000', '0x4e6f6e65']} \n",
      "\n",
      "{'scoreAddress': 'cxe64e843d53c9c9a1a74b6ebc119b604da06508c9', 'indexed': ['Transfer(Address,Address,int,bytes)', 'hx0000000000000000000000000000000000000000', 'hxe7af5fcfd8dfc67530a01a0e403882687528dfcb', '0x2b5e3af16b1880000'], 'data': ['0x4e6f6e65']} \n",
      "\n",
      "{'scoreAddress': 'cxe64e843d53c9c9a1a74b6ebc119b604da06508c9', 'indexed': ['Mint(Address,int,bytes)', 'cx99ebd2e9e50401478b1e3695c438f2e87c2befec'], 'data': ['0x6f05b59d3b20000', '0x4e6f6e65']} \n",
      "\n",
      "{'scoreAddress': 'cxe64e843d53c9c9a1a74b6ebc119b604da06508c9', 'indexed': ['Transfer(Address,Address,int,bytes)', 'hx0000000000000000000000000000000000000000', 'cx99ebd2e9e50401478b1e3695c438f2e87c2befec', '0x6f05b59d3b20000'], 'data': ['0x4e6f6e65']} \n",
      "\n",
      "{'scoreAddress': 'cxc90923dcda13208620144e7f7e43153b1adcdc4b', 'indexed': ['FeePaid(str,int,str,str)', 'bnUSD', '0x6f05b59d3b20000', 'origination'], 'data': ['']} \n",
      "\n",
      "------------------------------------------------------------------------------------------------------------------\n",
      "Reading getAccountPositions, with parameters {'_owner': 'hx3f01840a599da07b0f620eeae7aa9c574169a4be'} on the loans contract.\n",
      "------------------------------------------------------------------------------------------------------------------\n",
      "{'pos_id': '0x1', 'created': '0x5bed12cce85d9', 'address': 'hx3f01840a599da07b0f620eeae7aa9c574169a4be', 'snap_id': '0x1', 'snaps_length': '0x1', 'last_snap': '0x1', 'first day': '0x1', 'assets': {'sICX': '0x10ce1d3d8cb3180000', 'bnUSD': '0x2bcd40a70853a0000'}, 'replay_index': '0x0', 'events_behind': '0x0', 'total_debt': '0x0', 'ratio': '0x8e78292fc94f4211', 'standing': 'Mining'}\n",
      "------------------------------------------------------------------------------------------------------------------\n",
      "Reading getAccountPositions, with parameters {'_owner': 'hxe7af5fcfd8dfc67530a01a0e403882687528dfcb'} on the loans contract.\n",
      "------------------------------------------------------------------------------------------------------------------\n",
      "{'pos_id': '0x2', 'created': '0x5bed15693cbc6', 'address': 'hxe7af5fcfd8dfc67530a01a0e403882687528dfcb', 'snap_id': '0x1', 'snaps_length': '0x1', 'last_snap': '0x1', 'first day': '0x1', 'assets': {'sICX': '0xad78ebc5ac6200000', 'bnUSD': '0x2bcd40a70853a0000'}, 'replay_index': '0x0', 'events_behind': '0x0', 'total_debt': '0x0', 'ratio': '0x5bea6d271685b703', 'standing': 'Mining'}\n",
      "......!!!!!!!!!!!!!!!!............\n",
      ".....Test Successfull...\n"
     ]
    }
   ],
   "source": [
    "test_cases = {\n",
    "        \"stories\":[\n",
    "            {\n",
    "            \"description\": \"mint loan to account wallet from btest_wallet\",\n",
    "            \"actions\":{\n",
    "                \"deposited_icx\": 200 * ICX,\n",
    "                \"acc_method\":\"getAccountPositions\",\n",
    "                \"acc_params\":{\"owner\": btest_wallet.get_address()},\n",
    "                \"new_acc_params\":{\"owner\": wallet.get_address()},\n",
    "                \"collateral_method\":\"addCollateral\",\n",
    "                \"collateral_params\":{\"asset\":\" \", \"amount\": 0 },\n",
    "                \"method\":\"originateLoan\",\n",
    "                \"params\":{\"asset\": \"bnUSD\", \"amount\": 50 * ICX, \"from\":wallet.get_address()}\n",
    "            }\n",
    "        }\n",
    "    ]\n",
    "}\n",
    "\n",
    "for case in test_cases['stories']:\n",
    "    print(case['description'])\n",
    "    _collateral = case['actions']['deposited_icx']\n",
    "    _acc_method = case['actions']['acc_method']\n",
    "    _acc_data = case['actions']['acc_params']\n",
    "    _acc_params = {'_owner':_acc_data['owner']}\n",
    "    _new_acc_data = case['actions']['new_acc_params']\n",
    "    _new_acc_params = {'_owner':_new_acc_data['owner']}\n",
    "    _collateral_method = case['actions']['collateral_method']\n",
    "    _collateral_data = case['actions']['collateral_params']\n",
    "    _collateral_params = {'_asset': _collateral_data['asset'], '_amount': _collateral_data['amount']}\n",
    "    _loan_method = case['actions']['method']\n",
    "    _loan_data = case['actions']['params']\n",
    "    _loan_params = {'_asset': _loan_data['asset'], '_amount': _loan_data['amount'],'_from': _loan_data['from']}\n",
    "\n",
    "    res = call_tx('loans', _acc_method, _new_acc_params)\n",
    "    if res['message'] == 'That address has no outstanding loans or deposited collateral.':\n",
    "        send_tx('loans', _collateral, _collateral_method, _collateral_params, wallet)\n",
    "        send_tx('loans', 0, _loan_method, _loan_params, btest_wallet)\n",
    "    \n",
    "    call_tx('loans', _acc_method, _acc_params)\n",
    "    res = call_tx('loans', _acc_method, _new_acc_params)\n",
    "    if res['standing'] == 'Mining':\n",
    "        print('......!!!!!!!!!!!!!!!!............')\n",
    "        print('.....Test Successfull...')\n",
    "\n"
   ]
  },
  {
   "cell_type": "markdown",
   "metadata": {},
   "source": [
    "Try taking loan from user1 who has deposited 300 ICX and havent taken loan, calling from btest_wallet"
   ]
  },
  {
   "cell_type": "code",
   "execution_count": 50,
   "metadata": {},
   "outputs": [
    {
     "name": "stdout",
     "output_type": "stream",
     "text": [
      "mint loan to account wallet from btest_wallet\n",
      "------------------------------------------------------------------------------------------------------------------\n",
      "Reading getAccountPositions, with parameters {'_owner': 'hxe62d11fa19a0e8575ad92f06bc8fd42edbfe27db'} on the loans contract.\n",
      "------------------------------------------------------------------------------------------------------------------\n",
      "{'pos_id': '0x3', 'created': '0x5bed16c0f85ae', 'address': 'hxe62d11fa19a0e8575ad92f06bc8fd42edbfe27db', 'snap_id': '0x1', 'snaps_length': '0x1', 'last_snap': '0x1', 'first day': '0x1', 'assets': {'sICX': '0xad78ebc5ac6200000'}, 'replay_index': '0x0', 'events_behind': '0x0', 'total_debt': '0x0', 'ratio': '0x0', 'standing': 'No Debt'}\n"
     ]
    },
    {
     "ename": "KeyError",
     "evalue": "'message'",
     "output_type": "error",
     "traceback": [
      "\u001b[0;31m---------------------------------------------------------------------------\u001b[0m",
      "\u001b[0;31mKeyError\u001b[0m                                  Traceback (most recent call last)",
      "\u001b[0;32m<ipython-input-50-ec5a72b10ece>\u001b[0m in \u001b[0;36m<module>\u001b[0;34m\u001b[0m\n\u001b[1;32m     37\u001b[0m \u001b[0;34m\u001b[0m\u001b[0m\n\u001b[1;32m     38\u001b[0m     \u001b[0mres\u001b[0m \u001b[0;34m=\u001b[0m \u001b[0mcall_tx\u001b[0m\u001b[0;34m(\u001b[0m\u001b[0;34m'loans'\u001b[0m\u001b[0;34m,\u001b[0m \u001b[0m_acc_method\u001b[0m\u001b[0;34m,\u001b[0m \u001b[0m_user1_acc_params\u001b[0m\u001b[0;34m)\u001b[0m\u001b[0;34m\u001b[0m\u001b[0;34m\u001b[0m\u001b[0m\n\u001b[0;32m---> 39\u001b[0;31m     \u001b[0;32mif\u001b[0m \u001b[0mres\u001b[0m\u001b[0;34m[\u001b[0m\u001b[0;34m'message'\u001b[0m\u001b[0;34m]\u001b[0m \u001b[0;34m==\u001b[0m \u001b[0;34m'That address has no outstanding loans or deposited collateral.'\u001b[0m\u001b[0;34m:\u001b[0m\u001b[0;34m\u001b[0m\u001b[0;34m\u001b[0m\u001b[0m\n\u001b[0m\u001b[1;32m     40\u001b[0m         \u001b[0msend_tx\u001b[0m\u001b[0;34m(\u001b[0m\u001b[0;34m'loans'\u001b[0m\u001b[0;34m,\u001b[0m \u001b[0m_collateral\u001b[0m\u001b[0;34m,\u001b[0m \u001b[0m_collateral_method\u001b[0m\u001b[0;34m,\u001b[0m \u001b[0m_collateral_params\u001b[0m\u001b[0;34m,\u001b[0m \u001b[0muser1\u001b[0m\u001b[0;34m)\u001b[0m\u001b[0;34m\u001b[0m\u001b[0;34m\u001b[0m\u001b[0m\n\u001b[1;32m     41\u001b[0m         \u001b[0msend_tx\u001b[0m\u001b[0;34m(\u001b[0m\u001b[0;34m'loans'\u001b[0m\u001b[0;34m,\u001b[0m \u001b[0;36m0\u001b[0m\u001b[0;34m,\u001b[0m \u001b[0m_loan_method\u001b[0m\u001b[0;34m,\u001b[0m \u001b[0m_loan_params\u001b[0m\u001b[0;34m,\u001b[0m \u001b[0mbtest_wallet\u001b[0m\u001b[0;34m)\u001b[0m\u001b[0;34m\u001b[0m\u001b[0;34m\u001b[0m\u001b[0m\n",
      "\u001b[0;31mKeyError\u001b[0m: 'message'"
     ]
    }
   ],
   "source": [
    "# 1. Deposit only collateral to user1 wallet of 300 ICX\n",
    "\n",
    "test_cases = {\n",
    "        \"stories\":[\n",
    "            {\n",
    "            \"description\": \"mint loan to account wallet from btest_wallet\",\n",
    "            \"actions\":{\n",
    "                \"deposited_icx\": 300 * ICX,\n",
    "                \"acc_method\":\"getAccountPositions\",\n",
    "                \"acc_params\":{\"owner\": btest_wallet.get_address()},\n",
    "                \"user1_acc_params\":{\"owner\": user1.get_address()},\n",
    "                \"collateral_method\":\"addCollateral\",\n",
    "                \"collateral_params\":{\"asset\":\" \", \"amount\": 0 },\n",
    "                \"method\":\"originateLoan\",\n",
    "                \"params\":{\"asset\": \"bnUSD\", \"amount\": 50 * ICX, \"from\":wallet.get_address()}\n",
    "   \n",
    "            }\n",
    "        }\n",
    "    ]\n",
    "}\n",
    "\n",
    "for case in test_cases['stories']:\n",
    "    print(case['description'])\n",
    "    _collateral = case['actions']['deposited_icx']\n",
    "    _acc_method = case['actions']['acc_method']\n",
    "    _acc_data = case['actions']['acc_params']\n",
    "    _acc_params = {'_owner':_acc_data['owner']}\n",
    "    _user1_acc_data = case['actions']['user1_acc_params']\n",
    "    _user1_acc_params = {'_owner':_user1_acc_data['owner']}\n",
    "    _collateral_method = case['actions']['collateral_method']\n",
    "    _collateral_data = case['actions']['collateral_params']\n",
    "    _collateral_params = {'_asset': _collateral_data['asset'], '_amount': _collateral_data['amount']}\n",
    "    _loan_method = case['actions']['method']\n",
    "    _loan_data = case['actions']['params']\n",
    "    _loan_params = {'_asset': _loan_data['asset'], '_amount': _loan_data['amount'],'_from': _loan_data['from']}\n",
    "\n",
    "    \n",
    "    res = call_tx('loans', _acc_method, _user1_acc_params)\n",
    "    if res['message'] == 'That address has no outstanding loans or deposited collateral.':\n",
    "        send_tx('loans', _collateral, _collateral_method, _collateral_params, user1)\n",
    "        send_tx('loans', 0, _loan_method, _loan_params, btest_wallet)\n",
    "    \n",
    "    res = call_tx('loans', _acc_method, _user1_acc_params)\n",
    "    if res['standing'] == 'Mining':\n",
    "        print('......!!!!!!!!!!!!!!!!............')\n",
    "        print('.....Test Successfull...')\n",
    "\n"
   ]
  },
  {
   "cell_type": "code",
   "execution_count": null,
   "metadata": {},
   "outputs": [],
   "source": []
  }
 ],
 "metadata": {
  "kernelspec": {
   "display_name": "Python 3",
   "language": "python",
   "name": "python3"
  },
  "language_info": {
   "codemirror_mode": {
    "name": "ipython",
    "version": 3
   },
   "file_extension": ".py",
   "mimetype": "text/x-python",
   "name": "python",
   "nbconvert_exporter": "python",
   "pygments_lexer": "ipython3",
   "version": "3.7.6"
  }
 },
 "nbformat": 4,
 "nbformat_minor": 4
}
