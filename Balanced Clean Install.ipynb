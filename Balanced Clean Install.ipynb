{
 "cells": [
  {
   "cell_type": "code",
   "execution_count": null,
   "metadata": {},
   "outputs": [],
   "source": [
    "from IPython.core.display import display, HTML\n",
    "display(HTML(\"<style>.container { width:100% !important; }</style>\"))"
   ]
  },
  {
   "cell_type": "markdown",
   "metadata": {},
   "source": [
    "## Set Up Environment"
   ]
  },
  {
   "cell_type": "code",
   "execution_count": null,
   "metadata": {},
   "outputs": [],
   "source": [
    "network = \"custom\"  # set this to one of mainnet, yeouido, euljiro, pagoda, or custom\n",
    "contracts_file_custom = 'contracts_20210106025209.pkl'\n",
    "\n",
    "connections = {\n",
    "\"mainnet\": {\"iconservice\": \"https://ctz.solidwallet.io\",       \"nid\": 1},\n",
    "\"yeouido\": {\"iconservice\": \"https://bicon.net.solidwallet.io\", \"nid\": 3},\n",
    "\"euljiro\": {\"iconservice\": \"https://test-ctz.solidwallet.io\",  \"nid\": 2},\n",
    "\"pagoda\":  {\"iconservice\": \"https://zicon.net.solidwallet.io\", \"nid\":80},\n",
    "\"custom\":  {\"iconservice\": \"http://52.53.175.151:9000/\",       \"nid\": 3}}\n",
    "\n",
    "env = connections[network]"
   ]
  },
  {
   "cell_type": "code",
   "execution_count": null,
   "metadata": {},
   "outputs": [],
   "source": [
    "from iconsdk.exception import JSONRPCException\n",
    "from iconsdk.libs.in_memory_zip import gen_deploy_data_content\n",
    "from iconsdk.icon_service import IconService\n",
    "from iconsdk.providers.http_provider import HTTPProvider\n",
    "from iconsdk.builder.transaction_builder import CallTransactionBuilder, TransactionBuilder, DeployTransactionBuilder\n",
    "from iconsdk.builder.call_builder import CallBuilder\n",
    "from iconsdk.signed_transaction import SignedTransaction\n",
    "from iconsdk.wallet.wallet import KeyWallet\n",
    "from iconsdk.utils.convert_type import convert_hex_str_to_int\n",
    "from repeater import retry\n",
    "from shutil import make_archive\n",
    "import pickle as pkl\n",
    "from datetime import datetime\n",
    "import json\n",
    "import os\n",
    "\n",
    "ICX = 1000000000000000000 # 10**18\n",
    "GOVERNANCE_ADDRESS = \"cx0000000000000000000000000000000000000000\"\n",
    "ORACLE = \"cx61a36e5d10412e03c907a507d1e8c6c3856d9964\"\n",
    "\n",
    "@retry(JSONRPCException, tries=10, delay=1, back_off=2)\n",
    "def get_tx_result(_tx_hash):\n",
    "    tx_result = icon_service.get_transaction_result(_tx_hash)\n",
    "    return tx_result"
   ]
  },
  {
   "cell_type": "code",
   "execution_count": null,
   "metadata": {},
   "outputs": [],
   "source": [
    "contracts = {}\n",
    "\n",
    "# with open(contracts_file_custom, 'rb') as f:\n",
    "#     contracts = pkl.load(f)\n",
    "\n",
    "contracts = {'loans': {'zip': 'core_contracts/loans.zip',\n",
    "  'SCORE': ''},\n",
    " 'staking': {'zip': 'core_contracts/staking.zip',\n",
    "  'SCORE': ''},\n",
    " 'dividends': {'zip': 'core_contracts/staking.zip',\n",
    "  'SCORE': ''},\n",
    " 'sicx': {'zip': 'token_contracts/sicx.zip',\n",
    "  'SCORE': ''},\n",
    " 'dex': {'zip': 'core_contracts/dex.zip',\n",
    "  'SCORE': ''},\n",
    " 'icd': {'zip': 'token_contracts/icd.zip',\n",
    "  'SCORE': ''},\n",
    " 'dummy_oracle': {'zip': 'core_contracts/dummy_oracle.zip',\n",
    "  'SCORE': ''},\n",
    " 'reserve_fund': {'zip': 'core_contracts/dummy_oracle.zip',\n",
    "  'SCORE': ''},\n",
    " 'bal': {'zip': 'token_contracts/bal.zip',\n",
    "  'SCORE': ''}}"
   ]
  },
  {
   "cell_type": "code",
   "execution_count": null,
   "metadata": {},
   "outputs": [],
   "source": [
    "icon_service = IconService(HTTPProvider(env[\"iconservice\"], 3))\n",
    "NID = env[\"nid\"]"
   ]
  },
  {
   "cell_type": "code",
   "execution_count": null,
   "metadata": {},
   "outputs": [],
   "source": [
    "test_wallet = KeyWallet.load(\"./keystores/keystore_test1.json\", \"test1_Account\")\n",
    "transaction = TransactionBuilder()\\\n",
    "    .from_(wallet.get_address())\\\n",
    "    .to(btest_wallet.get_address())\\\n",
    "    .value(9000000 * ICX)\\\n",
    "    .step_limit(1000000) \\\n",
    "    .nid(NID) \\\n",
    "    .nonce(2) \\\n",
    "    .version(3) \\\n",
    "    .build()\n",
    "signed_transaction = SignedTransaction(transaction, test_wallet)\n",
    "tx_hash = icon_service2.send_transaction(signed_transaction)\n",
    "tx_hash"
   ]
  },
  {
   "cell_type": "code",
   "execution_count": null,
   "metadata": {},
   "outputs": [],
   "source": [
    "wallet = KeyWallet.load(\"keystores/keystore_test1.json\", \"test1_Account\")"
   ]
  },
  {
   "cell_type": "code",
   "execution_count": null,
   "metadata": {},
   "outputs": [],
   "source": [
    "# Balanced test wallet\n",
    "btest_wallet = KeyWallet.load(\"keystores/balanced_test.json\", \"xxxx\")"
   ]
  },
  {
   "cell_type": "markdown",
   "metadata": {},
   "source": [
    "### Send ICX to Balanced test wallet"
   ]
  },
  {
   "cell_type": "code",
   "execution_count": null,
   "metadata": {},
   "outputs": [],
   "source": [
    "test_wallet = KeyWallet.load(\"./keystores/keystore_test1.json\", \"test1_Account\")\n",
    "transaction = TransactionBuilder()\\\n",
    "    .from_(wallet.get_address())\\\n",
    "    .to(btest_wallet.get_address())\\\n",
    "    .value(1000000 * ICX)\\\n",
    "    .step_limit(1000000) \\\n",
    "    .nid(NID) \\\n",
    "    .nonce(2) \\\n",
    "    .version(3) \\\n",
    "    .build()\n",
    "signed_transaction = SignedTransaction(transaction, test_wallet)\n",
    "tx_hash = icon_service.send_transaction(signed_transaction)\n",
    "tx_hash"
   ]
  },
  {
   "cell_type": "code",
   "execution_count": null,
   "metadata": {},
   "outputs": [],
   "source": [
    "# Add the contracts. Copy the output from this cell the the one above to save the contract addresses.\n",
    "# contracts['dividends'] = {'zip': 'core_contracts/dividends.zip', 'SCORE': 'cxceadb6419b92f7170b38b8328dbd8deefb4a1cdb'}\n",
    "deploy = ['loans', 'staking', 'dividends', 'sicx', 'dex', 'icd', 'dummy_oracle', 'reserve_fund', 'bal']\n",
    "for directory in {\"core_contracts\", \"token_contracts\"}:\n",
    "    with os.scandir(directory) as it:\n",
    "        for file in it:\n",
    "            archive_name = directory + \"/\" + file.name\n",
    "            if file.is_dir() and file.name in deploy:\n",
    "                make_archive(archive_name, \"zip\", directory, file.name)\n",
    "                contracts[file.name]['zip'] = archive_name + '.zip'\n",
    "\n",
    "now = datetime.utcnow()\n",
    "filename = f'contracts_{now.year}{str(now.month).zfill(2)}{str(now.day).zfill(2)}{str(now.hour).zfill(2)}{str(now.minute).zfill(2)}{str(now.second).zfill(2)}.pkl'\n",
    "print(f'saving contracts list as {filename}')\n",
    "with open(filename, 'wb') as f:\n",
    "    pkl.dump(contracts, f)\n",
    "contracts"
   ]
  },
  {
   "cell_type": "markdown",
   "metadata": {},
   "source": [
    "## Deploy All SCOREs"
   ]
  },
  {
   "cell_type": "code",
   "execution_count": null,
   "metadata": {},
   "outputs": [],
   "source": [
    "step_limit = 4000100000\n",
    "\n",
    "for score, loc in contracts.items():\n",
    "    deploy_transaction = DeployTransactionBuilder()\\\n",
    "        .from_(wallet.get_address())\\\n",
    "        .to(GOVERNANCE_ADDRESS)\\\n",
    "        .nid(NID)\\\n",
    "        .nonce(100)\\\n",
    "        .content_type(\"application/zip\")\\\n",
    "        .content(gen_deploy_data_content(loc[\"zip\"]))\\\n",
    "        .build()\n",
    "\n",
    "    step_limit = icon_service.estimate_step(deploy_transaction) + 100000\n",
    "    \n",
    "    signed_transaction = SignedTransaction(deploy_transaction, wallet, step_limit)\n",
    "    tx_hash = icon_service.send_transaction(signed_transaction)\n",
    "\n",
    "    res = get_tx_result(tx_hash)\n",
    "    contracts[score][\"SCORE\"] = res.get('scoreAddress', '')\n",
    "    print(score)\n",
    "    print(res)\n",
    "\n",
    "contracts"
   ]
  },
  {
   "cell_type": "markdown",
   "metadata": {},
   "source": [
    "### Deploy a single SCORE"
   ]
  },
  {
   "cell_type": "code",
   "execution_count": null,
   "metadata": {},
   "outputs": [],
   "source": [
    "# Deploy a single SCORE\n",
    "score = 'bal'\n",
    "loc = {'zip': 'token_contracts/bal.zip',  'SCORE': ''}\n",
    "deploy_transaction = DeployTransactionBuilder()\\\n",
    "    .from_(wallet.get_address())\\\n",
    "    .to(GOVERNANCE_ADDRESS)\\\n",
    "    .nid(NID)\\\n",
    "    .nonce(100)\\\n",
    "    .content_type(\"application/zip\")\\\n",
    "    .content(gen_deploy_data_content(loc[\"zip\"]))\\\n",
    "    .build()\n",
    "\n",
    "step_limit = icon_service.estimate_step(deploy_transaction) + 100000\n",
    "\n",
    "signed_transaction = SignedTransaction(deploy_transaction, wallet, step_limit)\n",
    "tx_hash = icon_service.send_transaction(signed_transaction)\n",
    "\n",
    "res = get_tx_result(tx_hash)\n",
    "contracts[score][\"SCORE\"] = res.get('scoreAddress', '')\n",
    "res"
   ]
  },
  {
   "cell_type": "markdown",
   "metadata": {},
   "source": [
    "## Update a SCORE"
   ]
  },
  {
   "cell_type": "code",
   "execution_count": null,
   "metadata": {},
   "outputs": [],
   "source": [
    "contract = 'loans'\n",
    "update = contracts[contract]['SCORE']\n",
    "deploy_transaction = DeployTransactionBuilder()\\\n",
    "    .from_(wallet.get_address())\\\n",
    "    .to(update)\\\n",
    "    .nid(NID)\\\n",
    "    .nonce(100)\\\n",
    "    .content_type(\"application/zip\")\\\n",
    "    .content(gen_deploy_data_content(contracts[contract][\"zip\"]))\\\n",
    "    .build()\n",
    "\n",
    "step_limit = icon_service.estimate_step(deploy_transaction) + 100000\n",
    "\n",
    "signed_transaction = SignedTransaction(deploy_transaction, wallet, step_limit)\n",
    "tx_hash = icon_service.send_transaction(signed_transaction)\n",
    "\n",
    "get_tx_result(tx_hash)\n"
   ]
  },
  {
   "cell_type": "markdown",
   "metadata": {},
   "source": [
    "## Set parameters"
   ]
  },
  {
   "cell_type": "code",
   "execution_count": null,
   "metadata": {},
   "outputs": [],
   "source": [
    "settings = [{'contract': 'sicx', 'method': 'setAdmin', 'params':{'_admin': contracts['staking']['SCORE']}},\n",
    "            {'contract': 'icd', 'method': 'setAdmin', 'params':{'_admin': contracts['loans']['SCORE']}},\n",
    "            {'contract': 'bal', 'method': 'setAdmin', 'params':{'_admin': wallet.get_address()}},\n",
    "            {'contract': 'loans', 'method': 'setAdmin', 'params':{'_admin': wallet.get_address()}},\n",
    "            {'contract': 'icd', 'method': 'set_oracle_address', 'params':{'_address': contracts['dummy_oracle']['SCORE']}},\n",
    "            {'contract': 'staking', 'method': 'set_sICX_address', 'params':{'_address': contracts['sicx']['SCORE']}},\n",
    "            {'contract': 'loans', 'method': 'set_dividends', 'params':{'_address': contracts['dividends']['SCORE']}},\n",
    "            {'contract': 'loans', 'method': 'set_reserve', 'params':{'_address': contracts['reserve_fund']['SCORE']}},\n",
    "            {'contract': 'reserve_fund', 'method': 'set_loans_score', 'params':{'_address': contracts['loans']['SCORE']}},\n",
    "            {'contract': 'reserve_fund', 'method': 'set_baln_token', 'params':{'_address': contracts['bal']['SCORE']}},\n",
    "            {'contract': 'reserve_fund', 'method': 'set_sicx_token', 'params':{'_address': contracts['sicx']['SCORE']}},\n",
    "            {'contract': 'sicx', 'method': 'set_staking_address', 'params':{'_address': contracts['staking']['SCORE']}},\n",
    "            {'contract': 'bal', 'method': 'mint', 'params':{'_amount': 10 * ICX}},\n",
    "            {'contract': 'bal', 'method': 'mintTo', 'params':{'_account': contracts['reserve_fund']['SCORE'], '_amount': 1000 * ICX}},\n",
    "            {'contract': 'loans', 'method': 'add_asset', 'params':{'_token_address': contracts['sicx']['SCORE'], 'is_active': 1, 'is_collateral': 1}},\n",
    "            {'contract': 'loans', 'method': 'add_asset', 'params':{'_token_address': contracts['icd']['SCORE'], 'is_active': 1, 'is_collateral': 0}},\n",
    "            {'contract': 'loans', 'method': 'add_asset', 'params':{'_token_address': contracts['bal']['SCORE'], 'is_active': 0, 'is_collateral': 1}},\n",
    "            {'contract': 'loans', 'method': 'toggle_loans_on', 'params':{}}]"
   ]
  },
  {
   "cell_type": "code",
   "execution_count": null,
   "metadata": {},
   "outputs": [],
   "source": [
    "for sett in settings:\n",
    "    print(f'\\n')\n",
    "    print(f'Calling {sett[\"method\"]}, with parameters {sett[\"params\"]} on the {sett[\"contract\"]} contract.')\n",
    "    transaction = CallTransactionBuilder()\\\n",
    "        .from_(wallet.get_address())\\\n",
    "        .to(contracts[sett['contract']]['SCORE'])\\\n",
    "        .value(0)\\\n",
    "        .step_limit(10000000)\\\n",
    "        .nid(NID)\\\n",
    "        .nonce(100)\\\n",
    "        .method(sett['method'])\\\n",
    "        .params(sett['params'])\\\n",
    "        .build()\n",
    "    signed_transaction = SignedTransaction(transaction, wallet)\n",
    "    tx_hash = icon_service.send_transaction(signed_transaction)\n",
    "    tx_hash\n",
    "    print(get_tx_result(tx_hash))"
   ]
  },
  {
   "cell_type": "markdown",
   "metadata": {},
   "source": [
    "## Run through read-only methods on all SCOREs"
   ]
  },
  {
   "cell_type": "markdown",
   "metadata": {},
   "source": [
    "### A single read-only method"
   ]
  },
  {
   "cell_type": "code",
   "execution_count": null,
   "metadata": {},
   "outputs": [],
   "source": [
    "params = {'_owner': wallet.get_address()}\n",
    "call = CallBuilder().from_(wallet.get_address())\\\n",
    "                    .to(contracts['loans']['SCORE'])\\\n",
    "                    .method('get_account_positions')\\\n",
    "                    .params(params)\\\n",
    "                    .build()\n",
    "result = icon_service.call(call)\n",
    "result"
   ]
  },
  {
   "cell_type": "code",
   "execution_count": null,
   "metadata": {},
   "outputs": [],
   "source": [
    "ro_methods = {\"loans\": [\"name\", \"get_available_assets\", \"asset_count\", \"get_total_collateral\"],\n",
    "              \"staking\": [\"name\", \"get_sICX_address\", \"get_rate\"],\n",
    "              \"sicx\": [\"name\", \"symbol\", \"decimals\", \"totalSupply\", \"getAdmin\"],\n",
    "              \"icd\": [\"name\", \"symbol\", \"decimals\", \"totalSupply\", \"getAdmin\"],\n",
    "              \"bal\": [\"name\", \"symbol\", \"decimals\", \"totalSupply\", \"getAdmin\"]\n",
    "              }"
   ]
  },
  {
   "cell_type": "code",
   "execution_count": null,
   "metadata": {},
   "outputs": [],
   "source": [
    "results = {}\n",
    "for score in ro_methods.keys():\n",
    "    print()\n",
    "    print(f'SCORE: {score}')\n",
    "    print(f'Address: {contracts[score][\"SCORE\"]}')\n",
    "    results[score] = {}\n",
    "    for method in ro_methods[score]:\n",
    "        call = CallBuilder().from_(wallet.get_address())\\\n",
    "                            .to(contracts[score]['SCORE'])\\\n",
    "                            .method(method)\\\n",
    "                            .build()\n",
    "        result = icon_service.call(call)\n",
    "        if method in ['totalSupply', 'decimals', 'get_total_collateral', 'get_rate']:\n",
    "            result = int(result, 0)\n",
    "            if method in ['totalSupply', 'get_total_collateral', 'get_rate']:\n",
    "                result = result / ICX\n",
    "        print(f'{method}: {result}')\n",
    "        results[score][method] = result"
   ]
  },
  {
   "cell_type": "markdown",
   "metadata": {},
   "source": [
    "## Deposit ICX and Mint ICD Loan"
   ]
  },
  {
   "cell_type": "code",
   "execution_count": null,
   "metadata": {},
   "outputs": [],
   "source": [
    "data = \"{\\\"method\\\": \\\"_deposit_and_borrow\\\", \\\"params\\\": {\\\"_asset\\\": \\\"ICD\\\", \\\"_amount\\\": 40000000000000000000}}\".encode(\"utf-8\")\n",
    "params = {'_to': contracts['loans']['SCORE'], '_data': data}\n",
    "transaction = CallTransactionBuilder()\\\n",
    "    .from_(wallet.get_address())\\\n",
    "    .to(contracts['staking']['SCORE'])\\\n",
    "    .value(800 * ICX)\\\n",
    "    .step_limit(10000000)\\\n",
    "    .nid(NID)\\\n",
    "    .nonce(100)\\\n",
    "    .method(\"add_collateral\")\\\n",
    "    .params(params)\\\n",
    "    .build()\n",
    "signed_transaction = SignedTransaction(transaction, wallet)\n",
    "tx_hash = icon_service.send_transaction(signed_transaction)\n",
    "tx_hash\n",
    "print(get_tx_result(tx_hash))"
   ]
  },
  {
   "cell_type": "markdown",
   "metadata": {},
   "source": [
    "### Just deposit collateral"
   ]
  },
  {
   "cell_type": "code",
   "execution_count": null,
   "metadata": {},
   "outputs": [],
   "source": [
    "data = \"{\\\"method\\\": \\\"_deposit_and_borrow\\\", \\\"params\\\": {\\\"_asset\\\": \\\"\\\", \\\"_amount\\\": 0}}\".encode(\"utf-8\")\n",
    "params = {'_to': contracts['loans']['SCORE'], '_data': data}\n",
    "transaction = CallTransactionBuilder()\\\n",
    "    .from_(wallet.get_address())\\\n",
    "    .to(contracts['staking']['SCORE'])\\\n",
    "    .value(30 * ICX)\\\n",
    "    .step_limit(10000000)\\\n",
    "    .nid(NID)\\\n",
    "    .nonce(100)\\\n",
    "    .method(\"add_collateral\")\\\n",
    "    .params(params)\\\n",
    "    .build()\n",
    "signed_transaction = SignedTransaction(transaction, wallet)\n",
    "tx_hash = icon_service.send_transaction(signed_transaction)\n",
    "tx_hash\n",
    "print(get_tx_result(tx_hash))"
   ]
  },
  {
   "cell_type": "markdown",
   "metadata": {},
   "source": [
    "### Repay Some ICD"
   ]
  },
  {
   "cell_type": "code",
   "execution_count": null,
   "metadata": {},
   "outputs": [],
   "source": [
    "data = \"{\\\"method\\\": \\\"_repay_loan\\\", \\\"params\\\": {}}\".encode(\"utf-8\")\n",
    "params = {'_to': contracts['loans']['SCORE'], '_value': 5 * ICX, '_data': data}\n",
    "transaction = CallTransactionBuilder()\\\n",
    "    .from_(wallet.get_address())\\\n",
    "    .to(contracts['icd']['SCORE'])\\\n",
    "    .value(0)\\\n",
    "    .step_limit(10000000)\\\n",
    "    .nid(NID)\\\n",
    "    .nonce(100)\\\n",
    "    .method(\"transfer\")\\\n",
    "    .params(params)\\\n",
    "    .build()\n",
    "signed_transaction = SignedTransaction(transaction, wallet)\n",
    "tx_hash = icon_service.send_transaction(signed_transaction)\n",
    "tx_hash\n",
    "print(get_tx_result(tx_hash))"
   ]
  },
  {
   "cell_type": "markdown",
   "metadata": {},
   "source": [
    "### Withdraw Some Collateral"
   ]
  },
  {
   "cell_type": "code",
   "execution_count": null,
   "metadata": {},
   "outputs": [],
   "source": [
    "params = {'_value': 5 * ICX}\n",
    "transaction = CallTransactionBuilder()\\\n",
    "    .from_(wallet.get_address())\\\n",
    "    .to(contracts['loans']['SCORE'])\\\n",
    "    .value(0)\\\n",
    "    .step_limit(10000000)\\\n",
    "    .nid(NID)\\\n",
    "    .nonce(100)\\\n",
    "    .method(\"withdraw_collateral\")\\\n",
    "    .params(params)\\\n",
    "    .build()\n",
    "signed_transaction = SignedTransaction(transaction, wallet)\n",
    "tx_hash = icon_service.send_transaction(signed_transaction)\n",
    "tx_hash\n",
    "print(get_tx_result(tx_hash))"
   ]
  },
  {
   "cell_type": "markdown",
   "metadata": {},
   "source": [
    "### Test Liquidation"
   ]
  },
  {
   "cell_type": "code",
   "execution_count": null,
   "metadata": {},
   "outputs": [],
   "source": [
    "# Deposit collateral to fresh wallet\n",
    "data = \"{\\\"method\\\": \\\"_deposit_and_borrow\\\", \\\"params\\\": {\\\"_asset\\\": \\\"\\\", \\\"_amount\\\": 0}}\".encode(\"utf-8\")\n",
    "params = {'_to': contracts['loans']['SCORE'], '_data': data}\n",
    "transaction = CallTransactionBuilder()\\\n",
    "    .from_(btest_wallet.get_address())\\\n",
    "    .to(contracts['staking']['SCORE'])\\\n",
    "    .value(782769 * ICX // 1000)\\\n",
    "    .step_limit(10000000)\\\n",
    "    .nid(NID)\\\n",
    "    .nonce(100)\\\n",
    "    .method(\"add_collateral\")\\\n",
    "    .params(params)\\\n",
    "    .build()\n",
    "signed_transaction = SignedTransaction(transaction, btest_wallet)\n",
    "tx_hash = icon_service.send_transaction(signed_transaction)\n",
    "tx_hash\n",
    "print(get_tx_result(tx_hash))"
   ]
  },
  {
   "cell_type": "markdown",
   "metadata": {},
   "source": [
    "#### Update the loans SCORE to add a loan of ICD to the Balanced test wallet\n",
    "Code in the on_update() method will mint and add the ICD. Adds an undercollateralized amount of ICD, 200 ICD."
   ]
  },
  {
   "cell_type": "code",
   "execution_count": null,
   "metadata": {},
   "outputs": [],
   "source": [
    "params = {'_position': btest_wallet.get_address()}\n",
    "transaction = CallTransactionBuilder()\\\n",
    "    .from_(wallet.get_address())\\\n",
    "    .to(contracts['loans']['SCORE'])\\\n",
    "    .value(0)\\\n",
    "    .step_limit(10000000)\\\n",
    "    .nid(NID)\\\n",
    "    .nonce(100)\\\n",
    "    .method(\"liquidate\")\\\n",
    "    .params(params)\\\n",
    "    .build()\n",
    "signed_transaction = SignedTransaction(transaction, wallet)\n",
    "tx_hash = icon_service.send_transaction(signed_transaction)\n",
    "tx_hash\n",
    "print(get_tx_result(tx_hash))"
   ]
  },
  {
   "cell_type": "code",
   "execution_count": null,
   "metadata": {},
   "outputs": [],
   "source": [
    "params = {'_owner': btest_wallet.get_address()}\n",
    "call = CallBuilder().from_(wallet.get_address())\\\n",
    "                    .to(contracts['loans']['SCORE'])\\\n",
    "                    .method('get_account_positions')\\\n",
    "                    .params(params)\\\n",
    "                    .build()\n",
    "result = icon_service.call(call)\n",
    "result"
   ]
  },
  {
   "cell_type": "code",
   "execution_count": null,
   "metadata": {},
   "outputs": [],
   "source": [
    "params = {'_owner': btest_wallet.get_address()}\n",
    "call = CallBuilder().from_(wallet.get_address())\\\n",
    "                    .to(contracts['loans']['SCORE'])\\\n",
    "                    .method('get_account_positions')\\\n",
    "                    .params(params)\\\n",
    "                    .build()\n",
    "result = icon_service.call(call)\n",
    "result"
   ]
  },
  {
   "cell_type": "code",
   "execution_count": null,
   "metadata": {},
   "outputs": [],
   "source": [
    "params = {'_owner': btest_wallet.get_address()}\n",
    "call = CallBuilder().from_(wallet.get_address())\\\n",
    "                    .to(contracts['icd']['SCORE'])\\\n",
    "                    .method('balanceOf')\\\n",
    "                    .params(params)\\\n",
    "                    .build()\n",
    "result = icon_service.call(call)\n",
    "result"
   ]
  },
  {
   "cell_type": "code",
   "execution_count": null,
   "metadata": {},
   "outputs": [],
   "source": []
  }
 ],
 "metadata": {
  "kernelspec": {
   "display_name": "Python 3",
   "language": "python",
   "name": "python3"
  },
  "language_info": {
   "codemirror_mode": {
    "name": "ipython",
    "version": 3
   },
   "file_extension": ".py",
   "mimetype": "text/x-python",
   "name": "python",
   "nbconvert_exporter": "python",
   "pygments_lexer": "ipython3",
   "version": "3.6.10"
  }
 },
 "nbformat": 4,
 "nbformat_minor": 4
}
