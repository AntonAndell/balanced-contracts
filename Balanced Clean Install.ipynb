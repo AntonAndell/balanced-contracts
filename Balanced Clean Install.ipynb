{
 "cells": [
  {
   "cell_type": "code",
   "execution_count": null,
   "metadata": {},
   "outputs": [],
   "source": [
    "from IPython.core.display import display, HTML\n",
    "display(HTML(\"<style>.container { width:100% !important; }</style>\"))"
   ]
  },
  {
   "cell_type": "markdown",
   "metadata": {},
   "source": [
    "## Set Up Environment"
   ]
  },
  {
   "cell_type": "code",
   "execution_count": null,
   "metadata": {},
   "outputs": [],
   "source": [
    "network = \"custom\"  # set this to one of mainnet, yeouido, euljiro, pagoda, or custom\n",
    "contracts_file_custom = 'contracts_20210122074935.pkl'\n",
    "\n",
    "connections = {\n",
    "\"mainnet\": {\"iconservice\": \"https://ctz.solidwallet.io\",       \"nid\": 1},\n",
    "\"yeouido\": {\"iconservice\": \"https://bicon.net.solidwallet.io\", \"nid\": 3},\n",
    "\"euljiro\": {\"iconservice\": \"https://test-ctz.solidwallet.io\",  \"nid\": 2},\n",
    "\"pagoda\":  {\"iconservice\": \"https://zicon.net.solidwallet.io\", \"nid\":80},\n",
    "\"custom\":  {\"iconservice\": \"http://52.53.175.151:9000/\",       \"nid\": 3}}\n",
    "\n",
    "env = connections[network]"
   ]
  },
  {
   "cell_type": "code",
   "execution_count": null,
   "metadata": {},
   "outputs": [],
   "source": [
    "from iconsdk.exception import JSONRPCException\n",
    "from iconsdk.libs.in_memory_zip import gen_deploy_data_content\n",
    "from iconsdk.icon_service import IconService\n",
    "from iconsdk.providers.http_provider import HTTPProvider\n",
    "from iconsdk.builder.transaction_builder import CallTransactionBuilder, TransactionBuilder, DeployTransactionBuilder\n",
    "from iconsdk.builder.call_builder import CallBuilder\n",
    "from iconsdk.signed_transaction import SignedTransaction\n",
    "from iconsdk.wallet.wallet import KeyWallet\n",
    "from iconsdk.utils.convert_type import convert_hex_str_to_int\n",
    "from repeater import retry\n",
    "from shutil import make_archive\n",
    "import pickle as pkl\n",
    "from datetime import datetime\n",
    "import json\n",
    "import os\n",
    "\n",
    "ICX = 1000000000000000000 # 10**18\n",
    "GOVERNANCE_ADDRESS = \"cx0000000000000000000000000000000000000000\"\n",
    "ORACLE = \"cx61a36e5d10412e03c907a507d1e8c6c3856d9964\"\n",
    "\n",
    "@retry(JSONRPCException, tries=10, delay=1, back_off=2)\n",
    "def get_tx_result(_tx_hash):\n",
    "    tx_result = icon_service.get_transaction_result(_tx_hash)\n",
    "    return tx_result"
   ]
  },
  {
   "cell_type": "code",
   "execution_count": null,
   "metadata": {},
   "outputs": [],
   "source": [
    "contracts = {}\n",
    "\n",
    "# with open(contracts_file_custom, 'rb') as f:\n",
    "#     contracts = pkl.load(f)\n",
    "\n",
    "contracts = {'loans': {'zip': 'core_contracts/loans.zip',\n",
    "  'SCORE': ''},\n",
    " 'staking': {'zip': 'core_contracts/staking.zip',\n",
    "  'SCORE': ''},\n",
    " 'dividends': {'zip': 'core_contracts/dividends.zip',\n",
    "  'SCORE': ''},\n",
    " 'reserve_fund': {'zip': 'core_contracts/reserve_fund.zip',\n",
    "  'SCORE': ''},\n",
    " 'rewards': {'zip': 'core_contracts/rewards.zip',\n",
    "  'SCORE': ''},\n",
    " 'dex': {'zip': 'core_contracts/dex.zip',\n",
    "  'SCORE': ''},\n",
    " 'governance': {'zip': 'core_contracts/governance.zip',\n",
    "  'SCORE': ''},\n",
    " 'dummy_oracle': {'zip': 'core_contracts/dummy_oracle.zip',\n",
    "  'SCORE': ''},\n",
    " 'sicx': {'zip': 'token_contracts/sicx.zip',\n",
    "  'SCORE': ''},\n",
    " 'icd': {'zip': 'token_contracts/icd.zip',\n",
    "  'SCORE': ''},\n",
    " 'bal': {'zip': 'token_contracts/bal.zip',\n",
    "  'SCORE': ''},\n",
    " 'bwt': {'zip': 'token_contracts/bwt.zip',\n",
    "  'SCORE': ''}}"
   ]
  },
  {
   "cell_type": "code",
   "execution_count": null,
   "metadata": {},
   "outputs": [],
   "source": [
    "icon_service = IconService(HTTPProvider(env[\"iconservice\"], 3))\n",
    "NID = env[\"nid\"]"
   ]
  },
  {
   "cell_type": "code",
   "execution_count": null,
   "metadata": {},
   "outputs": [],
   "source": [
    "wallet = KeyWallet.load(\"keystores/keystore_test1.json\", \"test1_Account\")"
   ]
  },
  {
   "cell_type": "code",
   "execution_count": null,
   "metadata": {},
   "outputs": [],
   "source": [
    "# Balanced test wallet\n",
    "with open(\"keystores/balanced_test.pwd\", \"r\") as f:\n",
    "    key_data = f.read()\n",
    "btest_wallet = KeyWallet.load(\"keystores/balanced_test.json\", key_data)"
   ]
  },
  {
   "cell_type": "markdown",
   "metadata": {},
   "source": [
    "### Send ICX to Balanced test wallet"
   ]
  },
  {
   "cell_type": "code",
   "execution_count": null,
   "metadata": {},
   "outputs": [],
   "source": [
    "test_wallet = KeyWallet.load(\"./keystores/keystore_test1.json\", \"test1_Account\")\n",
    "transaction = TransactionBuilder()\\\n",
    "    .from_(wallet.get_address())\\\n",
    "    .to(btest_wallet.get_address())\\\n",
    "    .value(1000000 * ICX)\\\n",
    "    .step_limit(1000000) \\\n",
    "    .nid(NID) \\\n",
    "    .nonce(2) \\\n",
    "    .version(3) \\\n",
    "    .build()\n",
    "signed_transaction = SignedTransaction(transaction, test_wallet)\n",
    "tx_hash = icon_service.send_transaction(signed_transaction)\n",
    "tx_hash"
   ]
  },
  {
   "cell_type": "code",
   "execution_count": null,
   "metadata": {},
   "outputs": [],
   "source": [
    "# Add the contracts. Copy the output from this cell the the one above to save the contract addresses.\n",
    "# contracts['dividends'] = {'zip': 'core_contracts/dividends.zip', 'SCORE': 'cxceadb6419b92f7170b38b8328dbd8deefb4a1cdb'}\n",
    "deploy = ['loans', 'staking', 'dividends', 'rewards', 'reserve_fund', 'governance', 'dummy_oracle', 'sicx', 'dex', 'icd', 'bal', 'bwt']\n",
    "for directory in {\"core_contracts\", \"token_contracts\"}:\n",
    "    with os.scandir(directory) as it:\n",
    "        for file in it:\n",
    "            archive_name = directory + \"/\" + file.name\n",
    "            if file.is_dir() and file.name in deploy:\n",
    "                make_archive(archive_name, \"zip\", directory, file.name)\n",
    "                contracts[file.name]['zip'] = archive_name + '.zip'\n",
    "\n",
    "contracts"
   ]
  },
  {
   "cell_type": "code",
   "execution_count": null,
   "metadata": {},
   "outputs": [],
   "source": [
    "# save contracts to file\n",
    "# now = datetime.utcnow()\n",
    "# filename = f'contracts_{now.year}{str(now.month).zfill(2)}{str(now.day).zfill(2)}{str(now.hour).zfill(2)}{str(now.minute).zfill(2)}{str(now.second).zfill(2)}.pkl'\n",
    "# print(f'saving contracts list as {filename}')\n",
    "# with open(filename, 'wb') as f:\n",
    "#     pkl.dump(contracts, f)"
   ]
  },
  {
   "cell_type": "code",
   "execution_count": null,
   "metadata": {},
   "outputs": [],
   "source": [
    "def get_scores_json(contracts):\n",
    "    scores = {}\n",
    "    for score in contracts:\n",
    "        scores[score] = contracts[score]['SCORE']\n",
    "    return json.dumps(scores)"
   ]
  },
  {
   "cell_type": "code",
   "execution_count": null,
   "metadata": {
    "scrolled": true
   },
   "outputs": [],
   "source": [
    "print(get_scores_json(contracts))"
   ]
  },
  {
   "cell_type": "markdown",
   "metadata": {},
   "source": [
    "## Deploy All SCOREs"
   ]
  },
  {
   "cell_type": "code",
   "execution_count": null,
   "metadata": {
    "scrolled": true
   },
   "outputs": [],
   "source": [
    "step_limit = 4000100000\n",
    "\n",
    "for score, loc in contracts.items():\n",
    "    deploy_transaction = DeployTransactionBuilder()\\\n",
    "        .from_(wallet.get_address())\\\n",
    "        .to(GOVERNANCE_ADDRESS)\\\n",
    "        .nid(NID)\\\n",
    "        .nonce(100)\\\n",
    "        .content_type(\"application/zip\")\\\n",
    "        .content(gen_deploy_data_content(loc[\"zip\"]))\\\n",
    "        .build()\n",
    "\n",
    "#     step_limit = icon_service.estimate_step(deploy_transaction) + 100000\n",
    "    \n",
    "    signed_transaction = SignedTransaction(deploy_transaction, wallet, step_limit)\n",
    "    tx_hash = icon_service.send_transaction(signed_transaction)\n",
    "\n",
    "    res = get_tx_result(tx_hash)\n",
    "    contracts[score][\"SCORE\"] = res.get('scoreAddress', '')\n",
    "    print(score)\n",
    "    print(res)\n",
    "\n",
    "contracts"
   ]
  },
  {
   "cell_type": "markdown",
   "metadata": {},
   "source": [
    "### Deploy a single SCORE"
   ]
  },
  {
   "cell_type": "code",
   "execution_count": null,
   "metadata": {},
   "outputs": [],
   "source": [
    "# Deploy a single SCORE\n",
    "contract = 'reserve_fund'\n",
    "update = contracts[contract]['SCORE']\n",
    "zip_file = contracts[contract]['zip']\n",
    "deploy_transaction = DeployTransactionBuilder()\\\n",
    "    .from_(wallet.get_address())\\\n",
    "    .to(GOVERNANCE_ADDRESS)\\\n",
    "    .nid(NID)\\\n",
    "    .nonce(100)\\\n",
    "    .content_type(\"application/zip\")\\\n",
    "    .content(gen_deploy_data_content(zip_file))\\\n",
    "    .build()\n",
    "\n",
    "step_limit = 10000000000\n",
    "\n",
    "\n",
    "signed_transaction = SignedTransaction(deploy_transaction, wallet, step_limit)\n",
    "tx_hash = icon_service.send_transaction(signed_transaction)\n",
    "\n",
    "res = get_tx_result(tx_hash)\n",
    "update = res.get('scoreAddress', '')\n",
    "res"
   ]
  },
  {
   "cell_type": "markdown",
   "metadata": {},
   "source": [
    "## Update a SCORE"
   ]
  },
  {
   "cell_type": "code",
   "execution_count": null,
   "metadata": {},
   "outputs": [],
   "source": [
    "contract = 'dex'\n",
    "update = contracts[contract]['SCORE']\n",
    "zip_file = contracts[contract]['zip']\n",
    "deploy_transaction = DeployTransactionBuilder()\\\n",
    "    .from_(wallet.get_address())\\\n",
    "    .to(update)\\\n",
    "    .nid(NID)\\\n",
    "    .nonce(100)\\\n",
    "    .content_type(\"application/zip\")\\\n",
    "    .content(gen_deploy_data_content(zip_file))\\\n",
    "    .build()\n",
    "\n",
    "# step_limit = icon_service.estimate_step(deploy_transaction) + 100000\n",
    "step_limit = 3000000000\n",
    "\n",
    "signed_transaction = SignedTransaction(deploy_transaction, wallet, step_limit)\n",
    "tx_hash = icon_service.send_transaction(signed_transaction)\n",
    "\n",
    "get_tx_result(tx_hash)\n"
   ]
  },
  {
   "cell_type": "markdown",
   "metadata": {},
   "source": [
    "## Set parameters"
   ]
  },
  {
   "cell_type": "code",
   "execution_count": null,
   "metadata": {},
   "outputs": [],
   "source": [
    "settings = [{'contract': 'sicx', 'method': 'setAdmin', 'params':{'_admin': contracts['staking']['SCORE']}},\n",
    "            {'contract': 'sicx', 'method': 'setStakingAddress', 'params':{'_address': contracts['staking']['SCORE']}},\n",
    "            {'contract': 'icd', 'method': 'setAdmin', 'params':{'_admin': contracts['loans']['SCORE']}},\n",
    "            {'contract': 'icd', 'method': 'setOracle', 'params':{'_address': contracts['dummy_oracle']['SCORE'], '_name': 'Dummy'}},\n",
    "            {'contract': 'bal', 'method': 'setAdmin', 'params':{'_admin': wallet.get_address()}},\n",
    "            {'contract': 'bal', 'method': 'mint', 'params':{'_amount': 10 * ICX}},\n",
    "            {'contract': 'bwt', 'method': 'setAdmin', 'params':{'_admin': contracts['governance']['SCORE']}},\n",
    "            {'contract': 'staking', 'method': 'setSicxAddress', 'params':{'_address': contracts['sicx']['SCORE']}},\n",
    "            {'contract': 'reserve_fund', 'method': 'setLoansScore', 'params':{'_address': contracts['loans']['SCORE']}},\n",
    "            {'contract': 'reserve_fund', 'method': 'setBalnToken', 'params':{'_address': contracts['bal']['SCORE']}},\n",
    "            {'contract': 'reserve_fund', 'method': 'setSicxToken', 'params':{'_address': contracts['sicx']['SCORE']}},\n",
    "            {'contract': 'bal', 'method': 'mintTo', 'params':{'_account': contracts['reserve_fund']['SCORE'], '_amount': 1000 * ICX}},\n",
    "            {'contract': 'dividends', 'method': 'setLoansScore', 'params':{'_address': contracts['loans']['SCORE']}},\n",
    "            {'contract': 'rewards', 'method': 'setTokenAddress', 'params':{'_address': contracts['bal']['SCORE']}},\n",
    "            {'contract': 'rewards', 'method': 'setBatchSize', 'params':{'_batch_size': 10}},\n",
    "            {'contract': 'rewards', 'method': 'addNewDataSource', 'params':{'_data_source_name': 'Loans', '_contract_address': contracts['loans']['SCORE']}},\n",
    "            {'contract': 'dex', 'method': 'setGovernance', 'params':{'_address': contracts['governance']['SCORE']}},\n",
    "            {'contract': 'dex', 'method': 'setAdmin', 'params':{'_admin': wallet.get_address()}},\n",
    "            {'contract': 'dex', 'method': 'setRewards', 'params':{'_address': contracts['rewards']['SCORE']}},\n",
    "            {'contract': 'dex', 'method': 'set_staking_address', 'params':{'_address': contracts['staking']['SCORE']}},\n",
    "            {'contract': 'dex', 'method': 'set_sICX_address', 'params':{'_address': contracts['sicx']['SCORE']}},\n",
    "            {'contract': 'dex', 'method': 'set_dividends_address', 'params':{'_address': contracts['dividends']['SCORE']}},\n",
    "            {'contract': 'loans', 'method': 'setAdmin', 'params':{'_admin': wallet.get_address()}},\n",
    "            {'contract': 'loans', 'method': 'setGovernance', 'params':{'_address': contracts['governance']['SCORE']}},\n",
    "            {'contract': 'loans', 'method': 'setDividends', 'params':{'_address': contracts['dividends']['SCORE']}},\n",
    "            {'contract': 'loans', 'method': 'setReserve', 'params':{'_address': contracts['reserve_fund']['SCORE']}},\n",
    "            {'contract': 'loans', 'method': 'setRewards', 'params':{'_address': contracts['rewards']['SCORE']}},\n",
    "            {'contract': 'loans', 'method': 'addAsset', 'params':{'_token_address': contracts['sicx']['SCORE'], 'is_active': 1, 'is_collateral': 1}},\n",
    "            {'contract': 'loans', 'method': 'addAsset', 'params':{'_token_address': contracts['icd']['SCORE'], 'is_active': 1, 'is_collateral': 0}},\n",
    "            {'contract': 'loans', 'method': 'addAsset', 'params':{'_token_address': contracts['bal']['SCORE'], 'is_active': 0, 'is_collateral': 1}},\n",
    "            {'contract': 'governance', 'method': 'setLoansScore', 'params':{'_address': contracts['loans']['SCORE']}},\n",
    "            {'contract': 'governance', 'method': 'launchBalanced', 'params':{}}]"
   ]
  },
  {
   "cell_type": "code",
   "execution_count": null,
   "metadata": {
    "scrolled": true
   },
   "outputs": [],
   "source": [
    "for sett in settings:\n",
    "    print(f'\\n')\n",
    "    print(f'Calling {sett[\"method\"]}, with parameters {sett[\"params\"]} on the {sett[\"contract\"]} contract.')\n",
    "    transaction = CallTransactionBuilder()\\\n",
    "        .from_(wallet.get_address())\\\n",
    "        .to(contracts[sett['contract']]['SCORE'])\\\n",
    "        .value(0)\\\n",
    "        .step_limit(10000000)\\\n",
    "        .nid(NID)\\\n",
    "        .nonce(100)\\\n",
    "        .method(sett['method'])\\\n",
    "        .params(sett['params'])\\\n",
    "        .build()\n",
    "    signed_transaction = SignedTransaction(transaction, wallet)\n",
    "    tx_hash = icon_service.send_transaction(signed_transaction)\n",
    "    tx_hash\n",
    "    print(get_tx_result(tx_hash))"
   ]
  },
  {
   "cell_type": "markdown",
   "metadata": {},
   "source": [
    "## Run through read-only methods on all SCOREs"
   ]
  },
  {
   "cell_type": "markdown",
   "metadata": {},
   "source": [
    "### A single read-only method"
   ]
  },
  {
   "cell_type": "code",
   "execution_count": null,
   "metadata": {},
   "outputs": [],
   "source": [
    "params = {}\n",
    "call = CallBuilder().from_(wallet.get_address())\\\n",
    "                    .to(contracts['staking']['SCORE'])\\\n",
    "                    .method('getSicxAddress')\\\n",
    "                    .params(params)\\\n",
    "                    .build()\n",
    "result = icon_service.call(call)\n",
    "result\n",
    "# int(result, 0)"
   ]
  },
  {
   "cell_type": "code",
   "execution_count": null,
   "metadata": {},
   "outputs": [],
   "source": [
    "ro_methods = {\"loans\": [\"name\", \"getAvailableAssets\", \"assetCount\", \"getCollateralTokens\", \"getTotalCollateral\"],\n",
    "              \"staking\": [\"name\", \"getSicxAddress\", \"getTodayRate\"],\n",
    "              \"sicx\": [\"name\", \"symbol\", \"decimals\", \"totalSupply\", \"getAdmin\", \"lastPriceInLoop\"],\n",
    "              \"icd\": [\"name\", \"symbol\", \"decimals\", \"totalSupply\", \"getAdmin\"],\n",
    "              \"bal\": [\"name\", \"symbol\", \"decimals\", \"totalSupply\", \"getAdmin\"]\n",
    "              }"
   ]
  },
  {
   "cell_type": "code",
   "execution_count": null,
   "metadata": {},
   "outputs": [],
   "source": [
    "results = {}\n",
    "for score in ro_methods.keys():\n",
    "    print()\n",
    "    print(f'SCORE: {score}')\n",
    "    print(f'Address: {contracts[score][\"SCORE\"]}')\n",
    "    results[score] = {}\n",
    "    for method in ro_methods[score]:\n",
    "        call = CallBuilder().from_(wallet.get_address())\\\n",
    "                            .to(contracts[score]['SCORE'])\\\n",
    "                            .method(method)\\\n",
    "                            .build()\n",
    "        result = icon_service.call(call)\n",
    "        if method in ['totalSupply', 'decimals', 'get_total_collateral', 'get_rate']:\n",
    "            result = int(result, 0)\n",
    "            if method in ['totalSupply', 'get_total_collateral', 'get_rate']:\n",
    "                result = result / ICX\n",
    "        print(f'{method}: {result}')\n",
    "        results[score][method] = result"
   ]
  },
  {
   "cell_type": "markdown",
   "metadata": {},
   "source": [
    "## Deposit ICX and Mint ICD Loan"
   ]
  },
  {
   "cell_type": "code",
   "execution_count": null,
   "metadata": {},
   "outputs": [],
   "source": [
    "data = \"{\\\"method\\\": \\\"_deposit_and_borrow\\\", \\\"params\\\": {\\\"_asset\\\": \\\"ICD\\\", \\\"_amount\\\": 40000000000000000000}}\".encode(\"utf-8\")\n",
    "params = {'_to': contracts['loans']['SCORE'], '_data': data}\n",
    "transaction = CallTransactionBuilder()\\\n",
    "    .from_(wallet.get_address())\\\n",
    "    .to(contracts['staking']['SCORE'])\\\n",
    "    .value(800 * ICX)\\\n",
    "    .step_limit(10000000)\\\n",
    "    .nid(NID)\\\n",
    "    .nonce(100)\\\n",
    "    .method(\"addCollateral\")\\\n",
    "    .params(params)\\\n",
    "    .build()\n",
    "signed_transaction = SignedTransaction(transaction, wallet)\n",
    "tx_hash = icon_service.send_transaction(signed_transaction)\n",
    "tx_hash\n",
    "print(get_tx_result(tx_hash))"
   ]
  },
  {
   "cell_type": "markdown",
   "metadata": {},
   "source": [
    "### Just deposit collateral"
   ]
  },
  {
   "cell_type": "code",
   "execution_count": null,
   "metadata": {},
   "outputs": [],
   "source": [
    "data = \"{\\\"method\\\": \\\"_deposit_and_borrow\\\", \\\"params\\\": {\\\"_asset\\\": \\\"\\\", \\\"_amount\\\": 0}}\".encode(\"utf-8\")\n",
    "params = {'_to': contracts['loans']['SCORE'], '_data': data}\n",
    "transaction = CallTransactionBuilder()\\\n",
    "    .from_(wallet.get_address())\\\n",
    "    .to(contracts['staking']['SCORE'])\\\n",
    "    .value(30 * ICX)\\\n",
    "    .step_limit(10000000)\\\n",
    "    .nid(NID)\\\n",
    "    .nonce(100)\\\n",
    "    .method(\"addCollateral\")\\\n",
    "    .params(params)\\\n",
    "    .build()\n",
    "signed_transaction = SignedTransaction(transaction, wallet)\n",
    "tx_hash = icon_service.send_transaction(signed_transaction)\n",
    "tx_hash\n",
    "print(get_tx_result(tx_hash))"
   ]
  },
  {
   "cell_type": "markdown",
   "metadata": {},
   "source": [
    "### Repay Some ICD"
   ]
  },
  {
   "cell_type": "code",
   "execution_count": null,
   "metadata": {},
   "outputs": [],
   "source": [
    "data = \"{\\\"method\\\": \\\"_repay_loan\\\", \\\"params\\\": {}}\".encode(\"utf-8\")\n",
    "params = {'_to': contracts['loans']['SCORE'], '_value': 5 * ICX, '_data': data}\n",
    "transaction = CallTransactionBuilder()\\\n",
    "    .from_(wallet.get_address())\\\n",
    "    .to(contracts['icd']['SCORE'])\\\n",
    "    .value(0)\\\n",
    "    .step_limit(10000000)\\\n",
    "    .nid(NID)\\\n",
    "    .nonce(100)\\\n",
    "    .method(\"transfer\")\\\n",
    "    .params(params)\\\n",
    "    .build()\n",
    "signed_transaction = SignedTransaction(transaction, wallet)\n",
    "tx_hash = icon_service.send_transaction(signed_transaction)\n",
    "tx_hash\n",
    "print(get_tx_result(tx_hash))"
   ]
  },
  {
   "cell_type": "markdown",
   "metadata": {},
   "source": [
    "### Withdraw Some Collateral"
   ]
  },
  {
   "cell_type": "code",
   "execution_count": null,
   "metadata": {},
   "outputs": [],
   "source": [
    "params = {'_value': 5 * ICX}\n",
    "transaction = CallTransactionBuilder()\\\n",
    "    .from_(wallet.get_address())\\\n",
    "    .to(contracts['loans']['SCORE'])\\\n",
    "    .value(0)\\\n",
    "    .step_limit(10000000)\\\n",
    "    .nid(NID)\\\n",
    "    .nonce(100)\\\n",
    "    .method(\"withdrawCollateral\")\\\n",
    "    .params(params)\\\n",
    "    .build()\n",
    "signed_transaction = SignedTransaction(transaction, wallet)\n",
    "tx_hash = icon_service.send_transaction(signed_transaction)\n",
    "tx_hash\n",
    "print(get_tx_result(tx_hash))"
   ]
  },
  {
   "cell_type": "markdown",
   "metadata": {},
   "source": [
    "### Test Liquidation"
   ]
  },
  {
   "cell_type": "code",
   "execution_count": null,
   "metadata": {},
   "outputs": [],
   "source": [
    "# 1. Deposit collateral to fresh wallet\n",
    "\n",
    "data = \"{\\\"method\\\": \\\"_deposit_and_borrow\\\", \\\"params\\\": {\\\"_asset\\\": \\\"\\\", \\\"_amount\\\": 0}}\".encode(\"utf-8\")\n",
    "params = {'_to': contracts['loans']['SCORE'], '_data': data}\n",
    "transaction = CallTransactionBuilder()\\\n",
    "    .from_(btest_wallet.get_address())\\\n",
    "    .to(contracts['staking']['SCORE'])\\\n",
    "    .value(782769 * ICX // 1000)\\\n",
    "    .step_limit(10000000)\\\n",
    "    .nid(NID)\\\n",
    "    .nonce(100)\\\n",
    "    .method(\"addCollateral\")\\\n",
    "    .params(params)\\\n",
    "    .build()\n",
    "signed_transaction = SignedTransaction(transaction, btest_wallet)\n",
    "tx_hash = icon_service.send_transaction(signed_transaction)\n",
    "tx_hash\n",
    "print(get_tx_result(tx_hash))"
   ]
  },
  {
   "cell_type": "code",
   "execution_count": null,
   "metadata": {},
   "outputs": [],
   "source": [
    "# 2. Check the account standing after depositing collateral - Should be Undetermined, and\n",
    "#    holding '0x2a6f1a22364bbe8000' worth of sICX.\n",
    "\n",
    "params = {'_owner': btest_wallet.get_address()}\n",
    "call = CallBuilder().from_(wallet.get_address())\\\n",
    "                    .to(contracts['loans']['SCORE'])\\\n",
    "                    .method('getAccountPositions')\\\n",
    "                    .params(params)\\\n",
    "                    .build()\n",
    "result = icon_service.call(call)\n",
    "result"
   ]
  },
  {
   "cell_type": "markdown",
   "metadata": {},
   "source": [
    "#### 3. Update the loans SCORE to add a loan of ICD to the Balanced test wallet\n",
    "Code in the on_update() method will mint and add the ICD. Adds an undercollateralized amount of ICD, 200 ICD."
   ]
  },
  {
   "cell_type": "code",
   "execution_count": null,
   "metadata": {},
   "outputs": [],
   "source": [
    "# 4. Check the new standing of the account. Should have added '0xad78ebc5ac6200000' ICD and have standing of 'Liquidate'.\n",
    "\n",
    "params = {'_owner': btest_wallet.get_address()}\n",
    "call = CallBuilder().from_(wallet.get_address())\\\n",
    "                    .to(contracts['loans']['SCORE'])\\\n",
    "                    .method('getAccountPositions')\\\n",
    "                    .params(params)\\\n",
    "                    .build()\n",
    "result = icon_service.call(call)\n",
    "result"
   ]
  },
  {
   "cell_type": "code",
   "execution_count": null,
   "metadata": {},
   "outputs": [],
   "source": [
    "# 5. Liquidate the account position.\n",
    "\n",
    "params = {'_owner': btest_wallet.get_address()}\n",
    "transaction = CallTransactionBuilder()\\\n",
    "    .from_(wallet.get_address())\\\n",
    "    .to(contracts['loans']['SCORE'])\\\n",
    "    .value(0)\\\n",
    "    .step_limit(10000000)\\\n",
    "    .nid(NID)\\\n",
    "    .nonce(100)\\\n",
    "    .method(\"liquidate\")\\\n",
    "    .params(params)\\\n",
    "    .build()\n",
    "signed_transaction = SignedTransaction(transaction, wallet)\n",
    "tx_hash = icon_service.send_transaction(signed_transaction)\n",
    "tx_hash\n",
    "print(get_tx_result(tx_hash))"
   ]
  },
  {
   "cell_type": "code",
   "execution_count": null,
   "metadata": {},
   "outputs": [],
   "source": [
    "# 6. Check the standing of the account after liquidation. Should now have zero balance for sICX and ICD.\n",
    "\n",
    "params = {'_owner': btest_wallet.get_address()}\n",
    "call = CallBuilder().from_(wallet.get_address())\\\n",
    "                    .to(contracts['loans']['SCORE'])\\\n",
    "                    .method('getAccountPositions')\\\n",
    "                    .params(params)\\\n",
    "                    .build()\n",
    "result = icon_service.call(call)\n",
    "result"
   ]
  },
  {
   "cell_type": "code",
   "execution_count": null,
   "metadata": {},
   "outputs": [],
   "source": [
    "params = {'_owner': btest_wallet.get_address()}\n",
    "call = CallBuilder().from_(wallet.get_address())\\\n",
    "                    .to(contracts['icd']['SCORE'])\\\n",
    "                    .method('balanceOf')\\\n",
    "                    .params(params)\\\n",
    "                    .build()\n",
    "result = icon_service.call(call)\n",
    "int(result, 0) // 10**18"
   ]
  },
  {
   "cell_type": "markdown",
   "metadata": {},
   "source": [
    "### DEX SICX Test\n",
    "\n",
    "Does the following:\n",
    "\n",
    "1. Sends ICX to the DEX\n",
    "2. Checks overall ICX balance\n",
    "3. Checks withdrawal lock\n",
    "4. Mints some SICX\n",
    "5. Trades SICX against ICX"
   ]
  },
  {
   "cell_type": "code",
   "execution_count": null,
   "metadata": {},
   "outputs": [],
   "source": [
    "transaction = TransactionBuilder()\\\n",
    "    .from_(wallet.get_address())\\\n",
    "    .to(contracts['dex']['SCORE'])\\\n",
    "    .value(1 * ICX)\\\n",
    "    .step_limit(10000000)\\\n",
    "    .nid(NID)\\\n",
    "    .nonce(101)\\\n",
    "    .build()\n",
    "signed_transaction = SignedTransaction(transaction, wallet)\n",
    "tx_hash = icon_service.send_transaction(signed_transaction)\n",
    "tx_hash\n",
    "print(get_tx_result(tx_hash))\n"
   ]
  },
  {
   "cell_type": "code",
   "execution_count": null,
   "metadata": {
    "scrolled": true
   },
   "outputs": [],
   "source": [
    "call = CallBuilder().from_(wallet.get_address())\\\n",
    "                    .to(contracts['dex']['SCORE'])\\\n",
    "                    .method('getICXBalance')\\\n",
    "                    .params({'_address': wallet.get_address()}) \\\n",
    "                    .build()\n",
    "result = icon_service.call(call)\n",
    "print(result)"
   ]
  },
  {
   "cell_type": "code",
   "execution_count": null,
   "metadata": {},
   "outputs": [],
   "source": [
    "call = CallBuilder().from_(wallet.get_address())\\\n",
    "                    .to(contracts['dex']['SCORE'])\\\n",
    "                    .method('getICXWithdrawLock')\\\n",
    "                    .build()\n",
    "result = icon_service.call(call)\n",
    "print(result)"
   ]
  },
  {
   "cell_type": "code",
   "execution_count": null,
   "metadata": {
    "scrolled": false
   },
   "outputs": [],
   "source": [
    "params = {'_to': wallet.get_address()}\n",
    "transaction = CallTransactionBuilder()\\\n",
    "    .from_(wallet.get_address())\\\n",
    "    .to(contracts['staking']['SCORE'])\\\n",
    "    .value(10 * ICX)\\\n",
    "    .step_limit(10000000)\\\n",
    "    .nid(NID)\\\n",
    "    .nonce(100)\\\n",
    "    .method(\"addCollateral\")\\\n",
    "    .params(params)\\\n",
    "    .build()\n",
    "signed_transaction = SignedTransaction(transaction, wallet)\n",
    "tx_hash = icon_service.send_transaction(signed_transaction)\n",
    "tx_hash\n",
    "print(get_tx_result(tx_hash))\n"
   ]
  },
  {
   "cell_type": "code",
   "execution_count": null,
   "metadata": {
    "scrolled": true
   },
   "outputs": [],
   "source": [
    "data = \"{\\\"method\\\": \\\"_swap_icx\\\"}\".encode(\"utf-8\")\n",
    "params = {'_to': contracts['dex']['SCORE'], '_value': 2 * ICX, '_data': data}\n",
    "transaction = CallTransactionBuilder()\\\n",
    "    .from_(wallet.get_address())\\\n",
    "    .to(contracts['sicx']['SCORE'])\\\n",
    "    .value(0)\\\n",
    "    .step_limit(10000000)\\\n",
    "    .nid(NID)\\\n",
    "    .nonce(100)\\\n",
    "    .method(\"transfer\")\\\n",
    "    .params(params)\\\n",
    "    .build()\n",
    "signed_transaction = SignedTransaction(transaction, wallet)\n",
    "tx_hash = icon_service.send_transaction(signed_transaction)\n",
    "tx_hash\n",
    "print(get_tx_result(tx_hash))\n"
   ]
  },
  {
   "cell_type": "code",
   "execution_count": null,
   "metadata": {},
   "outputs": [],
   "source": [
    "call = CallBuilder().from_(wallet.get_address())\\\n",
    "                    .to(contracts['dex']['SCORE'])\\\n",
    "                    .method('getICXBalance')\\\n",
    "                    .params({'_address': wallet.get_address()}) \\\n",
    "                    .build()\n",
    "result = icon_service.call(call)\n",
    "print(result)"
   ]
  },
  {
   "cell_type": "code",
   "execution_count": null,
   "metadata": {},
   "outputs": [],
   "source": [
    "call = CallBuilder().from_(wallet.get_address())\\\n",
    "                    .to(contracts['dex']['SCORE'])\\\n",
    "                    .method('getNamedPools')\\\n",
    "                    .build()\n",
    "result = icon_service.call(call)\n",
    "print(result)"
   ]
  },
  {
   "cell_type": "code",
   "execution_count": null,
   "metadata": {},
   "outputs": [],
   "source": [
    "call = CallBuilder().from_(wallet.get_address())\\\n",
    "                    .to(contracts['dex']['SCORE'])\\\n",
    "                    .method('getDataBatch')\\\n",
    "                    .params({'_name': 'SICXICX', '_limit': 10, '_snapshot_id': 1}) \\\n",
    "                    .build()\n",
    "result = icon_service.call(call)\n",
    "print(result)"
   ]
  },
  {
   "cell_type": "code",
   "execution_count": null,
   "metadata": {},
   "outputs": [],
   "source": [
    "data = \"{\\\"method\\\": \\\"_deposit\\\"}\".encode(\"utf-8\")\n",
    "params = {'_to': contracts['dex']['SCORE'], '_value': 2 * ICX, '_data': data}\n",
    "transaction = CallTransactionBuilder()\\\n",
    "    .from_(wallet.get_address())\\\n",
    "    .to(contracts['sicx']['SCORE'])\\\n",
    "    .value(0)\\\n",
    "    .step_limit(10000000)\\\n",
    "    .nid(NID)\\\n",
    "    .nonce(100)\\\n",
    "    .method(\"transfer\")\\\n",
    "    .params(params)\\\n",
    "    .build()\n",
    "signed_transaction = SignedTransaction(transaction, wallet)\n",
    "tx_hash = icon_service.send_transaction(signed_transaction)\n",
    "tx_hash\n",
    "print(get_tx_result(tx_hash))\n"
   ]
  },
  {
   "cell_type": "code",
   "execution_count": null,
   "metadata": {},
   "outputs": [],
   "source": [
    "data = \"{\\\"method\\\": \\\"_deposit\\\"}\".encode(\"utf-8\")\n",
    "params = {'_to': contracts['dex']['SCORE'], '_value': 2 * ICX, '_data': data}\n",
    "transaction = CallTransactionBuilder()\\\n",
    "    .from_(wallet.get_address())\\\n",
    "    .to(contracts['icd']['SCORE'])\\\n",
    "    .value(0)\\\n",
    "    .step_limit(10000000)\\\n",
    "    .nid(NID)\\\n",
    "    .nonce(100)\\\n",
    "    .method(\"transfer\")\\\n",
    "    .params(params)\\\n",
    "    .build()\n",
    "signed_transaction = SignedTransaction(transaction, wallet)\n",
    "tx_hash = icon_service.send_transaction(signed_transaction)\n",
    "tx_hash\n",
    "print(get_tx_result(tx_hash))\n"
   ]
  },
  {
   "cell_type": "code",
   "execution_count": null,
   "metadata": {},
   "outputs": [],
   "source": [
    "call = CallBuilder().from_(wallet.get_address())\\\n",
    "                    .to(contracts['dex']['SCORE'])\\\n",
    "                    .method('getDeposit')\\\n",
    "                    .params({'_user': wallet.get_address(), '_tokenAddress': contracts['icd']['SCORE']}) \\\n",
    "                    .build()\n",
    "result = icon_service.call(call)\n",
    "print(result)"
   ]
  },
  {
   "cell_type": "code",
   "execution_count": null,
   "metadata": {},
   "outputs": [],
   "source": [
    "transaction = CallTransactionBuilder()\\\n",
    "    .from_(wallet.get_address())\\\n",
    "    .to(contracts['dex']['SCORE'])\\\n",
    "    .value(0)\\\n",
    "    .step_limit(10000000)\\\n",
    "    .nid(NID)\\\n",
    "    .nonce(100)\\\n",
    "    .method(\"add\")\\\n",
    "    .params({'_baseToken': contracts['sicx']['SCORE'], '_quoteToken': contracts['icd']['SCORE'], '_baseValue': 1 * ICX, '_quoteValue': 1 * ICX}) \\\n",
    "    .build()\n",
    "signed_transaction = SignedTransaction(transaction, wallet)\n",
    "tx_hash = icon_service.send_transaction(signed_transaction)\n",
    "tx_hash\n",
    "print(get_tx_result(tx_hash))\n"
   ]
  },
  {
   "cell_type": "code",
   "execution_count": null,
   "metadata": {},
   "outputs": [],
   "source": [
    "transaction = CallTransactionBuilder()\\\n",
    "    .from_(wallet.get_address())\\\n",
    "    .to(contracts['dex']['SCORE'])\\\n",
    "    .value(0)\\\n",
    "    .step_limit(10000000)\\\n",
    "    .nid(NID)\\\n",
    "    .nonce(100)\\\n",
    "    .method(\"permit\")\\\n",
    "    .params({'_pid': 1, '_permission': 1}) \\\n",
    "    .build()\n",
    "signed_transaction = SignedTransaction(transaction, wallet)\n",
    "tx_hash = icon_service.send_transaction(signed_transaction)\n",
    "tx_hash\n",
    "print(get_tx_result(tx_hash))\n"
   ]
  },
  {
   "cell_type": "code",
   "execution_count": null,
   "metadata": {},
   "outputs": [],
   "source": [
    "call = CallBuilder().from_(wallet.get_address())\\\n",
    "                    .to(contracts['dex']['SCORE'])\\\n",
    "                    .method('getPrice')\\\n",
    "                    .params({'_pid': 1}) \\\n",
    "                    .build()\n",
    "result = icon_service.call(call)\n",
    "print(result)"
   ]
  },
  {
   "cell_type": "code",
   "execution_count": null,
   "metadata": {},
   "outputs": [],
   "source": [
    "call = CallBuilder().from_(wallet.get_address())\\\n",
    "                    .to(contracts['dex']['SCORE'])\\\n",
    "                    .method('getPoolTotal')\\\n",
    "                    .params({'_pid': 1, '_token': contracts['sicx']['SCORE']}) \\\n",
    "                    .build()\n",
    "result = icon_service.call(call)\n",
    "print(result)"
   ]
  },
  {
   "cell_type": "code",
   "execution_count": null,
   "metadata": {},
   "outputs": [],
   "source": [
    "call = CallBuilder().from_(wallet.get_address())\\\n",
    "                    .to(contracts['dex']['SCORE'])\\\n",
    "                    .method('getPoolId')\\\n",
    "                    .params({'_token1Address': contracts['sicx']['SCORE'], '_token2Address': contracts['icd']['SCORE'] }) \\\n",
    "                    .build()\n",
    "result = icon_service.call(call)\n",
    "print(\"pool w/ tokens: \" + str(contracts['sicx']['SCORE']) + ' & ' + str(contracts['icd']['SCORE']))\n",
    "print(result)"
   ]
  },
  {
   "cell_type": "code",
   "execution_count": null,
   "metadata": {},
   "outputs": [],
   "source": [
    "call = CallBuilder().from_(wallet.get_address())\\\n",
    "                    .to(contracts['dex']['SCORE'])\\\n",
    "                    .method('getPoolBase')\\\n",
    "                    .params({'_pid': 1}) \\\n",
    "                    .build()\n",
    "result = icon_service.call(call)\n",
    "print(result)\n",
    "\n",
    "call = CallBuilder().from_(wallet.get_address())\\\n",
    "                    .to(contracts['dex']['SCORE'])\\\n",
    "                    .method('getPoolQuote')\\\n",
    "                    .params({'_pid': 1}) \\\n",
    "                    .build()\n",
    "result = icon_service.call(call)\n",
    "print(result)"
   ]
  },
  {
   "cell_type": "code",
   "execution_count": null,
   "metadata": {},
   "outputs": [],
   "source": [
    "transaction = CallTransactionBuilder()\\\n",
    "    .from_(wallet.get_address())\\\n",
    "    .to(contracts['dex']['SCORE'])\\\n",
    "    .value(0)\\\n",
    "    .step_limit(10000000)\\\n",
    "    .nid(NID)\\\n",
    "    .nonce(100)\\\n",
    "    .method(\"setMarketName\")\\\n",
    "    .params({'_pid':1, '_name': 'SICXICD'}) \\\n",
    "    .build()\n",
    "signed_transaction = SignedTransaction(transaction, wallet)\n",
    "tx_hash = icon_service.send_transaction(signed_transaction)\n",
    "tx_hash\n",
    "print(get_tx_result(tx_hash))\n",
    "\n",
    "call = CallBuilder().from_(wallet.get_address())\\\n",
    "                    .to(contracts['dex']['SCORE'])\\\n",
    "                    .method('getNamedPools')\\\n",
    "                    .build()\n",
    "result = icon_service.call(call)\n",
    "print(result)"
   ]
  },
  {
   "cell_type": "code",
   "execution_count": null,
   "metadata": {
    "scrolled": true
   },
   "outputs": [],
   "source": [
    "to_token = contracts['sicx']['SCORE']\n",
    "params_data = \"{\\\"method\\\": \\\"_swap\\\", \\\"params\\\": {\\\"toToken\\\":\\\"\" + str(to_token) + \"\\\"}}\"\n",
    "data = params_data.encode(\"utf-8\")\n",
    "params = {'_to': contracts['dex']['SCORE'], '_value': (int) (1 * ICX / 10), '_data': data}\n",
    "transaction = CallTransactionBuilder()\\\n",
    "    .from_(wallet.get_address())\\\n",
    "    .to(contracts['icd']['SCORE'])\\\n",
    "    .value(0)\\\n",
    "    .step_limit(10000000)\\\n",
    "    .nid(NID)\\\n",
    "    .nonce(100)\\\n",
    "    .method(\"transfer\")\\\n",
    "    .params(params)\\\n",
    "    .build()\n",
    "signed_transaction = SignedTransaction(transaction, wallet)\n",
    "tx_hash = icon_service.send_transaction(signed_transaction)\n",
    "tx_hash\n",
    "print(get_tx_result(tx_hash))\n"
   ]
  },
  {
   "cell_type": "code",
   "execution_count": null,
   "metadata": {},
   "outputs": [],
   "source": []
  },
  {
   "cell_type": "code",
   "execution_count": null,
   "metadata": {},
   "outputs": [],
   "source": []
  }
 ],
 "metadata": {
  "kernelspec": {
   "display_name": "Python 3",
   "language": "python",
   "name": "python3"
  },
  "language_info": {
   "codemirror_mode": {
    "name": "ipython",
    "version": 3
   },
   "file_extension": ".py",
   "mimetype": "text/x-python",
   "name": "python",
   "nbconvert_exporter": "python",
   "pygments_lexer": "ipython3",
   "version": "3.8.3"
  }
 },
 "nbformat": 4,
 "nbformat_minor": 4
}
