{
 "cells": [
  {
   "cell_type": "code",
   "execution_count": 1,
   "metadata": {},
   "outputs": [
    {
     "data": {
      "text/html": [
       "<style>.container { width:100% !important; }</style>"
      ],
      "text/plain": [
       "<IPython.core.display.HTML object>"
      ]
     },
     "metadata": {},
     "output_type": "display_data"
    }
   ],
   "source": [
    "from IPython.core.display import display, HTML\n",
    "display(HTML(\"<style>.container { width:100% !important; }</style>\"))"
   ]
  },
  {
   "cell_type": "markdown",
   "metadata": {},
   "source": [
    "## Set Up Environment"
   ]
  },
  {
   "cell_type": "code",
   "execution_count": 12,
   "metadata": {},
   "outputs": [],
   "source": [
    "network = \"custom\"  # set this to one of mainnet, yeouido, euljiro, pagoda, or custom\n",
    "contracts_file_custom = 'contracts_20201018044700.pkl'\n",
    "\n",
    "connections = {\n",
    "\"mainnet\": {\"iconservice\": \"https://ctz.solidwallet.io\",       \"nid\": 1},\n",
    "\"yeouido\": {\"iconservice\": \"https://bicon.net.solidwallet.io\", \"nid\": 3},\n",
    "\"euljiro\": {\"iconservice\": \"https://test-ctz.solidwallet.io\",  \"nid\": 2},\n",
    "\"pagoda\":  {\"iconservice\": \"https://zicon.net.solidwallet.io\", \"nid\":80},\n",
    "\"custom\":  {\"iconservice\": \"http://13.57.193.25:9000/\",        \"nid\": 3}}\n",
    "\n",
    "env = connections[network]"
   ]
  },
  {
   "cell_type": "code",
   "execution_count": 13,
   "metadata": {},
   "outputs": [],
   "source": [
    "from iconsdk.exception import JSONRPCException\n",
    "from iconsdk.libs.in_memory_zip import gen_deploy_data_content\n",
    "from iconsdk.icon_service import IconService\n",
    "from iconsdk.providers.http_provider import HTTPProvider\n",
    "from iconsdk.builder.transaction_builder import CallTransactionBuilder, TransactionBuilder, DeployTransactionBuilder\n",
    "from iconsdk.builder.call_builder import CallBuilder\n",
    "from iconsdk.signed_transaction import SignedTransaction\n",
    "from iconsdk.wallet.wallet import KeyWallet\n",
    "from iconsdk.utils.convert_type import convert_hex_str_to_int\n",
    "from repeater import retry\n",
    "from shutil import make_archive\n",
    "import pickle as pkl\n",
    "from datetime import datetime\n",
    "import json\n",
    "import os\n",
    "\n",
    "ICX = 1000000000000000000 # 10**18\n",
    "GOVERNANCE_ADDRESS = \"cx0000000000000000000000000000000000000000\"\n",
    "ORACLE = \"cx61a36e5d10412e03c907a507d1e8c6c3856d9964\"\n",
    "\n",
    "with open(contracts_file_custom, 'rb') as f:\n",
    "    contracts = pkl.load(f)\n",
    "\n",
    "@retry(JSONRPCException, tries=10, delay=1, back_off=2)\n",
    "def get_tx_result(_tx_hash):\n",
    "    tx_result = icon_service.get_transaction_result(_tx_hash)\n",
    "    return tx_result"
   ]
  },
  {
   "cell_type": "code",
   "execution_count": 14,
   "metadata": {},
   "outputs": [
    {
     "data": {
      "text/plain": [
       "{'loans': {'zip': 'core_contracts/loans.zip',\n",
       "  'SCORE': 'cxcf9ba18f027f83d0d2fc5a872eb9c5176c554858'},\n",
       " 'staking': {'zip': 'core_contracts/staking.zip',\n",
       "  'SCORE': 'cxafaf7e01a85efdcb0c6e408f84b6f11e06275657'},\n",
       " 'sicx': {'zip': 'token_contracts/sicx.zip',\n",
       "  'SCORE': 'cx01e69f405052eebe0d0b040cc2dc648e5183d700'},\n",
       " 'icd': {'zip': 'token_contracts/icd.zip',\n",
       "  'SCORE': 'cxa7e986d1e18d3d93f246d84b6745e0b1b254e819'},\n",
       " 'dummy_oracle': {'zip': 'core_contracts/dummy_oracle.zip',\n",
       "  'SCORE': 'cxa7e986d1e18d3d93f246d84b6745e0b1b254e819'},\n",
       " 'bal': {'zip': 'token_contracts/bal.zip',\n",
       "  'SCORE': 'cxad20839f2d321651506227b9571c65fa164f69c5'}}"
      ]
     },
     "execution_count": 14,
     "metadata": {},
     "output_type": "execute_result"
    }
   ],
   "source": [
    "contracts\n"
   ]
  },
  {
   "cell_type": "code",
   "execution_count": 4,
   "metadata": {},
   "outputs": [],
   "source": [
    "contracts = {'loans': {'zip': 'core_contracts/loans.zip',\n",
    "  'SCORE': 'cxcf9ba18f027f83d0d2fc5a872eb9c5176c554858'},\n",
    " 'staking': {'zip': 'core_contracts/staking.zip',\n",
    "  'SCORE': 'cxafaf7e01a85efdcb0c6e408f84b6f11e06275657'},\n",
    " 'sicx': {'zip': 'token_contracts/sicx.zip',\n",
    "  'SCORE': 'cx01e69f405052eebe0d0b040cc2dc648e5183d700'},\n",
    " 'icd': {'zip': 'token_contracts/icd.zip',\n",
    "  'SCORE': 'cxa7e986d1e18d3d93f246d84b6745e0b1b254e819'},\n",
    " 'dummy_oracle': {'zip': 'token_contracts/dummy_oracle.zip',\n",
    "  'SCORE': 'cxa7e986d1e18d3d93f246d84b6745e0b1b254e819'},\n",
    " 'bal': {'zip': 'token_contracts/bal.zip',\n",
    "  'SCORE': 'cxad20839f2d321651506227b9571c65fa164f69c5'}}"
   ]
  },
  {
   "cell_type": "code",
   "execution_count": null,
   "metadata": {},
   "outputs": [],
   "source": [
    " 'dummy_oracle': {'zip': 'core_contracts/dummy_oracle.zip',\n",
    "  'SCORE': 'cxcc4688bda4952366d7ed2a97deed2fcb8cbbf1b9'}"
   ]
  },
  {
   "cell_type": "code",
   "execution_count": null,
   "metadata": {},
   "outputs": [],
   "source": [
    "testnet_contracts = {'loans': {'zip': 'core_contracts/loans.zip',\n",
    "  'SCORE': 'cx71698f1976085e9993d6d9a5d8362adfc091c63a'},\n",
    " 'staking': {'zip': 'core_contracts/staking.zip',\n",
    "  'SCORE': 'cxed5cc05b631f441d300d80d3b51ec63800962e3f'},\n",
    " 'sicx': {'zip': 'token_contracts/sicx.zip',\n",
    "  'SCORE': 'cx137bfc83d24f04cac374bb5088505184f2dfb87e'},\n",
    " 'icd': {'zip': 'token_contracts/icd.zip',\n",
    "  'SCORE': 'cxc8ddb41541b9479a38b741fc32679e9a73530312'},\n",
    " 'bal': {'zip': 'token_contracts/bal.zip',\n",
    "  'SCORE': 'cx59ed8122422ae676904ea2f85855bcecccc73aba'}}"
   ]
  },
  {
   "cell_type": "code",
   "execution_count": 7,
   "metadata": {},
   "outputs": [],
   "source": [
    "icon_service = IconService(HTTPProvider(env[\"iconservice\"], 3))\n",
    "NID = env[\"nid\"]"
   ]
  },
  {
   "cell_type": "code",
   "execution_count": 9,
   "metadata": {},
   "outputs": [],
   "source": [
    "wallet = KeyWallet.load(\"keystores/keystore_test1.json\", \"test1_Account\")"
   ]
  },
  {
   "cell_type": "code",
   "execution_count": 17,
   "metadata": {},
   "outputs": [
    {
     "name": "stdout",
     "output_type": "stream",
     "text": [
      "saving contracts list as contracts_20201018051644.pkl\n"
     ]
    },
    {
     "data": {
      "text/plain": [
       "{'loans': {'zip': 'core_contracts/loans.zip',\n",
       "  'SCORE': 'cxcf9ba18f027f83d0d2fc5a872eb9c5176c554858'},\n",
       " 'staking': {'zip': 'core_contracts/staking.zip',\n",
       "  'SCORE': 'cxafaf7e01a85efdcb0c6e408f84b6f11e06275657'},\n",
       " 'sicx': {'zip': 'token_contracts/sicx.zip',\n",
       "  'SCORE': 'cx01e69f405052eebe0d0b040cc2dc648e5183d700'},\n",
       " 'icd': {'zip': 'token_contracts/icd.zip',\n",
       "  'SCORE': 'cxa7e986d1e18d3d93f246d84b6745e0b1b254e819'},\n",
       " 'dummy_oracle': {'zip': 'core_contracts/dummy_oracle.zip', 'SCORE': ''},\n",
       " 'bal': {'zip': 'token_contracts/bal.zip',\n",
       "  'SCORE': 'cxad20839f2d321651506227b9571c65fa164f69c5'}}"
      ]
     },
     "execution_count": 17,
     "metadata": {},
     "output_type": "execute_result"
    }
   ],
   "source": [
    "# Add the contracts. Copy the output from this cell the the one above to save the contract addresses.\n",
    "deploy = ['loans', 'staking', 'sicx', 'icd', 'dummy_oracle', 'bal']\n",
    "for directory in {\"core_contracts\", \"token_contracts\"}:\n",
    "    with os.scandir(directory) as it:\n",
    "        for file in it:\n",
    "            archive_name = directory + \"/\" + file.name\n",
    "            if file.is_dir() and file.name in deploy:\n",
    "                make_archive(archive_name, \"zip\", directory, file.name)\n",
    "                contracts[file.name]['zip'] = archive_name + '.zip'\n",
    "\n",
    "now = datetime.utcnow()\n",
    "filename = f'contracts_{now.year}{str(now.month).zfill(2)}{str(now.day).zfill(2)}{str(now.hour).zfill(2)}{str(now.minute).zfill(2)}{str(now.second).zfill(2)}.pkl'\n",
    "print(f'saving contracts list as {filename}')\n",
    "with open(filename, 'wb') as f:\n",
    "    pkl.dump(contracts, f)\n",
    "contracts"
   ]
  },
  {
   "cell_type": "code",
   "execution_count": 425,
   "metadata": {
    "scrolled": false
   },
   "outputs": [],
   "source": [
    "api = icon_service.get_score_api(contracts['loans']['SCORE'])"
   ]
  },
  {
   "cell_type": "code",
   "execution_count": 426,
   "metadata": {},
   "outputs": [
    {
     "data": {
      "text/plain": [
       "[{'type': 'function',\n",
       "  'name': 'add_asset',\n",
       "  'inputs': [{'name': '_token_address', 'type': 'Address'}],\n",
       "  'outputs': []},\n",
       " {'type': 'function',\n",
       "  'name': 'get_account_positions',\n",
       "  'inputs': [{'name': '_owner', 'type': 'Address'}],\n",
       "  'outputs': [{'type': 'dict'}],\n",
       "  'readonly': '0x1'},\n",
       " {'type': 'function',\n",
       "  'name': 'get_available_assets',\n",
       "  'inputs': [],\n",
       "  'outputs': [{'type': 'list'}],\n",
       "  'readonly': '0x1'},\n",
       " {'type': 'function',\n",
       "  'name': 'get_oracle_address',\n",
       "  'inputs': [],\n",
       "  'outputs': [{'type': 'Address'}],\n",
       "  'readonly': '0x1'},\n",
       " {'type': 'function',\n",
       "  'name': 'get_price_in_icx',\n",
       "  'inputs': [{'name': '_symbol', 'type': 'str'}],\n",
       "  'outputs': []},\n",
       " {'type': 'function',\n",
       "  'name': 'get_sicx_address',\n",
       "  'inputs': [],\n",
       "  'outputs': [{'type': 'Address'}],\n",
       "  'readonly': '0x1'},\n",
       " {'type': 'function',\n",
       "  'name': 'get_sicx_value',\n",
       "  'inputs': [{'name': '_amount', 'type': 'int'}],\n",
       "  'outputs': []},\n",
       " {'type': 'function',\n",
       "  'name': 'get_staking_contract',\n",
       "  'inputs': [],\n",
       "  'outputs': [{'type': 'Address'}],\n",
       "  'readonly': '0x1'},\n",
       " {'type': 'function',\n",
       "  'name': 'get_total_position_value',\n",
       "  'inputs': [],\n",
       "  'outputs': []},\n",
       " {'type': 'function',\n",
       "  'name': 'liquidate',\n",
       "  'inputs': [{'name': '_from', 'type': 'Address'},\n",
       "   {'name': '_value', 'type': 'int'}],\n",
       "  'outputs': []},\n",
       " {'type': 'function',\n",
       "  'name': 'name',\n",
       "  'inputs': [],\n",
       "  'outputs': [{'type': 'str'}],\n",
       "  'readonly': '0x1'},\n",
       " {'type': 'function',\n",
       "  'name': 'originate_loan',\n",
       "  'inputs': [{'name': '_asset', 'type': 'str'},\n",
       "   {'name': '_amount', 'type': 'int'}],\n",
       "  'outputs': []},\n",
       " {'type': 'function',\n",
       "  'name': 'read_position_data_batch',\n",
       "  'inputs': [],\n",
       "  'outputs': []},\n",
       " {'type': 'function',\n",
       "  'name': 'set_admin',\n",
       "  'inputs': [{'name': '_address', 'type': 'Address'}],\n",
       "  'outputs': []},\n",
       " {'type': 'function',\n",
       "  'name': 'set_oracle_address',\n",
       "  'inputs': [{'name': '_address', 'type': 'Address'}],\n",
       "  'outputs': []},\n",
       " {'type': 'function',\n",
       "  'name': 'set_sicx_address',\n",
       "  'inputs': [{'name': '_address', 'type': 'Address'}],\n",
       "  'outputs': []},\n",
       " {'type': 'function',\n",
       "  'name': 'set_staking_contract',\n",
       "  'inputs': [{'name': '_address', 'type': 'Address'}],\n",
       "  'outputs': []},\n",
       " {'type': 'function',\n",
       "  'name': 'threshold_check',\n",
       "  'inputs': [{'name': '_from', 'type': 'Address'},\n",
       "   {'name': '_value', 'type': 'int'}],\n",
       "  'outputs': []},\n",
       " {'type': 'function', 'name': 'toggle_loans_on', 'inputs': [], 'outputs': []},\n",
       " {'type': 'function',\n",
       "  'name': 'tokenFallback',\n",
       "  'inputs': [{'name': '_from', 'type': 'Address'},\n",
       "   {'name': '_value', 'type': 'int'},\n",
       "   {'name': '_data', 'type': 'bytes'}],\n",
       "  'outputs': []},\n",
       " {'type': 'function',\n",
       "  'name': 'withdraw_collateral',\n",
       "  'inputs': [{'name': '_value', 'type': 'int'}],\n",
       "  'outputs': []},\n",
       " {'type': 'eventlog',\n",
       "  'name': 'AssetRedeemed',\n",
       "  'inputs': [{'name': 'account', 'type': 'Address', 'indexed': '0x1'},\n",
       "   {'name': 'symbol', 'type': 'str', 'indexed': '0x1'},\n",
       "   {'name': 'amount', 'type': 'int', 'indexed': '0x1'},\n",
       "   {'name': 'note', 'type': 'str'}]},\n",
       " {'type': 'eventlog',\n",
       "  'name': 'BadDebt',\n",
       "  'inputs': [{'name': 'account', 'type': 'Address', 'indexed': '0x1'},\n",
       "   {'name': 'symbol', 'type': 'str', 'indexed': '0x1'},\n",
       "   {'name': 'amount', 'type': 'int', 'indexed': '0x1'},\n",
       "   {'name': 'note', 'type': 'str'}]},\n",
       " {'type': 'eventlog',\n",
       "  'name': 'FeePaid',\n",
       "  'inputs': [{'name': 'symbol', 'type': 'str', 'indexed': '0x1'},\n",
       "   {'name': 'amount', 'type': 'int', 'indexed': '0x1'},\n",
       "   {'name': 'type', 'type': 'str', 'indexed': '0x1'},\n",
       "   {'name': 'note', 'type': 'str'}]},\n",
       " {'type': 'eventlog',\n",
       "  'name': 'FundTransfer',\n",
       "  'inputs': [{'name': 'destination', 'type': 'Address', 'indexed': '0x1'},\n",
       "   {'name': 'amount', 'type': 'int', 'indexed': '0x1'},\n",
       "   {'name': 'note', 'type': 'str'}]},\n",
       " {'type': 'eventlog',\n",
       "  'name': 'Liquidate',\n",
       "  'inputs': [{'name': 'account', 'type': 'Address', 'indexed': '0x1'},\n",
       "   {'name': 'amount', 'type': 'int', 'indexed': '0x1'},\n",
       "   {'name': 'note', 'type': 'str'}]},\n",
       " {'type': 'eventlog',\n",
       "  'name': 'LoanRepaid',\n",
       "  'inputs': [{'name': 'account', 'type': 'Address', 'indexed': '0x1'},\n",
       "   {'name': 'symbol', 'type': 'str', 'indexed': '0x1'},\n",
       "   {'name': 'amount', 'type': 'int', 'indexed': '0x1'},\n",
       "   {'name': 'note', 'type': 'str'}]},\n",
       " {'type': 'eventlog',\n",
       "  'name': 'OraclePriceUpdate',\n",
       "  'inputs': [{'name': 'symbol', 'type': 'str', 'indexed': '0x1'},\n",
       "   {'name': 'rate', 'type': 'int', 'indexed': '0x1'},\n",
       "   {'name': 'note', 'type': 'str'}]},\n",
       " {'type': 'eventlog',\n",
       "  'name': 'OriginateLoan',\n",
       "  'inputs': [{'name': 'recipient', 'type': 'Address', 'indexed': '0x1'},\n",
       "   {'name': 'symbol', 'type': 'str', 'indexed': '0x1'},\n",
       "   {'name': 'amount', 'type': 'int', 'indexed': '0x1'},\n",
       "   {'name': 'note', 'type': 'str'}]},\n",
       " {'type': 'eventlog',\n",
       "  'name': 'TokenTransfer',\n",
       "  'inputs': [{'name': 'recipient', 'type': 'Address', 'indexed': '0x1'},\n",
       "   {'name': 'amount', 'type': 'int', 'indexed': '0x1'},\n",
       "   {'name': 'note', 'type': 'str'}]},\n",
       " {'type': 'eventlog',\n",
       "  'name': 'TotalDebt',\n",
       "  'inputs': [{'name': 'symbol', 'type': 'str', 'indexed': '0x1'},\n",
       "   {'name': 'amount', 'type': 'int', 'indexed': '0x1'},\n",
       "   {'name': 'note', 'type': 'str'}]},\n",
       " {'type': 'eventlog',\n",
       "  'name': 'Transfer',\n",
       "  'inputs': [{'name': '_from', 'type': 'Address', 'indexed': '0x1'},\n",
       "   {'name': '_to', 'type': 'Address', 'indexed': '0x1'},\n",
       "   {'name': '_value', 'type': 'int', 'indexed': '0x1'},\n",
       "   {'name': '_data', 'type': 'bytes'}]}]"
      ]
     },
     "execution_count": 426,
     "metadata": {},
     "output_type": "execute_result"
    }
   ],
   "source": [
    "api"
   ]
  },
  {
   "cell_type": "code",
   "execution_count": 530,
   "metadata": {},
   "outputs": [
    {
     "ename": "SyntaxError",
     "evalue": "invalid syntax (<fstring>, line 1)",
     "output_type": "error",
     "traceback": [
      "\u001b[0;36m  File \u001b[0;32m\"<fstring>\"\u001b[0;36m, line \u001b[0;32m1\u001b[0m\n\u001b[0;31m    ((f\"{param}\": param) for param in func_params)\u001b[0m\n\u001b[0m                ^\u001b[0m\n\u001b[0;31mSyntaxError\u001b[0m\u001b[0;31m:\u001b[0m invalid syntax\n"
     ]
    }
   ],
   "source": [
    "module = (\"from iconsdk.icon_service import IconService\\n\"\n",
    "        + \"from iconsdk.providers.http_provider import HTTPProvider\\n\"\n",
    "        + \"from iconsdk.builder.transaction_builder import CallTransactionBuilder, TransactionBuilder, DeployTransactionBuilder\\n\"\n",
    "        + \"from iconsdk.builder.call_builder import CallBuilder\\n\"\n",
    "        + \"from iconsdk.signed_transaction import SignedTransaction\\n\"\n",
    "        + \"icon_service = IconService(HTTPProvider('http://13.57.193.25:9000/', 3))\\n\"\n",
    "        + \"\\n\"\n",
    "        + \"class Test(object):\\n\"\n",
    "        + \"\\n\"\n",
    "        + \"    def __init__(self):\\n\"\n",
    "        + \"        pass\\n\"\n",
    "        + \"\\n\")\n",
    "filename = 'methods.py'\n",
    "for item in api:\n",
    "    if item.get('readonly', '') == '0x1' and item['type'] == 'function':\n",
    "        func_params = [f\"{param['name']}\" for param in item['inputs']]\n",
    "        params = f'{{{(f\"{param}\": param) for param in func_params}}}'\n",
    "        module += (f\"    def {item['name']}({', '.join(['self'] + func_params)}):\\n\"\n",
    "                 + f\"        call = CallBuilder().from_('{wallet.get_address()}')\\\\\\n\"\n",
    "                 + f\"            .to('{contracts['loans']['SCORE']}')\\\\\\n\"\n",
    "                 + f\"            .method('{item['name']}')\\\\\\n\"\n",
    "                 + f\"            .params({params})\\\\\\n\"\n",
    "                 + f\"            .build()\\n\"\n",
    "                 + f\"        return icon_service.call(call)\\n\"\n",
    "                 + f\"\\n\")\n",
    "with open(filename, 'w') as f:\n",
    "    f.write(module)"
   ]
  },
  {
   "cell_type": "code",
   "execution_count": 510,
   "metadata": {},
   "outputs": [],
   "source": [
    "from methods import Test"
   ]
  },
  {
   "cell_type": "code",
   "execution_count": 517,
   "metadata": {},
   "outputs": [],
   "source": [
    "trial = Test()"
   ]
  },
  {
   "cell_type": "code",
   "execution_count": 558,
   "metadata": {},
   "outputs": [],
   "source": [
    "func_params = ['one', 'two', 'three']"
   ]
  },
  {
   "cell_type": "code",
   "execution_count": 561,
   "metadata": {},
   "outputs": [],
   "source": [
    "func_params = ['1', '2', '3']"
   ]
  },
  {
   "cell_type": "code",
   "execution_count": 535,
   "metadata": {},
   "outputs": [
    {
     "ename": "NameError",
     "evalue": "name 'param' is not defined",
     "output_type": "error",
     "traceback": [
      "\u001b[0;31m---------------------------------------------------------------------------\u001b[0m",
      "\u001b[0;31mNameError\u001b[0m                                 Traceback (most recent call last)",
      "\u001b[0;32m<ipython-input-535-41293b7d241c>\u001b[0m in \u001b[0;36m<module>\u001b[0;34m\u001b[0m\n\u001b[0;32m----> 1\u001b[0;31m \u001b[0mparams\u001b[0m \u001b[0;34m=\u001b[0m \u001b[0;34mf'{{{param: param for param in func_params}}}'\u001b[0m\u001b[0;34m\u001b[0m\u001b[0;34m\u001b[0m\u001b[0m\n\u001b[0m",
      "\u001b[0;31mNameError\u001b[0m: name 'param' is not defined"
     ]
    }
   ],
   "source": [
    "params = f'{{{param: param for param in func_params}}}'"
   ]
  },
  {
   "cell_type": "code",
   "execution_count": 557,
   "metadata": {},
   "outputs": [],
   "source": [
    "one = 1\n",
    "two = 2\n",
    "three = 3"
   ]
  },
  {
   "cell_type": "code",
   "execution_count": 562,
   "metadata": {},
   "outputs": [
    {
     "data": {
      "text/plain": [
       "'{\"1\": 1, \"2\": 2, \"3\": 3}'"
      ]
     },
     "execution_count": 562,
     "metadata": {},
     "output_type": "execute_result"
    }
   ],
   "source": [
    "\"{\" + ', '.join(['\\\"' + param + f'\\\": {param}' for param in func_params]) + \"}\""
   ]
  },
  {
   "cell_type": "code",
   "execution_count": 563,
   "metadata": {},
   "outputs": [
    {
     "data": {
      "text/plain": [
       "{'1': 1, '2': 2, '3': 3}"
      ]
     },
     "execution_count": 563,
     "metadata": {},
     "output_type": "execute_result"
    }
   ],
   "source": [
    "json.loads(\"{\" + ', '.join(['\\\"' + param + f'\\\": {param}' for param in func_params]) + \"}\")"
   ]
  },
  {
   "cell_type": "code",
   "execution_count": null,
   "metadata": {},
   "outputs": [],
   "source": []
  },
  {
   "cell_type": "code",
   "execution_count": 519,
   "metadata": {},
   "outputs": [
    {
     "ename": "TypeError",
     "evalue": "params() missing 1 required positional argument: 'params'",
     "output_type": "error",
     "traceback": [
      "\u001b[0;31m---------------------------------------------------------------------------\u001b[0m",
      "\u001b[0;31mTypeError\u001b[0m                                 Traceback (most recent call last)",
      "\u001b[0;32m<ipython-input-519-7ae6aacbc1a1>\u001b[0m in \u001b[0;36m<module>\u001b[0;34m\u001b[0m\n\u001b[0;32m----> 1\u001b[0;31m \u001b[0mtrial\u001b[0m\u001b[0;34m.\u001b[0m\u001b[0mname\u001b[0m\u001b[0;34m(\u001b[0m\u001b[0;34m)\u001b[0m\u001b[0;34m\u001b[0m\u001b[0;34m\u001b[0m\u001b[0m\n\u001b[0m",
      "\u001b[0;32m<ipython-input-515-012474e588a4>\u001b[0m in \u001b[0;36mname\u001b[0;34m(self)\u001b[0m\n\u001b[1;32m     47\u001b[0m         \u001b[0mcall\u001b[0m \u001b[0;34m=\u001b[0m \u001b[0mCallBuilder\u001b[0m\u001b[0;34m(\u001b[0m\u001b[0;34m)\u001b[0m\u001b[0;34m.\u001b[0m\u001b[0mfrom_\u001b[0m\u001b[0;34m(\u001b[0m\u001b[0;34m'hxe7af5fcfd8dfc67530a01a0e403882687528dfcb'\u001b[0m\u001b[0;34m)\u001b[0m\u001b[0;31m\\\u001b[0m\u001b[0;34m\u001b[0m\u001b[0;34m\u001b[0m\u001b[0m\n\u001b[1;32m     48\u001b[0m             \u001b[0;34m.\u001b[0m\u001b[0mto\u001b[0m\u001b[0;34m(\u001b[0m\u001b[0;34m'cx6927160050f452ae32163c895c08e0171aa6073c'\u001b[0m\u001b[0;34m)\u001b[0m\u001b[0;31m\\\u001b[0m\u001b[0;34m\u001b[0m\u001b[0;34m\u001b[0m\u001b[0m\n\u001b[0;32m---> 49\u001b[0;31m             \u001b[0;34m.\u001b[0m\u001b[0mmethod\u001b[0m\u001b[0;34m(\u001b[0m\u001b[0;34m'name'\u001b[0m\u001b[0;34m)\u001b[0m\u001b[0;31m\\\u001b[0m\u001b[0;34m\u001b[0m\u001b[0;34m\u001b[0m\u001b[0m\n\u001b[0m\u001b[1;32m     50\u001b[0m             \u001b[0;34m.\u001b[0m\u001b[0mparams\u001b[0m\u001b[0;34m(\u001b[0m\u001b[0;34m)\u001b[0m\u001b[0;31m\\\u001b[0m\u001b[0;34m\u001b[0m\u001b[0;34m\u001b[0m\u001b[0m\n\u001b[1;32m     51\u001b[0m             \u001b[0;34m.\u001b[0m\u001b[0mbuild\u001b[0m\u001b[0;34m(\u001b[0m\u001b[0;34m)\u001b[0m\u001b[0;34m\u001b[0m\u001b[0;34m\u001b[0m\u001b[0m\n",
      "\u001b[0;31mTypeError\u001b[0m: params() missing 1 required positional argument: 'params'"
     ]
    }
   ],
   "source": [
    "trial.name()"
   ]
  },
  {
   "cell_type": "code",
   "execution_count": 515,
   "metadata": {},
   "outputs": [],
   "source": [
    "class Test(object):\n",
    "\n",
    "    def __init__(self):\n",
    "        pass\n",
    "\n",
    "    def get_account_positions(self, _owner):\n",
    "        call = CallBuilder().from_('hxe7af5fcfd8dfc67530a01a0e403882687528dfcb')\\\n",
    "            .to('cx6927160050f452ae32163c895c08e0171aa6073c')\\\n",
    "            .method('get_account_positions')\\\n",
    "            .params(_owner)\\\n",
    "            .build()\n",
    "        return icon_service.call(call)\n",
    "\n",
    "    def get_available_assets(self):\n",
    "        call = CallBuilder().from_('hxe7af5fcfd8dfc67530a01a0e403882687528dfcb')\\\n",
    "            .to('cx6927160050f452ae32163c895c08e0171aa6073c')\\\n",
    "            .method('get_available_assets')\\\n",
    "            .params()\\\n",
    "            .build()\n",
    "        return icon_service.call(call)\n",
    "\n",
    "    def get_oracle_address(self):\n",
    "        call = CallBuilder().from_('hxe7af5fcfd8dfc67530a01a0e403882687528dfcb')\\\n",
    "            .to('cx6927160050f452ae32163c895c08e0171aa6073c')\\\n",
    "            .method('get_oracle_address')\\\n",
    "            .params()\\\n",
    "            .build()\n",
    "        return icon_service.call(call)\n",
    "\n",
    "    def get_sicx_address(self):\n",
    "        call = CallBuilder().from_('hxe7af5fcfd8dfc67530a01a0e403882687528dfcb')\\\n",
    "            .to('cx6927160050f452ae32163c895c08e0171aa6073c')\\\n",
    "            .method('get_sicx_address')\\\n",
    "            .params()\\\n",
    "            .build()\n",
    "        return icon_service.call(call)\n",
    "\n",
    "    def get_staking_contract(self):\n",
    "        call = CallBuilder().from_('hxe7af5fcfd8dfc67530a01a0e403882687528dfcb')\\\n",
    "            .to('cx6927160050f452ae32163c895c08e0171aa6073c')\\\n",
    "            .method('get_staking_contract')\\\n",
    "            .params()\\\n",
    "            .build()\n",
    "        return icon_service.call(call)\n",
    "\n",
    "    def name(self):\n",
    "        call = CallBuilder().from_('hxe7af5fcfd8dfc67530a01a0e403882687528dfcb')\\\n",
    "            .to('cx6927160050f452ae32163c895c08e0171aa6073c')\\\n",
    "            .method('name')\\\n",
    "            .params()\\\n",
    "            .build()\n",
    "        return icon_service.call(call)"
   ]
  },
  {
   "cell_type": "markdown",
   "metadata": {},
   "source": [
    "## Deploy All SCOREs"
   ]
  },
  {
   "cell_type": "code",
   "execution_count": 18,
   "metadata": {},
   "outputs": [
    {
     "name": "stderr",
     "output_type": "stream",
     "text": [
      "Raised JSONRPCException while returning the custom response. Error message: {'code': -32602, 'message': 'Pending transaction'}\n"
     ]
    },
    {
     "name": "stdout",
     "output_type": "stream",
     "text": [
      "{'code': -32602, 'message': 'Pending transaction'} (Json rpc error), Retrying in 1 seconds...\n"
     ]
    }
   ],
   "source": [
    "# Deploy a single SCORE\n",
    "score = 'dummy_oracle'\n",
    "loc = {'zip': 'core_contracts/dummy_oracle.zip',\n",
    "  'SCORE': ''}\n",
    "deploy_transaction = DeployTransactionBuilder()\\\n",
    "    .from_(wallet.get_address())\\\n",
    "    .to(GOVERNANCE_ADDRESS)\\\n",
    "    .nid(NID)\\\n",
    "    .nonce(100)\\\n",
    "    .content_type(\"application/zip\")\\\n",
    "    .content(gen_deploy_data_content(loc[\"zip\"]))\\\n",
    "    .build()\n",
    "\n",
    "step_limit = icon_service.estimate_step(deploy_transaction) + 100000\n",
    "\n",
    "signed_transaction = SignedTransaction(deploy_transaction, wallet, step_limit)\n",
    "tx_hash = icon_service.send_transaction(signed_transaction)\n",
    "\n",
    "res = get_tx_result(tx_hash)\n",
    "contracts[score][\"SCORE\"] = res.get('scoreAddress', '')\n"
   ]
  },
  {
   "cell_type": "code",
   "execution_count": 19,
   "metadata": {},
   "outputs": [
    {
     "data": {
      "text/plain": [
       "{'txHash': '0x06dc47a25a41191527239db57b0a75837aab82441ff05b0bb17ed531273e96b3',\n",
       " 'blockHeight': 94543,\n",
       " 'blockHash': '0xc798a34276dfd0a85b8ba6755333bc9a3c020b37974eba1ec6463baaa17d526b',\n",
       " 'txIndex': 1,\n",
       " 'to': 'cx0000000000000000000000000000000000000000',\n",
       " 'stepUsed': 1759045600,\n",
       " 'stepPrice': 10000000000,\n",
       " 'cumulativeStepUsed': 1759045600,\n",
       " 'eventLogs': [],\n",
       " 'logsBloom': b'\\x00\\x00\\x00\\x00\\x00\\x00\\x00\\x00\\x00\\x00\\x00\\x00\\x00\\x00\\x00\\x00\\x00\\x00\\x00\\x00\\x00\\x00\\x00\\x00\\x00\\x00\\x00\\x00\\x00\\x00\\x00\\x00\\x00\\x00\\x00\\x00\\x00\\x00\\x00\\x00\\x00\\x00\\x00\\x00\\x00\\x00\\x00\\x00\\x00\\x00\\x00\\x00\\x00\\x00\\x00\\x00\\x00\\x00\\x00\\x00\\x00\\x00\\x00\\x00\\x00\\x00\\x00\\x00\\x00\\x00\\x00\\x00\\x00\\x00\\x00\\x00\\x00\\x00\\x00\\x00\\x00\\x00\\x00\\x00\\x00\\x00\\x00\\x00\\x00\\x00\\x00\\x00\\x00\\x00\\x00\\x00\\x00\\x00\\x00\\x00\\x00\\x00\\x00\\x00\\x00\\x00\\x00\\x00\\x00\\x00\\x00\\x00\\x00\\x00\\x00\\x00\\x00\\x00\\x00\\x00\\x00\\x00\\x00\\x00\\x00\\x00\\x00\\x00\\x00\\x00\\x00\\x00\\x00\\x00\\x00\\x00\\x00\\x00\\x00\\x00\\x00\\x00\\x00\\x00\\x00\\x00\\x00\\x00\\x00\\x00\\x00\\x00\\x00\\x00\\x00\\x00\\x00\\x00\\x00\\x00\\x00\\x00\\x00\\x00\\x00\\x00\\x00\\x00\\x00\\x00\\x00\\x00\\x00\\x00\\x00\\x00\\x00\\x00\\x00\\x00\\x00\\x00\\x00\\x00\\x00\\x00\\x00\\x00\\x00\\x00\\x00\\x00\\x00\\x00\\x00\\x00\\x00\\x00\\x00\\x00\\x00\\x00\\x00\\x00\\x00\\x00\\x00\\x00\\x00\\x00\\x00\\x00\\x00\\x00\\x00\\x00\\x00\\x00\\x00\\x00\\x00\\x00\\x00\\x00\\x00\\x00\\x00\\x00\\x00\\x00\\x00\\x00\\x00\\x00\\x00\\x00\\x00\\x00\\x00\\x00\\x00\\x00\\x00\\x00\\x00\\x00\\x00\\x00\\x00\\x00\\x00\\x00\\x00\\x00\\x00\\x00',\n",
       " 'status': 0,\n",
       " 'failure': {'code': 5, 'message': 'Invalid import name: time'}}"
      ]
     },
     "execution_count": 19,
     "metadata": {},
     "output_type": "execute_result"
    }
   ],
   "source": [
    "res"
   ]
  },
  {
   "cell_type": "code",
   "execution_count": 138,
   "metadata": {},
   "outputs": [
    {
     "name": "stderr",
     "output_type": "stream",
     "text": [
      "Raised JSONRPCException while returning the custom response. Error message: {'code': -32602, 'message': 'Invalid params txHash'}\n"
     ]
    },
    {
     "name": "stdout",
     "output_type": "stream",
     "text": [
      "{'code': -32602, 'message': 'Invalid params txHash'} (Json rpc error), Retrying in 1 seconds...\n"
     ]
    },
    {
     "name": "stderr",
     "output_type": "stream",
     "text": [
      "Raised JSONRPCException while returning the custom response. Error message: {'code': -32602, 'message': 'Pending transaction'}\n"
     ]
    },
    {
     "name": "stdout",
     "output_type": "stream",
     "text": [
      "{'code': -32602, 'message': 'Pending transaction'} (Json rpc error), Retrying in 2 seconds...\n"
     ]
    },
    {
     "name": "stderr",
     "output_type": "stream",
     "text": [
      "Raised JSONRPCException while returning the custom response. Error message: {'code': -32602, 'message': 'Invalid params txHash'}\n"
     ]
    },
    {
     "name": "stdout",
     "output_type": "stream",
     "text": [
      "{'code': -32602, 'message': 'Invalid params txHash'} (Json rpc error), Retrying in 1 seconds...\n"
     ]
    },
    {
     "name": "stderr",
     "output_type": "stream",
     "text": [
      "Raised JSONRPCException while returning the custom response. Error message: {'code': -32602, 'message': 'Pending transaction'}\n"
     ]
    },
    {
     "name": "stdout",
     "output_type": "stream",
     "text": [
      "{'code': -32602, 'message': 'Pending transaction'} (Json rpc error), Retrying in 2 seconds...\n"
     ]
    },
    {
     "name": "stderr",
     "output_type": "stream",
     "text": [
      "Raised JSONRPCException while returning the custom response. Error message: {'code': -32602, 'message': 'Pending transaction'}\n"
     ]
    },
    {
     "name": "stdout",
     "output_type": "stream",
     "text": [
      "{'code': -32602, 'message': 'Pending transaction'} (Json rpc error), Retrying in 4 seconds...\n"
     ]
    },
    {
     "name": "stderr",
     "output_type": "stream",
     "text": [
      "Raised JSONRPCException while returning the custom response. Error message: {'code': -32602, 'message': 'Invalid params txHash'}\n"
     ]
    },
    {
     "name": "stdout",
     "output_type": "stream",
     "text": [
      "{'code': -32602, 'message': 'Invalid params txHash'} (Json rpc error), Retrying in 1 seconds...\n"
     ]
    },
    {
     "name": "stderr",
     "output_type": "stream",
     "text": [
      "Raised JSONRPCException while returning the custom response. Error message: {'code': -32602, 'message': 'Pending transaction'}\n"
     ]
    },
    {
     "name": "stdout",
     "output_type": "stream",
     "text": [
      "{'code': -32602, 'message': 'Pending transaction'} (Json rpc error), Retrying in 2 seconds...\n"
     ]
    },
    {
     "name": "stderr",
     "output_type": "stream",
     "text": [
      "Raised JSONRPCException while returning the custom response. Error message: {'code': -32602, 'message': 'Invalid params txHash'}\n"
     ]
    },
    {
     "name": "stdout",
     "output_type": "stream",
     "text": [
      "{'code': -32602, 'message': 'Invalid params txHash'} (Json rpc error), Retrying in 1 seconds...\n"
     ]
    },
    {
     "name": "stderr",
     "output_type": "stream",
     "text": [
      "Raised JSONRPCException while returning the custom response. Error message: {'code': -32602, 'message': 'Pending transaction'}\n"
     ]
    },
    {
     "name": "stdout",
     "output_type": "stream",
     "text": [
      "{'code': -32602, 'message': 'Pending transaction'} (Json rpc error), Retrying in 2 seconds...\n"
     ]
    },
    {
     "name": "stderr",
     "output_type": "stream",
     "text": [
      "Raised JSONRPCException while returning the custom response. Error message: {'code': -32602, 'message': 'Invalid params txHash'}\n"
     ]
    },
    {
     "name": "stdout",
     "output_type": "stream",
     "text": [
      "{'code': -32602, 'message': 'Invalid params txHash'} (Json rpc error), Retrying in 1 seconds...\n"
     ]
    },
    {
     "name": "stderr",
     "output_type": "stream",
     "text": [
      "Raised JSONRPCException while returning the custom response. Error message: {'code': -32602, 'message': 'Pending transaction'}\n"
     ]
    },
    {
     "name": "stdout",
     "output_type": "stream",
     "text": [
      "{'code': -32602, 'message': 'Pending transaction'} (Json rpc error), Retrying in 2 seconds...\n"
     ]
    },
    {
     "data": {
      "text/plain": [
       "{'loans': {'zip': 'core_contracts/loans.zip',\n",
       "  'SCORE': 'cx71698f1976085e9993d6d9a5d8362adfc091c63a'},\n",
       " 'staking': {'zip': 'core_contracts/staking.zip',\n",
       "  'SCORE': 'cxed5cc05b631f441d300d80d3b51ec63800962e3f'},\n",
       " 'sicx': {'zip': 'token_contracts/sicx.zip',\n",
       "  'SCORE': 'cx137bfc83d24f04cac374bb5088505184f2dfb87e'},\n",
       " 'icd': {'zip': 'token_contracts/icd.zip',\n",
       "  'SCORE': 'cxc8ddb41541b9479a38b741fc32679e9a73530312'},\n",
       " 'bal': {'zip': 'token_contracts/bal.zip',\n",
       "  'SCORE': 'cx59ed8122422ae676904ea2f85855bcecccc73aba'}}"
      ]
     },
     "execution_count": 138,
     "metadata": {},
     "output_type": "execute_result"
    }
   ],
   "source": [
    "step_limit = 4000100000\n",
    "\n",
    "for score, loc in contracts.items():\n",
    "    deploy_transaction = DeployTransactionBuilder()\\\n",
    "        .from_(wallet.get_address())\\\n",
    "        .to(GOVERNANCE_ADDRESS)\\\n",
    "        .nid(NID)\\\n",
    "        .nonce(100)\\\n",
    "        .content_type(\"application/zip\")\\\n",
    "        .content(gen_deploy_data_content(loc[\"zip\"]))\\\n",
    "        .build()\n",
    "\n",
    "    step_limit = icon_service.estimate_step(deploy_transaction) + 100000\n",
    "    \n",
    "    signed_transaction = SignedTransaction(deploy_transaction, wallet, step_limit)\n",
    "    tx_hash = icon_service.send_transaction(signed_transaction)\n",
    "\n",
    "    res = get_tx_result(tx_hash)\n",
    "    contracts[score][\"SCORE\"] = res.get('scoreAddress', '')\n",
    "contracts"
   ]
  },
  {
   "cell_type": "markdown",
   "metadata": {},
   "source": [
    "## Update a SCORE"
   ]
  },
  {
   "cell_type": "code",
   "execution_count": 114,
   "metadata": {},
   "outputs": [
    {
     "name": "stderr",
     "output_type": "stream",
     "text": [
      "Raised JSONRPCException while returning the custom response. Error message: {'code': -32602, 'message': 'Pending transaction'}\n"
     ]
    },
    {
     "name": "stdout",
     "output_type": "stream",
     "text": [
      "{'code': -32602, 'message': 'Pending transaction'} (Json rpc error), Retrying in 1 seconds...\n"
     ]
    },
    {
     "name": "stderr",
     "output_type": "stream",
     "text": [
      "Raised JSONRPCException while returning the custom response. Error message: {'code': -32602, 'message': 'Pending transaction'}\n"
     ]
    },
    {
     "name": "stdout",
     "output_type": "stream",
     "text": [
      "{'code': -32602, 'message': 'Pending transaction'} (Json rpc error), Retrying in 2 seconds...\n"
     ]
    },
    {
     "data": {
      "text/plain": [
       "{'txHash': '0x27781a576713cc938fd30d7e397bdee18027db2ed7dcfd0c102148b010be00ca',\n",
       " 'blockHeight': 20881,\n",
       " 'blockHash': '0xb8f037b5ac6862c11cf677a113f2b506a7cec4d652c8abeec256a95d71f34a31',\n",
       " 'txIndex': 1,\n",
       " 'to': 'cxcf9ba18f027f83d0d2fc5a872eb9c5176c554858',\n",
       " 'scoreAddress': 'cxcf9ba18f027f83d0d2fc5a872eb9c5176c554858',\n",
       " 'stepUsed': 2283805600,\n",
       " 'stepPrice': 10000000000,\n",
       " 'cumulativeStepUsed': 2283805600,\n",
       " 'eventLogs': [],\n",
       " 'logsBloom': b'\\x00\\x00\\x00\\x00\\x00\\x00\\x00\\x00\\x00\\x00\\x00\\x00\\x00\\x00\\x00\\x00\\x00\\x00\\x00\\x00\\x00\\x00\\x00\\x00\\x00\\x00\\x00\\x00\\x00\\x00\\x00\\x00\\x00\\x00\\x00\\x00\\x00\\x00\\x00\\x00\\x00\\x00\\x00\\x00\\x00\\x00\\x00\\x00\\x00\\x00\\x00\\x00\\x00\\x00\\x00\\x00\\x00\\x00\\x00\\x00\\x00\\x00\\x00\\x00\\x00\\x00\\x00\\x00\\x00\\x00\\x00\\x00\\x00\\x00\\x00\\x00\\x00\\x00\\x00\\x00\\x00\\x00\\x00\\x00\\x00\\x00\\x00\\x00\\x00\\x00\\x00\\x00\\x00\\x00\\x00\\x00\\x00\\x00\\x00\\x00\\x00\\x00\\x00\\x00\\x00\\x00\\x00\\x00\\x00\\x00\\x00\\x00\\x00\\x00\\x00\\x00\\x00\\x00\\x00\\x00\\x00\\x00\\x00\\x00\\x00\\x00\\x00\\x00\\x00\\x00\\x00\\x00\\x00\\x00\\x00\\x00\\x00\\x00\\x00\\x00\\x00\\x00\\x00\\x00\\x00\\x00\\x00\\x00\\x00\\x00\\x00\\x00\\x00\\x00\\x00\\x00\\x00\\x00\\x00\\x00\\x00\\x00\\x00\\x00\\x00\\x00\\x00\\x00\\x00\\x00\\x00\\x00\\x00\\x00\\x00\\x00\\x00\\x00\\x00\\x00\\x00\\x00\\x00\\x00\\x00\\x00\\x00\\x00\\x00\\x00\\x00\\x00\\x00\\x00\\x00\\x00\\x00\\x00\\x00\\x00\\x00\\x00\\x00\\x00\\x00\\x00\\x00\\x00\\x00\\x00\\x00\\x00\\x00\\x00\\x00\\x00\\x00\\x00\\x00\\x00\\x00\\x00\\x00\\x00\\x00\\x00\\x00\\x00\\x00\\x00\\x00\\x00\\x00\\x00\\x00\\x00\\x00\\x00\\x00\\x00\\x00\\x00\\x00\\x00\\x00\\x00\\x00\\x00\\x00\\x00\\x00\\x00\\x00\\x00\\x00\\x00',\n",
       " 'status': 1}"
      ]
     },
     "execution_count": 114,
     "metadata": {},
     "output_type": "execute_result"
    }
   ],
   "source": [
    "contract = 'loans'\n",
    "update = contracts[contract]['SCORE']\n",
    "deploy_transaction = DeployTransactionBuilder()\\\n",
    "    .from_(wallet.get_address())\\\n",
    "    .to(update)\\\n",
    "    .nid(NID)\\\n",
    "    .nonce(100)\\\n",
    "    .content_type(\"application/zip\")\\\n",
    "    .content(gen_deploy_data_content(contracts[contract][\"zip\"]))\\\n",
    "    .build()\n",
    "\n",
    "step_limit = icon_service.estimate_step(deploy_transaction) + 100000\n",
    "\n",
    "signed_transaction = SignedTransaction(deploy_transaction, wallet, step_limit)\n",
    "tx_hash = icon_service.send_transaction(signed_transaction)\n",
    "\n",
    "get_tx_result(tx_hash)\n"
   ]
  },
  {
   "cell_type": "markdown",
   "metadata": {},
   "source": [
    "## Set parameters"
   ]
  },
  {
   "cell_type": "code",
   "execution_count": 140,
   "metadata": {},
   "outputs": [],
   "source": [
    "settings = [{'contract': 'sicx', 'method': 'setAdmin', 'params':{'_admin': contracts['staking']['SCORE']}},\n",
    "            {'contract': 'icd', 'method': 'setAdmin', 'params':{'_admin': contracts['loans']['SCORE']}},\n",
    "            {'contract': 'bal', 'method': 'setAdmin', 'params':{'_admin': wallet.get_address()}},\n",
    "            {'contract': 'bal', 'method': 'mint', 'params':{'_amount': 10 * ICX}},\n",
    "            {'contract': 'staking', 'method': 'set_sICX_address', 'params':{'_address': contracts['sicx']['SCORE']}},\n",
    "            {'contract': 'loans', 'method': 'set_sicx_address', 'params':{'_address': contracts['sicx']['SCORE']}},\n",
    "            {'contract': 'loans', 'method': 'add_asset', 'params':{'_token_address': contracts['icd']['SCORE']}},\n",
    "            {'contract': 'loans', 'method': 'set_staking_contract', 'params':{'_address': contracts['staking']['SCORE']}},\n",
    "            {'contract': 'loans', 'method': 'toggle_loans_on', 'params':{}}]"
   ]
  },
  {
   "cell_type": "code",
   "execution_count": 141,
   "metadata": {
    "collapsed": true
   },
   "outputs": [
    {
     "name": "stdout",
     "output_type": "stream",
     "text": [
      "\n",
      "\n",
      "Calling setAdmin, with parameters {'_admin': 'cxed5cc05b631f441d300d80d3b51ec63800962e3f'} on the sicx contract.\n"
     ]
    },
    {
     "name": "stderr",
     "output_type": "stream",
     "text": [
      "Raised JSONRPCException while returning the custom response. Error message: {'code': -32602, 'message': 'Invalid params txHash'}\n"
     ]
    },
    {
     "name": "stdout",
     "output_type": "stream",
     "text": [
      "{'code': -32602, 'message': 'Invalid params txHash'} (Json rpc error), Retrying in 1 seconds...\n"
     ]
    },
    {
     "name": "stderr",
     "output_type": "stream",
     "text": [
      "Raised JSONRPCException while returning the custom response. Error message: {'code': -32602, 'message': 'Pending transaction'}\n"
     ]
    },
    {
     "name": "stdout",
     "output_type": "stream",
     "text": [
      "{'code': -32602, 'message': 'Pending transaction'} (Json rpc error), Retrying in 2 seconds...\n",
      "{'txHash': '0xb02603dad32a806f48ccf77cbdfecc26e6eb60c2264b791b639fb77c2283dc40', 'blockHeight': 8171840, 'blockHash': '0x570cc1ecafad86127afdc4b45889626f0d869abb3dc280eaaa06f6b1273faf6a', 'txIndex': 1, 'to': 'cx137bfc83d24f04cac374bb5088505184f2dfb87e', 'stepUsed': 148920, 'stepPrice': 10000000000, 'cumulativeStepUsed': 148920, 'eventLogs': [], 'logsBloom': b'\\x00\\x00\\x00\\x00\\x00\\x00\\x00\\x00\\x00\\x00\\x00\\x00\\x00\\x00\\x00\\x00\\x00\\x00\\x00\\x00\\x00\\x00\\x00\\x00\\x00\\x00\\x00\\x00\\x00\\x00\\x00\\x00\\x00\\x00\\x00\\x00\\x00\\x00\\x00\\x00\\x00\\x00\\x00\\x00\\x00\\x00\\x00\\x00\\x00\\x00\\x00\\x00\\x00\\x00\\x00\\x00\\x00\\x00\\x00\\x00\\x00\\x00\\x00\\x00\\x00\\x00\\x00\\x00\\x00\\x00\\x00\\x00\\x00\\x00\\x00\\x00\\x00\\x00\\x00\\x00\\x00\\x00\\x00\\x00\\x00\\x00\\x00\\x00\\x00\\x00\\x00\\x00\\x00\\x00\\x00\\x00\\x00\\x00\\x00\\x00\\x00\\x00\\x00\\x00\\x00\\x00\\x00\\x00\\x00\\x00\\x00\\x00\\x00\\x00\\x00\\x00\\x00\\x00\\x00\\x00\\x00\\x00\\x00\\x00\\x00\\x00\\x00\\x00\\x00\\x00\\x00\\x00\\x00\\x00\\x00\\x00\\x00\\x00\\x00\\x00\\x00\\x00\\x00\\x00\\x00\\x00\\x00\\x00\\x00\\x00\\x00\\x00\\x00\\x00\\x00\\x00\\x00\\x00\\x00\\x00\\x00\\x00\\x00\\x00\\x00\\x00\\x00\\x00\\x00\\x00\\x00\\x00\\x00\\x00\\x00\\x00\\x00\\x00\\x00\\x00\\x00\\x00\\x00\\x00\\x00\\x00\\x00\\x00\\x00\\x00\\x00\\x00\\x00\\x00\\x00\\x00\\x00\\x00\\x00\\x00\\x00\\x00\\x00\\x00\\x00\\x00\\x00\\x00\\x00\\x00\\x00\\x00\\x00\\x00\\x00\\x00\\x00\\x00\\x00\\x00\\x00\\x00\\x00\\x00\\x00\\x00\\x00\\x00\\x00\\x00\\x00\\x00\\x00\\x00\\x00\\x00\\x00\\x00\\x00\\x00\\x00\\x00\\x00\\x00\\x00\\x00\\x00\\x00\\x00\\x00\\x00\\x00\\x00\\x00\\x00\\x00', 'status': 1}\n",
      "\n",
      "\n",
      "Calling setAdmin, with parameters {'_admin': 'cx71698f1976085e9993d6d9a5d8362adfc091c63a'} on the icd contract.\n"
     ]
    },
    {
     "name": "stderr",
     "output_type": "stream",
     "text": [
      "Raised JSONRPCException while returning the custom response. Error message: {'code': -32602, 'message': 'Invalid params txHash'}\n"
     ]
    },
    {
     "name": "stdout",
     "output_type": "stream",
     "text": [
      "{'code': -32602, 'message': 'Invalid params txHash'} (Json rpc error), Retrying in 1 seconds...\n"
     ]
    },
    {
     "name": "stderr",
     "output_type": "stream",
     "text": [
      "Raised JSONRPCException while returning the custom response. Error message: {'code': -32602, 'message': 'Pending transaction'}\n"
     ]
    },
    {
     "name": "stdout",
     "output_type": "stream",
     "text": [
      "{'code': -32602, 'message': 'Pending transaction'} (Json rpc error), Retrying in 2 seconds...\n",
      "{'txHash': '0x6c212ccebc593e03f486aa7f554a913ea135430fbd77b030678a6f80a04bd35e', 'blockHeight': 8171843, 'blockHash': '0x9ff851e2f107b9378c2f19f9f277183cbe5d173d09bc18b7b7026c63a2bd0c53', 'txIndex': 1, 'to': 'cxc8ddb41541b9479a38b741fc32679e9a73530312', 'stepUsed': 148920, 'stepPrice': 10000000000, 'cumulativeStepUsed': 148920, 'eventLogs': [], 'logsBloom': b'\\x00\\x00\\x00\\x00\\x00\\x00\\x00\\x00\\x00\\x00\\x00\\x00\\x00\\x00\\x00\\x00\\x00\\x00\\x00\\x00\\x00\\x00\\x00\\x00\\x00\\x00\\x00\\x00\\x00\\x00\\x00\\x00\\x00\\x00\\x00\\x00\\x00\\x00\\x00\\x00\\x00\\x00\\x00\\x00\\x00\\x00\\x00\\x00\\x00\\x00\\x00\\x00\\x00\\x00\\x00\\x00\\x00\\x00\\x00\\x00\\x00\\x00\\x00\\x00\\x00\\x00\\x00\\x00\\x00\\x00\\x00\\x00\\x00\\x00\\x00\\x00\\x00\\x00\\x00\\x00\\x00\\x00\\x00\\x00\\x00\\x00\\x00\\x00\\x00\\x00\\x00\\x00\\x00\\x00\\x00\\x00\\x00\\x00\\x00\\x00\\x00\\x00\\x00\\x00\\x00\\x00\\x00\\x00\\x00\\x00\\x00\\x00\\x00\\x00\\x00\\x00\\x00\\x00\\x00\\x00\\x00\\x00\\x00\\x00\\x00\\x00\\x00\\x00\\x00\\x00\\x00\\x00\\x00\\x00\\x00\\x00\\x00\\x00\\x00\\x00\\x00\\x00\\x00\\x00\\x00\\x00\\x00\\x00\\x00\\x00\\x00\\x00\\x00\\x00\\x00\\x00\\x00\\x00\\x00\\x00\\x00\\x00\\x00\\x00\\x00\\x00\\x00\\x00\\x00\\x00\\x00\\x00\\x00\\x00\\x00\\x00\\x00\\x00\\x00\\x00\\x00\\x00\\x00\\x00\\x00\\x00\\x00\\x00\\x00\\x00\\x00\\x00\\x00\\x00\\x00\\x00\\x00\\x00\\x00\\x00\\x00\\x00\\x00\\x00\\x00\\x00\\x00\\x00\\x00\\x00\\x00\\x00\\x00\\x00\\x00\\x00\\x00\\x00\\x00\\x00\\x00\\x00\\x00\\x00\\x00\\x00\\x00\\x00\\x00\\x00\\x00\\x00\\x00\\x00\\x00\\x00\\x00\\x00\\x00\\x00\\x00\\x00\\x00\\x00\\x00\\x00\\x00\\x00\\x00\\x00\\x00\\x00\\x00\\x00\\x00\\x00', 'status': 1}\n",
      "\n",
      "\n",
      "Calling setAdmin, with parameters {'_admin': 'hx3f01840a599da07b0f620eeae7aa9c574169a4be'} on the bal contract.\n"
     ]
    },
    {
     "name": "stderr",
     "output_type": "stream",
     "text": [
      "Raised JSONRPCException while returning the custom response. Error message: {'code': -32602, 'message': 'Invalid params txHash'}\n"
     ]
    },
    {
     "name": "stdout",
     "output_type": "stream",
     "text": [
      "{'code': -32602, 'message': 'Invalid params txHash'} (Json rpc error), Retrying in 1 seconds...\n"
     ]
    },
    {
     "name": "stderr",
     "output_type": "stream",
     "text": [
      "Raised JSONRPCException while returning the custom response. Error message: {'code': -32602, 'message': 'Pending transaction'}\n"
     ]
    },
    {
     "name": "stdout",
     "output_type": "stream",
     "text": [
      "{'code': -32602, 'message': 'Pending transaction'} (Json rpc error), Retrying in 2 seconds...\n",
      "{'txHash': '0x58f75c9a739bb885e41b965a4b0670f64274ec2445b1bb5a4d63405badd285cb', 'blockHeight': 8171845, 'blockHash': '0x6f08574b088079eb64c53046c6a000a57d6d3a3f2e5d5d777d6270ab81f29736', 'txIndex': 1, 'to': 'cx59ed8122422ae676904ea2f85855bcecccc73aba', 'stepUsed': 148600, 'stepPrice': 10000000000, 'cumulativeStepUsed': 148600, 'eventLogs': [], 'logsBloom': b'\\x00\\x00\\x00\\x00\\x00\\x00\\x00\\x00\\x00\\x00\\x00\\x00\\x00\\x00\\x00\\x00\\x00\\x00\\x00\\x00\\x00\\x00\\x00\\x00\\x00\\x00\\x00\\x00\\x00\\x00\\x00\\x00\\x00\\x00\\x00\\x00\\x00\\x00\\x00\\x00\\x00\\x00\\x00\\x00\\x00\\x00\\x00\\x00\\x00\\x00\\x00\\x00\\x00\\x00\\x00\\x00\\x00\\x00\\x00\\x00\\x00\\x00\\x00\\x00\\x00\\x00\\x00\\x00\\x00\\x00\\x00\\x00\\x00\\x00\\x00\\x00\\x00\\x00\\x00\\x00\\x00\\x00\\x00\\x00\\x00\\x00\\x00\\x00\\x00\\x00\\x00\\x00\\x00\\x00\\x00\\x00\\x00\\x00\\x00\\x00\\x00\\x00\\x00\\x00\\x00\\x00\\x00\\x00\\x00\\x00\\x00\\x00\\x00\\x00\\x00\\x00\\x00\\x00\\x00\\x00\\x00\\x00\\x00\\x00\\x00\\x00\\x00\\x00\\x00\\x00\\x00\\x00\\x00\\x00\\x00\\x00\\x00\\x00\\x00\\x00\\x00\\x00\\x00\\x00\\x00\\x00\\x00\\x00\\x00\\x00\\x00\\x00\\x00\\x00\\x00\\x00\\x00\\x00\\x00\\x00\\x00\\x00\\x00\\x00\\x00\\x00\\x00\\x00\\x00\\x00\\x00\\x00\\x00\\x00\\x00\\x00\\x00\\x00\\x00\\x00\\x00\\x00\\x00\\x00\\x00\\x00\\x00\\x00\\x00\\x00\\x00\\x00\\x00\\x00\\x00\\x00\\x00\\x00\\x00\\x00\\x00\\x00\\x00\\x00\\x00\\x00\\x00\\x00\\x00\\x00\\x00\\x00\\x00\\x00\\x00\\x00\\x00\\x00\\x00\\x00\\x00\\x00\\x00\\x00\\x00\\x00\\x00\\x00\\x00\\x00\\x00\\x00\\x00\\x00\\x00\\x00\\x00\\x00\\x00\\x00\\x00\\x00\\x00\\x00\\x00\\x00\\x00\\x00\\x00\\x00\\x00\\x00\\x00\\x00\\x00\\x00', 'status': 1}\n",
      "\n",
      "\n",
      "Calling mint, with parameters {'_amount': 10000000000000000000} on the bal contract.\n"
     ]
    },
    {
     "name": "stderr",
     "output_type": "stream",
     "text": [
      "Raised JSONRPCException while returning the custom response. Error message: {'code': -32602, 'message': 'Pending transaction'}\n"
     ]
    },
    {
     "name": "stdout",
     "output_type": "stream",
     "text": [
      "{'code': -32602, 'message': 'Pending transaction'} (Json rpc error), Retrying in 1 seconds...\n"
     ]
    },
    {
     "name": "stderr",
     "output_type": "stream",
     "text": [
      "Raised JSONRPCException while returning the custom response. Error message: {'code': -32602, 'message': 'Pending transaction'}\n"
     ]
    },
    {
     "name": "stdout",
     "output_type": "stream",
     "text": [
      "{'code': -32602, 'message': 'Pending transaction'} (Json rpc error), Retrying in 2 seconds...\n",
      "{'txHash': '0xdde0f6057429393df0361dae457c86706ea4e184389729a0b650568f5872cd6f', 'blockHeight': 8171847, 'blockHash': '0xfe3361c53f0141df2bc9b5793fc026e339ae35767711b3006b07dfdc49839d72', 'txIndex': 2, 'to': 'cx59ed8122422ae676904ea2f85855bcecccc73aba', 'stepUsed': 155900, 'stepPrice': 10000000000, 'cumulativeStepUsed': 370420, 'eventLogs': [{'scoreAddress': 'cx59ed8122422ae676904ea2f85855bcecccc73aba', 'indexed': ['Transfer(Address,Address,int,bytes)', 'cx59ed8122422ae676904ea2f85855bcecccc73aba', 'hx3f01840a599da07b0f620eeae7aa9c574169a4be', '0x8ac7230489e80000'], 'data': ['0x4e6f6e65']}, {'scoreAddress': 'cx59ed8122422ae676904ea2f85855bcecccc73aba', 'indexed': ['Mint(Address,int,bytes)', 'hx3f01840a599da07b0f620eeae7aa9c574169a4be'], 'data': ['0x8ac7230489e80000', '0x4e6f6e65']}], 'logsBloom': b'\\x00\\x00\\x00\\x00\\x00\\x00\\x00\\x00\\x00\\x00\\x00 \\x00\\x00\\x00\\x00\\x00\\x00\\x00\\x00\\x00\\x00\\x00\\x00\\x00\\x00\\x00\\x00\\x00\\x00\\x00\\x00\\x00\\x00\\x00\\x00\\x00\\x00\\x00\\x00\\x00\\x01\\x00\\x00@\\x00\\x00\\x00\\x00\\x00\\x00\\x00\\x00\\x00\\x00\\x00\\x02\\x00\\x00\\x00\\x00\\x00\\x00\\x00\\x00\\x00\\x00\\x00\\x00\\x00\\x00\\x00\\x00\\x00\\x00\\x00\\x00\\x00\\x00\\x00\\x00\\x01\\x00\\x00\\x00\\x00\\x00\\x00\\x00\\x00\\x00\\x10\\x00\\x00\\x00\\x04\\x00\\x00\\x00\\x00\\x00\\x00\\x00\\x00\\x00\\x00\\x10\\x80\\x00\\x00\\x00\\x00\\x01\\x00\\x00\\x00\\x00\\x00\\x00\\x00\\x00\\x08\\x00\\x00\\x00\\x00\\x00\\x00 \\x00\\x00\\x00\\x00 \\x02\\x00\\x00\\x00\\x00\\x00\\x00\\x00\\x00\\x00\\x00\\x00\\x00\\x00\\x00\\x00\\x00\\x00\\x00 \\x00\\x00\\x00\\x10\\x00\\x00\\x00\\x00\\x00\\x00@\\x00\\x00\\x00\\x00\\x00\\x00\\x00\\x00\\x00\\x00\\x00\\x00\\x00\\x00\\x00\\x00\\x00\\x00\\x00\\x00\\x00\\x00\\x00\\x00\\x00\\x00\\x00\\x01\\x00\\x08\\x00\\x00\\x00\\x00\\x00\\x00\\x00\\x00\\x00\\x00\\x00\\x00\\x00\\x00\\x00\\x00\\x00\\x00A\\x00\\x00\\x00\\x00\\x00\\x00\\x00\\x00\\x00\\x00\\x00\\x00\\x00\\x00\\x00\\x00\\x00\\x00\\x00\\x00\\x00\\x00\\x00\\x00\\x00\\x00\\x00\\x00\\x00\\x00\\x00\\x00\\x00\\x00\\x00\\x00\\x00\\x00\\x00\\x00\\x00\\x00', 'status': 1}\n",
      "\n",
      "\n",
      "Calling set_sICX_address, with parameters {'_address': 'cx137bfc83d24f04cac374bb5088505184f2dfb87e'} on the staking contract.\n"
     ]
    },
    {
     "name": "stderr",
     "output_type": "stream",
     "text": [
      "Raised JSONRPCException while returning the custom response. Error message: {'code': -32602, 'message': 'Invalid params txHash'}\n"
     ]
    },
    {
     "name": "stdout",
     "output_type": "stream",
     "text": [
      "{'code': -32602, 'message': 'Invalid params txHash'} (Json rpc error), Retrying in 1 seconds...\n"
     ]
    },
    {
     "name": "stderr",
     "output_type": "stream",
     "text": [
      "Raised JSONRPCException while returning the custom response. Error message: {'code': -32602, 'message': 'Pending transaction'}\n"
     ]
    },
    {
     "name": "stdout",
     "output_type": "stream",
     "text": [
      "{'code': -32602, 'message': 'Pending transaction'} (Json rpc error), Retrying in 2 seconds...\n",
      "{'txHash': '0x210ab223206665c72b164b87b30a9fa7477a73f723d7e6efd6146624eab20bfa', 'blockHeight': 8171849, 'blockHash': '0x67e1d1ce320eed58ea54d903abb022e46a61f963a4693c1035bfbb12095d1d71', 'txIndex': 1, 'to': 'cxed5cc05b631f441d300d80d3b51ec63800962e3f', 'stepUsed': 150920, 'stepPrice': 10000000000, 'cumulativeStepUsed': 150920, 'eventLogs': [], 'logsBloom': b'\\x00\\x00\\x00\\x00\\x00\\x00\\x00\\x00\\x00\\x00\\x00\\x00\\x00\\x00\\x00\\x00\\x00\\x00\\x00\\x00\\x00\\x00\\x00\\x00\\x00\\x00\\x00\\x00\\x00\\x00\\x00\\x00\\x00\\x00\\x00\\x00\\x00\\x00\\x00\\x00\\x00\\x00\\x00\\x00\\x00\\x00\\x00\\x00\\x00\\x00\\x00\\x00\\x00\\x00\\x00\\x00\\x00\\x00\\x00\\x00\\x00\\x00\\x00\\x00\\x00\\x00\\x00\\x00\\x00\\x00\\x00\\x00\\x00\\x00\\x00\\x00\\x00\\x00\\x00\\x00\\x00\\x00\\x00\\x00\\x00\\x00\\x00\\x00\\x00\\x00\\x00\\x00\\x00\\x00\\x00\\x00\\x00\\x00\\x00\\x00\\x00\\x00\\x00\\x00\\x00\\x00\\x00\\x00\\x00\\x00\\x00\\x00\\x00\\x00\\x00\\x00\\x00\\x00\\x00\\x00\\x00\\x00\\x00\\x00\\x00\\x00\\x00\\x00\\x00\\x00\\x00\\x00\\x00\\x00\\x00\\x00\\x00\\x00\\x00\\x00\\x00\\x00\\x00\\x00\\x00\\x00\\x00\\x00\\x00\\x00\\x00\\x00\\x00\\x00\\x00\\x00\\x00\\x00\\x00\\x00\\x00\\x00\\x00\\x00\\x00\\x00\\x00\\x00\\x00\\x00\\x00\\x00\\x00\\x00\\x00\\x00\\x00\\x00\\x00\\x00\\x00\\x00\\x00\\x00\\x00\\x00\\x00\\x00\\x00\\x00\\x00\\x00\\x00\\x00\\x00\\x00\\x00\\x00\\x00\\x00\\x00\\x00\\x00\\x00\\x00\\x00\\x00\\x00\\x00\\x00\\x00\\x00\\x00\\x00\\x00\\x00\\x00\\x00\\x00\\x00\\x00\\x00\\x00\\x00\\x00\\x00\\x00\\x00\\x00\\x00\\x00\\x00\\x00\\x00\\x00\\x00\\x00\\x00\\x00\\x00\\x00\\x00\\x00\\x00\\x00\\x00\\x00\\x00\\x00\\x00\\x00\\x00\\x00\\x00\\x00\\x00', 'status': 1}\n",
      "\n",
      "\n",
      "Calling set_sicx_address, with parameters {'_address': 'cx137bfc83d24f04cac374bb5088505184f2dfb87e'} on the loans contract.\n"
     ]
    },
    {
     "name": "stderr",
     "output_type": "stream",
     "text": [
      "Raised JSONRPCException while returning the custom response. Error message: {'code': -32602, 'message': 'Invalid params txHash'}\n"
     ]
    },
    {
     "name": "stdout",
     "output_type": "stream",
     "text": [
      "{'code': -32602, 'message': 'Invalid params txHash'} (Json rpc error), Retrying in 1 seconds...\n"
     ]
    },
    {
     "name": "stderr",
     "output_type": "stream",
     "text": [
      "Raised JSONRPCException while returning the custom response. Error message: {'code': -32602, 'message': 'Pending transaction'}\n"
     ]
    },
    {
     "name": "stdout",
     "output_type": "stream",
     "text": [
      "{'code': -32602, 'message': 'Pending transaction'} (Json rpc error), Retrying in 2 seconds...\n",
      "{'txHash': '0x05b1fbe37a9e2b00a87bd37cc8e1595d39fc5484722e73ff7b040de496355c92', 'blockHeight': 8171851, 'blockHash': '0xe3504b91c2f5f47ca997f215582f13e692d1b6182616af95123d9415414a924e', 'txIndex': 1, 'to': 'cx71698f1976085e9993d6d9a5d8362adfc091c63a', 'stepUsed': 150920, 'stepPrice': 10000000000, 'cumulativeStepUsed': 150920, 'eventLogs': [], 'logsBloom': b'\\x00\\x00\\x00\\x00\\x00\\x00\\x00\\x00\\x00\\x00\\x00\\x00\\x00\\x00\\x00\\x00\\x00\\x00\\x00\\x00\\x00\\x00\\x00\\x00\\x00\\x00\\x00\\x00\\x00\\x00\\x00\\x00\\x00\\x00\\x00\\x00\\x00\\x00\\x00\\x00\\x00\\x00\\x00\\x00\\x00\\x00\\x00\\x00\\x00\\x00\\x00\\x00\\x00\\x00\\x00\\x00\\x00\\x00\\x00\\x00\\x00\\x00\\x00\\x00\\x00\\x00\\x00\\x00\\x00\\x00\\x00\\x00\\x00\\x00\\x00\\x00\\x00\\x00\\x00\\x00\\x00\\x00\\x00\\x00\\x00\\x00\\x00\\x00\\x00\\x00\\x00\\x00\\x00\\x00\\x00\\x00\\x00\\x00\\x00\\x00\\x00\\x00\\x00\\x00\\x00\\x00\\x00\\x00\\x00\\x00\\x00\\x00\\x00\\x00\\x00\\x00\\x00\\x00\\x00\\x00\\x00\\x00\\x00\\x00\\x00\\x00\\x00\\x00\\x00\\x00\\x00\\x00\\x00\\x00\\x00\\x00\\x00\\x00\\x00\\x00\\x00\\x00\\x00\\x00\\x00\\x00\\x00\\x00\\x00\\x00\\x00\\x00\\x00\\x00\\x00\\x00\\x00\\x00\\x00\\x00\\x00\\x00\\x00\\x00\\x00\\x00\\x00\\x00\\x00\\x00\\x00\\x00\\x00\\x00\\x00\\x00\\x00\\x00\\x00\\x00\\x00\\x00\\x00\\x00\\x00\\x00\\x00\\x00\\x00\\x00\\x00\\x00\\x00\\x00\\x00\\x00\\x00\\x00\\x00\\x00\\x00\\x00\\x00\\x00\\x00\\x00\\x00\\x00\\x00\\x00\\x00\\x00\\x00\\x00\\x00\\x00\\x00\\x00\\x00\\x00\\x00\\x00\\x00\\x00\\x00\\x00\\x00\\x00\\x00\\x00\\x00\\x00\\x00\\x00\\x00\\x00\\x00\\x00\\x00\\x00\\x00\\x00\\x00\\x00\\x00\\x00\\x00\\x00\\x00\\x00\\x00\\x00\\x00\\x00\\x00\\x00', 'status': 1}\n",
      "\n",
      "\n",
      "Calling add_asset, with parameters {'_token_address': 'cxc8ddb41541b9479a38b741fc32679e9a73530312'} on the loans contract.\n"
     ]
    },
    {
     "name": "stderr",
     "output_type": "stream",
     "text": [
      "Raised JSONRPCException while returning the custom response. Error message: {'code': -32602, 'message': 'Invalid params txHash'}\n"
     ]
    },
    {
     "name": "stdout",
     "output_type": "stream",
     "text": [
      "{'code': -32602, 'message': 'Invalid params txHash'} (Json rpc error), Retrying in 1 seconds...\n"
     ]
    },
    {
     "name": "stderr",
     "output_type": "stream",
     "text": [
      "Raised JSONRPCException while returning the custom response. Error message: {'code': -32602, 'message': 'Pending transaction'}\n"
     ]
    },
    {
     "name": "stdout",
     "output_type": "stream",
     "text": [
      "{'code': -32602, 'message': 'Pending transaction'} (Json rpc error), Retrying in 2 seconds...\n",
      "{'txHash': '0xe955e85074c24bcf453302a8b47bb9481701dccc8f649de23fdcea48a6a469cc', 'blockHeight': 8171853, 'blockHash': '0xc0ea4c32fdafe4390bf7136180e8ec3da563ce5c2d9c06d4a0002735696caa3a', 'txIndex': 1, 'to': 'cx71698f1976085e9993d6d9a5d8362adfc091c63a', 'stepUsed': 212560, 'stepPrice': 10000000000, 'cumulativeStepUsed': 212560, 'eventLogs': [], 'logsBloom': b'\\x00\\x00\\x00\\x00\\x00\\x00\\x00\\x00\\x00\\x00\\x00\\x00\\x00\\x00\\x00\\x00\\x00\\x00\\x00\\x00\\x00\\x00\\x00\\x00\\x00\\x00\\x00\\x00\\x00\\x00\\x00\\x00\\x00\\x00\\x00\\x00\\x00\\x00\\x00\\x00\\x00\\x00\\x00\\x00\\x00\\x00\\x00\\x00\\x00\\x00\\x00\\x00\\x00\\x00\\x00\\x00\\x00\\x00\\x00\\x00\\x00\\x00\\x00\\x00\\x00\\x00\\x00\\x00\\x00\\x00\\x00\\x00\\x00\\x00\\x00\\x00\\x00\\x00\\x00\\x00\\x00\\x00\\x00\\x00\\x00\\x00\\x00\\x00\\x00\\x00\\x00\\x00\\x00\\x00\\x00\\x00\\x00\\x00\\x00\\x00\\x00\\x00\\x00\\x00\\x00\\x00\\x00\\x00\\x00\\x00\\x00\\x00\\x00\\x00\\x00\\x00\\x00\\x00\\x00\\x00\\x00\\x00\\x00\\x00\\x00\\x00\\x00\\x00\\x00\\x00\\x00\\x00\\x00\\x00\\x00\\x00\\x00\\x00\\x00\\x00\\x00\\x00\\x00\\x00\\x00\\x00\\x00\\x00\\x00\\x00\\x00\\x00\\x00\\x00\\x00\\x00\\x00\\x00\\x00\\x00\\x00\\x00\\x00\\x00\\x00\\x00\\x00\\x00\\x00\\x00\\x00\\x00\\x00\\x00\\x00\\x00\\x00\\x00\\x00\\x00\\x00\\x00\\x00\\x00\\x00\\x00\\x00\\x00\\x00\\x00\\x00\\x00\\x00\\x00\\x00\\x00\\x00\\x00\\x00\\x00\\x00\\x00\\x00\\x00\\x00\\x00\\x00\\x00\\x00\\x00\\x00\\x00\\x00\\x00\\x00\\x00\\x00\\x00\\x00\\x00\\x00\\x00\\x00\\x00\\x00\\x00\\x00\\x00\\x00\\x00\\x00\\x00\\x00\\x00\\x00\\x00\\x00\\x00\\x00\\x00\\x00\\x00\\x00\\x00\\x00\\x00\\x00\\x00\\x00\\x00\\x00\\x00\\x00\\x00\\x00\\x00', 'status': 1}\n",
      "\n",
      "\n",
      "Calling set_staking_contract, with parameters {'_address': 'cxed5cc05b631f441d300d80d3b51ec63800962e3f'} on the loans contract.\n"
     ]
    },
    {
     "name": "stderr",
     "output_type": "stream",
     "text": [
      "Raised JSONRPCException while returning the custom response. Error message: {'code': -32602, 'message': 'Invalid params txHash'}\n"
     ]
    },
    {
     "name": "stdout",
     "output_type": "stream",
     "text": [
      "{'code': -32602, 'message': 'Invalid params txHash'} (Json rpc error), Retrying in 1 seconds...\n"
     ]
    },
    {
     "name": "stderr",
     "output_type": "stream",
     "text": [
      "Raised JSONRPCException while returning the custom response. Error message: {'code': -32602, 'message': 'Pending transaction'}\n"
     ]
    },
    {
     "name": "stdout",
     "output_type": "stream",
     "text": [
      "{'code': -32602, 'message': 'Pending transaction'} (Json rpc error), Retrying in 2 seconds...\n",
      "{'txHash': '0xd59f1f1b0f0c664c9a93034d55fb62b87337375f5c1ec64014b0ed0ac4e80169', 'blockHeight': 8171855, 'blockHash': '0x0420d75594ca3b56d21c11ee1bde11925da3573f687970b0e79b31f48d54ebfd', 'txIndex': 1, 'to': 'cx71698f1976085e9993d6d9a5d8362adfc091c63a', 'stepUsed': 151720, 'stepPrice': 10000000000, 'cumulativeStepUsed': 151720, 'eventLogs': [], 'logsBloom': b'\\x00\\x00\\x00\\x00\\x00\\x00\\x00\\x00\\x00\\x00\\x00\\x00\\x00\\x00\\x00\\x00\\x00\\x00\\x00\\x00\\x00\\x00\\x00\\x00\\x00\\x00\\x00\\x00\\x00\\x00\\x00\\x00\\x00\\x00\\x00\\x00\\x00\\x00\\x00\\x00\\x00\\x00\\x00\\x00\\x00\\x00\\x00\\x00\\x00\\x00\\x00\\x00\\x00\\x00\\x00\\x00\\x00\\x00\\x00\\x00\\x00\\x00\\x00\\x00\\x00\\x00\\x00\\x00\\x00\\x00\\x00\\x00\\x00\\x00\\x00\\x00\\x00\\x00\\x00\\x00\\x00\\x00\\x00\\x00\\x00\\x00\\x00\\x00\\x00\\x00\\x00\\x00\\x00\\x00\\x00\\x00\\x00\\x00\\x00\\x00\\x00\\x00\\x00\\x00\\x00\\x00\\x00\\x00\\x00\\x00\\x00\\x00\\x00\\x00\\x00\\x00\\x00\\x00\\x00\\x00\\x00\\x00\\x00\\x00\\x00\\x00\\x00\\x00\\x00\\x00\\x00\\x00\\x00\\x00\\x00\\x00\\x00\\x00\\x00\\x00\\x00\\x00\\x00\\x00\\x00\\x00\\x00\\x00\\x00\\x00\\x00\\x00\\x00\\x00\\x00\\x00\\x00\\x00\\x00\\x00\\x00\\x00\\x00\\x00\\x00\\x00\\x00\\x00\\x00\\x00\\x00\\x00\\x00\\x00\\x00\\x00\\x00\\x00\\x00\\x00\\x00\\x00\\x00\\x00\\x00\\x00\\x00\\x00\\x00\\x00\\x00\\x00\\x00\\x00\\x00\\x00\\x00\\x00\\x00\\x00\\x00\\x00\\x00\\x00\\x00\\x00\\x00\\x00\\x00\\x00\\x00\\x00\\x00\\x00\\x00\\x00\\x00\\x00\\x00\\x00\\x00\\x00\\x00\\x00\\x00\\x00\\x00\\x00\\x00\\x00\\x00\\x00\\x00\\x00\\x00\\x00\\x00\\x00\\x00\\x00\\x00\\x00\\x00\\x00\\x00\\x00\\x00\\x00\\x00\\x00\\x00\\x00\\x00\\x00\\x00\\x00', 'status': 1}\n",
      "\n",
      "\n",
      "Calling toggle_loans_on, with parameters {} on the loans contract.\n"
     ]
    },
    {
     "name": "stderr",
     "output_type": "stream",
     "text": [
      "Raised JSONRPCException while returning the custom response. Error message: {'code': -32602, 'message': 'Pending transaction'}\n"
     ]
    },
    {
     "name": "stdout",
     "output_type": "stream",
     "text": [
      "{'code': -32602, 'message': 'Pending transaction'} (Json rpc error), Retrying in 1 seconds...\n"
     ]
    },
    {
     "name": "stderr",
     "output_type": "stream",
     "text": [
      "Raised JSONRPCException while returning the custom response. Error message: {'code': -32602, 'message': 'Pending transaction'}\n"
     ]
    },
    {
     "name": "stdout",
     "output_type": "stream",
     "text": [
      "{'code': -32602, 'message': 'Pending transaction'} (Json rpc error), Retrying in 2 seconds...\n",
      "{'txHash': '0x227df8d909290d7af076eafe65955c0538bbf1e21bd4ceb09bc35acc20a1d324', 'blockHeight': 8171857, 'blockHash': '0x62fdf6041962e2644a815b2b1796d895200e04ee0e233c04d324333f24925fa8', 'txIndex': 1, 'to': 'cx71698f1976085e9993d6d9a5d8362adfc091c63a', 'stepUsed': 130680, 'stepPrice': 10000000000, 'cumulativeStepUsed': 130680, 'eventLogs': [], 'logsBloom': b'\\x00\\x00\\x00\\x00\\x00\\x00\\x00\\x00\\x00\\x00\\x00\\x00\\x00\\x00\\x00\\x00\\x00\\x00\\x00\\x00\\x00\\x00\\x00\\x00\\x00\\x00\\x00\\x00\\x00\\x00\\x00\\x00\\x00\\x00\\x00\\x00\\x00\\x00\\x00\\x00\\x00\\x00\\x00\\x00\\x00\\x00\\x00\\x00\\x00\\x00\\x00\\x00\\x00\\x00\\x00\\x00\\x00\\x00\\x00\\x00\\x00\\x00\\x00\\x00\\x00\\x00\\x00\\x00\\x00\\x00\\x00\\x00\\x00\\x00\\x00\\x00\\x00\\x00\\x00\\x00\\x00\\x00\\x00\\x00\\x00\\x00\\x00\\x00\\x00\\x00\\x00\\x00\\x00\\x00\\x00\\x00\\x00\\x00\\x00\\x00\\x00\\x00\\x00\\x00\\x00\\x00\\x00\\x00\\x00\\x00\\x00\\x00\\x00\\x00\\x00\\x00\\x00\\x00\\x00\\x00\\x00\\x00\\x00\\x00\\x00\\x00\\x00\\x00\\x00\\x00\\x00\\x00\\x00\\x00\\x00\\x00\\x00\\x00\\x00\\x00\\x00\\x00\\x00\\x00\\x00\\x00\\x00\\x00\\x00\\x00\\x00\\x00\\x00\\x00\\x00\\x00\\x00\\x00\\x00\\x00\\x00\\x00\\x00\\x00\\x00\\x00\\x00\\x00\\x00\\x00\\x00\\x00\\x00\\x00\\x00\\x00\\x00\\x00\\x00\\x00\\x00\\x00\\x00\\x00\\x00\\x00\\x00\\x00\\x00\\x00\\x00\\x00\\x00\\x00\\x00\\x00\\x00\\x00\\x00\\x00\\x00\\x00\\x00\\x00\\x00\\x00\\x00\\x00\\x00\\x00\\x00\\x00\\x00\\x00\\x00\\x00\\x00\\x00\\x00\\x00\\x00\\x00\\x00\\x00\\x00\\x00\\x00\\x00\\x00\\x00\\x00\\x00\\x00\\x00\\x00\\x00\\x00\\x00\\x00\\x00\\x00\\x00\\x00\\x00\\x00\\x00\\x00\\x00\\x00\\x00\\x00\\x00\\x00\\x00\\x00\\x00', 'status': 1}\n"
     ]
    }
   ],
   "source": [
    "for sett in settings:\n",
    "    print(f'\\n')\n",
    "    print(f'Calling {sett[\"method\"]}, with parameters {sett[\"params\"]} on the {sett[\"contract\"]} contract.')\n",
    "    transaction = CallTransactionBuilder()\\\n",
    "        .from_(wallet.get_address())\\\n",
    "        .to(contracts[sett['contract']]['SCORE'])\\\n",
    "        .value(0)\\\n",
    "        .step_limit(10000000)\\\n",
    "        .nid(NID)\\\n",
    "        .nonce(100)\\\n",
    "        .method(sett['method'])\\\n",
    "        .params(sett['params'])\\\n",
    "        .build()\n",
    "    signed_transaction = SignedTransaction(transaction, wallet)\n",
    "    tx_hash = icon_service.send_transaction(signed_transaction)\n",
    "    tx_hash\n",
    "    print(get_tx_result(tx_hash))"
   ]
  },
  {
   "cell_type": "markdown",
   "metadata": {},
   "source": [
    "## Run through read-only methods on all SCOREs"
   ]
  },
  {
   "cell_type": "markdown",
   "metadata": {},
   "source": [
    "### A single read-only method"
   ]
  },
  {
   "cell_type": "code",
   "execution_count": 102,
   "metadata": {},
   "outputs": [
    {
     "data": {
      "text/plain": [
       "{'ICD': '0x410d586a20a4c00000'}"
      ]
     },
     "execution_count": 102,
     "metadata": {},
     "output_type": "execute_result"
    }
   ],
   "source": [
    "params = {'_owner': wallet.get_address()}\n",
    "call = CallBuilder().from_(wallet.get_address())\\\n",
    "                    .to(contracts['loans']['SCORE'])\\\n",
    "                    .method('get_account_positions')\\\n",
    "                    .params(params)\\\n",
    "                    .build()\n",
    "result = icon_service.call(call)\n",
    "result"
   ]
  },
  {
   "cell_type": "code",
   "execution_count": 146,
   "metadata": {},
   "outputs": [],
   "source": [
    "ro_methods = {\"loans\": [\"name\", \"get_oracle_address\", \"get_staking_contract\", \"get_sicx_address\", \"get_available_assets\", \"get_total_collateral\"],\n",
    "              \"staking\": [\"name\", \"get_sICX_address\", \"get_rate\"],\n",
    "              \"sicx\": [\"name\", \"symbol\", \"decimals\", \"totalSupply\", \"getAdmin\"],\n",
    "              \"icd\": [\"name\", \"symbol\", \"decimals\", \"totalSupply\", \"getAdmin\"],\n",
    "              \"bal\": [\"name\", \"symbol\", \"decimals\", \"totalSupply\", \"getAdmin\"]\n",
    "              }"
   ]
  },
  {
   "cell_type": "code",
   "execution_count": 147,
   "metadata": {
    "scrolled": false
   },
   "outputs": [
    {
     "name": "stdout",
     "output_type": "stream",
     "text": [
      "\n",
      "SCORE: loans\n",
      "name: BalancedLoans\n",
      "get_oracle_address: cx61a36e5d10412e03c907a507d1e8c6c3856d9964\n",
      "get_staking_contract: cxed5cc05b631f441d300d80d3b51ec63800962e3f\n",
      "get_sicx_address: cx137bfc83d24f04cac374bb5088505184f2dfb87e\n",
      "get_available_assets: [['ICD', 'cxc8ddb41541b9479a38b741fc32679e9a73530312', 'USD']]\n",
      "get_total_collateral: 825.0\n",
      "\n",
      "SCORE: staking\n",
      "name: Staking\n",
      "get_sICX_address: cx137bfc83d24f04cac374bb5088505184f2dfb87e\n",
      "get_rate: 1.0\n",
      "\n",
      "SCORE: sicx\n",
      "name: StakedICX\n",
      "symbol: sICX\n",
      "decimals: 18\n",
      "totalSupply: 830.0\n",
      "getAdmin: cxed5cc05b631f441d300d80d3b51ec63800962e3f\n",
      "\n",
      "SCORE: icd\n",
      "name: ICONDollar\n",
      "symbol: ICD\n",
      "decimals: 18\n",
      "totalSupply: 35.0\n",
      "getAdmin: cx71698f1976085e9993d6d9a5d8362adfc091c63a\n",
      "\n",
      "SCORE: bal\n",
      "name: BalanceToken\n",
      "symbol: BAL\n",
      "decimals: 18\n",
      "totalSupply: 10.0\n",
      "getAdmin: hx3f01840a599da07b0f620eeae7aa9c574169a4be\n"
     ]
    }
   ],
   "source": [
    "results = {}\n",
    "for score in ro_methods.keys():\n",
    "    print()\n",
    "    print(f'SCORE: {score}')\n",
    "    results[score] = {}\n",
    "    for method in ro_methods[score]:\n",
    "        call = CallBuilder().from_(wallet.get_address())\\\n",
    "                            .to(contracts[score]['SCORE'])\\\n",
    "                            .method(method)\\\n",
    "                            .build()\n",
    "        result = icon_service.call(call)\n",
    "        if method in ['totalSupply', 'decimals', 'get_total_collateral', 'get_rate']:\n",
    "            result = int(result, 0)\n",
    "            if method in ['totalSupply', 'get_total_collateral', 'get_rate']:\n",
    "                result = result / ICX\n",
    "        print(f'{method}: {result}')\n",
    "        results[score][method] = result"
   ]
  },
  {
   "cell_type": "markdown",
   "metadata": {},
   "source": [
    "## Depost ICX and Mint ICD Loan"
   ]
  },
  {
   "cell_type": "code",
   "execution_count": 142,
   "metadata": {},
   "outputs": [
    {
     "name": "stderr",
     "output_type": "stream",
     "text": [
      "Raised JSONRPCException while returning the custom response. Error message: {'code': -32602, 'message': 'Invalid params txHash'}\n"
     ]
    },
    {
     "name": "stdout",
     "output_type": "stream",
     "text": [
      "{'code': -32602, 'message': 'Invalid params txHash'} (Json rpc error), Retrying in 1 seconds...\n"
     ]
    },
    {
     "name": "stderr",
     "output_type": "stream",
     "text": [
      "Raised JSONRPCException while returning the custom response. Error message: {'code': -32602, 'message': 'Pending transaction'}\n"
     ]
    },
    {
     "name": "stdout",
     "output_type": "stream",
     "text": [
      "{'code': -32602, 'message': 'Pending transaction'} (Json rpc error), Retrying in 2 seconds...\n"
     ]
    },
    {
     "name": "stderr",
     "output_type": "stream",
     "text": [
      "Raised JSONRPCException while returning the custom response. Error message: {'code': -32602, 'message': 'Pending transaction'}\n"
     ]
    },
    {
     "name": "stdout",
     "output_type": "stream",
     "text": [
      "{'code': -32602, 'message': 'Pending transaction'} (Json rpc error), Retrying in 4 seconds...\n",
      "{'txHash': '0x986985a713eb9085ef94cf38c57af447c16ede3813aae97865995745005d430f', 'blockHeight': 8171958, 'blockHash': '0x36b06ff454c0086694643bb2a187f7e760a3292fe55799ce47eb93952b1b64c5', 'txIndex': 1, 'to': 'cxed5cc05b631f441d300d80d3b51ec63800962e3f', 'stepUsed': 484900, 'stepPrice': 10000000000, 'cumulativeStepUsed': 484900, 'eventLogs': [{'scoreAddress': 'cxc8ddb41541b9479a38b741fc32679e9a73530312', 'indexed': ['Transfer(Address,Address,int,bytes)', 'cxc8ddb41541b9479a38b741fc32679e9a73530312', 'hx3f01840a599da07b0f620eeae7aa9c574169a4be', '0x22b1c8c1227a00000'], 'data': ['0x4e6f6e65']}, {'scoreAddress': 'cxc8ddb41541b9479a38b741fc32679e9a73530312', 'indexed': ['Mint(Address,int,bytes)', 'hx3f01840a599da07b0f620eeae7aa9c574169a4be'], 'data': ['0x22b1c8c1227a00000', '0x4e6f6e65']}, {'scoreAddress': 'cx71698f1976085e9993d6d9a5d8362adfc091c63a', 'indexed': ['OriginateLoan(Address,str,int,str)', 'hx3f01840a599da07b0f620eeae7aa9c574169a4be', 'ICD', '0x22b1c8c1227a00000'], 'data': ['Loan of 40.0 ICD from Balanced.']}, {'scoreAddress': 'cx137bfc83d24f04cac374bb5088505184f2dfb87e', 'indexed': ['Transfer(Address,Address,int,bytes)', 'cx137bfc83d24f04cac374bb5088505184f2dfb87e', 'cx71698f1976085e9993d6d9a5d8362adfc091c63a', '0x2b5e3af16b18800000'], 'data': ['0x7b226d6574686f64223a20225f6465706f7369745f616e645f626f72726f77222c2022706172616d73223a207b225f666f72223a2022687833663031383430613539396461303762306636323065656165376161396335373431363961346265222c20225f6173736574223a2022494344222c20225f616d6f756e74223a2034303030303030303030303030303030303030307d7d']}, {'scoreAddress': 'cx137bfc83d24f04cac374bb5088505184f2dfb87e', 'indexed': ['Mint(Address,int,bytes)', 'cx71698f1976085e9993d6d9a5d8362adfc091c63a'], 'data': ['0x2b5e3af16b18800000', '0x7b226d6574686f64223a20225f6465706f7369745f616e645f626f72726f77222c2022706172616d73223a207b225f666f72223a2022687833663031383430613539396461303762306636323065656165376161396335373431363961346265222c20225f6173736574223a2022494344222c20225f616d6f756e74223a2034303030303030303030303030303030303030307d7d']}, {'scoreAddress': 'cxed5cc05b631f441d300d80d3b51ec63800962e3f', 'indexed': ['TokenTransfer(Address,int,str)', 'cx71698f1976085e9993d6d9a5d8362adfc091c63a', '0x2b5e3af16b18800000'], 'data': ['800.0 sICX minted to cx71698f1976085e9993d6d9a5d8362adfc091c63a']}], 'logsBloom': b'\\x00\\x00\\x00\\x00\\x00\\x00\\x01 \\x00\\x00\\x80\"\\x00\\x00\\x00\\x02\\x00\\x00\\x01\\x00\\x00\\x00\\x00\\x00\\x00\\x00\\x00\\x00\\x00\\x00\\x04\\x10@\\x00\\x00\\x00\\x00\\x00\\x00\\x00\\x00\\x01\\x00\\x00\\x01\\x00\\x00\\x08\\x00\\x00\\x00\\x00\\x02\\x00\\x00\\x00\\x00\\x00\\x90\\x00\\x00\\x00\\x00\\x00\\x00\\x08\\x00\\x00\\x00\\x00\\x00\\x00\\x00\\x00\\x00\\x00\\x01\\x00\\x00\\x00\\x00\\x00\\x00\\x00\\x00\\x00\\x00\\x00\\x00\\x00\\x00\\x00\\x00\\x00\\x00\\x00\\x00\\x00\\x00\\x00\\x00\\x00\\x00\\x01\\x00\\x01\\x00\\x00\\x80\\x00\\x00\\x00\\x01\\x00\\x01\\x00\\x00\\x00\\x00\\x00\\x01\\x08\\x00\\x00\\x00\\x00\\x00\\x04 \\x00\\x00\\x00\\x00 \\x00\\x00\\x00\\x00\\x00\\x00\\x00\\x00\\x00\\x00@\\x00\\x00\\x80\\x00\\x00\\x00\\x00\\x08\\x00\\x00\\x00\\x00\\x10\\x00\\x00\\x00\\x00\\x00\\x00@\\x00\\x10 \\x00\\x00\\x00\\x00\\x00\\x00\\x00\\x04\\x00\\x00\\x04\\x00\\x00\\x00\\x00\\x00\\x00\\x00\\x00\\x00\\x00\\x00\\x10\\x00\\x01@\\x08\\x00\\x00\\x00\\x00\\x00\\x10\\x00\\x00\\x00\\x00\\x00 \\x00\\x00\\x00\\x00\\x01\\x00A\\x01\\x00\\x08\\x00\\x00\\x00\\x00\\x00\\x00\\x00\\x00\\x00\\x00\\x00\\x00\\x00\\x00\\x00\\x00\\x00\\x00\\x00\\x00@ \\x00\\x00\\x00@ \\x00\\x00\\x00@@\\x00\\x00\\x00\\x00\\x00\\x00\\x00', 'status': 1}\n"
     ]
    }
   ],
   "source": [
    "data = \"{\\\"method\\\": \\\"_deposit_and_borrow\\\", \\\"params\\\": {\\\"_for\\\": \\\"hx3f01840a599da07b0f620eeae7aa9c574169a4be\\\", \\\"_asset\\\": \\\"ICD\\\", \\\"_amount\\\": 40000000000000000000}}\".encode(\"utf-8\")\n",
    "params = {'_to': contracts['loans']['SCORE'], '_data': data}\n",
    "transaction = CallTransactionBuilder()\\\n",
    "    .from_(wallet.get_address())\\\n",
    "    .to(contracts['staking']['SCORE'])\\\n",
    "    .value(800 * ICX)\\\n",
    "    .step_limit(10000000)\\\n",
    "    .nid(NID)\\\n",
    "    .nonce(100)\\\n",
    "    .method(\"add_collateral\")\\\n",
    "    .params(params)\\\n",
    "    .build()\n",
    "signed_transaction = SignedTransaction(transaction, wallet)\n",
    "tx_hash = icon_service.send_transaction(signed_transaction)\n",
    "tx_hash\n",
    "print(get_tx_result(tx_hash))"
   ]
  },
  {
   "cell_type": "markdown",
   "metadata": {},
   "source": [
    "### Just deposit collateral"
   ]
  },
  {
   "cell_type": "code",
   "execution_count": 143,
   "metadata": {},
   "outputs": [
    {
     "name": "stderr",
     "output_type": "stream",
     "text": [
      "Raised JSONRPCException while returning the custom response. Error message: {'code': -32602, 'message': 'Invalid params txHash'}\n"
     ]
    },
    {
     "name": "stdout",
     "output_type": "stream",
     "text": [
      "{'code': -32602, 'message': 'Invalid params txHash'} (Json rpc error), Retrying in 1 seconds...\n"
     ]
    },
    {
     "name": "stderr",
     "output_type": "stream",
     "text": [
      "Raised JSONRPCException while returning the custom response. Error message: {'code': -32602, 'message': 'Pending transaction'}\n"
     ]
    },
    {
     "name": "stdout",
     "output_type": "stream",
     "text": [
      "{'code': -32602, 'message': 'Pending transaction'} (Json rpc error), Retrying in 2 seconds...\n"
     ]
    },
    {
     "name": "stderr",
     "output_type": "stream",
     "text": [
      "Raised JSONRPCException while returning the custom response. Error message: {'code': -32602, 'message': 'Pending transaction'}\n"
     ]
    },
    {
     "name": "stdout",
     "output_type": "stream",
     "text": [
      "{'code': -32602, 'message': 'Pending transaction'} (Json rpc error), Retrying in 4 seconds...\n",
      "{'txHash': '0x370d36cefe5fffa5ba87ffd1f22b66d8e23ed9de612436124808103be0a81c4e', 'blockHeight': 8171979, 'blockHash': '0x4d8598c5abb28374655d8303f32749ee65ff4b325a2ff0b50929fd3ff9e85000', 'txIndex': 1, 'to': 'cxed5cc05b631f441d300d80d3b51ec63800962e3f', 'stepUsed': 301380, 'stepPrice': 10000000000, 'cumulativeStepUsed': 301380, 'eventLogs': [{'scoreAddress': 'cx137bfc83d24f04cac374bb5088505184f2dfb87e', 'indexed': ['Transfer(Address,Address,int,bytes)', 'cx137bfc83d24f04cac374bb5088505184f2dfb87e', 'cx71698f1976085e9993d6d9a5d8362adfc091c63a', '0x1a055690d9db80000'], 'data': ['0x7b226d6574686f64223a20225f6465706f7369745f616e645f626f72726f77222c2022706172616d73223a207b225f666f72223a2022687833663031383430613539396461303762306636323065656165376161396335373431363961346265222c20225f6173736574223a2022222c20225f616d6f756e74223a20307d7d']}, {'scoreAddress': 'cx137bfc83d24f04cac374bb5088505184f2dfb87e', 'indexed': ['Mint(Address,int,bytes)', 'cx71698f1976085e9993d6d9a5d8362adfc091c63a'], 'data': ['0x1a055690d9db80000', '0x7b226d6574686f64223a20225f6465706f7369745f616e645f626f72726f77222c2022706172616d73223a207b225f666f72223a2022687833663031383430613539396461303762306636323065656165376161396335373431363961346265222c20225f6173736574223a2022222c20225f616d6f756e74223a20307d7d']}, {'scoreAddress': 'cxed5cc05b631f441d300d80d3b51ec63800962e3f', 'indexed': ['TokenTransfer(Address,int,str)', 'cx71698f1976085e9993d6d9a5d8362adfc091c63a', '0x1a055690d9db80000'], 'data': ['30.0 sICX minted to cx71698f1976085e9993d6d9a5d8362adfc091c63a']}], 'logsBloom': b'\\x00\\x00\\x00\\x00\\x00\\x00\\x01\\x00\\x00\\x00\\x00\"\\x00\\x00\\x00\\x00\\x00\\x00\\x01\\x00\\x00\\x00\\x00\\x00\\x00\\x00\\x00\\x00\\x00\\x00\\x00\\x10@\\x00\\x00\\x00\\x00\\x00\\x00\\x00\\x00\\x00\\x00\\x00\\x00\\x00\\x00\\x08\\x00\\x00\\x00\\x00\\x00\\x00\\x00\\x00\\x00\\x00\\x00\\x00\\x00\\x00\\x00\\x00\\x00\\x00\\x00\\x00\\x00\\x00\\x00\\x00\\x00\\x00\\x00\\x00\\x01\\x00\\x00\\x00\\x00\\x00\\x00\\x00\\x00\\x00\\x00\\x00\\x00\\x00\\x00\\x00\\x00\\x00\\x00\\x00\\x00\\x00\\x00\\x00\\x00\\x00\\x00\\x01\\x00\\x00\\x00\\x00\\x80\\x00\\x00\\x00\\x00\\x00\\x00\\x00\\x00\\x00\\x00\\x00\\x00\\x08\\x00\\x10\\x00\\x00\\x00\\x04\\x00\\x00\\x00\\x00\\x00\\x00\\x00\\x00\\x00\\x00\\x00\\x00\\x00\\x00\\x00\\x00@\\x00\\x00\\x80\\x00\\x00\\x00\\x00\\x00\\x00\\x00\\x00\\x00\\x10\\x00\\x00 \\x01\\x00\\x00\\x00\\x00\\x00 \\x00\\x00\\x00\\x00\\x00\\x00\\x00\\x00\\x00\\x00\\x00\\x00\\x00\\x00\\x00\\x00\\x00\\x00\\x00\\x00\\x00\\x00\\x00\\x00\\x00@\\x08\\x00\\x00\\x04\\x00\\x00\\x10\\x00\\x04\\x00\\x00\\x00\\x00\\x00\\x00\\x00\\x00\\x00\\x00A\\x00\\x00\\x00\\x00\\x00\\x00\\x00\\x00\\x00\\x00\\x00\\x00\\x00\\x00\\x00\\x00\\x00\\x00\\x00\\x00\\x00\\x00\\x00@ \\x00\\x00\\x08\\x00 \\x00\\x00\\x00\\x00\\x00\\x00\\x00\\x00\\x00\\x00\\x00\\x00', 'status': 1}\n"
     ]
    }
   ],
   "source": [
    "data = \"{\\\"method\\\": \\\"_deposit_and_borrow\\\", \\\"params\\\": {\\\"_for\\\": \\\"hx3f01840a599da07b0f620eeae7aa9c574169a4be\\\", \\\"_asset\\\": \\\"\\\", \\\"_amount\\\": 0}}\".encode(\"utf-8\")\n",
    "params = {'_to': contracts['loans']['SCORE'], '_data': data}\n",
    "transaction = CallTransactionBuilder()\\\n",
    "    .from_(wallet.get_address())\\\n",
    "    .to(contracts['staking']['SCORE'])\\\n",
    "    .value(30 * ICX)\\\n",
    "    .step_limit(10000000)\\\n",
    "    .nid(NID)\\\n",
    "    .nonce(100)\\\n",
    "    .method(\"add_collateral\")\\\n",
    "    .params(params)\\\n",
    "    .build()\n",
    "signed_transaction = SignedTransaction(transaction, wallet)\n",
    "tx_hash = icon_service.send_transaction(signed_transaction)\n",
    "tx_hash\n",
    "print(get_tx_result(tx_hash))"
   ]
  },
  {
   "cell_type": "markdown",
   "metadata": {},
   "source": [
    "### Repay Some ICD"
   ]
  },
  {
   "cell_type": "code",
   "execution_count": 144,
   "metadata": {},
   "outputs": [
    {
     "name": "stderr",
     "output_type": "stream",
     "text": [
      "Raised JSONRPCException while returning the custom response. Error message: {'code': -32602, 'message': 'Invalid params txHash'}\n"
     ]
    },
    {
     "name": "stdout",
     "output_type": "stream",
     "text": [
      "{'code': -32602, 'message': 'Invalid params txHash'} (Json rpc error), Retrying in 1 seconds...\n"
     ]
    },
    {
     "name": "stderr",
     "output_type": "stream",
     "text": [
      "Raised JSONRPCException while returning the custom response. Error message: {'code': -32602, 'message': 'Pending transaction'}\n"
     ]
    },
    {
     "name": "stdout",
     "output_type": "stream",
     "text": [
      "{'code': -32602, 'message': 'Pending transaction'} (Json rpc error), Retrying in 2 seconds...\n",
      "{'txHash': '0x48eef94e53224e280e7b4029d58a157b64bfbbbe4bc04088c22e13dc6f60cbb1', 'blockHeight': 8171994, 'blockHash': '0xfd5845f133d701559676a4707a6ed70c34f23877e56bf6bd66eebc01bf109589', 'txIndex': 1, 'to': 'cxc8ddb41541b9479a38b741fc32679e9a73530312', 'stepUsed': 272400, 'stepPrice': 10000000000, 'cumulativeStepUsed': 272400, 'eventLogs': [{'scoreAddress': 'cxc8ddb41541b9479a38b741fc32679e9a73530312', 'indexed': ['Burn(Address,int)', 'cx71698f1976085e9993d6d9a5d8362adfc091c63a'], 'data': ['0x4563918244f40000']}, {'scoreAddress': 'cx71698f1976085e9993d6d9a5d8362adfc091c63a', 'indexed': ['LoanRepaid(Address,str,int,str)', 'hx3f01840a599da07b0f620eeae7aa9c574169a4be', 'ICD', '0x4563918244f40000'], 'data': ['Loan of 5.0 ICD repaid to Balanced.']}, {'scoreAddress': 'cxc8ddb41541b9479a38b741fc32679e9a73530312', 'indexed': ['Transfer(Address,Address,int,bytes)', 'hx3f01840a599da07b0f620eeae7aa9c574169a4be', 'cx71698f1976085e9993d6d9a5d8362adfc091c63a', '0x4563918244f40000'], 'data': ['0x7b226d6574686f64223a20225f72657061795f6c6f616e222c2022706172616d73223a207b7d7d']}], 'logsBloom': b'\\x00\\x00\\x00\\x00\\x08\\x08\\x01\\x00\\x00\\x00\\x80 \\x00\\x00\\x00\\x00@\\x00\\x00\\x00\\x00\\x00\\x00\\x00\\x00\\x00\\x00\\x00\\x00\\x00\\x04\\x18\\x00\\x00\\x00\\x00\\x00\\x00\\x00\\x00\\x00\\x00\\x00\\x00\\x00\\x00\\x00\\x00\\x00\\x00\\x00\\x00\\x00\\x00\\x00\\x00\\x00\\x00\\x90\\x00\\x00\\x00\\x00\\x00\\x00\\x00\\x00\\x00\\x00\\x00\\x00\\x00\\x00\\x00\\x00\\x00\\x00\\x00\\x00\\x04\\x00\\x00\\x00\\x00\\x00\\x00\\x00\\x00\\x00\\x00\\x00\\x00\\x00\\x00\\x00\\x00\\x00\\x00\\x00\\x00\\x00\\x00\\x00\\x00\\x00\\x00\\x00\\x00\\x00\\x00\\x00\\x00\\x00\\x00\\x01\\x00\\x00\\x00\\x00\\x00\\x00\\x00\\x00\\x00\\x00\\x00\\x00\\x00 \\x00 \\x00\\x00\\x00\\x00\\x00\\x00\\x00\\x00\\x00\\x00\\x00\\x00\\x01\\x00\\x00\\x00\\x80\\x00\\x00\\x00\\x00\\x00\\x00\\x00\\x00\\x00\\x10\\x00\\x00\\x00\\x00\\x00\\x00@\\x00\\x00 \\x00\\x00\\x00\\x00\\x00\\x00\\x00\\x00\\x00\\x00\\x04\\x00\\x00\\x00\\x00\\x00\\x00\\x00\\x00\\x00\\x00\\x00\\x00\\x00\\x01\\x00\\x00\\x00\\x00\\x00\\x00\\x00\\x10\\x00\\x00\\x00\\x00\\x00\\x00\\x00\\x00\\x00\\x00\\x00\\x00\\x01\\x00\\x00\\x08\\x00\\x00\\x00\\x00\\x00\\x00\\x00\\x00\\x00\\x00\\x00\\x00\\x00\\x00\\x00\\x00\\x00\\x00\\x00\\x00\\x00 \\x00\\x00\\x00@\\x90\\x00\\x00\\x00@\\x00\\x00\\x00\\x00\\x00\\x00\\x00\\x00', 'status': 1}\n"
     ]
    }
   ],
   "source": [
    "data = \"{\\\"method\\\": \\\"_repay_loan\\\", \\\"params\\\": {}}\".encode(\"utf-8\")\n",
    "params = {'_to': contracts['loans']['SCORE'], '_value': 5 * ICX, '_data': data}\n",
    "transaction = CallTransactionBuilder()\\\n",
    "    .from_(wallet.get_address())\\\n",
    "    .to(contracts['icd']['SCORE'])\\\n",
    "    .value(0)\\\n",
    "    .step_limit(10000000)\\\n",
    "    .nid(NID)\\\n",
    "    .nonce(100)\\\n",
    "    .method(\"transfer\")\\\n",
    "    .params(params)\\\n",
    "    .build()\n",
    "signed_transaction = SignedTransaction(transaction, wallet)\n",
    "tx_hash = icon_service.send_transaction(signed_transaction)\n",
    "tx_hash\n",
    "print(get_tx_result(tx_hash))"
   ]
  },
  {
   "cell_type": "markdown",
   "metadata": {},
   "source": [
    "### Withdraw Some Collateral"
   ]
  },
  {
   "cell_type": "code",
   "execution_count": 145,
   "metadata": {},
   "outputs": [
    {
     "name": "stderr",
     "output_type": "stream",
     "text": [
      "Raised JSONRPCException while returning the custom response. Error message: {'code': -32602, 'message': 'Invalid params txHash'}\n"
     ]
    },
    {
     "name": "stdout",
     "output_type": "stream",
     "text": [
      "{'code': -32602, 'message': 'Invalid params txHash'} (Json rpc error), Retrying in 1 seconds...\n"
     ]
    },
    {
     "name": "stderr",
     "output_type": "stream",
     "text": [
      "Raised JSONRPCException while returning the custom response. Error message: {'code': -32602, 'message': 'Pending transaction'}\n"
     ]
    },
    {
     "name": "stdout",
     "output_type": "stream",
     "text": [
      "{'code': -32602, 'message': 'Pending transaction'} (Json rpc error), Retrying in 2 seconds...\n"
     ]
    },
    {
     "name": "stderr",
     "output_type": "stream",
     "text": [
      "Raised JSONRPCException while returning the custom response. Error message: {'code': -32602, 'message': 'Pending transaction'}\n"
     ]
    },
    {
     "name": "stdout",
     "output_type": "stream",
     "text": [
      "{'code': -32602, 'message': 'Pending transaction'} (Json rpc error), Retrying in 4 seconds...\n",
      "{'txHash': '0x0e61ba27e9207f1fc653a05adae833cd4b0ad5257f7ee6b773e5f3e581f3f442', 'blockHeight': 8172003, 'blockHash': '0xc5ad6647904b862cc059fa166103a4eaa0f0160f68f5d0c926bf1c900d9a8243', 'txIndex': 1, 'to': 'cx71698f1976085e9993d6d9a5d8362adfc091c63a', 'stepUsed': 241280, 'stepPrice': 10000000000, 'cumulativeStepUsed': 241280, 'eventLogs': [{'scoreAddress': 'cx137bfc83d24f04cac374bb5088505184f2dfb87e', 'indexed': ['Transfer(Address,Address,int,bytes)', 'cx71698f1976085e9993d6d9a5d8362adfc091c63a', 'hx3f01840a599da07b0f620eeae7aa9c574169a4be', '0x4563918244f40000'], 'data': ['0x4e6f6e65']}, {'scoreAddress': 'cx71698f1976085e9993d6d9a5d8362adfc091c63a', 'indexed': ['TokenTransfer(Address,int,str)', 'hx3f01840a599da07b0f620eeae7aa9c574169a4be', '0x4563918244f40000'], 'data': ['Collateral withdrawn. 5000000000000000000 sICX sent to hx3f01840a599da07b0f620eeae7aa9c574169a4be.']}], 'logsBloom': b'\\x00\\x00\\x00\\x00\\x08\\x00\\x00\\x00\\x00\\x00\\x00 \\x00\\x00\\x00\\x00\\x00\\x00\\x00\\x00\\x00\\x00\\x00\\x00\\x00\\x00\\x00\\x00\\x00\\x00\\x04\\x00\\x00\\x00\\x00\\x00\\x00\\x00\\x00\\x00\\x00\\x01\\x00\\x00\\x00\\x00\\x00\\x08\\x00\\x00\\x00\\x00\\x00\\x00\\x00\\x00\\x00\\x00\\x10\\x00\\x00\\x00\\x00\\x00\\x00\\x00\\x00\\x00\\x00\\x00\\x00\\x00\\x00\\x00\\x00\\x00\\x01\\x00\\x00\\x00\\x00\\x00\\x00\\x00\\x00\\x00\\x00\\x00\\x00\\x00\\x00\\x00\\x00\\x00\\x00\\x00\\x00\\x00\\x00\\x00\\x00\\x00\\x00\\x00\\x00\\x00\\x00\\x00\\x80\\x00\\x00\\x00\\x01\\x00\\x00\\x00\\x00\\x00\\x00\\x00\\x00\\x00\\x00\\x00\\x00\\x00\\x00\\x04 \\x00\\x00\\x00\\x00 \\x00\\x00\\x00\\x00\\x00\\x00\\x00\\x00\\x00\\x00@\\x00\\x00\\x80\\x00\\x00\\x00\\x00\\x00\\x00\\x00\\x00\\x00\\x10\\x00\\x00\\x00\\x00\\x00\\x00@\\x00\\x00\\x08\\x00\\x00\\x00\\x00\\x00\\x00\\x00\\x00\\x00\\x00\\x00\\x00\\x00\\x00\\x00\\x00\\x00\\x00\\x00\\x00\\x00\\x00\\x00\\x00\\x01\\x00\\x00\\x00\\x00\\x00\\x00\\x00\\x10\\x00\\x00\\x00@\\x00\\x00\\x00\\x00\\x00\\x00\\x00\\x00\\x01\\x00\\x00\\x00\\x00\\x00\\x00\\x00\\x00\\x00\\x00\\x00\\x00\\x00\\x00\\x00\\x00\\x00\\x00\\x00\\x00\\x00\\x00\\x00\\x00 \\x00\\x00\\x00\\x00\\xb0\\x00\\x00\\x00@\\x10\\x00\\x00\\x00\\x00\\x00\\x00\\x00', 'status': 1}\n"
     ]
    }
   ],
   "source": [
    "params = {'_value': 5 * ICX}\n",
    "transaction = CallTransactionBuilder()\\\n",
    "    .from_(wallet.get_address())\\\n",
    "    .to(contracts['loans']['SCORE'])\\\n",
    "    .value(0)\\\n",
    "    .step_limit(10000000)\\\n",
    "    .nid(NID)\\\n",
    "    .nonce(100)\\\n",
    "    .method(\"withdraw_collateral\")\\\n",
    "    .params(params)\\\n",
    "    .build()\n",
    "signed_transaction = SignedTransaction(transaction, wallet)\n",
    "tx_hash = icon_service.send_transaction(signed_transaction)\n",
    "tx_hash\n",
    "print(get_tx_result(tx_hash))"
   ]
  },
  {
   "cell_type": "code",
   "execution_count": null,
   "metadata": {},
   "outputs": [],
   "source": []
  }
 ],
 "metadata": {
  "kernelspec": {
   "display_name": "Python 3",
   "language": "python",
   "name": "python3"
  },
  "language_info": {
   "codemirror_mode": {
    "name": "ipython",
    "version": 3
   },
   "file_extension": ".py",
   "mimetype": "text/x-python",
   "name": "python",
   "nbconvert_exporter": "python",
   "pygments_lexer": "ipython3",
   "version": "3.6.10"
  }
 },
 "nbformat": 4,
 "nbformat_minor": 4
}
