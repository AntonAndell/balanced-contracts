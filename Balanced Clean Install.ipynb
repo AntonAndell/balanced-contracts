{
 "cells": [
  {
   "cell_type": "code",
   "execution_count": null,
   "metadata": {},
   "outputs": [],
   "source": [
    "from IPython.core.display import display, HTML\n",
    "display(HTML(\"<style>.container { width:100% !important; }</style>\"))"
   ]
  },
  {
   "cell_type": "markdown",
   "metadata": {},
   "source": [
    "## Set Up Environment"
   ]
  },
  {
   "cell_type": "code",
   "execution_count": null,
   "metadata": {},
   "outputs": [],
   "source": [
    "network = \"custom\"  # set this to one of mainnet, yeouido, euljiro, pagoda, or custom\n",
    "contracts_file_custom = 'contracts_20210106025209.pkl'\n",
    "\n",
    "connections = {\n",
    "\"mainnet\": {\"iconservice\": \"https://ctz.solidwallet.io\",       \"nid\": 1},\n",
    "\"yeouido\": {\"iconservice\": \"https://bicon.net.solidwallet.io\", \"nid\": 3},\n",
    "\"euljiro\": {\"iconservice\": \"https://test-ctz.solidwallet.io\",  \"nid\": 2},\n",
    "\"pagoda\":  {\"iconservice\": \"https://zicon.net.solidwallet.io\", \"nid\":80},\n",
    "\"custom\":  {\"iconservice\": \"http://52.53.175.151:9000/\",       \"nid\": 3}}\n",
    "\n",
    "env = connections[network]"
   ]
  },
  {
   "cell_type": "code",
   "execution_count": null,
   "metadata": {},
   "outputs": [],
   "source": [
    "from iconsdk.exception import JSONRPCException\n",
    "from iconsdk.libs.in_memory_zip import gen_deploy_data_content\n",
    "from iconsdk.icon_service import IconService\n",
    "from iconsdk.providers.http_provider import HTTPProvider\n",
    "from iconsdk.builder.transaction_builder import CallTransactionBuilder, TransactionBuilder, DeployTransactionBuilder\n",
    "from iconsdk.builder.call_builder import CallBuilder\n",
    "from iconsdk.signed_transaction import SignedTransaction\n",
    "from iconsdk.wallet.wallet import KeyWallet\n",
    "from iconsdk.utils.convert_type import convert_hex_str_to_int\n",
    "from repeater import retry\n",
    "from shutil import make_archive\n",
    "import pickle as pkl\n",
    "from datetime import datetime\n",
    "import json\n",
    "import os\n",
    "\n",
    "ICX = 1000000000000000000 # 10**18\n",
    "GOVERNANCE_ADDRESS = \"cx0000000000000000000000000000000000000000\"\n",
    "ORACLE = \"cx61a36e5d10412e03c907a507d1e8c6c3856d9964\"\n",
    "\n",
    "@retry(JSONRPCException, tries=10, delay=1, back_off=2)\n",
    "def get_tx_result(_tx_hash):\n",
    "    tx_result = icon_service.get_transaction_result(_tx_hash)\n",
    "    return tx_result"
   ]
  },
  {
   "cell_type": "code",
   "execution_count": 251,
   "metadata": {},
   "outputs": [],
   "source": [
    "contracts = {}\n",
    "\n",
    "# with open(contracts_file_custom, 'rb') as f:\n",
    "#     contracts = pkl.load(f)\n",
    "\n",
    "contracts = {'loans': {'zip': 'core_contracts/loans.zip',\n",
    "  'SCORE': ''},\n",
    " 'staking': {'zip': 'core_contracts/staking.zip',\n",
    "  'SCORE': ''},\n",
    " 'dividends': {'zip': 'core_contracts/dividends.zip',\n",
    "  'SCORE': ''},\n",
    " 'reserve_fund': {'zip': 'core_contracts/reserve_fund.zip',\n",
    "  'SCORE': ''},\n",
    " 'rewards': {'zip': 'core_contracts/rewards.zip',\n",
    "  'SCORE': ''},\n",
    " 'dex': {'zip': 'core_contracts/dex.zip',\n",
    "  'SCORE': ''},\n",
    " 'governance': {'zip': 'core_contracts/governance.zip',\n",
    "  'SCORE': ''},\n",
    " 'dummy_oracle': {'zip': 'core_contracts/dummy_oracle.zip',\n",
    "  'SCORE': ''},\n",
    " 'sicx': {'zip': 'token_contracts/sicx.zip',\n",
    "  'SCORE': ''},\n",
    " 'icd': {'zip': 'token_contracts/icd.zip',\n",
    "  'SCORE': ''},\n",
    " 'bal': {'zip': 'token_contracts/bal.zip',\n",
    "  'SCORE': ''},\n",
    " 'bwt': {'zip': 'token_contracts/bwt.zip',\n",
    "  'SCORE': ''}}"
   ]
  },
  {
   "cell_type": "code",
   "execution_count": null,
   "metadata": {},
   "outputs": [],
   "source": [
    "icon_service = IconService(HTTPProvider(env[\"iconservice\"], 3))\n",
    "NID = env[\"nid\"]"
   ]
  },
  {
   "cell_type": "code",
   "execution_count": null,
   "metadata": {},
   "outputs": [],
   "source": [
    "wallet = KeyWallet.load(\"keystores/keystore_test1.json\", \"test1_Account\")"
   ]
  },
  {
   "cell_type": "code",
   "execution_count": null,
   "metadata": {},
   "outputs": [],
   "source": [
    "# Balanced test wallet\n",
    "btest_wallet = KeyWallet.load(\"keystores/balanced_test.json\", \"xxxx\")"
   ]
  },
  {
   "cell_type": "markdown",
   "metadata": {},
   "source": [
    "### Send ICX to Balanced test wallet"
   ]
  },
  {
   "cell_type": "code",
   "execution_count": null,
   "metadata": {},
   "outputs": [],
   "source": [
    "wallet.get_address()\n"
   ]
  },
  {
   "cell_type": "code",
   "execution_count": null,
   "metadata": {},
   "outputs": [],
   "source": [
    "test_wallet = KeyWallet.load(\"./keystores/keystore_test1.json\", \"test1_Account\")\n",
    "transaction = TransactionBuilder()\\\n",
    "    .from_(wallet.get_address())\\\n",
    "    .to(btest_wallet.get_address())\\\n",
    "    .value(1000000 * ICX)\\\n",
    "    .step_limit(1000000) \\\n",
    "    .nid(NID) \\\n",
    "    .nonce(2) \\\n",
    "    .version(3) \\\n",
    "    .build()\n",
    "signed_transaction = SignedTransaction(transaction, test_wallet)\n",
    "tx_hash = icon_service.send_transaction(signed_transaction)\n",
    "tx_hash"
   ]
  },
  {
   "cell_type": "code",
   "execution_count": 252,
   "metadata": {},
   "outputs": [
    {
     "name": "stdout",
     "output_type": "stream",
     "text": [
      "saving contracts list as contracts_20210121065741.pkl\n"
     ]
    },
    {
     "data": {
      "text/plain": [
       "{'loans': {'zip': 'core_contracts/loans.zip', 'SCORE': ''},\n",
       " 'staking': {'zip': 'core_contracts/staking.zip', 'SCORE': ''},\n",
       " 'dividends': {'zip': 'core_contracts/dividends.zip', 'SCORE': ''},\n",
       " 'reserve_fund': {'zip': 'core_contracts/reserve_fund.zip', 'SCORE': ''},\n",
       " 'rewards': {'zip': 'core_contracts/rewards.zip', 'SCORE': ''},\n",
       " 'dex': {'zip': 'core_contracts/dex.zip', 'SCORE': ''},\n",
       " 'governance': {'zip': 'core_contracts/governance.zip', 'SCORE': ''},\n",
       " 'dummy_oracle': {'zip': 'core_contracts/dummy_oracle.zip', 'SCORE': ''},\n",
       " 'sicx': {'zip': 'token_contracts/sicx.zip', 'SCORE': ''},\n",
       " 'icd': {'zip': 'token_contracts/icd.zip', 'SCORE': ''},\n",
       " 'bal': {'zip': 'token_contracts/bal.zip', 'SCORE': ''},\n",
       " 'bwt': {'zip': 'token_contracts/bwt.zip', 'SCORE': ''}}"
      ]
     },
     "execution_count": 252,
     "metadata": {},
     "output_type": "execute_result"
    }
   ],
   "source": [
    "# Add the contracts. Copy the output from this cell the the one above to save the contract addresses.\n",
    "# contracts['dividends'] = {'zip': 'core_contracts/dividends.zip', 'SCORE': 'cxceadb6419b92f7170b38b8328dbd8deefb4a1cdb'}\n",
    "deploy = ['loans', 'staking', 'dividends', 'rewards', 'reserve_fund', 'governance', 'dummy_oracle', 'sicx', 'dex', 'icd', 'bal']\n",
    "for directory in {\"core_contracts\", \"token_contracts\"}:\n",
    "    with os.scandir(directory) as it:\n",
    "        for file in it:\n",
    "            archive_name = directory + \"/\" + file.name\n",
    "            if file.is_dir() and file.name in deploy:\n",
    "                make_archive(archive_name, \"zip\", directory, file.name)\n",
    "                contracts[file.name]['zip'] = archive_name + '.zip'\n",
    "\n",
    "now = datetime.utcnow()\n",
    "filename = f'contracts_{now.year}{str(now.month).zfill(2)}{str(now.day).zfill(2)}{str(now.hour).zfill(2)}{str(now.minute).zfill(2)}{str(now.second).zfill(2)}.pkl'\n",
    "print(f'saving contracts list as {filename}')\n",
    "with open(filename, 'wb') as f:\n",
    "    pkl.dump(contracts, f)\n",
    "contracts"
   ]
  },
  {
   "cell_type": "code",
   "execution_count": 181,
   "metadata": {},
   "outputs": [
    {
     "data": {
      "text/plain": [
       "{'loans': {'zip': 'core_contracts/loans.zip',\n",
       "  'SCORE': 'cx14c12f31b8ca35198eaf862c45b43c5b75baadef'},\n",
       " 'staking': {'zip': 'core_contracts/staking.zip',\n",
       "  'SCORE': 'cxff8c6025fb7eed7197cef6f7fc7993eb2abd7c75'},\n",
       " 'dividends': {'zip': 'core_contracts/dividends.zip',\n",
       "  'SCORE': 'cx2771c23c7a11cb9804d8c03347db955a632f366c'},\n",
       " 'sicx': {'zip': 'token_contracts/sicx.zip',\n",
       "  'SCORE': 'cxbc9fad62310a119a48d1e959d552d9c4b4ce4f03'},\n",
       " 'dex': {'zip': 'core_contracts/dex.zip',\n",
       "  'SCORE': 'cx5a5db07a2fb83c8850ae2f67dde041d989af3180'},\n",
       " 'icd': {'zip': 'token_contracts/icd.zip',\n",
       "  'SCORE': 'cx2df2231fe5c090ee3e6135b816f2e487c77b306d'},\n",
       " 'dummy_oracle': {'zip': 'core_contracts/dummy_oracle.zip',\n",
       "  'SCORE': 'cx200c946c7cc03f330bbf170649bbacb9f2998bbb'},\n",
       " 'reserve_fund': {'zip': 'core_contracts/reserve_fund.zip',\n",
       "  'SCORE': 'cxb73bbcebf22424ee523af64216d2c55b4c506443'},\n",
       " 'bal': {'zip': 'token_contracts/bal.zip',\n",
       "  'SCORE': 'cxaa73e0a90c6199ba79262c8cf16473f94001934c'}}"
      ]
     },
     "execution_count": 181,
     "metadata": {},
     "output_type": "execute_result"
    }
   ],
   "source": [
    "contracts"
   ]
  },
  {
   "cell_type": "markdown",
   "metadata": {},
   "source": [
    "## Deploy All SCOREs"
   ]
  },
  {
   "cell_type": "code",
   "execution_count": null,
   "metadata": {},
   "outputs": [],
   "source": [
    "step_limit = 4000100000\n",
    "\n",
    "for score, loc in contracts.items():\n",
    "    deploy_transaction = DeployTransactionBuilder()\\\n",
    "        .from_(wallet.get_address())\\\n",
    "        .to(GOVERNANCE_ADDRESS)\\\n",
    "        .nid(NID)\\\n",
    "        .nonce(100)\\\n",
    "        .content_type(\"application/zip\")\\\n",
    "        .content(gen_deploy_data_content(loc[\"zip\"]))\\\n",
    "        .build()\n",
    "\n",
    "#     step_limit = icon_service.estimate_step(deploy_transaction) + 100000\n",
    "    \n",
    "    signed_transaction = SignedTransaction(deploy_transaction, wallet, step_limit)\n",
    "    tx_hash = icon_service.send_transaction(signed_transaction)\n",
    "\n",
    "    res = get_tx_result(tx_hash)\n",
    "    contracts[score][\"SCORE\"] = res.get('scoreAddress', '')\n",
    "    print(score)\n",
    "    print(res)\n",
    "\n",
    "contracts"
   ]
  },
  {
   "cell_type": "markdown",
   "metadata": {},
   "source": [
    "### Deploy a single SCORE"
   ]
  },
  {
   "cell_type": "code",
   "execution_count": 247,
   "metadata": {},
   "outputs": [
    {
     "name": "stderr",
     "output_type": "stream",
     "text": [
      "Raised JSONRPCException while returning the custom response. Error message: {'code': -32602, 'message': 'Pending transaction'}\n"
     ]
    },
    {
     "name": "stdout",
     "output_type": "stream",
     "text": [
      "Retrying in 1 seconds...\n"
     ]
    },
    {
     "name": "stderr",
     "output_type": "stream",
     "text": [
      "Raised JSONRPCException while returning the custom response. Error message: {'code': -32602, 'message': 'Pending transaction'}\n"
     ]
    },
    {
     "name": "stdout",
     "output_type": "stream",
     "text": [
      "Retrying in 2 seconds...\n"
     ]
    },
    {
     "data": {
      "text/plain": [
       "{'txHash': '0xdde0a76c1e3ac9016e9fc73e184eecda4f6dc9c1e23d35d024453e8fc48b6c28',\n",
       " 'blockHeight': 654620,\n",
       " 'blockHash': '0x8fb71733eab839d2e593611a76010943bfdf34c398daf2247e1998f42993bd07',\n",
       " 'txIndex': 1,\n",
       " 'to': 'cx0000000000000000000000000000000000000000',\n",
       " 'stepUsed': 1948924000,\n",
       " 'stepPrice': 10000000000,\n",
       " 'cumulativeStepUsed': 1948924000,\n",
       " 'eventLogs': [],\n",
       " 'logsBloom': b'\\x00\\x00\\x00\\x00\\x00\\x00\\x00\\x00\\x00\\x00\\x00\\x00\\x00\\x00\\x00\\x00\\x00\\x00\\x00\\x00\\x00\\x00\\x00\\x00\\x00\\x00\\x00\\x00\\x00\\x00\\x00\\x00\\x00\\x00\\x00\\x00\\x00\\x00\\x00\\x00\\x00\\x00\\x00\\x00\\x00\\x00\\x00\\x00\\x00\\x00\\x00\\x00\\x00\\x00\\x00\\x00\\x00\\x00\\x00\\x00\\x00\\x00\\x00\\x00\\x00\\x00\\x00\\x00\\x00\\x00\\x00\\x00\\x00\\x00\\x00\\x00\\x00\\x00\\x00\\x00\\x00\\x00\\x00\\x00\\x00\\x00\\x00\\x00\\x00\\x00\\x00\\x00\\x00\\x00\\x00\\x00\\x00\\x00\\x00\\x00\\x00\\x00\\x00\\x00\\x00\\x00\\x00\\x00\\x00\\x00\\x00\\x00\\x00\\x00\\x00\\x00\\x00\\x00\\x00\\x00\\x00\\x00\\x00\\x00\\x00\\x00\\x00\\x00\\x00\\x00\\x00\\x00\\x00\\x00\\x00\\x00\\x00\\x00\\x00\\x00\\x00\\x00\\x00\\x00\\x00\\x00\\x00\\x00\\x00\\x00\\x00\\x00\\x00\\x00\\x00\\x00\\x00\\x00\\x00\\x00\\x00\\x00\\x00\\x00\\x00\\x00\\x00\\x00\\x00\\x00\\x00\\x00\\x00\\x00\\x00\\x00\\x00\\x00\\x00\\x00\\x00\\x00\\x00\\x00\\x00\\x00\\x00\\x00\\x00\\x00\\x00\\x00\\x00\\x00\\x00\\x00\\x00\\x00\\x00\\x00\\x00\\x00\\x00\\x00\\x00\\x00\\x00\\x00\\x00\\x00\\x00\\x00\\x00\\x00\\x00\\x00\\x00\\x00\\x00\\x00\\x00\\x00\\x00\\x00\\x00\\x00\\x00\\x00\\x00\\x00\\x00\\x00\\x00\\x00\\x00\\x00\\x00\\x00\\x00\\x00\\x00\\x00\\x00\\x00\\x00\\x00\\x00\\x00\\x00\\x00\\x00\\x00\\x00\\x00\\x00\\x00',\n",
       " 'status': 0,\n",
       " 'failure': {'code': 1,\n",
       "  'message': 'not enough values to unpack (expected 2, got 1)'}}"
      ]
     },
     "execution_count": 247,
     "metadata": {},
     "output_type": "execute_result"
    }
   ],
   "source": [
    "# Deploy a single SCORE\n",
    "score = 'loans'\n",
    "loc = {'zip': 'core_contracts/loans.zip',  'SCORE': ''}\n",
    "deploy_transaction = DeployTransactionBuilder()\\\n",
    "    .from_(wallet.get_address())\\\n",
    "    .to(GOVERNANCE_ADDRESS)\\\n",
    "    .nid(NID)\\\n",
    "    .nonce(100)\\\n",
    "    .content_type(\"application/zip\")\\\n",
    "    .content(gen_deploy_data_content(loc[\"zip\"]))\\\n",
    "    .build()\n",
    "\n",
    "step_limit = 10000000000\n",
    "\n",
    "\n",
    "signed_transaction = SignedTransaction(deploy_transaction, wallet, step_limit)\n",
    "tx_hash = icon_service.send_transaction(signed_transaction)\n",
    "\n",
    "res = get_tx_result(tx_hash)\n",
    "contracts[score][\"SCORE\"] = res.get('scoreAddress', '')\n",
    "res"
   ]
  },
  {
   "cell_type": "markdown",
   "metadata": {},
   "source": [
    "## Update a SCORE"
   ]
  },
  {
   "cell_type": "code",
   "execution_count": 189,
   "metadata": {},
   "outputs": [
    {
     "name": "stderr",
     "output_type": "stream",
     "text": [
      "Raised JSONRPCException while returning the custom response. Error message: {'code': -32602, 'message': 'Pending transaction'}\n"
     ]
    },
    {
     "name": "stdout",
     "output_type": "stream",
     "text": [
      "Retrying in 1 seconds...\n"
     ]
    },
    {
     "name": "stderr",
     "output_type": "stream",
     "text": [
      "Raised JSONRPCException while returning the custom response. Error message: {'code': -32602, 'message': 'Pending transaction'}\n"
     ]
    },
    {
     "name": "stdout",
     "output_type": "stream",
     "text": [
      "Retrying in 2 seconds...\n"
     ]
    },
    {
     "data": {
      "text/plain": [
       "{'txHash': '0x121adc3ecaff241aa91253bbd95750fff83f6241677ae190994cc5f05e4f3026',\n",
       " 'blockHeight': 421314,\n",
       " 'blockHash': '0x5ea95c46f4f754f595f9240d0f566b22728157e7b859d9255880b0816ad8e754',\n",
       " 'txIndex': 1,\n",
       " 'to': 'cx14c12f31b8ca35198eaf862c45b43c5b75baadef',\n",
       " 'scoreAddress': 'cx14c12f31b8ca35198eaf862c45b43c5b75baadef',\n",
       " 'stepUsed': 2059971120,\n",
       " 'stepPrice': 10000000000,\n",
       " 'cumulativeStepUsed': 2059971120,\n",
       " 'eventLogs': [],\n",
       " 'logsBloom': b'\\x00\\x00\\x00\\x00\\x00\\x00\\x00\\x00\\x00\\x00\\x00\\x00\\x00\\x00\\x00\\x00\\x00\\x00\\x00\\x00\\x00\\x00\\x00\\x00\\x00\\x00\\x00\\x00\\x00\\x00\\x00\\x00\\x00\\x00\\x00\\x00\\x00\\x00\\x00\\x00\\x00\\x00\\x00\\x00\\x00\\x00\\x00\\x00\\x00\\x00\\x00\\x00\\x00\\x00\\x00\\x00\\x00\\x00\\x00\\x00\\x00\\x00\\x00\\x00\\x00\\x00\\x00\\x00\\x00\\x00\\x00\\x00\\x00\\x00\\x00\\x00\\x00\\x00\\x00\\x00\\x00\\x00\\x00\\x00\\x00\\x00\\x00\\x00\\x00\\x00\\x00\\x00\\x00\\x00\\x00\\x00\\x00\\x00\\x00\\x00\\x00\\x00\\x00\\x00\\x00\\x00\\x00\\x00\\x00\\x00\\x00\\x00\\x00\\x00\\x00\\x00\\x00\\x00\\x00\\x00\\x00\\x00\\x00\\x00\\x00\\x00\\x00\\x00\\x00\\x00\\x00\\x00\\x00\\x00\\x00\\x00\\x00\\x00\\x00\\x00\\x00\\x00\\x00\\x00\\x00\\x00\\x00\\x00\\x00\\x00\\x00\\x00\\x00\\x00\\x00\\x00\\x00\\x00\\x00\\x00\\x00\\x00\\x00\\x00\\x00\\x00\\x00\\x00\\x00\\x00\\x00\\x00\\x00\\x00\\x00\\x00\\x00\\x00\\x00\\x00\\x00\\x00\\x00\\x00\\x00\\x00\\x00\\x00\\x00\\x00\\x00\\x00\\x00\\x00\\x00\\x00\\x00\\x00\\x00\\x00\\x00\\x00\\x00\\x00\\x00\\x00\\x00\\x00\\x00\\x00\\x00\\x00\\x00\\x00\\x00\\x00\\x00\\x00\\x00\\x00\\x00\\x00\\x00\\x00\\x00\\x00\\x00\\x00\\x00\\x00\\x00\\x00\\x00\\x00\\x00\\x00\\x00\\x00\\x00\\x00\\x00\\x00\\x00\\x00\\x00\\x00\\x00\\x00\\x00\\x00\\x00\\x00\\x00\\x00\\x00\\x00',\n",
       " 'status': 1}"
      ]
     },
     "execution_count": 189,
     "metadata": {},
     "output_type": "execute_result"
    }
   ],
   "source": [
    "contract = 'loans'\n",
    "update = contracts[contract]['SCORE']\n",
    "deploy_transaction = DeployTransactionBuilder()\\\n",
    "    .from_(wallet.get_address())\\\n",
    "    .to('cx14c12f31b8ca35198eaf862c45b43c5b75baadef')\\\n",
    "    .nid(NID)\\\n",
    "    .nonce(100)\\\n",
    "    .content_type(\"application/zip\")\\\n",
    "    .content(gen_deploy_data_content('./loans.zip'))\\\n",
    "    .build()\n",
    "\n",
    "# step_limit = icon_service.estimate_step(deploy_transaction) + 100000\n",
    "step_limit = 3000000000\n",
    "\n",
    "signed_transaction = SignedTransaction(deploy_transaction, wallet, step_limit)\n",
    "tx_hash = icon_service.send_transaction(signed_transaction)\n",
    "\n",
    "get_tx_result(tx_hash)\n"
   ]
  },
  {
   "cell_type": "markdown",
   "metadata": {},
   "source": [
    "## Set parameters"
   ]
  },
  {
   "cell_type": "code",
   "execution_count": null,
   "metadata": {},
   "outputs": [],
   "source": [
    "settings = [{'contract': 'sicx', 'method': 'setAdmin', 'params':{'_admin': contracts['staking']['SCORE']}},\n",
    "            {'contract': 'icd', 'method': 'setAdmin', 'params':{'_admin': contracts['loans']['SCORE']}},\n",
    "            {'contract': 'bal', 'method': 'setAdmin', 'params':{'_admin': wallet.get_address()}},\n",
    "            {'contract': 'loans', 'method': 'setAdmin', 'params':{'_admin': wallet.get_address()}},\n",
    "            {'contract': 'icd', 'method': 'set_oracle_address', 'params':{'_address': contracts['dummy_oracle']['SCORE']}},\n",
    "            {'contract': 'staking', 'method': 'setSicxAddress', 'params':{'_address': contracts['sicx']['SCORE']}},\n",
    "            {'contract': 'loans', 'method': 'set_dividends', 'params':{'_address': contracts['dividends']['SCORE']}},\n",
    "            {'contract': 'loans', 'method': 'set_reserve', 'params':{'_address': contracts['reserve_fund']['SCORE']}},\n",
    "            {'contract': 'reserve_fund', 'method': 'set_loans_score', 'params':{'_address': contracts['loans']['SCORE']}},\n",
    "            {'contract': 'reserve_fund', 'method': 'set_baln_token', 'params':{'_address': contracts['bal']['SCORE']}},\n",
    "            {'contract': 'reserve_fund', 'method': 'set_sicx_token', 'params':{'_address': contracts['sicx']['SCORE']}},\n",
    "            {'contract': 'sicx', 'method': 'set_staking_address', 'params':{'_address': contracts['staking']['SCORE']}},\n",
    "            {'contract': 'bal', 'method': 'mint', 'params':{'_amount': 10 * ICX}},\n",
    "            {'contract': 'bal', 'method': 'mintTo', 'params':{'_account': contracts['reserve_fund']['SCORE'], '_amount': 1000 * ICX}},\n",
    "            {'contract': 'loans', 'method': 'add_asset', 'params':{'_token_address': contracts['sicx']['SCORE'], 'is_active': 1, 'is_collateral': 1}},\n",
    "            {'contract': 'loans', 'method': 'add_asset', 'params':{'_token_address': contracts['icd']['SCORE'], 'is_active': 1, 'is_collateral': 0}},\n",
    "            {'contract': 'loans', 'method': 'add_asset', 'params':{'_token_address': contracts['bal']['SCORE'], 'is_active': 0, 'is_collateral': 1}},\n",
    "            {'contract': 'loans', 'method': 'toggle_loans_on', 'params':{}}]"
   ]
  },
  {
   "cell_type": "code",
   "execution_count": null,
   "metadata": {},
   "outputs": [],
   "source": [
    "for sett in settings:\n",
    "    print(f'\\n')\n",
    "    print(f'Calling {sett[\"method\"]}, with parameters {sett[\"params\"]} on the {sett[\"contract\"]} contract.')\n",
    "    transaction = CallTransactionBuilder()\\\n",
    "        .from_(wallet.get_address())\\\n",
    "        .to(contracts[sett['contract']]['SCORE'])\\\n",
    "        .value(0)\\\n",
    "        .step_limit(10000000)\\\n",
    "        .nid(NID)\\\n",
    "        .nonce(100)\\\n",
    "        .method(sett['method'])\\\n",
    "        .params(sett['params'])\\\n",
    "        .build()\n",
    "    signed_transaction = SignedTransaction(transaction, wallet)\n",
    "    tx_hash = icon_service.send_transaction(signed_transaction)\n",
    "    tx_hash\n",
    "    print(get_tx_result(tx_hash))"
   ]
  },
  {
   "cell_type": "markdown",
   "metadata": {},
   "source": [
    "## Run through read-only methods on all SCOREs"
   ]
  },
  {
   "cell_type": "markdown",
   "metadata": {},
   "source": [
    "### A single read-only method"
   ]
  },
  {
   "cell_type": "code",
   "execution_count": null,
   "metadata": {},
   "outputs": [],
   "source": [
    "params = {}\n",
    "call = CallBuilder().from_(wallet.get_address())\\\n",
    "                    .to(contracts['staking']['SCORE'])\\\n",
    "                    .method('getSicxAddress')\\\n",
    "                    .params(params)\\\n",
    "                    .build()\n",
    "result = icon_service.call(call)\n",
    "result\n",
    "# int(result, 0)"
   ]
  },
  {
   "cell_type": "code",
   "execution_count": null,
   "metadata": {},
   "outputs": [],
   "source": [
    "ro_methods = {\"core\": {\n",
    "                 \"dex\": [{\"method\": \"name\", \"params\": {}},\n",
    "                         {\"method\": \"get_reference_data\", \"params\": {\"base\": str, \"quote\": str}},\n",
    "                         {\"method\": \"getSicxAddress\", \"params\": {}},\n",
    "                         {\"method\": \"getDeposit\", \"params\": {\"_tokenAddress\": str, \"_user\": str}},\n",
    "                         {\"method\": \"getPoolId\", \"params\": {\"_token1Address\": str, \"_token2Address\": str}},\n",
    "                         {\"method\": \"getNonce\", \"params\": {}},\n",
    "                         {\"method\": \"getPoolTotal\", \"params\": {\"_pid\": int, \"_token\": str}},\n",
    "                         {\"method\": \"totalSupply\", \"params\": {\"_pid\": int}},\n",
    "                         {\"method\": \"balanceOf\", \"params\": {\"_owner\": str, \"_id\": int}},\n",
    "                         {\"method\": \"balanceOfBatch\", \"params\": {\"_owners\": List[str], \"_ids\": List[int]}},\n",
    "                         {\"method\": \"getFees\", \"params\": {}},\n",
    "                         {\"method\": \"getPoolBase\", \"params\": {\"_pid\": int}},\n",
    "                         {\"method\": \"getPoolQuote\", \"params\": {\"_pid\": int}},\n",
    "                         {\"method\": \"getPrice\", \"params\": {\"_pid\": int}},\n",
    "                         {\"method\": \"getInversePrice\", \"params\": {\"_pid\": int}},\n",
    "                         {\"method\": \"getICXBalance\", \"params\": {}},\n",
    "                         {\"method\": \"getICXWithdrawLock\", \"params\": {}}]\n",
    "                 \"dividends\": [{\"method\": \"name\", \"params\": {}},\n",
    "                               {\"method\": \"getLoansScore\", \"params\": {}},\n",
    "                               {\"method\": \"getBalances\", \"params\": {}}],\n",
    "                 \"governance\": [{\"method\": \"name\", \"params\": {}}],\n",
    "                 \"loans\": [{\"method\": \"name\", \"params\": {}},\n",
    "                           {\"method\": \"getDividends\", \"params\": {}},\n",
    "                           {\"method\": \"getReserve\", \"params\": {}},\n",
    "                           {\"method\": \"getOriginationFee\", \"params\": {}},\n",
    "                           {\"method\": \"getReplayBatchSize\", \"params\": {}},\n",
    "                           {\"method\": \"getRedeemMinimum\", \"params\": {}},\n",
    "                           {\"method\": \"getAssetTokens\", \"params\": {}},\n",
    "                           {\"method\": \"getCollateralTokens\", \"params\": {}},\n",
    "                           {\"method\": \"getTotalCollateral\", \"params\": {}},\n",
    "                           {\"method\": \"getAccountPositions\", \"params\": {\"_owner\": str}},\n",
    "                           {\"method\": \"getAvailableAssets\", \"params\": {}},\n",
    "                           {\"method\": \"assetCount\", \"params\": {}}],\n",
    "                 \"reserve_fund\": [{\"method\": \"name\", \"params\": {}},\n",
    "                                  {\"method\": \"getLoansScore\", \"params\": {}},\n",
    "                                  {\"method\": \"getBalnToken\", \"params\": {}},\n",
    "                                  {\"method\": \"getSicxToken\", \"params\": {}},\n",
    "                                  {\"method\": \"getBalances\", \"params\": {}}],\n",
    "                 \"rewards\": [{\"method\": \"name\", \"params\": {}},\n",
    "                             {\"method\": \"get_id\", \"params\": {}},\n",
    "                             {\"method\": \"get_rewards\", \"params\": {}},\n",
    "                             {\"method\": \"get_reward_data\", \"params\": {\"_reward\": str}}],\n",
    "                 \"staking\": [{\"method\": \"name\", \"params\": {}},\n",
    "                             {\"method\": \"getTodayRate\", \"params\": {}},\n",
    "                             {\"method\": \"getSicxAddress\", \"params\": {}},\n",
    "                             {\"method\": \"getTotalStake\", \"params\": {}},\n",
    "                             {\"method\": \"getLifetimeReward\", \"params\": {}},\n",
    "                             {\"method\": \"getTopPreps\", \"params\": {}},\n",
    "                             {\"method\": \"getUserUnstakeInfo\", \"params\": {}},\n",
    "                             {\"method\": \"getUnstakeAmount\", \"params\": {}}]},\n",
    "              \"token\": {\n",
    "                 \"bal\": [{\"method\": \"name\", \"params\": {}},\n",
    "                         {\"method\": \"symbol\", \"params\": {}},\n",
    "                         {\"method\": \"decimals\", \"params\": {}},\n",
    "                         {\"method\": \"totalSupply\", \"params\": {}},\n",
    "                         {\"method\": \"balanceOf\", \"params\": {\"_owner\": str}},\n",
    "                         {\"method\": \"getAdmin\", \"params\": {}},\n",
    "                         {\"method\": \"getPeg\", \"params\": {}},\n",
    "                         {\"method\": \"getOracle\", \"params\": {}},\n",
    "                         {\"method\": \"getMinInterval\", \"params\": {}},\n",
    "                         {\"method\": \"lastPriceInLoop\", \"params\": {}}],\n",
    "                 \"bwt\": [{\"method\": \"name\", \"params\": {}},\n",
    "                         {\"method\": \"symbol\", \"params\": {}},\n",
    "                         {\"method\": \"decimals\", \"params\": {}},\n",
    "                         {\"method\": \"totalSupply\", \"params\": {}},\n",
    "                         {\"method\": \"balanceOf\", \"params\": {\"_owner\": str}},\n",
    "                         {\"method\": \"getAdmin\", \"params\": {}}],\n",
    "                 \"icd\": [{\"method\": \"name\", \"params\": {}},\n",
    "                         {\"method\": \"symbol\", \"params\": {}},\n",
    "                         {\"method\": \"decimals\", \"params\": {}},\n",
    "                         {\"method\": \"totalSupply\", \"params\": {}},\n",
    "                         {\"method\": \"balanceOf\", \"params\": {\"_owner\": str}},\n",
    "                         {\"method\": \"getAdmin\", \"params\": {}},\n",
    "                         {\"method\": \"getPeg\", \"params\": {}},\n",
    "                         {\"method\": \"getOracle\", \"params\": {}},\n",
    "                         {\"method\": \"getMinInterval\", \"params\": {}},\n",
    "                         {\"method\": \"lastPriceInLoop\", \"params\": {}}],\n",
    "                 \"sicx\": [{\"method\": \"name\", \"params\": {}},\n",
    "                          {\"method\": \"symbol\", \"params\": {}},\n",
    "                          {\"method\": \"decimals\", \"params\": {}},\n",
    "                          {\"method\": \"totalSupply\", \"params\": {}},\n",
    "                          {\"method\": \"balanceOf\", \"params\": {\"_owner\": str}},\n",
    "                          {\"method\": \"getAdmin\", \"params\": {}},\n",
    "                          {\"method\": \"getPeg\", \"params\": {}},\n",
    "                          {\"method\": \"getOracle\", \"params\": {}},\n",
    "                          {\"method\": \"lastPriceInLoop\", \"params\": {}}]\n",
    "                 }\n",
    "             }"
   ]
  },
  {
   "cell_type": "code",
   "execution_count": 196,
   "metadata": {},
   "outputs": [],
   "source": [
    "with open('ro_methods.json', 'r') as f:\n",
    "    ro_methods = json.load(f)"
   ]
  },
  {
   "cell_type": "code",
   "execution_count": 197,
   "metadata": {},
   "outputs": [
    {
     "data": {
      "text/plain": [
       "{'core': {'dex': [{'method': 'name', 'params': {}},\n",
       "   {'method': 'getReferenceData', 'params': {'base': 'str', 'quote': 'str'}},\n",
       "   {'method': 'getSicxAddress', 'params': {}},\n",
       "   {'method': 'getDeposit',\n",
       "    'params': {'_tokenAddress': 'str', '_user': 'str'}},\n",
       "   {'method': 'getPoolId',\n",
       "    'params': {'_token1Address': 'str', '_token2Address': 'str'}},\n",
       "   {'method': 'getNonce', 'params': {}},\n",
       "   {'method': 'getPoolTotal', 'params': {'_pid': 'int', '_token': 'str'}},\n",
       "   {'method': 'totalSupply', 'params': {'_pid': 'int'}},\n",
       "   {'method': 'balanceOf', 'params': {'_owner': 'str', '_id': 'int'}},\n",
       "   {'method': 'balanceOfBatch',\n",
       "    'params': {'_owners': 'List[str]', '_ids': 'List[int]'}},\n",
       "   {'method': 'getFees', 'params': {}},\n",
       "   {'method': 'getPoolBase', 'params': {'_pid': 'int'}},\n",
       "   {'method': 'getPoolQuote', 'params': {'_pid': 'int'}},\n",
       "   {'method': 'getPrice', 'params': {'_pid': 'int'}},\n",
       "   {'method': 'getInversePrice', 'params': {'_pid': 'int'}},\n",
       "   {'method': 'getICXBalance', 'params': {}},\n",
       "   {'method': 'getICXWithdrawLock', 'params': {}}],\n",
       "  'dividends': [{'method': 'name', 'params': {}},\n",
       "   {'method': 'getLoansScore', 'params': {}},\n",
       "   {'method': 'getBalances', 'params': {}}],\n",
       "  'governance': [{'method': 'name', 'params': {}}],\n",
       "  'loans': [{'method': 'name', 'params': {}},\n",
       "   {'method': 'getDividends', 'params': {}},\n",
       "   {'method': 'getReserve', 'params': {}},\n",
       "   {'method': 'getOriginationFee', 'params': {}},\n",
       "   {'method': 'getReplayBatchSize', 'params': {}},\n",
       "   {'method': 'getRedeemMinimum', 'params': {}},\n",
       "   {'method': 'getAssetTokens', 'params': {}},\n",
       "   {'method': 'getCollateralTokens', 'params': {}},\n",
       "   {'method': 'getTotalCollateral', 'params': {}},\n",
       "   {'method': 'getAccountPositions', 'params': {'_owner': 'str'}},\n",
       "   {'method': 'getAvailableAssets', 'params': {}},\n",
       "   {'method': 'assetCount', 'params': {}}],\n",
       "  'reserve_fund': [{'method': 'name', 'params': {}},\n",
       "   {'method': 'getLoansScore', 'params': {}},\n",
       "   {'method': 'getBalnToken', 'params': {}},\n",
       "   {'method': 'getSicxToken', 'params': {}},\n",
       "   {'method': 'getBalances', 'params': {}}],\n",
       "  'rewards': [{'method': 'name', 'params': {}},\n",
       "   {'method': 'get_id', 'params': {}},\n",
       "   {'method': 'get_rewards', 'params': {}},\n",
       "   {'method': 'get_reward_data', 'params': {'_reward': 'str'}}],\n",
       "  'staking': [{'method': 'name', 'params': {}},\n",
       "   {'method': 'getTodayRate', 'params': {}},\n",
       "   {'method': 'getSicxAddress', 'params': {}},\n",
       "   {'method': 'getTotalStake', 'params': {}},\n",
       "   {'method': 'getLifetimeReward', 'params': {}},\n",
       "   {'method': 'getTopPreps', 'params': {}},\n",
       "   {'method': 'getUserUnstakeInfo', 'params': {}},\n",
       "   {'method': 'getUnstakeAmount', 'params': {}}]},\n",
       " 'token': {'bal': [{'method': 'name', 'params': {}},\n",
       "   {'method': 'symbol', 'params': {}},\n",
       "   {'method': 'decimals', 'params': {}},\n",
       "   {'method': 'totalSupply', 'params': {}},\n",
       "   {'method': 'balanceOf', 'params': {'_owner': 'str'}},\n",
       "   {'method': 'getAdmin', 'params': {}},\n",
       "   {'method': 'getPeg', 'params': {}},\n",
       "   {'method': 'getOracle', 'params': {}},\n",
       "   {'method': 'getMinInterval', 'params': {}},\n",
       "   {'method': 'lastPriceInLoop', 'params': {}}],\n",
       "  'bwt': [{'method': 'name', 'params': {}},\n",
       "   {'method': 'symbol', 'params': {}},\n",
       "   {'method': 'decimals', 'params': {}},\n",
       "   {'method': 'totalSupply', 'params': {}},\n",
       "   {'method': 'balanceOf', 'params': {'_owner': 'str'}},\n",
       "   {'method': 'getAdmin', 'params': {}}],\n",
       "  'icd': [{'method': 'name', 'params': {}},\n",
       "   {'method': 'symbol', 'params': {}},\n",
       "   {'method': 'decimals', 'params': {}},\n",
       "   {'method': 'totalSupply', 'params': {}},\n",
       "   {'method': 'balanceOf', 'params': {'_owner': 'str'}},\n",
       "   {'method': 'getAdmin', 'params': {}},\n",
       "   {'method': 'getPeg', 'params': {}},\n",
       "   {'method': 'getOracle', 'params': {}},\n",
       "   {'method': 'getMinInterval', 'params': {}},\n",
       "   {'method': 'lastPriceInLoop', 'params': {}}],\n",
       "  'sicx': [{'method': 'name', 'params': {}},\n",
       "   {'method': 'symbol', 'params': {}},\n",
       "   {'method': 'decimals', 'params': {}},\n",
       "   {'method': 'totalSupply', 'params': {}},\n",
       "   {'method': 'balanceOf', 'params': {'_owner': 'str'}},\n",
       "   {'method': 'getAdmin', 'params': {}},\n",
       "   {'method': 'getPeg', 'params': {}},\n",
       "   {'method': 'getOracle', 'params': {}},\n",
       "   {'method': 'lastPriceInLoop', 'params': {}}]}}"
      ]
     },
     "execution_count": 197,
     "metadata": {},
     "output_type": "execute_result"
    }
   ],
   "source": [
    "ro_methods"
   ]
  },
  {
   "cell_type": "code",
   "execution_count": 200,
   "metadata": {},
   "outputs": [
    {
     "data": {
      "text/plain": [
       "18628.622629322395"
      ]
     },
     "execution_count": 200,
     "metadata": {},
     "output_type": "execute_result"
    }
   ],
   "source": [
    "\n",
    "import requests\n",
    "import json\n",
    "from hashlib import sha3_256\n",
    "BLOCK = 28693695\n",
    "TX_HASH = '0x053ba8fc46b2519a084e5d3fa1b3d8c31b358e35389be4f646c2f86f64ce22ab'\n",
    "\n",
    "rpc_dict = {\n",
    "            'jsonrpc': '2.0',\n",
    "            'method': 'icx_getTransactionByHash',\n",
    "            'id': 1234,\n",
    "            'params': {'txHash': TX_HASH}\n",
    "           }\n",
    "r = requests.post(\"https://ctz.solidwallet.io/api/v3\", \n",
    "                  data=json.dumps(rpc_dict))\n",
    "int(json.loads(r.text)['result']['timestamp'], 0) / 86400000000"
   ]
  },
  {
   "cell_type": "code",
   "execution_count": 201,
   "metadata": {},
   "outputs": [
    {
     "data": {
      "text/plain": [
       "14.943103737480001"
      ]
     },
     "execution_count": 201,
     "metadata": {},
     "output_type": "execute_result"
    }
   ],
   "source": [
    "24 * .622629322395"
   ]
  },
  {
   "cell_type": "code",
   "execution_count": null,
   "metadata": {},
   "outputs": [],
   "source": [
    "ro_methods = {\"loans\": [\"name\", \"getAvailableAssets\", \"assetCount\", \"getCollateralTokens\", \"getTotalCollateral\"],\n",
    "              \"staking\": [\"name\", \"getSicxAddress\", \"getTodayRate\"],\n",
    "              \"sicx\": [\"name\", \"symbol\", \"decimals\", \"totalSupply\", \"getAdmin\", \"lastPriceInLoop\"],\n",
    "              \"icd\": [\"name\", \"symbol\", \"decimals\", \"totalSupply\", \"getAdmin\"],\n",
    "              \"bal\": [\"name\", \"symbol\", \"decimals\", \"totalSupply\", \"getAdmin\"]\n",
    "              }"
   ]
  },
  {
   "cell_type": "code",
   "execution_count": 180,
   "metadata": {},
   "outputs": [
    {
     "name": "stdout",
     "output_type": "stream",
     "text": [
      "\n",
      "SCORE: loans\n",
      "Address: cx14c12f31b8ca35198eaf862c45b43c5b75baadef\n",
      "name: BalancedLoans\n",
      "getAvailableAssets: {'sICX': {'symbol': 'sICX', 'address': 'cxbc9fad62310a119a48d1e959d552d9c4b4ce4f03', 'peg': 'sICX', 'added': '0x5b8e733047cf2', 'is_collateral': '0x1', 'active': '0x1'}, 'ICD': {'symbol': 'ICD', 'address': 'cx2df2231fe5c090ee3e6135b816f2e487c77b306d', 'peg': 'USD', 'added': '0x5b8e7332306ae', 'is_collateral': '0x0', 'active': '0x1', 'bad_debt': '0xad78ebc5ac6200000', 'liquidation_pool': '0x248f1c2fa4e3087a56096329820000000'}}\n",
      "assetCount: 0x3\n",
      "getCollateralTokens: {'sICX': 'cxbc9fad62310a119a48d1e959d552d9c4b4ce4f03', 'BALN': 'cxaa73e0a90c6199ba79262c8cf16473f94001934c'}\n",
      "getTotalCollateral: 0x5abb68ab2b980f9f7e\n",
      "\n",
      "SCORE: staking\n",
      "Address: cxff8c6025fb7eed7197cef6f7fc7993eb2abd7c75\n",
      "name: Staking\n",
      "getSicxAddress: cxbc9fad62310a119a48d1e959d552d9c4b4ce4f03\n",
      "getTodayRate: 0xde2c055fdd24880\n",
      "\n",
      "SCORE: sicx\n",
      "Address: cxbc9fad62310a119a48d1e959d552d9c4b4ce4f03\n",
      "name: StakedICX\n",
      "symbol: sICX\n",
      "decimals: 18\n",
      "totalSupply: 1672.7518035790981\n",
      "getAdmin: cxff8c6025fb7eed7197cef6f7fc7993eb2abd7c75\n",
      "lastPriceInLoop: 0xde2c055fdd24880\n",
      "\n",
      "SCORE: icd\n",
      "Address: cx2df2231fe5c090ee3e6135b816f2e487c77b306d\n",
      "name: ICONDollar\n",
      "symbol: ICD\n",
      "decimals: 18\n",
      "totalSupply: 235.4\n",
      "getAdmin: cx14c12f31b8ca35198eaf862c45b43c5b75baadef\n",
      "\n",
      "SCORE: bal\n",
      "Address: cxaa73e0a90c6199ba79262c8cf16473f94001934c\n",
      "name: BalanceToken\n",
      "symbol: BALN\n",
      "decimals: 18\n",
      "totalSupply: 1010.0\n",
      "getAdmin: hxe7af5fcfd8dfc67530a01a0e403882687528dfcb\n"
     ]
    }
   ],
   "source": [
    "results = {}\n",
    "for score in ro_methods.keys():\n",
    "    print()\n",
    "    print(f'SCORE: {score}')\n",
    "    print(f'Address: {contracts[score][\"SCORE\"]}')\n",
    "    results[score] = {}\n",
    "    for method in ro_methods[score]:\n",
    "        call = CallBuilder().from_(wallet.get_address())\\\n",
    "                            .to(contracts[score]['SCORE'])\\\n",
    "                            .method(method)\\\n",
    "                            .build()\n",
    "        result = icon_service.call(call)\n",
    "        if method in ['totalSupply', 'decimals', 'get_total_collateral', 'get_rate']:\n",
    "            result = int(result, 0)\n",
    "            if method in ['totalSupply', 'get_total_collateral', 'get_rate']:\n",
    "                result = result / ICX\n",
    "        print(f'{method}: {result}')\n",
    "        results[score][method] = result"
   ]
  },
  {
   "cell_type": "markdown",
   "metadata": {},
   "source": [
    "## Deposit ICX and Mint ICD Loan"
   ]
  },
  {
   "cell_type": "code",
   "execution_count": 191,
   "metadata": {},
   "outputs": [
    {
     "name": "stderr",
     "output_type": "stream",
     "text": [
      "Raised JSONRPCException while returning the custom response. Error message: {'code': -32602, 'message': 'Pending transaction'}\n"
     ]
    },
    {
     "name": "stdout",
     "output_type": "stream",
     "text": [
      "Retrying in 1 seconds...\n",
      "{'txHash': '0x4a16fc84e7a3e8365546ad70e99f16de89a9ceb8d8b4634861390ecc285fd53c', 'blockHeight': 421580, 'blockHash': '0x75a30e244d93d226afecf1eb7a32b427d71c07860e0b3577184170329cea573a', 'txIndex': 1, 'to': 'cxff8c6025fb7eed7197cef6f7fc7993eb2abd7c75', 'stepUsed': 820980, 'stepPrice': 10000000000, 'cumulativeStepUsed': 820980, 'eventLogs': [{'scoreAddress': 'cx2df2231fe5c090ee3e6135b816f2e487c77b306d', 'indexed': ['OraclePrice(str,int,int)', 'ICXUSD', '0x2454d8dcb2cf44bb', '0x5b8f6a87fcfb3'], 'data': []}, {'scoreAddress': 'cx2df2231fe5c090ee3e6135b816f2e487c77b306d', 'indexed': ['Transfer(Address,Address,int,bytes)', 'cx2df2231fe5c090ee3e6135b816f2e487c77b306d', 'hxe7af5fcfd8dfc67530a01a0e403882687528dfcb', '0x22b1c8c1227a00000'], 'data': ['0x4e6f6e65']}, {'scoreAddress': 'cx2df2231fe5c090ee3e6135b816f2e487c77b306d', 'indexed': ['Mint(Address,int,bytes)', 'hxe7af5fcfd8dfc67530a01a0e403882687528dfcb'], 'data': ['0x22b1c8c1227a00000', '0x4e6f6e65']}, {'scoreAddress': 'cx14c12f31b8ca35198eaf862c45b43c5b75baadef', 'indexed': ['OriginateLoan(Address,str,int,str)', 'hxe7af5fcfd8dfc67530a01a0e403882687528dfcb', 'ICD', '0x22b1c8c1227a00000'], 'data': ['Loan of 40.0 ICD from Balanced.']}, {'scoreAddress': 'cx2df2231fe5c090ee3e6135b816f2e487c77b306d', 'indexed': ['Transfer(Address,Address,int,bytes)', 'cx2df2231fe5c090ee3e6135b816f2e487c77b306d', 'cx2771c23c7a11cb9804d8c03347db955a632f366c', '0x58d15e176280000'], 'data': ['0x4e6f6e65']}, {'scoreAddress': 'cx2df2231fe5c090ee3e6135b816f2e487c77b306d', 'indexed': ['Mint(Address,int,bytes)', 'cx2771c23c7a11cb9804d8c03347db955a632f366c'], 'data': ['0x58d15e176280000', '0x4e6f6e65']}, {'scoreAddress': 'cx14c12f31b8ca35198eaf862c45b43c5b75baadef', 'indexed': ['FeePaid(str,int,str,str)', 'ICD', '0x58d15e176280000', 'origination'], 'data': ['']}, {'scoreAddress': 'cxbc9fad62310a119a48d1e959d552d9c4b4ce4f03', 'indexed': ['Transfer(Address,Address,int,bytes)', 'cxbc9fad62310a119a48d1e959d552d9c4b4ce4f03', 'cx14c12f31b8ca35198eaf862c45b43c5b75baadef', '0x2b560be1a67b63d80b'], 'data': ['0x7b226d6574686f64223a20225f6465706f7369745f616e645f626f72726f77222c2022706172616d73223a207b225f6173736574223a2022494344222c20225f616d6f756e74223a2034303030303030303030303030303030303030307d7d']}, {'scoreAddress': 'cxbc9fad62310a119a48d1e959d552d9c4b4ce4f03', 'indexed': ['Mint(Address,int,bytes)', 'cx14c12f31b8ca35198eaf862c45b43c5b75baadef'], 'data': ['0x2b560be1a67b63d80b', '0x7b226d6574686f64223a20225f6465706f7369745f616e645f626f72726f77222c2022706172616d73223a207b225f6173736574223a2022494344222c20225f616d6f756e74223a2034303030303030303030303030303030303030307d7d']}, {'scoreAddress': 'cxff8c6025fb7eed7197cef6f7fc7993eb2abd7c75', 'indexed': ['TokenTransfer(Address,int,str)', 'cx14c12f31b8ca35198eaf862c45b43c5b75baadef', '0x2b560be1a67b63d80b'], 'data': ['799.4102925866673 sICX minted to cx14c12f31b8ca35198eaf862c45b43c5b75baadef']}], 'logsBloom': b'\\x00\\x00\\x00\\x03\\x00\\xa0\\x08 \\x00\\x10\\x80 \\x00\\x00\\x00\\x00\\x00\\x00\\x00\\x00 \\x00\\x00\\x00\\x00\\x00\\x00\\x00\\x00\\x00\\x00\\x00\\x00\\x10\\x00\\x00\\x00\\x08\\x00\\x00\\x00\\x00\\x01\\x00@\\x00\\x00\\x00\\x10\\x00\\x00\\x00\\x00\\x00\\x00\\x00\\x10\\x00\\x01\\x08\\x00\\x00\\x00\\x00\\x10\\x10\\x00\\x00\\x08\\x00\\x00\\x00\\x00\\x00\\x00\\x00\\x00\\x00\\x00\\x00\\x00\\x00\\x00\\x00\\x00\\x00\\x00\\x00\\x00\\x00@ \\x00\\x02\\x00\\x00\\x00\\x00\\x01\\x00\\x00\\x00\\x02\\x00 \\x00\\x00\\x00\\x81\\x80\\x00\\x08\\x00\\x00\\x00\\x00\\x10\\x008\\x00\\x80\\x08\\x00\\x00\\x00\\x00\\x00\\x00\\x00\\x00\\x00\\x04\\x00\\x00\\x00\\x00\\x00P\\x08\\x00\\x00\\x00\\x00\\x00@\\x00@\\x00\\x00\\x00\\x00\\x00\\x08\\x00\\x00\\x00\\x00\\x10B \\x00\\x00\\x00@\\x00\\x00\\x00\\x00\\x10\\x00\\x80\\x00\\x00\\x00\\x01\\x04 \\x00\\x04\\x00\\x00\\x00\\x00H\\x00\\x00\\x00\\x01@\\x00\\x10\\x00\\x00\\x01\\x08\\x00\\x00\\x00\\x00 \\x00\\x04\\x00\\x00\\x00\\x00 b\\x00\\x00\\x02\\x01\\x01A\\x00\\x00\\x88\\x00\\x00\\x00\\x08\\x00\\x00\\x04\\x00\\x00\\x00\\x02\\x00\\x00\\x00\\x00\\x00\\x00\\x00\\x00\\x00\\x00\\x00(\\x00\\x00\\x00 \\x02\\x00\\x00\\x00\\x00 \\x00 \\x00\\x04\\x00\\x08', 'status': 1}\n"
     ]
    }
   ],
   "source": [
    "data = \"{\\\"method\\\": \\\"_deposit_and_borrow\\\", \\\"params\\\": {\\\"_asset\\\": \\\"ICD\\\", \\\"_amount\\\": 40000000000000000000}}\".encode(\"utf-8\")\n",
    "params = {'_to': contracts['loans']['SCORE'], '_data': data}\n",
    "transaction = CallTransactionBuilder()\\\n",
    "    .from_(wallet.get_address())\\\n",
    "    .to(contracts['staking']['SCORE'])\\\n",
    "    .value(800 * ICX)\\\n",
    "    .step_limit(10000000)\\\n",
    "    .nid(NID)\\\n",
    "    .nonce(100)\\\n",
    "    .method(\"addCollateral\")\\\n",
    "    .params(params)\\\n",
    "    .build()\n",
    "signed_transaction = SignedTransaction(transaction, wallet)\n",
    "tx_hash = icon_service.send_transaction(signed_transaction)\n",
    "tx_hash\n",
    "print(get_tx_result(tx_hash))"
   ]
  },
  {
   "cell_type": "markdown",
   "metadata": {},
   "source": [
    "### Just deposit collateral"
   ]
  },
  {
   "cell_type": "code",
   "execution_count": 192,
   "metadata": {},
   "outputs": [
    {
     "name": "stderr",
     "output_type": "stream",
     "text": [
      "Raised JSONRPCException while returning the custom response. Error message: {'code': -32602, 'message': 'Pending transaction'}\n"
     ]
    },
    {
     "name": "stdout",
     "output_type": "stream",
     "text": [
      "Retrying in 1 seconds...\n",
      "{'txHash': '0xfd35c77dfcf6ae91bf871fefcbeedff5b240cd38c0335b4b11f2d7fb8ce206cd', 'blockHeight': 421596, 'blockHash': '0xe438e7fa5a0c983e7717480e9a7cb82c963315203dcddbd2b37ffcfb3ac46ee6', 'txIndex': 1, 'to': 'cxff8c6025fb7eed7197cef6f7fc7993eb2abd7c75', 'stepUsed': 441140, 'stepPrice': 10000000000, 'cumulativeStepUsed': 441140, 'eventLogs': [{'scoreAddress': 'cxbc9fad62310a119a48d1e959d552d9c4b4ce4f03', 'indexed': ['Transfer(Address,Address,int,bytes)', 'cxbc9fad62310a119a48d1e959d552d9c4b4ce4f03', 'cx14c12f31b8ca35198eaf862c45b43c5b75baadef', '0x1a006d8763e3a24e6'], 'data': ['0x7b226d6574686f64223a20225f6465706f7369745f616e645f626f72726f77222c2022706172616d73223a207b225f6173736574223a2022222c20225f616d6f756e74223a20307d7d']}, {'scoreAddress': 'cxbc9fad62310a119a48d1e959d552d9c4b4ce4f03', 'indexed': ['Mint(Address,int,bytes)', 'cx14c12f31b8ca35198eaf862c45b43c5b75baadef'], 'data': ['0x1a006d8763e3a24e6', '0x7b226d6574686f64223a20225f6465706f7369745f616e645f626f72726f77222c2022706172616d73223a207b225f6173736574223a2022222c20225f616d6f756e74223a20307d7d']}, {'scoreAddress': 'cxff8c6025fb7eed7197cef6f7fc7993eb2abd7c75', 'indexed': ['TokenTransfer(Address,int,str)', 'cx14c12f31b8ca35198eaf862c45b43c5b75baadef', '0x1a006d8763e3a24e6'], 'data': ['29.977885972000024 sICX minted to cx14c12f31b8ca35198eaf862c45b43c5b75baadef']}], 'logsBloom': b'\\x00\\x00\\x00\\x01\\x01\\x00\\x00\\x00\\x00\\x00\\x00 \\x00\\x00\\x00\\x00\\x00\\x00\\x00\\x00\\x00\\x00\\x00\\x00\\x00\\x00\\x00\\x00\\x00\\x00\\x00\\x00\\x00\\x00\\x00\\x00\\x00\\x00\\x00\\x00\\x00\\x00\\x00\\x00@\\x10\\x00\\x00\\x00\\x00\\x00\\x00\\x00\\x00\\x00\\x00\\x10\\x00\\x00\\x00\\x00\\x00\\x00\\x00\\x00\\x00\\x00\\x00\\x00\\x00\\x00\\x00\\x00\\x00\\x00\\x00\\x00\\x00\\x00\\x00\\x00\\x00\\x00\\x00\\x00\\x00\\x00\\x00\\x00\\x00@\\x00\\x00\\x00\\x00\\x00\\x00\\x00\\x00\\x00\\x00\\x00\\x00\\x00\\x00\\x00\\x00\\x00\\x80\\x80\\x00\\x00\\x00\\x00\\x00\\x00\\x10\\x00\\x04\\x00\\x00\\x08\\x00\\x00\\x00\\x00\\x00\\x00\\x00\\x00\\x00\\x00\\x00\\x00\\x00\\x00\\x00\\x00\\x00\\x00\\x00\\x00\\x00\\x00@\\x00\\x00\\x00\\x00 \\x00\\x00\\x00\\x00\\x00\\x00\\x00\\x10\\x00\\x00\\x00\\x00\\x00\\x00\\x00\\x00\\x00 \\x00\\x00\\x80\\x00\\x00\\x00\\x00\\x00\\x00\\x00\\x00\\x00\\x00\\x00\\x00\\x00\\x00\\x00\\x00\\x00\\x00\\x00\\x00\\x00\\x00\\x00\\x08\\x00\\x00\\x00\\x00\\x00\\x00\\x00\\x00\\x00\\x00\\x00\\x00`\\x00\\x00\\x00\\x00\\x01A\\x00\\x00\\x00\\x00\\x00\\x00\\x08\\x00\\x00\\x04\\x00\\x00\\x00\\x02\\x00\\x00\\x00\\x00\\x00\\x00\\x00\\x00\\x00\\x00\\x00 \\x00\\x00\\x00 \\x00\\x00\\x00\\x00\\x00\\x00\\x00\\x04\\x00\\x04\\x00\\x00', 'status': 1}\n"
     ]
    }
   ],
   "source": [
    "data = \"{\\\"method\\\": \\\"_deposit_and_borrow\\\", \\\"params\\\": {\\\"_asset\\\": \\\"\\\", \\\"_amount\\\": 0}}\".encode(\"utf-8\")\n",
    "params = {'_to': contracts['loans']['SCORE'], '_data': data}\n",
    "transaction = CallTransactionBuilder()\\\n",
    "    .from_(wallet.get_address())\\\n",
    "    .to(contracts['staking']['SCORE'])\\\n",
    "    .value(30 * ICX)\\\n",
    "    .step_limit(10000000)\\\n",
    "    .nid(NID)\\\n",
    "    .nonce(100)\\\n",
    "    .method(\"addCollateral\")\\\n",
    "    .params(params)\\\n",
    "    .build()\n",
    "signed_transaction = SignedTransaction(transaction, wallet)\n",
    "tx_hash = icon_service.send_transaction(signed_transaction)\n",
    "tx_hash\n",
    "print(get_tx_result(tx_hash))"
   ]
  },
  {
   "cell_type": "markdown",
   "metadata": {},
   "source": [
    "### Repay Some ICD"
   ]
  },
  {
   "cell_type": "code",
   "execution_count": null,
   "metadata": {},
   "outputs": [],
   "source": [
    "data = \"{\\\"method\\\": \\\"_repay_loan\\\", \\\"params\\\": {}}\".encode(\"utf-8\")\n",
    "params = {'_to': contracts['loans']['SCORE'], '_value': 5 * ICX, '_data': data}\n",
    "transaction = CallTransactionBuilder()\\\n",
    "    .from_(wallet.get_address())\\\n",
    "    .to(contracts['icd']['SCORE'])\\\n",
    "    .value(0)\\\n",
    "    .step_limit(10000000)\\\n",
    "    .nid(NID)\\\n",
    "    .nonce(100)\\\n",
    "    .method(\"transfer\")\\\n",
    "    .params(params)\\\n",
    "    .build()\n",
    "signed_transaction = SignedTransaction(transaction, wallet)\n",
    "tx_hash = icon_service.send_transaction(signed_transaction)\n",
    "tx_hash\n",
    "print(get_tx_result(tx_hash))"
   ]
  },
  {
   "cell_type": "markdown",
   "metadata": {},
   "source": [
    "### Withdraw Some Collateral"
   ]
  },
  {
   "cell_type": "code",
   "execution_count": null,
   "metadata": {},
   "outputs": [],
   "source": [
    "params = {'_value': 5 * ICX}\n",
    "transaction = CallTransactionBuilder()\\\n",
    "    .from_(wallet.get_address())\\\n",
    "    .to(contracts['loans']['SCORE'])\\\n",
    "    .value(0)\\\n",
    "    .step_limit(10000000)\\\n",
    "    .nid(NID)\\\n",
    "    .nonce(100)\\\n",
    "    .method(\"withdraw_collateral\")\\\n",
    "    .params(params)\\\n",
    "    .build()\n",
    "signed_transaction = SignedTransaction(transaction, wallet)\n",
    "tx_hash = icon_service.send_transaction(signed_transaction)\n",
    "tx_hash\n",
    "print(get_tx_result(tx_hash))"
   ]
  },
  {
   "cell_type": "markdown",
   "metadata": {},
   "source": [
    "### Test Liquidation"
   ]
  },
  {
   "cell_type": "code",
   "execution_count": null,
   "metadata": {},
   "outputs": [],
   "source": [
    "# Deposit collateral to fresh wallet\n",
    "data = \"{\\\"method\\\": \\\"_deposit_and_borrow\\\", \\\"params\\\": {\\\"_asset\\\": \\\"\\\", \\\"_amount\\\": 0}}\".encode(\"utf-8\")\n",
    "params = {'_to': contracts['loans']['SCORE'], '_data': data}\n",
    "transaction = CallTransactionBuilder()\\\n",
    "    .from_(btest_wallet.get_address())\\\n",
    "    .to(contracts['staking']['SCORE'])\\\n",
    "    .value(782769 * ICX // 1000)\\\n",
    "    .step_limit(10000000)\\\n",
    "    .nid(NID)\\\n",
    "    .nonce(100)\\\n",
    "    .method(\"addCollateral\")\\\n",
    "    .params(params)\\\n",
    "    .build()\n",
    "signed_transaction = SignedTransaction(transaction, btest_wallet)\n",
    "tx_hash = icon_service.send_transaction(signed_transaction)\n",
    "tx_hash\n",
    "print(get_tx_result(tx_hash))"
   ]
  },
  {
   "cell_type": "markdown",
   "metadata": {},
   "source": [
    "#### Update the loans SCORE to add a loan of ICD to the Balanced test wallet\n",
    "Code in the on_update() method will mint and add the ICD. Adds an undercollateralized amount of ICD, 200 ICD."
   ]
  },
  {
   "cell_type": "code",
   "execution_count": null,
   "metadata": {},
   "outputs": [],
   "source": [
    "params = {'_owner': btest_wallet.get_address()}\n",
    "call = CallBuilder().from_(wallet.get_address())\\\n",
    "                    .to(contracts['loans']['SCORE'])\\\n",
    "                    .method('getAccountPositions')\\\n",
    "                    .params(params)\\\n",
    "                    .build()\n",
    "result = icon_service.call(call)\n",
    "result"
   ]
  },
  {
   "cell_type": "code",
   "execution_count": null,
   "metadata": {},
   "outputs": [],
   "source": [
    "params = {'_position': btest_wallet.get_address()}\n",
    "transaction = CallTransactionBuilder()\\\n",
    "    .from_(wallet.get_address())\\\n",
    "    .to(contracts['loans']['SCORE'])\\\n",
    "    .value(0)\\\n",
    "    .step_limit(10000000)\\\n",
    "    .nid(NID)\\\n",
    "    .nonce(100)\\\n",
    "    .method(\"liquidate\")\\\n",
    "    .params(params)\\\n",
    "    .build()\n",
    "signed_transaction = SignedTransaction(transaction, wallet)\n",
    "tx_hash = icon_service.send_transaction(signed_transaction)\n",
    "tx_hash\n",
    "print(get_tx_result(tx_hash))"
   ]
  },
  {
   "cell_type": "code",
   "execution_count": null,
   "metadata": {},
   "outputs": [],
   "source": [
    "params = {'_owner': btest_wallet.get_address()}\n",
    "call = CallBuilder().from_(wallet.get_address())\\\n",
    "                    .to(contracts['loans']['SCORE'])\\\n",
    "                    .method('getAccountPositions')\\\n",
    "                    .params(params)\\\n",
    "                    .build()\n",
    "result = icon_service.call(call)\n",
    "result"
   ]
  },
  {
   "cell_type": "code",
   "execution_count": null,
   "metadata": {},
   "outputs": [],
   "source": [
    "params = {'_owner': btest_wallet.get_address()}\n",
    "call = CallBuilder().from_(wallet.get_address())\\\n",
    "                    .to(contracts['icd']['SCORE'])\\\n",
    "                    .method('balanceOf')\\\n",
    "                    .params(params)\\\n",
    "                    .build()\n",
    "result = icon_service.call(call)\n",
    "int(result, 0) // 10**18"
   ]
  },
  {
   "cell_type": "code",
   "execution_count": null,
   "metadata": {},
   "outputs": [],
   "source": []
  }
 ],
 "metadata": {
  "kernelspec": {
   "display_name": "Python 3",
   "language": "python",
   "name": "python3"
  },
  "language_info": {
   "codemirror_mode": {
    "name": "ipython",
    "version": 3
   },
   "file_extension": ".py",
   "mimetype": "text/x-python",
   "name": "python",
   "nbconvert_exporter": "python",
   "pygments_lexer": "ipython3",
   "version": "3.6.10"
  }
 },
 "nbformat": 4,
 "nbformat_minor": 4
}
