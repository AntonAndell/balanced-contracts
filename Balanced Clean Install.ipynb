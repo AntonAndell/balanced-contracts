{
 "cells": [
  {
   "cell_type": "code",
   "execution_count": null,
   "metadata": {},
   "outputs": [],
   "source": [
    "from IPython.core.display import display, HTML\n",
    "display(HTML(\"<style>.container { width:100% !important; }</style>\"))"
   ]
  },
  {
   "cell_type": "markdown",
   "metadata": {},
   "source": [
    "## Set Up Environment"
   ]
  },
  {
   "cell_type": "code",
   "execution_count": null,
   "metadata": {},
   "outputs": [],
   "source": [
    "network = \"custom\"  # set this to one of mainnet, yeouido, euljiro, pagoda, or custom\n",
    "contracts_file_custom = 'contracts_20210106025209.pkl'\n",
    "\n",
    "connections = {\n",
    "\"mainnet\": {\"iconservice\": \"https://ctz.solidwallet.io\",       \"nid\": 1},\n",
    "\"yeouido\": {\"iconservice\": \"https://bicon.net.solidwallet.io\", \"nid\": 3},\n",
    "\"euljiro\": {\"iconservice\": \"https://test-ctz.solidwallet.io\",  \"nid\": 2},\n",
    "\"pagoda\":  {\"iconservice\": \"https://zicon.net.solidwallet.io\", \"nid\":80},\n",
    "\"custom\":  {\"iconservice\": \"http://52.53.175.151:9000/\",       \"nid\": 3}}\n",
    "\n",
    "env = connections[network]"
   ]
  },
  {
   "cell_type": "code",
   "execution_count": null,
   "metadata": {},
   "outputs": [],
   "source": [
    "from iconsdk.exception import JSONRPCException\n",
    "from iconsdk.libs.in_memory_zip import gen_deploy_data_content\n",
    "from iconsdk.icon_service import IconService\n",
    "from iconsdk.providers.http_provider import HTTPProvider\n",
    "from iconsdk.builder.transaction_builder import CallTransactionBuilder, TransactionBuilder, DeployTransactionBuilder\n",
    "from iconsdk.builder.call_builder import CallBuilder\n",
    "from iconsdk.signed_transaction import SignedTransaction\n",
    "from iconsdk.wallet.wallet import KeyWallet\n",
    "from iconsdk.utils.convert_type import convert_hex_str_to_int\n",
    "from repeater import retry\n",
    "from shutil import make_archive\n",
    "import pickle as pkl\n",
    "from datetime import datetime\n",
    "import json\n",
    "import os\n",
    "\n",
    "ICX = 1000000000000000000 # 10**18\n",
    "GOVERNANCE_ADDRESS = \"cx0000000000000000000000000000000000000000\"\n",
    "ORACLE = \"cx61a36e5d10412e03c907a507d1e8c6c3856d9964\"\n",
    "\n",
    "@retry(JSONRPCException, tries=10, delay=1, back_off=2)\n",
    "def get_tx_result(_tx_hash):\n",
    "    tx_result = icon_service.get_transaction_result(_tx_hash)\n",
    "    return tx_result"
   ]
  },
  {
   "cell_type": "code",
   "execution_count": 251,
   "metadata": {},
   "outputs": [],
   "source": [
    "contracts = {}\n",
    "\n",
    "# with open(contracts_file_custom, 'rb') as f:\n",
    "#     contracts = pkl.load(f)\n",
    "\n",
    "contracts = {'loans': {'zip': 'core_contracts/loans.zip',\n",
    "  'SCORE': ''},\n",
    " 'staking': {'zip': 'core_contracts/staking.zip',\n",
    "  'SCORE': ''},\n",
    " 'dividends': {'zip': 'core_contracts/dividends.zip',\n",
    "  'SCORE': ''},\n",
    " 'reserve_fund': {'zip': 'core_contracts/reserve_fund.zip',\n",
    "  'SCORE': ''},\n",
    " 'rewards': {'zip': 'core_contracts/rewards.zip',\n",
    "  'SCORE': ''},\n",
    " 'dex': {'zip': 'core_contracts/dex.zip',\n",
    "  'SCORE': ''},\n",
    " 'governance': {'zip': 'core_contracts/governance.zip',\n",
    "  'SCORE': ''},\n",
    " 'dummy_oracle': {'zip': 'core_contracts/dummy_oracle.zip',\n",
    "  'SCORE': ''},\n",
    " 'sicx': {'zip': 'token_contracts/sicx.zip',\n",
    "  'SCORE': ''},\n",
    " 'icd': {'zip': 'token_contracts/icd.zip',\n",
    "  'SCORE': ''},\n",
    " 'bal': {'zip': 'token_contracts/bal.zip',\n",
    "  'SCORE': ''},\n",
    " 'bwt': {'zip': 'token_contracts/bwt.zip',\n",
    "  'SCORE': ''}}"
   ]
  },
  {
   "cell_type": "code",
   "execution_count": null,
   "metadata": {},
   "outputs": [],
   "source": [
    "icon_service = IconService(HTTPProvider(env[\"iconservice\"], 3))\n",
    "NID = env[\"nid\"]"
   ]
  },
  {
   "cell_type": "code",
   "execution_count": null,
   "metadata": {},
   "outputs": [],
   "source": [
    "wallet = KeyWallet.load(\"keystores/keystore_test1.json\", \"test1_Account\")"
   ]
  },
  {
   "cell_type": "code",
   "execution_count": null,
   "metadata": {},
   "outputs": [],
   "source": [
    "# Balanced test wallet\n",
    "btest_wallet = KeyWallet.load(\"keystores/balanced_test.json\", \"xxxx\")"
   ]
  },
  {
   "cell_type": "markdown",
   "metadata": {},
   "source": [
    "### Send ICX to Balanced test wallet"
   ]
  },
  {
   "cell_type": "code",
   "execution_count": null,
   "metadata": {},
   "outputs": [],
   "source": [
    "wallet.get_address()\n"
   ]
  },
  {
   "cell_type": "code",
   "execution_count": null,
   "metadata": {},
   "outputs": [],
   "source": [
    "test_wallet = KeyWallet.load(\"./keystores/keystore_test1.json\", \"test1_Account\")\n",
    "transaction = TransactionBuilder()\\\n",
    "    .from_(wallet.get_address())\\\n",
    "    .to(btest_wallet.get_address())\\\n",
    "    .value(1000000 * ICX)\\\n",
    "    .step_limit(1000000) \\\n",
    "    .nid(NID) \\\n",
    "    .nonce(2) \\\n",
    "    .version(3) \\\n",
    "    .build()\n",
    "signed_transaction = SignedTransaction(transaction, test_wallet)\n",
    "tx_hash = icon_service.send_transaction(signed_transaction)\n",
    "tx_hash"
   ]
  },
  {
   "cell_type": "code",
   "execution_count": 266,
   "metadata": {},
   "outputs": [
    {
     "name": "stdout",
     "output_type": "stream",
     "text": [
      "saving contracts list as contracts_20210121080712.pkl\n"
     ]
    },
    {
     "data": {
      "text/plain": [
       "{'loans': {'zip': 'core_contracts/loans.zip', 'SCORE': ''},\n",
       " 'staking': {'zip': 'core_contracts/staking.zip',\n",
       "  'SCORE': 'cxf3b22ebbf151aad4f74a8490ab2fe60d2106fa31'},\n",
       " 'dividends': {'zip': 'core_contracts/dividends.zip',\n",
       "  'SCORE': 'cx4aae13bd08fb3fc5e666a6d9b262ef036f9bdc64'},\n",
       " 'reserve_fund': {'zip': 'core_contracts/reserve_fund.zip',\n",
       "  'SCORE': 'cx29fa40132bf655a822dcf4c2eafcb406c758e408'},\n",
       " 'rewards': {'zip': 'core_contracts/rewards.zip',\n",
       "  'SCORE': 'cxf22475bcc888cd6a635f6fae374ee69ffbb04d1a'},\n",
       " 'dex': {'zip': 'core_contracts/dex.zip',\n",
       "  'SCORE': 'cx31bb0d42d9667fd6acab1bbebcfa3b916f04a3f3'},\n",
       " 'governance': {'zip': 'core_contracts/governance.zip',\n",
       "  'SCORE': 'cxd5af9afcf8cd2b90f1bd4a019004a0b4227ceb18'},\n",
       " 'dummy_oracle': {'zip': 'core_contracts/dummy_oracle.zip',\n",
       "  'SCORE': 'cx2904e9e14d6e2a386174364f1cd4b693d18dc0b0'},\n",
       " 'sicx': {'zip': 'token_contracts/sicx.zip',\n",
       "  'SCORE': 'cx52201d119a70890b1d5fa79fba836ac03cf3e694'},\n",
       " 'icd': {'zip': 'token_contracts/icd.zip',\n",
       "  'SCORE': 'cxb5ba928f36b9348700906924a17426ba072d7815'},\n",
       " 'bal': {'zip': 'token_contracts/bal.zip', 'SCORE': ''},\n",
       " 'bwt': {'zip': 'token_contracts/bwt.zip',\n",
       "  'SCORE': 'cx407e502b4037a0a6fc158deac86e9c95c25a1a80'}}"
      ]
     },
     "execution_count": 266,
     "metadata": {},
     "output_type": "execute_result"
    }
   ],
   "source": [
    "# Add the contracts. Copy the output from this cell the the one above to save the contract addresses.\n",
    "# contracts['dividends'] = {'zip': 'core_contracts/dividends.zip', 'SCORE': 'cxceadb6419b92f7170b38b8328dbd8deefb4a1cdb'}\n",
    "deploy = ['loans', 'staking', 'dividends', 'rewards', 'reserve_fund', 'governance', 'dummy_oracle', 'sicx', 'dex', 'icd', 'bal', 'bwt']\n",
    "for directory in {\"core_contracts\", \"token_contracts\"}:\n",
    "    with os.scandir(directory) as it:\n",
    "        for file in it:\n",
    "            archive_name = directory + \"/\" + file.name\n",
    "            if file.is_dir() and file.name in deploy:\n",
    "                make_archive(archive_name, \"zip\", directory, file.name)\n",
    "                contracts[file.name]['zip'] = archive_name + '.zip'\n",
    "\n",
    "now = datetime.utcnow()\n",
    "filename = f'contracts_{now.year}{str(now.month).zfill(2)}{str(now.day).zfill(2)}{str(now.hour).zfill(2)}{str(now.minute).zfill(2)}{str(now.second).zfill(2)}.pkl'\n",
    "print(f'saving contracts list as {filename}')\n",
    "with open(filename, 'wb') as f:\n",
    "    pkl.dump(contracts, f)\n",
    "contracts"
   ]
  },
  {
   "cell_type": "code",
   "execution_count": 264,
   "metadata": {},
   "outputs": [
    {
     "data": {
      "text/plain": [
       "{'loans': {'zip': 'core_contracts/loans.zip', 'SCORE': ''},\n",
       " 'staking': {'zip': 'core_contracts/staking.zip',\n",
       "  'SCORE': 'cxb4c4546ee6589dbacb01fb9ffb8ec2154ec4cfc8'},\n",
       " 'dividends': {'zip': 'core_contracts/dividends.zip',\n",
       "  'SCORE': 'cxf3c36fd31f9503ab259837210a881bee3527d374'},\n",
       " 'reserve_fund': {'zip': 'core_contracts/reserve_fund.zip',\n",
       "  'SCORE': 'cxf13d10a1d4268540186eff8bab3fe6695f3bd96a'},\n",
       " 'rewards': {'zip': 'core_contracts/rewards.zip',\n",
       "  'SCORE': 'cx84044a7405e61281b7eb3fb68b6c767749bcfd3c'},\n",
       " 'dex': {'zip': 'core_contracts/dex.zip',\n",
       "  'SCORE': 'cx90fe61e164501a39892c11a5cb49061e9f3ac0ad'},\n",
       " 'governance': {'zip': 'core_contracts/governance.zip',\n",
       "  'SCORE': 'cx7823d03c27af951336d6afc99bbf81d6415d7a1c'},\n",
       " 'dummy_oracle': {'zip': 'core_contracts/dummy_oracle.zip',\n",
       "  'SCORE': 'cxb13a7056ff7e212f102f392717177f4664c4a070'},\n",
       " 'sicx': {'zip': 'token_contracts/sicx.zip',\n",
       "  'SCORE': 'cx8869fda354795d69fdfbe8ef8f4e29a456273a21'},\n",
       " 'icd': {'zip': 'token_contracts/icd.zip', 'SCORE': ''},\n",
       " 'bal': {'zip': 'token_contracts/bal.zip', 'SCORE': ''},\n",
       " 'bwt': {'zip': 'token_contracts/bwt.zip',\n",
       "  'SCORE': 'cx38572c5498c8f2f032e5f0250ed07a25bdc621b3'}}"
      ]
     },
     "execution_count": 264,
     "metadata": {},
     "output_type": "execute_result"
    }
   ],
   "source": [
    "contracts"
   ]
  },
  {
   "cell_type": "code",
   "execution_count": 181,
   "metadata": {},
   "outputs": [
    {
     "data": {
      "text/plain": [
       "{'loans': {'zip': 'core_contracts/loans.zip',\n",
       "  'SCORE': 'cx14c12f31b8ca35198eaf862c45b43c5b75baadef'},\n",
       " 'staking': {'zip': 'core_contracts/staking.zip',\n",
       "  'SCORE': 'cxff8c6025fb7eed7197cef6f7fc7993eb2abd7c75'},\n",
       " 'dividends': {'zip': 'core_contracts/dividends.zip',\n",
       "  'SCORE': 'cx2771c23c7a11cb9804d8c03347db955a632f366c'},\n",
       " 'sicx': {'zip': 'token_contracts/sicx.zip',\n",
       "  'SCORE': 'cxbc9fad62310a119a48d1e959d552d9c4b4ce4f03'},\n",
       " 'dex': {'zip': 'core_contracts/dex.zip',\n",
       "  'SCORE': 'cx5a5db07a2fb83c8850ae2f67dde041d989af3180'},\n",
       " 'icd': {'zip': 'token_contracts/icd.zip',\n",
       "  'SCORE': 'cx2df2231fe5c090ee3e6135b816f2e487c77b306d'},\n",
       " 'dummy_oracle': {'zip': 'core_contracts/dummy_oracle.zip',\n",
       "  'SCORE': 'cx200c946c7cc03f330bbf170649bbacb9f2998bbb'},\n",
       " 'reserve_fund': {'zip': 'core_contracts/reserve_fund.zip',\n",
       "  'SCORE': 'cxb73bbcebf22424ee523af64216d2c55b4c506443'},\n",
       " 'bal': {'zip': 'token_contracts/bal.zip',\n",
       "  'SCORE': 'cxaa73e0a90c6199ba79262c8cf16473f94001934c'}}"
      ]
     },
     "execution_count": 181,
     "metadata": {},
     "output_type": "execute_result"
    }
   ],
   "source": [
    "contracts"
   ]
  },
  {
   "cell_type": "markdown",
   "metadata": {},
   "source": [
    "## Deploy All SCOREs"
   ]
  },
  {
   "cell_type": "code",
   "execution_count": 265,
   "metadata": {
    "collapsed": true
   },
   "outputs": [
    {
     "name": "stderr",
     "output_type": "stream",
     "text": [
      "Raised JSONRPCException while returning the custom response. Error message: {'code': -32602, 'message': 'Pending transaction'}\n"
     ]
    },
    {
     "name": "stdout",
     "output_type": "stream",
     "text": [
      "Retrying in 1 seconds...\n"
     ]
    },
    {
     "name": "stderr",
     "output_type": "stream",
     "text": [
      "Raised JSONRPCException while returning the custom response. Error message: {'code': -32602, 'message': 'Pending transaction'}\n"
     ]
    },
    {
     "name": "stdout",
     "output_type": "stream",
     "text": [
      "Retrying in 2 seconds...\n"
     ]
    },
    {
     "name": "stderr",
     "output_type": "stream",
     "text": [
      "Raised JSONRPCException while returning the custom response. Error message: {'code': -32602, 'message': 'Pending transaction'}\n"
     ]
    },
    {
     "name": "stdout",
     "output_type": "stream",
     "text": [
      "loans\n",
      "{'txHash': '0xf8f16be2ab6a67074bebddb1726051bd34d239c75bdd20570faa53b1afbc3bf1', 'blockHeight': 657036, 'blockHash': '0xc373ad94ac92c58203afcaf6ecd3158cbb6126cfef40cd4101bd5ff02908aafe', 'txIndex': 1, 'to': 'cx0000000000000000000000000000000000000000', 'stepUsed': 1949106400, 'stepPrice': 10000000000, 'cumulativeStepUsed': 1949106400, 'eventLogs': [], 'logsBloom': b'\\x00\\x00\\x00\\x00\\x00\\x00\\x00\\x00\\x00\\x00\\x00\\x00\\x00\\x00\\x00\\x00\\x00\\x00\\x00\\x00\\x00\\x00\\x00\\x00\\x00\\x00\\x00\\x00\\x00\\x00\\x00\\x00\\x00\\x00\\x00\\x00\\x00\\x00\\x00\\x00\\x00\\x00\\x00\\x00\\x00\\x00\\x00\\x00\\x00\\x00\\x00\\x00\\x00\\x00\\x00\\x00\\x00\\x00\\x00\\x00\\x00\\x00\\x00\\x00\\x00\\x00\\x00\\x00\\x00\\x00\\x00\\x00\\x00\\x00\\x00\\x00\\x00\\x00\\x00\\x00\\x00\\x00\\x00\\x00\\x00\\x00\\x00\\x00\\x00\\x00\\x00\\x00\\x00\\x00\\x00\\x00\\x00\\x00\\x00\\x00\\x00\\x00\\x00\\x00\\x00\\x00\\x00\\x00\\x00\\x00\\x00\\x00\\x00\\x00\\x00\\x00\\x00\\x00\\x00\\x00\\x00\\x00\\x00\\x00\\x00\\x00\\x00\\x00\\x00\\x00\\x00\\x00\\x00\\x00\\x00\\x00\\x00\\x00\\x00\\x00\\x00\\x00\\x00\\x00\\x00\\x00\\x00\\x00\\x00\\x00\\x00\\x00\\x00\\x00\\x00\\x00\\x00\\x00\\x00\\x00\\x00\\x00\\x00\\x00\\x00\\x00\\x00\\x00\\x00\\x00\\x00\\x00\\x00\\x00\\x00\\x00\\x00\\x00\\x00\\x00\\x00\\x00\\x00\\x00\\x00\\x00\\x00\\x00\\x00\\x00\\x00\\x00\\x00\\x00\\x00\\x00\\x00\\x00\\x00\\x00\\x00\\x00\\x00\\x00\\x00\\x00\\x00\\x00\\x00\\x00\\x00\\x00\\x00\\x00\\x00\\x00\\x00\\x00\\x00\\x00\\x00\\x00\\x00\\x00\\x00\\x00\\x00\\x00\\x00\\x00\\x00\\x00\\x00\\x00\\x00\\x00\\x00\\x00\\x00\\x00\\x00\\x00\\x00\\x00\\x00\\x00\\x00\\x00\\x00\\x00\\x00\\x00\\x00\\x00\\x00\\x00', 'status': 0, 'failure': {'code': 1, 'message': 'not enough values to unpack (expected 2, got 1)'}}\n",
      "Retrying in 1 seconds...\n"
     ]
    },
    {
     "name": "stderr",
     "output_type": "stream",
     "text": [
      "Raised JSONRPCException while returning the custom response. Error message: {'code': -32602, 'message': 'Pending transaction'}\n"
     ]
    },
    {
     "name": "stdout",
     "output_type": "stream",
     "text": [
      "staking\n",
      "{'txHash': '0x198079ea72d226d7c287747c04b6fef6ebba53b2f80fd7b9263110b1d01cce0f', 'blockHeight': 657037, 'blockHash': '0x257038b6dfe162ed8159d1121338a29aad34782c4993e2f7729c936e1f4fd5b2', 'txIndex': 1, 'to': 'cx0000000000000000000000000000000000000000', 'scoreAddress': 'cxf3b22ebbf151aad4f74a8490ab2fe60d2106fa31', 'stepUsed': 1443994760, 'stepPrice': 10000000000, 'cumulativeStepUsed': 1443994760, 'eventLogs': [], 'logsBloom': b'\\x00\\x00\\x00\\x00\\x00\\x00\\x00\\x00\\x00\\x00\\x00\\x00\\x00\\x00\\x00\\x00\\x00\\x00\\x00\\x00\\x00\\x00\\x00\\x00\\x00\\x00\\x00\\x00\\x00\\x00\\x00\\x00\\x00\\x00\\x00\\x00\\x00\\x00\\x00\\x00\\x00\\x00\\x00\\x00\\x00\\x00\\x00\\x00\\x00\\x00\\x00\\x00\\x00\\x00\\x00\\x00\\x00\\x00\\x00\\x00\\x00\\x00\\x00\\x00\\x00\\x00\\x00\\x00\\x00\\x00\\x00\\x00\\x00\\x00\\x00\\x00\\x00\\x00\\x00\\x00\\x00\\x00\\x00\\x00\\x00\\x00\\x00\\x00\\x00\\x00\\x00\\x00\\x00\\x00\\x00\\x00\\x00\\x00\\x00\\x00\\x00\\x00\\x00\\x00\\x00\\x00\\x00\\x00\\x00\\x00\\x00\\x00\\x00\\x00\\x00\\x00\\x00\\x00\\x00\\x00\\x00\\x00\\x00\\x00\\x00\\x00\\x00\\x00\\x00\\x00\\x00\\x00\\x00\\x00\\x00\\x00\\x00\\x00\\x00\\x00\\x00\\x00\\x00\\x00\\x00\\x00\\x00\\x00\\x00\\x00\\x00\\x00\\x00\\x00\\x00\\x00\\x00\\x00\\x00\\x00\\x00\\x00\\x00\\x00\\x00\\x00\\x00\\x00\\x00\\x00\\x00\\x00\\x00\\x00\\x00\\x00\\x00\\x00\\x00\\x00\\x00\\x00\\x00\\x00\\x00\\x00\\x00\\x00\\x00\\x00\\x00\\x00\\x00\\x00\\x00\\x00\\x00\\x00\\x00\\x00\\x00\\x00\\x00\\x00\\x00\\x00\\x00\\x00\\x00\\x00\\x00\\x00\\x00\\x00\\x00\\x00\\x00\\x00\\x00\\x00\\x00\\x00\\x00\\x00\\x00\\x00\\x00\\x00\\x00\\x00\\x00\\x00\\x00\\x00\\x00\\x00\\x00\\x00\\x00\\x00\\x00\\x00\\x00\\x00\\x00\\x00\\x00\\x00\\x00\\x00\\x00\\x00\\x00\\x00\\x00\\x00', 'status': 1}\n",
      "Retrying in 1 seconds...\n"
     ]
    },
    {
     "name": "stderr",
     "output_type": "stream",
     "text": [
      "Raised JSONRPCException while returning the custom response. Error message: {'code': -32602, 'message': 'Pending transaction'}\n"
     ]
    },
    {
     "name": "stdout",
     "output_type": "stream",
     "text": [
      "Retrying in 2 seconds...\n"
     ]
    },
    {
     "name": "stderr",
     "output_type": "stream",
     "text": [
      "Raised JSONRPCException while returning the custom response. Error message: {'code': -32602, 'message': 'Pending transaction'}\n"
     ]
    },
    {
     "name": "stdout",
     "output_type": "stream",
     "text": [
      "dividends\n",
      "{'txHash': '0xe8b1e73832c07c0c0d29ab04eff4118ab9c8126099d7358afddadc9450f8baae', 'blockHeight': 657038, 'blockHash': '0xbee718e749340484107e4d7a9895a9c0d5a8872218739bfc931c1cad38bb4a71', 'txIndex': 1, 'to': 'cx0000000000000000000000000000000000000000', 'scoreAddress': 'cx4aae13bd08fb3fc5e666a6d9b262ef036f9bdc64', 'stepUsed': 1245468000, 'stepPrice': 10000000000, 'cumulativeStepUsed': 1245468000, 'eventLogs': [], 'logsBloom': b'\\x00\\x00\\x00\\x00\\x00\\x00\\x00\\x00\\x00\\x00\\x00\\x00\\x00\\x00\\x00\\x00\\x00\\x00\\x00\\x00\\x00\\x00\\x00\\x00\\x00\\x00\\x00\\x00\\x00\\x00\\x00\\x00\\x00\\x00\\x00\\x00\\x00\\x00\\x00\\x00\\x00\\x00\\x00\\x00\\x00\\x00\\x00\\x00\\x00\\x00\\x00\\x00\\x00\\x00\\x00\\x00\\x00\\x00\\x00\\x00\\x00\\x00\\x00\\x00\\x00\\x00\\x00\\x00\\x00\\x00\\x00\\x00\\x00\\x00\\x00\\x00\\x00\\x00\\x00\\x00\\x00\\x00\\x00\\x00\\x00\\x00\\x00\\x00\\x00\\x00\\x00\\x00\\x00\\x00\\x00\\x00\\x00\\x00\\x00\\x00\\x00\\x00\\x00\\x00\\x00\\x00\\x00\\x00\\x00\\x00\\x00\\x00\\x00\\x00\\x00\\x00\\x00\\x00\\x00\\x00\\x00\\x00\\x00\\x00\\x00\\x00\\x00\\x00\\x00\\x00\\x00\\x00\\x00\\x00\\x00\\x00\\x00\\x00\\x00\\x00\\x00\\x00\\x00\\x00\\x00\\x00\\x00\\x00\\x00\\x00\\x00\\x00\\x00\\x00\\x00\\x00\\x00\\x00\\x00\\x00\\x00\\x00\\x00\\x00\\x00\\x00\\x00\\x00\\x00\\x00\\x00\\x00\\x00\\x00\\x00\\x00\\x00\\x00\\x00\\x00\\x00\\x00\\x00\\x00\\x00\\x00\\x00\\x00\\x00\\x00\\x00\\x00\\x00\\x00\\x00\\x00\\x00\\x00\\x00\\x00\\x00\\x00\\x00\\x00\\x00\\x00\\x00\\x00\\x00\\x00\\x00\\x00\\x00\\x00\\x00\\x00\\x00\\x00\\x00\\x00\\x00\\x00\\x00\\x00\\x00\\x00\\x00\\x00\\x00\\x00\\x00\\x00\\x00\\x00\\x00\\x00\\x00\\x00\\x00\\x00\\x00\\x00\\x00\\x00\\x00\\x00\\x00\\x00\\x00\\x00\\x00\\x00\\x00\\x00\\x00\\x00', 'status': 1}\n",
      "Retrying in 1 seconds...\n"
     ]
    },
    {
     "name": "stderr",
     "output_type": "stream",
     "text": [
      "Raised JSONRPCException while returning the custom response. Error message: {'code': -32602, 'message': 'Pending transaction'}\n"
     ]
    },
    {
     "name": "stdout",
     "output_type": "stream",
     "text": [
      "reserve_fund\n",
      "{'txHash': '0x8a38dc00c4738469dd7918534708bf3706f6dd147dfc11006cbe2d95e6c0ce82', 'blockHeight': 657039, 'blockHash': '0x4cfd1b21b959e125d527549807efa76913ce692247a0f785bc0aa826d1c76388', 'txIndex': 1, 'to': 'cx0000000000000000000000000000000000000000', 'scoreAddress': 'cx29fa40132bf655a822dcf4c2eafcb406c758e408', 'stepUsed': 1174605600, 'stepPrice': 10000000000, 'cumulativeStepUsed': 1174605600, 'eventLogs': [], 'logsBloom': b'\\x00\\x00\\x00\\x00\\x00\\x00\\x00\\x00\\x00\\x00\\x00\\x00\\x00\\x00\\x00\\x00\\x00\\x00\\x00\\x00\\x00\\x00\\x00\\x00\\x00\\x00\\x00\\x00\\x00\\x00\\x00\\x00\\x00\\x00\\x00\\x00\\x00\\x00\\x00\\x00\\x00\\x00\\x00\\x00\\x00\\x00\\x00\\x00\\x00\\x00\\x00\\x00\\x00\\x00\\x00\\x00\\x00\\x00\\x00\\x00\\x00\\x00\\x00\\x00\\x00\\x00\\x00\\x00\\x00\\x00\\x00\\x00\\x00\\x00\\x00\\x00\\x00\\x00\\x00\\x00\\x00\\x00\\x00\\x00\\x00\\x00\\x00\\x00\\x00\\x00\\x00\\x00\\x00\\x00\\x00\\x00\\x00\\x00\\x00\\x00\\x00\\x00\\x00\\x00\\x00\\x00\\x00\\x00\\x00\\x00\\x00\\x00\\x00\\x00\\x00\\x00\\x00\\x00\\x00\\x00\\x00\\x00\\x00\\x00\\x00\\x00\\x00\\x00\\x00\\x00\\x00\\x00\\x00\\x00\\x00\\x00\\x00\\x00\\x00\\x00\\x00\\x00\\x00\\x00\\x00\\x00\\x00\\x00\\x00\\x00\\x00\\x00\\x00\\x00\\x00\\x00\\x00\\x00\\x00\\x00\\x00\\x00\\x00\\x00\\x00\\x00\\x00\\x00\\x00\\x00\\x00\\x00\\x00\\x00\\x00\\x00\\x00\\x00\\x00\\x00\\x00\\x00\\x00\\x00\\x00\\x00\\x00\\x00\\x00\\x00\\x00\\x00\\x00\\x00\\x00\\x00\\x00\\x00\\x00\\x00\\x00\\x00\\x00\\x00\\x00\\x00\\x00\\x00\\x00\\x00\\x00\\x00\\x00\\x00\\x00\\x00\\x00\\x00\\x00\\x00\\x00\\x00\\x00\\x00\\x00\\x00\\x00\\x00\\x00\\x00\\x00\\x00\\x00\\x00\\x00\\x00\\x00\\x00\\x00\\x00\\x00\\x00\\x00\\x00\\x00\\x00\\x00\\x00\\x00\\x00\\x00\\x00\\x00\\x00\\x00\\x00', 'status': 1}\n",
      "Retrying in 1 seconds...\n"
     ]
    },
    {
     "name": "stderr",
     "output_type": "stream",
     "text": [
      "Raised JSONRPCException while returning the custom response. Error message: {'code': -32602, 'message': 'Pending transaction'}\n"
     ]
    },
    {
     "name": "stdout",
     "output_type": "stream",
     "text": [
      "Retrying in 2 seconds...\n"
     ]
    },
    {
     "name": "stderr",
     "output_type": "stream",
     "text": [
      "Raised JSONRPCException while returning the custom response. Error message: {'code': -32602, 'message': 'Pending transaction'}\n"
     ]
    },
    {
     "name": "stdout",
     "output_type": "stream",
     "text": [
      "rewards\n",
      "{'txHash': '0xc692cff3907930561da7fff128d4049f67f8ad404106427b0f1f0355b121d87c', 'blockHeight': 657040, 'blockHash': '0x081c259d3919787a9147c2ac0840242f2105781869b8de4e20326c876a43dd5c', 'txIndex': 1, 'to': 'cx0000000000000000000000000000000000000000', 'scoreAddress': 'cxf22475bcc888cd6a635f6fae374ee69ffbb04d1a', 'stepUsed': 1164239200, 'stepPrice': 10000000000, 'cumulativeStepUsed': 1164239200, 'eventLogs': [], 'logsBloom': b'\\x00\\x00\\x00\\x00\\x00\\x00\\x00\\x00\\x00\\x00\\x00\\x00\\x00\\x00\\x00\\x00\\x00\\x00\\x00\\x00\\x00\\x00\\x00\\x00\\x00\\x00\\x00\\x00\\x00\\x00\\x00\\x00\\x00\\x00\\x00\\x00\\x00\\x00\\x00\\x00\\x00\\x00\\x00\\x00\\x00\\x00\\x00\\x00\\x00\\x00\\x00\\x00\\x00\\x00\\x00\\x00\\x00\\x00\\x00\\x00\\x00\\x00\\x00\\x00\\x00\\x00\\x00\\x00\\x00\\x00\\x00\\x00\\x00\\x00\\x00\\x00\\x00\\x00\\x00\\x00\\x00\\x00\\x00\\x00\\x00\\x00\\x00\\x00\\x00\\x00\\x00\\x00\\x00\\x00\\x00\\x00\\x00\\x00\\x00\\x00\\x00\\x00\\x00\\x00\\x00\\x00\\x00\\x00\\x00\\x00\\x00\\x00\\x00\\x00\\x00\\x00\\x00\\x00\\x00\\x00\\x00\\x00\\x00\\x00\\x00\\x00\\x00\\x00\\x00\\x00\\x00\\x00\\x00\\x00\\x00\\x00\\x00\\x00\\x00\\x00\\x00\\x00\\x00\\x00\\x00\\x00\\x00\\x00\\x00\\x00\\x00\\x00\\x00\\x00\\x00\\x00\\x00\\x00\\x00\\x00\\x00\\x00\\x00\\x00\\x00\\x00\\x00\\x00\\x00\\x00\\x00\\x00\\x00\\x00\\x00\\x00\\x00\\x00\\x00\\x00\\x00\\x00\\x00\\x00\\x00\\x00\\x00\\x00\\x00\\x00\\x00\\x00\\x00\\x00\\x00\\x00\\x00\\x00\\x00\\x00\\x00\\x00\\x00\\x00\\x00\\x00\\x00\\x00\\x00\\x00\\x00\\x00\\x00\\x00\\x00\\x00\\x00\\x00\\x00\\x00\\x00\\x00\\x00\\x00\\x00\\x00\\x00\\x00\\x00\\x00\\x00\\x00\\x00\\x00\\x00\\x00\\x00\\x00\\x00\\x00\\x00\\x00\\x00\\x00\\x00\\x00\\x00\\x00\\x00\\x00\\x00\\x00\\x00\\x00\\x00\\x00', 'status': 1}\n",
      "Retrying in 1 seconds...\n"
     ]
    },
    {
     "name": "stderr",
     "output_type": "stream",
     "text": [
      "Raised JSONRPCException while returning the custom response. Error message: {'code': -32602, 'message': 'Pending transaction'}\n"
     ]
    },
    {
     "name": "stdout",
     "output_type": "stream",
     "text": [
      "dex\n",
      "{'txHash': '0x92f92ed7ca46618fa8daff6eca9d6d4e327811710f09e4f7c653070caea89126', 'blockHeight': 657041, 'blockHash': '0xa8c2a26cab08f5a76c652608da6b2545deaa789e387c9e8a421ed7f90c9ad215', 'txIndex': 1, 'to': 'cx0000000000000000000000000000000000000000', 'scoreAddress': 'cx31bb0d42d9667fd6acab1bbebcfa3b916f04a3f3', 'stepUsed': 1311983520, 'stepPrice': 10000000000, 'cumulativeStepUsed': 1311983520, 'eventLogs': [], 'logsBloom': b'\\x00\\x00\\x00\\x00\\x00\\x00\\x00\\x00\\x00\\x00\\x00\\x00\\x00\\x00\\x00\\x00\\x00\\x00\\x00\\x00\\x00\\x00\\x00\\x00\\x00\\x00\\x00\\x00\\x00\\x00\\x00\\x00\\x00\\x00\\x00\\x00\\x00\\x00\\x00\\x00\\x00\\x00\\x00\\x00\\x00\\x00\\x00\\x00\\x00\\x00\\x00\\x00\\x00\\x00\\x00\\x00\\x00\\x00\\x00\\x00\\x00\\x00\\x00\\x00\\x00\\x00\\x00\\x00\\x00\\x00\\x00\\x00\\x00\\x00\\x00\\x00\\x00\\x00\\x00\\x00\\x00\\x00\\x00\\x00\\x00\\x00\\x00\\x00\\x00\\x00\\x00\\x00\\x00\\x00\\x00\\x00\\x00\\x00\\x00\\x00\\x00\\x00\\x00\\x00\\x00\\x00\\x00\\x00\\x00\\x00\\x00\\x00\\x00\\x00\\x00\\x00\\x00\\x00\\x00\\x00\\x00\\x00\\x00\\x00\\x00\\x00\\x00\\x00\\x00\\x00\\x00\\x00\\x00\\x00\\x00\\x00\\x00\\x00\\x00\\x00\\x00\\x00\\x00\\x00\\x00\\x00\\x00\\x00\\x00\\x00\\x00\\x00\\x00\\x00\\x00\\x00\\x00\\x00\\x00\\x00\\x00\\x00\\x00\\x00\\x00\\x00\\x00\\x00\\x00\\x00\\x00\\x00\\x00\\x00\\x00\\x00\\x00\\x00\\x00\\x00\\x00\\x00\\x00\\x00\\x00\\x00\\x00\\x00\\x00\\x00\\x00\\x00\\x00\\x00\\x00\\x00\\x00\\x00\\x00\\x00\\x00\\x00\\x00\\x00\\x00\\x00\\x00\\x00\\x00\\x00\\x00\\x00\\x00\\x00\\x00\\x00\\x00\\x00\\x00\\x00\\x00\\x00\\x00\\x00\\x00\\x00\\x00\\x00\\x00\\x00\\x00\\x00\\x00\\x00\\x00\\x00\\x00\\x00\\x00\\x00\\x00\\x00\\x00\\x00\\x00\\x00\\x00\\x00\\x00\\x00\\x00\\x00\\x00\\x00\\x00\\x00', 'status': 1}\n",
      "Retrying in 1 seconds...\n"
     ]
    },
    {
     "name": "stderr",
     "output_type": "stream",
     "text": [
      "Raised JSONRPCException while returning the custom response. Error message: {'code': -32602, 'message': 'Pending transaction'}\n"
     ]
    },
    {
     "name": "stdout",
     "output_type": "stream",
     "text": [
      "Retrying in 2 seconds...\n"
     ]
    },
    {
     "name": "stderr",
     "output_type": "stream",
     "text": [
      "Raised JSONRPCException while returning the custom response. Error message: {'code': -32602, 'message': 'Pending transaction'}\n"
     ]
    },
    {
     "name": "stdout",
     "output_type": "stream",
     "text": [
      "governance\n",
      "{'txHash': '0x3f68826d7235c7ba8f6cbcb6ed4968001c28b189ba7fc2e21b939c85373513e0', 'blockHeight': 657042, 'blockHash': '0x97785915f888ca683988721d10e814307b20986ab521da66ef3bc0d5318c2570', 'txIndex': 1, 'to': 'cx0000000000000000000000000000000000000000', 'scoreAddress': 'cxd5af9afcf8cd2b90f1bd4a019004a0b4227ceb18', 'stepUsed': 1151653600, 'stepPrice': 10000000000, 'cumulativeStepUsed': 1151653600, 'eventLogs': [], 'logsBloom': b'\\x00\\x00\\x00\\x00\\x00\\x00\\x00\\x00\\x00\\x00\\x00\\x00\\x00\\x00\\x00\\x00\\x00\\x00\\x00\\x00\\x00\\x00\\x00\\x00\\x00\\x00\\x00\\x00\\x00\\x00\\x00\\x00\\x00\\x00\\x00\\x00\\x00\\x00\\x00\\x00\\x00\\x00\\x00\\x00\\x00\\x00\\x00\\x00\\x00\\x00\\x00\\x00\\x00\\x00\\x00\\x00\\x00\\x00\\x00\\x00\\x00\\x00\\x00\\x00\\x00\\x00\\x00\\x00\\x00\\x00\\x00\\x00\\x00\\x00\\x00\\x00\\x00\\x00\\x00\\x00\\x00\\x00\\x00\\x00\\x00\\x00\\x00\\x00\\x00\\x00\\x00\\x00\\x00\\x00\\x00\\x00\\x00\\x00\\x00\\x00\\x00\\x00\\x00\\x00\\x00\\x00\\x00\\x00\\x00\\x00\\x00\\x00\\x00\\x00\\x00\\x00\\x00\\x00\\x00\\x00\\x00\\x00\\x00\\x00\\x00\\x00\\x00\\x00\\x00\\x00\\x00\\x00\\x00\\x00\\x00\\x00\\x00\\x00\\x00\\x00\\x00\\x00\\x00\\x00\\x00\\x00\\x00\\x00\\x00\\x00\\x00\\x00\\x00\\x00\\x00\\x00\\x00\\x00\\x00\\x00\\x00\\x00\\x00\\x00\\x00\\x00\\x00\\x00\\x00\\x00\\x00\\x00\\x00\\x00\\x00\\x00\\x00\\x00\\x00\\x00\\x00\\x00\\x00\\x00\\x00\\x00\\x00\\x00\\x00\\x00\\x00\\x00\\x00\\x00\\x00\\x00\\x00\\x00\\x00\\x00\\x00\\x00\\x00\\x00\\x00\\x00\\x00\\x00\\x00\\x00\\x00\\x00\\x00\\x00\\x00\\x00\\x00\\x00\\x00\\x00\\x00\\x00\\x00\\x00\\x00\\x00\\x00\\x00\\x00\\x00\\x00\\x00\\x00\\x00\\x00\\x00\\x00\\x00\\x00\\x00\\x00\\x00\\x00\\x00\\x00\\x00\\x00\\x00\\x00\\x00\\x00\\x00\\x00\\x00\\x00\\x00', 'status': 1}\n",
      "Retrying in 1 seconds...\n"
     ]
    },
    {
     "name": "stderr",
     "output_type": "stream",
     "text": [
      "Raised JSONRPCException while returning the custom response. Error message: {'code': -32602, 'message': 'Pending transaction'}\n"
     ]
    },
    {
     "name": "stdout",
     "output_type": "stream",
     "text": [
      "Retrying in 2 seconds...\n"
     ]
    },
    {
     "name": "stderr",
     "output_type": "stream",
     "text": [
      "Raised JSONRPCException while returning the custom response. Error message: {'code': -32602, 'message': 'Pending transaction'}\n"
     ]
    },
    {
     "name": "stdout",
     "output_type": "stream",
     "text": [
      "dummy_oracle\n",
      "{'txHash': '0x75f15cc40c941cc8b86d0fb4aca883fbcf6cc74f117ba239d56bfe308f0fb3f1', 'blockHeight': 657044, 'blockHash': '0x9700a47381622156d7dc53e6b1bd1c383dbee7c113b4d1b400bf2545ab1d782c', 'txIndex': 1, 'to': 'cx0000000000000000000000000000000000000000', 'scoreAddress': 'cx2904e9e14d6e2a386174364f1cd4b693d18dc0b0', 'stepUsed': 1035920800, 'stepPrice': 10000000000, 'cumulativeStepUsed': 1035920800, 'eventLogs': [], 'logsBloom': b'\\x00\\x00\\x00\\x00\\x00\\x00\\x00\\x00\\x00\\x00\\x00\\x00\\x00\\x00\\x00\\x00\\x00\\x00\\x00\\x00\\x00\\x00\\x00\\x00\\x00\\x00\\x00\\x00\\x00\\x00\\x00\\x00\\x00\\x00\\x00\\x00\\x00\\x00\\x00\\x00\\x00\\x00\\x00\\x00\\x00\\x00\\x00\\x00\\x00\\x00\\x00\\x00\\x00\\x00\\x00\\x00\\x00\\x00\\x00\\x00\\x00\\x00\\x00\\x00\\x00\\x00\\x00\\x00\\x00\\x00\\x00\\x00\\x00\\x00\\x00\\x00\\x00\\x00\\x00\\x00\\x00\\x00\\x00\\x00\\x00\\x00\\x00\\x00\\x00\\x00\\x00\\x00\\x00\\x00\\x00\\x00\\x00\\x00\\x00\\x00\\x00\\x00\\x00\\x00\\x00\\x00\\x00\\x00\\x00\\x00\\x00\\x00\\x00\\x00\\x00\\x00\\x00\\x00\\x00\\x00\\x00\\x00\\x00\\x00\\x00\\x00\\x00\\x00\\x00\\x00\\x00\\x00\\x00\\x00\\x00\\x00\\x00\\x00\\x00\\x00\\x00\\x00\\x00\\x00\\x00\\x00\\x00\\x00\\x00\\x00\\x00\\x00\\x00\\x00\\x00\\x00\\x00\\x00\\x00\\x00\\x00\\x00\\x00\\x00\\x00\\x00\\x00\\x00\\x00\\x00\\x00\\x00\\x00\\x00\\x00\\x00\\x00\\x00\\x00\\x00\\x00\\x00\\x00\\x00\\x00\\x00\\x00\\x00\\x00\\x00\\x00\\x00\\x00\\x00\\x00\\x00\\x00\\x00\\x00\\x00\\x00\\x00\\x00\\x00\\x00\\x00\\x00\\x00\\x00\\x00\\x00\\x00\\x00\\x00\\x00\\x00\\x00\\x00\\x00\\x00\\x00\\x00\\x00\\x00\\x00\\x00\\x00\\x00\\x00\\x00\\x00\\x00\\x00\\x00\\x00\\x00\\x00\\x00\\x00\\x00\\x00\\x00\\x00\\x00\\x00\\x00\\x00\\x00\\x00\\x00\\x00\\x00\\x00\\x00\\x00\\x00', 'status': 1}\n",
      "Retrying in 1 seconds...\n"
     ]
    },
    {
     "name": "stderr",
     "output_type": "stream",
     "text": [
      "Raised JSONRPCException while returning the custom response. Error message: {'code': -32602, 'message': 'Pending transaction'}\n"
     ]
    },
    {
     "name": "stdout",
     "output_type": "stream",
     "text": [
      "sicx\n",
      "{'txHash': '0xc6e93434d6e3b0e0e384296ed3212117c36307268c2f85fad8959e07d6e2aff8', 'blockHeight': 657045, 'blockHash': '0x4a732a7bc7efc2c272abf03ead12f9a1fe797051f1307b6def4f1b7f590c85a7', 'txIndex': 1, 'to': 'cx0000000000000000000000000000000000000000', 'scoreAddress': 'cx52201d119a70890b1d5fa79fba836ac03cf3e694', 'stepUsed': 1177196000, 'stepPrice': 10000000000, 'cumulativeStepUsed': 1177196000, 'eventLogs': [], 'logsBloom': b'\\x00\\x00\\x00\\x00\\x00\\x00\\x00\\x00\\x00\\x00\\x00\\x00\\x00\\x00\\x00\\x00\\x00\\x00\\x00\\x00\\x00\\x00\\x00\\x00\\x00\\x00\\x00\\x00\\x00\\x00\\x00\\x00\\x00\\x00\\x00\\x00\\x00\\x00\\x00\\x00\\x00\\x00\\x00\\x00\\x00\\x00\\x00\\x00\\x00\\x00\\x00\\x00\\x00\\x00\\x00\\x00\\x00\\x00\\x00\\x00\\x00\\x00\\x00\\x00\\x00\\x00\\x00\\x00\\x00\\x00\\x00\\x00\\x00\\x00\\x00\\x00\\x00\\x00\\x00\\x00\\x00\\x00\\x00\\x00\\x00\\x00\\x00\\x00\\x00\\x00\\x00\\x00\\x00\\x00\\x00\\x00\\x00\\x00\\x00\\x00\\x00\\x00\\x00\\x00\\x00\\x00\\x00\\x00\\x00\\x00\\x00\\x00\\x00\\x00\\x00\\x00\\x00\\x00\\x00\\x00\\x00\\x00\\x00\\x00\\x00\\x00\\x00\\x00\\x00\\x00\\x00\\x00\\x00\\x00\\x00\\x00\\x00\\x00\\x00\\x00\\x00\\x00\\x00\\x00\\x00\\x00\\x00\\x00\\x00\\x00\\x00\\x00\\x00\\x00\\x00\\x00\\x00\\x00\\x00\\x00\\x00\\x00\\x00\\x00\\x00\\x00\\x00\\x00\\x00\\x00\\x00\\x00\\x00\\x00\\x00\\x00\\x00\\x00\\x00\\x00\\x00\\x00\\x00\\x00\\x00\\x00\\x00\\x00\\x00\\x00\\x00\\x00\\x00\\x00\\x00\\x00\\x00\\x00\\x00\\x00\\x00\\x00\\x00\\x00\\x00\\x00\\x00\\x00\\x00\\x00\\x00\\x00\\x00\\x00\\x00\\x00\\x00\\x00\\x00\\x00\\x00\\x00\\x00\\x00\\x00\\x00\\x00\\x00\\x00\\x00\\x00\\x00\\x00\\x00\\x00\\x00\\x00\\x00\\x00\\x00\\x00\\x00\\x00\\x00\\x00\\x00\\x00\\x00\\x00\\x00\\x00\\x00\\x00\\x00\\x00\\x00', 'status': 1}\n",
      "Retrying in 1 seconds...\n"
     ]
    },
    {
     "name": "stderr",
     "output_type": "stream",
     "text": [
      "Raised JSONRPCException while returning the custom response. Error message: {'code': -32602, 'message': 'Pending transaction'}\n"
     ]
    },
    {
     "name": "stdout",
     "output_type": "stream",
     "text": [
      "Retrying in 2 seconds...\n"
     ]
    },
    {
     "name": "stderr",
     "output_type": "stream",
     "text": [
      "Raised JSONRPCException while returning the custom response. Error message: {'code': -32602, 'message': 'Pending transaction'}\n"
     ]
    },
    {
     "name": "stdout",
     "output_type": "stream",
     "text": [
      "icd\n",
      "{'txHash': '0x8b12e1f6585872592bc4299a43c13120f53657e0d47bc237a1a0c1d0e5ecc357', 'blockHeight': 657046, 'blockHash': '0x9237b66c22fd25239087a08870d55ab78ce99a488be48fa0fdf3a34b0b308108', 'txIndex': 1, 'to': 'cx0000000000000000000000000000000000000000', 'scoreAddress': 'cxb5ba928f36b9348700906924a17426ba072d7815', 'stepUsed': 1190520480, 'stepPrice': 10000000000, 'cumulativeStepUsed': 1190520480, 'eventLogs': [], 'logsBloom': b'\\x00\\x00\\x00\\x00\\x00\\x00\\x00\\x00\\x00\\x00\\x00\\x00\\x00\\x00\\x00\\x00\\x00\\x00\\x00\\x00\\x00\\x00\\x00\\x00\\x00\\x00\\x00\\x00\\x00\\x00\\x00\\x00\\x00\\x00\\x00\\x00\\x00\\x00\\x00\\x00\\x00\\x00\\x00\\x00\\x00\\x00\\x00\\x00\\x00\\x00\\x00\\x00\\x00\\x00\\x00\\x00\\x00\\x00\\x00\\x00\\x00\\x00\\x00\\x00\\x00\\x00\\x00\\x00\\x00\\x00\\x00\\x00\\x00\\x00\\x00\\x00\\x00\\x00\\x00\\x00\\x00\\x00\\x00\\x00\\x00\\x00\\x00\\x00\\x00\\x00\\x00\\x00\\x00\\x00\\x00\\x00\\x00\\x00\\x00\\x00\\x00\\x00\\x00\\x00\\x00\\x00\\x00\\x00\\x00\\x00\\x00\\x00\\x00\\x00\\x00\\x00\\x00\\x00\\x00\\x00\\x00\\x00\\x00\\x00\\x00\\x00\\x00\\x00\\x00\\x00\\x00\\x00\\x00\\x00\\x00\\x00\\x00\\x00\\x00\\x00\\x00\\x00\\x00\\x00\\x00\\x00\\x00\\x00\\x00\\x00\\x00\\x00\\x00\\x00\\x00\\x00\\x00\\x00\\x00\\x00\\x00\\x00\\x00\\x00\\x00\\x00\\x00\\x00\\x00\\x00\\x00\\x00\\x00\\x00\\x00\\x00\\x00\\x00\\x00\\x00\\x00\\x00\\x00\\x00\\x00\\x00\\x00\\x00\\x00\\x00\\x00\\x00\\x00\\x00\\x00\\x00\\x00\\x00\\x00\\x00\\x00\\x00\\x00\\x00\\x00\\x00\\x00\\x00\\x00\\x00\\x00\\x00\\x00\\x00\\x00\\x00\\x00\\x00\\x00\\x00\\x00\\x00\\x00\\x00\\x00\\x00\\x00\\x00\\x00\\x00\\x00\\x00\\x00\\x00\\x00\\x00\\x00\\x00\\x00\\x00\\x00\\x00\\x00\\x00\\x00\\x00\\x00\\x00\\x00\\x00\\x00\\x00\\x00\\x00\\x00\\x00', 'status': 1}\n",
      "Retrying in 1 seconds...\n"
     ]
    },
    {
     "name": "stderr",
     "output_type": "stream",
     "text": [
      "Raised JSONRPCException while returning the custom response. Error message: {'code': -32602, 'message': 'Pending transaction'}\n"
     ]
    },
    {
     "name": "stdout",
     "output_type": "stream",
     "text": [
      "bal\n",
      "{'txHash': '0x8fd265bc0a2947ab5d401b3ed2482141d952117d889edfa173fd3f5dc045d1f4', 'blockHeight': 657047, 'blockHash': '0x7b2a10fd67d89aecb04f41d280ab7ff7c798b440a315869552940ba18ab4c926', 'txIndex': 1, 'to': 'cx0000000000000000000000000000000000000000', 'stepUsed': 1190299360, 'stepPrice': 10000000000, 'cumulativeStepUsed': 1190299360, 'eventLogs': [], 'logsBloom': b'\\x00\\x00\\x00\\x00\\x00\\x00\\x00\\x00\\x00\\x00\\x00\\x00\\x00\\x00\\x00\\x00\\x00\\x00\\x00\\x00\\x00\\x00\\x00\\x00\\x00\\x00\\x00\\x00\\x00\\x00\\x00\\x00\\x00\\x00\\x00\\x00\\x00\\x00\\x00\\x00\\x00\\x00\\x00\\x00\\x00\\x00\\x00\\x00\\x00\\x00\\x00\\x00\\x00\\x00\\x00\\x00\\x00\\x00\\x00\\x00\\x00\\x00\\x00\\x00\\x00\\x00\\x00\\x00\\x00\\x00\\x00\\x00\\x00\\x00\\x00\\x00\\x00\\x00\\x00\\x00\\x00\\x00\\x00\\x00\\x00\\x00\\x00\\x00\\x00\\x00\\x00\\x00\\x00\\x00\\x00\\x00\\x00\\x00\\x00\\x00\\x00\\x00\\x00\\x00\\x00\\x00\\x00\\x00\\x00\\x00\\x00\\x00\\x00\\x00\\x00\\x00\\x00\\x00\\x00\\x00\\x00\\x00\\x00\\x00\\x00\\x00\\x00\\x00\\x00\\x00\\x00\\x00\\x00\\x00\\x00\\x00\\x00\\x00\\x00\\x00\\x00\\x00\\x00\\x00\\x00\\x00\\x00\\x00\\x00\\x00\\x00\\x00\\x00\\x00\\x00\\x00\\x00\\x00\\x00\\x00\\x00\\x00\\x00\\x00\\x00\\x00\\x00\\x00\\x00\\x00\\x00\\x00\\x00\\x00\\x00\\x00\\x00\\x00\\x00\\x00\\x00\\x00\\x00\\x00\\x00\\x00\\x00\\x00\\x00\\x00\\x00\\x00\\x00\\x00\\x00\\x00\\x00\\x00\\x00\\x00\\x00\\x00\\x00\\x00\\x00\\x00\\x00\\x00\\x00\\x00\\x00\\x00\\x00\\x00\\x00\\x00\\x00\\x00\\x00\\x00\\x00\\x00\\x00\\x00\\x00\\x00\\x00\\x00\\x00\\x00\\x00\\x00\\x00\\x00\\x00\\x00\\x00\\x00\\x00\\x00\\x00\\x00\\x00\\x00\\x00\\x00\\x00\\x00\\x00\\x00\\x00\\x00\\x00\\x00\\x00\\x00', 'status': 0, 'failure': {'code': 6, 'message': 'Invalid address'}}\n",
      "Retrying in 1 seconds...\n"
     ]
    },
    {
     "name": "stderr",
     "output_type": "stream",
     "text": [
      "Raised JSONRPCException while returning the custom response. Error message: {'code': -32602, 'message': 'Pending transaction'}\n"
     ]
    },
    {
     "name": "stdout",
     "output_type": "stream",
     "text": [
      "Retrying in 2 seconds...\n",
      "bwt\n",
      "{'txHash': '0x04b1ceff3c22890ca6de166da0d8e90103802f8782710e8420d15635a9f3282d', 'blockHeight': 657048, 'blockHash': '0x14b85c660264c25471c979354cf326dc20d6fe8eeea65dd6285398322b85592d', 'txIndex': 1, 'to': 'cx0000000000000000000000000000000000000000', 'scoreAddress': 'cx407e502b4037a0a6fc158deac86e9c95c25a1a80', 'stepUsed': 1166921760, 'stepPrice': 10000000000, 'cumulativeStepUsed': 1166921760, 'eventLogs': [], 'logsBloom': b'\\x00\\x00\\x00\\x00\\x00\\x00\\x00\\x00\\x00\\x00\\x00\\x00\\x00\\x00\\x00\\x00\\x00\\x00\\x00\\x00\\x00\\x00\\x00\\x00\\x00\\x00\\x00\\x00\\x00\\x00\\x00\\x00\\x00\\x00\\x00\\x00\\x00\\x00\\x00\\x00\\x00\\x00\\x00\\x00\\x00\\x00\\x00\\x00\\x00\\x00\\x00\\x00\\x00\\x00\\x00\\x00\\x00\\x00\\x00\\x00\\x00\\x00\\x00\\x00\\x00\\x00\\x00\\x00\\x00\\x00\\x00\\x00\\x00\\x00\\x00\\x00\\x00\\x00\\x00\\x00\\x00\\x00\\x00\\x00\\x00\\x00\\x00\\x00\\x00\\x00\\x00\\x00\\x00\\x00\\x00\\x00\\x00\\x00\\x00\\x00\\x00\\x00\\x00\\x00\\x00\\x00\\x00\\x00\\x00\\x00\\x00\\x00\\x00\\x00\\x00\\x00\\x00\\x00\\x00\\x00\\x00\\x00\\x00\\x00\\x00\\x00\\x00\\x00\\x00\\x00\\x00\\x00\\x00\\x00\\x00\\x00\\x00\\x00\\x00\\x00\\x00\\x00\\x00\\x00\\x00\\x00\\x00\\x00\\x00\\x00\\x00\\x00\\x00\\x00\\x00\\x00\\x00\\x00\\x00\\x00\\x00\\x00\\x00\\x00\\x00\\x00\\x00\\x00\\x00\\x00\\x00\\x00\\x00\\x00\\x00\\x00\\x00\\x00\\x00\\x00\\x00\\x00\\x00\\x00\\x00\\x00\\x00\\x00\\x00\\x00\\x00\\x00\\x00\\x00\\x00\\x00\\x00\\x00\\x00\\x00\\x00\\x00\\x00\\x00\\x00\\x00\\x00\\x00\\x00\\x00\\x00\\x00\\x00\\x00\\x00\\x00\\x00\\x00\\x00\\x00\\x00\\x00\\x00\\x00\\x00\\x00\\x00\\x00\\x00\\x00\\x00\\x00\\x00\\x00\\x00\\x00\\x00\\x00\\x00\\x00\\x00\\x00\\x00\\x00\\x00\\x00\\x00\\x00\\x00\\x00\\x00\\x00\\x00\\x00\\x00\\x00', 'status': 1}\n"
     ]
    },
    {
     "data": {
      "text/plain": [
       "{'loans': {'zip': 'core_contracts/loans.zip', 'SCORE': ''},\n",
       " 'staking': {'zip': 'core_contracts/staking.zip',\n",
       "  'SCORE': 'cxf3b22ebbf151aad4f74a8490ab2fe60d2106fa31'},\n",
       " 'dividends': {'zip': 'core_contracts/dividends.zip',\n",
       "  'SCORE': 'cx4aae13bd08fb3fc5e666a6d9b262ef036f9bdc64'},\n",
       " 'reserve_fund': {'zip': 'core_contracts/reserve_fund.zip',\n",
       "  'SCORE': 'cx29fa40132bf655a822dcf4c2eafcb406c758e408'},\n",
       " 'rewards': {'zip': 'core_contracts/rewards.zip',\n",
       "  'SCORE': 'cxf22475bcc888cd6a635f6fae374ee69ffbb04d1a'},\n",
       " 'dex': {'zip': 'core_contracts/dex.zip',\n",
       "  'SCORE': 'cx31bb0d42d9667fd6acab1bbebcfa3b916f04a3f3'},\n",
       " 'governance': {'zip': 'core_contracts/governance.zip',\n",
       "  'SCORE': 'cxd5af9afcf8cd2b90f1bd4a019004a0b4227ceb18'},\n",
       " 'dummy_oracle': {'zip': 'core_contracts/dummy_oracle.zip',\n",
       "  'SCORE': 'cx2904e9e14d6e2a386174364f1cd4b693d18dc0b0'},\n",
       " 'sicx': {'zip': 'token_contracts/sicx.zip',\n",
       "  'SCORE': 'cx52201d119a70890b1d5fa79fba836ac03cf3e694'},\n",
       " 'icd': {'zip': 'token_contracts/icd.zip',\n",
       "  'SCORE': 'cxb5ba928f36b9348700906924a17426ba072d7815'},\n",
       " 'bal': {'zip': 'token_contracts/bal.zip', 'SCORE': ''},\n",
       " 'bwt': {'zip': 'token_contracts/bwt.zip',\n",
       "  'SCORE': 'cx407e502b4037a0a6fc158deac86e9c95c25a1a80'}}"
      ]
     },
     "execution_count": 265,
     "metadata": {},
     "output_type": "execute_result"
    }
   ],
   "source": [
    "step_limit = 4000100000\n",
    "\n",
    "for score, loc in contracts.items():\n",
    "    deploy_transaction = DeployTransactionBuilder()\\\n",
    "        .from_(wallet.get_address())\\\n",
    "        .to(GOVERNANCE_ADDRESS)\\\n",
    "        .nid(NID)\\\n",
    "        .nonce(100)\\\n",
    "        .content_type(\"application/zip\")\\\n",
    "        .content(gen_deploy_data_content(loc[\"zip\"]))\\\n",
    "        .build()\n",
    "\n",
    "#     step_limit = icon_service.estimate_step(deploy_transaction) + 100000\n",
    "    \n",
    "    signed_transaction = SignedTransaction(deploy_transaction, wallet, step_limit)\n",
    "    tx_hash = icon_service.send_transaction(signed_transaction)\n",
    "\n",
    "    res = get_tx_result(tx_hash)\n",
    "    contracts[score][\"SCORE\"] = res.get('scoreAddress', '')\n",
    "    print(score)\n",
    "    print(res)\n",
    "\n",
    "contracts"
   ]
  },
  {
   "cell_type": "markdown",
   "metadata": {},
   "source": [
    "### Deploy a single SCORE"
   ]
  },
  {
   "cell_type": "code",
   "execution_count": 267,
   "metadata": {},
   "outputs": [
    {
     "name": "stderr",
     "output_type": "stream",
     "text": [
      "Raised JSONRPCException while returning the custom response. Error message: {'code': -32602, 'message': 'Pending transaction'}\n"
     ]
    },
    {
     "name": "stdout",
     "output_type": "stream",
     "text": [
      "Retrying in 1 seconds...\n"
     ]
    },
    {
     "name": "stderr",
     "output_type": "stream",
     "text": [
      "Raised JSONRPCException while returning the custom response. Error message: {'code': -32602, 'message': 'Pending transaction'}\n"
     ]
    },
    {
     "name": "stdout",
     "output_type": "stream",
     "text": [
      "Retrying in 2 seconds...\n"
     ]
    },
    {
     "data": {
      "text/plain": [
       "{'txHash': '0x650c7a3d0b4a25dab7d582b566d1bf4e5d5bb1bf59fcbacfdf5f78b9b18fcaab',\n",
       " 'blockHeight': 657383,\n",
       " 'blockHash': '0x2143a055b29c0d9b3350a767cef87a4898c0b35ed91a0dbced1083b6f23f56a8',\n",
       " 'txIndex': 1,\n",
       " 'to': 'cx0000000000000000000000000000000000000000',\n",
       " 'scoreAddress': 'cxb3540492c151599a52f25acd6e679b87df58b1d7',\n",
       " 'stepUsed': 1191467360,\n",
       " 'stepPrice': 10000000000,\n",
       " 'cumulativeStepUsed': 1191467360,\n",
       " 'eventLogs': [],\n",
       " 'logsBloom': b'\\x00\\x00\\x00\\x00\\x00\\x00\\x00\\x00\\x00\\x00\\x00\\x00\\x00\\x00\\x00\\x00\\x00\\x00\\x00\\x00\\x00\\x00\\x00\\x00\\x00\\x00\\x00\\x00\\x00\\x00\\x00\\x00\\x00\\x00\\x00\\x00\\x00\\x00\\x00\\x00\\x00\\x00\\x00\\x00\\x00\\x00\\x00\\x00\\x00\\x00\\x00\\x00\\x00\\x00\\x00\\x00\\x00\\x00\\x00\\x00\\x00\\x00\\x00\\x00\\x00\\x00\\x00\\x00\\x00\\x00\\x00\\x00\\x00\\x00\\x00\\x00\\x00\\x00\\x00\\x00\\x00\\x00\\x00\\x00\\x00\\x00\\x00\\x00\\x00\\x00\\x00\\x00\\x00\\x00\\x00\\x00\\x00\\x00\\x00\\x00\\x00\\x00\\x00\\x00\\x00\\x00\\x00\\x00\\x00\\x00\\x00\\x00\\x00\\x00\\x00\\x00\\x00\\x00\\x00\\x00\\x00\\x00\\x00\\x00\\x00\\x00\\x00\\x00\\x00\\x00\\x00\\x00\\x00\\x00\\x00\\x00\\x00\\x00\\x00\\x00\\x00\\x00\\x00\\x00\\x00\\x00\\x00\\x00\\x00\\x00\\x00\\x00\\x00\\x00\\x00\\x00\\x00\\x00\\x00\\x00\\x00\\x00\\x00\\x00\\x00\\x00\\x00\\x00\\x00\\x00\\x00\\x00\\x00\\x00\\x00\\x00\\x00\\x00\\x00\\x00\\x00\\x00\\x00\\x00\\x00\\x00\\x00\\x00\\x00\\x00\\x00\\x00\\x00\\x00\\x00\\x00\\x00\\x00\\x00\\x00\\x00\\x00\\x00\\x00\\x00\\x00\\x00\\x00\\x00\\x00\\x00\\x00\\x00\\x00\\x00\\x00\\x00\\x00\\x00\\x00\\x00\\x00\\x00\\x00\\x00\\x00\\x00\\x00\\x00\\x00\\x00\\x00\\x00\\x00\\x00\\x00\\x00\\x00\\x00\\x00\\x00\\x00\\x00\\x00\\x00\\x00\\x00\\x00\\x00\\x00\\x00\\x00\\x00\\x00\\x00\\x00',\n",
       " 'status': 1}"
      ]
     },
     "execution_count": 267,
     "metadata": {},
     "output_type": "execute_result"
    }
   ],
   "source": [
    "# Deploy a single SCORE\n",
    "score = 'bal'\n",
    "loc = {'zip': 'token_contracts/bal.zip',  'SCORE': ''}\n",
    "deploy_transaction = DeployTransactionBuilder()\\\n",
    "    .from_(wallet.get_address())\\\n",
    "    .to(GOVERNANCE_ADDRESS)\\\n",
    "    .nid(NID)\\\n",
    "    .nonce(100)\\\n",
    "    .content_type(\"application/zip\")\\\n",
    "    .content(gen_deploy_data_content(loc[\"zip\"]))\\\n",
    "    .build()\n",
    "\n",
    "step_limit = 10000000000\n",
    "\n",
    "\n",
    "signed_transaction = SignedTransaction(deploy_transaction, wallet, step_limit)\n",
    "tx_hash = icon_service.send_transaction(signed_transaction)\n",
    "\n",
    "res = get_tx_result(tx_hash)\n",
    "contracts[score][\"SCORE\"] = res.get('scoreAddress', '')\n",
    "res"
   ]
  },
  {
   "cell_type": "markdown",
   "metadata": {},
   "source": [
    "## Update a SCORE"
   ]
  },
  {
   "cell_type": "code",
   "execution_count": 189,
   "metadata": {},
   "outputs": [
    {
     "name": "stderr",
     "output_type": "stream",
     "text": [
      "Raised JSONRPCException while returning the custom response. Error message: {'code': -32602, 'message': 'Pending transaction'}\n"
     ]
    },
    {
     "name": "stdout",
     "output_type": "stream",
     "text": [
      "Retrying in 1 seconds...\n"
     ]
    },
    {
     "name": "stderr",
     "output_type": "stream",
     "text": [
      "Raised JSONRPCException while returning the custom response. Error message: {'code': -32602, 'message': 'Pending transaction'}\n"
     ]
    },
    {
     "name": "stdout",
     "output_type": "stream",
     "text": [
      "Retrying in 2 seconds...\n"
     ]
    },
    {
     "data": {
      "text/plain": [
       "{'txHash': '0x121adc3ecaff241aa91253bbd95750fff83f6241677ae190994cc5f05e4f3026',\n",
       " 'blockHeight': 421314,\n",
       " 'blockHash': '0x5ea95c46f4f754f595f9240d0f566b22728157e7b859d9255880b0816ad8e754',\n",
       " 'txIndex': 1,\n",
       " 'to': 'cx14c12f31b8ca35198eaf862c45b43c5b75baadef',\n",
       " 'scoreAddress': 'cx14c12f31b8ca35198eaf862c45b43c5b75baadef',\n",
       " 'stepUsed': 2059971120,\n",
       " 'stepPrice': 10000000000,\n",
       " 'cumulativeStepUsed': 2059971120,\n",
       " 'eventLogs': [],\n",
       " 'logsBloom': b'\\x00\\x00\\x00\\x00\\x00\\x00\\x00\\x00\\x00\\x00\\x00\\x00\\x00\\x00\\x00\\x00\\x00\\x00\\x00\\x00\\x00\\x00\\x00\\x00\\x00\\x00\\x00\\x00\\x00\\x00\\x00\\x00\\x00\\x00\\x00\\x00\\x00\\x00\\x00\\x00\\x00\\x00\\x00\\x00\\x00\\x00\\x00\\x00\\x00\\x00\\x00\\x00\\x00\\x00\\x00\\x00\\x00\\x00\\x00\\x00\\x00\\x00\\x00\\x00\\x00\\x00\\x00\\x00\\x00\\x00\\x00\\x00\\x00\\x00\\x00\\x00\\x00\\x00\\x00\\x00\\x00\\x00\\x00\\x00\\x00\\x00\\x00\\x00\\x00\\x00\\x00\\x00\\x00\\x00\\x00\\x00\\x00\\x00\\x00\\x00\\x00\\x00\\x00\\x00\\x00\\x00\\x00\\x00\\x00\\x00\\x00\\x00\\x00\\x00\\x00\\x00\\x00\\x00\\x00\\x00\\x00\\x00\\x00\\x00\\x00\\x00\\x00\\x00\\x00\\x00\\x00\\x00\\x00\\x00\\x00\\x00\\x00\\x00\\x00\\x00\\x00\\x00\\x00\\x00\\x00\\x00\\x00\\x00\\x00\\x00\\x00\\x00\\x00\\x00\\x00\\x00\\x00\\x00\\x00\\x00\\x00\\x00\\x00\\x00\\x00\\x00\\x00\\x00\\x00\\x00\\x00\\x00\\x00\\x00\\x00\\x00\\x00\\x00\\x00\\x00\\x00\\x00\\x00\\x00\\x00\\x00\\x00\\x00\\x00\\x00\\x00\\x00\\x00\\x00\\x00\\x00\\x00\\x00\\x00\\x00\\x00\\x00\\x00\\x00\\x00\\x00\\x00\\x00\\x00\\x00\\x00\\x00\\x00\\x00\\x00\\x00\\x00\\x00\\x00\\x00\\x00\\x00\\x00\\x00\\x00\\x00\\x00\\x00\\x00\\x00\\x00\\x00\\x00\\x00\\x00\\x00\\x00\\x00\\x00\\x00\\x00\\x00\\x00\\x00\\x00\\x00\\x00\\x00\\x00\\x00\\x00\\x00\\x00\\x00\\x00\\x00',\n",
       " 'status': 1}"
      ]
     },
     "execution_count": 189,
     "metadata": {},
     "output_type": "execute_result"
    }
   ],
   "source": [
    "contract = 'loans'\n",
    "update = contracts[contract]['SCORE']\n",
    "deploy_transaction = DeployTransactionBuilder()\\\n",
    "    .from_(wallet.get_address())\\\n",
    "    .to('cx14c12f31b8ca35198eaf862c45b43c5b75baadef')\\\n",
    "    .nid(NID)\\\n",
    "    .nonce(100)\\\n",
    "    .content_type(\"application/zip\")\\\n",
    "    .content(gen_deploy_data_content('./loans.zip'))\\\n",
    "    .build()\n",
    "\n",
    "# step_limit = icon_service.estimate_step(deploy_transaction) + 100000\n",
    "step_limit = 3000000000\n",
    "\n",
    "signed_transaction = SignedTransaction(deploy_transaction, wallet, step_limit)\n",
    "tx_hash = icon_service.send_transaction(signed_transaction)\n",
    "\n",
    "get_tx_result(tx_hash)\n"
   ]
  },
  {
   "cell_type": "markdown",
   "metadata": {},
   "source": [
    "## Set parameters"
   ]
  },
  {
   "cell_type": "code",
   "execution_count": null,
   "metadata": {},
   "outputs": [],
   "source": [
    "settings = [{'contract': 'sicx', 'method': 'setAdmin', 'params':{'_admin': contracts['staking']['SCORE']}},\n",
    "            {'contract': 'icd', 'method': 'setAdmin', 'params':{'_admin': contracts['loans']['SCORE']}},\n",
    "            {'contract': 'bal', 'method': 'setAdmin', 'params':{'_admin': wallet.get_address()}},\n",
    "            {'contract': 'loans', 'method': 'setAdmin', 'params':{'_admin': wallet.get_address()}},\n",
    "            {'contract': 'icd', 'method': 'set_oracle_address', 'params':{'_address': contracts['dummy_oracle']['SCORE']}},\n",
    "            {'contract': 'staking', 'method': 'setSicxAddress', 'params':{'_address': contracts['sicx']['SCORE']}},\n",
    "            {'contract': 'loans', 'method': 'set_dividends', 'params':{'_address': contracts['dividends']['SCORE']}},\n",
    "            {'contract': 'loans', 'method': 'set_reserve', 'params':{'_address': contracts['reserve_fund']['SCORE']}},\n",
    "            {'contract': 'reserve_fund', 'method': 'set_loans_score', 'params':{'_address': contracts['loans']['SCORE']}},\n",
    "            {'contract': 'reserve_fund', 'method': 'set_baln_token', 'params':{'_address': contracts['bal']['SCORE']}},\n",
    "            {'contract': 'reserve_fund', 'method': 'set_sicx_token', 'params':{'_address': contracts['sicx']['SCORE']}},\n",
    "            {'contract': 'sicx', 'method': 'set_staking_address', 'params':{'_address': contracts['staking']['SCORE']}},\n",
    "            {'contract': 'bal', 'method': 'mint', 'params':{'_amount': 10 * ICX}},\n",
    "            {'contract': 'bal', 'method': 'mintTo', 'params':{'_account': contracts['reserve_fund']['SCORE'], '_amount': 1000 * ICX}},\n",
    "            {'contract': 'loans', 'method': 'add_asset', 'params':{'_token_address': contracts['sicx']['SCORE'], 'is_active': 1, 'is_collateral': 1}},\n",
    "            {'contract': 'loans', 'method': 'add_asset', 'params':{'_token_address': contracts['icd']['SCORE'], 'is_active': 1, 'is_collateral': 0}},\n",
    "            {'contract': 'loans', 'method': 'add_asset', 'params':{'_token_address': contracts['bal']['SCORE'], 'is_active': 0, 'is_collateral': 1}},\n",
    "            {'contract': 'loans', 'method': 'toggle_loans_on', 'params':{}}]"
   ]
  },
  {
   "cell_type": "code",
   "execution_count": null,
   "metadata": {},
   "outputs": [],
   "source": [
    "for sett in settings:\n",
    "    print(f'\\n')\n",
    "    print(f'Calling {sett[\"method\"]}, with parameters {sett[\"params\"]} on the {sett[\"contract\"]} contract.')\n",
    "    transaction = CallTransactionBuilder()\\\n",
    "        .from_(wallet.get_address())\\\n",
    "        .to(contracts[sett['contract']]['SCORE'])\\\n",
    "        .value(0)\\\n",
    "        .step_limit(10000000)\\\n",
    "        .nid(NID)\\\n",
    "        .nonce(100)\\\n",
    "        .method(sett['method'])\\\n",
    "        .params(sett['params'])\\\n",
    "        .build()\n",
    "    signed_transaction = SignedTransaction(transaction, wallet)\n",
    "    tx_hash = icon_service.send_transaction(signed_transaction)\n",
    "    tx_hash\n",
    "    print(get_tx_result(tx_hash))"
   ]
  },
  {
   "cell_type": "markdown",
   "metadata": {},
   "source": [
    "## Run through read-only methods on all SCOREs"
   ]
  },
  {
   "cell_type": "markdown",
   "metadata": {},
   "source": [
    "### A single read-only method"
   ]
  },
  {
   "cell_type": "code",
   "execution_count": null,
   "metadata": {},
   "outputs": [],
   "source": [
    "params = {}\n",
    "call = CallBuilder().from_(wallet.get_address())\\\n",
    "                    .to(contracts['staking']['SCORE'])\\\n",
    "                    .method('getSicxAddress')\\\n",
    "                    .params(params)\\\n",
    "                    .build()\n",
    "result = icon_service.call(call)\n",
    "result\n",
    "# int(result, 0)"
   ]
  },
  {
   "cell_type": "code",
   "execution_count": null,
   "metadata": {},
   "outputs": [],
   "source": [
    "ro_methods = {\"core\": {\n",
    "                 \"dex\": [{\"method\": \"name\", \"params\": {}},\n",
    "                         {\"method\": \"get_reference_data\", \"params\": {\"base\": str, \"quote\": str}},\n",
    "                         {\"method\": \"getSicxAddress\", \"params\": {}},\n",
    "                         {\"method\": \"getDeposit\", \"params\": {\"_tokenAddress\": str, \"_user\": str}},\n",
    "                         {\"method\": \"getPoolId\", \"params\": {\"_token1Address\": str, \"_token2Address\": str}},\n",
    "                         {\"method\": \"getNonce\", \"params\": {}},\n",
    "                         {\"method\": \"getPoolTotal\", \"params\": {\"_pid\": int, \"_token\": str}},\n",
    "                         {\"method\": \"totalSupply\", \"params\": {\"_pid\": int}},\n",
    "                         {\"method\": \"balanceOf\", \"params\": {\"_owner\": str, \"_id\": int}},\n",
    "                         {\"method\": \"balanceOfBatch\", \"params\": {\"_owners\": List[str], \"_ids\": List[int]}},\n",
    "                         {\"method\": \"getFees\", \"params\": {}},\n",
    "                         {\"method\": \"getPoolBase\", \"params\": {\"_pid\": int}},\n",
    "                         {\"method\": \"getPoolQuote\", \"params\": {\"_pid\": int}},\n",
    "                         {\"method\": \"getPrice\", \"params\": {\"_pid\": int}},\n",
    "                         {\"method\": \"getInversePrice\", \"params\": {\"_pid\": int}},\n",
    "                         {\"method\": \"getICXBalance\", \"params\": {}},\n",
    "                         {\"method\": \"getICXWithdrawLock\", \"params\": {}}]\n",
    "                 \"dividends\": [{\"method\": \"name\", \"params\": {}},\n",
    "                               {\"method\": \"getLoansScore\", \"params\": {}},\n",
    "                               {\"method\": \"getBalances\", \"params\": {}}],\n",
    "                 \"governance\": [{\"method\": \"name\", \"params\": {}}],\n",
    "                 \"loans\": [{\"method\": \"name\", \"params\": {}},\n",
    "                           {\"method\": \"getDividends\", \"params\": {}},\n",
    "                           {\"method\": \"getReserve\", \"params\": {}},\n",
    "                           {\"method\": \"getOriginationFee\", \"params\": {}},\n",
    "                           {\"method\": \"getReplayBatchSize\", \"params\": {}},\n",
    "                           {\"method\": \"getRedeemMinimum\", \"params\": {}},\n",
    "                           {\"method\": \"getAssetTokens\", \"params\": {}},\n",
    "                           {\"method\": \"getCollateralTokens\", \"params\": {}},\n",
    "                           {\"method\": \"getTotalCollateral\", \"params\": {}},\n",
    "                           {\"method\": \"getAccountPositions\", \"params\": {\"_owner\": str}},\n",
    "                           {\"method\": \"getAvailableAssets\", \"params\": {}},\n",
    "                           {\"method\": \"assetCount\", \"params\": {}}],\n",
    "                 \"reserve_fund\": [{\"method\": \"name\", \"params\": {}},\n",
    "                                  {\"method\": \"getLoansScore\", \"params\": {}},\n",
    "                                  {\"method\": \"getBalnToken\", \"params\": {}},\n",
    "                                  {\"method\": \"getSicxToken\", \"params\": {}},\n",
    "                                  {\"method\": \"getBalances\", \"params\": {}}],\n",
    "                 \"rewards\": [{\"method\": \"name\", \"params\": {}},\n",
    "                             {\"method\": \"get_id\", \"params\": {}},\n",
    "                             {\"method\": \"get_rewards\", \"params\": {}},\n",
    "                             {\"method\": \"get_reward_data\", \"params\": {\"_reward\": str}}],\n",
    "                 \"staking\": [{\"method\": \"name\", \"params\": {}},\n",
    "                             {\"method\": \"getTodayRate\", \"params\": {}},\n",
    "                             {\"method\": \"getSicxAddress\", \"params\": {}},\n",
    "                             {\"method\": \"getTotalStake\", \"params\": {}},\n",
    "                             {\"method\": \"getLifetimeReward\", \"params\": {}},\n",
    "                             {\"method\": \"getTopPreps\", \"params\": {}},\n",
    "                             {\"method\": \"getUserUnstakeInfo\", \"params\": {}},\n",
    "                             {\"method\": \"getUnstakeAmount\", \"params\": {}}]},\n",
    "              \"token\": {\n",
    "                 \"bal\": [{\"method\": \"name\", \"params\": {}},\n",
    "                         {\"method\": \"symbol\", \"params\": {}},\n",
    "                         {\"method\": \"decimals\", \"params\": {}},\n",
    "                         {\"method\": \"totalSupply\", \"params\": {}},\n",
    "                         {\"method\": \"balanceOf\", \"params\": {\"_owner\": str}},\n",
    "                         {\"method\": \"getAdmin\", \"params\": {}},\n",
    "                         {\"method\": \"getPeg\", \"params\": {}},\n",
    "                         {\"method\": \"getOracle\", \"params\": {}},\n",
    "                         {\"method\": \"getMinInterval\", \"params\": {}},\n",
    "                         {\"method\": \"lastPriceInLoop\", \"params\": {}}],\n",
    "                 \"bwt\": [{\"method\": \"name\", \"params\": {}},\n",
    "                         {\"method\": \"symbol\", \"params\": {}},\n",
    "                         {\"method\": \"decimals\", \"params\": {}},\n",
    "                         {\"method\": \"totalSupply\", \"params\": {}},\n",
    "                         {\"method\": \"balanceOf\", \"params\": {\"_owner\": str}},\n",
    "                         {\"method\": \"getAdmin\", \"params\": {}}],\n",
    "                 \"icd\": [{\"method\": \"name\", \"params\": {}},\n",
    "                         {\"method\": \"symbol\", \"params\": {}},\n",
    "                         {\"method\": \"decimals\", \"params\": {}},\n",
    "                         {\"method\": \"totalSupply\", \"params\": {}},\n",
    "                         {\"method\": \"balanceOf\", \"params\": {\"_owner\": str}},\n",
    "                         {\"method\": \"getAdmin\", \"params\": {}},\n",
    "                         {\"method\": \"getPeg\", \"params\": {}},\n",
    "                         {\"method\": \"getOracle\", \"params\": {}},\n",
    "                         {\"method\": \"getMinInterval\", \"params\": {}},\n",
    "                         {\"method\": \"lastPriceInLoop\", \"params\": {}}],\n",
    "                 \"sicx\": [{\"method\": \"name\", \"params\": {}},\n",
    "                          {\"method\": \"symbol\", \"params\": {}},\n",
    "                          {\"method\": \"decimals\", \"params\": {}},\n",
    "                          {\"method\": \"totalSupply\", \"params\": {}},\n",
    "                          {\"method\": \"balanceOf\", \"params\": {\"_owner\": str}},\n",
    "                          {\"method\": \"getAdmin\", \"params\": {}},\n",
    "                          {\"method\": \"getPeg\", \"params\": {}},\n",
    "                          {\"method\": \"getOracle\", \"params\": {}},\n",
    "                          {\"method\": \"lastPriceInLoop\", \"params\": {}}]\n",
    "                 }\n",
    "             }"
   ]
  },
  {
   "cell_type": "code",
   "execution_count": 196,
   "metadata": {},
   "outputs": [],
   "source": [
    "with open('ro_methods.json', 'r') as f:\n",
    "    ro_methods = json.load(f)"
   ]
  },
  {
   "cell_type": "code",
   "execution_count": 197,
   "metadata": {},
   "outputs": [
    {
     "data": {
      "text/plain": [
       "{'core': {'dex': [{'method': 'name', 'params': {}},\n",
       "   {'method': 'getReferenceData', 'params': {'base': 'str', 'quote': 'str'}},\n",
       "   {'method': 'getSicxAddress', 'params': {}},\n",
       "   {'method': 'getDeposit',\n",
       "    'params': {'_tokenAddress': 'str', '_user': 'str'}},\n",
       "   {'method': 'getPoolId',\n",
       "    'params': {'_token1Address': 'str', '_token2Address': 'str'}},\n",
       "   {'method': 'getNonce', 'params': {}},\n",
       "   {'method': 'getPoolTotal', 'params': {'_pid': 'int', '_token': 'str'}},\n",
       "   {'method': 'totalSupply', 'params': {'_pid': 'int'}},\n",
       "   {'method': 'balanceOf', 'params': {'_owner': 'str', '_id': 'int'}},\n",
       "   {'method': 'balanceOfBatch',\n",
       "    'params': {'_owners': 'List[str]', '_ids': 'List[int]'}},\n",
       "   {'method': 'getFees', 'params': {}},\n",
       "   {'method': 'getPoolBase', 'params': {'_pid': 'int'}},\n",
       "   {'method': 'getPoolQuote', 'params': {'_pid': 'int'}},\n",
       "   {'method': 'getPrice', 'params': {'_pid': 'int'}},\n",
       "   {'method': 'getInversePrice', 'params': {'_pid': 'int'}},\n",
       "   {'method': 'getICXBalance', 'params': {}},\n",
       "   {'method': 'getICXWithdrawLock', 'params': {}}],\n",
       "  'dividends': [{'method': 'name', 'params': {}},\n",
       "   {'method': 'getLoansScore', 'params': {}},\n",
       "   {'method': 'getBalances', 'params': {}}],\n",
       "  'governance': [{'method': 'name', 'params': {}}],\n",
       "  'loans': [{'method': 'name', 'params': {}},\n",
       "   {'method': 'getDividends', 'params': {}},\n",
       "   {'method': 'getReserve', 'params': {}},\n",
       "   {'method': 'getOriginationFee', 'params': {}},\n",
       "   {'method': 'getReplayBatchSize', 'params': {}},\n",
       "   {'method': 'getRedeemMinimum', 'params': {}},\n",
       "   {'method': 'getAssetTokens', 'params': {}},\n",
       "   {'method': 'getCollateralTokens', 'params': {}},\n",
       "   {'method': 'getTotalCollateral', 'params': {}},\n",
       "   {'method': 'getAccountPositions', 'params': {'_owner': 'str'}},\n",
       "   {'method': 'getAvailableAssets', 'params': {}},\n",
       "   {'method': 'assetCount', 'params': {}}],\n",
       "  'reserve_fund': [{'method': 'name', 'params': {}},\n",
       "   {'method': 'getLoansScore', 'params': {}},\n",
       "   {'method': 'getBalnToken', 'params': {}},\n",
       "   {'method': 'getSicxToken', 'params': {}},\n",
       "   {'method': 'getBalances', 'params': {}}],\n",
       "  'rewards': [{'method': 'name', 'params': {}},\n",
       "   {'method': 'get_id', 'params': {}},\n",
       "   {'method': 'get_rewards', 'params': {}},\n",
       "   {'method': 'get_reward_data', 'params': {'_reward': 'str'}}],\n",
       "  'staking': [{'method': 'name', 'params': {}},\n",
       "   {'method': 'getTodayRate', 'params': {}},\n",
       "   {'method': 'getSicxAddress', 'params': {}},\n",
       "   {'method': 'getTotalStake', 'params': {}},\n",
       "   {'method': 'getLifetimeReward', 'params': {}},\n",
       "   {'method': 'getTopPreps', 'params': {}},\n",
       "   {'method': 'getUserUnstakeInfo', 'params': {}},\n",
       "   {'method': 'getUnstakeAmount', 'params': {}}]},\n",
       " 'token': {'bal': [{'method': 'name', 'params': {}},\n",
       "   {'method': 'symbol', 'params': {}},\n",
       "   {'method': 'decimals', 'params': {}},\n",
       "   {'method': 'totalSupply', 'params': {}},\n",
       "   {'method': 'balanceOf', 'params': {'_owner': 'str'}},\n",
       "   {'method': 'getAdmin', 'params': {}},\n",
       "   {'method': 'getPeg', 'params': {}},\n",
       "   {'method': 'getOracle', 'params': {}},\n",
       "   {'method': 'getMinInterval', 'params': {}},\n",
       "   {'method': 'lastPriceInLoop', 'params': {}}],\n",
       "  'bwt': [{'method': 'name', 'params': {}},\n",
       "   {'method': 'symbol', 'params': {}},\n",
       "   {'method': 'decimals', 'params': {}},\n",
       "   {'method': 'totalSupply', 'params': {}},\n",
       "   {'method': 'balanceOf', 'params': {'_owner': 'str'}},\n",
       "   {'method': 'getAdmin', 'params': {}}],\n",
       "  'icd': [{'method': 'name', 'params': {}},\n",
       "   {'method': 'symbol', 'params': {}},\n",
       "   {'method': 'decimals', 'params': {}},\n",
       "   {'method': 'totalSupply', 'params': {}},\n",
       "   {'method': 'balanceOf', 'params': {'_owner': 'str'}},\n",
       "   {'method': 'getAdmin', 'params': {}},\n",
       "   {'method': 'getPeg', 'params': {}},\n",
       "   {'method': 'getOracle', 'params': {}},\n",
       "   {'method': 'getMinInterval', 'params': {}},\n",
       "   {'method': 'lastPriceInLoop', 'params': {}}],\n",
       "  'sicx': [{'method': 'name', 'params': {}},\n",
       "   {'method': 'symbol', 'params': {}},\n",
       "   {'method': 'decimals', 'params': {}},\n",
       "   {'method': 'totalSupply', 'params': {}},\n",
       "   {'method': 'balanceOf', 'params': {'_owner': 'str'}},\n",
       "   {'method': 'getAdmin', 'params': {}},\n",
       "   {'method': 'getPeg', 'params': {}},\n",
       "   {'method': 'getOracle', 'params': {}},\n",
       "   {'method': 'lastPriceInLoop', 'params': {}}]}}"
      ]
     },
     "execution_count": 197,
     "metadata": {},
     "output_type": "execute_result"
    }
   ],
   "source": [
    "ro_methods"
   ]
  },
  {
   "cell_type": "code",
   "execution_count": 200,
   "metadata": {},
   "outputs": [
    {
     "data": {
      "text/plain": [
       "18628.622629322395"
      ]
     },
     "execution_count": 200,
     "metadata": {},
     "output_type": "execute_result"
    }
   ],
   "source": [
    "\n",
    "import requests\n",
    "import json\n",
    "from hashlib import sha3_256\n",
    "BLOCK = 28693695\n",
    "TX_HASH = '0x053ba8fc46b2519a084e5d3fa1b3d8c31b358e35389be4f646c2f86f64ce22ab'\n",
    "\n",
    "rpc_dict = {\n",
    "            'jsonrpc': '2.0',\n",
    "            'method': 'icx_getTransactionByHash',\n",
    "            'id': 1234,\n",
    "            'params': {'txHash': TX_HASH}\n",
    "           }\n",
    "r = requests.post(\"https://ctz.solidwallet.io/api/v3\", \n",
    "                  data=json.dumps(rpc_dict))\n",
    "int(json.loads(r.text)['result']['timestamp'], 0) / 86400000000"
   ]
  },
  {
   "cell_type": "code",
   "execution_count": 201,
   "metadata": {},
   "outputs": [
    {
     "data": {
      "text/plain": [
       "14.943103737480001"
      ]
     },
     "execution_count": 201,
     "metadata": {},
     "output_type": "execute_result"
    }
   ],
   "source": [
    "24 * .622629322395"
   ]
  },
  {
   "cell_type": "code",
   "execution_count": null,
   "metadata": {},
   "outputs": [],
   "source": [
    "ro_methods = {\"loans\": [\"name\", \"getAvailableAssets\", \"assetCount\", \"getCollateralTokens\", \"getTotalCollateral\"],\n",
    "              \"staking\": [\"name\", \"getSicxAddress\", \"getTodayRate\"],\n",
    "              \"sicx\": [\"name\", \"symbol\", \"decimals\", \"totalSupply\", \"getAdmin\", \"lastPriceInLoop\"],\n",
    "              \"icd\": [\"name\", \"symbol\", \"decimals\", \"totalSupply\", \"getAdmin\"],\n",
    "              \"bal\": [\"name\", \"symbol\", \"decimals\", \"totalSupply\", \"getAdmin\"]\n",
    "              }"
   ]
  },
  {
   "cell_type": "code",
   "execution_count": 180,
   "metadata": {},
   "outputs": [
    {
     "name": "stdout",
     "output_type": "stream",
     "text": [
      "\n",
      "SCORE: loans\n",
      "Address: cx14c12f31b8ca35198eaf862c45b43c5b75baadef\n",
      "name: BalancedLoans\n",
      "getAvailableAssets: {'sICX': {'symbol': 'sICX', 'address': 'cxbc9fad62310a119a48d1e959d552d9c4b4ce4f03', 'peg': 'sICX', 'added': '0x5b8e733047cf2', 'is_collateral': '0x1', 'active': '0x1'}, 'ICD': {'symbol': 'ICD', 'address': 'cx2df2231fe5c090ee3e6135b816f2e487c77b306d', 'peg': 'USD', 'added': '0x5b8e7332306ae', 'is_collateral': '0x0', 'active': '0x1', 'bad_debt': '0xad78ebc5ac6200000', 'liquidation_pool': '0x248f1c2fa4e3087a56096329820000000'}}\n",
      "assetCount: 0x3\n",
      "getCollateralTokens: {'sICX': 'cxbc9fad62310a119a48d1e959d552d9c4b4ce4f03', 'BALN': 'cxaa73e0a90c6199ba79262c8cf16473f94001934c'}\n",
      "getTotalCollateral: 0x5abb68ab2b980f9f7e\n",
      "\n",
      "SCORE: staking\n",
      "Address: cxff8c6025fb7eed7197cef6f7fc7993eb2abd7c75\n",
      "name: Staking\n",
      "getSicxAddress: cxbc9fad62310a119a48d1e959d552d9c4b4ce4f03\n",
      "getTodayRate: 0xde2c055fdd24880\n",
      "\n",
      "SCORE: sicx\n",
      "Address: cxbc9fad62310a119a48d1e959d552d9c4b4ce4f03\n",
      "name: StakedICX\n",
      "symbol: sICX\n",
      "decimals: 18\n",
      "totalSupply: 1672.7518035790981\n",
      "getAdmin: cxff8c6025fb7eed7197cef6f7fc7993eb2abd7c75\n",
      "lastPriceInLoop: 0xde2c055fdd24880\n",
      "\n",
      "SCORE: icd\n",
      "Address: cx2df2231fe5c090ee3e6135b816f2e487c77b306d\n",
      "name: ICONDollar\n",
      "symbol: ICD\n",
      "decimals: 18\n",
      "totalSupply: 235.4\n",
      "getAdmin: cx14c12f31b8ca35198eaf862c45b43c5b75baadef\n",
      "\n",
      "SCORE: bal\n",
      "Address: cxaa73e0a90c6199ba79262c8cf16473f94001934c\n",
      "name: BalanceToken\n",
      "symbol: BALN\n",
      "decimals: 18\n",
      "totalSupply: 1010.0\n",
      "getAdmin: hxe7af5fcfd8dfc67530a01a0e403882687528dfcb\n"
     ]
    }
   ],
   "source": [
    "results = {}\n",
    "for score in ro_methods.keys():\n",
    "    print()\n",
    "    print(f'SCORE: {score}')\n",
    "    print(f'Address: {contracts[score][\"SCORE\"]}')\n",
    "    results[score] = {}\n",
    "    for method in ro_methods[score]:\n",
    "        call = CallBuilder().from_(wallet.get_address())\\\n",
    "                            .to(contracts[score]['SCORE'])\\\n",
    "                            .method(method)\\\n",
    "                            .build()\n",
    "        result = icon_service.call(call)\n",
    "        if method in ['totalSupply', 'decimals', 'get_total_collateral', 'get_rate']:\n",
    "            result = int(result, 0)\n",
    "            if method in ['totalSupply', 'get_total_collateral', 'get_rate']:\n",
    "                result = result / ICX\n",
    "        print(f'{method}: {result}')\n",
    "        results[score][method] = result"
   ]
  },
  {
   "cell_type": "markdown",
   "metadata": {},
   "source": [
    "## Deposit ICX and Mint ICD Loan"
   ]
  },
  {
   "cell_type": "code",
   "execution_count": 191,
   "metadata": {},
   "outputs": [
    {
     "name": "stderr",
     "output_type": "stream",
     "text": [
      "Raised JSONRPCException while returning the custom response. Error message: {'code': -32602, 'message': 'Pending transaction'}\n"
     ]
    },
    {
     "name": "stdout",
     "output_type": "stream",
     "text": [
      "Retrying in 1 seconds...\n",
      "{'txHash': '0x4a16fc84e7a3e8365546ad70e99f16de89a9ceb8d8b4634861390ecc285fd53c', 'blockHeight': 421580, 'blockHash': '0x75a30e244d93d226afecf1eb7a32b427d71c07860e0b3577184170329cea573a', 'txIndex': 1, 'to': 'cxff8c6025fb7eed7197cef6f7fc7993eb2abd7c75', 'stepUsed': 820980, 'stepPrice': 10000000000, 'cumulativeStepUsed': 820980, 'eventLogs': [{'scoreAddress': 'cx2df2231fe5c090ee3e6135b816f2e487c77b306d', 'indexed': ['OraclePrice(str,int,int)', 'ICXUSD', '0x2454d8dcb2cf44bb', '0x5b8f6a87fcfb3'], 'data': []}, {'scoreAddress': 'cx2df2231fe5c090ee3e6135b816f2e487c77b306d', 'indexed': ['Transfer(Address,Address,int,bytes)', 'cx2df2231fe5c090ee3e6135b816f2e487c77b306d', 'hxe7af5fcfd8dfc67530a01a0e403882687528dfcb', '0x22b1c8c1227a00000'], 'data': ['0x4e6f6e65']}, {'scoreAddress': 'cx2df2231fe5c090ee3e6135b816f2e487c77b306d', 'indexed': ['Mint(Address,int,bytes)', 'hxe7af5fcfd8dfc67530a01a0e403882687528dfcb'], 'data': ['0x22b1c8c1227a00000', '0x4e6f6e65']}, {'scoreAddress': 'cx14c12f31b8ca35198eaf862c45b43c5b75baadef', 'indexed': ['OriginateLoan(Address,str,int,str)', 'hxe7af5fcfd8dfc67530a01a0e403882687528dfcb', 'ICD', '0x22b1c8c1227a00000'], 'data': ['Loan of 40.0 ICD from Balanced.']}, {'scoreAddress': 'cx2df2231fe5c090ee3e6135b816f2e487c77b306d', 'indexed': ['Transfer(Address,Address,int,bytes)', 'cx2df2231fe5c090ee3e6135b816f2e487c77b306d', 'cx2771c23c7a11cb9804d8c03347db955a632f366c', '0x58d15e176280000'], 'data': ['0x4e6f6e65']}, {'scoreAddress': 'cx2df2231fe5c090ee3e6135b816f2e487c77b306d', 'indexed': ['Mint(Address,int,bytes)', 'cx2771c23c7a11cb9804d8c03347db955a632f366c'], 'data': ['0x58d15e176280000', '0x4e6f6e65']}, {'scoreAddress': 'cx14c12f31b8ca35198eaf862c45b43c5b75baadef', 'indexed': ['FeePaid(str,int,str,str)', 'ICD', '0x58d15e176280000', 'origination'], 'data': ['']}, {'scoreAddress': 'cxbc9fad62310a119a48d1e959d552d9c4b4ce4f03', 'indexed': ['Transfer(Address,Address,int,bytes)', 'cxbc9fad62310a119a48d1e959d552d9c4b4ce4f03', 'cx14c12f31b8ca35198eaf862c45b43c5b75baadef', '0x2b560be1a67b63d80b'], 'data': ['0x7b226d6574686f64223a20225f6465706f7369745f616e645f626f72726f77222c2022706172616d73223a207b225f6173736574223a2022494344222c20225f616d6f756e74223a2034303030303030303030303030303030303030307d7d']}, {'scoreAddress': 'cxbc9fad62310a119a48d1e959d552d9c4b4ce4f03', 'indexed': ['Mint(Address,int,bytes)', 'cx14c12f31b8ca35198eaf862c45b43c5b75baadef'], 'data': ['0x2b560be1a67b63d80b', '0x7b226d6574686f64223a20225f6465706f7369745f616e645f626f72726f77222c2022706172616d73223a207b225f6173736574223a2022494344222c20225f616d6f756e74223a2034303030303030303030303030303030303030307d7d']}, {'scoreAddress': 'cxff8c6025fb7eed7197cef6f7fc7993eb2abd7c75', 'indexed': ['TokenTransfer(Address,int,str)', 'cx14c12f31b8ca35198eaf862c45b43c5b75baadef', '0x2b560be1a67b63d80b'], 'data': ['799.4102925866673 sICX minted to cx14c12f31b8ca35198eaf862c45b43c5b75baadef']}], 'logsBloom': b'\\x00\\x00\\x00\\x03\\x00\\xa0\\x08 \\x00\\x10\\x80 \\x00\\x00\\x00\\x00\\x00\\x00\\x00\\x00 \\x00\\x00\\x00\\x00\\x00\\x00\\x00\\x00\\x00\\x00\\x00\\x00\\x10\\x00\\x00\\x00\\x08\\x00\\x00\\x00\\x00\\x01\\x00@\\x00\\x00\\x00\\x10\\x00\\x00\\x00\\x00\\x00\\x00\\x00\\x10\\x00\\x01\\x08\\x00\\x00\\x00\\x00\\x10\\x10\\x00\\x00\\x08\\x00\\x00\\x00\\x00\\x00\\x00\\x00\\x00\\x00\\x00\\x00\\x00\\x00\\x00\\x00\\x00\\x00\\x00\\x00\\x00\\x00@ \\x00\\x02\\x00\\x00\\x00\\x00\\x01\\x00\\x00\\x00\\x02\\x00 \\x00\\x00\\x00\\x81\\x80\\x00\\x08\\x00\\x00\\x00\\x00\\x10\\x008\\x00\\x80\\x08\\x00\\x00\\x00\\x00\\x00\\x00\\x00\\x00\\x00\\x04\\x00\\x00\\x00\\x00\\x00P\\x08\\x00\\x00\\x00\\x00\\x00@\\x00@\\x00\\x00\\x00\\x00\\x00\\x08\\x00\\x00\\x00\\x00\\x10B \\x00\\x00\\x00@\\x00\\x00\\x00\\x00\\x10\\x00\\x80\\x00\\x00\\x00\\x01\\x04 \\x00\\x04\\x00\\x00\\x00\\x00H\\x00\\x00\\x00\\x01@\\x00\\x10\\x00\\x00\\x01\\x08\\x00\\x00\\x00\\x00 \\x00\\x04\\x00\\x00\\x00\\x00 b\\x00\\x00\\x02\\x01\\x01A\\x00\\x00\\x88\\x00\\x00\\x00\\x08\\x00\\x00\\x04\\x00\\x00\\x00\\x02\\x00\\x00\\x00\\x00\\x00\\x00\\x00\\x00\\x00\\x00\\x00(\\x00\\x00\\x00 \\x02\\x00\\x00\\x00\\x00 \\x00 \\x00\\x04\\x00\\x08', 'status': 1}\n"
     ]
    }
   ],
   "source": [
    "data = \"{\\\"method\\\": \\\"_deposit_and_borrow\\\", \\\"params\\\": {\\\"_asset\\\": \\\"ICD\\\", \\\"_amount\\\": 40000000000000000000}}\".encode(\"utf-8\")\n",
    "params = {'_to': contracts['loans']['SCORE'], '_data': data}\n",
    "transaction = CallTransactionBuilder()\\\n",
    "    .from_(wallet.get_address())\\\n",
    "    .to(contracts['staking']['SCORE'])\\\n",
    "    .value(800 * ICX)\\\n",
    "    .step_limit(10000000)\\\n",
    "    .nid(NID)\\\n",
    "    .nonce(100)\\\n",
    "    .method(\"addCollateral\")\\\n",
    "    .params(params)\\\n",
    "    .build()\n",
    "signed_transaction = SignedTransaction(transaction, wallet)\n",
    "tx_hash = icon_service.send_transaction(signed_transaction)\n",
    "tx_hash\n",
    "print(get_tx_result(tx_hash))"
   ]
  },
  {
   "cell_type": "markdown",
   "metadata": {},
   "source": [
    "### Just deposit collateral"
   ]
  },
  {
   "cell_type": "code",
   "execution_count": 192,
   "metadata": {},
   "outputs": [
    {
     "name": "stderr",
     "output_type": "stream",
     "text": [
      "Raised JSONRPCException while returning the custom response. Error message: {'code': -32602, 'message': 'Pending transaction'}\n"
     ]
    },
    {
     "name": "stdout",
     "output_type": "stream",
     "text": [
      "Retrying in 1 seconds...\n",
      "{'txHash': '0xfd35c77dfcf6ae91bf871fefcbeedff5b240cd38c0335b4b11f2d7fb8ce206cd', 'blockHeight': 421596, 'blockHash': '0xe438e7fa5a0c983e7717480e9a7cb82c963315203dcddbd2b37ffcfb3ac46ee6', 'txIndex': 1, 'to': 'cxff8c6025fb7eed7197cef6f7fc7993eb2abd7c75', 'stepUsed': 441140, 'stepPrice': 10000000000, 'cumulativeStepUsed': 441140, 'eventLogs': [{'scoreAddress': 'cxbc9fad62310a119a48d1e959d552d9c4b4ce4f03', 'indexed': ['Transfer(Address,Address,int,bytes)', 'cxbc9fad62310a119a48d1e959d552d9c4b4ce4f03', 'cx14c12f31b8ca35198eaf862c45b43c5b75baadef', '0x1a006d8763e3a24e6'], 'data': ['0x7b226d6574686f64223a20225f6465706f7369745f616e645f626f72726f77222c2022706172616d73223a207b225f6173736574223a2022222c20225f616d6f756e74223a20307d7d']}, {'scoreAddress': 'cxbc9fad62310a119a48d1e959d552d9c4b4ce4f03', 'indexed': ['Mint(Address,int,bytes)', 'cx14c12f31b8ca35198eaf862c45b43c5b75baadef'], 'data': ['0x1a006d8763e3a24e6', '0x7b226d6574686f64223a20225f6465706f7369745f616e645f626f72726f77222c2022706172616d73223a207b225f6173736574223a2022222c20225f616d6f756e74223a20307d7d']}, {'scoreAddress': 'cxff8c6025fb7eed7197cef6f7fc7993eb2abd7c75', 'indexed': ['TokenTransfer(Address,int,str)', 'cx14c12f31b8ca35198eaf862c45b43c5b75baadef', '0x1a006d8763e3a24e6'], 'data': ['29.977885972000024 sICX minted to cx14c12f31b8ca35198eaf862c45b43c5b75baadef']}], 'logsBloom': b'\\x00\\x00\\x00\\x01\\x01\\x00\\x00\\x00\\x00\\x00\\x00 \\x00\\x00\\x00\\x00\\x00\\x00\\x00\\x00\\x00\\x00\\x00\\x00\\x00\\x00\\x00\\x00\\x00\\x00\\x00\\x00\\x00\\x00\\x00\\x00\\x00\\x00\\x00\\x00\\x00\\x00\\x00\\x00@\\x10\\x00\\x00\\x00\\x00\\x00\\x00\\x00\\x00\\x00\\x00\\x10\\x00\\x00\\x00\\x00\\x00\\x00\\x00\\x00\\x00\\x00\\x00\\x00\\x00\\x00\\x00\\x00\\x00\\x00\\x00\\x00\\x00\\x00\\x00\\x00\\x00\\x00\\x00\\x00\\x00\\x00\\x00\\x00\\x00@\\x00\\x00\\x00\\x00\\x00\\x00\\x00\\x00\\x00\\x00\\x00\\x00\\x00\\x00\\x00\\x00\\x00\\x80\\x80\\x00\\x00\\x00\\x00\\x00\\x00\\x10\\x00\\x04\\x00\\x00\\x08\\x00\\x00\\x00\\x00\\x00\\x00\\x00\\x00\\x00\\x00\\x00\\x00\\x00\\x00\\x00\\x00\\x00\\x00\\x00\\x00\\x00\\x00@\\x00\\x00\\x00\\x00 \\x00\\x00\\x00\\x00\\x00\\x00\\x00\\x10\\x00\\x00\\x00\\x00\\x00\\x00\\x00\\x00\\x00 \\x00\\x00\\x80\\x00\\x00\\x00\\x00\\x00\\x00\\x00\\x00\\x00\\x00\\x00\\x00\\x00\\x00\\x00\\x00\\x00\\x00\\x00\\x00\\x00\\x00\\x00\\x08\\x00\\x00\\x00\\x00\\x00\\x00\\x00\\x00\\x00\\x00\\x00\\x00`\\x00\\x00\\x00\\x00\\x01A\\x00\\x00\\x00\\x00\\x00\\x00\\x08\\x00\\x00\\x04\\x00\\x00\\x00\\x02\\x00\\x00\\x00\\x00\\x00\\x00\\x00\\x00\\x00\\x00\\x00 \\x00\\x00\\x00 \\x00\\x00\\x00\\x00\\x00\\x00\\x00\\x04\\x00\\x04\\x00\\x00', 'status': 1}\n"
     ]
    }
   ],
   "source": [
    "data = \"{\\\"method\\\": \\\"_deposit_and_borrow\\\", \\\"params\\\": {\\\"_asset\\\": \\\"\\\", \\\"_amount\\\": 0}}\".encode(\"utf-8\")\n",
    "params = {'_to': contracts['loans']['SCORE'], '_data': data}\n",
    "transaction = CallTransactionBuilder()\\\n",
    "    .from_(wallet.get_address())\\\n",
    "    .to(contracts['staking']['SCORE'])\\\n",
    "    .value(30 * ICX)\\\n",
    "    .step_limit(10000000)\\\n",
    "    .nid(NID)\\\n",
    "    .nonce(100)\\\n",
    "    .method(\"addCollateral\")\\\n",
    "    .params(params)\\\n",
    "    .build()\n",
    "signed_transaction = SignedTransaction(transaction, wallet)\n",
    "tx_hash = icon_service.send_transaction(signed_transaction)\n",
    "tx_hash\n",
    "print(get_tx_result(tx_hash))"
   ]
  },
  {
   "cell_type": "markdown",
   "metadata": {},
   "source": [
    "### Repay Some ICD"
   ]
  },
  {
   "cell_type": "code",
   "execution_count": null,
   "metadata": {},
   "outputs": [],
   "source": [
    "data = \"{\\\"method\\\": \\\"_repay_loan\\\", \\\"params\\\": {}}\".encode(\"utf-8\")\n",
    "params = {'_to': contracts['loans']['SCORE'], '_value': 5 * ICX, '_data': data}\n",
    "transaction = CallTransactionBuilder()\\\n",
    "    .from_(wallet.get_address())\\\n",
    "    .to(contracts['icd']['SCORE'])\\\n",
    "    .value(0)\\\n",
    "    .step_limit(10000000)\\\n",
    "    .nid(NID)\\\n",
    "    .nonce(100)\\\n",
    "    .method(\"transfer\")\\\n",
    "    .params(params)\\\n",
    "    .build()\n",
    "signed_transaction = SignedTransaction(transaction, wallet)\n",
    "tx_hash = icon_service.send_transaction(signed_transaction)\n",
    "tx_hash\n",
    "print(get_tx_result(tx_hash))"
   ]
  },
  {
   "cell_type": "markdown",
   "metadata": {},
   "source": [
    "### Withdraw Some Collateral"
   ]
  },
  {
   "cell_type": "code",
   "execution_count": null,
   "metadata": {},
   "outputs": [],
   "source": [
    "params = {'_value': 5 * ICX}\n",
    "transaction = CallTransactionBuilder()\\\n",
    "    .from_(wallet.get_address())\\\n",
    "    .to(contracts['loans']['SCORE'])\\\n",
    "    .value(0)\\\n",
    "    .step_limit(10000000)\\\n",
    "    .nid(NID)\\\n",
    "    .nonce(100)\\\n",
    "    .method(\"withdraw_collateral\")\\\n",
    "    .params(params)\\\n",
    "    .build()\n",
    "signed_transaction = SignedTransaction(transaction, wallet)\n",
    "tx_hash = icon_service.send_transaction(signed_transaction)\n",
    "tx_hash\n",
    "print(get_tx_result(tx_hash))"
   ]
  },
  {
   "cell_type": "markdown",
   "metadata": {},
   "source": [
    "### Test Liquidation"
   ]
  },
  {
   "cell_type": "code",
   "execution_count": null,
   "metadata": {},
   "outputs": [],
   "source": [
    "# Deposit collateral to fresh wallet\n",
    "data = \"{\\\"method\\\": \\\"_deposit_and_borrow\\\", \\\"params\\\": {\\\"_asset\\\": \\\"\\\", \\\"_amount\\\": 0}}\".encode(\"utf-8\")\n",
    "params = {'_to': contracts['loans']['SCORE'], '_data': data}\n",
    "transaction = CallTransactionBuilder()\\\n",
    "    .from_(btest_wallet.get_address())\\\n",
    "    .to(contracts['staking']['SCORE'])\\\n",
    "    .value(782769 * ICX // 1000)\\\n",
    "    .step_limit(10000000)\\\n",
    "    .nid(NID)\\\n",
    "    .nonce(100)\\\n",
    "    .method(\"addCollateral\")\\\n",
    "    .params(params)\\\n",
    "    .build()\n",
    "signed_transaction = SignedTransaction(transaction, btest_wallet)\n",
    "tx_hash = icon_service.send_transaction(signed_transaction)\n",
    "tx_hash\n",
    "print(get_tx_result(tx_hash))"
   ]
  },
  {
   "cell_type": "markdown",
   "metadata": {},
   "source": [
    "#### Update the loans SCORE to add a loan of ICD to the Balanced test wallet\n",
    "Code in the on_update() method will mint and add the ICD. Adds an undercollateralized amount of ICD, 200 ICD."
   ]
  },
  {
   "cell_type": "code",
   "execution_count": null,
   "metadata": {},
   "outputs": [],
   "source": [
    "params = {'_owner': btest_wallet.get_address()}\n",
    "call = CallBuilder().from_(wallet.get_address())\\\n",
    "                    .to(contracts['loans']['SCORE'])\\\n",
    "                    .method('getAccountPositions')\\\n",
    "                    .params(params)\\\n",
    "                    .build()\n",
    "result = icon_service.call(call)\n",
    "result"
   ]
  },
  {
   "cell_type": "code",
   "execution_count": null,
   "metadata": {},
   "outputs": [],
   "source": [
    "params = {'_position': btest_wallet.get_address()}\n",
    "transaction = CallTransactionBuilder()\\\n",
    "    .from_(wallet.get_address())\\\n",
    "    .to(contracts['loans']['SCORE'])\\\n",
    "    .value(0)\\\n",
    "    .step_limit(10000000)\\\n",
    "    .nid(NID)\\\n",
    "    .nonce(100)\\\n",
    "    .method(\"liquidate\")\\\n",
    "    .params(params)\\\n",
    "    .build()\n",
    "signed_transaction = SignedTransaction(transaction, wallet)\n",
    "tx_hash = icon_service.send_transaction(signed_transaction)\n",
    "tx_hash\n",
    "print(get_tx_result(tx_hash))"
   ]
  },
  {
   "cell_type": "code",
   "execution_count": null,
   "metadata": {},
   "outputs": [],
   "source": [
    "params = {'_owner': btest_wallet.get_address()}\n",
    "call = CallBuilder().from_(wallet.get_address())\\\n",
    "                    .to(contracts['loans']['SCORE'])\\\n",
    "                    .method('getAccountPositions')\\\n",
    "                    .params(params)\\\n",
    "                    .build()\n",
    "result = icon_service.call(call)\n",
    "result"
   ]
  },
  {
   "cell_type": "code",
   "execution_count": null,
   "metadata": {},
   "outputs": [],
   "source": [
    "params = {'_owner': btest_wallet.get_address()}\n",
    "call = CallBuilder().from_(wallet.get_address())\\\n",
    "                    .to(contracts['icd']['SCORE'])\\\n",
    "                    .method('balanceOf')\\\n",
    "                    .params(params)\\\n",
    "                    .build()\n",
    "result = icon_service.call(call)\n",
    "int(result, 0) // 10**18"
   ]
  },
  {
   "cell_type": "code",
   "execution_count": null,
   "metadata": {},
   "outputs": [],
   "source": []
  }
 ],
 "metadata": {
  "kernelspec": {
   "display_name": "Python 3",
   "language": "python",
   "name": "python3"
  },
  "language_info": {
   "codemirror_mode": {
    "name": "ipython",
    "version": 3
   },
   "file_extension": ".py",
   "mimetype": "text/x-python",
   "name": "python",
   "nbconvert_exporter": "python",
   "pygments_lexer": "ipython3",
   "version": "3.6.10"
  }
 },
 "nbformat": 4,
 "nbformat_minor": 4
}
