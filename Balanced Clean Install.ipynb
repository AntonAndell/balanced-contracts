{
 "cells": [
  {
   "cell_type": "code",
   "execution_count": 105,
   "metadata": {},
   "outputs": [
    {
     "data": {
      "text/html": [
       "<style>.container { width:100% !important; }</style>"
      ],
      "text/plain": [
       "<IPython.core.display.HTML object>"
      ]
     },
     "metadata": {},
     "output_type": "display_data"
    }
   ],
   "source": [
    "from IPython.core.display import display, HTML\n",
    "display(HTML(\"<style>.container { width:100% !important; }</style>\"))"
   ]
  },
  {
   "cell_type": "markdown",
   "metadata": {},
   "source": [
    "## Set Up Environment"
   ]
  },
  {
   "cell_type": "code",
   "execution_count": 215,
   "metadata": {},
   "outputs": [],
   "source": [
    "network = \"custom\"  # set this to one of mainnet, yeouido, euljiro, pagoda, or custom\n",
    "contracts_file_custom = 'contracts_20210106025209.pkl'\n",
    "\n",
    "connections = {\n",
    "\"mainnet\": {\"iconservice\": \"https://ctz.solidwallet.io\",       \"nid\": 1},\n",
    "\"yeouido\": {\"iconservice\": \"https://bicon.net.solidwallet.io\", \"nid\": 3},\n",
    "\"euljiro\": {\"iconservice\": \"https://test-ctz.solidwallet.io\",  \"nid\": 2},\n",
    "\"pagoda\":  {\"iconservice\": \"https://zicon.net.solidwallet.io\", \"nid\":80},\n",
    "\"custom\":  {\"iconservice\": \"http://52.53.175.151:9000/\",       \"nid\": 3}}\n",
    "\n",
    "env = connections[network]"
   ]
  },
  {
   "cell_type": "code",
   "execution_count": 216,
   "metadata": {},
   "outputs": [],
   "source": [
    "from iconsdk.exception import JSONRPCException\n",
    "from iconsdk.libs.in_memory_zip import gen_deploy_data_content\n",
    "from iconsdk.icon_service import IconService\n",
    "from iconsdk.providers.http_provider import HTTPProvider\n",
    "from iconsdk.builder.transaction_builder import CallTransactionBuilder, TransactionBuilder, DeployTransactionBuilder\n",
    "from iconsdk.builder.call_builder import CallBuilder\n",
    "from iconsdk.signed_transaction import SignedTransaction\n",
    "from iconsdk.wallet.wallet import KeyWallet\n",
    "from iconsdk.utils.convert_type import convert_hex_str_to_int\n",
    "from repeater import retry\n",
    "from shutil import make_archive\n",
    "import pickle as pkl\n",
    "from datetime import datetime\n",
    "import json\n",
    "import os\n",
    "\n",
    "ICX = 1000000000000000000 # 10**18\n",
    "GOVERNANCE_ADDRESS = \"cx0000000000000000000000000000000000000000\"\n",
    "ORACLE = \"cx61a36e5d10412e03c907a507d1e8c6c3856d9964\"\n",
    "\n",
    "@retry(JSONRPCException, tries=10, delay=1, back_off=2)\n",
    "def get_tx_result(_tx_hash):\n",
    "    tx_result = icon_service.get_transaction_result(_tx_hash)\n",
    "    return tx_result"
   ]
  },
  {
   "cell_type": "code",
   "execution_count": 217,
   "metadata": {},
   "outputs": [],
   "source": [
    "contracts = {}\n",
    "\n",
    "# with open(contracts_file_custom, 'rb') as f:\n",
    "#     contracts = pkl.load(f)\n",
    "\n",
    "contracts = {'loans': {'zip': 'core_contracts/loans.zip',\n",
    "  'SCORE': ''},\n",
    " 'staking': {'zip': 'core_contracts/staking.zip',\n",
    "  'SCORE': ''},\n",
    " 'dividends': {'zip': 'core_contracts/staking.zip',\n",
    "  'SCORE': ''},\n",
    " 'sicx': {'zip': 'token_contracts/sicx.zip',\n",
    "  'SCORE': ''},\n",
    " 'dex': {'zip': 'core_contracts/dex.zip',\n",
    "  'SCORE': ''},\n",
    " 'icd': {'zip': 'token_contracts/icd.zip',\n",
    "  'SCORE': ''},\n",
    " 'dummy_oracle': {'zip': 'core_contracts/dummy_oracle.zip',\n",
    "  'SCORE': ''},\n",
    " 'reserve_fund': {'zip': 'core_contracts/dummy_oracle.zip',\n",
    "  'SCORE': ''},\n",
    " 'bal': {'zip': 'token_contracts/bal.zip',\n",
    "  'SCORE': ''}}"
   ]
  },
  {
   "cell_type": "code",
   "execution_count": 218,
   "metadata": {},
   "outputs": [],
   "source": [
    "icon_service = IconService(HTTPProvider(env[\"iconservice\"], 3))\n",
    "NID = env[\"nid\"]"
   ]
  },
  {
   "cell_type": "code",
   "execution_count": 219,
   "metadata": {},
   "outputs": [
    {
     "data": {
      "text/plain": [
       "'0x23fd8199d269d46e5dd3e2ad3a451fec7e5c6d36225304ea3917a8ebc58411ac'"
      ]
     },
     "execution_count": 219,
     "metadata": {},
     "output_type": "execute_result"
    }
   ],
   "source": [
    "test_wallet = KeyWallet.load(\"./keystores/keystore_test1.json\", \"test1_Account\")\n",
    "transaction = TransactionBuilder()\\\n",
    "    .from_(wallet.get_address())\\\n",
    "    .to(btest_wallet.get_address())\\\n",
    "    .value(9000000 * ICX)\\\n",
    "    .step_limit(1000000) \\\n",
    "    .nid(NID) \\\n",
    "    .nonce(2) \\\n",
    "    .version(3) \\\n",
    "    .build()\n",
    "signed_transaction = SignedTransaction(transaction, test_wallet)\n",
    "tx_hash = icon_service2.send_transaction(signed_transaction)\n",
    "tx_hash"
   ]
  },
  {
   "cell_type": "code",
   "execution_count": 220,
   "metadata": {},
   "outputs": [],
   "source": [
    "wallet = KeyWallet.load(\"keystores/keystore_test1.json\", \"test1_Account\")"
   ]
  },
  {
   "cell_type": "code",
   "execution_count": 164,
   "metadata": {},
   "outputs": [],
   "source": [
    "# Balanced test wallet\n",
    "btest_wallet = KeyWallet.load(\"keystores/balanced_test.json\", \"xxxx\")"
   ]
  },
  {
   "cell_type": "markdown",
   "metadata": {},
   "source": [
    "### Send ICX to Balanced test wallet"
   ]
  },
  {
   "cell_type": "code",
   "execution_count": 221,
   "metadata": {},
   "outputs": [
    {
     "data": {
      "text/plain": [
       "'0xd6b90bfb1e06a51ac1d239c69a41f454ab3eb359f0bb928998d6ba1db564ec03'"
      ]
     },
     "execution_count": 221,
     "metadata": {},
     "output_type": "execute_result"
    }
   ],
   "source": [
    "test_wallet = KeyWallet.load(\"./keystores/keystore_test1.json\", \"test1_Account\")\n",
    "transaction = TransactionBuilder()\\\n",
    "    .from_(wallet.get_address())\\\n",
    "    .to(btest_wallet.get_address())\\\n",
    "    .value(1000000 * ICX)\\\n",
    "    .step_limit(1000000) \\\n",
    "    .nid(NID) \\\n",
    "    .nonce(2) \\\n",
    "    .version(3) \\\n",
    "    .build()\n",
    "signed_transaction = SignedTransaction(transaction, test_wallet)\n",
    "tx_hash = icon_service.send_transaction(signed_transaction)\n",
    "tx_hash"
   ]
  },
  {
   "cell_type": "code",
   "execution_count": null,
   "metadata": {},
   "outputs": [],
   "source": [
    "# Add the contracts. Copy the output from this cell the the one above to save the contract addresses.\n",
    "# contracts['dividends'] = {'zip': 'core_contracts/dividends.zip', 'SCORE': 'cxceadb6419b92f7170b38b8328dbd8deefb4a1cdb'}\n",
    "deploy = ['loans', 'staking', 'dividends', 'sicx', 'dex', 'icd', 'dummy_oracle', 'reserve_fund', 'bal']\n",
    "for directory in {\"core_contracts\", \"token_contracts\"}:\n",
    "    with os.scandir(directory) as it:\n",
    "        for file in it:\n",
    "            archive_name = directory + \"/\" + file.name\n",
    "            if file.is_dir() and file.name in deploy:\n",
    "                make_archive(archive_name, \"zip\", directory, file.name)\n",
    "                contracts[file.name]['zip'] = archive_name + '.zip'\n",
    "\n",
    "now = datetime.utcnow()\n",
    "filename = f'contracts_{now.year}{str(now.month).zfill(2)}{str(now.day).zfill(2)}{str(now.hour).zfill(2)}{str(now.minute).zfill(2)}{str(now.second).zfill(2)}.pkl'\n",
    "print(f'saving contracts list as {filename}')\n",
    "with open(filename, 'wb') as f:\n",
    "    pkl.dump(contracts, f)\n",
    "contracts"
   ]
  },
  {
   "cell_type": "markdown",
   "metadata": {},
   "source": [
    "## Deploy All SCOREs"
   ]
  },
  {
   "cell_type": "code",
   "execution_count": 250,
   "metadata": {
    "collapsed": true
   },
   "outputs": [
    {
     "name": "stderr",
     "output_type": "stream",
     "text": [
      "Raised JSONRPCException while returning the custom response. Error message: {'code': -32602, 'message': 'Pending transaction'}\n"
     ]
    },
    {
     "name": "stdout",
     "output_type": "stream",
     "text": [
      "Retrying in 1 seconds...\n"
     ]
    },
    {
     "name": "stderr",
     "output_type": "stream",
     "text": [
      "Raised JSONRPCException while returning the custom response. Error message: {'code': -32602, 'message': 'Pending transaction'}\n"
     ]
    },
    {
     "name": "stdout",
     "output_type": "stream",
     "text": [
      "Retrying in 2 seconds...\n"
     ]
    },
    {
     "name": "stderr",
     "output_type": "stream",
     "text": [
      "Raised JSONRPCException while returning the custom response. Error message: {'code': -32602, 'message': 'Pending transaction'}\n"
     ]
    },
    {
     "name": "stdout",
     "output_type": "stream",
     "text": [
      "loans\n",
      "{'txHash': '0x8197efe1dcec269694bbb0fa2d521f0572c9b774f2cd46d8b656b96db42bdf6b', 'blockHeight': 261066, 'blockHash': '0x47caaf47c36e85f22fabbedfd80fd1be5d8deecb9a6e1a512e1cf252c54cd8ce', 'txIndex': 1, 'to': 'cx0000000000000000000000000000000000000000', 'scoreAddress': 'cx60ba0aa664572602b2667d6d6d4b217a36082d0f', 'stepUsed': 1834022240, 'stepPrice': 10000000000, 'cumulativeStepUsed': 1834022240, 'eventLogs': [], 'logsBloom': b'\\x00\\x00\\x00\\x00\\x00\\x00\\x00\\x00\\x00\\x00\\x00\\x00\\x00\\x00\\x00\\x00\\x00\\x00\\x00\\x00\\x00\\x00\\x00\\x00\\x00\\x00\\x00\\x00\\x00\\x00\\x00\\x00\\x00\\x00\\x00\\x00\\x00\\x00\\x00\\x00\\x00\\x00\\x00\\x00\\x00\\x00\\x00\\x00\\x00\\x00\\x00\\x00\\x00\\x00\\x00\\x00\\x00\\x00\\x00\\x00\\x00\\x00\\x00\\x00\\x00\\x00\\x00\\x00\\x00\\x00\\x00\\x00\\x00\\x00\\x00\\x00\\x00\\x00\\x00\\x00\\x00\\x00\\x00\\x00\\x00\\x00\\x00\\x00\\x00\\x00\\x00\\x00\\x00\\x00\\x00\\x00\\x00\\x00\\x00\\x00\\x00\\x00\\x00\\x00\\x00\\x00\\x00\\x00\\x00\\x00\\x00\\x00\\x00\\x00\\x00\\x00\\x00\\x00\\x00\\x00\\x00\\x00\\x00\\x00\\x00\\x00\\x00\\x00\\x00\\x00\\x00\\x00\\x00\\x00\\x00\\x00\\x00\\x00\\x00\\x00\\x00\\x00\\x00\\x00\\x00\\x00\\x00\\x00\\x00\\x00\\x00\\x00\\x00\\x00\\x00\\x00\\x00\\x00\\x00\\x00\\x00\\x00\\x00\\x00\\x00\\x00\\x00\\x00\\x00\\x00\\x00\\x00\\x00\\x00\\x00\\x00\\x00\\x00\\x00\\x00\\x00\\x00\\x00\\x00\\x00\\x00\\x00\\x00\\x00\\x00\\x00\\x00\\x00\\x00\\x00\\x00\\x00\\x00\\x00\\x00\\x00\\x00\\x00\\x00\\x00\\x00\\x00\\x00\\x00\\x00\\x00\\x00\\x00\\x00\\x00\\x00\\x00\\x00\\x00\\x00\\x00\\x00\\x00\\x00\\x00\\x00\\x00\\x00\\x00\\x00\\x00\\x00\\x00\\x00\\x00\\x00\\x00\\x00\\x00\\x00\\x00\\x00\\x00\\x00\\x00\\x00\\x00\\x00\\x00\\x00\\x00\\x00\\x00\\x00\\x00\\x00', 'status': 1}\n",
      "Retrying in 1 seconds...\n"
     ]
    },
    {
     "name": "stderr",
     "output_type": "stream",
     "text": [
      "Raised JSONRPCException while returning the custom response. Error message: {'code': -32602, 'message': 'Pending transaction'}\n"
     ]
    },
    {
     "name": "stdout",
     "output_type": "stream",
     "text": [
      "staking\n",
      "{'txHash': '0x676598e199b1039cea5034622ee10f495f4fde7c455e5e7fe20520b82a717387', 'blockHeight': 261067, 'blockHash': '0x54d35928e7c9a3f5c281d1c00de80a6dc67391d1e6a14367aa77f254de64dc01', 'txIndex': 1, 'to': 'cx0000000000000000000000000000000000000000', 'scoreAddress': 'cxb12ac82038f98353776f555b60c7ade39bc73681', 'stepUsed': 1218594400, 'stepPrice': 10000000000, 'cumulativeStepUsed': 1218594400, 'eventLogs': [], 'logsBloom': b'\\x00\\x00\\x00\\x00\\x00\\x00\\x00\\x00\\x00\\x00\\x00\\x00\\x00\\x00\\x00\\x00\\x00\\x00\\x00\\x00\\x00\\x00\\x00\\x00\\x00\\x00\\x00\\x00\\x00\\x00\\x00\\x00\\x00\\x00\\x00\\x00\\x00\\x00\\x00\\x00\\x00\\x00\\x00\\x00\\x00\\x00\\x00\\x00\\x00\\x00\\x00\\x00\\x00\\x00\\x00\\x00\\x00\\x00\\x00\\x00\\x00\\x00\\x00\\x00\\x00\\x00\\x00\\x00\\x00\\x00\\x00\\x00\\x00\\x00\\x00\\x00\\x00\\x00\\x00\\x00\\x00\\x00\\x00\\x00\\x00\\x00\\x00\\x00\\x00\\x00\\x00\\x00\\x00\\x00\\x00\\x00\\x00\\x00\\x00\\x00\\x00\\x00\\x00\\x00\\x00\\x00\\x00\\x00\\x00\\x00\\x00\\x00\\x00\\x00\\x00\\x00\\x00\\x00\\x00\\x00\\x00\\x00\\x00\\x00\\x00\\x00\\x00\\x00\\x00\\x00\\x00\\x00\\x00\\x00\\x00\\x00\\x00\\x00\\x00\\x00\\x00\\x00\\x00\\x00\\x00\\x00\\x00\\x00\\x00\\x00\\x00\\x00\\x00\\x00\\x00\\x00\\x00\\x00\\x00\\x00\\x00\\x00\\x00\\x00\\x00\\x00\\x00\\x00\\x00\\x00\\x00\\x00\\x00\\x00\\x00\\x00\\x00\\x00\\x00\\x00\\x00\\x00\\x00\\x00\\x00\\x00\\x00\\x00\\x00\\x00\\x00\\x00\\x00\\x00\\x00\\x00\\x00\\x00\\x00\\x00\\x00\\x00\\x00\\x00\\x00\\x00\\x00\\x00\\x00\\x00\\x00\\x00\\x00\\x00\\x00\\x00\\x00\\x00\\x00\\x00\\x00\\x00\\x00\\x00\\x00\\x00\\x00\\x00\\x00\\x00\\x00\\x00\\x00\\x00\\x00\\x00\\x00\\x00\\x00\\x00\\x00\\x00\\x00\\x00\\x00\\x00\\x00\\x00\\x00\\x00\\x00\\x00\\x00\\x00\\x00\\x00', 'status': 1}\n",
      "Retrying in 1 seconds...\n"
     ]
    },
    {
     "name": "stderr",
     "output_type": "stream",
     "text": [
      "Raised JSONRPCException while returning the custom response. Error message: {'code': -32602, 'message': 'Pending transaction'}\n"
     ]
    },
    {
     "name": "stdout",
     "output_type": "stream",
     "text": [
      "Retrying in 2 seconds...\n"
     ]
    },
    {
     "name": "stderr",
     "output_type": "stream",
     "text": [
      "Raised JSONRPCException while returning the custom response. Error message: {'code': -32602, 'message': 'Pending transaction'}\n"
     ]
    },
    {
     "name": "stdout",
     "output_type": "stream",
     "text": [
      "dividends\n",
      "{'txHash': '0xe798062f83fcda1d3435ae759f3007cd7b6ea8d0ee92245a88e7b9ec0032f090', 'blockHeight': 261068, 'blockHash': '0xaff0fa1ba72ec9738f15a34600dc7b06b0d1d0cf6b9cdf7482a4febe5d62fb17', 'txIndex': 1, 'to': 'cx0000000000000000000000000000000000000000', 'scoreAddress': 'cxd361228ccf434754824fc04b2ce7dc05becac3b9', 'stepUsed': 1232335200, 'stepPrice': 10000000000, 'cumulativeStepUsed': 1232335200, 'eventLogs': [], 'logsBloom': b'\\x00\\x00\\x00\\x00\\x00\\x00\\x00\\x00\\x00\\x00\\x00\\x00\\x00\\x00\\x00\\x00\\x00\\x00\\x00\\x00\\x00\\x00\\x00\\x00\\x00\\x00\\x00\\x00\\x00\\x00\\x00\\x00\\x00\\x00\\x00\\x00\\x00\\x00\\x00\\x00\\x00\\x00\\x00\\x00\\x00\\x00\\x00\\x00\\x00\\x00\\x00\\x00\\x00\\x00\\x00\\x00\\x00\\x00\\x00\\x00\\x00\\x00\\x00\\x00\\x00\\x00\\x00\\x00\\x00\\x00\\x00\\x00\\x00\\x00\\x00\\x00\\x00\\x00\\x00\\x00\\x00\\x00\\x00\\x00\\x00\\x00\\x00\\x00\\x00\\x00\\x00\\x00\\x00\\x00\\x00\\x00\\x00\\x00\\x00\\x00\\x00\\x00\\x00\\x00\\x00\\x00\\x00\\x00\\x00\\x00\\x00\\x00\\x00\\x00\\x00\\x00\\x00\\x00\\x00\\x00\\x00\\x00\\x00\\x00\\x00\\x00\\x00\\x00\\x00\\x00\\x00\\x00\\x00\\x00\\x00\\x00\\x00\\x00\\x00\\x00\\x00\\x00\\x00\\x00\\x00\\x00\\x00\\x00\\x00\\x00\\x00\\x00\\x00\\x00\\x00\\x00\\x00\\x00\\x00\\x00\\x00\\x00\\x00\\x00\\x00\\x00\\x00\\x00\\x00\\x00\\x00\\x00\\x00\\x00\\x00\\x00\\x00\\x00\\x00\\x00\\x00\\x00\\x00\\x00\\x00\\x00\\x00\\x00\\x00\\x00\\x00\\x00\\x00\\x00\\x00\\x00\\x00\\x00\\x00\\x00\\x00\\x00\\x00\\x00\\x00\\x00\\x00\\x00\\x00\\x00\\x00\\x00\\x00\\x00\\x00\\x00\\x00\\x00\\x00\\x00\\x00\\x00\\x00\\x00\\x00\\x00\\x00\\x00\\x00\\x00\\x00\\x00\\x00\\x00\\x00\\x00\\x00\\x00\\x00\\x00\\x00\\x00\\x00\\x00\\x00\\x00\\x00\\x00\\x00\\x00\\x00\\x00\\x00\\x00\\x00\\x00', 'status': 1}\n",
      "Retrying in 1 seconds...\n"
     ]
    },
    {
     "name": "stderr",
     "output_type": "stream",
     "text": [
      "Raised JSONRPCException while returning the custom response. Error message: {'code': -32602, 'message': 'Pending transaction'}\n"
     ]
    },
    {
     "name": "stdout",
     "output_type": "stream",
     "text": [
      "sicx\n",
      "{'txHash': '0xed4daf415b47dc9fe29a248399d58fd9ef7ddd59f671528faf700aaff4a56202', 'blockHeight': 261069, 'blockHash': '0x86fe266d70c80479fa932c825f682ddb2b4a2073640706fb112d9131b9d70659', 'txIndex': 1, 'to': 'cx0000000000000000000000000000000000000000', 'scoreAddress': 'cxc92b0adc5f889044642ac3c1d24842eae5d222b4', 'stepUsed': 1175797600, 'stepPrice': 10000000000, 'cumulativeStepUsed': 1175797600, 'eventLogs': [], 'logsBloom': b'\\x00\\x00\\x00\\x00\\x00\\x00\\x00\\x00\\x00\\x00\\x00\\x00\\x00\\x00\\x00\\x00\\x00\\x00\\x00\\x00\\x00\\x00\\x00\\x00\\x00\\x00\\x00\\x00\\x00\\x00\\x00\\x00\\x00\\x00\\x00\\x00\\x00\\x00\\x00\\x00\\x00\\x00\\x00\\x00\\x00\\x00\\x00\\x00\\x00\\x00\\x00\\x00\\x00\\x00\\x00\\x00\\x00\\x00\\x00\\x00\\x00\\x00\\x00\\x00\\x00\\x00\\x00\\x00\\x00\\x00\\x00\\x00\\x00\\x00\\x00\\x00\\x00\\x00\\x00\\x00\\x00\\x00\\x00\\x00\\x00\\x00\\x00\\x00\\x00\\x00\\x00\\x00\\x00\\x00\\x00\\x00\\x00\\x00\\x00\\x00\\x00\\x00\\x00\\x00\\x00\\x00\\x00\\x00\\x00\\x00\\x00\\x00\\x00\\x00\\x00\\x00\\x00\\x00\\x00\\x00\\x00\\x00\\x00\\x00\\x00\\x00\\x00\\x00\\x00\\x00\\x00\\x00\\x00\\x00\\x00\\x00\\x00\\x00\\x00\\x00\\x00\\x00\\x00\\x00\\x00\\x00\\x00\\x00\\x00\\x00\\x00\\x00\\x00\\x00\\x00\\x00\\x00\\x00\\x00\\x00\\x00\\x00\\x00\\x00\\x00\\x00\\x00\\x00\\x00\\x00\\x00\\x00\\x00\\x00\\x00\\x00\\x00\\x00\\x00\\x00\\x00\\x00\\x00\\x00\\x00\\x00\\x00\\x00\\x00\\x00\\x00\\x00\\x00\\x00\\x00\\x00\\x00\\x00\\x00\\x00\\x00\\x00\\x00\\x00\\x00\\x00\\x00\\x00\\x00\\x00\\x00\\x00\\x00\\x00\\x00\\x00\\x00\\x00\\x00\\x00\\x00\\x00\\x00\\x00\\x00\\x00\\x00\\x00\\x00\\x00\\x00\\x00\\x00\\x00\\x00\\x00\\x00\\x00\\x00\\x00\\x00\\x00\\x00\\x00\\x00\\x00\\x00\\x00\\x00\\x00\\x00\\x00\\x00\\x00\\x00\\x00', 'status': 1}\n",
      "Retrying in 1 seconds...\n"
     ]
    },
    {
     "name": "stderr",
     "output_type": "stream",
     "text": [
      "Raised JSONRPCException while returning the custom response. Error message: {'code': -32602, 'message': 'Pending transaction'}\n"
     ]
    },
    {
     "name": "stdout",
     "output_type": "stream",
     "text": [
      "Retrying in 2 seconds...\n"
     ]
    },
    {
     "name": "stderr",
     "output_type": "stream",
     "text": [
      "Raised JSONRPCException while returning the custom response. Error message: {'code': -32602, 'message': 'Pending transaction'}\n"
     ]
    },
    {
     "name": "stdout",
     "output_type": "stream",
     "text": [
      "dex\n",
      "{'txHash': '0x71b2162a03c6fd20668cb0985c6384a9aae8df3f53fd26e2f0526d44c4013c4f', 'blockHeight': 261070, 'blockHash': '0x67e94cc03c70f891c4f187aa9a52d6109f5a1f3b8634883cd91ac26fad7cefea', 'txIndex': 1, 'to': 'cx0000000000000000000000000000000000000000', 'scoreAddress': 'cx1631edf6027bb89ef99a613d83969239c2040516', 'stepUsed': 1311983520, 'stepPrice': 10000000000, 'cumulativeStepUsed': 1311983520, 'eventLogs': [], 'logsBloom': b'\\x00\\x00\\x00\\x00\\x00\\x00\\x00\\x00\\x00\\x00\\x00\\x00\\x00\\x00\\x00\\x00\\x00\\x00\\x00\\x00\\x00\\x00\\x00\\x00\\x00\\x00\\x00\\x00\\x00\\x00\\x00\\x00\\x00\\x00\\x00\\x00\\x00\\x00\\x00\\x00\\x00\\x00\\x00\\x00\\x00\\x00\\x00\\x00\\x00\\x00\\x00\\x00\\x00\\x00\\x00\\x00\\x00\\x00\\x00\\x00\\x00\\x00\\x00\\x00\\x00\\x00\\x00\\x00\\x00\\x00\\x00\\x00\\x00\\x00\\x00\\x00\\x00\\x00\\x00\\x00\\x00\\x00\\x00\\x00\\x00\\x00\\x00\\x00\\x00\\x00\\x00\\x00\\x00\\x00\\x00\\x00\\x00\\x00\\x00\\x00\\x00\\x00\\x00\\x00\\x00\\x00\\x00\\x00\\x00\\x00\\x00\\x00\\x00\\x00\\x00\\x00\\x00\\x00\\x00\\x00\\x00\\x00\\x00\\x00\\x00\\x00\\x00\\x00\\x00\\x00\\x00\\x00\\x00\\x00\\x00\\x00\\x00\\x00\\x00\\x00\\x00\\x00\\x00\\x00\\x00\\x00\\x00\\x00\\x00\\x00\\x00\\x00\\x00\\x00\\x00\\x00\\x00\\x00\\x00\\x00\\x00\\x00\\x00\\x00\\x00\\x00\\x00\\x00\\x00\\x00\\x00\\x00\\x00\\x00\\x00\\x00\\x00\\x00\\x00\\x00\\x00\\x00\\x00\\x00\\x00\\x00\\x00\\x00\\x00\\x00\\x00\\x00\\x00\\x00\\x00\\x00\\x00\\x00\\x00\\x00\\x00\\x00\\x00\\x00\\x00\\x00\\x00\\x00\\x00\\x00\\x00\\x00\\x00\\x00\\x00\\x00\\x00\\x00\\x00\\x00\\x00\\x00\\x00\\x00\\x00\\x00\\x00\\x00\\x00\\x00\\x00\\x00\\x00\\x00\\x00\\x00\\x00\\x00\\x00\\x00\\x00\\x00\\x00\\x00\\x00\\x00\\x00\\x00\\x00\\x00\\x00\\x00\\x00\\x00\\x00\\x00', 'status': 1}\n",
      "Retrying in 1 seconds...\n"
     ]
    },
    {
     "name": "stderr",
     "output_type": "stream",
     "text": [
      "Raised JSONRPCException while returning the custom response. Error message: {'code': -32602, 'message': 'Pending transaction'}\n"
     ]
    },
    {
     "name": "stdout",
     "output_type": "stream",
     "text": [
      "Retrying in 2 seconds...\n"
     ]
    },
    {
     "name": "stderr",
     "output_type": "stream",
     "text": [
      "Raised JSONRPCException while returning the custom response. Error message: {'code': -32602, 'message': 'Pending transaction'}\n"
     ]
    },
    {
     "name": "stdout",
     "output_type": "stream",
     "text": [
      "icd\n",
      "{'txHash': '0x2979560c772e6ad65e51ee299bb4e6b99702a00504e536b2467c8b1eebc3a075', 'blockHeight': 261072, 'blockHash': '0xd4003f401d82699d306e789bbe5bdf2dbbdb16ff6a42b5babb388c3a38c4d90b', 'txIndex': 1, 'to': 'cx0000000000000000000000000000000000000000', 'scoreAddress': 'cxa7ef2f228c1d3ee6bab8595245324a10e2698d8d', 'stepUsed': 1185228000, 'stepPrice': 10000000000, 'cumulativeStepUsed': 1185228000, 'eventLogs': [], 'logsBloom': b'\\x00\\x00\\x00\\x00\\x00\\x00\\x00\\x00\\x00\\x00\\x00\\x00\\x00\\x00\\x00\\x00\\x00\\x00\\x00\\x00\\x00\\x00\\x00\\x00\\x00\\x00\\x00\\x00\\x00\\x00\\x00\\x00\\x00\\x00\\x00\\x00\\x00\\x00\\x00\\x00\\x00\\x00\\x00\\x00\\x00\\x00\\x00\\x00\\x00\\x00\\x00\\x00\\x00\\x00\\x00\\x00\\x00\\x00\\x00\\x00\\x00\\x00\\x00\\x00\\x00\\x00\\x00\\x00\\x00\\x00\\x00\\x00\\x00\\x00\\x00\\x00\\x00\\x00\\x00\\x00\\x00\\x00\\x00\\x00\\x00\\x00\\x00\\x00\\x00\\x00\\x00\\x00\\x00\\x00\\x00\\x00\\x00\\x00\\x00\\x00\\x00\\x00\\x00\\x00\\x00\\x00\\x00\\x00\\x00\\x00\\x00\\x00\\x00\\x00\\x00\\x00\\x00\\x00\\x00\\x00\\x00\\x00\\x00\\x00\\x00\\x00\\x00\\x00\\x00\\x00\\x00\\x00\\x00\\x00\\x00\\x00\\x00\\x00\\x00\\x00\\x00\\x00\\x00\\x00\\x00\\x00\\x00\\x00\\x00\\x00\\x00\\x00\\x00\\x00\\x00\\x00\\x00\\x00\\x00\\x00\\x00\\x00\\x00\\x00\\x00\\x00\\x00\\x00\\x00\\x00\\x00\\x00\\x00\\x00\\x00\\x00\\x00\\x00\\x00\\x00\\x00\\x00\\x00\\x00\\x00\\x00\\x00\\x00\\x00\\x00\\x00\\x00\\x00\\x00\\x00\\x00\\x00\\x00\\x00\\x00\\x00\\x00\\x00\\x00\\x00\\x00\\x00\\x00\\x00\\x00\\x00\\x00\\x00\\x00\\x00\\x00\\x00\\x00\\x00\\x00\\x00\\x00\\x00\\x00\\x00\\x00\\x00\\x00\\x00\\x00\\x00\\x00\\x00\\x00\\x00\\x00\\x00\\x00\\x00\\x00\\x00\\x00\\x00\\x00\\x00\\x00\\x00\\x00\\x00\\x00\\x00\\x00\\x00\\x00\\x00\\x00', 'status': 1}\n",
      "Retrying in 1 seconds...\n"
     ]
    },
    {
     "name": "stderr",
     "output_type": "stream",
     "text": [
      "Raised JSONRPCException while returning the custom response. Error message: {'code': -32602, 'message': 'Pending transaction'}\n"
     ]
    },
    {
     "name": "stdout",
     "output_type": "stream",
     "text": [
      "dummy_oracle\n",
      "{'txHash': '0xd33bbf8560f4e828f16fd84ddb999b574d8e336c23c3c0af903d136869585843', 'blockHeight': 261073, 'blockHash': '0xa759fda7591b3b5c697a5630e664245c5c9baac6e73c34433c25a44285578cb8', 'txIndex': 1, 'to': 'cx0000000000000000000000000000000000000000', 'scoreAddress': 'cx16bc08d749b028ba330a6071c66f9b9c34b9fc85', 'stepUsed': 1035920800, 'stepPrice': 10000000000, 'cumulativeStepUsed': 1035920800, 'eventLogs': [], 'logsBloom': b'\\x00\\x00\\x00\\x00\\x00\\x00\\x00\\x00\\x00\\x00\\x00\\x00\\x00\\x00\\x00\\x00\\x00\\x00\\x00\\x00\\x00\\x00\\x00\\x00\\x00\\x00\\x00\\x00\\x00\\x00\\x00\\x00\\x00\\x00\\x00\\x00\\x00\\x00\\x00\\x00\\x00\\x00\\x00\\x00\\x00\\x00\\x00\\x00\\x00\\x00\\x00\\x00\\x00\\x00\\x00\\x00\\x00\\x00\\x00\\x00\\x00\\x00\\x00\\x00\\x00\\x00\\x00\\x00\\x00\\x00\\x00\\x00\\x00\\x00\\x00\\x00\\x00\\x00\\x00\\x00\\x00\\x00\\x00\\x00\\x00\\x00\\x00\\x00\\x00\\x00\\x00\\x00\\x00\\x00\\x00\\x00\\x00\\x00\\x00\\x00\\x00\\x00\\x00\\x00\\x00\\x00\\x00\\x00\\x00\\x00\\x00\\x00\\x00\\x00\\x00\\x00\\x00\\x00\\x00\\x00\\x00\\x00\\x00\\x00\\x00\\x00\\x00\\x00\\x00\\x00\\x00\\x00\\x00\\x00\\x00\\x00\\x00\\x00\\x00\\x00\\x00\\x00\\x00\\x00\\x00\\x00\\x00\\x00\\x00\\x00\\x00\\x00\\x00\\x00\\x00\\x00\\x00\\x00\\x00\\x00\\x00\\x00\\x00\\x00\\x00\\x00\\x00\\x00\\x00\\x00\\x00\\x00\\x00\\x00\\x00\\x00\\x00\\x00\\x00\\x00\\x00\\x00\\x00\\x00\\x00\\x00\\x00\\x00\\x00\\x00\\x00\\x00\\x00\\x00\\x00\\x00\\x00\\x00\\x00\\x00\\x00\\x00\\x00\\x00\\x00\\x00\\x00\\x00\\x00\\x00\\x00\\x00\\x00\\x00\\x00\\x00\\x00\\x00\\x00\\x00\\x00\\x00\\x00\\x00\\x00\\x00\\x00\\x00\\x00\\x00\\x00\\x00\\x00\\x00\\x00\\x00\\x00\\x00\\x00\\x00\\x00\\x00\\x00\\x00\\x00\\x00\\x00\\x00\\x00\\x00\\x00\\x00\\x00\\x00\\x00\\x00', 'status': 1}\n",
      "Retrying in 1 seconds...\n"
     ]
    },
    {
     "name": "stderr",
     "output_type": "stream",
     "text": [
      "Raised JSONRPCException while returning the custom response. Error message: {'code': -32602, 'message': 'Pending transaction'}\n"
     ]
    },
    {
     "name": "stdout",
     "output_type": "stream",
     "text": [
      "Retrying in 2 seconds...\n"
     ]
    },
    {
     "name": "stderr",
     "output_type": "stream",
     "text": [
      "Raised JSONRPCException while returning the custom response. Error message: {'code': -32602, 'message': 'Pending transaction'}\n"
     ]
    },
    {
     "name": "stdout",
     "output_type": "stream",
     "text": [
      "reserve_fund\n",
      "{'txHash': '0xb310749a1b7ee9c3277e16ba29f64ceab79e981a090cc52b8e07f5770effdee1', 'blockHeight': 261074, 'blockHash': '0xdecb1c21cfc5f9e4ece55d706a38cfc44eb909c7ca0f99953e1a8db8ab1ac1dd', 'txIndex': 1, 'to': 'cx0000000000000000000000000000000000000000', 'scoreAddress': 'cx3eba3b888495c6ba7e4b18af8c898f615e02f3d2', 'stepUsed': 1168860000, 'stepPrice': 10000000000, 'cumulativeStepUsed': 1168860000, 'eventLogs': [], 'logsBloom': b'\\x00\\x00\\x00\\x00\\x00\\x00\\x00\\x00\\x00\\x00\\x00\\x00\\x00\\x00\\x00\\x00\\x00\\x00\\x00\\x00\\x00\\x00\\x00\\x00\\x00\\x00\\x00\\x00\\x00\\x00\\x00\\x00\\x00\\x00\\x00\\x00\\x00\\x00\\x00\\x00\\x00\\x00\\x00\\x00\\x00\\x00\\x00\\x00\\x00\\x00\\x00\\x00\\x00\\x00\\x00\\x00\\x00\\x00\\x00\\x00\\x00\\x00\\x00\\x00\\x00\\x00\\x00\\x00\\x00\\x00\\x00\\x00\\x00\\x00\\x00\\x00\\x00\\x00\\x00\\x00\\x00\\x00\\x00\\x00\\x00\\x00\\x00\\x00\\x00\\x00\\x00\\x00\\x00\\x00\\x00\\x00\\x00\\x00\\x00\\x00\\x00\\x00\\x00\\x00\\x00\\x00\\x00\\x00\\x00\\x00\\x00\\x00\\x00\\x00\\x00\\x00\\x00\\x00\\x00\\x00\\x00\\x00\\x00\\x00\\x00\\x00\\x00\\x00\\x00\\x00\\x00\\x00\\x00\\x00\\x00\\x00\\x00\\x00\\x00\\x00\\x00\\x00\\x00\\x00\\x00\\x00\\x00\\x00\\x00\\x00\\x00\\x00\\x00\\x00\\x00\\x00\\x00\\x00\\x00\\x00\\x00\\x00\\x00\\x00\\x00\\x00\\x00\\x00\\x00\\x00\\x00\\x00\\x00\\x00\\x00\\x00\\x00\\x00\\x00\\x00\\x00\\x00\\x00\\x00\\x00\\x00\\x00\\x00\\x00\\x00\\x00\\x00\\x00\\x00\\x00\\x00\\x00\\x00\\x00\\x00\\x00\\x00\\x00\\x00\\x00\\x00\\x00\\x00\\x00\\x00\\x00\\x00\\x00\\x00\\x00\\x00\\x00\\x00\\x00\\x00\\x00\\x00\\x00\\x00\\x00\\x00\\x00\\x00\\x00\\x00\\x00\\x00\\x00\\x00\\x00\\x00\\x00\\x00\\x00\\x00\\x00\\x00\\x00\\x00\\x00\\x00\\x00\\x00\\x00\\x00\\x00\\x00\\x00\\x00\\x00\\x00', 'status': 1}\n",
      "Retrying in 1 seconds...\n",
      "bal\n",
      "{'txHash': '0x5c6dcaaa9e644b2086dded710ba8fc03a7001f9053934c8436d0f18119db57ed', 'blockHeight': 261075, 'blockHash': '0xb5e352f66586bff7d780af685450cf6dcc5a162c744353999fa7f706e5590b62', 'txIndex': 1, 'to': 'cx0000000000000000000000000000000000000000', 'scoreAddress': 'cxba42914c86964530e5c52e142c8862dc6c4a4e12', 'stepUsed': 1180235680, 'stepPrice': 10000000000, 'cumulativeStepUsed': 1180235680, 'eventLogs': [], 'logsBloom': b'\\x00\\x00\\x00\\x00\\x00\\x00\\x00\\x00\\x00\\x00\\x00\\x00\\x00\\x00\\x00\\x00\\x00\\x00\\x00\\x00\\x00\\x00\\x00\\x00\\x00\\x00\\x00\\x00\\x00\\x00\\x00\\x00\\x00\\x00\\x00\\x00\\x00\\x00\\x00\\x00\\x00\\x00\\x00\\x00\\x00\\x00\\x00\\x00\\x00\\x00\\x00\\x00\\x00\\x00\\x00\\x00\\x00\\x00\\x00\\x00\\x00\\x00\\x00\\x00\\x00\\x00\\x00\\x00\\x00\\x00\\x00\\x00\\x00\\x00\\x00\\x00\\x00\\x00\\x00\\x00\\x00\\x00\\x00\\x00\\x00\\x00\\x00\\x00\\x00\\x00\\x00\\x00\\x00\\x00\\x00\\x00\\x00\\x00\\x00\\x00\\x00\\x00\\x00\\x00\\x00\\x00\\x00\\x00\\x00\\x00\\x00\\x00\\x00\\x00\\x00\\x00\\x00\\x00\\x00\\x00\\x00\\x00\\x00\\x00\\x00\\x00\\x00\\x00\\x00\\x00\\x00\\x00\\x00\\x00\\x00\\x00\\x00\\x00\\x00\\x00\\x00\\x00\\x00\\x00\\x00\\x00\\x00\\x00\\x00\\x00\\x00\\x00\\x00\\x00\\x00\\x00\\x00\\x00\\x00\\x00\\x00\\x00\\x00\\x00\\x00\\x00\\x00\\x00\\x00\\x00\\x00\\x00\\x00\\x00\\x00\\x00\\x00\\x00\\x00\\x00\\x00\\x00\\x00\\x00\\x00\\x00\\x00\\x00\\x00\\x00\\x00\\x00\\x00\\x00\\x00\\x00\\x00\\x00\\x00\\x00\\x00\\x00\\x00\\x00\\x00\\x00\\x00\\x00\\x00\\x00\\x00\\x00\\x00\\x00\\x00\\x00\\x00\\x00\\x00\\x00\\x00\\x00\\x00\\x00\\x00\\x00\\x00\\x00\\x00\\x00\\x00\\x00\\x00\\x00\\x00\\x00\\x00\\x00\\x00\\x00\\x00\\x00\\x00\\x00\\x00\\x00\\x00\\x00\\x00\\x00\\x00\\x00\\x00\\x00\\x00\\x00', 'status': 1}\n"
     ]
    },
    {
     "data": {
      "text/plain": [
       "{'loans': {'zip': 'core_contracts/loans.zip',\n",
       "  'SCORE': 'cx60ba0aa664572602b2667d6d6d4b217a36082d0f'},\n",
       " 'staking': {'zip': 'core_contracts/staking.zip',\n",
       "  'SCORE': 'cxb12ac82038f98353776f555b60c7ade39bc73681'},\n",
       " 'dividends': {'zip': 'core_contracts/dividends.zip',\n",
       "  'SCORE': 'cxd361228ccf434754824fc04b2ce7dc05becac3b9'},\n",
       " 'sicx': {'zip': 'token_contracts/sicx.zip',\n",
       "  'SCORE': 'cxc92b0adc5f889044642ac3c1d24842eae5d222b4'},\n",
       " 'dex': {'zip': 'core_contracts/dex.zip',\n",
       "  'SCORE': 'cx1631edf6027bb89ef99a613d83969239c2040516'},\n",
       " 'icd': {'zip': 'token_contracts/icd.zip',\n",
       "  'SCORE': 'cxa7ef2f228c1d3ee6bab8595245324a10e2698d8d'},\n",
       " 'dummy_oracle': {'zip': 'core_contracts/dummy_oracle.zip',\n",
       "  'SCORE': 'cx16bc08d749b028ba330a6071c66f9b9c34b9fc85'},\n",
       " 'reserve_fund': {'zip': 'core_contracts/reserve_fund.zip',\n",
       "  'SCORE': 'cx3eba3b888495c6ba7e4b18af8c898f615e02f3d2'},\n",
       " 'bal': {'zip': 'token_contracts/bal.zip',\n",
       "  'SCORE': 'cxba42914c86964530e5c52e142c8862dc6c4a4e12'}}"
      ]
     },
     "execution_count": 250,
     "metadata": {},
     "output_type": "execute_result"
    }
   ],
   "source": [
    "step_limit = 4000100000\n",
    "\n",
    "for score, loc in contracts.items():\n",
    "    deploy_transaction = DeployTransactionBuilder()\\\n",
    "        .from_(wallet.get_address())\\\n",
    "        .to(GOVERNANCE_ADDRESS)\\\n",
    "        .nid(NID)\\\n",
    "        .nonce(100)\\\n",
    "        .content_type(\"application/zip\")\\\n",
    "        .content(gen_deploy_data_content(loc[\"zip\"]))\\\n",
    "        .build()\n",
    "\n",
    "    step_limit = icon_service.estimate_step(deploy_transaction) + 100000\n",
    "    \n",
    "    signed_transaction = SignedTransaction(deploy_transaction, wallet, step_limit)\n",
    "    tx_hash = icon_service.send_transaction(signed_transaction)\n",
    "\n",
    "    res = get_tx_result(tx_hash)\n",
    "    contracts[score][\"SCORE\"] = res.get('scoreAddress', '')\n",
    "    print(score)\n",
    "    print(res)\n",
    "\n",
    "contracts"
   ]
  },
  {
   "cell_type": "markdown",
   "metadata": {},
   "source": [
    "### Deploy a single SCORE"
   ]
  },
  {
   "cell_type": "code",
   "execution_count": 140,
   "metadata": {
    "collapsed": true
   },
   "outputs": [
    {
     "name": "stderr",
     "output_type": "stream",
     "text": [
      "Raised JSONRPCException while returning the custom response. Error message: {'code': -32602, 'message': 'Pending transaction'}\n"
     ]
    },
    {
     "name": "stdout",
     "output_type": "stream",
     "text": [
      "Retrying in 1 seconds...\n"
     ]
    },
    {
     "data": {
      "text/plain": [
       "{'txHash': '0xee2e67871531096d1b8793d571fc8e28fade7871a3a59373794df48bd18948fb',\n",
       " 'blockHeight': 240365,\n",
       " 'blockHash': '0x1655134496e9ad1fe80163abf08821a3a9abf39ee3df88d3f515bf3ad247d78f',\n",
       " 'txIndex': 1,\n",
       " 'to': 'cx0000000000000000000000000000000000000000',\n",
       " 'scoreAddress': 'cxa3ee97d35281050ae626e6b6b9d9e35d3e39cc03',\n",
       " 'stepUsed': 1180235680,\n",
       " 'stepPrice': 10000000000,\n",
       " 'cumulativeStepUsed': 1180235680,\n",
       " 'eventLogs': [],\n",
       " 'logsBloom': b'\\x00\\x00\\x00\\x00\\x00\\x00\\x00\\x00\\x00\\x00\\x00\\x00\\x00\\x00\\x00\\x00\\x00\\x00\\x00\\x00\\x00\\x00\\x00\\x00\\x00\\x00\\x00\\x00\\x00\\x00\\x00\\x00\\x00\\x00\\x00\\x00\\x00\\x00\\x00\\x00\\x00\\x00\\x00\\x00\\x00\\x00\\x00\\x00\\x00\\x00\\x00\\x00\\x00\\x00\\x00\\x00\\x00\\x00\\x00\\x00\\x00\\x00\\x00\\x00\\x00\\x00\\x00\\x00\\x00\\x00\\x00\\x00\\x00\\x00\\x00\\x00\\x00\\x00\\x00\\x00\\x00\\x00\\x00\\x00\\x00\\x00\\x00\\x00\\x00\\x00\\x00\\x00\\x00\\x00\\x00\\x00\\x00\\x00\\x00\\x00\\x00\\x00\\x00\\x00\\x00\\x00\\x00\\x00\\x00\\x00\\x00\\x00\\x00\\x00\\x00\\x00\\x00\\x00\\x00\\x00\\x00\\x00\\x00\\x00\\x00\\x00\\x00\\x00\\x00\\x00\\x00\\x00\\x00\\x00\\x00\\x00\\x00\\x00\\x00\\x00\\x00\\x00\\x00\\x00\\x00\\x00\\x00\\x00\\x00\\x00\\x00\\x00\\x00\\x00\\x00\\x00\\x00\\x00\\x00\\x00\\x00\\x00\\x00\\x00\\x00\\x00\\x00\\x00\\x00\\x00\\x00\\x00\\x00\\x00\\x00\\x00\\x00\\x00\\x00\\x00\\x00\\x00\\x00\\x00\\x00\\x00\\x00\\x00\\x00\\x00\\x00\\x00\\x00\\x00\\x00\\x00\\x00\\x00\\x00\\x00\\x00\\x00\\x00\\x00\\x00\\x00\\x00\\x00\\x00\\x00\\x00\\x00\\x00\\x00\\x00\\x00\\x00\\x00\\x00\\x00\\x00\\x00\\x00\\x00\\x00\\x00\\x00\\x00\\x00\\x00\\x00\\x00\\x00\\x00\\x00\\x00\\x00\\x00\\x00\\x00\\x00\\x00\\x00\\x00\\x00\\x00\\x00\\x00\\x00\\x00\\x00\\x00\\x00\\x00\\x00\\x00',\n",
       " 'status': 1}"
      ]
     },
     "execution_count": 140,
     "metadata": {},
     "output_type": "execute_result"
    }
   ],
   "source": [
    "# Deploy a single SCORE\n",
    "score = 'bal'\n",
    "loc = {'zip': 'token_contracts/bal.zip',  'SCORE': ''}\n",
    "deploy_transaction = DeployTransactionBuilder()\\\n",
    "    .from_(wallet.get_address())\\\n",
    "    .to(GOVERNANCE_ADDRESS)\\\n",
    "    .nid(NID)\\\n",
    "    .nonce(100)\\\n",
    "    .content_type(\"application/zip\")\\\n",
    "    .content(gen_deploy_data_content(loc[\"zip\"]))\\\n",
    "    .build()\n",
    "\n",
    "step_limit = icon_service.estimate_step(deploy_transaction) + 100000\n",
    "\n",
    "signed_transaction = SignedTransaction(deploy_transaction, wallet, step_limit)\n",
    "tx_hash = icon_service.send_transaction(signed_transaction)\n",
    "\n",
    "res = get_tx_result(tx_hash)\n",
    "contracts[score][\"SCORE\"] = res.get('scoreAddress', '')\n",
    "res"
   ]
  },
  {
   "cell_type": "markdown",
   "metadata": {},
   "source": [
    "## Update a SCORE"
   ]
  },
  {
   "cell_type": "code",
   "execution_count": 265,
   "metadata": {},
   "outputs": [
    {
     "name": "stderr",
     "output_type": "stream",
     "text": [
      "Raised JSONRPCException while returning the custom response. Error message: {'code': -32602, 'message': 'Pending transaction'}\n"
     ]
    },
    {
     "name": "stdout",
     "output_type": "stream",
     "text": [
      "Retrying in 1 seconds...\n"
     ]
    },
    {
     "name": "stderr",
     "output_type": "stream",
     "text": [
      "Raised JSONRPCException while returning the custom response. Error message: {'code': -32602, 'message': 'Pending transaction'}\n"
     ]
    },
    {
     "name": "stdout",
     "output_type": "stream",
     "text": [
      "Retrying in 2 seconds...\n"
     ]
    },
    {
     "data": {
      "text/plain": [
       "{'txHash': '0x066d4cce6502bf9da2fb34df5c433e43638d5869f5f269808ac125f6e4fc76c8',\n",
       " 'blockHeight': 262728,\n",
       " 'blockHash': '0x0e6d6316416bcf2cdc3dd3ca2d86429996b3a54fa40135ce7c95b25b2ed50bbc',\n",
       " 'txIndex': 1,\n",
       " 'to': 'cx60ba0aa664572602b2667d6d6d4b217a36082d0f',\n",
       " 'scoreAddress': 'cx60ba0aa664572602b2667d6d6d4b217a36082d0f',\n",
       " 'stepUsed': 2433903380,\n",
       " 'stepPrice': 10000000000,\n",
       " 'cumulativeStepUsed': 2433903380,\n",
       " 'eventLogs': [{'scoreAddress': 'cxa7ef2f228c1d3ee6bab8595245324a10e2698d8d',\n",
       "   'indexed': ['Transfer(Address,Address,int,bytes)',\n",
       "    'cxa7ef2f228c1d3ee6bab8595245324a10e2698d8d',\n",
       "    'hx3f01840a599da07b0f620eeae7aa9c574169a4be',\n",
       "    '0xad78ebc5ac6200000'],\n",
       "   'data': ['0x4e6f6e65']},\n",
       "  {'scoreAddress': 'cxa7ef2f228c1d3ee6bab8595245324a10e2698d8d',\n",
       "   'indexed': ['Mint(Address,int,bytes)',\n",
       "    'hx3f01840a599da07b0f620eeae7aa9c574169a4be'],\n",
       "   'data': ['0xad78ebc5ac6200000', '0x4e6f6e65']}],\n",
       " 'logsBloom': b'\\x00\\x00\\x00\\x00\\x00\\x00\\x00\\x00\\x00\\x00\\x00 \\x00\\x00\\x00\\x00\\x00\\x00\\x00\\x00\\x00\\x00\\x00\\x00\\x00@\\x00\\x00\\x00\\x00\\x00\\x00\\x00\\x00\\x00\\x00\\x02\\x00\\x00\\x00\\x00\\x01\\x00\\x00\\x00\\x00 \\x00\\x00\\x00\\x00\\x00\\x00\\x00\\x00\\x00\\x00\\x00\\x00\\x00\\x00\\x00\\x00\\x00\\x00\\x00\\x00\\x00\\x00\\x01\\x00\\x00\\x00\\x00\\x00\\x00\\x00\\x00\\x00\\x00\\x00\\x00\\x00\\x00\\x00\\x00\\x00\\x00\\x00\\x00\\x00\\x00\\x00\\x00\\x00\\x00\\x00\\x00\\x00\\x00\\x00\\x00\\x00\\x00\\x00\\x00\\x00\\x00\\x00\\x00\\x00\\x00\\x01\\x00\\x00\\x00\\x00\\x00\\x00\\x00\\x00\\x08\\x00\\x00\\x00\\x00\\x00\\x00 \\x00\\x00\\x00\\x00 \\x00\\x00\\x00\\x00\\x00\\x01\\x00\\x00\\x00\\x00\\x00\\x00\\x00\\x00\\x00\\x00\\x00\\x00\\x00\\x00\\x00\\x00\\x00\\x10\\x00\\x00\\x00\\x00\\x00\\x00@\\x02\\x00\\x00\\x00\\x00\\x00\\x04\\x00\\x00\\x00\\x00\\x00\\x00\\x00\\x00\\x00\\x00\\x01\\x00\\x00\\x00\\x00\\x00\\x00\\x00\\x00\\x00\\x01\\x00\\x08\\x00\\x00\\x00\\x00\\x00\\x00\\x00\\x00\\x00 \\x00\\x00\\x00\\x00\\x00\\x00\\x00\\x00A\\x00\\x00\\x00\\x00\\x00\\x00\\x00\\x00\\x00\\x00\\x00\\x00\\x00\\x00\\x00\\x00\\x00\\x00\\x00\\x00\\x00\\x00\\x00\\x00\\x00\\x00\\x00\\x00\\x00\\x00\\x00\\x00\\x00\\x00\\x00\\x00\\x00\\x00\\x00\\x00\\x00\\x00',\n",
       " 'status': 1}"
      ]
     },
     "execution_count": 265,
     "metadata": {},
     "output_type": "execute_result"
    }
   ],
   "source": [
    "contract = 'loans'\n",
    "update = contracts[contract]['SCORE']\n",
    "deploy_transaction = DeployTransactionBuilder()\\\n",
    "    .from_(wallet.get_address())\\\n",
    "    .to(update)\\\n",
    "    .nid(NID)\\\n",
    "    .nonce(100)\\\n",
    "    .content_type(\"application/zip\")\\\n",
    "    .content(gen_deploy_data_content(contracts[contract][\"zip\"]))\\\n",
    "    .build()\n",
    "\n",
    "step_limit = icon_service.estimate_step(deploy_transaction) + 100000\n",
    "\n",
    "signed_transaction = SignedTransaction(deploy_transaction, wallet, step_limit)\n",
    "tx_hash = icon_service.send_transaction(signed_transaction)\n",
    "\n",
    "get_tx_result(tx_hash)\n"
   ]
  },
  {
   "cell_type": "markdown",
   "metadata": {},
   "source": [
    "## Set parameters"
   ]
  },
  {
   "cell_type": "code",
   "execution_count": 251,
   "metadata": {},
   "outputs": [],
   "source": [
    "settings = [{'contract': 'sicx', 'method': 'setAdmin', 'params':{'_admin': contracts['staking']['SCORE']}},\n",
    "            {'contract': 'icd', 'method': 'setAdmin', 'params':{'_admin': contracts['loans']['SCORE']}},\n",
    "            {'contract': 'bal', 'method': 'setAdmin', 'params':{'_admin': wallet.get_address()}},\n",
    "            {'contract': 'loans', 'method': 'setAdmin', 'params':{'_admin': wallet.get_address()}},\n",
    "            {'contract': 'icd', 'method': 'set_oracle_address', 'params':{'_address': contracts['dummy_oracle']['SCORE']}},\n",
    "            {'contract': 'staking', 'method': 'set_sICX_address', 'params':{'_address': contracts['sicx']['SCORE']}},\n",
    "            {'contract': 'loans', 'method': 'set_dividends', 'params':{'_address': contracts['dividends']['SCORE']}},\n",
    "            {'contract': 'loans', 'method': 'set_reserve', 'params':{'_address': contracts['reserve_fund']['SCORE']}},\n",
    "            {'contract': 'reserve_fund', 'method': 'set_loans_score', 'params':{'_address': contracts['loans']['SCORE']}},\n",
    "            {'contract': 'reserve_fund', 'method': 'set_baln_token', 'params':{'_address': contracts['bal']['SCORE']}},\n",
    "            {'contract': 'reserve_fund', 'method': 'set_sicx_token', 'params':{'_address': contracts['sicx']['SCORE']}},\n",
    "            {'contract': 'sicx', 'method': 'set_staking_address', 'params':{'_address': contracts['staking']['SCORE']}},\n",
    "            {'contract': 'bal', 'method': 'mint', 'params':{'_amount': 10 * ICX}},\n",
    "            {'contract': 'bal', 'method': 'mintTo', 'params':{'_account': contracts['reserve_fund']['SCORE'], '_amount': 1000 * ICX}},\n",
    "            {'contract': 'loans', 'method': 'add_asset', 'params':{'_token_address': contracts['sicx']['SCORE'], 'is_active': 1, 'is_collateral': 1}},\n",
    "            {'contract': 'loans', 'method': 'add_asset', 'params':{'_token_address': contracts['icd']['SCORE'], 'is_active': 1, 'is_collateral': 0}},\n",
    "            {'contract': 'loans', 'method': 'add_asset', 'params':{'_token_address': contracts['bal']['SCORE'], 'is_active': 0, 'is_collateral': 1}},\n",
    "            {'contract': 'loans', 'method': 'toggle_loans_on', 'params':{}}]"
   ]
  },
  {
   "cell_type": "code",
   "execution_count": 252,
   "metadata": {
    "collapsed": true
   },
   "outputs": [
    {
     "name": "stdout",
     "output_type": "stream",
     "text": [
      "\n",
      "\n",
      "Calling setAdmin, with parameters {'_admin': 'cxb12ac82038f98353776f555b60c7ade39bc73681'} on the sicx contract.\n"
     ]
    },
    {
     "data": {
      "text/plain": [
       "'0xd24198659eea399ee0895c2b80081cc7240ebd9fe07f224d7dbece6d960b1d7d'"
      ]
     },
     "execution_count": 252,
     "metadata": {},
     "output_type": "execute_result"
    },
    {
     "name": "stderr",
     "output_type": "stream",
     "text": [
      "Raised JSONRPCException while returning the custom response. Error message: {'code': -32602, 'message': 'Pending transaction'}\n"
     ]
    },
    {
     "name": "stdout",
     "output_type": "stream",
     "text": [
      "Retrying in 1 seconds...\n",
      "{'txHash': '0xd24198659eea399ee0895c2b80081cc7240ebd9fe07f224d7dbece6d960b1d7d', 'blockHeight': 261082, 'blockHash': '0x347aede3918bc957520d47e0da28e736114cb54e13cb269a0b7c3ac02e38357a', 'txIndex': 1, 'to': 'cxc92b0adc5f889044642ac3c1d24842eae5d222b4', 'stepUsed': 148920, 'stepPrice': 10000000000, 'cumulativeStepUsed': 148920, 'eventLogs': [], 'logsBloom': b'\\x00\\x00\\x00\\x00\\x00\\x00\\x00\\x00\\x00\\x00\\x00\\x00\\x00\\x00\\x00\\x00\\x00\\x00\\x00\\x00\\x00\\x00\\x00\\x00\\x00\\x00\\x00\\x00\\x00\\x00\\x00\\x00\\x00\\x00\\x00\\x00\\x00\\x00\\x00\\x00\\x00\\x00\\x00\\x00\\x00\\x00\\x00\\x00\\x00\\x00\\x00\\x00\\x00\\x00\\x00\\x00\\x00\\x00\\x00\\x00\\x00\\x00\\x00\\x00\\x00\\x00\\x00\\x00\\x00\\x00\\x00\\x00\\x00\\x00\\x00\\x00\\x00\\x00\\x00\\x00\\x00\\x00\\x00\\x00\\x00\\x00\\x00\\x00\\x00\\x00\\x00\\x00\\x00\\x00\\x00\\x00\\x00\\x00\\x00\\x00\\x00\\x00\\x00\\x00\\x00\\x00\\x00\\x00\\x00\\x00\\x00\\x00\\x00\\x00\\x00\\x00\\x00\\x00\\x00\\x00\\x00\\x00\\x00\\x00\\x00\\x00\\x00\\x00\\x00\\x00\\x00\\x00\\x00\\x00\\x00\\x00\\x00\\x00\\x00\\x00\\x00\\x00\\x00\\x00\\x00\\x00\\x00\\x00\\x00\\x00\\x00\\x00\\x00\\x00\\x00\\x00\\x00\\x00\\x00\\x00\\x00\\x00\\x00\\x00\\x00\\x00\\x00\\x00\\x00\\x00\\x00\\x00\\x00\\x00\\x00\\x00\\x00\\x00\\x00\\x00\\x00\\x00\\x00\\x00\\x00\\x00\\x00\\x00\\x00\\x00\\x00\\x00\\x00\\x00\\x00\\x00\\x00\\x00\\x00\\x00\\x00\\x00\\x00\\x00\\x00\\x00\\x00\\x00\\x00\\x00\\x00\\x00\\x00\\x00\\x00\\x00\\x00\\x00\\x00\\x00\\x00\\x00\\x00\\x00\\x00\\x00\\x00\\x00\\x00\\x00\\x00\\x00\\x00\\x00\\x00\\x00\\x00\\x00\\x00\\x00\\x00\\x00\\x00\\x00\\x00\\x00\\x00\\x00\\x00\\x00\\x00\\x00\\x00\\x00\\x00\\x00', 'status': 1}\n",
      "\n",
      "\n",
      "Calling setAdmin, with parameters {'_admin': 'cx60ba0aa664572602b2667d6d6d4b217a36082d0f'} on the icd contract.\n"
     ]
    },
    {
     "data": {
      "text/plain": [
       "'0x8e65b2e45534cc000622409f9f66c57b51fa92c8b153168fcc4abad2833ee119'"
      ]
     },
     "execution_count": 252,
     "metadata": {},
     "output_type": "execute_result"
    },
    {
     "name": "stderr",
     "output_type": "stream",
     "text": [
      "Raised JSONRPCException while returning the custom response. Error message: {'code': -32602, 'message': 'Pending transaction'}\n"
     ]
    },
    {
     "name": "stdout",
     "output_type": "stream",
     "text": [
      "Retrying in 1 seconds...\n"
     ]
    },
    {
     "name": "stderr",
     "output_type": "stream",
     "text": [
      "Raised JSONRPCException while returning the custom response. Error message: {'code': -32602, 'message': 'Pending transaction'}\n"
     ]
    },
    {
     "name": "stdout",
     "output_type": "stream",
     "text": [
      "Retrying in 2 seconds...\n",
      "{'txHash': '0x8e65b2e45534cc000622409f9f66c57b51fa92c8b153168fcc4abad2833ee119', 'blockHeight': 261083, 'blockHash': '0x9e15ec76d912dd7da4585f8e4c0d118b0c09b978c4fe6f0f236a456107180cf7', 'txIndex': 1, 'to': 'cxa7ef2f228c1d3ee6bab8595245324a10e2698d8d', 'stepUsed': 148920, 'stepPrice': 10000000000, 'cumulativeStepUsed': 148920, 'eventLogs': [], 'logsBloom': b'\\x00\\x00\\x00\\x00\\x00\\x00\\x00\\x00\\x00\\x00\\x00\\x00\\x00\\x00\\x00\\x00\\x00\\x00\\x00\\x00\\x00\\x00\\x00\\x00\\x00\\x00\\x00\\x00\\x00\\x00\\x00\\x00\\x00\\x00\\x00\\x00\\x00\\x00\\x00\\x00\\x00\\x00\\x00\\x00\\x00\\x00\\x00\\x00\\x00\\x00\\x00\\x00\\x00\\x00\\x00\\x00\\x00\\x00\\x00\\x00\\x00\\x00\\x00\\x00\\x00\\x00\\x00\\x00\\x00\\x00\\x00\\x00\\x00\\x00\\x00\\x00\\x00\\x00\\x00\\x00\\x00\\x00\\x00\\x00\\x00\\x00\\x00\\x00\\x00\\x00\\x00\\x00\\x00\\x00\\x00\\x00\\x00\\x00\\x00\\x00\\x00\\x00\\x00\\x00\\x00\\x00\\x00\\x00\\x00\\x00\\x00\\x00\\x00\\x00\\x00\\x00\\x00\\x00\\x00\\x00\\x00\\x00\\x00\\x00\\x00\\x00\\x00\\x00\\x00\\x00\\x00\\x00\\x00\\x00\\x00\\x00\\x00\\x00\\x00\\x00\\x00\\x00\\x00\\x00\\x00\\x00\\x00\\x00\\x00\\x00\\x00\\x00\\x00\\x00\\x00\\x00\\x00\\x00\\x00\\x00\\x00\\x00\\x00\\x00\\x00\\x00\\x00\\x00\\x00\\x00\\x00\\x00\\x00\\x00\\x00\\x00\\x00\\x00\\x00\\x00\\x00\\x00\\x00\\x00\\x00\\x00\\x00\\x00\\x00\\x00\\x00\\x00\\x00\\x00\\x00\\x00\\x00\\x00\\x00\\x00\\x00\\x00\\x00\\x00\\x00\\x00\\x00\\x00\\x00\\x00\\x00\\x00\\x00\\x00\\x00\\x00\\x00\\x00\\x00\\x00\\x00\\x00\\x00\\x00\\x00\\x00\\x00\\x00\\x00\\x00\\x00\\x00\\x00\\x00\\x00\\x00\\x00\\x00\\x00\\x00\\x00\\x00\\x00\\x00\\x00\\x00\\x00\\x00\\x00\\x00\\x00\\x00\\x00\\x00\\x00\\x00', 'status': 1}\n",
      "\n",
      "\n",
      "Calling setAdmin, with parameters {'_admin': 'hxe7af5fcfd8dfc67530a01a0e403882687528dfcb'} on the bal contract.\n"
     ]
    },
    {
     "data": {
      "text/plain": [
       "'0x1c3c5a62f5ce551c53f490e541e0fbd413424c439d3be6ca06eb861336ee9df1'"
      ]
     },
     "execution_count": 252,
     "metadata": {},
     "output_type": "execute_result"
    },
    {
     "name": "stderr",
     "output_type": "stream",
     "text": [
      "Raised JSONRPCException while returning the custom response. Error message: {'code': -32602, 'message': 'Pending transaction'}\n"
     ]
    },
    {
     "name": "stdout",
     "output_type": "stream",
     "text": [
      "Retrying in 1 seconds...\n",
      "{'txHash': '0x1c3c5a62f5ce551c53f490e541e0fbd413424c439d3be6ca06eb861336ee9df1', 'blockHeight': 261084, 'blockHash': '0x4bdd2d55461a59fe74893ddd0d7174cd77aa9fbf90b32531805717be05bfdd01', 'txIndex': 1, 'to': 'cxba42914c86964530e5c52e142c8862dc6c4a4e12', 'stepUsed': 148600, 'stepPrice': 10000000000, 'cumulativeStepUsed': 148600, 'eventLogs': [], 'logsBloom': b'\\x00\\x00\\x00\\x00\\x00\\x00\\x00\\x00\\x00\\x00\\x00\\x00\\x00\\x00\\x00\\x00\\x00\\x00\\x00\\x00\\x00\\x00\\x00\\x00\\x00\\x00\\x00\\x00\\x00\\x00\\x00\\x00\\x00\\x00\\x00\\x00\\x00\\x00\\x00\\x00\\x00\\x00\\x00\\x00\\x00\\x00\\x00\\x00\\x00\\x00\\x00\\x00\\x00\\x00\\x00\\x00\\x00\\x00\\x00\\x00\\x00\\x00\\x00\\x00\\x00\\x00\\x00\\x00\\x00\\x00\\x00\\x00\\x00\\x00\\x00\\x00\\x00\\x00\\x00\\x00\\x00\\x00\\x00\\x00\\x00\\x00\\x00\\x00\\x00\\x00\\x00\\x00\\x00\\x00\\x00\\x00\\x00\\x00\\x00\\x00\\x00\\x00\\x00\\x00\\x00\\x00\\x00\\x00\\x00\\x00\\x00\\x00\\x00\\x00\\x00\\x00\\x00\\x00\\x00\\x00\\x00\\x00\\x00\\x00\\x00\\x00\\x00\\x00\\x00\\x00\\x00\\x00\\x00\\x00\\x00\\x00\\x00\\x00\\x00\\x00\\x00\\x00\\x00\\x00\\x00\\x00\\x00\\x00\\x00\\x00\\x00\\x00\\x00\\x00\\x00\\x00\\x00\\x00\\x00\\x00\\x00\\x00\\x00\\x00\\x00\\x00\\x00\\x00\\x00\\x00\\x00\\x00\\x00\\x00\\x00\\x00\\x00\\x00\\x00\\x00\\x00\\x00\\x00\\x00\\x00\\x00\\x00\\x00\\x00\\x00\\x00\\x00\\x00\\x00\\x00\\x00\\x00\\x00\\x00\\x00\\x00\\x00\\x00\\x00\\x00\\x00\\x00\\x00\\x00\\x00\\x00\\x00\\x00\\x00\\x00\\x00\\x00\\x00\\x00\\x00\\x00\\x00\\x00\\x00\\x00\\x00\\x00\\x00\\x00\\x00\\x00\\x00\\x00\\x00\\x00\\x00\\x00\\x00\\x00\\x00\\x00\\x00\\x00\\x00\\x00\\x00\\x00\\x00\\x00\\x00\\x00\\x00\\x00\\x00\\x00\\x00', 'status': 1}\n",
      "\n",
      "\n",
      "Calling setAdmin, with parameters {'_admin': 'hxe7af5fcfd8dfc67530a01a0e403882687528dfcb'} on the loans contract.\n"
     ]
    },
    {
     "data": {
      "text/plain": [
       "'0x9119de140eefd23e97d5cfdfed9a6272a5f23ac6e9392cedcd8d62116dcf387e'"
      ]
     },
     "execution_count": 252,
     "metadata": {},
     "output_type": "execute_result"
    },
    {
     "name": "stderr",
     "output_type": "stream",
     "text": [
      "Raised JSONRPCException while returning the custom response. Error message: {'code': -32602, 'message': 'Pending transaction'}\n"
     ]
    },
    {
     "name": "stdout",
     "output_type": "stream",
     "text": [
      "Retrying in 1 seconds...\n"
     ]
    },
    {
     "name": "stderr",
     "output_type": "stream",
     "text": [
      "Raised JSONRPCException while returning the custom response. Error message: {'code': -32602, 'message': 'Pending transaction'}\n"
     ]
    },
    {
     "name": "stdout",
     "output_type": "stream",
     "text": [
      "Retrying in 2 seconds...\n",
      "{'txHash': '0x9119de140eefd23e97d5cfdfed9a6272a5f23ac6e9392cedcd8d62116dcf387e', 'blockHeight': 261085, 'blockHash': '0x1592bc5fd507cedfe1590adb16ad099e57447ee5170811977fe6214cd86ce924', 'txIndex': 1, 'to': 'cx60ba0aa664572602b2667d6d6d4b217a36082d0f', 'stepUsed': 143800, 'stepPrice': 10000000000, 'cumulativeStepUsed': 143800, 'eventLogs': [], 'logsBloom': b'\\x00\\x00\\x00\\x00\\x00\\x00\\x00\\x00\\x00\\x00\\x00\\x00\\x00\\x00\\x00\\x00\\x00\\x00\\x00\\x00\\x00\\x00\\x00\\x00\\x00\\x00\\x00\\x00\\x00\\x00\\x00\\x00\\x00\\x00\\x00\\x00\\x00\\x00\\x00\\x00\\x00\\x00\\x00\\x00\\x00\\x00\\x00\\x00\\x00\\x00\\x00\\x00\\x00\\x00\\x00\\x00\\x00\\x00\\x00\\x00\\x00\\x00\\x00\\x00\\x00\\x00\\x00\\x00\\x00\\x00\\x00\\x00\\x00\\x00\\x00\\x00\\x00\\x00\\x00\\x00\\x00\\x00\\x00\\x00\\x00\\x00\\x00\\x00\\x00\\x00\\x00\\x00\\x00\\x00\\x00\\x00\\x00\\x00\\x00\\x00\\x00\\x00\\x00\\x00\\x00\\x00\\x00\\x00\\x00\\x00\\x00\\x00\\x00\\x00\\x00\\x00\\x00\\x00\\x00\\x00\\x00\\x00\\x00\\x00\\x00\\x00\\x00\\x00\\x00\\x00\\x00\\x00\\x00\\x00\\x00\\x00\\x00\\x00\\x00\\x00\\x00\\x00\\x00\\x00\\x00\\x00\\x00\\x00\\x00\\x00\\x00\\x00\\x00\\x00\\x00\\x00\\x00\\x00\\x00\\x00\\x00\\x00\\x00\\x00\\x00\\x00\\x00\\x00\\x00\\x00\\x00\\x00\\x00\\x00\\x00\\x00\\x00\\x00\\x00\\x00\\x00\\x00\\x00\\x00\\x00\\x00\\x00\\x00\\x00\\x00\\x00\\x00\\x00\\x00\\x00\\x00\\x00\\x00\\x00\\x00\\x00\\x00\\x00\\x00\\x00\\x00\\x00\\x00\\x00\\x00\\x00\\x00\\x00\\x00\\x00\\x00\\x00\\x00\\x00\\x00\\x00\\x00\\x00\\x00\\x00\\x00\\x00\\x00\\x00\\x00\\x00\\x00\\x00\\x00\\x00\\x00\\x00\\x00\\x00\\x00\\x00\\x00\\x00\\x00\\x00\\x00\\x00\\x00\\x00\\x00\\x00\\x00\\x00\\x00\\x00\\x00', 'status': 1}\n",
      "\n",
      "\n",
      "Calling set_oracle_address, with parameters {'_address': 'cx16bc08d749b028ba330a6071c66f9b9c34b9fc85'} on the icd contract.\n"
     ]
    },
    {
     "data": {
      "text/plain": [
       "'0x99da1d0a5906b4af7eacd63606277d3bbaa7292eca801199ec27b3da67f69671'"
      ]
     },
     "execution_count": 252,
     "metadata": {},
     "output_type": "execute_result"
    },
    {
     "name": "stderr",
     "output_type": "stream",
     "text": [
      "Raised JSONRPCException while returning the custom response. Error message: {'code': -32602, 'message': 'Pending transaction'}\n"
     ]
    },
    {
     "name": "stdout",
     "output_type": "stream",
     "text": [
      "Retrying in 1 seconds...\n",
      "{'txHash': '0x99da1d0a5906b4af7eacd63606277d3bbaa7292eca801199ec27b3da67f69671', 'blockHeight': 261086, 'blockHash': '0x49c1fc60795f162cd6d33d9d587195f7151b77d7c8f188e52a9ae141ba913eee', 'txIndex': 1, 'to': 'cxa7ef2f228c1d3ee6bab8595245324a10e2698d8d', 'stepUsed': 146280, 'stepPrice': 10000000000, 'cumulativeStepUsed': 146280, 'eventLogs': [], 'logsBloom': b'\\x00\\x00\\x00\\x00\\x00\\x00\\x00\\x00\\x00\\x00\\x00\\x00\\x00\\x00\\x00\\x00\\x00\\x00\\x00\\x00\\x00\\x00\\x00\\x00\\x00\\x00\\x00\\x00\\x00\\x00\\x00\\x00\\x00\\x00\\x00\\x00\\x00\\x00\\x00\\x00\\x00\\x00\\x00\\x00\\x00\\x00\\x00\\x00\\x00\\x00\\x00\\x00\\x00\\x00\\x00\\x00\\x00\\x00\\x00\\x00\\x00\\x00\\x00\\x00\\x00\\x00\\x00\\x00\\x00\\x00\\x00\\x00\\x00\\x00\\x00\\x00\\x00\\x00\\x00\\x00\\x00\\x00\\x00\\x00\\x00\\x00\\x00\\x00\\x00\\x00\\x00\\x00\\x00\\x00\\x00\\x00\\x00\\x00\\x00\\x00\\x00\\x00\\x00\\x00\\x00\\x00\\x00\\x00\\x00\\x00\\x00\\x00\\x00\\x00\\x00\\x00\\x00\\x00\\x00\\x00\\x00\\x00\\x00\\x00\\x00\\x00\\x00\\x00\\x00\\x00\\x00\\x00\\x00\\x00\\x00\\x00\\x00\\x00\\x00\\x00\\x00\\x00\\x00\\x00\\x00\\x00\\x00\\x00\\x00\\x00\\x00\\x00\\x00\\x00\\x00\\x00\\x00\\x00\\x00\\x00\\x00\\x00\\x00\\x00\\x00\\x00\\x00\\x00\\x00\\x00\\x00\\x00\\x00\\x00\\x00\\x00\\x00\\x00\\x00\\x00\\x00\\x00\\x00\\x00\\x00\\x00\\x00\\x00\\x00\\x00\\x00\\x00\\x00\\x00\\x00\\x00\\x00\\x00\\x00\\x00\\x00\\x00\\x00\\x00\\x00\\x00\\x00\\x00\\x00\\x00\\x00\\x00\\x00\\x00\\x00\\x00\\x00\\x00\\x00\\x00\\x00\\x00\\x00\\x00\\x00\\x00\\x00\\x00\\x00\\x00\\x00\\x00\\x00\\x00\\x00\\x00\\x00\\x00\\x00\\x00\\x00\\x00\\x00\\x00\\x00\\x00\\x00\\x00\\x00\\x00\\x00\\x00\\x00\\x00\\x00\\x00', 'status': 1}\n",
      "\n",
      "\n",
      "Calling set_sICX_address, with parameters {'_address': 'cxc92b0adc5f889044642ac3c1d24842eae5d222b4'} on the staking contract.\n"
     ]
    },
    {
     "data": {
      "text/plain": [
       "'0xc66c0ae767fe7d3a71efb3a2c1925994663d0d8f4a424e0c651807ca76b88a0d'"
      ]
     },
     "execution_count": 252,
     "metadata": {},
     "output_type": "execute_result"
    },
    {
     "name": "stderr",
     "output_type": "stream",
     "text": [
      "Raised JSONRPCException while returning the custom response. Error message: {'code': -32602, 'message': 'Pending transaction'}\n"
     ]
    },
    {
     "name": "stdout",
     "output_type": "stream",
     "text": [
      "Retrying in 1 seconds...\n"
     ]
    },
    {
     "name": "stderr",
     "output_type": "stream",
     "text": [
      "Raised JSONRPCException while returning the custom response. Error message: {'code': -32602, 'message': 'Pending transaction'}\n"
     ]
    },
    {
     "name": "stdout",
     "output_type": "stream",
     "text": [
      "Retrying in 2 seconds...\n",
      "{'txHash': '0xc66c0ae767fe7d3a71efb3a2c1925994663d0d8f4a424e0c651807ca76b88a0d', 'blockHeight': 261087, 'blockHash': '0xd029d68fc432a3b126637eaf2df9bc66bcb0018590990664ae7b30a0c47d7400', 'txIndex': 1, 'to': 'cxb12ac82038f98353776f555b60c7ade39bc73681', 'stepUsed': 150920, 'stepPrice': 10000000000, 'cumulativeStepUsed': 150920, 'eventLogs': [], 'logsBloom': b'\\x00\\x00\\x00\\x00\\x00\\x00\\x00\\x00\\x00\\x00\\x00\\x00\\x00\\x00\\x00\\x00\\x00\\x00\\x00\\x00\\x00\\x00\\x00\\x00\\x00\\x00\\x00\\x00\\x00\\x00\\x00\\x00\\x00\\x00\\x00\\x00\\x00\\x00\\x00\\x00\\x00\\x00\\x00\\x00\\x00\\x00\\x00\\x00\\x00\\x00\\x00\\x00\\x00\\x00\\x00\\x00\\x00\\x00\\x00\\x00\\x00\\x00\\x00\\x00\\x00\\x00\\x00\\x00\\x00\\x00\\x00\\x00\\x00\\x00\\x00\\x00\\x00\\x00\\x00\\x00\\x00\\x00\\x00\\x00\\x00\\x00\\x00\\x00\\x00\\x00\\x00\\x00\\x00\\x00\\x00\\x00\\x00\\x00\\x00\\x00\\x00\\x00\\x00\\x00\\x00\\x00\\x00\\x00\\x00\\x00\\x00\\x00\\x00\\x00\\x00\\x00\\x00\\x00\\x00\\x00\\x00\\x00\\x00\\x00\\x00\\x00\\x00\\x00\\x00\\x00\\x00\\x00\\x00\\x00\\x00\\x00\\x00\\x00\\x00\\x00\\x00\\x00\\x00\\x00\\x00\\x00\\x00\\x00\\x00\\x00\\x00\\x00\\x00\\x00\\x00\\x00\\x00\\x00\\x00\\x00\\x00\\x00\\x00\\x00\\x00\\x00\\x00\\x00\\x00\\x00\\x00\\x00\\x00\\x00\\x00\\x00\\x00\\x00\\x00\\x00\\x00\\x00\\x00\\x00\\x00\\x00\\x00\\x00\\x00\\x00\\x00\\x00\\x00\\x00\\x00\\x00\\x00\\x00\\x00\\x00\\x00\\x00\\x00\\x00\\x00\\x00\\x00\\x00\\x00\\x00\\x00\\x00\\x00\\x00\\x00\\x00\\x00\\x00\\x00\\x00\\x00\\x00\\x00\\x00\\x00\\x00\\x00\\x00\\x00\\x00\\x00\\x00\\x00\\x00\\x00\\x00\\x00\\x00\\x00\\x00\\x00\\x00\\x00\\x00\\x00\\x00\\x00\\x00\\x00\\x00\\x00\\x00\\x00\\x00\\x00\\x00', 'status': 1}\n",
      "\n",
      "\n",
      "Calling set_dividends, with parameters {'_address': 'cxd361228ccf434754824fc04b2ce7dc05becac3b9'} on the loans contract.\n"
     ]
    },
    {
     "data": {
      "text/plain": [
       "'0x0a33524c61c8f9bd602b171e3d142a79c30e1d9fd98a7bdce02dc0e7fe9a8785'"
      ]
     },
     "execution_count": 252,
     "metadata": {},
     "output_type": "execute_result"
    },
    {
     "name": "stderr",
     "output_type": "stream",
     "text": [
      "Raised JSONRPCException while returning the custom response. Error message: {'code': -32602, 'message': 'Pending transaction'}\n"
     ]
    },
    {
     "name": "stdout",
     "output_type": "stream",
     "text": [
      "Retrying in 1 seconds...\n"
     ]
    },
    {
     "name": "stderr",
     "output_type": "stream",
     "text": [
      "Raised JSONRPCException while returning the custom response. Error message: {'code': -32602, 'message': 'Pending transaction'}\n"
     ]
    },
    {
     "name": "stdout",
     "output_type": "stream",
     "text": [
      "Retrying in 2 seconds...\n",
      "{'txHash': '0x0a33524c61c8f9bd602b171e3d142a79c30e1d9fd98a7bdce02dc0e7fe9a8785', 'blockHeight': 261089, 'blockHash': '0x446c7669f52f949b844461316aad06d65408b08052aff66c54d4929fb39a7e8e', 'txIndex': 1, 'to': 'cx60ba0aa664572602b2667d6d6d4b217a36082d0f', 'stepUsed': 150320, 'stepPrice': 10000000000, 'cumulativeStepUsed': 150320, 'eventLogs': [], 'logsBloom': b'\\x00\\x00\\x00\\x00\\x00\\x00\\x00\\x00\\x00\\x00\\x00\\x00\\x00\\x00\\x00\\x00\\x00\\x00\\x00\\x00\\x00\\x00\\x00\\x00\\x00\\x00\\x00\\x00\\x00\\x00\\x00\\x00\\x00\\x00\\x00\\x00\\x00\\x00\\x00\\x00\\x00\\x00\\x00\\x00\\x00\\x00\\x00\\x00\\x00\\x00\\x00\\x00\\x00\\x00\\x00\\x00\\x00\\x00\\x00\\x00\\x00\\x00\\x00\\x00\\x00\\x00\\x00\\x00\\x00\\x00\\x00\\x00\\x00\\x00\\x00\\x00\\x00\\x00\\x00\\x00\\x00\\x00\\x00\\x00\\x00\\x00\\x00\\x00\\x00\\x00\\x00\\x00\\x00\\x00\\x00\\x00\\x00\\x00\\x00\\x00\\x00\\x00\\x00\\x00\\x00\\x00\\x00\\x00\\x00\\x00\\x00\\x00\\x00\\x00\\x00\\x00\\x00\\x00\\x00\\x00\\x00\\x00\\x00\\x00\\x00\\x00\\x00\\x00\\x00\\x00\\x00\\x00\\x00\\x00\\x00\\x00\\x00\\x00\\x00\\x00\\x00\\x00\\x00\\x00\\x00\\x00\\x00\\x00\\x00\\x00\\x00\\x00\\x00\\x00\\x00\\x00\\x00\\x00\\x00\\x00\\x00\\x00\\x00\\x00\\x00\\x00\\x00\\x00\\x00\\x00\\x00\\x00\\x00\\x00\\x00\\x00\\x00\\x00\\x00\\x00\\x00\\x00\\x00\\x00\\x00\\x00\\x00\\x00\\x00\\x00\\x00\\x00\\x00\\x00\\x00\\x00\\x00\\x00\\x00\\x00\\x00\\x00\\x00\\x00\\x00\\x00\\x00\\x00\\x00\\x00\\x00\\x00\\x00\\x00\\x00\\x00\\x00\\x00\\x00\\x00\\x00\\x00\\x00\\x00\\x00\\x00\\x00\\x00\\x00\\x00\\x00\\x00\\x00\\x00\\x00\\x00\\x00\\x00\\x00\\x00\\x00\\x00\\x00\\x00\\x00\\x00\\x00\\x00\\x00\\x00\\x00\\x00\\x00\\x00\\x00\\x00', 'status': 1}\n",
      "\n",
      "\n",
      "Calling set_reserve, with parameters {'_address': 'cx3eba3b888495c6ba7e4b18af8c898f615e02f3d2'} on the loans contract.\n"
     ]
    },
    {
     "data": {
      "text/plain": [
       "'0x815e501e9fbc837e6ca5f52470190c1bfd4c4f630eed83fb32ade07ad57d8e45'"
      ]
     },
     "execution_count": 252,
     "metadata": {},
     "output_type": "execute_result"
    },
    {
     "name": "stderr",
     "output_type": "stream",
     "text": [
      "Raised JSONRPCException while returning the custom response. Error message: {'code': -32602, 'message': 'Pending transaction'}\n"
     ]
    },
    {
     "name": "stdout",
     "output_type": "stream",
     "text": [
      "Retrying in 1 seconds...\n",
      "{'txHash': '0x815e501e9fbc837e6ca5f52470190c1bfd4c4f630eed83fb32ade07ad57d8e45', 'blockHeight': 261090, 'blockHash': '0x622efdd25b756cd47e2abd6645c18b5fbb092d86be6db46dfcbe60cc8c642f60', 'txIndex': 1, 'to': 'cx60ba0aa664572602b2667d6d6d4b217a36082d0f', 'stepUsed': 149920, 'stepPrice': 10000000000, 'cumulativeStepUsed': 149920, 'eventLogs': [], 'logsBloom': b'\\x00\\x00\\x00\\x00\\x00\\x00\\x00\\x00\\x00\\x00\\x00\\x00\\x00\\x00\\x00\\x00\\x00\\x00\\x00\\x00\\x00\\x00\\x00\\x00\\x00\\x00\\x00\\x00\\x00\\x00\\x00\\x00\\x00\\x00\\x00\\x00\\x00\\x00\\x00\\x00\\x00\\x00\\x00\\x00\\x00\\x00\\x00\\x00\\x00\\x00\\x00\\x00\\x00\\x00\\x00\\x00\\x00\\x00\\x00\\x00\\x00\\x00\\x00\\x00\\x00\\x00\\x00\\x00\\x00\\x00\\x00\\x00\\x00\\x00\\x00\\x00\\x00\\x00\\x00\\x00\\x00\\x00\\x00\\x00\\x00\\x00\\x00\\x00\\x00\\x00\\x00\\x00\\x00\\x00\\x00\\x00\\x00\\x00\\x00\\x00\\x00\\x00\\x00\\x00\\x00\\x00\\x00\\x00\\x00\\x00\\x00\\x00\\x00\\x00\\x00\\x00\\x00\\x00\\x00\\x00\\x00\\x00\\x00\\x00\\x00\\x00\\x00\\x00\\x00\\x00\\x00\\x00\\x00\\x00\\x00\\x00\\x00\\x00\\x00\\x00\\x00\\x00\\x00\\x00\\x00\\x00\\x00\\x00\\x00\\x00\\x00\\x00\\x00\\x00\\x00\\x00\\x00\\x00\\x00\\x00\\x00\\x00\\x00\\x00\\x00\\x00\\x00\\x00\\x00\\x00\\x00\\x00\\x00\\x00\\x00\\x00\\x00\\x00\\x00\\x00\\x00\\x00\\x00\\x00\\x00\\x00\\x00\\x00\\x00\\x00\\x00\\x00\\x00\\x00\\x00\\x00\\x00\\x00\\x00\\x00\\x00\\x00\\x00\\x00\\x00\\x00\\x00\\x00\\x00\\x00\\x00\\x00\\x00\\x00\\x00\\x00\\x00\\x00\\x00\\x00\\x00\\x00\\x00\\x00\\x00\\x00\\x00\\x00\\x00\\x00\\x00\\x00\\x00\\x00\\x00\\x00\\x00\\x00\\x00\\x00\\x00\\x00\\x00\\x00\\x00\\x00\\x00\\x00\\x00\\x00\\x00\\x00\\x00\\x00\\x00\\x00', 'status': 1}\n",
      "\n",
      "\n",
      "Calling set_loans_score, with parameters {'_address': 'cx60ba0aa664572602b2667d6d6d4b217a36082d0f'} on the reserve_fund contract.\n"
     ]
    },
    {
     "data": {
      "text/plain": [
       "'0x9cb357c1eb40666a32181c474442ac5f77c06b84c6b7bbe881fe23ade5907e10'"
      ]
     },
     "execution_count": 252,
     "metadata": {},
     "output_type": "execute_result"
    },
    {
     "name": "stderr",
     "output_type": "stream",
     "text": [
      "Raised JSONRPCException while returning the custom response. Error message: {'code': -32602, 'message': 'Pending transaction'}\n"
     ]
    },
    {
     "name": "stdout",
     "output_type": "stream",
     "text": [
      "Retrying in 1 seconds...\n"
     ]
    },
    {
     "name": "stderr",
     "output_type": "stream",
     "text": [
      "Raised JSONRPCException while returning the custom response. Error message: {'code': -32602, 'message': 'Pending transaction'}\n"
     ]
    },
    {
     "name": "stdout",
     "output_type": "stream",
     "text": [
      "Retrying in 2 seconds...\n",
      "{'txHash': '0x9cb357c1eb40666a32181c474442ac5f77c06b84c6b7bbe881fe23ade5907e10', 'blockHeight': 261091, 'blockHash': '0x2de988efb2cee29e9254136e1e3142591a682d70a739ccdb47f4800ab7ed6059', 'txIndex': 1, 'to': 'cx3eba3b888495c6ba7e4b18af8c898f615e02f3d2', 'stepUsed': 150720, 'stepPrice': 10000000000, 'cumulativeStepUsed': 150720, 'eventLogs': [], 'logsBloom': b'\\x00\\x00\\x00\\x00\\x00\\x00\\x00\\x00\\x00\\x00\\x00\\x00\\x00\\x00\\x00\\x00\\x00\\x00\\x00\\x00\\x00\\x00\\x00\\x00\\x00\\x00\\x00\\x00\\x00\\x00\\x00\\x00\\x00\\x00\\x00\\x00\\x00\\x00\\x00\\x00\\x00\\x00\\x00\\x00\\x00\\x00\\x00\\x00\\x00\\x00\\x00\\x00\\x00\\x00\\x00\\x00\\x00\\x00\\x00\\x00\\x00\\x00\\x00\\x00\\x00\\x00\\x00\\x00\\x00\\x00\\x00\\x00\\x00\\x00\\x00\\x00\\x00\\x00\\x00\\x00\\x00\\x00\\x00\\x00\\x00\\x00\\x00\\x00\\x00\\x00\\x00\\x00\\x00\\x00\\x00\\x00\\x00\\x00\\x00\\x00\\x00\\x00\\x00\\x00\\x00\\x00\\x00\\x00\\x00\\x00\\x00\\x00\\x00\\x00\\x00\\x00\\x00\\x00\\x00\\x00\\x00\\x00\\x00\\x00\\x00\\x00\\x00\\x00\\x00\\x00\\x00\\x00\\x00\\x00\\x00\\x00\\x00\\x00\\x00\\x00\\x00\\x00\\x00\\x00\\x00\\x00\\x00\\x00\\x00\\x00\\x00\\x00\\x00\\x00\\x00\\x00\\x00\\x00\\x00\\x00\\x00\\x00\\x00\\x00\\x00\\x00\\x00\\x00\\x00\\x00\\x00\\x00\\x00\\x00\\x00\\x00\\x00\\x00\\x00\\x00\\x00\\x00\\x00\\x00\\x00\\x00\\x00\\x00\\x00\\x00\\x00\\x00\\x00\\x00\\x00\\x00\\x00\\x00\\x00\\x00\\x00\\x00\\x00\\x00\\x00\\x00\\x00\\x00\\x00\\x00\\x00\\x00\\x00\\x00\\x00\\x00\\x00\\x00\\x00\\x00\\x00\\x00\\x00\\x00\\x00\\x00\\x00\\x00\\x00\\x00\\x00\\x00\\x00\\x00\\x00\\x00\\x00\\x00\\x00\\x00\\x00\\x00\\x00\\x00\\x00\\x00\\x00\\x00\\x00\\x00\\x00\\x00\\x00\\x00\\x00\\x00', 'status': 1}\n",
      "\n",
      "\n",
      "Calling set_baln_token, with parameters {'_address': 'cxba42914c86964530e5c52e142c8862dc6c4a4e12'} on the reserve_fund contract.\n"
     ]
    },
    {
     "data": {
      "text/plain": [
       "'0x423ce289994d4dda770291840154ffc7e6c80912bb02bc5031d5afc2d8b66768'"
      ]
     },
     "execution_count": 252,
     "metadata": {},
     "output_type": "execute_result"
    },
    {
     "name": "stderr",
     "output_type": "stream",
     "text": [
      "Raised JSONRPCException while returning the custom response. Error message: {'code': -32602, 'message': 'Pending transaction'}\n"
     ]
    },
    {
     "name": "stdout",
     "output_type": "stream",
     "text": [
      "Retrying in 1 seconds...\n",
      "{'txHash': '0x423ce289994d4dda770291840154ffc7e6c80912bb02bc5031d5afc2d8b66768', 'blockHeight': 261092, 'blockHash': '0x713db7451c8807b0ad45de574e58b8480eebfb5192b2ae2ad8e0aebaa2ad14b3', 'txIndex': 1, 'to': 'cx3eba3b888495c6ba7e4b18af8c898f615e02f3d2', 'stepUsed': 150520, 'stepPrice': 10000000000, 'cumulativeStepUsed': 150520, 'eventLogs': [], 'logsBloom': b'\\x00\\x00\\x00\\x00\\x00\\x00\\x00\\x00\\x00\\x00\\x00\\x00\\x00\\x00\\x00\\x00\\x00\\x00\\x00\\x00\\x00\\x00\\x00\\x00\\x00\\x00\\x00\\x00\\x00\\x00\\x00\\x00\\x00\\x00\\x00\\x00\\x00\\x00\\x00\\x00\\x00\\x00\\x00\\x00\\x00\\x00\\x00\\x00\\x00\\x00\\x00\\x00\\x00\\x00\\x00\\x00\\x00\\x00\\x00\\x00\\x00\\x00\\x00\\x00\\x00\\x00\\x00\\x00\\x00\\x00\\x00\\x00\\x00\\x00\\x00\\x00\\x00\\x00\\x00\\x00\\x00\\x00\\x00\\x00\\x00\\x00\\x00\\x00\\x00\\x00\\x00\\x00\\x00\\x00\\x00\\x00\\x00\\x00\\x00\\x00\\x00\\x00\\x00\\x00\\x00\\x00\\x00\\x00\\x00\\x00\\x00\\x00\\x00\\x00\\x00\\x00\\x00\\x00\\x00\\x00\\x00\\x00\\x00\\x00\\x00\\x00\\x00\\x00\\x00\\x00\\x00\\x00\\x00\\x00\\x00\\x00\\x00\\x00\\x00\\x00\\x00\\x00\\x00\\x00\\x00\\x00\\x00\\x00\\x00\\x00\\x00\\x00\\x00\\x00\\x00\\x00\\x00\\x00\\x00\\x00\\x00\\x00\\x00\\x00\\x00\\x00\\x00\\x00\\x00\\x00\\x00\\x00\\x00\\x00\\x00\\x00\\x00\\x00\\x00\\x00\\x00\\x00\\x00\\x00\\x00\\x00\\x00\\x00\\x00\\x00\\x00\\x00\\x00\\x00\\x00\\x00\\x00\\x00\\x00\\x00\\x00\\x00\\x00\\x00\\x00\\x00\\x00\\x00\\x00\\x00\\x00\\x00\\x00\\x00\\x00\\x00\\x00\\x00\\x00\\x00\\x00\\x00\\x00\\x00\\x00\\x00\\x00\\x00\\x00\\x00\\x00\\x00\\x00\\x00\\x00\\x00\\x00\\x00\\x00\\x00\\x00\\x00\\x00\\x00\\x00\\x00\\x00\\x00\\x00\\x00\\x00\\x00\\x00\\x00\\x00\\x00', 'status': 1}\n",
      "\n",
      "\n",
      "Calling set_sicx_token, with parameters {'_address': 'cxc92b0adc5f889044642ac3c1d24842eae5d222b4'} on the reserve_fund contract.\n"
     ]
    },
    {
     "data": {
      "text/plain": [
       "'0xbc2ae5fdb70c5abfbe640488b878ba591973cf3e09f549efe9bcf5059a192831'"
      ]
     },
     "execution_count": 252,
     "metadata": {},
     "output_type": "execute_result"
    },
    {
     "name": "stderr",
     "output_type": "stream",
     "text": [
      "Raised JSONRPCException while returning the custom response. Error message: {'code': -32602, 'message': 'Pending transaction'}\n"
     ]
    },
    {
     "name": "stdout",
     "output_type": "stream",
     "text": [
      "Retrying in 1 seconds...\n"
     ]
    },
    {
     "name": "stderr",
     "output_type": "stream",
     "text": [
      "Raised JSONRPCException while returning the custom response. Error message: {'code': -32602, 'message': 'Pending transaction'}\n"
     ]
    },
    {
     "name": "stdout",
     "output_type": "stream",
     "text": [
      "Retrying in 2 seconds...\n",
      "{'txHash': '0xbc2ae5fdb70c5abfbe640488b878ba591973cf3e09f549efe9bcf5059a192831', 'blockHeight': 261093, 'blockHash': '0x8d410828bb106e82399c22124beb1c23ef54336adf77d4b8f2609830ba57fd2e', 'txIndex': 1, 'to': 'cx3eba3b888495c6ba7e4b18af8c898f615e02f3d2', 'stepUsed': 150520, 'stepPrice': 10000000000, 'cumulativeStepUsed': 150520, 'eventLogs': [], 'logsBloom': b'\\x00\\x00\\x00\\x00\\x00\\x00\\x00\\x00\\x00\\x00\\x00\\x00\\x00\\x00\\x00\\x00\\x00\\x00\\x00\\x00\\x00\\x00\\x00\\x00\\x00\\x00\\x00\\x00\\x00\\x00\\x00\\x00\\x00\\x00\\x00\\x00\\x00\\x00\\x00\\x00\\x00\\x00\\x00\\x00\\x00\\x00\\x00\\x00\\x00\\x00\\x00\\x00\\x00\\x00\\x00\\x00\\x00\\x00\\x00\\x00\\x00\\x00\\x00\\x00\\x00\\x00\\x00\\x00\\x00\\x00\\x00\\x00\\x00\\x00\\x00\\x00\\x00\\x00\\x00\\x00\\x00\\x00\\x00\\x00\\x00\\x00\\x00\\x00\\x00\\x00\\x00\\x00\\x00\\x00\\x00\\x00\\x00\\x00\\x00\\x00\\x00\\x00\\x00\\x00\\x00\\x00\\x00\\x00\\x00\\x00\\x00\\x00\\x00\\x00\\x00\\x00\\x00\\x00\\x00\\x00\\x00\\x00\\x00\\x00\\x00\\x00\\x00\\x00\\x00\\x00\\x00\\x00\\x00\\x00\\x00\\x00\\x00\\x00\\x00\\x00\\x00\\x00\\x00\\x00\\x00\\x00\\x00\\x00\\x00\\x00\\x00\\x00\\x00\\x00\\x00\\x00\\x00\\x00\\x00\\x00\\x00\\x00\\x00\\x00\\x00\\x00\\x00\\x00\\x00\\x00\\x00\\x00\\x00\\x00\\x00\\x00\\x00\\x00\\x00\\x00\\x00\\x00\\x00\\x00\\x00\\x00\\x00\\x00\\x00\\x00\\x00\\x00\\x00\\x00\\x00\\x00\\x00\\x00\\x00\\x00\\x00\\x00\\x00\\x00\\x00\\x00\\x00\\x00\\x00\\x00\\x00\\x00\\x00\\x00\\x00\\x00\\x00\\x00\\x00\\x00\\x00\\x00\\x00\\x00\\x00\\x00\\x00\\x00\\x00\\x00\\x00\\x00\\x00\\x00\\x00\\x00\\x00\\x00\\x00\\x00\\x00\\x00\\x00\\x00\\x00\\x00\\x00\\x00\\x00\\x00\\x00\\x00\\x00\\x00\\x00\\x00', 'status': 1}\n",
      "\n",
      "\n",
      "Calling set_staking_address, with parameters {'_address': 'cxb12ac82038f98353776f555b60c7ade39bc73681'} on the sicx contract.\n"
     ]
    },
    {
     "data": {
      "text/plain": [
       "'0x7ba3ab43a46295e675b851907822f0bd4a843edd062df5d061335ca47f448cff'"
      ]
     },
     "execution_count": 252,
     "metadata": {},
     "output_type": "execute_result"
    },
    {
     "name": "stderr",
     "output_type": "stream",
     "text": [
      "Raised JSONRPCException while returning the custom response. Error message: {'code': -32602, 'message': 'Pending transaction'}\n"
     ]
    },
    {
     "name": "stdout",
     "output_type": "stream",
     "text": [
      "Retrying in 1 seconds...\n",
      "{'txHash': '0x7ba3ab43a46295e675b851907822f0bd4a843edd062df5d061335ca47f448cff', 'blockHeight': 261094, 'blockHash': '0x81f7c0b5e62a4c0e893309acf36c80d069d3ccfd5ea12cafa4c40dbfd7027d4e', 'txIndex': 1, 'to': 'cxc92b0adc5f889044642ac3c1d24842eae5d222b4', 'stepUsed': 151520, 'stepPrice': 10000000000, 'cumulativeStepUsed': 151520, 'eventLogs': [], 'logsBloom': b'\\x00\\x00\\x00\\x00\\x00\\x00\\x00\\x00\\x00\\x00\\x00\\x00\\x00\\x00\\x00\\x00\\x00\\x00\\x00\\x00\\x00\\x00\\x00\\x00\\x00\\x00\\x00\\x00\\x00\\x00\\x00\\x00\\x00\\x00\\x00\\x00\\x00\\x00\\x00\\x00\\x00\\x00\\x00\\x00\\x00\\x00\\x00\\x00\\x00\\x00\\x00\\x00\\x00\\x00\\x00\\x00\\x00\\x00\\x00\\x00\\x00\\x00\\x00\\x00\\x00\\x00\\x00\\x00\\x00\\x00\\x00\\x00\\x00\\x00\\x00\\x00\\x00\\x00\\x00\\x00\\x00\\x00\\x00\\x00\\x00\\x00\\x00\\x00\\x00\\x00\\x00\\x00\\x00\\x00\\x00\\x00\\x00\\x00\\x00\\x00\\x00\\x00\\x00\\x00\\x00\\x00\\x00\\x00\\x00\\x00\\x00\\x00\\x00\\x00\\x00\\x00\\x00\\x00\\x00\\x00\\x00\\x00\\x00\\x00\\x00\\x00\\x00\\x00\\x00\\x00\\x00\\x00\\x00\\x00\\x00\\x00\\x00\\x00\\x00\\x00\\x00\\x00\\x00\\x00\\x00\\x00\\x00\\x00\\x00\\x00\\x00\\x00\\x00\\x00\\x00\\x00\\x00\\x00\\x00\\x00\\x00\\x00\\x00\\x00\\x00\\x00\\x00\\x00\\x00\\x00\\x00\\x00\\x00\\x00\\x00\\x00\\x00\\x00\\x00\\x00\\x00\\x00\\x00\\x00\\x00\\x00\\x00\\x00\\x00\\x00\\x00\\x00\\x00\\x00\\x00\\x00\\x00\\x00\\x00\\x00\\x00\\x00\\x00\\x00\\x00\\x00\\x00\\x00\\x00\\x00\\x00\\x00\\x00\\x00\\x00\\x00\\x00\\x00\\x00\\x00\\x00\\x00\\x00\\x00\\x00\\x00\\x00\\x00\\x00\\x00\\x00\\x00\\x00\\x00\\x00\\x00\\x00\\x00\\x00\\x00\\x00\\x00\\x00\\x00\\x00\\x00\\x00\\x00\\x00\\x00\\x00\\x00\\x00\\x00\\x00\\x00', 'status': 1}\n",
      "\n",
      "\n",
      "Calling mint, with parameters {'_amount': 10000000000000000000} on the bal contract.\n"
     ]
    },
    {
     "data": {
      "text/plain": [
       "'0x111d579846f0b03eabf5c28561bd197ebfb7a1206f7df2ce0a3c1b2e45db1f49'"
      ]
     },
     "execution_count": 252,
     "metadata": {},
     "output_type": "execute_result"
    },
    {
     "name": "stderr",
     "output_type": "stream",
     "text": [
      "Raised JSONRPCException while returning the custom response. Error message: {'code': -32602, 'message': 'Pending transaction'}\n"
     ]
    },
    {
     "name": "stdout",
     "output_type": "stream",
     "text": [
      "Retrying in 1 seconds...\n"
     ]
    },
    {
     "name": "stderr",
     "output_type": "stream",
     "text": [
      "Raised JSONRPCException while returning the custom response. Error message: {'code': -32602, 'message': 'Pending transaction'}\n"
     ]
    },
    {
     "name": "stdout",
     "output_type": "stream",
     "text": [
      "Retrying in 2 seconds...\n",
      "{'txHash': '0x111d579846f0b03eabf5c28561bd197ebfb7a1206f7df2ce0a3c1b2e45db1f49', 'blockHeight': 261095, 'blockHash': '0x05381be9bc04860df1e94f1e61b820ea8f5c40af30524ab5bcd971b531d165fb', 'txIndex': 1, 'to': 'cxba42914c86964530e5c52e142c8862dc6c4a4e12', 'stepUsed': 155900, 'stepPrice': 10000000000, 'cumulativeStepUsed': 155900, 'eventLogs': [{'scoreAddress': 'cxba42914c86964530e5c52e142c8862dc6c4a4e12', 'indexed': ['Transfer(Address,Address,int,bytes)', 'cxba42914c86964530e5c52e142c8862dc6c4a4e12', 'hxe7af5fcfd8dfc67530a01a0e403882687528dfcb', '0x8ac7230489e80000'], 'data': ['0x4e6f6e65']}, {'scoreAddress': 'cxba42914c86964530e5c52e142c8862dc6c4a4e12', 'indexed': ['Mint(Address,int,bytes)', 'hxe7af5fcfd8dfc67530a01a0e403882687528dfcb'], 'data': ['0x8ac7230489e80000', '0x4e6f6e65']}], 'logsBloom': b'\\x00\\x00\\x00\\x00\\x00\\x00\\x00\\x00\\x00\\x00\\x00 \\x00\\x00\\x00\\x00\\x00\\x00\\x00\\x00\\x00\\x00\\x00\\x00\\x00\\x00\\x00\\x00\\x00\\x00\\x00\\x00\\x00\\x10\\x80\\x00\\x00\\x00\\x00\\x00\\x00\\x00\\x00\\x00\\x00\\x00\\x00\\x00\\x00\\x00\\x00\\x00\\x00\\x00\\x00\\x00\\x00\\x00\\x00\\x00\\x00\\x00\\x00\\x00\\x00\\x00\\x00\\x00\\x00\\x00\\x00\\x00\\x00\\x00\\x00\\x00\\x00\\x00\\x00\\x00\\x00\\x00\\x00\\x00\\x00\\x00\\x00\\x00\\x00\\x00\\x000\\x00\\x00\\x00\\x00\\x00\\x00\\x00\\x00\\x00\\x00\\x02\\x00\\x00\\x00\\x10\\x80\\x00\\x00\\x00\\x00\\x00\\x00\\x00\\x00\\x00\\x00\\x00\\x00\\x00\\x08\\x00\\x00\\x02\\x00\\x00\\x00\\x00\\x00\\x00\\x00\\x00\\x00\\x00\\x00\\x00\\x00\\x00\\x00\\x00\\x00\\x00\\x00\\x00\\x00\\x00\\x00\\x00\\x00\\x00\\x00\\x00\\x00\\x00\\x00\\x00\\x10\\x00\\x00\\x00\\x00\\x00\\x00\\x00\\x00\\x00\\x00\\x00\\x00\\x00\\x00\\x00\\x00\\x00\\x00 \\x00\\x00\\x00\\x00\\x00\\x00\\x00\\x00\\x00@\\x01\\x00\\x00\\x00\\x00\\x00\\x00\\x08\\x00\\x00\\x00\\x00\\x00\\x00\\x00\\x00\\x00\\x02\\x00\\x00\\x00\\x00\\x00\\x00\\x00\\x00A\\x00\\x00\\x08\\x00\\x00\\x00\\x00\\x00\\x00\\x00\\x00\\x00\\x00\\x00\\x00\\x00\\x00\\x00\\x80\\x00\\x00\\x00\\x00\\x00\\x00\\x00\\x00\\x00\\x00\\x00\\x00\\x00\\x00 \\x00\\x00\\x00\\x00\\x00\\x00\\x00\\x00', 'status': 1}\n",
      "\n",
      "\n",
      "Calling mintTo, with parameters {'_account': 'cx3eba3b888495c6ba7e4b18af8c898f615e02f3d2', '_amount': 1000000000000000000000} on the bal contract.\n"
     ]
    },
    {
     "data": {
      "text/plain": [
       "'0x8f61211db88fa851a05aa2ee81c28052d2b17b61de2cae7627abb321f636606c'"
      ]
     },
     "execution_count": 252,
     "metadata": {},
     "output_type": "execute_result"
    },
    {
     "name": "stderr",
     "output_type": "stream",
     "text": [
      "Raised JSONRPCException while returning the custom response. Error message: {'code': -32602, 'message': 'Pending transaction'}\n"
     ]
    },
    {
     "name": "stdout",
     "output_type": "stream",
     "text": [
      "Retrying in 1 seconds...\n",
      "{'txHash': '0x8f61211db88fa851a05aa2ee81c28052d2b17b61de2cae7627abb321f636606c', 'blockHeight': 261096, 'blockHash': '0x8326893d08d5633d1e26d9fa063d71dfc6243943898fdab889d2431594e1b296', 'txIndex': 1, 'to': 'cxba42914c86964530e5c52e142c8862dc6c4a4e12', 'stepUsed': 195780, 'stepPrice': 10000000000, 'cumulativeStepUsed': 195780, 'eventLogs': [{'scoreAddress': 'cxba42914c86964530e5c52e142c8862dc6c4a4e12', 'indexed': ['Transfer(Address,Address,int,bytes)', 'cxba42914c86964530e5c52e142c8862dc6c4a4e12', 'cx3eba3b888495c6ba7e4b18af8c898f615e02f3d2', '0x3635c9adc5dea00000'], 'data': ['0x4e6f6e65']}, {'scoreAddress': 'cxba42914c86964530e5c52e142c8862dc6c4a4e12', 'indexed': ['Mint(Address,int,bytes)', 'cx3eba3b888495c6ba7e4b18af8c898f615e02f3d2'], 'data': ['0x3635c9adc5dea00000', '0x4e6f6e65']}], 'logsBloom': b'\\x00\\x00\\x00\\x00\\x00\\x00\\x00\\x00\\x00\\x00\\x00 \\x00\\x00\\x00\\x00\\x00\\x00\\x00\\x00\\x00\\x00\\x00\\x00\\x00\\x00\\x00\\x00\\x00\\x00\\x00\\x00\\x00\\x00\\x80\\x00\\x00\\x00\\x00\\x00\\x00\\x00\\x00\\x00\\x00\\x00\\x00\\x00\\x00\\x00\\x00\\x00\\x00\\x00\\x00\\x00\\x00\\x00\\x00\\x00\\x00\\x00\\x00\\x00\\x00\\x00\\x00\\x00\\x00\\x00\\x00\\x00\\x00\\x00\\x00\\x00\\x00\\x00\\x00\\x00\\x00\\x00\\x10\\x00\\x00\\x00\\x00\\x00\\x00\\x00\\x00\\x00\\x00\\x00\\x00\\x00\\x00\\x00\\x00\\x00\\x00\\x00\\x00\\x00\\x00\\x00\\x00\\x00\\x00\\x00\\x00\\x00\\x00\\x00\\x00\\x00\\x00\\x00\\x00\\x00\\x00\\x08\\x00\\x00\\x02\\x08\\x00\\x00\\x00\\x00\\x00\\x00\\x00\\x00\\x00\\x00\\x00\\x00\\x00\\x00\\x00\\x00\\x00\\x00\\x00\\x00\\x00\\x00\\x00\\x00\\x00\\x00\\x00\\x00\\x00\\x10\\x00\\x10\\x00\\x10\\x00\\x00\\x00\\x00@\\x00\\x00\\x00\\x00\\x00\\x00\\x00 \\x00\\x00\\x00\\x00\\x00\\x00\\x00\\x00\\x00\\x00\\x00\\x00\\x00@\\x00\\x00\\x00\\x00\\x00\\x00\\x00\\x08\\x00\\x00\\x00\\x00\\x00\\x00\\x00\\x00\\x00\\x02\\x00\\x00\\x00\\x00\\x00\\x00\\x00\\x00A\\x00\\x00\\x00\\x00\\x00\\x00\\x00\\x00\\x00\\x00\\x00\\x00@\\x00\\x00\\x00\\x00\\x00\\x80\\x00\\x00\\x00\\x00\\x00\\x00\\x00\\x00\\x00\\x00\\x00\\x00\\x00\\x000\\x00\\x80\\x00\\x00\\x00\\x00\\x00\\x00', 'status': 1}\n",
      "\n",
      "\n",
      "Calling add_asset, with parameters {'_token_address': 'cxc92b0adc5f889044642ac3c1d24842eae5d222b4', 'is_active': 1, 'is_collateral': 1} on the loans contract.\n"
     ]
    },
    {
     "data": {
      "text/plain": [
       "'0x9b1968f055f8acef667a0a363afeacb5c494e6f2e1a89811439311f6c68d4409'"
      ]
     },
     "execution_count": 252,
     "metadata": {},
     "output_type": "execute_result"
    },
    {
     "name": "stderr",
     "output_type": "stream",
     "text": [
      "Raised JSONRPCException while returning the custom response. Error message: {'code': -32602, 'message': 'Pending transaction'}\n"
     ]
    },
    {
     "name": "stdout",
     "output_type": "stream",
     "text": [
      "Retrying in 1 seconds...\n"
     ]
    },
    {
     "name": "stderr",
     "output_type": "stream",
     "text": [
      "Raised JSONRPCException while returning the custom response. Error message: {'code': -32602, 'message': 'Pending transaction'}\n"
     ]
    },
    {
     "name": "stdout",
     "output_type": "stream",
     "text": [
      "Retrying in 2 seconds...\n",
      "{'txHash': '0x9b1968f055f8acef667a0a363afeacb5c494e6f2e1a89811439311f6c68d4409', 'blockHeight': 261097, 'blockHash': '0x946e5ce687934325a06771cdb00714884544d2de0ab9f2364b45405637ce1f12', 'txIndex': 1, 'to': 'cx60ba0aa664572602b2667d6d6d4b217a36082d0f', 'stepUsed': 240680, 'stepPrice': 10000000000, 'cumulativeStepUsed': 240680, 'eventLogs': [{'scoreAddress': 'cx60ba0aa664572602b2667d6d6d4b217a36082d0f', 'indexed': ['AssetAdded(Address,str,bool)', 'cxc92b0adc5f889044642ac3c1d24842eae5d222b4', 'sICX', '0x1'], 'data': []}], 'logsBloom': b'\\x00\\x00\\x90\\x00\\x00\\x00\\x00\\x00\\x00\\x00\\x00\\x00\\x00 \\x00\\x00\\x00\\x00\\x00\\x00\\x00\\x00\\x00\\x00\\x00\\x00\\x00\\x00\\x00\\x00\\x00\\x00\\x00\\x10\\x00\\x80\\x00\\x00\\x00\\x00\\x00 \\x00\\x00\\x00\\x00\\x00\\x00\\x00\\x00\\x00\\x00\\x00\\x00\\x00\\x00\\x00\\x00\\x00\\x00\\x00\\x00\\x00\\x00\\x00\\x00\\x00\\x00\\x00\\x00\\x00\\x00\\x00\\x00\\x00@\\x00\\x00\\x00\\x00\\x00\\x00\\x00\\x00\\x00\\x02\\x00\\x00\\x00\\x00\\x00\\x00\\x00\\x00\\x00\\x00\\x00\\x00\\x08\\x00\\x01\\x00\\x00\\x00\\x00\\x00\\x00\\x00\\x00\\x00\\x00\\x00\\x00\\x00\\x00\\x00\\x00\\x00\\x00\\x00\\x00\\x00\\x00\\x00\\x00\\x00\\x00\\x00\\x00\\x00\\x00\\x00\\x00\\x00\\x00\\x00\\x00\\x00\\x00\\x00\\x00\\x00\\x00\\x00\\x00\\x00\\x00\\x00\\x00\\x00\\x00\\x00\\x00\\x00\\x00\\x00\\x00\\x00\\x00\\x00\\x00\\x00\\x00\\x00\\x00\\x00\\x00\\x00\\x00\\x01\\x00\\x00\\x00\\x00\\x00\\x00\\x00\\x00\\x00\\x00\\x00\\x00\\x00\\x00\\x00\\x00\\x00\\x00\\x00\\x00\\x00\\x00\\x00\\x00\\x00\\x00\\x00\\x00\\x00\\x00\\x00\\x00\\x00\\x00\\x00\\x08\\x00\\x00\\x00\\x00\\x00\\x00\\x00\\x00\\x00\\x00\\x00\\x00\\x00\\x00\\x00\\x00\\x00\\x00\\x00\\x00\\x00\\x00\\x00\\x00\\x00\\x00\\x00\\x00\\x00\\x00\\x00\\x00\\x00\\x00\\x00\\x00\\x00\\x00 \\x00\\x00\\x00\\x01\\x00\\x00\\x00\\x00\\x00\\x00\\x00', 'status': 1}\n",
      "\n",
      "\n",
      "Calling add_asset, with parameters {'_token_address': 'cxa7ef2f228c1d3ee6bab8595245324a10e2698d8d', 'is_active': 1, 'is_collateral': 0} on the loans contract.\n"
     ]
    },
    {
     "data": {
      "text/plain": [
       "'0x3340736a6ea104713ac6de0e710608c564869d415e8c6fbe3a10893608224a4c'"
      ]
     },
     "execution_count": 252,
     "metadata": {},
     "output_type": "execute_result"
    },
    {
     "name": "stderr",
     "output_type": "stream",
     "text": [
      "Raised JSONRPCException while returning the custom response. Error message: {'code': -32602, 'message': 'Pending transaction'}\n"
     ]
    },
    {
     "name": "stdout",
     "output_type": "stream",
     "text": [
      "Retrying in 1 seconds...\n",
      "{'txHash': '0x3340736a6ea104713ac6de0e710608c564869d415e8c6fbe3a10893608224a4c', 'blockHeight': 261098, 'blockHash': '0x0c6b07716a9c8b182d62b86c42bcf9f61d7ea9852544ad67f7669bcee03c952b', 'txIndex': 1, 'to': 'cx60ba0aa664572602b2667d6d6d4b217a36082d0f', 'stepUsed': 237860, 'stepPrice': 10000000000, 'cumulativeStepUsed': 237860, 'eventLogs': [{'scoreAddress': 'cx60ba0aa664572602b2667d6d6d4b217a36082d0f', 'indexed': ['AssetAdded(Address,str,bool)', 'cxa7ef2f228c1d3ee6bab8595245324a10e2698d8d', 'ICD', '0x0'], 'data': []}], 'logsBloom': b'\\x00\\x00\\x00\\x00\\x00\\x00\\x00\\x00\\x00\\x00\\x80\\x00\\x00\\x00\\x00\\x00\\x00\\x00\\x00\\x00\\x00\\x00\\x00\\x00\\x00\\x00\\x00\\x00\\x00\\x00\\x00\\x00\\x00\\x10\\x00\\x80\\x00\\x00\\x10\\x00\\x00\\x00\\x00\\x00\\x00\\x00\\x00\\x00\\x00\\x00\\x00\\x00\\x00\\x00\\x00\\x00\\x00\\x00\\x00\\x00\\x00\\x00\\x00\\x00\\x00\\x00\\x00\\x00\\x00\\x00\\x00\\x00\\x00\\x00\\x00@\\x00\\x00\\x00\\x00\\x00\\x00\\x00\\x00\\x00\\x00\\x00\\x00\\x00\\x00\\x00\\x00\\x00\\x00\\x00\\x00\\x00\\x00\\x00\\x00\\x01\\x00\\x00\\x00\\x00\\x00\\x00\\x00\\x00\\x00\\x00\\x00\\x00\\x00\\x00\\x00\\x00\\x00\\x00\\x00\\x00\\x00\\x00\\x00\\x00\\x00\\x00\\x00\\x00\\x00\\x00\\x00\\x00\\x00\\x00\\x00\\x00\\x00\\x00\\x00\\x00\\x00\\x00\\x00\\x00\\x00\\x00\\x00\\x00\\x00\\x00\\x00\\x00\\x00\\x00\\x00\\x00\\x00\\x00\\x00\\x00\\x00\\x00\\x00\\x00\\x02\\x00\\x00\\x00\\x00\\x00\\x04\\x00\\x00\\x00\\x00\\x00\\x00\\x04\\x00\\x00\\x00\\x01\\x00\\x00\\x00\\x00\\x00\\x00\\x00\\x00\\x00\\x00\\x00\\x00\\x00\\x00\\x00\\x00\\x00\\x00\\x00\\x00\\x00\\x00\\x08\\x00\\x00\\x00\\x00\\x00\\x00\\x00\\x02\\x00\\x00\\x08\\x00\\x00\\x00\\x00\\x00\\x00\\x00\\x00\\x00\\x00\\x00\\x00\\x00\\x01\\x00\\x00\\x00\\x00\\x00\\x00\\x00\\x00\\x00\\x00\\x00\\x00\\x00\\x00\\x00\\x00\\x00\\x01\\x00\\x00\\x00\\x00\\x00\\x00\\x00', 'status': 1}\n",
      "\n",
      "\n",
      "Calling add_asset, with parameters {'_token_address': 'cxba42914c86964530e5c52e142c8862dc6c4a4e12', 'is_active': 0, 'is_collateral': 1} on the loans contract.\n"
     ]
    },
    {
     "data": {
      "text/plain": [
       "'0x1fd05a214c209d8e1596bf83467fc0cfcd1605bcefd3d6272fa5869b02c5f6a6'"
      ]
     },
     "execution_count": 252,
     "metadata": {},
     "output_type": "execute_result"
    },
    {
     "name": "stderr",
     "output_type": "stream",
     "text": [
      "Raised JSONRPCException while returning the custom response. Error message: {'code': -32602, 'message': 'Pending transaction'}\n"
     ]
    },
    {
     "name": "stdout",
     "output_type": "stream",
     "text": [
      "Retrying in 1 seconds...\n",
      "{'txHash': '0x1fd05a214c209d8e1596bf83467fc0cfcd1605bcefd3d6272fa5869b02c5f6a6', 'blockHeight': 261099, 'blockHash': '0xf6f05fc1f6aeed641f45d212ebbc634000120f90efc59cbecddb3b94607d7ebe', 'txIndex': 1, 'to': 'cx60ba0aa664572602b2667d6d6d4b217a36082d0f', 'stepUsed': 239960, 'stepPrice': 10000000000, 'cumulativeStepUsed': 239960, 'eventLogs': [{'scoreAddress': 'cx60ba0aa664572602b2667d6d6d4b217a36082d0f', 'indexed': ['AssetAdded(Address,str,bool)', 'cxba42914c86964530e5c52e142c8862dc6c4a4e12', 'BALN', '0x1'], 'data': []}], 'logsBloom': b'\\x00\\x00\\x00\\x00\\x00\\x00\\x00\\x00\\x00\\x00\\x00\\x00\\x00\\x00\\x00\\x00\\x00\\x00\\x00\\x00\\x00\\x00\\x00\\x00\\x00\\x00\\x00\\x00\\x00\\x00\\x00\\x00\\x00\\x10\\x80\\x80\\x00\\x00\\x00\\x00\\x00\\x00\\x00\\x00\\x00\\x00\\x00\\x00\\x00\\x00 \\x02\\x00\\x00\\x00\\x00\\x00\\x00\\x00\\x00\\x00\\x00\\x00\\x00\\x00\\x00\\x00\\x00\\x00\\x00\\x00\\x00\\x00\\x00\\x00@\\x00\\x00\\x00\\x00\\x00\\x00\\x00\\x00\\x00\\x00\\x00\\x00\\x00\\x00\\x00\\x00\\x00\\x00\\x00\\x00\\x00\\x00\\x00\\x00\\x01\\x00\\x00\\x00\\x00\\x00\\x00\\x00\\x00\\x00\\x00\\x00\\x00\\x00\\x00\\x00\\x00\\x00\\x00\\x00\\x00\\x00\\x00\\x00\\x00\\x00\\x00\\x00\\x00\\x00\\x00\\x00@\\x00\\x00\\x00\\x00\\x00\\x00\\x00\\x00\\x00\\x00\\x00\\x00\\x00\\x00\\x00\\x00\\x00\\x00\\x00\\x00\\x00\\x00\\x00\\x00\\x00\\x00\\x00\\x00\\x00\\x00\\x00\\x00\\x00\\x00\\x00\\x00\\x01\\x00\\x00\\x00\\x00\\x00\\x00\\x00\\x00\\x00\\x00\\x00\\x00\\x00\\x00\\x00\\x00@\\x00\\x00\\x00\\x00\\x00\\x00\\x00\\x00\\x00\\x00\\x00\\x00\\x00\\x00\\x00\\x00\\x00\\x02\\x08\\x00\\x00\\x00\\x00\\x00\\x00\\x00\\x00\\x00\\x00\\x00\\x00\\x00\\x00\\x00\\x00\\x00\\x00\\x00\\x00\\x00\\x00\\x00\\x00\\x00\\x00\\x00\\x00\\x00\\x00\\x00\\x00\\x00\\x00\\x00\\x00\\x00\\x00 \\x00\\x00\\x00\\x01\\x00\\x00\\x00\\x00\\x00\\x00\\x00', 'status': 1}\n",
      "\n",
      "\n",
      "Calling toggle_loans_on, with parameters {} on the loans contract.\n"
     ]
    },
    {
     "data": {
      "text/plain": [
       "'0xd71054c2e17dfbd90ad068bf74a069ad2f5f38556ba533622ce04b143590817c'"
      ]
     },
     "execution_count": 252,
     "metadata": {},
     "output_type": "execute_result"
    },
    {
     "name": "stderr",
     "output_type": "stream",
     "text": [
      "Raised JSONRPCException while returning the custom response. Error message: {'code': -32602, 'message': 'Pending transaction'}\n"
     ]
    },
    {
     "name": "stdout",
     "output_type": "stream",
     "text": [
      "Retrying in 1 seconds...\n"
     ]
    },
    {
     "name": "stderr",
     "output_type": "stream",
     "text": [
      "Raised JSONRPCException while returning the custom response. Error message: {'code': -32602, 'message': 'Pending transaction'}\n"
     ]
    },
    {
     "name": "stdout",
     "output_type": "stream",
     "text": [
      "Retrying in 2 seconds...\n",
      "{'txHash': '0xd71054c2e17dfbd90ad068bf74a069ad2f5f38556ba533622ce04b143590817c', 'blockHeight': 261100, 'blockHash': '0xade9d5e08bf904b2f51cc60c064b695a192aee6905d8e793a0fca8115fab84f7', 'txIndex': 1, 'to': 'cx60ba0aa664572602b2667d6d6d4b217a36082d0f', 'stepUsed': 130680, 'stepPrice': 10000000000, 'cumulativeStepUsed': 130680, 'eventLogs': [], 'logsBloom': b'\\x00\\x00\\x00\\x00\\x00\\x00\\x00\\x00\\x00\\x00\\x00\\x00\\x00\\x00\\x00\\x00\\x00\\x00\\x00\\x00\\x00\\x00\\x00\\x00\\x00\\x00\\x00\\x00\\x00\\x00\\x00\\x00\\x00\\x00\\x00\\x00\\x00\\x00\\x00\\x00\\x00\\x00\\x00\\x00\\x00\\x00\\x00\\x00\\x00\\x00\\x00\\x00\\x00\\x00\\x00\\x00\\x00\\x00\\x00\\x00\\x00\\x00\\x00\\x00\\x00\\x00\\x00\\x00\\x00\\x00\\x00\\x00\\x00\\x00\\x00\\x00\\x00\\x00\\x00\\x00\\x00\\x00\\x00\\x00\\x00\\x00\\x00\\x00\\x00\\x00\\x00\\x00\\x00\\x00\\x00\\x00\\x00\\x00\\x00\\x00\\x00\\x00\\x00\\x00\\x00\\x00\\x00\\x00\\x00\\x00\\x00\\x00\\x00\\x00\\x00\\x00\\x00\\x00\\x00\\x00\\x00\\x00\\x00\\x00\\x00\\x00\\x00\\x00\\x00\\x00\\x00\\x00\\x00\\x00\\x00\\x00\\x00\\x00\\x00\\x00\\x00\\x00\\x00\\x00\\x00\\x00\\x00\\x00\\x00\\x00\\x00\\x00\\x00\\x00\\x00\\x00\\x00\\x00\\x00\\x00\\x00\\x00\\x00\\x00\\x00\\x00\\x00\\x00\\x00\\x00\\x00\\x00\\x00\\x00\\x00\\x00\\x00\\x00\\x00\\x00\\x00\\x00\\x00\\x00\\x00\\x00\\x00\\x00\\x00\\x00\\x00\\x00\\x00\\x00\\x00\\x00\\x00\\x00\\x00\\x00\\x00\\x00\\x00\\x00\\x00\\x00\\x00\\x00\\x00\\x00\\x00\\x00\\x00\\x00\\x00\\x00\\x00\\x00\\x00\\x00\\x00\\x00\\x00\\x00\\x00\\x00\\x00\\x00\\x00\\x00\\x00\\x00\\x00\\x00\\x00\\x00\\x00\\x00\\x00\\x00\\x00\\x00\\x00\\x00\\x00\\x00\\x00\\x00\\x00\\x00\\x00\\x00\\x00\\x00\\x00\\x00', 'status': 1}\n"
     ]
    }
   ],
   "source": [
    "for sett in settings:\n",
    "    print(f'\\n')\n",
    "    print(f'Calling {sett[\"method\"]}, with parameters {sett[\"params\"]} on the {sett[\"contract\"]} contract.')\n",
    "    transaction = CallTransactionBuilder()\\\n",
    "        .from_(wallet.get_address())\\\n",
    "        .to(contracts[sett['contract']]['SCORE'])\\\n",
    "        .value(0)\\\n",
    "        .step_limit(10000000)\\\n",
    "        .nid(NID)\\\n",
    "        .nonce(100)\\\n",
    "        .method(sett['method'])\\\n",
    "        .params(sett['params'])\\\n",
    "        .build()\n",
    "    signed_transaction = SignedTransaction(transaction, wallet)\n",
    "    tx_hash = icon_service.send_transaction(signed_transaction)\n",
    "    tx_hash\n",
    "    print(get_tx_result(tx_hash))"
   ]
  },
  {
   "cell_type": "markdown",
   "metadata": {},
   "source": [
    "## Run through read-only methods on all SCOREs"
   ]
  },
  {
   "cell_type": "markdown",
   "metadata": {},
   "source": [
    "### A single read-only method"
   ]
  },
  {
   "cell_type": "code",
   "execution_count": null,
   "metadata": {},
   "outputs": [],
   "source": [
    "params = {'_owner': wallet.get_address()}\n",
    "call = CallBuilder().from_(wallet.get_address())\\\n",
    "                    .to(contracts['loans']['SCORE'])\\\n",
    "                    .method('get_account_positions')\\\n",
    "                    .params(params)\\\n",
    "                    .build()\n",
    "result = icon_service.call(call)\n",
    "result"
   ]
  },
  {
   "cell_type": "code",
   "execution_count": 240,
   "metadata": {},
   "outputs": [],
   "source": [
    "ro_methods = {\"loans\": [\"name\", \"get_available_assets\", \"asset_count\", \"get_total_collateral\"],\n",
    "              \"staking\": [\"name\", \"get_sICX_address\", \"get_rate\"],\n",
    "              \"sicx\": [\"name\", \"symbol\", \"decimals\", \"totalSupply\", \"getAdmin\"],\n",
    "              \"icd\": [\"name\", \"symbol\", \"decimals\", \"totalSupply\", \"getAdmin\"],\n",
    "              \"bal\": [\"name\", \"symbol\", \"decimals\", \"totalSupply\", \"getAdmin\"]\n",
    "              }"
   ]
  },
  {
   "cell_type": "code",
   "execution_count": 268,
   "metadata": {},
   "outputs": [
    {
     "name": "stdout",
     "output_type": "stream",
     "text": [
      "\n",
      "SCORE: loans\n",
      "Address: cx60ba0aa664572602b2667d6d6d4b217a36082d0f\n",
      "name: BalancedLoans\n",
      "get_available_assets: {'sICX': {'symbol': 'sICX', 'address': 'cxc92b0adc5f889044642ac3c1d24842eae5d222b4', 'peg': 'sICX', 'added': '0x5b8abdb57ed07', 'is_collateral': '0x1', 'active': '0x1'}, 'ICD': {'symbol': 'ICD', 'address': 'cxa7ef2f228c1d3ee6bab8595245324a10e2698d8d', 'peg': 'USD', 'added': '0x5b8abdb7672ea', 'is_collateral': '0x0', 'active': '0x1', 'bad_debt': '0x15af1d78b58c400000', 'liquidation_pool': '0x248f1c2fa4e3087a56096329820000000'}}\n",
      "asset_count: 0x3\n",
      "get_total_collateral: 1602.5244477\n",
      "\n",
      "SCORE: staking\n",
      "Address: cxb12ac82038f98353776f555b60c7ade39bc73681\n",
      "name: Staking\n",
      "get_sICX_address: cxc92b0adc5f889044642ac3c1d24842eae5d222b4\n",
      "get_rate: 1.0\n",
      "\n",
      "SCORE: sicx\n",
      "Address: cxc92b0adc5f889044642ac3c1d24842eae5d222b4\n",
      "name: StakedICX\n",
      "symbol: sICX\n",
      "decimals: 18\n",
      "totalSupply: 1612.769\n",
      "getAdmin: cxb12ac82038f98353776f555b60c7ade39bc73681\n",
      "\n",
      "SCORE: icd\n",
      "Address: cxa7ef2f228c1d3ee6bab8595245324a10e2698d8d\n",
      "name: ICONDollar\n",
      "symbol: ICD\n",
      "decimals: 18\n",
      "totalSupply: 435.4\n",
      "getAdmin: cx60ba0aa664572602b2667d6d6d4b217a36082d0f\n",
      "\n",
      "SCORE: bal\n",
      "Address: cxba42914c86964530e5c52e142c8862dc6c4a4e12\n",
      "name: BalanceToken\n",
      "symbol: BALN\n",
      "decimals: 18\n",
      "totalSupply: 1010.0\n",
      "getAdmin: hxe7af5fcfd8dfc67530a01a0e403882687528dfcb\n"
     ]
    }
   ],
   "source": [
    "results = {}\n",
    "for score in ro_methods.keys():\n",
    "    print()\n",
    "    print(f'SCORE: {score}')\n",
    "    print(f'Address: {contracts[score][\"SCORE\"]}')\n",
    "    results[score] = {}\n",
    "    for method in ro_methods[score]:\n",
    "        call = CallBuilder().from_(wallet.get_address())\\\n",
    "                            .to(contracts[score]['SCORE'])\\\n",
    "                            .method(method)\\\n",
    "                            .build()\n",
    "        result = icon_service.call(call)\n",
    "        if method in ['totalSupply', 'decimals', 'get_total_collateral', 'get_rate']:\n",
    "            result = int(result, 0)\n",
    "            if method in ['totalSupply', 'get_total_collateral', 'get_rate']:\n",
    "                result = result / ICX\n",
    "        print(f'{method}: {result}')\n",
    "        results[score][method] = result"
   ]
  },
  {
   "cell_type": "markdown",
   "metadata": {},
   "source": [
    "## Deposit ICX and Mint ICD Loan"
   ]
  },
  {
   "cell_type": "code",
   "execution_count": 254,
   "metadata": {
    "collapsed": true
   },
   "outputs": [
    {
     "data": {
      "text/plain": [
       "'0x7a59c521551a2b9cca99503a59d15c83aea68506039406cd1724c2970acf4e6e'"
      ]
     },
     "execution_count": 254,
     "metadata": {},
     "output_type": "execute_result"
    },
    {
     "name": "stderr",
     "output_type": "stream",
     "text": [
      "Raised JSONRPCException while returning the custom response. Error message: {'code': -32602, 'message': 'Pending transaction'}\n"
     ]
    },
    {
     "name": "stdout",
     "output_type": "stream",
     "text": [
      "Retrying in 1 seconds...\n"
     ]
    },
    {
     "name": "stderr",
     "output_type": "stream",
     "text": [
      "Raised JSONRPCException while returning the custom response. Error message: {'code': -32602, 'message': 'Pending transaction'}\n"
     ]
    },
    {
     "name": "stdout",
     "output_type": "stream",
     "text": [
      "Retrying in 2 seconds...\n",
      "{'txHash': '0x7a59c521551a2b9cca99503a59d15c83aea68506039406cd1724c2970acf4e6e', 'blockHeight': 261110, 'blockHash': '0xc9259f8279b06e372388f3edd71e2631ce243902b8aa9af99d2f96fae25c0992', 'txIndex': 1, 'to': 'cxb12ac82038f98353776f555b60c7ade39bc73681', 'stepUsed': 596060, 'stepPrice': 10000000000, 'cumulativeStepUsed': 596060, 'eventLogs': [{'scoreAddress': 'cxa7ef2f228c1d3ee6bab8595245324a10e2698d8d', 'indexed': ['OraclePrice(str,int,int)', 'ICXUSD', '0x2454d8dcb2cf44bb', '0x5b8abdce4ed41'], 'data': []}, {'scoreAddress': 'cxa7ef2f228c1d3ee6bab8595245324a10e2698d8d', 'indexed': ['Transfer(Address,Address,int,bytes)', 'cxa7ef2f228c1d3ee6bab8595245324a10e2698d8d', 'hxe7af5fcfd8dfc67530a01a0e403882687528dfcb', '0x22b1c8c1227a00000'], 'data': ['0x4e6f6e65']}, {'scoreAddress': 'cxa7ef2f228c1d3ee6bab8595245324a10e2698d8d', 'indexed': ['Mint(Address,int,bytes)', 'hxe7af5fcfd8dfc67530a01a0e403882687528dfcb'], 'data': ['0x22b1c8c1227a00000', '0x4e6f6e65']}, {'scoreAddress': 'cx60ba0aa664572602b2667d6d6d4b217a36082d0f', 'indexed': ['OriginateLoan(Address,str,int,str)', 'hxe7af5fcfd8dfc67530a01a0e403882687528dfcb', 'ICD', '0x22b1c8c1227a00000'], 'data': ['Loan of 40.0 ICD from Balanced.']}, {'scoreAddress': 'cxa7ef2f228c1d3ee6bab8595245324a10e2698d8d', 'indexed': ['Transfer(Address,Address,int,bytes)', 'cxa7ef2f228c1d3ee6bab8595245324a10e2698d8d', 'cxd361228ccf434754824fc04b2ce7dc05becac3b9', '0x58d15e176280000'], 'data': ['0x4e6f6e65']}, {'scoreAddress': 'cxa7ef2f228c1d3ee6bab8595245324a10e2698d8d', 'indexed': ['Mint(Address,int,bytes)', 'cxd361228ccf434754824fc04b2ce7dc05becac3b9'], 'data': ['0x58d15e176280000', '0x4e6f6e65']}, {'scoreAddress': 'cx60ba0aa664572602b2667d6d6d4b217a36082d0f', 'indexed': ['FeePaid(str,int,str,str)', 'ICD', '0x58d15e176280000', 'origination'], 'data': ['']}, {'scoreAddress': 'cxc92b0adc5f889044642ac3c1d24842eae5d222b4', 'indexed': ['Transfer(Address,Address,int,bytes)', 'cxc92b0adc5f889044642ac3c1d24842eae5d222b4', 'cx60ba0aa664572602b2667d6d6d4b217a36082d0f', '0x2b5e3af16b18800000'], 'data': ['0x7b226d6574686f64223a20225f6465706f7369745f616e645f626f72726f77222c2022706172616d73223a207b225f6173736574223a2022494344222c20225f616d6f756e74223a2034303030303030303030303030303030303030307d7d']}, {'scoreAddress': 'cxc92b0adc5f889044642ac3c1d24842eae5d222b4', 'indexed': ['Mint(Address,int,bytes)', 'cx60ba0aa664572602b2667d6d6d4b217a36082d0f'], 'data': ['0x2b5e3af16b18800000', '0x7b226d6574686f64223a20225f6465706f7369745f616e645f626f72726f77222c2022706172616d73223a207b225f6173736574223a2022494344222c20225f616d6f756e74223a2034303030303030303030303030303030303030307d7d']}, {'scoreAddress': 'cxb12ac82038f98353776f555b60c7ade39bc73681', 'indexed': ['TokenTransfer(Address,int,str)', 'cx60ba0aa664572602b2667d6d6d4b217a36082d0f', '0x2b5e3af16b18800000'], 'data': ['800.0 sICX minted to cx60ba0aa664572602b2667d6d6d4b217a36082d0f']}], 'logsBloom': b'\\x00\\x02\\x80\\x02\\x00\\x00\\x08  \\x10\\x80 \\x00 \\x00\\x02\\x00\\x00\\x00\\x00 \\x00\\x00\\x10\\x00@\\x00\\x00\\x00\\x00\\x00\\x00\\x00\\x10\\x00\\x00\\x00\\x00\\x00\\x00\\x08!\\x01\\x00\\x01\\x00 \\x00\\x00\\x00\\x00\\x00\\x02\\x00\\x00\\x00\\x00\\x00\\x00\\x01\\x00\\x00\\x00\\x00\\x04\\x14\\x00\\x00\\x08\\x01\\x00\\x00\\x00\\x02@@\\x00\\x00\\x00\\x00\\x00\\x00\\x00\\x00\\x00\\x00\\x00\\x00\\x00\\x00\\x00 \\x00\\x01\\x00\\x00\\x00\\x00\\x00\\x00\\x00\\x00\\x02 \\x00\\x01\\x00\\x00\\x80\\x00\\x00\\x08\\x00\\x00\\x00\\x00\\x00\\x00\\x08\\x00\\x01\\x08\\x00\\x00\\x00\\x00\\x00\\x00\\x00\\x00\\x00\\x04\\x00\\x00\\x00\\x00\\x00\\x10\\x00\\x00\\x00\\x00\\x00\\x00@\\x00@\\x00\\x00\\x04\\x00\\x00H\\x00\\x00\\x00\\x00\\x10@0\\x00\\x00\\x00@\\x00\\x02\\x00\\x00\\x00\\x00\\x00\\x04\\x00\\x00\\x01\\x04 \\x00\\x04\\x00\\x00\\x00!\\x00\\x00\\x00\\x00\\x01@\\x00\\x10\\x00\\x00\\x01\\x08\\x00\\x00\\x00\\x00 \\x00\\x04\\x00\\x00\\x00\\x00 \\x02\\x00\\x10\\x00\\x01\\x00A\\x01\\x00\\x88\\x00\\x04\\x00\\x00\\x00\\x00\\x01\\x00\\x00\\x04\\x00\\x00\\x00\\x00\\x00\\x00\\x00\\x00\\x00\\x00\\x08\\x00\\x00\\x00\\x00\\x00 \\x00\\x00\\x00\\x00\\x01 \\x00\\x00\\x00\\x00\\x00\\x08', 'status': 1}\n"
     ]
    }
   ],
   "source": [
    "data = \"{\\\"method\\\": \\\"_deposit_and_borrow\\\", \\\"params\\\": {\\\"_asset\\\": \\\"ICD\\\", \\\"_amount\\\": 40000000000000000000}}\".encode(\"utf-8\")\n",
    "params = {'_to': contracts['loans']['SCORE'], '_data': data}\n",
    "transaction = CallTransactionBuilder()\\\n",
    "    .from_(wallet.get_address())\\\n",
    "    .to(contracts['staking']['SCORE'])\\\n",
    "    .value(800 * ICX)\\\n",
    "    .step_limit(10000000)\\\n",
    "    .nid(NID)\\\n",
    "    .nonce(100)\\\n",
    "    .method(\"add_collateral\")\\\n",
    "    .params(params)\\\n",
    "    .build()\n",
    "signed_transaction = SignedTransaction(transaction, wallet)\n",
    "tx_hash = icon_service.send_transaction(signed_transaction)\n",
    "tx_hash\n",
    "print(get_tx_result(tx_hash))"
   ]
  },
  {
   "cell_type": "markdown",
   "metadata": {},
   "source": [
    "### Just deposit collateral"
   ]
  },
  {
   "cell_type": "code",
   "execution_count": 256,
   "metadata": {
    "collapsed": true
   },
   "outputs": [
    {
     "data": {
      "text/plain": [
       "'0xb93add627a791a8a9265b36e35485cc652892255dc142cd879d353f87f740229'"
      ]
     },
     "execution_count": 256,
     "metadata": {},
     "output_type": "execute_result"
    },
    {
     "name": "stderr",
     "output_type": "stream",
     "text": [
      "Raised JSONRPCException while returning the custom response. Error message: {'code': -32602, 'message': 'Pending transaction'}\n"
     ]
    },
    {
     "name": "stdout",
     "output_type": "stream",
     "text": [
      "Retrying in 1 seconds...\n",
      "{'txHash': '0xb93add627a791a8a9265b36e35485cc652892255dc142cd879d353f87f740229', 'blockHeight': 261127, 'blockHash': '0x701ca86db69a51950f458b926ae24691279195e48f558bb70fd6158463dda4a7', 'txIndex': 1, 'to': 'cxb12ac82038f98353776f555b60c7ade39bc73681', 'stepUsed': 338900, 'stepPrice': 10000000000, 'cumulativeStepUsed': 338900, 'eventLogs': [{'scoreAddress': 'cxc92b0adc5f889044642ac3c1d24842eae5d222b4', 'indexed': ['Transfer(Address,Address,int,bytes)', 'cxc92b0adc5f889044642ac3c1d24842eae5d222b4', 'cx60ba0aa664572602b2667d6d6d4b217a36082d0f', '0x1a055690d9db80000'], 'data': ['0x7b226d6574686f64223a20225f6465706f7369745f616e645f626f72726f77222c2022706172616d73223a207b225f6173736574223a2022222c20225f616d6f756e74223a20307d7d']}, {'scoreAddress': 'cxc92b0adc5f889044642ac3c1d24842eae5d222b4', 'indexed': ['Mint(Address,int,bytes)', 'cx60ba0aa664572602b2667d6d6d4b217a36082d0f'], 'data': ['0x1a055690d9db80000', '0x7b226d6574686f64223a20225f6465706f7369745f616e645f626f72726f77222c2022706172616d73223a207b225f6173736574223a2022222c20225f616d6f756e74223a20307d7d']}, {'scoreAddress': 'cxb12ac82038f98353776f555b60c7ade39bc73681', 'indexed': ['TokenTransfer(Address,int,str)', 'cx60ba0aa664572602b2667d6d6d4b217a36082d0f', '0x1a055690d9db80000'], 'data': ['30.0 sICX minted to cx60ba0aa664572602b2667d6d6d4b217a36082d0f']}], 'logsBloom': b'\\x00\\x00\\x80\\x00\\x00\\x00\\x00\\x00 \\x00\\x00 \\x00 \\x00\\x00\\x00\\x00\\x00\\x00\\x00\\x00\\x00\\x00\\x00\\x00\\x00\\x00\\x00\\x00\\x00\\x00\\x00\\x00\\x00\\x00\\x00\\x00\\x00\\x00\\x08 \\x00\\x00\\x00\\x00\\x00\\x00\\x00\\x00\\x00\\x00\\x00\\x00\\x00\\x00\\x00\\x00\\x00\\x00\\x00\\x00\\x00\\x00\\x04\\x04\\x00\\x00\\x00\\x00\\x00\\x00\\x00\\x00\\x00\\x00\\x00\\x00\\x00\\x00\\x00\\x00\\x00\\x00\\x00\\x00\\x00\\x00\\x00\\x00\\x00\\x00\\x00\\x01\\x00\\x00\\x00\\x00\\x00\\x00\\x00\\x00\\x00 \\x00\\x00\\x00\\x00\\x80\\x00\\x00\\x00\\x00\\x00\\x00\\x00\\x00\\x00\\x00\\x00\\x00\\x08\\x00\\x10\\x00\\x00\\x00\\x00\\x00\\x00\\x00\\x00\\x00\\x00\\x00\\x00\\x00\\x00\\x00\\x00\\x00\\x00\\x00\\x00@\\x00\\x00\\x00\\x00\\x04\\x00\\x00@\\x00\\x00\\x00\\x00\\x10\\x00\\x10 \\x01\\x00\\x00\\x00\\x00\\x00\\x00\\x00\\x00\\x00\\x00\\x00\\x00\\x00\\x00\\x00\\x00\\x00\\x00\\x00\\x00\\x00\\x00\\x00\\x00\\x00\\x00\\x00\\x00\\x00\\x00\\x00\\x00\\x08\\x00\\x00\\x04\\x00\\x00\\x00\\x00\\x04\\x00\\x00\\x00\\x00\\x00\\x00\\x10\\x00\\x00\\x00A\\x00\\x00\\x00\\x00\\x00\\x00\\x00\\x00\\x00\\x01\\x00\\x00\\x04\\x00\\x00\\x00\\x00\\x00\\x00\\x00\\x00\\x00\\x00\\x00\\x00\\x00\\x00\\x08\\x00 \\x00\\x00\\x00\\x00\\x00\\x00\\x00\\x00\\x00\\x00\\x00\\x00', 'status': 1}\n"
     ]
    }
   ],
   "source": [
    "data = \"{\\\"method\\\": \\\"_deposit_and_borrow\\\", \\\"params\\\": {\\\"_asset\\\": \\\"\\\", \\\"_amount\\\": 0}}\".encode(\"utf-8\")\n",
    "params = {'_to': contracts['loans']['SCORE'], '_data': data}\n",
    "transaction = CallTransactionBuilder()\\\n",
    "    .from_(wallet.get_address())\\\n",
    "    .to(contracts['staking']['SCORE'])\\\n",
    "    .value(30 * ICX)\\\n",
    "    .step_limit(10000000)\\\n",
    "    .nid(NID)\\\n",
    "    .nonce(100)\\\n",
    "    .method(\"add_collateral\")\\\n",
    "    .params(params)\\\n",
    "    .build()\n",
    "signed_transaction = SignedTransaction(transaction, wallet)\n",
    "tx_hash = icon_service.send_transaction(signed_transaction)\n",
    "tx_hash\n",
    "print(get_tx_result(tx_hash))"
   ]
  },
  {
   "cell_type": "markdown",
   "metadata": {},
   "source": [
    "### Repay Some ICD"
   ]
  },
  {
   "cell_type": "code",
   "execution_count": 257,
   "metadata": {
    "collapsed": true
   },
   "outputs": [
    {
     "data": {
      "text/plain": [
       "'0x02dd6146ca73c3b209f22a609a4dab386136cfa839a4f03f0034bd7031721897'"
      ]
     },
     "execution_count": 257,
     "metadata": {},
     "output_type": "execute_result"
    },
    {
     "name": "stderr",
     "output_type": "stream",
     "text": [
      "Raised JSONRPCException while returning the custom response. Error message: {'code': -32602, 'message': 'Pending transaction'}\n"
     ]
    },
    {
     "name": "stdout",
     "output_type": "stream",
     "text": [
      "Retrying in 1 seconds...\n",
      "{'txHash': '0x02dd6146ca73c3b209f22a609a4dab386136cfa839a4f03f0034bd7031721897', 'blockHeight': 261130, 'blockHash': '0x2b95375fa77a59fafb5f217e0d92d907024135c9588431edeeb90d09331e803d', 'txIndex': 1, 'to': 'cxa7ef2f228c1d3ee6bab8595245324a10e2698d8d', 'stepUsed': 328720, 'stepPrice': 10000000000, 'cumulativeStepUsed': 328720, 'eventLogs': [{'scoreAddress': 'cxa7ef2f228c1d3ee6bab8595245324a10e2698d8d', 'indexed': ['Burn(Address,int)', 'cx60ba0aa664572602b2667d6d6d4b217a36082d0f'], 'data': ['0x4563918244f40000']}, {'scoreAddress': 'cx60ba0aa664572602b2667d6d6d4b217a36082d0f', 'indexed': ['LoanRepaid(Address,str,int,str)', 'hxe7af5fcfd8dfc67530a01a0e403882687528dfcb', 'ICD', '0x4563918244f40000'], 'data': ['Loan of 5.0 ICD repaid to Balanced.']}, {'scoreAddress': 'cxa7ef2f228c1d3ee6bab8595245324a10e2698d8d', 'indexed': ['Transfer(Address,Address,int,bytes)', 'hxe7af5fcfd8dfc67530a01a0e403882687528dfcb', 'cx60ba0aa664572602b2667d6d6d4b217a36082d0f', '0x4563918244f40000'], 'data': ['0x7b226d6574686f64223a20225f72657061795f6c6f616e222c2022706172616d73223a207b7d7d']}], 'logsBloom': b'\\x00\\x00\\x00\\x00\\x08\\x08\\x00\\x00 \\x00\\x80 \\x00\\x00\\x00\\x00@\\x00\\x00\\x00\\x00\\x00\\x00\\x00\\x00@\\x00\\x00\\x00\\x00\\x00\\x08\\x00\\x10\\x00\\x00\\x00\\x00\\x00\\x00\\x08\\x00\\x00\\x00\\x00\\x00 \\x00\\x00\\x00\\x00\\x00\\x00\\x00\\x00\\x00\\x00\\x00\\x00\\x00\\x00\\x00\\x00\\x00\\x04\\x00\\x00\\x00\\x00\\x01\\x00\\x00\\x00\\x00\\x00@\\x00\\x00\\x00\\x04\\x00\\x00\\x00\\x00\\x00\\x00\\x00\\x00\\x00\\x00\\x00\\x00\\x00\\x01\\x00\\x00\\x00\\x00\\x00\\x00\\x00\\x00\\x02\\x00\\x00\\x00\\x00\\x00\\x00\\x00\\x00\\x00\\x00\\x00\\x00\\x00\\x00\\x00\\x00\\x00\\x00\\x00\\x00\\x00\\x00\\x00\\x00\\x00\\x00\\x00 \\x00\\x00\\x00\\x00\\x00\\x00\\x00\\x00\\x00\\x00\\x00\\x00\\x01\\x00\\x00\\x00\\x00\\x00\\x00\\x00\\x00\\x00\\x00\\x00\\x00\\x00\\x10\\x00\\x00\\x00\\x00\\x00\\x00\\x00\\x00\\x00\\x00\\x00\\x00\\x00\\x00\\x00\\x00\\x00\\x00\\x00\\x00\\x04\\x00\\x00\\x00\\x00\\x00\\x00\\x00\\x00\\x01\\x00\\x00\\x00\\x00\\x00\\x00\\x00\\x00\\x00\\x00\\x00\\x00\\x00\\x00\\x00\\x00\\x00\\x00\\x00\\x00\\x00\\x10\\x00\\x00\\x00\\x01\\x00\\x00\\x08\\x00\\x00\\x00\\x00\\x00\\x00\\x00\\x00\\x00\\x04\\x00\\x00\\x00\\x00\\x00\\x00\\x00\\x00\\x00\\x00\\x00\\x00\\x00\\x00\\x00\\x00\\x90\\x00\\x00\\x00\\x00\\x01\\x00\\x00\\x00\\x00\\x00\\x00\\x00', 'status': 1}\n"
     ]
    }
   ],
   "source": [
    "data = \"{\\\"method\\\": \\\"_repay_loan\\\", \\\"params\\\": {}}\".encode(\"utf-8\")\n",
    "params = {'_to': contracts['loans']['SCORE'], '_value': 5 * ICX, '_data': data}\n",
    "transaction = CallTransactionBuilder()\\\n",
    "    .from_(wallet.get_address())\\\n",
    "    .to(contracts['icd']['SCORE'])\\\n",
    "    .value(0)\\\n",
    "    .step_limit(10000000)\\\n",
    "    .nid(NID)\\\n",
    "    .nonce(100)\\\n",
    "    .method(\"transfer\")\\\n",
    "    .params(params)\\\n",
    "    .build()\n",
    "signed_transaction = SignedTransaction(transaction, wallet)\n",
    "tx_hash = icon_service.send_transaction(signed_transaction)\n",
    "tx_hash\n",
    "print(get_tx_result(tx_hash))"
   ]
  },
  {
   "cell_type": "markdown",
   "metadata": {},
   "source": [
    "### Withdraw Some Collateral"
   ]
  },
  {
   "cell_type": "code",
   "execution_count": 258,
   "metadata": {
    "collapsed": true
   },
   "outputs": [
    {
     "data": {
      "text/plain": [
       "'0xee2fb3554103807fe9ac94b6438dc3db60a7e212d0121b3f274b78324ef5e7e0'"
      ]
     },
     "execution_count": 258,
     "metadata": {},
     "output_type": "execute_result"
    },
    {
     "name": "stderr",
     "output_type": "stream",
     "text": [
      "Raised JSONRPCException while returning the custom response. Error message: {'code': -32602, 'message': 'Pending transaction'}\n"
     ]
    },
    {
     "name": "stdout",
     "output_type": "stream",
     "text": [
      "Retrying in 1 seconds...\n",
      "{'txHash': '0xee2fb3554103807fe9ac94b6438dc3db60a7e212d0121b3f274b78324ef5e7e0', 'blockHeight': 261133, 'blockHash': '0xe5b4d5f081dda7cbc460d02f4ff3b63189bac61fcb5e7e95d9d4c7ced760ef93', 'txIndex': 1, 'to': 'cx60ba0aa664572602b2667d6d6d4b217a36082d0f', 'stepUsed': 272700, 'stepPrice': 10000000000, 'cumulativeStepUsed': 272700, 'eventLogs': [{'scoreAddress': 'cxa7ef2f228c1d3ee6bab8595245324a10e2698d8d', 'indexed': ['OraclePrice(str,int,int)', 'ICXUSD', '0x2454d8dcb2cf44bb', '0x5b8abdfa363a4'], 'data': []}, {'scoreAddress': 'cxc92b0adc5f889044642ac3c1d24842eae5d222b4', 'indexed': ['Transfer(Address,Address,int,bytes)', 'cx60ba0aa664572602b2667d6d6d4b217a36082d0f', 'hxe7af5fcfd8dfc67530a01a0e403882687528dfcb', '0x4563918244f40000'], 'data': ['0x4e6f6e65']}, {'scoreAddress': 'cx60ba0aa664572602b2667d6d6d4b217a36082d0f', 'indexed': ['TokenTransfer(Address,int,str)', 'hxe7af5fcfd8dfc67530a01a0e403882687528dfcb', '0x4563918244f40000'], 'data': ['Collateral withdrawn. 5000000000000000000 sICX sent to hxe7af5fcfd8dfc67530a01a0e403882687528dfcb.']}], 'logsBloom': b'\\x00\\x00\\x00\\x02\\x08\\x00\\x08\\x00\\x00\\x10\\x00 \\x00\\x00\\x00\\x00\\x00\\x00\\x00\\x00\\x00\\x00\\x00\\x00\\x00@\\x00\\x00\\x00\\x00\\x00\\x00\\x00\\x10\\x00\\x00\\x00\\x02\\x00\\x00\\x08\\x00\\x00\\x00\\x00\\x00\"\\x00\\x00\\x00\\x00\\x00\\x00\\x00\\x00\\x00\\x00\\x00\\x00\\x00\\x00\\x00\\x00\\x00\\x00\\x04\\x00\\x00\\x00\\x01\\x00\\x00\\x00\\x00\\x00@\\x00\\x00\\x00\\x00\\x00\\x00\\x00\\x00\\x00\\x00\\x00\\x00\\x00\\x00\\x00 \\x00\\x01\\x00\\x00\\x00\\x00\\x00\\x00\\x00\\x00\\x02\\x00\\x00\\x00\\x00\\x00\\x80\\x00\\x00\\x00\\x00\\x00\\x00\\x00\\x00\\x00\\x08\\x00\\x00\\x00\\x00\\x00\\x00\\x00\\x00\\x00\\x00\\x00\\x00\\x00\\x00\\x00\\x00\\x00\\x00\\x00\\x00\\x00\\x00\\x00\\x00\\x00@\\x00\\x00\\x00\\x00\\x00\\x00\\x00@\\x00\\x00\\x00\\x00\\x10\\x00 \\x00\\x00\\x00@\\x00\\x00\\x00\\x08\\x00\\x00\\x00\\x00\\x00\\x00\\x01\\x00 \\x00\\x00\\x00\\x00\\x00\\x00\\x00\\x00\\x00\\x00\\x01@\\x00\\x00\\x00\\x00\\x01\\x00\\x00\\x00\\x00\\x00\\x00\\x00\\x00\\x00\\x00@\\x00\\x00\\x00\\x00\\x00\\x00\\x00\\x00\\x01\\x00\\x00\\x08\\x00\\x00\\x00\\x00\\x00\\x00\\x01\\x00\\x00\\x04\\x00\\x00\\x00\\x00\\x00\\x00\\x00\\x00\\x00\\x00\\x00\\x00\\x00\\x00\\x00\\x00\\xb0\\x00\\x00\\x00\\x00\\x11\\x00\\x00\\x00\\x00\\x00@\\x00', 'status': 1}\n"
     ]
    }
   ],
   "source": [
    "params = {'_value': 5 * ICX}\n",
    "transaction = CallTransactionBuilder()\\\n",
    "    .from_(wallet.get_address())\\\n",
    "    .to(contracts['loans']['SCORE'])\\\n",
    "    .value(0)\\\n",
    "    .step_limit(10000000)\\\n",
    "    .nid(NID)\\\n",
    "    .nonce(100)\\\n",
    "    .method(\"withdraw_collateral\")\\\n",
    "    .params(params)\\\n",
    "    .build()\n",
    "signed_transaction = SignedTransaction(transaction, wallet)\n",
    "tx_hash = icon_service.send_transaction(signed_transaction)\n",
    "tx_hash\n",
    "print(get_tx_result(tx_hash))"
   ]
  },
  {
   "cell_type": "markdown",
   "metadata": {},
   "source": [
    "### Test Liquidation"
   ]
  },
  {
   "cell_type": "code",
   "execution_count": 259,
   "metadata": {
    "collapsed": true
   },
   "outputs": [
    {
     "data": {
      "text/plain": [
       "'0x9b66cea220d0024d5f39227be905b667a250989c9c5902cefe43df9a7e565ba0'"
      ]
     },
     "execution_count": 259,
     "metadata": {},
     "output_type": "execute_result"
    },
    {
     "name": "stderr",
     "output_type": "stream",
     "text": [
      "Raised JSONRPCException while returning the custom response. Error message: {'code': -32602, 'message': 'Pending transaction'}\n"
     ]
    },
    {
     "name": "stdout",
     "output_type": "stream",
     "text": [
      "Retrying in 1 seconds...\n",
      "{'txHash': '0x9b66cea220d0024d5f39227be905b667a250989c9c5902cefe43df9a7e565ba0', 'blockHeight': 261140, 'blockHash': '0x8180f5f4fbc8065be3c1dec73135b5ab8c8925f8e14cfce066ba36a91358ab74', 'txIndex': 1, 'to': 'cxb12ac82038f98353776f555b60c7ade39bc73681', 'stepUsed': 349920, 'stepPrice': 10000000000, 'cumulativeStepUsed': 349920, 'eventLogs': [{'scoreAddress': 'cxc92b0adc5f889044642ac3c1d24842eae5d222b4', 'indexed': ['Transfer(Address,Address,int,bytes)', 'cxc92b0adc5f889044642ac3c1d24842eae5d222b4', 'cx60ba0aa664572602b2667d6d6d4b217a36082d0f', '0x2a6f1a22364bbe8000'], 'data': ['0x7b226d6574686f64223a20225f6465706f7369745f616e645f626f72726f77222c2022706172616d73223a207b225f6173736574223a2022222c20225f616d6f756e74223a20307d7d']}, {'scoreAddress': 'cxc92b0adc5f889044642ac3c1d24842eae5d222b4', 'indexed': ['Mint(Address,int,bytes)', 'cx60ba0aa664572602b2667d6d6d4b217a36082d0f'], 'data': ['0x2a6f1a22364bbe8000', '0x7b226d6574686f64223a20225f6465706f7369745f616e645f626f72726f77222c2022706172616d73223a207b225f6173736574223a2022222c20225f616d6f756e74223a20307d7d']}, {'scoreAddress': 'cxb12ac82038f98353776f555b60c7ade39bc73681', 'indexed': ['TokenTransfer(Address,int,str)', 'cx60ba0aa664572602b2667d6d6d4b217a36082d0f', '0x2a6f1a22364bbe8000'], 'data': ['782.769 sICX minted to cx60ba0aa664572602b2667d6d6d4b217a36082d0f']}], 'logsBloom': b'\\x00\\x00\\x80\\x00\\x00\\x00\\x00\\x00 \\x00\\x00 \\x00 \\x81\\x00\\x00\\x00\\x00\\x00\\x00\\x00\\x00\\x00\\x00\\x00\\x00\\x00\\x00\\x00\\x00\\x00\\x00\\x00\\x00\\x00\\x00\\x00\\x00\\x00\\x08 \\x00\\x00\\x00\\x00\\x00\\x00\\x00\\x00\\x00\\x00\\x00\\x00\\x00\\x00\\x00\\x00\\x00\\x00\\x00\\x00\\x00\\x00\\x04\\x04\\x00\\x00\\x00\\x00\\x00@\\x00\\x00\\x00\\x00\\x00\\x00\\x00\\x00\\x00\\x00\\x00\\x00\\x00\\x00\\x00\\x00\\x00\\x00\\x00\\x00\\x00\\x01\\x00\\x00\\x00\\x00\\x00\\x00\\x00\\x00\\x00 \\x00\\x00\\x00\\x00\\x80\\x00\\x08\\x01\\x00\\x00\\x00\\x00\\x00\\x00\\x00\\x00\\x00\\x08\\x00\\x00\\x00\\x00\\x00\\x00\\x00\\x00\\x00\\x00\\x00\\x00\\x00\\x00\\x00@\\x00\\x00\\x00\\x00\\x00\\x00@\\x00\\x00\\x00\\x00\\x04\\x00\\x00@\\x00\\x00\\x00\\x00\\x10\\x00\\x10\\x00\\x00\\x00\\x00\\x00\\x00\\x00\\x00\\x00\\x00\\x00\\x00\\x00\\x00\\x00\\x00\\x00\\x00\\x00\\x00\\x00\\x00\\x00\\x00\\x00\\x00\\x00\\x00\\x00\\x00\\x00\\x00\\x00\\x00\\x08\\x00\\x00\\x00\\x00\\x00\\x00\\x00\\x00\\x00\\x00\\x00\\x00\\x00\\x00\\x10\\x00\\x00\\x00A\\x00\\x00\\x00\\x00\\x00\\x00\\x00\\x00\\x00\\x01\\x00\\x00\\x04\\x00\\x00\\x00\\x00\\x00\\x00\\x00\\x00\\x00\\x00\\x00\\x00\\x00\\x00\\x00\\x00 \\x00\\x00\\x00\\x00\\x00\\x00\\x00\\x00\\x00\\x00\\x00\\x00', 'status': 1}\n"
     ]
    }
   ],
   "source": [
    "# Deposit collateral to fresh wallet\n",
    "data = \"{\\\"method\\\": \\\"_deposit_and_borrow\\\", \\\"params\\\": {\\\"_asset\\\": \\\"\\\", \\\"_amount\\\": 0}}\".encode(\"utf-8\")\n",
    "params = {'_to': contracts['loans']['SCORE'], '_data': data}\n",
    "transaction = CallTransactionBuilder()\\\n",
    "    .from_(btest_wallet.get_address())\\\n",
    "    .to(contracts['staking']['SCORE'])\\\n",
    "    .value(782769 * ICX // 1000)\\\n",
    "    .step_limit(10000000)\\\n",
    "    .nid(NID)\\\n",
    "    .nonce(100)\\\n",
    "    .method(\"add_collateral\")\\\n",
    "    .params(params)\\\n",
    "    .build()\n",
    "signed_transaction = SignedTransaction(transaction, btest_wallet)\n",
    "tx_hash = icon_service.send_transaction(signed_transaction)\n",
    "tx_hash\n",
    "print(get_tx_result(tx_hash))"
   ]
  },
  {
   "cell_type": "markdown",
   "metadata": {},
   "source": [
    "#### Update the loans SCORE to add a loan of ICD to the Balanced test wallet\n",
    "Code in the on_update() method will mint and add the ICD. Adds an undercollateralized amount of ICD, 200 ICD."
   ]
  },
  {
   "cell_type": "code",
   "execution_count": 266,
   "metadata": {
    "collapsed": true
   },
   "outputs": [
    {
     "data": {
      "text/plain": [
       "'0x6c5e6ef87337ceb60289fb90918cfdc56c6f9c184267b0e733f624b9fe158bad'"
      ]
     },
     "execution_count": 266,
     "metadata": {},
     "output_type": "execute_result"
    },
    {
     "name": "stderr",
     "output_type": "stream",
     "text": [
      "Raised JSONRPCException while returning the custom response. Error message: {'code': -32602, 'message': 'Pending transaction'}\n"
     ]
    },
    {
     "name": "stdout",
     "output_type": "stream",
     "text": [
      "Retrying in 1 seconds...\n"
     ]
    },
    {
     "name": "stderr",
     "output_type": "stream",
     "text": [
      "Raised JSONRPCException while returning the custom response. Error message: {'code': -32602, 'message': 'Pending transaction'}\n"
     ]
    },
    {
     "name": "stdout",
     "output_type": "stream",
     "text": [
      "Retrying in 2 seconds...\n",
      "{'txHash': '0x6c5e6ef87337ceb60289fb90918cfdc56c6f9c184267b0e733f624b9fe158bad', 'blockHeight': 262739, 'blockHash': '0x20391ec93ad6b5cc65c5fc84e4a80c9567c14ef3662cc18c1b81baccf3668552', 'txIndex': 1, 'to': 'cx60ba0aa664572602b2667d6d6d4b217a36082d0f', 'stepUsed': 348100, 'stepPrice': 10000000000, 'cumulativeStepUsed': 348100, 'eventLogs': [{'scoreAddress': 'cxa7ef2f228c1d3ee6bab8595245324a10e2698d8d', 'indexed': ['OraclePrice(str,int,int)', 'ICXUSD', '0x2454d8dcb2cf44bb', '0x5b8ac9f41ae79'], 'data': []}, {'scoreAddress': 'cxc92b0adc5f889044642ac3c1d24842eae5d222b4', 'indexed': ['Transfer(Address,Address,int,bytes)', 'cx60ba0aa664572602b2667d6d6d4b217a36082d0f', 'hxe7af5fcfd8dfc67530a01a0e403882687528dfcb', '0x48c86487af753800'], 'data': ['0x4e6f6e65']}, {'scoreAddress': 'cx60ba0aa664572602b2667d6d6d4b217a36082d0f', 'indexed': ['TokenTransfer(Address,int,str)', 'hxe7af5fcfd8dfc67530a01a0e403882687528dfcb', '0x48c86487af753800'], 'data': ['Liquidation reward of 5244552300000000000 sICX sent to hxe7af5fcfd8dfc67530a01a0e403882687528dfcb.']}, {'scoreAddress': 'cx60ba0aa664572602b2667d6d6d4b217a36082d0f', 'indexed': ['Liquidate(Address,int,str)', 'hx3f01840a599da07b0f620eeae7aa9c574169a4be', '0x2a6f1a22364bbe8000'], 'data': ['782769000000000000000 liquidated from hx3f01840a599da07b0f620eeae7aa9c574169a4be']}], 'logsBloom': b'\\x00\\x00\\x00\\x02\\x00\\x00\\x08\\x00\\x00\\x18\\x00 \\x00\\x00\\x80\\x00\\x00\\x00\\x00\\x00\\x00\\x00\\x00\\x00\\x00@\\x00\\x00\\x00\\x00\\x00\\x00\\x00\\x10\\x00\\x00\\x00\\x00\\x00\\x00\\x08\\x00\\x00\\x00\\x00\\x00 \\x00\\x00\\x00\\x80\\x00\\x00\\x00\\x00\\x00\\x00\\x00\\x00\\x00\\x00\\x00\\x00\\x00\\x00\\x04\\x00\\x00\\x00\\x01\\x00A\\x00\\x00\\x00@\\x00\\x04\\x00\\x00\\x00\\x00\\x00\\x00\\x00\\x00\\x00\\x00\\x00\\x00\\x00 \\x80\\x05\\x00\\x00\\x00\\x00\\x00\\x02\\x00\\x00\\x02\\x00\\x00\\x00\\x00\\x00\\x80\\x00\\x00\\x01\\x00\\x00\\x00\\x00\\x00\\x00\\x08\\x00\\x00\\x00\\x00\\x00\\x00\\x00\\x00\\x04 \\x00\\x00\\x00\\x00\\x00\\x00\\x00\\x00\\x00\\x00\\x00\\x00\\x00\\x00\\x00@\\x00\\x00\\x00\\x10\\x00\\x00\\x00@\\x00\\x00\\x00\\x00\\x10\\x00 \\x00\\x00\\x00@@\\x00\\x00\\x00\\x00\\x00\\x00\\x00\\x00\\x00\\x01\\x00 \\x00\\x00\\x00\\x00\\x00\\x00\\x00\\x00\\x00\\x00\\x01\\xc0\\x00\\x00\\x00\\x01\\x01\\x00\\x00\\x10\\x00\\x00 \\x00\\x00\\x00\\x00\\x00\\x00\\x00\\x00\\x00\\x00\\x00\\x00\\x00\\x01\\x00\\x00\\x08\\x00\\x00\\x00\\x00\\x00\\x00\\x01\\x00\\x00\\x04\\x00\\x00\\x00\\x00\\x00\\x00\\x00\\x00\\x00\\x00\\x00\\x00\\x00\\x00\\x00\\x00 \\x00\\x00\\x00\\x00\\x01\\x00\\x00\\x00\\x00\\x00\\x00\\x00', 'status': 1}\n"
     ]
    }
   ],
   "source": [
    "params = {'_position': btest_wallet.get_address()}\n",
    "transaction = CallTransactionBuilder()\\\n",
    "    .from_(wallet.get_address())\\\n",
    "    .to(contracts['loans']['SCORE'])\\\n",
    "    .value(0)\\\n",
    "    .step_limit(10000000)\\\n",
    "    .nid(NID)\\\n",
    "    .nonce(100)\\\n",
    "    .method(\"liquidate\")\\\n",
    "    .params(params)\\\n",
    "    .build()\n",
    "signed_transaction = SignedTransaction(transaction, wallet)\n",
    "tx_hash = icon_service.send_transaction(signed_transaction)\n",
    "tx_hash\n",
    "print(get_tx_result(tx_hash))"
   ]
  },
  {
   "cell_type": "code",
   "execution_count": 267,
   "metadata": {},
   "outputs": [
    {
     "data": {
      "text/plain": [
       "{'created': '0x5b8abe07927b5',\n",
       " 'address': 'hx3f01840a599da07b0f620eeae7aa9c574169a4be',\n",
       " 'assets': {'sICX': [0, 0], 'ICD': [0, 0]},\n",
       " 'standing': 'Liquidate',\n",
       " 'updated': '0x5b8ac9f41ae79'}"
      ]
     },
     "execution_count": 267,
     "metadata": {},
     "output_type": "execute_result"
    }
   ],
   "source": [
    "params = {'_owner': btest_wallet.get_address()}\n",
    "call = CallBuilder().from_(wallet.get_address())\\\n",
    "                    .to(contracts['loans']['SCORE'])\\\n",
    "                    .method('get_account_positions')\\\n",
    "                    .params(params)\\\n",
    "                    .build()\n",
    "result = icon_service.call(call)\n",
    "result"
   ]
  },
  {
   "cell_type": "code",
   "execution_count": 263,
   "metadata": {},
   "outputs": [
    {
     "data": {
      "text/plain": [
       "{'created': '0x5b8abe07927b5',\n",
       " 'address': 'hx3f01840a599da07b0f620eeae7aa9c574169a4be',\n",
       " 'assets': {'sICX': [782769000000000000000, 782769000000000000000],\n",
       "  'ICD': [200000000000000000000, 200000000000000000000]},\n",
       " 'standing': 'Locked',\n",
       " 'updated': '0x5b8abe59a9dbb'}"
      ]
     },
     "execution_count": 263,
     "metadata": {},
     "output_type": "execute_result"
    }
   ],
   "source": [
    "params = {'_owner': btest_wallet.get_address()}\n",
    "call = CallBuilder().from_(wallet.get_address())\\\n",
    "                    .to(contracts['loans']['SCORE'])\\\n",
    "                    .method('get_account_positions')\\\n",
    "                    .params(params)\\\n",
    "                    .build()\n",
    "result = icon_service.call(call)\n",
    "result"
   ]
  },
  {
   "cell_type": "code",
   "execution_count": 179,
   "metadata": {},
   "outputs": [
    {
     "data": {
      "text/plain": [
       "'0xad78ebc5ac6200000'"
      ]
     },
     "execution_count": 179,
     "metadata": {},
     "output_type": "execute_result"
    }
   ],
   "source": [
    "params = {'_owner': btest_wallet.get_address()}\n",
    "call = CallBuilder().from_(wallet.get_address())\\\n",
    "                    .to(contracts['icd']['SCORE'])\\\n",
    "                    .method('balanceOf')\\\n",
    "                    .params(params)\\\n",
    "                    .build()\n",
    "result = icon_service.call(call)\n",
    "result"
   ]
  },
  {
   "cell_type": "code",
   "execution_count": null,
   "metadata": {},
   "outputs": [],
   "source": []
  }
 ],
 "metadata": {
  "kernelspec": {
   "display_name": "Python 3",
   "language": "python",
   "name": "python3"
  },
  "language_info": {
   "codemirror_mode": {
    "name": "ipython",
    "version": 3
   },
   "file_extension": ".py",
   "mimetype": "text/x-python",
   "name": "python",
   "nbconvert_exporter": "python",
   "pygments_lexer": "ipython3",
   "version": "3.6.10"
  }
 },
 "nbformat": 4,
 "nbformat_minor": 4
}
