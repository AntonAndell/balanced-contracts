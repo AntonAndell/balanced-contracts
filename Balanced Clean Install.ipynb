{
 "cells": [
  {
   "cell_type": "markdown",
   "metadata": {},
   "source": [
    "## Set Up Environment"
   ]
  },
  {
   "cell_type": "code",
   "execution_count": 1,
   "metadata": {},
   "outputs": [],
   "source": [
    "# Cell 0\n",
    "# If at all possible please test locally or on the private tbears server. The Testnet\n",
    "# is becoming cluttered with many deployments of Balanced contracts.\n",
    "# Note that running on the private tbears server will require the number of top P-Reps \n",
    "# be set to 4 in the staking contract or it will fail to deploy.\n",
    "\n",
    "network = \"custom\"  # set this to one of mainnet, yeouido, euljiro, pagoda, or custom\n",
    "\n",
    "connections = {\n",
    "\"mainnet\": {\"iconservice\": \"https://ctz.solidwallet.io\",       \"nid\": 1},\n",
    "\"yeouido\": {\"iconservice\": \"https://bicon.net.solidwallet.io\", \"nid\": 3},\n",
    "\"gangnam\": {\"iconservice\": \"https://gicon.net.solidwallet.io\", \"nid\": 3},\n",
    "\"hannam\": {\"iconservice\": \"https://hannam.net.solidwallet.io\", \"nid\": 3},\n",
    "\"euljiro\": {\"iconservice\": \"https://test-ctz.solidwallet.io\",  \"nid\": 2},\n",
    "\"pagoda\":  {\"iconservice\": \"https://zicon.net.solidwallet.io\", \"nid\":80},\n",
    "\"custom\":  {\"iconservice\": \"http://18.144.108.38:9000\",        \"nid\": 3}}\n",
    "\n",
    "env = connections[network]"
   ]
  },
  {
   "cell_type": "code",
   "execution_count": 2,
   "metadata": {},
   "outputs": [],
   "source": [
    "# Cell 1\n",
    "\n",
    "from iconsdk.exception import JSONRPCException\n",
    "from iconsdk.libs.in_memory_zip import gen_deploy_data_content\n",
    "from iconsdk.icon_service import IconService\n",
    "from iconsdk.providers.http_provider import HTTPProvider\n",
    "from iconsdk.builder.transaction_builder import CallTransactionBuilder, TransactionBuilder, DeployTransactionBuilder\n",
    "from iconsdk.builder.call_builder import CallBuilder\n",
    "from iconsdk.signed_transaction import SignedTransaction\n",
    "from iconsdk.wallet.wallet import KeyWallet\n",
    "from iconsdk.utils.convert_type import convert_hex_str_to_int\n",
    "from repeater import retry\n",
    "from shutil import make_archive\n",
    "import pickle as pkl\n",
    "from datetime import datetime\n",
    "from time import sleep\n",
    "import json\n",
    "import os\n",
    "\n",
    "ICX = 1000000000000000000 # 10**18\n",
    "GOVERNANCE_ADDRESS = \"cx0000000000000000000000000000000000000000\"\n",
    "TEST_ORACLE = \"cx61a36e5d10412e03c907a507d1e8c6c3856d9964\"\n",
    "MAIN_ORACLE = \"cxe647e0af68a4661566f5e9861ad4ac854de808a2\"\n",
    "BALANCED_TEST = \"hx3f01840a599da07b0f620eeae7aa9c574169a4be\"\n",
    "\n",
    "@retry(JSONRPCException, tries=10, delay=1, back_off=2)\n",
    "def get_tx_result(_tx_hash):\n",
    "    tx_result = icon_service.get_transaction_result(_tx_hash)\n",
    "    return tx_result"
   ]
  },
  {
   "cell_type": "code",
   "execution_count": 3,
   "metadata": {},
   "outputs": [],
   "source": [
    "# Cell 2\n",
    "\n",
    "icon_service = IconService(HTTPProvider(env[\"iconservice\"], 3))\n",
    "NID = env[\"nid\"]"
   ]
  },
  {
   "cell_type": "code",
   "execution_count": 4,
   "metadata": {},
   "outputs": [],
   "source": [
    "# Cell 3\n",
    "\n",
    "wallet = KeyWallet.load(\"keystores/keystore_test1.json\", \"test1_Account\")\n",
    "# Balanced test wallet\n",
    "with open(\"keystores/balanced_test.pwd\", \"r\") as f:\n",
    "    key_data = f.read()\n",
    "btest_wallet = KeyWallet.load(\"keystores/balanced_test.json\", key_data)\n",
    "with open(\"keystores/staking_test.pwd\", \"r\") as f:\n",
    "    key_data = f.read()\n",
    "staking_wallet = KeyWallet.load(\"keystores/staking_test.json\", key_data)"
   ]
  },
  {
   "cell_type": "code",
   "execution_count": 98,
   "metadata": {},
   "outputs": [
    {
     "name": "stdout",
     "output_type": "stream",
     "text": [
      "hxe7af5fcfd8dfc67530a01a0e403882687528dfcb\n",
      "783954813.6165906\n"
     ]
    }
   ],
   "source": [
    "print(wallet.get_address())\n",
    "print(icon_service.get_balance(wallet.get_address()) / 10**18)"
   ]
  },
  {
   "cell_type": "code",
   "execution_count": 97,
   "metadata": {},
   "outputs": [
    {
     "name": "stdout",
     "output_type": "stream",
     "text": [
      "hx3f01840a599da07b0f620eeae7aa9c574169a4be\n",
      "1052231.256087\n"
     ]
    }
   ],
   "source": [
    "print(btest_wallet.get_address())\n",
    "print(icon_service.get_balance(btest_wallet.get_address()) / 10**18)"
   ]
  },
  {
   "cell_type": "markdown",
   "metadata": {},
   "source": [
    "### Send ICX to Balanced test wallet"
   ]
  },
  {
   "cell_type": "code",
   "execution_count": null,
   "metadata": {},
   "outputs": [],
   "source": [
    "# Cell 4\n",
    "# Only necessary if running locally or on the private tbears server\n",
    "# for the first time since reinitializing.\n",
    "\n",
    "# send_icx(wallets[20].get_address(), 2000 * ICX, btest_wallet)\n",
    "\n",
    "# transaction = TransactionBuilder()\\\n",
    "#     .from_(wallet.get_address())\\\n",
    "#     .to(btest_wallet.get_address())\\\n",
    "#     .value(1000000 * ICX)\\\n",
    "#     .step_limit(1000000) \\\n",
    "#     .nid(NID) \\\n",
    "#     .nonce(2) \\\n",
    "#     .version(3) \\\n",
    "#     .build()\n",
    "# signed_transaction = SignedTransaction(transaction, wallet)\n",
    "# tx_hash = icon_service.send_transaction(signed_transaction)\n",
    "# tx_hash"
   ]
  },
  {
   "cell_type": "markdown",
   "metadata": {},
   "source": [
    "### Deployment"
   ]
  },
  {
   "cell_type": "code",
   "execution_count": null,
   "metadata": {},
   "outputs": [],
   "source": [
    "old_dividends = 'cx13f08df7106ae462c8358066e6d47bb68d995b6d'"
   ]
  },
  {
   "cell_type": "code",
   "execution_count": null,
   "metadata": {},
   "outputs": [],
   "source": [
    "# Cell 5\n",
    "# The following addresses are those deployed to the mainnet.\n",
    "\n",
    "contracts = {'loans': {'zip': 'core_contracts/loans.zip',\n",
    "  'SCORE': 'cx66d4d90f5f113eba575bf793570135f9b10cece1'},\n",
    " 'staking': {'zip': 'core_contracts/staking.zip',\n",
    "  'SCORE': 'cx43e2eec79eb76293c298f2b17aec06097be606e0'},\n",
    " 'dividends': {'zip': 'core_contracts/dividends.zip',\n",
    "  'SCORE': 'cx203d9cd2a669be67177e997b8948ce2c35caffae'},\n",
    " 'reserve': {'zip': 'core_contracts/reserve.zip',\n",
    "  'SCORE': 'cxf58b9a1898998a31be7f1d99276204a3333ac9b3'},\n",
    " 'daofund': {'zip': 'core_contracts/daofund.zip',\n",
    "  'SCORE': 'cx835b300dcfe01f0bdb794e134a0c5628384f4367'},\n",
    " 'rewards': {'zip': 'core_contracts/rewards.zip',\n",
    "  'SCORE': 'cx10d59e8103ab44635190bd4139dbfd682fa2d07e'},\n",
    " 'dex': {'zip': 'core_contracts/dex.zip',\n",
    "  'SCORE': 'cxa0af3165c08318e988cb30993b3048335b94af6c'},\n",
    " 'rebalancing': {'zip': 'core_contracts/rebalancing.zip',\n",
    "  'SCORE': 'cx40d59439571299bca40362db2a7d8cae5b0b30b0'},\n",
    " 'governance': {'zip': 'core_contracts/governance.zip',\n",
    "  'SCORE': 'cx44250a12074799e26fdeee75648ae47e2cc84219'},\n",
    " 'oracle': {'zip': 'core_contracts/oracle.zip',\n",
    "  'SCORE': 'cxe647e0af68a4661566f5e9861ad4ac854de808a2'},\n",
    " 'sicx': {'zip': 'token_contracts/sicx.zip',\n",
    "  'SCORE': 'cx2609b924e33ef00b648a409245c7ea394c467824'},\n",
    " 'bnUSD': {'zip': 'token_contracts/bnUSD.zip',\n",
    "  'SCORE': 'cx88fd7df7ddff82f7cc735c871dc519838cb235bb'},\n",
    " 'baln': {'zip': 'token_contracts/baln.zip',\n",
    "  'SCORE': 'cxf61cd5a45dc9f91c15aa65831a30a90d59a09619'},\n",
    " 'bwt': {'zip': 'token_contracts/bwt.zip',\n",
    "  'SCORE': 'cxcfe9d1f83fa871e903008471cca786662437e58d'}}"
   ]
  },
  {
   "cell_type": "code",
   "execution_count": null,
   "metadata": {},
   "outputs": [],
   "source": [
    "# Cell 5a\n",
    "## Testnet Yeouido\n",
    "\n",
    "contracts = {'loans': {'zip': 'core_contracts/loans.zip',\n",
    "  'SCORE': 'cx3259f3ff9a51ca3bf170d4ff9104cf4af126ca1c'},\n",
    " 'router': {'zip': 'core_contracts/router.zip',\n",
    "  'SCORE': 'cx4c456f4a02d2576fe712ea10b311a5fe8d06d205'},\n",
    " 'staking': {'zip': 'core_contracts/staking.zip',\n",
    "  'SCORE': 'cx9d829396d887f9292d8af488fab78ad24ab6b99a'},\n",
    " 'dividends': {'zip': 'core_contracts/dividends.zip',\n",
    "  'SCORE': 'cx5b996d251009340f7c312b9df5c44f0f39a20a91'},\n",
    " 'reserve': {'zip': 'core_contracts/reserve.zip',\n",
    "  'SCORE': 'cx1754666c6779dc5e495a462144dd15e4a68fe776'},\n",
    " 'daofund': {'zip': 'core_contracts/daofund.zip',\n",
    "  'SCORE': 'cx430955c5a5e2a6e48c1f2aaa7258dc4c84222247'},\n",
    " 'rewards': {'zip': 'core_contracts/rewards.zip',\n",
    "  'SCORE': 'cx893fccdd0881d8e2bd2625f711b38e06848ecb89'},\n",
    " 'dex': {'zip': 'core_contracts/dex.zip',\n",
    "  'SCORE': 'cx399dea56cf199b1c9e43bead0f6a284bdecfbf62'},\n",
    " 'rebalancing': {'zip': 'core_contracts/rebalancing.zip',\n",
    "  'SCORE': 'cx2e3398dfce78a3c83de8a41d7c5f4aa40d3a4f30'},\n",
    " 'governance': {'zip': 'core_contracts/governance.zip',\n",
    "  'SCORE': 'cx483630769b61b76387d6ed90c911c16da546784f'},\n",
    " 'oracle': {'zip': 'core_contracts/oracle.zip',\n",
    "  'SCORE': 'cx61a36e5d10412e03c907a507d1e8c6c3856d9964'},\n",
    " 'sicx': {'zip': 'token_contracts/sicx.zip',\n",
    "  'SCORE': 'cxae6334850f13dfd8b50f8544d5acb126bb8ef82d'},\n",
    " 'bnUSD': {'zip': 'token_contracts/bnUSD.zip',\n",
    "  'SCORE': 'cxc48c9c81ceef04445c961c5cc8ff056d733dfe3a'},\n",
    " 'bnXLM': {'zip': 'token_contracts/bnXLM.zip',\n",
    "  'SCORE': 'cx4a1179d3ff8c692c4b20bfab2a2038ef79811002'},\n",
    " 'bnDOGE': {'zip': 'token_contracts/bnDOGE.zip',\n",
    "  'SCORE': 'cxa40ff2a028d4def5ae12ae82a188ad4eb051ab1f'},\n",
    " 'baln': {'zip': 'token_contracts/baln.zip',\n",
    "  'SCORE': 'cx36169736b39f59bf19e8950f6c8fa4bfa18b710a'},\n",
    " 'bwt': {'zip': 'token_contracts/bwt.zip',\n",
    "  'SCORE': 'cx5d886977b7d24b9f73a460c9ca2d43847997c285'}}"
   ]
  },
  {
   "cell_type": "code",
   "execution_count": 24,
   "metadata": {},
   "outputs": [],
   "source": [
    "# Cell 5c\n",
    "# The following addresses are those deployed to the private tbears server.\n",
    "\n",
    "contracts = {'loans': {'zip': 'core_contracts/loans.zip',\n",
    "  'SCORE': 'cx8b77a58aaf15499c5b774a84f514edf101e78911'},\n",
    " 'staking': {'zip': 'core_contracts/staking.zip',\n",
    "  'SCORE': 'cx53cdc86fb50830d77143c077c91a3133b7ab46e7'},\n",
    " 'router': {'zip': 'core_contracts/router.zip',\n",
    "  'SCORE': 'cx5d886977b7d24b9f73a460c9ca2d43847997c285'},\n",
    " 'dividends': {'zip': 'core_contracts/dividends.zip',\n",
    "  'SCORE': 'cxfcfe26c43a7e4a9e875826bc943901c2f458fda7'},\n",
    " 'reserve': {'zip': 'core_contracts/reserve.zip',\n",
    "  'SCORE': 'cx0263f8cb222e965c2810b917c0ffc54e4aed9a5e'},\n",
    " 'daofund': {'zip': 'core_contracts/daofund.zip',\n",
    "  'SCORE': 'cx44e80f46842a009b3371b07a8a0782f0e11fd0a8'},\n",
    " 'rewards': {'zip': 'core_contracts/rewards.zip',\n",
    "  'SCORE': 'cx77dc1982c949e7ce5bf92260974ef8b838357964'},\n",
    " 'dex': {'zip': 'core_contracts/dex.zip',\n",
    "  'SCORE': 'cx2bec556f4d890677d54f9a4b2ab8e648496376ae'},\n",
    " 'governance': {'zip': 'core_contracts/governance.zip',\n",
    "  'SCORE': 'cxe90e668a8467b951d41220575674a6cd17fafddb'},\n",
    " 'oracle': {'zip': 'core_contracts/oracle.zip',\n",
    "  'SCORE': 'cx236877888d2dd48ab327612146254796e516e71a'},\n",
    " 'sicx': {'zip': 'token_contracts/sicx.zip',\n",
    "  'SCORE': 'cx52887aff55673d63c8bbae0499a8b93024ec2af1'},\n",
    " 'bnUSD': {'zip': 'token_contracts/bnUSD.zip',\n",
    "  'SCORE': 'cxa28ed6e7ec8f5cc7a9bce10f72a0725347675fcb'},\n",
    " 'bnXLM': {'zip': 'token_contracts/bnXLM.zip',\n",
    "  'SCORE': 'cx7896b19a958b91cbb6cef37dea942cdaaaba7756'},\n",
    " 'bnDOGE': {'zip': 'token_contracts/bnDOGE.zip',\n",
    "  'SCORE': 'cx0250899375082465b9b965b69585094feecfcc94'},\n",
    " 'baln': {'zip': 'token_contracts/baln.zip',\n",
    "  'SCORE': 'cx049b2b12783cc5796041c9a725d3e12a372035d9'},\n",
    " 'bwt': {'zip': 'token_contracts/bwt.zip',\n",
    "  'SCORE': 'cx8fa567dfd5e41c79c5c56e0d876d43579d57c885'},\n",
    " 'rebalancing': {'zip': 'token_contracts/rebalancing.zip',\n",
    "  'SCORE': 'cx8fa567dfd5e41c79c5c56e0d876d43579d57c885'}}"
   ]
  },
  {
   "cell_type": "code",
   "execution_count": 19,
   "metadata": {
    "scrolled": true
   },
   "outputs": [
    {
     "name": "stdout",
     "output_type": "stream",
     "text": [
      "{\"loans\": \"cx6b8a849a32334268a175d0865f1b6c7266aee24e\", \"staking\": \"cxeb16f219b387d246c43b7f44dfcc980012d0f39b\", \"router\": \"cxf0b20614f3cf0731e9f154510194ade52049334c\", \"dividends\": \"cxdcf29468e57894a02efa6228e2074a4dab6e2a00\", \"reserve\": \"cxe2c4cff8fc36cd131e7169f5837ff46c4b646a54\", \"daofund\": \"cx2a11c4ecdb2d307a3b09e1d8a7d8afbfeff9b21a\", \"rewards\": \"cxf34b126e6e047d881e00d15a29af894a48a1f2a6\", \"dex\": \"cx9485e2be64b74183cc86b54df5d3fb7a14ab6f86\", \"governance\": \"cx20737d71f8c1c5b5bb343389e1188696f9c83df0\", \"oracle\": \"\", \"sicx\": \"cx1b8d344acef77395da5f372bbbf8d3d3de76efc6\", \"bnUSD\": \"cx4c202f0d4da93cc78f444e80804753b0e310000d\", \"bnXLM\": \"cxd25cb82b63d3bbb02b6c06f9f58de27b89734efe\", \"bnDOGE\": \"cxee2c96bccc9b3b894322c5f2e6629067d85457f2\", \"baln\": \"cx044e27e4fbb71cf8e94468c4624390cbb54b04cb\", \"bwt\": \"cx4028a1dd80a34cf9cdd8bfe8690939900a7d29e8\"}\n"
     ]
    }
   ],
   "source": [
    "print(json.dumps({contract: contracts[contract]['SCORE'] for contract in contracts}))"
   ]
  },
  {
   "cell_type": "code",
   "execution_count": null,
   "metadata": {},
   "outputs": [],
   "source": [
    "for score in contracts:\n",
    "    contracts[score]['SCORE'] = {\"loans\": \"cx784f198d1b78fa12912fbda6edc38d9fb627067a\", \"staking\": \"cxc3733d7112d27e51490067af4f486da9380f1a41\", \"dividends\": \"cxd47dc3297a03f8245310994ccb5f7c166f1562e5\", \"reserve\": \"cx0af7adaef9fde9ce6dca17632dd5bbe6b0cb88c8\", \"daofund\": \"cxace1660691d27d12f638352fa6977329d3be9ab9\", \"rewards\": \"cxa81b648378628115071d216fbd7ba2e3657377b1\", \"dex\": \"cxc428e09c5f8783b0676e61ce83ca16bf6d7682fd\", \"governance\": \"cxfbec559c11a167191cdd88a9c1d4a292514a00cf\", \"oracle\": \"cx61a36e5d10412e03c907a507d1e8c6c3856d9964\", \"sicx\": \"cx196fda5daa2de632d190b869a8501693ed93d3b7\", \"bnUSD\": \"cx38aa1937a1da7031818ba68e2b9feb5fff3235ef\", \"bnXLM\": \"cx9c6514df52341309b15da134168d87e81782bd72\", \"bnDOGE\": \"cx8907cdcdaadcdbee318fcefd89ccab953b4e7a38\", \"baln\": \"cxe18cd2527e406cc6d79f4f40ff258ea0eb236219\", \"bwt\": \"cxbea02ccf3110273b4538af61e697eb6ff4eea156\"}[score]\n",
    "contracts"
   ]
  },
  {
   "cell_type": "markdown",
   "metadata": {},
   "source": [
    "## Deploy All SCOREs"
   ]
  },
  {
   "cell_type": "code",
   "execution_count": 104,
   "metadata": {},
   "outputs": [],
   "source": [
    "# Cell 6\n",
    "# Define deploy and send_tx functions\n",
    "\n",
    "def send_icx(to, amount, wallet):\n",
    "    transaction = TransactionBuilder()\\\n",
    "        .from_(wallet.get_address())\\\n",
    "        .to(to)\\\n",
    "        .value(amount)\\\n",
    "        .step_limit(1000000) \\\n",
    "        .nid(NID) \\\n",
    "        .nonce(2) \\\n",
    "        .version(3) \\\n",
    "        .build()\n",
    "    signed_transaction = SignedTransaction(transaction, wallet)\n",
    "    return icon_service.send_transaction(signed_transaction)\n",
    "\n",
    "\n",
    "def compress():\n",
    "    \"\"\"\n",
    "    Compress all SCORE folders in the core_contracts and token_contracts folders.\n",
    "    Make sure the oracle address is correct.\n",
    "    \"\"\"\n",
    "    deploy = list(contracts.keys())[:]\n",
    "    for directory in {\"core_contracts\", \"token_contracts\"}:\n",
    "        with os.scandir(directory) as it:\n",
    "            for file in it:\n",
    "                archive_name = directory + \"/\" + file.name\n",
    "                if file.is_dir() and file.name in deploy:\n",
    "                    make_archive(archive_name, \"zip\", directory, file.name)\n",
    "                    contracts[file.name]['zip'] = archive_name + '.zip'\n",
    "    if network == \"yeouido\":\n",
    "        contracts['oracle']['SCORE'] = TEST_ORACLE\n",
    "    elif network == \"mainnet\":\n",
    "        contracts['oracle']['SCORE'] = MAIN_ORACLE\n",
    "                    \n",
    "\n",
    "def deploy_SCORE(contract, params, wallet, update) -> str:\n",
    "    \"\"\"\n",
    "    contract is of form {'zip': 'core_contracts/governance.zip', 'SCORE': 'cx1d81f93b3b8d8d2a6455681c46128868782ddd09'}\n",
    "    params is a dicts\n",
    "    wallet is a wallet file\n",
    "    update is boolian\n",
    "    \"\"\"\n",
    "    print(f'{contract[\"zip\"]}')\n",
    "    if update:\n",
    "        dest = contract['SCORE']\n",
    "    else:\n",
    "        dest = GOVERNANCE_ADDRESS\n",
    "    zip_file = contract['zip']\n",
    "    step_limit = 3000000000\n",
    "    deploy_transaction = DeployTransactionBuilder()\\\n",
    "        .from_(wallet.get_address())\\\n",
    "        .to(dest)\\\n",
    "        .nid(NID)\\\n",
    "        .nonce(100)\\\n",
    "        .content_type(\"application/zip\")\\\n",
    "        .content(gen_deploy_data_content(zip_file))\\\n",
    "        .params(params)\\\n",
    "        .build()\n",
    "\n",
    "    signed_transaction = SignedTransaction(deploy_transaction, wallet, step_limit)\n",
    "    tx_hash = icon_service.send_transaction(signed_transaction)\n",
    "\n",
    "    res = get_tx_result(tx_hash)\n",
    "    print(f'Status: {res[\"status\"]}')\n",
    "    if len(res[\"eventLogs\"]) > 0:\n",
    "        for item in res[\"eventLogs\"]:\n",
    "            print(f'{item} \\n')\n",
    "    if res['status'] == 0:\n",
    "        print(f'Failure: {res[\"failure\"]}')\n",
    "    print('')\n",
    "    return res\n",
    "\n",
    "def send_tx(dest, value, method, params, wallet, _print = True):\n",
    "    \"\"\"\n",
    "    dest is the name of the destination contract.\n",
    "    \"\"\"\n",
    "    if _print:\n",
    "        print('------------------------------------------------------------------------------------------------------------------')\n",
    "        print(f'Calling {method}, with parameters {params} on the {dest} contract.')\n",
    "        print('------------------------------------------------------------------------------------------------------------------')\n",
    "    transaction = CallTransactionBuilder()\\\n",
    "        .from_(wallet.get_address())\\\n",
    "        .to(contracts[dest]['SCORE'])\\\n",
    "        .value(value)\\\n",
    "        .step_limit(10000000)\\\n",
    "        .nid(NID)\\\n",
    "        .nonce(100)\\\n",
    "        .method(method)\\\n",
    "        .params(params)\\\n",
    "        .build()\n",
    "    signed_transaction = SignedTransaction(transaction, wallet)\n",
    "    tx_hash = icon_service.send_transaction(signed_transaction)\n",
    "\n",
    "    res = get_tx_result(tx_hash)\n",
    "    if _print:\n",
    "        print(f'************************************************** Status: {res[\"status\"]} **************************************************')\n",
    "    if len(res[\"eventLogs\"]) > 0:\n",
    "        for item in res[\"eventLogs\"]:\n",
    "            print(f'{item} \\n')\n",
    "    if res['status'] == 0:\n",
    "        if _print:\n",
    "            print(f'Failure: {res[\"failure\"]}')\n",
    "    return res\n",
    "\n",
    "def fast_send_tx(dest, value, method, params, wallet, _print = True):\n",
    "    \"\"\"\n",
    "    dest is the name of the destination contract.\n",
    "    \"\"\"\n",
    "    if _print:\n",
    "        print('------------------------------------------------------------------------------------------------------------------')\n",
    "        print(f'Calling {method}, with parameters {params} on the {dest} contract.')\n",
    "        print('------------------------------------------------------------------------------------------------------------------')\n",
    "    transaction = CallTransactionBuilder()\\\n",
    "        .from_(wallet.get_address())\\\n",
    "        .to(contracts[dest]['SCORE'])\\\n",
    "        .value(value)\\\n",
    "        .step_limit(10000000)\\\n",
    "        .nid(NID)\\\n",
    "        .nonce(100)\\\n",
    "        .method(method)\\\n",
    "        .params(params)\\\n",
    "        .build()\n",
    "    signed_transaction = SignedTransaction(transaction, wallet)\n",
    "    tx_hash = icon_service.send_transaction(signed_transaction)\n",
    "\n",
    "def deploy_all(wallet, staking_wallet, deploy_dummy_oracle = False):\n",
    "    \"\"\"\n",
    "    Compress and Deploy all SCOREs.\n",
    "    \"\"\"\n",
    "    compress()\n",
    "\n",
    "    deploy = list(contracts.keys())[:]\n",
    "\n",
    "    if deploy_dummy_oracle and network == \"mainnet\":\n",
    "        raise Exception(\"Cannot deploy dummy oracle on mainnet\")\n",
    "\n",
    "    deploy.remove('oracle')\n",
    "    deploy.remove('staking')\n",
    "    deploy.remove('sicx')\n",
    "    deploy.remove('governance')\n",
    "    \n",
    "    if network == \"mainnet\":\n",
    "        if 'bnXLM' in deploy:\n",
    "            deploy.remove('bnXLM')\n",
    "        if 'bnDOGE' in deploy:\n",
    "            deploy.remove('bnDOGE')\n",
    "\n",
    "    results = {}\n",
    "    res = deploy_SCORE(contracts['governance'], {}, wallet, 0)\n",
    "    results[f'{contracts[\"governance\"]}|deploy|{{}}'] = res\n",
    "    governance = res.get('scoreAddress', '')\n",
    "    contracts['governance']['SCORE'] = governance\n",
    "    params = {'_governance': governance}\n",
    "    \n",
    "    if deploy_dummy_oracle:\n",
    "        res = deploy_SCORE(contracts['oracle'], {}, wallet, 0)\n",
    "        results[f'{contracts[\"oracle\"]}|deploy|{{}}'] = res\n",
    "        oracle = res.get('scoreAddress', '')\n",
    "        contracts['oracle']['SCORE'] = oracle\n",
    "    \n",
    "    for score in deploy:\n",
    "        res = deploy_SCORE(contracts[score], params, wallet, 0)\n",
    "        results[f'{contracts[score]}|deploy|{params}'] = res\n",
    "        contracts[score]['SCORE'] = res.get('scoreAddress', '')\n",
    "\n",
    "    res = deploy_SCORE(contracts['staking'], {}, staking_wallet, 0)\n",
    "    results[f'{contracts[\"staking\"]}|deploy|{{}}'] = res\n",
    "    contracts['staking']['SCORE'] = res.get('scoreAddress', '')\n",
    "\n",
    "    params = {'_admin': contracts['staking']['SCORE']}\n",
    "    res = deploy_SCORE(contracts['sicx'], params, staking_wallet, 0)\n",
    "    results[f'{contracts[\"sicx\"]}|deploy|{params}'] = res\n",
    "    contracts['sicx']['SCORE'] = res.get('scoreAddress', '')\n",
    "    \n",
    "    return results\n",
    "\n",
    "    \n",
    "def config_balanced(wallet, staking_wallet):\n",
    "    \"\"\"\n",
    "    Configure all SCOREs before launch.\n",
    "    \"\"\"\n",
    "    config = list(contracts.keys())[:]\n",
    "    print(config)\n",
    "    config.remove('governance')\n",
    "    config.remove('bnDOGE')\n",
    "    config.remove('bnXLM')\n",
    "    addresses = {contract: contracts[contract]['SCORE'] for contract in config}\n",
    "    txns = [{'contract': 'governance', 'value': 0, 'method': 'setAddresses', 'params': {'_addresses': addresses}, 'wallet': wallet},\n",
    "            {'contract': 'staking', 'value': 0, 'method': 'setSicxAddress', 'params': {'_address': contracts['sicx']['SCORE']}, 'wallet': staking_wallet},\n",
    "            {'contract': 'governance', 'value': 0, 'method': 'configureBalanced', 'params': {}, 'wallet': wallet}]\n",
    "\n",
    "    results = {}\n",
    "    for tx in txns:\n",
    "        res = send_tx(tx[\"contract\"], tx[\"value\"], tx[\"method\"], tx[\"params\"], tx[\"wallet\"])\n",
    "        results[f'{tx[\"contract\"]}|{tx[\"method\"]}|{tx[\"params\"]}'] = res\n",
    "\n",
    "    return results\n",
    "\n",
    "def launch_balanced(wallet, staking_wallet):\n",
    "    \"\"\"\n",
    "    Launch Balanced, turn on staking management, and set delegation for sICX on the Loans contract.\n",
    "    \"\"\"\n",
    "    if network == \"custom\":\n",
    "        preps = {\n",
    "            \"hx9eec61296a7010c867ce24c20e69588e2832bc52\",  # ICX Station\n",
    "            \"hx000e0415037ae871184b2c7154e5924ef2bc075e\"}  # iBriz-ICONOsphere\n",
    "    elif network == \"yeouido\":\n",
    "        preps = {\n",
    "            \"hx23823847f593ecb65c9e1ea81a789b02766280e8\",  # ICX Station\n",
    "            \"hxe0cde6567eb6529fe31b0dc2f2697af84847f321\",  # iBriz-ICONOsphere\n",
    "            \"hx83c0fc2bcac7ecb3928539e0256e29fc371b5078\",  # Mousebelt\n",
    "            \"hx48b4636e84d8c491c88c18b65dceb7598c4600cc\",  # Parrot 9\n",
    "            \"hxb4e90a285a79687ec148c29faabe6f71afa8a066\"}  # ICONDAO\n",
    "    elif network == \"mainnet\":\n",
    "        preps = {\n",
    "            \"hxfba37e91ccc13ec1dab115811f73e429cde44d48\",  # ICX Station\n",
    "            \"hx231a795d1c719b9edf35c46b9daa4e0b5a1e83aa\",  # iBriz-ICONOsphere\n",
    "            \"hxbc9c73670c79e8f6f8060551a792c2cf29a8c491\",  # Mousebelt\n",
    "            \"hx28c08b299995a88756af64374e13db2240bc3142\"}  # Parrot 9\n",
    "    else:\n",
    "        return\n",
    "\n",
    "    txns = [{'contract': 'governance', 'value': 0, 'method': 'launchBalanced', 'params': {}, 'wallet': wallet},\n",
    "            {'contract': 'staking', 'value': 0, 'method': 'toggleStakingOn', 'params': {}, 'wallet': staking_wallet},\n",
    "            {'contract': 'governance', 'value': 0, 'method': 'delegate',\n",
    "             'params': {'_delegations': [{'_address': prep, '_votes_in_per': 100 * ICX // len(preps)} for prep in preps]}, 'wallet': wallet}]\n",
    "\n",
    "    results = {}\n",
    "    for tx in txns:\n",
    "        res = send_tx(tx[\"contract\"], tx[\"value\"], tx[\"method\"], tx[\"params\"], tx[\"wallet\"])\n",
    "        results[f'{tx[\"contract\"]}|{tx[\"method\"]}|{tx[\"params\"]}'] = res\n",
    "\n",
    "    return results\n",
    "\n",
    "\n",
    "def get_scores_json(contracts):\n",
    "    \"\"\"\n",
    "    Prints out dictionary of SCORE addresses for use in testing UI.\n",
    "    \"\"\"\n",
    "    scores = {}\n",
    "    for score in contracts:\n",
    "        scores[score] = contracts[score]['SCORE']\n",
    "    return json.dumps(scores)\n",
    "\n",
    "def call_tx(dest: str, method: str, params: dict = {}, _print = True):\n",
    "    \"\"\"\n",
    "    dest is the name of the destination contract.\n",
    "    \"\"\"\n",
    "    if _print:\n",
    "        print('------------------------------------------------------------------------------------------------------------------')\n",
    "        print(f'Reading {method}, with parameters {params} on the {dest} contract.')\n",
    "        print('------------------------------------------------------------------------------------------------------------------')\n",
    "    call = CallBuilder()\\\n",
    "        .from_(wallet.get_address())\\\n",
    "        .to(contracts[dest]['SCORE'])\\\n",
    "        .method(method)\\\n",
    "        .params(params)\\\n",
    "        .build()\n",
    "    result = icon_service.call(call)\n",
    "    if _print:\n",
    "        print(result)\n",
    "    return result\n"
   ]
  },
  {
   "cell_type": "code",
   "execution_count": 105,
   "metadata": {
    "scrolled": true
   },
   "outputs": [
    {
     "name": "stdout",
     "output_type": "stream",
     "text": [
      "core_contracts/governance.zip\n",
      "Retrying in 1 seconds...\n",
      "Retrying in 2 seconds...\n",
      "Status: 1\n",
      "\n",
      "core_contracts/oracle.zip\n",
      "Retrying in 1 seconds...\n",
      "Status: 1\n",
      "\n",
      "core_contracts/loans.zip\n",
      "Retrying in 1 seconds...\n",
      "Retrying in 2 seconds...\n",
      "Status: 1\n",
      "\n",
      "core_contracts/router.zip\n",
      "Retrying in 1 seconds...\n",
      "Status: 1\n",
      "\n",
      "core_contracts/dividends.zip\n",
      "Retrying in 1 seconds...\n",
      "Retrying in 2 seconds...\n",
      "Status: 1\n",
      "\n",
      "core_contracts/reserve.zip\n",
      "Retrying in 1 seconds...\n",
      "Status: 1\n",
      "\n",
      "core_contracts/daofund.zip\n",
      "Retrying in 1 seconds...\n",
      "Retrying in 2 seconds...\n",
      "Status: 1\n",
      "\n",
      "core_contracts/rewards.zip\n",
      "Retrying in 1 seconds...\n",
      "Retrying in 2 seconds...\n",
      "Status: 1\n",
      "\n",
      "core_contracts/dex.zip\n",
      "Retrying in 1 seconds...\n",
      "Status: 1\n",
      "\n",
      "token_contracts/bnUSD.zip\n",
      "Retrying in 1 seconds...\n",
      "Retrying in 2 seconds...\n",
      "Status: 1\n",
      "\n",
      "token_contracts/bnXLM.zip\n",
      "Retrying in 1 seconds...\n",
      "Status: 1\n",
      "\n",
      "token_contracts/bnDOGE.zip\n",
      "Retrying in 1 seconds...\n",
      "Retrying in 2 seconds...\n",
      "Status: 1\n",
      "\n",
      "token_contracts/baln.zip\n",
      "Retrying in 1 seconds...\n",
      "Status: 1\n",
      "\n",
      "token_contracts/bwt.zip\n",
      "Retrying in 1 seconds...\n",
      "Retrying in 2 seconds...\n",
      "Status: 1\n",
      "\n",
      "core_contracts/rebalancing.zip\n",
      "Retrying in 1 seconds...\n",
      "Status: 1\n",
      "\n",
      "core_contracts/staking.zip\n",
      "Retrying in 1 seconds...\n",
      "Retrying in 2 seconds...\n",
      "Status: 1\n",
      "\n",
      "token_contracts/sicx.zip\n",
      "Retrying in 1 seconds...\n",
      "Status: 1\n",
      "\n",
      "------------------------------------------------------------------------------------------------------------------\n",
      "{'loans': {'zip': 'core_contracts/loans.zip', 'SCORE': 'cx0b13453906786489c7989d464f33ed6dc33256bc'}, 'staking': {'zip': 'core_contracts/staking.zip', 'SCORE': 'cx2d9ec07136fe5d1a7173e55b0773b41d878db911'}, 'router': {'zip': 'core_contracts/router.zip', 'SCORE': 'cx738ad566f1bce722a0919158a64645e3e5627cb7'}, 'dividends': {'zip': 'core_contracts/dividends.zip', 'SCORE': 'cx34a2127f054d26b3b3b128e6243776c67b0ee9ba'}, 'reserve': {'zip': 'core_contracts/reserve.zip', 'SCORE': 'cx84a485d66094f0edb59f2cb8177c2319b212bb54'}, 'daofund': {'zip': 'core_contracts/daofund.zip', 'SCORE': 'cx71f07ad9097b5ad99949a093eaeacd25682f0b66'}, 'rewards': {'zip': 'core_contracts/rewards.zip', 'SCORE': 'cxc234187b47c16f9f3077a5f4dcc8856ee9124dcf'}, 'dex': {'zip': 'core_contracts/dex.zip', 'SCORE': 'cx337517d2459fd0abf52e4662bcfb0d872214171b'}, 'governance': {'zip': 'core_contracts/governance.zip', 'SCORE': 'cx573af41a2a83917ed96db12c01bf9cb2bba4859d'}, 'oracle': {'zip': 'core_contracts/oracle.zip', 'SCORE': 'cxebb9a5e5abfacccd978c19e38e5dae6da7c6f5cb'}, 'sicx': {'zip': 'token_contracts/sicx.zip', 'SCORE': 'cx13d86dfb8b5e6db344a82f823a1259de8d6387a9'}, 'bnUSD': {'zip': 'token_contracts/bnUSD.zip', 'SCORE': 'cx773b203256491228aa05aff96fd9357e388f59ef'}, 'bnXLM': {'zip': 'token_contracts/bnXLM.zip', 'SCORE': 'cx0fabc75b208fcb738fd1f3061978d2781bf25153'}, 'bnDOGE': {'zip': 'token_contracts/bnDOGE.zip', 'SCORE': 'cx8e57b1bf4c7c211e9f01e68591f3083728200087'}, 'baln': {'zip': 'token_contracts/baln.zip', 'SCORE': 'cx459a405a8a5450033b5ba77fce337b9d7a77c2d1'}, 'bwt': {'zip': 'token_contracts/bwt.zip', 'SCORE': 'cx66b892e2f5e5120601c017207705916cf3a96ef4'}, 'rebalancing': {'zip': 'core_contracts/rebalancing.zip', 'SCORE': 'cxf7403ab96d90675a13b2d28c20f021dcc8be6893'}}\n",
      "----------Contracts for Testing UI--------------------------------------------------------------------------------\n",
      "{\"loans\": \"cx0b13453906786489c7989d464f33ed6dc33256bc\", \"staking\": \"cx2d9ec07136fe5d1a7173e55b0773b41d878db911\", \"router\": \"cx738ad566f1bce722a0919158a64645e3e5627cb7\", \"dividends\": \"cx34a2127f054d26b3b3b128e6243776c67b0ee9ba\", \"reserve\": \"cx84a485d66094f0edb59f2cb8177c2319b212bb54\", \"daofund\": \"cx71f07ad9097b5ad99949a093eaeacd25682f0b66\", \"rewards\": \"cxc234187b47c16f9f3077a5f4dcc8856ee9124dcf\", \"dex\": \"cx337517d2459fd0abf52e4662bcfb0d872214171b\", \"governance\": \"cx573af41a2a83917ed96db12c01bf9cb2bba4859d\", \"oracle\": \"cxebb9a5e5abfacccd978c19e38e5dae6da7c6f5cb\", \"sicx\": \"cx13d86dfb8b5e6db344a82f823a1259de8d6387a9\", \"bnUSD\": \"cx773b203256491228aa05aff96fd9357e388f59ef\", \"bnXLM\": \"cx0fabc75b208fcb738fd1f3061978d2781bf25153\", \"bnDOGE\": \"cx8e57b1bf4c7c211e9f01e68591f3083728200087\", \"baln\": \"cx459a405a8a5450033b5ba77fce337b9d7a77c2d1\", \"bwt\": \"cx66b892e2f5e5120601c017207705916cf3a96ef4\", \"rebalancing\": \"cxf7403ab96d90675a13b2d28c20f021dcc8be6893\"}\n"
     ]
    }
   ],
   "source": [
    "# Cell 7\n",
    "# Deploy and configure Balanced. Print results if anything goes wrong.\n",
    "\n",
    "if network == 'custom':\n",
    "    confirm = 'Yes'\n",
    "else:\n",
    "    confirm = input(f'Deploying Balanced to {network}. Proceed (Yes/No)? ')\n",
    "if confirm == 'Yes':\n",
    "    results = {}\n",
    "    deploy_all(btest_wallet, staking_wallet, True)\n",
    "    print('------------------------------------------------------------------------------------------------------------------')\n",
    "    print(contracts)\n",
    "    print('----------Contracts for Testing UI--------------------------------------------------------------------------------')\n",
    "    print(get_scores_json(contracts))"
   ]
  },
  {
   "cell_type": "code",
   "execution_count": 86,
   "metadata": {},
   "outputs": [
    {
     "name": "stdout",
     "output_type": "stream",
     "text": [
      "------------------------------------------------------------------------------------------------------------------\n",
      "Calling setAddresses, with parameters {'_addresses': {'loans': 'cx66d4d90f5f113eba575bf793570135f9b10cece1', 'staking': 'cx43e2eec79eb76293c298f2b17aec06097be606e0', 'dividends': 'cx203d9cd2a669be67177e997b8948ce2c35caffae', 'reserve': 'cxf58b9a1898998a31be7f1d99276204a3333ac9b3', 'daofund': 'cx835b300dcfe01f0bdb794e134a0c5628384f4367', 'rewards': 'cx10d59e8103ab44635190bd4139dbfd682fa2d07e', 'dex': 'cxa0af3165c08318e988cb30993b3048335b94af6c', 'oracle': 'cxe647e0af68a4661566f5e9861ad4ac854de808a2', 'sicx': 'cx2609b924e33ef00b648a409245c7ea394c467824', 'bnUSD': 'cx88fd7df7ddff82f7cc735c871dc519838cb235bb', 'baln': 'cxf61cd5a45dc9f91c15aa65831a30a90d59a09619', 'bwt': 'cxcfe9d1f83fa871e903008471cca786662437e58d'}} on the governance contract.\n",
      "------------------------------------------------------------------------------------------------------------------\n",
      "Retrying in 1 seconds...\n",
      "Retrying in 2 seconds...\n",
      "************************************************** Status: 0 **************************************************\n",
      "Failure: {'code': 6, 'message': 'Missing field in struct'}\n",
      "------------------------------------------------------------------------------------------------------------------\n",
      "Calling setAdmins, with parameters {} on the governance contract.\n",
      "------------------------------------------------------------------------------------------------------------------\n",
      "Retrying in 1 seconds...\n",
      "************************************************** Status: 0 **************************************************\n",
      "Failure: {'code': 5, 'message': 'Cannot create an interface SCORE with a None address'}\n",
      "------------------------------------------------------------------------------------------------------------------\n",
      "Calling setContractAddresses, with parameters {} on the governance contract.\n",
      "------------------------------------------------------------------------------------------------------------------\n",
      "Retrying in 1 seconds...\n",
      "Retrying in 2 seconds...\n"
     ]
    },
    {
     "ename": "KeyboardInterrupt",
     "evalue": "",
     "output_type": "error",
     "traceback": [
      "\u001b[0;31m---------------------------------------------------------------------------\u001b[0m",
      "\u001b[0;31mJSONRPCException\u001b[0m                          Traceback (most recent call last)",
      "\u001b[0;32m~/balancednetwork/balanced-contracts/repeater.py\u001b[0m in \u001b[0;36mf_retry\u001b[0;34m(*args, **kwargs)\u001b[0m\n\u001b[1;32m     53\u001b[0m                 \u001b[0;32mtry\u001b[0m\u001b[0;34m:\u001b[0m\u001b[0;34m\u001b[0m\u001b[0;34m\u001b[0m\u001b[0m\n\u001b[0;32m---> 54\u001b[0;31m                     \u001b[0;32mreturn\u001b[0m \u001b[0mf\u001b[0m\u001b[0;34m(\u001b[0m\u001b[0;34m*\u001b[0m\u001b[0margs\u001b[0m\u001b[0;34m,\u001b[0m \u001b[0;34m**\u001b[0m\u001b[0mkwargs\u001b[0m\u001b[0;34m)\u001b[0m\u001b[0;34m\u001b[0m\u001b[0;34m\u001b[0m\u001b[0m\n\u001b[0m\u001b[1;32m     55\u001b[0m                 \u001b[0;32mexcept\u001b[0m \u001b[0mexception_to_check\u001b[0m \u001b[0;32mas\u001b[0m \u001b[0me\u001b[0m\u001b[0;34m:\u001b[0m\u001b[0;34m\u001b[0m\u001b[0;34m\u001b[0m\u001b[0m\n",
      "\u001b[0;32m<ipython-input-2-10b2d891bf5a>\u001b[0m in \u001b[0;36mget_tx_result\u001b[0;34m(_tx_hash)\u001b[0m\n\u001b[1;32m     27\u001b[0m \u001b[0;32mdef\u001b[0m \u001b[0mget_tx_result\u001b[0m\u001b[0;34m(\u001b[0m\u001b[0m_tx_hash\u001b[0m\u001b[0;34m)\u001b[0m\u001b[0;34m:\u001b[0m\u001b[0;34m\u001b[0m\u001b[0;34m\u001b[0m\u001b[0m\n\u001b[0;32m---> 28\u001b[0;31m     \u001b[0mtx_result\u001b[0m \u001b[0;34m=\u001b[0m \u001b[0micon_service\u001b[0m\u001b[0;34m.\u001b[0m\u001b[0mget_transaction_result\u001b[0m\u001b[0;34m(\u001b[0m\u001b[0m_tx_hash\u001b[0m\u001b[0;34m)\u001b[0m\u001b[0;34m\u001b[0m\u001b[0;34m\u001b[0m\u001b[0m\n\u001b[0m\u001b[1;32m     29\u001b[0m     \u001b[0;32mreturn\u001b[0m \u001b[0mtx_result\u001b[0m\u001b[0;34m\u001b[0m\u001b[0;34m\u001b[0m\u001b[0m\n",
      "\u001b[0;32m~/virtualenvs/dev/lib/python3.8/site-packages/iconsdk/icon_service.py\u001b[0m in \u001b[0;36mget_transaction_result\u001b[0;34m(self, tx_hash, full_response)\u001b[0m\n\u001b[1;32m    183\u001b[0m         \u001b[0mparams\u001b[0m \u001b[0;34m=\u001b[0m \u001b[0;34m{\u001b[0m\u001b[0;34m'txHash'\u001b[0m\u001b[0;34m:\u001b[0m \u001b[0mtx_hash\u001b[0m\u001b[0;34m}\u001b[0m\u001b[0;34m\u001b[0m\u001b[0;34m\u001b[0m\u001b[0m\n\u001b[0;32m--> 184\u001b[0;31m         \u001b[0mresult\u001b[0m \u001b[0;34m=\u001b[0m \u001b[0mself\u001b[0m\u001b[0;34m.\u001b[0m\u001b[0m__provider\u001b[0m\u001b[0;34m.\u001b[0m\u001b[0mmake_request\u001b[0m\u001b[0;34m(\u001b[0m\u001b[0;34m'icx_getTransactionResult'\u001b[0m\u001b[0;34m,\u001b[0m \u001b[0mparams\u001b[0m\u001b[0;34m,\u001b[0m \u001b[0mfull_response\u001b[0m\u001b[0;34m)\u001b[0m\u001b[0;34m\u001b[0m\u001b[0;34m\u001b[0m\u001b[0m\n\u001b[0m\u001b[1;32m    185\u001b[0m \u001b[0;34m\u001b[0m\u001b[0m\n",
      "\u001b[0;32m~/virtualenvs/dev/lib/python3.8/site-packages/iconsdk/providers/http_provider.py\u001b[0m in \u001b[0;36mmake_request\u001b[0;34m(self, method, params, full_response)\u001b[0m\n\u001b[1;32m    117\u001b[0m             \u001b[0;32mtry\u001b[0m\u001b[0;34m:\u001b[0m\u001b[0;34m\u001b[0m\u001b[0;34m\u001b[0m\u001b[0m\n\u001b[0;32m--> 118\u001b[0;31m                 \u001b[0;32mreturn\u001b[0m \u001b[0mself\u001b[0m\u001b[0;34m.\u001b[0m\u001b[0m_return_custom_response\u001b[0m\u001b[0;34m(\u001b[0m\u001b[0mresponse\u001b[0m\u001b[0;34m,\u001b[0m \u001b[0mfull_response\u001b[0m\u001b[0;34m)\u001b[0m\u001b[0;34m\u001b[0m\u001b[0;34m\u001b[0m\u001b[0m\n\u001b[0m\u001b[1;32m    119\u001b[0m             \u001b[0;32mexcept\u001b[0m \u001b[0mJSONDecodeError\u001b[0m\u001b[0;34m:\u001b[0m\u001b[0;34m\u001b[0m\u001b[0;34m\u001b[0m\u001b[0m\n",
      "\u001b[0;32m~/virtualenvs/dev/lib/python3.8/site-packages/iconsdk/providers/http_provider.py\u001b[0m in \u001b[0;36m_return_custom_response\u001b[0;34m(response, full_response)\u001b[0m\n\u001b[1;32m    135\u001b[0m             \u001b[0;32mreturn\u001b[0m \u001b[0mcontent\u001b[0m\u001b[0;34m[\u001b[0m\u001b[0;34m'result'\u001b[0m\u001b[0;34m]\u001b[0m\u001b[0;34m\u001b[0m\u001b[0;34m\u001b[0m\u001b[0m\n\u001b[0;32m--> 136\u001b[0;31m         \u001b[0;32mraise\u001b[0m \u001b[0mJSONRPCException\u001b[0m\u001b[0;34m(\u001b[0m\u001b[0mcontent\u001b[0m\u001b[0;34m[\u001b[0m\u001b[0;34m\"error\"\u001b[0m\u001b[0;34m]\u001b[0m\u001b[0;34m)\u001b[0m\u001b[0;34m\u001b[0m\u001b[0;34m\u001b[0m\u001b[0m\n\u001b[0m",
      "\u001b[0;31mJSONRPCException\u001b[0m: {'code': -32602, 'message': 'Pending transaction'}",
      "\nDuring handling of the above exception, another exception occurred:\n",
      "\u001b[0;31mKeyboardInterrupt\u001b[0m                         Traceback (most recent call last)",
      "\u001b[0;32m<ipython-input-86-fc859bb190f9>\u001b[0m in \u001b[0;36m<module>\u001b[0;34m\u001b[0m\n\u001b[1;32m     17\u001b[0m \u001b[0msend_tx\u001b[0m\u001b[0;34m(\u001b[0m\u001b[0;34m'governance'\u001b[0m\u001b[0;34m,\u001b[0m \u001b[0;36m0\u001b[0m\u001b[0;34m,\u001b[0m \u001b[0;34m'setAddresses'\u001b[0m\u001b[0;34m,\u001b[0m \u001b[0;34m{\u001b[0m\u001b[0;34m'_addresses'\u001b[0m\u001b[0;34m:\u001b[0m \u001b[0maddresses\u001b[0m\u001b[0;34m}\u001b[0m\u001b[0;34m,\u001b[0m \u001b[0mbtest_wallet\u001b[0m\u001b[0;34m)\u001b[0m\u001b[0;34m\u001b[0m\u001b[0;34m\u001b[0m\u001b[0m\n\u001b[1;32m     18\u001b[0m \u001b[0msend_tx\u001b[0m\u001b[0;34m(\u001b[0m\u001b[0;34m'governance'\u001b[0m\u001b[0;34m,\u001b[0m \u001b[0;36m0\u001b[0m\u001b[0;34m,\u001b[0m \u001b[0;34m'setAdmins'\u001b[0m\u001b[0;34m,\u001b[0m \u001b[0;34m{\u001b[0m\u001b[0;34m}\u001b[0m\u001b[0;34m,\u001b[0m \u001b[0mbtest_wallet\u001b[0m\u001b[0;34m)\u001b[0m\u001b[0;34m\u001b[0m\u001b[0;34m\u001b[0m\u001b[0m\n\u001b[0;32m---> 19\u001b[0;31m \u001b[0msend_tx\u001b[0m\u001b[0;34m(\u001b[0m\u001b[0;34m'governance'\u001b[0m\u001b[0;34m,\u001b[0m \u001b[0;36m0\u001b[0m\u001b[0;34m,\u001b[0m \u001b[0;34m'setContractAddresses'\u001b[0m\u001b[0;34m,\u001b[0m \u001b[0;34m{\u001b[0m\u001b[0;34m}\u001b[0m\u001b[0;34m,\u001b[0m \u001b[0mbtest_wallet\u001b[0m\u001b[0;34m)\u001b[0m\u001b[0;34m\u001b[0m\u001b[0;34m\u001b[0m\u001b[0m\n\u001b[0m",
      "\u001b[0;32m<ipython-input-84-095a72436dde>\u001b[0m in \u001b[0;36msend_tx\u001b[0;34m(dest, value, method, params, wallet, _print)\u001b[0m\n\u001b[1;32m     93\u001b[0m     \u001b[0mtx_hash\u001b[0m \u001b[0;34m=\u001b[0m \u001b[0micon_service\u001b[0m\u001b[0;34m.\u001b[0m\u001b[0msend_transaction\u001b[0m\u001b[0;34m(\u001b[0m\u001b[0msigned_transaction\u001b[0m\u001b[0;34m)\u001b[0m\u001b[0;34m\u001b[0m\u001b[0;34m\u001b[0m\u001b[0m\n\u001b[1;32m     94\u001b[0m \u001b[0;34m\u001b[0m\u001b[0m\n\u001b[0;32m---> 95\u001b[0;31m     \u001b[0mres\u001b[0m \u001b[0;34m=\u001b[0m \u001b[0mget_tx_result\u001b[0m\u001b[0;34m(\u001b[0m\u001b[0mtx_hash\u001b[0m\u001b[0;34m)\u001b[0m\u001b[0;34m\u001b[0m\u001b[0;34m\u001b[0m\u001b[0m\n\u001b[0m\u001b[1;32m     96\u001b[0m     \u001b[0;32mif\u001b[0m \u001b[0m_print\u001b[0m\u001b[0;34m:\u001b[0m\u001b[0;34m\u001b[0m\u001b[0;34m\u001b[0m\u001b[0m\n\u001b[1;32m     97\u001b[0m         \u001b[0mprint\u001b[0m\u001b[0;34m(\u001b[0m\u001b[0;34mf'************************************************** Status: {res[\"status\"]} **************************************************'\u001b[0m\u001b[0;34m)\u001b[0m\u001b[0;34m\u001b[0m\u001b[0;34m\u001b[0m\u001b[0m\n",
      "\u001b[0;32m~/balancednetwork/balanced-contracts/repeater.py\u001b[0m in \u001b[0;36mf_retry\u001b[0;34m(*args, **kwargs)\u001b[0m\n\u001b[1;32m     59\u001b[0m                     \u001b[0;32melse\u001b[0m\u001b[0;34m:\u001b[0m\u001b[0;34m\u001b[0m\u001b[0;34m\u001b[0m\u001b[0m\n\u001b[1;32m     60\u001b[0m                         \u001b[0mprint\u001b[0m\u001b[0;34m(\u001b[0m\u001b[0mmsg\u001b[0m\u001b[0;34m)\u001b[0m\u001b[0;34m\u001b[0m\u001b[0;34m\u001b[0m\u001b[0m\n\u001b[0;32m---> 61\u001b[0;31m                     \u001b[0msleep\u001b[0m\u001b[0;34m(\u001b[0m\u001b[0mmdelay\u001b[0m\u001b[0;34m)\u001b[0m\u001b[0;34m\u001b[0m\u001b[0;34m\u001b[0m\u001b[0m\n\u001b[0m\u001b[1;32m     62\u001b[0m                     \u001b[0mmtries\u001b[0m \u001b[0;34m-=\u001b[0m \u001b[0;36m1\u001b[0m\u001b[0;34m\u001b[0m\u001b[0;34m\u001b[0m\u001b[0m\n\u001b[1;32m     63\u001b[0m                     \u001b[0mmdelay\u001b[0m \u001b[0;34m*=\u001b[0m \u001b[0mback_off\u001b[0m\u001b[0;34m\u001b[0m\u001b[0;34m\u001b[0m\u001b[0m\n",
      "\u001b[0;31mKeyboardInterrupt\u001b[0m: "
     ]
    }
   ],
   "source": [
    "# Cell 7d\n",
    "# Reset all addresses through governance.\n",
    "\n",
    "addresses = {\"loans\": \"cx66d4d90f5f113eba575bf793570135f9b10cece1\",\n",
    "             \"staking\": \"cx43e2eec79eb76293c298f2b17aec06097be606e0\",\n",
    "             \"dividends\": \"cx203d9cd2a669be67177e997b8948ce2c35caffae\",\n",
    "             \"reserve\": \"cxf58b9a1898998a31be7f1d99276204a3333ac9b3\",\n",
    "             \"daofund\": \"cx835b300dcfe01f0bdb794e134a0c5628384f4367\",\n",
    "             \"rewards\": \"cx10d59e8103ab44635190bd4139dbfd682fa2d07e\",\n",
    "             \"dex\": \"cxa0af3165c08318e988cb30993b3048335b94af6c\",\n",
    "             \"oracle\": \"cxe647e0af68a4661566f5e9861ad4ac854de808a2\",\n",
    "             \"sicx\": \"cx2609b924e33ef00b648a409245c7ea394c467824\",\n",
    "             \"bnUSD\": \"cx88fd7df7ddff82f7cc735c871dc519838cb235bb\",\n",
    "             \"baln\": \"cxf61cd5a45dc9f91c15aa65831a30a90d59a09619\",\n",
    "             \"bwt\": \"cxcfe9d1f83fa871e903008471cca786662437e58d\"}\n",
    "\n",
    "send_tx('governance', 0, 'setAddresses', {'_addresses': addresses}, btest_wallet)\n",
    "send_tx('governance', 0, 'setAdmins', {}, btest_wallet)\n",
    "send_tx('governance', 0, 'setContractAddresses', {}, btest_wallet)\n"
   ]
  },
  {
   "cell_type": "code",
   "execution_count": 106,
   "metadata": {
    "scrolled": true
   },
   "outputs": [
    {
     "name": "stdout",
     "output_type": "stream",
     "text": [
      "['loans', 'staking', 'router', 'dividends', 'reserve', 'daofund', 'rewards', 'dex', 'governance', 'oracle', 'sicx', 'bnUSD', 'bnXLM', 'bnDOGE', 'baln', 'bwt', 'rebalancing']\n",
      "------------------------------------------------------------------------------------------------------------------\n",
      "Calling setAddresses, with parameters {'_addresses': {'loans': 'cx0b13453906786489c7989d464f33ed6dc33256bc', 'staking': 'cx2d9ec07136fe5d1a7173e55b0773b41d878db911', 'router': 'cx738ad566f1bce722a0919158a64645e3e5627cb7', 'dividends': 'cx34a2127f054d26b3b3b128e6243776c67b0ee9ba', 'reserve': 'cx84a485d66094f0edb59f2cb8177c2319b212bb54', 'daofund': 'cx71f07ad9097b5ad99949a093eaeacd25682f0b66', 'rewards': 'cxc234187b47c16f9f3077a5f4dcc8856ee9124dcf', 'dex': 'cx337517d2459fd0abf52e4662bcfb0d872214171b', 'oracle': 'cxebb9a5e5abfacccd978c19e38e5dae6da7c6f5cb', 'sicx': 'cx13d86dfb8b5e6db344a82f823a1259de8d6387a9', 'bnUSD': 'cx773b203256491228aa05aff96fd9357e388f59ef', 'baln': 'cx459a405a8a5450033b5ba77fce337b9d7a77c2d1', 'bwt': 'cx66b892e2f5e5120601c017207705916cf3a96ef4', 'rebalancing': 'cxf7403ab96d90675a13b2d28c20f021dcc8be6893'}} on the governance contract.\n",
      "------------------------------------------------------------------------------------------------------------------\n",
      "Retrying in 1 seconds...\n",
      "************************************************** Status: 1 **************************************************\n",
      "------------------------------------------------------------------------------------------------------------------\n",
      "Calling setSicxAddress, with parameters {'_address': 'cx13d86dfb8b5e6db344a82f823a1259de8d6387a9'} on the staking contract.\n",
      "------------------------------------------------------------------------------------------------------------------\n",
      "Retrying in 1 seconds...\n",
      "Retrying in 2 seconds...\n",
      "************************************************** Status: 1 **************************************************\n",
      "------------------------------------------------------------------------------------------------------------------\n",
      "Calling configureBalanced, with parameters {} on the governance contract.\n",
      "------------------------------------------------------------------------------------------------------------------\n",
      "Retrying in 1 seconds...\n",
      "************************************************** Status: 1 **************************************************\n",
      "{'scoreAddress': 'cx0b13453906786489c7989d464f33ed6dc33256bc', 'indexed': ['AssetAdded(Address,str,bool)', 'cx13d86dfb8b5e6db344a82f823a1259de8d6387a9', 'sICX', '0x1'], 'data': []} \n",
      "\n",
      "{'scoreAddress': 'cx0b13453906786489c7989d464f33ed6dc33256bc', 'indexed': ['AssetAdded(Address,str,bool)', 'cx773b203256491228aa05aff96fd9357e388f59ef', 'bnUSD', '0x0'], 'data': []} \n",
      "\n",
      "{'scoreAddress': 'cx0b13453906786489c7989d464f33ed6dc33256bc', 'indexed': ['AssetAdded(Address,str,bool)', 'cx459a405a8a5450033b5ba77fce337b9d7a77c2d1', 'BALN', '0x1'], 'data': []} \n",
      "\n",
      "{\"governance|setAddresses|{'_addresses': {'loans': 'cx0b13453906786489c7989d464f33ed6dc33256bc', 'staking': 'cx2d9ec07136fe5d1a7173e55b0773b41d878db911', 'router': 'cx738ad566f1bce722a0919158a64645e3e5627cb7', 'dividends': 'cx34a2127f054d26b3b3b128e6243776c67b0ee9ba', 'reserve': 'cx84a485d66094f0edb59f2cb8177c2319b212bb54', 'daofund': 'cx71f07ad9097b5ad99949a093eaeacd25682f0b66', 'rewards': 'cxc234187b47c16f9f3077a5f4dcc8856ee9124dcf', 'dex': 'cx337517d2459fd0abf52e4662bcfb0d872214171b', 'oracle': 'cxebb9a5e5abfacccd978c19e38e5dae6da7c6f5cb', 'sicx': 'cx13d86dfb8b5e6db344a82f823a1259de8d6387a9', 'bnUSD': 'cx773b203256491228aa05aff96fd9357e388f59ef', 'baln': 'cx459a405a8a5450033b5ba77fce337b9d7a77c2d1', 'bwt': 'cx66b892e2f5e5120601c017207705916cf3a96ef4', 'rebalancing': 'cxf7403ab96d90675a13b2d28c20f021dcc8be6893'}}\": {'txHash': '0x711395e454809a4b55f312be7b5fe1f7dbc4fc6ba9644ed14521d8e58eec95dc', 'blockHeight': 4590646, 'blockHash': '0x7d41f2c108c43eff57d162a74a1eb208e2c0ee9bd0c76ec9985fd463e5061dbe', 'txIndex': 1, 'to': 'cx573af41a2a83917ed96db12c01bf9cb2bba4859d', 'stepUsed': 380480, 'stepPrice': 10000000000, 'cumulativeStepUsed': 380480, 'eventLogs': [], 'logsBloom': b'\\x00\\x00\\x00\\x00\\x00\\x00\\x00\\x00\\x00\\x00\\x00\\x00\\x00\\x00\\x00\\x00\\x00\\x00\\x00\\x00\\x00\\x00\\x00\\x00\\x00\\x00\\x00\\x00\\x00\\x00\\x00\\x00\\x00\\x00\\x00\\x00\\x00\\x00\\x00\\x00\\x00\\x00\\x00\\x00\\x00\\x00\\x00\\x00\\x00\\x00\\x00\\x00\\x00\\x00\\x00\\x00\\x00\\x00\\x00\\x00\\x00\\x00\\x00\\x00\\x00\\x00\\x00\\x00\\x00\\x00\\x00\\x00\\x00\\x00\\x00\\x00\\x00\\x00\\x00\\x00\\x00\\x00\\x00\\x00\\x00\\x00\\x00\\x00\\x00\\x00\\x00\\x00\\x00\\x00\\x00\\x00\\x00\\x00\\x00\\x00\\x00\\x00\\x00\\x00\\x00\\x00\\x00\\x00\\x00\\x00\\x00\\x00\\x00\\x00\\x00\\x00\\x00\\x00\\x00\\x00\\x00\\x00\\x00\\x00\\x00\\x00\\x00\\x00\\x00\\x00\\x00\\x00\\x00\\x00\\x00\\x00\\x00\\x00\\x00\\x00\\x00\\x00\\x00\\x00\\x00\\x00\\x00\\x00\\x00\\x00\\x00\\x00\\x00\\x00\\x00\\x00\\x00\\x00\\x00\\x00\\x00\\x00\\x00\\x00\\x00\\x00\\x00\\x00\\x00\\x00\\x00\\x00\\x00\\x00\\x00\\x00\\x00\\x00\\x00\\x00\\x00\\x00\\x00\\x00\\x00\\x00\\x00\\x00\\x00\\x00\\x00\\x00\\x00\\x00\\x00\\x00\\x00\\x00\\x00\\x00\\x00\\x00\\x00\\x00\\x00\\x00\\x00\\x00\\x00\\x00\\x00\\x00\\x00\\x00\\x00\\x00\\x00\\x00\\x00\\x00\\x00\\x00\\x00\\x00\\x00\\x00\\x00\\x00\\x00\\x00\\x00\\x00\\x00\\x00\\x00\\x00\\x00\\x00\\x00\\x00\\x00\\x00\\x00\\x00\\x00\\x00\\x00\\x00\\x00\\x00\\x00\\x00\\x00\\x00\\x00\\x00', 'status': 1}, \"staking|setSicxAddress|{'_address': 'cx13d86dfb8b5e6db344a82f823a1259de8d6387a9'}\": {'txHash': '0x96ba4424f5abe4ce445d665ee9e4a3b0b9c97a0f686396910983ebd14010b376', 'blockHeight': 4590647, 'blockHash': '0x0a9565082ad7c6970a7c112b5b565e52f92ea748aeada6257957e2c282263fc1', 'txIndex': 1, 'to': 'cx2d9ec07136fe5d1a7173e55b0773b41d878db911', 'stepUsed': 150520, 'stepPrice': 10000000000, 'cumulativeStepUsed': 150520, 'eventLogs': [], 'logsBloom': b'\\x00\\x00\\x00\\x00\\x00\\x00\\x00\\x00\\x00\\x00\\x00\\x00\\x00\\x00\\x00\\x00\\x00\\x00\\x00\\x00\\x00\\x00\\x00\\x00\\x00\\x00\\x00\\x00\\x00\\x00\\x00\\x00\\x00\\x00\\x00\\x00\\x00\\x00\\x00\\x00\\x00\\x00\\x00\\x00\\x00\\x00\\x00\\x00\\x00\\x00\\x00\\x00\\x00\\x00\\x00\\x00\\x00\\x00\\x00\\x00\\x00\\x00\\x00\\x00\\x00\\x00\\x00\\x00\\x00\\x00\\x00\\x00\\x00\\x00\\x00\\x00\\x00\\x00\\x00\\x00\\x00\\x00\\x00\\x00\\x00\\x00\\x00\\x00\\x00\\x00\\x00\\x00\\x00\\x00\\x00\\x00\\x00\\x00\\x00\\x00\\x00\\x00\\x00\\x00\\x00\\x00\\x00\\x00\\x00\\x00\\x00\\x00\\x00\\x00\\x00\\x00\\x00\\x00\\x00\\x00\\x00\\x00\\x00\\x00\\x00\\x00\\x00\\x00\\x00\\x00\\x00\\x00\\x00\\x00\\x00\\x00\\x00\\x00\\x00\\x00\\x00\\x00\\x00\\x00\\x00\\x00\\x00\\x00\\x00\\x00\\x00\\x00\\x00\\x00\\x00\\x00\\x00\\x00\\x00\\x00\\x00\\x00\\x00\\x00\\x00\\x00\\x00\\x00\\x00\\x00\\x00\\x00\\x00\\x00\\x00\\x00\\x00\\x00\\x00\\x00\\x00\\x00\\x00\\x00\\x00\\x00\\x00\\x00\\x00\\x00\\x00\\x00\\x00\\x00\\x00\\x00\\x00\\x00\\x00\\x00\\x00\\x00\\x00\\x00\\x00\\x00\\x00\\x00\\x00\\x00\\x00\\x00\\x00\\x00\\x00\\x00\\x00\\x00\\x00\\x00\\x00\\x00\\x00\\x00\\x00\\x00\\x00\\x00\\x00\\x00\\x00\\x00\\x00\\x00\\x00\\x00\\x00\\x00\\x00\\x00\\x00\\x00\\x00\\x00\\x00\\x00\\x00\\x00\\x00\\x00\\x00\\x00\\x00\\x00\\x00\\x00', 'status': 1}, 'governance|configureBalanced|{}': {'txHash': '0x8cb794352059fef9d6b72df19fe7cc5f23d072cb963d4fffa049d961e7bbacc7', 'blockHeight': 4590648, 'blockHash': '0xc1782e74ffe95d2136919720257a2410ad1d5746e138de6d730e5c4b9ba0db6b', 'txIndex': 1, 'to': 'cx573af41a2a83917ed96db12c01bf9cb2bba4859d', 'stepUsed': 1967140, 'stepPrice': 10000000000, 'cumulativeStepUsed': 1967140, 'eventLogs': [{'scoreAddress': 'cx0b13453906786489c7989d464f33ed6dc33256bc', 'indexed': ['AssetAdded(Address,str,bool)', 'cx13d86dfb8b5e6db344a82f823a1259de8d6387a9', 'sICX', '0x1'], 'data': []}, {'scoreAddress': 'cx0b13453906786489c7989d464f33ed6dc33256bc', 'indexed': ['AssetAdded(Address,str,bool)', 'cx773b203256491228aa05aff96fd9357e388f59ef', 'bnUSD', '0x0'], 'data': []}, {'scoreAddress': 'cx0b13453906786489c7989d464f33ed6dc33256bc', 'indexed': ['AssetAdded(Address,str,bool)', 'cx459a405a8a5450033b5ba77fce337b9d7a77c2d1', 'BALN', '0x1'], 'data': []}], 'logsBloom': b'\\x00\\x00\\x10\\x00\\x00\\x00\\x00\\x00\\x10\\x00\\x01\\x00\\x00\\x00\\x00\\x00\\x00\\x00\\x00\\x08\\x00\\x00\\x00\\x00\\x00\\x00\\x00\\x00\\x00\\x00\\x00\\x00\\x00\\x00\\x00\\x80\\x00\\x00\\x10\\x00\\x00\\x00\\x00\\x00\\x00\\x00\\x00\\x00\\x00\\x00 \\x02\\x00\\x00\\x10\\x00\\x00\\x00\\x00\\x00\\x00\\x00\\x00 \\x00\\x00\\x00\\x00\\x00\\x00\\x00\\x00\\x00\\x00\\x00\\x00\\x00\\x00\\x00\\x00 \\x00\\x00\\x00\\x00\\x02\\x00\\x00\\x00\\x00\\x00\\x00\\x00@\\x00\\x00\\x00\\x00\\x08\\x00\\x01\\x00\\x02\\x00\\x00\\x00\\x00\\x00\\x00\\x00\\x00\\x00\\x00\\x00\\x00\\x00\\x00 \\x00\\x00\\x00\\x00\\x00\\x00\\x00\\x00\\x01\\x00\\x00\\x00\\x00\\x00@\\x00\\x00\\x00\\x00\\x00\\x00\\x00\\x00\\x00\\x00\\x00\\x00\\x00\\x00\\x00\\x00\\x00\\x00\\x00\\x00\\x00\\x00\\x00\\x00\\x00\\x00\\x00\\x00\\x00\\x00\\x00\\x00\\x00\\x08\\x00\\x00\\x01\\x00\\x00\\x00\\x00\\x00\\x00\\x00@\\x00\\x00\\x00\\x00\\x00\\x00\\x00\\x00\\x00\\x00\\x00\\x00\\x00\\x00\\x00\\x00\\x00\\x00\\x00\\x00\\x00\\x00\\x00\\x00\\x00\\x00\\x00\\x08\\x00\\x00\\x00\\x00\\x00\\x00\\x00\\x02\\x00\\x00\\x00\\x10\\x00\\x00\\x00\\x00\\x00\\x00\\x00\\x00\\x00\\x00\\x00\\x00\\x01\\x00 \\x00\\x00\\x00@\\x00\\x00\\x00\\x00\\x00\\x00\\x00 \\x00\\x00\\x00\\x00\\x00\\x00\\x00\\x00\\x00\\x00\\x00', 'status': 1}}\n"
     ]
    }
   ],
   "source": [
    "# Cell 7a\n",
    "# Configure Balanced\n",
    "\n",
    "config_results = config_balanced(btest_wallet, staking_wallet)\n",
    "print(config_results)"
   ]
  },
  {
   "cell_type": "code",
   "execution_count": 107,
   "metadata": {
    "scrolled": true
   },
   "outputs": [
    {
     "name": "stdout",
     "output_type": "stream",
     "text": [
      "------------------------------------------------------------------------------------------------------------------\n",
      "Calling launchBalanced, with parameters {} on the governance contract.\n",
      "------------------------------------------------------------------------------------------------------------------\n",
      "Retrying in 1 seconds...\n",
      "************************************************** Status: 1 **************************************************\n",
      "{'scoreAddress': 'cx0b13453906786489c7989d464f33ed6dc33256bc', 'indexed': ['ContractActive(str,str)', 'Loans'], 'data': ['Active']} \n",
      "\n",
      "------------------------------------------------------------------------------------------------------------------\n",
      "Calling toggleStakingOn, with parameters {} on the staking contract.\n",
      "------------------------------------------------------------------------------------------------------------------\n",
      "Retrying in 1 seconds...\n",
      "Retrying in 2 seconds...\n",
      "************************************************** Status: 1 **************************************************\n",
      "------------------------------------------------------------------------------------------------------------------\n",
      "Calling delegate, with parameters {'_delegations': [{'_address': 'hx9eec61296a7010c867ce24c20e69588e2832bc52', '_votes_in_per': 50000000000000000000}, {'_address': 'hx000e0415037ae871184b2c7154e5924ef2bc075e', '_votes_in_per': 50000000000000000000}]} on the governance contract.\n",
      "------------------------------------------------------------------------------------------------------------------\n",
      "Retrying in 1 seconds...\n",
      "************************************************** Status: 1 **************************************************\n",
      "{'governance|launchBalanced|{}': {'txHash': '0x86a1d18c5497a2788085a3b5f41402236c59b34d5758d08f2406931c77c355a8', 'blockHeight': 4590655, 'blockHash': '0x3a3b08788d9755c68d68a752b4a4ff0dab29aeb106f6e718b6768b727de43bed', 'txIndex': 1, 'to': 'cx573af41a2a83917ed96db12c01bf9cb2bba4859d', 'stepUsed': 431840, 'stepPrice': 10000000000, 'cumulativeStepUsed': 431840, 'eventLogs': [{'scoreAddress': 'cx0b13453906786489c7989d464f33ed6dc33256bc', 'indexed': ['ContractActive(str,str)', 'Loans'], 'data': ['Active']}], 'logsBloom': b'\\x00\\x00\\x00\\x00\\x00\\x00\\x00\\x00\\x00\\x00\\x00\\x00\\x00\\x00\\x00\\x00\\x00\\x00\\x00\\x08\\x00\\x00\\x00\\x00\\x00\\x00\\x00\\x00\\x00\\x00\\x00\\x00\\x00\\x00\\x00\\x00\\x00\\x00\\x00\\x00\\x00\\x00\\x00 \\x00\\x00\\x00\\x00\\x00\\x00\\x00\\x00\\x00\\x00\\x00\\x00\\x00\\x00\\x00\\x00\\x00\\x00\\x00\\x00\\x00\\x00\\x00\\x00\\x00\\x00\\x00\\x00\\x00\\x00\\x00\\x00\\x00\\x00\\x00\\x00\\x00\\x00\\x00\\x00\\x80\\x00\\x00\\x00\\x00\\x00\\x00\\x00\\x00@\\x00\\x00\\x01\\x00\\x00\\x00\\x00\\x00\\x02\\x00\\x00\\x00\\x00\\x00\\x00\\x00\\x00\\x00\\x00\\x00\\x00\\x00\\x00\\x00\\x00\\x00\\x00\\x00\\x00\\x00\\x00\\x00\\x00\\x00\\x00\\x00\\x00\\x00\\x00\\x00\\x10\\x00\\x00\\x00\\x00\\x00\\x00\\x00\\x00\\x00\\x00\\x00\\x00\\x00\\x00\\x00\\x00\\x00\\x00\\x00\\x00 \\x00\\x00\\x00\\x00\\x00\\x00\\x00\\x00\\x00\\x00\\x00\\x00\\x00\\x00\\x00\\x00\\x00\\x00\\x00\\x00\\x00\\x00\\x00\\x00\\x00\\x00\\x00\\x00\\x00\\x00\\x00\\x00\\x00\\x00\\x00\\x00\\x00\\x00\\x00\\x00\\x00\\x00\\x00\\x00\\x00\\x00\\x00\\x00\\x00\\x00\\x00\\x00\\x00\\x00\\x00\\x00\\x00\\x00\\x00\\x00\\x00\\x00\\x00\\x00\\x00\\x00\\x00\\x00\\x00\\x00\\x00\\x00\\x00\\x00\\x00\\x00\\x00\\x00\\x00\\x00\\x00\\x00\\x00\\x00\\x00\\x00\\x00\\x00\\x00\\x00\\x00\\x00\\x00\\x00\\x00\\x00\\x00\\x01\\x00\\x00', 'status': 1}, 'staking|toggleStakingOn|{}': {'txHash': '0x67942f3ce74e912844a1a5e97f459f9f4a9b24aafe2d5944ad03e0de4f068442', 'blockHeight': 4590656, 'blockHash': '0x01a30aa0eb81d044e093a8581d4d83c4ee26a543083651505ad49f328a340faf', 'txIndex': 1, 'to': 'cx2d9ec07136fe5d1a7173e55b0773b41d878db911', 'stepUsed': 130680, 'stepPrice': 10000000000, 'cumulativeStepUsed': 130680, 'eventLogs': [], 'logsBloom': b'\\x00\\x00\\x00\\x00\\x00\\x00\\x00\\x00\\x00\\x00\\x00\\x00\\x00\\x00\\x00\\x00\\x00\\x00\\x00\\x00\\x00\\x00\\x00\\x00\\x00\\x00\\x00\\x00\\x00\\x00\\x00\\x00\\x00\\x00\\x00\\x00\\x00\\x00\\x00\\x00\\x00\\x00\\x00\\x00\\x00\\x00\\x00\\x00\\x00\\x00\\x00\\x00\\x00\\x00\\x00\\x00\\x00\\x00\\x00\\x00\\x00\\x00\\x00\\x00\\x00\\x00\\x00\\x00\\x00\\x00\\x00\\x00\\x00\\x00\\x00\\x00\\x00\\x00\\x00\\x00\\x00\\x00\\x00\\x00\\x00\\x00\\x00\\x00\\x00\\x00\\x00\\x00\\x00\\x00\\x00\\x00\\x00\\x00\\x00\\x00\\x00\\x00\\x00\\x00\\x00\\x00\\x00\\x00\\x00\\x00\\x00\\x00\\x00\\x00\\x00\\x00\\x00\\x00\\x00\\x00\\x00\\x00\\x00\\x00\\x00\\x00\\x00\\x00\\x00\\x00\\x00\\x00\\x00\\x00\\x00\\x00\\x00\\x00\\x00\\x00\\x00\\x00\\x00\\x00\\x00\\x00\\x00\\x00\\x00\\x00\\x00\\x00\\x00\\x00\\x00\\x00\\x00\\x00\\x00\\x00\\x00\\x00\\x00\\x00\\x00\\x00\\x00\\x00\\x00\\x00\\x00\\x00\\x00\\x00\\x00\\x00\\x00\\x00\\x00\\x00\\x00\\x00\\x00\\x00\\x00\\x00\\x00\\x00\\x00\\x00\\x00\\x00\\x00\\x00\\x00\\x00\\x00\\x00\\x00\\x00\\x00\\x00\\x00\\x00\\x00\\x00\\x00\\x00\\x00\\x00\\x00\\x00\\x00\\x00\\x00\\x00\\x00\\x00\\x00\\x00\\x00\\x00\\x00\\x00\\x00\\x00\\x00\\x00\\x00\\x00\\x00\\x00\\x00\\x00\\x00\\x00\\x00\\x00\\x00\\x00\\x00\\x00\\x00\\x00\\x00\\x00\\x00\\x00\\x00\\x00\\x00\\x00\\x00\\x00\\x00\\x00', 'status': 1}, \"governance|delegate|{'_delegations': [{'_address': 'hx9eec61296a7010c867ce24c20e69588e2832bc52', '_votes_in_per': 50000000000000000000}, {'_address': 'hx000e0415037ae871184b2c7154e5924ef2bc075e', '_votes_in_per': 50000000000000000000}]}\": {'txHash': '0x7511127014cfcef7bb4fd2600c2f480ed16d180704affa744844f9b9521346fd', 'blockHeight': 4590657, 'blockHash': '0xf7ed28c4c44fa53cd0dd982b2b45befbe58ab6e24a8fc2ef8c6dfc201e0ac159', 'txIndex': 1, 'to': 'cx573af41a2a83917ed96db12c01bf9cb2bba4859d', 'stepUsed': 339160, 'stepPrice': 10000000000, 'cumulativeStepUsed': 339160, 'eventLogs': [], 'logsBloom': b'\\x00\\x00\\x00\\x00\\x00\\x00\\x00\\x00\\x00\\x00\\x00\\x00\\x00\\x00\\x00\\x00\\x00\\x00\\x00\\x00\\x00\\x00\\x00\\x00\\x00\\x00\\x00\\x00\\x00\\x00\\x00\\x00\\x00\\x00\\x00\\x00\\x00\\x00\\x00\\x00\\x00\\x00\\x00\\x00\\x00\\x00\\x00\\x00\\x00\\x00\\x00\\x00\\x00\\x00\\x00\\x00\\x00\\x00\\x00\\x00\\x00\\x00\\x00\\x00\\x00\\x00\\x00\\x00\\x00\\x00\\x00\\x00\\x00\\x00\\x00\\x00\\x00\\x00\\x00\\x00\\x00\\x00\\x00\\x00\\x00\\x00\\x00\\x00\\x00\\x00\\x00\\x00\\x00\\x00\\x00\\x00\\x00\\x00\\x00\\x00\\x00\\x00\\x00\\x00\\x00\\x00\\x00\\x00\\x00\\x00\\x00\\x00\\x00\\x00\\x00\\x00\\x00\\x00\\x00\\x00\\x00\\x00\\x00\\x00\\x00\\x00\\x00\\x00\\x00\\x00\\x00\\x00\\x00\\x00\\x00\\x00\\x00\\x00\\x00\\x00\\x00\\x00\\x00\\x00\\x00\\x00\\x00\\x00\\x00\\x00\\x00\\x00\\x00\\x00\\x00\\x00\\x00\\x00\\x00\\x00\\x00\\x00\\x00\\x00\\x00\\x00\\x00\\x00\\x00\\x00\\x00\\x00\\x00\\x00\\x00\\x00\\x00\\x00\\x00\\x00\\x00\\x00\\x00\\x00\\x00\\x00\\x00\\x00\\x00\\x00\\x00\\x00\\x00\\x00\\x00\\x00\\x00\\x00\\x00\\x00\\x00\\x00\\x00\\x00\\x00\\x00\\x00\\x00\\x00\\x00\\x00\\x00\\x00\\x00\\x00\\x00\\x00\\x00\\x00\\x00\\x00\\x00\\x00\\x00\\x00\\x00\\x00\\x00\\x00\\x00\\x00\\x00\\x00\\x00\\x00\\x00\\x00\\x00\\x00\\x00\\x00\\x00\\x00\\x00\\x00\\x00\\x00\\x00\\x00\\x00\\x00\\x00\\x00\\x00\\x00\\x00', 'status': 1}}\n"
     ]
    }
   ],
   "source": [
    "# Cell 7b\n",
    "# Launch Balanced\n",
    "# We may want to make this a payable method and have the governance SCORE borrow bnUSD,\n",
    "# start and name the sICXbnUSD market, and add it as a rewards DataSource.\n",
    "\n",
    "launch_results = launch_balanced(btest_wallet, staking_wallet)\n",
    "print(launch_results)"
   ]
  },
  {
   "cell_type": "code",
   "execution_count": 108,
   "metadata": {
    "scrolled": true
   },
   "outputs": [
    {
     "name": "stdout",
     "output_type": "stream",
     "text": [
      "------------------------------------------------------------------------------------------------------------------\n",
      "Calling rig_the_market, with parameters {'_base': 'USD', '_quote': 'ICX', '_rate': 500000000000000000} on the oracle contract.\n",
      "------------------------------------------------------------------------------------------------------------------\n",
      "Retrying in 1 seconds...\n",
      "Retrying in 2 seconds...\n",
      "************************************************** Status: 1 **************************************************\n"
     ]
    },
    {
     "data": {
      "text/plain": [
       "{'txHash': '0x9df9257a6e65891644536e39aed608749d4e8666e3a357f11be3d877303064f7',\n",
       " 'blockHeight': 4590660,\n",
       " 'blockHash': '0x080a44aed3dfb83366780c3c27651b1bebc71834863d7de76533d14be4e54c48',\n",
       " 'txIndex': 1,\n",
       " 'to': 'cxebb9a5e5abfacccd978c19e38e5dae6da7c6f5cb',\n",
       " 'stepUsed': 145760,\n",
       " 'stepPrice': 10000000000,\n",
       " 'cumulativeStepUsed': 145760,\n",
       " 'eventLogs': [],\n",
       " 'logsBloom': b'\\x00\\x00\\x00\\x00\\x00\\x00\\x00\\x00\\x00\\x00\\x00\\x00\\x00\\x00\\x00\\x00\\x00\\x00\\x00\\x00\\x00\\x00\\x00\\x00\\x00\\x00\\x00\\x00\\x00\\x00\\x00\\x00\\x00\\x00\\x00\\x00\\x00\\x00\\x00\\x00\\x00\\x00\\x00\\x00\\x00\\x00\\x00\\x00\\x00\\x00\\x00\\x00\\x00\\x00\\x00\\x00\\x00\\x00\\x00\\x00\\x00\\x00\\x00\\x00\\x00\\x00\\x00\\x00\\x00\\x00\\x00\\x00\\x00\\x00\\x00\\x00\\x00\\x00\\x00\\x00\\x00\\x00\\x00\\x00\\x00\\x00\\x00\\x00\\x00\\x00\\x00\\x00\\x00\\x00\\x00\\x00\\x00\\x00\\x00\\x00\\x00\\x00\\x00\\x00\\x00\\x00\\x00\\x00\\x00\\x00\\x00\\x00\\x00\\x00\\x00\\x00\\x00\\x00\\x00\\x00\\x00\\x00\\x00\\x00\\x00\\x00\\x00\\x00\\x00\\x00\\x00\\x00\\x00\\x00\\x00\\x00\\x00\\x00\\x00\\x00\\x00\\x00\\x00\\x00\\x00\\x00\\x00\\x00\\x00\\x00\\x00\\x00\\x00\\x00\\x00\\x00\\x00\\x00\\x00\\x00\\x00\\x00\\x00\\x00\\x00\\x00\\x00\\x00\\x00\\x00\\x00\\x00\\x00\\x00\\x00\\x00\\x00\\x00\\x00\\x00\\x00\\x00\\x00\\x00\\x00\\x00\\x00\\x00\\x00\\x00\\x00\\x00\\x00\\x00\\x00\\x00\\x00\\x00\\x00\\x00\\x00\\x00\\x00\\x00\\x00\\x00\\x00\\x00\\x00\\x00\\x00\\x00\\x00\\x00\\x00\\x00\\x00\\x00\\x00\\x00\\x00\\x00\\x00\\x00\\x00\\x00\\x00\\x00\\x00\\x00\\x00\\x00\\x00\\x00\\x00\\x00\\x00\\x00\\x00\\x00\\x00\\x00\\x00\\x00\\x00\\x00\\x00\\x00\\x00\\x00\\x00\\x00\\x00\\x00\\x00\\x00',\n",
       " 'status': 1}"
      ]
     },
     "execution_count": 108,
     "metadata": {},
     "output_type": "execute_result"
    }
   ],
   "source": [
    "send_tx('oracle', 0, 'rig_the_market', {'_base': 'USD', '_quote': 'ICX', '_rate': ICX // 2}, btest_wallet)"
   ]
  },
  {
   "cell_type": "code",
   "execution_count": 35,
   "metadata": {},
   "outputs": [
    {
     "name": "stdout",
     "output_type": "stream",
     "text": [
      "------------------------------------------------------------------------------------------------------------------\n",
      "Calling createBnusdMarket, with parameters {} on the governance contract.\n",
      "------------------------------------------------------------------------------------------------------------------\n",
      "Retrying in 1 seconds...\n",
      "************************************************** Status: 1 **************************************************\n",
      "{'scoreAddress': 'cx66ebc45553e164f2463575ea5bb817022c55f85c', 'indexed': ['OraclePrice(str,str,Address,int)', 'USDICX', 'BandChain', 'cxa644b8897c9cedc49290d30bb22c85fd870c74f0'], 'data': ['0x84c5d90848544bb']} \n",
      "\n",
      "{'scoreAddress': 'cx9927d0858af40d9875a1dbef4c0dab4f5857aea0', 'indexed': ['ICXTransfer(Address,Address,int)', 'cx9927d0858af40d9875a1dbef4c0dab4f5857aea0', 'cx5db663c48d12c56033a8c639a041a20c6df89ea2', '0x1a055690d9db80000'], 'data': []} \n",
      "\n",
      "{'scoreAddress': 'cx1027c16288194e933a913e806ce1744ba581f9b8', 'indexed': ['Mint(Address,int,bytes)', 'cx9927d0858af40d9875a1dbef4c0dab4f5857aea0'], 'data': ['0x1a055690d9db80000', '0x4e6f6e65']} \n",
      "\n",
      "{'scoreAddress': 'cx1027c16288194e933a913e806ce1744ba581f9b8', 'indexed': ['Transfer(Address,Address,int,bytes)', 'hx0000000000000000000000000000000000000000', 'cx9927d0858af40d9875a1dbef4c0dab4f5857aea0', '0x1a055690d9db80000'], 'data': ['0x4e6f6e65']} \n",
      "\n",
      "{'scoreAddress': 'cx5db663c48d12c56033a8c639a041a20c6df89ea2', 'indexed': ['TokenTransfer(Address,int,str)', 'cx9927d0858af40d9875a1dbef4c0dab4f5857aea0', '0x1a055690d9db80000'], 'data': ['30 sICX minted to cx9927d0858af40d9875a1dbef4c0dab4f5857aea0']} \n",
      "\n",
      "{'scoreAddress': 'cx9927d0858af40d9875a1dbef4c0dab4f5857aea0', 'indexed': ['ICXTransfer(Address,Address,int)', 'cx9927d0858af40d9875a1dbef4c0dab4f5857aea0', 'cxbaf88296a1906e456b649e2af2dbb12cef4488ee', '0x9c2007651b2500000'], 'data': []} \n",
      "\n",
      "{'scoreAddress': 'cxbaf88296a1906e456b649e2af2dbb12cef4488ee', 'indexed': ['ICXTransfer(Address,Address,int)', 'cxbaf88296a1906e456b649e2af2dbb12cef4488ee', 'cx5db663c48d12c56033a8c639a041a20c6df89ea2', '0x9c2007651b2500000'], 'data': []} \n",
      "\n",
      "{'scoreAddress': 'cx1027c16288194e933a913e806ce1744ba581f9b8', 'indexed': ['Mint(Address,int,bytes)', 'cxbaf88296a1906e456b649e2af2dbb12cef4488ee'], 'data': ['0x9c2007651b2500000', '0x4e6f6e65']} \n",
      "\n",
      "{'scoreAddress': 'cx1027c16288194e933a913e806ce1744ba581f9b8', 'indexed': ['Transfer(Address,Address,int,bytes)', 'hx0000000000000000000000000000000000000000', 'cxbaf88296a1906e456b649e2af2dbb12cef4488ee', '0x9c2007651b2500000'], 'data': ['0x4e6f6e65']} \n",
      "\n",
      "{'scoreAddress': 'cx5db663c48d12c56033a8c639a041a20c6df89ea2', 'indexed': ['TokenTransfer(Address,int,str)', 'cxbaf88296a1906e456b649e2af2dbb12cef4488ee', '0x9c2007651b2500000'], 'data': ['180 sICX minted to cxbaf88296a1906e456b649e2af2dbb12cef4488ee']} \n",
      "\n",
      "{'scoreAddress': 'cxbaf88296a1906e456b649e2af2dbb12cef4488ee', 'indexed': ['CollateralReceived(Address,str,int)', 'cx9927d0858af40d9875a1dbef4c0dab4f5857aea0', 'sICX'], 'data': ['0x9c2007651b2500000']} \n",
      "\n",
      "{'scoreAddress': 'cxbaf88296a1906e456b649e2af2dbb12cef4488ee', 'indexed': ['OriginateLoan(Address,str,int,str)', 'cx9927d0858af40d9875a1dbef4c0dab4f5857aea0', 'bnUSD', '0x2b842fad4e434e3e9'], 'data': ['Loan of 50170938591129428969 bnUSD from Balanced.']} \n",
      "\n",
      "{'scoreAddress': 'cx66ebc45553e164f2463575ea5bb817022c55f85c', 'indexed': ['Mint(Address,int,bytes)', 'cx9927d0858af40d9875a1dbef4c0dab4f5857aea0'], 'data': ['0x2b842fad4e434e3e9', '0x4e6f6e65']} \n",
      "\n",
      "{'scoreAddress': 'cx66ebc45553e164f2463575ea5bb817022c55f85c', 'indexed': ['Transfer(Address,Address,int,bytes)', 'hx0000000000000000000000000000000000000000', 'cx9927d0858af40d9875a1dbef4c0dab4f5857aea0', '0x2b842fad4e434e3e9'], 'data': ['0x4e6f6e65']} \n",
      "\n",
      "{'scoreAddress': 'cx66ebc45553e164f2463575ea5bb817022c55f85c', 'indexed': ['Mint(Address,int,bytes)', 'cxcde93b662c846083eb10b9c673fc91614e210a39'], 'data': ['0x6f66e073fb8d951', '0x4e6f6e65']} \n",
      "\n",
      "{'scoreAddress': 'cx66ebc45553e164f2463575ea5bb817022c55f85c', 'indexed': ['Transfer(Address,Address,int,bytes)', 'hx0000000000000000000000000000000000000000', 'cxcde93b662c846083eb10b9c673fc91614e210a39', '0x6f66e073fb8d951'], 'data': ['0x4e6f6e65']} \n",
      "\n",
      "{'scoreAddress': 'cxcde93b662c846083eb10b9c673fc91614e210a39', 'indexed': ['DividendsReceivedV2(int,int,str)', '0x6f66e073fb8d951', '0x1'], 'data': ['501709385911294289 tokens received as dividends token: cx66ebc45553e164f2463575ea5bb817022c55f85c ']} \n",
      "\n",
      "{'scoreAddress': 'cxbaf88296a1906e456b649e2af2dbb12cef4488ee', 'indexed': ['FeePaid(str,int,str)', 'bnUSD', '0x6f66e073fb8d951', 'origination'], 'data': []} \n",
      "\n",
      "{'scoreAddress': 'cx66ebc45553e164f2463575ea5bb817022c55f85c', 'indexed': ['Transfer(Address,Address,int,bytes)', 'cx9927d0858af40d9875a1dbef4c0dab4f5857aea0', 'cxd50baf567cfe3fd52680b4a4464f54e0895271c6', '0x2b842fad4e434e3e9'], 'data': ['0x7b226d6574686f64223a225f6465706f736974227d']} \n",
      "\n",
      "{'scoreAddress': 'cxd50baf567cfe3fd52680b4a4464f54e0895271c6', 'indexed': ['Deposit(Address,Address,int)', 'cx66ebc45553e164f2463575ea5bb817022c55f85c', 'cx9927d0858af40d9875a1dbef4c0dab4f5857aea0'], 'data': ['0x2b842fad4e434e3e9']} \n",
      "\n",
      "{'scoreAddress': 'cx1027c16288194e933a913e806ce1744ba581f9b8', 'indexed': ['Transfer(Address,Address,int,bytes)', 'cx9927d0858af40d9875a1dbef4c0dab4f5857aea0', 'cxd50baf567cfe3fd52680b4a4464f54e0895271c6', '0x1a055690d9db80000'], 'data': ['0x7b226d6574686f64223a225f6465706f736974227d']} \n",
      "\n",
      "{'scoreAddress': 'cxd50baf567cfe3fd52680b4a4464f54e0895271c6', 'indexed': ['Deposit(Address,Address,int)', 'cx1027c16288194e933a913e806ce1744ba581f9b8', 'cx9927d0858af40d9875a1dbef4c0dab4f5857aea0'], 'data': ['0x1a055690d9db80000']} \n",
      "\n",
      "{'scoreAddress': 'cxd50baf567cfe3fd52680b4a4464f54e0895271c6', 'indexed': ['MarketAdded(int,Address,Address,int,int)', '0x2', 'cx1027c16288194e933a913e806ce1744ba581f9b8', 'cx66ebc45553e164f2463575ea5bb817022c55f85c'], 'data': ['0x1a055690d9db80000', '0x2b842fad4e434e3e9']} \n",
      "\n",
      "{'scoreAddress': 'cxd50baf567cfe3fd52680b4a4464f54e0895271c6', 'indexed': ['Add(int,Address,int,int,int)', '0x2', 'cx9927d0858af40d9875a1dbef4c0dab4f5857aea0', '0x21a67035b5e7ffeaf'], 'data': ['0x1a055690d9db80000', '0x2b842fad4e434e3e9']} \n",
      "\n",
      "{'scoreAddress': 'cxd50baf567cfe3fd52680b4a4464f54e0895271c6', 'indexed': ['TransferSingle(Address,Address,Address,int,int)', 'cx9927d0858af40d9875a1dbef4c0dab4f5857aea0', 'cxf000000000000000000000000000000000000000', 'cx9927d0858af40d9875a1dbef4c0dab4f5857aea0'], 'data': ['0x2', '0x21a67035b5e7ffeaf']} \n",
      "\n"
     ]
    },
    {
     "data": {
      "text/plain": [
       "{'txHash': '0xf62eb72b1767ba69dc79453b07f5fd7a781779f45ff420249ee7658505fa4e9e',\n",
       " 'blockHeight': 4443614,\n",
       " 'blockHash': '0x921f7b636d69ba2422983ff20c69bb0bb796533afbb6e52b7a301a5acdbb6ddb',\n",
       " 'txIndex': 1,\n",
       " 'to': 'cx9927d0858af40d9875a1dbef4c0dab4f5857aea0',\n",
       " 'stepUsed': 2294780,\n",
       " 'stepPrice': 10000000000,\n",
       " 'cumulativeStepUsed': 2294780,\n",
       " 'eventLogs': [{'scoreAddress': 'cx66ebc45553e164f2463575ea5bb817022c55f85c',\n",
       "   'indexed': ['OraclePrice(str,str,Address,int)',\n",
       "    'USDICX',\n",
       "    'BandChain',\n",
       "    'cxa644b8897c9cedc49290d30bb22c85fd870c74f0'],\n",
       "   'data': ['0x84c5d90848544bb']},\n",
       "  {'scoreAddress': 'cx9927d0858af40d9875a1dbef4c0dab4f5857aea0',\n",
       "   'indexed': ['ICXTransfer(Address,Address,int)',\n",
       "    'cx9927d0858af40d9875a1dbef4c0dab4f5857aea0',\n",
       "    'cx5db663c48d12c56033a8c639a041a20c6df89ea2',\n",
       "    '0x1a055690d9db80000'],\n",
       "   'data': []},\n",
       "  {'scoreAddress': 'cx1027c16288194e933a913e806ce1744ba581f9b8',\n",
       "   'indexed': ['Mint(Address,int,bytes)',\n",
       "    'cx9927d0858af40d9875a1dbef4c0dab4f5857aea0'],\n",
       "   'data': ['0x1a055690d9db80000', '0x4e6f6e65']},\n",
       "  {'scoreAddress': 'cx1027c16288194e933a913e806ce1744ba581f9b8',\n",
       "   'indexed': ['Transfer(Address,Address,int,bytes)',\n",
       "    'hx0000000000000000000000000000000000000000',\n",
       "    'cx9927d0858af40d9875a1dbef4c0dab4f5857aea0',\n",
       "    '0x1a055690d9db80000'],\n",
       "   'data': ['0x4e6f6e65']},\n",
       "  {'scoreAddress': 'cx5db663c48d12c56033a8c639a041a20c6df89ea2',\n",
       "   'indexed': ['TokenTransfer(Address,int,str)',\n",
       "    'cx9927d0858af40d9875a1dbef4c0dab4f5857aea0',\n",
       "    '0x1a055690d9db80000'],\n",
       "   'data': ['30 sICX minted to cx9927d0858af40d9875a1dbef4c0dab4f5857aea0']},\n",
       "  {'scoreAddress': 'cx9927d0858af40d9875a1dbef4c0dab4f5857aea0',\n",
       "   'indexed': ['ICXTransfer(Address,Address,int)',\n",
       "    'cx9927d0858af40d9875a1dbef4c0dab4f5857aea0',\n",
       "    'cxbaf88296a1906e456b649e2af2dbb12cef4488ee',\n",
       "    '0x9c2007651b2500000'],\n",
       "   'data': []},\n",
       "  {'scoreAddress': 'cxbaf88296a1906e456b649e2af2dbb12cef4488ee',\n",
       "   'indexed': ['ICXTransfer(Address,Address,int)',\n",
       "    'cxbaf88296a1906e456b649e2af2dbb12cef4488ee',\n",
       "    'cx5db663c48d12c56033a8c639a041a20c6df89ea2',\n",
       "    '0x9c2007651b2500000'],\n",
       "   'data': []},\n",
       "  {'scoreAddress': 'cx1027c16288194e933a913e806ce1744ba581f9b8',\n",
       "   'indexed': ['Mint(Address,int,bytes)',\n",
       "    'cxbaf88296a1906e456b649e2af2dbb12cef4488ee'],\n",
       "   'data': ['0x9c2007651b2500000', '0x4e6f6e65']},\n",
       "  {'scoreAddress': 'cx1027c16288194e933a913e806ce1744ba581f9b8',\n",
       "   'indexed': ['Transfer(Address,Address,int,bytes)',\n",
       "    'hx0000000000000000000000000000000000000000',\n",
       "    'cxbaf88296a1906e456b649e2af2dbb12cef4488ee',\n",
       "    '0x9c2007651b2500000'],\n",
       "   'data': ['0x4e6f6e65']},\n",
       "  {'scoreAddress': 'cx5db663c48d12c56033a8c639a041a20c6df89ea2',\n",
       "   'indexed': ['TokenTransfer(Address,int,str)',\n",
       "    'cxbaf88296a1906e456b649e2af2dbb12cef4488ee',\n",
       "    '0x9c2007651b2500000'],\n",
       "   'data': ['180 sICX minted to cxbaf88296a1906e456b649e2af2dbb12cef4488ee']},\n",
       "  {'scoreAddress': 'cxbaf88296a1906e456b649e2af2dbb12cef4488ee',\n",
       "   'indexed': ['CollateralReceived(Address,str,int)',\n",
       "    'cx9927d0858af40d9875a1dbef4c0dab4f5857aea0',\n",
       "    'sICX'],\n",
       "   'data': ['0x9c2007651b2500000']},\n",
       "  {'scoreAddress': 'cxbaf88296a1906e456b649e2af2dbb12cef4488ee',\n",
       "   'indexed': ['OriginateLoan(Address,str,int,str)',\n",
       "    'cx9927d0858af40d9875a1dbef4c0dab4f5857aea0',\n",
       "    'bnUSD',\n",
       "    '0x2b842fad4e434e3e9'],\n",
       "   'data': ['Loan of 50170938591129428969 bnUSD from Balanced.']},\n",
       "  {'scoreAddress': 'cx66ebc45553e164f2463575ea5bb817022c55f85c',\n",
       "   'indexed': ['Mint(Address,int,bytes)',\n",
       "    'cx9927d0858af40d9875a1dbef4c0dab4f5857aea0'],\n",
       "   'data': ['0x2b842fad4e434e3e9', '0x4e6f6e65']},\n",
       "  {'scoreAddress': 'cx66ebc45553e164f2463575ea5bb817022c55f85c',\n",
       "   'indexed': ['Transfer(Address,Address,int,bytes)',\n",
       "    'hx0000000000000000000000000000000000000000',\n",
       "    'cx9927d0858af40d9875a1dbef4c0dab4f5857aea0',\n",
       "    '0x2b842fad4e434e3e9'],\n",
       "   'data': ['0x4e6f6e65']},\n",
       "  {'scoreAddress': 'cx66ebc45553e164f2463575ea5bb817022c55f85c',\n",
       "   'indexed': ['Mint(Address,int,bytes)',\n",
       "    'cxcde93b662c846083eb10b9c673fc91614e210a39'],\n",
       "   'data': ['0x6f66e073fb8d951', '0x4e6f6e65']},\n",
       "  {'scoreAddress': 'cx66ebc45553e164f2463575ea5bb817022c55f85c',\n",
       "   'indexed': ['Transfer(Address,Address,int,bytes)',\n",
       "    'hx0000000000000000000000000000000000000000',\n",
       "    'cxcde93b662c846083eb10b9c673fc91614e210a39',\n",
       "    '0x6f66e073fb8d951'],\n",
       "   'data': ['0x4e6f6e65']},\n",
       "  {'scoreAddress': 'cxcde93b662c846083eb10b9c673fc91614e210a39',\n",
       "   'indexed': ['DividendsReceivedV2(int,int,str)', '0x6f66e073fb8d951', '0x1'],\n",
       "   'data': ['501709385911294289 tokens received as dividends token: cx66ebc45553e164f2463575ea5bb817022c55f85c ']},\n",
       "  {'scoreAddress': 'cxbaf88296a1906e456b649e2af2dbb12cef4488ee',\n",
       "   'indexed': ['FeePaid(str,int,str)',\n",
       "    'bnUSD',\n",
       "    '0x6f66e073fb8d951',\n",
       "    'origination'],\n",
       "   'data': []},\n",
       "  {'scoreAddress': 'cx66ebc45553e164f2463575ea5bb817022c55f85c',\n",
       "   'indexed': ['Transfer(Address,Address,int,bytes)',\n",
       "    'cx9927d0858af40d9875a1dbef4c0dab4f5857aea0',\n",
       "    'cxd50baf567cfe3fd52680b4a4464f54e0895271c6',\n",
       "    '0x2b842fad4e434e3e9'],\n",
       "   'data': ['0x7b226d6574686f64223a225f6465706f736974227d']},\n",
       "  {'scoreAddress': 'cxd50baf567cfe3fd52680b4a4464f54e0895271c6',\n",
       "   'indexed': ['Deposit(Address,Address,int)',\n",
       "    'cx66ebc45553e164f2463575ea5bb817022c55f85c',\n",
       "    'cx9927d0858af40d9875a1dbef4c0dab4f5857aea0'],\n",
       "   'data': ['0x2b842fad4e434e3e9']},\n",
       "  {'scoreAddress': 'cx1027c16288194e933a913e806ce1744ba581f9b8',\n",
       "   'indexed': ['Transfer(Address,Address,int,bytes)',\n",
       "    'cx9927d0858af40d9875a1dbef4c0dab4f5857aea0',\n",
       "    'cxd50baf567cfe3fd52680b4a4464f54e0895271c6',\n",
       "    '0x1a055690d9db80000'],\n",
       "   'data': ['0x7b226d6574686f64223a225f6465706f736974227d']},\n",
       "  {'scoreAddress': 'cxd50baf567cfe3fd52680b4a4464f54e0895271c6',\n",
       "   'indexed': ['Deposit(Address,Address,int)',\n",
       "    'cx1027c16288194e933a913e806ce1744ba581f9b8',\n",
       "    'cx9927d0858af40d9875a1dbef4c0dab4f5857aea0'],\n",
       "   'data': ['0x1a055690d9db80000']},\n",
       "  {'scoreAddress': 'cxd50baf567cfe3fd52680b4a4464f54e0895271c6',\n",
       "   'indexed': ['MarketAdded(int,Address,Address,int,int)',\n",
       "    '0x2',\n",
       "    'cx1027c16288194e933a913e806ce1744ba581f9b8',\n",
       "    'cx66ebc45553e164f2463575ea5bb817022c55f85c'],\n",
       "   'data': ['0x1a055690d9db80000', '0x2b842fad4e434e3e9']},\n",
       "  {'scoreAddress': 'cxd50baf567cfe3fd52680b4a4464f54e0895271c6',\n",
       "   'indexed': ['Add(int,Address,int,int,int)',\n",
       "    '0x2',\n",
       "    'cx9927d0858af40d9875a1dbef4c0dab4f5857aea0',\n",
       "    '0x21a67035b5e7ffeaf'],\n",
       "   'data': ['0x1a055690d9db80000', '0x2b842fad4e434e3e9']},\n",
       "  {'scoreAddress': 'cxd50baf567cfe3fd52680b4a4464f54e0895271c6',\n",
       "   'indexed': ['TransferSingle(Address,Address,Address,int,int)',\n",
       "    'cx9927d0858af40d9875a1dbef4c0dab4f5857aea0',\n",
       "    'cxf000000000000000000000000000000000000000',\n",
       "    'cx9927d0858af40d9875a1dbef4c0dab4f5857aea0'],\n",
       "   'data': ['0x2', '0x21a67035b5e7ffeaf']}],\n",
       " 'logsBloom': b'\\x00\\x04\\x10\\x01@\\x00\\x00\\x00\\x82\\x00\\x001\\x01\\x00\\x00\\x00\\x00\\x00\\x00\\x04\\x01\\x00\\x04\\x00\\x01\\x01\\x00\\x00\\x08\\x08\\x00\\x02\\x00\\x00\\x01\\x00\\x08\\x00\\xc0@\\x00\\x08\\x00\\x00\\x00\\x00\\x00\\x90\\x00\\x00a\\x08\\x00\\x01\\x00\\x04 \\x00\\x18\\x00\\x01\\x00\\x00 \\x80\\x12\\x00\\x00\\x00\\x18\\x00\\x00\\x00\\x00\\x00 \\x80\\x04\\x00\\x00\\x00\\x00\\x11\\x00@\\x82\\x00\\x10\\x00\\x04\\x80\\x00\\x00\\x02\\x04B\\x00\\x00\\x08\\x01\\x00\\x00\\x01\\x00\\x00\\x00 \\x85\\x80\\x00`\\x00\\x10\\x00\\x03\\x00\\x02\\x00\\x00\\x04\\x01\\x08\\x00\\x10\\x80 \\x01\\x00\\x00\\x00\\x00\\x00\\x00\\x80\\x00\\x00\\x08\\x10\\x00\\x00\\x80\\x00\\x00\\x00@ \\x90\\x18\\x00\\x04\\x00\\x00\\x00\\x00\\x00  0\\x00  \\x01\\x00\\x00\\x00\\x04\\x08\\x88\\x00\\x00\\x00\\x00\\x00\\x00\\x00\\x04\\x00\\x00\\x00\\x00\\x00\\x00!\\x00\\x10\\x00\\x04\\x00\\x00 \\x10\\x00\\x00 \\t\\x00\\x10\\x04\\xc1\\x00\\x80\\x04&\\x01\\x00\\x00 \\x07\\x00\\x00\\x00\\x00\\x10A`\\x00\\x00\\x00\\x00\\x01\\x10\\x04\\x00\\x00\\x02\\x00H\\x0c0\\x00(\\x00\\x00\\x00\\x80\\x00\\x04\\x00\\x10\\x00\\x00\\x08\\x10 \\x00\\x00\\x00\\x02\\x00\\x02\\x00@\\x00\\x08\\x04\\x00',\n",
       " 'status': 1}"
      ]
     },
     "execution_count": 35,
     "metadata": {},
     "output_type": "execute_result"
    }
   ],
   "source": [
    "# Cell 7c\n",
    "# Set up and fund sICX/bnUSD market\n",
    "\n",
    "send_tx('governance', 210 * ICX, 'createBnusdMarket', {}, btest_wallet)"
   ]
  },
  {
   "cell_type": "markdown",
   "metadata": {},
   "source": [
    "### Set up BALN/bnUSD Market\n",
    "Be sure to drive transactions to update to the next day before calling this."
   ]
  },
  {
   "cell_type": "code",
   "execution_count": null,
   "metadata": {},
   "outputs": [],
   "source": [
    "# Cell 7d\n",
    "# Set up and fund BALN/bnUSD market\n",
    "\n",
    "send_tx('governance', 0, 'createBalnMarket', {'_bnUSD_amount': 20 * ICX, '_baln_amount': ICX}, btest_wallet)"
   ]
  },
  {
   "cell_type": "code",
   "execution_count": null,
   "metadata": {},
   "outputs": [],
   "source": [
    "# Hedge Tests\n",
    "# 2 borrowers, different debt for each borrower\n",
    "# Each borrower supplies liquidity in their proportion of the debt\n",
    "# knock the ratio off by 5 percent, then rebalance"
   ]
  },
  {
   "cell_type": "markdown",
   "metadata": {},
   "source": [
    "## Deploy or Update a single SCORE"
   ]
  },
  {
   "cell_type": "code",
   "execution_count": 18,
   "metadata": {
    "scrolled": true
   },
   "outputs": [
    {
     "name": "stdout",
     "output_type": "stream",
     "text": [
      "core_contracts/oracle.zip\n"
     ]
    },
    {
     "ename": "JSONRPCException",
     "evalue": "{'code': -32602, 'message': \"JSON schema validation error: 'to' has an invalid value\"}",
     "output_type": "error",
     "traceback": [
      "\u001b[0;31m---------------------------------------------------------------------------\u001b[0m",
      "\u001b[0;31mJSONRPCException\u001b[0m                          Traceback (most recent call last)",
      "\u001b[0;32m<ipython-input-18-0565c11fdd55>\u001b[0m in \u001b[0;36m<module>\u001b[0;34m\u001b[0m\n\u001b[1;32m     15\u001b[0m     \u001b[0mconfirm\u001b[0m \u001b[0;34m=\u001b[0m \u001b[0minput\u001b[0m\u001b[0;34m(\u001b[0m\u001b[0;34mf'{\"Updating\" if update else \"Deploying\"} {contract_name} with params: {params} to {network}. Proceed (Yes/No)? '\u001b[0m\u001b[0;34m)\u001b[0m\u001b[0;34m\u001b[0m\u001b[0;34m\u001b[0m\u001b[0m\n\u001b[1;32m     16\u001b[0m \u001b[0;32mif\u001b[0m \u001b[0mconfirm\u001b[0m \u001b[0;34m==\u001b[0m \u001b[0;34m'Yes'\u001b[0m\u001b[0;34m:\u001b[0m\u001b[0;34m\u001b[0m\u001b[0;34m\u001b[0m\u001b[0m\n\u001b[0;32m---> 17\u001b[0;31m     \u001b[0mres\u001b[0m \u001b[0;34m=\u001b[0m \u001b[0mdeploy_SCORE\u001b[0m\u001b[0;34m(\u001b[0m\u001b[0mcontract\u001b[0m\u001b[0;34m,\u001b[0m \u001b[0mparams\u001b[0m\u001b[0;34m,\u001b[0m \u001b[0mbtest_wallet\u001b[0m\u001b[0;34m,\u001b[0m \u001b[0mupdate\u001b[0m\u001b[0;34m)\u001b[0m\u001b[0;34m\u001b[0m\u001b[0;34m\u001b[0m\u001b[0m\n\u001b[0m\u001b[1;32m     18\u001b[0m \u001b[0mprint\u001b[0m\u001b[0;34m(\u001b[0m\u001b[0mres\u001b[0m\u001b[0;34m[\u001b[0m\u001b[0;34m'scoreAddress'\u001b[0m\u001b[0;34m]\u001b[0m\u001b[0;34m)\u001b[0m\u001b[0;34m\u001b[0m\u001b[0;34m\u001b[0m\u001b[0m\n",
      "\u001b[0;32m<ipython-input-10-3fc7315f500d>\u001b[0m in \u001b[0;36mdeploy_SCORE\u001b[0;34m(contract, params, wallet, update)\u001b[0m\n\u001b[1;32m     60\u001b[0m \u001b[0;34m\u001b[0m\u001b[0m\n\u001b[1;32m     61\u001b[0m     \u001b[0msigned_transaction\u001b[0m \u001b[0;34m=\u001b[0m \u001b[0mSignedTransaction\u001b[0m\u001b[0;34m(\u001b[0m\u001b[0mdeploy_transaction\u001b[0m\u001b[0;34m,\u001b[0m \u001b[0mwallet\u001b[0m\u001b[0;34m,\u001b[0m \u001b[0mstep_limit\u001b[0m\u001b[0;34m)\u001b[0m\u001b[0;34m\u001b[0m\u001b[0;34m\u001b[0m\u001b[0m\n\u001b[0;32m---> 62\u001b[0;31m     \u001b[0mtx_hash\u001b[0m \u001b[0;34m=\u001b[0m \u001b[0micon_service\u001b[0m\u001b[0;34m.\u001b[0m\u001b[0msend_transaction\u001b[0m\u001b[0;34m(\u001b[0m\u001b[0msigned_transaction\u001b[0m\u001b[0;34m)\u001b[0m\u001b[0;34m\u001b[0m\u001b[0;34m\u001b[0m\u001b[0m\n\u001b[0m\u001b[1;32m     63\u001b[0m \u001b[0;34m\u001b[0m\u001b[0m\n\u001b[1;32m     64\u001b[0m     \u001b[0mres\u001b[0m \u001b[0;34m=\u001b[0m \u001b[0mget_tx_result\u001b[0m\u001b[0;34m(\u001b[0m\u001b[0mtx_hash\u001b[0m\u001b[0;34m)\u001b[0m\u001b[0;34m\u001b[0m\u001b[0;34m\u001b[0m\u001b[0m\n",
      "\u001b[0;32m~/virtualenvs/dev/lib/python3.8/site-packages/iconsdk/icon_service.py\u001b[0m in \u001b[0;36msend_transaction\u001b[0;34m(self, signed_transaction, full_response)\u001b[0m\n\u001b[1;32m    247\u001b[0m         \"\"\"\n\u001b[1;32m    248\u001b[0m         \u001b[0mparams\u001b[0m \u001b[0;34m=\u001b[0m \u001b[0msigned_transaction\u001b[0m\u001b[0;34m.\u001b[0m\u001b[0msigned_transaction_dict\u001b[0m\u001b[0;34m\u001b[0m\u001b[0;34m\u001b[0m\u001b[0m\n\u001b[0;32m--> 249\u001b[0;31m         \u001b[0;32mreturn\u001b[0m \u001b[0mself\u001b[0m\u001b[0;34m.\u001b[0m\u001b[0m__provider\u001b[0m\u001b[0;34m.\u001b[0m\u001b[0mmake_request\u001b[0m\u001b[0;34m(\u001b[0m\u001b[0;34m'icx_sendTransaction'\u001b[0m\u001b[0;34m,\u001b[0m \u001b[0mparams\u001b[0m\u001b[0;34m,\u001b[0m \u001b[0mfull_response\u001b[0m\u001b[0;34m)\u001b[0m\u001b[0;34m\u001b[0m\u001b[0;34m\u001b[0m\u001b[0m\n\u001b[0m\u001b[1;32m    250\u001b[0m \u001b[0;34m\u001b[0m\u001b[0m\n\u001b[1;32m    251\u001b[0m     \u001b[0;32mdef\u001b[0m \u001b[0mestimate_step\u001b[0m\u001b[0;34m(\u001b[0m\u001b[0mself\u001b[0m\u001b[0;34m,\u001b[0m \u001b[0mtransaction\u001b[0m\u001b[0;34m:\u001b[0m \u001b[0mTransaction\u001b[0m\u001b[0;34m,\u001b[0m \u001b[0mfull_response\u001b[0m\u001b[0;34m:\u001b[0m \u001b[0mbool\u001b[0m \u001b[0;34m=\u001b[0m \u001b[0;32mFalse\u001b[0m\u001b[0;34m)\u001b[0m \u001b[0;34m->\u001b[0m \u001b[0mint\u001b[0m\u001b[0;34m:\u001b[0m\u001b[0;34m\u001b[0m\u001b[0;34m\u001b[0m\u001b[0m\n",
      "\u001b[0;32m~/virtualenvs/dev/lib/python3.8/site-packages/iconsdk/providers/http_provider.py\u001b[0m in \u001b[0;36mmake_request\u001b[0;34m(self, method, params, full_response)\u001b[0m\n\u001b[1;32m    116\u001b[0m             \u001b[0mresponse\u001b[0m \u001b[0;34m=\u001b[0m \u001b[0mself\u001b[0m\u001b[0;34m.\u001b[0m\u001b[0m_make_post_request\u001b[0m\u001b[0;34m(\u001b[0m\u001b[0mrequest_url\u001b[0m\u001b[0;34m,\u001b[0m \u001b[0mrpc_dict\u001b[0m\u001b[0;34m,\u001b[0m \u001b[0;34m**\u001b[0m\u001b[0mself\u001b[0m\u001b[0;34m.\u001b[0m\u001b[0m_get_request_kwargs\u001b[0m\u001b[0;34m(\u001b[0m\u001b[0;34m)\u001b[0m\u001b[0;34m)\u001b[0m\u001b[0;34m\u001b[0m\u001b[0;34m\u001b[0m\u001b[0m\n\u001b[1;32m    117\u001b[0m             \u001b[0;32mtry\u001b[0m\u001b[0;34m:\u001b[0m\u001b[0;34m\u001b[0m\u001b[0;34m\u001b[0m\u001b[0m\n\u001b[0;32m--> 118\u001b[0;31m                 \u001b[0;32mreturn\u001b[0m \u001b[0mself\u001b[0m\u001b[0;34m.\u001b[0m\u001b[0m_return_custom_response\u001b[0m\u001b[0;34m(\u001b[0m\u001b[0mresponse\u001b[0m\u001b[0;34m,\u001b[0m \u001b[0mfull_response\u001b[0m\u001b[0;34m)\u001b[0m\u001b[0;34m\u001b[0m\u001b[0;34m\u001b[0m\u001b[0m\n\u001b[0m\u001b[1;32m    119\u001b[0m             \u001b[0;32mexcept\u001b[0m \u001b[0mJSONDecodeError\u001b[0m\u001b[0;34m:\u001b[0m\u001b[0;34m\u001b[0m\u001b[0;34m\u001b[0m\u001b[0m\n\u001b[1;32m    120\u001b[0m                 \u001b[0mretry_count\u001b[0m \u001b[0;34m-=\u001b[0m \u001b[0;36m1\u001b[0m\u001b[0;34m\u001b[0m\u001b[0;34m\u001b[0m\u001b[0m\n",
      "\u001b[0;32m~/virtualenvs/dev/lib/python3.8/site-packages/iconsdk/providers/http_provider.py\u001b[0m in \u001b[0;36m_return_custom_response\u001b[0;34m(response, full_response)\u001b[0m\n\u001b[1;32m    134\u001b[0m         \u001b[0;32mif\u001b[0m \u001b[0mresponse\u001b[0m\u001b[0;34m.\u001b[0m\u001b[0mok\u001b[0m\u001b[0;34m:\u001b[0m\u001b[0;34m\u001b[0m\u001b[0;34m\u001b[0m\u001b[0m\n\u001b[1;32m    135\u001b[0m             \u001b[0;32mreturn\u001b[0m \u001b[0mcontent\u001b[0m\u001b[0;34m[\u001b[0m\u001b[0;34m'result'\u001b[0m\u001b[0;34m]\u001b[0m\u001b[0;34m\u001b[0m\u001b[0;34m\u001b[0m\u001b[0m\n\u001b[0;32m--> 136\u001b[0;31m         \u001b[0;32mraise\u001b[0m \u001b[0mJSONRPCException\u001b[0m\u001b[0;34m(\u001b[0m\u001b[0mcontent\u001b[0m\u001b[0;34m[\u001b[0m\u001b[0;34m\"error\"\u001b[0m\u001b[0;34m]\u001b[0m\u001b[0;34m)\u001b[0m\u001b[0;34m\u001b[0m\u001b[0;34m\u001b[0m\u001b[0m\n\u001b[0m",
      "\u001b[0;31mJSONRPCException\u001b[0m: {'code': -32602, 'message': \"JSON schema validation error: 'to' has an invalid value\"}"
     ]
    }
   ],
   "source": [
    "# Cell 8\n",
    "# Deploy or Update a single SCORE\n",
    "\n",
    "contract_name = 'oracle'\n",
    "update = 1\n",
    "params = {}\n",
    "if update == 0 and contract_name != 'governance' and contract_name != 'oracle':\n",
    "    params = {'_governance': contracts['governance']['SCORE']}\n",
    "\n",
    "compress()\n",
    "contract = contracts[contract_name]\n",
    "if network == 'custom':\n",
    "    confirm = 'Yes'\n",
    "else:\n",
    "    confirm = input(f'{\"Updating\" if update else \"Deploying\"} {contract_name} with params: {params} to {network}. Proceed (Yes/No)? ')\n",
    "if confirm == 'Yes':\n",
    "    res = deploy_SCORE(contract, params, btest_wallet, update)\n",
    "print(res['scoreAddress'])"
   ]
  },
  {
   "cell_type": "code",
   "execution_count": null,
   "metadata": {},
   "outputs": [],
   "source": [
    "# Update all\n",
    "\n",
    "compress()\n",
    "for contract in contracts:\n",
    "    deploy_SCORE(contract, {}, btest_wallet, 1)"
   ]
  },
  {
   "cell_type": "code",
   "execution_count": 14,
   "metadata": {},
   "outputs": [
    {
     "name": "stdout",
     "output_type": "stream",
     "text": [
      "\n"
     ]
    }
   ],
   "source": [
    "print(contracts['oracle']['SCORE'])"
   ]
  },
  {
   "cell_type": "markdown",
   "metadata": {},
   "source": [
    "## Test of Typical Flow"
   ]
  },
  {
   "cell_type": "code",
   "execution_count": null,
   "metadata": {},
   "outputs": [],
   "source": [
    "# Cell 9\n",
    "# 1. staking.stakeICX() - Get 800 ICX worth of sICX from Staking\n",
    "# 2. loans.depositAndBorrow() - Deposit 800 ICX and Mint 50 bnUSD Loan\n",
    "# 3. loans.depositAndBorrow() - Just deposit 30 ICX collateral\n",
    "# 4. loans.depositAndBorrow() - Originate Loan of 10 bnUSD\n",
    "# 5. loans.returnAsset() - Repay 5 bnUSD\n",
    "# 6. loans.withdrawCollateral() - Withdraw 25 sICX Collateral\n",
    "# 7. depositAndBorrow() via sICX.transfer() - Add 200 sICX collateral directly\n",
    "# Print results1 if there are any failures.\n",
    "\n",
    "txns = [{'contract': 'staking', 'value': 800*ICX, 'method': 'stakeICX', 'params': {}},\n",
    "        {'contract': 'loans', 'value': 800*ICX, 'method': 'depositAndBorrow', 'params': {'_asset': 'bnUSD', '_amount': 50 * ICX}},\n",
    "        {'contract': 'loans', 'value': 30*ICX, 'method': 'depositAndBorrow', 'params': {'_asset': '', '_amount': 0}},\n",
    "        {'contract': 'loans', 'value': 0, 'method': 'depositAndBorrow', 'params': {'_asset': 'bnUSD', '_amount': 10 * ICX}},\n",
    "        {'contract': 'loans', 'value': 0, 'method': 'returnAsset', 'params': {'_symbol': 'bnUSD', '_value': 5 * ICX}},\n",
    "        {'contract': 'loans', 'value': 0, 'method': 'withdrawCollateral', 'params': {'_value': 25 * ICX}},\n",
    "        {'contract': 'sicx', 'value': 0, 'method': 'transfer', 'params': {'_to': contracts['loans']['SCORE'], '_value': 200 * ICX, '_data': json.dumps({\"_asset\": \"\", \"_amount\": 0}).encode()}}]\n",
    "\n",
    "results1 = {}\n",
    "for tx in txns:\n",
    "    res = send_tx(tx[\"contract\"], tx[\"value\"], tx[\"method\"], tx[\"params\"], wallet)\n",
    "    results1[f'{tx[\"contract\"]}|{tx[\"method\"]}|{tx[\"params\"]}'] = res"
   ]
  },
  {
   "cell_type": "markdown",
   "metadata": {},
   "source": [
    "### Add new assets"
   ]
  },
  {
   "cell_type": "code",
   "execution_count": null,
   "metadata": {},
   "outputs": [],
   "source": [
    "# Not totally working yet since the Oracle needs to be set through the governance SCORE.\n",
    "# send_tx('governance', 0, 'addAsset', {'_token_address': contracts['bnDOGE']['SCORE'], '_active': True, '_collateral': False}, btest_wallet)\n",
    "# send_tx('governance', 0, 'addAsset', {'_token_address': contracts['bnXLM']['SCORE'], '_active': True, '_collateral': False}, btest_wallet)\n",
    "# send_tx('bnDOGE', 0, 'setOracle', {'_address': contracts['oracle']['SCORE']}, btest_wallet)\n",
    "# send_tx('bnXLM', 0, 'setOracle', {'_address': contracts['oracle']['SCORE']}, btest_wallet)\n"
   ]
  },
  {
   "cell_type": "markdown",
   "metadata": {},
   "source": [
    "### Test Liquidation"
   ]
  },
  {
   "cell_type": "code",
   "execution_count": null,
   "metadata": {
    "scrolled": false
   },
   "outputs": [],
   "source": [
    "# Cell 10\n",
    "# 1. Deposit collateral to fresh wallet\n",
    "# 2. Check the account standing after depositing collateral - Should be 'No Debt', and\n",
    "#    holding '0x2a6f1a22364bbe8000' worth of sICX.\n",
    "# 3a. Mints 200 bnUSD to the test address without checking collateralization ratio\n",
    "#     With the above collateral deposit it will put the position in a standing of Liquidation.\n",
    "# 4. Check the new standing of the account. Should have added '0xad78ebc5ac6200000' bnUSD and have standing of 'Liquidate'.\n",
    "# Test methods have been removed.\n",
    "\n",
    "# send_tx('loans', 0, 'toggleTestMode', {}, btest_wallet)\n",
    "# send_tx('loans', 170 * ICX, 'depositAndBorrow', {'_asset': '', '_amount': 0}, btest_wallet)\n",
    "# call_tx('loans', 'getAccountPositions', {'_owner': btest_wallet.get_address()})\n",
    "# send_tx('loans', 0, 'create_test_position', {'_address': btest_wallet.get_address(), '_asset': 'bnUSD', '_amount': 200 * ICX}, btest_wallet)\n",
    "# call_tx('loans', 'getAccountPositions', {'_owner': btest_wallet.get_address()})\n",
    "# send_tx('loans', 0, 'toggleTestMode', {}, btest_wallet)\n"
   ]
  },
  {
   "cell_type": "code",
   "execution_count": null,
   "metadata": {},
   "outputs": [],
   "source": [
    "# Cell 11\n",
    "# 4a. If the account does not yet have a standing of 'Liquidate' add another loan of '0xad78ebc5ac6200000'.\n",
    "# Test methods have been removed.\n",
    "\n",
    "# send_tx('loans', 0, 'toggleTestMode', {}, btest_wallet)\n",
    "# send_tx('loans', 1, 'create_test_position', {'_address': btest_wallet.get_address(), '_asset': 'bnUSD', '_amount': 200 * ICX}, btest_wallet)\n",
    "# send_tx('loans', 0, 'toggleTestMode', {}, btest_wallet)\n",
    "# call_tx('loans', 'checkDeadMarkets', {})\n",
    "# print(call_tx('loans', 'getAccountPositions', {'_owner': btest_wallet.get_address()}))\n"
   ]
  },
  {
   "cell_type": "code",
   "execution_count": null,
   "metadata": {},
   "outputs": [],
   "source": [
    "# Cell 12\n",
    "# 5. Check the account standing after depositing collateral - Should be 'No Debt'.\n",
    "# 6. Liquidate the account position.\n",
    "# 7. Check the standing of the account after liquidation. Should now have zero balance for sICX and bnUSD.\n",
    "# 8. Checking the debts should show the sum of the borrower debt and the bad debt equals the total supply.\n",
    "\n",
    "call_tx('loans', 'getAccountPositions', {'_owner': btest_wallet.get_address()})\n",
    "send_tx('loans', 0, 'liquidate', {'_owner': btest_wallet.get_address()}, btest_wallet)\n",
    "call_tx('loans', 'getAccountPositions', {'_owner': btest_wallet.get_address()})\n"
   ]
  },
  {
   "cell_type": "markdown",
   "metadata": {},
   "source": [
    "## Retire some debt to get bnUSD out of Dead Market state"
   ]
  },
  {
   "cell_type": "code",
   "execution_count": 83,
   "metadata": {},
   "outputs": [
    {
     "name": "stdout",
     "output_type": "stream",
     "text": [
      "------------------------------------------------------------------------------------------------------------------\n",
      "Reading getMaxSellAmount, with parameters {} on the loans contract.\n",
      "------------------------------------------------------------------------------------------------------------------\n",
      "{'sICX': '0x0', 'bnUSD': '0x0'}\n",
      "------------------------------------------------------------------------------------------------------------------\n",
      "Reading getAvailableAssets, with parameters {} on the loans contract.\n",
      "------------------------------------------------------------------------------------------------------------------\n",
      "{'bnUSD': {'symbol': 'bnUSD', 'address': 'cxdc12ea63afd40927bec3fdf5b45cff88b4a729bb', 'peg': 'USD', 'added': '0x5cea0f0c3b2e4', 'is_collateral': '0x0', 'active': '0x1', 'borrowers': '0x2', 'total_supply': '0x106cf83ea31f5c0000', 'total_burned': '0x0', 'bad_debt': '0x0', 'liquidation_pool': '0x0', 'dead_market': '0x0'}}\n",
      "------------------------------------------------------------------------------------------------------------------\n",
      "Calling returnAsset, with parameters {'_symbol': 'bnUSD', '_value': 200000000000000000000} on the loans contract.\n",
      "------------------------------------------------------------------------------------------------------------------\n",
      "Retrying in 1 seconds...\n",
      "************************************************** Status: 0 **************************************************\n",
      "Failure: {'code': 32, 'message': 'BalancedLoans: Insufficient balance.'}\n",
      "------------------------------------------------------------------------------------------------------------------\n",
      "Reading getAvailableAssets, with parameters {} on the loans contract.\n",
      "------------------------------------------------------------------------------------------------------------------\n",
      "{'bnUSD': {'symbol': 'bnUSD', 'address': 'cxdc12ea63afd40927bec3fdf5b45cff88b4a729bb', 'peg': 'USD', 'added': '0x5cea0f0c3b2e4', 'is_collateral': '0x0', 'active': '0x1', 'borrowers': '0x2', 'total_supply': '0x106cf83ea31f5c0000', 'total_burned': '0x0', 'bad_debt': '0x0', 'liquidation_pool': '0x0', 'dead_market': '0x0'}}\n"
     ]
    },
    {
     "data": {
      "text/plain": [
       "{'bnUSD': {'symbol': 'bnUSD',\n",
       "  'address': 'cxdc12ea63afd40927bec3fdf5b45cff88b4a729bb',\n",
       "  'peg': 'USD',\n",
       "  'added': '0x5cea0f0c3b2e4',\n",
       "  'is_collateral': '0x0',\n",
       "  'active': '0x1',\n",
       "  'borrowers': '0x2',\n",
       "  'total_supply': '0x106cf83ea31f5c0000',\n",
       "  'total_burned': '0x0',\n",
       "  'bad_debt': '0x0',\n",
       "  'liquidation_pool': '0x0',\n",
       "  'dead_market': '0x0'}}"
      ]
     },
     "execution_count": 83,
     "metadata": {},
     "output_type": "execute_result"
    }
   ],
   "source": [
    "# Cell 13\n",
    "# 1. Check that there is a Dead Market\n",
    "# 2. Check the bad debt, liquidation pool and dead_market state of the asset.\n",
    "# 3. Retire enough of the bad debt to get the asset out of the dead_market state.\n",
    "# 4. Again, check the bad debt, liquidation pool and dead_market state of the asset.\n",
    "\n",
    "call_tx('loans', 'getMaxSellAmount', {})\n",
    "call_tx('loans', 'getAvailableAssets', {})\n",
    "send_tx('loans', 0, 'returnAsset', {'_symbol': 'bnUSD', '_value': 200 * ICX}, btest_wallet)\n",
    "call_tx('loans', 'getAvailableAssets', {})\n"
   ]
  },
  {
   "cell_type": "markdown",
   "metadata": {},
   "source": [
    "## Define a Vote"
   ]
  },
  {
   "cell_type": "code",
   "execution_count": null,
   "metadata": {},
   "outputs": [],
   "source": [
    "send_tx('governance', 0, 'defineVote', {'name': 'Enable Divs', 'quorum': 20, 'vote_start': 40, 'duration': 5, 'snapshot': 40, 'actions': '\"enable_dividends\": {\"_status\": True}'}, btest_wallet)"
   ]
  },
  {
   "cell_type": "code",
   "execution_count": null,
   "metadata": {},
   "outputs": [],
   "source": [
    "call_tx('governance', 'checkVote', {'_vote_index': 1})"
   ]
  },
  {
   "cell_type": "code",
   "execution_count": null,
   "metadata": {},
   "outputs": [],
   "source": [
    "description = \"Add bnBTC as an asset.\"\n",
    "send_tx('governance', 0, 'defineVote', {'name': 'Add bnBTC', 'description': description, 'quorum': 20, 'vote_start': 84, 'duration': 5, 'snapshot': 83, 'actions': '{\"add_asset\": {\"_symbol\": \"bnBTC\"}}'}, btest_wallet)"
   ]
  },
  {
   "cell_type": "code",
   "execution_count": null,
   "metadata": {},
   "outputs": [],
   "source": [
    "send_tx('governance', 0, 'activateVote', {'name': 'Add bnBTC'}, btest_wallet)"
   ]
  },
  {
   "cell_type": "code",
   "execution_count": null,
   "metadata": {},
   "outputs": [],
   "source": [
    "call_tx('governance', 'checkVote', {'_vote_index': 2})"
   ]
  },
  {
   "cell_type": "code",
   "execution_count": null,
   "metadata": {},
   "outputs": [],
   "source": [
    "call_tx('governance', 'checkVote', {'_vote_index': 3})"
   ]
  },
  {
   "cell_type": "code",
   "execution_count": null,
   "metadata": {},
   "outputs": [],
   "source": [
    "description = 'When you borrow Balanced Dollars, you pay a 1% origination fee. The implied annual interest rate (1%) is still only half that of other platforms. A small increase to 1.15% will create more income for Balanced and BALN holders, while limiting the inconvenience to borrowers.'\n",
    "send_tx('governance', 0, 'defineVote', {'name': 'BIP3: Increase origination fee to 1.15%', 'description': description, 'quorum': 20, 'vote_start': 110, 'duration': 5, 'snapshot': 109, 'actions': '{\"update_origination_fee\": {\"_fee\": 115}}'}, btest_wallet)"
   ]
  },
  {
   "cell_type": "markdown",
   "metadata": {},
   "source": [
    "### Cancel a vote"
   ]
  },
  {
   "cell_type": "code",
   "execution_count": null,
   "metadata": {},
   "outputs": [],
   "source": [
    "send_tx('governance', 0, 'setAddressesOnContract', {'_contract': 'router'}, btest_wallet)"
   ]
  },
  {
   "cell_type": "code",
   "execution_count": null,
   "metadata": {},
   "outputs": [],
   "source": []
  },
  {
   "cell_type": "markdown",
   "metadata": {},
   "source": [
    "### Check balanceOfAt method"
   ]
  },
  {
   "cell_type": "code",
   "execution_count": null,
   "metadata": {},
   "outputs": [],
   "source": [
    "call_tx(\"router\", \"getDex\", {})"
   ]
  },
  {
   "cell_type": "code",
   "execution_count": null,
   "metadata": {},
   "outputs": [],
   "source": []
  },
  {
   "cell_type": "markdown",
   "metadata": {},
   "source": [
    "### Unstake some sICX"
   ]
  },
  {
   "cell_type": "code",
   "execution_count": null,
   "metadata": {},
   "outputs": [],
   "source": [
    "send_tx('sicx', 0, 'transfer', {'_to': contracts['staking']['SCORE'], '_value': 50 * ICX, '_data': json.dumps({\"method\": \"unstake\", \"params\": {}}).encode()}, btest_wallet)"
   ]
  },
  {
   "cell_type": "markdown",
   "metadata": {},
   "source": [
    "### Testing BALW distributions and Transfers"
   ]
  },
  {
   "cell_type": "code",
   "execution_count": null,
   "metadata": {},
   "outputs": [],
   "source": [
    "for i in range(5):\n",
    "    print(wallets[i].get_address())"
   ]
  },
  {
   "cell_type": "code",
   "execution_count": null,
   "metadata": {},
   "outputs": [],
   "source": [
    "for i in range(5):\n",
    "    send_tx('bwt', 0, 'transfer', {'_to': wallets[i].get_address(), '_value': 20000000}, btest_wallet)"
   ]
  },
  {
   "cell_type": "code",
   "execution_count": null,
   "metadata": {},
   "outputs": [],
   "source": [
    "send_tx('bwt', 0, 'distribute', {}, btest_wallet)"
   ]
  },
  {
   "cell_type": "code",
   "execution_count": null,
   "metadata": {},
   "outputs": [],
   "source": [
    "btest_wallet.get_address()"
   ]
  },
  {
   "cell_type": "markdown",
   "metadata": {},
   "source": [
    "## Set redemption fee"
   ]
  },
  {
   "cell_type": "code",
   "execution_count": null,
   "metadata": {},
   "outputs": [],
   "source": [
    "send_tx('governance', 0, 'setRedeemBatchSize', {'_value': 10}, btest_wallet)"
   ]
  },
  {
   "cell_type": "markdown",
   "metadata": {},
   "source": [
    "## Tests with multiple wallets and redemptions"
   ]
  },
  {
   "cell_type": "code",
   "execution_count": null,
   "metadata": {},
   "outputs": [],
   "source": [
    "# Create a set of wallets\n",
    "\n",
    "# wallets = []\n",
    "# for i in range(200):\n",
    "#     wallets.append(KeyWallet.create())\n",
    "# with open(\"../wallets.pkl\", 'wb') as f:\n",
    "#     pkl.dump(wallets, f)"
   ]
  },
  {
   "cell_type": "code",
   "execution_count": null,
   "metadata": {},
   "outputs": [],
   "source": [
    "with open(\"../wallets.pkl\", 'rb') as f:\n",
    "    wallets = pkl.load(f)"
   ]
  },
  {
   "cell_type": "code",
   "execution_count": null,
   "metadata": {},
   "outputs": [],
   "source": [
    "for i in range(20):\n",
    "    print(f'{wallets[i].get_address()}')"
   ]
  },
  {
   "cell_type": "code",
   "execution_count": null,
   "metadata": {},
   "outputs": [],
   "source": [
    "for i in range(120, 200):\n",
    "    send_icx(wallets[i].get_address(), 2000 * ICX, btest_wallet)"
   ]
  },
  {
   "cell_type": "code",
   "execution_count": null,
   "metadata": {},
   "outputs": [],
   "source": [
    "for i in range(200):\n",
    "    print(f'{i:3d}: {wallets[i].get_address()}: {icon_service.get_balance(wallets[i].get_address()) / 10**18: 9.3f}')"
   ]
  },
  {
   "cell_type": "code",
   "execution_count": null,
   "metadata": {},
   "outputs": [],
   "source": [
    "for i in range(20):\n",
    "    print(int(call_tx(\"bnUSD\", \"balanceOf\", {\"_owner\": wallets[i].get_address()}), 0) / 10**18)"
   ]
  },
  {
   "cell_type": "code",
   "execution_count": null,
   "metadata": {},
   "outputs": [],
   "source": [
    "# 10000 ICX into each wallet. Uncomment if needed. These wallets are already more than well stocked enough on the tbears server.\n",
    "\n",
    "# for i in range(20):\n",
    "#     transaction = TransactionBuilder()\\\n",
    "#         .from_(wallet.get_address())\\\n",
    "#         .to(wallets[i].get_address())\\\n",
    "#         .value(10 * ICX)\\\n",
    "#         .step_limit(1000000) \\\n",
    "#         .nid(NID) \\\n",
    "#         .nonce(2) \\\n",
    "#         .version(3) \\\n",
    "#         .build()\n",
    "#     signed_transaction = SignedTransaction(transaction, wallet)\n",
    "#     tx_hash = icon_service.send_transaction(signed_transaction)\n",
    "# tx_hash"
   ]
  },
  {
   "cell_type": "code",
   "execution_count": null,
   "metadata": {},
   "outputs": [],
   "source": [
    "# Mint some bnUSD to first 70 wallets.\n",
    "\n",
    "for i in range(60, 100):\n",
    "    res = send_tx('loans', 500 * ICX, 'depositAndBorrow', {'_asset': 'bnUSD', '_amount': 100 * ICX}, wallets[i])"
   ]
  },
  {
   "cell_type": "code",
   "execution_count": null,
   "metadata": {},
   "outputs": [],
   "source": [
    "send_tx('bnUSD', 0, 'transfer', {'_to': wallet.get_address(), '_value': 50 * ICX}, wallets[19])\n",
    "send_tx('loans', 0, 'returnAsset', {'_symbol': 'bnUSD', '_value': 65 * ICX}, wallet)"
   ]
  },
  {
   "cell_type": "code",
   "execution_count": null,
   "metadata": {},
   "outputs": [],
   "source": [
    "send_tx('loans', 0, 'returnAsset', {'_symbol': 'bnUSD', '_value': 50 * ICX}, wallet)"
   ]
  },
  {
   "cell_type": "code",
   "execution_count": null,
   "metadata": {},
   "outputs": [],
   "source": [
    "# Pay off debt in full.\n",
    "\n",
    "for i in range(5, 10):\n",
    "    params = {'_to': wallets[i+10].get_address(), '_value': 50 * ICX}\n",
    "    res = send_tx('bnUSD', 0, 'transfer', params, wallets[i])\n",
    "    sleep(2)\n",
    "    res = send_tx('loans', 0, 'returnAsset', {'_symbol': 'bnUSD', '_value': 110 * ICX}, wallets[i+10])\n",
    "    sleep(1)"
   ]
  },
  {
   "cell_type": "code",
   "execution_count": null,
   "metadata": {},
   "outputs": [],
   "source": [
    "# Drive rewards distributions\n",
    "\n",
    "for i in range(200):\n",
    "    fast_send_tx('rewards', 0, 'distribute', {}, btest_wallet)\n",
    "    sleep(.4)\n"
   ]
  },
  {
   "cell_type": "code",
   "execution_count": null,
   "metadata": {},
   "outputs": [],
   "source": [
    "res = send_tx('loans', 500 * ICX, 'depositAndBorrow', {'_asset': 'bnUSD', '_amount': 100 * ICX}, wallets[90])"
   ]
  },
  {
   "cell_type": "code",
   "execution_count": null,
   "metadata": {},
   "outputs": [],
   "source": [
    "for i in range(15, 20):\n",
    "    res = send_tx('loans', 0, 'returnAsset', {'_symbol': 'bnUSD', '_value': 15 * ICX}, wallets[i+100])\n",
    "    sleep(1)"
   ]
  },
  {
   "cell_type": "code",
   "execution_count": null,
   "metadata": {
    "scrolled": false
   },
   "outputs": [],
   "source": [
    "# redeem 10 bnUSD from each of 20 wallets that do not have positions on Balanced. This will use up all\n",
    "# of the liquidation pool and require some replay events to be recorded.\n",
    "\n",
    "for i in range(60, 80):\n",
    "    params = {'_to': wallets[i+100].get_address(), '_value': 20 * ICX}\n",
    "    res = send_tx('bnUSD', 0, 'transfer', params, wallets[i])\n",
    "    sleep(2)\n",
    "    res = send_tx('loans', 0, 'returnAsset', {'_symbol': 'bnUSD', '_value': 15 * ICX}, wallets[i+100])\n",
    "    sleep(1)"
   ]
  },
  {
   "cell_type": "code",
   "execution_count": null,
   "metadata": {},
   "outputs": [],
   "source": [
    "for _ in range(10):\n",
    "    send_tx('loans', 0, 'depositAndBorrow', {'_asset': '', '_amount': 0}, btest_wallet)\n",
    "    sleep(1)"
   ]
  },
  {
   "cell_type": "markdown",
   "metadata": {},
   "source": [
    "### Add a new asset"
   ]
  },
  {
   "cell_type": "code",
   "execution_count": null,
   "metadata": {},
   "outputs": [],
   "source": [
    "send_tx('governance', 0, 'addAsset', {'_token_address': contracts['bnXLM']['SCORE'], '_active': True, '_collateral': False}, btest_wallet)"
   ]
  },
  {
   "cell_type": "code",
   "execution_count": null,
   "metadata": {},
   "outputs": [],
   "source": [
    "send_tx('governance', 0, 'setAssetOracle', {'_symbol': 'bnXLM', '_address': contracts['oracle']['SCORE']}, btest_wallet)"
   ]
  },
  {
   "cell_type": "code",
   "execution_count": null,
   "metadata": {},
   "outputs": [],
   "source": [
    "# Mint some bnXLM to some wallets.\n",
    "\n",
    "for i in range(10, 30):\n",
    "    res = send_tx('loans', 500 * ICX, 'depositAndBorrow', {'_asset': 'bnXLM', '_amount': 300 * ICX}, wallets[i])\n"
   ]
  },
  {
   "cell_type": "code",
   "execution_count": null,
   "metadata": {},
   "outputs": [],
   "source": [
    "params = {'_holders': [wallet.get_address(), btest_wallet.get_address()]}\n",
    "call = CallBuilder().from_(wallet.get_address())\\\n",
    "                    .to(contracts['rewards']['SCORE'])\\\n",
    "                    .method(\"getBalnHoldings\")\\\n",
    "                    .params(params)\\\n",
    "                    .build()\n",
    "result = icon_service.call(call)\n",
    "i = 0\n",
    "{i: [key, result[key]] for i, key in enumerate(result.keys())}"
   ]
  },
  {
   "cell_type": "code",
   "execution_count": null,
   "metadata": {},
   "outputs": [],
   "source": [
    "# Check BALN that has been distributed on the rewards SCORE, and to platform contract addresses.\n",
    "\n",
    "borrowerCount = int(call_tx('loans', 'borrowerCount', {}, False), 0)\n",
    "\n",
    "addresses = []\n",
    "for i in range(1, borrowerCount + 1):\n",
    "    position = call_tx('loans', 'getPositionByIndex', {'_index': i, '_day': -1}, False)\n",
    "    addresses.append(position['address'])\n",
    "\n",
    "holders = call_tx('rewards', 'getBalnHoldings', {'_holders': addresses}, False)\n",
    "\n",
    "total_balances = 0\n",
    "baln_balances = {}\n",
    "for contract in ['rewards', 'reserve', 'bwt', 'dex', 'daofund']:\n",
    "    result = int(call_tx('baln', 'balanceOf', {'_owner': contracts[contract]['SCORE']}, False), 0)\n",
    "    baln_balances[contract] = result / 10**18\n",
    "    total_balances += result\n",
    "\n",
    "i = 0\n",
    "holdings = {i: [key, int(holders[key], 0), int(holders[key], 0) / 10**18] for i, key in enumerate(holders.keys())}\n",
    "total = 0\n",
    "for key in holdings:\n",
    "    total += holdings[key][1]\n",
    "    print(f'{holdings[key]}')\n",
    "\n",
    "print(f'Total unclaimed: {total / 10**18}')\n",
    "print(baln_balances)\n",
    "print(f'Total BALN: {total_balances / 10**18}')"
   ]
  },
  {
   "cell_type": "code",
   "execution_count": null,
   "metadata": {},
   "outputs": [],
   "source": [
    "params = {}\n",
    "transaction = CallTransactionBuilder()\\\n",
    "    .from_(btest_wallet.get_address())\\\n",
    "    .to(contracts['rewards']['SCORE'])\\\n",
    "    .value(0)\\\n",
    "    .step_limit(10000000)\\\n",
    "    .nid(NID)\\\n",
    "    .nonce(100)\\\n",
    "    .method(\"claimRewards\")\\\n",
    "    .params(params)\\\n",
    "    .build()\n",
    "signed_transaction = SignedTransaction(transaction, btest_wallet)\n",
    "tx_hash = icon_service.send_transaction(signed_transaction)\n",
    "sleep(2)\n",
    "\n",
    "print(i)\n",
    "res = get_tx_result(tx_hash)\n",
    "print(f'Status: {res[\"status\"]}')\n",
    "if len(res[\"eventLogs\"]) > 0:\n",
    "    for item in res[\"eventLogs\"]:\n",
    "        print(f'{item} \\n')\n",
    "if res['status'] == 0:\n",
    "    print(f'Failure: {res[\"failure\"]}')"
   ]
  },
  {
   "cell_type": "code",
   "execution_count": null,
   "metadata": {},
   "outputs": [],
   "source": [
    "for i in range(0, 70):\n",
    "    params = {}\n",
    "    transaction = CallTransactionBuilder()\\\n",
    "        .from_(wallets[i].get_address())\\\n",
    "        .to(contracts['rewards']['SCORE'])\\\n",
    "        .value(0)\\\n",
    "        .step_limit(10000000)\\\n",
    "        .nid(NID)\\\n",
    "        .nonce(100)\\\n",
    "        .method(\"claimRewards\")\\\n",
    "        .params(params)\\\n",
    "        .build()\n",
    "    signed_transaction = SignedTransaction(transaction, wallets[i])\n",
    "    tx_hash = icon_service.send_transaction(signed_transaction)\n",
    "    sleep(2)\n",
    "\n",
    "    print(i)\n",
    "    res = get_tx_result(tx_hash)\n",
    "    print(f'Status: {res[\"status\"]}')\n",
    "    if len(res[\"eventLogs\"]) > 0:\n",
    "        for item in res[\"eventLogs\"]:\n",
    "            print(f'{item} \\n')\n",
    "    if res['status'] == 0:\n",
    "        print(f'Failure: {res[\"failure\"]}')"
   ]
  },
  {
   "cell_type": "code",
   "execution_count": null,
   "metadata": {},
   "outputs": [],
   "source": [
    "params = {'_name': 'BALN/bnUSD', '_snapshot_id': 1, '_limit': 10, '_offset': 0}\n",
    "call = CallBuilder().from_(wallet.get_address())\\\n",
    "                    .to(contracts['loans']['SCORE'])\\\n",
    "                    .method(\"getDataBatch\")\\\n",
    "                    .params(params)\\\n",
    "                    .build()\n",
    "result = icon_service.call(call)\n",
    "result"
   ]
  },
  {
   "cell_type": "code",
   "execution_count": null,
   "metadata": {},
   "outputs": [],
   "source": [
    "params = {'_owner': wallet.get_address()}\n",
    "transaction = CallTransactionBuilder()\\\n",
    "    .from_(wallet.get_address())\\\n",
    "    .to(contracts['loans']['SCORE'])\\\n",
    "    .value(0)\\\n",
    "    .step_limit(10000000)\\\n",
    "    .nid(NID)\\\n",
    "    .nonce(100)\\\n",
    "    .method(\"updateStanding\")\\\n",
    "    .params(params)\\\n",
    "    .build()\n",
    "signed_transaction = SignedTransaction(transaction, wallet)\n",
    "tx_hash = icon_service.send_transaction(signed_transaction)\n",
    "\n",
    "res = get_tx_result(tx_hash)\n",
    "print(f'Status: {res[\"status\"]}')\n",
    "if len(res[\"eventLogs\"]) > 0:\n",
    "    for item in res[\"eventLogs\"]:\n",
    "        print(f'{item} \\n')\n",
    "if res['status'] == 0:\n",
    "    print(f'Failure: {res[\"failure\"]}')"
   ]
  },
  {
   "cell_type": "code",
   "execution_count": null,
   "metadata": {},
   "outputs": [],
   "source": [
    "icon_service.get_balance(wallet.get_address()) / 10**18"
   ]
  },
  {
   "cell_type": "code",
   "execution_count": null,
   "metadata": {},
   "outputs": [],
   "source": [
    "balances = {}\n",
    "for wallet in wallets[:20]:\n",
    "    address = wallet.get_address()\n",
    "    params = {'_owner': address}\n",
    "    call = CallBuilder().from_(address)\\\n",
    "                        .to(contracts['baln']['SCORE'])\\\n",
    "                        .method('availableBalanceOf')\\\n",
    "                        .params(params)\\\n",
    "                        .build()\n",
    "    result = icon_service.call(call)\n",
    "    balances[address] = result"
   ]
  },
  {
   "cell_type": "code",
   "execution_count": null,
   "metadata": {},
   "outputs": [],
   "source": [
    "balances = {}\n",
    "for wallet in wallets[:20]:\n",
    "    address = wallet.get_address()\n",
    "    params = {'_owner': address}\n",
    "    call = CallBuilder().from_(address)\\\n",
    "                        .to(contracts['sicx']['SCORE'])\\\n",
    "                        .method('balanceOf')\\\n",
    "                        .params(params)\\\n",
    "                        .build()\n",
    "    result = icon_service.call(call)\n",
    "    balances[address] = result"
   ]
  },
  {
   "cell_type": "code",
   "execution_count": null,
   "metadata": {},
   "outputs": [],
   "source": [
    "balances = {}\n",
    "for wall in [wallet, btest_wallet]:\n",
    "    address = wall.get_address()\n",
    "    params = {'_owner': address}\n",
    "    call = CallBuilder().from_(address)\\\n",
    "                        .to(contracts['baln']['SCORE'])\\\n",
    "                        .method('balanceOf')\\\n",
    "                        .params(params)\\\n",
    "                        .build()\n",
    "    result = icon_service.call(call)\n",
    "    balances[address] = int(result, 0) // 10**18\n",
    "print(balances)"
   ]
  },
  {
   "cell_type": "markdown",
   "metadata": {},
   "source": [
    "## Check getDebts for dividends"
   ]
  },
  {
   "cell_type": "code",
   "execution_count": null,
   "metadata": {},
   "outputs": [],
   "source": [
    "debts = call_tx('loans', 'getDebts', {'_address_list': [call_tx('loans', 'getPositionAddress', {'_index': idx}) for idx in range(5, 10)], '_day': 1})\n",
    "for address in debts:\n",
    "    print(f'{address}: {int(debts[address], 0) / 10**18}')"
   ]
  },
  {
   "cell_type": "markdown",
   "metadata": {},
   "source": [
    "### Check bonusDist method"
   ]
  },
  {
   "cell_type": "code",
   "execution_count": null,
   "metadata": {},
   "outputs": [],
   "source": [
    "send_tx('baln', 0, 'transfer', {'_to': 'cxde0d2b42b55b4e9305affc21dc4e7a4f01acf014', '_value': 10**18}, wallet)"
   ]
  },
  {
   "cell_type": "code",
   "execution_count": null,
   "metadata": {},
   "outputs": [],
   "source": [
    "send_tx('governance', 0, 'bonusDist', {'_addresses': [wallet.get_address(), btest_wallet.get_address()], '_amounts': [10**21, 10**21]}, btest_wallet)"
   ]
  },
  {
   "cell_type": "markdown",
   "metadata": {},
   "source": [
    "### DEX SICX Test\n",
    "\n",
    "Does the following:\n",
    "\n",
    "1. Sends ICX to the DEX\n",
    "2. Checks overall ICX balance\n",
    "3. Checks withdrawal lock\n",
    "4. Mints some SICX\n",
    "5. Trades SICX against ICX"
   ]
  },
  {
   "cell_type": "code",
   "execution_count": null,
   "metadata": {},
   "outputs": [],
   "source": [
    "contracts['dex']['SCORE']"
   ]
  },
  {
   "cell_type": "code",
   "execution_count": 14,
   "metadata": {},
   "outputs": [
    {
     "name": "stdout",
     "output_type": "stream",
     "text": [
      "Retrying in 1 seconds...\n",
      "Retrying in 2 seconds...\n",
      "Status: 1\n"
     ]
    }
   ],
   "source": [
    "# Cell 26\n",
    "\n",
    "transaction = TransactionBuilder()\\\n",
    "    .from_(wallet.get_address())\\\n",
    "    .to(contracts['dex']['SCORE'])\\\n",
    "    .value(10 * ICX)\\\n",
    "    .step_limit(10000000)\\\n",
    "    .nid(NID)\\\n",
    "    .nonce(101)\\\n",
    "    .build()\n",
    "signed_transaction = SignedTransaction(transaction, wallet)\n",
    "tx_hash = icon_service.send_transaction(signed_transaction)\n",
    "tx_hash\n",
    "\n",
    "res = get_tx_result(tx_hash)\n",
    "print(f'Status: {res[\"status\"]}')\n",
    "if len(res[\"eventLogs\"]) > 0:\n",
    "    for item in res[\"eventLogs\"]:\n",
    "        print(f'{item} \\n')\n",
    "if res['status'] == 0:\n",
    "    print(f'Failure: {res[\"failure\"]}')"
   ]
  },
  {
   "cell_type": "code",
   "execution_count": null,
   "metadata": {
    "scrolled": true
   },
   "outputs": [],
   "source": [
    "# Cell 27\n",
    "\n",
    "call = CallBuilder().from_(wallet.get_address())\\\n",
    "                    .to(contracts['dex']['SCORE'])\\\n",
    "                    .method('getICXBalance')\\\n",
    "                    .params({'_address': wallet.get_address()}) \\\n",
    "                    .build()\n",
    "result = icon_service.call(call)\n",
    "int(result, 0) / 10**18"
   ]
  },
  {
   "cell_type": "code",
   "execution_count": null,
   "metadata": {
    "scrolled": false
   },
   "outputs": [],
   "source": [
    "# Cell 28\n",
    "\n",
    "call = CallBuilder().from_(wallet.get_address())\\\n",
    "                    .to(contracts['dex']['SCORE'])\\\n",
    "                    .method('getPoolStats')\\\n",
    "                    .params({'_id': 1}) \\\n",
    "                    .build()\n",
    "result = icon_service.call(call)\n",
    "print(result)"
   ]
  },
  {
   "cell_type": "code",
   "execution_count": null,
   "metadata": {
    "scrolled": false
   },
   "outputs": [],
   "source": [
    "# Cell 29\n",
    "\n",
    "params = {'_to': wallet.get_address()}\n",
    "transaction = CallTransactionBuilder()\\\n",
    "    .from_(wallet.get_address())\\\n",
    "    .to(contracts['staking']['SCORE'])\\\n",
    "    .value(10 * ICX)\\\n",
    "    .step_limit(10000000)\\\n",
    "    .nid(NID)\\\n",
    "    .nonce(100)\\\n",
    "    .method(\"stakeICX\")\\\n",
    "    .params(params)\\\n",
    "    .build()\n",
    "signed_transaction = SignedTransaction(transaction, wallet)\n",
    "tx_hash = icon_service.send_transaction(signed_transaction)\n",
    "tx_hash\n",
    "\n",
    "res = get_tx_result(tx_hash)\n",
    "print(f'Status: {res[\"status\"]}')\n",
    "if len(res[\"eventLogs\"]) > 0:\n",
    "    for item in res[\"eventLogs\"]:\n",
    "        print(f'{item} \\n')\n",
    "if res['status'] == 0:\n",
    "    print(f'Failure: {res[\"failure\"]}')"
   ]
  },
  {
   "cell_type": "code",
   "execution_count": null,
   "metadata": {},
   "outputs": [],
   "source": [
    "# Cell 29\n",
    "\n",
    "path = [contracts['sicx']['SCORE'], contracts['bnUSD']['SCORE']]\n",
    "\n",
    "params = {'_path': path}\n",
    "\n",
    "print(json.dumps(params))\n",
    "transaction = CallTransactionBuilder()\\\n",
    "    .from_(wallet.get_address())\\\n",
    "    .to(contracts['router']['SCORE'])\\\n",
    "    .value(10 * ICX)\\\n",
    "    .step_limit(10000000)\\\n",
    "    .nid(NID)\\\n",
    "    .nonce(100)\\\n",
    "    .method(\"route\")\\\n",
    "    .params(params)\\\n",
    "    .build()\n",
    "signed_transaction = SignedTransaction(transaction, wallet)\n",
    "tx_hash = icon_service.send_transaction(signed_transaction)\n",
    "tx_hash\n",
    "\n",
    "res = get_tx_result(tx_hash)\n",
    "print(f'Status: {res[\"status\"]}')\n",
    "if len(res[\"eventLogs\"]) > 0:\n",
    "    for item in res[\"eventLogs\"]:\n",
    "        print(f'{item} \\n')\n",
    "if res['status'] == 0:\n",
    "    print(f'Failure: {res[\"failure\"]}')"
   ]
  },
  {
   "cell_type": "code",
   "execution_count": null,
   "metadata": {
    "scrolled": false
   },
   "outputs": [],
   "source": [
    "# Cell 30\n",
    "\n",
    "data = \"{\\\"method\\\": \\\"_swap_icx\\\"}\".encode(\"utf-8\")\n",
    "params = {'_to': contracts['dex']['SCORE'], '_value': 10 * ICX, '_data': data}\n",
    "transaction = CallTransactionBuilder()\\\n",
    "    .from_(wallet.get_address())\\\n",
    "    .to(contracts['sicx']['SCORE'])\\\n",
    "    .value(0)\\\n",
    "    .step_limit(30000000)\\\n",
    "    .nid(NID)\\\n",
    "    .nonce(100)\\\n",
    "    .method(\"transfer\")\\\n",
    "    .params(params)\\\n",
    "    .build()\n",
    "signed_transaction = SignedTransaction(transaction, wallet)\n",
    "tx_hash = icon_service.send_transaction(signed_transaction)\n",
    "tx_hash\n",
    "\n",
    "res = get_tx_result(tx_hash)\n",
    "print(f'Status: {res[\"status\"]}')\n",
    "if len(res[\"eventLogs\"]) > 0:\n",
    "    for item in res[\"eventLogs\"]:\n",
    "        print(f'{item} \\n')\n",
    "if res['status'] == 0:\n",
    "    print(f'Failure: {res[\"failure\"]}')"
   ]
  },
  {
   "cell_type": "code",
   "execution_count": null,
   "metadata": {},
   "outputs": [],
   "source": [
    "# Cell 31\n",
    "\n",
    "call = CallBuilder().from_(wallet.get_address())\\\n",
    "                    .to(contracts['dex']['SCORE'])\\\n",
    "                    .method('getICXBalance')\\\n",
    "                    .params({'_address': wallet.get_address()}) \\\n",
    "                    .build()\n",
    "result = icon_service.call(call)\n",
    "int(result, 0) / 10**18"
   ]
  },
  {
   "cell_type": "code",
   "execution_count": null,
   "metadata": {},
   "outputs": [],
   "source": [
    "# Cell 32\n",
    "\n",
    "call = CallBuilder().from_(wallet.get_address())\\\n",
    "                    .to(contracts['dex']['SCORE'])\\\n",
    "                    .method('getNamedPools')\\\n",
    "                    .build()\n",
    "result = icon_service.call(call)\n",
    "print(result)"
   ]
  },
  {
   "cell_type": "code",
   "execution_count": null,
   "metadata": {},
   "outputs": [],
   "source": [
    "# Cell 33\n",
    "\n",
    "call = CallBuilder().from_(wallet.get_address())\\\n",
    "                    .to(contracts['dex']['SCORE'])\\\n",
    "                    .method('getDataBatch')\\\n",
    "                    .params({'_name': 'sICX/ICX', '_limit': 10, '_snapshot_id': 1}) \\\n",
    "                    .build()\n",
    "result = icon_service.call(call)\n",
    "print(result)"
   ]
  },
  {
   "cell_type": "markdown",
   "metadata": {},
   "source": [
    "### sICX / bnUSD Pool"
   ]
  },
  {
   "cell_type": "code",
   "execution_count": 109,
   "metadata": {},
   "outputs": [
    {
     "name": "stdout",
     "output_type": "stream",
     "text": [
      "------------------------------------------------------------------------------------------------------------------\n",
      "Calling stakeICX, with parameters {} on the staking contract.\n",
      "------------------------------------------------------------------------------------------------------------------\n",
      "Retrying in 1 seconds...\n",
      "Retrying in 2 seconds...\n",
      "************************************************** Status: 1 **************************************************\n",
      "{'scoreAddress': 'cx13d86dfb8b5e6db344a82f823a1259de8d6387a9', 'indexed': ['Mint(Address,int,bytes)', 'hx3f01840a599da07b0f620eeae7aa9c574169a4be'], 'data': ['0x2b5e3af16b1880000', '0x4e6f6e65']} \n",
      "\n",
      "{'scoreAddress': 'cx13d86dfb8b5e6db344a82f823a1259de8d6387a9', 'indexed': ['Transfer(Address,Address,int,bytes)', 'hx0000000000000000000000000000000000000000', 'hx3f01840a599da07b0f620eeae7aa9c574169a4be', '0x2b5e3af16b1880000'], 'data': ['0x4e6f6e65']} \n",
      "\n",
      "{'scoreAddress': 'cx2d9ec07136fe5d1a7173e55b0773b41d878db911', 'indexed': ['TokenTransfer(Address,int,str)', 'hx3f01840a599da07b0f620eeae7aa9c574169a4be', '0x2b5e3af16b1880000'], 'data': ['50 sICX minted to hx3f01840a599da07b0f620eeae7aa9c574169a4be']} \n",
      "\n",
      "------------------------------------------------------------------------------------------------------------------\n",
      "Calling depositAndBorrow, with parameters {'_asset': 'bnUSD', '_amount': 100000000000000000000} on the loans contract.\n",
      "------------------------------------------------------------------------------------------------------------------\n",
      "Retrying in 1 seconds...\n",
      "************************************************** Status: 1 **************************************************\n",
      "{'scoreAddress': 'cx0b13453906786489c7989d464f33ed6dc33256bc', 'indexed': ['ICXTransfer(Address,Address,int)', 'cx0b13453906786489c7989d464f33ed6dc33256bc', 'cx2d9ec07136fe5d1a7173e55b0773b41d878db911', '0x410d586a20a4c00000'], 'data': []} \n",
      "\n",
      "{'scoreAddress': 'cx13d86dfb8b5e6db344a82f823a1259de8d6387a9', 'indexed': ['Mint(Address,int,bytes)', 'cx0b13453906786489c7989d464f33ed6dc33256bc'], 'data': ['0x410d586a20a4c00000', '0x4e6f6e65']} \n",
      "\n",
      "{'scoreAddress': 'cx13d86dfb8b5e6db344a82f823a1259de8d6387a9', 'indexed': ['Transfer(Address,Address,int,bytes)', 'hx0000000000000000000000000000000000000000', 'cx0b13453906786489c7989d464f33ed6dc33256bc', '0x410d586a20a4c00000'], 'data': ['0x4e6f6e65']} \n",
      "\n",
      "{'scoreAddress': 'cx2d9ec07136fe5d1a7173e55b0773b41d878db911', 'indexed': ['TokenTransfer(Address,int,str)', 'cx0b13453906786489c7989d464f33ed6dc33256bc', '0x410d586a20a4c00000'], 'data': ['1200 sICX minted to cx0b13453906786489c7989d464f33ed6dc33256bc']} \n",
      "\n",
      "{'scoreAddress': 'cx0b13453906786489c7989d464f33ed6dc33256bc', 'indexed': ['CollateralReceived(Address,str,int)', 'hx3f01840a599da07b0f620eeae7aa9c574169a4be', 'sICX'], 'data': ['0x410d586a20a4c00000']} \n",
      "\n",
      "{'scoreAddress': 'cx773b203256491228aa05aff96fd9357e388f59ef', 'indexed': ['OraclePrice(str,str,Address,int)', 'USDICX', 'BandChain', 'cxebb9a5e5abfacccd978c19e38e5dae6da7c6f5cb'], 'data': ['0x84c5d90848544bb']} \n",
      "\n",
      "{'scoreAddress': 'cx0b13453906786489c7989d464f33ed6dc33256bc', 'indexed': ['OriginateLoan(Address,str,int,str)', 'hx3f01840a599da07b0f620eeae7aa9c574169a4be', 'bnUSD', '0x56bc75e2d63100000'], 'data': ['Loan of 100000000000000000000 bnUSD from Balanced.']} \n",
      "\n",
      "{'scoreAddress': 'cx773b203256491228aa05aff96fd9357e388f59ef', 'indexed': ['Mint(Address,int,bytes)', 'hx3f01840a599da07b0f620eeae7aa9c574169a4be'], 'data': ['0x56bc75e2d63100000', '0x4e6f6e65']} \n",
      "\n",
      "{'scoreAddress': 'cx773b203256491228aa05aff96fd9357e388f59ef', 'indexed': ['Transfer(Address,Address,int,bytes)', 'hx0000000000000000000000000000000000000000', 'hx3f01840a599da07b0f620eeae7aa9c574169a4be', '0x56bc75e2d63100000'], 'data': ['0x4e6f6e65']} \n",
      "\n",
      "{'scoreAddress': 'cx773b203256491228aa05aff96fd9357e388f59ef', 'indexed': ['Mint(Address,int,bytes)', 'cx34a2127f054d26b3b3b128e6243776c67b0ee9ba'], 'data': ['0xde0b6b3a7640000', '0x4e6f6e65']} \n",
      "\n",
      "{'scoreAddress': 'cx773b203256491228aa05aff96fd9357e388f59ef', 'indexed': ['Transfer(Address,Address,int,bytes)', 'hx0000000000000000000000000000000000000000', 'cx34a2127f054d26b3b3b128e6243776c67b0ee9ba', '0xde0b6b3a7640000'], 'data': ['0x4e6f6e65']} \n",
      "\n",
      "{'scoreAddress': 'cx34a2127f054d26b3b3b128e6243776c67b0ee9ba', 'indexed': ['DividendsReceivedV2(int,int,str)', '0xde0b6b3a7640000', '0x1'], 'data': ['1000000000000000000 tokens received as dividends token: cx773b203256491228aa05aff96fd9357e388f59ef ']} \n",
      "\n",
      "{'scoreAddress': 'cx0b13453906786489c7989d464f33ed6dc33256bc', 'indexed': ['FeePaid(str,int,str)', 'bnUSD', '0xde0b6b3a7640000', 'origination'], 'data': []} \n",
      "\n",
      "------------------------------------------------------------------------------------------------------------------\n",
      "Calling transfer, with parameters {'_to': 'cx337517d2459fd0abf52e4662bcfb0d872214171b', '_value': 50000000000000000000, '_data': b'{\"method\": \"_deposit\"}'} on the sicx contract.\n",
      "------------------------------------------------------------------------------------------------------------------\n",
      "Retrying in 1 seconds...\n",
      "Retrying in 2 seconds...\n",
      "************************************************** Status: 1 **************************************************\n",
      "{'scoreAddress': 'cx13d86dfb8b5e6db344a82f823a1259de8d6387a9', 'indexed': ['Transfer(Address,Address,int,bytes)', 'hx3f01840a599da07b0f620eeae7aa9c574169a4be', 'cx337517d2459fd0abf52e4662bcfb0d872214171b', '0x2b5e3af16b1880000'], 'data': ['0x7b226d6574686f64223a20225f6465706f736974227d']} \n",
      "\n",
      "{'scoreAddress': 'cx337517d2459fd0abf52e4662bcfb0d872214171b', 'indexed': ['Deposit(Address,Address,int)', 'cx13d86dfb8b5e6db344a82f823a1259de8d6387a9', 'hx3f01840a599da07b0f620eeae7aa9c574169a4be'], 'data': ['0x2b5e3af16b1880000']} \n",
      "\n",
      "------------------------------------------------------------------------------------------------------------------\n",
      "Calling transfer, with parameters {'_to': 'cx337517d2459fd0abf52e4662bcfb0d872214171b', '_value': 100000000000000000000, '_data': b'{\"method\": \"_deposit\"}'} on the bnUSD contract.\n",
      "------------------------------------------------------------------------------------------------------------------\n",
      "Retrying in 1 seconds...\n",
      "************************************************** Status: 1 **************************************************\n",
      "{'scoreAddress': 'cx773b203256491228aa05aff96fd9357e388f59ef', 'indexed': ['Transfer(Address,Address,int,bytes)', 'hx3f01840a599da07b0f620eeae7aa9c574169a4be', 'cx337517d2459fd0abf52e4662bcfb0d872214171b', '0x56bc75e2d63100000'], 'data': ['0x7b226d6574686f64223a20225f6465706f736974227d']} \n",
      "\n",
      "{'scoreAddress': 'cx337517d2459fd0abf52e4662bcfb0d872214171b', 'indexed': ['Deposit(Address,Address,int)', 'cx773b203256491228aa05aff96fd9357e388f59ef', 'hx3f01840a599da07b0f620eeae7aa9c574169a4be'], 'data': ['0x56bc75e2d63100000']} \n",
      "\n",
      "------------------------------------------------------------------------------------------------------------------\n",
      "Calling add, with parameters {'_baseToken': 'cx13d86dfb8b5e6db344a82f823a1259de8d6387a9', '_quoteToken': 'cx773b203256491228aa05aff96fd9357e388f59ef', '_baseValue': 50000000000000000000, '_quoteValue': 100000000000000000000} on the dex contract.\n",
      "------------------------------------------------------------------------------------------------------------------\n",
      "Retrying in 1 seconds...\n",
      "Retrying in 2 seconds...\n",
      "************************************************** Status: 1 **************************************************\n",
      "{'scoreAddress': 'cx337517d2459fd0abf52e4662bcfb0d872214171b', 'indexed': ['MarketAdded(int,Address,Address,int,int)', '0x2', 'cx13d86dfb8b5e6db344a82f823a1259de8d6387a9', 'cx773b203256491228aa05aff96fd9357e388f59ef'], 'data': ['0x2b5e3af16b1880000', '0x56bc75e2d63100000']} \n",
      "\n",
      "{'scoreAddress': 'cx337517d2459fd0abf52e4662bcfb0d872214171b', 'indexed': ['Add(int,Address,int,int,int)', '0x2', 'hx3f01840a599da07b0f620eeae7aa9c574169a4be', '0x3d54ecb1b916736b8'], 'data': ['0x2b5e3af16b1880000', '0x56bc75e2d63100000']} \n",
      "\n",
      "{'scoreAddress': 'cx337517d2459fd0abf52e4662bcfb0d872214171b', 'indexed': ['TransferSingle(Address,Address,Address,int,int)', 'hx3f01840a599da07b0f620eeae7aa9c574169a4be', 'cxf000000000000000000000000000000000000000', 'hx3f01840a599da07b0f620eeae7aa9c574169a4be'], 'data': ['0x2', '0x3d54ecb1b916736b8']} \n",
      "\n",
      "{'pos_id': '0x1', 'created': '0x5cea18af53cf0', 'address': 'hx3f01840a599da07b0f620eeae7aa9c574169a4be', 'snap_id': '0x1', 'snaps_length': '0x1', 'last_snap': '0x1', 'first day': '0x1', 'assets': {'sICX': '0x410d586a20a4c00000', 'bnUSD': '0x579a814e10a740000'}, 'total_debt': '0x34620ea0448941dc7', 'collateral': '0x410d586a20a4c00000', 'ratio': '0x113bf477543912508', 'standing': 'Mining'}\n",
      "------------------------------------------------------------------------------------------------------------------\n",
      "Reading getPoolStats, with parameters {'_id': 2} on the dex contract.\n",
      "------------------------------------------------------------------------------------------------------------------\n",
      "{'base': '0x2b5e3af16b1880000', 'quote': '0x56bc75e2d63100000', 'base_token': 'cx13d86dfb8b5e6db344a82f823a1259de8d6387a9', 'quote_token': 'cx773b203256491228aa05aff96fd9357e388f59ef', 'total_supply': '0x3d54ecb1b916736b8', 'price': '0x1bc16d674ec80000', 'name': None, 'base_decimals': '0x12', 'quote_decimals': '0x12', 'min_quote': '0x8ac7230489e80000'}\n",
      "------------------------------------------------------------------------------------------------------------------\n",
      "Reading balanceOf, with parameters {'_owner': 'hx3f01840a599da07b0f620eeae7aa9c574169a4be', '_id': 2} on the dex contract.\n",
      "------------------------------------------------------------------------------------------------------------------\n",
      "0x3d54ecb1b916736b8\n",
      "Debt: 60.393528307156785, collateral: 1200.0, lp sicx: 100.0, total: 1300.0\n"
     ]
    }
   ],
   "source": [
    "# Create a new pool and generate assets for it\n",
    "\n",
    "sICX_amount = 50 * ICX\n",
    "bnUSD_amount = 100 * ICX\n",
    "icx_price = 2\n",
    "sICX_contribute_amount = sICX_amount\n",
    "bnUSD_contribute_amount = bnUSD_amount\n",
    "\n",
    "txns = [{'contract': 'staking', 'value': sICX_amount, 'method': 'stakeICX', 'params': {}},\n",
    "        {'contract': 'loans', 'value': int(icx_price * 6 * bnUSD_amount), 'method': 'depositAndBorrow', 'params': {'_asset': 'bnUSD', '_amount': bnUSD_amount}},\n",
    "        {'contract': 'sicx', 'value': 0, 'method': 'transfer', 'params': {'_to': contracts['dex']['SCORE'], '_value': sICX_amount, '_data': json.dumps({\"method\": \"_deposit\"}).encode()}},\n",
    "        {'contract': 'bnUSD', 'value': 0, 'method': 'transfer', 'params': {'_to': contracts['dex']['SCORE'], '_value': bnUSD_amount, '_data': json.dumps({\"method\": \"_deposit\"}).encode()}},\n",
    "        {'contract': 'dex', 'value': 0, 'method': 'add', 'params': {'_baseToken': contracts['sicx']['SCORE'], '_quoteToken': contracts['bnUSD']['SCORE'], '_baseValue': sICX_contribute_amount, '_quoteValue': bnUSD_contribute_amount}}]\n",
    "\n",
    "supply_liquidity_results = {}\n",
    "for tx in txns:\n",
    "    res = send_tx(tx[\"contract\"], tx[\"value\"], tx[\"method\"], tx[\"params\"], btest_wallet)\n",
    "    supply_liquidity_results[f'{tx[\"contract\"]}|{tx[\"method\"]}|{tx[\"params\"]}'] = res\n",
    "    \n",
    "call = CallBuilder().from_(btest_wallet.get_address())\\\n",
    "                    .to(contracts['loans']['SCORE'])\\\n",
    "                    .method('getAccountPositions')\\\n",
    "                    .params({'_owner': btest_wallet.get_address()}) \\\n",
    "                    .build()\n",
    "result = icon_service.call(call)\n",
    "print(result)\n",
    "btest_debt = int(result[\"total_debt\"],0)/ICX\n",
    "btest_collateral = int(result[\"collateral\"], 0)/ICX\n",
    "\n",
    "result = call_tx('dex', 'getPoolStats', {'_id': 2})\n",
    "total_sicx = int(result['quote'], 0) / ICX\n",
    "total_lp = int(result['total_supply'], 0)\n",
    "\n",
    "user_lp = int(call_tx('dex', 'balanceOf', {'_owner': btest_wallet.get_address(), '_id': 2}), 0)\n",
    "\n",
    "btest_sicx_lp = total_sicx * user_lp / total_lp\n",
    "\n",
    "btest_total_sicx = btest_collateral + btest_sicx_lp\n",
    "\n",
    "print(f\"Debt: {btest_debt}, collateral: {btest_collateral}, lp sicx: {btest_sicx_lp}, total: {btest_total_sicx}\")"
   ]
  },
  {
   "cell_type": "code",
   "execution_count": 110,
   "metadata": {},
   "outputs": [
    {
     "name": "stdout",
     "output_type": "stream",
     "text": [
      "------------------------------------------------------------------------------------------------------------------\n",
      "Calling stakeICX, with parameters {} on the staking contract.\n",
      "------------------------------------------------------------------------------------------------------------------\n",
      "Retrying in 1 seconds...\n",
      "Retrying in 2 seconds...\n",
      "************************************************** Status: 1 **************************************************\n",
      "{'scoreAddress': 'cx0000000000000000000000000000000000000000', 'indexed': ['IScoreClaimedV2(Address,int,int)', 'cx2d9ec07136fe5d1a7173e55b0773b41d878db911'], 'data': ['0x1fc2c7ae12ca160', '0x8217acc4e89c']} \n",
      "\n",
      "{'scoreAddress': 'cx2d9ec07136fe5d1a7173e55b0773b41d878db911', 'indexed': ['IscoreClaimed(int,int)', '0x460c5c', '0x8217acc4e89c'], 'data': []} \n",
      "\n",
      "{'scoreAddress': 'cx13d86dfb8b5e6db344a82f823a1259de8d6387a9', 'indexed': ['Mint(Address,int,bytes)', 'hxe7af5fcfd8dfc67530a01a0e403882687528dfcb'], 'data': ['0x56bc75e2d63100000', '0x4e6f6e65']} \n",
      "\n",
      "{'scoreAddress': 'cx13d86dfb8b5e6db344a82f823a1259de8d6387a9', 'indexed': ['Transfer(Address,Address,int,bytes)', 'hx0000000000000000000000000000000000000000', 'hxe7af5fcfd8dfc67530a01a0e403882687528dfcb', '0x56bc75e2d63100000'], 'data': ['0x4e6f6e65']} \n",
      "\n",
      "{'scoreAddress': 'cx2d9ec07136fe5d1a7173e55b0773b41d878db911', 'indexed': ['TokenTransfer(Address,int,str)', 'hxe7af5fcfd8dfc67530a01a0e403882687528dfcb', '0x56bc75e2d63100000'], 'data': ['100 sICX minted to hxe7af5fcfd8dfc67530a01a0e403882687528dfcb']} \n",
      "\n",
      "------------------------------------------------------------------------------------------------------------------\n",
      "Calling depositAndBorrow, with parameters {'_asset': 'bnUSD', '_amount': 200000000000000000000} on the loans contract.\n",
      "------------------------------------------------------------------------------------------------------------------\n",
      "Retrying in 1 seconds...\n",
      "************************************************** Status: 1 **************************************************\n",
      "{'scoreAddress': 'cx0b13453906786489c7989d464f33ed6dc33256bc', 'indexed': ['ICXTransfer(Address,Address,int)', 'cx0b13453906786489c7989d464f33ed6dc33256bc', 'cx2d9ec07136fe5d1a7173e55b0773b41d878db911', '0x56bc75e2d631000000'], 'data': []} \n",
      "\n",
      "{'scoreAddress': 'cx13d86dfb8b5e6db344a82f823a1259de8d6387a9', 'indexed': ['Mint(Address,int,bytes)', 'cx0b13453906786489c7989d464f33ed6dc33256bc'], 'data': ['0x56bc7548a72c6b19d8', '0x4e6f6e65']} \n",
      "\n",
      "{'scoreAddress': 'cx13d86dfb8b5e6db344a82f823a1259de8d6387a9', 'indexed': ['Transfer(Address,Address,int,bytes)', 'hx0000000000000000000000000000000000000000', 'cx0b13453906786489c7989d464f33ed6dc33256bc', '0x56bc7548a72c6b19d8'], 'data': ['0x4e6f6e65']} \n",
      "\n",
      "{'scoreAddress': 'cx2d9ec07136fe5d1a7173e55b0773b41d878db911', 'indexed': ['TokenTransfer(Address,int,str)', 'cx0b13453906786489c7989d464f33ed6dc33256bc', '0x56bc7548a72c6b19d8'], 'data': ['1599 sICX minted to cx0b13453906786489c7989d464f33ed6dc33256bc']} \n",
      "\n",
      "{'scoreAddress': 'cx0b13453906786489c7989d464f33ed6dc33256bc', 'indexed': ['CollateralReceived(Address,str,int)', 'hxe7af5fcfd8dfc67530a01a0e403882687528dfcb', 'sICX'], 'data': ['0x56bc7548a72c6b19d8']} \n",
      "\n",
      "{'scoreAddress': 'cx773b203256491228aa05aff96fd9357e388f59ef', 'indexed': ['OraclePrice(str,str,Address,int)', 'USDICX', 'BandChain', 'cxebb9a5e5abfacccd978c19e38e5dae6da7c6f5cb'], 'data': ['0x84c5d90848544bb']} \n",
      "\n",
      "{'scoreAddress': 'cx0b13453906786489c7989d464f33ed6dc33256bc', 'indexed': ['OriginateLoan(Address,str,int,str)', 'hxe7af5fcfd8dfc67530a01a0e403882687528dfcb', 'bnUSD', '0xad78ebc5ac6200000'], 'data': ['Loan of 200000000000000000000 bnUSD from Balanced.']} \n",
      "\n",
      "{'scoreAddress': 'cx773b203256491228aa05aff96fd9357e388f59ef', 'indexed': ['Mint(Address,int,bytes)', 'hxe7af5fcfd8dfc67530a01a0e403882687528dfcb'], 'data': ['0xad78ebc5ac6200000', '0x4e6f6e65']} \n",
      "\n",
      "{'scoreAddress': 'cx773b203256491228aa05aff96fd9357e388f59ef', 'indexed': ['Transfer(Address,Address,int,bytes)', 'hx0000000000000000000000000000000000000000', 'hxe7af5fcfd8dfc67530a01a0e403882687528dfcb', '0xad78ebc5ac6200000'], 'data': ['0x4e6f6e65']} \n",
      "\n",
      "{'scoreAddress': 'cx773b203256491228aa05aff96fd9357e388f59ef', 'indexed': ['Mint(Address,int,bytes)', 'cx34a2127f054d26b3b3b128e6243776c67b0ee9ba'], 'data': ['0x1bc16d674ec80000', '0x4e6f6e65']} \n",
      "\n",
      "{'scoreAddress': 'cx773b203256491228aa05aff96fd9357e388f59ef', 'indexed': ['Transfer(Address,Address,int,bytes)', 'hx0000000000000000000000000000000000000000', 'cx34a2127f054d26b3b3b128e6243776c67b0ee9ba', '0x1bc16d674ec80000'], 'data': ['0x4e6f6e65']} \n",
      "\n",
      "{'scoreAddress': 'cx34a2127f054d26b3b3b128e6243776c67b0ee9ba', 'indexed': ['DividendsReceivedV2(int,int,str)', '0x1bc16d674ec80000', '0x1'], 'data': ['2000000000000000000 tokens received as dividends token: cx773b203256491228aa05aff96fd9357e388f59ef ']} \n",
      "\n",
      "{'scoreAddress': 'cx0b13453906786489c7989d464f33ed6dc33256bc', 'indexed': ['FeePaid(str,int,str)', 'bnUSD', '0x1bc16d674ec80000', 'origination'], 'data': []} \n",
      "\n",
      "------------------------------------------------------------------------------------------------------------------\n",
      "Calling transfer, with parameters {'_to': 'cx337517d2459fd0abf52e4662bcfb0d872214171b', '_value': 100000000000000000000, '_data': b'{\"method\": \"_deposit\"}'} on the sicx contract.\n",
      "------------------------------------------------------------------------------------------------------------------\n",
      "Retrying in 1 seconds...\n",
      "Retrying in 2 seconds...\n",
      "************************************************** Status: 1 **************************************************\n",
      "{'scoreAddress': 'cx13d86dfb8b5e6db344a82f823a1259de8d6387a9', 'indexed': ['Transfer(Address,Address,int,bytes)', 'hxe7af5fcfd8dfc67530a01a0e403882687528dfcb', 'cx337517d2459fd0abf52e4662bcfb0d872214171b', '0x56bc75e2d63100000'], 'data': ['0x7b226d6574686f64223a20225f6465706f736974227d']} \n",
      "\n",
      "{'scoreAddress': 'cx337517d2459fd0abf52e4662bcfb0d872214171b', 'indexed': ['Deposit(Address,Address,int)', 'cx13d86dfb8b5e6db344a82f823a1259de8d6387a9', 'hxe7af5fcfd8dfc67530a01a0e403882687528dfcb'], 'data': ['0x56bc75e2d63100000']} \n",
      "\n",
      "------------------------------------------------------------------------------------------------------------------\n",
      "Calling transfer, with parameters {'_to': 'cx337517d2459fd0abf52e4662bcfb0d872214171b', '_value': 200000000000000000000, '_data': b'{\"method\": \"_deposit\"}'} on the bnUSD contract.\n",
      "------------------------------------------------------------------------------------------------------------------\n",
      "Retrying in 1 seconds...\n",
      "************************************************** Status: 1 **************************************************\n",
      "{'scoreAddress': 'cx773b203256491228aa05aff96fd9357e388f59ef', 'indexed': ['Transfer(Address,Address,int,bytes)', 'hxe7af5fcfd8dfc67530a01a0e403882687528dfcb', 'cx337517d2459fd0abf52e4662bcfb0d872214171b', '0xad78ebc5ac6200000'], 'data': ['0x7b226d6574686f64223a20225f6465706f736974227d']} \n",
      "\n",
      "{'scoreAddress': 'cx337517d2459fd0abf52e4662bcfb0d872214171b', 'indexed': ['Deposit(Address,Address,int)', 'cx773b203256491228aa05aff96fd9357e388f59ef', 'hxe7af5fcfd8dfc67530a01a0e403882687528dfcb'], 'data': ['0xad78ebc5ac6200000']} \n",
      "\n",
      "------------------------------------------------------------------------------------------------------------------\n",
      "Calling add, with parameters {'_baseToken': 'cx13d86dfb8b5e6db344a82f823a1259de8d6387a9', '_quoteToken': 'cx773b203256491228aa05aff96fd9357e388f59ef', '_baseValue': 100000000000000000000, '_quoteValue': 200000000000000000000} on the dex contract.\n",
      "------------------------------------------------------------------------------------------------------------------\n",
      "Retrying in 1 seconds...\n",
      "Retrying in 2 seconds...\n",
      "************************************************** Status: 1 **************************************************\n",
      "{'scoreAddress': 'cx337517d2459fd0abf52e4662bcfb0d872214171b', 'indexed': ['Add(int,Address,int,int,int)', '0x2', 'hxe7af5fcfd8dfc67530a01a0e403882687528dfcb', '0x7aa9d963722ce6d70'], 'data': ['0x56bc75e2d63100000', '0xad78ebc5ac6200000']} \n",
      "\n",
      "{'scoreAddress': 'cx337517d2459fd0abf52e4662bcfb0d872214171b', 'indexed': ['TransferSingle(Address,Address,Address,int,int)', 'hxe7af5fcfd8dfc67530a01a0e403882687528dfcb', 'cxf000000000000000000000000000000000000000', 'hxe7af5fcfd8dfc67530a01a0e403882687528dfcb'], 'data': ['0x2', '0x7aa9d963722ce6d70']} \n",
      "\n",
      "{'pos_id': '0x2', 'created': '0x5cea18cbf7702', 'address': 'hxe7af5fcfd8dfc67530a01a0e403882687528dfcb', 'snap_id': '0x1', 'snaps_length': '0x1', 'last_snap': '0x1', 'first day': '0x1', 'assets': {'sICX': '0x56bc7548a72c6b19d8', 'bnUSD': '0xaf35029c214e80000'}, 'total_debt': '0x68c41d40891283b8e', 'collateral': '0x56bc75e2d630ffffff', 'ratio': '0xb7d4da4e2d0b6e05', 'standing': 'Mining'}\n",
      "Debt: 120.78705661431357, collateral: 1600.0\n"
     ]
    }
   ],
   "source": [
    "sICX_amount = 100 * ICX\n",
    "bnUSD_amount = 200 * ICX\n",
    "icx_price = 2\n",
    "sICX_contribute_amount = sICX_amount\n",
    "bnUSD_contribute_amount = bnUSD_amount\n",
    "\n",
    "txns = [{'contract': 'staking', 'value': sICX_amount, 'method': 'stakeICX', 'params': {}},\n",
    "        {'contract': 'loans', 'value': int(icx_price * 4 * bnUSD_amount), 'method': 'depositAndBorrow', 'params': {'_asset': 'bnUSD', '_amount': bnUSD_amount}},\n",
    "        {'contract': 'sicx', 'value': 0, 'method': 'transfer', 'params': {'_to': contracts['dex']['SCORE'], '_value': sICX_amount, '_data': json.dumps({\"method\": \"_deposit\"}).encode()}},\n",
    "        {'contract': 'bnUSD', 'value': 0, 'method': 'transfer', 'params': {'_to': contracts['dex']['SCORE'], '_value': bnUSD_amount, '_data': json.dumps({\"method\": \"_deposit\"}).encode()}},\n",
    "        {'contract': 'dex', 'value': 0, 'method': 'add', 'params': {'_baseToken': contracts['sicx']['SCORE'], '_quoteToken': contracts['bnUSD']['SCORE'], '_baseValue': sICX_contribute_amount, '_quoteValue': bnUSD_contribute_amount}}]\n",
    "\n",
    "supply_liquidity_results = {}\n",
    "for tx in txns:\n",
    "    res = send_tx(tx[\"contract\"], tx[\"value\"], tx[\"method\"], tx[\"params\"], wallet)\n",
    "    supply_liquidity_results[f'{tx[\"contract\"]}|{tx[\"method\"]}|{tx[\"params\"]}'] = res\n",
    "\n",
    "call = CallBuilder().from_(wallet.get_address())\\\n",
    "                    .to(contracts['loans']['SCORE'])\\\n",
    "                    .method('getAccountPositions')\\\n",
    "                    .params({'_owner': wallet.get_address()}) \\\n",
    "                    .build()\n",
    "result = icon_service.call(call)\n",
    "print(result)\n",
    "main_debt = int(result[\"total_debt\"],0)/ICX\n",
    "main_collateral = int(result[\"collateral\"], 0)/ICX\n",
    "\n",
    "print(f\"Debt: {main_debt}, collateral: {main_collateral}\")"
   ]
  },
  {
   "cell_type": "code",
   "execution_count": 111,
   "metadata": {
    "scrolled": true
   },
   "outputs": [
    {
     "name": "stdout",
     "output_type": "stream",
     "text": [
      "------------------------------------------------------------------------------------------------------------------\n",
      "Calling rig_the_market, with parameters {'_base': 'USD', '_quote': 'ICX', '_rate': 1000000000000000000} on the oracle contract.\n",
      "------------------------------------------------------------------------------------------------------------------\n",
      "Retrying in 1 seconds...\n",
      "Retrying in 2 seconds...\n",
      "************************************************** Status: 1 **************************************************\n"
     ]
    },
    {
     "data": {
      "text/plain": [
       "{'txHash': '0x70efdba0cecd3bc26372dce9a55e8e1a063ac0e118ecef734c3c21708eb1016b',\n",
       " 'blockHeight': 4590694,\n",
       " 'blockHash': '0x88571e8a7d1a10417cc551b355f1259d85beba07bbb3b2dff6d3930b8539d928',\n",
       " 'txIndex': 1,\n",
       " 'to': 'cxebb9a5e5abfacccd978c19e38e5dae6da7c6f5cb',\n",
       " 'stepUsed': 145760,\n",
       " 'stepPrice': 10000000000,\n",
       " 'cumulativeStepUsed': 145760,\n",
       " 'eventLogs': [],\n",
       " 'logsBloom': b'\\x00\\x00\\x00\\x00\\x00\\x00\\x00\\x00\\x00\\x00\\x00\\x00\\x00\\x00\\x00\\x00\\x00\\x00\\x00\\x00\\x00\\x00\\x00\\x00\\x00\\x00\\x00\\x00\\x00\\x00\\x00\\x00\\x00\\x00\\x00\\x00\\x00\\x00\\x00\\x00\\x00\\x00\\x00\\x00\\x00\\x00\\x00\\x00\\x00\\x00\\x00\\x00\\x00\\x00\\x00\\x00\\x00\\x00\\x00\\x00\\x00\\x00\\x00\\x00\\x00\\x00\\x00\\x00\\x00\\x00\\x00\\x00\\x00\\x00\\x00\\x00\\x00\\x00\\x00\\x00\\x00\\x00\\x00\\x00\\x00\\x00\\x00\\x00\\x00\\x00\\x00\\x00\\x00\\x00\\x00\\x00\\x00\\x00\\x00\\x00\\x00\\x00\\x00\\x00\\x00\\x00\\x00\\x00\\x00\\x00\\x00\\x00\\x00\\x00\\x00\\x00\\x00\\x00\\x00\\x00\\x00\\x00\\x00\\x00\\x00\\x00\\x00\\x00\\x00\\x00\\x00\\x00\\x00\\x00\\x00\\x00\\x00\\x00\\x00\\x00\\x00\\x00\\x00\\x00\\x00\\x00\\x00\\x00\\x00\\x00\\x00\\x00\\x00\\x00\\x00\\x00\\x00\\x00\\x00\\x00\\x00\\x00\\x00\\x00\\x00\\x00\\x00\\x00\\x00\\x00\\x00\\x00\\x00\\x00\\x00\\x00\\x00\\x00\\x00\\x00\\x00\\x00\\x00\\x00\\x00\\x00\\x00\\x00\\x00\\x00\\x00\\x00\\x00\\x00\\x00\\x00\\x00\\x00\\x00\\x00\\x00\\x00\\x00\\x00\\x00\\x00\\x00\\x00\\x00\\x00\\x00\\x00\\x00\\x00\\x00\\x00\\x00\\x00\\x00\\x00\\x00\\x00\\x00\\x00\\x00\\x00\\x00\\x00\\x00\\x00\\x00\\x00\\x00\\x00\\x00\\x00\\x00\\x00\\x00\\x00\\x00\\x00\\x00\\x00\\x00\\x00\\x00\\x00\\x00\\x00\\x00\\x00\\x00\\x00\\x00\\x00',\n",
       " 'status': 1}"
      ]
     },
     "execution_count": 111,
     "metadata": {},
     "output_type": "execute_result"
    }
   ],
   "source": [
    "send_tx('oracle', 0, 'rig_the_market', {'_base': 'USD', '_quote': 'ICX', '_rate': ICX}, btest_wallet)"
   ]
  },
  {
   "cell_type": "code",
   "execution_count": null,
   "metadata": {},
   "outputs": [],
   "source": []
  },
  {
   "cell_type": "code",
   "execution_count": 112,
   "metadata": {
    "scrolled": false
   },
   "outputs": [
    {
     "name": "stdout",
     "output_type": "stream",
     "text": [
      "------------------------------------------------------------------------------------------------------------------\n",
      "Calling rebalance, with parameters {} on the rebalancing contract.\n",
      "------------------------------------------------------------------------------------------------------------------\n",
      "Retrying in 1 seconds...\n",
      "************************************************** Status: 1 **************************************************\n",
      "{'scoreAddress': 'cx13d86dfb8b5e6db344a82f823a1259de8d6387a9', 'indexed': ['Transfer(Address,Address,int,bytes)', 'cx0b13453906786489c7989d464f33ed6dc33256bc', 'cx337517d2459fd0abf52e4662bcfb0d872214171b', '0x15065c7922b78000'], 'data': ['0x7b226d6574686f64223a225f73776170222c22706172616d73223a7b22746f546f6b656e223a22637837373362323033323536343931323238616130356166663936666439333537653338386635396566227d7d']} \n",
      "\n",
      "{'scoreAddress': 'cx773b203256491228aa05aff96fd9357e388f59ef', 'indexed': ['Transfer(Address,Address,int,bytes)', 'cx337517d2459fd0abf52e4662bcfb0d872214171b', 'cx0b13453906786489c7989d464f33ed6dc33256bc', '0x29816ef03c0d0000'], 'data': ['0x4e6f6e65']} \n",
      "\n",
      "{'scoreAddress': 'cx13d86dfb8b5e6db344a82f823a1259de8d6387a9', 'indexed': ['Transfer(Address,Address,int,bytes)', 'cx337517d2459fd0abf52e4662bcfb0d872214171b', 'cx34a2127f054d26b3b3b128e6243776c67b0ee9ba', '0x812d3a3408800'], 'data': ['0x4e6f6e65']} \n",
      "\n",
      "{'scoreAddress': 'cx34a2127f054d26b3b3b128e6243776c67b0ee9ba', 'indexed': ['DividendsReceivedV2(int,int,str)', '0x812d3a3408800', '0x1'], 'data': ['2272500000000000 tokens received as dividends token: cx13d86dfb8b5e6db344a82f823a1259de8d6387a9 ']} \n",
      "\n",
      "{'scoreAddress': 'cx337517d2459fd0abf52e4662bcfb0d872214171b', 'indexed': ['Swap(int,Address,Address,Address,Address,Address,int,int,int,int,int,int,int,int,int)', '0x2', 'cx13d86dfb8b5e6db344a82f823a1259de8d6387a9'], 'data': ['cx13d86dfb8b5e6db344a82f823a1259de8d6387a9', 'cx773b203256491228aa05aff96fd9357e388f59ef', 'cx0b13453906786489c7989d464f33ed6dc33256bc', 'cx0b13453906786489c7989d464f33ed6dc33256bc', '0x15065c7922b78000', '0x29816ef03c0d0000', '0x5cea18e2df905', '0x812d3a3408800', '0x812d3a3408800', '0x836a956e9940ef800', '0x1019d4ab97ed230000', '0x1b345b4cf7397e19', '0x7023e853171485e']} \n",
      "\n",
      "{'scoreAddress': 'cx0b13453906786489c7989d464f33ed6dc33256bc', 'indexed': ['TokenTransfer(Address,int,str)', 'cx337517d2459fd0abf52e4662bcfb0d872214171b', '0x15065c7922b78000'], 'data': ['sICX swapped for bnUSD 1515000000000000000 sICX sent to cx337517d2459fd0abf52e4662bcfb0d872214171b.']} \n",
      "\n",
      "{'scoreAddress': 'cx773b203256491228aa05aff96fd9357e388f59ef', 'indexed': ['Burn(Address,int)', 'cx0b13453906786489c7989d464f33ed6dc33256bc'], 'data': ['0x29816ef03c0d0000']} \n",
      "\n",
      "{'scoreAddress': 'cx773b203256491228aa05aff96fd9357e388f59ef', 'indexed': ['Transfer(Address,Address,int,bytes)', 'cx0b13453906786489c7989d464f33ed6dc33256bc', 'hx0000000000000000000000000000000000000000', '0x29816ef03c0d0000'], 'data': ['0x4e6f6e65']} \n",
      "\n",
      "{'scoreAddress': 'cx0b13453906786489c7989d464f33ed6dc33256bc', 'indexed': ['Rebalance(Address,str,str,int)', 'cxf7403ab96d90675a13b2d28c20f021dcc8be6893', 'bnUSD'], 'data': [\"{1: {'d': -996931201876470442, 'c': -505000000000000000}, 2: {'d': -1993862403752940886, 'c': -1010000000000000000}}\", '0x106cf83ea31f5c0000']} \n",
      "\n"
     ]
    },
    {
     "data": {
      "text/plain": [
       "{'txHash': '0x67ea92b82ab0f73018c1e503c7b62f529f00dc74cd536af160fe4870cddda4d4',\n",
       " 'blockHeight': 4590697,\n",
       " 'blockHash': '0x8c73dd89694f966e8336502f0cb433093017cb7aac221e6334340fbd48013171',\n",
       " 'txIndex': 1,\n",
       " 'to': 'cxf7403ab96d90675a13b2d28c20f021dcc8be6893',\n",
       " 'stepUsed': 1060320,\n",
       " 'stepPrice': 10000000000,\n",
       " 'cumulativeStepUsed': 1060320,\n",
       " 'eventLogs': [{'scoreAddress': 'cx13d86dfb8b5e6db344a82f823a1259de8d6387a9',\n",
       "   'indexed': ['Transfer(Address,Address,int,bytes)',\n",
       "    'cx0b13453906786489c7989d464f33ed6dc33256bc',\n",
       "    'cx337517d2459fd0abf52e4662bcfb0d872214171b',\n",
       "    '0x15065c7922b78000'],\n",
       "   'data': ['0x7b226d6574686f64223a225f73776170222c22706172616d73223a7b22746f546f6b656e223a22637837373362323033323536343931323238616130356166663936666439333537653338386635396566227d7d']},\n",
       "  {'scoreAddress': 'cx773b203256491228aa05aff96fd9357e388f59ef',\n",
       "   'indexed': ['Transfer(Address,Address,int,bytes)',\n",
       "    'cx337517d2459fd0abf52e4662bcfb0d872214171b',\n",
       "    'cx0b13453906786489c7989d464f33ed6dc33256bc',\n",
       "    '0x29816ef03c0d0000'],\n",
       "   'data': ['0x4e6f6e65']},\n",
       "  {'scoreAddress': 'cx13d86dfb8b5e6db344a82f823a1259de8d6387a9',\n",
       "   'indexed': ['Transfer(Address,Address,int,bytes)',\n",
       "    'cx337517d2459fd0abf52e4662bcfb0d872214171b',\n",
       "    'cx34a2127f054d26b3b3b128e6243776c67b0ee9ba',\n",
       "    '0x812d3a3408800'],\n",
       "   'data': ['0x4e6f6e65']},\n",
       "  {'scoreAddress': 'cx34a2127f054d26b3b3b128e6243776c67b0ee9ba',\n",
       "   'indexed': ['DividendsReceivedV2(int,int,str)', '0x812d3a3408800', '0x1'],\n",
       "   'data': ['2272500000000000 tokens received as dividends token: cx13d86dfb8b5e6db344a82f823a1259de8d6387a9 ']},\n",
       "  {'scoreAddress': 'cx337517d2459fd0abf52e4662bcfb0d872214171b',\n",
       "   'indexed': ['Swap(int,Address,Address,Address,Address,Address,int,int,int,int,int,int,int,int,int)',\n",
       "    '0x2',\n",
       "    'cx13d86dfb8b5e6db344a82f823a1259de8d6387a9'],\n",
       "   'data': ['cx13d86dfb8b5e6db344a82f823a1259de8d6387a9',\n",
       "    'cx773b203256491228aa05aff96fd9357e388f59ef',\n",
       "    'cx0b13453906786489c7989d464f33ed6dc33256bc',\n",
       "    'cx0b13453906786489c7989d464f33ed6dc33256bc',\n",
       "    '0x15065c7922b78000',\n",
       "    '0x29816ef03c0d0000',\n",
       "    '0x5cea18e2df905',\n",
       "    '0x812d3a3408800',\n",
       "    '0x812d3a3408800',\n",
       "    '0x836a956e9940ef800',\n",
       "    '0x1019d4ab97ed230000',\n",
       "    '0x1b345b4cf7397e19',\n",
       "    '0x7023e853171485e']},\n",
       "  {'scoreAddress': 'cx0b13453906786489c7989d464f33ed6dc33256bc',\n",
       "   'indexed': ['TokenTransfer(Address,int,str)',\n",
       "    'cx337517d2459fd0abf52e4662bcfb0d872214171b',\n",
       "    '0x15065c7922b78000'],\n",
       "   'data': ['sICX swapped for bnUSD 1515000000000000000 sICX sent to cx337517d2459fd0abf52e4662bcfb0d872214171b.']},\n",
       "  {'scoreAddress': 'cx773b203256491228aa05aff96fd9357e388f59ef',\n",
       "   'indexed': ['Burn(Address,int)',\n",
       "    'cx0b13453906786489c7989d464f33ed6dc33256bc'],\n",
       "   'data': ['0x29816ef03c0d0000']},\n",
       "  {'scoreAddress': 'cx773b203256491228aa05aff96fd9357e388f59ef',\n",
       "   'indexed': ['Transfer(Address,Address,int,bytes)',\n",
       "    'cx0b13453906786489c7989d464f33ed6dc33256bc',\n",
       "    'hx0000000000000000000000000000000000000000',\n",
       "    '0x29816ef03c0d0000'],\n",
       "   'data': ['0x4e6f6e65']},\n",
       "  {'scoreAddress': 'cx0b13453906786489c7989d464f33ed6dc33256bc',\n",
       "   'indexed': ['Rebalance(Address,str,str,int)',\n",
       "    'cxf7403ab96d90675a13b2d28c20f021dcc8be6893',\n",
       "    'bnUSD'],\n",
       "   'data': [\"{1: {'d': -996931201876470442, 'c': -505000000000000000}, 2: {'d': -1993862403752940886, 'c': -1010000000000000000}}\",\n",
       "    '0x106cf83ea31f5c0000']}],\n",
       " 'logsBloom': b'\\x00\\x00\\x00\\x00\\x00\\x00\\x80\\x00\\x03\\x00\\x00 \\x00\\x00\\x00\\x00\\xc0\\x00\\x00\\x08\\x00\\x00\\x00\\x00\\x00\\x00\\x00\\x00\\x00\\x00\\x00\\x00\\x01\\x01\\t\\x00\\x00\\x00\\x00\\x00\\x00\\x00\\x00\\x00\\x00\\x80\\x00\\x10\\x00\\x80\\x00\\x00\\x00\\x00\\x00\\x00\\x00\\x00\\x00\\x01\\x00\\x04\\x000\\x00\\x02\\x00\\x00\\x00\\x00\\x00\\x00\\x00\\x00\\x80\\x00\\x00\\x00\\x00\\x0c\\x00\\x00\\x00\\x00\\x80\\x00\\x00\\x00\\x00\\x00\\x00\\x00\\x00@\\x00\\x00@\\x00\\x00\\x00\\x08\\x00\\x02\\x00\\x00\\x00\\x00\\x00\\x80@\\x02\\x00\\x00\\x02 \\x00\\x00\\x00\\x00\\x00\\x80\\x00\\x00\\x00\\x00A\\x01\\x04\\x00\\x00\\x00\\x00\\x02\\x00\\x00\\x00\\x00\\x02\\x00\\x08\\x00\\x00\\x00\\x01D\\x01\"\\x00\\x00\\x04\\x00\\x00\\x00\\x00\\x00\\x06\\x00\\x10\\x00 \\x00\\x00\\x00\\x00\\x00\\x10\\x08\\x00\\x00\\x00\\x00\\x00\\x00\\x00\\x00\\x00\\x00\\x00\\x10\\x06\\x00\\x00\\x00`\\x00\\x00\\x00\\x00\\x00 \\x00\\x00\\x00\\x00\\x80(\\x00\\x00\\x00\\x00\\x00\\x00 \\x00\\x00\\x00\\x00\\x06\\x00\\x00\\xc0\\x10\\x00\\x01 \\x00\\x00\\x00\\x00\\x00\\x00\\x00\\x08\\x10\\x00\\x00\\x00\\x80\\x00\\x00`\\x00\\x00\\x00\\x00\\x00\\x00\\x00\\x10\\x00\\x00\\x00\\x00 \\x00\\x00\\x00\\x10\\x04\\x00\\x08\\x00\\x00\\x00\\x00\\x00',\n",
       " 'status': 1}"
      ]
     },
     "execution_count": 112,
     "metadata": {},
     "output_type": "execute_result"
    }
   ],
   "source": [
    "send_tx('rebalancing', 0, 'rebalance', {}, btest_wallet)"
   ]
  },
  {
   "cell_type": "code",
   "execution_count": 113,
   "metadata": {},
   "outputs": [
    {
     "name": "stdout",
     "output_type": "stream",
     "text": [
      "{'pos_id': '0x1', 'created': '0x5cea18af53cf0', 'address': 'hx3f01840a599da07b0f620eeae7aa9c574169a4be', 'snap_id': '0x1', 'snaps_length': '0x1', 'last_snap': '0x1', 'first day': '0x1', 'assets': {'sICX': '0x4106564b4d992d8000', 'bnUSD': '0x56bd2453ba11a5556'}, 'total_debt': '0x33ddb116141a45c6f', 'collateral': '0x410656bee468288950', 'ratio': '0x11661021d692ea32b', 'standing': 'Mining'}\n",
      "------------------------------------------------------------------------------------------------------------------\n",
      "Reading getPoolStats, with parameters {'_id': 2} on the dex contract.\n",
      "------------------------------------------------------------------------------------------------------------------\n",
      "{'base': '0x836a956e9940ef800', 'quote': '0x1019d4ab97ed230000', 'base_token': 'cx13d86dfb8b5e6db344a82f823a1259de8d6387a9', 'quote_token': 'cx773b203256491228aa05aff96fd9357e388f59ef', 'total_supply': '0xb7fec6152b435a428', 'price': '0x1b345b4cf7397e19', 'name': None, 'base_decimals': '0x12', 'quote_decimals': '0x12', 'min_quote': '0x8ac7230489e80000'}\n",
      "------------------------------------------------------------------------------------------------------------------\n",
      "Reading balanceOf, with parameters {'_owner': 'hx3f01840a599da07b0f620eeae7aa9c574169a4be', '_id': 2} on the dex contract.\n",
      "------------------------------------------------------------------------------------------------------------------\n",
      "0x3d54ecb1b916736b8\n",
      "Debt: 59.79740758675268, collateral: 1199.4951270915549, lp sicx: 99.00306879812355, total: 1298.4981958896785\n"
     ]
    }
   ],
   "source": [
    "call = CallBuilder().from_(btest_wallet.get_address())\\\n",
    "                    .to(contracts['loans']['SCORE'])\\\n",
    "                    .method('getAccountPositions')\\\n",
    "                    .params({'_owner': btest_wallet.get_address()}) \\\n",
    "                    .build()\n",
    "result = icon_service.call(call)\n",
    "print(result)\n",
    "btest_debt_new = int(result[\"total_debt\"],0)/ICX\n",
    "btest_collateral_new = int(result[\"collateral\"], 0)/ICX\n",
    "\n",
    "\n",
    "result = call_tx('dex', 'getPoolStats', {'_id': 2})\n",
    "total_sicx_new = int(result['quote'], 0) / ICX\n",
    "total_lp_new = int(result['total_supply'], 0)\n",
    "\n",
    "user_lp_new = int(call_tx('dex', 'balanceOf', {'_owner': btest_wallet.get_address(), '_id': 2}), 0)\n",
    "\n",
    "btest_sicx_lp_new = total_sicx_new * user_lp_new / total_lp_new\n",
    "\n",
    "btest_total_sicx_new = btest_collateral_new + btest_sicx_lp_new\n",
    "\n",
    "print(f\"Debt: {btest_debt_new}, collateral: {btest_collateral_new}, lp sicx: {btest_sicx_lp_new}, total: {btest_total_sicx_new}\")\n"
   ]
  },
  {
   "cell_type": "code",
   "execution_count": 95,
   "metadata": {
    "scrolled": true
   },
   "outputs": [
    {
     "name": "stdout",
     "output_type": "stream",
     "text": [
      "{'base': '0x836a956e9940ef800', 'quote': '0x1019d4ab97ed230000', 'base_token': 'cx74eb2b485b811a8d551e68b8cbc0ff9af9f695b4', 'quote_token': 'cxcffd0c80f999a314a1321f56920129f605263b18', 'total_supply': '0xb7fec6152b435a428', 'price': '0x1b345b4cf7397e19', 'name': None, 'base_decimals': '0x12', 'quote_decimals': '0x12', 'min_quote': '0x8ac7230489e80000'}\n"
     ]
    }
   ],
   "source": [
    "call = CallBuilder().from_(wallet.get_address())\\\n",
    "                    .to(contracts['dex']['SCORE'])\\\n",
    "                    .method('getPoolStats')\\\n",
    "                    .params({'_id': 2}) \\\n",
    "                    .build()\n",
    "result = icon_service.call(call)\n",
    "print(result)"
   ]
  },
  {
   "cell_type": "code",
   "execution_count": null,
   "metadata": {},
   "outputs": [],
   "source": [
    "# Add assets to existing pool\n",
    "\n",
    "sICX_contribute_amount = int(2 * ICX)\n",
    "bnUSD_contribute_amount = int(2 * ICX)\n",
    "\n",
    "txns = [{'contract': 'sicx', 'value': 0, 'method': 'transfer', 'params': {'_to': contracts['dex']['SCORE'], '_value': sICX_contribute_amount, '_data': json.dumps({\"method\": \"_deposit\"}).encode()}},\n",
    "        {'contract': 'bnUSD', 'value': 0, 'method': 'transfer', 'params': {'_to': contracts['dex']['SCORE'], '_value': bnUSD_contribute_amount, '_data': json.dumps({\"method\": \"_deposit\"}).encode()}},\n",
    "        {'contract': 'dex', 'value': 0, 'method': 'add', 'params': {'_baseToken': contracts['sicx']['SCORE'], '_quoteToken': contracts['bnUSD']['SCORE'], '_baseValue': sICX_contribute_amount, '_quoteValue': bnUSD_contribute_amount}}]\n",
    "\n",
    "supply_liquidity_results = {}\n",
    "for tx in txns:\n",
    "    res = send_tx(tx[\"contract\"], tx[\"value\"], tx[\"method\"], tx[\"params\"], wallet)\n",
    "    supply_liquidity_results[f'{tx[\"contract\"]}|{tx[\"method\"]}|{tx[\"params\"]}'] = res"
   ]
  },
  {
   "cell_type": "code",
   "execution_count": null,
   "metadata": {
    "scrolled": true
   },
   "outputs": [],
   "source": [
    "# Cell 35\n",
    "\n",
    "data = \"{\\\"method\\\": \\\"_deposit\\\"}\".encode(\"utf-8\")\n",
    "params = {'_to': contracts['dex']['SCORE'], '_value': 10 * ICX, '_data': data}\n",
    "transaction = CallTransactionBuilder()\\\n",
    "    .from_(wallet.get_address())\\\n",
    "    .to(contracts['bnUSD']['SCORE'])\\\n",
    "    .value(0)\\\n",
    "    .step_limit(10000000)\\\n",
    "    .nid(NID)\\\n",
    "    .nonce(100)\\\n",
    "    .method(\"transfer\")\\\n",
    "    .params(params)\\\n",
    "    .build()\n",
    "signed_transaction = SignedTransaction(transaction, wallet)\n",
    "tx_hash = icon_service.send_transaction(signed_transaction)\n",
    "tx_hash\n",
    "\n",
    "res = get_tx_result(tx_hash)\n",
    "print(f'Status: {res[\"status\"]}')\n",
    "if len(res[\"eventLogs\"]) > 0:\n",
    "    for item in res[\"eventLogs\"]:\n",
    "        print(f'{item} \\n')\n",
    "if res['status'] == 0:\n",
    "    print(f'Failure: {res[\"failure\"]}')"
   ]
  },
  {
   "cell_type": "code",
   "execution_count": null,
   "metadata": {},
   "outputs": [],
   "source": [
    "# Cell 36\n",
    "\n",
    "data = \"{\\\"method\\\": \\\"_deposit\\\"}\".encode(\"utf-8\")\n",
    "params = {'_to': contracts['dex']['SCORE'], '_value': 100 * ICX, '_data': data}\n",
    "transaction = CallTransactionBuilder()\\\n",
    "    .from_(wallet.get_address())\\\n",
    "    .to(contracts['baln']['SCORE'])\\\n",
    "    .value(0)\\\n",
    "    .step_limit(10000000)\\\n",
    "    .nid(NID)\\\n",
    "    .nonce(100)\\\n",
    "    .method(\"transfer\")\\\n",
    "    .params(params)\\\n",
    "    .build()\n",
    "signed_transaction = SignedTransaction(transaction, wallet)\n",
    "tx_hash = icon_service.send_transaction(signed_transaction)\n",
    "tx_hash\n",
    "\n",
    "res = get_tx_result(tx_hash)\n",
    "print(f'Status: {res[\"status\"]}')\n",
    "if len(res[\"eventLogs\"]) > 0:\n",
    "    for item in res[\"eventLogs\"]:\n",
    "        print(f'{item} \\n')\n",
    "if res['status'] == 0:\n",
    "    print(f'Failure: {res[\"failure\"]}')"
   ]
  },
  {
   "cell_type": "code",
   "execution_count": null,
   "metadata": {
    "scrolled": true
   },
   "outputs": [],
   "source": [
    "# Cell 37\n",
    "\n",
    "call = CallBuilder().from_(wallet.get_address())\\\n",
    "                    .to(contracts['dex']['SCORE'])\\\n",
    "                    .method('getDeposit')\\\n",
    "                    .params({'_user': wallet.get_address(), '_tokenAddress': contracts['baln']['SCORE']}) \\\n",
    "                    .build()\n",
    "result = icon_service.call(call)\n",
    "int(result, 0) / 10**18"
   ]
  },
  {
   "cell_type": "code",
   "execution_count": null,
   "metadata": {},
   "outputs": [],
   "source": [
    "# Cell 38a\n",
    "\n",
    "transaction = CallTransactionBuilder()\\\n",
    "    .from_(wallet.get_address())\\\n",
    "    .to(contracts['dex']['SCORE'])\\\n",
    "    .value(0)\\\n",
    "    .step_limit(10000000)\\\n",
    "    .nid(NID)\\\n",
    "    .nonce(100)\\\n",
    "    .method(\"add\")\\\n",
    "    .params({'_baseToken': contracts['baln']['SCORE'], '_quoteToken': contracts['bnUSD']['SCORE'], '_baseValue': 100 * ICX, '_quoteValue': 10 * ICX}) \\\n",
    "    .build()\n",
    "signed_transaction = SignedTransaction(transaction, wallet)\n",
    "tx_hash = icon_service.send_transaction(signed_transaction)\n",
    "tx_hash\n",
    "\n",
    "res = get_tx_result(tx_hash)\n",
    "print(f'Status: {res[\"status\"]}')\n",
    "if len(res[\"eventLogs\"]) > 0:\n",
    "    for item in res[\"eventLogs\"]:\n",
    "        print(f'{item} \\n')\n",
    "if res['status'] == 0:\n",
    "    print(f'Failure: {res[\"failure\"]}')"
   ]
  },
  {
   "cell_type": "code",
   "execution_count": null,
   "metadata": {},
   "outputs": [],
   "source": [
    "for i in range(5, 10):\n",
    "    data = \"{\\\"method\\\": \\\"_deposit\\\"}\".encode(\"utf-8\")\n",
    "    params = {'_to': contracts['dex']['SCORE'], '_value': 100 * ICX, '_data': data}\n",
    "    send_tx('baln', 0, 'transfer', params, wallets[i])\n",
    "    data = \"{\\\"method\\\": \\\"_deposit\\\"}\".encode(\"utf-8\")\n",
    "    params = {'_to': contracts['dex']['SCORE'], '_value': 10 * ICX, '_data': data}\n",
    "    send_tx('bnUSD', 0, 'transfer', params, wallets[i])\n",
    "    params = {'_baseToken': contracts['baln']['SCORE'], '_quoteToken': contracts['bnUSD']['SCORE'], '_baseValue': 100 * ICX, '_quoteValue': 10 * ICX}\n",
    "    send_tx('dex', 0, 'add', params, wallets[i])"
   ]
  },
  {
   "cell_type": "code",
   "execution_count": null,
   "metadata": {},
   "outputs": [],
   "source": [
    "# Cell 38b\n",
    "\n",
    "transaction = CallTransactionBuilder()\\\n",
    "    .from_(wallet.get_address())\\\n",
    "    .to(contracts['dex']['SCORE'])\\\n",
    "    .value(0)\\\n",
    "    .step_limit(10000000)\\\n",
    "    .nid(NID)\\\n",
    "    .nonce(100)\\\n",
    "    .method(\"add\")\\\n",
    "    .params({'_baseToken': contracts['sicx']['SCORE'], '_quoteToken': contracts['bnUSD']['SCORE'], '_baseValue': 2 * ICX, '_quoteValue': 1 * ICX}) \\\n",
    "    .build()\n",
    "signed_transaction = SignedTransaction(transaction, wallet)\n",
    "tx_hash = icon_service.send_transaction(signed_transaction)\n",
    "tx_hash\n",
    "\n",
    "res = get_tx_result(tx_hash)\n",
    "print(f'Status: {res[\"status\"]}')\n",
    "if len(res[\"eventLogs\"]) > 0:\n",
    "    for item in res[\"eventLogs\"]:\n",
    "        print(f'{item} \\n')\n",
    "if res['status'] == 0:\n",
    "    print(f'Failure: {res[\"failure\"]}')"
   ]
  },
  {
   "cell_type": "code",
   "execution_count": null,
   "metadata": {},
   "outputs": [],
   "source": [
    "# Cell 39\n",
    "\n",
    "transaction = CallTransactionBuilder()\\\n",
    "    .from_(btest_wallet.get_address())\\\n",
    "    .to(contracts['governance']['SCORE'])\\\n",
    "    .value(0)\\\n",
    "    .step_limit(10000000)\\\n",
    "    .nid(NID)\\\n",
    "    .nonce(100)\\\n",
    "    .method(\"dexPermit\")\\\n",
    "    .params({'_id': 1, '_permission': 1}) \\\n",
    "    .build()\n",
    "signed_transaction = SignedTransaction(transaction, btest_wallet)\n",
    "tx_hash = icon_service.send_transaction(signed_transaction)\n",
    "tx_hash\n",
    "\n",
    "res = get_tx_result(tx_hash)\n",
    "print(f'Status: {res[\"status\"]}')\n",
    "if len(res[\"eventLogs\"]) > 0:\n",
    "    for item in res[\"eventLogs\"]:\n",
    "        print(f'{item} \\n')\n",
    "if res['status'] == 0:\n",
    "    print(f'Failure: {res[\"failure\"]}')"
   ]
  },
  {
   "cell_type": "code",
   "execution_count": null,
   "metadata": {},
   "outputs": [],
   "source": [
    "# Cell 40\n",
    "\n",
    "call = CallBuilder().from_(wallet.get_address())\\\n",
    "                    .to(contracts['dex']['SCORE'])\\\n",
    "                    .method('getInversePrice')\\\n",
    "                    .params({'_id': 2}) \\\n",
    "                    .build()\n",
    "result = icon_service.call(call)\n",
    "int(result, 0) / 10**10"
   ]
  },
  {
   "cell_type": "code",
   "execution_count": null,
   "metadata": {},
   "outputs": [],
   "source": [
    "# Cell 41\n",
    "\n",
    "call = CallBuilder().from_(wallet.get_address())\\\n",
    "                    .to(contracts['dex']['SCORE'])\\\n",
    "                    .method('getPoolTotal')\\\n",
    "                    .params({'_id': 2, '_token': contracts['bnUSD']['SCORE']}) \\\n",
    "                    .build()\n",
    "result = icon_service.call(call)\n",
    "int(result, 0) / 10**18"
   ]
  },
  {
   "cell_type": "code",
   "execution_count": null,
   "metadata": {},
   "outputs": [],
   "source": [
    "# Cell 42\n",
    "\n",
    "call = CallBuilder().from_(wallet.get_address())\\\n",
    "                    .to(contracts['dex']['SCORE'])\\\n",
    "                    .method('getPoolId')\\\n",
    "                    .params({'_token1Address': contracts['sicx']['SCORE'], '_token2Address': contracts['bnUSD']['SCORE'] }) \\\n",
    "                    .build()\n",
    "result = icon_service.call(call)\n",
    "print(\"pool w/ tokens: \" + str(contracts['sicx']['SCORE']) + ' & ' + str(contracts['bnUSD']['SCORE']))\n",
    "print(result)"
   ]
  },
  {
   "cell_type": "code",
   "execution_count": null,
   "metadata": {},
   "outputs": [],
   "source": [
    "# Cell 43\n",
    "\n",
    "call = CallBuilder().from_(wallet.get_address())\\\n",
    "                    .to(contracts['dex']['SCORE'])\\\n",
    "                    .method('getPoolBase')\\\n",
    "                    .params({'_id': 2}) \\\n",
    "                    .build()\n",
    "result = icon_service.call(call)\n",
    "print(result)\n",
    "\n",
    "call = CallBuilder().from_(wallet.get_address())\\\n",
    "                    .to(contracts['dex']['SCORE'])\\\n",
    "                    .method('getPoolQuote')\\\n",
    "                    .params({'_id': 2}) \\\n",
    "                    .build()\n",
    "result = icon_service.call(call)\n",
    "print(result)"
   ]
  },
  {
   "cell_type": "code",
   "execution_count": null,
   "metadata": {},
   "outputs": [],
   "source": [
    "# Cell 44\n",
    "\n",
    "transaction = CallTransactionBuilder()\\\n",
    "    .from_(btest_wallet.get_address())\\\n",
    "    .to(contracts['governance']['SCORE'])\\\n",
    "    .value(0)\\\n",
    "    .step_limit(10000000)\\\n",
    "    .nid(NID)\\\n",
    "    .nonce(100)\\\n",
    "    .method(\"setMarketName\")\\\n",
    "    .params({'_id':2, '_name': 'sICX/bnUSD'}) \\\n",
    "    .build()\n",
    "signed_transaction = SignedTransaction(transaction, btest_wallet)\n",
    "tx_hash = icon_service.send_transaction(signed_transaction)\n",
    "tx_hash\n",
    "\n",
    "res = get_tx_result(tx_hash)\n",
    "print(f'Status: {res[\"status\"]}')\n",
    "if len(res[\"eventLogs\"]) > 0:\n",
    "    for item in res[\"eventLogs\"]:\n",
    "        print(f'{item} \\n')\n",
    "if res['status'] == 0:\n",
    "    print(f'Failure: {res[\"failure\"]}')\n",
    "print('\\n')\n",
    "\n",
    "call = CallBuilder().from_(wallet.get_address())\\\n",
    "                    .to(contracts['dex']['SCORE'])\\\n",
    "                    .method('getNamedPools')\\\n",
    "                    .build()\n",
    "result = icon_service.call(call)\n",
    "print(result)"
   ]
  },
  {
   "cell_type": "code",
   "execution_count": null,
   "metadata": {},
   "outputs": [],
   "source": [
    "# Cell 44\n",
    "\n",
    "transaction = CallTransactionBuilder()\\\n",
    "    .from_(btest_wallet.get_address())\\\n",
    "    .to(contracts['governance']['SCORE'])\\\n",
    "    .value(0)\\\n",
    "    .step_limit(10000000)\\\n",
    "    .nid(NID)\\\n",
    "    .nonce(100)\\\n",
    "    .method(\"setMarketName\")\\\n",
    "    .params({'_id':3, '_name': 'BALN/bnUSD'}) \\\n",
    "    .build()\n",
    "signed_transaction = SignedTransaction(transaction, btest_wallet)\n",
    "tx_hash = icon_service.send_transaction(signed_transaction)\n",
    "tx_hash\n",
    "\n",
    "res = get_tx_result(tx_hash)\n",
    "print(f'Status: {res[\"status\"]}')\n",
    "if len(res[\"eventLogs\"]) > 0:\n",
    "    for item in res[\"eventLogs\"]:\n",
    "        print(f'{item} \\n')\n",
    "if res['status'] == 0:\n",
    "    print(f'Failure: {res[\"failure\"]}')\n",
    "print('\\n')\n",
    "\n",
    "call = CallBuilder().from_(wallet.get_address())\\\n",
    "                    .to(contracts['dex']['SCORE'])\\\n",
    "                    .method('getNamedPools')\\\n",
    "                    .build()\n",
    "result = icon_service.call(call)\n",
    "print(result)"
   ]
  },
  {
   "cell_type": "code",
   "execution_count": null,
   "metadata": {},
   "outputs": [],
   "source": [
    "call_tx('rewards', 'getRecipientsSplit', {})"
   ]
  },
  {
   "cell_type": "code",
   "execution_count": null,
   "metadata": {},
   "outputs": [],
   "source": [
    "# Set the percentages to use with the BALN/bnUSD pool included.\n",
    "\n",
    "# {\n",
    "#     \"Worker Tokens\": \"200 000 000 000 000 000\",\n",
    "#     \"Reserve Fund\": \"50 000 000 000 000 000\",\n",
    "#     \"DAOfund\": \"225 000 000 000 000 000\",\n",
    "#     \"Loans\": \"250 000 000 000 000 000\",\n",
    "#     \"sICX/ICX\": \"100 000 000 000 000 000\",\n",
    "#     \"sICX/bnUSD\": \"175 000 000 000 000 000\",\n",
    "#     \"BALN/sICX\": \"0\",\n",
    "#     \"BALN/bnUSD\": \"0\",\n",
    "#     \"OMM/IUSDC\": \"0\",\n",
    "#     \"OMM/USDb\": \"0\",\n",
    "#     \"OMM/sICX\": \"0\"\n",
    "# }\n",
    "\n",
    "RECIPIENTS = [{'recipient_name': 'Loans', 'dist_percent': 20 * 10**16},\n",
    "              {'recipient_name': 'sICX/ICX', 'dist_percent': 10 * 10**16},\n",
    "              {'recipient_name': 'sICX/bnUSD', 'dist_percent': 175 * 10**15},\n",
    "              {'recipient_name': 'BALN/bnUSD', 'dist_percent': 175 * 10**15},\n",
    "              {'recipient_name': 'BALN/sICX', 'dist_percent': 5 * 10**16},\n",
    "              {'recipient_name': 'OMM/IUSDC', 'dist_percent': 0},\n",
    "              {'recipient_name': 'OMM/USDb', 'dist_percent': 0},\n",
    "              {'recipient_name': 'OMM/sICX', 'dist_percent': 0},\n",
    "              {'recipient_name': 'Worker Tokens', 'dist_percent': 20 * 10**16},\n",
    "              {'recipient_name': 'Reserve Fund', 'dist_percent': 5 * 10**16},\n",
    "              {'recipient_name': 'DAOfund', 'dist_percent': 5 * 10**16}]\n",
    "\n",
    "send_tx('governance', 0, 'updateBalTokenDistPercentage', {'_recipient_list': RECIPIENTS}, btest_wallet)"
   ]
  },
  {
   "cell_type": "code",
   "execution_count": null,
   "metadata": {
    "scrolled": false
   },
   "outputs": [],
   "source": [
    "# Cell 45\n",
    "\n",
    "to_token = contracts['sicx']['SCORE']\n",
    "params_data = \"{\\\"method\\\": \\\"_swap\\\", \\\"params\\\": {\\\"toToken\\\":\\\"\" + str(to_token) + \"\\\", \\\"maxSlippage\\\":190}}\"\n",
    "data = params_data.encode(\"utf-8\")\n",
    "params = {'_to': contracts['dex']['SCORE'], '_value': ICX // 100, '_data': data}\n",
    "transaction = CallTransactionBuilder()\\\n",
    "    .from_(wallet.get_address())\\\n",
    "    .to(contracts['bnUSD']['SCORE'])\\\n",
    "    .value(0)\\\n",
    "    .step_limit(10000000)\\\n",
    "    .nid(NID)\\\n",
    "    .nonce(100)\\\n",
    "    .method(\"transfer\")\\\n",
    "    .params(params)\\\n",
    "    .build()\n",
    "signed_transaction = SignedTransaction(transaction, wallet)\n",
    "tx_hash = icon_service.send_transaction(signed_transaction)\n",
    "tx_hash\n",
    "\n",
    "res = get_tx_result(tx_hash)\n",
    "print(f'Status: {res[\"status\"]}')\n",
    "if len(res[\"eventLogs\"]) > 0:\n",
    "    for item in res[\"eventLogs\"]:\n",
    "        print(f'{item} \\n')\n",
    "if res['status'] == 0:\n",
    "    print(f'Failure: {res[\"failure\"]}')"
   ]
  },
  {
   "cell_type": "code",
   "execution_count": null,
   "metadata": {},
   "outputs": [],
   "source": [
    "# Cell 45\n",
    "\n",
    "path = [contracts['bnUSD']['SCORE'], contracts['sicx']['SCORE'], contracts['bnUSD']['SCORE'], contracts['sicx']['SCORE'], None]\n",
    "\n",
    "path_json = json.dumps(path)\n",
    "\n",
    "\n",
    "to_token = contracts['bnUSD']['SCORE']\n",
    "params_data = \"{\\\"method\\\": \\\"_swap\\\", \\\"params\\\": {\\\"path\\\":\" + path_json + \"}}\"\n",
    "data = params_data.encode(\"utf-8\")\n",
    "params = {'_to': contracts['router']['SCORE'], '_value': ICX // 100, '_data': data}\n",
    "\n",
    "print(params)\n",
    "transaction = CallTransactionBuilder()\\\n",
    "    .from_(wallet.get_address())\\\n",
    "    .to(contracts['sicx']['SCORE'])\\\n",
    "    .value(0)\\\n",
    "    .step_limit(10000000)\\\n",
    "    .nid(NID)\\\n",
    "    .nonce(100)\\\n",
    "    .method(\"transfer\")\\\n",
    "    .params(params)\\\n",
    "    .build()\n",
    "signed_transaction = SignedTransaction(transaction, wallet)\n",
    "tx_hash = icon_service.send_transaction(signed_transaction)\n",
    "tx_hash\n",
    "\n",
    "res = get_tx_result(tx_hash)\n",
    "print(f'Status: {res[\"status\"]}')\n",
    "if len(res[\"eventLogs\"]) > 0:\n",
    "    for item in res[\"eventLogs\"]:\n",
    "        print(f'{item} \\n')\n",
    "if res['status'] == 0:\n",
    "    print(f'Failure: {res[\"failure\"]}')"
   ]
  },
  {
   "cell_type": "code",
   "execution_count": null,
   "metadata": {},
   "outputs": [],
   "source": [
    "# Cell 46\n",
    "\n",
    "call = CallBuilder().from_(wallet.get_address())\\\n",
    "                    .to(contracts['dex']['SCORE'])\\\n",
    "                    .method('getPoolTotal')\\\n",
    "                    .params({'_id': 2, '_token': contracts['sicx']['SCORE']}) \\\n",
    "                    .build()\n",
    "result = icon_service.call(call)\n",
    "int(result, 0) / 10**18"
   ]
  },
  {
   "cell_type": "code",
   "execution_count": null,
   "metadata": {},
   "outputs": [],
   "source": [
    "# Cell 47\n",
    "\n",
    "call = CallBuilder().from_(wallet.get_address())\\\n",
    "                    .to(contracts['dex']['SCORE'])\\\n",
    "                    .method('getPoolTotal')\\\n",
    "                    .params({'_id': 2, '_token': contracts['bnUSD']['SCORE']}) \\\n",
    "                    .build()\n",
    "result = icon_service.call(call)\n",
    "int(result, 0) / 10**18"
   ]
  },
  {
   "cell_type": "code",
   "execution_count": null,
   "metadata": {},
   "outputs": [],
   "source": [
    "# Cell 48\n",
    "\n",
    "call = CallBuilder().from_(wallet.get_address())\\\n",
    "                    .to(contracts['dex']['SCORE'])\\\n",
    "                    .method('totalSupply')\\\n",
    "                    .params({'_id': 2}) \\\n",
    "                    .build()\n",
    "result = icon_service.call(call)\n",
    "int(result, 0) / 10**18"
   ]
  },
  {
   "cell_type": "code",
   "execution_count": 22,
   "metadata": {
    "scrolled": false
   },
   "outputs": [
    {
     "name": "stdout",
     "output_type": "stream",
     "text": [
      "Retrying in 1 seconds...\n",
      "Status: 1\n",
      "{'scoreAddress': 'cx951242b96e6bb6b2ef5148ba062dec44b75d1136', 'indexed': ['Remove(int,Address,int,int,int)', '0x2', 'hx3f01840a599da07b0f620eeae7aa9c574169a4be', '0xde0b6b3a7640000'], 'data': ['0xabb3a65d28175e8', '0x11f25dfa8326665b']} \n",
      "\n",
      "{'scoreAddress': 'cx951242b96e6bb6b2ef5148ba062dec44b75d1136', 'indexed': ['TransferSingle(Address,Address,Address,int,int)', 'hx3f01840a599da07b0f620eeae7aa9c574169a4be', 'hx3f01840a599da07b0f620eeae7aa9c574169a4be', 'cxf000000000000000000000000000000000000000'], 'data': ['0x2', '0xde0b6b3a7640000']} \n",
      "\n",
      "{'scoreAddress': 'cxa2f980a6a8fe637ab0704a92531cb4cf08519170', 'indexed': ['Transfer(Address,Address,int,bytes)', 'cx951242b96e6bb6b2ef5148ba062dec44b75d1136', 'hx3f01840a599da07b0f620eeae7aa9c574169a4be', '0xabb3a65d28175e8'], 'data': ['0x4e6f6e65']} \n",
      "\n",
      "{'scoreAddress': 'cx951242b96e6bb6b2ef5148ba062dec44b75d1136', 'indexed': ['Withdraw(Address,Address,int)', 'cxa2f980a6a8fe637ab0704a92531cb4cf08519170', 'hx3f01840a599da07b0f620eeae7aa9c574169a4be'], 'data': ['0xabb3a65d28175e8']} \n",
      "\n",
      "{'scoreAddress': 'cx9a725c1b9e3496293fa8789f1df4475409ae4f0c', 'indexed': ['Transfer(Address,Address,int,bytes)', 'cx951242b96e6bb6b2ef5148ba062dec44b75d1136', 'hx3f01840a599da07b0f620eeae7aa9c574169a4be', '0x11f25dfa8326665b'], 'data': ['0x4e6f6e65']} \n",
      "\n",
      "{'scoreAddress': 'cx951242b96e6bb6b2ef5148ba062dec44b75d1136', 'indexed': ['Withdraw(Address,Address,int)', 'cx9a725c1b9e3496293fa8789f1df4475409ae4f0c', 'hx3f01840a599da07b0f620eeae7aa9c574169a4be'], 'data': ['0x11f25dfa8326665b']} \n",
      "\n",
      "\n",
      "\n"
     ]
    },
    {
     "data": {
      "text/plain": [
       "82.32503161168343"
      ]
     },
     "execution_count": 22,
     "metadata": {},
     "output_type": "execute_result"
    }
   ],
   "source": [
    "# Cell 49\n",
    "\n",
    "transaction = CallTransactionBuilder()\\\n",
    "    .from_(btest_wallet.get_address())\\\n",
    "    .to(contracts['dex']['SCORE'])\\\n",
    "    .value(0)\\\n",
    "    .step_limit(10000000)\\\n",
    "    .nid(NID)\\\n",
    "    .nonce(100)\\\n",
    "    .method(\"remove\")\\\n",
    "    .params({'_id':2, '_value': 1 * ICX, '_withdraw': 1}) \\\n",
    "    .build()\n",
    "signed_transaction = SignedTransaction(transaction, btest_wallet)\n",
    "tx_hash = icon_service.send_transaction(signed_transaction)\n",
    "tx_hash\n",
    "\n",
    "res = get_tx_result(tx_hash)\n",
    "print(f'Status: {res[\"status\"]}')\n",
    "if len(res[\"eventLogs\"]) > 0:\n",
    "    for item in res[\"eventLogs\"]:\n",
    "        print(f'{item} \\n')\n",
    "if res['status'] == 0:\n",
    "    print(f'Failure: {res[\"failure\"]}')\n",
    "print('\\n')\n",
    "\n",
    "call = CallBuilder().from_(wallet.get_address())\\\n",
    "                    .to(contracts['dex']['SCORE'])\\\n",
    "                    .method('getPoolTotal')\\\n",
    "                    .params({'_id': 2, '_token': contracts['bnUSD']['SCORE']}) \\\n",
    "                    .build()\n",
    "result = icon_service.call(call)\n",
    "int(result, 0) / 10**18"
   ]
  },
  {
   "cell_type": "code",
   "execution_count": null,
   "metadata": {},
   "outputs": [],
   "source": [
    "# Cell 50\n",
    "\n",
    "data = \"{\\\"method\\\": \\\"_deposit\\\"}\".encode(\"utf-8\")\n",
    "params = {'_to': contracts['dex']['SCORE'], '_value': 30 * ICX, '_data': data}\n",
    "transaction = CallTransactionBuilder()\\\n",
    "    .from_(wallet.get_address())\\\n",
    "    .to(contracts['bnUSD']['SCORE'])\\\n",
    "    .value(0)\\\n",
    "    .step_limit(10000000)\\\n",
    "    .nid(NID)\\\n",
    "    .nonce(100)\\\n",
    "    .method(\"transfer\")\\\n",
    "    .params(params)\\\n",
    "    .build()\n",
    "signed_transaction = SignedTransaction(transaction, wallet)\n",
    "tx_hash = icon_service.send_transaction(signed_transaction)\n",
    "tx_hash\n",
    "\n",
    "res = get_tx_result(tx_hash)\n",
    "print(f'Status: {res[\"status\"]}')\n",
    "if len(res[\"eventLogs\"]) > 0:\n",
    "    for item in res[\"eventLogs\"]:\n",
    "        print(f'{item} \\n')\n",
    "if res['status'] == 0:\n",
    "    print(f'Failure: {res[\"failure\"]}')"
   ]
  },
  {
   "cell_type": "code",
   "execution_count": null,
   "metadata": {},
   "outputs": [],
   "source": [
    "# Cell 51\n",
    "\n",
    "transaction = TransactionBuilder()\\\n",
    "    .from_(wallet.get_address())\\\n",
    "    .to(contracts['dex']['SCORE'])\\\n",
    "    .value(1 * ICX)\\\n",
    "    .step_limit(10000000)\\\n",
    "    .nid(NID)\\\n",
    "    .nonce(101)\\\n",
    "    .build()\n",
    "signed_transaction = SignedTransaction(transaction, wallet)\n",
    "tx_hash = icon_service.send_transaction(signed_transaction)\n",
    "tx_hash\n",
    "\n",
    "res = get_tx_result(tx_hash)\n",
    "print(f'Status: {res[\"status\"]}')\n",
    "if len(res[\"eventLogs\"]) > 0:\n",
    "    for item in res[\"eventLogs\"]:\n",
    "        print(f'{item} \\n')\n",
    "if res['status'] == 0:\n",
    "    print(f'Failure: {res[\"failure\"]}')"
   ]
  },
  {
   "cell_type": "code",
   "execution_count": 15,
   "metadata": {},
   "outputs": [
    {
     "name": "stdout",
     "output_type": "stream",
     "text": [
      "Retrying in 1 seconds...\n",
      "Retrying in 2 seconds...\n",
      "Status: 0\n",
      "Failure: {'code': 32, 'message': 'Balanced DEX: Assets must remain in the pool for 24 hours, please try again later.'}\n"
     ]
    }
   ],
   "source": [
    "# Cell 52\n",
    "\n",
    "transaction = CallTransactionBuilder()\\\n",
    "    .from_(wallet.get_address())\\\n",
    "    .to(contracts['dex']['SCORE'])\\\n",
    "    .value(0)\\\n",
    "    .step_limit(10000000)\\\n",
    "    .nid(NID)\\\n",
    "    .nonce(100)\\\n",
    "    .method(\"cancelSicxicxOrder\")\\\n",
    "    .params({}) \\\n",
    "    .build()\n",
    "signed_transaction = SignedTransaction(transaction, wallet)\n",
    "tx_hash = icon_service.send_transaction(signed_transaction)\n",
    "tx_hash\n",
    "\n",
    "res = get_tx_result(tx_hash)\n",
    "print(f'Status: {res[\"status\"]}')\n",
    "if len(res[\"eventLogs\"]) > 0:\n",
    "    for item in res[\"eventLogs\"]:\n",
    "        print(f'{item} \\n')\n",
    "if res['status'] == 0:\n",
    "    print(f'Failure: {res[\"failure\"]}')"
   ]
  },
  {
   "cell_type": "code",
   "execution_count": null,
   "metadata": {},
   "outputs": [],
   "source": [
    "call_tx('dex', 'getPoolStats', {'_id': 1})"
   ]
  },
  {
   "cell_type": "code",
   "execution_count": null,
   "metadata": {},
   "outputs": [],
   "source": [
    "# address_list = [\n",
    "#     wallets[1].get_address(),\n",
    "#     wallets[2].get_address(),\n",
    "#     wallets[3].get_address(),\n",
    "#     wallets[4].get_address(),\n",
    "#     wallets[5].get_address(),\n",
    "#     wallets[6].get_address(),\n",
    "#     wallets[7].get_address(),\n",
    "#     wallets[8].get_address(),\n",
    "# ]\n",
    "\n",
    "def query_total_supply(address_list, pool_id, day, minimum):\n",
    "    snapshot = call_tx('dex', 'totalSupplyAt', {'_account': address, '_id': pool_id, '_snapshot_id': day, '_twa': 1}, 0)\n",
    "    return int(snapshot, 0)\n",
    "\n",
    "def get_min_supply(pool_id):\n",
    "    pool_stats = call_tx('dex', 'getPoolStats', {'_id': pool_id})\n",
    "    quote_token = pool_stats['quote_token']\n",
    "    total_quote = int(pool_stats['quote'], 0)\n",
    "    total_supply = int(pool_stats['total_supply'], 0)\n",
    "\n",
    "    min_quote = 50 * ICX\n",
    "    if quote_token == contracts['sicx']['SCORE']:\n",
    "        min_quote = 25 * ICX\n",
    "    elif quote_token == contracts['bnUSD']['SCORE']:\n",
    "        min_quote = 25 * ICX\n",
    "    \n",
    "    min_liquidity = min_quote * total_supply // total_quote\n",
    "    \n",
    "    return min_liquidity\n",
    "    \n",
    "\n",
    "def query_addresses(address_list, pool_id, day):\n",
    "    minimum = get_min_supply(pool_id)\n",
    "    rv = {}\n",
    "    for address in address_list:\n",
    "        snapshot = call_tx('dex', 'balanceOfAt', {'_account': address, '_id': pool_id, '_snapshot_id': day, '_twa': 0}, 0)\n",
    "        if int(snapshot, 0) > minimum:\n",
    "            twa = call_tx('dex', 'balanceOfAt', {'_account': address, '_id': pool_id, '_snapshot_id': day, '_twa': 1}, 0)\n",
    "            rv[address] = int(twa, 0)\n",
    "    return rv\n"
   ]
  },
  {
   "cell_type": "code",
   "execution_count": null,
   "metadata": {},
   "outputs": [],
   "source": [
    "with open(\"../bad_rewards_fix/correct_rewards.pkl\", 'rb') as f:\n",
    "    pool_awards = pkl.load(f)"
   ]
  },
  {
   "cell_type": "code",
   "execution_count": null,
   "metadata": {},
   "outputs": [],
   "source": [
    "pools = ['sICX/ICX', 'sICX/bnUSD', 'BALN/bnUSD']\n",
    "list(pool_awards[pools[2]][1].keys())"
   ]
  },
  {
   "cell_type": "code",
   "execution_count": null,
   "metadata": {},
   "outputs": [],
   "source": [
    "to_token = contracts['baln']['SCORE']\n",
    "params_data = \"{\\\"method\\\": \\\"_swap\\\", \\\"params\\\": {\\\"toToken\\\":\\\"\" + str(to_token) + \"\\\", \\\"maxSlippage\\\":250}}\"\n",
    "data = params_data.encode(\"utf-8\")\n",
    "params = {'_to': contracts['dex']['SCORE'], '_value': (int) (1 * ICX), '_data': data}\n",
    "transaction = CallTransactionBuilder()\\\n",
    "    .from_(wallet.get_address())\\\n",
    "    .to(contracts['bnUSD']['SCORE'])\\\n",
    "    .value(0)\\\n",
    "    .step_limit(10000000)\\\n",
    "    .nid(NID)\\\n",
    "    .nonce(100)\\\n",
    "    .method(\"transfer\")\\\n",
    "    .params(params)\\\n",
    "    .build()\n",
    "signed_transaction = SignedTransaction(transaction, wallet)\n",
    "tx_hash = icon_service.send_transaction(signed_transaction)\n",
    "tx_hash\n",
    "\n",
    "res = get_tx_result(tx_hash)\n",
    "print(f'Status: {res[\"status\"]}')\n",
    "if len(res[\"eventLogs\"]) > 0:\n",
    "    for item in res[\"eventLogs\"]:\n",
    "        print(f'{item} \\n')\n",
    "if res['status'] == 0:\n",
    "    print(f'Failure: {res[\"failure\"]}')"
   ]
  },
  {
   "cell_type": "code",
   "execution_count": null,
   "metadata": {},
   "outputs": [],
   "source": [
    "results = {}\n",
    "for pool in [1, 2, 3]:\n",
    "    results[pool] = {}\n",
    "    for day in [1, 2, 3]:\n",
    "        address_list = list(pool_awards[pools[pool-1]][day].keys())\n",
    "        results[pool][day] = query_addresses(address_list, pool, day)"
   ]
  },
  {
   "cell_type": "code",
   "execution_count": null,
   "metadata": {},
   "outputs": [],
   "source": [
    "# with open(\"../bad_rewards_fix/bad_data_batches.pkl\", 'wb') as f:\n",
    "#     pkl.dump(results, f)"
   ]
  },
  {
   "cell_type": "code",
   "execution_count": null,
   "metadata": {},
   "outputs": [],
   "source": [
    "# We need to filter out the addresses that did not qualify for rewards due to insufficient liquidity provided.\n",
    "# The results list will be the determinant of whether an address qualifies or not.\n",
    "\n",
    "total_awards = [3 * [10**22], 3 * [175 * 10**20], 3 * [175 * 10**20]]\n",
    "mining_total = {}\n",
    "pool_awards_filtered = {}\n",
    "for pool in [1, 2, 3]:\n",
    "    pool_awards_filtered[pool] = {}\n",
    "    mining_total[pool] = {}\n",
    "    for day in [1, 2, 3]:\n",
    "        mining_total[pool][day] = 0\n",
    "        pool_awards_filtered[pool][day] = {}\n",
    "        for address in pool_awards[pools[pool-1]][day]:\n",
    "            if address in results[pool][day]:\n",
    "                mining_total[pool][day] += pool_awards[pools[pool-1]][day][address]\n",
    "                pool_awards_filtered[pool][day][address] = pool_awards[pools[pool-1]][day][address]\n",
    "        for address in pool_awards_filtered[pool][day]:\n",
    "            share = total_awards[pool-1][day-1] * pool_awards_filtered[pool][day][address] // mining_total[pool][day]\n",
    "            mining_total[pool][day] -= pool_awards_filtered[pool][day][address]\n",
    "            total_awards[pool-1][day-1] -= share\n",
    "            pool_awards_filtered[pool][day][address] = share\n"
   ]
  },
  {
   "cell_type": "code",
   "execution_count": null,
   "metadata": {},
   "outputs": [],
   "source": [
    "# with open(\"../bad_rewards_fix/pool_awards_filtered.pkl\", 'wb') as f:\n",
    "#     pkl.dump(pool_awards_filtered, f)"
   ]
  },
  {
   "cell_type": "code",
   "execution_count": null,
   "metadata": {},
   "outputs": [],
   "source": [
    "with open(\"../bad_rewards_fix/pool_awards_filtered.pkl\", 'rb') as f:\n",
    "    pool_awards_filtered = pkl.load(f)"
   ]
  },
  {
   "cell_type": "code",
   "execution_count": null,
   "metadata": {},
   "outputs": [],
   "source": [
    "bad_totals = {}\n",
    "for pool in [1, 2, 3]:\n",
    "    bad_totals[pool] = {}\n",
    "    for day in [1, 2, 3]:\n",
    "        bad_totals[pool][day] = sum(results[pool][day].values())\n",
    "\n",
    "pool_alloc = [10**22, 175 * 10**20, 175 * 10**20]\n",
    "\n",
    "bad_rewards = {}\n",
    "for pool in [1, 2, 3]:\n",
    "    bad_rewards[pool] = {}\n",
    "    for day in [1, 2, 3]:\n",
    "        bad_rewards[pool][day] = {}\n",
    "        for address in results[pool][day]:\n",
    "            share = pool_alloc[pool-1] * results[pool][day][address] // bad_totals[pool][day]\n",
    "            bad_rewards[pool][day][address] = share\n",
    "            pool_alloc[pool-1] -= share\n",
    "            bad_totals[pool][day] -= results[pool][day][address]"
   ]
  },
  {
   "cell_type": "code",
   "execution_count": null,
   "metadata": {},
   "outputs": [],
   "source": [
    "# with open(\"../bad_rewards_fix/bad_rewards.pkl\", 'wb') as f:\n",
    "#     pkl.dump(bad_rewards, f)"
   ]
  },
  {
   "cell_type": "code",
   "execution_count": null,
   "metadata": {},
   "outputs": [],
   "source": [
    "with open(\"../bad_rewards_fix/bad_rewards.pkl\", 'rb') as f:\n",
    "    bad_rewards = pkl.load(f)"
   ]
  },
  {
   "cell_type": "code",
   "execution_count": null,
   "metadata": {},
   "outputs": [],
   "source": [
    "rewards_diff = {}\n",
    "for pool in [1, 2, 3]:\n",
    "    rewards_diff[pool] = {}\n",
    "    for day in [1, 2, 3]:\n",
    "        rewards_diff[pool][day] = {}\n",
    "        for address in results[pool][day]:\n",
    "            rewards_diff[pool][day][address] = pool_awards_filtered[pool][day][address] - bad_rewards[pool][day][address]"
   ]
  },
  {
   "cell_type": "code",
   "execution_count": null,
   "metadata": {},
   "outputs": [],
   "source": [
    "rewards_diff"
   ]
  },
  {
   "cell_type": "code",
   "execution_count": null,
   "metadata": {},
   "outputs": [],
   "source": [
    "# with open(\"../bad_rewards_fix/rewards_diff.pkl\", 'wb') as f:\n",
    "#     pkl.dump(rewards_diff, f)"
   ]
  },
  {
   "cell_type": "code",
   "execution_count": null,
   "metadata": {},
   "outputs": [],
   "source": [
    "with open(\"../bad_rewards_fix/rewards_diff.pkl\", 'rb') as f:\n",
    "    rewards_diff = pkl.load(f)"
   ]
  },
  {
   "cell_type": "code",
   "execution_count": null,
   "metadata": {},
   "outputs": [],
   "source": [
    "diff_totals = {}\n",
    "for pool in [1, 2, 3]:\n",
    "    diff_totals[pool] = {}\n",
    "    for day in [1, 2, 3]:\n",
    "        diff_totals[pool][day] = {'sum': 0, 'neg': 0, 'pos': 0}\n",
    "        diff_totals[pool][day]['sum'] = sum(rewards_diff[pool][day].values()) / 10**18\n",
    "        for address in rewards_diff[pool][day]:\n",
    "            if rewards_diff[pool][day][address] >= 0:\n",
    "                diff_totals[pool][day]['pos'] += rewards_diff[pool][day][address]\n",
    "            else:\n",
    "                diff_totals[pool][day]['neg'] += rewards_diff[pool][day][address]\n",
    "        diff_totals[pool][day]['pos'] = diff_totals[pool][day]['pos'] / 10**18\n",
    "        diff_totals[pool][day]['neg'] = diff_totals[pool][day]['neg'] / 10**18"
   ]
  },
  {
   "cell_type": "code",
   "execution_count": null,
   "metadata": {},
   "outputs": [],
   "source": [
    "diff_totals"
   ]
  },
  {
   "cell_type": "code",
   "execution_count": null,
   "metadata": {},
   "outputs": [],
   "source": [
    "totals_owed = {}\n",
    "for pool in [1, 2, 3]:\n",
    "    for day in [1, 2, 3]:\n",
    "        for address in rewards_diff[pool][day]:\n",
    "            if rewards_diff[pool][day][address] > 0:\n",
    "                if address not in totals_owed:\n",
    "                    totals_owed[address] = rewards_diff[pool][day][address]\n",
    "                else:\n",
    "                    totals_owed[address] += rewards_diff[pool][day][address]"
   ]
  },
  {
   "cell_type": "code",
   "execution_count": null,
   "metadata": {},
   "outputs": [],
   "source": [
    "with open('bal_alloc2.csv', 'w') as f:\n",
    "    f.write(f'Address, orig.d1p1, delta.d1p1, total.d1p1, orig.d1p2, delta.d1p2, total.d1p2, d2p1, d2p2, orig.d2p3, delta.d2p3, total.d2p3, d3p1, d3p2, d3p3, total\\n')\n",
    "    for address in totals_owed:\n",
    "        oamount1 = bad_rewards[1][1].get(address, 0) / 10**18\n",
    "        oamount2 = bad_rewards[2][1].get(address, 0) / 10**18\n",
    "        oamount3 = bad_rewards[3][2].get(address, 0) / 10**18\n",
    "        damount1 = rewards_diff[1][1].get(address, 0) / 10**18\n",
    "        damount2 = rewards_diff[2][1].get(address, 0) / 10**18\n",
    "        damount3 = rewards_diff[3][2].get(address, 0) / 10**18\n",
    "        tamount1 = damount1 + oamount1 if damount1 > 0 else oamount1\n",
    "        tamount2 = damount2 + oamount2 if damount2 > 0 else oamount2\n",
    "        tamount3 = damount3 + oamount3 if damount3 > 0 else oamount3\n",
    "        f.write(f'{address}, '\n",
    "                f'{oamount1}, '\n",
    "                f'{damount1}, '\n",
    "                f'{tamount1}, '\n",
    "                f'{oamount2}, '\n",
    "                f'{damount2}, '\n",
    "                f'{tamount2}, '\n",
    "                f'{rewards_diff[1][2].get(address, 0) / 10**18}, '\n",
    "                f'{rewards_diff[2][2].get(address, 0) / 10**18}, '\n",
    "                f'{oamount3}, '\n",
    "                f'{damount3}, '\n",
    "                f'{tamount3}, '\n",
    "                f'{rewards_diff[1][3].get(address, 0) / 10**18}, '\n",
    "                f'{rewards_diff[2][3].get(address, 0) / 10**18}, '\n",
    "                f'{rewards_diff[3][3].get(address, 0) / 10**18}, '\n",
    "                f'{totals_owed[address] / 10**18}\\n')"
   ]
  },
  {
   "cell_type": "markdown",
   "metadata": {},
   "source": [
    "### len(totals_owed) = 1607"
   ]
  },
  {
   "cell_type": "markdown",
   "metadata": {},
   "source": [
    "### sum(totals_owed.values()) / 10**18 = 81252.796380166532499864"
   ]
  },
  {
   "cell_type": "code",
   "execution_count": null,
   "metadata": {},
   "outputs": [],
   "source": [
    "batches = []\n",
    "addresses = []\n",
    "amounts = []\n",
    "for address in totals_owed:\n",
    "    addresses.append(address)\n",
    "    amounts.append(totals_owed[address])\n",
    "    if len(addresses) % 250 == 0:\n",
    "        batches.append((addresses[:], amounts[:]))\n",
    "        addresses = []\n",
    "        amounts = []\n",
    "batches.append((addresses[:], amounts[:]))"
   ]
  },
  {
   "cell_type": "code",
   "execution_count": null,
   "metadata": {},
   "outputs": [],
   "source": [
    "total = 0\n",
    "for batch in batches:\n",
    "    print(f'Addresses length: {len(batch[0])}, amounts length: {len(batch[1])}, amounts sum: {sum(batch[1])}')\n",
    "    total += sum(batch[1])\n",
    "print(f'Total distribution = {total / 10**18} BALN.')"
   ]
  },
  {
   "cell_type": "code",
   "execution_count": null,
   "metadata": {},
   "outputs": [],
   "source": [
    "# with open(\"../bad_rewards_fix/totals_owed.pkl\", 'wb') as f:\n",
    "#     pkl.dump(totals_owed, f)"
   ]
  },
  {
   "cell_type": "code",
   "execution_count": null,
   "metadata": {},
   "outputs": [],
   "source": [
    "# with open(\"../bad_rewards_fix/batches.pkl\", 'wb') as f:\n",
    "#     pkl.dump(batches, f)"
   ]
  },
  {
   "cell_type": "markdown",
   "metadata": {},
   "source": [
    "### The above sums to a discrepancy of 72500 undistributed BALN plus ~8752.796 incorrectly allocated.\n",
    "Founding team will supply 8754 BALN to be distributed on the rewards SCORE. All Balanced Participants will then be paid everything they are owed plus some bonus for early paritipant appreciation."
   ]
  },
  {
   "cell_type": "code",
   "execution_count": null,
   "metadata": {},
   "outputs": [],
   "source": [
    "# Set of DEX addresses\n",
    "address_set = set()\n",
    "for pool in [1, 2, 3]:\n",
    "    for day in [1, 2, 3]:\n",
    "        address_set.update(set(pool_awards[pools[pool-1]][day].keys()))"
   ]
  },
  {
   "cell_type": "code",
   "execution_count": null,
   "metadata": {},
   "outputs": [],
   "source": [
    "# Check BALN that has been distributed on the rewards SCORE, and to platform contract addresses.\n",
    "\n",
    "borrowerCount = int(call_tx('loans', 'borrowerCount', {}, False), 0)\n",
    "\n",
    "positions = {}\n",
    "addresses = address_set\n",
    "for i in range(1, borrowerCount + 1):\n",
    "    position = call_tx('loans', 'getPositionByIndex', {'_index': i, '_day': -1}, False)\n",
    "    addresses.add(position['address'])\n",
    "    positions[position['address']] = position\n",
    "\n",
    "holders = call_tx('rewards', 'getBalnHoldings', {'_holders': list(addresses)}, False)\n",
    "\n",
    "total_balances = 0\n",
    "baln_balances = {}\n",
    "for contract in ['rewards', 'reserve', 'bwt', 'dex', 'daofund']:\n",
    "    result = int(call_tx('baln', 'balanceOf', {'_owner': contracts[contract]['SCORE']}, False), 0)\n",
    "    baln_balances[contract] = result / 10**18\n",
    "    total_balances += result\n",
    "\n",
    "holdings = {key: {'rewards': [int(holders[key], 0),\n",
    "                              int(holders[key], 0) / 10**18]} for key in holders}\n",
    "\n",
    "for address in holdings:\n",
    "    holdings[address]['wallet'] = [int(call_tx('baln', 'balanceOf', {'_owner': address}, False), 0)]\n",
    "    holdings[address]['wallet'].append(holdings[address]['wallet'][0] / 10**18)\n",
    "\n",
    "total_rewards = 0\n",
    "total_wallet = 0\n",
    "for key in holdings:\n",
    "    total_rewards += holdings[key]['rewards'][0]\n",
    "    total_wallet += holdings[key]['wallet'][0]\n",
    "    print(f\"{key}: {holdings[key]['wallet']}, {holdings[key]['rewards']}\")\n",
    "\n",
    "total_supply = int(call_tx('baln', 'totalSupply', {}, False), 0)\n",
    "total_moved = total_supply - total_wallet - sum(baln_balances.values())\n",
    "\n",
    "print(f'Total unclaimed: {total_rewards / 10**18}')\n",
    "print(f'Total in borrower wallets: {total_wallet / 10**18}')\n",
    "print(f'Total moved to non participant wallets: {total_moved / 10**18}')\n",
    "print(baln_balances)\n",
    "print(f'Total on contracts: {total_balances / 10**18}')\n",
    "print(total_supply)"
   ]
  },
  {
   "cell_type": "markdown",
   "metadata": {},
   "source": [
    "## Allocate BALN on rewards SCORE"
   ]
  },
  {
   "cell_type": "code",
   "execution_count": null,
   "metadata": {},
   "outputs": [],
   "source": [
    "# send ICX to cover costs\n",
    "\n",
    "send_icx(bdist_wallet.get_address(), 4 * ICX, btest_wallet)"
   ]
  },
  {
   "cell_type": "code",
   "execution_count": null,
   "metadata": {},
   "outputs": [],
   "source": [
    "# Transfer 8754 BALN to the rewards SCORE.\n",
    "\n",
    "send_tx('baln', 0, 'transfer', {'_to': 'cx10d59e8103ab44635190bd4139dbfd682fa2d07e', '_value': 8754 * ICX}, bdist_wallet)"
   ]
  },
  {
   "cell_type": "code",
   "execution_count": null,
   "metadata": {},
   "outputs": [],
   "source": [
    "# Allocate reward BALN to addresses in batches.\n",
    "\n",
    "for batch in batches:\n",
    "    send_tx('governance', 0, 'bonusDist', {'_addresses': batch[0], '_amounts': batch[1]}, btest_wallet)\n",
    "    sleep(4)"
   ]
  },
  {
   "cell_type": "code",
   "execution_count": null,
   "metadata": {},
   "outputs": [],
   "source": [
    "batches"
   ]
  },
  {
   "cell_type": "code",
   "execution_count": null,
   "metadata": {},
   "outputs": [],
   "source": [
    "baln_holdings = {}\n",
    "def bonusDist(addresses, amounts):\n",
    "    for i, address in enumerate(addresses):\n",
    "        if address not in baln_holdings:\n",
    "            baln_holdings[str(address)] = amounts[i]\n",
    "        else:\n",
    "            print(f'Should not be here.')\n",
    "            baln_holdings[str(address)] += amounts[i]"
   ]
  },
  {
   "cell_type": "code",
   "execution_count": null,
   "metadata": {},
   "outputs": [],
   "source": [
    "for batch in batches:\n",
    "    bonusDist(batch[0], batch[1])"
   ]
  },
  {
   "cell_type": "code",
   "execution_count": null,
   "metadata": {},
   "outputs": [],
   "source": [
    "sum(baln_holdings.values()) / 10**18"
   ]
  },
  {
   "cell_type": "code",
   "execution_count": null,
   "metadata": {},
   "outputs": [],
   "source": [
    "for i in range(10):\n",
    "    fast_send_tx('rewards', 0, 'distribute', {}, btest_wallet)"
   ]
  },
  {
   "cell_type": "code",
   "execution_count": null,
   "metadata": {},
   "outputs": [],
   "source": []
  }
 ],
 "metadata": {
  "kernelspec": {
   "display_name": "Python 3",
   "language": "python",
   "name": "python3"
  },
  "language_info": {
   "codemirror_mode": {
    "name": "ipython",
    "version": 3
   },
   "file_extension": ".py",
   "mimetype": "text/x-python",
   "name": "python",
   "nbconvert_exporter": "python",
   "pygments_lexer": "ipython3",
   "version": "3.8.10"
  }
 },
 "nbformat": 4,
 "nbformat_minor": 4
}
