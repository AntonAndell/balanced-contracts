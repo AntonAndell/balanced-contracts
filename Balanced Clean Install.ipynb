{
 "cells": [
  {
   "cell_type": "markdown",
   "metadata": {},
   "source": [
    "## Set Up Environment"
   ]
  },
  {
   "cell_type": "code",
   "execution_count": 2,
   "metadata": {},
   "outputs": [],
   "source": [
    "# Cell 0\n",
    "\n",
    "network = \"custom\"  # set this to one of mainnet, yeouido, euljiro, pagoda, or custom\n",
    "\n",
    "connections = {\n",
    "\"mainnet\": {\"iconservice\": \"https://ctz.solidwallet.io\",       \"nid\": 1},\n",
    "\"yeouido\": {\"iconservice\": \"https://bicon.net.solidwallet.io\", \"nid\": 3},\n",
    "\"euljiro\": {\"iconservice\": \"https://test-ctz.solidwallet.io\",  \"nid\": 2},\n",
    "\"pagoda\":  {\"iconservice\": \"https://zicon.net.solidwallet.io\", \"nid\":80},\n",
    "\"custom\":  {\"iconservice\": \"http://18.144.108.38:9000\",        \"nid\": 3}}\n",
    "\n",
    "env = connections[network]"
   ]
  },
  {
   "cell_type": "code",
   "execution_count": 3,
   "metadata": {},
   "outputs": [],
   "source": [
    "# Cell 1\n",
    "\n",
    "from iconsdk.exception import JSONRPCException\n",
    "from iconsdk.libs.in_memory_zip import gen_deploy_data_content\n",
    "from iconsdk.icon_service import IconService\n",
    "from iconsdk.providers.http_provider import HTTPProvider\n",
    "from iconsdk.builder.transaction_builder import CallTransactionBuilder, TransactionBuilder, DeployTransactionBuilder\n",
    "from iconsdk.builder.call_builder import CallBuilder\n",
    "from iconsdk.signed_transaction import SignedTransaction\n",
    "from iconsdk.wallet.wallet import KeyWallet\n",
    "from iconsdk.utils.convert_type import convert_hex_str_to_int\n",
    "from repeater import retry\n",
    "from shutil import make_archive\n",
    "import pickle as pkl\n",
    "from datetime import datetime\n",
    "from time import sleep\n",
    "import json\n",
    "import os\n",
    "\n",
    "ICX = 1000000000000000000 # 10**18\n",
    "GOVERNANCE_ADDRESS = \"cx0000000000000000000000000000000000000000\"\n",
    "ORACLE = \"cx61a36e5d10412e03c907a507d1e8c6c3856d9964\"\n",
    "\n",
    "@retry(JSONRPCException, tries=10, delay=1, back_off=2)\n",
    "def get_tx_result(_tx_hash):\n",
    "    tx_result = icon_service.get_transaction_result(_tx_hash)\n",
    "    return tx_result"
   ]
  },
  {
   "cell_type": "code",
   "execution_count": 4,
   "metadata": {},
   "outputs": [],
   "source": [
    "# Cell 2\n",
    "\n",
    "icon_service = IconService(HTTPProvider(env[\"iconservice\"], 3))\n",
    "NID = env[\"nid\"]"
   ]
  },
  {
   "cell_type": "code",
   "execution_count": 5,
   "metadata": {},
   "outputs": [],
   "source": [
    "# Cell 3\n",
    "\n",
    "wallet = KeyWallet.load(\"keystores/keystore_test1.json\", \"test1_Account\")\n",
    "# Balanced test wallet\n",
    "with open(\"keystores/balanced_test.pwd\", \"r\") as f:\n",
    "    key_data = f.read()\n",
    "btest_wallet = KeyWallet.load(\"keystores/balanced_test.json\", key_data)"
   ]
  },
  {
   "cell_type": "code",
   "execution_count": 6,
   "metadata": {},
   "outputs": [
    {
     "name": "stdout",
     "output_type": "stream",
     "text": [
      "hxe7af5fcfd8dfc67530a01a0e403882687528dfcb\n",
      "772325364.0539755\n"
     ]
    }
   ],
   "source": [
    "print(wallet.get_address())\n",
    "print(icon_service.get_balance(wallet.get_address()) / 10**18)"
   ]
  },
  {
   "cell_type": "code",
   "execution_count": 7,
   "metadata": {},
   "outputs": [
    {
     "name": "stdout",
     "output_type": "stream",
     "text": [
      "hx3f01840a599da07b0f620eeae7aa9c574169a4be\n",
      "4947750.3169254\n"
     ]
    }
   ],
   "source": [
    "print(btest_wallet.get_address())\n",
    "print(icon_service.get_balance(btest_wallet.get_address()) / 10**18)"
   ]
  },
  {
   "cell_type": "markdown",
   "metadata": {},
   "source": [
    "### Send ICX to Balanced test wallet"
   ]
  },
  {
   "cell_type": "code",
   "execution_count": null,
   "metadata": {},
   "outputs": [],
   "source": [
    "# Cell 4\n",
    "# Only necessary if running locally or on the private tbears server\n",
    "# for the first time since reinitializing.\n",
    "\n",
    "transaction = TransactionBuilder()\\\n",
    "    .from_(wallet.get_address())\\\n",
    "    .to(btest_wallet.get_address())\\\n",
    "    .value(1000000 * ICX)\\\n",
    "    .step_limit(1000000) \\\n",
    "    .nid(NID) \\\n",
    "    .nonce(2) \\\n",
    "    .version(3) \\\n",
    "    .build()\n",
    "signed_transaction = SignedTransaction(transaction, wallet)\n",
    "tx_hash = icon_service.send_transaction(signed_transaction)\n",
    "tx_hash"
   ]
  },
  {
   "cell_type": "markdown",
   "metadata": {},
   "source": [
    "### Deployed to testnet"
   ]
  },
  {
   "cell_type": "code",
   "execution_count": null,
   "metadata": {},
   "outputs": [],
   "source": [
    "# Cell 5\n",
    "# The following addresses are those deployed to the testnet.\n",
    "\n",
    "contracts = {'loans': {'zip': 'core_contracts/loans.zip',\n",
    "  'SCORE': 'cx2594f06f668fa84804d94c1e5d4b378bfcf23b42'},\n",
    " 'staking': {'zip': 'core_contracts/staking.zip',\n",
    "  'SCORE': 'cx00093ced37e5c42b995c4df95fa0ce32290c9a36'},\n",
    " 'dividends': {'zip': 'core_contracts/dividends.zip',\n",
    "  'SCORE': 'cx39779100a6556ab3d161dfc95dab3839ac632c9a'},\n",
    " 'reserve': {'zip': 'core_contracts/reserve.zip',\n",
    "  'SCORE': 'cx6dd23ec8b6dc6f6c3dec784e200c097f842b8716'},\n",
    " 'daofund': {'zip': 'core_contracts/daofund.zip',\n",
    "  'SCORE': 'cxaa4593a3d37c12fe29bc7a9507b0a30593e66f65'},\n",
    " 'rewards': {'zip': 'core_contracts/rewards.zip',\n",
    "  'SCORE': 'cxdd1516deed20d0dca0b7ef8c19d2273c48406e86'},\n",
    " 'dex': {'zip': 'core_contracts/dex.zip',\n",
    "  'SCORE': 'cx774ddaf4e885782b56c2ddb1df8d8ce3f9ade09e'},\n",
    " 'governance': {'zip': 'core_contracts/governance.zip',\n",
    "  'SCORE': 'cx637d21599c04a4c93b390c7f9efb9e7c3a7fcfbb'},\n",
    " 'oracle': {'zip': 'core_contracts/oracle.zip',\n",
    "  'SCORE': 'cx61a36e5d10412e03c907a507d1e8c6c3856d9964'},\n",
    " 'sicx': {'zip': 'token_contracts/sicx.zip',\n",
    "  'SCORE': 'cx2e94568da72a0e4caf58d2baa1366476f05955ef'},\n",
    " 'bnUSD': {'zip': 'token_contracts/bnUSD.zip',\n",
    "  'SCORE': 'cx04afcd84c96ee03b30f6f88a60b2a1dee76c63fd'},\n",
    " 'bnXLM': {'zip': 'token_contracts/bnXLM.zip',\n",
    "  'SCORE': 'cx53098409b75594a73fb99badff2b34050a3090b6'},\n",
    " 'bnDOGE': {'zip': 'token_contracts/bnDOGE.zip',\n",
    "  'SCORE': 'cx82c8014c8eed1db391109fee2dd0ba11998cd3d2'},\n",
    " 'baln': {'zip': 'token_contracts/baln.zip',\n",
    "  'SCORE': 'cx66e56c4ed8a0e7da280867707dcd1ba9322d8c60'},\n",
    " 'bwt': {'zip': 'token_contracts/bwt.zip',\n",
    "  'SCORE': 'cx31bd70011e8ce26cb397ec017a339aabc7e7d049'}}"
   ]
  },
  {
   "cell_type": "code",
   "execution_count": 8,
   "metadata": {},
   "outputs": [],
   "source": [
    "# Cell 5a\n",
    "# The following addresses are those deployed to the private tbears server.\n",
    "\n",
    "contracts = {'loans': {'zip': 'core_contracts/loans.zip',\n",
    "  'SCORE': 'cxa0f715fb2c4bc8f4c6399c2cc26167a27be0aa61'},\n",
    " 'staking': {'zip': 'core_contracts/staking.zip',\n",
    "  'SCORE': 'cxbabed822d59b605dbeb6322735c529b292baac3b'},\n",
    " 'dividends': {'zip': 'core_contracts/dividends.zip',\n",
    "  'SCORE': 'cx1379084f45776301abda3849c6e374f460ee0155'},\n",
    " 'reserve': {'zip': 'core_contracts/reserve.zip',\n",
    "  'SCORE': 'cx71dda2221bf88faddc8f84b72ffd6db296e5609e'},\n",
    " 'daofund': {'zip': 'core_contracts/daofund.zip',\n",
    "  'SCORE': 'cxfd09787f23d23b945fa0c7eb55b5aa69425da1c8'},\n",
    " 'rewards': {'zip': 'core_contracts/rewards.zip',\n",
    "  'SCORE': 'cx27aa3bf62145822e60d85fa5d18dabdcff5b9ada'},\n",
    " 'dex': {'zip': 'core_contracts/dex.zip',\n",
    "  'SCORE': 'cx01eee12b6614e5328e0a84261652cb7f055e0176'},\n",
    " 'governance': {'zip': 'core_contracts/governance.zip',\n",
    "  'SCORE': 'cxd7b3e71dcff3d75392216e208f28ef68e8a54ec0'},\n",
    " 'oracle': {'zip': 'core_contracts/oracle.zip',\n",
    "  'SCORE': 'cx7171e2f5653c1b9c000e24228276b8d24e84f10d'},\n",
    " 'sicx': {'zip': 'token_contracts/sicx.zip',\n",
    "  'SCORE': 'cx799f724e02560a762b5f2bd3b6d2d8d59d7aecc1'},\n",
    " 'bnUSD': {'zip': 'token_contracts/bnUSD.zip',\n",
    "  'SCORE': 'cx266bdc0c35828c8130cdf1cbaa3ad109f7694722'},\n",
    " 'bnXLM': {'zip': 'token_contracts/bnXLM.zip',\n",
    "  'SCORE': 'cx266bdc0c35828c8130cdf1cbaa3ad109f7694722'},\n",
    " 'bnDOGE': {'zip': 'token_contracts/bnDOGE.zip',\n",
    "  'SCORE': 'cx266bdc0c35828c8130cdf1cbaa3ad109f7694722'},\n",
    " 'baln': {'zip': 'token_contracts/baln.zip',\n",
    "  'SCORE': 'cx4d0768508a7ff550de4405f27aebfb8831565c19'},\n",
    " 'bwt': {'zip': 'token_contracts/bwt.zip',\n",
    "  'SCORE': 'cx663f9d59163846d9f6c6f7b586858c59aa8878a9'}}"
   ]
  },
  {
   "cell_type": "code",
   "execution_count": null,
   "metadata": {},
   "outputs": [],
   "source": [
    "{\"loans\": \"cx2594f06f668fa84804d94c1e5d4b378bfcf23b42\",\n",
    " \"staking\": \"cx00093ced37e5c42b995c4df95fa0ce32290c9a36\",\n",
    " \"dividends\": \"cx39779100a6556ab3d161dfc95dab3839ac632c9a\",\n",
    " \"reserve\": \"cx6dd23ec8b6dc6f6c3dec784e200c097f842b8716\",\n",
    " \"daofund\": \"cxaa4593a3d37c12fe29bc7a9507b0a30593e66f65\",\n",
    " \"rewards\": \"cxdd1516deed20d0dca0b7ef8c19d2273c48406e86\",\n",
    " \"dex\": \"cx774ddaf4e885782b56c2ddb1df8d8ce3f9ade09e\",\n",
    " \"governance\": \"cx637d21599c04a4c93b390c7f9efb9e7c3a7fcfbb\",\n",
    " \"oracle\": \"cx61a36e5d10412e03c907a507d1e8c6c3856d9964\",\n",
    " \"sicx\": \"cx2e94568da72a0e4caf58d2baa1366476f05955ef\",\n",
    " \"bnUSD\": \"cx04afcd84c96ee03b30f6f88a60b2a1dee76c63fd\",\n",
    " \"bnXLM\": \"cx53098409b75594a73fb99badff2b34050a3090b6\",\n",
    " \"bnDOGE\": \"cx82c8014c8eed1db391109fee2dd0ba11998cd3d2\",\n",
    " \"baln\": \"cx66e56c4ed8a0e7da280867707dcd1ba9322d8c60\",\n",
    " \"bwt\": \"cx31bd70011e8ce26cb397ec017a339aabc7e7d049\"}"
   ]
  },
  {
   "cell_type": "markdown",
   "metadata": {},
   "source": [
    "## Deploy All SCOREs"
   ]
  },
  {
   "cell_type": "code",
   "execution_count": 9,
   "metadata": {},
   "outputs": [],
   "source": [
    "# Cell 6\n",
    "# Define deploy and send_tx functions\n",
    "\n",
    "def compress():\n",
    "    \"\"\"\n",
    "    Compress all SCORE folders in the core_contracts and toekn_contracts folders\n",
    "    \"\"\"\n",
    "    deploy = list(contracts.keys())[:]\n",
    "    for directory in {\"core_contracts\", \"token_contracts\"}:\n",
    "        with os.scandir(directory) as it:\n",
    "            for file in it:\n",
    "                archive_name = directory + \"/\" + file.name\n",
    "                if file.is_dir() and file.name in deploy:\n",
    "                    make_archive(archive_name, \"zip\", directory, file.name)\n",
    "                    contracts[file.name]['zip'] = archive_name + '.zip'\n",
    "\n",
    "def deploy_SCORE(contract, params, wallet, update) -> str:\n",
    "    \"\"\"\n",
    "    contract is of form {'zip': 'core_contracts/governance.zip', 'SCORE': 'cx1d81f93b3b8d8d2a6455681c46128868782ddd09'}\n",
    "    params is a dicts\n",
    "    wallet is a wallet file\n",
    "    update is boolian\n",
    "    \"\"\"\n",
    "    print(f'{contract[\"zip\"]}')\n",
    "    if update:\n",
    "        dest = contract['SCORE']\n",
    "    else:\n",
    "        dest = GOVERNANCE_ADDRESS\n",
    "    zip_file = contract['zip']\n",
    "    step_limit = 4000100000\n",
    "    deploy_transaction = DeployTransactionBuilder()\\\n",
    "        .from_(wallet.get_address())\\\n",
    "        .to(dest)\\\n",
    "        .nid(NID)\\\n",
    "        .nonce(100)\\\n",
    "        .content_type(\"application/zip\")\\\n",
    "        .content(gen_deploy_data_content(zip_file))\\\n",
    "        .params(params)\\\n",
    "        .build()\n",
    "\n",
    "    signed_transaction = SignedTransaction(deploy_transaction, wallet, step_limit)\n",
    "    tx_hash = icon_service.send_transaction(signed_transaction)\n",
    "\n",
    "    res = get_tx_result(tx_hash)\n",
    "    print(f'Status: {res[\"status\"]}')\n",
    "    if len(res[\"eventLogs\"]) > 0:\n",
    "        for item in res[\"eventLogs\"]:\n",
    "            print(f'{item} \\n')\n",
    "    if res['status'] == 0:\n",
    "        print(f'Failure: {res[\"failure\"]}')\n",
    "    print('')\n",
    "    return res.get('scoreAddress', '')\n",
    "\n",
    "def send_tx(dest, value, method, params, wallet):\n",
    "    \"\"\"\n",
    "    dest is the name of the destination contract.\n",
    "    \"\"\"\n",
    "    print('------------------------------------------------------------------------------------------------------------------')\n",
    "    print(f'Calling {method}, with parameters {params} on the {dest} contract.')\n",
    "    print('------------------------------------------------------------------------------------------------------------------')\n",
    "    transaction = CallTransactionBuilder()\\\n",
    "        .from_(wallet.get_address())\\\n",
    "        .to(contracts[dest]['SCORE'])\\\n",
    "        .value(value)\\\n",
    "        .step_limit(10000000)\\\n",
    "        .nid(NID)\\\n",
    "        .nonce(100)\\\n",
    "        .method(method)\\\n",
    "        .params(params)\\\n",
    "        .build()\n",
    "    signed_transaction = SignedTransaction(transaction, wallet)\n",
    "    tx_hash = icon_service.send_transaction(signed_transaction)\n",
    "\n",
    "    res = get_tx_result(tx_hash)\n",
    "    print(f'************************************************** Status: {res[\"status\"]} **************************************************')\n",
    "    if len(res[\"eventLogs\"]) > 0:\n",
    "        for item in res[\"eventLogs\"]:\n",
    "            print(f'{item} \\n')\n",
    "    if res['status'] == 0:\n",
    "        print(f'Failure: {res[\"failure\"]}')\n",
    "    return res\n",
    "\n",
    "def deploy_all(wallet):\n",
    "    \"\"\"\n",
    "    Compress, Deploy and Configure all SCOREs\n",
    "    \"\"\"\n",
    "    compress()\n",
    "\n",
    "    deploy = list(contracts.keys())[:]\n",
    "    deploy.remove('oracle')\n",
    "    deploy.remove('staking')\n",
    "    deploy.remove('sicx')\n",
    "    deploy.remove('governance')\n",
    "\n",
    "    governance = deploy_SCORE(contracts['governance'], {}, wallet, 0)\n",
    "    contracts['governance']['SCORE'] = governance\n",
    "    for score in deploy:\n",
    "        contracts[score]['SCORE'] = deploy_SCORE(contracts[score], {'_governance': governance}, wallet, 0)\n",
    "    contracts['staking']['SCORE'] = deploy_SCORE(contracts['staking'], {}, wallet, 0)\n",
    "    contracts['sicx']['SCORE'] = deploy_SCORE(contracts['sicx'], {'_admin': contracts['staking']['SCORE']}, wallet, 0)\n",
    "\n",
    "    config = list(contracts.keys())[:]\n",
    "    config.remove('governance')\n",
    "    config.remove('bnDOGE')\n",
    "    config.remove('bnXLM')\n",
    "    addresses = {contract: contracts[contract]['SCORE'] for contract in config}\n",
    "\n",
    "    txns = [{'contract': 'staking', 'value': 0, 'method': 'setSicxAddress', 'params': {'_address': contracts['sicx']['SCORE']}},\n",
    "            {'contract': 'governance', 'value': 0, 'method': 'setAddresses', 'params': {'_addresses': addresses}},\n",
    "            {'contract': 'governance', 'value': 0, 'method': 'launchBalanced', 'params': {}}]\n",
    "\n",
    "    for tx in txns:\n",
    "        res = send_tx(tx[\"contract\"], tx[\"value\"], tx[\"method\"], tx[\"params\"], wallet)\n",
    "        results[f'{tx[\"contract\"]}|{tx[\"method\"]}|{tx[\"params\"]}'] = res\n",
    "\n",
    "def get_scores_json(contracts):\n",
    "    \"\"\"\n",
    "    Prints out dictionary of SCORE addresses for use in testing UI.\n",
    "    \"\"\"\n",
    "    scores = {}\n",
    "    for score in contracts:\n",
    "        scores[score] = contracts[score]['SCORE']\n",
    "    return json.dumps(scores)\n",
    "\n",
    "def call_tx(dest: str, method: str, params: dict = {}):\n",
    "    \"\"\"\n",
    "    dest is the name of the destination contract.\n",
    "    \"\"\"\n",
    "    print('------------------------------------------------------------------------------------------------------------------')\n",
    "    print(f'Reading {method}, with parameters {params} on the {dest} contract.')\n",
    "    print('------------------------------------------------------------------------------------------------------------------')\n",
    "    call = CallBuilder()\\\n",
    "        .from_(wallet.get_address())\\\n",
    "        .to(contracts[dest]['SCORE'])\\\n",
    "        .method(method)\\\n",
    "        .params(params)\\\n",
    "        .build()\n",
    "    result = icon_service.call(call)\n",
    "    print(result)\n",
    "    return result\n"
   ]
  },
  {
   "cell_type": "code",
<<<<<<< HEAD
   "execution_count": 10,
   "metadata": {
    "scrolled": false
   },
   "outputs": [
    {
     "name": "stdout",
     "output_type": "stream",
     "text": [
      "core_contracts/governance.zip\n",
      "Status: 1\n",
      "\n",
      "core_contracts/loans.zip\n",
      "Status: 1\n",
      "\n",
      "core_contracts/dividends.zip\n"
     ]
    },
    {
     "name": "stderr",
     "output_type": "stream",
     "text": [
      "Raised JSONRPCException while returning the custom response. Error message: {'code': -32602, 'message': 'Pending transaction'}\n"
     ]
    },
    {
     "name": "stdout",
     "output_type": "stream",
     "text": [
      "Retrying in 1 seconds...\n",
      "Status: 1\n",
      "\n",
      "core_contracts/reserve.zip\n"
     ]
    },
    {
     "name": "stderr",
     "output_type": "stream",
     "text": [
      "Raised JSONRPCException while returning the custom response. Error message: {'code': -32602, 'message': 'Pending transaction'}\n"
     ]
    },
    {
     "name": "stdout",
     "output_type": "stream",
     "text": [
      "Retrying in 1 seconds...\n",
      "Status: 1\n",
      "\n",
      "core_contracts/daofund.zip\n"
     ]
    },
    {
     "name": "stderr",
     "output_type": "stream",
     "text": [
      "Raised JSONRPCException while returning the custom response. Error message: {'code': -32602, 'message': 'Pending transaction'}\n"
     ]
    },
    {
     "name": "stdout",
     "output_type": "stream",
     "text": [
      "Retrying in 1 seconds...\n",
      "Status: 1\n",
      "\n",
      "core_contracts/rewards.zip\n"
     ]
    },
    {
     "name": "stderr",
     "output_type": "stream",
     "text": [
      "Raised JSONRPCException while returning the custom response. Error message: {'code': -32602, 'message': 'Pending transaction'}\n"
     ]
    },
    {
     "name": "stdout",
     "output_type": "stream",
     "text": [
      "Retrying in 1 seconds...\n",
      "Status: 1\n",
      "\n",
      "core_contracts/dex.zip\n",
      "Status: 1\n",
      "\n",
      "token_contracts/bnUSD.zip\n"
     ]
    },
    {
     "name": "stderr",
     "output_type": "stream",
     "text": [
      "Raised JSONRPCException while returning the custom response. Error message: {'code': -32602, 'message': 'Pending transaction'}\n"
     ]
    },
    {
     "name": "stdout",
     "output_type": "stream",
     "text": [
      "Retrying in 1 seconds...\n",
      "Status: 1\n",
      "\n",
      "token_contracts/bnXLM.zip\n"
     ]
    },
    {
     "name": "stderr",
     "output_type": "stream",
     "text": [
      "Raised JSONRPCException while returning the custom response. Error message: {'code': -32602, 'message': 'Pending transaction'}\n"
     ]
    },
    {
     "name": "stdout",
     "output_type": "stream",
     "text": [
      "Retrying in 1 seconds...\n",
      "Status: 1\n",
      "\n",
      "token_contracts/bnDOGE.zip\n",
      "Status: 1\n",
      "\n",
      "token_contracts/baln.zip\n"
     ]
    },
    {
     "name": "stderr",
     "output_type": "stream",
     "text": [
      "Raised JSONRPCException while returning the custom response. Error message: {'code': -32602, 'message': 'Pending transaction'}\n"
     ]
    },
    {
     "name": "stdout",
     "output_type": "stream",
     "text": [
      "Retrying in 1 seconds...\n",
      "Status: 1\n",
      "\n",
      "token_contracts/bwt.zip\n"
     ]
    },
    {
     "name": "stderr",
     "output_type": "stream",
     "text": [
      "Raised JSONRPCException while returning the custom response. Error message: {'code': -32602, 'message': 'Pending transaction'}\n"
     ]
    },
    {
     "name": "stdout",
     "output_type": "stream",
     "text": [
      "Retrying in 1 seconds...\n",
      "Status: 1\n",
      "\n",
      "core_contracts/staking.zip\n",
      "Status: 1\n",
      "\n",
      "token_contracts/sicx.zip\n"
     ]
    },
    {
     "name": "stderr",
     "output_type": "stream",
     "text": [
      "Raised JSONRPCException while returning the custom response. Error message: {'code': -32602, 'message': 'Pending transaction'}\n"
     ]
    },
    {
     "name": "stdout",
     "output_type": "stream",
     "text": [
      "Retrying in 1 seconds...\n",
      "Status: 1\n",
      "\n",
      "------------------------------------------------------------------------------------------------------------------\n",
      "Calling setSicxAddress, with parameters {'_address': 'cx17ee846063b60fc2b590bf8f2a7e4b7a5d65f900'} on the staking contract.\n",
      "------------------------------------------------------------------------------------------------------------------\n"
     ]
    },
    {
     "name": "stderr",
     "output_type": "stream",
     "text": [
      "Raised JSONRPCException while returning the custom response. Error message: {'code': -32602, 'message': 'Pending transaction'}\n"
     ]
    },
    {
     "name": "stdout",
     "output_type": "stream",
     "text": [
      "Retrying in 1 seconds...\n",
      "************************************************** Status: 1 **************************************************\n",
      "------------------------------------------------------------------------------------------------------------------\n",
      "Calling setAddresses, with parameters {'_addresses': {'loans': 'cx331b85154556b07db709347bfd171f867e372b11', 'staking': 'cx1138555eeec500933fd78312121117ed74a9fcd0', 'dividends': 'cxa7b4323647c2146fa5ada48f6c0cddaca7224141', 'reserve': 'cxb705a6afa800642aefc4677109551d3e663386a8', 'daofund': 'cx6ee394d5780e94d4511af650adf9194ec643ac39', 'rewards': 'cx8d7fa4ca879ace4b1f5f0616f1dfed353e3ced29', 'dex': 'cx2e54e321d361c0082d410987a95bc62fe3548d5d', 'oracle': 'cx7171e2f5653c1b9c000e24228276b8d24e84f10d', 'sicx': 'cx17ee846063b60fc2b590bf8f2a7e4b7a5d65f900', 'bnUSD': 'cxc5f7b2e0a6055eb828bd966546f6a84b7115b9e4', 'baln': 'cx82e16171d55ee390fd72d31db3d30b44476c2b30', 'bwt': 'cx3b8bd594a05f526ab7e024b879ae7d600bd06fa0'}} on the governance contract.\n",
      "------------------------------------------------------------------------------------------------------------------\n"
     ]
    },
    {
     "name": "stderr",
     "output_type": "stream",
     "text": [
      "Raised JSONRPCException while returning the custom response. Error message: {'code': -32602, 'message': 'Pending transaction'}\n"
     ]
    },
    {
     "name": "stdout",
     "output_type": "stream",
     "text": [
      "Retrying in 1 seconds...\n",
      "************************************************** Status: 1 **************************************************\n",
      "------------------------------------------------------------------------------------------------------------------\n",
      "Calling launchBalanced, with parameters {} on the governance contract.\n",
      "------------------------------------------------------------------------------------------------------------------\n",
      "************************************************** Status: 1 **************************************************\n",
      "{'scoreAddress': 'cx331b85154556b07db709347bfd171f867e372b11', 'indexed': ['AssetAdded(Address,str,bool)', 'cx17ee846063b60fc2b590bf8f2a7e4b7a5d65f900', 'sICX', '0x1'], 'data': []} \n",
      "\n",
      "{'scoreAddress': 'cx331b85154556b07db709347bfd171f867e372b11', 'indexed': ['AssetAdded(Address,str,bool)', 'cxc5f7b2e0a6055eb828bd966546f6a84b7115b9e4', 'bnUSD', '0x0'], 'data': []} \n",
      "\n",
      "{'scoreAddress': 'cx331b85154556b07db709347bfd171f867e372b11', 'indexed': ['AssetAdded(Address,str,bool)', 'cx82e16171d55ee390fd72d31db3d30b44476c2b30', 'BALN', '0x1'], 'data': []} \n",
      "\n",
      "{'scoreAddress': 'cx331b85154556b07db709347bfd171f867e372b11', 'indexed': ['ContractActive(str,str)', 'Loans'], 'data': ['Active']} \n",
      "\n",
      "------------------------------------------------------------------------------------------------------------------\n",
      "{'loans': {'zip': 'core_contracts/loans.zip', 'SCORE': 'cx331b85154556b07db709347bfd171f867e372b11'}, 'staking': {'zip': 'core_contracts/staking.zip', 'SCORE': 'cx1138555eeec500933fd78312121117ed74a9fcd0'}, 'dividends': {'zip': 'core_contracts/dividends.zip', 'SCORE': 'cxa7b4323647c2146fa5ada48f6c0cddaca7224141'}, 'reserve': {'zip': 'core_contracts/reserve.zip', 'SCORE': 'cxb705a6afa800642aefc4677109551d3e663386a8'}, 'daofund': {'zip': 'core_contracts/daofund.zip', 'SCORE': 'cx6ee394d5780e94d4511af650adf9194ec643ac39'}, 'rewards': {'zip': 'core_contracts/rewards.zip', 'SCORE': 'cx8d7fa4ca879ace4b1f5f0616f1dfed353e3ced29'}, 'dex': {'zip': 'core_contracts/dex.zip', 'SCORE': 'cx2e54e321d361c0082d410987a95bc62fe3548d5d'}, 'governance': {'zip': 'core_contracts/governance.zip', 'SCORE': 'cx8a658914453723c0941da266c32337a60068ced4'}, 'oracle': {'zip': 'core_contracts/oracle.zip', 'SCORE': 'cx7171e2f5653c1b9c000e24228276b8d24e84f10d'}, 'sicx': {'zip': 'token_contracts/sicx.zip', 'SCORE': 'cx17ee846063b60fc2b590bf8f2a7e4b7a5d65f900'}, 'bnUSD': {'zip': 'token_contracts/bnUSD.zip', 'SCORE': 'cxc5f7b2e0a6055eb828bd966546f6a84b7115b9e4'}, 'bnXLM': {'zip': 'token_contracts/bnXLM.zip', 'SCORE': 'cx55d3c68350e46fbf92bac5a327b8e0f3f0d2d224'}, 'bnDOGE': {'zip': 'token_contracts/bnDOGE.zip', 'SCORE': 'cxe208b495d85a6684d531c92c44c4d6959b9449fb'}, 'baln': {'zip': 'token_contracts/baln.zip', 'SCORE': 'cx82e16171d55ee390fd72d31db3d30b44476c2b30'}, 'bwt': {'zip': 'token_contracts/bwt.zip', 'SCORE': 'cx3b8bd594a05f526ab7e024b879ae7d600bd06fa0'}}\n",
      "----------Contracts for Testing UI--------------------------------------------------------------------------------\n",
      "{\"loans\": \"cx331b85154556b07db709347bfd171f867e372b11\", \"staking\": \"cx1138555eeec500933fd78312121117ed74a9fcd0\", \"dividends\": \"cxa7b4323647c2146fa5ada48f6c0cddaca7224141\", \"reserve\": \"cxb705a6afa800642aefc4677109551d3e663386a8\", \"daofund\": \"cx6ee394d5780e94d4511af650adf9194ec643ac39\", \"rewards\": \"cx8d7fa4ca879ace4b1f5f0616f1dfed353e3ced29\", \"dex\": \"cx2e54e321d361c0082d410987a95bc62fe3548d5d\", \"governance\": \"cx8a658914453723c0941da266c32337a60068ced4\", \"oracle\": \"cx7171e2f5653c1b9c000e24228276b8d24e84f10d\", \"sicx\": \"cx17ee846063b60fc2b590bf8f2a7e4b7a5d65f900\", \"bnUSD\": \"cxc5f7b2e0a6055eb828bd966546f6a84b7115b9e4\", \"bnXLM\": \"cx55d3c68350e46fbf92bac5a327b8e0f3f0d2d224\", \"bnDOGE\": \"cxe208b495d85a6684d531c92c44c4d6959b9449fb\", \"baln\": \"cx82e16171d55ee390fd72d31db3d30b44476c2b30\", \"bwt\": \"cx3b8bd594a05f526ab7e024b879ae7d600bd06fa0\"}\n"
     ]
    }
   ],
=======
   "execution_count": null,
   "metadata": {},
   "outputs": [],
>>>>>>> development
   "source": [
    "# Cell 7\n",
    "# Deploy and configure Balanced. Print results if anything goes wrong.\n",
    "\n",
    "results = {}\n",
    "deploy_all(btest_wallet)\n",
    "print('------------------------------------------------------------------------------------------------------------------')\n",
    "print(contracts)\n",
    "print('----------Contracts for Testing UI--------------------------------------------------------------------------------')\n",
    "print(get_scores_json(contracts))"
   ]
  },
  {
   "cell_type": "markdown",
   "metadata": {},
   "source": [
    "## Deploy or Update a single SCORE"
   ]
  },
  {
   "cell_type": "code",
   "execution_count": null,
   "metadata": {},
   "outputs": [],
   "source": [
    "# Cell 8\n",
    "# Deploy or Update a single SCORE\n",
    "\n",
    "compress()\n",
    "update = 1\n",
    "contract = contracts['staking']\n",
    "params = {}\n",
    "# params = {'_governance': contracts['governance']['SCORE']}\n",
    "deploy_SCORE(contract, params, btest_wallet, update)\n"
   ]
  },
  {
   "cell_type": "markdown",
   "metadata": {},
   "source": [
    "## Test of Typical Flow"
   ]
  },
  {
   "cell_type": "code",
   "execution_count": null,
   "metadata": {},
   "outputs": [],
   "source": [
    "# Cell 9\n",
    "# 1. staking.stakeICX() - Get 800 ICX worth of sICX from Staking\n",
    "# 2. loans.addCollateral() - Deposit 800 ICX and Mint 50 bnUSD Loan\n",
    "# 3. loans.addCollateral() - Just deposit 30 ICX collateral\n",
    "# 4. loans.originateLoan() - Originate Loan of 10 bnUSD\n",
    "# 5. loans._repay_loan() via bnUSD.transfer() - Repay 5 bnUSD\n",
    "# 6. loans.withdrawCollateral() - Withdraw 25 sICX Collateral\n",
    "# 7. _deposit_and_borrow() via sICX.transfer() - Add 200 sICX collateral directly\n",
    "# Print results1 if there are any failures.\n",
    "\n",
    "txns = [{'contract': 'staking', 'value': 800*ICX, 'method': 'stakeICX', 'params': {}},\n",
    "        {'contract': 'loans', 'value': 800*ICX, 'method': 'addCollateral', 'params': {'_asset': 'bnUSD', '_amount': 50 * ICX}},\n",
    "        {'contract': 'loans', 'value': 30*ICX, 'method': 'addCollateral', 'params': {'_asset': '', '_amount': 0}},\n",
    "        {'contract': 'loans', 'value': 0, 'method': 'originateLoan', 'params': {'_asset': 'bnUSD', '_amount': 10 * ICX, '_from': wallet.get_address()}},\n",
    "        {'contract': 'bnUSD', 'value': 0, 'method': 'transfer', 'params': {'_to': contracts['loans']['SCORE'], '_value': 5 * ICX, '_data': json.dumps({\"method\": \"_repay_loan\", \"params\": {}}).encode()}},\n",
    "        {'contract': 'loans', 'value': 0, 'method': 'withdrawCollateral', 'params': {'_value': 25 * ICX}},\n",
    "        {'contract': 'sicx', 'value': 0, 'method': 'transfer', 'params': {'_to': contracts['loans']['SCORE'], '_value': 200 * ICX, '_data': json.dumps({\"method\": \"_deposit_and_borrow\", \"params\": {\"_sender\": wallet.get_address(), \"_asset\": \"\", \"_amount\": 0}}).encode()}}]\n",
    "\n",
    "results1 = {}\n",
    "for tx in txns:\n",
    "    res = send_tx(tx[\"contract\"], tx[\"value\"], tx[\"method\"], tx[\"params\"], btest_wallet)\n",
    "    results1[f'{tx[\"contract\"]}|{tx[\"method\"]}|{tx[\"params\"]}'] = res"
   ]
  },
  {
   "cell_type": "code",
   "execution_count": null,
   "metadata": {},
   "outputs": [],
   "source": [
    "# Originate Loan - Without addition of collateral.\n",
    "\n",
    "params = {\"_asset\": \"bnUSD\", \"_amount\": 20 * ICX, \"_from\": wallet.get_address()}\n",
    "transaction = CallTransactionBuilder()\\\n",
    "    .from_(wallet.get_address())\\\n",
    "    .to(contracts['loans']['SCORE'])\\\n",
    "    .value(0)\\\n",
    "    .step_limit(10000000)\\\n",
    "    .nid(NID)\\\n",
    "    .nonce(100)\\\n",
    "    .method('originateLoan')\\\n",
    "    .params(params)\\\n",
    "    .build()\n",
    "signed_transaction = SignedTransaction(transaction, wallet)\n",
    "tx_hash = icon_service.send_transaction(signed_transaction)\n",
    "\n",
    "res = get_tx_result(tx_hash)\n",
    "print(f'************************************************** Status: {res[\"status\"]} **************************************************')\n",
    "if len(res[\"eventLogs\"]) > 0:\n",
    "    for item in res[\"eventLogs\"]:\n",
    "        print(f'{item} \\n')\n",
    "if res['status'] == 0:\n",
    "    print(f'Failure: {res[\"failure\"]}')\n",
    "\n"
   ]
  },
  {
   "cell_type": "markdown",
   "metadata": {},
   "source": [
    "### Add new assets"
   ]
  },
  {
   "cell_type": "code",
   "execution_count": null,
   "metadata": {},
   "outputs": [],
   "source": [
    "# Not totally working yet since the Oracle needs to be set through the governance SCORE.\n",
    "# send_tx('governance', 0, 'addAsset', {'_token_address': contracts['bnDOGE']['SCORE'], '_active': True, '_collateral': False}, btest_wallet)\n",
    "# send_tx('governance', 0, 'addAsset', {'_token_address': contracts['bnXLM']['SCORE'], '_active': True, '_collateral': False}, btest_wallet)\n",
    "# send_tx('bnDOGE', 0, 'setOracle', {'_address': contracts['oracle']['SCORE']}, btest_wallet)\n",
    "# send_tx('bnXLM', 0, 'setOracle', {'_address': contracts['oracle']['SCORE']}, btest_wallet)\n"
   ]
  },
  {
   "cell_type": "code",
   "execution_count": null,
   "metadata": {},
   "outputs": [],
   "source": []
  },
  {
   "cell_type": "code",
   "execution_count": null,
   "metadata": {},
   "outputs": [],
   "source": []
  },
  {
   "cell_type": "code",
   "execution_count": null,
   "metadata": {},
   "outputs": [],
   "source": []
  },
  {
   "cell_type": "markdown",
   "metadata": {},
   "source": [
    "### Test Liquidation"
   ]
  },
  {
   "cell_type": "code",
   "execution_count": 11,
   "metadata": {},
   "outputs": [
    {
     "name": "stdout",
     "output_type": "stream",
     "text": [
      "------------------------------------------------------------------------------------------------------------------\n",
      "Calling toggleTestMode, with parameters {} on the loans contract.\n",
      "------------------------------------------------------------------------------------------------------------------\n"
     ]
    },
    {
     "name": "stderr",
     "output_type": "stream",
     "text": [
      "Raised JSONRPCException while returning the custom response. Error message: {'code': -32602, 'message': 'Pending transaction'}\n"
     ]
    },
    {
     "name": "stdout",
     "output_type": "stream",
     "text": [
      "Retrying in 1 seconds...\n",
      "************************************************** Status: 1 **************************************************\n",
      "------------------------------------------------------------------------------------------------------------------\n",
      "Calling addCollateral, with parameters {'_asset': '', '_amount': 0} on the loans contract.\n",
      "------------------------------------------------------------------------------------------------------------------\n"
     ]
    },
    {
     "name": "stderr",
     "output_type": "stream",
     "text": [
      "Raised JSONRPCException while returning the custom response. Error message: {'code': -32602, 'message': 'Pending transaction'}\n"
     ]
    },
    {
     "name": "stdout",
     "output_type": "stream",
     "text": [
      "Retrying in 1 seconds...\n",
      "************************************************** Status: 1 **************************************************\n",
      "{'scoreAddress': 'cx331b85154556b07db709347bfd171f867e372b11', 'indexed': ['ICXTransfer(Address,Address,int)', 'cx331b85154556b07db709347bfd171f867e372b11', 'cx1138555eeec500933fd78312121117ed74a9fcd0', '0x9e86ded25f95e8000'], 'data': []} \n",
      "\n",
      "{'scoreAddress': 'cx17ee846063b60fc2b590bf8f2a7e4b7a5d65f900', 'indexed': ['Mint(Address,int,bytes)', 'cx331b85154556b07db709347bfd171f867e372b11'], 'data': ['0x9e86ded25f95e8000', '0x7b226d6574686f64223a225f6465706f7369745f616e645f626f72726f77222c22706172616d73223a7b225f73656e646572223a22687833663031383430613539396461303762306636323065656165376161396335373431363961346265222c225f6173736574223a22222c225f616d6f756e74223a307d7d']} \n",
      "\n",
      "{'scoreAddress': 'cx17ee846063b60fc2b590bf8f2a7e4b7a5d65f900', 'indexed': ['Transfer(Address,Address,int,bytes)', 'hx0000000000000000000000000000000000000000', 'cx331b85154556b07db709347bfd171f867e372b11', '0x9e86ded25f95e8000'], 'data': ['0x7b226d6574686f64223a225f6465706f7369745f616e645f626f72726f77222c22706172616d73223a7b225f73656e646572223a22687833663031383430613539396461303762306636323065656165376161396335373431363961346265222c225f6173736574223a22222c225f616d6f756e74223a307d7d']} \n",
      "\n",
      "{'scoreAddress': 'cx331b85154556b07db709347bfd171f867e372b11', 'indexed': ['CollateralReceived(Address,str)', 'hx3f01840a599da07b0f620eeae7aa9c574169a4be', 'sICX'], 'data': []} \n",
      "\n",
      "{'scoreAddress': 'cxc5f7b2e0a6055eb828bd966546f6a84b7115b9e4', 'indexed': ['OraclePrice(str,str,Address,int)', 'USDICX', 'BandChain', 'cx7171e2f5653c1b9c000e24228276b8d24e84f10d'], 'data': ['0x84c5d90848544bb']} \n",
      "\n",
      "{'scoreAddress': 'cx1138555eeec500933fd78312121117ed74a9fcd0', 'indexed': ['TokenTransfer(Address,int,str)', 'cx331b85154556b07db709347bfd171f867e372b11', '0x9e86ded25f95e8000'], 'data': ['182.769 sICX minted to cx331b85154556b07db709347bfd171f867e372b11']} \n",
      "\n",
      "------------------------------------------------------------------------------------------------------------------\n",
      "Reading getAccountPositions, with parameters {'_owner': 'hx3f01840a599da07b0f620eeae7aa9c574169a4be'} on the loans contract.\n",
      "------------------------------------------------------------------------------------------------------------------\n",
      "{'pos_id': '0x1', 'created': '0x5beb9e3c5f2ae', 'address': 'hx3f01840a599da07b0f620eeae7aa9c574169a4be', 'snap_id': '0x1', 'snaps_length': '0x1', 'last_snap': '0x1', 'first day': '0x1', 'assets': {'sICX': '0x9e86ded25f95e8000'}, 'replay_index': '0x0', 'events_behind': '0x0', 'total_debt': '0x0', 'ratio': '0x0', 'standing': 'No Debt'}\n",
      "------------------------------------------------------------------------------------------------------------------\n",
      "Calling create_test_position, with parameters {'_address': 'hx3f01840a599da07b0f620eeae7aa9c574169a4be', '_asset': 'bnUSD', '_amount': 250000000000000000000} on the loans contract.\n",
      "------------------------------------------------------------------------------------------------------------------\n"
     ]
    },
    {
     "name": "stderr",
     "output_type": "stream",
     "text": [
      "Raised JSONRPCException while returning the custom response. Error message: {'code': -32602, 'message': 'Pending transaction'}\n"
     ]
    },
    {
     "name": "stdout",
     "output_type": "stream",
     "text": [
      "Retrying in 1 seconds...\n",
      "************************************************** Status: 1 **************************************************\n",
      "{'scoreAddress': 'cx331b85154556b07db709347bfd171f867e372b11', 'indexed': ['ICXTransfer(Address,Address,int)', 'cx331b85154556b07db709347bfd171f867e372b11', 'cx1138555eeec500933fd78312121117ed74a9fcd0', '0x258'], 'data': []} \n",
      "\n",
      "{'scoreAddress': 'cx17ee846063b60fc2b590bf8f2a7e4b7a5d65f900', 'indexed': ['Mint(Address,int,bytes)', 'cx331b85154556b07db709347bfd171f867e372b11'], 'data': ['0x258', '0x7b226d6574686f64223a225f6465706f7369745f616e645f626f72726f77222c22706172616d73223a7b225f73656e646572223a22687833663031383430613539396461303762306636323065656165376161396335373431363961346265222c225f6173736574223a22222c225f616d6f756e74223a307d7d']} \n",
      "\n",
      "{'scoreAddress': 'cx17ee846063b60fc2b590bf8f2a7e4b7a5d65f900', 'indexed': ['Transfer(Address,Address,int,bytes)', 'hx0000000000000000000000000000000000000000', 'cx331b85154556b07db709347bfd171f867e372b11', '0x258'], 'data': ['0x7b226d6574686f64223a225f6465706f7369745f616e645f626f72726f77222c22706172616d73223a7b225f73656e646572223a22687833663031383430613539396461303762306636323065656165376161396335373431363961346265222c225f6173736574223a22222c225f616d6f756e74223a307d7d']} \n",
      "\n",
      "{'scoreAddress': 'cx331b85154556b07db709347bfd171f867e372b11', 'indexed': ['CollateralReceived(Address,str)', 'hx3f01840a599da07b0f620eeae7aa9c574169a4be', 'sICX'], 'data': []} \n",
      "\n",
      "{'scoreAddress': 'cx1138555eeec500933fd78312121117ed74a9fcd0', 'indexed': ['TokenTransfer(Address,int,str)', 'cx331b85154556b07db709347bfd171f867e372b11', '0x258'], 'data': ['6e-16 sICX minted to cx331b85154556b07db709347bfd171f867e372b11']} \n",
      "\n",
      "{'scoreAddress': 'cxc5f7b2e0a6055eb828bd966546f6a84b7115b9e4', 'indexed': ['Mint(Address,int,bytes)', 'hx3f01840a599da07b0f620eeae7aa9c574169a4be'], 'data': ['0xd8d726b7177a80000', '0x4e6f6e65']} \n",
      "\n",
      "{'scoreAddress': 'cxc5f7b2e0a6055eb828bd966546f6a84b7115b9e4', 'indexed': ['Transfer(Address,Address,int,bytes)', 'hx0000000000000000000000000000000000000000', 'hx3f01840a599da07b0f620eeae7aa9c574169a4be', '0xd8d726b7177a80000'], 'data': ['0x4e6f6e65']} \n",
      "\n",
      "------------------------------------------------------------------------------------------------------------------\n",
      "Reading getAccountPositions, with parameters {'_owner': 'hx3f01840a599da07b0f620eeae7aa9c574169a4be'} on the loans contract.\n",
      "------------------------------------------------------------------------------------------------------------------\n",
      "{'pos_id': '0x1', 'created': '0x5beb9e3c5f2ae', 'address': 'hx3f01840a599da07b0f620eeae7aa9c574169a4be', 'snap_id': '0x1', 'snaps_length': '0x1', 'last_snap': '0x1', 'first day': '0x1', 'assets': {'sICX': '0x9e86ded25f95e8258', 'bnUSD': '0xd8d726b7177a80000'}, 'replay_index': '0x0', 'events_behind': '0x0', 'total_debt': '0x0', 'ratio': '0x10f7a389f1ae3274', 'standing': 'Liquidate'}\n"
     ]
    },
    {
     "data": {
      "text/plain": [
       "{'pos_id': '0x1',\n",
       " 'created': '0x5beb9e3c5f2ae',\n",
       " 'address': 'hx3f01840a599da07b0f620eeae7aa9c574169a4be',\n",
       " 'snap_id': '0x1',\n",
       " 'snaps_length': '0x1',\n",
       " 'last_snap': '0x1',\n",
       " 'first day': '0x1',\n",
       " 'assets': {'sICX': '0x9e86ded25f95e8258', 'bnUSD': '0xd8d726b7177a80000'},\n",
       " 'replay_index': '0x0',\n",
       " 'events_behind': '0x0',\n",
       " 'total_debt': '0x0',\n",
       " 'ratio': '0x10f7a389f1ae3274',\n",
       " 'standing': 'Liquidate'}"
      ]
     },
     "execution_count": 11,
     "metadata": {},
     "output_type": "execute_result"
    }
   ],
   "source": [
    "# Cell 10\n",
    "# 1. Deposit collateral to fresh wallet\n",
    "# 2. Check the account standing after depositing collateral - Should be 'No Debt', and\n",
    "#    holding '0x2a6f1a22364bbe8000' worth of sICX.\n",
    "# 3a. Mints 200 bnUSD to the test address without checking collateralization ratio\n",
    "#     With the above collateral deposit it will put the position in a standing of Liquidation.\n",
    "# 4. Check the new standing of the account. Should have added '0xad78ebc5ac6200000' bnUSD and have standing of 'Liquidate'.\n",
    "\n",
    "send_tx('loans', 0, 'toggleTestMode', {}, btest_wallet)\n",
    "send_tx('loans', 182769 * ICX // 1000, 'addCollateral', {'_asset': '', '_amount': 0}, btest_wallet)\n",
    "call_tx('loans', 'getAccountPositions', {'_owner': btest_wallet.get_address()})\n",
    "send_tx('loans', 600, 'create_test_position', {'_address': btest_wallet.get_address(), '_asset': 'bnUSD', '_amount': 250 * ICX}, btest_wallet)\n",
    "call_tx('loans', 'getAccountPositions', {'_owner': btest_wallet.get_address()})\n",
    "send_tx('loans', 0, 'toggleTestMode', {}, btest_wallet)\n"
   ]
  },
  {
   "cell_type": "code",
   "execution_count": 15,
   "metadata": {},
   "outputs": [
    {
     "name": "stdout",
     "output_type": "stream",
     "text": [
      "------------------------------------------------------------------------------------------------------------------\n",
      "Calling create_test_position, with parameters {'_address': 'hx3f01840a599da07b0f620eeae7aa9c574169a4be', '_asset': 'bnUSD', '_amount': 1000000000000000000000} on the loans contract.\n",
      "------------------------------------------------------------------------------------------------------------------\n",
      "************************************************** Status: 1 **************************************************\n",
      "{'scoreAddress': 'cx331b85154556b07db709347bfd171f867e372b11', 'indexed': ['ICXTransfer(Address,Address,int)', 'cx331b85154556b07db709347bfd171f867e372b11', 'cx1138555eeec500933fd78312121117ed74a9fcd0', '0x258'], 'data': []} \n",
      "\n",
      "{'scoreAddress': 'cx17ee846063b60fc2b590bf8f2a7e4b7a5d65f900', 'indexed': ['Mint(Address,int,bytes)', 'cx331b85154556b07db709347bfd171f867e372b11'], 'data': ['0x258', '0x7b226d6574686f64223a225f6465706f7369745f616e645f626f72726f77222c22706172616d73223a7b225f73656e646572223a22687833663031383430613539396461303762306636323065656165376161396335373431363961346265222c225f6173736574223a22222c225f616d6f756e74223a307d7d']} \n",
      "\n",
      "{'scoreAddress': 'cx17ee846063b60fc2b590bf8f2a7e4b7a5d65f900', 'indexed': ['Transfer(Address,Address,int,bytes)', 'hx0000000000000000000000000000000000000000', 'cx331b85154556b07db709347bfd171f867e372b11', '0x258'], 'data': ['0x7b226d6574686f64223a225f6465706f7369745f616e645f626f72726f77222c22706172616d73223a7b225f73656e646572223a22687833663031383430613539396461303762306636323065656165376161396335373431363961346265222c225f6173736574223a22222c225f616d6f756e74223a307d7d']} \n",
      "\n",
      "{'scoreAddress': 'cx331b85154556b07db709347bfd171f867e372b11', 'indexed': ['CollateralReceived(Address,str)', 'hx3f01840a599da07b0f620eeae7aa9c574169a4be', 'sICX'], 'data': []} \n",
      "\n",
      "{'scoreAddress': 'cxc5f7b2e0a6055eb828bd966546f6a84b7115b9e4', 'indexed': ['OraclePrice(str,str,Address,int)', 'USDICX', 'BandChain', 'cx7171e2f5653c1b9c000e24228276b8d24e84f10d'], 'data': ['0x84c5d90848544bb']} \n",
      "\n",
      "{'scoreAddress': 'cx1138555eeec500933fd78312121117ed74a9fcd0', 'indexed': ['TokenTransfer(Address,int,str)', 'cx331b85154556b07db709347bfd171f867e372b11', '0x258'], 'data': ['6e-16 sICX minted to cx331b85154556b07db709347bfd171f867e372b11']} \n",
      "\n",
      "{'scoreAddress': 'cxc5f7b2e0a6055eb828bd966546f6a84b7115b9e4', 'indexed': ['Mint(Address,int,bytes)', 'hx3f01840a599da07b0f620eeae7aa9c574169a4be'], 'data': ['0x3635c9adc5dea00000', '0x4e6f6e65']} \n",
      "\n",
      "{'scoreAddress': 'cxc5f7b2e0a6055eb828bd966546f6a84b7115b9e4', 'indexed': ['Transfer(Address,Address,int,bytes)', 'hx0000000000000000000000000000000000000000', 'hx3f01840a599da07b0f620eeae7aa9c574169a4be', '0x3635c9adc5dea00000'], 'data': ['0x4e6f6e65']} \n",
      "\n",
      "------------------------------------------------------------------------------------------------------------------\n",
      "Reading getAccountPositions, with parameters {'_owner': 'hx3f01840a599da07b0f620eeae7aa9c574169a4be'} on the loans contract.\n",
      "------------------------------------------------------------------------------------------------------------------\n",
      "{'pos_id': '0x1', 'created': '0x5beb9e3c5f2ae', 'address': 'hx3f01840a599da07b0f620eeae7aa9c574169a4be', 'snap_id': '0x1', 'snaps_length': '0x1', 'last_snap': '0x1', 'first day': '0x1', 'assets': {'sICX': '0x258', 'bnUSD': '0x3635c9adc5dea00000'}, 'replay_index': '0x0', 'events_behind': '0x0', 'total_debt': '0x0', 'ratio': '0x1', 'standing': 'Liquidate'}\n",
      "{'pos_id': '0x1', 'created': '0x5beb9e3c5f2ae', 'address': 'hx3f01840a599da07b0f620eeae7aa9c574169a4be', 'snap_id': '0x1', 'snaps_length': '0x1', 'last_snap': '0x1', 'first day': '0x1', 'assets': {'sICX': '0x258', 'bnUSD': '0x3635c9adc5dea00000'}, 'replay_index': '0x0', 'events_behind': '0x0', 'total_debt': '0x0', 'ratio': '0x1', 'standing': 'Liquidate'}\n"
     ]
    }
   ],
   "source": [
    "# Cell 11\n",
    "# 4a. If the account does not yet have a standing of 'Liquidate' add another loan of '0xad78ebc5ac6200000'.\n",
    "\n",
<<<<<<< HEAD
    "send_tx('loans', 600, 'create_test_position', {'_address': btest_wallet.get_address(), '_asset': 'bnUSD', '_amount': 1000 * ICX}, btest_wallet)\n",
=======
    "send_tx('loans', 0, 'toggleTestMode', {}, btest_wallet)\n",
    "send_tx('loans', 600, 'create_test_position', {'_address': btest_wallet.get_address(), '_asset': 'bnUSD', '_amount': 200 * ICX}, btest_wallet)\n",
    "send_tx('loans', 0, 'toggleTestMode', {}, btest_wallet)\n",
>>>>>>> development
    "print(call_tx('loans', 'getAccountPositions', {'_owner': btest_wallet.get_address()}))\n"
   ]
  },
  {
   "cell_type": "code",
   "execution_count": 16,
   "metadata": {},
   "outputs": [
    {
     "name": "stdout",
     "output_type": "stream",
     "text": [
      "------------------------------------------------------------------------------------------------------------------\n",
      "Reading getAccountPositions, with parameters {'_owner': 'hx3f01840a599da07b0f620eeae7aa9c574169a4be'} on the loans contract.\n",
      "------------------------------------------------------------------------------------------------------------------\n",
      "{'pos_id': '0x1', 'created': '0x5beb9e3c5f2ae', 'address': 'hx3f01840a599da07b0f620eeae7aa9c574169a4be', 'snap_id': '0x1', 'snaps_length': '0x1', 'last_snap': '0x1', 'first day': '0x1', 'assets': {'sICX': '0x258', 'bnUSD': '0x3635c9adc5dea00000'}, 'replay_index': '0x0', 'events_behind': '0x0', 'total_debt': '0x0', 'ratio': '0x1', 'standing': 'Liquidate'}\n",
      "------------------------------------------------------------------------------------------------------------------\n",
      "Calling liquidate, with parameters {'_owner': 'hx3f01840a599da07b0f620eeae7aa9c574169a4be'} on the loans contract.\n",
      "------------------------------------------------------------------------------------------------------------------\n"
     ]
    },
    {
     "name": "stderr",
     "output_type": "stream",
     "text": [
      "Raised JSONRPCException while returning the custom response. Error message: {'code': -32602, 'message': 'Pending transaction'}\n"
     ]
    },
    {
     "name": "stdout",
     "output_type": "stream",
     "text": [
      "Retrying in 1 seconds...\n",
      "************************************************** Status: 1 **************************************************\n",
      "{'scoreAddress': 'cx331b85154556b07db709347bfd171f867e372b11', 'indexed': ['PositionStanding(Address,str,str,str)', 'hx3f01840a599da07b0f620eeae7aa9c574169a4be', 'Liquidate'], 'data': ['1.0034187718225886e-18', 'Position up to date.']} \n",
      "\n",
      "{'scoreAddress': 'cx17ee846063b60fc2b590bf8f2a7e4b7a5d65f900', 'indexed': ['Transfer(Address,Address,int,bytes)', 'cx331b85154556b07db709347bfd171f867e372b11', 'hx3f01840a599da07b0f620eeae7aa9c574169a4be', '0x4'], 'data': ['0x4e6f6e65']} \n",
      "\n",
      "{'scoreAddress': 'cx331b85154556b07db709347bfd171f867e372b11', 'indexed': ['TokenTransfer(Address,int,str)', 'hx3f01840a599da07b0f620eeae7aa9c574169a4be', '0x4'], 'data': ['Liquidation reward of 4 sICX sent to hx3f01840a599da07b0f620eeae7aa9c574169a4be.']} \n",
      "\n",
      "{'scoreAddress': 'cx331b85154556b07db709347bfd171f867e372b11', 'indexed': ['Liquidate(Address,int,str)', 'hx3f01840a599da07b0f620eeae7aa9c574169a4be', '0x258'], 'data': ['600 liquidated from hx3f01840a599da07b0f620eeae7aa9c574169a4be']} \n",
      "\n",
      "------------------------------------------------------------------------------------------------------------------\n",
      "Reading getAccountPositions, with parameters {'_owner': 'hx3f01840a599da07b0f620eeae7aa9c574169a4be'} on the loans contract.\n",
      "------------------------------------------------------------------------------------------------------------------\n",
      "{'pos_id': '0x1', 'created': '0x5beb9e3c5f2ae', 'address': 'hx3f01840a599da07b0f620eeae7aa9c574169a4be', 'snap_id': '0x1', 'snaps_length': '0x1', 'last_snap': '0x1', 'first day': '0x1', 'assets': {'sICX': '0x0'}, 'replay_index': '0x0', 'events_behind': '0x0', 'total_debt': '0x0', 'ratio': '0x0', 'standing': 'Zero'}\n",
      "------------------------------------------------------------------------------------------------------------------\n",
      "Reading checkDebts, with parameters {} on the loans contract.\n",
      "------------------------------------------------------------------------------------------------------------------\n",
      "{'system': {'debts': '0x0', 'bad_debt': '0x43c33c193756480000', 'supply': '0x43c33c193756480000', 'diff': '0x0', 'remaining': '0x0'}, 'events': {}}\n"
     ]
    },
    {
     "data": {
      "text/plain": [
       "{'system': {'debts': '0x0',\n",
       "  'bad_debt': '0x43c33c193756480000',\n",
       "  'supply': '0x43c33c193756480000',\n",
       "  'diff': '0x0',\n",
       "  'remaining': '0x0'},\n",
       " 'events': {}}"
      ]
     },
     "execution_count": 16,
     "metadata": {},
     "output_type": "execute_result"
    }
   ],
   "source": [
    "# Cell 12\n",
    "# 5. Check the account standing after depositing collateral - Should be 'No Debt'.\n",
    "# 6. Liquidate the account position.\n",
    "# 7. Check the standing of the account after liquidation. Should now have zero balance for sICX and bnUSD.\n",
    "# 8. Checking the debts should show the sum of the borrower debt and the bad debt equals the total supply.\n",
    "\n",
    "call_tx('loans', 'getAccountPositions', {'_owner': btest_wallet.get_address()})\n",
    "send_tx('loans', 0, 'liquidate', {'_owner': btest_wallet.get_address()}, btest_wallet)\n",
    "call_tx('loans', 'getAccountPositions', {'_owner': btest_wallet.get_address()})\n",
    "call_tx('loans', 'checkDebts', {})\n"
   ]
  },
  {
   "cell_type": "markdown",
   "metadata": {},
   "source": [
    "## Retire some debt to get bnUSD out of Dead Market state"
   ]
  },
  {
   "cell_type": "code",
   "execution_count": 17,
   "metadata": {},
   "outputs": [
    {
     "name": "stdout",
     "output_type": "stream",
     "text": [
      "------------------------------------------------------------------------------------------------------------------\n",
      "Reading checkDeadMarkets, with parameters {} on the loans contract.\n",
      "------------------------------------------------------------------------------------------------------------------\n",
      "['bnUSD']\n",
      "------------------------------------------------------------------------------------------------------------------\n",
      "Reading getAvailableAssets, with parameters {} on the loans contract.\n",
      "------------------------------------------------------------------------------------------------------------------\n",
      "{'sICX': {'symbol': 'sICX', 'address': 'cx17ee846063b60fc2b590bf8f2a7e4b7a5d65f900', 'peg': 'sICX', 'added': '0x5beb9e0ca1a51', 'is_collateral': '0x1', 'active': '0x1', 'bad_debt': '0x0', 'liquidation_pool': '0x0', 'dead_market': '0x0'}, 'bnUSD': {'symbol': 'bnUSD', 'address': 'cxc5f7b2e0a6055eb828bd966546f6a84b7115b9e4', 'peg': 'USD', 'added': '0x5beb9e0ca1a51', 'is_collateral': '0x0', 'active': '0x1', 'bad_debt': '0x43c33c193756480000', 'liquidation_pool': '0x9d76f7151c6fb4ca8', 'dead_market': '0x1'}}\n",
      "------------------------------------------------------------------------------------------------------------------\n",
      "Calling transfer, with parameters {'_to': 'cx331b85154556b07db709347bfd171f867e372b11', '_value': 1000000000000000000000, '_data': b'{\"method\": \"_retire_asset\", \"params\": {}}'} on the bnUSD contract.\n",
      "------------------------------------------------------------------------------------------------------------------\n"
     ]
    },
    {
     "name": "stderr",
     "output_type": "stream",
     "text": [
      "Raised JSONRPCException while returning the custom response. Error message: {'code': -32602, 'message': 'Pending transaction'}\n"
     ]
    },
    {
     "name": "stdout",
     "output_type": "stream",
     "text": [
      "Retrying in 1 seconds...\n",
      "************************************************** Status: 0 **************************************************\n",
      "Failure: {'code': 32, 'message': 'BALNbnUSD, BalancedDEX, cx2e54e321d361c0082d410987a95bc62fe3548d5d, Exception: Invalid pool id (32)'}\n",
      "------------------------------------------------------------------------------------------------------------------\n",
      "Reading getAvailableAssets, with parameters {} on the loans contract.\n",
      "------------------------------------------------------------------------------------------------------------------\n",
      "{'sICX': {'symbol': 'sICX', 'address': 'cx17ee846063b60fc2b590bf8f2a7e4b7a5d65f900', 'peg': 'sICX', 'added': '0x5beb9e0ca1a51', 'is_collateral': '0x1', 'active': '0x1', 'bad_debt': '0x0', 'liquidation_pool': '0x0', 'dead_market': '0x0'}, 'bnUSD': {'symbol': 'bnUSD', 'address': 'cxc5f7b2e0a6055eb828bd966546f6a84b7115b9e4', 'peg': 'USD', 'added': '0x5beb9e0ca1a51', 'is_collateral': '0x0', 'active': '0x1', 'bad_debt': '0x43c33c193756480000', 'liquidation_pool': '0x9d76f7151c6fb4ca8', 'dead_market': '0x1'}}\n"
     ]
    },
    {
     "data": {
      "text/plain": [
       "{'sICX': {'symbol': 'sICX',\n",
       "  'address': 'cx17ee846063b60fc2b590bf8f2a7e4b7a5d65f900',\n",
       "  'peg': 'sICX',\n",
       "  'added': '0x5beb9e0ca1a51',\n",
       "  'is_collateral': '0x1',\n",
       "  'active': '0x1',\n",
       "  'bad_debt': '0x0',\n",
       "  'liquidation_pool': '0x0',\n",
       "  'dead_market': '0x0'},\n",
       " 'bnUSD': {'symbol': 'bnUSD',\n",
       "  'address': 'cxc5f7b2e0a6055eb828bd966546f6a84b7115b9e4',\n",
       "  'peg': 'USD',\n",
       "  'added': '0x5beb9e0ca1a51',\n",
       "  'is_collateral': '0x0',\n",
       "  'active': '0x1',\n",
       "  'bad_debt': '0x43c33c193756480000',\n",
       "  'liquidation_pool': '0x9d76f7151c6fb4ca8',\n",
       "  'dead_market': '0x1'}}"
      ]
     },
     "execution_count": 17,
     "metadata": {},
     "output_type": "execute_result"
    }
   ],
   "source": [
    "# Cell 13\n",
    "# 1. Check that there is a Dead Market\n",
    "# 2. Check the bad debt, liquidation pool and dead_market state of the asset.\n",
    "# 3. Retire enough of the bad debt to get the asset out of the dead_market state.\n",
    "# 4. Again, check the bad debt, liquidation pool and dead_market state of the asset.\n",
    "\n",
    "call_tx('loans', 'checkDeadMarkets', {})\n",
    "call_tx('loans', 'getAvailableAssets', {})\n",
    "send_tx('bnUSD', 0, 'transfer', {'_to': contracts['loans']['SCORE'], '_value': 1000 * ICX, '_data': json.dumps({\"method\": \"_retire_asset\", \"params\": {}}).encode()}, btest_wallet)\n",
    "call_tx('loans', 'getAvailableAssets', {})\n"
   ]
  },
  {
   "cell_type": "markdown",
   "metadata": {},
   "source": [
    "### Unstake some sICX"
   ]
  },
  {
   "cell_type": "code",
   "execution_count": null,
   "metadata": {},
   "outputs": [],
   "source": [
    "send_tx('sICX', 0, 'transfer', {'_to': 'cx135987257c61b3c06cdc0e7b05e3fd50bc68ddc4', '_value': 50 * ICX, '_data': json.dumps({\"method\": \"unstake\", \"params\": {}}).encode()}, btest_wallet)\n"
   ]
  },
  {
   "cell_type": "code",
   "execution_count": null,
   "metadata": {},
   "outputs": [],
   "source": []
  },
  {
   "cell_type": "markdown",
   "metadata": {},
   "source": [
    "## Tests with multiple wallets and redemptions"
   ]
  },
  {
   "cell_type": "code",
   "execution_count": null,
   "metadata": {},
   "outputs": [],
   "source": [
    "# Create a set of wallets\n",
    "\n",
    "# wallets = []\n",
    "# for i in range(200):\n",
    "#     wallets.append(KeyWallet.create())\n",
    "# with open(\"../wallets.pkl\", 'wb') as f:\n",
    "#     pkl.dump(wallets, f)"
   ]
  },
  {
   "cell_type": "code",
   "execution_count": null,
   "metadata": {},
   "outputs": [],
   "source": [
    "with open(\"../wallets.pkl\", 'rb') as f:\n",
    "    wallets = pkl.load(f)"
   ]
  },
  {
   "cell_type": "code",
   "execution_count": null,
   "metadata": {},
   "outputs": [],
   "source": [
    "for i in range(20):\n",
    "    print(f'{wallets[i].get_address()}')"
   ]
  },
  {
   "cell_type": "code",
   "execution_count": null,
   "metadata": {},
   "outputs": [],
   "source": [
    "for i in range(20):\n",
    "    print(f'{i:3d}: {icon_service.get_balance(wallets[i].get_address()) / 10**18: 9.3f}')"
   ]
  },
  {
   "cell_type": "code",
   "execution_count": null,
   "metadata": {},
   "outputs": [],
   "source": [
    "for i in range(20):\n",
    "    call_tx(\"bnUSD\", \"balanceOf\", {\"_owner\": wallets[i].get_address()})"
   ]
  },
  {
   "cell_type": "code",
   "execution_count": null,
   "metadata": {},
   "outputs": [],
   "source": [
    "# 10000 ICX into each wallet. Uncomment if needed. These wallets are already more than well stocked enough on the tbears server.\n",
    "\n",
    "# for i in range(10):\n",
    "#     transaction = TransactionBuilder()\\\n",
    "#         .from_(wallet.get_address())\\\n",
    "#         .to(wallets[i].get_address())\\\n",
    "#         .value(20 * ICX)\\\n",
    "#         .step_limit(1000000) \\\n",
    "#         .nid(NID) \\\n",
    "#         .nonce(2) \\\n",
    "#         .version(3) \\\n",
    "#         .build()\n",
    "#     signed_transaction = SignedTransaction(transaction, wallet)\n",
    "#     tx_hash = icon_service.send_transaction(signed_transaction)\n",
    "# tx_hash"
   ]
  },
  {
   "cell_type": "code",
   "execution_count": null,
   "metadata": {},
   "outputs": [],
   "source": [
    "# Mint some bnUSD to first 20 wallets.\n",
    "\n",
    "for i in range(20):\n",
    "    params = {'_asset': 'bnUSD', '_amount': 50 * ICX}\n",
    "    transaction = CallTransactionBuilder()\\\n",
    "        .from_(wallets[i].get_address())\\\n",
    "        .to(contracts['loans']['SCORE'])\\\n",
    "        .value(800 * ICX)\\\n",
    "        .step_limit(10000000)\\\n",
    "        .nid(NID)\\\n",
    "        .nonce(100)\\\n",
    "        .method(\"addCollateral\")\\\n",
    "        .params(params)\\\n",
    "        .build()\n",
    "    signed_transaction = SignedTransaction(transaction, wallets[i])\n",
    "    tx_hash = icon_service.send_transaction(signed_transaction)\n",
    "    sleep(2)\n",
    "\n",
    "res = get_tx_result(tx_hash)\n",
    "print(f'Status: {res[\"status\"]}')\n",
    "if len(res[\"eventLogs\"]) > 0:\n",
    "    for item in res[\"eventLogs\"]:\n",
    "        print(f'{item} \\n')\n",
    "if res['status'] == 0:\n",
    "    print(f'Failure: {res[\"failure\"]}')"
   ]
  },
  {
   "cell_type": "code",
   "execution_count": null,
   "metadata": {},
   "outputs": [],
   "source": [
    "# redeem 50 bnUSD from each of 20 wallets that do not have positions on Balanced. This will use up all\n",
    "# of the liquidation pool and require some replay events to be recorded.\n",
    "\n",
    "for i in range(20):\n",
    "    params = {'_to': wallets[i+100].get_address(), '_value': 50 * ICX}\n",
    "    transaction = CallTransactionBuilder()\\\n",
    "        .from_(wallets[i].get_address())\\\n",
    "        .to(contracts['bnUSD']['SCORE'])\\\n",
    "        .value(0)\\\n",
    "        .step_limit(10000000)\\\n",
    "        .nid(NID)\\\n",
    "        .nonce(100)\\\n",
    "        .method(\"transfer\")\\\n",
    "        .params(params)\\\n",
    "        .build()\n",
    "    signed_transaction = SignedTransaction(transaction, wallets[i])\n",
    "    tx_hash = icon_service.send_transaction(signed_transaction)\n",
    "    sleep(2)\n",
    "    params = {\"method\": \"_retire_asset\", \"params\": {}}\n",
    "    data = json.dumps(params).encode(\"utf-8\")\n",
    "    params = {'_to': contracts['loans']['SCORE'], '_value': 50 * ICX, '_data': data}\n",
    "    transaction = CallTransactionBuilder()\\\n",
    "        .from_(wallets[i+100].get_address())\\\n",
    "        .to(contracts['bnUSD']['SCORE'])\\\n",
    "        .value(0)\\\n",
    "        .step_limit(10000000)\\\n",
    "        .nid(NID)\\\n",
    "        .nonce(100)\\\n",
    "        .method(\"transfer\")\\\n",
    "        .params(params)\\\n",
    "        .build()\n",
    "    signed_transaction = SignedTransaction(transaction, wallets[i+100])\n",
    "    tx_hash = icon_service.send_transaction(signed_transaction)\n",
    "    sleep(1)\n",
    "\n",
    "res = get_tx_result(tx_hash)\n",
    "print(f'Status: {res[\"status\"]}')\n",
    "if len(res[\"eventLogs\"]) > 0:\n",
    "    for item in res[\"eventLogs\"]:\n",
    "        print(f'{item} \\n')\n",
    "if res['status'] == 0:\n",
    "    print(f'Failure: {res[\"failure\"]}')"
   ]
  },
  {
   "cell_type": "code",
   "execution_count": null,
   "metadata": {},
   "outputs": [],
   "source": [
    "# Gets the total number of borrowers in the system and iterates over them by index to update each one.\n",
    "\n",
    "params = {}\n",
    "call1 = CallBuilder().from_(wallet.get_address())\\\n",
    "                     .to(contracts['loans']['SCORE'])\\\n",
    "                     .method(\"borrowerCount\")\\\n",
    "                     .params(params)\\\n",
    "                     .build()\n",
    "total_borrowers = int(icon_service.call(call1), 0)\n",
    "for i in range(total_borrowers):\n",
    "    params = {'_index': i + 1}\n",
    "    call = CallBuilder().from_(wallet.get_address())\\\n",
    "                        .to(contracts['loans']['SCORE'])\\\n",
    "                        .method(\"getPositionAddress\")\\\n",
    "                        .params(params)\\\n",
    "                        .build()\n",
    "    params = {'_owner': icon_service.call(call)}\n",
    "    transaction = CallTransactionBuilder()\\\n",
    "        .from_(wallet.get_address())\\\n",
    "        .to(contracts['loans']['SCORE'])\\\n",
    "        .value(0)\\\n",
    "        .step_limit(10000000)\\\n",
    "        .nid(NID)\\\n",
    "        .nonce(100)\\\n",
    "        .method(\"updateStanding\")\\\n",
    "        .params(params)\\\n",
    "        .build()\n",
    "    signed_transaction = SignedTransaction(transaction, wallet)\n",
    "    tx_hash = icon_service.send_transaction(signed_transaction)\n",
    "    sleep(1)\n",
    "\n",
    "res = get_tx_result(tx_hash)\n",
    "print(f'Status: {res[\"status\"]}')\n",
    "if len(res[\"eventLogs\"]) > 0:\n",
    "    for item in res[\"eventLogs\"]:\n",
    "        print(f'{item} \\n')\n",
    "if res['status'] == 0:\n",
    "    print(f'Failure: {res[\"failure\"]}')"
   ]
  },
  {
   "cell_type": "code",
   "execution_count": null,
   "metadata": {},
   "outputs": [],
   "source": [
    "# Mint some bnUSD to each wallet\n",
    "\n",
    "for i in range(80, 110):\n",
    "    params = {'_asset': 'bnUSD', '_amount': 100 * ICX}\n",
    "    transaction = CallTransactionBuilder()\\\n",
    "        .from_(wallets[i].get_address())\\\n",
    "        .to(contracts['loans']['SCORE'])\\\n",
    "        .value(1200 * ICX)\\\n",
    "        .step_limit(10000000)\\\n",
    "        .nid(NID)\\\n",
    "        .nonce(100)\\\n",
    "        .method(\"addCollateral\")\\\n",
    "        .params(params)\\\n",
    "        .build()\n",
    "    signed_transaction = SignedTransaction(transaction, wallets[i])\n",
    "    tx_hash = icon_service.send_transaction(signed_transaction)\n",
    "    sleep(2)\n",
    "\n",
    "res = get_tx_result(tx_hash)\n",
    "print(f'Status: {res[\"status\"]}')\n",
    "if len(res[\"eventLogs\"]) > 0:\n",
    "    for item in res[\"eventLogs\"]:\n",
    "        print(f'{item} \\n')\n",
    "if res['status'] == 0:\n",
    "    print(f'Failure: {res[\"failure\"]}')"
   ]
  },
  {
   "cell_type": "code",
   "execution_count": null,
   "metadata": {},
   "outputs": [],
   "source": [
    "# redeem 50 bnUSD from each of 20 wallets that do not have positions on Balanced. This will use up all\n",
    "# of the liquidation pool and require some replay events to be recorded.\n",
    "\n",
    "for i in range(80, 110):\n",
    "    params = {'_to': wallets[i+50].get_address(), '_value': 50 * ICX}\n",
    "    transaction = CallTransactionBuilder()\\\n",
    "        .from_(wallets[i].get_address())\\\n",
    "        .to(contracts['bnUSD']['SCORE'])\\\n",
    "        .value(0)\\\n",
    "        .step_limit(10000000)\\\n",
    "        .nid(NID)\\\n",
    "        .nonce(100)\\\n",
    "        .method(\"transfer\")\\\n",
    "        .params(params)\\\n",
    "        .build()\n",
    "    signed_transaction = SignedTransaction(transaction, wallets[i])\n",
    "    tx_hash = icon_service.send_transaction(signed_transaction)\n",
    "    sleep(2)\n",
    "    params = {\"method\": \"_retire_asset\", \"params\": {}}\n",
    "    data = json.dumps(params).encode(\"utf-8\")\n",
    "    params = {'_to': contracts['loans']['SCORE'], '_value': 50 * ICX, '_data': data}\n",
    "    transaction = CallTransactionBuilder()\\\n",
    "        .from_(wallets[i+50].get_address())\\\n",
    "        .to(contracts['bnUSD']['SCORE'])\\\n",
    "        .value(0)\\\n",
    "        .step_limit(10000000)\\\n",
    "        .nid(NID)\\\n",
    "        .nonce(100)\\\n",
    "        .method(\"transfer\")\\\n",
    "        .params(params)\\\n",
    "        .build()\n",
    "    signed_transaction = SignedTransaction(transaction, wallets[i+50])\n",
    "    tx_hash = icon_service.send_transaction(signed_transaction)\n",
    "    sleep(1)\n",
    "\n",
    "res = get_tx_result(tx_hash)\n",
    "print(f'Status: {res[\"status\"]}')\n",
    "if len(res[\"eventLogs\"]) > 0:\n",
    "    for item in res[\"eventLogs\"]:\n",
    "        print(f'{item} \\n')\n",
    "if res['status'] == 0:\n",
    "    print(f'Failure: {res[\"failure\"]}')"
   ]
  },
  {
   "cell_type": "code",
   "execution_count": null,
   "metadata": {},
   "outputs": [],
   "source": [
    "for _ in range(100):\n",
    "    params = {'_index': 1}\n",
    "    call = CallBuilder().from_(wallet.get_address())\\\n",
    "                        .to(contracts['loans']['SCORE'])\\\n",
    "                        .method(\"getPositionAddress\")\\\n",
    "                        .params(params)\\\n",
    "                        .build()\n",
    "    params = {'_owner': icon_service.call(call)}\n",
    "    transaction = CallTransactionBuilder()\\\n",
    "        .from_(wallets[1].get_address())\\\n",
    "        .to(contracts['loans']['SCORE'])\\\n",
    "        .value(0)\\\n",
    "        .step_limit(10000000)\\\n",
    "        .nid(NID)\\\n",
    "        .nonce(100)\\\n",
    "        .method(\"updateStanding\")\\\n",
    "        .params(params)\\\n",
    "        .build()\n",
    "    signed_transaction = SignedTransaction(transaction, wallets[1])\n",
    "    tx_hash = icon_service.send_transaction(signed_transaction)\n",
    "\n",
    "res = get_tx_result(tx_hash)\n",
    "print(f'Status: {res[\"status\"]}')\n",
    "if len(res[\"eventLogs\"]) > 0:\n",
    "    for item in res[\"eventLogs\"]:\n",
    "        print(f'{item} \\n')\n",
    "if res['status'] == 0:\n",
    "    print(f'Failure: {res[\"failure\"]}')"
   ]
  },
  {
   "cell_type": "code",
   "execution_count": null,
   "metadata": {},
   "outputs": [],
   "source": [
    "for i in range(100):\n",
    "    params = {'_owner': wallets[i].get_address()}\n",
    "    transaction = CallTransactionBuilder()\\\n",
    "        .from_(wallets[i].get_address())\\\n",
    "        .to(contracts['loans']['SCORE'])\\\n",
    "        .value(0)\\\n",
    "        .step_limit(10000000)\\\n",
    "        .nid(NID)\\\n",
    "        .nonce(100)\\\n",
    "        .method(\"updateStanding\")\\\n",
    "        .params(params)\\\n",
    "        .build()\n",
    "    signed_transaction = SignedTransaction(transaction, wallets[i])\n",
    "    tx_hash = icon_service.send_transaction(signed_transaction)\n",
    "\n",
    "    print(i)\n",
    "    res = get_tx_result(tx_hash)\n",
    "    print(f'Status: {res[\"status\"]}')\n",
    "    if len(res[\"eventLogs\"]) > 0:\n",
    "        for item in res[\"eventLogs\"]:\n",
    "            print(f'{item} \\n')\n",
    "    if res['status'] == 0:\n",
    "        print(f'Failure: {res[\"failure\"]}')"
   ]
  },
  {
   "cell_type": "code",
   "execution_count": null,
   "metadata": {},
   "outputs": [],
   "source": [
    "params = {'_holders': [wallet.get_address(), btest_wallet.get_address()]}\n",
    "call = CallBuilder().from_(wallet.get_address())\\\n",
    "                    .to(contracts['rewards']['SCORE'])\\\n",
    "                    .method(\"getBalnHoldings\")\\\n",
    "                    .params(params)\\\n",
    "                    .build()\n",
    "result = icon_service.call(call)\n",
    "i = 0\n",
    "{i: [key, result[key]] for i, key in enumerate(result.keys())}"
   ]
  },
  {
   "cell_type": "code",
   "execution_count": null,
   "metadata": {},
   "outputs": [],
   "source": [
    "# Check BALN that has been distributed on the rewards SCORE, and to platform contract addresses.\n",
    "\n",
    "params = {}\n",
    "call = CallBuilder().from_(wallet.get_address())\\\n",
    "                    .to(contracts['loans']['SCORE'])\\\n",
    "                    .method(\"borrowerCount\")\\\n",
    "                    .params(params)\\\n",
    "                    .build()\n",
    "borrowerCount = int(icon_service.call(call), 0)\n",
    "\n",
    "addresses = []\n",
    "for i in range(1, borrowerCount + 1):\n",
    "    params = {'_index': i, '_day': -1}\n",
    "    call = CallBuilder().from_(wallet.get_address())\\\n",
    "                        .to(contracts['loans']['SCORE'])\\\n",
    "                        .method(\"getPositionByIndex\")\\\n",
    "                        .params(params)\\\n",
    "                        .build()\n",
    "    position = icon_service.call(call)\n",
    "    addresses.append(position['address'])\n",
    "\n",
    "params = {'_holders': addresses}\n",
    "call = CallBuilder().from_(wallet.get_address())\\\n",
    "                    .to(contracts['rewards']['SCORE'])\\\n",
    "                    .method(\"getBalnHoldings\")\\\n",
    "                    .params(params)\\\n",
    "                    .build()\n",
    "holders = icon_service.call(call)\n",
    "\n",
    "total_balances = 0\n",
    "baln_balances = {}\n",
    "for contract in ['rewards', 'reserve', 'bwt', 'dex', 'daofund']:\n",
    "    params = {'_owner': contracts[contract]['SCORE']}\n",
    "    call = CallBuilder().from_(wallet.get_address())\\\n",
    "                        .to(contracts['baln']['SCORE'])\\\n",
    "                        .method(\"balanceOf\")\\\n",
    "                        .params(params)\\\n",
    "                        .build()\n",
    "    result = int(icon_service.call(call), 0)\n",
    "    baln_balances[contract] = result / 10**18\n",
    "    total_balances += result\n",
    "\n",
    "i = 0\n",
    "holdings = {i: [key, int(holders[key], 0), int(holders[key], 0) / 10**18] for i, key in enumerate(holders.keys())}\n",
    "total = 0\n",
    "for key in holdings:\n",
    "    total += holdings[key][1]\n",
    "    print(f'{holdings[key]}')\n",
    "\n",
    "print(f'Total unclaimed: {total / 10**18}')\n",
    "print(baln_balances)\n",
    "print(f'Total BALN: {total_balances / 10**18}')"
   ]
  },
  {
   "cell_type": "code",
   "execution_count": null,
   "metadata": {},
   "outputs": [],
   "source": [
    "params = {}\n",
    "transaction = CallTransactionBuilder()\\\n",
    "    .from_(btest_wallet.get_address())\\\n",
    "    .to(contracts['rewards']['SCORE'])\\\n",
    "    .value(0)\\\n",
    "    .step_limit(10000000)\\\n",
    "    .nid(NID)\\\n",
    "    .nonce(100)\\\n",
    "    .method(\"claimRewards\")\\\n",
    "    .params(params)\\\n",
    "    .build()\n",
    "signed_transaction = SignedTransaction(transaction, btest_wallet)\n",
    "tx_hash = icon_service.send_transaction(signed_transaction)\n",
    "sleep(2)\n",
    "\n",
    "print(i)\n",
    "res = get_tx_result(tx_hash)\n",
    "print(f'Status: {res[\"status\"]}')\n",
    "if len(res[\"eventLogs\"]) > 0:\n",
    "    for item in res[\"eventLogs\"]:\n",
    "        print(f'{item} \\n')\n",
    "if res['status'] == 0:\n",
    "    print(f'Failure: {res[\"failure\"]}')"
   ]
  },
  {
   "cell_type": "code",
   "execution_count": null,
   "metadata": {},
   "outputs": [],
   "source": [
    "for i in range(0, 200):\n",
    "    params = {}\n",
    "    transaction = CallTransactionBuilder()\\\n",
    "        .from_(wallets[i].get_address())\\\n",
    "        .to(contracts['rewards']['SCORE'])\\\n",
    "        .value(0)\\\n",
    "        .step_limit(10000000)\\\n",
    "        .nid(NID)\\\n",
    "        .nonce(100)\\\n",
    "        .method(\"claimRewards\")\\\n",
    "        .params(params)\\\n",
    "        .build()\n",
    "    signed_transaction = SignedTransaction(transaction, wallets[i])\n",
    "    tx_hash = icon_service.send_transaction(signed_transaction)\n",
    "    sleep(2)\n",
    "\n",
    "    print(i)\n",
    "    res = get_tx_result(tx_hash)\n",
    "    print(f'Status: {res[\"status\"]}')\n",
    "    if len(res[\"eventLogs\"]) > 0:\n",
    "        for item in res[\"eventLogs\"]:\n",
    "            print(f'{item} \\n')\n",
    "    if res['status'] == 0:\n",
    "        print(f'Failure: {res[\"failure\"]}')"
   ]
  },
  {
   "cell_type": "code",
   "execution_count": null,
   "metadata": {},
   "outputs": [],
   "source": [
    "params = {'_name': 'BALNbnUSD', '_snapshot_id': 1, '_limit': 10, '_offset': 0}\n",
    "call = CallBuilder().from_(wallet.get_address())\\\n",
    "                    .to(contracts['loans']['SCORE'])\\\n",
    "                    .method(\"getDataBatch\")\\\n",
    "                    .params(params)\\\n",
    "                    .build()\n",
    "result = icon_service.call(call)\n",
    "result"
   ]
  },
  {
   "cell_type": "code",
   "execution_count": null,
   "metadata": {},
   "outputs": [],
   "source": [
    "params = {'_owner': wallet.get_address()}\n",
    "transaction = CallTransactionBuilder()\\\n",
    "    .from_(wallet.get_address())\\\n",
    "    .to(contracts['loans']['SCORE'])\\\n",
    "    .value(0)\\\n",
    "    .step_limit(10000000)\\\n",
    "    .nid(NID)\\\n",
    "    .nonce(100)\\\n",
    "    .method(\"updateStanding\")\\\n",
    "    .params(params)\\\n",
    "    .build()\n",
    "signed_transaction = SignedTransaction(transaction, wallet)\n",
    "tx_hash = icon_service.send_transaction(signed_transaction)\n",
    "\n",
    "res = get_tx_result(tx_hash)\n",
    "print(f'Status: {res[\"status\"]}')\n",
    "if len(res[\"eventLogs\"]) > 0:\n",
    "    for item in res[\"eventLogs\"]:\n",
    "        print(f'{item} \\n')\n",
    "if res['status'] == 0:\n",
    "    print(f'Failure: {res[\"failure\"]}')"
   ]
  },
  {
   "cell_type": "code",
   "execution_count": null,
   "metadata": {},
   "outputs": [],
   "source": [
    "icon_service.get_balance(wallet.get_address()) / 10**18"
   ]
  },
  {
   "cell_type": "code",
   "execution_count": null,
   "metadata": {},
   "outputs": [],
   "source": [
    "balances = {}\n",
    "for wallet in wallets[:20]:\n",
    "    address = wallet.get_address()\n",
    "    params = {'_owner': address}\n",
    "    call = CallBuilder().from_(address)\\\n",
    "                        .to(contracts['baln']['SCORE'])\\\n",
    "                        .method('availableBalanceOf')\\\n",
    "                        .params(params)\\\n",
    "                        .build()\n",
    "    result = icon_service.call(call)\n",
    "    balances[address] = result"
   ]
  },
  {
   "cell_type": "code",
   "execution_count": null,
   "metadata": {},
   "outputs": [],
   "source": [
    "balances = {}\n",
    "for wallet in wallets[:20]:\n",
    "    address = wallet.get_address()\n",
    "    params = {'_owner': address}\n",
    "    call = CallBuilder().from_(address)\\\n",
    "                        .to(contracts['sicx']['SCORE'])\\\n",
    "                        .method('balanceOf')\\\n",
    "                        .params(params)\\\n",
    "                        .build()\n",
    "    result = icon_service.call(call)\n",
    "    balances[address] = result"
   ]
  },
  {
   "cell_type": "code",
   "execution_count": null,
   "metadata": {},
   "outputs": [],
   "source": [
    "balances = {}\n",
    "for wall in [wallet, btest_wallet]:\n",
    "    address = wall.get_address()\n",
    "    params = {'_owner': address}\n",
    "    call = CallBuilder().from_(address)\\\n",
    "                        .to(contracts['baln']['SCORE'])\\\n",
    "                        .method('balanceOf')\\\n",
    "                        .params(params)\\\n",
    "                        .build()\n",
    "    result = icon_service.call(call)\n",
    "    balances[address] = int(result, 0) // 10**18\n",
    "print(balances)"
   ]
  },
  {
   "cell_type": "code",
   "execution_count": null,
   "metadata": {},
   "outputs": [],
   "source": [
    "send_tx('baln', 0, 'transfer', {'_to': 'hxdf7c371a35b4acb19d9f869a68eed8721503eaea', '_value': 10**23}, btest_wallet)"
   ]
  },
  {
   "cell_type": "markdown",
   "metadata": {},
   "source": [
    "### DEX SICX Test\n",
    "\n",
    "Does the following:\n",
    "\n",
    "1. Sends ICX to the DEX\n",
    "2. Checks overall ICX balance\n",
    "3. Checks withdrawal lock\n",
    "4. Mints some SICX\n",
    "5. Trades SICX against ICX"
   ]
  },
  {
   "cell_type": "code",
   "execution_count": null,
   "metadata": {},
   "outputs": [],
   "source": [
    "contracts['dex']['SCORE']"
   ]
  },
  {
   "cell_type": "code",
   "execution_count": 23,
   "metadata": {},
   "outputs": [
    {
     "name": "stderr",
     "output_type": "stream",
     "text": [
      "Raised JSONRPCException while returning the custom response. Error message: {'code': -32602, 'message': 'Pending transaction'}\n"
     ]
    },
    {
     "name": "stdout",
     "output_type": "stream",
     "text": [
      "Retrying in 1 seconds...\n",
      "Status: 1\n",
      "{'scoreAddress': 'cx2e54e321d361c0082d410987a95bc62fe3548d5d', 'indexed': ['Snapshot(int)', '0x1'], 'data': []} \n",
      "\n"
     ]
    }
   ],
   "source": [
    "# Cell 26\n",
    "\n",
    "transaction = TransactionBuilder()\\\n",
    "    .from_(wallet.get_address())\\\n",
    "    .to(contracts['dex']['SCORE'])\\\n",
    "    .value(10 * ICX)\\\n",
    "    .step_limit(10000000)\\\n",
    "    .nid(NID)\\\n",
    "    .nonce(101)\\\n",
    "    .build()\n",
    "signed_transaction = SignedTransaction(transaction, wallet)\n",
    "tx_hash = icon_service.send_transaction(signed_transaction)\n",
    "tx_hash\n",
    "\n",
    "res = get_tx_result(tx_hash)\n",
    "print(f'Status: {res[\"status\"]}')\n",
    "if len(res[\"eventLogs\"]) > 0:\n",
    "    for item in res[\"eventLogs\"]:\n",
    "        print(f'{item} \\n')\n",
    "if res['status'] == 0:\n",
    "    print(f'Failure: {res[\"failure\"]}')"
   ]
  },
  {
   "cell_type": "code",
   "execution_count": 24,
   "metadata": {
    "scrolled": true
   },
   "outputs": [
    {
     "data": {
      "text/plain": [
       "1.0"
      ]
     },
     "execution_count": 24,
     "metadata": {},
     "output_type": "execute_result"
    }
   ],
   "source": [
    "# Cell 27\n",
    "\n",
    "call = CallBuilder().from_(wallet.get_address())\\\n",
    "                    .to(contracts['dex']['SCORE'])\\\n",
    "                    .method('getICXBalance')\\\n",
    "                    .params({'_address': wallet.get_address()}) \\\n",
    "                    .build()\n",
    "result = icon_service.call(call)\n",
    "int(result, 0) / 10**18"
   ]
  },
  {
   "cell_type": "code",
   "execution_count": 25,
   "metadata": {},
   "outputs": [
    {
     "name": "stderr",
     "output_type": "stream",
     "text": [
      "Raised JSONRPCException while returning the custom response. Error message: {'code': -32003, 'message': 'Method not found: DEX.getICXWithdrawLock'}\n"
     ]
    },
    {
     "ename": "JSONRPCException",
     "evalue": "{'code': -32003, 'message': 'Method not found: DEX.getICXWithdrawLock'} (Json rpc error)",
     "output_type": "error",
     "traceback": [
      "\u001b[0;31m---------------------------------------------------------------------------\u001b[0m",
      "\u001b[0;31mJSONRPCException\u001b[0m                          Traceback (most recent call last)",
      "\u001b[0;32m<ipython-input-25-2ee6f0f9850a>\u001b[0m in \u001b[0;36m<module>\u001b[0;34m\u001b[0m\n\u001b[1;32m      5\u001b[0m                     \u001b[0;34m.\u001b[0m\u001b[0mmethod\u001b[0m\u001b[0;34m(\u001b[0m\u001b[0;34m'getICXWithdrawLock'\u001b[0m\u001b[0;34m)\u001b[0m\u001b[0;31m\\\u001b[0m\u001b[0;34m\u001b[0m\u001b[0;34m\u001b[0m\u001b[0m\n\u001b[1;32m      6\u001b[0m                     \u001b[0;34m.\u001b[0m\u001b[0mbuild\u001b[0m\u001b[0;34m(\u001b[0m\u001b[0;34m)\u001b[0m\u001b[0;34m\u001b[0m\u001b[0;34m\u001b[0m\u001b[0m\n\u001b[0;32m----> 7\u001b[0;31m \u001b[0mresult\u001b[0m \u001b[0;34m=\u001b[0m \u001b[0micon_service\u001b[0m\u001b[0;34m.\u001b[0m\u001b[0mcall\u001b[0m\u001b[0;34m(\u001b[0m\u001b[0mcall\u001b[0m\u001b[0;34m)\u001b[0m\u001b[0;34m\u001b[0m\u001b[0;34m\u001b[0m\u001b[0m\n\u001b[0m\u001b[1;32m      8\u001b[0m \u001b[0mdatetime\u001b[0m\u001b[0;34m.\u001b[0m\u001b[0mutcfromtimestamp\u001b[0m\u001b[0;34m(\u001b[0m\u001b[0mint\u001b[0m\u001b[0;34m(\u001b[0m\u001b[0mresult\u001b[0m\u001b[0;34m,\u001b[0m \u001b[0;36m0\u001b[0m\u001b[0;34m)\u001b[0m \u001b[0;34m//\u001b[0m \u001b[0;36m10\u001b[0m\u001b[0;34m**\u001b[0m\u001b[0;36m6\u001b[0m\u001b[0;34m)\u001b[0m\u001b[0;34m.\u001b[0m\u001b[0mstrftime\u001b[0m\u001b[0;34m(\u001b[0m\u001b[0;34m'%Y-%m-%d %H:%M:%S'\u001b[0m\u001b[0;34m)\u001b[0m\u001b[0;34m\u001b[0m\u001b[0;34m\u001b[0m\u001b[0m\n",
      "\u001b[0;32m~/anaconda3/lib/python3.7/site-packages/iconsdk/icon_service.py\u001b[0m in \u001b[0;36mcall\u001b[0;34m(self, call, full_response)\u001b[0m\n\u001b[1;32m    233\u001b[0m             \u001b[0mparams\u001b[0m\u001b[0;34m[\u001b[0m\u001b[0;34m\"data\"\u001b[0m\u001b[0;34m]\u001b[0m\u001b[0;34m[\u001b[0m\u001b[0;34m\"params\"\u001b[0m\u001b[0;34m]\u001b[0m \u001b[0;34m=\u001b[0m \u001b[0mcall\u001b[0m\u001b[0;34m.\u001b[0m\u001b[0mparams\u001b[0m\u001b[0;34m\u001b[0m\u001b[0;34m\u001b[0m\u001b[0m\n\u001b[1;32m    234\u001b[0m \u001b[0;34m\u001b[0m\u001b[0m\n\u001b[0;32m--> 235\u001b[0;31m         \u001b[0;32mreturn\u001b[0m \u001b[0mself\u001b[0m\u001b[0;34m.\u001b[0m\u001b[0m__provider\u001b[0m\u001b[0;34m.\u001b[0m\u001b[0mmake_request\u001b[0m\u001b[0;34m(\u001b[0m\u001b[0;34m'icx_call'\u001b[0m\u001b[0;34m,\u001b[0m \u001b[0mparams\u001b[0m\u001b[0;34m,\u001b[0m \u001b[0mfull_response\u001b[0m\u001b[0;34m)\u001b[0m\u001b[0;34m\u001b[0m\u001b[0;34m\u001b[0m\u001b[0m\n\u001b[0m\u001b[1;32m    236\u001b[0m \u001b[0;34m\u001b[0m\u001b[0m\n\u001b[1;32m    237\u001b[0m     \u001b[0;32mdef\u001b[0m \u001b[0msend_transaction\u001b[0m\u001b[0;34m(\u001b[0m\u001b[0mself\u001b[0m\u001b[0;34m,\u001b[0m \u001b[0msigned_transaction\u001b[0m\u001b[0;34m:\u001b[0m \u001b[0mSignedTransaction\u001b[0m\u001b[0;34m,\u001b[0m \u001b[0mfull_response\u001b[0m\u001b[0;34m:\u001b[0m \u001b[0mbool\u001b[0m \u001b[0;34m=\u001b[0m \u001b[0;32mFalse\u001b[0m\u001b[0;34m)\u001b[0m \u001b[0;34m->\u001b[0m \u001b[0mUnion\u001b[0m\u001b[0;34m[\u001b[0m\u001b[0mdict\u001b[0m\u001b[0;34m,\u001b[0m \u001b[0mstr\u001b[0m\u001b[0;34m]\u001b[0m\u001b[0;34m:\u001b[0m\u001b[0;34m\u001b[0m\u001b[0;34m\u001b[0m\u001b[0m\n",
      "\u001b[0;32m~/anaconda3/lib/python3.7/site-packages/iconsdk/providers/http_provider.py\u001b[0m in \u001b[0;36mmake_request\u001b[0;34m(self, method, params, full_response)\u001b[0m\n\u001b[1;32m    127\u001b[0m         \u001b[0mfull_path_url\u001b[0m \u001b[0;34m=\u001b[0m \u001b[0mself\u001b[0m\u001b[0;34m.\u001b[0m\u001b[0m_full_path_url\u001b[0m \u001b[0;32mif\u001b[0m \u001b[0mself\u001b[0m\u001b[0;34m.\u001b[0m\u001b[0m_full_path_url\u001b[0m \u001b[0;32melse\u001b[0m \u001b[0mself\u001b[0m\u001b[0;34m.\u001b[0m\u001b[0m_get_full_path_url\u001b[0m\u001b[0;34m(\u001b[0m\u001b[0mmethod\u001b[0m\u001b[0;34m)\u001b[0m\u001b[0;34m\u001b[0m\u001b[0;34m\u001b[0m\u001b[0m\n\u001b[1;32m    128\u001b[0m         \u001b[0mresponse\u001b[0m \u001b[0;34m=\u001b[0m \u001b[0mself\u001b[0m\u001b[0;34m.\u001b[0m\u001b[0m_make_post_request\u001b[0m\u001b[0;34m(\u001b[0m\u001b[0mfull_path_url\u001b[0m\u001b[0;34m,\u001b[0m \u001b[0mrpc_dict\u001b[0m\u001b[0;34m,\u001b[0m \u001b[0;34m**\u001b[0m\u001b[0mself\u001b[0m\u001b[0;34m.\u001b[0m\u001b[0m_get_request_kwargs\u001b[0m\u001b[0;34m(\u001b[0m\u001b[0;34m)\u001b[0m\u001b[0;34m)\u001b[0m\u001b[0;34m\u001b[0m\u001b[0;34m\u001b[0m\u001b[0m\n\u001b[0;32m--> 129\u001b[0;31m         \u001b[0mcustom_response\u001b[0m \u001b[0;34m=\u001b[0m \u001b[0mself\u001b[0m\u001b[0;34m.\u001b[0m\u001b[0m_return_custom_response\u001b[0m\u001b[0;34m(\u001b[0m\u001b[0mresponse\u001b[0m\u001b[0;34m,\u001b[0m \u001b[0mfull_response\u001b[0m\u001b[0;34m)\u001b[0m\u001b[0;34m\u001b[0m\u001b[0;34m\u001b[0m\u001b[0m\n\u001b[0m\u001b[1;32m    130\u001b[0m \u001b[0;34m\u001b[0m\u001b[0m\n\u001b[1;32m    131\u001b[0m         \u001b[0mlogger\u001b[0m\u001b[0;34m.\u001b[0m\u001b[0mdebug\u001b[0m\u001b[0;34m(\u001b[0m\u001b[0;34mf\"Request: {rpc_dict}\"\u001b[0m\u001b[0;34m)\u001b[0m\u001b[0;34m\u001b[0m\u001b[0;34m\u001b[0m\u001b[0m\n",
      "\u001b[0;32m~/anaconda3/lib/python3.7/site-packages/iconsdk/providers/http_provider.py\u001b[0m in \u001b[0;36m_return_custom_response\u001b[0;34m(response, full_response)\u001b[0m\n\u001b[1;32m    152\u001b[0m                 logger.error(f\"Raised JSONRPCException while returning the custom response. \"\n\u001b[1;32m    153\u001b[0m                              f\"Error message: {content_as_dict['error']}\")\n\u001b[0;32m--> 154\u001b[0;31m                 \u001b[0;32mraise\u001b[0m \u001b[0mJSONRPCException\u001b[0m\u001b[0;34m(\u001b[0m\u001b[0mcontent_as_dict\u001b[0m\u001b[0;34m[\u001b[0m\u001b[0;34m\"error\"\u001b[0m\u001b[0;34m]\u001b[0m\u001b[0;34m)\u001b[0m\u001b[0;34m\u001b[0m\u001b[0;34m\u001b[0m\u001b[0m\n\u001b[0m\u001b[1;32m    155\u001b[0m \u001b[0;34m\u001b[0m\u001b[0m\n\u001b[1;32m    156\u001b[0m     \u001b[0;32mdef\u001b[0m \u001b[0mis_connected\u001b[0m\u001b[0;34m(\u001b[0m\u001b[0mself\u001b[0m\u001b[0;34m)\u001b[0m \u001b[0;34m->\u001b[0m \u001b[0mbool\u001b[0m\u001b[0;34m:\u001b[0m\u001b[0;34m\u001b[0m\u001b[0;34m\u001b[0m\u001b[0m\n",
      "\u001b[0;31mJSONRPCException\u001b[0m: {'code': -32003, 'message': 'Method not found: DEX.getICXWithdrawLock'} (Json rpc error)"
     ]
    }
   ],
   "source": [
    "# Cell 28\n",
    "\n",
    "call = CallBuilder().from_(wallet.get_address())\\\n",
    "                    .to(contracts['dex']['SCORE'])\\\n",
    "                    .method('getICXWithdrawLock')\\\n",
    "                    .build()\n",
    "result = icon_service.call(call)\n",
    "datetime.utcfromtimestamp(int(result, 0) // 10**6).strftime('%Y-%m-%d %H:%M:%S')"
   ]
  },
  {
   "cell_type": "code",
   "execution_count": 26,
   "metadata": {
    "scrolled": false
   },
   "outputs": [
    {
     "name": "stdout",
     "output_type": "stream",
     "text": [
      "Status: 1\n",
      "{'scoreAddress': 'cx17ee846063b60fc2b590bf8f2a7e4b7a5d65f900', 'indexed': ['Mint(Address,int,bytes)', 'hxe7af5fcfd8dfc67530a01a0e403882687528dfcb'], 'data': ['0x8ac7230489e80000', '0x4e6f6e65']} \n",
      "\n",
      "{'scoreAddress': 'cx17ee846063b60fc2b590bf8f2a7e4b7a5d65f900', 'indexed': ['Transfer(Address,Address,int,bytes)', 'hx0000000000000000000000000000000000000000', 'hxe7af5fcfd8dfc67530a01a0e403882687528dfcb', '0x8ac7230489e80000'], 'data': ['0x4e6f6e65']} \n",
      "\n",
      "{'scoreAddress': 'cx1138555eeec500933fd78312121117ed74a9fcd0', 'indexed': ['TokenTransfer(Address,int,str)', 'hxe7af5fcfd8dfc67530a01a0e403882687528dfcb', '0x8ac7230489e80000'], 'data': ['10.0 sICX minted to hxe7af5fcfd8dfc67530a01a0e403882687528dfcb']} \n",
      "\n"
     ]
    }
   ],
   "source": [
    "# Cell 29\n",
    "\n",
    "params = {'_to': wallet.get_address()}\n",
    "transaction = CallTransactionBuilder()\\\n",
    "    .from_(wallet.get_address())\\\n",
    "    .to(contracts['staking']['SCORE'])\\\n",
    "    .value(10 * ICX)\\\n",
    "    .step_limit(10000000)\\\n",
    "    .nid(NID)\\\n",
    "    .nonce(100)\\\n",
    "    .method(\"stakeICX\")\\\n",
    "    .params(params)\\\n",
    "    .build()\n",
    "signed_transaction = SignedTransaction(transaction, wallet)\n",
    "tx_hash = icon_service.send_transaction(signed_transaction)\n",
    "tx_hash\n",
    "\n",
    "res = get_tx_result(tx_hash)\n",
    "print(f'Status: {res[\"status\"]}')\n",
    "if len(res[\"eventLogs\"]) > 0:\n",
    "    for item in res[\"eventLogs\"]:\n",
    "        print(f'{item} \\n')\n",
    "if res['status'] == 0:\n",
    "    print(f'Failure: {res[\"failure\"]}')"
   ]
  },
  {
   "cell_type": "code",
   "execution_count": null,
   "metadata": {
    "scrolled": false
   },
   "outputs": [],
   "source": [
    "# Cell 30\n",
    "\n",
    "data = \"{\\\"method\\\": \\\"_swap_icx\\\"}\".encode(\"utf-8\")\n",
    "params = {'_to': contracts['dex']['SCORE'], '_value': 10 * ICX, '_data': data}\n",
    "transaction = CallTransactionBuilder()\\\n",
    "    .from_(wallet.get_address())\\\n",
    "    .to(contracts['sicx']['SCORE'])\\\n",
    "    .value(0)\\\n",
    "    .step_limit(30000000)\\\n",
    "    .nid(NID)\\\n",
    "    .nonce(100)\\\n",
    "    .method(\"transfer\")\\\n",
    "    .params(params)\\\n",
    "    .build()\n",
    "signed_transaction = SignedTransaction(transaction, wallet)\n",
    "tx_hash = icon_service.send_transaction(signed_transaction)\n",
    "tx_hash\n",
    "\n",
    "res = get_tx_result(tx_hash)\n",
    "print(f'Status: {res[\"status\"]}')\n",
    "if len(res[\"eventLogs\"]) > 0:\n",
    "    for item in res[\"eventLogs\"]:\n",
    "        print(f'{item} \\n')\n",
    "if res['status'] == 0:\n",
    "    print(f'Failure: {res[\"failure\"]}')"
   ]
  },
  {
   "cell_type": "code",
   "execution_count": 27,
   "metadata": {},
   "outputs": [
    {
     "data": {
      "text/plain": [
       "1.0"
      ]
     },
     "execution_count": 27,
     "metadata": {},
     "output_type": "execute_result"
    }
   ],
   "source": [
    "# Cell 31\n",
    "\n",
    "call = CallBuilder().from_(wallet.get_address())\\\n",
    "                    .to(contracts['dex']['SCORE'])\\\n",
    "                    .method('getICXBalance')\\\n",
    "                    .params({'_address': wallet.get_address()}) \\\n",
    "                    .build()\n",
    "result = icon_service.call(call)\n",
    "int(result, 0) / 10**18"
   ]
  },
  {
   "cell_type": "code",
   "execution_count": 28,
   "metadata": {},
   "outputs": [
    {
     "name": "stdout",
     "output_type": "stream",
     "text": [
      "['SICXICX']\n"
     ]
    }
   ],
   "source": [
    "# Cell 32\n",
    "\n",
    "call = CallBuilder().from_(wallet.get_address())\\\n",
    "                    .to(contracts['dex']['SCORE'])\\\n",
    "                    .method('getNamedPools')\\\n",
    "                    .build()\n",
    "result = icon_service.call(call)\n",
    "print(result)"
   ]
  },
  {
   "cell_type": "code",
   "execution_count": null,
   "metadata": {},
   "outputs": [],
   "source": [
    "# Cell 33\n",
    "\n",
    "call = CallBuilder().from_(wallet.get_address())\\\n",
    "                    .to(contracts['dex']['SCORE'])\\\n",
    "                    .method('getDataBatch')\\\n",
    "                    .params({'_name': 'SICXICX', '_limit': 10, '_snapshot_id': 1}) \\\n",
    "                    .build()\n",
    "result = icon_service.call(call)\n",
    "print(result)"
   ]
  },
  {
   "cell_type": "code",
   "execution_count": 30,
   "metadata": {},
   "outputs": [
    {
     "name": "stderr",
     "output_type": "stream",
     "text": [
      "Raised JSONRPCException while returning the custom response. Error message: {'code': -32602, 'message': 'Pending transaction'}\n"
     ]
    },
    {
     "name": "stdout",
     "output_type": "stream",
     "text": [
      "Retrying in 1 seconds...\n",
      "Status: 1\n",
      "{'scoreAddress': 'cx17ee846063b60fc2b590bf8f2a7e4b7a5d65f900', 'indexed': ['Transfer(Address,Address,int,bytes)', 'hxe7af5fcfd8dfc67530a01a0e403882687528dfcb', 'cx2e54e321d361c0082d410987a95bc62fe3548d5d', '0x1bc16d674ec80000'], 'data': ['0x7b226d6574686f64223a20225f6465706f736974227d']} \n",
      "\n",
      "{'scoreAddress': 'cx2e54e321d361c0082d410987a95bc62fe3548d5d', 'indexed': ['Deposit(Address,Address,int)', 'cx17ee846063b60fc2b590bf8f2a7e4b7a5d65f900', 'hxe7af5fcfd8dfc67530a01a0e403882687528dfcb'], 'data': ['0x1bc16d674ec80000']} \n",
      "\n"
     ]
    }
   ],
   "source": [
    "# Cell 34\n",
    "\n",
    "data = \"{\\\"method\\\": \\\"_deposit\\\"}\".encode(\"utf-8\")\n",
    "params = {'_to': contracts['dex']['SCORE'], '_value': 10 * ICX, '_data': data}\n",
    "transaction = CallTransactionBuilder()\\\n",
    "    .from_(wallet.get_address())\\\n",
    "    .to(contracts['sicx']['SCORE'])\\\n",
    "    .value(0)\\\n",
    "    .step_limit(10000000)\\\n",
    "    .nid(NID)\\\n",
    "    .nonce(100)\\\n",
    "    .method(\"transfer\")\\\n",
    "    .params(params)\\\n",
    "    .build()\n",
    "signed_transaction = SignedTransaction(transaction, wallet)\n",
    "tx_hash = icon_service.send_transaction(signed_transaction)\n",
    "tx_hash\n",
    "\n",
    "res = get_tx_result(tx_hash)\n",
    "print(f'Status: {res[\"status\"]}')\n",
    "if len(res[\"eventLogs\"]) > 0:\n",
    "    for item in res[\"eventLogs\"]:\n",
    "        print(f'{item} \\n')\n",
    "if res['status'] == 0:\n",
    "    print(f'Failure: {res[\"failure\"]}')"
   ]
  },
  {
   "cell_type": "code",
   "execution_count": 20,
   "metadata": {},
   "outputs": [
    {
     "data": {
      "text/plain": [
       "'hxe7af5fcfd8dfc67530a01a0e403882687528dfcb'"
      ]
     },
     "execution_count": 20,
     "metadata": {},
     "output_type": "execute_result"
    }
   ],
   "source": [
    "wallet.get_address()"
   ]
  },
  {
   "cell_type": "code",
   "execution_count": 31,
   "metadata": {},
   "outputs": [
    {
     "name": "stdout",
     "output_type": "stream",
     "text": [
      "Status: 0\n",
      "Failure: {'code': 1, 'message': 'Insufficient balance.'}\n"
     ]
    }
   ],
   "source": [
    "# Cell 35\n",
    "\n",
    "data = \"{\\\"method\\\": \\\"_deposit\\\"}\".encode(\"utf-8\")\n",
    "params = {'_to': contracts['dex']['SCORE'], '_value': 5 * ICX, '_data': data}\n",
    "transaction = CallTransactionBuilder()\\\n",
    "    .from_(wallet.get_address())\\\n",
    "    .to(contracts['bnUSD']['SCORE'])\\\n",
    "    .value(0)\\\n",
    "    .step_limit(10000000)\\\n",
    "    .nid(NID)\\\n",
    "    .nonce(100)\\\n",
    "    .method(\"transfer\")\\\n",
    "    .params(params)\\\n",
    "    .build()\n",
    "signed_transaction = SignedTransaction(transaction, wallet)\n",
    "tx_hash = icon_service.send_transaction(signed_transaction)\n",
    "tx_hash\n",
    "\n",
    "res = get_tx_result(tx_hash)\n",
    "print(f'Status: {res[\"status\"]}')\n",
    "if len(res[\"eventLogs\"]) > 0:\n",
    "    for item in res[\"eventLogs\"]:\n",
    "        print(f'{item} \\n')\n",
    "if res['status'] == 0:\n",
    "    print(f'Failure: {res[\"failure\"]}')"
   ]
  },
  {
   "cell_type": "code",
   "execution_count": 32,
   "metadata": {},
   "outputs": [
    {
     "name": "stderr",
     "output_type": "stream",
     "text": [
      "Raised JSONRPCException while returning the custom response. Error message: {'code': -32602, 'message': 'Pending transaction'}\n"
     ]
    },
    {
     "name": "stdout",
     "output_type": "stream",
     "text": [
      "Retrying in 1 seconds...\n",
      "Status: 0\n",
      "Failure: {'code': 32, 'message': 'BALN: Out of available balance. Please check staked and total balance'}\n"
     ]
    }
   ],
   "source": [
    "# Cell 36\n",
    "\n",
    "data = \"{\\\"method\\\": \\\"_deposit\\\"}\".encode(\"utf-8\")\n",
    "params = {'_to': contracts['dex']['SCORE'], '_value': 100 * ICX, '_data': data}\n",
    "transaction = CallTransactionBuilder()\\\n",
    "    .from_(wallet.get_address())\\\n",
    "    .to(contracts['baln']['SCORE'])\\\n",
    "    .value(0)\\\n",
    "    .step_limit(10000000)\\\n",
    "    .nid(NID)\\\n",
    "    .nonce(100)\\\n",
    "    .method(\"transfer\")\\\n",
    "    .params(params)\\\n",
    "    .build()\n",
    "signed_transaction = SignedTransaction(transaction, wallet)\n",
    "tx_hash = icon_service.send_transaction(signed_transaction)\n",
    "tx_hash\n",
    "\n",
    "res = get_tx_result(tx_hash)\n",
    "print(f'Status: {res[\"status\"]}')\n",
    "if len(res[\"eventLogs\"]) > 0:\n",
    "    for item in res[\"eventLogs\"]:\n",
    "        print(f'{item} \\n')\n",
    "if res['status'] == 0:\n",
    "    print(f'Failure: {res[\"failure\"]}')"
   ]
  },
  {
   "cell_type": "code",
   "execution_count": null,
   "metadata": {},
   "outputs": [],
   "source": [
    "# Cell 37\n",
    "\n",
    "call = CallBuilder().from_(wallet.get_address())\\\n",
    "                    .to(contracts['dex']['SCORE'])\\\n",
    "                    .method('getDeposit')\\\n",
    "                    .params({'_user': wallet.get_address(), '_tokenAddress': contracts['bnUSD']['SCORE']}) \\\n",
    "                    .build()\n",
    "result = icon_service.call(call)\n",
    "int(result, 0) / 10**18"
   ]
  },
  {
   "cell_type": "code",
   "execution_count": 21,
   "metadata": {},
   "outputs": [
    {
     "name": "stdout",
     "output_type": "stream",
     "text": [
      "Status: 0\n",
      "Failure: {'code': 32, 'message': 'Insufficient base asset funds deposited'}\n"
     ]
    }
   ],
   "source": [
    "# Cell 38a\n",
    "\n",
    "transaction = CallTransactionBuilder()\\\n",
    "    .from_(wallet.get_address())\\\n",
    "    .to(contracts['dex']['SCORE'])\\\n",
    "    .value(0)\\\n",
    "    .step_limit(10000000)\\\n",
    "    .nid(NID)\\\n",
    "    .nonce(100)\\\n",
    "    .method(\"add\")\\\n",
    "    .params({'_baseToken': contracts['baln']['SCORE'], '_quoteToken': contracts['bnUSD']['SCORE'], '_maxBaseValue': 100 * ICX, '_quoteValue': 30990197728645406}) \\\n",
    "    .build()\n",
    "signed_transaction = SignedTransaction(transaction, wallet)\n",
    "tx_hash = icon_service.send_transaction(signed_transaction)\n",
    "tx_hash\n",
    "\n",
    "res = get_tx_result(tx_hash)\n",
    "print(f'Status: {res[\"status\"]}')\n",
    "if len(res[\"eventLogs\"]) > 0:\n",
    "    for item in res[\"eventLogs\"]:\n",
    "        print(f'{item} \\n')\n",
    "if res['status'] == 0:\n",
    "    print(f'Failure: {res[\"failure\"]}')"
   ]
  },
  {
   "cell_type": "code",
   "execution_count": null,
   "metadata": {},
   "outputs": [],
   "source": [
    "# Cell 38b\n",
    "\n",
    "transaction = CallTransactionBuilder()\\\n",
    "    .from_(wallet.get_address())\\\n",
    "    .to(contracts['dex']['SCORE'])\\\n",
    "    .value(0)\\\n",
    "    .step_limit(10000000)\\\n",
    "    .nid(NID)\\\n",
    "    .nonce(100)\\\n",
    "    .method(\"add\")\\\n",
    "    .params({'_baseToken': contracts['sicx']['SCORE'], '_quoteToken': contracts['bnUSD']['SCORE'], '_maxBaseValue': 10 * ICX, '_quoteValue': 5 * ICX}) \\\n",
    "    .build()\n",
    "signed_transaction = SignedTransaction(transaction, wallet)\n",
    "tx_hash = icon_service.send_transaction(signed_transaction)\n",
    "tx_hash\n",
    "\n",
    "res = get_tx_result(tx_hash)\n",
    "print(f'Status: {res[\"status\"]}')\n",
    "if len(res[\"eventLogs\"]) > 0:\n",
    "    for item in res[\"eventLogs\"]:\n",
    "        print(f'{item} \\n')\n",
    "if res['status'] == 0:\n",
    "    print(f'Failure: {res[\"failure\"]}')"
   ]
  },
  {
   "cell_type": "code",
   "execution_count": null,
   "metadata": {},
   "outputs": [],
   "source": [
    "# Cell 39\n",
    "\n",
    "transaction = CallTransactionBuilder()\\\n",
    "    .from_(wallet.get_address())\\\n",
    "    .to(contracts['governance']['SCORE'])\\\n",
    "    .value(0)\\\n",
    "    .step_limit(10000000)\\\n",
    "    .nid(NID)\\\n",
    "    .nonce(100)\\\n",
    "    .method(\"dexPermit\")\\\n",
    "    .params({'_pid': 1, '_permission': 1}) \\\n",
    "    .build()\n",
    "signed_transaction = SignedTransaction(transaction, wallet)\n",
    "tx_hash = icon_service.send_transaction(signed_transaction)\n",
    "tx_hash\n",
    "\n",
    "res = get_tx_result(tx_hash)\n",
    "print(f'Status: {res[\"status\"]}')\n",
    "if len(res[\"eventLogs\"]) > 0:\n",
    "    for item in res[\"eventLogs\"]:\n",
    "        print(f'{item} \\n')\n",
    "if res['status'] == 0:\n",
    "    print(f'Failure: {res[\"failure\"]}')"
   ]
  },
  {
   "cell_type": "code",
   "execution_count": null,
   "metadata": {},
   "outputs": [],
   "source": [
    "# Cell 40\n",
    "\n",
    "call = CallBuilder().from_(wallet.get_address())\\\n",
    "                    .to(contracts['dex']['SCORE'])\\\n",
    "                    .method('getInversePrice')\\\n",
    "                    .params({'_pid': 2}) \\\n",
    "                    .build()\n",
    "result = icon_service.call(call)\n",
    "int(result, 0) / 10**10"
   ]
  },
  {
   "cell_type": "code",
   "execution_count": null,
   "metadata": {},
   "outputs": [],
   "source": [
    "# Cell 41\n",
    "\n",
    "call = CallBuilder().from_(wallet.get_address())\\\n",
    "                    .to(contracts['dex']['SCORE'])\\\n",
    "                    .method('getPoolTotal')\\\n",
    "                    .params({'_pid': 2, '_token': contracts['bnUSD']['SCORE']}) \\\n",
    "                    .build()\n",
    "result = icon_service.call(call)\n",
    "int(result, 0) / 10**18"
   ]
  },
  {
   "cell_type": "code",
   "execution_count": null,
   "metadata": {},
   "outputs": [],
   "source": [
    "# Cell 42\n",
    "\n",
    "call = CallBuilder().from_(wallet.get_address())\\\n",
    "                    .to(contracts['dex']['SCORE'])\\\n",
    "                    .method('getPoolId')\\\n",
    "                    .params({'_token1Address': contracts['sicx']['SCORE'], '_token2Address': contracts['bnUSD']['SCORE'] }) \\\n",
    "                    .build()\n",
    "result = icon_service.call(call)\n",
    "print(\"pool w/ tokens: \" + str(contracts['sicx']['SCORE']) + ' & ' + str(contracts['bnUSD']['SCORE']))\n",
    "print(result)"
   ]
  },
  {
   "cell_type": "code",
   "execution_count": null,
   "metadata": {},
   "outputs": [],
   "source": [
    "# Cell 43\n",
    "\n",
    "call = CallBuilder().from_(wallet.get_address())\\\n",
    "                    .to(contracts['dex']['SCORE'])\\\n",
    "                    .method('getPoolBase')\\\n",
    "                    .params({'_pid': 2}) \\\n",
    "                    .build()\n",
    "result = icon_service.call(call)\n",
    "print(result)\n",
    "\n",
    "call = CallBuilder().from_(wallet.get_address())\\\n",
    "                    .to(contracts['dex']['SCORE'])\\\n",
    "                    .method('getPoolQuote')\\\n",
    "                    .params({'_pid': 2}) \\\n",
    "                    .build()\n",
    "result = icon_service.call(call)\n",
    "print(result)"
   ]
  },
  {
   "cell_type": "code",
   "execution_count": null,
   "metadata": {},
   "outputs": [],
   "source": [
    "# Cell 44\n",
    "\n",
    "transaction = CallTransactionBuilder()\\\n",
    "    .from_(btest_wallet.get_address())\\\n",
    "    .to(contracts['governance']['SCORE'])\\\n",
    "    .value(0)\\\n",
    "    .step_limit(10000000)\\\n",
    "    .nid(NID)\\\n",
    "    .nonce(100)\\\n",
    "    .method(\"setMarketName\")\\\n",
    "    .params({'_pid':2, '_name': 'SICXbnUSD'}) \\\n",
    "    .build()\n",
    "signed_transaction = SignedTransaction(transaction, btest_wallet)\n",
    "tx_hash = icon_service.send_transaction(signed_transaction)\n",
    "tx_hash\n",
    "\n",
    "res = get_tx_result(tx_hash)\n",
    "print(f'Status: {res[\"status\"]}')\n",
    "if len(res[\"eventLogs\"]) > 0:\n",
    "    for item in res[\"eventLogs\"]:\n",
    "        print(f'{item} \\n')\n",
    "if res['status'] == 0:\n",
    "    print(f'Failure: {res[\"failure\"]}')\n",
    "print('\\n')\n",
    "\n",
    "call = CallBuilder().from_(wallet.get_address())\\\n",
    "                    .to(contracts['dex']['SCORE'])\\\n",
    "                    .method('getNamedPools')\\\n",
    "                    .build()\n",
    "result = icon_service.call(call)\n",
    "print(result)"
   ]
  },
  {
   "cell_type": "code",
   "execution_count": null,
   "metadata": {},
   "outputs": [],
   "source": [
    "# Cell 44\n",
    "\n",
    "transaction = CallTransactionBuilder()\\\n",
    "    .from_(btest_wallet.get_address())\\\n",
    "    .to(contracts['governance']['SCORE'])\\\n",
    "    .value(0)\\\n",
    "    .step_limit(10000000)\\\n",
    "    .nid(NID)\\\n",
    "    .nonce(100)\\\n",
    "    .method(\"setMarketName\")\\\n",
    "    .params({'_pid':3, '_name': 'BALNbnUSD'}) \\\n",
    "    .build()\n",
    "signed_transaction = SignedTransaction(transaction, btest_wallet)\n",
    "tx_hash = icon_service.send_transaction(signed_transaction)\n",
    "tx_hash\n",
    "\n",
    "res = get_tx_result(tx_hash)\n",
    "print(f'Status: {res[\"status\"]}')\n",
    "if len(res[\"eventLogs\"]) > 0:\n",
    "    for item in res[\"eventLogs\"]:\n",
    "        print(f'{item} \\n')\n",
    "if res['status'] == 0:\n",
    "    print(f'Failure: {res[\"failure\"]}')\n",
    "print('\\n')\n",
    "\n",
    "call = CallBuilder().from_(wallet.get_address())\\\n",
    "                    .to(contracts['dex']['SCORE'])\\\n",
    "                    .method('getNamedPools')\\\n",
    "                    .build()\n",
    "result = icon_service.call(call)\n",
    "print(result)"
   ]
  },
  {
   "cell_type": "code",
   "execution_count": null,
   "metadata": {
    "scrolled": false
   },
   "outputs": [],
   "source": [
    "# Cell 45\n",
    "\n",
    "to_token = contracts['sicx']['SCORE']\n",
    "params_data = \"{\\\"method\\\": \\\"_swap\\\", \\\"params\\\": {\\\"toToken\\\":\\\"\" + str(to_token) + \"\\\", \\\"maxSlippage\\\":10}}\"\n",
    "data = params_data.encode(\"utf-8\")\n",
    "params = {'_to': contracts['dex']['SCORE'], '_value': ICX // 100, '_data': data}\n",
    "transaction = CallTransactionBuilder()\\\n",
    "    .from_(wallet.get_address())\\\n",
    "    .to(contracts['bnUSD']['SCORE'])\\\n",
    "    .value(0)\\\n",
    "    .step_limit(10000000)\\\n",
    "    .nid(NID)\\\n",
    "    .nonce(100)\\\n",
    "    .method(\"transfer\")\\\n",
    "    .params(params)\\\n",
    "    .build()\n",
    "signed_transaction = SignedTransaction(transaction, wallet)\n",
    "tx_hash = icon_service.send_transaction(signed_transaction)\n",
    "tx_hash\n",
    "\n",
    "res = get_tx_result(tx_hash)\n",
    "print(f'Status: {res[\"status\"]}')\n",
    "if len(res[\"eventLogs\"]) > 0:\n",
    "    for item in res[\"eventLogs\"]:\n",
    "        print(f'{item} \\n')\n",
    "if res['status'] == 0:\n",
    "    print(f'Failure: {res[\"failure\"]}')"
   ]
  },
  {
   "cell_type": "code",
   "execution_count": null,
   "metadata": {},
   "outputs": [],
   "source": [
    "# Cell 45\n",
    "\n",
    "to_token = contracts['bnUSD']['SCORE']\n",
    "params_data = \"{\\\"method\\\": \\\"_swap\\\", \\\"params\\\": {\\\"toToken\\\":\\\"\" + str(to_token) + \"\\\", \\\"maxSlippage\\\":250}}\"\n",
    "data = params_data.encode(\"utf-8\")\n",
    "params = {'_to': contracts['dex']['SCORE'], '_value': ICX // 100, '_data': data}\n",
    "transaction = CallTransactionBuilder()\\\n",
    "    .from_(wallet.get_address())\\\n",
    "    .to(contracts['sicx']['SCORE'])\\\n",
    "    .value(0)\\\n",
    "    .step_limit(10000000)\\\n",
    "    .nid(NID)\\\n",
    "    .nonce(100)\\\n",
    "    .method(\"transfer\")\\\n",
    "    .params(params)\\\n",
    "    .build()\n",
    "signed_transaction = SignedTransaction(transaction, wallet)\n",
    "tx_hash = icon_service.send_transaction(signed_transaction)\n",
    "tx_hash\n",
    "\n",
    "res = get_tx_result(tx_hash)\n",
    "print(f'Status: {res[\"status\"]}')\n",
    "if len(res[\"eventLogs\"]) > 0:\n",
    "    for item in res[\"eventLogs\"]:\n",
    "        print(f'{item} \\n')\n",
    "if res['status'] == 0:\n",
    "    print(f'Failure: {res[\"failure\"]}')"
   ]
  },
  {
   "cell_type": "code",
   "execution_count": null,
   "metadata": {},
   "outputs": [],
   "source": [
    "# Cell 46\n",
    "\n",
    "call = CallBuilder().from_(wallet.get_address())\\\n",
    "                    .to(contracts['dex']['SCORE'])\\\n",
    "                    .method('getPoolTotal')\\\n",
    "                    .params({'_pid': 2, '_token': contracts['sicx']['SCORE']}) \\\n",
    "                    .build()\n",
    "result = icon_service.call(call)\n",
    "int(result, 0) / 10**18"
   ]
  },
  {
   "cell_type": "code",
   "execution_count": null,
   "metadata": {},
   "outputs": [],
   "source": [
    "# Cell 47\n",
    "\n",
    "call = CallBuilder().from_(wallet.get_address())\\\n",
    "                    .to(contracts['dex']['SCORE'])\\\n",
    "                    .method('getPoolTotal')\\\n",
    "                    .params({'_pid': 2, '_token': contracts['bnUSD']['SCORE']}) \\\n",
    "                    .build()\n",
    "result = icon_service.call(call)\n",
    "int(result, 0) / 10**18"
   ]
  },
  {
   "cell_type": "code",
   "execution_count": null,
   "metadata": {},
   "outputs": [],
   "source": [
    "# Cell 48\n",
    "\n",
    "call = CallBuilder().from_(wallet.get_address())\\\n",
    "                    .to(contracts['dex']['SCORE'])\\\n",
    "                    .method('totalSupply')\\\n",
    "                    .params({'_pid': 2}) \\\n",
    "                    .build()\n",
    "result = icon_service.call(call)\n",
    "int(result, 0) / 10**18"
   ]
  },
  {
   "cell_type": "code",
   "execution_count": null,
   "metadata": {
    "scrolled": false
   },
   "outputs": [],
   "source": [
    "# Cell 49\n",
    "\n",
    "transaction = CallTransactionBuilder()\\\n",
    "    .from_(wallet.get_address())\\\n",
    "    .to(contracts['dex']['SCORE'])\\\n",
    "    .value(0)\\\n",
    "    .step_limit(10000000)\\\n",
    "    .nid(NID)\\\n",
    "    .nonce(100)\\\n",
    "    .method(\"remove\")\\\n",
    "    .params({'_pid':2, '_value': 1 * ICX, '_withdraw': 1}) \\\n",
    "    .build()\n",
    "signed_transaction = SignedTransaction(transaction, wallet)\n",
    "tx_hash = icon_service.send_transaction(signed_transaction)\n",
    "tx_hash\n",
    "\n",
    "res = get_tx_result(tx_hash)\n",
    "print(f'Status: {res[\"status\"]}')\n",
    "if len(res[\"eventLogs\"]) > 0:\n",
    "    for item in res[\"eventLogs\"]:\n",
    "        print(f'{item} \\n')\n",
    "if res['status'] == 0:\n",
    "    print(f'Failure: {res[\"failure\"]}')\n",
    "print('\\n')\n",
    "\n",
    "call = CallBuilder().from_(wallet.get_address())\\\n",
    "                    .to(contracts['dex']['SCORE'])\\\n",
    "                    .method('getPoolTotal')\\\n",
    "                    .params({'_pid': 2, '_token': contracts['bnUSD']['SCORE']}) \\\n",
    "                    .build()\n",
    "result = icon_service.call(call)\n",
    "int(result, 0) / 10**18"
   ]
  },
  {
   "cell_type": "code",
   "execution_count": null,
   "metadata": {},
   "outputs": [],
   "source": [
    "# Cell 50\n",
    "\n",
    "data = \"{\\\"method\\\": \\\"_deposit\\\"}\".encode(\"utf-8\")\n",
    "params = {'_to': contracts['dex']['SCORE'], '_value': 30 * ICX, '_data': data}\n",
    "transaction = CallTransactionBuilder()\\\n",
    "    .from_(wallet.get_address())\\\n",
    "    .to(contracts['bnUSD']['SCORE'])\\\n",
    "    .value(0)\\\n",
    "    .step_limit(10000000)\\\n",
    "    .nid(NID)\\\n",
    "    .nonce(100)\\\n",
    "    .method(\"transfer\")\\\n",
    "    .params(params)\\\n",
    "    .build()\n",
    "signed_transaction = SignedTransaction(transaction, wallet)\n",
    "tx_hash = icon_service.send_transaction(signed_transaction)\n",
    "tx_hash\n",
    "\n",
    "res = get_tx_result(tx_hash)\n",
    "print(f'Status: {res[\"status\"]}')\n",
    "if len(res[\"eventLogs\"]) > 0:\n",
    "    for item in res[\"eventLogs\"]:\n",
    "        print(f'{item} \\n')\n",
    "if res['status'] == 0:\n",
    "    print(f'Failure: {res[\"failure\"]}')"
   ]
  },
  {
   "cell_type": "code",
   "execution_count": null,
   "metadata": {},
   "outputs": [],
   "source": [
    "# Cell 51\n",
    "\n",
    "transaction = TransactionBuilder()\\\n",
    "    .from_(wallet.get_address())\\\n",
    "    .to(contracts['dex']['SCORE'])\\\n",
    "    .value(1 * ICX)\\\n",
    "    .step_limit(10000000)\\\n",
    "    .nid(NID)\\\n",
    "    .nonce(101)\\\n",
    "    .build()\n",
    "signed_transaction = SignedTransaction(transaction, wallet)\n",
    "tx_hash = icon_service.send_transaction(signed_transaction)\n",
    "tx_hash\n",
    "\n",
    "res = get_tx_result(tx_hash)\n",
    "print(f'Status: {res[\"status\"]}')\n",
    "if len(res[\"eventLogs\"]) > 0:\n",
    "    for item in res[\"eventLogs\"]:\n",
    "        print(f'{item} \\n')\n",
    "if res['status'] == 0:\n",
    "    print(f'Failure: {res[\"failure\"]}')"
   ]
  },
  {
   "cell_type": "code",
   "execution_count": null,
   "metadata": {},
   "outputs": [],
   "source": [
    "# Cell 52\n",
    "\n",
    "transaction = CallTransactionBuilder()\\\n",
    "    .from_(wallet.get_address())\\\n",
    "    .to(contracts['dex']['SCORE'])\\\n",
    "    .value(0)\\\n",
    "    .step_limit(10000000)\\\n",
    "    .nid(NID)\\\n",
    "    .nonce(100)\\\n",
    "    .method(\"cancelSicxicxOrder\")\\\n",
    "    .params({}) \\\n",
    "    .build()\n",
    "signed_transaction = SignedTransaction(transaction, wallet)\n",
    "tx_hash = icon_service.send_transaction(signed_transaction)\n",
    "tx_hash\n",
    "\n",
    "res = get_tx_result(tx_hash)\n",
    "print(f'Status: {res[\"status\"]}')\n",
    "if len(res[\"eventLogs\"]) > 0:\n",
    "    for item in res[\"eventLogs\"]:\n",
    "        print(f'{item} \\n')\n",
    "if res['status'] == 0:\n",
    "    print(f'Failure: {res[\"failure\"]}')"
   ]
  },
  {
   "cell_type": "code",
   "execution_count": null,
   "metadata": {},
   "outputs": [],
   "source": [
    "transaction = CallTransactionBuilder()\\\n",
    "    .from_(wallet.get_address())\\\n",
    "    .to(contracts['dex']['SCORE'])\\\n",
    "    .value(0)\\\n",
    "    .step_limit(10000000)\\\n",
    "    .nid(NID)\\\n",
    "    .nonce(100)\\\n",
    "    .method(\"setMarketName\")\\\n",
    "    .params({'_pid':3, '_name': 'BALNbnUSD'}) \\\n",
    "    .build()\n",
    "signed_transaction = SignedTransaction(transaction, wallet)\n",
    "tx_hash = icon_service.send_transaction(signed_transaction)\n",
    "tx_hash\n",
    "\n",
    "res = get_tx_result(tx_hash)\n",
    "print(f'Status: {res[\"status\"]}')\n",
    "if len(res[\"eventLogs\"]) > 0:\n",
    "    for item in res[\"eventLogs\"]:\n",
    "        print(f'{item} \\n')\n",
    "if res['status'] == 0:\n",
    "    print(f'Failure: {res[\"failure\"]}')\n",
    "print('\\n')\n",
    "\n",
    "call = CallBuilder().from_(wallet.get_address())\\\n",
    "                    .to(contracts['dex']['SCORE'])\\\n",
    "                    .method('getNamedPools')\\\n",
    "                    .build()\n",
    "result = icon_service.call(call)\n",
    "print(result)"
   ]
  },
  {
   "cell_type": "code",
   "execution_count": null,
   "metadata": {},
   "outputs": [],
   "source": [
    "to_token = contracts['baln']['SCORE']\n",
    "params_data = \"{\\\"method\\\": \\\"_swap\\\", \\\"params\\\": {\\\"toToken\\\":\\\"\" + str(to_token) + \"\\\", \\\"maxSlippage\\\":250}}\"\n",
    "data = params_data.encode(\"utf-8\")\n",
    "params = {'_to': contracts['dex']['SCORE'], '_value': (int) (1 * ICX), '_data': data}\n",
    "transaction = CallTransactionBuilder()\\\n",
    "    .from_(wallet.get_address())\\\n",
    "    .to(contracts['bnUSD']['SCORE'])\\\n",
    "    .value(0)\\\n",
    "    .step_limit(10000000)\\\n",
    "    .nid(NID)\\\n",
    "    .nonce(100)\\\n",
    "    .method(\"transfer\")\\\n",
    "    .params(params)\\\n",
    "    .build()\n",
    "signed_transaction = SignedTransaction(transaction, wallet)\n",
    "tx_hash = icon_service.send_transaction(signed_transaction)\n",
    "tx_hash\n",
    "\n",
    "res = get_tx_result(tx_hash)\n",
    "print(f'Status: {res[\"status\"]}')\n",
    "if len(res[\"eventLogs\"]) > 0:\n",
    "    for item in res[\"eventLogs\"]:\n",
    "        print(f'{item} \\n')\n",
    "if res['status'] == 0:\n",
    "    print(f'Failure: {res[\"failure\"]}')"
   ]
  },
  {
   "cell_type": "code",
   "execution_count": null,
   "metadata": {},
   "outputs": [],
   "source": []
  }
 ],
 "metadata": {
  "kernelspec": {
   "display_name": "Python 3",
   "language": "python",
   "name": "python3"
  },
  "language_info": {
   "codemirror_mode": {
    "name": "ipython",
    "version": 3
   },
   "file_extension": ".py",
   "mimetype": "text/x-python",
   "name": "python",
   "nbconvert_exporter": "python",
   "pygments_lexer": "ipython3",
   "version": "3.7.6"
  }
 },
 "nbformat": 4,
 "nbformat_minor": 4
}
