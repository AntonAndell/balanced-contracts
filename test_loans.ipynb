{
 "cells": [
  {
   "cell_type": "code",
   "execution_count": 1,
   "metadata": {},
   "outputs": [],
   "source": [
    "# Cell 0\n",
    "\n",
    "network = \"custom\"  # set this to one of mainnet, yeouido, euljiro, pagoda, or custom\n",
    "\n",
    "connections = {\n",
    "\"mainnet\": {\"iconservice\": \"https://ctz.solidwallet.io\",       \"nid\": 1},\n",
    "\"yeouido\": {\"iconservice\": \"https://bicon.net.solidwallet.io\", \"nid\": 3},\n",
    "\"euljiro\": {\"iconservice\": \"https://test-ctz.solidwallet.io\",  \"nid\": 2},\n",
    "\"pagoda\":  {\"iconservice\": \"https://zicon.net.solidwallet.io\", \"nid\":80},\n",
    "\"custom\":  {\"iconservice\": \"http://18.144.108.38:9000\",        \"nid\": 3}}\n",
    "\n",
    "env = connections[network]"
   ]
  },
  {
   "cell_type": "code",
   "execution_count": 2,
   "metadata": {},
   "outputs": [],
   "source": [
    "# Cell 1\n",
    "\n",
    "from iconsdk.exception import JSONRPCException\n",
    "from iconsdk.libs.in_memory_zip import gen_deploy_data_content\n",
    "from iconsdk.icon_service import IconService\n",
    "from iconsdk.providers.http_provider import HTTPProvider\n",
    "from iconsdk.builder.transaction_builder import CallTransactionBuilder, TransactionBuilder, DeployTransactionBuilder\n",
    "from iconsdk.builder.call_builder import CallBuilder\n",
    "from iconsdk.signed_transaction import SignedTransaction\n",
    "from iconsdk.wallet.wallet import KeyWallet\n",
    "from iconsdk.utils.convert_type import convert_hex_str_to_int\n",
    "from repeater import retry\n",
    "from shutil import make_archive\n",
    "import pickle as pkl\n",
    "from datetime import datetime\n",
    "from time import sleep\n",
    "import json\n",
    "import os\n",
    "\n",
    "ICX = 1000000000000000000 # 10**18\n",
    "GOVERNANCE_ADDRESS = \"cx0000000000000000000000000000000000000000\"\n",
    "ORACLE = \"cx61a36e5d10412e03c907a507d1e8c6c3856d9964\"\n",
    "\n",
    "@retry(JSONRPCException, tries=10, delay=1, back_off=2)\n",
    "def get_tx_result(_tx_hash):\n",
    "    tx_result = icon_service.get_transaction_result(_tx_hash)\n",
    "    return tx_result"
   ]
  },
  {
   "cell_type": "code",
   "execution_count": 3,
   "metadata": {},
   "outputs": [],
   "source": [
    "# Cell 2\n",
    "\n",
    "icon_service = IconService(HTTPProvider(env[\"iconservice\"], 3))\n",
    "NID = env[\"nid\"]"
   ]
  },
  {
   "cell_type": "code",
   "execution_count": null,
   "metadata": {},
   "outputs": [],
   "source": []
  },
  {
   "cell_type": "code",
   "execution_count": 5,
   "metadata": {},
   "outputs": [
    {
     "name": "stdout",
     "output_type": "stream",
     "text": [
      "71217.214579\n",
      "71217.214579\n",
      "hxe62d11fa19a0e8575ad92f06bc8fd42edbfe27db\n",
      "hxe62d11fa19a0e8575ad92f06bc8fd42edbfe27db\n"
     ]
    }
   ],
   "source": [
    "wallet = KeyWallet.load(\"./balanced_test.json\",\"HelloWorld@1234\")\n",
    "btest_wallet = KeyWallet.load(\"./balanced_test.json\",\"HelloWorld@1234\")\n",
    "\n",
    "print(icon_service.get_balance(wallet.get_address())/10**18)\n",
    "print(icon_service.get_balance(btest_wallet.get_address())/10**18)\n",
    "print(wallet.get_address())\n",
    "print(btest_wallet.get_address())"
   ]
  },
  {
   "cell_type": "code",
   "execution_count": null,
   "metadata": {},
   "outputs": [],
   "source": [
    "# Cell 4\n",
    "# Only necessary if running locally or on the private tbears server\n",
    "# for the first time since reinitializing.\n",
    "\n",
    "transaction = TransactionBuilder()\\\n",
    "    .from_(wallet.get_address())\\\n",
    "    .to(btest_wallet.get_address())\\\n",
    "    .value(1000000 * ICX)\\\n",
    "    .step_limit(1000000) \\\n",
    "    .nid(NID) \\\n",
    "    .nonce(2) \\\n",
    "    .version(3) \\\n",
    "    .build()\n",
    "signed_transaction = SignedTransaction(transaction, wallet)\n",
    "tx_hash = icon_service.send_transaction(signed_transaction)\n",
    "tx_hash"
   ]
  },
  {
   "cell_type": "code",
   "execution_count": 7,
   "metadata": {},
   "outputs": [],
   "source": [
    "# The following addresses are those deployed to the private tbears server.\n",
    "\n",
    "contracts = {'loans': {'zip': 'core_contracts/loans.zip',\n",
    "  'SCORE': 'cxbbd36ca8d91aefbe1060c3be62fed4d1b848ca85'},\n",
    " 'staking': {'zip': 'core_contracts/staking.zip',\n",
    "  'SCORE': 'cxd8e05c1280bc2c32bf53ff61f3bb2e2ecc7d6df5'},\n",
    " 'dividends': {'zip': 'core_contracts/dividends.zip',\n",
    "  'SCORE': 'cx7c617e3fca4ba06b6ad203ce113245ae96a9d91e'},\n",
    " 'reserve': {'zip': 'core_contracts/reserve.zip',\n",
    "  'SCORE': 'cx70cd5c86f0182d5ac0bd224562d929cd968d9132'},\n",
    " 'daofund': {'zip': 'core_contracts/daofund.zip',\n",
    "  'SCORE': 'cxeb91bc377b0620356787d9c9eb68152eb0c62d8a'},\n",
    " 'rewards': {'zip': 'core_contracts/rewards.zip',\n",
    "  'SCORE': 'cxfd7511ece084744154fed19dc34732681ad078e6'},\n",
    " 'dex': {'zip': 'core_contracts/dex.zip',\n",
    "  'SCORE': 'cx9a3161c778eee2d5758371d3548c5599f76704ec'},\n",
    " 'governance': {'zip': 'core_contracts/governance.zip',\n",
    "  'SCORE': 'cx238cd1a1e3a9702d6c9c6dc130719472164db376'},\n",
    " 'oracle': {'zip': 'core_contracts/oracle.zip',\n",
    "  'SCORE': 'cx7171e2f5653c1b9c000e24228276b8d24e84f10d'},\n",
    " 'sicx': {'zip': 'token_contracts/sicx.zip',\n",
    "  'SCORE': 'cxcff8bf80ab213fa9bbb350636a4d68f5cb4fd9c1'},\n",
    " 'bnUSD': {'zip': 'token_contracts/bnUSD.zip',\n",
    "  'SCORE': 'cx4c1beaa71b9377100c810c46059ddf5f3da37602'},\n",
    " 'baln': {'zip': 'token_contracts/baln.zip',\n",
    "  'SCORE': 'cx3825a86d52c5baf188ff29aa6a7fc2467e285885'},\n",
    " 'bwt': {'zip': 'token_contracts/bwt.zip',\n",
    "  'SCORE': 'cx140b49ea041457ebc4cd5e199f5723916bb50021'}}"
   ]
  },
  {
   "cell_type": "code",
   "execution_count": 8,
   "metadata": {},
   "outputs": [],
   "source": [
    "# Define deploy and send_tx functions\n",
    "\n",
    "def compress():\n",
    "    \"\"\"\n",
    "    Compress all SCORE folders in the core_contracts and toekn_contracts folders\n",
    "    \"\"\"\n",
    "    deploy = list(contracts.keys())[:]\n",
    "    for directory in {\"core_contracts\", \"token_contracts\"}:\n",
    "        with os.scandir(directory) as it:\n",
    "            for file in it:\n",
    "                archive_name = directory + \"/\" + file.name\n",
    "                if file.is_dir() and file.name in deploy:\n",
    "                    make_archive(archive_name, \"zip\", directory, file.name)\n",
    "                    contracts[file.name]['zip'] = archive_name + '.zip'\n",
    "\n",
    "def deploy_SCORE(contract, params, wallet, update) -> str:\n",
    "    \"\"\"\n",
    "    contract is of form {'zip': 'core_contracts/governance.zip', 'SCORE': 'cx1d81f93b3b8d8d2a6455681c46128868782ddd09'}\n",
    "    params is a dicts\n",
    "    wallet is a wallet file\n",
    "    update is boolian\n",
    "    \"\"\"\n",
    "    print(f'{contract[\"zip\"]}')\n",
    "    if update:\n",
    "        dest = contract['SCORE']\n",
    "    else:\n",
    "        dest = GOVERNANCE_ADDRESS\n",
    "    zip_file = contract['zip']\n",
    "    step_limit = 4000100000\n",
    "    deploy_transaction = DeployTransactionBuilder()\\\n",
    "        .from_(wallet.get_address())\\\n",
    "        .to(dest)\\\n",
    "        .nid(NID)\\\n",
    "        .nonce(100)\\\n",
    "        .content_type(\"application/zip\")\\\n",
    "        .content(gen_deploy_data_content(zip_file))\\\n",
    "        .params(params)\\\n",
    "        .build()\n",
    "\n",
    "    signed_transaction = SignedTransaction(deploy_transaction, wallet, step_limit)\n",
    "    tx_hash = icon_service.send_transaction(signed_transaction)\n",
    "\n",
    "    res = get_tx_result(tx_hash)\n",
    "    print(f'Status: {res[\"status\"]}')\n",
    "    if len(res[\"eventLogs\"]) > 0:\n",
    "        for item in res[\"eventLogs\"]:\n",
    "            print(f'{item} \\n')\n",
    "    if res['status'] == 0:\n",
    "        print(f'Failure: {res[\"failure\"]}')\n",
    "    print('')\n",
    "    return res.get('scoreAddress', '')\n",
    "\n",
    "def send_tx(dest, value, method, params, wallet):\n",
    "    \"\"\"\n",
    "    dest is the name of the destination contract.\n",
    "    \"\"\"\n",
    "    print('------------------------------------------------------------------------------------------------------------------')\n",
    "    print(f'Calling {method}, with parameters {params} on the {dest} contract.')\n",
    "    print('------------------------------------------------------------------------------------------------------------------')\n",
    "    transaction = CallTransactionBuilder()\\\n",
    "        .from_(wallet.get_address())\\\n",
    "        .to(contracts[dest]['SCORE'])\\\n",
    "        .value(value)\\\n",
    "        .step_limit(10000000)\\\n",
    "        .nid(NID)\\\n",
    "        .nonce(100)\\\n",
    "        .method(method)\\\n",
    "        .params(params)\\\n",
    "        .build()\n",
    "    signed_transaction = SignedTransaction(transaction, wallet)\n",
    "    tx_hash = icon_service.send_transaction(signed_transaction)\n",
    "\n",
    "    res = get_tx_result(tx_hash)\n",
    "    print(f'************************************************** Status: {res[\"status\"]} **************************************************')\n",
    "    if len(res[\"eventLogs\"]) > 0:\n",
    "        for item in res[\"eventLogs\"]:\n",
    "            print(f'{item} \\n')\n",
    "    if res['status'] == 0:\n",
    "        print(f'Failure: {res[\"failure\"]}')\n",
    "    return res\n",
    "\n",
    "def deploy_all(wallet):\n",
    "    \"\"\"\n",
    "    Compress, Deploy and Configure all SCOREs\n",
    "    \"\"\"\n",
    "    compress()\n",
    "\n",
    "    deploy = list(contracts.keys())[:]\n",
    "    deploy.remove('oracle')\n",
    "    deploy.remove('staking')\n",
    "    deploy.remove('sicx')\n",
    "    deploy.remove('governance')\n",
    "\n",
    "    governance = deploy_SCORE(contracts['governance'], {}, wallet, 0)\n",
    "    contracts['governance']['SCORE'] = governance\n",
    "    for score in deploy:\n",
    "        contracts[score]['SCORE'] = deploy_SCORE(contracts[score], {'_governance': governance}, wallet, 0)\n",
    "    contracts['staking']['SCORE'] = deploy_SCORE(contracts['staking'], {}, wallet, 0)\n",
    "    contracts['sicx']['SCORE'] = deploy_SCORE(contracts['sicx'], {'_admin': contracts['staking']['SCORE']}, wallet, 0)\n",
    "\n",
    "    config = list(contracts.keys())[:]\n",
    "    config.remove('governance')\n",
    "    addresses = {contract: contracts[contract]['SCORE'] for contract in config}\n",
    "\n",
    "    txns = [{'contract': 'staking', 'value': 0, 'method': 'setSicxAddress', 'params': {'_address': contracts['sicx']['SCORE']}},\n",
    "            {'contract': 'governance', 'value': 0, 'method': 'setAddresses', 'params': {'_addresses': addresses}},\n",
    "            {'contract': 'governance', 'value': 0, 'method': 'launchBalanced', 'params': {}}]\n",
    "\n",
    "    for tx in txns:\n",
    "        res = send_tx(tx[\"contract\"], tx[\"value\"], tx[\"method\"], tx[\"params\"], wallet)\n",
    "        results[f'{tx[\"contract\"]}|{tx[\"method\"]}|{tx[\"params\"]}'] = res\n",
    "\n",
    "def get_scores_json(contracts):\n",
    "    \"\"\"\n",
    "    Prints out dictionary of SCORE addresses for use in testing UI.\n",
    "    \"\"\"\n",
    "    scores = {}\n",
    "    for score in contracts:\n",
    "        scores[score] = contracts[score]['SCORE']\n",
    "    return json.dumps(scores)\n",
    "\n",
    "def call_tx(dest: str, method: str, params: dict = {}):\n",
    "    \"\"\"\n",
    "    dest is the name of the destination contract.\n",
    "    \"\"\"\n",
    "    print('------------------------------------------------------------------------------------------------------------------')\n",
    "    print(f'Reading {method}, with parameters {params} on the {dest} contract.')\n",
    "    print('------------------------------------------------------------------------------------------------------------------')\n",
    "    call = CallBuilder()\\\n",
    "        .from_(wallet.get_address())\\\n",
    "        .to(contracts[dest]['SCORE'])\\\n",
    "        .method(method)\\\n",
    "        .params(params)\\\n",
    "        .build()\n",
    "    print(icon_service.call(call))"
   ]
  },
  {
   "cell_type": "code",
   "execution_count": 9,
   "metadata": {},
   "outputs": [
    {
     "name": "stdout",
     "output_type": "stream",
     "text": [
      "core_contracts/governance.zip\n"
     ]
    },
    {
     "name": "stderr",
     "output_type": "stream",
     "text": [
      "Raised JSONRPCException while returning the custom response. Error message: {'code': -32602, 'message': 'Pending transaction'}\n"
     ]
    },
    {
     "name": "stdout",
     "output_type": "stream",
     "text": [
      "Retrying in 1 seconds...\n",
      "Status: 1\n",
      "\n",
      "core_contracts/loans.zip\n"
     ]
    },
    {
     "name": "stderr",
     "output_type": "stream",
     "text": [
      "Raised JSONRPCException while returning the custom response. Error message: {'code': -32602, 'message': 'Pending transaction'}\n"
     ]
    },
    {
     "name": "stdout",
     "output_type": "stream",
     "text": [
      "Retrying in 1 seconds...\n",
      "Status: 0\n",
      "Failure: {'code': 10, 'message': 'Out of step: contractSet'}\n",
      "\n",
      "core_contracts/dividends.zip\n",
      "Status: 0\n",
      "Failure: {'code': 6, 'message': 'Unknown param: key=_governance value=cxa2a26534c72a6ef4b8169036fed1b287e280969f'}\n",
      "\n",
      "core_contracts/reserve.zip\n"
     ]
    },
    {
     "name": "stderr",
     "output_type": "stream",
     "text": [
      "Raised JSONRPCException while returning the custom response. Error message: {'code': -32602, 'message': 'Pending transaction'}\n"
     ]
    },
    {
     "name": "stdout",
     "output_type": "stream",
     "text": [
      "Retrying in 1 seconds...\n",
      "Status: 0\n",
      "Failure: {'code': 6, 'message': 'Unknown param: key=_governance value=cxa2a26534c72a6ef4b8169036fed1b287e280969f'}\n",
      "\n",
      "core_contracts/daofund.zip\n"
     ]
    },
    {
     "ename": "ValueError",
     "evalue": "Invalid path core_contracts/daofund.zip",
     "output_type": "error",
     "traceback": [
      "\u001b[0;31m---------------------------------------------------------------------------\u001b[0m",
      "\u001b[0;31mValueError\u001b[0m                                Traceback (most recent call last)",
      "\u001b[0;32m<ipython-input-9-815e6f895d8a>\u001b[0m in \u001b[0;36m<module>\u001b[0;34m\u001b[0m\n\u001b[1;32m      3\u001b[0m \u001b[0;34m\u001b[0m\u001b[0m\n\u001b[1;32m      4\u001b[0m \u001b[0mresults\u001b[0m \u001b[0;34m=\u001b[0m \u001b[0;34m{\u001b[0m\u001b[0;34m}\u001b[0m\u001b[0;34m\u001b[0m\u001b[0;34m\u001b[0m\u001b[0m\n\u001b[0;32m----> 5\u001b[0;31m \u001b[0mdeploy_all\u001b[0m\u001b[0;34m(\u001b[0m\u001b[0mbtest_wallet\u001b[0m\u001b[0;34m)\u001b[0m\u001b[0;34m\u001b[0m\u001b[0;34m\u001b[0m\u001b[0m\n\u001b[0m\u001b[1;32m      6\u001b[0m \u001b[0mprint\u001b[0m\u001b[0;34m(\u001b[0m\u001b[0;34m'------------------------------------------------------------------------------------------------------------------'\u001b[0m\u001b[0;34m)\u001b[0m\u001b[0;34m\u001b[0m\u001b[0;34m\u001b[0m\u001b[0m\n\u001b[1;32m      7\u001b[0m \u001b[0mprint\u001b[0m\u001b[0;34m(\u001b[0m\u001b[0mcontracts\u001b[0m\u001b[0;34m)\u001b[0m\u001b[0;34m\u001b[0m\u001b[0;34m\u001b[0m\u001b[0m\n",
      "\u001b[0;32m<ipython-input-8-4383b3168f48>\u001b[0m in \u001b[0;36mdeploy_all\u001b[0;34m(wallet)\u001b[0m\n\u001b[1;32m     95\u001b[0m     \u001b[0mcontracts\u001b[0m\u001b[0;34m[\u001b[0m\u001b[0;34m'governance'\u001b[0m\u001b[0;34m]\u001b[0m\u001b[0;34m[\u001b[0m\u001b[0;34m'SCORE'\u001b[0m\u001b[0;34m]\u001b[0m \u001b[0;34m=\u001b[0m \u001b[0mgovernance\u001b[0m\u001b[0;34m\u001b[0m\u001b[0;34m\u001b[0m\u001b[0m\n\u001b[1;32m     96\u001b[0m     \u001b[0;32mfor\u001b[0m \u001b[0mscore\u001b[0m \u001b[0;32min\u001b[0m \u001b[0mdeploy\u001b[0m\u001b[0;34m:\u001b[0m\u001b[0;34m\u001b[0m\u001b[0;34m\u001b[0m\u001b[0m\n\u001b[0;32m---> 97\u001b[0;31m         \u001b[0mcontracts\u001b[0m\u001b[0;34m[\u001b[0m\u001b[0mscore\u001b[0m\u001b[0;34m]\u001b[0m\u001b[0;34m[\u001b[0m\u001b[0;34m'SCORE'\u001b[0m\u001b[0;34m]\u001b[0m \u001b[0;34m=\u001b[0m \u001b[0mdeploy_SCORE\u001b[0m\u001b[0;34m(\u001b[0m\u001b[0mcontracts\u001b[0m\u001b[0;34m[\u001b[0m\u001b[0mscore\u001b[0m\u001b[0;34m]\u001b[0m\u001b[0;34m,\u001b[0m \u001b[0;34m{\u001b[0m\u001b[0;34m'_governance'\u001b[0m\u001b[0;34m:\u001b[0m \u001b[0mgovernance\u001b[0m\u001b[0;34m}\u001b[0m\u001b[0;34m,\u001b[0m \u001b[0mwallet\u001b[0m\u001b[0;34m,\u001b[0m \u001b[0;36m0\u001b[0m\u001b[0;34m)\u001b[0m\u001b[0;34m\u001b[0m\u001b[0;34m\u001b[0m\u001b[0m\n\u001b[0m\u001b[1;32m     98\u001b[0m     \u001b[0mcontracts\u001b[0m\u001b[0;34m[\u001b[0m\u001b[0;34m'staking'\u001b[0m\u001b[0;34m]\u001b[0m\u001b[0;34m[\u001b[0m\u001b[0;34m'SCORE'\u001b[0m\u001b[0;34m]\u001b[0m \u001b[0;34m=\u001b[0m \u001b[0mdeploy_SCORE\u001b[0m\u001b[0;34m(\u001b[0m\u001b[0mcontracts\u001b[0m\u001b[0;34m[\u001b[0m\u001b[0;34m'staking'\u001b[0m\u001b[0;34m]\u001b[0m\u001b[0;34m,\u001b[0m \u001b[0;34m{\u001b[0m\u001b[0;34m}\u001b[0m\u001b[0;34m,\u001b[0m \u001b[0mwallet\u001b[0m\u001b[0;34m,\u001b[0m \u001b[0;36m0\u001b[0m\u001b[0;34m)\u001b[0m\u001b[0;34m\u001b[0m\u001b[0;34m\u001b[0m\u001b[0m\n\u001b[1;32m     99\u001b[0m     \u001b[0mcontracts\u001b[0m\u001b[0;34m[\u001b[0m\u001b[0;34m'sicx'\u001b[0m\u001b[0;34m]\u001b[0m\u001b[0;34m[\u001b[0m\u001b[0;34m'SCORE'\u001b[0m\u001b[0;34m]\u001b[0m \u001b[0;34m=\u001b[0m \u001b[0mdeploy_SCORE\u001b[0m\u001b[0;34m(\u001b[0m\u001b[0mcontracts\u001b[0m\u001b[0;34m[\u001b[0m\u001b[0;34m'sicx'\u001b[0m\u001b[0;34m]\u001b[0m\u001b[0;34m,\u001b[0m \u001b[0;34m{\u001b[0m\u001b[0;34m'_admin'\u001b[0m\u001b[0;34m:\u001b[0m \u001b[0mcontracts\u001b[0m\u001b[0;34m[\u001b[0m\u001b[0;34m'staking'\u001b[0m\u001b[0;34m]\u001b[0m\u001b[0;34m[\u001b[0m\u001b[0;34m'SCORE'\u001b[0m\u001b[0;34m]\u001b[0m\u001b[0;34m}\u001b[0m\u001b[0;34m,\u001b[0m \u001b[0mwallet\u001b[0m\u001b[0;34m,\u001b[0m \u001b[0;36m0\u001b[0m\u001b[0;34m)\u001b[0m\u001b[0;34m\u001b[0m\u001b[0;34m\u001b[0m\u001b[0m\n",
      "\u001b[0;32m<ipython-input-8-4383b3168f48>\u001b[0m in \u001b[0;36mdeploy_SCORE\u001b[0;34m(contract, params, wallet, update)\u001b[0m\n\u001b[1;32m     34\u001b[0m         \u001b[0;34m.\u001b[0m\u001b[0mnonce\u001b[0m\u001b[0;34m(\u001b[0m\u001b[0;36m100\u001b[0m\u001b[0;34m)\u001b[0m\u001b[0;31m\\\u001b[0m\u001b[0;34m\u001b[0m\u001b[0;34m\u001b[0m\u001b[0m\n\u001b[1;32m     35\u001b[0m         \u001b[0;34m.\u001b[0m\u001b[0mcontent_type\u001b[0m\u001b[0;34m(\u001b[0m\u001b[0;34m\"application/zip\"\u001b[0m\u001b[0;34m)\u001b[0m\u001b[0;31m\\\u001b[0m\u001b[0;34m\u001b[0m\u001b[0;34m\u001b[0m\u001b[0m\n\u001b[0;32m---> 36\u001b[0;31m         \u001b[0;34m.\u001b[0m\u001b[0mcontent\u001b[0m\u001b[0;34m(\u001b[0m\u001b[0mgen_deploy_data_content\u001b[0m\u001b[0;34m(\u001b[0m\u001b[0mzip_file\u001b[0m\u001b[0;34m)\u001b[0m\u001b[0;34m)\u001b[0m\u001b[0;31m\\\u001b[0m\u001b[0;34m\u001b[0m\u001b[0;34m\u001b[0m\u001b[0m\n\u001b[0m\u001b[1;32m     37\u001b[0m         \u001b[0;34m.\u001b[0m\u001b[0mparams\u001b[0m\u001b[0;34m(\u001b[0m\u001b[0mparams\u001b[0m\u001b[0;34m)\u001b[0m\u001b[0;31m\\\u001b[0m\u001b[0;34m\u001b[0m\u001b[0;34m\u001b[0m\u001b[0m\n\u001b[1;32m     38\u001b[0m         \u001b[0;34m.\u001b[0m\u001b[0mbuild\u001b[0m\u001b[0;34m(\u001b[0m\u001b[0;34m)\u001b[0m\u001b[0;34m\u001b[0m\u001b[0;34m\u001b[0m\u001b[0m\n",
      "\u001b[0;32m~/anaconda3/lib/python3.7/site-packages/iconsdk/libs/in_memory_zip.py\u001b[0m in \u001b[0;36mgen_deploy_data_content\u001b[0;34m(_path)\u001b[0m\n\u001b[1;32m     27\u001b[0m     \"\"\"\n\u001b[1;32m     28\u001b[0m     \u001b[0;32mif\u001b[0m \u001b[0mpath\u001b[0m\u001b[0;34m.\u001b[0m\u001b[0misdir\u001b[0m\u001b[0;34m(\u001b[0m\u001b[0m_path\u001b[0m\u001b[0;34m)\u001b[0m \u001b[0;32mis\u001b[0m \u001b[0;32mFalse\u001b[0m \u001b[0;32mand\u001b[0m \u001b[0mpath\u001b[0m\u001b[0;34m.\u001b[0m\u001b[0misfile\u001b[0m\u001b[0;34m(\u001b[0m\u001b[0m_path\u001b[0m\u001b[0;34m)\u001b[0m \u001b[0;32mis\u001b[0m \u001b[0;32mFalse\u001b[0m\u001b[0;34m:\u001b[0m\u001b[0;34m\u001b[0m\u001b[0;34m\u001b[0m\u001b[0m\n\u001b[0;32m---> 29\u001b[0;31m         \u001b[0;32mraise\u001b[0m \u001b[0mValueError\u001b[0m\u001b[0;34m(\u001b[0m\u001b[0;34mf\"Invalid path {_path}\"\u001b[0m\u001b[0;34m)\u001b[0m\u001b[0;34m\u001b[0m\u001b[0;34m\u001b[0m\u001b[0m\n\u001b[0m\u001b[1;32m     30\u001b[0m     \u001b[0;32mtry\u001b[0m\u001b[0;34m:\u001b[0m\u001b[0;34m\u001b[0m\u001b[0;34m\u001b[0m\u001b[0m\n\u001b[1;32m     31\u001b[0m         \u001b[0mmemory_zip\u001b[0m \u001b[0;34m=\u001b[0m \u001b[0mInMemoryZip\u001b[0m\u001b[0;34m(\u001b[0m\u001b[0;34m)\u001b[0m\u001b[0;34m\u001b[0m\u001b[0;34m\u001b[0m\u001b[0m\n",
      "\u001b[0;31mValueError\u001b[0m: Invalid path core_contracts/daofund.zip"
     ]
    }
   ],
   "source": [
    "# Cell 7\n",
    "# Deploy and configure Balanced. Print results if anything goes wrong.\n",
    "\n",
    "results = {}\n",
    "deploy_all(btest_wallet)\n",
    "print('------------------------------------------------------------------------------------------------------------------')\n",
    "print(contracts)\n",
    "print('----------Contracts for Testing UI--------------------------------------------------------------------------------')\n",
    "print(get_scores_json(contracts))"
   ]
  },
  {
   "cell_type": "code",
   "execution_count": 56,
   "metadata": {},
   "outputs": [
    {
     "ename": "FileNotFoundError",
     "evalue": "[Errno 2] No such file or directory: 'token_contracts'",
     "output_type": "error",
     "traceback": [
      "\u001b[0;31m---------------------------------------------------------------------------\u001b[0m",
      "\u001b[0;31mFileNotFoundError\u001b[0m                         Traceback (most recent call last)",
      "\u001b[0;32m<ipython-input-56-3dc4d034e131>\u001b[0m in \u001b[0;36m<module>\u001b[0;34m\u001b[0m\n\u001b[1;32m      2\u001b[0m \u001b[0;31m# Deploy or Update a single SCORE\u001b[0m\u001b[0;34m\u001b[0m\u001b[0;34m\u001b[0m\u001b[0;34m\u001b[0m\u001b[0m\n\u001b[1;32m      3\u001b[0m \u001b[0;34m\u001b[0m\u001b[0m\n\u001b[0;32m----> 4\u001b[0;31m \u001b[0mcompress\u001b[0m\u001b[0;34m(\u001b[0m\u001b[0;34m)\u001b[0m\u001b[0;34m\u001b[0m\u001b[0;34m\u001b[0m\u001b[0m\n\u001b[0m\u001b[1;32m      5\u001b[0m \u001b[0mupdate\u001b[0m \u001b[0;34m=\u001b[0m \u001b[0;36m1\u001b[0m\u001b[0;34m\u001b[0m\u001b[0;34m\u001b[0m\u001b[0m\n\u001b[1;32m      6\u001b[0m \u001b[0mcontract\u001b[0m \u001b[0;34m=\u001b[0m \u001b[0mcontracts\u001b[0m\u001b[0;34m[\u001b[0m\u001b[0;34m'oracle'\u001b[0m\u001b[0;34m]\u001b[0m\u001b[0;34m\u001b[0m\u001b[0;34m\u001b[0m\u001b[0m\n",
      "\u001b[0;32m<ipython-input-53-4383b3168f48>\u001b[0m in \u001b[0;36mcompress\u001b[0;34m()\u001b[0m\n\u001b[1;32m      7\u001b[0m     \u001b[0mdeploy\u001b[0m \u001b[0;34m=\u001b[0m \u001b[0mlist\u001b[0m\u001b[0;34m(\u001b[0m\u001b[0mcontracts\u001b[0m\u001b[0;34m.\u001b[0m\u001b[0mkeys\u001b[0m\u001b[0;34m(\u001b[0m\u001b[0;34m)\u001b[0m\u001b[0;34m)\u001b[0m\u001b[0;34m[\u001b[0m\u001b[0;34m:\u001b[0m\u001b[0;34m]\u001b[0m\u001b[0;34m\u001b[0m\u001b[0;34m\u001b[0m\u001b[0m\n\u001b[1;32m      8\u001b[0m     \u001b[0;32mfor\u001b[0m \u001b[0mdirectory\u001b[0m \u001b[0;32min\u001b[0m \u001b[0;34m{\u001b[0m\u001b[0;34m\"core_contracts\"\u001b[0m\u001b[0;34m,\u001b[0m \u001b[0;34m\"token_contracts\"\u001b[0m\u001b[0;34m}\u001b[0m\u001b[0;34m:\u001b[0m\u001b[0;34m\u001b[0m\u001b[0;34m\u001b[0m\u001b[0m\n\u001b[0;32m----> 9\u001b[0;31m         \u001b[0;32mwith\u001b[0m \u001b[0mos\u001b[0m\u001b[0;34m.\u001b[0m\u001b[0mscandir\u001b[0m\u001b[0;34m(\u001b[0m\u001b[0mdirectory\u001b[0m\u001b[0;34m)\u001b[0m \u001b[0;32mas\u001b[0m \u001b[0mit\u001b[0m\u001b[0;34m:\u001b[0m\u001b[0;34m\u001b[0m\u001b[0;34m\u001b[0m\u001b[0m\n\u001b[0m\u001b[1;32m     10\u001b[0m             \u001b[0;32mfor\u001b[0m \u001b[0mfile\u001b[0m \u001b[0;32min\u001b[0m \u001b[0mit\u001b[0m\u001b[0;34m:\u001b[0m\u001b[0;34m\u001b[0m\u001b[0;34m\u001b[0m\u001b[0m\n\u001b[1;32m     11\u001b[0m                 \u001b[0marchive_name\u001b[0m \u001b[0;34m=\u001b[0m \u001b[0mdirectory\u001b[0m \u001b[0;34m+\u001b[0m \u001b[0;34m\"/\"\u001b[0m \u001b[0;34m+\u001b[0m \u001b[0mfile\u001b[0m\u001b[0;34m.\u001b[0m\u001b[0mname\u001b[0m\u001b[0;34m\u001b[0m\u001b[0;34m\u001b[0m\u001b[0m\n",
      "\u001b[0;31mFileNotFoundError\u001b[0m: [Errno 2] No such file or directory: 'token_contracts'"
     ]
    }
   ],
   "source": [
    "# Cell 8\n",
    "# Deploy or Update a single SCORE\n",
    "\n",
    "compress()\n",
    "update = 1\n",
    "contract = contracts['oracle']\n",
    "params = {}\n",
    "# params = {'_governance': contracts['governance']['SCORE']}\n",
    "deploy_SCORE(contract, params, btest_wallet, update)"
   ]
  },
  {
   "cell_type": "code",
   "execution_count": 55,
   "metadata": {},
   "outputs": [
    {
     "name": "stdout",
     "output_type": "stream",
     "text": [
      "------------------------------------------------------------------------------------------------------------------\n",
      "Calling addCollateral, with parameters {'_asset': '', '_amount': 0} on the loans contract.\n",
      "------------------------------------------------------------------------------------------------------------------\n"
     ]
    },
    {
     "name": "stderr",
     "output_type": "stream",
     "text": [
      "Raised JSONRPCException while returning the custom response. Error message: {'code': -32602, 'message': 'Pending transaction'}\n"
     ]
    },
    {
     "name": "stdout",
     "output_type": "stream",
     "text": [
      "{'code': -32602, 'message': 'Pending transaction'} (Json rpc error), Retrying in 1 seconds...\n",
      "************************************************** Status: 1 **************************************************\n",
      "{'scoreAddress': 'cxbbd36ca8d91aefbe1060c3be62fed4d1b848ca85', 'indexed': ['ICXTransfer(Address,Address,int)', 'cxbbd36ca8d91aefbe1060c3be62fed4d1b848ca85', 'cxd8e05c1280bc2c32bf53ff61f3bb2e2ecc7d6df5', '0x2a6f1a22364bbe8000'], 'data': []} \n",
      "\n",
      "{'scoreAddress': 'cx0000000000000000000000000000000000000000', 'indexed': ['IScoreClaimedV2(Address,int,int)', 'cxd8e05c1280bc2c32bf53ff61f3bb2e2ecc7d6df5'], 'data': ['0x11f4b678367a3025600', '0x498c22b0ffe831c0']} \n",
      "\n",
      "{'scoreAddress': 'cxcff8bf80ab213fa9bbb350636a4d68f5cb4fd9c1', 'indexed': ['Transfer(Address,Address,int,bytes)', 'cxcff8bf80ab213fa9bbb350636a4d68f5cb4fd9c1', 'hxe62d11fa19a0e8575ad92f06bc8fd42edbfe27db', '0x2a6f1a22364bbe8000'], 'data': ['0x7b226d6574686f64223a225f6465706f7369745f616e645f626f72726f77222c22706172616d73223a7b225f73656e646572223a22687865363264313166613139613065383537356164393266303662633866643432656462666532376462222c225f6173736574223a22222c225f616d6f756e74223a307d7d']} \n",
      "\n",
      "{'scoreAddress': 'cxcff8bf80ab213fa9bbb350636a4d68f5cb4fd9c1', 'indexed': ['Mint(Address,int,bytes)', 'hxe62d11fa19a0e8575ad92f06bc8fd42edbfe27db'], 'data': ['0x2a6f1a22364bbe8000', '0x7b226d6574686f64223a225f6465706f7369745f616e645f626f72726f77222c22706172616d73223a7b225f73656e646572223a22687865363264313166613139613065383537356164393266303662633866643432656462666532376462222c225f6173736574223a22222c225f616d6f756e74223a307d7d']} \n",
      "\n",
      "{'scoreAddress': 'cx4c1beaa71b9377100c810c46059ddf5f3da37602', 'indexed': ['OraclePrice(str,str,Address,int)', 'USDICX', 'BandChain', 'cx7171e2f5653c1b9c000e24228276b8d24e84f10d'], 'data': ['0x84c5d90848544bb']} \n",
      "\n",
      "{'scoreAddress': 'cxbbd36ca8d91aefbe1060c3be62fed4d1b848ca85', 'indexed': ['Snapshot(int)', '0x1d'], 'data': []} \n",
      "\n",
      "{'scoreAddress': 'cx3825a86d52c5baf188ff29aa6a7fc2467e285885', 'indexed': ['Mint(Address,int,bytes)', 'cx3825a86d52c5baf188ff29aa6a7fc2467e285885'], 'data': ['0x152d02c7e14af6800000', '0x4e6f6e65']} \n",
      "\n",
      "{'scoreAddress': 'cx3825a86d52c5baf188ff29aa6a7fc2467e285885', 'indexed': ['Transfer(Address,Address,int,bytes)', 'cx3825a86d52c5baf188ff29aa6a7fc2467e285885', 'cxfd7511ece084744154fed19dc34732681ad078e6', '0x152d02c7e14af6800000'], 'data': ['0x4e6f6e65']} \n",
      "\n",
      "{'scoreAddress': 'cx3825a86d52c5baf188ff29aa6a7fc2467e285885', 'indexed': ['Transfer(Address,Address,int,bytes)', 'cxfd7511ece084744154fed19dc34732681ad078e6', 'cx140b49ea041457ebc4cd5e199f5723916bb50021', '0x43c33c1937564800000'], 'data': ['0x4e6f6e65']} \n",
      "\n",
      "{'scoreAddress': 'cx3825a86d52c5baf188ff29aa6a7fc2467e285885', 'indexed': ['Transfer(Address,Address,int,bytes)', 'cxfd7511ece084744154fed19dc34732681ad078e6', 'cx70cd5c86f0182d5ac0bd224562d929cd968d9132', '0x10f0cf064dd59200000'], 'data': ['0x4e6f6e65']} \n",
      "\n",
      "{'scoreAddress': 'cxbbd36ca8d91aefbe1060c3be62fed4d1b848ca85', 'indexed': ['CollateralReceived(Address,str)', 'hxe62d11fa19a0e8575ad92f06bc8fd42edbfe27db', 'sICX'], 'data': []} \n",
      "\n",
      "{'scoreAddress': 'cxcff8bf80ab213fa9bbb350636a4d68f5cb4fd9c1', 'indexed': ['Transfer(Address,Address,int,bytes)', 'hxe62d11fa19a0e8575ad92f06bc8fd42edbfe27db', 'cxbbd36ca8d91aefbe1060c3be62fed4d1b848ca85', '0x2a6f1a22364bbe8000'], 'data': ['0x7b226d6574686f64223a225f6465706f7369745f616e645f626f72726f77222c22706172616d73223a7b225f73656e646572223a22687865363264313166613139613065383537356164393266303662633866643432656462666532376462222c225f6173736574223a22222c225f616d6f756e74223a307d7d']} \n",
      "\n",
      "{'scoreAddress': 'cxd8e05c1280bc2c32bf53ff61f3bb2e2ecc7d6df5', 'indexed': ['TokenTransfer(Address,int,str)', 'cxbbd36ca8d91aefbe1060c3be62fed4d1b848ca85', '0x2a6f1a22364bbe8000'], 'data': ['782.769 sICX minted to cxbbd36ca8d91aefbe1060c3be62fed4d1b848ca85']} \n",
      "\n",
      "------------------------------------------------------------------------------------------------------------------\n",
      "Reading getAccountPositions, with parameters {'_owner': 'hxe62d11fa19a0e8575ad92f06bc8fd42edbfe27db'} on the loans contract.\n",
      "------------------------------------------------------------------------------------------------------------------\n",
      "{'pos_id': '0x3', 'created': '0x5bd911e093909', 'address': 'hxe62d11fa19a0e8575ad92f06bc8fd42edbfe27db', 'snap_id': '0x1d', 'snaps_length': '0x1', 'last_snap': '0x1d', 'first day': '0x1d', 'assets': {'sICX': '0x2a6f1a22364bbe8000'}, 'replay_index': '0x0', 'events_behind': '0x0', 'total_debt': '0x0', 'ratio': '0x0', 'standing': 'No Debt'}\n",
      "------------------------------------------------------------------------------------------------------------------\n",
      "Calling add_bad_test_position, with parameters {} on the loans contract.\n",
      "------------------------------------------------------------------------------------------------------------------\n",
      "************************************************** Status: 1 **************************************************\n",
      "{'scoreAddress': 'cx4c1beaa71b9377100c810c46059ddf5f3da37602', 'indexed': ['Transfer(Address,Address,int,bytes)', 'cx4c1beaa71b9377100c810c46059ddf5f3da37602', 'hx3f01840a599da07b0f620eeae7aa9c574169a4be', '0xad78ebc5ac6200000'], 'data': ['0x4e6f6e65']} \n",
      "\n",
      "{'scoreAddress': 'cx4c1beaa71b9377100c810c46059ddf5f3da37602', 'indexed': ['Mint(Address,int,bytes)', 'hx3f01840a599da07b0f620eeae7aa9c574169a4be'], 'data': ['0xad78ebc5ac6200000', '0x4e6f6e65']} \n",
      "\n",
      "------------------------------------------------------------------------------------------------------------------\n",
      "Reading getAccountPositions, with parameters {'_owner': 'hxe62d11fa19a0e8575ad92f06bc8fd42edbfe27db'} on the loans contract.\n",
      "------------------------------------------------------------------------------------------------------------------\n",
      "{'pos_id': '0x3', 'created': '0x5bd911e093909', 'address': 'hxe62d11fa19a0e8575ad92f06bc8fd42edbfe27db', 'snap_id': '0x1d', 'snaps_length': '0x1', 'last_snap': '0x1d', 'first day': '0x1d', 'assets': {'sICX': '0x2a6f1a22364bbe8000'}, 'replay_index': '0x0', 'events_behind': '0x0', 'total_debt': '0x0', 'ratio': '0x0', 'standing': 'No Debt'}\n"
     ]
    }
   ],
   "source": [
    "# Cell 10\n",
    "# 1. Deposit collateral to fresh wallet\n",
    "# 2. Check the account standing after depositing collateral - Should be 'No Debt', and\n",
    "#    holding '0x2a6f1a22364bbe8000' worth of sICX.\n",
    "# 3a. Mints 200 ICD to the test address without checking collateralization ratio\n",
    "#     With the above collateral deposit it will put the position in a standing of Liquidation.\n",
    "# 4. Check the new standing of the account. Should have added '0xad78ebc5ac6200000' ICD and have standing of 'Liquidate'.\n",
    "\n",
    "send_tx('loans', 782769 * ICX // 1000, 'addCollateral', {'_asset': '', '_amount': 0}, btest_wallet)\n",
    "call_tx('loans', 'getAccountPositions', {'_owner': btest_wallet.get_address()})\n",
    "send_tx('loans', 0, 'add_bad_test_position', {}, btest_wallet)\n",
    "call_tx('loans', 'getAccountPositions', {'_owner': btest_wallet.get_address()})"
   ]
  },
  {
   "cell_type": "code",
   "execution_count": 57,
   "metadata": {},
   "outputs": [
    {
     "name": "stdout",
     "output_type": "stream",
     "text": [
      "------------------------------------------------------------------------------------------------------------------\n",
      "Calling add_bad_test_position, with parameters {} on the loans contract.\n",
      "------------------------------------------------------------------------------------------------------------------\n",
      "************************************************** Status: 1 **************************************************\n",
      "{'scoreAddress': 'cx4c1beaa71b9377100c810c46059ddf5f3da37602', 'indexed': ['Transfer(Address,Address,int,bytes)', 'cx4c1beaa71b9377100c810c46059ddf5f3da37602', 'hx3f01840a599da07b0f620eeae7aa9c574169a4be', '0xad78ebc5ac6200000'], 'data': ['0x4e6f6e65']} \n",
      "\n",
      "{'scoreAddress': 'cx4c1beaa71b9377100c810c46059ddf5f3da37602', 'indexed': ['Mint(Address,int,bytes)', 'hx3f01840a599da07b0f620eeae7aa9c574169a4be'], 'data': ['0xad78ebc5ac6200000', '0x4e6f6e65']} \n",
      "\n",
      "{'scoreAddress': 'cx4c1beaa71b9377100c810c46059ddf5f3da37602', 'indexed': ['OraclePrice(str,str,Address,int)', 'USDICX', 'BandChain', 'cx7171e2f5653c1b9c000e24228276b8d24e84f10d'], 'data': ['0x84c5d90848544bb']} \n",
      "\n",
      "------------------------------------------------------------------------------------------------------------------\n",
      "Reading getAccountPositions, with parameters {'_owner': 'hxe62d11fa19a0e8575ad92f06bc8fd42edbfe27db'} on the loans contract.\n",
      "------------------------------------------------------------------------------------------------------------------\n",
      "{'pos_id': '0x3', 'created': '0x5bd911e093909', 'address': 'hxe62d11fa19a0e8575ad92f06bc8fd42edbfe27db', 'snap_id': '0x1d', 'snaps_length': '0x1', 'last_snap': '0x1d', 'first day': '0x1d', 'assets': {'sICX': '0x2a6f1a22364bbe8000'}, 'replay_index': '0x0', 'events_behind': '0x0', 'total_debt': '0x0', 'ratio': '0x0', 'standing': 'No Debt'}\n",
      "None\n"
     ]
    }
   ],
   "source": [
    "# Cell 11\n",
    "# 4a. If the account does not yet have a standing of 'Liquidate' add another loan of '0xad78ebc5ac6200000'.\n",
    "\n",
    "send_tx('loans', 0, 'add_bad_test_position', {}, btest_wallet)\n",
    "print(call_tx('loans', 'getAccountPositions', {'_owner': btest_wallet.get_address()}))"
   ]
  },
  {
   "cell_type": "code",
   "execution_count": 19,
   "metadata": {},
   "outputs": [
    {
     "name": "stdout",
     "output_type": "stream",
     "text": [
      "------------------------------------------------------------------------------------------------------------------\n",
      "Reading getAccountPositions, with parameters {'_owner': 'hxe62d11fa19a0e8575ad92f06bc8fd42edbfe27db'} on the loans contract.\n",
      "------------------------------------------------------------------------------------------------------------------\n",
      "{'pos_id': '0x3', 'created': '0x5bd90ea53fda8', 'address': 'hxe62d11fa19a0e8575ad92f06bc8fd42edbfe27db', 'snap_id': '0x64', 'snaps_length': '0x1', 'last_snap': '0x64', 'first day': '0x64', 'assets': {'sICX': '0x2a6f1a22364bbe8000'}, 'replay_index': '0x0', 'events_behind': '0x0', 'total_debt': '0x0', 'ratio': '0x0', 'standing': 'No Debt'}\n",
      "------------------------------------------------------------------------------------------------------------------\n",
      "Calling liquidate, with parameters {'_owner': 'hxe62d11fa19a0e8575ad92f06bc8fd42edbfe27db'} on the loans contract.\n",
      "------------------------------------------------------------------------------------------------------------------\n"
     ]
    },
    {
     "name": "stderr",
     "output_type": "stream",
     "text": [
      "Raised JSONRPCException while returning the custom response. Error message: {'code': -32602, 'message': 'Pending transaction'}\n"
     ]
    },
    {
     "name": "stdout",
     "output_type": "stream",
     "text": [
      "{'code': -32602, 'message': 'Pending transaction'} (Json rpc error), Retrying in 1 seconds...\n"
     ]
    },
    {
     "name": "stderr",
     "output_type": "stream",
     "text": [
      "Raised JSONRPCException while returning the custom response. Error message: {'code': -32602, 'message': 'Pending transaction'}\n"
     ]
    },
    {
     "name": "stdout",
     "output_type": "stream",
     "text": [
      "{'code': -32602, 'message': 'Pending transaction'} (Json rpc error), Retrying in 2 seconds...\n",
      "************************************************** Status: 1 **************************************************\n",
      "{'scoreAddress': 'cxf288f27511d719727ef9a17cec39971353b91519', 'indexed': ['Mint(Address,int,bytes)', 'cxf288f27511d719727ef9a17cec39971353b91519'], 'data': ['0x152d02c7e14af6800000', '0x4e6f6e65']} \n",
      "\n",
      "{'scoreAddress': 'cxf288f27511d719727ef9a17cec39971353b91519', 'indexed': ['Transfer(Address,Address,int,bytes)', 'cxf288f27511d719727ef9a17cec39971353b91519', 'cx53ebde99a0b8d4dc9d30fbe6a6cff77c75b693f6', '0x152d02c7e14af6800000'], 'data': ['0x4e6f6e65']} \n",
      "\n",
      "{'scoreAddress': 'cxf288f27511d719727ef9a17cec39971353b91519', 'indexed': ['Transfer(Address,Address,int,bytes)', 'cx53ebde99a0b8d4dc9d30fbe6a6cff77c75b693f6', 'cxecbf641b35396cc360d02183b9c10f5d5f65536f', '0x43c33c1937564800000'], 'data': ['0x4e6f6e65']} \n",
      "\n",
      "{'scoreAddress': 'cxf288f27511d719727ef9a17cec39971353b91519', 'indexed': ['Transfer(Address,Address,int,bytes)', 'cx53ebde99a0b8d4dc9d30fbe6a6cff77c75b693f6', 'cx60951d2018ed4b56578a5adaf22c72a989e6003d', '0x10f0cf064dd59200000'], 'data': ['0x4e6f6e65']} \n",
      "\n",
      "{'scoreAddress': 'cxaf71888c0bed5bda5b0cf7127ddf66340d587056', 'indexed': ['PositionStanding(Address,str,str,str)', 'hxe62d11fa19a0e8575ad92f06bc8fd42edbfe27db', 'No Debt'], 'data': ['Undefined', 'Position up to date.']} \n",
      "\n",
      "------------------------------------------------------------------------------------------------------------------\n",
      "Reading getAccountPositions, with parameters {'_owner': 'hxe62d11fa19a0e8575ad92f06bc8fd42edbfe27db'} on the loans contract.\n",
      "------------------------------------------------------------------------------------------------------------------\n",
      "{'pos_id': '0x3', 'created': '0x5bd90ea53fda8', 'address': 'hxe62d11fa19a0e8575ad92f06bc8fd42edbfe27db', 'snap_id': '0x64', 'snaps_length': '0x1', 'last_snap': '0x64', 'first day': '0x64', 'assets': {'sICX': '0x2a6f1a22364bbe8000'}, 'replay_index': '0x0', 'events_behind': '0x0', 'total_debt': '0x0', 'ratio': '0x0', 'standing': 'No Debt'}\n",
      "------------------------------------------------------------------------------------------------------------------\n",
      "Reading checkDebts, with parameters {} on the loans contract.\n",
      "------------------------------------------------------------------------------------------------------------------\n",
      "{'system': {'debts': '0x1d220fdbae06ad0000', 'bad_debt': '0x0', 'supply': '0x1d220fdbae06ad0000', 'diff': '0x0', 'remaining': '0x0'}, 'events': {}}\n"
     ]
    }
   ],
   "source": [
    "# 5. Check the account standing after depositing collateral - Should be 'No Debt'.\n",
    "# 6. Liquidate the account position.\n",
    "# 7. Check the standing of the account after liquidation. Should now have zero balance for sICX and ICD.\n",
    "# 8. Checking the debts should show the sum of the borrower debt and the bad debt equals the total supply.\n",
    "\n",
    "call_tx('loans', 'getAccountPositions', {'_owner': btest_wallet.get_address()})\n",
    "send_tx('loans', 0, 'liquidate', {'_owner': btest_wallet.get_address()}, btest_wallet)\n",
    "call_tx('loans', 'getAccountPositions', {'_owner': btest_wallet.get_address()})\n",
    "call_tx('loans', 'checkDebts', {})"
   ]
  },
  {
   "cell_type": "code",
   "execution_count": null,
   "metadata": {},
   "outputs": [],
   "source": []
  },
  {
   "cell_type": "code",
   "execution_count": null,
   "metadata": {},
   "outputs": [],
   "source": []
  },
  {
   "cell_type": "code",
   "execution_count": null,
   "metadata": {},
   "outputs": [],
   "source": []
  },
  {
   "cell_type": "code",
   "execution_count": null,
   "metadata": {},
   "outputs": [],
   "source": []
  },
  {
   "cell_type": "code",
   "execution_count": null,
   "metadata": {},
   "outputs": [],
   "source": []
  },
  {
   "cell_type": "code",
   "execution_count": null,
   "metadata": {},
   "outputs": [],
   "source": []
  }
 ],
 "metadata": {
  "kernelspec": {
   "display_name": "Python 3",
   "language": "python",
   "name": "python3"
  },
  "language_info": {
   "codemirror_mode": {
    "name": "ipython",
    "version": 3
   },
   "file_extension": ".py",
   "mimetype": "text/x-python",
   "name": "python",
   "nbconvert_exporter": "python",
   "pygments_lexer": "ipython3",
   "version": "3.7.6"
  }
 },
 "nbformat": 4,
 "nbformat_minor": 4
}
