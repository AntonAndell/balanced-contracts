{
 "cells": [
  {
   "cell_type": "code",
   "execution_count": null,
   "metadata": {},
   "outputs": [],
   "source": [
    "# Cell 0\n",
    "\n",
    "network = \"mainnet\"  # set this to one of mainnet, yeouido, euljiro, pagoda, or custom\n",
    "\n",
    "connections = {\n",
    "\"mainnet\": {\"iconservice\": \"https://ctz.solidwallet.io\",       \"nid\": 1},\n",
    "\"yeouido\": {\"iconservice\": \"https://bicon.net.solidwallet.io\", \"nid\": 3},\n",
    "\"sejong\": {\"iconservice\": \"https://sejong.net.solidwallet.io\", \"nid\": 83},\n",
    "\"hannam\": {\"iconservice\": \"https://hannam.net.solidwallet.io\", \"nid\": 3},\n",
    "\"euljiro\": {\"iconservice\": \"https://test-ctz.solidwallet.io\",  \"nid\": 2},\n",
    "\"pagoda\":  {\"iconservice\": \"https://zicon.net.solidwallet.io\", \"nid\":80},\n",
    "\"custom\":  {\"iconservice\": \"http://18.144.108.38:9000\",        \"nid\": 3}}\n",
    "\n",
    "env = connections[network]"
   ]
  },
  {
   "cell_type": "code",
   "execution_count": null,
   "metadata": {},
   "outputs": [],
   "source": [
    "from iconsdk.exception import JSONRPCException\n",
    "from iconsdk.libs.in_memory_zip import gen_deploy_data_content\n",
    "from iconsdk.icon_service import IconService\n",
    "from iconsdk.providers.http_provider import HTTPProvider\n",
    "from iconsdk.builder.transaction_builder import CallTransactionBuilder, TransactionBuilder, DeployTransactionBuilder\n",
    "from iconsdk.builder.call_builder import CallBuilder\n",
    "from iconsdk.signed_transaction import SignedTransaction\n",
    "from iconsdk.wallet.wallet import KeyWallet\n",
    "from repeater import retry\n",
    "import json\n"
   ]
  },
  {
   "cell_type": "code",
   "execution_count": null,
   "metadata": {},
   "outputs": [],
   "source": [
    "# Cell 2\n",
    "\n",
    "icon_service = IconService(HTTPProvider(env[\"iconservice\"], 3))\n",
    "NID = env[\"nid\"]"
   ]
  },
  {
   "cell_type": "code",
   "execution_count": null,
   "metadata": {},
   "outputs": [],
   "source": [
    "NONCE = 100\n",
    "GOVERNANCE_ADDRESS = \"cx0000000000000000000000000000000000000000\"\n",
    "\n",
    "@retry(JSONRPCException, tries=10, delay=1, back_off=2)\n",
    "def get_tx_result(_tx_hash):\n",
    "    tx_result = icon_service.get_transaction_result(_tx_hash)\n",
    "    return tx_result\n",
    "\n",
    "# checking transaction result\n",
    "def check_tx_result(res):\n",
    "    if res['status'] == 0:\n",
    "        print(\"Tx Failed, Message: \" + res['failure']['message'])\n",
    "    else:\n",
    "        print(\"Success\")\n",
    "        \n",
    "        \n",
    "# GOVERNANCE_SCORE = \"cx06eaddea58321a98bd0e1c9bd70f4680d4f3a73a\"\n",
    "# DEX_SCORE = \"cx113466143604608cbf58d84674d9360b29f08530\"\n",
    "# LOANS_SCORE = \"cx2148bdb92054b2306076f3579c0ab7fced91a9ca\"\n",
    "\n",
    "\n",
    "# MAINNET ADDRESS\n",
    "GOVERNANCE_SCORE = \"cx44250a12074799e26fdeee75648ae47e2cc84219\"\n",
    "DEX_SCORE = \"cx481f7e10c7c4fc59d6ac68472018f10977a91b39\"\n",
    "LOANS_SCORE = \"cx66d4d90f5f113eba575bf793570135f9b10cece1\"\n",
    "\n"
   ]
  },
  {
   "cell_type": "code",
   "execution_count": null,
   "metadata": {},
   "outputs": [],
   "source": [
    "with open(\"./keystores/staking_test.pwd\", \"r\") as f:\n",
    "    key_data = f.read()\n",
    "deployer_wallet = KeyWallet.load(\"./keystores/staking_test.json\", key_data)\n",
    "\n",
    "#using private key to load test wallet to perform transactions in case of need\n",
    "# tester_wallet = KeyWallet.load(bytes.fromhex(\"\"))\n",
    "# tester_wallet.get_address()"
   ]
  },
  {
   "cell_type": "code",
   "execution_count": null,
   "metadata": {},
   "outputs": [],
   "source": []
  },
  {
   "cell_type": "code",
   "execution_count": null,
   "metadata": {},
   "outputs": [],
   "source": [
    "def deploy_contract(wallet, _to_address, _name, params):\n",
    "    deploy_transaction = DeployTransactionBuilder() \\\n",
    "        .from_(wallet) \\\n",
    "        .to(_to_address) \\\n",
    "        .nid(NID) \\\n",
    "        .params(params) \\\n",
    "        .version(3) \\\n",
    "        .nonce(100) \\\n",
    "        .content_type(\"application/zip\") \\\n",
    "        .content(gen_deploy_data_content(_name)) \\\n",
    "        .build()\n",
    "\n",
    "    estimate_step = icon_service.estimate_step(deploy_transaction)\n",
    "    step_limit = estimate_step + 40000000\n",
    "    signed_transaction = SignedTransaction(deploy_transaction, deployer_wallet, step_limit)\n",
    "\n",
    "    return icon_service.send_transaction(signed_transaction)\n",
    "\n",
    "\n",
    "def send_tx(wallet, _to_address, method, params, value):\n",
    "    transaction = CallTransactionBuilder() \\\n",
    "        .from_(wallet.get_address()) \\\n",
    "        .to(_to_address) \\\n",
    "        .value(value) \\\n",
    "        .step_limit(10000000) \\\n",
    "        .nid(NID) \\\n",
    "        .nonce(100) \\\n",
    "        .method(method) \\\n",
    "        .params(params) \\\n",
    "        .build()\n",
    "    signed_transaction = SignedTransaction(transaction, wallet)\n",
    "    tx_hash = icon_service.send_transaction(signed_transaction)\n",
    "\n",
    "    return get_tx_result(tx_hash)\n",
    "\n",
    "\n",
    "def call_tx(_to_address, method, params):\n",
    "    call = CallBuilder() \\\n",
    "        .to(_to_address) \\\n",
    "        .method(method) \\\n",
    "        .params(params) \\\n",
    "        .build()\n",
    "\n",
    "    return icon_service.call(call)\n",
    "\n",
    "#swap function for DEX\n",
    "def swap(from_token, to_token, amount,wallet):\n",
    "    data2 = json.dumps({\"method\": \"_swap\", \"params\": {\"toToken\":str(to_token)}})\n",
    "    params = {'_to': contract_addresses['dex'], '_value': amount, '_data': data2.encode()}\n",
    "    transaction = CallTransactionBuilder()\\\n",
    "        .from_(wallet.get_address())\\\n",
    "        .to(from_token)\\\n",
    "        .step_limit(10000000)\\\n",
    "        .value(0)\\\n",
    "        .nid(NID)\\\n",
    "        .nonce(100)\\\n",
    "        .method(\"transfer\")\\\n",
    "        .params(params)\\\n",
    "        .build()\n",
    "    signed_transaction = SignedTransaction(transaction, wallet)\n",
    "    tx_hash = icon_service.send_transaction(signed_transaction)\n",
    "    return get_tx_result(tx_hash)"
   ]
  },
  {
   "cell_type": "code",
   "execution_count": null,
   "metadata": {},
   "outputs": [],
   "source": [
    "# Getting all the SCORE address from GOVERNANCE SCORE\n",
    "# The result shouldn't have router and feehandler in keys\n",
    "contract_addresses = call_tx(GOVERNANCE_SCORE, 'getAddresses', {})\n",
    "print(contract_addresses)"
   ]
  },
  {
   "cell_type": "code",
   "execution_count": null,
   "metadata": {},
   "outputs": [],
   "source": [
    "# Taking loans and swapping tokens on dex \n",
    "\n",
    "print(\"Taking loans\")\n",
    "res = send_tx(deployer_wallet, contract_addresses['loans'], \"depositAndBorrow\", {'_asset': 'bnUSD', '_amount': 11 * 10 **18}, 50 * 10 **18)\n",
    "check_tx_result(res)\n",
    "\n",
    "\n",
    "res = swap(contract_addresses['bnUSD'], contract_addresses['sicx'],5*10**18, deployer_wallet)\n",
    "check_tx_result(res)\n",
    "#print txHash incase of need\n",
    "# print(res['txHash'])\n",
    "\n",
    "# res = swap(contract_addresses['sicx'], contract_addresses['bnUSD'],15*10**18, deployer_wallet)\n",
    "# check_tx_result(res)\n",
    "\n",
    "# res = swap(data['bnUSD'], usds_score,50*10**18, deployer_wallet)\n",
    "# check_tx_result(res)\n",
    "\n",
    "# res = swap(data['bnUSD'], data['sicx'],50*10**18, deployer_wallet)\n",
    "# check_tx_result(res)\n",
    "\n",
    "# res = swap(data['sicx'], omm_score,10*10**18, deployer_wallet)\n",
    "# check_tx_result(res)\n",
    "\n",
    "# res = swap(omm_score, data['sicx'],5*10**18, deployer_wallet)\n",
    "# check_tx_result(res)\n"
   ]
  },
  {
   "cell_type": "markdown",
   "metadata": {},
   "source": [
    "# PHASE 1"
   ]
  },
  {
   "cell_type": "markdown",
   "metadata": {},
   "source": [
    "In Phase 1 , \n",
    "We deploy:\n",
    "    Router contract,\n",
    "    Fee handler contract and\n",
    "    Governance Contract (update)"
   ]
  },
  {
   "cell_type": "markdown",
   "metadata": {},
   "source": [
    "## DEPLOY ROUTER CONTRACT"
   ]
  },
  {
   "cell_type": "code",
   "execution_count": null,
   "metadata": {},
   "outputs": [],
   "source": [
    "# We need to set all the staking sicx and dex address on router on_install \n",
    "res = get_tx_result(deploy_contract(deployer_wallet.get_address(), GOVERNANCE_ADDRESS, './core_contracts/router',\n",
    "                                   {\"_governance\": GOVERNANCE_SCORE}))\n",
    "print('scoreAddress:', res.get('scoreAddress', ''))\n",
    "router_score = res.get('scoreAddress', '')\n",
    "check_tx_result(res)"
   ]
  },
  {
   "cell_type": "markdown",
   "metadata": {},
   "source": [
    "## UPDATE GOVERNANCE CONTRACT"
   ]
  },
  {
   "cell_type": "code",
   "execution_count": null,
   "metadata": {},
   "outputs": [],
   "source": [
    "tx = get_tx_result(\n",
    "    deploy_contract(deployer_wallet.get_address(), GOVERNANCE_SCORE, './core_contracts/governance', {}))\n",
    "print('scoreAddress:', tx.get('scoreAddress', ''))\n",
    "check_tx_result(tx)\n",
    "\n",
    "# In this readonly-call , the feehandler and router score should show None.\n",
    "print(call_tx(GOVERNANCE_SCORE, 'getAddresses', {}))\n"
   ]
  },
  {
   "cell_type": "markdown",
   "metadata": {},
   "source": [
    "## DEPLOY FEE HANDLER"
   ]
  },
  {
   "cell_type": "code",
   "execution_count": null,
   "metadata": {},
   "outputs": [],
   "source": [
    "res = get_tx_result(deploy_contract(deployer_wallet.get_address(), GOVERNANCE_ADDRESS, './core_contracts/fees',\n",
    "                                   {\"_governance\": GOVERNANCE_SCORE}))\n",
    "print('scoreAddress:', res.get('scoreAddress', ''))\n",
    "FEEHANDLER_SCORE = res.get('scoreAddress', '')\n",
    "check_tx_result(res)"
   ]
  },
  {
   "cell_type": "markdown",
   "metadata": {},
   "source": [
    "# PHASE 2 (Once the contract is accepted)"
   ]
  },
  {
   "cell_type": "markdown",
   "metadata": {},
   "source": [
    "We set the fee handler and router addresses in governance contract and also sets all the function of fee handler."
   ]
  },
  {
   "cell_type": "markdown",
   "metadata": {},
   "source": [
    "#### SET ROUTER ADDRESS AND FEEHANDLER ADDRESS IN GOVERNANCE"
   ]
  },
  {
   "cell_type": "code",
   "execution_count": null,
   "metadata": {},
   "outputs": [],
   "source": [
    "contract_addresses['router'] = router_score\n",
    "contract_addresses['feehandler'] = FEEHANDLER_SCORE\n",
    "res = send_tx(deployer_wallet, GOVERNANCE_SCORE, \"setAddresses\", {\"_addresses\": contract_addresses}, 0)\n",
    "check_tx_result(res)\n",
    "\n",
    "# the read-only fn should return the fee handler and router address instead of None.\n",
    "print(call_tx(GOVERNANCE_SCORE, 'getAddresses', {}))"
   ]
  },
  {
   "cell_type": "markdown",
   "metadata": {},
   "source": [
    "#### SET ACCEPTED DIVIDENDS TOKEN"
   ]
  },
  {
   "cell_type": "code",
   "execution_count": null,
   "metadata": {},
   "outputs": [],
   "source": [
    "# call the tx through Governance SCORE.\n",
    "\n",
    "res2 = send_tx(deployer_wallet, GOVERNANCE_SCORE, \"setAcceptedDividendTokens\", {'_tokens': [contract_addresses['sicx'],\n",
    "            contract_addresses['bnUSD'],\n",
    "            contract_addresses[\"baln\"]]}, 0)\n",
    "check_tx_result(res2)\n",
    "call_tx(FEEHANDLER_SCORE, 'getAcceptedDividendTokens', {})"
   ]
  },
  {
   "cell_type": "markdown",
   "metadata": {},
   "source": [
    "#### SET FEE PROCESSING INTERVAL"
   ]
  },
  {
   "cell_type": "code",
   "execution_count": null,
   "metadata": {},
   "outputs": [],
   "source": [
    "res = send_tx(deployer_wallet, GOVERNANCE_SCORE, \"setFeeProcessingInterval\", {\"_interval\": 100}, 0)\n",
    "check_tx_result(res)\n",
    "call_tx(FEEHANDLER_SCORE, 'getFeeProcessingInterval', {})"
   ]
  },
  {
   "cell_type": "markdown",
   "metadata": {},
   "source": [
    "#### SET ROUTE"
   ]
  },
  {
   "cell_type": "code",
   "execution_count": null,
   "metadata": {},
   "outputs": [],
   "source": [
    "toToken = contract_addresses['baln']     \n",
    "#sejong_address\n",
    "# omm_score = \"cx683c78174c740c3c6215de0c3ead1fad024324d6\"\n",
    "# usds_score =\"cx2e008873de78f5bf82008a46b529d94924d9b6ae\" \n",
    "# iusdc_score = \"cxb2c075e9130440dd64e6bfd3fe09e5c629f6e183\"\n",
    "\n",
    "#mainnet address\n",
    "usdc_score = \"cxbb2871f468a3008f80b08fdde5b8b951583acf06\"\n",
    "iusdc_score = \"cxae3034235540b924dfcc1b45836c293dcc82bfb7\"\n",
    "omm_score = \"cx1a29259a59f463a67bb2ef84398b30ca56b5830a\"\n",
    "craft_score = \"cx2e6d0fc0eca04965d06038c8406093337f085fcf\"\n",
    "metanyx_score = \"cx369a5f4ce4f4648dfc96ba0c8229be0693b4eca2\"\n",
    "iusdt_score = \"cx3a36ea1f6b9aa3d2dd9cb68e8987bcc3aabaaa88\"\n",
    "gbet_score = \"cx6139a27c15f1653471ffba0b4b88dc15de7e3267\"\n",
    "\n",
    "# FOR OMM\n",
    "# fromToken = omm_score\n",
    "# path = [ contract_addresses['sicx'],\n",
    "#         contract_addresses['baln']\n",
    "#         ]\n",
    "# res = send_tx(deployer_wallet, GOVERNANCE_SCORE, \"setRoute\",  {'_fromToken':fromToken, '_toToken':toToken, '_path': path}, 0)\n",
    "# check_tx_result(res)\n",
    "# print(call_tx(FEEHANDLER_SCORE, 'getRoute', {\"_fromToken\":fromToken,\"_toToken\":contract_addresses['baln']}))\n",
    "\n",
    "# FOR usds\n",
    "# fromToken = usds_score\n",
    "# path = [ contract_addresses['bnUSD'],\n",
    "#         contract_addresses['baln']\n",
    "#         ]\n",
    "# res = send_tx(deployer_wallet, GOVERNANCE_SCORE, \"setRoute\",  {'_fromToken':fromToken, '_toToken':toToken, '_path': path}, 0)\n",
    "# check_tx_result(res)\n",
    "# print(call_tx(FEEHANDLER_SCORE, 'getRoute', {\"_fromToken\":fromToken,\"_toToken\":contract_addresses['baln']}))\n",
    "\n",
    "# FOR iusdc\n",
    "# fromToken = iusdc_score\n",
    "# path = [ contract_addresses['bnUSD'],\n",
    "#         contract_addresses['baln']\n",
    "#         ]\n",
    "# res = send_tx(deployer_wallet, GOVERNANCE_SCORE, \"setRoute\",  {'_fromToken':fromToken, '_toToken':toToken, '_path': path}, 0)\n",
    "# check_tx_result(res)\n",
    "# print(call_tx(FEEHANDLER_SCORE, 'getRoute', {\"_fromToken\":fromToken,\"_toToken\":contract_addresses['baln']}))\n",
    "\n",
    "# FOR craft\n",
    "# fromToken = craft_score\n",
    "# path = [ data['sicx'],\n",
    "#         data['baln']\n",
    "#         ]\n",
    "# send_tx(deployer_wallet, FEEHANDLER_SCORE, \"setRoute\",  {'_fromToken':fromToken, '_toToken':toToken, '_path': path}, 0)\n",
    "\n",
    "# FOR metanyx\n",
    "# fromToken = metanyx_score\n",
    "# path = [ data['bnUSD'],\n",
    "#         data['baln']\n",
    "#         ]\n",
    "# send_tx(deployer_wallet, FEEHANDLER_SCORE, \"setRoute\",  {'_fromToken':fromToken, '_toToken':toToken, '_path': path}, 0)\n",
    "\n",
    "# FOR iusdt\n",
    "# fromToken = iusdt_score\n",
    "# path = [ data['bnUSD'],\n",
    "#         data['baln']\n",
    "#         ]\n",
    "# send_tx(deployer_wallet, FEEHANDLER_SCORE, \"setRoute\",  {'_fromToken':fromToken, '_toToken':toToken, '_path': path}, 0)\n",
    "\n",
    "# FOR gbet\n",
    "fromToken = gbet_score\n",
    "path = [ contract_addresses['bnUSD'],\n",
    "        contract_addresses['baln']\n",
    "        ]\n",
    "send_tx(btest_wallet, GOVERNANCE_SCORE, \"setRoute\",  {'_fromToken': fromToken, '_toToken': toToken, '_path': path}, 0)\n"
   ]
  },
  {
   "cell_type": "code",
   "execution_count": null,
   "metadata": {},
   "outputs": [],
   "source": [
    "send_tx(btest_wallet, contract_addresses['feehandler'], \"add_allowed_address\",  {'address': gbet_score}, 0)\n"
   ]
  },
  {
   "cell_type": "markdown",
   "metadata": {},
   "source": [
    "## UPDATE DEX CONTRACT"
   ]
  },
  {
   "cell_type": "code",
   "execution_count": null,
   "metadata": {},
   "outputs": [],
   "source": [
    "# We need to set fee handler address on on_update.\n",
    "tx = get_tx_result(\n",
    "    deploy_contract(deployer_wallet.get_address(), DEX_SCORE, './core_contracts/dex', {}))\n",
    "print('scoreAddress:', tx.get('scoreAddress', ''))\n",
    "check_tx_result(tx)"
   ]
  },
  {
   "cell_type": "markdown",
   "metadata": {},
   "source": [
    "## UPDATE LOANS CONTRACT"
   ]
  },
  {
   "cell_type": "code",
   "execution_count": null,
   "metadata": {},
   "outputs": [],
   "source": [
    "tx = get_tx_result(\n",
    "    deploy_contract(deployer_wallet.get_address(), LOANS_SCORE, './core_contracts/loans', {}))\n",
    "print('scoreAddress:', tx.get('scoreAddress', ''))\n",
    "check_tx_result(tx)\n"
   ]
  },
  {
   "cell_type": "code",
   "execution_count": null,
   "metadata": {},
   "outputs": [],
   "source": [
    "print(\"Taking loans\")\n",
    "res = send_tx(deployer_wallet, contract_addresses['loans'], \"depositAndBorrow\", {'_asset': 'bnUSD', '_amount': 100 * 10 **18}, 500 * 10 **18)\n",
    "check_tx_result(res)\n",
    "\n",
    "#Swapping bnUSD to sICX\n",
    "res = swap(contract_addresses['bnUSD'], contract_addresses['sicx'],5*10**18,deployer_wallet)\n",
    "check_tx_result(res)"
   ]
  },
  {
   "cell_type": "code",
   "execution_count": null,
   "metadata": {},
   "outputs": [],
   "source": []
  }
 ],
 "metadata": {
  "kernelspec": {
   "display_name": "Python 3",
   "language": "python",
   "name": "python3"
  },
  "language_info": {
   "codemirror_mode": {
    "name": "ipython",
    "version": 3
   },
   "file_extension": ".py",
   "mimetype": "text/x-python",
   "name": "python",
   "nbconvert_exporter": "python",
   "pygments_lexer": "ipython3",
   "version": "3.8.5"
  }
 },
 "nbformat": 4,
 "nbformat_minor": 4
}
