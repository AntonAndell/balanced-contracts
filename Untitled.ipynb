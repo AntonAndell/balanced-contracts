{
 "cells": [
  {
   "cell_type": "code",
   "execution_count": 8,
   "metadata": {},
   "outputs": [],
   "source": [
    "from iconsdk.exception import JSONRPCException\n",
    "from iconsdk.libs.in_memory_zip import gen_deploy_data_content\n",
    "from iconsdk.icon_service import IconService\n",
    "from iconsdk.providers.http_provider import HTTPProvider\n",
    "from iconsdk.builder.transaction_builder import CallTransactionBuilder, TransactionBuilder, DeployTransactionBuilder\n",
    "from iconsdk.builder.call_builder import CallBuilder\n",
    "from iconsdk.signed_transaction import SignedTransaction\n",
    "from iconsdk.wallet.wallet import KeyWallet\n",
    "from repeater import retry\n",
    "import json\n"
   ]
  },
  {
   "cell_type": "code",
   "execution_count": 2,
   "metadata": {},
   "outputs": [],
   "source": [
    "icon_service = IconService(HTTPProvider(\"https://sejong.net.solidwallet.io\", 3))\n",
    "NID = 83\n",
    "NONCE = 100\n",
    "GOVERNANCE_ADDRESS = \"cx0000000000000000000000000000000000000000\"\n",
    "\n",
    "@retry(JSONRPCException, tries=10, delay=1, back_off=2)\n",
    "def get_tx_result(_tx_hash):\n",
    "    tx_result = icon_service.get_transaction_result(_tx_hash)\n",
    "    return tx_result\n",
    "\n",
    "# checking transaction result\n",
    "def check_tx_result(res):\n",
    "    if res['status'] == 0:\n",
    "        print(\"Tx Failed, Message: \" + res['failure']['message'])\n",
    "    else:\n",
    "        print(\"Success\")\n",
    "        \n",
    "        \n",
    "GOVERNANCE_SCORE = \"cx06eaddea58321a98bd0e1c9bd70f4680d4f3a73a\"\n",
    "DEX_SCORE = \"cx113466143604608cbf58d84674d9360b29f08530\"\n",
    "LOANS_SCORE = \"cx2148bdb92054b2306076f3579c0ab7fced91a9ca\"\n",
    "\n",
    "\n",
    "#MAINNET ADDRESS\n",
    "# GOVERNANCE_SCORE = \"cx44250a12074799e26fdeee75648ae47e2cc84219\"\n",
    "# DEX_SCORE = \"cx481f7e10c7c4fc59d6ac68472018f10977a91b39\"\n",
    "#LOANS_SCORE = \"cx66d4d90f5f113eba575bf793570135f9b10cece1\"\n",
    "\n"
   ]
  },
  {
   "cell_type": "code",
   "execution_count": 3,
   "metadata": {},
   "outputs": [
    {
     "ename": "ValueError",
     "evalue": "Secret scalar must be greater than 0 and less than 115792089237316195423570985008687907852837564279074904382605163141518161494337.",
     "output_type": "error",
     "traceback": [
      "\u001b[0;31m---------------------------------------------------------------------------\u001b[0m",
      "\u001b[0;31mValueError\u001b[0m                                Traceback (most recent call last)",
      "\u001b[0;32m<ipython-input-3-145bac9d499e>\u001b[0m in \u001b[0;36m<module>\u001b[0;34m\u001b[0m\n\u001b[1;32m      4\u001b[0m \u001b[0;34m\u001b[0m\u001b[0m\n\u001b[1;32m      5\u001b[0m \u001b[0;31m#using private key to load test wallet\u001b[0m\u001b[0;34m\u001b[0m\u001b[0;34m\u001b[0m\u001b[0;34m\u001b[0m\u001b[0m\n\u001b[0;32m----> 6\u001b[0;31m \u001b[0mtester_wallet\u001b[0m \u001b[0;34m=\u001b[0m \u001b[0mKeyWallet\u001b[0m\u001b[0;34m.\u001b[0m\u001b[0mload\u001b[0m\u001b[0;34m(\u001b[0m\u001b[0mbytes\u001b[0m\u001b[0;34m.\u001b[0m\u001b[0mfromhex\u001b[0m\u001b[0;34m(\u001b[0m\u001b[0;34m\"\"\u001b[0m\u001b[0;34m)\u001b[0m\u001b[0;34m)\u001b[0m\u001b[0;34m\u001b[0m\u001b[0;34m\u001b[0m\u001b[0m\n\u001b[0m\u001b[1;32m      7\u001b[0m \u001b[0mtester_wallet\u001b[0m\u001b[0;34m.\u001b[0m\u001b[0mget_address\u001b[0m\u001b[0;34m(\u001b[0m\u001b[0;34m)\u001b[0m\u001b[0;34m\u001b[0m\u001b[0;34m\u001b[0m\u001b[0m\n",
      "\u001b[0;32m~/anaconda3/lib/python3.7/site-packages/multipledispatch/dispatcher.py\u001b[0m in \u001b[0;36m__call__\u001b[0;34m(self, *args, **kwargs)\u001b[0m\n\u001b[1;32m    276\u001b[0m             \u001b[0mself\u001b[0m\u001b[0;34m.\u001b[0m\u001b[0m_cache\u001b[0m\u001b[0;34m[\u001b[0m\u001b[0mtypes\u001b[0m\u001b[0;34m]\u001b[0m \u001b[0;34m=\u001b[0m \u001b[0mfunc\u001b[0m\u001b[0;34m\u001b[0m\u001b[0;34m\u001b[0m\u001b[0m\n\u001b[1;32m    277\u001b[0m         \u001b[0;32mtry\u001b[0m\u001b[0;34m:\u001b[0m\u001b[0;34m\u001b[0m\u001b[0;34m\u001b[0m\u001b[0m\n\u001b[0;32m--> 278\u001b[0;31m             \u001b[0;32mreturn\u001b[0m \u001b[0mfunc\u001b[0m\u001b[0;34m(\u001b[0m\u001b[0;34m*\u001b[0m\u001b[0margs\u001b[0m\u001b[0;34m,\u001b[0m \u001b[0;34m**\u001b[0m\u001b[0mkwargs\u001b[0m\u001b[0;34m)\u001b[0m\u001b[0;34m\u001b[0m\u001b[0;34m\u001b[0m\u001b[0m\n\u001b[0m\u001b[1;32m    279\u001b[0m \u001b[0;34m\u001b[0m\u001b[0m\n\u001b[1;32m    280\u001b[0m         \u001b[0;32mexcept\u001b[0m \u001b[0mMDNotImplementedError\u001b[0m\u001b[0;34m:\u001b[0m\u001b[0;34m\u001b[0m\u001b[0;34m\u001b[0m\u001b[0m\n",
      "\u001b[0;32m~/.local/lib/python3.7/site-packages/iconsdk/wallet/wallet.py\u001b[0m in \u001b[0;36mload\u001b[0;34m(private_key)\u001b[0m\n\u001b[1;32m     78\u001b[0m         \"\"\"\n\u001b[1;32m     79\u001b[0m         \u001b[0;32mtry\u001b[0m\u001b[0;34m:\u001b[0m\u001b[0;34m\u001b[0m\u001b[0;34m\u001b[0m\u001b[0m\n\u001b[0;32m---> 80\u001b[0;31m             \u001b[0mprivate_key_object\u001b[0m \u001b[0;34m=\u001b[0m \u001b[0mPrivateKey\u001b[0m\u001b[0;34m(\u001b[0m\u001b[0mprivate_key\u001b[0m\u001b[0;34m)\u001b[0m\u001b[0;34m\u001b[0m\u001b[0;34m\u001b[0m\u001b[0m\n\u001b[0m\u001b[1;32m     81\u001b[0m             \u001b[0mwallet\u001b[0m \u001b[0;34m=\u001b[0m \u001b[0mKeyWallet\u001b[0m\u001b[0;34m(\u001b[0m\u001b[0mprivate_key_object\u001b[0m\u001b[0;34m)\u001b[0m\u001b[0;34m\u001b[0m\u001b[0;34m\u001b[0m\u001b[0m\n\u001b[1;32m     82\u001b[0m             \u001b[0mlogger\u001b[0m\u001b[0;34m.\u001b[0m\u001b[0minfo\u001b[0m\u001b[0;34m(\u001b[0m\u001b[0;34mf\"Loaded Wallet by the private key. Address: {wallet.get_address()}\"\u001b[0m\u001b[0;34m)\u001b[0m\u001b[0;34m\u001b[0m\u001b[0;34m\u001b[0m\u001b[0m\n",
      "\u001b[0;32m~/.local/lib/python3.7/site-packages/coincurve/keys.py\u001b[0m in \u001b[0;36m__init__\u001b[0;34m(self, secret, context)\u001b[0m\n\u001b[1;32m     24\u001b[0m \u001b[0;32mclass\u001b[0m \u001b[0mPrivateKey\u001b[0m\u001b[0;34m:\u001b[0m\u001b[0;34m\u001b[0m\u001b[0;34m\u001b[0m\u001b[0m\n\u001b[1;32m     25\u001b[0m     \u001b[0;32mdef\u001b[0m \u001b[0m__init__\u001b[0m\u001b[0;34m(\u001b[0m\u001b[0mself\u001b[0m\u001b[0;34m,\u001b[0m \u001b[0msecret\u001b[0m\u001b[0;34m=\u001b[0m\u001b[0;32mNone\u001b[0m\u001b[0;34m,\u001b[0m \u001b[0mcontext\u001b[0m\u001b[0;34m=\u001b[0m\u001b[0mGLOBAL_CONTEXT\u001b[0m\u001b[0;34m)\u001b[0m\u001b[0;34m:\u001b[0m\u001b[0;34m\u001b[0m\u001b[0;34m\u001b[0m\u001b[0m\n\u001b[0;32m---> 26\u001b[0;31m         \u001b[0mself\u001b[0m\u001b[0;34m.\u001b[0m\u001b[0msecret\u001b[0m \u001b[0;34m=\u001b[0m \u001b[0mvalidate_secret\u001b[0m\u001b[0;34m(\u001b[0m\u001b[0msecret\u001b[0m\u001b[0;34m)\u001b[0m \u001b[0;32mif\u001b[0m \u001b[0msecret\u001b[0m \u001b[0;32mis\u001b[0m \u001b[0;32mnot\u001b[0m \u001b[0;32mNone\u001b[0m \u001b[0;32melse\u001b[0m \u001b[0mget_valid_secret\u001b[0m\u001b[0;34m(\u001b[0m\u001b[0;34m)\u001b[0m\u001b[0;34m\u001b[0m\u001b[0;34m\u001b[0m\u001b[0m\n\u001b[0m\u001b[1;32m     27\u001b[0m         \u001b[0mself\u001b[0m\u001b[0;34m.\u001b[0m\u001b[0mcontext\u001b[0m \u001b[0;34m=\u001b[0m \u001b[0mcontext\u001b[0m\u001b[0;34m\u001b[0m\u001b[0;34m\u001b[0m\u001b[0m\n\u001b[1;32m     28\u001b[0m         \u001b[0mself\u001b[0m\u001b[0;34m.\u001b[0m\u001b[0mpublic_key\u001b[0m \u001b[0;34m=\u001b[0m \u001b[0mPublicKey\u001b[0m\u001b[0;34m.\u001b[0m\u001b[0mfrom_valid_secret\u001b[0m\u001b[0;34m(\u001b[0m\u001b[0mself\u001b[0m\u001b[0;34m.\u001b[0m\u001b[0msecret\u001b[0m\u001b[0;34m,\u001b[0m \u001b[0mself\u001b[0m\u001b[0;34m.\u001b[0m\u001b[0mcontext\u001b[0m\u001b[0;34m)\u001b[0m\u001b[0;34m\u001b[0m\u001b[0;34m\u001b[0m\u001b[0m\n",
      "\u001b[0;32m~/.local/lib/python3.7/site-packages/coincurve/utils.py\u001b[0m in \u001b[0;36mvalidate_secret\u001b[0;34m(secret)\u001b[0m\n\u001b[1;32m    112\u001b[0m \u001b[0;32mdef\u001b[0m \u001b[0mvalidate_secret\u001b[0m\u001b[0;34m(\u001b[0m\u001b[0msecret\u001b[0m\u001b[0;34m)\u001b[0m\u001b[0;34m:\u001b[0m\u001b[0;34m\u001b[0m\u001b[0;34m\u001b[0m\u001b[0m\n\u001b[1;32m    113\u001b[0m     \u001b[0;32mif\u001b[0m \u001b[0;32mnot\u001b[0m \u001b[0;36m0\u001b[0m \u001b[0;34m<\u001b[0m \u001b[0mbytes_to_int\u001b[0m\u001b[0;34m(\u001b[0m\u001b[0msecret\u001b[0m\u001b[0;34m)\u001b[0m \u001b[0;34m<\u001b[0m \u001b[0mGROUP_ORDER_INT\u001b[0m\u001b[0;34m:\u001b[0m\u001b[0;34m\u001b[0m\u001b[0;34m\u001b[0m\u001b[0m\n\u001b[0;32m--> 114\u001b[0;31m         \u001b[0;32mraise\u001b[0m \u001b[0mValueError\u001b[0m\u001b[0;34m(\u001b[0m\u001b[0;34m'Secret scalar must be greater than 0 and less than {}.'\u001b[0m\u001b[0;34m.\u001b[0m\u001b[0mformat\u001b[0m\u001b[0;34m(\u001b[0m\u001b[0mGROUP_ORDER_INT\u001b[0m\u001b[0;34m)\u001b[0m\u001b[0;34m)\u001b[0m\u001b[0;34m\u001b[0m\u001b[0;34m\u001b[0m\u001b[0m\n\u001b[0m\u001b[1;32m    115\u001b[0m     \u001b[0;32mreturn\u001b[0m \u001b[0mpad_scalar\u001b[0m\u001b[0;34m(\u001b[0m\u001b[0msecret\u001b[0m\u001b[0;34m)\u001b[0m\u001b[0;34m\u001b[0m\u001b[0;34m\u001b[0m\u001b[0m\n\u001b[1;32m    116\u001b[0m \u001b[0;34m\u001b[0m\u001b[0m\n",
      "\u001b[0;31mValueError\u001b[0m: Secret scalar must be greater than 0 and less than 115792089237316195423570985008687907852837564279074904382605163141518161494337."
     ]
    }
   ],
   "source": [
    "with open(\"./keystore/staking_test.pwd\", \"r\") as f:\n",
    "    key_data = f.read()\n",
    "deployer_wallet = KeyWallet.load(\"./keystore/staking_test.json\", key_data)\n",
    "\n",
    "tester_wallet = KeyWallet.load(bytes.fromhex(\"1c6b441a3a559041e3fc0bb528c479b5d0c09e3ee2bfa8e78da9880f133eb25b\"))\n",
    "tester_wallet.get_address()"
   ]
  },
  {
   "cell_type": "code",
   "execution_count": 7,
   "metadata": {},
   "outputs": [],
   "source": [
    "def deploy_contract(wallet, _to_address, _name, params):\n",
    "    deploy_transaction = DeployTransactionBuilder() \\\n",
    "        .from_(wallet) \\\n",
    "        .to(_to_address) \\\n",
    "        .nid(NID) \\\n",
    "        .params(params) \\\n",
    "        .version(3) \\\n",
    "        .nonce(100) \\\n",
    "        .content_type(\"application/zip\") \\\n",
    "        .content(gen_deploy_data_content(_name)) \\\n",
    "        .build()\n",
    "\n",
    "    estimate_step = icon_service.estimate_step(deploy_transaction)\n",
    "    step_limit = estimate_step + 40000000\n",
    "    signed_transaction = SignedTransaction(deploy_transaction, deployer_wallet, step_limit)\n",
    "\n",
    "    return icon_service.send_transaction(signed_transaction)\n",
    "\n",
    "\n",
    "def send_tx(wallet, _to_address, method, params, value):\n",
    "    transaction = CallTransactionBuilder() \\\n",
    "        .from_(wallet.get_address()) \\\n",
    "        .to(_to_address) \\\n",
    "        .value(value) \\\n",
    "        .step_limit(10000000) \\\n",
    "        .nid(NID) \\\n",
    "        .nonce(100) \\\n",
    "        .method(method) \\\n",
    "        .params(params) \\\n",
    "        .build()\n",
    "    signed_transaction = SignedTransaction(transaction, wallet)\n",
    "    tx_hash = icon_service.send_transaction(signed_transaction)\n",
    "\n",
    "    return get_tx_result(tx_hash)\n",
    "\n",
    "\n",
    "def call_tx(_to_address, method, params):\n",
    "    call = CallBuilder() \\\n",
    "        .to(_to_address) \\\n",
    "        .method(method) \\\n",
    "        .params(params) \\\n",
    "        .build()\n",
    "\n",
    "    return icon_service.call(call)\n",
    "\n",
    "#swap function for DEX\n",
    "def swap(from_token, to_token, amount):\n",
    "    data2 = json.dumps({\"method\": \"_swap\", \"params\": {\"toToken\":str(to_token)}})\n",
    "    params = {'_to': contract_addresses['dex'], '_value': amount, '_data': data2.encode()}\n",
    "    print(params)\n",
    "    transaction = CallTransactionBuilder()\\\n",
    "        .from_(tester_wallet.get_address())\\\n",
    "        .to(from_token)\\\n",
    "        .step_limit(10000000)\\\n",
    "        .value(0)\\\n",
    "        .nid(NID)\\\n",
    "        .nonce(100)\\\n",
    "        .method(\"transfer\")\\\n",
    "        .params(params)\\\n",
    "        .build()\n",
    "    signed_transaction = SignedTransaction(transaction, tester_wallet)\n",
    "    tx_hash = icon_service.send_transaction(signed_transaction)\n",
    "    return get_tx_result(tx_hash)"
   ]
  },
  {
   "cell_type": "code",
   "execution_count": 6,
   "metadata": {},
   "outputs": [
    {
     "name": "stdout",
     "output_type": "stream",
     "text": [
      "{'baln': 'cx44b142082a0612f60a5cff9e4204773b4799b102', 'bnUSD': 'cx50b5bc7d1088848ff106601d6a194aa16e6f9d83', 'bwt': 'cx655079c90d80b378819eddf3b05501392ecb0074', 'daofund': 'cx38e81d7b705784b2ddb586f0fdd3616e565b18b3', 'dex': 'cx113466143604608cbf58d84674d9360b29f08530', 'dividends': 'cxaab78dec61aded71309e9529feaf25e740526c63', 'feehandler': 'cx70c0c46d30ed732cf4ce0cfe25d19f5574f57f32', 'loans': 'cx2148bdb92054b2306076f3579c0ab7fced91a9ca', 'oracle': 'cx0999df3af49a227fc8799f0d78d19cd8fe4bb76d', 'rebalancing': 'cxc2d1b9bbdfa51cf404c47e229c71773954acc453', 'reserve': 'cx513777210d38e8c3ba4a5f6ecd313f7bda86c4f2', 'rewards': 'cx4fb4db59d14adc6b9f6ed3d31f1154415bbe4e7e', 'router': 'cxe969cdc23d245155b7cf51fd96cdc96f8c8155cc', 'sicx': 'cx0508faa2f6b1f333fa84190db7c80c9dbf822cb4', 'staking': 'cx6b88083a463739c94f1aa76341df1a21bddca2be'}\n"
     ]
    }
   ],
   "source": [
    "# Getting all the SCORE address from GOVERNANCE SCORE\n",
    "contract_addresses = call_tx(GOVERNANCE_SCORE, 'getAddresses', {})\n",
    "print(contract_addresses)"
   ]
  },
  {
   "cell_type": "code",
   "execution_count": 42,
   "metadata": {},
   "outputs": [
    {
     "name": "stdout",
     "output_type": "stream",
     "text": [
      "Taking loans\n",
      "Retrying in 1 seconds...\n",
      "Retrying in 2 seconds...\n",
      "Success\n",
      "{'_to': 'cx113466143604608cbf58d84674d9360b29f08530', '_value': 5000000000000000000, '_data': b'{\"method\": \"_swap\", \"params\": {\"toToken\": \"cx0508faa2f6b1f333fa84190db7c80c9dbf822cb4\"}}'}\n",
      "Retrying in 1 seconds...\n",
      "Retrying in 2 seconds...\n",
      "Success\n"
     ]
    }
   ],
   "source": [
    "# Taking loans and swapping tokens on dex \n",
    "\n",
    "print(\"Taking loans\")\n",
    "res = send_tx(tester_wallet, contract_addresses['loans'], \"depositAndBorrow\", {'_asset': 'bnUSD', '_amount': 11 * 10 **18}, 50 * 10 **18)\n",
    "check_tx_result(res)\n",
    "\n",
    "\n",
    "res = swap(contract_addresses['bnUSD'], contract_addresses['sicx'],5*10**18)\n",
    "check_tx_result(res)\n",
    "\n",
    "# res = swap(contract_addresses['sicx'], contract_addresses['bnUSD'],15*10**18)\n",
    "# check_tx_result(res)\n",
    "\n",
    "# res = swap(data['bnUSD'], usds_score,50*10**18)\n",
    "# check_tx_result(res)\n",
    "\n",
    "# res = swap(data['bnUSD'], data['sicx'],50*10**18)\n",
    "# check_tx_result(res)\n",
    "\n",
    "# res = swap(data['sicx'], omm_score,10*10**18)\n",
    "# check_tx_result(res)\n",
    "\n",
    "# res = swap(omm_score, data['sicx'],5*10**18)\n",
    "# check_tx_result(res)\n"
   ]
  },
  {
   "cell_type": "markdown",
   "metadata": {},
   "source": [
    "# PHASE 1"
   ]
  },
  {
   "cell_type": "markdown",
   "metadata": {},
   "source": [
    "In stage 1 , \n",
    "We deploy:\n",
    "    Router contract,\n",
    "    Fee handler contract and\n",
    "    Governance Contract (update)"
   ]
  },
  {
   "cell_type": "markdown",
   "metadata": {},
   "source": [
    "## DEPLOY ROUTER CONTRACT"
   ]
  },
  {
   "cell_type": "code",
   "execution_count": 45,
   "metadata": {},
   "outputs": [
    {
     "name": "stdout",
     "output_type": "stream",
     "text": [
      "Retrying in 1 seconds...\n",
      "Retrying in 2 seconds...\n",
      "scoreAddress: cxe969cdc23d245155b7cf51fd96cdc96f8c8155cc\n",
      "Success\n"
     ]
    }
   ],
   "source": [
    "# We need to set all the staking sicx and dex address on router on_install \n",
    "res = get_tx_result(deploy_contract(deployer_wallet.get_address(), GOVERNANCE_ADDRESS, './core_contracts/router',\n",
    "                                   {\"_governance\": GOVERNANCE_SCORE}))\n",
    "print('scoreAddress:', res.get('scoreAddress', ''))\n",
    "router_score = res.get('scoreAddress', '')\n",
    "check_tx_result(res)"
   ]
  },
  {
   "cell_type": "markdown",
   "metadata": {},
   "source": [
    "## UPDATE GOVERNANCE CONTRACT"
   ]
  },
  {
   "cell_type": "code",
   "execution_count": 35,
   "metadata": {},
   "outputs": [
    {
     "name": "stdout",
     "output_type": "stream",
     "text": [
      "Retrying in 1 seconds...\n",
      "Retrying in 2 seconds...\n",
      "scoreAddress: cx06eaddea58321a98bd0e1c9bd70f4680d4f3a73a\n",
      "{'baln': 'cx44b142082a0612f60a5cff9e4204773b4799b102', 'bnUSD': 'cx50b5bc7d1088848ff106601d6a194aa16e6f9d83', 'bwt': 'cx655079c90d80b378819eddf3b05501392ecb0074', 'daofund': 'cx38e81d7b705784b2ddb586f0fdd3616e565b18b3', 'dex': 'cx113466143604608cbf58d84674d9360b29f08530', 'dividends': 'cxaab78dec61aded71309e9529feaf25e740526c63', 'feehandler': None, 'loans': 'cx2148bdb92054b2306076f3579c0ab7fced91a9ca', 'oracle': 'cx0999df3af49a227fc8799f0d78d19cd8fe4bb76d', 'rebalancing': 'cxc2d1b9bbdfa51cf404c47e229c71773954acc453', 'reserve': 'cx513777210d38e8c3ba4a5f6ecd313f7bda86c4f2', 'rewards': 'cx4fb4db59d14adc6b9f6ed3d31f1154415bbe4e7e', 'router': None, 'sicx': 'cx0508faa2f6b1f333fa84190db7c80c9dbf822cb4', 'staking': 'cx6b88083a463739c94f1aa76341df1a21bddca2be'}\n",
      "Success\n"
     ]
    }
   ],
   "source": [
    "tx = get_tx_result(\n",
    "    deploy_contract(deployer_wallet.get_address(), GOVERNANCE_SCORE, './core_contracts/governance', {}))\n",
    "print('scoreAddress:', tx.get('scoreAddress', ''))\n",
    "# In this readonly-call , the feehandler and router score should show None.\n",
    "print(call_tx(GOVERNANCE_SCORE, 'getAddresses', {}))\n",
    "check_tx_result(tx)"
   ]
  },
  {
   "cell_type": "markdown",
   "metadata": {},
   "source": [
    "## DEPLOY FEE HANDLER"
   ]
  },
  {
   "cell_type": "code",
   "execution_count": 36,
   "metadata": {
    "scrolled": false
   },
   "outputs": [
    {
     "name": "stdout",
     "output_type": "stream",
     "text": [
      "Retrying in 1 seconds...\n",
      "scoreAddress: cx70c0c46d30ed732cf4ce0cfe25d19f5574f57f32\n",
      "Success\n"
     ]
    }
   ],
   "source": [
    "res = get_tx_result(deploy_contract(deployer_wallet.get_address(), GOVERNANCE_ADDRESS, './core_contracts/fees',\n",
    "                                   {\"_governance\": GOVERNANCE_SCORE}))\n",
    "print('scoreAddress:', res.get('scoreAddress', ''))\n",
    "FEEHANDLER_SCORE = res.get('scoreAddress', '')\n",
    "check_tx_result(res)"
   ]
  },
  {
   "cell_type": "code",
   "execution_count": 40,
   "metadata": {},
   "outputs": [
    {
     "name": "stdout",
     "output_type": "stream",
     "text": [
      "Taking loans\n",
      "Retrying in 1 seconds...\n",
      "Retrying in 2 seconds...\n",
      "Retrying in 4 seconds...\n",
      "Retrying in 8 seconds...\n",
      "Retrying in 16 seconds...\n"
     ]
    },
    {
     "ename": "KeyboardInterrupt",
     "evalue": "",
     "output_type": "error",
     "traceback": [
      "\u001b[0;31m---------------------------------------------------------------------------\u001b[0m",
      "\u001b[0;31mJSONRPCException\u001b[0m                          Traceback (most recent call last)",
      "\u001b[0;32m~/Documents/ibriz/score/balanced/balanced-contracts/repeater.py\u001b[0m in \u001b[0;36mf_retry\u001b[0;34m(*args, **kwargs)\u001b[0m\n\u001b[1;32m     53\u001b[0m                 \u001b[0;32mtry\u001b[0m\u001b[0;34m:\u001b[0m\u001b[0;34m\u001b[0m\u001b[0;34m\u001b[0m\u001b[0m\n\u001b[0;32m---> 54\u001b[0;31m                     \u001b[0;32mreturn\u001b[0m \u001b[0mf\u001b[0m\u001b[0;34m(\u001b[0m\u001b[0;34m*\u001b[0m\u001b[0margs\u001b[0m\u001b[0;34m,\u001b[0m \u001b[0;34m**\u001b[0m\u001b[0mkwargs\u001b[0m\u001b[0;34m)\u001b[0m\u001b[0;34m\u001b[0m\u001b[0;34m\u001b[0m\u001b[0m\n\u001b[0m\u001b[1;32m     55\u001b[0m                 \u001b[0;32mexcept\u001b[0m \u001b[0mexception_to_check\u001b[0m \u001b[0;32mas\u001b[0m \u001b[0me\u001b[0m\u001b[0;34m:\u001b[0m\u001b[0;34m\u001b[0m\u001b[0;34m\u001b[0m\u001b[0m\n",
      "\u001b[0;32m<ipython-input-29-c1b866590749>\u001b[0m in \u001b[0;36mget_tx_result\u001b[0;34m(_tx_hash)\u001b[0m\n\u001b[1;32m      6\u001b[0m \u001b[0;32mdef\u001b[0m \u001b[0mget_tx_result\u001b[0m\u001b[0;34m(\u001b[0m\u001b[0m_tx_hash\u001b[0m\u001b[0;34m)\u001b[0m\u001b[0;34m:\u001b[0m\u001b[0;34m\u001b[0m\u001b[0;34m\u001b[0m\u001b[0m\n\u001b[0;32m----> 7\u001b[0;31m     \u001b[0mtx_result\u001b[0m \u001b[0;34m=\u001b[0m \u001b[0micon_service\u001b[0m\u001b[0;34m.\u001b[0m\u001b[0mget_transaction_result\u001b[0m\u001b[0;34m(\u001b[0m\u001b[0m_tx_hash\u001b[0m\u001b[0;34m)\u001b[0m\u001b[0;34m\u001b[0m\u001b[0;34m\u001b[0m\u001b[0m\n\u001b[0m\u001b[1;32m      8\u001b[0m     \u001b[0;32mreturn\u001b[0m \u001b[0mtx_result\u001b[0m\u001b[0;34m\u001b[0m\u001b[0;34m\u001b[0m\u001b[0m\n",
      "\u001b[0;32m~/.local/lib/python3.7/site-packages/iconsdk/icon_service.py\u001b[0m in \u001b[0;36mget_transaction_result\u001b[0;34m(self, tx_hash, full_response)\u001b[0m\n\u001b[1;32m    183\u001b[0m         \u001b[0mparams\u001b[0m \u001b[0;34m=\u001b[0m \u001b[0;34m{\u001b[0m\u001b[0;34m'txHash'\u001b[0m\u001b[0;34m:\u001b[0m \u001b[0mtx_hash\u001b[0m\u001b[0;34m}\u001b[0m\u001b[0;34m\u001b[0m\u001b[0;34m\u001b[0m\u001b[0m\n\u001b[0;32m--> 184\u001b[0;31m         \u001b[0mresult\u001b[0m \u001b[0;34m=\u001b[0m \u001b[0mself\u001b[0m\u001b[0;34m.\u001b[0m\u001b[0m__provider\u001b[0m\u001b[0;34m.\u001b[0m\u001b[0mmake_request\u001b[0m\u001b[0;34m(\u001b[0m\u001b[0;34m'icx_getTransactionResult'\u001b[0m\u001b[0;34m,\u001b[0m \u001b[0mparams\u001b[0m\u001b[0;34m,\u001b[0m \u001b[0mfull_response\u001b[0m\u001b[0;34m)\u001b[0m\u001b[0;34m\u001b[0m\u001b[0;34m\u001b[0m\u001b[0m\n\u001b[0m\u001b[1;32m    185\u001b[0m \u001b[0;34m\u001b[0m\u001b[0m\n",
      "\u001b[0;32m~/.local/lib/python3.7/site-packages/iconsdk/providers/http_provider.py\u001b[0m in \u001b[0;36mmake_request\u001b[0;34m(self, method, params, full_response)\u001b[0m\n\u001b[1;32m    117\u001b[0m             \u001b[0;32mtry\u001b[0m\u001b[0;34m:\u001b[0m\u001b[0;34m\u001b[0m\u001b[0;34m\u001b[0m\u001b[0m\n\u001b[0;32m--> 118\u001b[0;31m                 \u001b[0;32mreturn\u001b[0m \u001b[0mself\u001b[0m\u001b[0;34m.\u001b[0m\u001b[0m_return_custom_response\u001b[0m\u001b[0;34m(\u001b[0m\u001b[0mresponse\u001b[0m\u001b[0;34m,\u001b[0m \u001b[0mfull_response\u001b[0m\u001b[0;34m)\u001b[0m\u001b[0;34m\u001b[0m\u001b[0;34m\u001b[0m\u001b[0m\n\u001b[0m\u001b[1;32m    119\u001b[0m             \u001b[0;32mexcept\u001b[0m \u001b[0mJSONDecodeError\u001b[0m\u001b[0;34m:\u001b[0m\u001b[0;34m\u001b[0m\u001b[0;34m\u001b[0m\u001b[0m\n",
      "\u001b[0;32m~/.local/lib/python3.7/site-packages/iconsdk/providers/http_provider.py\u001b[0m in \u001b[0;36m_return_custom_response\u001b[0;34m(response, full_response)\u001b[0m\n\u001b[1;32m    135\u001b[0m             \u001b[0;32mreturn\u001b[0m \u001b[0mcontent\u001b[0m\u001b[0;34m[\u001b[0m\u001b[0;34m'result'\u001b[0m\u001b[0;34m]\u001b[0m\u001b[0;34m\u001b[0m\u001b[0;34m\u001b[0m\u001b[0m\n\u001b[0;32m--> 136\u001b[0;31m         \u001b[0;32mraise\u001b[0m \u001b[0mJSONRPCException\u001b[0m\u001b[0;34m(\u001b[0m\u001b[0mcontent\u001b[0m\u001b[0;34m[\u001b[0m\u001b[0;34m\"error\"\u001b[0m\u001b[0;34m]\u001b[0m\u001b[0;34m)\u001b[0m\u001b[0;34m\u001b[0m\u001b[0;34m\u001b[0m\u001b[0m\n\u001b[0m",
      "\u001b[0;31mJSONRPCException\u001b[0m: {'code': -31002, 'message': 'Pending : Pending'}",
      "\nDuring handling of the above exception, another exception occurred:\n",
      "\u001b[0;31mKeyboardInterrupt\u001b[0m                         Traceback (most recent call last)",
      "\u001b[0;32m<ipython-input-40-96b9907273e0>\u001b[0m in \u001b[0;36m<module>\u001b[0;34m\u001b[0m\n\u001b[1;32m      3\u001b[0m \u001b[0mcontract_addresses\u001b[0m \u001b[0;34m=\u001b[0m \u001b[0mcall_tx\u001b[0m\u001b[0;34m(\u001b[0m\u001b[0mGOVERNANCE_SCORE\u001b[0m\u001b[0;34m,\u001b[0m \u001b[0;34m'getAddresses'\u001b[0m\u001b[0;34m,\u001b[0m \u001b[0;34m{\u001b[0m\u001b[0;34m}\u001b[0m\u001b[0;34m)\u001b[0m\u001b[0;34m\u001b[0m\u001b[0;34m\u001b[0m\u001b[0m\n\u001b[1;32m      4\u001b[0m \u001b[0mprint\u001b[0m\u001b[0;34m(\u001b[0m\u001b[0;34m\"Taking loans\"\u001b[0m\u001b[0;34m)\u001b[0m\u001b[0;34m\u001b[0m\u001b[0;34m\u001b[0m\u001b[0m\n\u001b[0;32m----> 5\u001b[0;31m \u001b[0mres\u001b[0m \u001b[0;34m=\u001b[0m \u001b[0msend_tx\u001b[0m\u001b[0;34m(\u001b[0m\u001b[0mtester_wallet\u001b[0m\u001b[0;34m,\u001b[0m \u001b[0mcontract_addresses\u001b[0m\u001b[0;34m[\u001b[0m\u001b[0;34m'loans'\u001b[0m\u001b[0;34m]\u001b[0m\u001b[0;34m,\u001b[0m \u001b[0;34m\"depositAndBorrow\"\u001b[0m\u001b[0;34m,\u001b[0m \u001b[0;34m{\u001b[0m\u001b[0;34m'_asset'\u001b[0m\u001b[0;34m:\u001b[0m \u001b[0;34m'bnUSD'\u001b[0m\u001b[0;34m,\u001b[0m \u001b[0;34m'_amount'\u001b[0m\u001b[0;34m:\u001b[0m \u001b[0;36m15\u001b[0m \u001b[0;34m*\u001b[0m \u001b[0;36m10\u001b[0m \u001b[0;34m**\u001b[0m\u001b[0;36m18\u001b[0m\u001b[0;34m}\u001b[0m\u001b[0;34m,\u001b[0m \u001b[0;36m100\u001b[0m \u001b[0;34m*\u001b[0m \u001b[0;36m10\u001b[0m \u001b[0;34m**\u001b[0m\u001b[0;36m18\u001b[0m\u001b[0;34m)\u001b[0m\u001b[0;34m\u001b[0m\u001b[0;34m\u001b[0m\u001b[0m\n\u001b[0m\u001b[1;32m      6\u001b[0m \u001b[0mcheck_tx_result\u001b[0m\u001b[0;34m(\u001b[0m\u001b[0mres\u001b[0m\u001b[0;34m)\u001b[0m\u001b[0;34m\u001b[0m\u001b[0;34m\u001b[0m\u001b[0m\n\u001b[1;32m      7\u001b[0m \u001b[0;34m\u001b[0m\u001b[0m\n",
      "\u001b[0;32m<ipython-input-31-581fe49a45fb>\u001b[0m in \u001b[0;36msend_tx\u001b[0;34m(wallet, _to_address, method, params, value)\u001b[0m\n\u001b[1;32m     32\u001b[0m     \u001b[0mtx_hash\u001b[0m \u001b[0;34m=\u001b[0m \u001b[0micon_service\u001b[0m\u001b[0;34m.\u001b[0m\u001b[0msend_transaction\u001b[0m\u001b[0;34m(\u001b[0m\u001b[0msigned_transaction\u001b[0m\u001b[0;34m)\u001b[0m\u001b[0;34m\u001b[0m\u001b[0;34m\u001b[0m\u001b[0m\n\u001b[1;32m     33\u001b[0m \u001b[0;34m\u001b[0m\u001b[0m\n\u001b[0;32m---> 34\u001b[0;31m     \u001b[0;32mreturn\u001b[0m \u001b[0mget_tx_result\u001b[0m\u001b[0;34m(\u001b[0m\u001b[0mtx_hash\u001b[0m\u001b[0;34m)\u001b[0m\u001b[0;34m\u001b[0m\u001b[0;34m\u001b[0m\u001b[0m\n\u001b[0m\u001b[1;32m     35\u001b[0m \u001b[0;34m\u001b[0m\u001b[0m\n\u001b[1;32m     36\u001b[0m \u001b[0;34m\u001b[0m\u001b[0m\n",
      "\u001b[0;32m~/Documents/ibriz/score/balanced/balanced-contracts/repeater.py\u001b[0m in \u001b[0;36mf_retry\u001b[0;34m(*args, **kwargs)\u001b[0m\n\u001b[1;32m     59\u001b[0m                     \u001b[0;32melse\u001b[0m\u001b[0;34m:\u001b[0m\u001b[0;34m\u001b[0m\u001b[0;34m\u001b[0m\u001b[0m\n\u001b[1;32m     60\u001b[0m                         \u001b[0mprint\u001b[0m\u001b[0;34m(\u001b[0m\u001b[0mmsg\u001b[0m\u001b[0;34m)\u001b[0m\u001b[0;34m\u001b[0m\u001b[0;34m\u001b[0m\u001b[0m\n\u001b[0;32m---> 61\u001b[0;31m                     \u001b[0msleep\u001b[0m\u001b[0;34m(\u001b[0m\u001b[0mmdelay\u001b[0m\u001b[0;34m)\u001b[0m\u001b[0;34m\u001b[0m\u001b[0;34m\u001b[0m\u001b[0m\n\u001b[0m\u001b[1;32m     62\u001b[0m                     \u001b[0mmtries\u001b[0m \u001b[0;34m-=\u001b[0m \u001b[0;36m1\u001b[0m\u001b[0;34m\u001b[0m\u001b[0;34m\u001b[0m\u001b[0m\n\u001b[1;32m     63\u001b[0m                     \u001b[0mmdelay\u001b[0m \u001b[0;34m*=\u001b[0m \u001b[0mback_off\u001b[0m\u001b[0;34m\u001b[0m\u001b[0;34m\u001b[0m\u001b[0m\n",
      "\u001b[0;31mKeyboardInterrupt\u001b[0m: "
     ]
    }
   ],
   "source": [
    "# # Taking loans and swapping tokens on dex \n",
    "\n",
    "# contract_addresses = call_tx(GOVERNANCE_SCORE, 'getAddresses', {})\n",
    "# print(\"Taking loans\")\n",
    "# res = send_tx(deployer_wallet, contract_addresses['loans'], \"depositAndBorrow\", {'_asset': 'bnUSD', '_amount': 100 * 10 **18}, 500 * 10 **18)\n",
    "# check_tx_result(res)\n",
    "\n",
    "# import json\n",
    "# def swap(from_token, to_token, amount):\n",
    "#     data2 = json.dumps({\"method\": \"_swap\", \"params\": {\"toToken\":str(to_token)}})\n",
    "#     params = {'_to': contract_addresses['dex'], '_value': amount, '_data': data2.encode()}\n",
    "#     print(params)\n",
    "#     transaction = CallTransactionBuilder()\\\n",
    "#         .from_(deployer_wallet.get_address())\\\n",
    "#         .to(from_token)\\\n",
    "#         .step_limit(10000000)\\\n",
    "#         .value(0)\\\n",
    "#         .nid(NID)\\\n",
    "#         .nonce(100)\\\n",
    "#         .method(\"transfer\")\\\n",
    "#         .params(params)\\\n",
    "#         .build()\n",
    "#     signed_transaction = SignedTransaction(transaction, deployer_wallet)\n",
    "#     tx_hash = icon_service.send_transaction(signed_transaction)\n",
    "#     return get_tx_result(tx_hash)\n",
    "# res = swap(contract_addresses['bnUSD'], contract_addresses['sicx'],5*10**18)\n",
    "# check_tx_result(res)\n",
    "\n",
    "# # res = swap(contract_addresses['sicx'], contract_addresses['bnUSD'],15*10**18)\n",
    "# # check_tx_result(res)\n",
    "\n",
    "# # res = swap(data['bnUSD'], usds_score,50*10**18)\n",
    "# # check_tx_result(res)\n",
    "\n",
    "# # res = swap(data['bnUSD'], data['sicx'],50*10**18)\n",
    "# # check_tx_result(res)\n",
    "\n",
    "# # res = swap(data['sicx'], omm_score,10*10**18)\n",
    "# # check_tx_result(res)\n",
    "\n",
    "# # res = swap(omm_score, data['sicx'],5*10**18)\n",
    "# # check_tx_result(res)\n"
   ]
  },
  {
   "cell_type": "markdown",
   "metadata": {},
   "source": [
    "# PHASE 2"
   ]
  },
  {
   "cell_type": "markdown",
   "metadata": {},
   "source": [
    "We set the fee handler and router addresses in governance contract and also sets all the function of fee handler."
   ]
  },
  {
   "cell_type": "markdown",
   "metadata": {},
   "source": [
    "#### SET ROUTER ADDRESS AND FEEHANDLER ADDRESS IN GOVERNANCE"
   ]
  },
  {
   "cell_type": "code",
   "execution_count": 46,
   "metadata": {},
   "outputs": [
    {
     "name": "stdout",
     "output_type": "stream",
     "text": [
      "Retrying in 1 seconds...\n",
      "Retrying in 2 seconds...\n",
      "Success\n",
      "{'baln': 'cx44b142082a0612f60a5cff9e4204773b4799b102', 'bnUSD': 'cx50b5bc7d1088848ff106601d6a194aa16e6f9d83', 'bwt': 'cx655079c90d80b378819eddf3b05501392ecb0074', 'daofund': 'cx38e81d7b705784b2ddb586f0fdd3616e565b18b3', 'dex': 'cx113466143604608cbf58d84674d9360b29f08530', 'dividends': 'cxaab78dec61aded71309e9529feaf25e740526c63', 'feehandler': 'cx70c0c46d30ed732cf4ce0cfe25d19f5574f57f32', 'loans': 'cx2148bdb92054b2306076f3579c0ab7fced91a9ca', 'oracle': 'cx0999df3af49a227fc8799f0d78d19cd8fe4bb76d', 'rebalancing': 'cxc2d1b9bbdfa51cf404c47e229c71773954acc453', 'reserve': 'cx513777210d38e8c3ba4a5f6ecd313f7bda86c4f2', 'rewards': 'cx4fb4db59d14adc6b9f6ed3d31f1154415bbe4e7e', 'router': 'cxe969cdc23d245155b7cf51fd96cdc96f8c8155cc', 'sicx': 'cx0508faa2f6b1f333fa84190db7c80c9dbf822cb4', 'staking': 'cx6b88083a463739c94f1aa76341df1a21bddca2be'}\n"
     ]
    }
   ],
   "source": [
    "contract_addresses['router'] = router_score\n",
    "contract_addresses['feehandler'] = FEEHANDLER_SCORE\n",
    "res = send_tx(deployer_wallet, GOVERNANCE_SCORE, \"setAddresses\", {\"_addresses\": contract_addresses}, 0)\n",
    "check_tx_result(res)\n",
    "# the read-only fn should return the fee handler and router address instead of None.\n",
    "print(call_tx(GOVERNANCE_SCORE, 'getAddresses', {}))"
   ]
  },
  {
   "cell_type": "markdown",
   "metadata": {},
   "source": [
    "#### SET ACCEPTED DIVIDENDS TOKEN"
   ]
  },
  {
   "cell_type": "code",
   "execution_count": 47,
   "metadata": {},
   "outputs": [
    {
     "name": "stdout",
     "output_type": "stream",
     "text": [
      "Retrying in 1 seconds...\n",
      "Success\n"
     ]
    },
    {
     "data": {
      "text/plain": [
       "['cx0508faa2f6b1f333fa84190db7c80c9dbf822cb4',\n",
       " 'cx50b5bc7d1088848ff106601d6a194aa16e6f9d83',\n",
       " 'cx44b142082a0612f60a5cff9e4204773b4799b102']"
      ]
     },
     "execution_count": 47,
     "metadata": {},
     "output_type": "execute_result"
    }
   ],
   "source": [
    "# call the tx through Governance SCORE.\n",
    "\n",
    "res2 = send_tx(deployer_wallet, GOVERNANCE_SCORE, \"setAcceptedDividendTokens\", {'_tokens': [contract_addresses['sicx'],\n",
    "            contract_addresses['bnUSD'],\n",
    "            contract_addresses[\"baln\"]]}, 0)\n",
    "check_tx_result(res2)\n",
    "call_tx(FEEHANDLER_SCORE, 'getAcceptedDividendTokens', {})"
   ]
  },
  {
   "cell_type": "markdown",
   "metadata": {},
   "source": [
    "#### SET FEE PROCESSING INTERVAL"
   ]
  },
  {
   "cell_type": "code",
   "execution_count": 48,
   "metadata": {
    "scrolled": true
   },
   "outputs": [
    {
     "name": "stdout",
     "output_type": "stream",
     "text": [
      "Retrying in 1 seconds...\n",
      "Retrying in 2 seconds...\n",
      "Success\n"
     ]
    },
    {
     "data": {
      "text/plain": [
       "'0x64'"
      ]
     },
     "execution_count": 48,
     "metadata": {},
     "output_type": "execute_result"
    }
   ],
   "source": [
    "res = send_tx(deployer_wallet, GOVERNANCE_SCORE, \"setFeeProcessingInterval\", {\"_interval\": 100}, 0)\n",
    "check_tx_result(res)\n",
    "call_tx(FEEHANDLER_SCORE, 'getFeeProcessingInterval', {})"
   ]
  },
  {
   "cell_type": "markdown",
   "metadata": {},
   "source": [
    "#### SET ROUTE"
   ]
  },
  {
   "cell_type": "code",
   "execution_count": 50,
   "metadata": {},
   "outputs": [
    {
     "name": "stdout",
     "output_type": "stream",
     "text": [
      "Retrying in 1 seconds...\n",
      "Success\n",
      "{'fromToken': 'cx2e008873de78f5bf82008a46b529d94924d9b6ae', 'path': ['cx50b5bc7d1088848ff106601d6a194aa16e6f9d83', 'cx44b142082a0612f60a5cff9e4204773b4799b102'], 'toToken': 'cx44b142082a0612f60a5cff9e4204773b4799b102'}\n",
      "Retrying in 1 seconds...\n",
      "Retrying in 2 seconds...\n",
      "Success\n",
      "{'fromToken': 'cxb2c075e9130440dd64e6bfd3fe09e5c629f6e183', 'path': ['cx50b5bc7d1088848ff106601d6a194aa16e6f9d83', 'cx44b142082a0612f60a5cff9e4204773b4799b102'], 'toToken': 'cx44b142082a0612f60a5cff9e4204773b4799b102'}\n"
     ]
    }
   ],
   "source": [
    "toToken = contract_addresses['baln']     \n",
    "#sejong_address\n",
    "omm_score = \"cx683c78174c740c3c6215de0c3ead1fad024324d6\"\n",
    "usds_score =\"cx2e008873de78f5bf82008a46b529d94924d9b6ae\" \n",
    "iusdc_score = \"cxb2c075e9130440dd64e6bfd3fe09e5c629f6e183\"\n",
    "\n",
    "#mainnet address\n",
    "# usdc_score = \"cxbb2871f468a3008f80b08fdde5b8b951583acf06\"\n",
    "# iusdc_score = \"cxae3034235540b924dfcc1b45836c293dcc82bfb7\"\n",
    "# omm_score = \"cx1a29259a59f463a67bb2ef84398b30ca56b5830a\"\n",
    "# craft_score = \"cx2e6d0fc0eca04965d06038c8406093337f085fcf\"\n",
    "# metanyx_score = \"cx369a5f4ce4f4648dfc96ba0c8229be0693b4eca2\"\n",
    "# iusdt_score = \"cx3a36ea1f6b9aa3d2dd9cb68e8987bcc3aabaaa88\"\n",
    "\n",
    "# FOR OMM\n",
    "# fromToken = omm_score\n",
    "path = [ contract_addresses['sicx'],\n",
    "        contract_addresses['baln']\n",
    "        ]\n",
    "res = send_tx(deployer_wallet, GOVERNANCE_SCORE, \"setRoute\",  {'_fromToken':fromToken, '_toToken':toToken, '_path': path}, 0)\n",
    "check_tx_result(res)\n",
    "print(call_tx(FEEHANDLER_SCORE, 'getRoute', {\"_fromToken\":fromToken,\"_toToken\":contract_addresses['baln']}))\n",
    "\n",
    "# FOR usds\n",
    "fromToken = usds_score\n",
    "path = [ contract_addresses['bnUSD'],\n",
    "        contract_addresses['baln']\n",
    "        ]\n",
    "res = send_tx(deployer_wallet, GOVERNANCE_SCORE, \"setRoute\",  {'_fromToken':fromToken, '_toToken':toToken, '_path': path}, 0)\n",
    "check_tx_result(res)\n",
    "print(call_tx(FEEHANDLER_SCORE, 'getRoute', {\"_fromToken\":fromToken,\"_toToken\":contract_addresses['baln']}))\n",
    "\n",
    "# FOR iusdc\n",
    "fromToken = iusdc_score\n",
    "path = [ contract_addresses['bnUSD'],\n",
    "        contract_addresses['baln']\n",
    "        ]\n",
    "res = send_tx(deployer_wallet, GOVERNANCE_SCORE, \"setRoute\",  {'_fromToken':fromToken, '_toToken':toToken, '_path': path}, 0)\n",
    "check_tx_result(res)\n",
    "print(call_tx(FEEHANDLER_SCORE, 'getRoute', {\"_fromToken\":fromToken,\"_toToken\":contract_addresses['baln']}))\n",
    "\n",
    "# FOR craft\n",
    "# fromToken = craft_score\n",
    "# path = [ data['sicx'],\n",
    "#         data['baln']\n",
    "#         ]\n",
    "# send_tx(deployer_wallet, FEEHANDLER_SCORE, \"setRoute\",  {'_fromToken':fromToken, '_toToken':toToken, '_path': path}, 0)\n",
    "\n",
    "# FOR metanyx\n",
    "# fromToken = metanyx_score\n",
    "# path = [ data['bnUSD'],\n",
    "#         data['baln']\n",
    "#         ]\n",
    "# send_tx(deployer_wallet, FEEHANDLER_SCORE, \"setRoute\",  {'_fromToken':fromToken, '_toToken':toToken, '_path': path}, 0)\n",
    "\n",
    "# FOR iusdt\n",
    "# fromToken = iusdt_score\n",
    "# path = [ data['bnUSD'],\n",
    "#         data['baln']\n",
    "#         ]\n",
    "# send_tx(deployer_wallet, FEEHANDLER_SCORE, \"setRoute\",  {'_fromToken':fromToken, '_toToken':toToken, '_path': path}, 0)\n"
   ]
  },
  {
   "cell_type": "code",
   "execution_count": 51,
   "metadata": {},
   "outputs": [
    {
     "name": "stdout",
     "output_type": "stream",
     "text": [
      "Taking loans\n",
      "Retrying in 1 seconds...\n",
      "Retrying in 2 seconds...\n",
      "Success\n",
      "{'_to': 'cx113466143604608cbf58d84674d9360b29f08530', '_value': 5000000000000000000, '_data': b'{\"method\": \"_swap\", \"params\": {\"toToken\": \"cx0508faa2f6b1f333fa84190db7c80c9dbf822cb4\"}}'}\n",
      "Retrying in 1 seconds...\n",
      "Retrying in 2 seconds...\n",
      "Success\n"
     ]
    }
   ],
   "source": [
    "# contract_addresses = call_tx(GOVERNANCE_SCORE, 'getAddresses', {})\n",
    "# print(\"Taking loans\")\n",
    "# res = send_tx(deployer_wallet, contract_addresses['loans'], \"depositAndBorrow\", {'_asset': 'bnUSD', '_amount': 100 * 10 **18}, 500 * 10 **18)\n",
    "# check_tx_result(res)\n",
    "\n",
    "# import json\n",
    "# def swap(from_token, to_token, amount):\n",
    "#     data2 = json.dumps({\"method\": \"_swap\", \"params\": {\"toToken\":str(to_token)}})\n",
    "#     params = {'_to': contract_addresses['dex'], '_value': amount, '_data': data2.encode()}\n",
    "#     print(params)\n",
    "#     transaction = CallTransactionBuilder()\\\n",
    "#         .from_(deployer_wallet.get_address())\\\n",
    "#         .to(from_token)\\\n",
    "#         .step_limit(10000000)\\\n",
    "#         .value(0)\\\n",
    "#         .nid(NID)\\\n",
    "#         .nonce(100)\\\n",
    "#         .method(\"transfer\")\\\n",
    "#         .params(params)\\\n",
    "#         .build()\n",
    "#     signed_transaction = SignedTransaction(transaction, deployer_wallet)\n",
    "#     tx_hash = icon_service.send_transaction(signed_transaction)\n",
    "#     return get_tx_result(tx_hash)\n",
    "# res = swap(contract_addresses['bnUSD'], contract_addresses['sicx'],5*10**18)\n",
    "# check_tx_result(res)"
   ]
  },
  {
   "cell_type": "markdown",
   "metadata": {},
   "source": [
    "## UPDATE DEX CONTRACT"
   ]
  },
  {
   "cell_type": "code",
   "execution_count": 54,
   "metadata": {
    "scrolled": true
   },
   "outputs": [
    {
     "name": "stdout",
     "output_type": "stream",
     "text": [
      "Retrying in 1 seconds...\n",
      "Retrying in 2 seconds...\n",
      "scoreAddress: cx113466143604608cbf58d84674d9360b29f08530\n",
      "{'blockHash': '0x9904ef51e2cc76324e7177ac4c30b38c2a638c86149f4c3b9694fbfd774bac0e', 'blockHeight': 2123589, 'cumulativeStepUsed': 2424741680, 'eventLogs': [], 'logsBloom': b'\\x00\\x00\\x00\\x00\\x00\\x00\\x00\\x00\\x00\\x00\\x00\\x00\\x00\\x00\\x00\\x00\\x00\\x00\\x00\\x00\\x00\\x00\\x00\\x00\\x00\\x00\\x00\\x00\\x00\\x00\\x00\\x00\\x00\\x00\\x00\\x00\\x00\\x00\\x00\\x00\\x00\\x00\\x00\\x00\\x00\\x00\\x00\\x00\\x00\\x00\\x00\\x00\\x00\\x00\\x00\\x00\\x00\\x00\\x00\\x00\\x00\\x00\\x00\\x00\\x00\\x00\\x00\\x00\\x00\\x00\\x00\\x00\\x00\\x00\\x00\\x00\\x00\\x00\\x00\\x00\\x00\\x00\\x00\\x00\\x00\\x00\\x00\\x00\\x00\\x00\\x00\\x00\\x00\\x00\\x00\\x00\\x00\\x00\\x00\\x00\\x00\\x00\\x00\\x00\\x00\\x00\\x00\\x00\\x00\\x00\\x00\\x00\\x00\\x00\\x00\\x00\\x00\\x00\\x00\\x00\\x00\\x00\\x00\\x00\\x00\\x00\\x00\\x00\\x00\\x00\\x00\\x00\\x00\\x00\\x00\\x00\\x00\\x00\\x00\\x00\\x00\\x00\\x00\\x00\\x00\\x00\\x00\\x00\\x00\\x00\\x00\\x00\\x00\\x00\\x00\\x00\\x00\\x00\\x00\\x00\\x00\\x00\\x00\\x00\\x00\\x00\\x00\\x00\\x00\\x00\\x00\\x00\\x00\\x00\\x00\\x00\\x00\\x00\\x00\\x00\\x00\\x00\\x00\\x00\\x00\\x00\\x00\\x00\\x00\\x00\\x00\\x00\\x00\\x00\\x00\\x00\\x00\\x00\\x00\\x00\\x00\\x00\\x00\\x00\\x00\\x00\\x00\\x00\\x00\\x00\\x00\\x00\\x00\\x00\\x00\\x00\\x00\\x00\\x00\\x00\\x00\\x00\\x00\\x00\\x00\\x00\\x00\\x00\\x00\\x00\\x00\\x00\\x00\\x00\\x00\\x00\\x00\\x00\\x00\\x00\\x00\\x00\\x00\\x00\\x00\\x00\\x00\\x00\\x00\\x00\\x00\\x00\\x00\\x00\\x00\\x00', 'scoreAddress': 'cx113466143604608cbf58d84674d9360b29f08530', 'status': 1, 'stepPrice': 12500000000, 'stepUsed': 2424741680, 'to': 'cx113466143604608cbf58d84674d9360b29f08530', 'txHash': '0xc59203599b85adaeeb5bab2659ceeec5ddd0978d7499fcc8a1ea75f1a13ef6f5', 'txIndex': 1}\n",
      "Success\n"
     ]
    }
   ],
   "source": [
    "# We need to set fee handler address on on_update.\n",
    "tx = get_tx_result(\n",
    "    deploy_contract(deployer_wallet.get_address(), DEX_SCORE, './core_contracts/dex', {}))\n",
    "print('scoreAddress:', tx.get('scoreAddress', ''))\n",
    "print(tx)\n",
    "check_tx_result(tx)"
   ]
  },
  {
   "cell_type": "code",
   "execution_count": 55,
   "metadata": {},
   "outputs": [
    {
     "name": "stdout",
     "output_type": "stream",
     "text": [
      "Taking loans\n",
      "Retrying in 1 seconds...\n",
      "Retrying in 2 seconds...\n",
      "Success\n",
      "{'blockHash': '0xef8b93a423b1dda3b3e8f2be54d3b0a4053696b1569e8c57e7b69b7ba7b3e486', 'blockHeight': 2123617, 'cumulativeStepUsed': 1021360, 'eventLogs': [{'scoreAddress': 'cx2148bdb92054b2306076f3579c0ab7fced91a9ca', 'indexed': ['ICXTransfer(Address,Address,int)', 'cx2148bdb92054b2306076f3579c0ab7fced91a9ca', 'cx6b88083a463739c94f1aa76341df1a21bddca2be', '0x1b1ae4d6e2ef500000'], 'data': []}, {'scoreAddress': 'cx0000000000000000000000000000000000000000', 'indexed': ['IScoreClaimedV2(Address,int,int)', 'cx6b88083a463739c94f1aa76341df1a21bddca2be'], 'data': ['0x61a8', '0x19']}, {'scoreAddress': 'cx6b88083a463739c94f1aa76341df1a21bddca2be', 'indexed': ['IscoreClaimed(int,int)', '0x206761', '0x19'], 'data': []}, {'scoreAddress': 'cx0508faa2f6b1f333fa84190db7c80c9dbf822cb4', 'indexed': ['Mint(Address,int,bytes)', 'cx2148bdb92054b2306076f3579c0ab7fced91a9ca'], 'data': ['0x1b1ae4d6e2ef500000', '0x4e6f6e65']}, {'scoreAddress': 'cx0508faa2f6b1f333fa84190db7c80c9dbf822cb4', 'indexed': ['Transfer(Address,Address,int,bytes)', 'hx0000000000000000000000000000000000000000', 'cx2148bdb92054b2306076f3579c0ab7fced91a9ca', '0x1b1ae4d6e2ef500000'], 'data': ['0x4e6f6e65']}, {'scoreAddress': 'cx6b88083a463739c94f1aa76341df1a21bddca2be', 'indexed': ['TokenTransfer(Address,int,str)', 'cx2148bdb92054b2306076f3579c0ab7fced91a9ca', '0x1b1ae4d6e2ef500000'], 'data': ['500 sICX minted to cx2148bdb92054b2306076f3579c0ab7fced91a9ca']}, {'scoreAddress': 'cx2148bdb92054b2306076f3579c0ab7fced91a9ca', 'indexed': ['CollateralReceived(Address,str,int)', 'hx3f01840a599da07b0f620eeae7aa9c574169a4be', 'sICX'], 'data': ['0x1b1ae4d6e2ef500000']}, {'scoreAddress': 'cx50b5bc7d1088848ff106601d6a194aa16e6f9d83', 'indexed': ['OraclePrice(str,str,Address,int)', 'USDICX', 'BandChain', 'cx0999df3af49a227fc8799f0d78d19cd8fe4bb76d'], 'data': ['0x5f049ded93cd30c']}, {'scoreAddress': 'cx2148bdb92054b2306076f3579c0ab7fced91a9ca', 'indexed': ['OriginateLoan(Address,str,int,str)', 'hx3f01840a599da07b0f620eeae7aa9c574169a4be', 'bnUSD', '0x56bc75e2d63100000'], 'data': ['Loan of 100000000000000000000 bnUSD from Balanced.']}, {'scoreAddress': 'cx50b5bc7d1088848ff106601d6a194aa16e6f9d83', 'indexed': ['Mint(Address,int,bytes)', 'hx3f01840a599da07b0f620eeae7aa9c574169a4be'], 'data': ['0x56bc75e2d63100000', '0x4e6f6e65']}, {'scoreAddress': 'cx50b5bc7d1088848ff106601d6a194aa16e6f9d83', 'indexed': ['Transfer(Address,Address,int,bytes)', 'hx0000000000000000000000000000000000000000', 'hx3f01840a599da07b0f620eeae7aa9c574169a4be', '0x56bc75e2d63100000'], 'data': ['0x4e6f6e65']}, {'scoreAddress': 'cx50b5bc7d1088848ff106601d6a194aa16e6f9d83', 'indexed': ['Mint(Address,int,bytes)', 'cxaab78dec61aded71309e9529feaf25e740526c63'], 'data': ['0xde0b6b3a7640000', '0x4e6f6e65']}, {'scoreAddress': 'cx50b5bc7d1088848ff106601d6a194aa16e6f9d83', 'indexed': ['Transfer(Address,Address,int,bytes)', 'hx0000000000000000000000000000000000000000', 'cxaab78dec61aded71309e9529feaf25e740526c63', '0xde0b6b3a7640000'], 'data': ['0x4e6f6e65']}, {'scoreAddress': 'cxaab78dec61aded71309e9529feaf25e740526c63', 'indexed': ['DividendsReceivedV2(int,int,str)', '0xde0b6b3a7640000', '0x1'], 'data': ['1000000000000000000 tokens received as dividends token: cx50b5bc7d1088848ff106601d6a194aa16e6f9d83 ']}, {'scoreAddress': 'cx2148bdb92054b2306076f3579c0ab7fced91a9ca', 'indexed': ['FeePaid(str,int,str)', 'bnUSD', '0xde0b6b3a7640000', 'origination'], 'data': []}], 'logsBloom': b' \\x00\\x10\\x00\\x01\\n\\x010\\x02 \\x00!\\x00\\x00\\x00\\x04\\x01\\x00\\x00\\x10\\x00\\x00\\x00\\x02\\x80\\t\\x00\\x00\\x00\\x08\\x00\\x00\\x00\\x00\\x00\\x00\\x00j\\x00\\x00\\x00\\x01@\\x00\\x00\\x00\\x00\\x00\\x00\\x00\\x00\\x01\\x00\\x01\\x00\\x00\\x00\\x00\\x18\\x80\\x00\\x80\\x00 \\x80\\x12\\x00\\x00\\x00(\\x00\\x00\\x00\\x01\\x04\\x10\\x00\\x00\\x11\\x00\\x00\\x00\\x00\\x00@\\x02\\x04\\x000\\x00\\x00\\x00\\x00\\x00\\x00@\\x00\\x00H\\t\\x00\\x00\\x00\\x00\\x00\\x01\\x00\\x00\\x80\\x00@\\x00\\x01\\x10\\x01\\x00\\x00\\x00\\x00\\x04 \\x18\\x00\\x00\\x00\\x00\\x01\\x00(\\x00\\x00\\x00\\x00\\xa0\\x00\\x00\\x00\\x10\\x00\\x00\\x00\\x04\\x00\\x00@\\x00\\x10\\x00\\x00\\x04\\x08\\x04\\x00\\x10\\x00 \\x00P\\x80\\x80\\x00 \\x00\\x10@\\x04\\x08\\x80\\x00\\x18\\x80\\x00\\x10\\x00\\x00\\x04\\x00\\x00@\\x00\\x00\\x02\\x00\\x00\\x10\\x00\\x00\\x00\\x00\\x00\\x10\\x00\\x01\\x00\\x08\\x02\\x00\\x02\\x00\\x04\\x00\\x04 \\x00\\x00\\x00!\\x16\\x08\\x00\\x01\\x00\\x10A@\\x00\\x00\\x00\\x00\\x00\\x00\\x00\\x00\\x00\\x00 \\x10\\x04\\x00\\x00\\x04\\x00\\x10\\x00\\x00\\x00\\x00\\x00\\x10\\x00\\x00\\x00\\x00 \\x00\\x00\\x00\\x00\\x00\\x00\\x00@\\x00\\x08\\x00\\x00', 'status': 1, 'stepPrice': 12500000000, 'stepUsed': 1021360, 'to': 'cx2148bdb92054b2306076f3579c0ab7fced91a9ca', 'txHash': '0xc6c6f976b23b9ea50640e96a99b01214e2528f93745427f51d03529279cebe5e', 'txIndex': 1}\n",
      "{'_to': 'cx113466143604608cbf58d84674d9360b29f08530', '_value': 5000000000000000000, '_data': b'{\"method\": \"_swap\", \"params\": {\"toToken\": \"cx0508faa2f6b1f333fa84190db7c80c9dbf822cb4\"}}'}\n",
      "Retrying in 1 seconds...\n",
      "Retrying in 2 seconds...\n",
      "Success\n",
      "{'blockHash': '0xbffd1534bcdc26862b5407de129f9493cf4374b7b40f68d131b9a598a6458b16', 'blockHeight': 2123619, 'cumulativeStepUsed': 792680, 'eventLogs': [{'scoreAddress': 'cx50b5bc7d1088848ff106601d6a194aa16e6f9d83', 'indexed': ['Transfer(Address,Address,int,bytes)', 'hx3f01840a599da07b0f620eeae7aa9c574169a4be', 'cx113466143604608cbf58d84674d9360b29f08530', '0x4563918244f40000'], 'data': ['0x7b226d6574686f64223a20225f73776170222c2022706172616d73223a207b22746f546f6b656e223a2022637830353038666161326636623166333333666138343139306462376338306339646266383232636234227d7d']}, {'scoreAddress': 'cx0508faa2f6b1f333fa84190db7c80c9dbf822cb4', 'indexed': ['Transfer(Address,Address,int,bytes)', 'cx113466143604608cbf58d84674d9360b29f08530', 'hx3f01840a599da07b0f620eeae7aa9c574169a4be', '0x1844155bc67de000'], 'data': ['0x4e6f6e65']}, {'scoreAddress': 'cx50b5bc7d1088848ff106601d6a194aa16e6f9d83', 'indexed': ['Transfer(Address,Address,int,bytes)', 'cx113466143604608cbf58d84674d9360b29f08530', 'cx70c0c46d30ed732cf4ce0cfe25d19f5574f57f32', '0x1aa535d3d0c000'], 'data': ['0x4e6f6e65']}, {'scoreAddress': 'cx50b5bc7d1088848ff106601d6a194aa16e6f9d83', 'indexed': ['Transfer(Address,Address,int,bytes)', 'cx70c0c46d30ed732cf4ce0cfe25d19f5574f57f32', 'cxaab78dec61aded71309e9529feaf25e740526c63', '0x1aa535d3d0c000'], 'data': ['0x4e6f6e65']}, {'scoreAddress': 'cxaab78dec61aded71309e9529feaf25e740526c63', 'indexed': ['DividendsReceivedV2(int,int,str)', '0x1aa535d3d0c000', '0x1'], 'data': ['7500000000000000 tokens received as dividends token: cx50b5bc7d1088848ff106601d6a194aa16e6f9d83 ']}, {'scoreAddress': 'cx113466143604608cbf58d84674d9360b29f08530', 'indexed': ['Swap(int,Address,Address,Address,Address,Address,int,int,int,int,int,int,int,int,int)', '0x2', 'cx0508faa2f6b1f333fa84190db7c80c9dbf822cb4'], 'data': ['cx50b5bc7d1088848ff106601d6a194aa16e6f9d83', 'cx0508faa2f6b1f333fa84190db7c80c9dbf822cb4', 'hx3f01840a599da07b0f620eeae7aa9c574169a4be', 'hx3f01840a599da07b0f620eeae7aa9c574169a4be', '0x4563918244f40000', '0x1844155bc67de000', '0x5cfdec5fe59e9', '0x1aa535d3d0c000', '0x1aa535d3d0c000', '0x375813da55f85e000', '0xa21ce5e0766984a9b', '0x28a68ccebf16439d', '0x4de27b806f38169']}], 'logsBloom': b'@\\x00\\x00\\x00\\x08\\x00\\x00\\x10\\x04$\\x00 \\x00\\x00\\x00\\x00\\x00\\x00\\x00\\x02\\x00\\x00\\x00\\x00\\x80\\x08\\x00\\x00\\x00\\x00\\x00\\x00\\x00\\x00\\x01\\x02\\x00j\\x00\\x00\\x04\\x01\\x00\\x00 \\x00\\x01\\x00\\x00\\x00\\x00\\x00\\x00\\x00\\x00\\x01\\x00\\x00\\x00\\x00\\x00\\x00\\x00\\x00\\x00\\x02\\x00\\x00\\x00\\x01\\x00\\x02\\x00\\x00\\x00\\x00\\x00\\x00@\\x08\\x00\\x00\\x00\\x00\\x00\\x00\\x00\\x00\\x00\\x00\\x00\\x00\\x00@\\x00\\x00\\x00\\x00\\x00\\x04\\x00\\x00\\x00\\x00\\x00\\x00\\x00\\x00\\x00\\x00\\x00\\x00\\x01\\x00\\x00\\x00\\x00\\x00\\x00\\x00\\x00\\x00\\x00\\x00\\x00\\x00\\x00\\x00(\\x00\\x00\\x00\\x00 \\x00\\x00\\x00\\x01@\\x08\\x00\\x00\\x00\\x00\\x01\\x00\\x00\\x00\\x00\\x04\\x00\\x00\\x00\\x00\\x00 \\x00\\x10\\x10 \\x00\\x00\\x00\\x00@\\x00\\x00\\x00\\x00\\x00\\x00\\x00\\x00\\x00\\x00\\x00\\x00\\x00\\x00\\x00\\x00\\x02\\x00\\x00\\x00\\x00\\x00\\x00\\x00\\x00\\x00\\x00\\x01\\x00\\x80\\x00\\x00\\x00\\x00\\x00\\x00\\x00 \\x00\\x08\\x00\\x00\\x06\\x00\\x00\\x00\\x00\\x00\\x01 \\x00\\x00@\\x00\\x00\\x00\\x08\\x00\\x00\\x00\\x01\\x00\\x04\\x00\\x00\\x10\\x00\\x10\\x00\\x00\\x00\\x00\\x00\\x10\\x02\\x00\\x00\\x00\\x90\\x00\\x00\\x08\\x00\\x00\\x00\\x00\\x00\\x00\\x00\\x00\\x00', 'status': 1, 'stepPrice': 12500000000, 'stepUsed': 792680, 'to': 'cx50b5bc7d1088848ff106601d6a194aa16e6f9d83', 'txHash': '0x57943fbfd914fe2b07a5604cf0aa51050364a825a8725869b9ea3f0ed85ce43c', 'txIndex': 1}\n"
     ]
    }
   ],
   "source": [
    "# contract_addresses = call_tx(GOVERNANCE_SCORE, 'getAddresses', {})\n",
    "# print(\"Taking loans\")\n",
    "# res = send_tx(deployer_wallet, contract_addresses['loans'], \"depositAndBorrow\", {'_asset': 'bnUSD', '_amount': 100 * 10 **18}, 500 * 10 **18)\n",
    "# check_tx_result(res)\n",
    "# print(res)\n",
    "# import json\n",
    "# def swap(from_token, to_token, amount):\n",
    "#     data2 = json.dumps({\"method\": \"_swap\", \"params\": {\"toToken\":str(to_token)}})\n",
    "#     params = {'_to': contract_addresses['dex'], '_value': amount, '_data': data2.encode()}\n",
    "#     print(params)\n",
    "#     transaction = CallTransactionBuilder()\\\n",
    "#         .from_(deployer_wallet.get_address())\\\n",
    "#         .to(from_token)\\\n",
    "#         .step_limit(10000000)\\\n",
    "#         .value(0)\\\n",
    "#         .nid(NID)\\\n",
    "#         .nonce(100)\\\n",
    "#         .method(\"transfer\")\\\n",
    "#         .params(params)\\\n",
    "#         .build()\n",
    "#     signed_transaction = SignedTransaction(transaction, deployer_wallet)\n",
    "#     tx_hash = icon_service.send_transaction(signed_transaction)\n",
    "#     return get_tx_result(tx_hash)\n",
    "# res = swap(contract_addresses['bnUSD'], contract_addresses['sicx'],5*10**18)\n",
    "# check_tx_result(res)\n",
    "# print(res)"
   ]
  },
  {
   "cell_type": "markdown",
   "metadata": {},
   "source": [
    "## UPDATE LOANS CONTRACT"
   ]
  },
  {
   "cell_type": "code",
   "execution_count": 56,
   "metadata": {
    "scrolled": true
   },
   "outputs": [
    {
     "name": "stdout",
     "output_type": "stream",
     "text": [
      "Retrying in 1 seconds...\n",
      "Retrying in 2 seconds...\n",
      "scoreAddress: cx2148bdb92054b2306076f3579c0ab7fced91a9ca\n",
      "Success\n"
     ]
    }
   ],
   "source": [
    "tx = get_tx_result(\n",
    "    deploy_contract(deployer_wallet.get_address(), LOANS_SCORE, './core_contracts/loans', {}))\n",
    "print('scoreAddress:', tx.get('scoreAddress', ''))\n",
    "check_tx_result(tx)print(tx)\n"
   ]
  },
  {
   "cell_type": "code",
   "execution_count": 57,
   "metadata": {},
   "outputs": [
    {
     "name": "stdout",
     "output_type": "stream",
     "text": [
      "Taking loans\n",
      "Retrying in 1 seconds...\n",
      "Success\n",
      "{'blockHash': '0xf3e26837b20841c688d69dd23340dddd4beb87a8e624fd75484bd9c04570c814', 'blockHeight': 2123719, 'cumulativeStepUsed': 1817220, 'eventLogs': [{'scoreAddress': 'cx2148bdb92054b2306076f3579c0ab7fced91a9ca', 'indexed': ['ICXTransfer(Address,Address,int)', 'cx2148bdb92054b2306076f3579c0ab7fced91a9ca', 'cx6b88083a463739c94f1aa76341df1a21bddca2be', '0x1b1ae4d6e2ef500000'], 'data': []}, {'scoreAddress': 'cx0000000000000000000000000000000000000000', 'indexed': ['IScoreClaimedV2(Address,int,int)', 'cx6b88083a463739c94f1aa76341df1a21bddca2be'], 'data': ['0x36b0', '0xe']}, {'scoreAddress': 'cx6b88083a463739c94f1aa76341df1a21bddca2be', 'indexed': ['IscoreClaimed(int,int)', '0x2067c7', '0xe'], 'data': []}, {'scoreAddress': 'cx0508faa2f6b1f333fa84190db7c80c9dbf822cb4', 'indexed': ['Mint(Address,int,bytes)', 'cx2148bdb92054b2306076f3579c0ab7fced91a9ca'], 'data': ['0x1b1ae4d6e2ef500000', '0x4e6f6e65']}, {'scoreAddress': 'cx0508faa2f6b1f333fa84190db7c80c9dbf822cb4', 'indexed': ['Transfer(Address,Address,int,bytes)', 'hx0000000000000000000000000000000000000000', 'cx2148bdb92054b2306076f3579c0ab7fced91a9ca', '0x1b1ae4d6e2ef500000'], 'data': ['0x4e6f6e65']}, {'scoreAddress': 'cx6b88083a463739c94f1aa76341df1a21bddca2be', 'indexed': ['TokenTransfer(Address,int,str)', 'cx2148bdb92054b2306076f3579c0ab7fced91a9ca', '0x1b1ae4d6e2ef500000'], 'data': ['500 sICX minted to cx2148bdb92054b2306076f3579c0ab7fced91a9ca']}, {'scoreAddress': 'cx2148bdb92054b2306076f3579c0ab7fced91a9ca', 'indexed': ['CollateralReceived(Address,str,int)', 'hx3f01840a599da07b0f620eeae7aa9c574169a4be', 'sICX'], 'data': ['0x1b1ae4d6e2ef500000']}, {'scoreAddress': 'cx50b5bc7d1088848ff106601d6a194aa16e6f9d83', 'indexed': ['OraclePrice(str,str,Address,int)', 'USDICX', 'BandChain', 'cx0999df3af49a227fc8799f0d78d19cd8fe4bb76d'], 'data': ['0x5f1f085510609cc']}, {'scoreAddress': 'cx2148bdb92054b2306076f3579c0ab7fced91a9ca', 'indexed': ['OriginateLoan(Address,str,int,str)', 'hx3f01840a599da07b0f620eeae7aa9c574169a4be', 'bnUSD', '0x56bc75e2d63100000'], 'data': ['Loan of 100000000000000000000 bnUSD from Balanced.']}, {'scoreAddress': 'cx50b5bc7d1088848ff106601d6a194aa16e6f9d83', 'indexed': ['Mint(Address,int,bytes)', 'hx3f01840a599da07b0f620eeae7aa9c574169a4be'], 'data': ['0x56bc75e2d63100000', '0x4e6f6e65']}, {'scoreAddress': 'cx50b5bc7d1088848ff106601d6a194aa16e6f9d83', 'indexed': ['Transfer(Address,Address,int,bytes)', 'hx0000000000000000000000000000000000000000', 'hx3f01840a599da07b0f620eeae7aa9c574169a4be', '0x56bc75e2d63100000'], 'data': ['0x4e6f6e65']}, {'scoreAddress': 'cx50b5bc7d1088848ff106601d6a194aa16e6f9d83', 'indexed': ['Mint(Address,int,bytes)', 'cx70c0c46d30ed732cf4ce0cfe25d19f5574f57f32'], 'data': ['0xde0b6b3a7640000', '0x4e6f6e65']}, {'scoreAddress': 'cx50b5bc7d1088848ff106601d6a194aa16e6f9d83', 'indexed': ['Transfer(Address,Address,int,bytes)', 'hx0000000000000000000000000000000000000000', 'cx70c0c46d30ed732cf4ce0cfe25d19f5574f57f32', '0xde0b6b3a7640000'], 'data': ['0x4e6f6e65']}, {'scoreAddress': 'cx50b5bc7d1088848ff106601d6a194aa16e6f9d83', 'indexed': ['Transfer(Address,Address,int,bytes)', 'cx70c0c46d30ed732cf4ce0cfe25d19f5574f57f32', 'cxaab78dec61aded71309e9529feaf25e740526c63', '0xde0b6b3a7640000'], 'data': ['0x4e6f6e65']}, {'scoreAddress': 'cxaab78dec61aded71309e9529feaf25e740526c63', 'indexed': ['DividendsReceivedV2(int,int,str)', '0xde0b6b3a7640000', '0x1'], 'data': ['1000000000000000000 tokens received as dividends token: cx50b5bc7d1088848ff106601d6a194aa16e6f9d83 ']}, {'scoreAddress': 'cx2148bdb92054b2306076f3579c0ab7fced91a9ca', 'indexed': ['FeePaid(str,int,str)', 'bnUSD', '0xde0b6b3a7640000', 'origination'], 'data': []}], 'logsBloom': b' \\x00\\x10\\x00\\x01\\x08\\x010\\x06 \\x00!\\x00\\x00\\x00\\x04\\x01\\x00\\x00\\x12\\x00\\x00\\x00\\x00\\x80\\t\\x00\\x00\\x00\\x08\\x00\\x00\\x00\\x00\\x00\\x00\\x00j\\x00\\x00\\x00\\t@\\x80\\x00\\x00\\x00\\x00\\x00\\x00\\x00\\x00\\x00\\x01\\x00\\x01\\x00\\x00\\x18\\x80\\x00\\x80\\x00 \\x80\\x12\\x00\\x00\\x00(\\x00\\x00\\x00\\x00\\x04\\x10\\x00\\x00\\x11\\x00\\x00\\x00\\x00\\x00@\\x02\\x04\\x000\\x00\\x00\\x00\\x00\\x00\\x00@\\x00\\x00H\\r\\x00\\x00\\x00\\x00\\x00\\x01\\x00\\x00\\x80\\x00@\\x00\\x01\\x10\\x01\\x00\\x00\\x00\\x00\\x04 \\x08\\x00\\x00\\x00\\x00\\x01\\x10(\\x00\\x00\\x00\\x00\\xa0\\x00\\x00\\x00\\x10\\x00\\x00\\x00\\x04\\x00\\x00A\\x00\\x10\\x00\\x00\\x04\\x08\\x04\\x00\\x00\\x00 \\x00P\\x80\\x80\\x00 \\x00\\x10@\\x04\\x08\\x80\\x00\\x18\\x80\\x00\\x18\\x00\\x00\\x04\\x00\\x00@\\x00\\x00\\x02\\x00\\x00\\x10\\x00\\x00\\x00\\x00\\x00\\x10\\x00\\x01\\x00\\x08\\x02\\x00\\x02\\x00\\x00\\x00\\x04 \\x00\\x00\\x00!\\x06\\x08\\x00\\x01\\x00\\x10A@\\x00\\x00\\x00\\x00\\x00\\x00\\x00\\x00\\x00\\x00\\x00\\x10\\x04\\x00\\x00\\x04\\x00\\x10\\x00\\x00\\x00\\x00\\x00\\x10\\x02\\x00\\x00\\x00 \\x00\\x00\\x00\\x00@\\x00\\x00@\\x00\\x0c\\x00\\x00', 'status': 1, 'stepPrice': 12500000000, 'stepUsed': 1158860, 'to': 'cx2148bdb92054b2306076f3579c0ab7fced91a9ca', 'txHash': '0xb7a3d0f4f3dee7efda7c61b6382931873940a648edb1d1b7b2ba158ccdb943d6', 'txIndex': 2}\n",
      "{'_to': 'cx113466143604608cbf58d84674d9360b29f08530', '_value': 5000000000000000000, '_data': b'{\"method\": \"_swap\", \"params\": {\"toToken\": \"cx0508faa2f6b1f333fa84190db7c80c9dbf822cb4\"}}'}\n",
      "Retrying in 1 seconds...\n",
      "Retrying in 2 seconds...\n",
      "Success\n",
      "{'blockHash': '0x9854b7d49c74a603229a5811c794a03a2e7ae4369ab5fcb39ca562092e6045c0', 'blockHeight': 2123721, 'cumulativeStepUsed': 655960, 'eventLogs': [{'scoreAddress': 'cx50b5bc7d1088848ff106601d6a194aa16e6f9d83', 'indexed': ['Transfer(Address,Address,int,bytes)', 'hx3f01840a599da07b0f620eeae7aa9c574169a4be', 'cx113466143604608cbf58d84674d9360b29f08530', '0x4563918244f40000'], 'data': ['0x7b226d6574686f64223a20225f73776170222c2022706172616d73223a207b22746f546f6b656e223a2022637830353038666161326636623166333333666138343139306462376338306339646266383232636234227d7d']}, {'scoreAddress': 'cx0508faa2f6b1f333fa84190db7c80c9dbf822cb4', 'indexed': ['Transfer(Address,Address,int,bytes)', 'cx113466143604608cbf58d84674d9360b29f08530', 'hx3f01840a599da07b0f620eeae7aa9c574169a4be', '0x170113e416378000'], 'data': ['0x4e6f6e65']}, {'scoreAddress': 'cx50b5bc7d1088848ff106601d6a194aa16e6f9d83', 'indexed': ['Transfer(Address,Address,int,bytes)', 'cx113466143604608cbf58d84674d9360b29f08530', 'cx70c0c46d30ed732cf4ce0cfe25d19f5574f57f32', '0x1aa535d3d0c000'], 'data': ['0x4e6f6e65']}, {'scoreAddress': 'cx113466143604608cbf58d84674d9360b29f08530', 'indexed': ['Swap(int,Address,Address,Address,Address,Address,int,int,int,int,int,int,int,int,int)', '0x2', 'cx0508faa2f6b1f333fa84190db7c80c9dbf822cb4'], 'data': ['cx50b5bc7d1088848ff106601d6a194aa16e6f9d83', 'cx0508faa2f6b1f333fa84190db7c80c9dbf822cb4', 'hx3f01840a599da07b0f620eeae7aa9c574169a4be', 'hx3f01840a599da07b0f620eeae7aa9c574169a4be', '0x4563918244f40000', '0x170113e416378000', '0x5cfded2387bee', '0x1aa535d3d0c000', '0x1aa535d3d0c000', '0x35e8029c1494e6000', '0xa67174a53d7bb8a9b', '0x2ad97fb47a021496', '0x49d5c0ff821baac']}], 'logsBloom': b'\\x00\\x00\\x00\\x00\\x08\\x00\\x00\\x00\\x00$\\x00 \\x00\\x00\\x00\\x00\\x00\\x00\\x00\\x02\\x00\\x00\\x00\\x00\\x00\\x00\\x00\\x00\\x00\\x00\\x00\\x00\\x00\\x00\\x01\\x00\\x00J\\x00\\x00\\x04\\x01\\x00\\x00 \\x00\\x00\\x00\\x00\\x00\\x00\\x00\\x00\\x00\\x00\\x01\\x00\\x00\\x00\\x00\\x00\\x00\\x00\\x00\\x00\\x00\\x00\\x00\\x00\\x01\\x00\\x00\\x00\\x00\\x00\\x00\\x00\\x00@\\x08\\x00\\x00\\x00\\x00\\x00\\x00\\x00\\x00\\x00\\x00\\x00\\x00\\x00@\\x00\\x00\\x00\\x00\\x00\\x04\\x00\\x00\\x00\\x00\\x00\\x00\\x00\\x00\\x00\\x00\\x00\\x00\\x01\\x00\\x00\\x00\\x00\\x00\\x00\\x00\\x00\\x00\\x00\\x00\\x00\\x00\\x00\\x00 \\x00\\x00\\x00\\x00 \\x00\\x00\\x00\\x01@\\x08\\x00\\x00\\x00\\x00\\x00\\x00\\x00\\x00\\x00\\x00\\x00\\x00\\x00\\x00\\x00 \\x00\\x10\\x00 \\x00\\x00\\x00\\x00@\\x00\\x00\\x00\\x00\\x00\\x00\\x00\\x00\\x00@\\x00\\x00\\x00\\x00\\x00\\x00\\x02\\x00\\x00\\x00\\x00\\x00\\x00\\x00\\x00\\x00\\x00\\x01\\x00\\x80\\x00\\x00\\x00\\x00\\x00\\x00\\x00\\x00\\x00\\x08\\x00\\x00\\x00\\x00\\x00\\x00\\x00\\x00\\x01 \\x00\\x02@\\x00\\x00\\x00\\x08@\\x00\\x00\\x01\\x00\\x04\\x00\\x00\\x00\\x00\\x00\\x00\\x00\\x00\\x00\\x00\\x00\\x00\\x00\\x00\\x00\\x90\\x00\\x00\\x08\\x00\\x00\\x00\\x00\\x00\\x00\\x00\\x00\\x00', 'status': 1, 'stepPrice': 12500000000, 'stepUsed': 655960, 'to': 'cx50b5bc7d1088848ff106601d6a194aa16e6f9d83', 'txHash': '0x6b676e9ef43c25c1c8b1bcfd17028208bd03c879dc3b48621e6b3f81c2035e69', 'txIndex': 1}\n"
     ]
    }
   ],
   "source": [
    "contract_addresses = call_tx(GOVERNANCE_SCORE, 'getAddresses', {})\n",
    "print(\"Taking loans\")\n",
    "res = send_tx(deployer_wallet, contract_addresses['loans'], \"depositAndBorrow\", {'_asset': 'bnUSD', '_amount': 100 * 10 **18}, 500 * 10 **18)\n",
    "check_tx_result(res)\n",
    "print(res)\n",
    "import json\n",
    "def swap(from_token, to_token, amount):\n",
    "    data2 = json.dumps({\"method\": \"_swap\", \"params\": {\"toToken\":str(to_token)}})\n",
    "    params = {'_to': contract_addresses['dex'], '_value': amount, '_data': data2.encode()}\n",
    "    print(params)\n",
    "    transaction = CallTransactionBuilder()\\\n",
    "        .from_(deployer_wallet.get_address())\\\n",
    "        .to(from_token)\\\n",
    "        .step_limit(10000000)\\\n",
    "        .value(0)\\\n",
    "        .nid(NID)\\\n",
    "        .nonce(100)\\\n",
    "        .method(\"transfer\")\\\n",
    "        .params(params)\\\n",
    "        .build()\n",
    "    signed_transaction = SignedTransaction(transaction, deployer_wallet)\n",
    "    tx_hash = icon_service.send_transaction(signed_transaction)\n",
    "    return get_tx_result(tx_hash)\n",
    "res = swap(contract_addresses['bnUSD'], contract_addresses['sicx'],5*10**18)\n",
    "check_tx_result(res)\n",
    "print(res)"
   ]
  },
  {
   "cell_type": "markdown",
   "metadata": {},
   "source": [
    "# STAGE 3"
   ]
  },
  {
   "cell_type": "markdown",
   "metadata": {},
   "source": [
    "#### SET FEE HANDLER IN DEX"
   ]
  },
  {
   "cell_type": "code",
   "execution_count": 36,
   "metadata": {},
   "outputs": [
    {
     "name": "stdout",
     "output_type": "stream",
     "text": [
      "Retrying in 1 seconds...\n",
      "{'blockHash': '0x2058de611985ba5e3cc6b213737c01b015124a8737095c3824511424b2709127', 'blockHeight': 2079898, 'cumulativeStepUsed': 143600, 'eventLogs': [], 'failure': {'code': 32, 'message': 'Reverted(0)'}, 'logsBloom': b'\\x00\\x00\\x00\\x00\\x00\\x00\\x00\\x00\\x00\\x00\\x00\\x00\\x00\\x00\\x00\\x00\\x00\\x00\\x00\\x00\\x00\\x00\\x00\\x00\\x00\\x00\\x00\\x00\\x00\\x00\\x00\\x00\\x00\\x00\\x00\\x00\\x00\\x00\\x00\\x00\\x00\\x00\\x00\\x00\\x00\\x00\\x00\\x00\\x00\\x00\\x00\\x00\\x00\\x00\\x00\\x00\\x00\\x00\\x00\\x00\\x00\\x00\\x00\\x00\\x00\\x00\\x00\\x00\\x00\\x00\\x00\\x00\\x00\\x00\\x00\\x00\\x00\\x00\\x00\\x00\\x00\\x00\\x00\\x00\\x00\\x00\\x00\\x00\\x00\\x00\\x00\\x00\\x00\\x00\\x00\\x00\\x00\\x00\\x00\\x00\\x00\\x00\\x00\\x00\\x00\\x00\\x00\\x00\\x00\\x00\\x00\\x00\\x00\\x00\\x00\\x00\\x00\\x00\\x00\\x00\\x00\\x00\\x00\\x00\\x00\\x00\\x00\\x00\\x00\\x00\\x00\\x00\\x00\\x00\\x00\\x00\\x00\\x00\\x00\\x00\\x00\\x00\\x00\\x00\\x00\\x00\\x00\\x00\\x00\\x00\\x00\\x00\\x00\\x00\\x00\\x00\\x00\\x00\\x00\\x00\\x00\\x00\\x00\\x00\\x00\\x00\\x00\\x00\\x00\\x00\\x00\\x00\\x00\\x00\\x00\\x00\\x00\\x00\\x00\\x00\\x00\\x00\\x00\\x00\\x00\\x00\\x00\\x00\\x00\\x00\\x00\\x00\\x00\\x00\\x00\\x00\\x00\\x00\\x00\\x00\\x00\\x00\\x00\\x00\\x00\\x00\\x00\\x00\\x00\\x00\\x00\\x00\\x00\\x00\\x00\\x00\\x00\\x00\\x00\\x00\\x00\\x00\\x00\\x00\\x00\\x00\\x00\\x00\\x00\\x00\\x00\\x00\\x00\\x00\\x00\\x00\\x00\\x00\\x00\\x00\\x00\\x00\\x00\\x00\\x00\\x00\\x00\\x00\\x00\\x00\\x00\\x00\\x00\\x00\\x00\\x00', 'status': 0, 'stepPrice': 12500000000, 'stepUsed': 143600, 'to': 'cx72c3be0e6cd793fe6e9d4642e2b28be4c0ff6d87', 'txHash': '0x5eb48f922d8fe29b37e1bec2f84099716346285382a5f4cded54eec2f7d1305c', 'txIndex': 1}\n"
     ]
    },
    {
     "ename": "KeyError",
     "evalue": "'result'",
     "output_type": "error",
     "traceback": [
      "\u001b[0;31m---------------------------------------------------------------------------\u001b[0m",
      "\u001b[0;31mKeyError\u001b[0m                                  Traceback (most recent call last)",
      "\u001b[0;32m<ipython-input-36-df4684a0cd48>\u001b[0m in \u001b[0;36m<module>\u001b[0;34m\u001b[0m\n\u001b[1;32m      1\u001b[0m \u001b[0mab\u001b[0m \u001b[0;34m=\u001b[0m \u001b[0msend_tx\u001b[0m\u001b[0;34m(\u001b[0m\u001b[0mdeployer_wallet\u001b[0m\u001b[0;34m,\u001b[0m \u001b[0;34m\"cx72c3be0e6cd793fe6e9d4642e2b28be4c0ff6d87\"\u001b[0m\u001b[0;34m,\u001b[0m \u001b[0;34m\"setFeehandler\"\u001b[0m\u001b[0;34m,\u001b[0m  \u001b[0;34m{\u001b[0m\u001b[0;34m'_address'\u001b[0m\u001b[0;34m:\u001b[0m\u001b[0mFEEHANDLER_SCORE\u001b[0m\u001b[0;34m}\u001b[0m\u001b[0;34m,\u001b[0m \u001b[0;36m0\u001b[0m\u001b[0;34m)\u001b[0m\u001b[0;34m\u001b[0m\u001b[0;34m\u001b[0m\u001b[0m\n\u001b[1;32m      2\u001b[0m \u001b[0mprint\u001b[0m\u001b[0;34m(\u001b[0m\u001b[0mab\u001b[0m\u001b[0;34m)\u001b[0m\u001b[0;34m\u001b[0m\u001b[0;34m\u001b[0m\u001b[0m\n\u001b[0;32m----> 3\u001b[0;31m \u001b[0mprint\u001b[0m\u001b[0;34m(\u001b[0m\u001b[0mcall_tx\u001b[0m\u001b[0;34m(\u001b[0m\u001b[0;34m\"cx72c3be0e6cd793fe6e9d4642e2b28be4c0ff6d87\"\u001b[0m\u001b[0;34m,\u001b[0m \u001b[0;34m'getFeehandler'\u001b[0m\u001b[0;34m,\u001b[0m\u001b[0;34m{\u001b[0m\u001b[0;34m}\u001b[0m\u001b[0;34m)\u001b[0m\u001b[0;34m)\u001b[0m\u001b[0;34m\u001b[0m\u001b[0;34m\u001b[0m\u001b[0m\n\u001b[0m",
      "\u001b[0;32m<ipython-input-9-581fe49a45fb>\u001b[0m in \u001b[0;36mcall_tx\u001b[0;34m(_to_address, method, params)\u001b[0m\n\u001b[1;32m     42\u001b[0m         \u001b[0;34m.\u001b[0m\u001b[0mbuild\u001b[0m\u001b[0;34m(\u001b[0m\u001b[0;34m)\u001b[0m\u001b[0;34m\u001b[0m\u001b[0;34m\u001b[0m\u001b[0m\n\u001b[1;32m     43\u001b[0m \u001b[0;34m\u001b[0m\u001b[0m\n\u001b[0;32m---> 44\u001b[0;31m     \u001b[0;32mreturn\u001b[0m \u001b[0micon_service\u001b[0m\u001b[0;34m.\u001b[0m\u001b[0mcall\u001b[0m\u001b[0;34m(\u001b[0m\u001b[0mcall\u001b[0m\u001b[0;34m)\u001b[0m\u001b[0;34m\u001b[0m\u001b[0;34m\u001b[0m\u001b[0m\n\u001b[0m",
      "\u001b[0;32m~/opt/miniconda3/envs/workenv/lib/python3.7/site-packages/iconsdk/icon_service.py\u001b[0m in \u001b[0;36mcall\u001b[0;34m(self, call, full_response)\u001b[0m\n\u001b[1;32m    235\u001b[0m             \u001b[0mparams\u001b[0m\u001b[0;34m[\u001b[0m\u001b[0;34m\"data\"\u001b[0m\u001b[0;34m]\u001b[0m\u001b[0;34m[\u001b[0m\u001b[0;34m\"params\"\u001b[0m\u001b[0;34m]\u001b[0m \u001b[0;34m=\u001b[0m \u001b[0mcall\u001b[0m\u001b[0;34m.\u001b[0m\u001b[0mparams\u001b[0m\u001b[0;34m\u001b[0m\u001b[0;34m\u001b[0m\u001b[0m\n\u001b[1;32m    236\u001b[0m \u001b[0;34m\u001b[0m\u001b[0m\n\u001b[0;32m--> 237\u001b[0;31m         \u001b[0;32mreturn\u001b[0m \u001b[0mself\u001b[0m\u001b[0;34m.\u001b[0m\u001b[0m__provider\u001b[0m\u001b[0;34m.\u001b[0m\u001b[0mmake_request\u001b[0m\u001b[0;34m(\u001b[0m\u001b[0;34m'icx_call'\u001b[0m\u001b[0;34m,\u001b[0m \u001b[0mparams\u001b[0m\u001b[0;34m,\u001b[0m \u001b[0mfull_response\u001b[0m\u001b[0;34m)\u001b[0m\u001b[0;34m\u001b[0m\u001b[0;34m\u001b[0m\u001b[0m\n\u001b[0m\u001b[1;32m    238\u001b[0m \u001b[0;34m\u001b[0m\u001b[0m\n\u001b[1;32m    239\u001b[0m     \u001b[0;32mdef\u001b[0m \u001b[0msend_transaction\u001b[0m\u001b[0;34m(\u001b[0m\u001b[0mself\u001b[0m\u001b[0;34m,\u001b[0m \u001b[0msigned_transaction\u001b[0m\u001b[0;34m:\u001b[0m \u001b[0mSignedTransaction\u001b[0m\u001b[0;34m,\u001b[0m \u001b[0mfull_response\u001b[0m\u001b[0;34m:\u001b[0m \u001b[0mbool\u001b[0m \u001b[0;34m=\u001b[0m \u001b[0;32mFalse\u001b[0m\u001b[0;34m)\u001b[0m \u001b[0;34m->\u001b[0m \u001b[0mUnion\u001b[0m\u001b[0;34m[\u001b[0m\u001b[0mdict\u001b[0m\u001b[0;34m,\u001b[0m \u001b[0mstr\u001b[0m\u001b[0;34m]\u001b[0m\u001b[0;34m:\u001b[0m\u001b[0;34m\u001b[0m\u001b[0;34m\u001b[0m\u001b[0m\n",
      "\u001b[0;32m~/opt/miniconda3/envs/workenv/lib/python3.7/site-packages/iconsdk/providers/http_provider.py\u001b[0m in \u001b[0;36mmake_request\u001b[0;34m(self, method, params, full_response)\u001b[0m\n\u001b[1;32m    125\u001b[0m             \u001b[0mresponse\u001b[0m \u001b[0;34m=\u001b[0m \u001b[0mself\u001b[0m\u001b[0;34m.\u001b[0m\u001b[0m_make_post_request\u001b[0m\u001b[0;34m(\u001b[0m\u001b[0mrequest_url\u001b[0m\u001b[0;34m,\u001b[0m \u001b[0mrpc_dict\u001b[0m\u001b[0;34m,\u001b[0m \u001b[0;34m**\u001b[0m\u001b[0mself\u001b[0m\u001b[0;34m.\u001b[0m\u001b[0m_get_request_kwargs\u001b[0m\u001b[0;34m(\u001b[0m\u001b[0;34m)\u001b[0m\u001b[0;34m)\u001b[0m\u001b[0;34m\u001b[0m\u001b[0;34m\u001b[0m\u001b[0m\n\u001b[1;32m    126\u001b[0m             \u001b[0;32mtry\u001b[0m\u001b[0;34m:\u001b[0m\u001b[0;34m\u001b[0m\u001b[0;34m\u001b[0m\u001b[0m\n\u001b[0;32m--> 127\u001b[0;31m                 \u001b[0;32mreturn\u001b[0m \u001b[0mself\u001b[0m\u001b[0;34m.\u001b[0m\u001b[0m_return_custom_response\u001b[0m\u001b[0;34m(\u001b[0m\u001b[0mresponse\u001b[0m\u001b[0;34m,\u001b[0m \u001b[0mfull_response\u001b[0m\u001b[0;34m)\u001b[0m\u001b[0;34m\u001b[0m\u001b[0;34m\u001b[0m\u001b[0m\n\u001b[0m\u001b[1;32m    128\u001b[0m             \u001b[0;32mexcept\u001b[0m \u001b[0mJSONDecodeError\u001b[0m\u001b[0;34m:\u001b[0m\u001b[0;34m\u001b[0m\u001b[0;34m\u001b[0m\u001b[0m\n\u001b[1;32m    129\u001b[0m                 \u001b[0mretry_count\u001b[0m \u001b[0;34m-=\u001b[0m \u001b[0;36m1\u001b[0m\u001b[0;34m\u001b[0m\u001b[0;34m\u001b[0m\u001b[0m\n",
      "\u001b[0;32m~/opt/miniconda3/envs/workenv/lib/python3.7/site-packages/iconsdk/providers/http_provider.py\u001b[0m in \u001b[0;36m_return_custom_response\u001b[0;34m(response, full_response)\u001b[0m\n\u001b[1;32m    142\u001b[0m             \u001b[0;32mreturn\u001b[0m \u001b[0mcontent\u001b[0m\u001b[0;34m\u001b[0m\u001b[0;34m\u001b[0m\u001b[0m\n\u001b[1;32m    143\u001b[0m         \u001b[0;32mif\u001b[0m \u001b[0mresponse\u001b[0m\u001b[0;34m.\u001b[0m\u001b[0mok\u001b[0m\u001b[0;34m:\u001b[0m\u001b[0;34m\u001b[0m\u001b[0;34m\u001b[0m\u001b[0m\n\u001b[0;32m--> 144\u001b[0;31m             \u001b[0;32mreturn\u001b[0m \u001b[0mcontent\u001b[0m\u001b[0;34m[\u001b[0m\u001b[0;34m'result'\u001b[0m\u001b[0;34m]\u001b[0m\u001b[0;34m\u001b[0m\u001b[0;34m\u001b[0m\u001b[0m\n\u001b[0m\u001b[1;32m    145\u001b[0m         \u001b[0;32mraise\u001b[0m \u001b[0mJSONRPCException\u001b[0m\u001b[0;34m(\u001b[0m\u001b[0mcontent\u001b[0m\u001b[0;34m[\u001b[0m\u001b[0;34m\"error\"\u001b[0m\u001b[0;34m]\u001b[0m\u001b[0;34m)\u001b[0m\u001b[0;34m\u001b[0m\u001b[0;34m\u001b[0m\u001b[0m\n",
      "\u001b[0;31mKeyError\u001b[0m: 'result'"
     ]
    }
   ],
   "source": [
    "\n",
    "res = send_tx(deployer_wallet, contract_addresses['dex'], \"setFeehandler\",  {'_address':FEEHANDLER_SCORE}, 0)\n",
    "check_tx_result(res)\n",
    "print(call_tx(contract_addresses['dex'], 'getFeehandler',{}))\n"
   ]
  },
  {
   "cell_type": "markdown",
   "metadata": {},
   "source": [
    "#### SET FEE HANDLER ADDRESS IN GOVERNANCE CONTRACT\n"
   ]
  },
  {
   "cell_type": "code",
   "execution_count": 19,
   "metadata": {},
   "outputs": [
    {
     "name": "stdout",
     "output_type": "stream",
     "text": [
      "Retrying in 1 seconds...\n",
      "Success\n",
      "{'baln': 'cx1b0cb6da2d07be642eeebbdb0c5e3df248d4461b', 'bnUSD': 'cx4428ab698443e62b88dc374f939c2fa251af6cd3', 'bwt': 'cx598a1a4613e0790d35116421ef06038f0614ceee', 'daofund': 'cx65ecd947aca52f35f90f9559615d468f3ac1cde4', 'dex': 'cx481f7e10c7c4fc59d6ac68472018f10977a91b39', 'dividends': 'cxdaa020d6fffb5da94d83faccc2a469a189ed2480', 'feehandler': 'cxc693df173f84b57e362d9288b4da803ff86bacbe', 'loans': 'cx903637cfbc1c459a96c037efab67cf639b2877ea', 'oracle': 'cx0999df3af49a227fc8799f0d78d19cd8fe4bb76d', 'rebalancing': 'cx6f070006befbabe45bbd6c0b1ffa1f538a6bb009', 'reserve': 'cxbb0c4c10c971e0dd3935ce270c6cfc2f878670db', 'rewards': 'cxa885447965656de083f8b3b27e0372afbf5b3555', 'router': 'cx11c658e9f94108301159900631f014bf0c414a5e', 'sicx': 'cxd5f4901712c93d846a454f861c579e54366953de', 'staking': 'cxd28829b2d0f1391edb1ffc1ec46ac353db2ff4dd'}\n"
     ]
    }
   ],
   "source": [
    "contract_addresses = call_tx(GOVERNANCE_SCORE, 'getAddresses', {})\n",
    "contract_addresses['feehandler'] = FEEHANDLER_SCORE\n",
    "contract_addresses['router'] = router_score\n",
    "res = send_tx(deployer_wallet, GOVERNANCE_SCORE, \"setAddresses\", {\"_addresses\": contract_addresses}, 0)\n",
    "check_tx_result(res)\n",
    "print(call_tx(GOVERNANCE_SCORE, 'getAddresses', {}))\n"
   ]
  },
  {
   "cell_type": "markdown",
   "metadata": {},
   "source": [
    "## Taking bnUSD loans"
   ]
  },
  {
   "cell_type": "code",
   "execution_count": 39,
   "metadata": {},
   "outputs": [
    {
     "name": "stdout",
     "output_type": "stream",
     "text": [
      "Retrying in 1 seconds...\n",
      "Retrying in 2 seconds...\n"
     ]
    },
    {
     "data": {
      "text/plain": [
       "{'blockHash': '0xe2098785baf9d0f24c52fb64c9833310fe3090ae9d0a9e93e92db1843ef31bad',\n",
       " 'blockHeight': 2091889,\n",
       " 'cumulativeStepUsed': 1485860,\n",
       " 'eventLogs': [{'scoreAddress': 'cx65c5a618e702d3cdf61d06eefc18a09051223445',\n",
       "   'indexed': ['ICXTransfer(Address,Address,int)',\n",
       "    'cx65c5a618e702d3cdf61d06eefc18a09051223445',\n",
       "    'cx85308dab5a08e1d89f8bc0411d4b6c15d5b96389',\n",
       "    '0x1b1ae4d6e2ef500000'],\n",
       "   'data': []},\n",
       "  {'scoreAddress': 'cx0000000000000000000000000000000000000000',\n",
       "   'indexed': ['IScoreClaimedV2(Address,int,int)',\n",
       "    'cx85308dab5a08e1d89f8bc0411d4b6c15d5b96389'],\n",
       "   'data': ['0x2d98fb66c8', '0xbac488d']},\n",
       "  {'scoreAddress': 'cx85308dab5a08e1d89f8bc0411d4b6c15d5b96389',\n",
       "   'indexed': ['IscoreClaimed(int,int)', '0x1feb71', '0xbac488d'],\n",
       "   'data': []},\n",
       "  {'scoreAddress': 'cxe4b51838552855c00d7f14b14b8f56b626a9e78c',\n",
       "   'indexed': ['Mint(Address,int,bytes)',\n",
       "    'cx65c5a618e702d3cdf61d06eefc18a09051223445'],\n",
       "   'data': ['0x1b1ae4d6e2eec79df0', '0x4e6f6e65']},\n",
       "  {'scoreAddress': 'cxe4b51838552855c00d7f14b14b8f56b626a9e78c',\n",
       "   'indexed': ['Transfer(Address,Address,int,bytes)',\n",
       "    'hx0000000000000000000000000000000000000000',\n",
       "    'cx65c5a618e702d3cdf61d06eefc18a09051223445',\n",
       "    '0x1b1ae4d6e2eec79df0'],\n",
       "   'data': ['0x4e6f6e65']},\n",
       "  {'scoreAddress': 'cx85308dab5a08e1d89f8bc0411d4b6c15d5b96389',\n",
       "   'indexed': ['TokenTransfer(Address,int,str)',\n",
       "    'cx65c5a618e702d3cdf61d06eefc18a09051223445',\n",
       "    '0x1b1ae4d6e2eec79df0'],\n",
       "   'data': ['499 sICX minted to cx65c5a618e702d3cdf61d06eefc18a09051223445']},\n",
       "  {'scoreAddress': 'cxffcd3f9aedf58bcc07d83dd602dae8733407595d',\n",
       "   'indexed': ['OraclePrice(str,str,Address,int)',\n",
       "    'USDICX',\n",
       "    'BandChain',\n",
       "    'cx0999df3af49a227fc8799f0d78d19cd8fe4bb76d'],\n",
       "   'data': ['0x5976438b47c7458']},\n",
       "  {'scoreAddress': 'cx65c5a618e702d3cdf61d06eefc18a09051223445',\n",
       "   'indexed': ['Snapshot(int)', '0x9'],\n",
       "   'data': []},\n",
       "  {'scoreAddress': 'cx65c5a618e702d3cdf61d06eefc18a09051223445',\n",
       "   'indexed': ['CollateralReceived(Address,str,int)',\n",
       "    'hxb52f7dd130a6254c933b7a958b8989449020c492',\n",
       "    'sICX'],\n",
       "   'data': ['0x1b1ae4d6e2eec79df0']},\n",
       "  {'scoreAddress': 'cx65c5a618e702d3cdf61d06eefc18a09051223445',\n",
       "   'indexed': ['OriginateLoan(Address,str,int,str)',\n",
       "    'hxb52f7dd130a6254c933b7a958b8989449020c492',\n",
       "    'bnUSD',\n",
       "    '0x56bc75e2d63100000'],\n",
       "   'data': ['Loan of 100000000000000000000 bnUSD from Balanced.']},\n",
       "  {'scoreAddress': 'cxffcd3f9aedf58bcc07d83dd602dae8733407595d',\n",
       "   'indexed': ['Mint(Address,int,bytes)',\n",
       "    'hxb52f7dd130a6254c933b7a958b8989449020c492'],\n",
       "   'data': ['0x56bc75e2d63100000', '0x4e6f6e65']},\n",
       "  {'scoreAddress': 'cxffcd3f9aedf58bcc07d83dd602dae8733407595d',\n",
       "   'indexed': ['Transfer(Address,Address,int,bytes)',\n",
       "    'hx0000000000000000000000000000000000000000',\n",
       "    'hxb52f7dd130a6254c933b7a958b8989449020c492',\n",
       "    '0x56bc75e2d63100000'],\n",
       "   'data': ['0x4e6f6e65']},\n",
       "  {'scoreAddress': 'cxffcd3f9aedf58bcc07d83dd602dae8733407595d',\n",
       "   'indexed': ['Mint(Address,int,bytes)',\n",
       "    'cxebfafbcc62fda444786d20ce6b53b1b698f9ca6e'],\n",
       "   'data': ['0xde0b6b3a7640000', '0x4e6f6e65']},\n",
       "  {'scoreAddress': 'cxffcd3f9aedf58bcc07d83dd602dae8733407595d',\n",
       "   'indexed': ['Transfer(Address,Address,int,bytes)',\n",
       "    'hx0000000000000000000000000000000000000000',\n",
       "    'cxebfafbcc62fda444786d20ce6b53b1b698f9ca6e',\n",
       "    '0xde0b6b3a7640000'],\n",
       "   'data': ['0x4e6f6e65']},\n",
       "  {'scoreAddress': 'cxebfafbcc62fda444786d20ce6b53b1b698f9ca6e',\n",
       "   'indexed': ['DividendsReceivedV2(int,int,str)', '0xde0b6b3a7640000', '0x9'],\n",
       "   'data': ['1000000000000000000 tokens received as dividends token: cxffcd3f9aedf58bcc07d83dd602dae8733407595d ']},\n",
       "  {'scoreAddress': 'cx65c5a618e702d3cdf61d06eefc18a09051223445',\n",
       "   'indexed': ['FeePaid(str,int,str)',\n",
       "    'bnUSD',\n",
       "    '0xde0b6b3a7640000',\n",
       "    'origination'],\n",
       "   'data': []}],\n",
       " 'logsBloom': b' \\x02\\x10\\x01\\x00\\x00@@\\n\\x00\\x00a\\x04\\x00\\x00\\x00\\x01\\x00 \\x00\\x00\\x00\\x00\\x00\\x00\\x01\\x00\\x00\\x04\\x08\\x02\\x00\\x80\\x80\\x08\\x00\\x00\\x00\\x02\\x00\\x00\\x00@\\x00\\x00\\x00\\x00\\x00\\x00\\x10\\x00\\x00\\x00\\x03\\x00\\x08\\x00\\x00\\x18\\x80\\x00\\x00\\x00 \\x80\\x10!\\x00@(\\x00\\x00\\x00@\\x00\\x00\\x00\\x00\\x00\\x00\\x00\\x00\\x00\\x00@\\x82\\x04\\x00 \\x00\\x00@\\x00\\x00\\x00\\x00\\x00\\x00\\x08\\t\\x00\\x00\\x00\\x02\\x00\\x01\\x00\\x00\\x80\\x00@\\x00\\x00\\x10\\x01\\x00\\x00\\x00@$ \\x08\\x00E\\x00\\x00\\x01\\x02\\x00\\x00\\x00\\x00\\x00\\x80\\x00\\x02\\x00\\x10\\x08\\x00\\x00\\x04\\x00\\x10@\\x00\\x10\\x00\\x00\\x04\\x08\\x00\\x00\\x08 0\\x00R\\x80\\x80\\x00 \\x00\\x00\\x00\\x04\\x08\\x80\\x00\\x18\\x00\\x00\\x10\\x00@\\x04\\x00@@\\x00\\x00@\\x00\\x00T\\x00\\x00\\x00\\x00\\x00\\x90\\x00\\x02\\x00\\x08\\x00\\x04\\x02\\x04\\x00\\x00\\x04 \\x00\\x00\\x00%\\x00H\\x00\\x01\\x00\\x10A`\\x00\\x80\\x00\\x00\\x00\\x02\\x00\\x00\\x00\\x00\\x00\\x04\\x0c\\x00\\x00\\x00\\x00\\x00\\x00\\x00\\x80\\x00\\x00\\x10@\\x00\\x00\\x00 \\x00\\x00\\x00\\x00\\x00D\\x00@\\x08\\x08\\x00@',\n",
       " 'status': 1,\n",
       " 'stepPrice': 12500000000,\n",
       " 'stepUsed': 1485860,\n",
       " 'to': 'cx65c5a618e702d3cdf61d06eefc18a09051223445',\n",
       " 'txHash': '0xf22bd75f9ae3db6ba953580308afe34c14330c77761afbce3805b572ce2163a0',\n",
       " 'txIndex': 1}"
      ]
     },
     "execution_count": 39,
     "metadata": {},
     "output_type": "execute_result"
    }
   ],
   "source": [
    "res = send_tx(deployer_wallet, contract_addresses['loans'], \"depositAndBorrow\", {'_asset': 'bnUSD', '_amount': 100 * 10 **18}, 500 * 10 **18)\n",
    "check_tx_result(res)"
   ]
  },
  {
   "cell_type": "markdown",
   "metadata": {},
   "source": [
    "## Using DEX for swap"
   ]
  },
  {
   "cell_type": "code",
   "execution_count": 24,
   "metadata": {},
   "outputs": [
    {
     "name": "stdout",
     "output_type": "stream",
     "text": [
      "Retrying in 1 seconds...\n",
      "Retrying in 2 seconds...\n",
      "Tx Failed, Message: UnknownFailure\n"
     ]
    }
   ],
   "source": [
    "import json\n",
    "def swap(from_token, to_token, amount):\n",
    "    data2 = json.dumps({\"method\": \"_swap\", \"params\": {\"toToken\":str(to_token)}})\n",
    "    params = {'_to': contract_addresses['dex'], '_value': amount, '_data': data2.encode()}\n",
    "    transaction = CallTransactionBuilder()\\\n",
    "        .from_(deployer_wallet.get_address())\\\n",
    "        .to(from_token)\\\n",
    "        .step_limit(10000000)\\\n",
    "        .value(0)\\\n",
    "        .nid(NID)\\\n",
    "        .nonce(100)\\\n",
    "        .method(\"transfer\")\\\n",
    "        .params(params)\\\n",
    "        .build()\n",
    "    signed_transaction = SignedTransaction(transaction, deployer_wallet)\n",
    "    tx_hash = icon_service.send_transaction(signed_transaction)\n",
    "    return get_tx_result(tx_hash)\n",
    "# res = swap(contract_addresses['bnUSD'], contract_addresses['sicx'],50*10**18)\n",
    "\n",
    "# check_tx_result(res)\n",
    "\n",
    "# res = swap(contract_addresses['sicx'], contract_addresses['bnUSD'],15*10**18)\n",
    "# check_tx_result(res)\n",
    "\n",
    "# res = swap(data['bnUSD'], usds_score,50*10**18)\n",
    "# check_tx_result(res)\n",
    "\n",
    "# res = swap(data['bnUSD'], data['sicx'],50*10**18)\n",
    "# check_tx_result(res)\n",
    "\n",
    "# res = swap(data['sicx'], omm_score,10*10**18)\n",
    "# check_tx_result(res)\n",
    "\n",
    "# res = swap(omm_score, data['sicx'],5*10**18)\n",
    "# check_tx_result(res)\n"
   ]
  },
  {
   "cell_type": "code",
   "execution_count": null,
   "metadata": {},
   "outputs": [],
   "source": []
  }
 ],
 "metadata": {
  "kernelspec": {
   "display_name": "Python 3",
   "language": "python",
   "name": "python3"
  },
  "language_info": {
   "codemirror_mode": {
    "name": "ipython",
    "version": 3
   },
   "file_extension": ".py",
   "mimetype": "text/x-python",
   "name": "python",
   "nbconvert_exporter": "python",
   "pygments_lexer": "ipython3",
   "version": "3.7.6"
  }
 },
 "nbformat": 4,
 "nbformat_minor": 5
}
