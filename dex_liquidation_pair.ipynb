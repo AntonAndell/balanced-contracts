{
 "cells": [
  {
   "cell_type": "code",
   "execution_count": 1,
   "metadata": {},
   "outputs": [],
   "source": [
    "# Cell 0\n",
    "\n",
    "network = \"yeouido\"  # set this to one of mainnet, yeouido, euljiro, pagoda, or custom\n",
    "\n",
    "connections = {\n",
    "\"mainnet\": {\"iconservice\": \"https://ctz.solidwallet.io\",       \"nid\": 1},\n",
    "\"yeouido\": {\"iconservice\": \"https://bicon.net.solidwallet.io\", \"nid\": 3},\n",
    "\"euljiro\": {\"iconservice\": \"https://test-ctz.solidwallet.io\",  \"nid\": 2},\n",
    "\"pagoda\":  {\"iconservice\": \"https://zicon.net.solidwallet.io\", \"nid\":80},\n",
    "\"custom\":  {\"iconservice\": \"http://18.144.108.38:9000\",        \"nid\": 3}}\n",
    "\n",
    "env = connections[network]"
   ]
  },
  {
   "cell_type": "code",
   "execution_count": 2,
   "metadata": {},
   "outputs": [],
   "source": [
    "# Cell 1\n",
    "\n",
    "from iconsdk.exception import JSONRPCException\n",
    "from iconsdk.libs.in_memory_zip import gen_deploy_data_content\n",
    "from iconsdk.icon_service import IconService\n",
    "from iconsdk.providers.http_provider import HTTPProvider\n",
    "from iconsdk.builder.transaction_builder import CallTransactionBuilder, TransactionBuilder, DeployTransactionBuilder\n",
    "from iconsdk.builder.call_builder import CallBuilder\n",
    "from iconsdk.signed_transaction import SignedTransaction\n",
    "from iconsdk.wallet.wallet import KeyWallet\n",
    "from iconsdk.utils.convert_type import convert_hex_str_to_int\n",
    "from repeater import retry\n",
    "from shutil import make_archive\n",
    "import pickle as pkl\n",
    "from datetime import datetime\n",
    "from time import sleep\n",
    "import json\n",
    "import os\n",
    "\n",
    "ICX = 1000000000000000000 # 10**18\n",
    "GOVERNANCE_ADDRESS = \"cx0000000000000000000000000000000000000000\"\n",
    "ORACLE = \"cx61a36e5d10412e03c907a507d1e8c6c3856d9964\"\n",
    "\n",
    "@retry(JSONRPCException, tries=10, delay=1, back_off=2)\n",
    "def get_tx_result(_tx_hash):\n",
    "    tx_result = icon_service.get_transaction_result(_tx_hash)\n",
    "    return tx_result"
   ]
  },
  {
   "cell_type": "code",
   "execution_count": 3,
   "metadata": {},
   "outputs": [],
   "source": [
    "# Cell 2\n",
    "\n",
    "icon_service = IconService(HTTPProvider(env[\"iconservice\"], 3))\n",
    "NID = env[\"nid\"]"
   ]
  },
  {
   "cell_type": "code",
   "execution_count": 4,
   "metadata": {},
   "outputs": [
    {
     "name": "stdout",
     "output_type": "stream",
     "text": [
      "6988.364734788393\n",
      "1010.6458838\n"
     ]
    }
   ],
   "source": [
    "# Cell 3\n",
    "\n",
    "wallet = KeyWallet.load(\"keystores/keystore_test1.json\", \"test1_Account\")\n",
    "# Balanced test wallet\n",
    "with open(\"keystores/balanced_test.pwd\", \"r\") as f:\n",
    "    key_data = f.read()\n",
    "btest_wallet = KeyWallet.load(\"keystores/balanced_test.json\", key_data)\n",
    "print(icon_service.get_balance(wallet.get_address())/10**18)\n",
    "print(icon_service.get_balance(btest_wallet.get_address())/10**18)"
   ]
  },
  {
   "cell_type": "code",
   "execution_count": 5,
   "metadata": {},
   "outputs": [
    {
     "name": "stdout",
     "output_type": "stream",
     "text": [
      "hxe7af5fcfd8dfc67530a01a0e403882687528dfcb\n",
      "6988.364734788393\n"
     ]
    }
   ],
   "source": [
    "print(wallet.get_address())\n",
    "print(icon_service.get_balance(wallet.get_address()) / 10**18)"
   ]
  },
  {
   "cell_type": "code",
   "execution_count": 6,
   "metadata": {},
   "outputs": [
    {
     "name": "stdout",
     "output_type": "stream",
     "text": [
      "hx3f01840a599da07b0f620eeae7aa9c574169a4be\n",
      "1010.6458838\n"
     ]
    }
   ],
   "source": [
    "print(btest_wallet.get_address())\n",
    "print(icon_service.get_balance(btest_wallet.get_address()) / 10**18)"
   ]
  },
  {
   "cell_type": "code",
   "execution_count": 7,
   "metadata": {},
   "outputs": [
    {
     "name": "stdout",
     "output_type": "stream",
     "text": [
      "2236.3532934\n",
      "hxe62d11fa19a0e8575ad92f06bc8fd42edbfe27db\n",
      "2390.4148214\n",
      "hx7a1824129a8fe803e45a3aae1c0e060399546187\n"
     ]
    }
   ],
   "source": [
    "user1 = KeyWallet.load(\"keystores/user1.json\",\"HelloWorld@1234\")\n",
    "# btest_wallet = KeyWallet.load(\"./balanced_test.json\",\"HelloWorld@1234\")\n",
    "\n",
    "print(icon_service.get_balance(user1.get_address())/10**18)\n",
    "print(user1.get_address())\n",
    "\n",
    "# test2 = hx7a1824129a8fe803e45a3aae1c0e060399546187\n",
    "private = \"0a354424b20a7e3c55c43808d607bddfac85d033e63d7d093cb9f0a26c4ee022\"\n",
    "user2 = KeyWallet.load(bytes.fromhex(private))\n",
    "print(icon_service.get_balance(user2.get_address())/10**18)\n",
    "print(user2.get_address())"
   ]
  },
  {
   "cell_type": "code",
   "execution_count": 28,
   "metadata": {},
   "outputs": [],
   "source": [
    "# Cell 5\n",
    "# The following addresses are those deployed to the testnet.\n",
    "\n",
    "contracts = {'loans': {'zip': 'core_contracts/loans.zip',\n",
    "  'SCORE': 'cx2594f06f668fa84804d94c1e5d4b378bfcf23b42'},\n",
    " 'staking': {'zip': 'core_contracts/staking.zip',\n",
    "  'SCORE': 'cx00093ced37e5c42b995c4df95fa0ce32290c9a36'},\n",
    " 'dividends': {'zip': 'core_contracts/dividends.zip',\n",
    "  'SCORE': 'cx39779100a6556ab3d161dfc95dab3839ac632c9a'},\n",
    " 'reserve': {'zip': 'core_contracts/reserve.zip',\n",
    "  'SCORE': 'cx6dd23ec8b6dc6f6c3dec784e200c097f842b8716'},\n",
    " 'daofund': {'zip': 'core_contracts/daofund.zip',\n",
    "  'SCORE': 'cxaa4593a3d37c12fe29bc7a9507b0a30593e66f65'},\n",
    " 'rewards': {'zip': 'core_contracts/rewards.zip',\n",
    "  'SCORE': 'cxdd1516deed20d0dca0b7ef8c19d2273c48406e86'},\n",
    " 'dex': {'zip': 'core_contracts/dex.zip',\n",
    "  'SCORE': 'cx774ddaf4e885782b56c2ddb1df8d8ce3f9ade09e'},\n",
    " 'governance': {'zip': 'core_contracts/governance.zip',\n",
    "  'SCORE': 'cx637d21599c04a4c93b390c7f9efb9e7c3a7fcfbb'},\n",
    " 'oracle': {'zip': 'core_contracts/oracle.zip',\n",
    "  'SCORE': 'cx61a36e5d10412e03c907a507d1e8c6c3856d9964'},\n",
    " 'sicx': {'zip': 'token_contracts/sicx.zip',\n",
    "  'SCORE': 'cx2e94568da72a0e4caf58d2baa1366476f05955ef'},\n",
    " 'bnUSD': {'zip': 'token_contracts/bnUSD.zip',\n",
    "  'SCORE': 'cx04afcd84c96ee03b30f6f88a60b2a1dee76c63fd'},\n",
    " 'bnXLM': {'zip': 'token_contracts/bnXLM.zip',\n",
    "  'SCORE': 'cx53098409b75594a73fb99badff2b34050a3090b6'},\n",
    " 'bnDOGE': {'zip': 'token_contracts/bnDOGE.zip',\n",
    "  'SCORE': 'cx82c8014c8eed1db391109fee2dd0ba11998cd3d2'},\n",
    " 'baln': {'zip': 'token_contracts/baln.zip',\n",
    "  'SCORE': 'cx66e56c4ed8a0e7da280867707dcd1ba9322d8c60'},\n",
    " 'bwt': {'zip': 'token_contracts/bwt.zip',\n",
    "  'SCORE': 'cx31bd70011e8ce26cb397ec017a339aabc7e7d049'}}"
   ]
  },
  {
   "cell_type": "code",
   "execution_count": 8,
   "metadata": {},
   "outputs": [],
   "source": [
    "contracts = {'loans': {'zip': 'core_contracts/loans.zip', 'SCORE': 'cx936c3891a9fb3994017a5aec4bc177c3785f7cd1'}, 'staking': {'zip': 'core_contracts/staking.zip', 'SCORE': 'cxc586330cf2842983288789d4ee0907a1e211b1ab'}, 'dividends': {'zip': 'core_contracts/dividends.zip', 'SCORE': 'cx47200a38c304b595af42a16da1072a9c147e2584'}, 'reserve': {'zip': 'core_contracts/reserve.zip', 'SCORE': 'cxb2c91e1601f6f05fa080efda0aa53d948faef2c1'}, 'daofund': {'zip': 'core_contracts/daofund.zip', 'SCORE': 'cxa8472266ad01627af8395967e820c8aee58c4beb'}, 'rewards': {'zip': 'core_contracts/rewards.zip', 'SCORE': 'cx4a29d6d15acb6e4a1c6ad38c0742dd8fc9cc7286'}, 'dex': {'zip': 'core_contracts/dex.zip', 'SCORE': 'cx8b27346ec42e4f49ef18731d7f0d393876b0ceb7'}, 'governance': {'zip': 'core_contracts/governance.zip', 'SCORE': 'cx7f1d0edd9382fe80ddde3a80d6bc98808e0ae366'}, 'oracle': {'zip': 'core_contracts/oracle.zip', 'SCORE': 'cx61a36e5d10412e03c907a507d1e8c6c3856d9964'}, 'sicx': {'zip': 'token_contracts/sicx.zip', 'SCORE': 'cx2a64879449803a6a0c83828cbb8a45ee1674fa82'}, 'bnUSD': {'zip': 'token_contracts/bnUSD.zip', 'SCORE': 'cx384e06e3fe37ad7933d8bad35fd8835c643c17fd'}, 'bnXLM': {'zip': 'token_contracts/bnXLM.zip', 'SCORE': 'cxc9db156d46cb778692064752511a6a3b1c467557'}, 'bnDOGE': {'zip': 'token_contracts/bnDOGE.zip', 'SCORE': 'cx6a140794f90a3e02fa8bf6c3fe3084da2caa7ff8'}, 'baln': {'zip': 'token_contracts/baln.zip', 'SCORE': 'cxc2ab1a0fc9c4eb72530f6dacb74bf5cfc93b3022'}, 'bwt': {'zip': 'token_contracts/bwt.zip', 'SCORE': 'cxebab2e03164b95dedb1c0a0bf18bc581986fcac3'}}"
   ]
  },
  {
   "cell_type": "code",
   "execution_count": 9,
   "metadata": {},
   "outputs": [],
   "source": [
    "# Cell 6\n",
    "# Define deploy and send_tx functions\n",
    "\n",
    "def compress():\n",
    "    \"\"\"\n",
    "    Compress all SCORE folders in the core_contracts and toekn_contracts folders\n",
    "    \"\"\"\n",
    "    deploy = list(contracts.keys())[:]\n",
    "    for directory in {\"core_contracts\", \"token_contracts\"}:\n",
    "        with os.scandir(directory) as it:\n",
    "            for file in it:\n",
    "                archive_name = directory + \"/\" + file.name\n",
    "                if file.is_dir() and file.name in deploy:\n",
    "                    make_archive(archive_name, \"zip\", directory, file.name)\n",
    "                    contracts[file.name]['zip'] = archive_name + '.zip'\n",
    "\n",
    "def deploy_SCORE(contract, params, wallet, update) -> str:\n",
    "    \"\"\"\n",
    "    contract is of form {'zip': 'core_contracts/governance.zip', 'SCORE': 'cx1d81f93b3b8d8d2a6455681c46128868782ddd09'}\n",
    "    params is a dicts\n",
    "    wallet is a wallet file\n",
    "    update is boolian\n",
    "    \"\"\"\n",
    "    print(f'{contract[\"zip\"]}')\n",
    "    if update:\n",
    "        dest = contract['SCORE']\n",
    "    else:\n",
    "        dest = GOVERNANCE_ADDRESS\n",
    "    zip_file = contract['zip']\n",
    "    step_limit = 4000100000\n",
    "    deploy_transaction = DeployTransactionBuilder()\\\n",
    "        .from_(wallet.get_address())\\\n",
    "        .to(dest)\\\n",
    "        .nid(NID)\\\n",
    "        .nonce(100)\\\n",
    "        .content_type(\"application/zip\")\\\n",
    "        .content(gen_deploy_data_content(zip_file))\\\n",
    "        .params(params)\\\n",
    "        .build()\n",
    "\n",
    "    signed_transaction = SignedTransaction(deploy_transaction, wallet, step_limit)\n",
    "    tx_hash = icon_service.send_transaction(signed_transaction)\n",
    "\n",
    "    res = get_tx_result(tx_hash)\n",
    "    print(f'Status: {res[\"status\"]}')\n",
    "    if len(res[\"eventLogs\"]) > 0:\n",
    "        for item in res[\"eventLogs\"]:\n",
    "            print(f'{item} \\n')\n",
    "    if res['status'] == 0:\n",
    "        print(f'Failure: {res[\"failure\"]}')\n",
    "    print('')\n",
    "    return res.get('scoreAddress', '')\n",
    "\n",
    "def send_tx(dest, value, method, params, wallet):\n",
    "    \"\"\"\n",
    "    dest is the name of the destination contract.\n",
    "    \"\"\"\n",
    "    print('------------------------------------------------------------------------------------------------------------------')\n",
    "    print(f'Calling {method}, with parameters {params} on the {dest} contract.')\n",
    "    print('------------------------------------------------------------------------------------------------------------------')\n",
    "    transaction = CallTransactionBuilder()\\\n",
    "        .from_(wallet.get_address())\\\n",
    "        .to(contracts[dest]['SCORE'])\\\n",
    "        .value(value)\\\n",
    "        .step_limit(10000000)\\\n",
    "        .nid(NID)\\\n",
    "        .nonce(100)\\\n",
    "        .method(method)\\\n",
    "        .params(params)\\\n",
    "        .build()\n",
    "    signed_transaction = SignedTransaction(transaction, wallet)\n",
    "    tx_hash = icon_service.send_transaction(signed_transaction)\n",
    "\n",
    "    res = get_tx_result(tx_hash)\n",
    "    print(f'************************************************** Status: {res[\"status\"]} **************************************************')\n",
    "    if len(res[\"eventLogs\"]) > 0:\n",
    "        for item in res[\"eventLogs\"]:\n",
    "            print(f'{item} \\n')\n",
    "    if res['status'] == 0:\n",
    "        print(f'Failure: {res[\"failure\"]}')\n",
    "    return res\n",
    "\n",
    "def deploy_all(wallet):\n",
    "    \"\"\"\n",
    "    Compress, Deploy and Configure all SCOREs\n",
    "    \"\"\"\n",
    "    compress()\n",
    "\n",
    "    deploy = list(contracts.keys())[:]\n",
    "    deploy.remove('oracle')\n",
    "    deploy.remove('staking')\n",
    "    deploy.remove('sicx')\n",
    "    deploy.remove('governance')\n",
    "\n",
    "    governance = deploy_SCORE(contracts['governance'], {}, wallet, 0)\n",
    "    contracts['governance']['SCORE'] = governance\n",
    "    for score in deploy:\n",
    "        contracts[score]['SCORE'] = deploy_SCORE(contracts[score], {'_governance': governance}, wallet, 0)\n",
    "    contracts['staking']['SCORE'] = deploy_SCORE(contracts['staking'], {}, wallet, 0)\n",
    "    contracts['sicx']['SCORE'] = deploy_SCORE(contracts['sicx'], {'_admin': contracts['staking']['SCORE']}, wallet, 0)\n",
    "\n",
    "    config = list(contracts.keys())[:]\n",
    "    config.remove('governance')\n",
    "    config.remove('bnDOGE')\n",
    "    config.remove('bnXLM')\n",
    "    addresses = {contract: contracts[contract]['SCORE'] for contract in config}\n",
    "\n",
    "    txns = [{'contract': 'staking', 'value': 0, 'method': 'setSicxAddress', 'params': {'_address': contracts['sicx']['SCORE']}},\n",
    "            {'contract': 'governance', 'value': 0, 'method': 'setAddresses', 'params': {'_addresses': addresses}},\n",
    "            {'contract': 'governance', 'value': 0, 'method': 'launchBalanced', 'params': {}}]\n",
    "\n",
    "    for tx in txns:\n",
    "        res = send_tx(tx[\"contract\"], tx[\"value\"], tx[\"method\"], tx[\"params\"], wallet)\n",
    "        results[f'{tx[\"contract\"]}|{tx[\"method\"]}|{tx[\"params\"]}'] = res\n",
    "\n",
    "def get_scores_json(contracts):\n",
    "    \"\"\"\n",
    "    Prints out dictionary of SCORE addresses for use in testing UI.\n",
    "    \"\"\"\n",
    "    scores = {}\n",
    "    for score in contracts:\n",
    "        scores[score] = contracts[score]['SCORE']\n",
    "    return json.dumps(scores)\n",
    "\n",
    "def call_tx(dest: str, method: str, params: dict = {}):\n",
    "    \"\"\"\n",
    "    dest is the name of the destination contract.\n",
    "    \"\"\"\n",
    "    print('------------------------------------------------------------------------------------------------------------------')\n",
    "    print(f'Reading {method}, with parameters {params} on the {dest} contract.')\n",
    "    print('------------------------------------------------------------------------------------------------------------------')\n",
    "    call = CallBuilder()\\\n",
    "        .from_(wallet.get_address())\\\n",
    "        .to(contracts[dest]['SCORE'])\\\n",
    "        .method(method)\\\n",
    "        .params(params)\\\n",
    "        .build()\n",
    "    result = icon_service.call(call)\n",
    "    print(result)\n",
    "    return result\n"
   ]
  },
  {
   "cell_type": "code",
   "execution_count": 11,
   "metadata": {},
   "outputs": [
    {
     "name": "stdout",
     "output_type": "stream",
     "text": [
      "core_contracts/governance.zip\n"
     ]
    },
    {
     "name": "stderr",
     "output_type": "stream",
     "text": [
      "Raised JSONRPCException while returning the custom response. Error message: {'code': -32602, 'message': 'Pending transaction'}\n"
     ]
    },
    {
     "name": "stdout",
     "output_type": "stream",
     "text": [
      "Retrying in 1 seconds...\n"
     ]
    },
    {
     "name": "stderr",
     "output_type": "stream",
     "text": [
      "Raised JSONRPCException while returning the custom response. Error message: {'code': -32602, 'message': 'Pending transaction'}\n"
     ]
    },
    {
     "name": "stdout",
     "output_type": "stream",
     "text": [
      "Retrying in 2 seconds...\n",
      "Status: 1\n",
      "\n",
      "core_contracts/loans.zip\n"
     ]
    },
    {
     "name": "stderr",
     "output_type": "stream",
     "text": [
      "Raised JSONRPCException while returning the custom response. Error message: {'code': -32602, 'message': 'Pending transaction'}\n"
     ]
    },
    {
     "name": "stdout",
     "output_type": "stream",
     "text": [
      "Retrying in 1 seconds...\n"
     ]
    },
    {
     "name": "stderr",
     "output_type": "stream",
     "text": [
      "Raised JSONRPCException while returning the custom response. Error message: {'code': -32602, 'message': 'Pending transaction'}\n"
     ]
    },
    {
     "name": "stdout",
     "output_type": "stream",
     "text": [
      "Retrying in 2 seconds...\n",
      "Status: 1\n",
      "\n",
      "core_contracts/dividends.zip\n"
     ]
    },
    {
     "name": "stderr",
     "output_type": "stream",
     "text": [
      "Raised JSONRPCException while returning the custom response. Error message: {'code': -32602, 'message': 'Pending transaction'}\n"
     ]
    },
    {
     "name": "stdout",
     "output_type": "stream",
     "text": [
      "Retrying in 1 seconds...\n"
     ]
    },
    {
     "name": "stderr",
     "output_type": "stream",
     "text": [
      "Raised JSONRPCException while returning the custom response. Error message: {'code': -32602, 'message': 'Pending transaction'}\n"
     ]
    },
    {
     "name": "stdout",
     "output_type": "stream",
     "text": [
      "Retrying in 2 seconds...\n",
      "Status: 1\n",
      "\n",
      "core_contracts/reserve.zip\n"
     ]
    },
    {
     "name": "stderr",
     "output_type": "stream",
     "text": [
      "Raised JSONRPCException while returning the custom response. Error message: {'code': -32602, 'message': 'Pending transaction'}\n"
     ]
    },
    {
     "name": "stdout",
     "output_type": "stream",
     "text": [
      "Retrying in 1 seconds...\n"
     ]
    },
    {
     "name": "stderr",
     "output_type": "stream",
     "text": [
      "Raised JSONRPCException while returning the custom response. Error message: {'code': -32602, 'message': 'Pending transaction'}\n"
     ]
    },
    {
     "name": "stdout",
     "output_type": "stream",
     "text": [
      "Retrying in 2 seconds...\n",
      "Status: 1\n",
      "\n",
      "core_contracts/daofund.zip\n"
     ]
    },
    {
     "name": "stderr",
     "output_type": "stream",
     "text": [
      "Raised JSONRPCException while returning the custom response. Error message: {'code': -32602, 'message': 'Pending transaction'}\n"
     ]
    },
    {
     "name": "stdout",
     "output_type": "stream",
     "text": [
      "Retrying in 1 seconds...\n"
     ]
    },
    {
     "name": "stderr",
     "output_type": "stream",
     "text": [
      "Raised JSONRPCException while returning the custom response. Error message: {'code': -32602, 'message': 'Pending transaction'}\n"
     ]
    },
    {
     "name": "stdout",
     "output_type": "stream",
     "text": [
      "Retrying in 2 seconds...\n",
      "Status: 1\n",
      "\n",
      "core_contracts/rewards.zip\n"
     ]
    },
    {
     "name": "stderr",
     "output_type": "stream",
     "text": [
      "Raised JSONRPCException while returning the custom response. Error message: {'code': -32602, 'message': 'Pending transaction'}\n"
     ]
    },
    {
     "name": "stdout",
     "output_type": "stream",
     "text": [
      "Retrying in 1 seconds...\n"
     ]
    },
    {
     "name": "stderr",
     "output_type": "stream",
     "text": [
      "Raised JSONRPCException while returning the custom response. Error message: {'code': -32602, 'message': 'Pending transaction'}\n"
     ]
    },
    {
     "name": "stdout",
     "output_type": "stream",
     "text": [
      "Retrying in 2 seconds...\n",
      "Status: 1\n",
      "\n",
      "core_contracts/dex.zip\n"
     ]
    },
    {
     "name": "stderr",
     "output_type": "stream",
     "text": [
      "Raised JSONRPCException while returning the custom response. Error message: {'code': -32602, 'message': 'Pending transaction'}\n"
     ]
    },
    {
     "name": "stdout",
     "output_type": "stream",
     "text": [
      "Retrying in 1 seconds...\n"
     ]
    },
    {
     "name": "stderr",
     "output_type": "stream",
     "text": [
      "Raised JSONRPCException while returning the custom response. Error message: {'code': -32602, 'message': 'Pending transaction'}\n"
     ]
    },
    {
     "name": "stdout",
     "output_type": "stream",
     "text": [
      "Retrying in 2 seconds...\n",
      "Status: 1\n",
      "\n",
      "token_contracts/bnUSD.zip\n"
     ]
    },
    {
     "name": "stderr",
     "output_type": "stream",
     "text": [
      "Raised JSONRPCException while returning the custom response. Error message: {'code': -32602, 'message': 'Pending transaction'}\n"
     ]
    },
    {
     "name": "stdout",
     "output_type": "stream",
     "text": [
      "Retrying in 1 seconds...\n"
     ]
    },
    {
     "name": "stderr",
     "output_type": "stream",
     "text": [
      "Raised JSONRPCException while returning the custom response. Error message: {'code': -32602, 'message': 'Pending transaction'}\n"
     ]
    },
    {
     "name": "stdout",
     "output_type": "stream",
     "text": [
      "Retrying in 2 seconds...\n",
      "Status: 1\n",
      "\n",
      "token_contracts/bnXLM.zip\n"
     ]
    },
    {
     "name": "stderr",
     "output_type": "stream",
     "text": [
      "Raised JSONRPCException while returning the custom response. Error message: {'code': -32602, 'message': 'Pending transaction'}\n"
     ]
    },
    {
     "name": "stdout",
     "output_type": "stream",
     "text": [
      "Retrying in 1 seconds...\n"
     ]
    },
    {
     "name": "stderr",
     "output_type": "stream",
     "text": [
      "Raised JSONRPCException while returning the custom response. Error message: {'code': -32602, 'message': 'Pending transaction'}\n"
     ]
    },
    {
     "name": "stdout",
     "output_type": "stream",
     "text": [
      "Retrying in 2 seconds...\n",
      "Status: 1\n",
      "\n",
      "token_contracts/bnDOGE.zip\n"
     ]
    },
    {
     "name": "stderr",
     "output_type": "stream",
     "text": [
      "Raised JSONRPCException while returning the custom response. Error message: {'code': -32602, 'message': 'Pending transaction'}\n"
     ]
    },
    {
     "name": "stdout",
     "output_type": "stream",
     "text": [
      "Retrying in 1 seconds...\n"
     ]
    },
    {
     "name": "stderr",
     "output_type": "stream",
     "text": [
      "Raised JSONRPCException while returning the custom response. Error message: {'code': -32602, 'message': 'Pending transaction'}\n"
     ]
    },
    {
     "name": "stdout",
     "output_type": "stream",
     "text": [
      "Retrying in 2 seconds...\n",
      "Status: 1\n",
      "\n",
      "token_contracts/baln.zip\n"
     ]
    },
    {
     "name": "stderr",
     "output_type": "stream",
     "text": [
      "Raised JSONRPCException while returning the custom response. Error message: {'code': -32602, 'message': 'Pending transaction'}\n"
     ]
    },
    {
     "name": "stdout",
     "output_type": "stream",
     "text": [
      "Retrying in 1 seconds...\n",
      "Status: 1\n",
      "\n",
      "token_contracts/bwt.zip\n"
     ]
    },
    {
     "name": "stderr",
     "output_type": "stream",
     "text": [
      "Raised JSONRPCException while returning the custom response. Error message: {'code': -32602, 'message': 'Pending transaction'}\n"
     ]
    },
    {
     "name": "stdout",
     "output_type": "stream",
     "text": [
      "Retrying in 1 seconds...\n"
     ]
    },
    {
     "name": "stderr",
     "output_type": "stream",
     "text": [
      "Raised JSONRPCException while returning the custom response. Error message: {'code': -32602, 'message': 'Pending transaction'}\n"
     ]
    },
    {
     "name": "stdout",
     "output_type": "stream",
     "text": [
      "Retrying in 2 seconds...\n",
      "Status: 1\n",
      "\n",
      "core_contracts/staking.zip\n"
     ]
    },
    {
     "name": "stderr",
     "output_type": "stream",
     "text": [
      "Raised JSONRPCException while returning the custom response. Error message: {'code': -32602, 'message': 'Pending transaction'}\n"
     ]
    },
    {
     "name": "stdout",
     "output_type": "stream",
     "text": [
      "Retrying in 1 seconds...\n"
     ]
    },
    {
     "name": "stderr",
     "output_type": "stream",
     "text": [
      "Raised JSONRPCException while returning the custom response. Error message: {'code': -32602, 'message': 'Pending transaction'}\n"
     ]
    },
    {
     "name": "stdout",
     "output_type": "stream",
     "text": [
      "Retrying in 2 seconds...\n",
      "Status: 1\n",
      "\n",
      "token_contracts/sicx.zip\n"
     ]
    },
    {
     "name": "stderr",
     "output_type": "stream",
     "text": [
      "Raised JSONRPCException while returning the custom response. Error message: {'code': -32602, 'message': 'Pending transaction'}\n"
     ]
    },
    {
     "name": "stdout",
     "output_type": "stream",
     "text": [
      "Retrying in 1 seconds...\n"
     ]
    },
    {
     "name": "stderr",
     "output_type": "stream",
     "text": [
      "Raised JSONRPCException while returning the custom response. Error message: {'code': -32602, 'message': 'Pending transaction'}\n"
     ]
    },
    {
     "name": "stdout",
     "output_type": "stream",
     "text": [
      "Retrying in 2 seconds...\n",
      "Status: 1\n",
      "\n",
      "------------------------------------------------------------------------------------------------------------------\n",
      "Calling setSicxAddress, with parameters {'_address': 'cx2a64879449803a6a0c83828cbb8a45ee1674fa82'} on the staking contract.\n",
      "------------------------------------------------------------------------------------------------------------------\n"
     ]
    },
    {
     "name": "stderr",
     "output_type": "stream",
     "text": [
      "Raised JSONRPCException while returning the custom response. Error message: {'code': -32602, 'message': 'Pending transaction'}\n"
     ]
    },
    {
     "name": "stdout",
     "output_type": "stream",
     "text": [
      "Retrying in 1 seconds...\n"
     ]
    },
    {
     "name": "stderr",
     "output_type": "stream",
     "text": [
      "Raised JSONRPCException while returning the custom response. Error message: {'code': -32602, 'message': 'Pending transaction'}\n"
     ]
    },
    {
     "name": "stdout",
     "output_type": "stream",
     "text": [
      "Retrying in 2 seconds...\n",
      "************************************************** Status: 1 **************************************************\n",
      "------------------------------------------------------------------------------------------------------------------\n",
      "Calling setAddresses, with parameters {'_addresses': {'loans': 'cx936c3891a9fb3994017a5aec4bc177c3785f7cd1', 'staking': 'cxc586330cf2842983288789d4ee0907a1e211b1ab', 'dividends': 'cx47200a38c304b595af42a16da1072a9c147e2584', 'reserve': 'cxb2c91e1601f6f05fa080efda0aa53d948faef2c1', 'daofund': 'cxa8472266ad01627af8395967e820c8aee58c4beb', 'rewards': 'cx4a29d6d15acb6e4a1c6ad38c0742dd8fc9cc7286', 'dex': 'cx8b27346ec42e4f49ef18731d7f0d393876b0ceb7', 'oracle': 'cx61a36e5d10412e03c907a507d1e8c6c3856d9964', 'sicx': 'cx2a64879449803a6a0c83828cbb8a45ee1674fa82', 'bnUSD': 'cx384e06e3fe37ad7933d8bad35fd8835c643c17fd', 'baln': 'cxc2ab1a0fc9c4eb72530f6dacb74bf5cfc93b3022', 'bwt': 'cxebab2e03164b95dedb1c0a0bf18bc581986fcac3'}} on the governance contract.\n",
      "------------------------------------------------------------------------------------------------------------------\n"
     ]
    },
    {
     "name": "stderr",
     "output_type": "stream",
     "text": [
      "Raised JSONRPCException while returning the custom response. Error message: {'code': -32602, 'message': 'Pending transaction'}\n"
     ]
    },
    {
     "name": "stdout",
     "output_type": "stream",
     "text": [
      "Retrying in 1 seconds...\n"
     ]
    },
    {
     "name": "stderr",
     "output_type": "stream",
     "text": [
      "Raised JSONRPCException while returning the custom response. Error message: {'code': -32602, 'message': 'Pending transaction'}\n"
     ]
    },
    {
     "name": "stdout",
     "output_type": "stream",
     "text": [
      "Retrying in 2 seconds...\n",
      "************************************************** Status: 1 **************************************************\n",
      "------------------------------------------------------------------------------------------------------------------\n",
      "Calling launchBalanced, with parameters {} on the governance contract.\n",
      "------------------------------------------------------------------------------------------------------------------\n"
     ]
    },
    {
     "name": "stderr",
     "output_type": "stream",
     "text": [
      "Raised JSONRPCException while returning the custom response. Error message: {'code': -32602, 'message': 'Pending transaction'}\n"
     ]
    },
    {
     "name": "stdout",
     "output_type": "stream",
     "text": [
      "Retrying in 1 seconds...\n"
     ]
    },
    {
     "name": "stderr",
     "output_type": "stream",
     "text": [
      "Raised JSONRPCException while returning the custom response. Error message: {'code': -32602, 'message': 'Pending transaction'}\n"
     ]
    },
    {
     "name": "stdout",
     "output_type": "stream",
     "text": [
      "Retrying in 2 seconds...\n",
      "************************************************** Status: 1 **************************************************\n",
      "{'scoreAddress': 'cx936c3891a9fb3994017a5aec4bc177c3785f7cd1', 'indexed': ['AssetAdded(Address,str,bool)', 'cx2a64879449803a6a0c83828cbb8a45ee1674fa82', 'sICX', '0x1'], 'data': []} \n",
      "\n",
      "{'scoreAddress': 'cx936c3891a9fb3994017a5aec4bc177c3785f7cd1', 'indexed': ['AssetAdded(Address,str,bool)', 'cx384e06e3fe37ad7933d8bad35fd8835c643c17fd', 'bnUSD', '0x0'], 'data': []} \n",
      "\n",
      "{'scoreAddress': 'cx936c3891a9fb3994017a5aec4bc177c3785f7cd1', 'indexed': ['AssetAdded(Address,str,bool)', 'cxc2ab1a0fc9c4eb72530f6dacb74bf5cfc93b3022', 'BALN', '0x1'], 'data': []} \n",
      "\n",
      "{'scoreAddress': 'cx936c3891a9fb3994017a5aec4bc177c3785f7cd1', 'indexed': ['ContractActive(str,str)', 'Loans'], 'data': ['Active']} \n",
      "\n",
      "------------------------------------------------------------------------------------------------------------------\n",
      "{'loans': {'zip': 'core_contracts/loans.zip', 'SCORE': 'cx936c3891a9fb3994017a5aec4bc177c3785f7cd1'}, 'staking': {'zip': 'core_contracts/staking.zip', 'SCORE': 'cxc586330cf2842983288789d4ee0907a1e211b1ab'}, 'dividends': {'zip': 'core_contracts/dividends.zip', 'SCORE': 'cx47200a38c304b595af42a16da1072a9c147e2584'}, 'reserve': {'zip': 'core_contracts/reserve.zip', 'SCORE': 'cxb2c91e1601f6f05fa080efda0aa53d948faef2c1'}, 'daofund': {'zip': 'core_contracts/daofund.zip', 'SCORE': 'cxa8472266ad01627af8395967e820c8aee58c4beb'}, 'rewards': {'zip': 'core_contracts/rewards.zip', 'SCORE': 'cx4a29d6d15acb6e4a1c6ad38c0742dd8fc9cc7286'}, 'dex': {'zip': 'core_contracts/dex.zip', 'SCORE': 'cx8b27346ec42e4f49ef18731d7f0d393876b0ceb7'}, 'governance': {'zip': 'core_contracts/governance.zip', 'SCORE': 'cx7f1d0edd9382fe80ddde3a80d6bc98808e0ae366'}, 'oracle': {'zip': 'core_contracts/oracle.zip', 'SCORE': 'cx61a36e5d10412e03c907a507d1e8c6c3856d9964'}, 'sicx': {'zip': 'token_contracts/sicx.zip', 'SCORE': 'cx2a64879449803a6a0c83828cbb8a45ee1674fa82'}, 'bnUSD': {'zip': 'token_contracts/bnUSD.zip', 'SCORE': 'cx384e06e3fe37ad7933d8bad35fd8835c643c17fd'}, 'bnXLM': {'zip': 'token_contracts/bnXLM.zip', 'SCORE': 'cxc9db156d46cb778692064752511a6a3b1c467557'}, 'bnDOGE': {'zip': 'token_contracts/bnDOGE.zip', 'SCORE': 'cx6a140794f90a3e02fa8bf6c3fe3084da2caa7ff8'}, 'baln': {'zip': 'token_contracts/baln.zip', 'SCORE': 'cxc2ab1a0fc9c4eb72530f6dacb74bf5cfc93b3022'}, 'bwt': {'zip': 'token_contracts/bwt.zip', 'SCORE': 'cxebab2e03164b95dedb1c0a0bf18bc581986fcac3'}}\n",
      "----------Contracts for Testing UI--------------------------------------------------------------------------------\n",
      "{\"loans\": \"cx936c3891a9fb3994017a5aec4bc177c3785f7cd1\", \"staking\": \"cxc586330cf2842983288789d4ee0907a1e211b1ab\", \"dividends\": \"cx47200a38c304b595af42a16da1072a9c147e2584\", \"reserve\": \"cxb2c91e1601f6f05fa080efda0aa53d948faef2c1\", \"daofund\": \"cxa8472266ad01627af8395967e820c8aee58c4beb\", \"rewards\": \"cx4a29d6d15acb6e4a1c6ad38c0742dd8fc9cc7286\", \"dex\": \"cx8b27346ec42e4f49ef18731d7f0d393876b0ceb7\", \"governance\": \"cx7f1d0edd9382fe80ddde3a80d6bc98808e0ae366\", \"oracle\": \"cx61a36e5d10412e03c907a507d1e8c6c3856d9964\", \"sicx\": \"cx2a64879449803a6a0c83828cbb8a45ee1674fa82\", \"bnUSD\": \"cx384e06e3fe37ad7933d8bad35fd8835c643c17fd\", \"bnXLM\": \"cxc9db156d46cb778692064752511a6a3b1c467557\", \"bnDOGE\": \"cx6a140794f90a3e02fa8bf6c3fe3084da2caa7ff8\", \"baln\": \"cxc2ab1a0fc9c4eb72530f6dacb74bf5cfc93b3022\", \"bwt\": \"cxebab2e03164b95dedb1c0a0bf18bc581986fcac3\"}\n"
     ]
    }
   ],
   "source": [
    "# Cell 7\n",
    "# Deploy and configure Balanced. Print results if anything goes wrong.\n",
    "\n",
    "results = {}\n",
    "deploy_all(btest_wallet)\n",
    "print('------------------------------------------------------------------------------------------------------------------')\n",
    "print(contracts)\n",
    "print('----------Contracts for Testing UI--------------------------------------------------------------------------------')\n",
    "print(get_scores_json(contracts))"
   ]
  },
  {
   "cell_type": "code",
   "execution_count": 226,
   "metadata": {},
   "outputs": [
    {
     "name": "stdout",
     "output_type": "stream",
     "text": [
      "core_contracts/rewards.zip\n"
     ]
    },
    {
     "name": "stderr",
     "output_type": "stream",
     "text": [
      "Raised JSONRPCException while returning the custom response. Error message: {'code': -32602, 'message': 'Pending transaction'}\n"
     ]
    },
    {
     "name": "stdout",
     "output_type": "stream",
     "text": [
      "Retrying in 1 seconds...\n",
      "Status: 1\n",
      "\n"
     ]
    },
    {
     "data": {
      "text/plain": [
       "'cx1013402961b972e30107a345f403e6caf2c4eb30'"
      ]
     },
     "execution_count": 226,
     "metadata": {},
     "output_type": "execute_result"
    }
   ],
   "source": [
    "# Cell 8\n",
    "# Deploy or Update a single SCORE\n",
    "\n",
    "compress()\n",
    "update = 1\n",
    "contract = contracts['rewards']\n",
    "params = {}\n",
    "# params = {'_governance': contracts['governance']['SCORE']}\n",
    "deploy_SCORE(contract, params, btest_wallet, update)\n"
   ]
  },
  {
   "cell_type": "code",
   "execution_count": 10,
   "metadata": {},
   "outputs": [
    {
     "name": "stdout",
     "output_type": "stream",
     "text": [
      "{'Worker Tokens': '0x2c68af0bb140000', 'Reserve Fund': '0xb1a2bc2ec50000', 'DAOfund': '0x31f5c4ed2768000', 'Loans': '0x3782dace9d90000', 'SICXICX': '0x16345785d8a0000', 'SICXbnUSD': '0x26db992a3b18000', 'OMMSICX': '0x0', 'OMMUSDB': '0x0', 'OMMIUSDC': '0x0'}\n"
     ]
    }
   ],
   "source": [
    "# Cell 10\n",
    "\n",
    "call = CallBuilder().from_(wallet.get_address())\\\n",
    "                    .to(contracts['rewards']['SCORE'])\\\n",
    "                    .method('getRecipientsSplit')\\\n",
    "                    .params({}) \\\n",
    "                    .build()\n",
    "result = icon_service.call(call)\n",
    "print(result)"
   ]
  },
  {
   "cell_type": "code",
   "execution_count": 11,
   "metadata": {},
   "outputs": [
    {
     "data": {
      "text/plain": [
       "'cx8b27346ec42e4f49ef18731d7f0d393876b0ceb7'"
      ]
     },
     "execution_count": 11,
     "metadata": {},
     "output_type": "execute_result"
    }
   ],
   "source": [
    "contracts['dex']['SCORE']"
   ]
  },
  {
   "cell_type": "code",
   "execution_count": 97,
   "metadata": {},
   "outputs": [
    {
     "name": "stderr",
     "output_type": "stream",
     "text": [
      "Raised JSONRPCException while returning the custom response. Error message: {'code': -32602, 'message': 'Pending transaction'}\n"
     ]
    },
    {
     "name": "stdout",
     "output_type": "stream",
     "text": [
      "Retrying in 1 seconds...\n"
     ]
    },
    {
     "name": "stderr",
     "output_type": "stream",
     "text": [
      "Raised JSONRPCException while returning the custom response. Error message: {'code': -32602, 'message': 'Pending transaction'}\n"
     ]
    },
    {
     "name": "stdout",
     "output_type": "stream",
     "text": [
      "Retrying in 2 seconds...\n",
      "Status: 0\n",
      "Failure: {'code': 1, 'message': 'integer division or modulo by zero'}\n"
     ]
    }
   ],
   "source": [
    "# Cell 9\n",
    "# transfer icx to dex\n",
    "\n",
    "transaction = TransactionBuilder()\\\n",
    "    .from_(wallet.get_address())\\\n",
    "    .to(contracts['dex']['SCORE'])\\\n",
    "    .value(10 * ICX)\\\n",
    "    .step_limit(10000000)\\\n",
    "    .nid(NID)\\\n",
    "    .nonce(101)\\\n",
    "    .build()\n",
    "signed_transaction = SignedTransaction(transaction, wallet)\n",
    "tx_hash = icon_service.send_transaction(signed_transaction)\n",
    "tx_hash\n",
    "\n",
    "res = get_tx_result(tx_hash)\n",
    "print(f'Status: {res[\"status\"]}')\n",
    "if len(res[\"eventLogs\"]) > 0:\n",
    "    for item in res[\"eventLogs\"]:\n",
    "        print(f'{item} \\n')\n",
    "if res['status'] == 0:\n",
    "    print(f'Failure: {res[\"failure\"]}')"
   ]
  },
  {
   "cell_type": "code",
   "execution_count": 12,
   "metadata": {},
   "outputs": [
    {
     "data": {
      "text/plain": [
       "0.0"
      ]
     },
     "execution_count": 12,
     "metadata": {},
     "output_type": "execute_result"
    }
   ],
   "source": [
    "# Cell 10\n",
    "\n",
    "call = CallBuilder().from_(wallet.get_address())\\\n",
    "                    .to(contracts['dex']['SCORE'])\\\n",
    "                    .method('getICXBalance')\\\n",
    "                    .params({'_address': wallet.get_address()}) \\\n",
    "                    .build()\n",
    "result = icon_service.call(call)\n",
    "int(result, 0) / 10**18"
   ]
  },
  {
   "cell_type": "markdown",
   "metadata": {},
   "source": [
    "# Creating OMM/sICX LP, OMM/IUSDC"
   ]
  },
  {
   "cell_type": "code",
   "execution_count": 12,
   "metadata": {},
   "outputs": [
    {
     "name": "stderr",
     "output_type": "stream",
     "text": [
      "Raised JSONRPCException while returning the custom response. Error message: {'code': -32602, 'message': 'Pending transaction'}\n"
     ]
    },
    {
     "name": "stdout",
     "output_type": "stream",
     "text": [
      "Retrying in 1 seconds...\n"
     ]
    },
    {
     "name": "stderr",
     "output_type": "stream",
     "text": [
      "Raised JSONRPCException while returning the custom response. Error message: {'code': -32602, 'message': 'Pending transaction'}\n"
     ]
    },
    {
     "name": "stdout",
     "output_type": "stream",
     "text": [
      "Retrying in 2 seconds...\n",
      "Status: 1\n"
     ]
    }
   ],
   "source": [
    "# Cell 18a\n",
    "# adding Second currency IUSDC in dex\n",
    "transaction = CallTransactionBuilder()\\\n",
    "    .from_(btest_wallet.get_address())\\\n",
    "    .to(contracts['governance']['SCORE'])\\\n",
    "    .value(0)\\\n",
    "    .step_limit(10000000)\\\n",
    "    .nid(NID)\\\n",
    "    .nonce(100)\\\n",
    "    .method(\"dexAddQuoteCoin\")\\\n",
    "    .params({'_address':'cx65f639254090820361da483df233f6d0e69af9b7'}) \\\n",
    "    .build()\n",
    "signed_transaction = SignedTransaction(transaction, btest_wallet)\n",
    "tx_hash = icon_service.send_transaction(signed_transaction)\n",
    "tx_hash\n",
    "\n",
    "res = get_tx_result(tx_hash)\n",
    "print(f'Status: {res[\"status\"]}')\n",
    "if len(res[\"eventLogs\"]) > 0:\n",
    "    for item in res[\"eventLogs\"]:\n",
    "        print(f'{item} \\n')\n",
    "if res['status'] == 0:\n",
    "    print(f'Failure: {res[\"failure\"]}')"
   ]
  },
  {
   "cell_type": "code",
   "execution_count": 13,
   "metadata": {},
   "outputs": [
    {
     "name": "stderr",
     "output_type": "stream",
     "text": [
      "Raised JSONRPCException while returning the custom response. Error message: {'code': -32602, 'message': 'Pending transaction'}\n"
     ]
    },
    {
     "name": "stdout",
     "output_type": "stream",
     "text": [
      "Retrying in 1 seconds...\n"
     ]
    },
    {
     "name": "stderr",
     "output_type": "stream",
     "text": [
      "Raised JSONRPCException while returning the custom response. Error message: {'code': -32602, 'message': 'Pending transaction'}\n"
     ]
    },
    {
     "name": "stdout",
     "output_type": "stream",
     "text": [
      "Retrying in 2 seconds...\n",
      "Status: 1\n"
     ]
    }
   ],
   "source": [
    "# Cell 18a\n",
    "# adding Second currency USDB in dex\n",
    "transaction = CallTransactionBuilder()\\\n",
    "    .from_(btest_wallet.get_address())\\\n",
    "    .to(contracts['governance']['SCORE'])\\\n",
    "    .value(0)\\\n",
    "    .step_limit(10000000)\\\n",
    "    .nid(NID)\\\n",
    "    .nonce(100)\\\n",
    "    .method(\"dexAddQuoteCoin\")\\\n",
    "    .params({'_address':'cxaa068556df80f9917ef146e889f0b2c4b13ab634'}) \\\n",
    "    .build()\n",
    "signed_transaction = SignedTransaction(transaction, btest_wallet)\n",
    "tx_hash = icon_service.send_transaction(signed_transaction)\n",
    "tx_hash\n",
    "\n",
    "res = get_tx_result(tx_hash)\n",
    "print(f'Status: {res[\"status\"]}')\n",
    "if len(res[\"eventLogs\"]) > 0:\n",
    "    for item in res[\"eventLogs\"]:\n",
    "        print(f'{item} \\n')\n",
    "if res['status'] == 0:\n",
    "    print(f'Failure: {res[\"failure\"]}')"
   ]
  },
  {
   "cell_type": "code",
   "execution_count": null,
   "metadata": {},
   "outputs": [],
   "source": []
  },
  {
   "cell_type": "code",
   "execution_count": 23,
   "metadata": {},
   "outputs": [
    {
     "name": "stderr",
     "output_type": "stream",
     "text": [
      "Raised JSONRPCException while returning the custom response. Error message: {'code': -32602, 'message': 'Pending transaction'}\n"
     ]
    },
    {
     "name": "stdout",
     "output_type": "stream",
     "text": [
      "Retrying in 1 seconds...\n"
     ]
    },
    {
     "name": "stderr",
     "output_type": "stream",
     "text": [
      "Raised JSONRPCException while returning the custom response. Error message: {'code': -32602, 'message': 'Pending transaction'}\n"
     ]
    },
    {
     "name": "stdout",
     "output_type": "stream",
     "text": [
      "Retrying in 2 seconds...\n",
      "Status: 1\n",
      "{'scoreAddress': 'cx2a64879449803a6a0c83828cbb8a45ee1674fa82', 'indexed': ['Mint(Address,int,bytes)', 'hxe62d11fa19a0e8575ad92f06bc8fd42edbfe27db'], 'data': ['0x56bc75e2d63100000', '0x4e6f6e65']} \n",
      "\n",
      "{'scoreAddress': 'cx2a64879449803a6a0c83828cbb8a45ee1674fa82', 'indexed': ['Transfer(Address,Address,int,bytes)', 'hx0000000000000000000000000000000000000000', 'hxe62d11fa19a0e8575ad92f06bc8fd42edbfe27db', '0x56bc75e2d63100000'], 'data': ['0x4e6f6e65']} \n",
      "\n",
      "{'scoreAddress': 'cxc586330cf2842983288789d4ee0907a1e211b1ab', 'indexed': ['TokenTransfer(Address,int,str)', 'hxe62d11fa19a0e8575ad92f06bc8fd42edbfe27db', '0x56bc75e2d63100000'], 'data': ['100 sICX minted to hxe62d11fa19a0e8575ad92f06bc8fd42edbfe27db']} \n",
      "\n"
     ]
    }
   ],
   "source": [
    "# Cell 11\n",
    "# transfer sicx to the wallet\n",
    "\n",
    "params = {'_to': user1.get_address()}\n",
    "transaction = CallTransactionBuilder()\\\n",
    "    .from_(wallet.get_address())\\\n",
    "    .to(contracts['staking']['SCORE'])\\\n",
    "    .value(100 * ICX)\\\n",
    "    .step_limit(10000000)\\\n",
    "    .nid(NID)\\\n",
    "    .nonce(100)\\\n",
    "    .method(\"stakeICX\")\\\n",
    "    .params(params)\\\n",
    "    .build()\n",
    "signed_transaction = SignedTransaction(transaction, wallet)\n",
    "tx_hash = icon_service.send_transaction(signed_transaction)\n",
    "tx_hash\n",
    "\n",
    "res = get_tx_result(tx_hash)\n",
    "print(f'Status: {res[\"status\"]}')\n",
    "if len(res[\"eventLogs\"]) > 0:\n",
    "    for item in res[\"eventLogs\"]:\n",
    "        print(f'{item} \\n')\n",
    "if res['status'] == 0:\n",
    "    print(f'Failure: {res[\"failure\"]}')"
   ]
  },
  {
   "cell_type": "code",
   "execution_count": 12,
   "metadata": {},
   "outputs": [
    {
     "data": {
      "text/plain": [
       "0.0"
      ]
     },
     "execution_count": 12,
     "metadata": {},
     "output_type": "execute_result"
    }
   ],
   "source": [
    "# Cell 12\n",
    "# check sicx balance\n",
    "\n",
    "call = CallBuilder().from_(wallet.get_address())\\\n",
    "                    .to(contracts['sicx']['SCORE'])\\\n",
    "                    .method('balanceOf')\\\n",
    "                    .params({'_owner': user1.get_address()}) \\\n",
    "                    .build()\n",
    "result = icon_service.call(call)\n",
    "int(result, 0) / 10**18"
   ]
  },
  {
   "cell_type": "code",
   "execution_count": 13,
   "metadata": {},
   "outputs": [
    {
     "name": "stdout",
     "output_type": "stream",
     "text": [
      "['SICXICX', 'OMMSICX', 'OMMUSDB', 'OMMIUSDC']\n"
     ]
    }
   ],
   "source": [
    "# Cell 13\n",
    "# gives pools name\n",
    "\n",
    "call = CallBuilder().from_(wallet.get_address())\\\n",
    "                    .to(contracts['dex']['SCORE'])\\\n",
    "                    .method('getNamedPools')\\\n",
    "                    .build()\n",
    "result = icon_service.call(call)\n",
    "print(result)"
   ]
  },
  {
   "cell_type": "code",
   "execution_count": 25,
   "metadata": {},
   "outputs": [
    {
     "name": "stderr",
     "output_type": "stream",
     "text": [
      "Raised JSONRPCException while returning the custom response. Error message: {'code': -32602, 'message': 'Pending transaction'}\n"
     ]
    },
    {
     "name": "stdout",
     "output_type": "stream",
     "text": [
      "Retrying in 1 seconds...\n"
     ]
    },
    {
     "name": "stderr",
     "output_type": "stream",
     "text": [
      "Raised JSONRPCException while returning the custom response. Error message: {'code': -32602, 'message': 'Pending transaction'}\n"
     ]
    },
    {
     "name": "stdout",
     "output_type": "stream",
     "text": [
      "Retrying in 2 seconds...\n",
      "Status: 1\n",
      "{'scoreAddress': 'cx2a64879449803a6a0c83828cbb8a45ee1674fa82', 'indexed': ['Transfer(Address,Address,int,bytes)', 'hxe62d11fa19a0e8575ad92f06bc8fd42edbfe27db', 'cx8b27346ec42e4f49ef18731d7f0d393876b0ceb7', '0x56bc75e2d63100000'], 'data': ['0x7b226d6574686f64223a20225f6465706f736974227d']} \n",
      "\n",
      "{'scoreAddress': 'cx8b27346ec42e4f49ef18731d7f0d393876b0ceb7', 'indexed': ['Deposit(Address,Address,int)', 'cx2a64879449803a6a0c83828cbb8a45ee1674fa82', 'hxe62d11fa19a0e8575ad92f06bc8fd42edbfe27db'], 'data': ['0x56bc75e2d63100000']} \n",
      "\n"
     ]
    }
   ],
   "source": [
    "# Cell 14\n",
    "# deposit sicx to the dex to create the pool\n",
    "\n",
    "data = \"{\\\"method\\\": \\\"_deposit\\\"}\".encode(\"utf-8\")\n",
    "params = {'_to': contracts['dex']['SCORE'], '_value': 100 * ICX, '_data': data}\n",
    "transaction = CallTransactionBuilder()\\\n",
    "    .from_(user1.get_address())\\\n",
    "    .to(contracts['sicx']['SCORE'])\\\n",
    "    .value(0)\\\n",
    "    .step_limit(10000000)\\\n",
    "    .nid(NID)\\\n",
    "    .nonce(100)\\\n",
    "    .method(\"transfer\")\\\n",
    "    .params(params)\\\n",
    "    .build()\n",
    "signed_transaction = SignedTransaction(transaction, user1)\n",
    "tx_hash = icon_service.send_transaction(signed_transaction)\n",
    "tx_hash\n",
    "\n",
    "res = get_tx_result(tx_hash)\n",
    "print(f'Status: {res[\"status\"]}')\n",
    "if len(res[\"eventLogs\"]) > 0:\n",
    "    for item in res[\"eventLogs\"]:\n",
    "        print(f'{item} \\n')\n",
    "if res['status'] == 0:\n",
    "    print(f'Failure: {res[\"failure\"]}')"
   ]
  },
  {
   "cell_type": "code",
   "execution_count": 15,
   "metadata": {},
   "outputs": [
    {
     "data": {
      "text/plain": [
       "750.0"
      ]
     },
     "execution_count": 15,
     "metadata": {},
     "output_type": "execute_result"
    }
   ],
   "source": [
    "# Cell 15\n",
    "# get OMM balance for the wallet\n",
    "\n",
    "call = CallBuilder().from_(wallet.get_address())\\\n",
    "                    .to('cx65f639254090820361da483df233f6d0e69af9b7')\\\n",
    "                    .method('balanceOf')\\\n",
    "                    .params({'_owner': wallet.get_address()}) \\\n",
    "                    .build()\n",
    "result = icon_service.call(call)\n",
    "int(result, 0) / 10**6"
   ]
  },
  {
   "cell_type": "code",
   "execution_count": 97,
   "metadata": {},
   "outputs": [
    {
     "name": "stderr",
     "output_type": "stream",
     "text": [
      "Raised JSONRPCException while returning the custom response. Error message: {'code': -32602, 'message': 'Pending transaction'}\n"
     ]
    },
    {
     "name": "stdout",
     "output_type": "stream",
     "text": [
      "Retrying in 1 seconds...\n"
     ]
    },
    {
     "name": "stderr",
     "output_type": "stream",
     "text": [
      "Raised JSONRPCException while returning the custom response. Error message: {'code': -32602, 'message': 'Pending transaction'}\n"
     ]
    },
    {
     "name": "stdout",
     "output_type": "stream",
     "text": [
      "Retrying in 2 seconds...\n",
      "Status: 1\n",
      "{'scoreAddress': 'cx65f639254090820361da483df233f6d0e69af9b7', 'indexed': ['Transfer(Address,Address,int,bytes)', 'hxe7af5fcfd8dfc67530a01a0e403882687528dfcb', 'hx7a1824129a8fe803e45a3aae1c0e060399546187', '0x5f5e100'], 'data': ['0x4e6f6e65']} \n",
      "\n"
     ]
    }
   ],
   "source": [
    "# transfer iusdc to user1\n",
    "\n",
    "# data = \"{\\\"method\\\": \\\"_deposit\\\"}\".encode(\"utf-8\")\n",
    "params = {'_to': user2.get_address(), '_value': 100 * 10**6}\n",
    "transaction = CallTransactionBuilder()\\\n",
    "    .from_(wallet.get_address())\\\n",
    "    .to('cx65f639254090820361da483df233f6d0e69af9b7')\\\n",
    "    .value(0)\\\n",
    "    .step_limit(10000000)\\\n",
    "    .nid(NID)\\\n",
    "    .nonce(100)\\\n",
    "    .method(\"transfer\")\\\n",
    "    .params(params)\\\n",
    "    .build()\n",
    "signed_transaction = SignedTransaction(transaction, wallet)\n",
    "tx_hash = icon_service.send_transaction(signed_transaction)\n",
    "tx_hash\n",
    "\n",
    "res = get_tx_result(tx_hash)\n",
    "print(f'Status: {res[\"status\"]}')\n",
    "if len(res[\"eventLogs\"]) > 0:\n",
    "    for item in res[\"eventLogs\"]:\n",
    "        print(f'{item} \\n')\n",
    "if res['status'] == 0:\n",
    "    print(f'Failure: {res[\"failure\"]}')"
   ]
  },
  {
   "cell_type": "code",
   "execution_count": 33,
   "metadata": {},
   "outputs": [
    {
     "name": "stderr",
     "output_type": "stream",
     "text": [
      "Raised JSONRPCException while returning the custom response. Error message: {'code': -32602, 'message': 'Pending transaction'}\n"
     ]
    },
    {
     "name": "stdout",
     "output_type": "stream",
     "text": [
      "Retrying in 1 seconds...\n",
      "Status: 1\n",
      "{'scoreAddress': 'cx8b27346ec42e4f49ef18731d7f0d393876b0ceb7', 'indexed': ['Deposit(Address,Address,int)', 'cx9f03e46d637fb0b1c7b539873c7f25db2ddc94e6', 'hx7a1824129a8fe803e45a3aae1c0e060399546187'], 'data': ['0x2b5e3af16b1880000']} \n",
      "\n",
      "{'scoreAddress': 'cx9f03e46d637fb0b1c7b539873c7f25db2ddc94e6', 'indexed': ['Transfer(Address,Address,int,bytes)', 'hx7a1824129a8fe803e45a3aae1c0e060399546187', 'cx8b27346ec42e4f49ef18731d7f0d393876b0ceb7', '0x2b5e3af16b1880000'], 'data': ['0x7b226d6574686f64223a20225f6465706f736974227d']} \n",
      "\n"
     ]
    }
   ],
   "source": [
    "# Cell 16a\n",
    "# deposit ommtoken to dex to create a pool\n",
    "\n",
    "data = \"{\\\"method\\\": \\\"_deposit\\\"}\".encode(\"utf-8\")\n",
    "params = {'_to': contracts['dex']['SCORE'], '_value': 50 * ICX, '_data': data}\n",
    "transaction = CallTransactionBuilder()\\\n",
    "    .from_(user2.get_address())\\\n",
    "    .to('cx9f03e46d637fb0b1c7b539873c7f25db2ddc94e6')\\\n",
    "    .value(0)\\\n",
    "    .step_limit(10000000)\\\n",
    "    .nid(NID)\\\n",
    "    .nonce(100)\\\n",
    "    .method(\"transfer\")\\\n",
    "    .params(params)\\\n",
    "    .build()\n",
    "signed_transaction = SignedTransaction(transaction, user2)\n",
    "tx_hash = icon_service.send_transaction(signed_transaction)\n",
    "tx_hash\n",
    "\n",
    "res = get_tx_result(tx_hash)\n",
    "print(f'Status: {res[\"status\"]}')\n",
    "if len(res[\"eventLogs\"]) > 0:\n",
    "    for item in res[\"eventLogs\"]:\n",
    "        print(f'{item} \\n')\n",
    "if res['status'] == 0:\n",
    "    print(f'Failure: {res[\"failure\"]}')"
   ]
  },
  {
   "cell_type": "code",
   "execution_count": 100,
   "metadata": {},
   "outputs": [
    {
     "name": "stderr",
     "output_type": "stream",
     "text": [
      "Raised JSONRPCException while returning the custom response. Error message: {'code': -32602, 'message': 'Pending transaction'}\n"
     ]
    },
    {
     "name": "stdout",
     "output_type": "stream",
     "text": [
      "Retrying in 1 seconds...\n"
     ]
    },
    {
     "name": "stderr",
     "output_type": "stream",
     "text": [
      "Raised JSONRPCException while returning the custom response. Error message: {'code': -32602, 'message': 'Pending transaction'}\n"
     ]
    },
    {
     "name": "stdout",
     "output_type": "stream",
     "text": [
      "Retrying in 2 seconds...\n",
      "Status: 1\n",
      "{'scoreAddress': 'cxc2ab1a0fc9c4eb72530f6dacb74bf5cfc93b3022', 'indexed': ['Mint(Address,int,bytes)', 'cx4a29d6d15acb6e4a1c6ad38c0742dd8fc9cc7286'], 'data': ['0x152d02c7e14af6800000', '0x4e6f6e65']} \n",
      "\n",
      "{'scoreAddress': 'cxc2ab1a0fc9c4eb72530f6dacb74bf5cfc93b3022', 'indexed': ['Transfer(Address,Address,int,bytes)', 'hx0000000000000000000000000000000000000000', 'cx4a29d6d15acb6e4a1c6ad38c0742dd8fc9cc7286', '0x152d02c7e14af6800000'], 'data': ['0x4e6f6e65']} \n",
      "\n",
      "{'scoreAddress': 'cxc2ab1a0fc9c4eb72530f6dacb74bf5cfc93b3022', 'indexed': ['Transfer(Address,Address,int,bytes)', 'cx4a29d6d15acb6e4a1c6ad38c0742dd8fc9cc7286', 'cxebab2e03164b95dedb1c0a0bf18bc581986fcac3', '0x43c33c1937564800000'], 'data': ['0x4e6f6e65']} \n",
      "\n",
      "{'scoreAddress': 'cxc2ab1a0fc9c4eb72530f6dacb74bf5cfc93b3022', 'indexed': ['Transfer(Address,Address,int,bytes)', 'cx4a29d6d15acb6e4a1c6ad38c0742dd8fc9cc7286', 'cxb2c91e1601f6f05fa080efda0aa53d948faef2c1', '0x10f0cf064dd59200000'], 'data': ['0x4e6f6e65']} \n",
      "\n",
      "{'scoreAddress': 'cxc2ab1a0fc9c4eb72530f6dacb74bf5cfc93b3022', 'indexed': ['Transfer(Address,Address,int,bytes)', 'cx4a29d6d15acb6e4a1c6ad38c0742dd8fc9cc7286', 'cxa8472266ad01627af8395967e820c8aee58c4beb', '0x4c3ba39c5e411100000'], 'data': ['0x4e6f6e65']} \n",
      "\n",
      "{'scoreAddress': 'cx8b27346ec42e4f49ef18731d7f0d393876b0ceb7', 'indexed': ['Deposit(Address,Address,int)', 'cx65f639254090820361da483df233f6d0e69af9b7', 'hx7a1824129a8fe803e45a3aae1c0e060399546187'], 'data': ['0x2faf080']} \n",
      "\n",
      "{'scoreAddress': 'cx65f639254090820361da483df233f6d0e69af9b7', 'indexed': ['Transfer(Address,Address,int,bytes)', 'hx7a1824129a8fe803e45a3aae1c0e060399546187', 'cx8b27346ec42e4f49ef18731d7f0d393876b0ceb7', '0x2faf080'], 'data': ['0x7b226d6574686f64223a20225f6465706f736974227d']} \n",
      "\n"
     ]
    }
   ],
   "source": [
    "# Cell 16b\n",
    "# deposit iusdc to dex to create a pool\n",
    "\n",
    "data = \"{\\\"method\\\": \\\"_deposit\\\"}\".encode(\"utf-8\")\n",
    "params = {'_to': contracts['dex']['SCORE'], '_value': 50 * 10**6, '_data': data}\n",
    "transaction = CallTransactionBuilder()\\\n",
    "    .from_(user2.get_address())\\\n",
    "    .to('cx65f639254090820361da483df233f6d0e69af9b7')\\\n",
    "    .value(0)\\\n",
    "    .step_limit(10000000)\\\n",
    "    .nid(NID)\\\n",
    "    .nonce(100)\\\n",
    "    .method(\"transfer\")\\\n",
    "    .params(params)\\\n",
    "    .build()\n",
    "signed_transaction = SignedTransaction(transaction, user2)\n",
    "tx_hash = icon_service.send_transaction(signed_transaction)\n",
    "tx_hash\n",
    "\n",
    "res = get_tx_result(tx_hash)\n",
    "print(f'Status: {res[\"status\"]}')\n",
    "if len(res[\"eventLogs\"]) > 0:\n",
    "    for item in res[\"eventLogs\"]:\n",
    "        print(f'{item} \\n')\n",
    "if res['status'] == 0:\n",
    "    print(f'Failure: {res[\"failure\"]}')"
   ]
  },
  {
   "cell_type": "code",
   "execution_count": 38,
   "metadata": {},
   "outputs": [
    {
     "name": "stderr",
     "output_type": "stream",
     "text": [
      "Raised JSONRPCException while returning the custom response. Error message: {'code': -32602, 'message': 'Pending transaction'}\n"
     ]
    },
    {
     "name": "stdout",
     "output_type": "stream",
     "text": [
      "Retrying in 1 seconds...\n"
     ]
    },
    {
     "name": "stderr",
     "output_type": "stream",
     "text": [
      "Raised JSONRPCException while returning the custom response. Error message: {'code': -32602, 'message': 'Pending transaction'}\n"
     ]
    },
    {
     "name": "stdout",
     "output_type": "stream",
     "text": [
      "Retrying in 2 seconds...\n",
      "Status: 1\n",
      "{'scoreAddress': 'cx8b27346ec42e4f49ef18731d7f0d393876b0ceb7', 'indexed': ['Deposit(Address,Address,int)', 'cxaa068556df80f9917ef146e889f0b2c4b13ab634', 'hxe7af5fcfd8dfc67530a01a0e403882687528dfcb'], 'data': ['0x2b5e3af16b1880000']} \n",
      "\n",
      "{'scoreAddress': 'cxaa068556df80f9917ef146e889f0b2c4b13ab634', 'indexed': ['Transfer(Address,Address,int,bytes)', 'hxe7af5fcfd8dfc67530a01a0e403882687528dfcb', 'cx8b27346ec42e4f49ef18731d7f0d393876b0ceb7', '0x2b5e3af16b1880000'], 'data': ['0x7b226d6574686f64223a20225f6465706f736974227d']} \n",
      "\n"
     ]
    }
   ],
   "source": [
    "# Cell 16c\n",
    "# deposit usdb to dex to create a pool\n",
    "\n",
    "data = \"{\\\"method\\\": \\\"_deposit\\\"}\".encode(\"utf-8\")\n",
    "params = {'_to': contracts['dex']['SCORE'], '_value': 50 * ICX, '_data': data}\n",
    "transaction = CallTransactionBuilder()\\\n",
    "    .from_(wallet.get_address())\\\n",
    "    .to('cxaa068556df80f9917ef146e889f0b2c4b13ab634')\\\n",
    "    .value(0)\\\n",
    "    .step_limit(10000000)\\\n",
    "    .nid(NID)\\\n",
    "    .nonce(100)\\\n",
    "    .method(\"transfer\")\\\n",
    "    .params(params)\\\n",
    "    .build()\n",
    "signed_transaction = SignedTransaction(transaction, wallet)\n",
    "tx_hash = icon_service.send_transaction(signed_transaction)\n",
    "tx_hash\n",
    "\n",
    "res = get_tx_result(tx_hash)\n",
    "\n",
    "print(f'Status: {res[\"status\"]}')\n",
    "if len(res[\"eventLogs\"]) > 0:\n",
    "    for item in res[\"eventLogs\"]:\n",
    "        print(f'{item} \\n')\n",
    "if res['status'] == 0:\n",
    "    print(f'Failure: {res[\"failure\"]}')"
   ]
  },
  {
   "cell_type": "code",
   "execution_count": 42,
   "metadata": {},
   "outputs": [
    {
     "name": "stderr",
     "output_type": "stream",
     "text": [
      "Raised JSONRPCException while returning the custom response. Error message: {'code': -32602, 'message': 'Pending transaction'}\n"
     ]
    },
    {
     "name": "stdout",
     "output_type": "stream",
     "text": [
      "Retrying in 1 seconds...\n",
      "Status: 1\n",
      "{'scoreAddress': 'cx8b27346ec42e4f49ef18731d7f0d393876b0ceb7', 'indexed': ['Add(int,Address,int)', '0x2', 'hx7a1824129a8fe803e45a3aae1c0e060399546187'], 'data': ['0x56bc75e2d63100000']} \n",
      "\n",
      "{'scoreAddress': 'cx8b27346ec42e4f49ef18731d7f0d393876b0ceb7', 'indexed': ['TransferSingle(Address,Address,Address,int,int)', 'hx7a1824129a8fe803e45a3aae1c0e060399546187', 'cxf000000000000000000000000000000000000000', 'hx7a1824129a8fe803e45a3aae1c0e060399546187'], 'data': ['0x2', '0x56bc75e2d63100000']} \n",
      "\n"
     ]
    }
   ],
   "source": [
    "# Cell 17a\n",
    "# add base and quote token addresses for the paris that we want to create a pool of omm/sicx.\n",
    "\n",
    "transaction = CallTransactionBuilder()\\\n",
    "    .from_(user2.get_address())\\\n",
    "    .to(contracts['dex']['SCORE'])\\\n",
    "    .value(0)\\\n",
    "    .step_limit(10000000)\\\n",
    "    .nid(NID)\\\n",
    "    .nonce(100)\\\n",
    "    .method(\"add\")\\\n",
    "    .params({'_baseToken':'cx9f03e46d637fb0b1c7b539873c7f25db2ddc94e6' , '_quoteToken': contracts['sicx']['SCORE'], '_maxBaseValue': 15 * ICX, '_quoteValue': 1 * ICX}) \\\n",
    "    .build()\n",
    "signed_transaction = SignedTransaction(transaction, user2)\n",
    "tx_hash = icon_service.send_transaction(signed_transaction)\n",
    "tx_hash\n",
    "\n",
    "res = get_tx_result(tx_hash)\n",
    "print(f'Status: {res[\"status\"]}')\n",
    "if len(res[\"eventLogs\"]) > 0:\n",
    "    for item in res[\"eventLogs\"]:\n",
    "        print(f'{item} \\n')\n",
    "if res['status'] == 0:\n",
    "    print(f'Failure: {res[\"failure\"]}')"
   ]
  },
  {
   "cell_type": "code",
   "execution_count": 103,
   "metadata": {
    "scrolled": true
   },
   "outputs": [
    {
     "name": "stderr",
     "output_type": "stream",
     "text": [
      "Raised JSONRPCException while returning the custom response. Error message: {'code': -32602, 'message': 'Pending transaction'}\n"
     ]
    },
    {
     "name": "stdout",
     "output_type": "stream",
     "text": [
      "Retrying in 1 seconds...\n"
     ]
    },
    {
     "name": "stderr",
     "output_type": "stream",
     "text": [
      "Raised JSONRPCException while returning the custom response. Error message: {'code': -32602, 'message': 'Pending transaction'}\n"
     ]
    },
    {
     "name": "stdout",
     "output_type": "stream",
     "text": [
      "Retrying in 2 seconds...\n",
      "Status: 1\n",
      "{'scoreAddress': 'cx8b27346ec42e4f49ef18731d7f0d393876b0ceb7', 'indexed': ['Add(int,Address,int)', '0x4', 'hx7a1824129a8fe803e45a3aae1c0e060399546187'], 'data': ['0x56bc75e2d63100000']} \n",
      "\n",
      "{'scoreAddress': 'cx8b27346ec42e4f49ef18731d7f0d393876b0ceb7', 'indexed': ['TransferSingle(Address,Address,Address,int,int)', 'hx7a1824129a8fe803e45a3aae1c0e060399546187', 'cxf000000000000000000000000000000000000000', 'hx7a1824129a8fe803e45a3aae1c0e060399546187'], 'data': ['0x4', '0x56bc75e2d63100000']} \n",
      "\n"
     ]
    }
   ],
   "source": [
    "# Cell 17b\n",
    "# add base and quote token addresses for the paris that we want to create a pool of omm/iusdc.\n",
    "\n",
    "transaction = CallTransactionBuilder()\\\n",
    "    .from_(user2.get_address())\\\n",
    "    .to(contracts['dex']['SCORE'])\\\n",
    "    .value(0)\\\n",
    "    .step_limit(10000000)\\\n",
    "    .nid(NID)\\\n",
    "    .nonce(100)\\\n",
    "    .method(\"add\")\\\n",
    "    .params({'_baseToken':'cx9f03e46d637fb0b1c7b539873c7f25db2ddc94e6' , '_quoteToken': 'cx65f639254090820361da483df233f6d0e69af9b7', '_maxBaseValue': 15 * ICX, '_quoteValue': 1 * 10**6}) \\\n",
    "    .build()\n",
    "signed_transaction = SignedTransaction(transaction, user2)\n",
    "tx_hash = icon_service.send_transaction(signed_transaction)\n",
    "tx_hash\n",
    "\n",
    "res = get_tx_result(tx_hash)\n",
    "print(f'Status: {res[\"status\"]}')\n",
    "if len(res[\"eventLogs\"]) > 0:\n",
    "    for item in res[\"eventLogs\"]:\n",
    "        print(f'{item} \\n')\n",
    "if res['status'] == 0:\n",
    "    print(f'Failure: {res[\"failure\"]}')"
   ]
  },
  {
   "cell_type": "code",
   "execution_count": 52,
   "metadata": {},
   "outputs": [
    {
     "name": "stderr",
     "output_type": "stream",
     "text": [
      "Raised JSONRPCException while returning the custom response. Error message: {'code': -32602, 'message': 'Pending transaction'}\n"
     ]
    },
    {
     "name": "stdout",
     "output_type": "stream",
     "text": [
      "Retrying in 1 seconds...\n",
      "Status: 1\n",
      "{'scoreAddress': 'cx8b27346ec42e4f49ef18731d7f0d393876b0ceb7', 'indexed': ['Add(int,Address,int)', '0x3', 'hx7a1824129a8fe803e45a3aae1c0e060399546187'], 'data': ['0x56bc75e2d63100000']} \n",
      "\n",
      "{'scoreAddress': 'cx8b27346ec42e4f49ef18731d7f0d393876b0ceb7', 'indexed': ['TransferSingle(Address,Address,Address,int,int)', 'hx7a1824129a8fe803e45a3aae1c0e060399546187', 'cxf000000000000000000000000000000000000000', 'hx7a1824129a8fe803e45a3aae1c0e060399546187'], 'data': ['0x3', '0x56bc75e2d63100000']} \n",
      "\n"
     ]
    }
   ],
   "source": [
    "# Cell 17c\n",
    "# add base and quote token addresses for the paris that we want to create a pool of omm/usdb.\n",
    "\n",
    "transaction = CallTransactionBuilder()\\\n",
    "    .from_(user2.get_address())\\\n",
    "    .to(contracts['dex']['SCORE'])\\\n",
    "    .value(0)\\\n",
    "    .step_limit(10000000)\\\n",
    "    .nid(NID)\\\n",
    "    .nonce(100)\\\n",
    "    .method(\"add\")\\\n",
    "    .params({'_baseToken':'cx9f03e46d637fb0b1c7b539873c7f25db2ddc94e6' , '_quoteToken': 'cxaa068556df80f9917ef146e889f0b2c4b13ab634', '_maxBaseValue': 15 * ICX, '_quoteValue': 1 * ICX}) \\\n",
    "    .build()\n",
    "signed_transaction = SignedTransaction(transaction, user2)\n",
    "tx_hash = icon_service.send_transaction(signed_transaction)\n",
    "tx_hash\n",
    "\n",
    "res = get_tx_result(tx_hash)\n",
    "print(f'Status: {res[\"status\"]}')\n",
    "if len(res[\"eventLogs\"]) > 0:\n",
    "    for item in res[\"eventLogs\"]:\n",
    "        print(f'{item} \\n')\n",
    "if res['status'] == 0:\n",
    "    print(f'Failure: {res[\"failure\"]}')"
   ]
  },
  {
   "cell_type": "code",
   "execution_count": 53,
   "metadata": {},
   "outputs": [
    {
     "name": "stderr",
     "output_type": "stream",
     "text": [
      "Raised JSONRPCException while returning the custom response. Error message: {'code': -32602, 'message': 'Pending transaction'}\n"
     ]
    },
    {
     "name": "stdout",
     "output_type": "stream",
     "text": [
      "Retrying in 1 seconds...\n"
     ]
    },
    {
     "name": "stderr",
     "output_type": "stream",
     "text": [
      "Raised JSONRPCException while returning the custom response. Error message: {'code': -32602, 'message': 'Pending transaction'}\n"
     ]
    },
    {
     "name": "stdout",
     "output_type": "stream",
     "text": [
      "Retrying in 2 seconds...\n",
      "Status: 1\n",
      "\n",
      "\n",
      "['SICXICX', 'OMMSICX']\n"
     ]
    }
   ],
   "source": [
    "# Cell 18a\n",
    "# setting market name for ommsICX pair\n",
    "\n",
    "transaction = CallTransactionBuilder()\\\n",
    "    .from_(btest_wallet.get_address())\\\n",
    "    .to(contracts['governance']['SCORE'])\\\n",
    "    .value(0)\\\n",
    "    .step_limit(10000000)\\\n",
    "    .nid(NID)\\\n",
    "    .nonce(100)\\\n",
    "    .method(\"setMarketName\")\\\n",
    "    .params({'_pid':2, '_name': 'OMMSICX'}) \\\n",
    "    .build()\n",
    "signed_transaction = SignedTransaction(transaction, btest_wallet)\n",
    "tx_hash = icon_service.send_transaction(signed_transaction)\n",
    "tx_hash\n",
    "\n",
    "res = get_tx_result(tx_hash)\n",
    "print(f'Status: {res[\"status\"]}')\n",
    "if len(res[\"eventLogs\"]) > 0:\n",
    "    for item in res[\"eventLogs\"]:\n",
    "        print(f'{item} \\n')\n",
    "if res['status'] == 0:\n",
    "    print(f'Failure: {res[\"failure\"]}')\n",
    "print('\\n')\n",
    "\n",
    "call = CallBuilder().from_(wallet.get_address())\\\n",
    "                    .to(contracts['dex']['SCORE'])\\\n",
    "                    .method('getNamedPools')\\\n",
    "                    .build()\n",
    "result = icon_service.call(call)\n",
    "print(result)"
   ]
  },
  {
   "cell_type": "code",
   "execution_count": 104,
   "metadata": {},
   "outputs": [
    {
     "name": "stderr",
     "output_type": "stream",
     "text": [
      "Raised JSONRPCException while returning the custom response. Error message: {'code': -32602, 'message': 'Pending transaction'}\n"
     ]
    },
    {
     "name": "stdout",
     "output_type": "stream",
     "text": [
      "Retrying in 1 seconds...\n"
     ]
    },
    {
     "name": "stderr",
     "output_type": "stream",
     "text": [
      "Raised JSONRPCException while returning the custom response. Error message: {'code': -32602, 'message': 'Pending transaction'}\n"
     ]
    },
    {
     "name": "stdout",
     "output_type": "stream",
     "text": [
      "Retrying in 2 seconds...\n",
      "Status: 1\n",
      "\n",
      "\n",
      "['SICXICX', 'OMMSICX', 'OMMUSDB', 'OMMIUSDC']\n"
     ]
    }
   ],
   "source": [
    "# Cell 18b\n",
    "# setting market name for omm/iusdc pair\n",
    "\n",
    "transaction = CallTransactionBuilder()\\\n",
    "    .from_(btest_wallet.get_address())\\\n",
    "    .to(contracts['governance']['SCORE'])\\\n",
    "    .value(0)\\\n",
    "    .step_limit(10000000)\\\n",
    "    .nid(NID)\\\n",
    "    .nonce(100)\\\n",
    "    .method(\"setMarketName\")\\\n",
    "    .params({'_pid':3, '_name': 'OMMIUSDC'}) \\\n",
    "    .build()\n",
    "signed_transaction = SignedTransaction(transaction, btest_wallet)\n",
    "tx_hash = icon_service.send_transaction(signed_transaction)\n",
    "tx_hash\n",
    "\n",
    "res = get_tx_result(tx_hash)\n",
    "print(f'Status: {res[\"status\"]}')\n",
    "if len(res[\"eventLogs\"]) > 0:\n",
    "    for item in res[\"eventLogs\"]:\n",
    "        print(f'{item} \\n')\n",
    "if res['status'] == 0:\n",
    "    print(f'Failure: {res[\"failure\"]}')\n",
    "print('\\n')\n",
    "\n",
    "call = CallBuilder().from_(wallet.get_address())\\\n",
    "                    .to(contracts['dex']['SCORE'])\\\n",
    "                    .method('getNamedPools')\\\n",
    "                    .build()\n",
    "result = icon_service.call(call)\n",
    "print(result)"
   ]
  },
  {
   "cell_type": "code",
   "execution_count": 54,
   "metadata": {},
   "outputs": [
    {
     "name": "stderr",
     "output_type": "stream",
     "text": [
      "Raised JSONRPCException while returning the custom response. Error message: {'code': -32602, 'message': 'Pending transaction'}\n"
     ]
    },
    {
     "name": "stdout",
     "output_type": "stream",
     "text": [
      "Retrying in 1 seconds...\n"
     ]
    },
    {
     "name": "stderr",
     "output_type": "stream",
     "text": [
      "Raised JSONRPCException while returning the custom response. Error message: {'code': -32602, 'message': 'Pending transaction'}\n"
     ]
    },
    {
     "name": "stdout",
     "output_type": "stream",
     "text": [
      "Retrying in 2 seconds...\n",
      "Status: 1\n",
      "\n",
      "\n",
      "['SICXICX', 'OMMSICX', 'OMMUSDB']\n"
     ]
    }
   ],
   "source": [
    "# Cell 18bc\n",
    "# setting market name for omm/usdb pair\n",
    "\n",
    "transaction = CallTransactionBuilder()\\\n",
    "    .from_(btest_wallet.get_address())\\\n",
    "    .to(contracts['governance']['SCORE'])\\\n",
    "    .value(0)\\\n",
    "    .step_limit(10000000)\\\n",
    "    .nid(NID)\\\n",
    "    .nonce(100)\\\n",
    "    .method(\"setMarketName\")\\\n",
    "    .params({'_pid':4, '_name': 'OMMUSDB'}) \\\n",
    "    .build()\n",
    "signed_transaction = SignedTransaction(transaction, btest_wallet)\n",
    "tx_hash = icon_service.send_transaction(signed_transaction)\n",
    "tx_hash\n",
    "\n",
    "res = get_tx_result(tx_hash)\n",
    "print(f'Status: {res[\"status\"]}')\n",
    "if len(res[\"eventLogs\"]) > 0:\n",
    "    for item in res[\"eventLogs\"]:\n",
    "        print(f'{item} \\n')\n",
    "if res['status'] == 0:\n",
    "    print(f'Failure: {res[\"failure\"]}')\n",
    "print('\\n')\n",
    "\n",
    "call = CallBuilder().from_(wallet.get_address())\\\n",
    "                    .to(contracts['dex']['SCORE'])\\\n",
    "                    .method('getNamedPools')\\\n",
    "                    .build()\n",
    "result = icon_service.call(call)\n",
    "print(result)"
   ]
  },
  {
   "cell_type": "code",
   "execution_count": 22,
   "metadata": {},
   "outputs": [
    {
     "name": "stdout",
     "output_type": "stream",
     "text": [
      "{}\n"
     ]
    }
   ],
   "source": [
    "# Cell 33\n",
    "\n",
    "call = CallBuilder().from_(user1.get_address())\\\n",
    "                    .to(contracts['dex']['SCORE'])\\\n",
    "                    .method('getDataBatch')\\\n",
    "                    .params({'_name': 'OMMSICX', '_limit': 10, '_snapshot_id': 1}) \\\n",
    "                    .build()\n",
    "result = icon_service.call(call)\n",
    "print(result)"
   ]
  },
  {
   "cell_type": "code",
   "execution_count": 23,
   "metadata": {},
   "outputs": [
    {
     "data": {
      "text/plain": [
       "0.0"
      ]
     },
     "execution_count": 23,
     "metadata": {},
     "output_type": "execute_result"
    }
   ],
   "source": [
    "# Cell 46\n",
    "\n",
    "call = CallBuilder().from_(wallet.get_address())\\\n",
    "                    .to(contracts['dex']['SCORE'])\\\n",
    "                    .method('getPoolTotal')\\\n",
    "                    .params({'_pid': 4, '_token': 'cxaa068556df80f9917ef146e889f0b2c4b13ab634'}) \\\n",
    "                    .build()\n",
    "result = icon_service.call(call)\n",
    "int(result, 0) / 10**18"
   ]
  },
  {
   "cell_type": "code",
   "execution_count": 24,
   "metadata": {},
   "outputs": [
    {
     "data": {
      "text/plain": [
       "300.0"
      ]
     },
     "execution_count": 24,
     "metadata": {},
     "output_type": "execute_result"
    }
   ],
   "source": [
    "# Cell 48\n",
    "# gives total supply of quote token of the pool\n",
    "call = CallBuilder().from_(wallet.get_address())\\\n",
    "                    .to(contracts['dex']['SCORE'])\\\n",
    "                    .method('totalSupply')\\\n",
    "                    .params({'_pid': 3}) \\\n",
    "                    .build()\n",
    "result = icon_service.call(call)\n",
    "int(result, 0) / 10**18"
   ]
  },
  {
   "cell_type": "code",
   "execution_count": 53,
   "metadata": {},
   "outputs": [
    {
     "name": "stdout",
     "output_type": "stream",
     "text": [
      "pool w/ tokens: cx9f03e46d637fb0b1c7b539873c7f25db2ddc94e6 & cxfff43962fa5b1ddc23e62f0f4b8554dd0f4a6ccc\n",
      "0x2\n"
     ]
    }
   ],
   "source": [
    "# Cell 42\n",
    "\n",
    "call = CallBuilder().from_(wallet.get_address())\\\n",
    "                    .to(contracts['dex']['SCORE'])\\\n",
    "                    .method('getPoolId')\\\n",
    "                    .params({'_token1Address':'cx9f03e46d637fb0b1c7b539873c7f25db2ddc94e6' , '_token2Address': contracts['sicx']['SCORE'] }) \\\n",
    "                    .build()\n",
    "result = icon_service.call(call)\n",
    "print(\"pool w/ tokens: \" + 'cx9f03e46d637fb0b1c7b539873c7f25db2ddc94e6' + ' & ' + str(contracts['sicx']['SCORE']))\n",
    "print(result)"
   ]
  },
  {
   "cell_type": "code",
   "execution_count": 133,
   "metadata": {},
   "outputs": [
    {
     "name": "stdout",
     "output_type": "stream",
     "text": [
      "0x5\n"
     ]
    }
   ],
   "source": [
    "# Cell 15\n",
    "# get OMM balance for the wallet\n",
    "\n",
    "call = CallBuilder().from_(wallet.get_address())\\\n",
    "                    .to(contracts['loans']['SCORE'])\\\n",
    "                    .method('getDay')\\\n",
    "                    .params({}) \\\n",
    "                    .build()\n",
    "result = icon_service.call(call)\n",
    "print(result)\n"
   ]
  },
  {
   "cell_type": "code",
   "execution_count": null,
   "metadata": {},
   "outputs": [],
   "source": []
  }
 ],
 "metadata": {
  "kernelspec": {
   "display_name": "Python 3",
   "language": "python",
   "name": "python3"
  },
  "language_info": {
   "codemirror_mode": {
    "name": "ipython",
    "version": 3
   },
   "file_extension": ".py",
   "mimetype": "text/x-python",
   "name": "python",
   "nbconvert_exporter": "python",
   "pygments_lexer": "ipython3",
   "version": "3.7.6"
  }
 },
 "nbformat": 4,
 "nbformat_minor": 4
}
