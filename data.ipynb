{
 "cells": [
  {
   "cell_type": "code",
   "execution_count": 2,
   "id": "cb5dafd3",
   "metadata": {},
   "outputs": [],
   "source": [
    "from iconsdk.exception import JSONRPCException\n",
    "from iconsdk.libs.in_memory_zip import gen_deploy_data_content\n",
    "from iconsdk.icon_service import IconService\n",
    "from iconsdk.providers.http_provider import HTTPProvider\n",
    "from iconsdk.builder.transaction_builder import CallTransactionBuilder, TransactionBuilder, DeployTransactionBuilder, DepositTransactionBuilder\n",
    "from iconsdk.builder.call_builder import CallBuilder\n",
    "from iconsdk.signed_transaction import SignedTransaction\n",
    "from iconsdk.wallet.wallet import KeyWallet\n",
    "from iconsdk.utils.convert_type import convert_hex_str_to_int\n",
    "from repeater import retry\n",
    "import requests\n",
    "import json\n",
    "import pickle\n",
    "import csv\n",
    "import os\n",
    "import time"
   ]
  },
  {
   "cell_type": "code",
   "execution_count": 15,
   "id": "ac660fd7",
   "metadata": {},
   "outputs": [],
   "source": [
    "#mainnet\n",
    "# icon_service = IconService(HTTPProvider(\"https://ctz.solidwallet.io\", 3))\n",
    "# NID = 1\n",
    "#sejong\n",
    "icon_service = IconService(HTTPProvider(\"https://sejong.solidwallet.io\", 3))\n",
    "NID = 83\n",
    "@retry(JSONRPCException, tries=10, delay=1, back_off=1)\n",
    "def get_tx_result(_tx_hash):\n",
    "    tx_result = icon_service.get_transaction_result(_tx_hash)\n",
    "    return tx_result"
   ]
  },
  {
   "cell_type": "code",
   "execution_count": 14,
   "id": "1b0ee02c",
   "metadata": {},
   "outputs": [
    {
     "data": {
      "text/plain": [
       "'hxedcf3244780b8d5f88f968dc4addcbfceef0ad92'"
      ]
     },
     "execution_count": 14,
     "metadata": {},
     "output_type": "execute_result"
    }
   ],
   "source": [
    "# wallet = KeyWallet.load(bytes.fromhex(\"\"))\n",
    "# rebalancing_wallet\n",
    "wallet = KeyWallet.load(bytes.fromhex(\"1c6b441a3a559041e3fc0bb528c479b5d0c09e3ee2bfa8e78da9880f133eb25b\"))\n",
    "\n",
    "wallet.get_address()"
   ]
  },
  {
   "cell_type": "code",
   "execution_count": null,
   "id": "9fc2f86c",
   "metadata": {},
   "outputs": [],
   "source": []
  }
 ],
 "metadata": {
  "kernelspec": {
   "display_name": "workenv-kernel",
   "language": "python",
   "name": "workenv-kernel"
  },
  "language_info": {
   "codemirror_mode": {
    "name": "ipython",
    "version": 3
   },
   "file_extension": ".py",
   "mimetype": "text/x-python",
   "name": "python",
   "nbconvert_exporter": "python",
   "pygments_lexer": "ipython3",
   "version": "3.7.10"
  }
 },
 "nbformat": 4,
 "nbformat_minor": 5
}
